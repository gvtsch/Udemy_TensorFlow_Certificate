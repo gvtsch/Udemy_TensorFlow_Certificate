{
 "cells": [
  {
   "cell_type": "markdown",
   "metadata": {},
   "source": [
    "# Introduction to NLP fundamentals in TensorFlow\n",
    "\n",
    "NLP has the goal of deriving information out of natural language (could be sequences of text or speech).\n",
    "\n",
    "Another common term for NLP problem is sequence to sequence problems (seq2seq)."
   ]
  },
  {
   "cell_type": "markdown",
   "metadata": {},
   "source": [
    "## Check for GPU"
   ]
  },
  {
   "cell_type": "code",
   "execution_count": 1,
   "metadata": {},
   "outputs": [
    {
     "name": "stdout",
     "output_type": "stream",
     "text": [
      "Sat Jul  9 11:57:47 2022       \n",
      "+-----------------------------------------------------------------------------+\n",
      "| NVIDIA-SMI 516.59       Driver Version: 516.59       CUDA Version: 11.7     |\n",
      "|-------------------------------+----------------------+----------------------+\n",
      "| GPU  Name            TCC/WDDM | Bus-Id        Disp.A | Volatile Uncorr. ECC |\n",
      "| Fan  Temp  Perf  Pwr:Usage/Cap|         Memory-Usage | GPU-Util  Compute M. |\n",
      "|                               |                      |               MIG M. |\n",
      "|===============================+======================+======================|\n",
      "|   0  NVIDIA GeForce ... WDDM  | 00000000:01:00.0 Off |                  N/A |\n",
      "| N/A   59C    P3    28W /  N/A |      0MiB /  6144MiB |      0%      Default |\n",
      "|                               |                      |                  N/A |\n",
      "+-------------------------------+----------------------+----------------------+\n",
      "                                                                               \n",
      "+-----------------------------------------------------------------------------+\n",
      "| Processes:                                                                  |\n",
      "|  GPU   GI   CI        PID   Type   Process name                  GPU Memory |\n",
      "|        ID   ID                                                   Usage      |\n",
      "|=============================================================================|\n",
      "|  No running processes found                                                 |\n",
      "+-----------------------------------------------------------------------------+\n",
      "GPU 0: NVIDIA GeForce RTX 3060 Laptop GPU (UUID: GPU-2349283b-d8c3-574d-bb05-0097332584c3)\n"
     ]
    }
   ],
   "source": [
    "!nvidia-smi\n",
    "!nvidia-smi -L"
   ]
  },
  {
   "cell_type": "markdown",
   "metadata": {},
   "source": [
    "## Get helper functions"
   ]
  },
  {
   "cell_type": "code",
   "execution_count": 2,
   "metadata": {},
   "outputs": [],
   "source": [
    "import os\n",
    "if not os.path.exists(\"helper_functions.py\"):\n",
    "    !python -m wget https://raw.githubusercontent.com/mrdbourke/tensorflow-deep-learning/main/extras/helper_functions.py\n",
    "\n",
    "from helper_functions import unzip_data, create_tensorboard_callback, plot_loss_curves, compare_historys"
   ]
  },
  {
   "cell_type": "markdown",
   "metadata": {},
   "source": [
    "## Get a text dataset\n",
    "\n",
    "The dataset we're going to be using is Kaggle's introduction to NLP dataset (text samples of Tweets labelled as disaster or not disaster).\n",
    "\n",
    "See the original source: https://www.kaggle.com/code/jhoward/getting-started-with-nlp-for-absolute-beginners/notebook"
   ]
  },
  {
   "cell_type": "code",
   "execution_count": 3,
   "metadata": {},
   "outputs": [],
   "source": [
    "if not os.path.exists(\"nlp_getting_started.zip\"):\n",
    "    !python -m wget https://storage.googleapis.com/ztm_tf_course/nlp_getting_started.zip\n",
    "unzip_data(\"C:/Selbststudium/Udemy/Udemy_TensorFlow_Certificate/nlp_getting_started.zip\")"
   ]
  },
  {
   "cell_type": "markdown",
   "metadata": {},
   "source": [
    "## Visualizing a text dataset\n",
    "\n",
    "To visualize our text samples, we first have to read them in , one way to do so would be to use Python: https://realpython.com/read-write-files-python/ \n",
    "\n",
    "But i prefer to get visual straight away.\n",
    "\n",
    "So another way to do this is to use pandes..."
   ]
  },
  {
   "cell_type": "code",
   "execution_count": 4,
   "metadata": {},
   "outputs": [
    {
     "data": {
      "text/html": [
       "<div>\n",
       "<style scoped>\n",
       "    .dataframe tbody tr th:only-of-type {\n",
       "        vertical-align: middle;\n",
       "    }\n",
       "\n",
       "    .dataframe tbody tr th {\n",
       "        vertical-align: top;\n",
       "    }\n",
       "\n",
       "    .dataframe thead th {\n",
       "        text-align: right;\n",
       "    }\n",
       "</style>\n",
       "<table border=\"1\" class=\"dataframe\">\n",
       "  <thead>\n",
       "    <tr style=\"text-align: right;\">\n",
       "      <th></th>\n",
       "      <th>id</th>\n",
       "      <th>keyword</th>\n",
       "      <th>location</th>\n",
       "      <th>text</th>\n",
       "      <th>target</th>\n",
       "    </tr>\n",
       "  </thead>\n",
       "  <tbody>\n",
       "    <tr>\n",
       "      <th>0</th>\n",
       "      <td>1</td>\n",
       "      <td>NaN</td>\n",
       "      <td>NaN</td>\n",
       "      <td>Our Deeds are the Reason of this #earthquake M...</td>\n",
       "      <td>1</td>\n",
       "    </tr>\n",
       "    <tr>\n",
       "      <th>1</th>\n",
       "      <td>4</td>\n",
       "      <td>NaN</td>\n",
       "      <td>NaN</td>\n",
       "      <td>Forest fire near La Ronge Sask. Canada</td>\n",
       "      <td>1</td>\n",
       "    </tr>\n",
       "    <tr>\n",
       "      <th>2</th>\n",
       "      <td>5</td>\n",
       "      <td>NaN</td>\n",
       "      <td>NaN</td>\n",
       "      <td>All residents asked to 'shelter in place' are ...</td>\n",
       "      <td>1</td>\n",
       "    </tr>\n",
       "    <tr>\n",
       "      <th>3</th>\n",
       "      <td>6</td>\n",
       "      <td>NaN</td>\n",
       "      <td>NaN</td>\n",
       "      <td>13,000 people receive #wildfires evacuation or...</td>\n",
       "      <td>1</td>\n",
       "    </tr>\n",
       "    <tr>\n",
       "      <th>4</th>\n",
       "      <td>7</td>\n",
       "      <td>NaN</td>\n",
       "      <td>NaN</td>\n",
       "      <td>Just got sent this photo from Ruby #Alaska as ...</td>\n",
       "      <td>1</td>\n",
       "    </tr>\n",
       "  </tbody>\n",
       "</table>\n",
       "</div>"
      ],
      "text/plain": [
       "   id keyword location                                               text  \\\n",
       "0   1     NaN      NaN  Our Deeds are the Reason of this #earthquake M...   \n",
       "1   4     NaN      NaN             Forest fire near La Ronge Sask. Canada   \n",
       "2   5     NaN      NaN  All residents asked to 'shelter in place' are ...   \n",
       "3   6     NaN      NaN  13,000 people receive #wildfires evacuation or...   \n",
       "4   7     NaN      NaN  Just got sent this photo from Ruby #Alaska as ...   \n",
       "\n",
       "   target  \n",
       "0       1  \n",
       "1       1  \n",
       "2       1  \n",
       "3       1  \n",
       "4       1  "
      ]
     },
     "execution_count": 4,
     "metadata": {},
     "output_type": "execute_result"
    }
   ],
   "source": [
    "import pandas as pd\n",
    "train_df = pd.read_csv(\"train.csv\")\n",
    "test_df = pd.read_csv(\"test.csv\")\n",
    "train_df.head()"
   ]
  },
  {
   "cell_type": "code",
   "execution_count": 5,
   "metadata": {},
   "outputs": [
    {
     "data": {
      "text/plain": [
       "('Forest fire near La Ronge Sask. Canada', 1)"
      ]
     },
     "execution_count": 5,
     "metadata": {},
     "output_type": "execute_result"
    }
   ],
   "source": [
    "train_df[\"text\"][1], train_df[\"target\"][1]"
   ]
  },
  {
   "cell_type": "code",
   "execution_count": 6,
   "metadata": {},
   "outputs": [
    {
     "data": {
      "text/html": [
       "<div>\n",
       "<style scoped>\n",
       "    .dataframe tbody tr th:only-of-type {\n",
       "        vertical-align: middle;\n",
       "    }\n",
       "\n",
       "    .dataframe tbody tr th {\n",
       "        vertical-align: top;\n",
       "    }\n",
       "\n",
       "    .dataframe thead th {\n",
       "        text-align: right;\n",
       "    }\n",
       "</style>\n",
       "<table border=\"1\" class=\"dataframe\">\n",
       "  <thead>\n",
       "    <tr style=\"text-align: right;\">\n",
       "      <th></th>\n",
       "      <th>id</th>\n",
       "      <th>keyword</th>\n",
       "      <th>location</th>\n",
       "      <th>text</th>\n",
       "      <th>target</th>\n",
       "    </tr>\n",
       "  </thead>\n",
       "  <tbody>\n",
       "    <tr>\n",
       "      <th>2644</th>\n",
       "      <td>3796</td>\n",
       "      <td>destruction</td>\n",
       "      <td>NaN</td>\n",
       "      <td>So you have a new weapon that can cause un-ima...</td>\n",
       "      <td>1</td>\n",
       "    </tr>\n",
       "    <tr>\n",
       "      <th>2227</th>\n",
       "      <td>3185</td>\n",
       "      <td>deluge</td>\n",
       "      <td>NaN</td>\n",
       "      <td>The f$&amp;amp;@ing things I do for #GISHWHES Just...</td>\n",
       "      <td>0</td>\n",
       "    </tr>\n",
       "    <tr>\n",
       "      <th>5448</th>\n",
       "      <td>7769</td>\n",
       "      <td>police</td>\n",
       "      <td>UK</td>\n",
       "      <td>DT @georgegalloway: RT @Galloway4Mayor: ÛÏThe...</td>\n",
       "      <td>1</td>\n",
       "    </tr>\n",
       "    <tr>\n",
       "      <th>132</th>\n",
       "      <td>191</td>\n",
       "      <td>aftershock</td>\n",
       "      <td>NaN</td>\n",
       "      <td>Aftershock back to school kick off was great. ...</td>\n",
       "      <td>0</td>\n",
       "    </tr>\n",
       "    <tr>\n",
       "      <th>6845</th>\n",
       "      <td>9810</td>\n",
       "      <td>trauma</td>\n",
       "      <td>Montgomery County, MD</td>\n",
       "      <td>in response to trauma Children of Addicts deve...</td>\n",
       "      <td>0</td>\n",
       "    </tr>\n",
       "  </tbody>\n",
       "</table>\n",
       "</div>"
      ],
      "text/plain": [
       "        id      keyword               location  \\\n",
       "2644  3796  destruction                    NaN   \n",
       "2227  3185       deluge                    NaN   \n",
       "5448  7769       police                     UK   \n",
       "132    191   aftershock                    NaN   \n",
       "6845  9810       trauma  Montgomery County, MD   \n",
       "\n",
       "                                                   text  target  \n",
       "2644  So you have a new weapon that can cause un-ima...       1  \n",
       "2227  The f$&amp;@ing things I do for #GISHWHES Just...       0  \n",
       "5448  DT @georgegalloway: RT @Galloway4Mayor: ÛÏThe...       1  \n",
       "132   Aftershock back to school kick off was great. ...       0  \n",
       "6845  in response to trauma Children of Addicts deve...       0  "
      ]
     },
     "execution_count": 6,
     "metadata": {},
     "output_type": "execute_result"
    }
   ],
   "source": [
    "# Shuffle training dataframe\n",
    "train_df_shuffled = train_df.sample(frac=1, random_state=42)\n",
    "train_df_shuffled.head()"
   ]
  },
  {
   "cell_type": "markdown",
   "metadata": {},
   "source": [
    "# What does the test dataframe look like?\n",
    "test_df.head()"
   ]
  },
  {
   "cell_type": "code",
   "execution_count": 7,
   "metadata": {},
   "outputs": [
    {
     "data": {
      "text/plain": [
       "0    4342\n",
       "1    3271\n",
       "Name: target, dtype: int64"
      ]
     },
     "execution_count": 7,
     "metadata": {},
     "output_type": "execute_result"
    }
   ],
   "source": [
    "# How many examples of each class?\n",
    "train_df.target.value_counts()"
   ]
  },
  {
   "cell_type": "code",
   "execution_count": 8,
   "metadata": {},
   "outputs": [
    {
     "data": {
      "text/plain": [
       "(7613, 3263)"
      ]
     },
     "execution_count": 8,
     "metadata": {},
     "output_type": "execute_result"
    }
   ],
   "source": [
    "# How many total samples?\n",
    "len(train_df), len(test_df)"
   ]
  },
  {
   "cell_type": "code",
   "execution_count": 9,
   "metadata": {},
   "outputs": [
    {
     "name": "stdout",
     "output_type": "stream",
     "text": [
      "Target: 0 (not real disaster)\n",
      "Text: SCREAMING IN 22 DIFFERENT LANGUAGES http://t.co/rDfaAKKbNJ\n",
      "\n",
      "Target: 0 (not real disaster)\n",
      "Text: *to Luka* They should all die! All of them! Everything annihilated! - Alois Trancy\n",
      "\n",
      "Target: 1 (real disaster)\n",
      "Text: Medieval airplane hijacker testa: earnings the distinction divers: HtaRvrGLY\n",
      "\n",
      "Target: 1 (real disaster)\n",
      "Text: @SnowyWolf5 @TheGreenParty Besides would you rather shut down a whole nuclear reactor for maintenance or a wind turbine at a time?\n",
      "\n",
      "Target: 0 (not real disaster)\n",
      "Text: 'wHeRE's mY aRsOnISt aT???'\n",
      "\n"
     ]
    }
   ],
   "source": [
    "# Let's visualize some random training examples\n",
    "import random\n",
    "random_index = random.randint(0, len(train_df)-5) # Create random indexes not higher than the total number\n",
    "for row in train_df_shuffled[[\"text\", \"target\"]][random_index:random_index+5].itertuples():\n",
    "    _, text, target = row\n",
    "    print(f\"Target: {target}\", \"(real disaster)\" if target > 0 else \"(not real disaster)\")\n",
    "    print(f\"Text: {text}\\n\")"
   ]
  },
  {
   "cell_type": "markdown",
   "metadata": {},
   "source": [
    "### Split data into training and validation sets"
   ]
  },
  {
   "cell_type": "code",
   "execution_count": 10,
   "metadata": {},
   "outputs": [],
   "source": [
    "from sklearn.model_selection import train_test_split"
   ]
  },
  {
   "cell_type": "code",
   "execution_count": 11,
   "metadata": {},
   "outputs": [],
   "source": [
    "# Use train_test_split to split training data into training and validation sets \n",
    "train_sentences, val_sentences, train_labels, val_labels = train_test_split(\n",
    "    train_df_shuffled[\"text\"].to_numpy(),\n",
    "    train_df_shuffled[\"target\"].to_numpy(),\n",
    "    test_size=0.1,\n",
    "    random_state=42)"
   ]
  },
  {
   "cell_type": "code",
   "execution_count": 12,
   "metadata": {},
   "outputs": [
    {
     "data": {
      "text/plain": [
       "(6851, 762, 6851, 762)"
      ]
     },
     "execution_count": 12,
     "metadata": {},
     "output_type": "execute_result"
    }
   ],
   "source": [
    "len(train_sentences), len(val_sentences), len(train_labels), len(val_labels)"
   ]
  },
  {
   "cell_type": "code",
   "execution_count": 13,
   "metadata": {},
   "outputs": [
    {
     "data": {
      "text/plain": [
       "(array(['@mogacola @zamtriossu i screamed after hitting tweet',\n",
       "        'Imagine getting flattened by Kurt Zouma',\n",
       "        '@Gurmeetramrahim #MSGDoing111WelfareWorks Green S welfare force ke appx 65000 members har time disaster victim ki help ke liye tyar hai....',\n",
       "        \"@shakjn @C7 @Magnums im shaking in fear he's gonna hack the planet\",\n",
       "        'Somehow find you and I collide http://t.co/Ee8RpOahPk',\n",
       "        '@EvaHanderek @MarleyKnysh great times until the bus driver held us hostage in the mall parking lot lmfao',\n",
       "        'destroy the free fandom honestly',\n",
       "        'Weapons stolen from National Guard Armory in New Albany still missing #Gunsense http://t.co/lKNU8902JE',\n",
       "        '@wfaaweather Pete when will the heat wave pass? Is it really going to be mid month? Frisco Boy Scouts have a canoe trip in Okla.',\n",
       "        'Patient-reported outcomes in long-term survivors of metastatic colorectal cancer - British Journal of Surgery http://t.co/5Yl4DC1Tqt'],\n",
       "       dtype=object),\n",
       " array([0, 0, 1, 0, 0, 1, 1, 0, 1, 1], dtype=int64))"
      ]
     },
     "execution_count": 13,
     "metadata": {},
     "output_type": "execute_result"
    }
   ],
   "source": [
    "# Check the first 10 samples\n",
    "train_sentences[:10], train_labels[:10]"
   ]
  },
  {
   "cell_type": "markdown",
   "metadata": {},
   "source": [
    "## Cnverting text into numbers\n",
    "\n",
    "When dealing with a text problem, one of the first thing you'll have to do before you can build a model is to convert your text to numbers. \n",
    "\n",
    "There are a few ways to do this, namely:\n",
    "* Tokenization - direct mapping of token (a token could be a word or a character)\n",
    "* Embedding - create a matrix of feature vector for each token (the size of the feature vector can be defined and this embedding can be learned)"
   ]
  },
  {
   "cell_type": "markdown",
   "metadata": {},
   "source": [
    "### Text vectorization (tokenization)"
   ]
  },
  {
   "cell_type": "code",
   "execution_count": 14,
   "metadata": {},
   "outputs": [
    {
     "data": {
      "text/plain": [
       "array(['@mogacola @zamtriossu i screamed after hitting tweet',\n",
       "       'Imagine getting flattened by Kurt Zouma',\n",
       "       '@Gurmeetramrahim #MSGDoing111WelfareWorks Green S welfare force ke appx 65000 members har time disaster victim ki help ke liye tyar hai....',\n",
       "       \"@shakjn @C7 @Magnums im shaking in fear he's gonna hack the planet\",\n",
       "       'Somehow find you and I collide http://t.co/Ee8RpOahPk'],\n",
       "      dtype=object)"
      ]
     },
     "execution_count": 14,
     "metadata": {},
     "output_type": "execute_result"
    }
   ],
   "source": [
    "train_sentences[:5]"
   ]
  },
  {
   "cell_type": "code",
   "execution_count": 15,
   "metadata": {},
   "outputs": [
    {
     "data": {
      "text/plain": [
       "(['@mogacola', '@zamtriossu', 'i', 'screamed', 'after', 'hitting', 'tweet'], 7)"
      ]
     },
     "execution_count": 15,
     "metadata": {},
     "output_type": "execute_result"
    }
   ],
   "source": [
    "train_sentences[0].split(), len(train_sentences[0].split())"
   ]
  },
  {
   "cell_type": "code",
   "execution_count": 16,
   "metadata": {},
   "outputs": [
    {
     "data": {
      "text/plain": [
       "15"
      ]
     },
     "execution_count": 16,
     "metadata": {},
     "output_type": "execute_result"
    }
   ],
   "source": [
    "# Find the average number of tokes (words) in the training tweets\n",
    "max_length = round(sum([len(i.split()) for i in train_sentences])/len(train_sentences))\n",
    "max_length"
   ]
  },
  {
   "cell_type": "code",
   "execution_count": 17,
   "metadata": {},
   "outputs": [],
   "source": [
    "max_vocab_length = 10000"
   ]
  },
  {
   "cell_type": "code",
   "execution_count": 18,
   "metadata": {},
   "outputs": [],
   "source": [
    "import tensorflow as tf\n",
    "from tensorflow.keras.layers.experimental.preprocessing import TextVectorization\n",
    "\n",
    "# Use the default TextVectorization parameters\n",
    "text_vectorizer = TextVectorization(\n",
    "    max_tokens=max_vocab_length,\n",
    "    standardize=\"lower_and_strip_punctuation\", # Default\n",
    "    split=\"whitespace\", # Default\n",
    "    ngrams=None, # Default\n",
    "    output_mode=\"int\",\n",
    "    output_sequence_length=max_length,\n",
    "    pad_to_max_tokens=True) # Default"
   ]
  },
  {
   "cell_type": "code",
   "execution_count": 19,
   "metadata": {},
   "outputs": [],
   "source": [
    "# Fit the text vectorizer to the training text\n",
    "text_vectorizer.adapt(train_sentences)"
   ]
  },
  {
   "cell_type": "code",
   "execution_count": 20,
   "metadata": {},
   "outputs": [
    {
     "data": {
      "text/plain": [
       "<tf.Tensor: shape=(1, 15), dtype=int64, numpy=\n",
       "array([[264,   3, 232,   4,  13, 698,   0,   0,   0,   0,   0,   0,   0,\n",
       "          0,   0]], dtype=int64)>"
      ]
     },
     "execution_count": 20,
     "metadata": {},
     "output_type": "execute_result"
    }
   ],
   "source": [
    "# Create a sample sentence and tokenize it\n",
    "sample_sentence = \"There's a flood in my street\"\n",
    "text_vectorizer([sample_sentence])"
   ]
  },
  {
   "cell_type": "code",
   "execution_count": 21,
   "metadata": {},
   "outputs": [
    {
     "name": "stdout",
     "output_type": "stream",
     "text": [
      "Original text:\n",
      "I had to grill for a school function. One of the grills we had going was pretty much either off or forest fire. No inbetween! Made it work\n",
      "    Vectorized version:\n"
     ]
    },
    {
     "data": {
      "text/plain": [
       "<tf.Tensor: shape=(1, 15), dtype=int64, numpy=\n",
       "array([[   8,   94,    5, 1668,   10,    3,  185, 5592,   61,    6,    2,\n",
       "           1,   46,   94,  104]], dtype=int64)>"
      ]
     },
     "execution_count": 21,
     "metadata": {},
     "output_type": "execute_result"
    }
   ],
   "source": [
    "# Choose a random sentence from the training dataset and tokenize it\n",
    "random_sentence = random.choice(train_sentences)\n",
    "print(f\"Original text:\\n{random_sentence}\\n\\\n",
    "    Vectorized version:\")\n",
    "text_vectorizer([random_sentence])"
   ]
  },
  {
   "cell_type": "code",
   "execution_count": 22,
   "metadata": {},
   "outputs": [
    {
     "data": {
      "text/plain": [
       "(10000,\n",
       " ['', '[UNK]', 'the', 'a', 'in'],\n",
       " ['pages', 'paeds', 'pads', 'padres', 'paddytomlinson1'])"
      ]
     },
     "execution_count": 22,
     "metadata": {},
     "output_type": "execute_result"
    }
   ],
   "source": [
    "# Get the unique words in the vocabulary\n",
    "words_in_vocab = text_vectorizer.get_vocabulary()\n",
    "top_5_words = words_in_vocab[:5]\n",
    "bottom_5_words = words_in_vocab[-5:]\n",
    "len(words_in_vocab), top_5_words, bottom_5_words"
   ]
  },
  {
   "cell_type": "markdown",
   "metadata": {},
   "source": [
    "### Creating an Embedding using an EmbeddingLayer\n",
    "\n",
    "To make our embedding, we're going to use TensorFlow's EmbeddingLayer: https://www.tensorflow.org/api_docs/python/tf/keras/layers/Embedding\n",
    "\n",
    "The parameters we care most about for our embedding layer: \n",
    "* `input_dim` = the size of our vocabulary\n",
    "* `output_dim` = the size of the output embedding vector, for example, a value of 100 would mean each tolen gets represented by a vector 100 long\n",
    "* `input_length` = length of the sequences being passed to the embedding layer "
   ]
  },
  {
   "cell_type": "code",
   "execution_count": 23,
   "metadata": {},
   "outputs": [
    {
     "data": {
      "text/plain": [
       "<keras.layers.embeddings.Embedding at 0x2afb05abdf0>"
      ]
     },
     "execution_count": 23,
     "metadata": {},
     "output_type": "execute_result"
    }
   ],
   "source": [
    "from tensorflow.keras import layers\n",
    "\n",
    "embedding = layers.Embedding(\n",
    "    input_dim=max_vocab_length,\n",
    "    output_dim=128,\n",
    "    input_length=max_length)\n",
    "embedding"
   ]
  },
  {
   "cell_type": "code",
   "execution_count": 24,
   "metadata": {},
   "outputs": [
    {
     "name": "stdout",
     "output_type": "stream",
     "text": [
      "Original text:\n",
      "WHY THE DEEP ROADS THO HAHAHAHA IM SO TRAUMATISED BY THE DEEP ROADS LOLOL    \n",
      "Embedded version: \n"
     ]
    },
    {
     "data": {
      "text/plain": [
       "<tf.Tensor: shape=(1, 15, 128), dtype=float32, numpy=\n",
       "array([[[ 3.94078530e-02, -1.13832951e-02,  3.11308615e-02, ...,\n",
       "         -9.77878645e-03,  8.34119320e-03, -6.07222319e-07],\n",
       "        [-6.57958910e-03, -3.31357867e-02, -1.54457465e-02, ...,\n",
       "          6.81304932e-03,  1.94006599e-02,  1.50602944e-02],\n",
       "        [-6.49387762e-03,  1.34827383e-02,  2.80406140e-02, ...,\n",
       "          1.85028054e-02, -6.64537027e-03, -8.60370696e-04],\n",
       "        ...,\n",
       "        [-1.31443255e-02,  4.10875119e-02, -1.67264789e-03, ...,\n",
       "          3.48514430e-02, -3.85977142e-02, -4.14777510e-02],\n",
       "        [-2.14459654e-02,  4.18428890e-02, -1.85568221e-02, ...,\n",
       "         -2.56340746e-02, -9.44008678e-03,  3.38102318e-02],\n",
       "        [-7.17897341e-03,  8.64217430e-03, -3.19906250e-02, ...,\n",
       "         -2.19748374e-02,  4.68105711e-02, -1.98022611e-02]]],\n",
       "      dtype=float32)>"
      ]
     },
     "execution_count": 24,
     "metadata": {},
     "output_type": "execute_result"
    }
   ],
   "source": [
    "# Get a random sentence from the training set\n",
    "random_sentence = random.choice(train_sentences)\n",
    "print(f\"Original text:\\n{random_sentence}\\\n",
    "    \\nEmbedded version: \")\n",
    "\n",
    "# Embed the random sentence (turn it into dense vectors of fixed size)\n",
    "sample_embed = embedding(text_vectorizer([random_sentence]))\n",
    "sample_embed"
   ]
  },
  {
   "cell_type": "code",
   "execution_count": 25,
   "metadata": {},
   "outputs": [
    {
     "data": {
      "text/plain": [
       "(<tf.Tensor: shape=(128,), dtype=float32, numpy=\n",
       " array([ 3.94078530e-02, -1.13832951e-02,  3.11308615e-02, -1.11332648e-02,\n",
       "         4.12799455e-02, -7.30133057e-03, -4.25978675e-02,  1.40402466e-03,\n",
       "         1.47777461e-02, -8.32053274e-03,  3.36406343e-02,  1.37126707e-02,\n",
       "        -1.29412301e-02, -3.44400629e-02,  5.52471727e-03, -3.30569968e-02,\n",
       "        -6.06494024e-03, -7.36813620e-03, -7.03277439e-03,  1.74844004e-02,\n",
       "         2.70686299e-03, -3.68345901e-03,  4.91753332e-02,  4.33532335e-02,\n",
       "        -3.78338322e-02, -1.03346221e-02, -4.70683575e-02, -3.66618522e-02,\n",
       "         3.28318216e-02, -3.31681743e-02, -4.48738933e-02,  5.11809438e-03,\n",
       "         1.21516697e-02, -2.90052295e-02,  2.21751966e-02,  4.52131741e-02,\n",
       "         4.68897931e-02, -3.10901050e-02,  9.27366316e-04,  2.25769393e-02,\n",
       "        -3.10645700e-02,  7.36664608e-03,  4.05874960e-02,  6.79517910e-03,\n",
       "         3.53628732e-02, -1.11889094e-04,  4.87643518e-02, -1.61287896e-02,\n",
       "        -1.89490449e-02,  3.38044018e-03,  4.15709130e-02,  5.16971201e-03,\n",
       "        -3.12225576e-02,  1.73474289e-02, -1.57785900e-02,  4.43674661e-02,\n",
       "         4.04555462e-02,  1.36603042e-03, -2.99729407e-04, -3.97257581e-02,\n",
       "         1.42185353e-02, -1.17894262e-03,  1.34901069e-02,  3.84871401e-02,\n",
       "        -5.43693453e-03,  2.63560936e-03,  2.01334395e-02, -4.20202017e-02,\n",
       "         2.26191543e-02,  1.37611367e-02, -3.44809666e-02, -3.63192707e-03,\n",
       "        -4.36753295e-02,  5.01491874e-03,  4.14054431e-02,  3.71904708e-02,\n",
       "         2.56496184e-02, -4.36073318e-02,  5.21652773e-03, -4.12110463e-02,\n",
       "         2.71489136e-02, -2.21405383e-02,  2.14870907e-02, -1.22674219e-02,\n",
       "         3.64964046e-02,  3.39375809e-03, -4.89926226e-02, -3.16864476e-02,\n",
       "         3.18315662e-02,  3.50285508e-02,  2.12419368e-02,  2.94567086e-02,\n",
       "         1.08784325e-02,  1.48694403e-02, -1.14745274e-02,  4.90557589e-02,\n",
       "         3.28920521e-02,  3.64810117e-02, -4.97403741e-02, -1.91489104e-02,\n",
       "         1.73478834e-02, -5.58007509e-04, -2.61999499e-02,  2.94531919e-02,\n",
       "         4.36018147e-02,  2.28186287e-02, -3.96007784e-02, -3.85008752e-04,\n",
       "         5.37766144e-03, -1.34613141e-02, -4.06393297e-02,  3.94887812e-02,\n",
       "        -1.65972710e-02,  2.32180022e-02,  4.66998331e-02, -3.92234698e-02,\n",
       "        -3.24101821e-02, -3.35365757e-02,  1.87441222e-02, -3.80584225e-02,\n",
       "        -2.17738040e-02, -5.39518893e-04,  4.74458821e-02, -4.98959422e-02,\n",
       "         2.99837925e-02, -9.77878645e-03,  8.34119320e-03, -6.07222319e-07],\n",
       "       dtype=float32)>,\n",
       " TensorShape([128]),\n",
       " 'WHY THE DEEP ROADS THO HAHAHAHA IM SO TRAUMATISED BY THE DEEP ROADS LOLOL')"
      ]
     },
     "execution_count": 25,
     "metadata": {},
     "output_type": "execute_result"
    }
   ],
   "source": [
    "# Check out a single token's embedding\n",
    "sample_embed[0][0], sample_embed[0][0].shape, random_sentence"
   ]
  },
  {
   "cell_type": "markdown",
   "metadata": {},
   "source": [
    "## Modelling a text dataset (running a series of experiments)\n",
    "\n",
    "Now we've got a way to turn our text sequences into numbers, it's time  to start building a series of modelling experiments.\n",
    "\n",
    "We'll start with a baseline and move on from there.\n",
    "\n",
    "* Model 0: Naive Bayes (baseline), from sklearn ML map: \n",
    "* Model 1: Feed-forward neural network (dense model)\n",
    "* Model 2: LSTM (RNN)\n",
    "* Model 3: GRU (RNN) \n",
    "* Model 4: Bidirectional-LSTM model (RNN)\n",
    "* Model 5: 1D Convolutional Network (CNN)\n",
    "* Model 6: TensorFlow Hub Pretrained Feature Extractor (using transfer learning for NLP)\n",
    "* Model 7: Same as model 6 with 10% of training data\n",
    "\n",
    "How are we going to approach all of these?\n",
    "\n",
    "Use the standard steps in modelling with tensorflow:\n",
    "* Create a model\n",
    "* Build the model\n",
    "* Fit the model\n",
    "* Evaluate the model"
   ]
  },
  {
   "cell_type": "markdown",
   "metadata": {},
   "source": [
    "### Model 0: Getting a baseline\n",
    "\n",
    "As with all machine learning modelling experiments it's important to create a baseline model so you've got a benchmark for future experiments to build uopn.\n",
    "\n",
    "To create our baseline, we'll use Sklearn's Mulinomial Naive Bayes using the TF-IDF formula to convert our words to numbers.\n",
    "\n",
    "> 🔑 **Note:** It's common to use non DL-algorithms as a baseline because of their speed and then later using DL to see if you can improve upon them."
   ]
  },
  {
   "cell_type": "code",
   "execution_count": 26,
   "metadata": {},
   "outputs": [
    {
     "data": {
      "text/plain": [
       "Pipeline(steps=[('tfidf', TfidfVectorizer()), ('clf', MultinomialNB())])"
      ]
     },
     "execution_count": 26,
     "metadata": {},
     "output_type": "execute_result"
    }
   ],
   "source": [
    "from sklearn.feature_extraction.text import TfidfVectorizer\n",
    "from sklearn.naive_bayes import MultinomialNB\n",
    "from sklearn.pipeline import Pipeline\n",
    "\n",
    "# Create tokenization and modelling pipeline\n",
    "model_0 = Pipeline([ # Pipeline is similar to tensorflow's sequential\n",
    "    (\"tfidf\", TfidfVectorizer()), # name of the step is \"tfidf\"; convert words to numbers using tfidf\n",
    "    (\"clf\", MultinomialNB()), # model the text\n",
    "])\n",
    "\n",
    "# Fit the pipeline to the training data\n",
    "model_0.fit(train_sentences, train_labels)"
   ]
  },
  {
   "cell_type": "code",
   "execution_count": 27,
   "metadata": {},
   "outputs": [
    {
     "name": "stdout",
     "output_type": "stream",
     "text": [
      "Our baseline model achieves an accuracy of: 79.27%\n"
     ]
    }
   ],
   "source": [
    "# Evaluate our baseline model\n",
    "baseline_score = model_0.score(val_sentences, val_labels)\n",
    "print(f\"Our baseline model achieves an accuracy of: {baseline_score*100:.2f}%\")"
   ]
  },
  {
   "cell_type": "code",
   "execution_count": 28,
   "metadata": {},
   "outputs": [
    {
     "data": {
      "text/plain": [
       "array([1, 1, 1, 0, 0, 1, 1, 1, 1, 0, 0, 1, 0, 0, 0, 0, 0, 0, 0, 1],\n",
       "      dtype=int64)"
      ]
     },
     "execution_count": 28,
     "metadata": {},
     "output_type": "execute_result"
    }
   ],
   "source": [
    "# Make predictions\n",
    "baseline_preds = model_0.predict(val_sentences)\n",
    "baseline_preds[:20]"
   ]
  },
  {
   "cell_type": "code",
   "execution_count": 29,
   "metadata": {},
   "outputs": [
    {
     "data": {
      "text/plain": [
       "array([0, 0, 1, ..., 1, 1, 0], dtype=int64)"
      ]
     },
     "execution_count": 29,
     "metadata": {},
     "output_type": "execute_result"
    }
   ],
   "source": [
    "train_labels"
   ]
  },
  {
   "cell_type": "markdown",
   "metadata": {},
   "source": [
    "### Creating an evaluation function for our model experiments\n",
    "\n",
    "We could evaluate all of our model's predictions with different metrics every time, however this will be cumbersome and could easily be fixed with a function.\n",
    "\n",
    "Let's create one to compare our model's predictions with the truth labels using the following metrics:\n",
    "* Accuracy\n",
    "* Precision\n",
    "* Recall\n",
    "* F1-score\n",
    "\n",
    "For a deep overview of many different methods, see the Sklearn documentation."
   ]
  },
  {
   "cell_type": "code",
   "execution_count": 30,
   "metadata": {},
   "outputs": [],
   "source": [
    "# Function to evaluate accuracy, precision, reall and f1-score\n",
    "from sklearn.metrics import accuracy_score, precision_recall_fscore_support\n",
    "\n",
    "def calculate_results(y_true, y_pred):\n",
    "    \"\"\"\n",
    "    Calculates model accuracy, precision, recall and f1 score of a binare classification model.\n",
    "    \"\"\"\n",
    "    # Calculate model accuracy\n",
    "    model_accuracy = accuracy_score(y_true, y_pred) * 100\n",
    "    # Calculate model precision, recall and f1-score using \"weighted\" average\n",
    "    model_precision, model_recall, model_f1, _, = precision_recall_fscore_support(y_true, y_pred, average=\"weighted\")\n",
    "    model_results = {\n",
    "        \"accuracy\": model_accuracy, \n",
    "        \"precision\": model_precision,\n",
    "        \"recall\": model_recall, \n",
    "        \"f1-score\": model_f1}\n",
    "    return model_results"
   ]
  },
  {
   "cell_type": "code",
   "execution_count": 31,
   "metadata": {},
   "outputs": [
    {
     "data": {
      "text/plain": [
       "{'accuracy': 79.26509186351706,\n",
       " 'precision': 0.8111390004213173,\n",
       " 'recall': 0.7926509186351706,\n",
       " 'f1-score': 0.7862189758049549}"
      ]
     },
     "execution_count": 31,
     "metadata": {},
     "output_type": "execute_result"
    }
   ],
   "source": [
    "# Get baseline results\n",
    "baseline_results = calculate_results(\n",
    "    y_true=val_labels,\n",
    "    y_pred=baseline_preds)\n",
    "baseline_results"
   ]
  },
  {
   "cell_type": "markdown",
   "metadata": {},
   "source": [
    "### Model 1: A simple dense model"
   ]
  },
  {
   "cell_type": "code",
   "execution_count": 32,
   "metadata": {},
   "outputs": [],
   "source": [
    "# Create a tensorboard callback (Need to create a new one for each model)\n",
    "from helper_functions import create_tensorboard_callback\n",
    "\n",
    "# Create a directory to save tensorboard logs\n",
    "SAVE_DIR = \"model_logs\""
   ]
  },
  {
   "cell_type": "code",
   "execution_count": 42,
   "metadata": {},
   "outputs": [
    {
     "name": "stdout",
     "output_type": "stream",
     "text": [
      "Model: \"model_1_dense\"\n",
      "_________________________________________________________________\n",
      "Layer (type)                 Output Shape              Param #   \n",
      "=================================================================\n",
      "input_2 (InputLayer)         [(None, 1)]               0         \n",
      "_________________________________________________________________\n",
      "text_vectorization (TextVect (None, 15)                0         \n",
      "_________________________________________________________________\n",
      "embedding (Embedding)        (None, 15, 128)           1280000   \n",
      "_________________________________________________________________\n",
      "global_average_pooling1d (Gl (None, 128)               0         \n",
      "_________________________________________________________________\n",
      "dense_1 (Dense)              (None, 1)                 129       \n",
      "=================================================================\n",
      "Total params: 1,280,129\n",
      "Trainable params: 1,280,129\n",
      "Non-trainable params: 0\n",
      "_________________________________________________________________\n"
     ]
    }
   ],
   "source": [
    "# Build model with the Functional API\n",
    "from tensorflow.keras import layers\n",
    "inputs = layers.Input(shape=(1,), dtype=\"string\")\n",
    "x = text_vectorizer(inputs)\n",
    "x = embedding(x)\n",
    "x = layers.GlobalAveragePooling1D()(x) # condense the feature vector for each token to one vector\n",
    "outputs = layers.Dense(1, activation=\"sigmoid\")(x)\n",
    "model_1 = tf.keras.Model(inputs, outputs, name=\"model_1_dense\")\n",
    "model_1.summary()"
   ]
  },
  {
   "cell_type": "code",
   "execution_count": 43,
   "metadata": {},
   "outputs": [],
   "source": [
    "# Compile model\n",
    "model_1.compile(\n",
    "    loss=\"binary_crossentropy\",\n",
    "    optimizer=tf.keras.optimizers.Adam(),\n",
    "    metrics=[\"accuracy\"])"
   ]
  },
  {
   "cell_type": "code",
   "execution_count": 44,
   "metadata": {},
   "outputs": [
    {
     "name": "stdout",
     "output_type": "stream",
     "text": [
      "Saving TensorBoard log files to: model_logs/model_1_dense/20220709-193657\n",
      "Epoch 1/5\n",
      "215/215 [==============================] - 2s 8ms/step - loss: 0.5711 - accuracy: 0.7432 - val_loss: 0.5248 - val_accuracy: 0.7677\n",
      "Epoch 2/5\n",
      "215/215 [==============================] - 1s 5ms/step - loss: 0.4015 - accuracy: 0.8536 - val_loss: 0.4645 - val_accuracy: 0.7887\n",
      "Epoch 3/5\n",
      "215/215 [==============================] - 1s 4ms/step - loss: 0.3185 - accuracy: 0.8802 - val_loss: 0.4535 - val_accuracy: 0.7887\n",
      "Epoch 4/5\n",
      "215/215 [==============================] - 1s 4ms/step - loss: 0.2651 - accuracy: 0.9012 - val_loss: 0.4557 - val_accuracy: 0.7900\n",
      "Epoch 5/5\n",
      "215/215 [==============================] - 1s 4ms/step - loss: 0.2251 - accuracy: 0.9197 - val_loss: 0.4701 - val_accuracy: 0.7861\n"
     ]
    }
   ],
   "source": [
    "# Fit the model\n",
    "model_1_history = model_1.fit(\n",
    "    x=train_sentences,\n",
    "    y=train_labels,\n",
    "    epochs=5,\n",
    "    validation_data=(val_sentences, val_labels),\n",
    "    callbacks=[create_tensorboard_callback(\n",
    "        dir_name=SAVE_DIR,\n",
    "        experiment_name=\"model_1_dense\"\n",
    "    )]\n",
    ")"
   ]
  },
  {
   "cell_type": "code",
   "execution_count": 45,
   "metadata": {},
   "outputs": [
    {
     "data": {
      "text/plain": [
       "({'accuracy': 79.26509186351706,\n",
       "  'precision': 0.8111390004213173,\n",
       "  'recall': 0.7926509186351706,\n",
       "  'f1-score': 0.7862189758049549},)"
      ]
     },
     "execution_count": 45,
     "metadata": {},
     "output_type": "execute_result"
    }
   ],
   "source": [
    "baseline_results,"
   ]
  },
  {
   "cell_type": "code",
   "execution_count": 46,
   "metadata": {},
   "outputs": [
    {
     "name": "stdout",
     "output_type": "stream",
     "text": [
      "24/24 [==============================] - 0s 2ms/step - loss: 0.4701 - accuracy: 0.7861\n"
     ]
    },
    {
     "data": {
      "text/plain": [
       "[0.4701041579246521, 0.7860892415046692]"
      ]
     },
     "execution_count": 46,
     "metadata": {},
     "output_type": "execute_result"
    }
   ],
   "source": [
    "model_1.evaluate(val_sentences, val_labels)"
   ]
  },
  {
   "cell_type": "code",
   "execution_count": 47,
   "metadata": {},
   "outputs": [
    {
     "data": {
      "text/plain": [
       "array([[3.08368981e-01],\n",
       "       [7.70393133e-01],\n",
       "       [9.97233570e-01],\n",
       "       [1.31457791e-01],\n",
       "       [1.42189130e-01],\n",
       "       [9.41391110e-01],\n",
       "       [8.92127514e-01],\n",
       "       [9.94469762e-01],\n",
       "       [9.70627010e-01],\n",
       "       [2.55995691e-01],\n",
       "       [1.14749461e-01],\n",
       "       [6.71168387e-01],\n",
       "       [8.88357684e-02],\n",
       "       [2.40818441e-01],\n",
       "       [2.66907201e-03],\n",
       "       [1.49583802e-01],\n",
       "       [3.56245413e-02],\n",
       "       [1.17993474e-01],\n",
       "       [2.68036127e-01],\n",
       "       [5.14688611e-01],\n",
       "       [9.09728289e-01],\n",
       "       [3.41144465e-02],\n",
       "       [5.25985479e-01],\n",
       "       [1.01322867e-01],\n",
       "       [9.64145422e-01],\n",
       "       [9.98852968e-01],\n",
       "       [3.75827402e-02],\n",
       "       [9.48058888e-02],\n",
       "       [3.98199819e-02],\n",
       "       [2.74676800e-01],\n",
       "       [4.81910378e-01],\n",
       "       [2.33637482e-01],\n",
       "       [5.08164644e-01],\n",
       "       [1.77791148e-01],\n",
       "       [5.46472371e-01],\n",
       "       [7.20892176e-02],\n",
       "       [9.93039548e-01],\n",
       "       [1.48658693e-01],\n",
       "       [3.35436054e-02],\n",
       "       [9.97843862e-01],\n",
       "       [2.15404093e-01],\n",
       "       [3.56926471e-02],\n",
       "       [3.48672003e-01],\n",
       "       [7.46483579e-02],\n",
       "       [6.26753211e-01],\n",
       "       [9.76370335e-01],\n",
       "       [3.26848865e-01],\n",
       "       [9.56642509e-01],\n",
       "       [2.63417929e-01],\n",
       "       [6.84545517e-01],\n",
       "       [8.53806362e-02],\n",
       "       [4.97205168e-01],\n",
       "       [4.14228082e-01],\n",
       "       [4.91443798e-02],\n",
       "       [1.57087952e-01],\n",
       "       [4.44678776e-02],\n",
       "       [2.18657330e-01],\n",
       "       [9.70913172e-01],\n",
       "       [1.02070808e-01],\n",
       "       [4.18596296e-03],\n",
       "       [1.82664469e-01],\n",
       "       [9.63709772e-01],\n",
       "       [9.11093891e-01],\n",
       "       [1.72584146e-01],\n",
       "       [9.03084576e-01],\n",
       "       [9.85134542e-01],\n",
       "       [7.21341431e-01],\n",
       "       [3.18654150e-01],\n",
       "       [1.33025199e-01],\n",
       "       [1.75726354e-01],\n",
       "       [7.74006918e-02],\n",
       "       [5.15621752e-02],\n",
       "       [9.37429249e-01],\n",
       "       [1.16304755e-01],\n",
       "       [1.50909096e-01],\n",
       "       [4.87058342e-01],\n",
       "       [3.83386821e-01],\n",
       "       [7.76853561e-01],\n",
       "       [2.93848127e-01],\n",
       "       [5.15659809e-01],\n",
       "       [5.30583501e-01],\n",
       "       [2.67274857e-01],\n",
       "       [9.96231377e-01],\n",
       "       [1.30921274e-01],\n",
       "       [1.96838722e-01],\n",
       "       [1.10395245e-01],\n",
       "       [2.22753938e-02],\n",
       "       [1.12144068e-01],\n",
       "       [5.70870161e-01],\n",
       "       [9.12398577e-01],\n",
       "       [9.87349927e-01],\n",
       "       [1.89510025e-02],\n",
       "       [5.89156806e-01],\n",
       "       [3.42598446e-02],\n",
       "       [9.82948482e-01],\n",
       "       [7.55972445e-01],\n",
       "       [8.33722413e-01],\n",
       "       [9.76550758e-01],\n",
       "       [8.65836620e-01],\n",
       "       [9.36623096e-01],\n",
       "       [9.99447882e-01],\n",
       "       [2.15690255e-01],\n",
       "       [1.45320827e-02],\n",
       "       [9.00325298e-01],\n",
       "       [8.31648469e-01],\n",
       "       [1.15124673e-01],\n",
       "       [8.39590549e-01],\n",
       "       [9.71385777e-01],\n",
       "       [5.45402952e-02],\n",
       "       [5.09782851e-01],\n",
       "       [6.78815484e-01],\n",
       "       [4.46200632e-02],\n",
       "       [2.82555640e-01],\n",
       "       [1.53284475e-01],\n",
       "       [1.26824081e-01],\n",
       "       [4.32345599e-01],\n",
       "       [4.84172165e-01],\n",
       "       [7.09537387e-01],\n",
       "       [6.62743986e-01],\n",
       "       [7.37663135e-02],\n",
       "       [9.99818623e-01],\n",
       "       [7.72649646e-02],\n",
       "       [9.84914824e-02],\n",
       "       [8.21122110e-01],\n",
       "       [4.15975481e-01],\n",
       "       [2.57598847e-01],\n",
       "       [7.93416440e-01],\n",
       "       [9.52589884e-03],\n",
       "       [8.39047134e-02],\n",
       "       [7.24426866e-01],\n",
       "       [1.02360465e-01],\n",
       "       [9.99818623e-01],\n",
       "       [9.99864936e-01],\n",
       "       [9.98852968e-01],\n",
       "       [9.68334913e-01],\n",
       "       [1.06312819e-01],\n",
       "       [9.77791131e-01],\n",
       "       [2.94910729e-01],\n",
       "       [3.44036907e-01],\n",
       "       [8.20710585e-02],\n",
       "       [9.95764613e-01],\n",
       "       [2.83081323e-01],\n",
       "       [2.40818441e-01],\n",
       "       [9.12097216e-01],\n",
       "       [2.46846169e-01],\n",
       "       [6.00509107e-01],\n",
       "       [4.57043760e-02],\n",
       "       [8.20389017e-03],\n",
       "       [2.33103454e-01],\n",
       "       [9.66727853e-01],\n",
       "       [3.00605059e-01],\n",
       "       [9.14539024e-02],\n",
       "       [4.09886926e-01],\n",
       "       [1.26649499e-01],\n",
       "       [2.63300627e-01],\n",
       "       [9.82676744e-01],\n",
       "       [7.42134452e-01],\n",
       "       [4.19952244e-01],\n",
       "       [9.76032972e-01],\n",
       "       [2.27419920e-02],\n",
       "       [9.70056713e-01],\n",
       "       [8.86678621e-02],\n",
       "       [2.63568223e-01],\n",
       "       [9.95954037e-01],\n",
       "       [2.16847762e-01],\n",
       "       [7.98767433e-02],\n",
       "       [9.99042451e-01],\n",
       "       [2.69389629e-01],\n",
       "       [9.79732513e-01],\n",
       "       [2.25833625e-01],\n",
       "       [9.94669259e-01],\n",
       "       [8.60044360e-01],\n",
       "       [8.46697927e-01],\n",
       "       [3.55218314e-02],\n",
       "       [9.98595178e-01],\n",
       "       [6.65557384e-02],\n",
       "       [3.87538522e-01],\n",
       "       [3.64545822e-01],\n",
       "       [7.26067126e-01],\n",
       "       [9.95106459e-01],\n",
       "       [1.63101126e-02],\n",
       "       [8.35004151e-01],\n",
       "       [8.04879427e-01],\n",
       "       [9.68309879e-01],\n",
       "       [9.73010182e-01],\n",
       "       [3.60841304e-01],\n",
       "       [9.69053879e-02],\n",
       "       [9.99920726e-01],\n",
       "       [6.53229235e-03],\n",
       "       [4.61018607e-02],\n",
       "       [2.15366155e-01],\n",
       "       [9.09673035e-01],\n",
       "       [1.03089459e-01],\n",
       "       [2.23238260e-01],\n",
       "       [2.52459869e-02],\n",
       "       [1.03771105e-01],\n",
       "       [4.76642102e-02],\n",
       "       [2.18942538e-01],\n",
       "       [7.85691798e-01],\n",
       "       [8.95828381e-02],\n",
       "       [2.42259517e-01],\n",
       "       [8.71419013e-01],\n",
       "       [9.70314085e-01],\n",
       "       [3.57684493e-01],\n",
       "       [1.20911382e-01],\n",
       "       [9.99859214e-01],\n",
       "       [6.95092082e-01],\n",
       "       [9.41388428e-01],\n",
       "       [6.97768152e-01],\n",
       "       [8.41753662e-01],\n",
       "       [3.06679130e-01],\n",
       "       [9.79094446e-01],\n",
       "       [2.65530869e-02],\n",
       "       [1.76930204e-01],\n",
       "       [6.05830271e-03],\n",
       "       [6.07202901e-03],\n",
       "       [9.75148618e-01],\n",
       "       [7.88351119e-01],\n",
       "       [8.76150906e-01],\n",
       "       [2.12906539e-01],\n",
       "       [6.98988557e-01],\n",
       "       [8.79066810e-02],\n",
       "       [2.72225514e-02],\n",
       "       [1.69076189e-01],\n",
       "       [9.66434181e-01],\n",
       "       [2.93966442e-01],\n",
       "       [4.46085989e-01],\n",
       "       [9.96669590e-01],\n",
       "       [5.47198713e-01],\n",
       "       [6.68598115e-01],\n",
       "       [8.25093687e-02],\n",
       "       [2.89966494e-01],\n",
       "       [7.32859850e-01],\n",
       "       [2.81022370e-01],\n",
       "       [4.75904077e-01],\n",
       "       [1.76428944e-01],\n",
       "       [4.81941491e-01],\n",
       "       [3.21207702e-01],\n",
       "       [1.67585969e-01],\n",
       "       [6.20771833e-02],\n",
       "       [3.72799486e-01],\n",
       "       [2.86866188e-01],\n",
       "       [9.99720037e-01],\n",
       "       [9.81844783e-01],\n",
       "       [9.15513411e-02],\n",
       "       [1.32805714e-02],\n",
       "       [8.18829536e-01],\n",
       "       [1.37765080e-01],\n",
       "       [8.51191729e-02],\n",
       "       [4.23867971e-01],\n",
       "       [3.70820649e-02],\n",
       "       [5.90983450e-01],\n",
       "       [1.50552636e-03],\n",
       "       [2.93503702e-01],\n",
       "       [9.42340434e-01],\n",
       "       [2.23791033e-01],\n",
       "       [9.73790824e-01],\n",
       "       [9.99139190e-01],\n",
       "       [2.93276340e-01],\n",
       "       [1.72258809e-01],\n",
       "       [3.84794086e-01],\n",
       "       [5.35779335e-02],\n",
       "       [6.80659991e-03],\n",
       "       [9.82406855e-01],\n",
       "       [9.61440444e-01],\n",
       "       [5.56983292e-01],\n",
       "       [9.14835095e-01],\n",
       "       [8.65978673e-02],\n",
       "       [1.61715046e-01],\n",
       "       [1.59749370e-02],\n",
       "       [2.14239210e-01],\n",
       "       [3.30070071e-02],\n",
       "       [9.45683837e-01],\n",
       "       [1.32338777e-01],\n",
       "       [8.51730444e-03],\n",
       "       [9.72669840e-01],\n",
       "       [2.41106916e-02],\n",
       "       [1.39653116e-01],\n",
       "       [9.73553002e-01],\n",
       "       [2.90308446e-02],\n",
       "       [8.96428451e-02],\n",
       "       [1.04145398e-02],\n",
       "       [9.67689812e-01],\n",
       "       [5.18396795e-01],\n",
       "       [7.63470054e-01],\n",
       "       [6.07570529e-01],\n",
       "       [7.17315435e-01],\n",
       "       [9.18733850e-02],\n",
       "       [8.68497431e-01],\n",
       "       [3.51605490e-02],\n",
       "       [7.60660946e-01],\n",
       "       [3.81715477e-01],\n",
       "       [3.68047446e-01],\n",
       "       [3.74903500e-01],\n",
       "       [2.23377451e-01],\n",
       "       [7.28388250e-01],\n",
       "       [2.78407872e-01],\n",
       "       [6.31778181e-01],\n",
       "       [1.40639707e-01],\n",
       "       [7.71237969e-01],\n",
       "       [3.85822952e-02],\n",
       "       [1.02760471e-01],\n",
       "       [2.41844594e-01],\n",
       "       [9.84382212e-01],\n",
       "       [1.44733518e-01],\n",
       "       [1.00287020e-01],\n",
       "       [2.90202707e-01],\n",
       "       [2.01252878e-01],\n",
       "       [1.46642223e-01],\n",
       "       [3.38584222e-02],\n",
       "       [3.78157347e-02],\n",
       "       [9.69886124e-01],\n",
       "       [3.39814514e-01],\n",
       "       [2.59365767e-01],\n",
       "       [9.99869227e-01],\n",
       "       [5.90177961e-02],\n",
       "       [6.54935241e-01],\n",
       "       [2.45098382e-01],\n",
       "       [5.01610637e-02],\n",
       "       [1.48134425e-01],\n",
       "       [1.45193636e-01],\n",
       "       [9.89413336e-02],\n",
       "       [9.18334186e-01],\n",
       "       [2.28819519e-01],\n",
       "       [9.84017432e-01],\n",
       "       [9.67093334e-02],\n",
       "       [2.02095844e-02],\n",
       "       [9.95762527e-01],\n",
       "       [2.57332046e-02],\n",
       "       [9.94991124e-01],\n",
       "       [1.96013406e-01],\n",
       "       [4.07718197e-02],\n",
       "       [9.49635923e-01],\n",
       "       [5.16062975e-02],\n",
       "       [3.84171605e-02],\n",
       "       [9.69284892e-01],\n",
       "       [8.55696201e-03],\n",
       "       [1.96886271e-01],\n",
       "       [7.32019842e-01],\n",
       "       [8.60856175e-01],\n",
       "       [1.23053752e-02],\n",
       "       [2.72910893e-01],\n",
       "       [9.85349894e-01],\n",
       "       [9.57490504e-01],\n",
       "       [7.34414876e-01],\n",
       "       [4.31962669e-01],\n",
       "       [6.27355933e-01],\n",
       "       [4.70720470e-01],\n",
       "       [5.95335998e-02],\n",
       "       [1.10643610e-01],\n",
       "       [1.15191497e-01],\n",
       "       [6.46029115e-01],\n",
       "       [3.41051072e-02],\n",
       "       [3.56956422e-01],\n",
       "       [3.80307406e-01],\n",
       "       [1.31870825e-02],\n",
       "       [9.57303107e-01],\n",
       "       [9.98852968e-01],\n",
       "       [9.91995692e-01],\n",
       "       [5.52444682e-02],\n",
       "       [3.22832614e-01],\n",
       "       [1.59486875e-01],\n",
       "       [4.31588680e-01],\n",
       "       [7.72304237e-01],\n",
       "       [1.63497925e-01],\n",
       "       [3.26168165e-02],\n",
       "       [9.12192017e-02],\n",
       "       [4.29633558e-02],\n",
       "       [5.31506658e-01],\n",
       "       [1.49957119e-02],\n",
       "       [2.84334540e-01],\n",
       "       [4.53980491e-02],\n",
       "       [4.00425553e-01],\n",
       "       [4.64253515e-01],\n",
       "       [2.82806277e-01],\n",
       "       [1.80691242e-01],\n",
       "       [7.16855600e-02],\n",
       "       [2.86488026e-01],\n",
       "       [9.24373120e-02],\n",
       "       [9.94618773e-01],\n",
       "       [8.94435287e-01],\n",
       "       [3.59478444e-01],\n",
       "       [5.39792120e-01],\n",
       "       [1.70271266e-02],\n",
       "       [5.09851873e-01],\n",
       "       [9.89231765e-01],\n",
       "       [6.65272057e-01],\n",
       "       [2.09997863e-01],\n",
       "       [9.63634849e-01],\n",
       "       [1.62231743e-01],\n",
       "       [9.56829369e-01],\n",
       "       [2.37989172e-01],\n",
       "       [4.32505980e-02],\n",
       "       [5.54061294e-01],\n",
       "       [3.92758250e-01],\n",
       "       [9.96467352e-01],\n",
       "       [1.19758502e-01],\n",
       "       [4.60108109e-02],\n",
       "       [7.20997751e-02],\n",
       "       [1.63497925e-01],\n",
       "       [9.98979628e-01],\n",
       "       [3.66068892e-02],\n",
       "       [5.57058692e-01],\n",
       "       [9.58322525e-01],\n",
       "       [8.71716812e-02],\n",
       "       [9.99818623e-01],\n",
       "       [5.46299033e-02],\n",
       "       [2.95692891e-01],\n",
       "       [4.99775372e-02],\n",
       "       [8.03635538e-01],\n",
       "       [8.83647859e-01],\n",
       "       [7.72593617e-02],\n",
       "       [5.40194521e-03],\n",
       "       [3.09290856e-01],\n",
       "       [9.88383710e-01],\n",
       "       [8.58466029e-01],\n",
       "       [9.02178660e-02],\n",
       "       [3.74118060e-01],\n",
       "       [6.65910304e-01],\n",
       "       [3.47226374e-02],\n",
       "       [9.96308088e-01],\n",
       "       [4.65604842e-01],\n",
       "       [9.98734891e-01],\n",
       "       [9.36179042e-01],\n",
       "       [9.97177511e-02],\n",
       "       [4.44159925e-01],\n",
       "       [1.35304928e-01],\n",
       "       [9.34850633e-01],\n",
       "       [6.92390382e-01],\n",
       "       [3.87414455e-01],\n",
       "       [4.80927452e-02],\n",
       "       [3.07541341e-01],\n",
       "       [4.22015786e-02],\n",
       "       [4.38432842e-02],\n",
       "       [1.43022433e-01],\n",
       "       [3.05350631e-01],\n",
       "       [4.69582319e-01],\n",
       "       [1.49506405e-01],\n",
       "       [9.99436677e-01],\n",
       "       [9.85484183e-01],\n",
       "       [3.14297199e-01],\n",
       "       [7.70393133e-01],\n",
       "       [2.15568528e-01],\n",
       "       [6.83413446e-02],\n",
       "       [2.81818539e-01],\n",
       "       [7.17845440e-01],\n",
       "       [1.36062443e-01],\n",
       "       [2.20010415e-01],\n",
       "       [1.13537312e-02],\n",
       "       [4.02372450e-01],\n",
       "       [2.72385939e-03],\n",
       "       [9.58044052e-01],\n",
       "       [9.78257954e-01],\n",
       "       [9.94880557e-01],\n",
       "       [9.67272162e-01],\n",
       "       [7.37164855e-01],\n",
       "       [2.05754653e-01],\n",
       "       [5.78640439e-02],\n",
       "       [5.80452740e-01],\n",
       "       [8.93530309e-01],\n",
       "       [9.97947752e-01],\n",
       "       [4.97072376e-03],\n",
       "       [1.35542661e-01],\n",
       "       [1.60726115e-01],\n",
       "       [9.98967767e-01],\n",
       "       [9.99103487e-01],\n",
       "       [3.09763968e-01],\n",
       "       [1.78851098e-01],\n",
       "       [9.94213521e-01],\n",
       "       [6.80503249e-02],\n",
       "       [2.72511840e-01],\n",
       "       [9.81702566e-01],\n",
       "       [1.10123344e-01],\n",
       "       [4.44593579e-02],\n",
       "       [9.05282080e-01],\n",
       "       [2.91495293e-01],\n",
       "       [4.09807384e-01],\n",
       "       [9.74400282e-01],\n",
       "       [3.62331495e-02],\n",
       "       [7.49861822e-02],\n",
       "       [6.08240627e-03],\n",
       "       [1.94581710e-02],\n",
       "       [1.42106012e-01],\n",
       "       [9.76084888e-01],\n",
       "       [2.01580916e-02],\n",
       "       [4.08970565e-01],\n",
       "       [3.97286296e-01],\n",
       "       [8.33019540e-02],\n",
       "       [2.62183636e-01],\n",
       "       [6.60608858e-02],\n",
       "       [3.16802382e-01],\n",
       "       [9.97329593e-01],\n",
       "       [6.69788599e-01],\n",
       "       [1.61117420e-01],\n",
       "       [9.35863703e-02],\n",
       "       [1.70145810e-01],\n",
       "       [5.60444035e-02],\n",
       "       [7.27399290e-01],\n",
       "       [3.18828002e-02],\n",
       "       [8.31135154e-01],\n",
       "       [6.94915593e-01],\n",
       "       [5.01132786e-01],\n",
       "       [6.39702618e-01],\n",
       "       [7.88259864e-01],\n",
       "       [8.60461742e-02],\n",
       "       [2.72217840e-01],\n",
       "       [4.22090590e-01],\n",
       "       [9.48059976e-01],\n",
       "       [3.35586905e-01],\n",
       "       [2.18292072e-01],\n",
       "       [3.78480047e-01],\n",
       "       [1.35500589e-02],\n",
       "       [9.78364348e-02],\n",
       "       [4.35158879e-01],\n",
       "       [7.98595905e-01],\n",
       "       [1.23235904e-01],\n",
       "       [9.86689270e-01],\n",
       "       [8.88224781e-01],\n",
       "       [7.55972445e-01],\n",
       "       [9.81755376e-01],\n",
       "       [1.59450531e-01],\n",
       "       [6.99118227e-02],\n",
       "       [9.01598632e-01],\n",
       "       [2.73021817e-01],\n",
       "       [2.46202033e-02],\n",
       "       [6.78396672e-02],\n",
       "       [1.91838488e-01],\n",
       "       [2.69038894e-04],\n",
       "       [7.53298998e-01],\n",
       "       [7.40911007e-01],\n",
       "       [7.93394446e-01],\n",
       "       [9.51776087e-01],\n",
       "       [1.41893640e-01],\n",
       "       [1.36122197e-01],\n",
       "       [6.82769239e-01],\n",
       "       [1.98472459e-02],\n",
       "       [3.03263485e-01],\n",
       "       [1.34774685e-01],\n",
       "       [5.92073977e-01],\n",
       "       [5.46900570e-01],\n",
       "       [6.11762442e-02],\n",
       "       [6.21579476e-02],\n",
       "       [4.09566641e-01],\n",
       "       [1.14030682e-01],\n",
       "       [1.29118532e-01],\n",
       "       [1.67761102e-01],\n",
       "       [2.30420962e-01],\n",
       "       [9.98453736e-01],\n",
       "       [9.70757425e-01],\n",
       "       [3.48451912e-01],\n",
       "       [8.41764569e-01],\n",
       "       [9.91532505e-01],\n",
       "       [1.54250604e-03],\n",
       "       [9.68428135e-01],\n",
       "       [2.33983472e-01],\n",
       "       [5.66926420e-01],\n",
       "       [2.39647239e-01],\n",
       "       [1.15249842e-01],\n",
       "       [1.05777636e-01],\n",
       "       [1.91261340e-02],\n",
       "       [1.02208629e-01],\n",
       "       [5.85774258e-02],\n",
       "       [7.57187247e-01],\n",
       "       [2.59196132e-01],\n",
       "       [9.94487941e-01],\n",
       "       [5.52509762e-02],\n",
       "       [7.41307795e-01],\n",
       "       [5.88017225e-01],\n",
       "       [2.77815163e-02],\n",
       "       [6.81769550e-02],\n",
       "       [9.47329223e-01],\n",
       "       [6.78883255e-01],\n",
       "       [9.55423534e-01],\n",
       "       [1.72934055e-01],\n",
       "       [1.00295506e-01],\n",
       "       [5.08626819e-01],\n",
       "       [2.92865634e-01],\n",
       "       [2.72289157e-01],\n",
       "       [9.91532505e-01],\n",
       "       [6.72565168e-03],\n",
       "       [6.16563931e-02],\n",
       "       [1.39235154e-01],\n",
       "       [9.96901512e-01],\n",
       "       [2.17174858e-01],\n",
       "       [5.79756796e-02],\n",
       "       [8.47363234e-01],\n",
       "       [4.77728210e-02],\n",
       "       [2.91231759e-02],\n",
       "       [1.38572559e-01],\n",
       "       [2.35057026e-01],\n",
       "       [1.38869971e-01],\n",
       "       [3.52029592e-01],\n",
       "       [3.52801293e-01],\n",
       "       [2.27145627e-01],\n",
       "       [1.17006578e-01],\n",
       "       [3.59311223e-01],\n",
       "       [1.38032101e-02],\n",
       "       [9.47467923e-01],\n",
       "       [7.50547349e-01],\n",
       "       [4.50257063e-01],\n",
       "       [3.57843935e-02],\n",
       "       [3.80085185e-02],\n",
       "       [9.72938657e-01],\n",
       "       [7.32710600e-01],\n",
       "       [9.99711215e-01],\n",
       "       [2.52478451e-01],\n",
       "       [8.47892046e-01],\n",
       "       [1.13874577e-01],\n",
       "       [6.18581474e-01],\n",
       "       [6.47158682e-01],\n",
       "       [2.61674095e-02],\n",
       "       [9.80107784e-01],\n",
       "       [9.72826555e-02],\n",
       "       [5.19768417e-01],\n",
       "       [9.98633802e-01],\n",
       "       [1.87172353e-01],\n",
       "       [3.67986597e-02],\n",
       "       [3.56287301e-01],\n",
       "       [1.80480536e-02],\n",
       "       [4.75029469e-01],\n",
       "       [9.99859214e-01],\n",
       "       [2.24665493e-01],\n",
       "       [9.48330462e-01],\n",
       "       [2.21844032e-01],\n",
       "       [7.56709456e-01],\n",
       "       [2.59677947e-01],\n",
       "       [2.43495166e-01],\n",
       "       [8.49288516e-03],\n",
       "       [6.20910227e-01],\n",
       "       [1.74358003e-02],\n",
       "       [1.84201211e-01],\n",
       "       [9.40405846e-01],\n",
       "       [9.39673245e-01],\n",
       "       [9.94686842e-01],\n",
       "       [8.21297705e-01],\n",
       "       [6.15113154e-02],\n",
       "       [3.72504711e-01],\n",
       "       [9.36865341e-03],\n",
       "       [4.23927665e-01],\n",
       "       [3.32610160e-01],\n",
       "       [8.41573358e-01],\n",
       "       [4.95246314e-02],\n",
       "       [7.62844682e-01],\n",
       "       [7.40988374e-01],\n",
       "       [2.46379003e-01],\n",
       "       [1.86424941e-01],\n",
       "       [2.18292072e-01],\n",
       "       [1.85970664e-01],\n",
       "       [3.52809638e-01],\n",
       "       [6.95645690e-01],\n",
       "       [9.98901606e-01],\n",
       "       [5.19472323e-02],\n",
       "       [5.49865654e-03],\n",
       "       [2.43958030e-02],\n",
       "       [2.02290282e-01],\n",
       "       [1.79923728e-01],\n",
       "       [3.78647372e-02],\n",
       "       [8.59292805e-01],\n",
       "       [9.83532593e-02],\n",
       "       [2.18359262e-01],\n",
       "       [2.14006633e-01],\n",
       "       [1.97609678e-01],\n",
       "       [9.34625804e-01],\n",
       "       [2.01823756e-01],\n",
       "       [4.40417707e-01],\n",
       "       [2.81432301e-01],\n",
       "       [1.34614408e-02],\n",
       "       [9.39161628e-02],\n",
       "       [9.99784172e-01],\n",
       "       [7.86082506e-01],\n",
       "       [5.51740732e-03],\n",
       "       [3.72392386e-01],\n",
       "       [1.49355426e-01],\n",
       "       [8.22453797e-02],\n",
       "       [8.61058474e-01],\n",
       "       [4.80818450e-01],\n",
       "       [5.79564154e-01],\n",
       "       [4.91907209e-01],\n",
       "       [2.91356653e-01],\n",
       "       [5.82620442e-01],\n",
       "       [2.05824465e-01],\n",
       "       [9.75111648e-02],\n",
       "       [8.91910076e-01],\n",
       "       [1.73045769e-01],\n",
       "       [4.39887166e-01],\n",
       "       [9.75112617e-01],\n",
       "       [2.76214510e-01],\n",
       "       [3.27115506e-01],\n",
       "       [2.69038894e-04],\n",
       "       [2.74526745e-01],\n",
       "       [7.48301327e-01],\n",
       "       [9.99818623e-01],\n",
       "       [6.78278565e-01],\n",
       "       [7.24210739e-02],\n",
       "       [9.88853097e-01],\n",
       "       [3.25627953e-01],\n",
       "       [9.17385995e-01],\n",
       "       [3.25627953e-01],\n",
       "       [9.93140996e-01],\n",
       "       [5.82587812e-03],\n",
       "       [4.04715508e-01],\n",
       "       [9.35701877e-02],\n",
       "       [9.81308162e-01],\n",
       "       [1.81574434e-01],\n",
       "       [3.90169472e-01],\n",
       "       [6.46327585e-02],\n",
       "       [3.85778904e-01],\n",
       "       [1.45149499e-01],\n",
       "       [2.83636469e-02],\n",
       "       [2.49479339e-01],\n",
       "       [8.39962661e-02],\n",
       "       [8.35229754e-02],\n",
       "       [7.73018181e-01],\n",
       "       [2.94384751e-02],\n",
       "       [1.05757087e-01],\n",
       "       [4.12094407e-02],\n",
       "       [1.33465044e-02],\n",
       "       [1.38011411e-01],\n",
       "       [5.83941996e-01],\n",
       "       [7.57951438e-02],\n",
       "       [5.22949278e-01],\n",
       "       [1.58178031e-01],\n",
       "       [3.45498711e-01],\n",
       "       [8.92408073e-01],\n",
       "       [1.31595939e-01],\n",
       "       [4.45213355e-02],\n",
       "       [7.54340515e-02],\n",
       "       [9.47663654e-03],\n",
       "       [9.90646005e-01],\n",
       "       [1.33465044e-02],\n",
       "       [3.23098987e-01],\n",
       "       [9.94829118e-01],\n",
       "       [9.93723571e-01],\n",
       "       [9.97545302e-01],\n",
       "       [9.99846339e-01],\n",
       "       [9.99421477e-01],\n",
       "       [1.94480017e-01],\n",
       "       [8.89573246e-02],\n",
       "       [2.27991447e-01],\n",
       "       [4.69128788e-01],\n",
       "       [9.97833192e-01],\n",
       "       [4.77329522e-01],\n",
       "       [2.23232180e-01],\n",
       "       [5.78936398e-01],\n",
       "       [6.71434522e-01],\n",
       "       [5.11474237e-02],\n",
       "       [3.19244829e-03],\n",
       "       [9.90791768e-02],\n",
       "       [4.43381429e-01],\n",
       "       [1.10658286e-02],\n",
       "       [7.46264085e-02],\n",
       "       [4.16977733e-01],\n",
       "       [9.88403380e-01],\n",
       "       [3.66911665e-02],\n",
       "       [9.39093113e-01],\n",
       "       [6.50470674e-01],\n",
       "       [1.02680698e-01],\n",
       "       [3.00519347e-01],\n",
       "       [1.22999713e-01],\n",
       "       [7.48425126e-01],\n",
       "       [4.35182393e-01],\n",
       "       [1.33660035e-02]], dtype=float32)"
      ]
     },
     "execution_count": 47,
     "metadata": {},
     "output_type": "execute_result"
    }
   ],
   "source": [
    "model_1_pred_probs = model_1.predict(val_sentences)\n",
    "model_1_pred_probs"
   ]
  },
  {
   "cell_type": "code",
   "execution_count": 50,
   "metadata": {},
   "outputs": [
    {
     "data": {
      "text/plain": [
       "array([0.30836898], dtype=float32)"
      ]
     },
     "execution_count": 50,
     "metadata": {},
     "output_type": "execute_result"
    }
   ],
   "source": [
    "# Look at a single prediction\n",
    "model_1_pred_probs[0]"
   ]
  },
  {
   "cell_type": "code",
   "execution_count": 51,
   "metadata": {},
   "outputs": [
    {
     "data": {
      "text/plain": [
       "array([[0.30836898],\n",
       "       [0.77039313],\n",
       "       [0.99723357],\n",
       "       [0.13145779],\n",
       "       [0.14218913],\n",
       "       [0.9413911 ],\n",
       "       [0.8921275 ],\n",
       "       [0.99446976],\n",
       "       [0.970627  ],\n",
       "       [0.2559957 ]], dtype=float32)"
      ]
     },
     "execution_count": 51,
     "metadata": {},
     "output_type": "execute_result"
    }
   ],
   "source": [
    "# Look at the first 10\n",
    "model_1_pred_probs[:10]"
   ]
  },
  {
   "cell_type": "code",
   "execution_count": 53,
   "metadata": {},
   "outputs": [
    {
     "data": {
      "text/plain": [
       "<tf.Tensor: shape=(10,), dtype=float32, numpy=array([0., 1., 1., 0., 0., 1., 1., 1., 1., 0.], dtype=float32)>"
      ]
     },
     "execution_count": 53,
     "metadata": {},
     "output_type": "execute_result"
    }
   ],
   "source": [
    "# Convert model prediction probabilities to label format\n",
    "model_1_preds = tf.squeeze(tf.round(model_1_pred_probs))\n",
    "model_1_preds[:10]"
   ]
  },
  {
   "cell_type": "code",
   "execution_count": 56,
   "metadata": {},
   "outputs": [
    {
     "data": {
      "text/plain": [
       "{'accuracy': 78.60892388451444,\n",
       " 'precision': 0.7911704681403405,\n",
       " 'recall': 0.7860892388451444,\n",
       " 'f1-score': 0.7830068921982195}"
      ]
     },
     "execution_count": 56,
     "metadata": {},
     "output_type": "execute_result"
    }
   ],
   "source": [
    "# Calculate our model_1 results\n",
    "model_1_results = calculate_results(\n",
    "    y_true=val_labels,\n",
    "    y_pred=model_1_preds)\n",
    "model_1_results"
   ]
  },
  {
   "cell_type": "code",
   "execution_count": 57,
   "metadata": {},
   "outputs": [
    {
     "data": {
      "text/plain": [
       "{'accuracy': 79.26509186351706,\n",
       " 'precision': 0.8111390004213173,\n",
       " 'recall': 0.7926509186351706,\n",
       " 'f1-score': 0.7862189758049549}"
      ]
     },
     "execution_count": 57,
     "metadata": {},
     "output_type": "execute_result"
    }
   ],
   "source": [
    "baseline_results"
   ]
  },
  {
   "cell_type": "code",
   "execution_count": 58,
   "metadata": {},
   "outputs": [
    {
     "data": {
      "text/plain": [
       "array([False, False, False, False])"
      ]
     },
     "execution_count": 58,
     "metadata": {},
     "output_type": "execute_result"
    }
   ],
   "source": [
    "import numpy as np\n",
    "np.array(list(model_1_results.values())) > np.array(list(baseline_results.values()))"
   ]
  },
  {
   "cell_type": "code",
   "execution_count": null,
   "metadata": {},
   "outputs": [],
   "source": []
  }
 ],
 "metadata": {
  "kernelspec": {
   "display_name": "Python 3.9.7 ('udemy_tensorflow')",
   "language": "python",
   "name": "python3"
  },
  "language_info": {
   "codemirror_mode": {
    "name": "ipython",
    "version": 3
   },
   "file_extension": ".py",
   "mimetype": "text/x-python",
   "name": "python",
   "nbconvert_exporter": "python",
   "pygments_lexer": "ipython3",
   "version": "3.9.7"
  },
  "orig_nbformat": 4,
  "vscode": {
   "interpreter": {
    "hash": "63418e73e250c304d26eaf03185e2f59ff2277f62dd1cc8bba54019c2c46cc60"
   }
  }
 },
 "nbformat": 4,
 "nbformat_minor": 2
}
