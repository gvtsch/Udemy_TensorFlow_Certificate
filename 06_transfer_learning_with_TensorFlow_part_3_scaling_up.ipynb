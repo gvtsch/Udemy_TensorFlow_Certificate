{
  "cells": [
    {
      "cell_type": "markdown",
      "metadata": {
        "colab_type": "text",
        "id": "view-in-github"
      },
      "source": [
        "<a href=\"https://colab.research.google.com/github/gvtsch/Udemy_TensorFlow_Certificate/blob/main/06_transfer_learning_with_TensorFlow_part_3_scaling_up.ipynb\" target=\"_parent\"><img src=\"https://colab.research.google.com/assets/colab-badge.svg\" alt=\"Open In Colab\"/></a>"
      ]
    },
    {
      "cell_type": "markdown",
      "metadata": {
        "id": "kCaUQyowCP3C"
      },
      "source": [
        "# Transfer Learning with TensorFlow Part 3: Scaling up (Food Vision mini)\n",
        "\n",
        "We've seen the power of transfer learning feature extraction and fine-tuning, now it's time to scale up to all of the classes in Food101 (101 total classes of food).\n",
        "\n",
        "Our goal is to beat the original Food101 paper with 10% of the training (leveraging the power of deep learning).\n",
        "\n",
        "Original Food101 paper: https://data.vision.ee.ethz.ch/cvl/datasets_extra/food-101/\n",
        "\n",
        "Our baseline to beat 50.76% accuracy across 101 classes."
      ]
    },
    {
      "cell_type": "code",
      "execution_count": 1,
      "metadata": {
        "colab": {
          "base_uri": "https://localhost:8080/"
        },
        "id": "IC248s4tFkxa",
        "outputId": "8838daa1-56cb-4da0-aa24-8178fa7b0f14"
      },
      "outputs": [
        {
          "name": "stdout",
          "output_type": "stream",
          "text": [
            "Tue Jun 28 20:32:34 2022       \n",
            "+-----------------------------------------------------------------------------+\n",
            "| NVIDIA-SMI 516.59       Driver Version: 516.59       CUDA Version: 11.7     |\n",
            "|-------------------------------+----------------------+----------------------+\n",
            "| GPU  Name            TCC/WDDM | Bus-Id        Disp.A | Volatile Uncorr. ECC |\n",
            "| Fan  Temp  Perf  Pwr:Usage/Cap|         Memory-Usage | GPU-Util  Compute M. |\n",
            "|                               |                      |               MIG M. |\n",
            "|===============================+======================+======================|\n",
            "|   0  NVIDIA GeForce ... WDDM  | 00000000:01:00.0 Off |                  N/A |\n",
            "| N/A   57C    P8    11W /  N/A |    414MiB /  6144MiB |      0%      Default |\n",
            "|                               |                      |                  N/A |\n",
            "+-------------------------------+----------------------+----------------------+\n",
            "                                                                               \n",
            "+-----------------------------------------------------------------------------+\n",
            "| Processes:                                                                  |\n",
            "|  GPU   GI   CI        PID   Type   Process name                  GPU Memory |\n",
            "|        ID   ID                                                   Usage      |\n",
            "|=============================================================================|\n",
            "|    0   N/A  N/A      1108    C+G   ..._htrsf667h5kn2\\MyDell.exe    N/A      |\n",
            "|    0   N/A  N/A      5852    C+G   ...bbwe\\Microsoft.Photos.exe    N/A      |\n",
            "|    0   N/A  N/A      7272    C+G   ...wekyb3d8bbwe\\Video.UI.exe    N/A      |\n",
            "|    0   N/A  N/A     12472    C+G   C:\\Windows\\explorer.exe         N/A      |\n",
            "|    0   N/A  N/A     13896    C+G   ...n1h2txyewy\\SearchHost.exe    N/A      |\n",
            "|    0   N/A  N/A     15656    C+G   ... iCUE 4 Software\\iCUE.exe    N/A      |\n",
            "|    0   N/A  N/A     17096    C+G   ...264.37\\msedgewebview2.exe    N/A      |\n",
            "|    0   N/A  N/A     17272    C+G   ...lPanel\\SystemSettings.exe    N/A      |\n",
            "|    0   N/A  N/A     18440    C+G   ...\\app-1.0.9005\\Discord.exe    N/A      |\n",
            "|    0   N/A  N/A     18648    C+G   ...signal-desktop\\Signal.exe    N/A      |\n",
            "|    0   N/A  N/A     19892    C+G   ...ekyb3d8bbwe\\HxOutlook.exe    N/A      |\n",
            "|    0   N/A  N/A     21596    C+G   ...ropbox\\Client\\Dropbox.exe    N/A      |\n",
            "|    0   N/A  N/A     21648    C+G   ...ge\\Application\\msedge.exe    N/A      |\n",
            "|    0   N/A  N/A     21712    C+G   ...ck\\app-4.27.154\\slack.exe    N/A      |\n",
            "|    0   N/A  N/A     25504    C+G   ...obeNotificationClient.exe    N/A      |\n",
            "|    0   N/A  N/A     25716    C+G   ...batNotificationClient.exe    N/A      |\n",
            "+-----------------------------------------------------------------------------+\n"
          ]
        }
      ],
      "source": [
        "# Check to see if we're using a GPU\n",
        "!nvidia-smi"
      ]
    },
    {
      "cell_type": "markdown",
      "metadata": {
        "id": "m9i5vF3BFva1"
      },
      "source": [
        "## Creating helper funtions\n",
        "\n",
        "In previous notebooks, we've created a series of helper functions to do different tasks, let's download them."
      ]
    },
    {
      "cell_type": "code",
      "execution_count": 2,
      "metadata": {
        "colab": {
          "base_uri": "https://localhost:8080/"
        },
        "id": "udw0MO4WCDyD",
        "outputId": "8772e645-2d7d-4470-fede-21ab7e4105bd"
      },
      "outputs": [],
      "source": [
        "import os\n",
        "\n",
        "if not os.path.exists(\"helper_functions.py\"):\n",
        "  # !wget https://raw.githubusercontent.com/mrdbourke/tensorflow-deep-learning/main/extras/helper_functions.py\n",
        "  !python -m wget https://raw.githubusercontent.com/mrdbourke/tensorflow-deep-learning/main/extras/helper_functions.py"
      ]
    },
    {
      "cell_type": "code",
      "execution_count": 3,
      "metadata": {
        "id": "YCEytKIeGKg3"
      },
      "outputs": [],
      "source": [
        "from helper_functions import create_tensorboard_callback, plot_loss_curves, unzip_data, compare_historys, walk_through_dir"
      ]
    },
    {
      "cell_type": "markdown",
      "metadata": {
        "id": "psF8DjQqGtH1"
      },
      "source": [
        "## 101 Food Classes: Working with less data\n",
        "\n",
        "Our goal is to beat the original Food101 paper with 10% of the training data, so let's download it.\n",
        "\n",
        "The data we're downloading comes from the original Food101 dataset but has been preprocessed using the image_data_notification notebook."
      ]
    },
    {
      "cell_type": "code",
      "execution_count": 4,
      "metadata": {
        "id": "n1xGJGFFGMFq"
      },
      "outputs": [],
      "source": [
        "if not os.path.exists(\"101_food_classes_10_percent/\"):\n",
        "  # !wget https://storage.googleapis.com/ztm_tf_course/food_vision/101_food_classes_10_percent.zip\n",
        "  !python -m wget https://storage.googleapis.com/ztm_tf_course/food_vision/101_food_classes_10_percent.zip\n",
        "  unzip_data(\"101_food_classes_10_percent.zip\")"
      ]
    },
    {
      "cell_type": "code",
      "execution_count": 5,
      "metadata": {
        "id": "TOIUNExRGklp"
      },
      "outputs": [],
      "source": [
        "train_dir = \"101_food_classes_10_percent/train\"\n",
        "test_dir = \"101_food_classes_10_percent/test\""
      ]
    },
    {
      "cell_type": "code",
      "execution_count": 6,
      "metadata": {
        "colab": {
          "base_uri": "https://localhost:8080/"
        },
        "id": "6BKjjOsiHTza",
        "outputId": "b3bffafc-29cd-48cf-b1b5-6f93640d3d4d"
      },
      "outputs": [
        {
          "name": "stdout",
          "output_type": "stream",
          "text": [
            "There are 3 directories and 0 images in '101_food_classes_10_percent'.\n",
            "There are 2 directories and 2 images in '101_food_classes_10_percent\\saved_trained_model'.\n",
            "There are 0 directories and 0 images in '101_food_classes_10_percent\\saved_trained_model\\assets'.\n",
            "There are 0 directories and 2 images in '101_food_classes_10_percent\\saved_trained_model\\variables'.\n",
            "There are 101 directories and 0 images in '101_food_classes_10_percent\\test'.\n",
            "There are 0 directories and 250 images in '101_food_classes_10_percent\\test\\apple_pie'.\n",
            "There are 0 directories and 250 images in '101_food_classes_10_percent\\test\\baby_back_ribs'.\n",
            "There are 0 directories and 250 images in '101_food_classes_10_percent\\test\\baklava'.\n",
            "There are 0 directories and 250 images in '101_food_classes_10_percent\\test\\beef_carpaccio'.\n",
            "There are 0 directories and 250 images in '101_food_classes_10_percent\\test\\beef_tartare'.\n",
            "There are 0 directories and 250 images in '101_food_classes_10_percent\\test\\beet_salad'.\n",
            "There are 0 directories and 250 images in '101_food_classes_10_percent\\test\\beignets'.\n",
            "There are 0 directories and 250 images in '101_food_classes_10_percent\\test\\bibimbap'.\n",
            "There are 0 directories and 250 images in '101_food_classes_10_percent\\test\\bread_pudding'.\n",
            "There are 0 directories and 250 images in '101_food_classes_10_percent\\test\\breakfast_burrito'.\n",
            "There are 0 directories and 250 images in '101_food_classes_10_percent\\test\\bruschetta'.\n",
            "There are 0 directories and 250 images in '101_food_classes_10_percent\\test\\caesar_salad'.\n",
            "There are 0 directories and 250 images in '101_food_classes_10_percent\\test\\cannoli'.\n",
            "There are 0 directories and 250 images in '101_food_classes_10_percent\\test\\caprese_salad'.\n",
            "There are 0 directories and 250 images in '101_food_classes_10_percent\\test\\carrot_cake'.\n",
            "There are 0 directories and 250 images in '101_food_classes_10_percent\\test\\ceviche'.\n",
            "There are 0 directories and 250 images in '101_food_classes_10_percent\\test\\cheesecake'.\n",
            "There are 0 directories and 250 images in '101_food_classes_10_percent\\test\\cheese_plate'.\n",
            "There are 0 directories and 250 images in '101_food_classes_10_percent\\test\\chicken_curry'.\n",
            "There are 0 directories and 250 images in '101_food_classes_10_percent\\test\\chicken_quesadilla'.\n",
            "There are 0 directories and 250 images in '101_food_classes_10_percent\\test\\chicken_wings'.\n",
            "There are 0 directories and 250 images in '101_food_classes_10_percent\\test\\chocolate_cake'.\n",
            "There are 0 directories and 250 images in '101_food_classes_10_percent\\test\\chocolate_mousse'.\n",
            "There are 0 directories and 250 images in '101_food_classes_10_percent\\test\\churros'.\n",
            "There are 0 directories and 250 images in '101_food_classes_10_percent\\test\\clam_chowder'.\n",
            "There are 0 directories and 250 images in '101_food_classes_10_percent\\test\\club_sandwich'.\n",
            "There are 0 directories and 250 images in '101_food_classes_10_percent\\test\\crab_cakes'.\n",
            "There are 0 directories and 250 images in '101_food_classes_10_percent\\test\\creme_brulee'.\n",
            "There are 0 directories and 250 images in '101_food_classes_10_percent\\test\\croque_madame'.\n",
            "There are 0 directories and 250 images in '101_food_classes_10_percent\\test\\cup_cakes'.\n",
            "There are 0 directories and 250 images in '101_food_classes_10_percent\\test\\deviled_eggs'.\n",
            "There are 0 directories and 250 images in '101_food_classes_10_percent\\test\\donuts'.\n",
            "There are 0 directories and 250 images in '101_food_classes_10_percent\\test\\dumplings'.\n",
            "There are 0 directories and 250 images in '101_food_classes_10_percent\\test\\edamame'.\n",
            "There are 0 directories and 250 images in '101_food_classes_10_percent\\test\\eggs_benedict'.\n",
            "There are 0 directories and 250 images in '101_food_classes_10_percent\\test\\escargots'.\n",
            "There are 0 directories and 250 images in '101_food_classes_10_percent\\test\\falafel'.\n",
            "There are 0 directories and 250 images in '101_food_classes_10_percent\\test\\filet_mignon'.\n",
            "There are 0 directories and 250 images in '101_food_classes_10_percent\\test\\fish_and_chips'.\n",
            "There are 0 directories and 250 images in '101_food_classes_10_percent\\test\\foie_gras'.\n",
            "There are 0 directories and 250 images in '101_food_classes_10_percent\\test\\french_fries'.\n",
            "There are 0 directories and 250 images in '101_food_classes_10_percent\\test\\french_onion_soup'.\n",
            "There are 0 directories and 250 images in '101_food_classes_10_percent\\test\\french_toast'.\n",
            "There are 0 directories and 250 images in '101_food_classes_10_percent\\test\\fried_calamari'.\n",
            "There are 0 directories and 250 images in '101_food_classes_10_percent\\test\\fried_rice'.\n",
            "There are 0 directories and 250 images in '101_food_classes_10_percent\\test\\frozen_yogurt'.\n",
            "There are 0 directories and 250 images in '101_food_classes_10_percent\\test\\garlic_bread'.\n",
            "There are 0 directories and 250 images in '101_food_classes_10_percent\\test\\gnocchi'.\n",
            "There are 0 directories and 250 images in '101_food_classes_10_percent\\test\\greek_salad'.\n",
            "There are 0 directories and 250 images in '101_food_classes_10_percent\\test\\grilled_cheese_sandwich'.\n",
            "There are 0 directories and 250 images in '101_food_classes_10_percent\\test\\grilled_salmon'.\n",
            "There are 0 directories and 250 images in '101_food_classes_10_percent\\test\\guacamole'.\n",
            "There are 0 directories and 250 images in '101_food_classes_10_percent\\test\\gyoza'.\n",
            "There are 0 directories and 250 images in '101_food_classes_10_percent\\test\\hamburger'.\n",
            "There are 0 directories and 250 images in '101_food_classes_10_percent\\test\\hot_and_sour_soup'.\n",
            "There are 0 directories and 250 images in '101_food_classes_10_percent\\test\\hot_dog'.\n",
            "There are 0 directories and 250 images in '101_food_classes_10_percent\\test\\huevos_rancheros'.\n",
            "There are 0 directories and 250 images in '101_food_classes_10_percent\\test\\hummus'.\n",
            "There are 0 directories and 250 images in '101_food_classes_10_percent\\test\\ice_cream'.\n",
            "There are 0 directories and 250 images in '101_food_classes_10_percent\\test\\lasagna'.\n",
            "There are 0 directories and 250 images in '101_food_classes_10_percent\\test\\lobster_bisque'.\n",
            "There are 0 directories and 250 images in '101_food_classes_10_percent\\test\\lobster_roll_sandwich'.\n",
            "There are 0 directories and 250 images in '101_food_classes_10_percent\\test\\macaroni_and_cheese'.\n",
            "There are 0 directories and 250 images in '101_food_classes_10_percent\\test\\macarons'.\n",
            "There are 0 directories and 250 images in '101_food_classes_10_percent\\test\\miso_soup'.\n",
            "There are 0 directories and 250 images in '101_food_classes_10_percent\\test\\mussels'.\n",
            "There are 0 directories and 250 images in '101_food_classes_10_percent\\test\\nachos'.\n",
            "There are 0 directories and 250 images in '101_food_classes_10_percent\\test\\omelette'.\n",
            "There are 0 directories and 250 images in '101_food_classes_10_percent\\test\\onion_rings'.\n",
            "There are 0 directories and 250 images in '101_food_classes_10_percent\\test\\oysters'.\n",
            "There are 0 directories and 250 images in '101_food_classes_10_percent\\test\\pad_thai'.\n",
            "There are 0 directories and 250 images in '101_food_classes_10_percent\\test\\paella'.\n",
            "There are 0 directories and 250 images in '101_food_classes_10_percent\\test\\pancakes'.\n",
            "There are 0 directories and 250 images in '101_food_classes_10_percent\\test\\panna_cotta'.\n",
            "There are 0 directories and 250 images in '101_food_classes_10_percent\\test\\peking_duck'.\n",
            "There are 0 directories and 250 images in '101_food_classes_10_percent\\test\\pho'.\n",
            "There are 0 directories and 250 images in '101_food_classes_10_percent\\test\\pizza'.\n",
            "There are 0 directories and 250 images in '101_food_classes_10_percent\\test\\pork_chop'.\n",
            "There are 0 directories and 250 images in '101_food_classes_10_percent\\test\\poutine'.\n",
            "There are 0 directories and 250 images in '101_food_classes_10_percent\\test\\prime_rib'.\n",
            "There are 0 directories and 250 images in '101_food_classes_10_percent\\test\\pulled_pork_sandwich'.\n",
            "There are 0 directories and 250 images in '101_food_classes_10_percent\\test\\ramen'.\n",
            "There are 0 directories and 250 images in '101_food_classes_10_percent\\test\\ravioli'.\n",
            "There are 0 directories and 250 images in '101_food_classes_10_percent\\test\\red_velvet_cake'.\n",
            "There are 0 directories and 250 images in '101_food_classes_10_percent\\test\\risotto'.\n",
            "There are 0 directories and 250 images in '101_food_classes_10_percent\\test\\samosa'.\n",
            "There are 0 directories and 250 images in '101_food_classes_10_percent\\test\\sashimi'.\n",
            "There are 0 directories and 250 images in '101_food_classes_10_percent\\test\\scallops'.\n",
            "There are 0 directories and 250 images in '101_food_classes_10_percent\\test\\seaweed_salad'.\n",
            "There are 0 directories and 250 images in '101_food_classes_10_percent\\test\\shrimp_and_grits'.\n",
            "There are 0 directories and 250 images in '101_food_classes_10_percent\\test\\spaghetti_bolognese'.\n",
            "There are 0 directories and 250 images in '101_food_classes_10_percent\\test\\spaghetti_carbonara'.\n",
            "There are 0 directories and 250 images in '101_food_classes_10_percent\\test\\spring_rolls'.\n",
            "There are 0 directories and 250 images in '101_food_classes_10_percent\\test\\steak'.\n",
            "There are 0 directories and 250 images in '101_food_classes_10_percent\\test\\strawberry_shortcake'.\n",
            "There are 0 directories and 250 images in '101_food_classes_10_percent\\test\\sushi'.\n",
            "There are 0 directories and 250 images in '101_food_classes_10_percent\\test\\tacos'.\n",
            "There are 0 directories and 250 images in '101_food_classes_10_percent\\test\\takoyaki'.\n",
            "There are 0 directories and 250 images in '101_food_classes_10_percent\\test\\tiramisu'.\n",
            "There are 0 directories and 250 images in '101_food_classes_10_percent\\test\\tuna_tartare'.\n",
            "There are 0 directories and 250 images in '101_food_classes_10_percent\\test\\waffles'.\n",
            "There are 101 directories and 0 images in '101_food_classes_10_percent\\train'.\n",
            "There are 0 directories and 75 images in '101_food_classes_10_percent\\train\\apple_pie'.\n",
            "There are 0 directories and 75 images in '101_food_classes_10_percent\\train\\baby_back_ribs'.\n",
            "There are 0 directories and 75 images in '101_food_classes_10_percent\\train\\baklava'.\n",
            "There are 0 directories and 75 images in '101_food_classes_10_percent\\train\\beef_carpaccio'.\n",
            "There are 0 directories and 75 images in '101_food_classes_10_percent\\train\\beef_tartare'.\n",
            "There are 0 directories and 75 images in '101_food_classes_10_percent\\train\\beet_salad'.\n",
            "There are 0 directories and 75 images in '101_food_classes_10_percent\\train\\beignets'.\n",
            "There are 0 directories and 75 images in '101_food_classes_10_percent\\train\\bibimbap'.\n",
            "There are 0 directories and 75 images in '101_food_classes_10_percent\\train\\bread_pudding'.\n",
            "There are 0 directories and 75 images in '101_food_classes_10_percent\\train\\breakfast_burrito'.\n",
            "There are 0 directories and 75 images in '101_food_classes_10_percent\\train\\bruschetta'.\n",
            "There are 0 directories and 75 images in '101_food_classes_10_percent\\train\\caesar_salad'.\n",
            "There are 0 directories and 75 images in '101_food_classes_10_percent\\train\\cannoli'.\n",
            "There are 0 directories and 75 images in '101_food_classes_10_percent\\train\\caprese_salad'.\n",
            "There are 0 directories and 75 images in '101_food_classes_10_percent\\train\\carrot_cake'.\n",
            "There are 0 directories and 75 images in '101_food_classes_10_percent\\train\\ceviche'.\n",
            "There are 0 directories and 75 images in '101_food_classes_10_percent\\train\\cheesecake'.\n",
            "There are 0 directories and 75 images in '101_food_classes_10_percent\\train\\cheese_plate'.\n",
            "There are 0 directories and 75 images in '101_food_classes_10_percent\\train\\chicken_curry'.\n",
            "There are 0 directories and 75 images in '101_food_classes_10_percent\\train\\chicken_quesadilla'.\n",
            "There are 0 directories and 75 images in '101_food_classes_10_percent\\train\\chicken_wings'.\n",
            "There are 0 directories and 75 images in '101_food_classes_10_percent\\train\\chocolate_cake'.\n",
            "There are 0 directories and 75 images in '101_food_classes_10_percent\\train\\chocolate_mousse'.\n",
            "There are 0 directories and 75 images in '101_food_classes_10_percent\\train\\churros'.\n",
            "There are 0 directories and 75 images in '101_food_classes_10_percent\\train\\clam_chowder'.\n",
            "There are 0 directories and 75 images in '101_food_classes_10_percent\\train\\club_sandwich'.\n",
            "There are 0 directories and 75 images in '101_food_classes_10_percent\\train\\crab_cakes'.\n",
            "There are 0 directories and 75 images in '101_food_classes_10_percent\\train\\creme_brulee'.\n",
            "There are 0 directories and 75 images in '101_food_classes_10_percent\\train\\croque_madame'.\n",
            "There are 0 directories and 75 images in '101_food_classes_10_percent\\train\\cup_cakes'.\n",
            "There are 0 directories and 75 images in '101_food_classes_10_percent\\train\\deviled_eggs'.\n",
            "There are 0 directories and 75 images in '101_food_classes_10_percent\\train\\donuts'.\n",
            "There are 0 directories and 75 images in '101_food_classes_10_percent\\train\\dumplings'.\n",
            "There are 0 directories and 75 images in '101_food_classes_10_percent\\train\\edamame'.\n",
            "There are 0 directories and 75 images in '101_food_classes_10_percent\\train\\eggs_benedict'.\n",
            "There are 0 directories and 75 images in '101_food_classes_10_percent\\train\\escargots'.\n",
            "There are 0 directories and 75 images in '101_food_classes_10_percent\\train\\falafel'.\n",
            "There are 0 directories and 75 images in '101_food_classes_10_percent\\train\\filet_mignon'.\n",
            "There are 0 directories and 75 images in '101_food_classes_10_percent\\train\\fish_and_chips'.\n",
            "There are 0 directories and 75 images in '101_food_classes_10_percent\\train\\foie_gras'.\n",
            "There are 0 directories and 75 images in '101_food_classes_10_percent\\train\\french_fries'.\n",
            "There are 0 directories and 75 images in '101_food_classes_10_percent\\train\\french_onion_soup'.\n",
            "There are 0 directories and 75 images in '101_food_classes_10_percent\\train\\french_toast'.\n",
            "There are 0 directories and 75 images in '101_food_classes_10_percent\\train\\fried_calamari'.\n",
            "There are 0 directories and 75 images in '101_food_classes_10_percent\\train\\fried_rice'.\n",
            "There are 0 directories and 75 images in '101_food_classes_10_percent\\train\\frozen_yogurt'.\n",
            "There are 0 directories and 75 images in '101_food_classes_10_percent\\train\\garlic_bread'.\n",
            "There are 0 directories and 75 images in '101_food_classes_10_percent\\train\\gnocchi'.\n",
            "There are 0 directories and 75 images in '101_food_classes_10_percent\\train\\greek_salad'.\n",
            "There are 0 directories and 75 images in '101_food_classes_10_percent\\train\\grilled_cheese_sandwich'.\n",
            "There are 0 directories and 75 images in '101_food_classes_10_percent\\train\\grilled_salmon'.\n",
            "There are 0 directories and 75 images in '101_food_classes_10_percent\\train\\guacamole'.\n",
            "There are 0 directories and 75 images in '101_food_classes_10_percent\\train\\gyoza'.\n",
            "There are 0 directories and 75 images in '101_food_classes_10_percent\\train\\hamburger'.\n",
            "There are 0 directories and 75 images in '101_food_classes_10_percent\\train\\hot_and_sour_soup'.\n",
            "There are 0 directories and 75 images in '101_food_classes_10_percent\\train\\hot_dog'.\n",
            "There are 0 directories and 75 images in '101_food_classes_10_percent\\train\\huevos_rancheros'.\n",
            "There are 0 directories and 75 images in '101_food_classes_10_percent\\train\\hummus'.\n",
            "There are 0 directories and 75 images in '101_food_classes_10_percent\\train\\ice_cream'.\n",
            "There are 0 directories and 75 images in '101_food_classes_10_percent\\train\\lasagna'.\n",
            "There are 0 directories and 75 images in '101_food_classes_10_percent\\train\\lobster_bisque'.\n",
            "There are 0 directories and 75 images in '101_food_classes_10_percent\\train\\lobster_roll_sandwich'.\n",
            "There are 0 directories and 75 images in '101_food_classes_10_percent\\train\\macaroni_and_cheese'.\n",
            "There are 0 directories and 75 images in '101_food_classes_10_percent\\train\\macarons'.\n",
            "There are 0 directories and 75 images in '101_food_classes_10_percent\\train\\miso_soup'.\n",
            "There are 0 directories and 75 images in '101_food_classes_10_percent\\train\\mussels'.\n",
            "There are 0 directories and 75 images in '101_food_classes_10_percent\\train\\nachos'.\n",
            "There are 0 directories and 75 images in '101_food_classes_10_percent\\train\\omelette'.\n",
            "There are 0 directories and 75 images in '101_food_classes_10_percent\\train\\onion_rings'.\n",
            "There are 0 directories and 75 images in '101_food_classes_10_percent\\train\\oysters'.\n",
            "There are 0 directories and 75 images in '101_food_classes_10_percent\\train\\pad_thai'.\n",
            "There are 0 directories and 75 images in '101_food_classes_10_percent\\train\\paella'.\n",
            "There are 0 directories and 75 images in '101_food_classes_10_percent\\train\\pancakes'.\n",
            "There are 0 directories and 75 images in '101_food_classes_10_percent\\train\\panna_cotta'.\n",
            "There are 0 directories and 75 images in '101_food_classes_10_percent\\train\\peking_duck'.\n",
            "There are 0 directories and 75 images in '101_food_classes_10_percent\\train\\pho'.\n",
            "There are 0 directories and 75 images in '101_food_classes_10_percent\\train\\pizza'.\n",
            "There are 0 directories and 75 images in '101_food_classes_10_percent\\train\\pork_chop'.\n",
            "There are 0 directories and 75 images in '101_food_classes_10_percent\\train\\poutine'.\n",
            "There are 0 directories and 75 images in '101_food_classes_10_percent\\train\\prime_rib'.\n",
            "There are 0 directories and 75 images in '101_food_classes_10_percent\\train\\pulled_pork_sandwich'.\n",
            "There are 0 directories and 75 images in '101_food_classes_10_percent\\train\\ramen'.\n",
            "There are 0 directories and 75 images in '101_food_classes_10_percent\\train\\ravioli'.\n",
            "There are 0 directories and 75 images in '101_food_classes_10_percent\\train\\red_velvet_cake'.\n",
            "There are 0 directories and 75 images in '101_food_classes_10_percent\\train\\risotto'.\n",
            "There are 0 directories and 75 images in '101_food_classes_10_percent\\train\\samosa'.\n",
            "There are 0 directories and 75 images in '101_food_classes_10_percent\\train\\sashimi'.\n",
            "There are 0 directories and 75 images in '101_food_classes_10_percent\\train\\scallops'.\n",
            "There are 0 directories and 75 images in '101_food_classes_10_percent\\train\\seaweed_salad'.\n",
            "There are 0 directories and 75 images in '101_food_classes_10_percent\\train\\shrimp_and_grits'.\n",
            "There are 0 directories and 75 images in '101_food_classes_10_percent\\train\\spaghetti_bolognese'.\n",
            "There are 0 directories and 75 images in '101_food_classes_10_percent\\train\\spaghetti_carbonara'.\n",
            "There are 0 directories and 75 images in '101_food_classes_10_percent\\train\\spring_rolls'.\n",
            "There are 0 directories and 75 images in '101_food_classes_10_percent\\train\\steak'.\n",
            "There are 0 directories and 75 images in '101_food_classes_10_percent\\train\\strawberry_shortcake'.\n",
            "There are 0 directories and 75 images in '101_food_classes_10_percent\\train\\sushi'.\n",
            "There are 0 directories and 75 images in '101_food_classes_10_percent\\train\\tacos'.\n",
            "There are 0 directories and 75 images in '101_food_classes_10_percent\\train\\takoyaki'.\n",
            "There are 0 directories and 75 images in '101_food_classes_10_percent\\train\\tiramisu'.\n",
            "There are 0 directories and 75 images in '101_food_classes_10_percent\\train\\tuna_tartare'.\n",
            "There are 0 directories and 75 images in '101_food_classes_10_percent\\train\\waffles'.\n"
          ]
        }
      ],
      "source": [
        "# How many images/classes are there?\n",
        "walk_through_dir(\"101_food_classes_10_percent\")"
      ]
    },
    {
      "cell_type": "code",
      "execution_count": 7,
      "metadata": {
        "colab": {
          "base_uri": "https://localhost:8080/"
        },
        "id": "9xHjqpg-Hiir",
        "outputId": "011cad2e-9b49-4dbd-8aea-9e2773328353"
      },
      "outputs": [
        {
          "name": "stdout",
          "output_type": "stream",
          "text": [
            "Found 7575 files belonging to 101 classes.\n",
            "Found 25250 files belonging to 101 classes.\n"
          ]
        }
      ],
      "source": [
        "# Setup data inputs\n",
        "import tensorflow as tf\n",
        "IMG_SIZE=(224, 224)\n",
        "\n",
        "train_data_all_10_percent = tf.keras.preprocessing.image_dataset_from_directory(\n",
        "    train_dir,\n",
        "    label_mode=\"categorical\",\n",
        "    image_size=IMG_SIZE,\n",
        "    batch_size=32\n",
        ")\n",
        "\n",
        "test_data = tf.keras.preprocessing.image_dataset_from_directory(\n",
        "    test_dir,\n",
        "    label_mode=\"categorical\",\n",
        "    image_size=IMG_SIZE,\n",
        "    batch_size=32,\n",
        "    shuffle=False # don't shuffle test data for prediction analysis\n",
        ")"
      ]
    },
    {
      "cell_type": "markdown",
      "metadata": {
        "id": "WF-xJEeqIwax"
      },
      "source": [
        "## Train a big dog model with transfer learning on 10% of 101 food classes\n",
        "\n",
        "Here are the steps we're going to take:\n",
        "* Create a model checkpoint callback\n",
        "* Create a data augmentation layer to build data augmentation right into the model\n",
        "* Build a headless (no top layers) Functional EfficientNetB0 backboned model (we'll create our own output layer)\n",
        "* Compile our model\n",
        "* Feature extract for 5 full passes (5 epochs on the train dataset and validate on 15% of the test data, to save epoch time)"
      ]
    },
    {
      "cell_type": "code",
      "execution_count": 8,
      "metadata": {
        "id": "1D6fGjsuIdjc"
      },
      "outputs": [],
      "source": [
        "# Create checkpoint callback\n",
        "checkpoint_path = \"101_classes_10_percent_data_model_checkpoint\"\n",
        "checkpoint_callback = tf.keras.callbacks.ModelCheckpoint(\n",
        "    checkpoint_path,\n",
        "    save_weights_only=True,\n",
        "    monitor=\"val_accuracy\",\n",
        "    save_best_only=True\n",
        ")"
      ]
    },
    {
      "cell_type": "code",
      "execution_count": 9,
      "metadata": {
        "id": "qNBEyctyJq66"
      },
      "outputs": [],
      "source": [
        "# Create data augmentation layer to incorporate it right into the model\n",
        "from tensorflow.keras import layers\n",
        "from tensorflow.keras.layers.experimental import preprocessing\n",
        "from tensorflow.keras.models import Sequential\n",
        "\n",
        "# Setup data augmentation\n",
        "data_augmentation = Sequential([\n",
        "    preprocessing.RandomFlip(\"horizontal\"),\n",
        "    preprocessing.RandomRotation(0.2),\n",
        "    preprocessing.RandomHeight(0.2),\n",
        "    preprocessing.RandomWidth(0.2),\n",
        "    preprocessing.RandomZoom(0.2),\n",
        "    # preprocessing.Rescale(1/255.) # Rescale inputs to 0 between, if not already rescaled like EfficientNet\n",
        "], name=\"data_augmentation\")"
      ]
    },
    {
      "cell_type": "code",
      "execution_count": 10,
      "metadata": {},
      "outputs": [],
      "source": [
        "# Setup the base_model and freeze its layers (this will extract features)\n",
        "base_model = tf.keras.applications.EfficientNetB0(include_top=False)\n",
        "base_model.trainable = False\n",
        "\n",
        "# Setup model architecture with trainable top layers\n",
        "inputs = layers.Input(shape=(224, 224, 3), name=\"input_layer\")\n",
        "x = data_augmentation(inputs) # augment images (this only happens during training phase)\n",
        "x = base_model(x, training=False) # put the base model in inference mode so weights which need to stay frozen, stay frozen\n",
        "x = layers.GlobalAveragePooling2D(name=\"global_avg_pool_layer\")(x)\n",
        "outputs = layers.Dense(len(train_data_all_10_percent.class_names), activation=\"softmax\", name=\"output_layer\")(x)\n",
        "model = tf.keras.Model(inputs, outputs)"
      ]
    },
    {
      "cell_type": "code",
      "execution_count": 11,
      "metadata": {},
      "outputs": [
        {
          "name": "stdout",
          "output_type": "stream",
          "text": [
            "Model: \"model\"\n",
            "_________________________________________________________________\n",
            "Layer (type)                 Output Shape              Param #   \n",
            "=================================================================\n",
            "input_layer (InputLayer)     [(None, 224, 224, 3)]     0         \n",
            "_________________________________________________________________\n",
            "data_augmentation (Sequentia (None, None, None, 3)     0         \n",
            "_________________________________________________________________\n",
            "efficientnetb0 (Functional)  (None, None, None, 1280)  4049571   \n",
            "_________________________________________________________________\n",
            "global_avg_pool_layer (Globa (None, 1280)              0         \n",
            "_________________________________________________________________\n",
            "output_layer (Dense)         (None, 101)               129381    \n",
            "=================================================================\n",
            "Total params: 4,178,952\n",
            "Trainable params: 129,381\n",
            "Non-trainable params: 4,049,571\n",
            "_________________________________________________________________\n"
          ]
        }
      ],
      "source": [
        "# Get summary\n",
        "model.summary()"
      ]
    },
    {
      "cell_type": "code",
      "execution_count": 12,
      "metadata": {},
      "outputs": [],
      "source": [
        "# Compile\n",
        "model.compile(\n",
        "    loss=\"categorical_crossentropy\",\n",
        "    optimizer=tf.keras.optimizers.Adam(),\n",
        "    metrics=[\"accuracy\"]\n",
        ")"
      ]
    },
    {
      "cell_type": "code",
      "execution_count": 13,
      "metadata": {},
      "outputs": [
        {
          "name": "stdout",
          "output_type": "stream",
          "text": [
            "Saving TensorBoard log files to: transfer_learning/101_food_classes_10_percent/20220628-203243\n"
          ]
        },
        {
          "name": "stderr",
          "output_type": "stream",
          "text": [
            "c:\\Users\\gutsc\\anaconda3\\envs\\udemy_tensorflow\\lib\\site-packages\\keras\\utils\\generic_utils.py:494: CustomMaskWarning: Custom mask layers require a config and must override get_config. When loading, the custom mask layer must be passed to the custom_objects argument.\n",
            "  warnings.warn('Custom mask layers require a config and must override '\n"
          ]
        },
        {
          "name": "stdout",
          "output_type": "stream",
          "text": [
            "Epoch 1/5\n",
            "237/237 [==============================] - 110s 417ms/step - loss: 3.4880 - accuracy: 0.2438 - val_loss: 2.6186 - val_accuracy: 0.4235\n",
            "Epoch 2/5\n",
            "237/237 [==============================] - 75s 315ms/step - loss: 2.3523 - accuracy: 0.4593 - val_loss: 2.2033 - val_accuracy: 0.4799\n",
            "Epoch 3/5\n",
            "237/237 [==============================] - 70s 297ms/step - loss: 1.9734 - accuracy: 0.5295 - val_loss: 2.0410 - val_accuracy: 0.4897\n",
            "Epoch 4/5\n",
            "237/237 [==============================] - 62s 259ms/step - loss: 1.7562 - accuracy: 0.5737 - val_loss: 1.9614 - val_accuracy: 0.5026\n",
            "Epoch 5/5\n",
            "237/237 [==============================] - 62s 261ms/step - loss: 1.6009 - accuracy: 0.6063 - val_loss: 1.8946 - val_accuracy: 0.5109\n"
          ]
        }
      ],
      "source": [
        "# Fit it for 5 epochs\n",
        "initial_epochs = 5\n",
        "\n",
        "history_all_classes_10_percent = model.fit(\n",
        "    train_data_all_10_percent,\n",
        "    epochs=initial_epochs,\n",
        "    steps_per_epoch=len(train_data_all_10_percent),\n",
        "    validation_data=test_data,\n",
        "    validation_steps=int(0.15*len(test_data)), # validate on 15%\n",
        "    callbacks=[\n",
        "        create_tensorboard_callback(\n",
        "            dir_name=\"transfer_learning\",\n",
        "            experiment_name=\"101_food_classes_10_percent\"\n",
        "        )\n",
        "    ]\n",
        ")"
      ]
    },
    {
      "cell_type": "code",
      "execution_count": 14,
      "metadata": {},
      "outputs": [
        {
          "name": "stdout",
          "output_type": "stream",
          "text": [
            "790/790 [==============================] - 68s 86ms/step - loss: 1.7104 - accuracy: 0.5540\n"
          ]
        },
        {
          "data": {
            "text/plain": [
              "[1.7103971242904663, 0.5539801716804504]"
            ]
          },
          "execution_count": 14,
          "metadata": {},
          "output_type": "execute_result"
        }
      ],
      "source": [
        "# Evaluate on the whole test dataset\n",
        "all_classes_10_percent_results = model.evaluate(test_data)\n",
        "all_classes_10_percent_results"
      ]
    },
    {
      "cell_type": "code",
      "execution_count": 15,
      "metadata": {},
      "outputs": [
        {
          "data": {
            "image/png": "[encoded data removed]",
            "image/svg+xml": "<?xml version=\"1.0\" encoding=\"utf-8\" standalone=\"no\"?>\n<!DOCTYPE svg PUBLIC \"-//W3C//DTD SVG 1.1//EN\"\n  \"http://www.w3.org/Graphics/SVG/1.1/DTD/svg11.dtd\">\n<svg xmlns:xlink=\"http://www.w3.org/1999/xlink\" width=\"378.465625pt\" height=\"277.314375pt\" viewBox=\"0 0 378.465625 277.314375\" xmlns=\"http://www.w3.org/2000/svg\" version=\"1.1\">\n <metadata>\n  <rdf:RDF xmlns:dc=\"http://purl.org/dc/elements/1.1/\" xmlns:cc=\"http://creativecommons.org/ns#\" xmlns:rdf=\"http://www.w3.org/1999/02/22-rdf-syntax-ns#\">\n   <cc:Work>\n    <dc:type rdf:resource=\"http://purl.org/dc/dcmitype/StillImage\"/>\n    <dc:date>2022-06-28T20:40:12.619758</dc:date>\n    <dc:format>image/svg+xml</dc:format>\n    <dc:creator>\n     <cc:Agent>\n      <dc:title>Matplotlib v3.5.1, https://matplotlib.org/</dc:title>\n     </cc:Agent>\n    </dc:creator>\n   </cc:Work>\n  </rdf:RDF>\n </metadata>\n <defs>\n  <style type=\"text/css\">*{stroke-linejoin: round; stroke-linecap: butt}</style>\n </defs>\n <g id=\"figure_1\">\n  <g id=\"patch_1\">\n   <path d=\"M 0 277.314375 \nL 378.465625 277.314375 \nL 378.465625 0 \nL 0 0 \nz\n\"/>\n  </g>\n  <g id=\"axes_1\">\n   <g id=\"patch_2\">\n    <path d=\"M 36.465625 239.758125 \nL 371.265625 239.758125 \nL 371.265625 22.318125 \nL 36.465625 22.318125 \nz\n\"/>\n   </g>\n   <g id=\"matplotlib.axis_1\">\n    <g id=\"xtick_1\">\n     <g id=\"line2d_1\">\n      <defs>\n       <path id=\"mba6eda219a\" d=\"M 0 0 \nL 0 3.5 \n\" style=\"stroke: #ffffff; stroke-width: 0.8\"/>\n      </defs>\n      <g>\n       <use xlink:href=\"#mba6eda219a\" x=\"51.683807\" y=\"239.758125\" style=\"fill: #ffffff; stroke: #ffffff; stroke-width: 0.8\"/>\n      </g>\n     </g>\n     <g id=\"text_1\">\n      <!-- 0.0 -->\n      <g style=\"fill: #ffffff\" transform=\"translate(43.732244 254.356562)scale(0.1 -0.1)\">\n       <defs>\n        <path id=\"DejaVuSans-30\" d=\"M 2034 4250 \nQ 1547 4250 1301 3770 \nQ 1056 3291 1056 2328 \nQ 1056 1369 1301 889 \nQ 1547 409 2034 409 \nQ 2525 409 2770 889 \nQ 3016 1369 3016 2328 \nQ 3016 3291 2770 3770 \nQ 2525 4250 2034 4250 \nz\nM 2034 4750 \nQ 2819 4750 3233 4129 \nQ 3647 3509 3647 2328 \nQ 3647 1150 3233 529 \nQ 2819 -91 2034 -91 \nQ 1250 -91 836 529 \nQ 422 1150 422 2328 \nQ 422 3509 836 4129 \nQ 1250 4750 2034 4750 \nz\n\" transform=\"scale(0.015625)\"/>\n        <path id=\"DejaVuSans-2e\" d=\"M 684 794 \nL 1344 794 \nL 1344 0 \nL 684 0 \nL 684 794 \nz\n\" transform=\"scale(0.015625)\"/>\n       </defs>\n       <use xlink:href=\"#DejaVuSans-30\"/>\n       <use xlink:href=\"#DejaVuSans-2e\" x=\"63.623047\"/>\n       <use xlink:href=\"#DejaVuSans-30\" x=\"95.410156\"/>\n      </g>\n     </g>\n    </g>\n    <g id=\"xtick_2\">\n     <g id=\"line2d_2\">\n      <g>\n       <use xlink:href=\"#mba6eda219a\" x=\"89.729261\" y=\"239.758125\" style=\"fill: #ffffff; stroke: #ffffff; stroke-width: 0.8\"/>\n      </g>\n     </g>\n     <g id=\"text_2\">\n      <!-- 0.5 -->\n      <g style=\"fill: #ffffff\" transform=\"translate(81.777699 254.356562)scale(0.1 -0.1)\">\n       <defs>\n        <path id=\"DejaVuSans-35\" d=\"M 691 4666 \nL 3169 4666 \nL 3169 4134 \nL 1269 4134 \nL 1269 2991 \nQ 1406 3038 1543 3061 \nQ 1681 3084 1819 3084 \nQ 2600 3084 3056 2656 \nQ 3513 2228 3513 1497 \nQ 3513 744 3044 326 \nQ 2575 -91 1722 -91 \nQ 1428 -91 1123 -41 \nQ 819 9 494 109 \nL 494 744 \nQ 775 591 1075 516 \nQ 1375 441 1709 441 \nQ 2250 441 2565 725 \nQ 2881 1009 2881 1497 \nQ 2881 1984 2565 2268 \nQ 2250 2553 1709 2553 \nQ 1456 2553 1204 2497 \nQ 953 2441 691 2322 \nL 691 4666 \nz\n\" transform=\"scale(0.015625)\"/>\n       </defs>\n       <use xlink:href=\"#DejaVuSans-30\"/>\n       <use xlink:href=\"#DejaVuSans-2e\" x=\"63.623047\"/>\n       <use xlink:href=\"#DejaVuSans-35\" x=\"95.410156\"/>\n      </g>\n     </g>\n    </g>\n    <g id=\"xtick_3\">\n     <g id=\"line2d_3\">\n      <g>\n       <use xlink:href=\"#mba6eda219a\" x=\"127.774716\" y=\"239.758125\" style=\"fill: #ffffff; stroke: #ffffff; stroke-width: 0.8\"/>\n      </g>\n     </g>\n     <g id=\"text_3\">\n      <!-- 1.0 -->\n      <g style=\"fill: #ffffff\" transform=\"translate(119.823153 254.356562)scale(0.1 -0.1)\">\n       <defs>\n        <path id=\"DejaVuSans-31\" d=\"M 794 531 \nL 1825 531 \nL 1825 4091 \nL 703 3866 \nL 703 4441 \nL 1819 4666 \nL 2450 4666 \nL 2450 531 \nL 3481 531 \nL 3481 0 \nL 794 0 \nL 794 531 \nz\n\" transform=\"scale(0.015625)\"/>\n       </defs>\n       <use xlink:href=\"#DejaVuSans-31\"/>\n       <use xlink:href=\"#DejaVuSans-2e\" x=\"63.623047\"/>\n       <use xlink:href=\"#DejaVuSans-30\" x=\"95.410156\"/>\n      </g>\n     </g>\n    </g>\n    <g id=\"xtick_4\">\n     <g id=\"line2d_4\">\n      <g>\n       <use xlink:href=\"#mba6eda219a\" x=\"165.82017\" y=\"239.758125\" style=\"fill: #ffffff; stroke: #ffffff; stroke-width: 0.8\"/>\n      </g>\n     </g>\n     <g id=\"text_4\">\n      <!-- 1.5 -->\n      <g style=\"fill: #ffffff\" transform=\"translate(157.868608 254.356562)scale(0.1 -0.1)\">\n       <use xlink:href=\"#DejaVuSans-31\"/>\n       <use xlink:href=\"#DejaVuSans-2e\" x=\"63.623047\"/>\n       <use xlink:href=\"#DejaVuSans-35\" x=\"95.410156\"/>\n      </g>\n     </g>\n    </g>\n    <g id=\"xtick_5\">\n     <g id=\"line2d_5\">\n      <g>\n       <use xlink:href=\"#mba6eda219a\" x=\"203.865625\" y=\"239.758125\" style=\"fill: #ffffff; stroke: #ffffff; stroke-width: 0.8\"/>\n      </g>\n     </g>\n     <g id=\"text_5\">\n      <!-- 2.0 -->\n      <g style=\"fill: #ffffff\" transform=\"translate(195.914063 254.356562)scale(0.1 -0.1)\">\n       <defs>\n        <path id=\"DejaVuSans-32\" d=\"M 1228 531 \nL 3431 531 \nL 3431 0 \nL 469 0 \nL 469 531 \nQ 828 903 1448 1529 \nQ 2069 2156 2228 2338 \nQ 2531 2678 2651 2914 \nQ 2772 3150 2772 3378 \nQ 2772 3750 2511 3984 \nQ 2250 4219 1831 4219 \nQ 1534 4219 1204 4116 \nQ 875 4013 500 3803 \nL 500 4441 \nQ 881 4594 1212 4672 \nQ 1544 4750 1819 4750 \nQ 2544 4750 2975 4387 \nQ 3406 4025 3406 3419 \nQ 3406 3131 3298 2873 \nQ 3191 2616 2906 2266 \nQ 2828 2175 2409 1742 \nQ 1991 1309 1228 531 \nz\n\" transform=\"scale(0.015625)\"/>\n       </defs>\n       <use xlink:href=\"#DejaVuSans-32\"/>\n       <use xlink:href=\"#DejaVuSans-2e\" x=\"63.623047\"/>\n       <use xlink:href=\"#DejaVuSans-30\" x=\"95.410156\"/>\n      </g>\n     </g>\n    </g>\n    <g id=\"xtick_6\">\n     <g id=\"line2d_6\">\n      <g>\n       <use xlink:href=\"#mba6eda219a\" x=\"241.91108\" y=\"239.758125\" style=\"fill: #ffffff; stroke: #ffffff; stroke-width: 0.8\"/>\n      </g>\n     </g>\n     <g id=\"text_6\">\n      <!-- 2.5 -->\n      <g style=\"fill: #ffffff\" transform=\"translate(233.959517 254.356562)scale(0.1 -0.1)\">\n       <use xlink:href=\"#DejaVuSans-32\"/>\n       <use xlink:href=\"#DejaVuSans-2e\" x=\"63.623047\"/>\n       <use xlink:href=\"#DejaVuSans-35\" x=\"95.410156\"/>\n      </g>\n     </g>\n    </g>\n    <g id=\"xtick_7\">\n     <g id=\"line2d_7\">\n      <g>\n       <use xlink:href=\"#mba6eda219a\" x=\"279.956534\" y=\"239.758125\" style=\"fill: #ffffff; stroke: #ffffff; stroke-width: 0.8\"/>\n      </g>\n     </g>\n     <g id=\"text_7\">\n      <!-- 3.0 -->\n      <g style=\"fill: #ffffff\" transform=\"translate(272.004972 254.356562)scale(0.1 -0.1)\">\n       <defs>\n        <path id=\"DejaVuSans-33\" d=\"M 2597 2516 \nQ 3050 2419 3304 2112 \nQ 3559 1806 3559 1356 \nQ 3559 666 3084 287 \nQ 2609 -91 1734 -91 \nQ 1441 -91 1130 -33 \nQ 819 25 488 141 \nL 488 750 \nQ 750 597 1062 519 \nQ 1375 441 1716 441 \nQ 2309 441 2620 675 \nQ 2931 909 2931 1356 \nQ 2931 1769 2642 2001 \nQ 2353 2234 1838 2234 \nL 1294 2234 \nL 1294 2753 \nL 1863 2753 \nQ 2328 2753 2575 2939 \nQ 2822 3125 2822 3475 \nQ 2822 3834 2567 4026 \nQ 2313 4219 1838 4219 \nQ 1578 4219 1281 4162 \nQ 984 4106 628 3988 \nL 628 4550 \nQ 988 4650 1302 4700 \nQ 1616 4750 1894 4750 \nQ 2613 4750 3031 4423 \nQ 3450 4097 3450 3541 \nQ 3450 3153 3228 2886 \nQ 3006 2619 2597 2516 \nz\n\" transform=\"scale(0.015625)\"/>\n       </defs>\n       <use xlink:href=\"#DejaVuSans-33\"/>\n       <use xlink:href=\"#DejaVuSans-2e\" x=\"63.623047\"/>\n       <use xlink:href=\"#DejaVuSans-30\" x=\"95.410156\"/>\n      </g>\n     </g>\n    </g>\n    <g id=\"xtick_8\">\n     <g id=\"line2d_8\">\n      <g>\n       <use xlink:href=\"#mba6eda219a\" x=\"318.001989\" y=\"239.758125\" style=\"fill: #ffffff; stroke: #ffffff; stroke-width: 0.8\"/>\n      </g>\n     </g>\n     <g id=\"text_8\">\n      <!-- 3.5 -->\n      <g style=\"fill: #ffffff\" transform=\"translate(310.050426 254.356562)scale(0.1 -0.1)\">\n       <use xlink:href=\"#DejaVuSans-33\"/>\n       <use xlink:href=\"#DejaVuSans-2e\" x=\"63.623047\"/>\n       <use xlink:href=\"#DejaVuSans-35\" x=\"95.410156\"/>\n      </g>\n     </g>\n    </g>\n    <g id=\"xtick_9\">\n     <g id=\"line2d_9\">\n      <g>\n       <use xlink:href=\"#mba6eda219a\" x=\"356.047443\" y=\"239.758125\" style=\"fill: #ffffff; stroke: #ffffff; stroke-width: 0.8\"/>\n      </g>\n     </g>\n     <g id=\"text_9\">\n      <!-- 4.0 -->\n      <g style=\"fill: #ffffff\" transform=\"translate(348.095881 254.356562)scale(0.1 -0.1)\">\n       <defs>\n        <path id=\"DejaVuSans-34\" d=\"M 2419 4116 \nL 825 1625 \nL 2419 1625 \nL 2419 4116 \nz\nM 2253 4666 \nL 3047 4666 \nL 3047 1625 \nL 3713 1625 \nL 3713 1100 \nL 3047 1100 \nL 3047 0 \nL 2419 0 \nL 2419 1100 \nL 313 1100 \nL 313 1709 \nL 2253 4666 \nz\n\" transform=\"scale(0.015625)\"/>\n       </defs>\n       <use xlink:href=\"#DejaVuSans-34\"/>\n       <use xlink:href=\"#DejaVuSans-2e\" x=\"63.623047\"/>\n       <use xlink:href=\"#DejaVuSans-30\" x=\"95.410156\"/>\n      </g>\n     </g>\n    </g>\n    <g id=\"text_10\">\n     <!-- Epochs -->\n     <g style=\"fill: #ffffff\" transform=\"translate(185.95 268.034687)scale(0.1 -0.1)\">\n      <defs>\n       <path id=\"DejaVuSans-45\" d=\"M 628 4666 \nL 3578 4666 \nL 3578 4134 \nL 1259 4134 \nL 1259 2753 \nL 3481 2753 \nL 3481 2222 \nL 1259 2222 \nL 1259 531 \nL 3634 531 \nL 3634 0 \nL 628 0 \nL 628 4666 \nz\n\" transform=\"scale(0.015625)\"/>\n       <path id=\"DejaVuSans-70\" d=\"M 1159 525 \nL 1159 -1331 \nL 581 -1331 \nL 581 3500 \nL 1159 3500 \nL 1159 2969 \nQ 1341 3281 1617 3432 \nQ 1894 3584 2278 3584 \nQ 2916 3584 3314 3078 \nQ 3713 2572 3713 1747 \nQ 3713 922 3314 415 \nQ 2916 -91 2278 -91 \nQ 1894 -91 1617 61 \nQ 1341 213 1159 525 \nz\nM 3116 1747 \nQ 3116 2381 2855 2742 \nQ 2594 3103 2138 3103 \nQ 1681 3103 1420 2742 \nQ 1159 2381 1159 1747 \nQ 1159 1113 1420 752 \nQ 1681 391 2138 391 \nQ 2594 391 2855 752 \nQ 3116 1113 3116 1747 \nz\n\" transform=\"scale(0.015625)\"/>\n       <path id=\"DejaVuSans-6f\" d=\"M 1959 3097 \nQ 1497 3097 1228 2736 \nQ 959 2375 959 1747 \nQ 959 1119 1226 758 \nQ 1494 397 1959 397 \nQ 2419 397 2687 759 \nQ 2956 1122 2956 1747 \nQ 2956 2369 2687 2733 \nQ 2419 3097 1959 3097 \nz\nM 1959 3584 \nQ 2709 3584 3137 3096 \nQ 3566 2609 3566 1747 \nQ 3566 888 3137 398 \nQ 2709 -91 1959 -91 \nQ 1206 -91 779 398 \nQ 353 888 353 1747 \nQ 353 2609 779 3096 \nQ 1206 3584 1959 3584 \nz\n\" transform=\"scale(0.015625)\"/>\n       <path id=\"DejaVuSans-63\" d=\"M 3122 3366 \nL 3122 2828 \nQ 2878 2963 2633 3030 \nQ 2388 3097 2138 3097 \nQ 1578 3097 1268 2742 \nQ 959 2388 959 1747 \nQ 959 1106 1268 751 \nQ 1578 397 2138 397 \nQ 2388 397 2633 464 \nQ 2878 531 3122 666 \nL 3122 134 \nQ 2881 22 2623 -34 \nQ 2366 -91 2075 -91 \nQ 1284 -91 818 406 \nQ 353 903 353 1747 \nQ 353 2603 823 3093 \nQ 1294 3584 2113 3584 \nQ 2378 3584 2631 3529 \nQ 2884 3475 3122 3366 \nz\n\" transform=\"scale(0.015625)\"/>\n       <path id=\"DejaVuSans-68\" d=\"M 3513 2113 \nL 3513 0 \nL 2938 0 \nL 2938 2094 \nQ 2938 2591 2744 2837 \nQ 2550 3084 2163 3084 \nQ 1697 3084 1428 2787 \nQ 1159 2491 1159 1978 \nL 1159 0 \nL 581 0 \nL 581 4863 \nL 1159 4863 \nL 1159 2956 \nQ 1366 3272 1645 3428 \nQ 1925 3584 2291 3584 \nQ 2894 3584 3203 3211 \nQ 3513 2838 3513 2113 \nz\n\" transform=\"scale(0.015625)\"/>\n       <path id=\"DejaVuSans-73\" d=\"M 2834 3397 \nL 2834 2853 \nQ 2591 2978 2328 3040 \nQ 2066 3103 1784 3103 \nQ 1356 3103 1142 2972 \nQ 928 2841 928 2578 \nQ 928 2378 1081 2264 \nQ 1234 2150 1697 2047 \nL 1894 2003 \nQ 2506 1872 2764 1633 \nQ 3022 1394 3022 966 \nQ 3022 478 2636 193 \nQ 2250 -91 1575 -91 \nQ 1294 -91 989 -36 \nQ 684 19 347 128 \nL 347 722 \nQ 666 556 975 473 \nQ 1284 391 1588 391 \nQ 1994 391 2212 530 \nQ 2431 669 2431 922 \nQ 2431 1156 2273 1281 \nQ 2116 1406 1581 1522 \nL 1381 1569 \nQ 847 1681 609 1914 \nQ 372 2147 372 2553 \nQ 372 3047 722 3315 \nQ 1072 3584 1716 3584 \nQ 2034 3584 2315 3537 \nQ 2597 3491 2834 3397 \nz\n\" transform=\"scale(0.015625)\"/>\n      </defs>\n      <use xlink:href=\"#DejaVuSans-45\"/>\n      <use xlink:href=\"#DejaVuSans-70\" x=\"63.183594\"/>\n      <use xlink:href=\"#DejaVuSans-6f\" x=\"126.660156\"/>\n      <use xlink:href=\"#DejaVuSans-63\" x=\"187.841797\"/>\n      <use xlink:href=\"#DejaVuSans-68\" x=\"242.822266\"/>\n      <use xlink:href=\"#DejaVuSans-73\" x=\"306.201172\"/>\n     </g>\n    </g>\n   </g>\n   <g id=\"matplotlib.axis_2\">\n    <g id=\"ytick_1\">\n     <g id=\"line2d_10\">\n      <defs>\n       <path id=\"m48f3c82d38\" d=\"M 0 0 \nL -3.5 0 \n\" style=\"stroke: #ffffff; stroke-width: 0.8\"/>\n      </defs>\n      <g>\n       <use xlink:href=\"#m48f3c82d38\" x=\"36.465625\" y=\"214.254161\" style=\"fill: #ffffff; stroke: #ffffff; stroke-width: 0.8\"/>\n      </g>\n     </g>\n     <g id=\"text_11\">\n      <!-- 1.75 -->\n      <g style=\"fill: #ffffff\" transform=\"translate(7.2 218.05338)scale(0.1 -0.1)\">\n       <defs>\n        <path id=\"DejaVuSans-37\" d=\"M 525 4666 \nL 3525 4666 \nL 3525 4397 \nL 1831 0 \nL 1172 0 \nL 2766 4134 \nL 525 4134 \nL 525 4666 \nz\n\" transform=\"scale(0.015625)\"/>\n       </defs>\n       <use xlink:href=\"#DejaVuSans-31\"/>\n       <use xlink:href=\"#DejaVuSans-2e\" x=\"63.623047\"/>\n       <use xlink:href=\"#DejaVuSans-37\" x=\"95.410156\"/>\n       <use xlink:href=\"#DejaVuSans-35\" x=\"159.033203\"/>\n      </g>\n     </g>\n    </g>\n    <g id=\"ytick_2\">\n     <g id=\"line2d_11\">\n      <g>\n       <use xlink:href=\"#m48f3c82d38\" x=\"36.465625\" y=\"188.067774\" style=\"fill: #ffffff; stroke: #ffffff; stroke-width: 0.8\"/>\n      </g>\n     </g>\n     <g id=\"text_12\">\n      <!-- 2.00 -->\n      <g style=\"fill: #ffffff\" transform=\"translate(7.2 191.866993)scale(0.1 -0.1)\">\n       <use xlink:href=\"#DejaVuSans-32\"/>\n       <use xlink:href=\"#DejaVuSans-2e\" x=\"63.623047\"/>\n       <use xlink:href=\"#DejaVuSans-30\" x=\"95.410156\"/>\n       <use xlink:href=\"#DejaVuSans-30\" x=\"159.033203\"/>\n      </g>\n     </g>\n    </g>\n    <g id=\"ytick_3\">\n     <g id=\"line2d_12\">\n      <g>\n       <use xlink:href=\"#m48f3c82d38\" x=\"36.465625\" y=\"161.881387\" style=\"fill: #ffffff; stroke: #ffffff; stroke-width: 0.8\"/>\n      </g>\n     </g>\n     <g id=\"text_13\">\n      <!-- 2.25 -->\n      <g style=\"fill: #ffffff\" transform=\"translate(7.2 165.680605)scale(0.1 -0.1)\">\n       <use xlink:href=\"#DejaVuSans-32\"/>\n       <use xlink:href=\"#DejaVuSans-2e\" x=\"63.623047\"/>\n       <use xlink:href=\"#DejaVuSans-32\" x=\"95.410156\"/>\n       <use xlink:href=\"#DejaVuSans-35\" x=\"159.033203\"/>\n      </g>\n     </g>\n    </g>\n    <g id=\"ytick_4\">\n     <g id=\"line2d_13\">\n      <g>\n       <use xlink:href=\"#m48f3c82d38\" x=\"36.465625\" y=\"135.695\" style=\"fill: #ffffff; stroke: #ffffff; stroke-width: 0.8\"/>\n      </g>\n     </g>\n     <g id=\"text_14\">\n      <!-- 2.50 -->\n      <g style=\"fill: #ffffff\" transform=\"translate(7.2 139.494218)scale(0.1 -0.1)\">\n       <use xlink:href=\"#DejaVuSans-32\"/>\n       <use xlink:href=\"#DejaVuSans-2e\" x=\"63.623047\"/>\n       <use xlink:href=\"#DejaVuSans-35\" x=\"95.410156\"/>\n       <use xlink:href=\"#DejaVuSans-30\" x=\"159.033203\"/>\n      </g>\n     </g>\n    </g>\n    <g id=\"ytick_5\">\n     <g id=\"line2d_14\">\n      <g>\n       <use xlink:href=\"#m48f3c82d38\" x=\"36.465625\" y=\"109.508612\" style=\"fill: #ffffff; stroke: #ffffff; stroke-width: 0.8\"/>\n      </g>\n     </g>\n     <g id=\"text_15\">\n      <!-- 2.75 -->\n      <g style=\"fill: #ffffff\" transform=\"translate(7.2 113.307831)scale(0.1 -0.1)\">\n       <use xlink:href=\"#DejaVuSans-32\"/>\n       <use xlink:href=\"#DejaVuSans-2e\" x=\"63.623047\"/>\n       <use xlink:href=\"#DejaVuSans-37\" x=\"95.410156\"/>\n       <use xlink:href=\"#DejaVuSans-35\" x=\"159.033203\"/>\n      </g>\n     </g>\n    </g>\n    <g id=\"ytick_6\">\n     <g id=\"line2d_15\">\n      <g>\n       <use xlink:href=\"#m48f3c82d38\" x=\"36.465625\" y=\"83.322225\" style=\"fill: #ffffff; stroke: #ffffff; stroke-width: 0.8\"/>\n      </g>\n     </g>\n     <g id=\"text_16\">\n      <!-- 3.00 -->\n      <g style=\"fill: #ffffff\" transform=\"translate(7.2 87.121444)scale(0.1 -0.1)\">\n       <use xlink:href=\"#DejaVuSans-33\"/>\n       <use xlink:href=\"#DejaVuSans-2e\" x=\"63.623047\"/>\n       <use xlink:href=\"#DejaVuSans-30\" x=\"95.410156\"/>\n       <use xlink:href=\"#DejaVuSans-30\" x=\"159.033203\"/>\n      </g>\n     </g>\n    </g>\n    <g id=\"ytick_7\">\n     <g id=\"line2d_16\">\n      <g>\n       <use xlink:href=\"#m48f3c82d38\" x=\"36.465625\" y=\"57.135838\" style=\"fill: #ffffff; stroke: #ffffff; stroke-width: 0.8\"/>\n      </g>\n     </g>\n     <g id=\"text_17\">\n      <!-- 3.25 -->\n      <g style=\"fill: #ffffff\" transform=\"translate(7.2 60.935057)scale(0.1 -0.1)\">\n       <use xlink:href=\"#DejaVuSans-33\"/>\n       <use xlink:href=\"#DejaVuSans-2e\" x=\"63.623047\"/>\n       <use xlink:href=\"#DejaVuSans-32\" x=\"95.410156\"/>\n       <use xlink:href=\"#DejaVuSans-35\" x=\"159.033203\"/>\n      </g>\n     </g>\n    </g>\n    <g id=\"ytick_8\">\n     <g id=\"line2d_17\">\n      <g>\n       <use xlink:href=\"#m48f3c82d38\" x=\"36.465625\" y=\"30.949451\" style=\"fill: #ffffff; stroke: #ffffff; stroke-width: 0.8\"/>\n      </g>\n     </g>\n     <g id=\"text_18\">\n      <!-- 3.50 -->\n      <g style=\"fill: #ffffff\" transform=\"translate(7.2 34.74867)scale(0.1 -0.1)\">\n       <use xlink:href=\"#DejaVuSans-33\"/>\n       <use xlink:href=\"#DejaVuSans-2e\" x=\"63.623047\"/>\n       <use xlink:href=\"#DejaVuSans-35\" x=\"95.410156\"/>\n       <use xlink:href=\"#DejaVuSans-30\" x=\"159.033203\"/>\n      </g>\n     </g>\n    </g>\n   </g>\n   <g id=\"line2d_18\">\n    <path d=\"M 51.683807 32.201761 \nL 127.774716 151.163802 \nL 203.865625 190.850085 \nL 279.956534 213.603707 \nL 356.047443 229.874489 \n\" clip-path=\"url(#pfab913603c)\" style=\"fill: none; stroke: #8dd3c7; stroke-width: 1.5; stroke-linecap: square\"/>\n   </g>\n   <g id=\"line2d_19\">\n    <path d=\"M 51.683807 123.276859 \nL 127.774716 166.777249 \nL 203.865625 183.772644 \nL 279.956534 192.111074 \nL 356.047443 199.111685 \n\" clip-path=\"url(#pfab913603c)\" style=\"fill: none; stroke: #feffb3; stroke-width: 1.5; stroke-linecap: square\"/>\n   </g>\n   <g id=\"patch_3\">\n    <path d=\"M 36.465625 239.758125 \nL 36.465625 22.318125 \n\" style=\"fill: none; stroke: #ffffff; stroke-width: 0.8; stroke-linejoin: miter; stroke-linecap: square\"/>\n   </g>\n   <g id=\"patch_4\">\n    <path d=\"M 371.265625 239.758125 \nL 371.265625 22.318125 \n\" style=\"fill: none; stroke: #ffffff; stroke-width: 0.8; stroke-linejoin: miter; stroke-linecap: square\"/>\n   </g>\n   <g id=\"patch_5\">\n    <path d=\"M 36.465625 239.758125 \nL 371.265625 239.758125 \n\" style=\"fill: none; stroke: #ffffff; stroke-width: 0.8; stroke-linejoin: miter; stroke-linecap: square\"/>\n   </g>\n   <g id=\"patch_6\">\n    <path d=\"M 36.465625 22.318125 \nL 371.265625 22.318125 \n\" style=\"fill: none; stroke: #ffffff; stroke-width: 0.8; stroke-linejoin: miter; stroke-linecap: square\"/>\n   </g>\n   <g id=\"text_19\">\n    <!-- Loss -->\n    <g style=\"fill: #ffffff\" transform=\"translate(190.705 16.318125)scale(0.12 -0.12)\">\n     <defs>\n      <path id=\"DejaVuSans-4c\" d=\"M 628 4666 \nL 1259 4666 \nL 1259 531 \nL 3531 531 \nL 3531 0 \nL 628 0 \nL 628 4666 \nz\n\" transform=\"scale(0.015625)\"/>\n     </defs>\n     <use xlink:href=\"#DejaVuSans-4c\"/>\n     <use xlink:href=\"#DejaVuSans-6f\" x=\"53.962891\"/>\n     <use xlink:href=\"#DejaVuSans-73\" x=\"115.144531\"/>\n     <use xlink:href=\"#DejaVuSans-73\" x=\"167.244141\"/>\n    </g>\n   </g>\n   <g id=\"legend_1\">\n    <g id=\"patch_7\">\n     <path d=\"M 269.210938 60.230625 \nL 364.265625 60.230625 \nQ 366.265625 60.230625 366.265625 58.230625 \nL 366.265625 29.318125 \nQ 366.265625 27.318125 364.265625 27.318125 \nL 269.210938 27.318125 \nQ 267.210938 27.318125 267.210938 29.318125 \nL 267.210938 58.230625 \nQ 267.210938 60.230625 269.210938 60.230625 \nz\n\" style=\"opacity: 0.8; stroke: #cccccc; stroke-linejoin: miter\"/>\n    </g>\n    <g id=\"line2d_20\">\n     <path d=\"M 271.210938 35.416562 \nL 281.210938 35.416562 \nL 291.210938 35.416562 \n\" style=\"fill: none; stroke: #8dd3c7; stroke-width: 1.5; stroke-linecap: square\"/>\n    </g>\n    <g id=\"text_20\">\n     <!-- training_loss -->\n     <g style=\"fill: #ffffff\" transform=\"translate(299.210938 38.916562)scale(0.1 -0.1)\">\n      <defs>\n       <path id=\"DejaVuSans-74\" d=\"M 1172 4494 \nL 1172 3500 \nL 2356 3500 \nL 2356 3053 \nL 1172 3053 \nL 1172 1153 \nQ 1172 725 1289 603 \nQ 1406 481 1766 481 \nL 2356 481 \nL 2356 0 \nL 1766 0 \nQ 1100 0 847 248 \nQ 594 497 594 1153 \nL 594 3053 \nL 172 3053 \nL 172 3500 \nL 594 3500 \nL 594 4494 \nL 1172 4494 \nz\n\" transform=\"scale(0.015625)\"/>\n       <path id=\"DejaVuSans-72\" d=\"M 2631 2963 \nQ 2534 3019 2420 3045 \nQ 2306 3072 2169 3072 \nQ 1681 3072 1420 2755 \nQ 1159 2438 1159 1844 \nL 1159 0 \nL 581 0 \nL 581 3500 \nL 1159 3500 \nL 1159 2956 \nQ 1341 3275 1631 3429 \nQ 1922 3584 2338 3584 \nQ 2397 3584 2469 3576 \nQ 2541 3569 2628 3553 \nL 2631 2963 \nz\n\" transform=\"scale(0.015625)\"/>\n       <path id=\"DejaVuSans-61\" d=\"M 2194 1759 \nQ 1497 1759 1228 1600 \nQ 959 1441 959 1056 \nQ 959 750 1161 570 \nQ 1363 391 1709 391 \nQ 2188 391 2477 730 \nQ 2766 1069 2766 1631 \nL 2766 1759 \nL 2194 1759 \nz\nM 3341 1997 \nL 3341 0 \nL 2766 0 \nL 2766 531 \nQ 2569 213 2275 61 \nQ 1981 -91 1556 -91 \nQ 1019 -91 701 211 \nQ 384 513 384 1019 \nQ 384 1609 779 1909 \nQ 1175 2209 1959 2209 \nL 2766 2209 \nL 2766 2266 \nQ 2766 2663 2505 2880 \nQ 2244 3097 1772 3097 \nQ 1472 3097 1187 3025 \nQ 903 2953 641 2809 \nL 641 3341 \nQ 956 3463 1253 3523 \nQ 1550 3584 1831 3584 \nQ 2591 3584 2966 3190 \nQ 3341 2797 3341 1997 \nz\n\" transform=\"scale(0.015625)\"/>\n       <path id=\"DejaVuSans-69\" d=\"M 603 3500 \nL 1178 3500 \nL 1178 0 \nL 603 0 \nL 603 3500 \nz\nM 603 4863 \nL 1178 4863 \nL 1178 4134 \nL 603 4134 \nL 603 4863 \nz\n\" transform=\"scale(0.015625)\"/>\n       <path id=\"DejaVuSans-6e\" d=\"M 3513 2113 \nL 3513 0 \nL 2938 0 \nL 2938 2094 \nQ 2938 2591 2744 2837 \nQ 2550 3084 2163 3084 \nQ 1697 3084 1428 2787 \nQ 1159 2491 1159 1978 \nL 1159 0 \nL 581 0 \nL 581 3500 \nL 1159 3500 \nL 1159 2956 \nQ 1366 3272 1645 3428 \nQ 1925 3584 2291 3584 \nQ 2894 3584 3203 3211 \nQ 3513 2838 3513 2113 \nz\n\" transform=\"scale(0.015625)\"/>\n       <path id=\"DejaVuSans-67\" d=\"M 2906 1791 \nQ 2906 2416 2648 2759 \nQ 2391 3103 1925 3103 \nQ 1463 3103 1205 2759 \nQ 947 2416 947 1791 \nQ 947 1169 1205 825 \nQ 1463 481 1925 481 \nQ 2391 481 2648 825 \nQ 2906 1169 2906 1791 \nz\nM 3481 434 \nQ 3481 -459 3084 -895 \nQ 2688 -1331 1869 -1331 \nQ 1566 -1331 1297 -1286 \nQ 1028 -1241 775 -1147 \nL 775 -588 \nQ 1028 -725 1275 -790 \nQ 1522 -856 1778 -856 \nQ 2344 -856 2625 -561 \nQ 2906 -266 2906 331 \nL 2906 616 \nQ 2728 306 2450 153 \nQ 2172 0 1784 0 \nQ 1141 0 747 490 \nQ 353 981 353 1791 \nQ 353 2603 747 3093 \nQ 1141 3584 1784 3584 \nQ 2172 3584 2450 3431 \nQ 2728 3278 2906 2969 \nL 2906 3500 \nL 3481 3500 \nL 3481 434 \nz\n\" transform=\"scale(0.015625)\"/>\n       <path id=\"DejaVuSans-5f\" d=\"M 3263 -1063 \nL 3263 -1509 \nL -63 -1509 \nL -63 -1063 \nL 3263 -1063 \nz\n\" transform=\"scale(0.015625)\"/>\n       <path id=\"DejaVuSans-6c\" d=\"M 603 4863 \nL 1178 4863 \nL 1178 0 \nL 603 0 \nL 603 4863 \nz\n\" transform=\"scale(0.015625)\"/>\n      </defs>\n      <use xlink:href=\"#DejaVuSans-74\"/>\n      <use xlink:href=\"#DejaVuSans-72\" x=\"39.208984\"/>\n      <use xlink:href=\"#DejaVuSans-61\" x=\"80.322266\"/>\n      <use xlink:href=\"#DejaVuSans-69\" x=\"141.601562\"/>\n      <use xlink:href=\"#DejaVuSans-6e\" x=\"169.384766\"/>\n      <use xlink:href=\"#DejaVuSans-69\" x=\"232.763672\"/>\n      <use xlink:href=\"#DejaVuSans-6e\" x=\"260.546875\"/>\n      <use xlink:href=\"#DejaVuSans-67\" x=\"323.925781\"/>\n      <use xlink:href=\"#DejaVuSans-5f\" x=\"387.402344\"/>\n      <use xlink:href=\"#DejaVuSans-6c\" x=\"437.402344\"/>\n      <use xlink:href=\"#DejaVuSans-6f\" x=\"465.185547\"/>\n      <use xlink:href=\"#DejaVuSans-73\" x=\"526.367188\"/>\n      <use xlink:href=\"#DejaVuSans-73\" x=\"578.466797\"/>\n     </g>\n    </g>\n    <g id=\"line2d_21\">\n     <path d=\"M 271.210938 50.372812 \nL 281.210938 50.372812 \nL 291.210938 50.372812 \n\" style=\"fill: none; stroke: #feffb3; stroke-width: 1.5; stroke-linecap: square\"/>\n    </g>\n    <g id=\"text_21\">\n     <!-- val_loss -->\n     <g style=\"fill: #ffffff\" transform=\"translate(299.210938 53.872812)scale(0.1 -0.1)\">\n      <defs>\n       <path id=\"DejaVuSans-76\" d=\"M 191 3500 \nL 800 3500 \nL 1894 563 \nL 2988 3500 \nL 3597 3500 \nL 2284 0 \nL 1503 0 \nL 191 3500 \nz\n\" transform=\"scale(0.015625)\"/>\n      </defs>\n      <use xlink:href=\"#DejaVuSans-76\"/>\n      <use xlink:href=\"#DejaVuSans-61\" x=\"59.179688\"/>\n      <use xlink:href=\"#DejaVuSans-6c\" x=\"120.458984\"/>\n      <use xlink:href=\"#DejaVuSans-5f\" x=\"148.242188\"/>\n      <use xlink:href=\"#DejaVuSans-6c\" x=\"198.242188\"/>\n      <use xlink:href=\"#DejaVuSans-6f\" x=\"226.025391\"/>\n      <use xlink:href=\"#DejaVuSans-73\" x=\"287.207031\"/>\n      <use xlink:href=\"#DejaVuSans-73\" x=\"339.306641\"/>\n     </g>\n    </g>\n   </g>\n  </g>\n </g>\n <defs>\n  <clipPath id=\"pfab913603c\">\n   <rect x=\"36.465625\" y=\"22.318125\" width=\"334.8\" height=\"217.44\"/>\n  </clipPath>\n </defs>\n</svg>\n",
            "text/plain": [
              "<Figure size 432x288 with 1 Axes>"
            ]
          },
          "metadata": {},
          "output_type": "display_data"
        },
        {
          "data": {
            "image/png": "[encoded data removed]",
            "image/svg+xml": "<?xml version=\"1.0\" encoding=\"utf-8\" standalone=\"no\"?>\n<!DOCTYPE svg PUBLIC \"-//W3C//DTD SVG 1.1//EN\"\n  \"http://www.w3.org/Graphics/SVG/1.1/DTD/svg11.dtd\">\n<svg xmlns:xlink=\"http://www.w3.org/1999/xlink\" width=\"378.465625pt\" height=\"277.314375pt\" viewBox=\"0 0 378.465625 277.314375\" xmlns=\"http://www.w3.org/2000/svg\" version=\"1.1\">\n <metadata>\n  <rdf:RDF xmlns:dc=\"http://purl.org/dc/elements/1.1/\" xmlns:cc=\"http://creativecommons.org/ns#\" xmlns:rdf=\"http://www.w3.org/1999/02/22-rdf-syntax-ns#\">\n   <cc:Work>\n    <dc:type rdf:resource=\"http://purl.org/dc/dcmitype/StillImage\"/>\n    <dc:date>2022-06-28T20:40:12.839797</dc:date>\n    <dc:format>image/svg+xml</dc:format>\n    <dc:creator>\n     <cc:Agent>\n      <dc:title>Matplotlib v3.5.1, https://matplotlib.org/</dc:title>\n     </cc:Agent>\n    </dc:creator>\n   </cc:Work>\n  </rdf:RDF>\n </metadata>\n <defs>\n  <style type=\"text/css\">*{stroke-linejoin: round; stroke-linecap: butt}</style>\n </defs>\n <g id=\"figure_1\">\n  <g id=\"patch_1\">\n   <path d=\"M 0 277.314375 \nL 378.465625 277.314375 \nL 378.465625 0 \nL 0 0 \nz\n\"/>\n  </g>\n  <g id=\"axes_1\">\n   <g id=\"patch_2\">\n    <path d=\"M 36.465625 239.758125 \nL 371.265625 239.758125 \nL 371.265625 22.318125 \nL 36.465625 22.318125 \nz\n\"/>\n   </g>\n   <g id=\"matplotlib.axis_1\">\n    <g id=\"xtick_1\">\n     <g id=\"line2d_1\">\n      <defs>\n       <path id=\"m664624d9b1\" d=\"M 0 0 \nL 0 3.5 \n\" style=\"stroke: #ffffff; stroke-width: 0.8\"/>\n      </defs>\n      <g>\n       <use xlink:href=\"#m664624d9b1\" x=\"51.683807\" y=\"239.758125\" style=\"fill: #ffffff; stroke: #ffffff; stroke-width: 0.8\"/>\n      </g>\n     </g>\n     <g id=\"text_1\">\n      <!-- 0.0 -->\n      <g style=\"fill: #ffffff\" transform=\"translate(43.732244 254.356562)scale(0.1 -0.1)\">\n       <defs>\n        <path id=\"DejaVuSans-30\" d=\"M 2034 4250 \nQ 1547 4250 1301 3770 \nQ 1056 3291 1056 2328 \nQ 1056 1369 1301 889 \nQ 1547 409 2034 409 \nQ 2525 409 2770 889 \nQ 3016 1369 3016 2328 \nQ 3016 3291 2770 3770 \nQ 2525 4250 2034 4250 \nz\nM 2034 4750 \nQ 2819 4750 3233 4129 \nQ 3647 3509 3647 2328 \nQ 3647 1150 3233 529 \nQ 2819 -91 2034 -91 \nQ 1250 -91 836 529 \nQ 422 1150 422 2328 \nQ 422 3509 836 4129 \nQ 1250 4750 2034 4750 \nz\n\" transform=\"scale(0.015625)\"/>\n        <path id=\"DejaVuSans-2e\" d=\"M 684 794 \nL 1344 794 \nL 1344 0 \nL 684 0 \nL 684 794 \nz\n\" transform=\"scale(0.015625)\"/>\n       </defs>\n       <use xlink:href=\"#DejaVuSans-30\"/>\n       <use xlink:href=\"#DejaVuSans-2e\" x=\"63.623047\"/>\n       <use xlink:href=\"#DejaVuSans-30\" x=\"95.410156\"/>\n      </g>\n     </g>\n    </g>\n    <g id=\"xtick_2\">\n     <g id=\"line2d_2\">\n      <g>\n       <use xlink:href=\"#m664624d9b1\" x=\"89.729261\" y=\"239.758125\" style=\"fill: #ffffff; stroke: #ffffff; stroke-width: 0.8\"/>\n      </g>\n     </g>\n     <g id=\"text_2\">\n      <!-- 0.5 -->\n      <g style=\"fill: #ffffff\" transform=\"translate(81.777699 254.356562)scale(0.1 -0.1)\">\n       <defs>\n        <path id=\"DejaVuSans-35\" d=\"M 691 4666 \nL 3169 4666 \nL 3169 4134 \nL 1269 4134 \nL 1269 2991 \nQ 1406 3038 1543 3061 \nQ 1681 3084 1819 3084 \nQ 2600 3084 3056 2656 \nQ 3513 2228 3513 1497 \nQ 3513 744 3044 326 \nQ 2575 -91 1722 -91 \nQ 1428 -91 1123 -41 \nQ 819 9 494 109 \nL 494 744 \nQ 775 591 1075 516 \nQ 1375 441 1709 441 \nQ 2250 441 2565 725 \nQ 2881 1009 2881 1497 \nQ 2881 1984 2565 2268 \nQ 2250 2553 1709 2553 \nQ 1456 2553 1204 2497 \nQ 953 2441 691 2322 \nL 691 4666 \nz\n\" transform=\"scale(0.015625)\"/>\n       </defs>\n       <use xlink:href=\"#DejaVuSans-30\"/>\n       <use xlink:href=\"#DejaVuSans-2e\" x=\"63.623047\"/>\n       <use xlink:href=\"#DejaVuSans-35\" x=\"95.410156\"/>\n      </g>\n     </g>\n    </g>\n    <g id=\"xtick_3\">\n     <g id=\"line2d_3\">\n      <g>\n       <use xlink:href=\"#m664624d9b1\" x=\"127.774716\" y=\"239.758125\" style=\"fill: #ffffff; stroke: #ffffff; stroke-width: 0.8\"/>\n      </g>\n     </g>\n     <g id=\"text_3\">\n      <!-- 1.0 -->\n      <g style=\"fill: #ffffff\" transform=\"translate(119.823153 254.356562)scale(0.1 -0.1)\">\n       <defs>\n        <path id=\"DejaVuSans-31\" d=\"M 794 531 \nL 1825 531 \nL 1825 4091 \nL 703 3866 \nL 703 4441 \nL 1819 4666 \nL 2450 4666 \nL 2450 531 \nL 3481 531 \nL 3481 0 \nL 794 0 \nL 794 531 \nz\n\" transform=\"scale(0.015625)\"/>\n       </defs>\n       <use xlink:href=\"#DejaVuSans-31\"/>\n       <use xlink:href=\"#DejaVuSans-2e\" x=\"63.623047\"/>\n       <use xlink:href=\"#DejaVuSans-30\" x=\"95.410156\"/>\n      </g>\n     </g>\n    </g>\n    <g id=\"xtick_4\">\n     <g id=\"line2d_4\">\n      <g>\n       <use xlink:href=\"#m664624d9b1\" x=\"165.82017\" y=\"239.758125\" style=\"fill: #ffffff; stroke: #ffffff; stroke-width: 0.8\"/>\n      </g>\n     </g>\n     <g id=\"text_4\">\n      <!-- 1.5 -->\n      <g style=\"fill: #ffffff\" transform=\"translate(157.868608 254.356562)scale(0.1 -0.1)\">\n       <use xlink:href=\"#DejaVuSans-31\"/>\n       <use xlink:href=\"#DejaVuSans-2e\" x=\"63.623047\"/>\n       <use xlink:href=\"#DejaVuSans-35\" x=\"95.410156\"/>\n      </g>\n     </g>\n    </g>\n    <g id=\"xtick_5\">\n     <g id=\"line2d_5\">\n      <g>\n       <use xlink:href=\"#m664624d9b1\" x=\"203.865625\" y=\"239.758125\" style=\"fill: #ffffff; stroke: #ffffff; stroke-width: 0.8\"/>\n      </g>\n     </g>\n     <g id=\"text_5\">\n      <!-- 2.0 -->\n      <g style=\"fill: #ffffff\" transform=\"translate(195.914063 254.356562)scale(0.1 -0.1)\">\n       <defs>\n        <path id=\"DejaVuSans-32\" d=\"M 1228 531 \nL 3431 531 \nL 3431 0 \nL 469 0 \nL 469 531 \nQ 828 903 1448 1529 \nQ 2069 2156 2228 2338 \nQ 2531 2678 2651 2914 \nQ 2772 3150 2772 3378 \nQ 2772 3750 2511 3984 \nQ 2250 4219 1831 4219 \nQ 1534 4219 1204 4116 \nQ 875 4013 500 3803 \nL 500 4441 \nQ 881 4594 1212 4672 \nQ 1544 4750 1819 4750 \nQ 2544 4750 2975 4387 \nQ 3406 4025 3406 3419 \nQ 3406 3131 3298 2873 \nQ 3191 2616 2906 2266 \nQ 2828 2175 2409 1742 \nQ 1991 1309 1228 531 \nz\n\" transform=\"scale(0.015625)\"/>\n       </defs>\n       <use xlink:href=\"#DejaVuSans-32\"/>\n       <use xlink:href=\"#DejaVuSans-2e\" x=\"63.623047\"/>\n       <use xlink:href=\"#DejaVuSans-30\" x=\"95.410156\"/>\n      </g>\n     </g>\n    </g>\n    <g id=\"xtick_6\">\n     <g id=\"line2d_6\">\n      <g>\n       <use xlink:href=\"#m664624d9b1\" x=\"241.91108\" y=\"239.758125\" style=\"fill: #ffffff; stroke: #ffffff; stroke-width: 0.8\"/>\n      </g>\n     </g>\n     <g id=\"text_6\">\n      <!-- 2.5 -->\n      <g style=\"fill: #ffffff\" transform=\"translate(233.959517 254.356562)scale(0.1 -0.1)\">\n       <use xlink:href=\"#DejaVuSans-32\"/>\n       <use xlink:href=\"#DejaVuSans-2e\" x=\"63.623047\"/>\n       <use xlink:href=\"#DejaVuSans-35\" x=\"95.410156\"/>\n      </g>\n     </g>\n    </g>\n    <g id=\"xtick_7\">\n     <g id=\"line2d_7\">\n      <g>\n       <use xlink:href=\"#m664624d9b1\" x=\"279.956534\" y=\"239.758125\" style=\"fill: #ffffff; stroke: #ffffff; stroke-width: 0.8\"/>\n      </g>\n     </g>\n     <g id=\"text_7\">\n      <!-- 3.0 -->\n      <g style=\"fill: #ffffff\" transform=\"translate(272.004972 254.356562)scale(0.1 -0.1)\">\n       <defs>\n        <path id=\"DejaVuSans-33\" d=\"M 2597 2516 \nQ 3050 2419 3304 2112 \nQ 3559 1806 3559 1356 \nQ 3559 666 3084 287 \nQ 2609 -91 1734 -91 \nQ 1441 -91 1130 -33 \nQ 819 25 488 141 \nL 488 750 \nQ 750 597 1062 519 \nQ 1375 441 1716 441 \nQ 2309 441 2620 675 \nQ 2931 909 2931 1356 \nQ 2931 1769 2642 2001 \nQ 2353 2234 1838 2234 \nL 1294 2234 \nL 1294 2753 \nL 1863 2753 \nQ 2328 2753 2575 2939 \nQ 2822 3125 2822 3475 \nQ 2822 3834 2567 4026 \nQ 2313 4219 1838 4219 \nQ 1578 4219 1281 4162 \nQ 984 4106 628 3988 \nL 628 4550 \nQ 988 4650 1302 4700 \nQ 1616 4750 1894 4750 \nQ 2613 4750 3031 4423 \nQ 3450 4097 3450 3541 \nQ 3450 3153 3228 2886 \nQ 3006 2619 2597 2516 \nz\n\" transform=\"scale(0.015625)\"/>\n       </defs>\n       <use xlink:href=\"#DejaVuSans-33\"/>\n       <use xlink:href=\"#DejaVuSans-2e\" x=\"63.623047\"/>\n       <use xlink:href=\"#DejaVuSans-30\" x=\"95.410156\"/>\n      </g>\n     </g>\n    </g>\n    <g id=\"xtick_8\">\n     <g id=\"line2d_8\">\n      <g>\n       <use xlink:href=\"#m664624d9b1\" x=\"318.001989\" y=\"239.758125\" style=\"fill: #ffffff; stroke: #ffffff; stroke-width: 0.8\"/>\n      </g>\n     </g>\n     <g id=\"text_8\">\n      <!-- 3.5 -->\n      <g style=\"fill: #ffffff\" transform=\"translate(310.050426 254.356562)scale(0.1 -0.1)\">\n       <use xlink:href=\"#DejaVuSans-33\"/>\n       <use xlink:href=\"#DejaVuSans-2e\" x=\"63.623047\"/>\n       <use xlink:href=\"#DejaVuSans-35\" x=\"95.410156\"/>\n      </g>\n     </g>\n    </g>\n    <g id=\"xtick_9\">\n     <g id=\"line2d_9\">\n      <g>\n       <use xlink:href=\"#m664624d9b1\" x=\"356.047443\" y=\"239.758125\" style=\"fill: #ffffff; stroke: #ffffff; stroke-width: 0.8\"/>\n      </g>\n     </g>\n     <g id=\"text_9\">\n      <!-- 4.0 -->\n      <g style=\"fill: #ffffff\" transform=\"translate(348.095881 254.356562)scale(0.1 -0.1)\">\n       <defs>\n        <path id=\"DejaVuSans-34\" d=\"M 2419 4116 \nL 825 1625 \nL 2419 1625 \nL 2419 4116 \nz\nM 2253 4666 \nL 3047 4666 \nL 3047 1625 \nL 3713 1625 \nL 3713 1100 \nL 3047 1100 \nL 3047 0 \nL 2419 0 \nL 2419 1100 \nL 313 1100 \nL 313 1709 \nL 2253 4666 \nz\n\" transform=\"scale(0.015625)\"/>\n       </defs>\n       <use xlink:href=\"#DejaVuSans-34\"/>\n       <use xlink:href=\"#DejaVuSans-2e\" x=\"63.623047\"/>\n       <use xlink:href=\"#DejaVuSans-30\" x=\"95.410156\"/>\n      </g>\n     </g>\n    </g>\n    <g id=\"text_10\">\n     <!-- Epochs -->\n     <g style=\"fill: #ffffff\" transform=\"translate(185.95 268.034687)scale(0.1 -0.1)\">\n      <defs>\n       <path id=\"DejaVuSans-45\" d=\"M 628 4666 \nL 3578 4666 \nL 3578 4134 \nL 1259 4134 \nL 1259 2753 \nL 3481 2753 \nL 3481 2222 \nL 1259 2222 \nL 1259 531 \nL 3634 531 \nL 3634 0 \nL 628 0 \nL 628 4666 \nz\n\" transform=\"scale(0.015625)\"/>\n       <path id=\"DejaVuSans-70\" d=\"M 1159 525 \nL 1159 -1331 \nL 581 -1331 \nL 581 3500 \nL 1159 3500 \nL 1159 2969 \nQ 1341 3281 1617 3432 \nQ 1894 3584 2278 3584 \nQ 2916 3584 3314 3078 \nQ 3713 2572 3713 1747 \nQ 3713 922 3314 415 \nQ 2916 -91 2278 -91 \nQ 1894 -91 1617 61 \nQ 1341 213 1159 525 \nz\nM 3116 1747 \nQ 3116 2381 2855 2742 \nQ 2594 3103 2138 3103 \nQ 1681 3103 1420 2742 \nQ 1159 2381 1159 1747 \nQ 1159 1113 1420 752 \nQ 1681 391 2138 391 \nQ 2594 391 2855 752 \nQ 3116 1113 3116 1747 \nz\n\" transform=\"scale(0.015625)\"/>\n       <path id=\"DejaVuSans-6f\" d=\"M 1959 3097 \nQ 1497 3097 1228 2736 \nQ 959 2375 959 1747 \nQ 959 1119 1226 758 \nQ 1494 397 1959 397 \nQ 2419 397 2687 759 \nQ 2956 1122 2956 1747 \nQ 2956 2369 2687 2733 \nQ 2419 3097 1959 3097 \nz\nM 1959 3584 \nQ 2709 3584 3137 3096 \nQ 3566 2609 3566 1747 \nQ 3566 888 3137 398 \nQ 2709 -91 1959 -91 \nQ 1206 -91 779 398 \nQ 353 888 353 1747 \nQ 353 2609 779 3096 \nQ 1206 3584 1959 3584 \nz\n\" transform=\"scale(0.015625)\"/>\n       <path id=\"DejaVuSans-63\" d=\"M 3122 3366 \nL 3122 2828 \nQ 2878 2963 2633 3030 \nQ 2388 3097 2138 3097 \nQ 1578 3097 1268 2742 \nQ 959 2388 959 1747 \nQ 959 1106 1268 751 \nQ 1578 397 2138 397 \nQ 2388 397 2633 464 \nQ 2878 531 3122 666 \nL 3122 134 \nQ 2881 22 2623 -34 \nQ 2366 -91 2075 -91 \nQ 1284 -91 818 406 \nQ 353 903 353 1747 \nQ 353 2603 823 3093 \nQ 1294 3584 2113 3584 \nQ 2378 3584 2631 3529 \nQ 2884 3475 3122 3366 \nz\n\" transform=\"scale(0.015625)\"/>\n       <path id=\"DejaVuSans-68\" d=\"M 3513 2113 \nL 3513 0 \nL 2938 0 \nL 2938 2094 \nQ 2938 2591 2744 2837 \nQ 2550 3084 2163 3084 \nQ 1697 3084 1428 2787 \nQ 1159 2491 1159 1978 \nL 1159 0 \nL 581 0 \nL 581 4863 \nL 1159 4863 \nL 1159 2956 \nQ 1366 3272 1645 3428 \nQ 1925 3584 2291 3584 \nQ 2894 3584 3203 3211 \nQ 3513 2838 3513 2113 \nz\n\" transform=\"scale(0.015625)\"/>\n       <path id=\"DejaVuSans-73\" d=\"M 2834 3397 \nL 2834 2853 \nQ 2591 2978 2328 3040 \nQ 2066 3103 1784 3103 \nQ 1356 3103 1142 2972 \nQ 928 2841 928 2578 \nQ 928 2378 1081 2264 \nQ 1234 2150 1697 2047 \nL 1894 2003 \nQ 2506 1872 2764 1633 \nQ 3022 1394 3022 966 \nQ 3022 478 2636 193 \nQ 2250 -91 1575 -91 \nQ 1294 -91 989 -36 \nQ 684 19 347 128 \nL 347 722 \nQ 666 556 975 473 \nQ 1284 391 1588 391 \nQ 1994 391 2212 530 \nQ 2431 669 2431 922 \nQ 2431 1156 2273 1281 \nQ 2116 1406 1581 1522 \nL 1381 1569 \nQ 847 1681 609 1914 \nQ 372 2147 372 2553 \nQ 372 3047 722 3315 \nQ 1072 3584 1716 3584 \nQ 2034 3584 2315 3537 \nQ 2597 3491 2834 3397 \nz\n\" transform=\"scale(0.015625)\"/>\n      </defs>\n      <use xlink:href=\"#DejaVuSans-45\"/>\n      <use xlink:href=\"#DejaVuSans-70\" x=\"63.183594\"/>\n      <use xlink:href=\"#DejaVuSans-6f\" x=\"126.660156\"/>\n      <use xlink:href=\"#DejaVuSans-63\" x=\"187.841797\"/>\n      <use xlink:href=\"#DejaVuSans-68\" x=\"242.822266\"/>\n      <use xlink:href=\"#DejaVuSans-73\" x=\"306.201172\"/>\n     </g>\n    </g>\n   </g>\n   <g id=\"matplotlib.axis_2\">\n    <g id=\"ytick_1\">\n     <g id=\"line2d_10\">\n      <defs>\n       <path id=\"m820507b25c\" d=\"M 0 0 \nL -3.5 0 \n\" style=\"stroke: #ffffff; stroke-width: 0.8\"/>\n      </defs>\n      <g>\n       <use xlink:href=\"#m820507b25c\" x=\"36.465625\" y=\"226.509159\" style=\"fill: #ffffff; stroke: #ffffff; stroke-width: 0.8\"/>\n      </g>\n     </g>\n     <g id=\"text_11\">\n      <!-- 0.25 -->\n      <g style=\"fill: #ffffff\" transform=\"translate(7.2 230.308378)scale(0.1 -0.1)\">\n       <use xlink:href=\"#DejaVuSans-30\"/>\n       <use xlink:href=\"#DejaVuSans-2e\" x=\"63.623047\"/>\n       <use xlink:href=\"#DejaVuSans-32\" x=\"95.410156\"/>\n       <use xlink:href=\"#DejaVuSans-35\" x=\"159.033203\"/>\n      </g>\n     </g>\n    </g>\n    <g id=\"ytick_2\">\n     <g id=\"line2d_11\">\n      <g>\n       <use xlink:href=\"#m820507b25c\" x=\"36.465625\" y=\"199.244577\" style=\"fill: #ffffff; stroke: #ffffff; stroke-width: 0.8\"/>\n      </g>\n     </g>\n     <g id=\"text_12\">\n      <!-- 0.30 -->\n      <g style=\"fill: #ffffff\" transform=\"translate(7.2 203.043796)scale(0.1 -0.1)\">\n       <use xlink:href=\"#DejaVuSans-30\"/>\n       <use xlink:href=\"#DejaVuSans-2e\" x=\"63.623047\"/>\n       <use xlink:href=\"#DejaVuSans-33\" x=\"95.410156\"/>\n       <use xlink:href=\"#DejaVuSans-30\" x=\"159.033203\"/>\n      </g>\n     </g>\n    </g>\n    <g id=\"ytick_3\">\n     <g id=\"line2d_12\">\n      <g>\n       <use xlink:href=\"#m820507b25c\" x=\"36.465625\" y=\"171.979995\" style=\"fill: #ffffff; stroke: #ffffff; stroke-width: 0.8\"/>\n      </g>\n     </g>\n     <g id=\"text_13\">\n      <!-- 0.35 -->\n      <g style=\"fill: #ffffff\" transform=\"translate(7.2 175.779214)scale(0.1 -0.1)\">\n       <use xlink:href=\"#DejaVuSans-30\"/>\n       <use xlink:href=\"#DejaVuSans-2e\" x=\"63.623047\"/>\n       <use xlink:href=\"#DejaVuSans-33\" x=\"95.410156\"/>\n       <use xlink:href=\"#DejaVuSans-35\" x=\"159.033203\"/>\n      </g>\n     </g>\n    </g>\n    <g id=\"ytick_4\">\n     <g id=\"line2d_13\">\n      <g>\n       <use xlink:href=\"#m820507b25c\" x=\"36.465625\" y=\"144.715413\" style=\"fill: #ffffff; stroke: #ffffff; stroke-width: 0.8\"/>\n      </g>\n     </g>\n     <g id=\"text_14\">\n      <!-- 0.40 -->\n      <g style=\"fill: #ffffff\" transform=\"translate(7.2 148.514632)scale(0.1 -0.1)\">\n       <use xlink:href=\"#DejaVuSans-30\"/>\n       <use xlink:href=\"#DejaVuSans-2e\" x=\"63.623047\"/>\n       <use xlink:href=\"#DejaVuSans-34\" x=\"95.410156\"/>\n       <use xlink:href=\"#DejaVuSans-30\" x=\"159.033203\"/>\n      </g>\n     </g>\n    </g>\n    <g id=\"ytick_5\">\n     <g id=\"line2d_14\">\n      <g>\n       <use xlink:href=\"#m820507b25c\" x=\"36.465625\" y=\"117.450831\" style=\"fill: #ffffff; stroke: #ffffff; stroke-width: 0.8\"/>\n      </g>\n     </g>\n     <g id=\"text_15\">\n      <!-- 0.45 -->\n      <g style=\"fill: #ffffff\" transform=\"translate(7.2 121.25005)scale(0.1 -0.1)\">\n       <use xlink:href=\"#DejaVuSans-30\"/>\n       <use xlink:href=\"#DejaVuSans-2e\" x=\"63.623047\"/>\n       <use xlink:href=\"#DejaVuSans-34\" x=\"95.410156\"/>\n       <use xlink:href=\"#DejaVuSans-35\" x=\"159.033203\"/>\n      </g>\n     </g>\n    </g>\n    <g id=\"ytick_6\">\n     <g id=\"line2d_15\">\n      <g>\n       <use xlink:href=\"#m820507b25c\" x=\"36.465625\" y=\"90.186249\" style=\"fill: #ffffff; stroke: #ffffff; stroke-width: 0.8\"/>\n      </g>\n     </g>\n     <g id=\"text_16\">\n      <!-- 0.50 -->\n      <g style=\"fill: #ffffff\" transform=\"translate(7.2 93.985468)scale(0.1 -0.1)\">\n       <use xlink:href=\"#DejaVuSans-30\"/>\n       <use xlink:href=\"#DejaVuSans-2e\" x=\"63.623047\"/>\n       <use xlink:href=\"#DejaVuSans-35\" x=\"95.410156\"/>\n       <use xlink:href=\"#DejaVuSans-30\" x=\"159.033203\"/>\n      </g>\n     </g>\n    </g>\n    <g id=\"ytick_7\">\n     <g id=\"line2d_16\">\n      <g>\n       <use xlink:href=\"#m820507b25c\" x=\"36.465625\" y=\"62.921667\" style=\"fill: #ffffff; stroke: #ffffff; stroke-width: 0.8\"/>\n      </g>\n     </g>\n     <g id=\"text_17\">\n      <!-- 0.55 -->\n      <g style=\"fill: #ffffff\" transform=\"translate(7.2 66.720886)scale(0.1 -0.1)\">\n       <use xlink:href=\"#DejaVuSans-30\"/>\n       <use xlink:href=\"#DejaVuSans-2e\" x=\"63.623047\"/>\n       <use xlink:href=\"#DejaVuSans-35\" x=\"95.410156\"/>\n       <use xlink:href=\"#DejaVuSans-35\" x=\"159.033203\"/>\n      </g>\n     </g>\n    </g>\n    <g id=\"ytick_8\">\n     <g id=\"line2d_17\">\n      <g>\n       <use xlink:href=\"#m820507b25c\" x=\"36.465625\" y=\"35.657085\" style=\"fill: #ffffff; stroke: #ffffff; stroke-width: 0.8\"/>\n      </g>\n     </g>\n     <g id=\"text_18\">\n      <!-- 0.60 -->\n      <g style=\"fill: #ffffff\" transform=\"translate(7.2 39.456304)scale(0.1 -0.1)\">\n       <defs>\n        <path id=\"DejaVuSans-36\" d=\"M 2113 2584 \nQ 1688 2584 1439 2293 \nQ 1191 2003 1191 1497 \nQ 1191 994 1439 701 \nQ 1688 409 2113 409 \nQ 2538 409 2786 701 \nQ 3034 994 3034 1497 \nQ 3034 2003 2786 2293 \nQ 2538 2584 2113 2584 \nz\nM 3366 4563 \nL 3366 3988 \nQ 3128 4100 2886 4159 \nQ 2644 4219 2406 4219 \nQ 1781 4219 1451 3797 \nQ 1122 3375 1075 2522 \nQ 1259 2794 1537 2939 \nQ 1816 3084 2150 3084 \nQ 2853 3084 3261 2657 \nQ 3669 2231 3669 1497 \nQ 3669 778 3244 343 \nQ 2819 -91 2113 -91 \nQ 1303 -91 875 529 \nQ 447 1150 447 2328 \nQ 447 3434 972 4092 \nQ 1497 4750 2381 4750 \nQ 2619 4750 2861 4703 \nQ 3103 4656 3366 4563 \nz\n\" transform=\"scale(0.015625)\"/>\n       </defs>\n       <use xlink:href=\"#DejaVuSans-30\"/>\n       <use xlink:href=\"#DejaVuSans-2e\" x=\"63.623047\"/>\n       <use xlink:href=\"#DejaVuSans-36\" x=\"95.410156\"/>\n       <use xlink:href=\"#DejaVuSans-30\" x=\"159.033203\"/>\n      </g>\n     </g>\n    </g>\n   </g>\n   <g id=\"line2d_18\">\n    <path d=\"M 51.683807 229.874489 \nL 127.774716 112.393832 \nL 203.865625 74.097444 \nL 279.956534 49.982226 \nL 356.047443 32.201761 \n\" clip-path=\"url(#pdd620a2420)\" style=\"fill: none; stroke: #8dd3c7; stroke-width: 1.5; stroke-linecap: square\"/>\n   </g>\n   <g id=\"line2d_19\">\n    <path d=\"M 51.683807 131.920706 \nL 127.774716 101.161398 \nL 203.865625 95.81823 \nL 279.956534 88.742157 \nL 356.047443 84.265441 \n\" clip-path=\"url(#pdd620a2420)\" style=\"fill: none; stroke: #feffb3; stroke-width: 1.5; stroke-linecap: square\"/>\n   </g>\n   <g id=\"patch_3\">\n    <path d=\"M 36.465625 239.758125 \nL 36.465625 22.318125 \n\" style=\"fill: none; stroke: #ffffff; stroke-width: 0.8; stroke-linejoin: miter; stroke-linecap: square\"/>\n   </g>\n   <g id=\"patch_4\">\n    <path d=\"M 371.265625 239.758125 \nL 371.265625 22.318125 \n\" style=\"fill: none; stroke: #ffffff; stroke-width: 0.8; stroke-linejoin: miter; stroke-linecap: square\"/>\n   </g>\n   <g id=\"patch_5\">\n    <path d=\"M 36.465625 239.758125 \nL 371.265625 239.758125 \n\" style=\"fill: none; stroke: #ffffff; stroke-width: 0.8; stroke-linejoin: miter; stroke-linecap: square\"/>\n   </g>\n   <g id=\"patch_6\">\n    <path d=\"M 36.465625 22.318125 \nL 371.265625 22.318125 \n\" style=\"fill: none; stroke: #ffffff; stroke-width: 0.8; stroke-linejoin: miter; stroke-linecap: square\"/>\n   </g>\n   <g id=\"text_19\">\n    <!-- Accuracy -->\n    <g style=\"fill: #ffffff\" transform=\"translate(176.471875 16.318125)scale(0.12 -0.12)\">\n     <defs>\n      <path id=\"DejaVuSans-41\" d=\"M 2188 4044 \nL 1331 1722 \nL 3047 1722 \nL 2188 4044 \nz\nM 1831 4666 \nL 2547 4666 \nL 4325 0 \nL 3669 0 \nL 3244 1197 \nL 1141 1197 \nL 716 0 \nL 50 0 \nL 1831 4666 \nz\n\" transform=\"scale(0.015625)\"/>\n      <path id=\"DejaVuSans-75\" d=\"M 544 1381 \nL 544 3500 \nL 1119 3500 \nL 1119 1403 \nQ 1119 906 1312 657 \nQ 1506 409 1894 409 \nQ 2359 409 2629 706 \nQ 2900 1003 2900 1516 \nL 2900 3500 \nL 3475 3500 \nL 3475 0 \nL 2900 0 \nL 2900 538 \nQ 2691 219 2414 64 \nQ 2138 -91 1772 -91 \nQ 1169 -91 856 284 \nQ 544 659 544 1381 \nz\nM 1991 3584 \nL 1991 3584 \nz\n\" transform=\"scale(0.015625)\"/>\n      <path id=\"DejaVuSans-72\" d=\"M 2631 2963 \nQ 2534 3019 2420 3045 \nQ 2306 3072 2169 3072 \nQ 1681 3072 1420 2755 \nQ 1159 2438 1159 1844 \nL 1159 0 \nL 581 0 \nL 581 3500 \nL 1159 3500 \nL 1159 2956 \nQ 1341 3275 1631 3429 \nQ 1922 3584 2338 3584 \nQ 2397 3584 2469 3576 \nQ 2541 3569 2628 3553 \nL 2631 2963 \nz\n\" transform=\"scale(0.015625)\"/>\n      <path id=\"DejaVuSans-61\" d=\"M 2194 1759 \nQ 1497 1759 1228 1600 \nQ 959 1441 959 1056 \nQ 959 750 1161 570 \nQ 1363 391 1709 391 \nQ 2188 391 2477 730 \nQ 2766 1069 2766 1631 \nL 2766 1759 \nL 2194 1759 \nz\nM 3341 1997 \nL 3341 0 \nL 2766 0 \nL 2766 531 \nQ 2569 213 2275 61 \nQ 1981 -91 1556 -91 \nQ 1019 -91 701 211 \nQ 384 513 384 1019 \nQ 384 1609 779 1909 \nQ 1175 2209 1959 2209 \nL 2766 2209 \nL 2766 2266 \nQ 2766 2663 2505 2880 \nQ 2244 3097 1772 3097 \nQ 1472 3097 1187 3025 \nQ 903 2953 641 2809 \nL 641 3341 \nQ 956 3463 1253 3523 \nQ 1550 3584 1831 3584 \nQ 2591 3584 2966 3190 \nQ 3341 2797 3341 1997 \nz\n\" transform=\"scale(0.015625)\"/>\n      <path id=\"DejaVuSans-79\" d=\"M 2059 -325 \nQ 1816 -950 1584 -1140 \nQ 1353 -1331 966 -1331 \nL 506 -1331 \nL 506 -850 \nL 844 -850 \nQ 1081 -850 1212 -737 \nQ 1344 -625 1503 -206 \nL 1606 56 \nL 191 3500 \nL 800 3500 \nL 1894 763 \nL 2988 3500 \nL 3597 3500 \nL 2059 -325 \nz\n\" transform=\"scale(0.015625)\"/>\n     </defs>\n     <use xlink:href=\"#DejaVuSans-41\"/>\n     <use xlink:href=\"#DejaVuSans-63\" x=\"66.658203\"/>\n     <use xlink:href=\"#DejaVuSans-63\" x=\"121.638672\"/>\n     <use xlink:href=\"#DejaVuSans-75\" x=\"176.619141\"/>\n     <use xlink:href=\"#DejaVuSans-72\" x=\"239.998047\"/>\n     <use xlink:href=\"#DejaVuSans-61\" x=\"281.111328\"/>\n     <use xlink:href=\"#DejaVuSans-63\" x=\"342.390625\"/>\n     <use xlink:href=\"#DejaVuSans-79\" x=\"397.371094\"/>\n    </g>\n   </g>\n   <g id=\"legend_1\">\n    <g id=\"patch_7\">\n     <path d=\"M 43.465625 60.230625 \nL 164.323438 60.230625 \nQ 166.323438 60.230625 166.323438 58.230625 \nL 166.323438 29.318125 \nQ 166.323438 27.318125 164.323438 27.318125 \nL 43.465625 27.318125 \nQ 41.465625 27.318125 41.465625 29.318125 \nL 41.465625 58.230625 \nQ 41.465625 60.230625 43.465625 60.230625 \nz\n\" style=\"opacity: 0.8; stroke: #cccccc; stroke-linejoin: miter\"/>\n    </g>\n    <g id=\"line2d_20\">\n     <path d=\"M 45.465625 35.416562 \nL 55.465625 35.416562 \nL 65.465625 35.416562 \n\" style=\"fill: none; stroke: #8dd3c7; stroke-width: 1.5; stroke-linecap: square\"/>\n    </g>\n    <g id=\"text_20\">\n     <!-- training_accuracy -->\n     <g style=\"fill: #ffffff\" transform=\"translate(73.465625 38.916562)scale(0.1 -0.1)\">\n      <defs>\n       <path id=\"DejaVuSans-74\" d=\"M 1172 4494 \nL 1172 3500 \nL 2356 3500 \nL 2356 3053 \nL 1172 3053 \nL 1172 1153 \nQ 1172 725 1289 603 \nQ 1406 481 1766 481 \nL 2356 481 \nL 2356 0 \nL 1766 0 \nQ 1100 0 847 248 \nQ 594 497 594 1153 \nL 594 3053 \nL 172 3053 \nL 172 3500 \nL 594 3500 \nL 594 4494 \nL 1172 4494 \nz\n\" transform=\"scale(0.015625)\"/>\n       <path id=\"DejaVuSans-69\" d=\"M 603 3500 \nL 1178 3500 \nL 1178 0 \nL 603 0 \nL 603 3500 \nz\nM 603 4863 \nL 1178 4863 \nL 1178 4134 \nL 603 4134 \nL 603 4863 \nz\n\" transform=\"scale(0.015625)\"/>\n       <path id=\"DejaVuSans-6e\" d=\"M 3513 2113 \nL 3513 0 \nL 2938 0 \nL 2938 2094 \nQ 2938 2591 2744 2837 \nQ 2550 3084 2163 3084 \nQ 1697 3084 1428 2787 \nQ 1159 2491 1159 1978 \nL 1159 0 \nL 581 0 \nL 581 3500 \nL 1159 3500 \nL 1159 2956 \nQ 1366 3272 1645 3428 \nQ 1925 3584 2291 3584 \nQ 2894 3584 3203 3211 \nQ 3513 2838 3513 2113 \nz\n\" transform=\"scale(0.015625)\"/>\n       <path id=\"DejaVuSans-67\" d=\"M 2906 1791 \nQ 2906 2416 2648 2759 \nQ 2391 3103 1925 3103 \nQ 1463 3103 1205 2759 \nQ 947 2416 947 1791 \nQ 947 1169 1205 825 \nQ 1463 481 1925 481 \nQ 2391 481 2648 825 \nQ 2906 1169 2906 1791 \nz\nM 3481 434 \nQ 3481 -459 3084 -895 \nQ 2688 -1331 1869 -1331 \nQ 1566 -1331 1297 -1286 \nQ 1028 -1241 775 -1147 \nL 775 -588 \nQ 1028 -725 1275 -790 \nQ 1522 -856 1778 -856 \nQ 2344 -856 2625 -561 \nQ 2906 -266 2906 331 \nL 2906 616 \nQ 2728 306 2450 153 \nQ 2172 0 1784 0 \nQ 1141 0 747 490 \nQ 353 981 353 1791 \nQ 353 2603 747 3093 \nQ 1141 3584 1784 3584 \nQ 2172 3584 2450 3431 \nQ 2728 3278 2906 2969 \nL 2906 3500 \nL 3481 3500 \nL 3481 434 \nz\n\" transform=\"scale(0.015625)\"/>\n       <path id=\"DejaVuSans-5f\" d=\"M 3263 -1063 \nL 3263 -1509 \nL -63 -1509 \nL -63 -1063 \nL 3263 -1063 \nz\n\" transform=\"scale(0.015625)\"/>\n      </defs>\n      <use xlink:href=\"#DejaVuSans-74\"/>\n      <use xlink:href=\"#DejaVuSans-72\" x=\"39.208984\"/>\n      <use xlink:href=\"#DejaVuSans-61\" x=\"80.322266\"/>\n      <use xlink:href=\"#DejaVuSans-69\" x=\"141.601562\"/>\n      <use xlink:href=\"#DejaVuSans-6e\" x=\"169.384766\"/>\n      <use xlink:href=\"#DejaVuSans-69\" x=\"232.763672\"/>\n      <use xlink:href=\"#DejaVuSans-6e\" x=\"260.546875\"/>\n      <use xlink:href=\"#DejaVuSans-67\" x=\"323.925781\"/>\n      <use xlink:href=\"#DejaVuSans-5f\" x=\"387.402344\"/>\n      <use xlink:href=\"#DejaVuSans-61\" x=\"437.402344\"/>\n      <use xlink:href=\"#DejaVuSans-63\" x=\"498.681641\"/>\n      <use xlink:href=\"#DejaVuSans-63\" x=\"553.662109\"/>\n      <use xlink:href=\"#DejaVuSans-75\" x=\"608.642578\"/>\n      <use xlink:href=\"#DejaVuSans-72\" x=\"672.021484\"/>\n      <use xlink:href=\"#DejaVuSans-61\" x=\"713.134766\"/>\n      <use xlink:href=\"#DejaVuSans-63\" x=\"774.414062\"/>\n      <use xlink:href=\"#DejaVuSans-79\" x=\"829.394531\"/>\n     </g>\n    </g>\n    <g id=\"line2d_21\">\n     <path d=\"M 45.465625 50.372812 \nL 55.465625 50.372812 \nL 65.465625 50.372812 \n\" style=\"fill: none; stroke: #feffb3; stroke-width: 1.5; stroke-linecap: square\"/>\n    </g>\n    <g id=\"text_21\">\n     <!-- val_accuracy -->\n     <g style=\"fill: #ffffff\" transform=\"translate(73.465625 53.872812)scale(0.1 -0.1)\">\n      <defs>\n       <path id=\"DejaVuSans-76\" d=\"M 191 3500 \nL 800 3500 \nL 1894 563 \nL 2988 3500 \nL 3597 3500 \nL 2284 0 \nL 1503 0 \nL 191 3500 \nz\n\" transform=\"scale(0.015625)\"/>\n       <path id=\"DejaVuSans-6c\" d=\"M 603 4863 \nL 1178 4863 \nL 1178 0 \nL 603 0 \nL 603 4863 \nz\n\" transform=\"scale(0.015625)\"/>\n      </defs>\n      <use xlink:href=\"#DejaVuSans-76\"/>\n      <use xlink:href=\"#DejaVuSans-61\" x=\"59.179688\"/>\n      <use xlink:href=\"#DejaVuSans-6c\" x=\"120.458984\"/>\n      <use xlink:href=\"#DejaVuSans-5f\" x=\"148.242188\"/>\n      <use xlink:href=\"#DejaVuSans-61\" x=\"198.242188\"/>\n      <use xlink:href=\"#DejaVuSans-63\" x=\"259.521484\"/>\n      <use xlink:href=\"#DejaVuSans-63\" x=\"314.501953\"/>\n      <use xlink:href=\"#DejaVuSans-75\" x=\"369.482422\"/>\n      <use xlink:href=\"#DejaVuSans-72\" x=\"432.861328\"/>\n      <use xlink:href=\"#DejaVuSans-61\" x=\"473.974609\"/>\n      <use xlink:href=\"#DejaVuSans-63\" x=\"535.253906\"/>\n      <use xlink:href=\"#DejaVuSans-79\" x=\"590.234375\"/>\n     </g>\n    </g>\n   </g>\n  </g>\n </g>\n <defs>\n  <clipPath id=\"pdd620a2420\">\n   <rect x=\"36.465625\" y=\"22.318125\" width=\"334.8\" height=\"217.44\"/>\n  </clipPath>\n </defs>\n</svg>\n",
            "text/plain": [
              "<Figure size 432x288 with 1 Axes>"
            ]
          },
          "metadata": {},
          "output_type": "display_data"
        }
      ],
      "source": [
        "plot_loss_curves(history_all_classes_10_percent)"
      ]
    },
    {
      "cell_type": "markdown",
      "metadata": {},
      "source": [
        "> 🤔 **Question:** What do these curves suggest? Hint: Ideally, the two curves should be pretty similar to each other, if not it may suggest that our model is overfitting (performing too well on the training data and not generalizing to unseen data)."
      ]
    },
    {
      "cell_type": "markdown",
      "metadata": {},
      "source": [
        "## Fine-tuning"
      ]
    },
    {
      "cell_type": "code",
      "execution_count": 16,
      "metadata": {},
      "outputs": [],
      "source": [
        "# Unfreeze all of the layers in the base model\n",
        "base_model.trainable = True\n",
        "\n",
        "# Refreeze verey layer except the last 5\n",
        "for layer in base_model.layers[:-5]:\n",
        "    layer.trainable = False"
      ]
    },
    {
      "cell_type": "code",
      "execution_count": 17,
      "metadata": {},
      "outputs": [
        {
          "name": "stderr",
          "output_type": "stream",
          "text": [
            "c:\\Users\\gutsc\\anaconda3\\envs\\udemy_tensorflow\\lib\\site-packages\\keras\\optimizer_v2\\optimizer_v2.py:355: UserWarning: The `lr` argument is deprecated, use `learning_rate` instead.\n",
            "  warnings.warn(\n"
          ]
        }
      ],
      "source": [
        "# Recompile model with lower learning rate (it's typically best practive to lower the learning rate when fine-tuning).\n",
        "model.compile(\n",
        "    loss=\"categorical_crossentropy\",\n",
        "    optimizer=tf.keras.optimizers.Adam(lr=0.0001), # lr lowered by 10x\n",
        "    metrics=[\"accuracy\"]\n",
        ")"
      ]
    },
    {
      "cell_type": "code",
      "execution_count": 18,
      "metadata": {},
      "outputs": [
        {
          "name": "stdout",
          "output_type": "stream",
          "text": [
            "input_layer True\n",
            "data_augmentation True\n",
            "efficientnetb0 True\n",
            "global_avg_pool_layer True\n",
            "output_layer True\n"
          ]
        }
      ],
      "source": [
        "# What layers in the model are trainable?\n",
        "for layer in model.layers:\n",
        "    print(layer.name, layer.trainable)"
      ]
    },
    {
      "cell_type": "code",
      "execution_count": 19,
      "metadata": {},
      "outputs": [
        {
          "name": "stdout",
          "output_type": "stream",
          "text": [
            "0 input_1 False\n",
            "1 rescaling False\n",
            "2 normalization False\n",
            "3 stem_conv_pad False\n",
            "4 stem_conv False\n",
            "5 stem_bn False\n",
            "6 stem_activation False\n",
            "7 block1a_dwconv False\n",
            "8 block1a_bn False\n",
            "9 block1a_activation False\n",
            "10 block1a_se_squeeze False\n",
            "11 block1a_se_reshape False\n",
            "12 block1a_se_reduce False\n",
            "13 block1a_se_expand False\n",
            "14 block1a_se_excite False\n",
            "15 block1a_project_conv False\n",
            "16 block1a_project_bn False\n",
            "17 block2a_expand_conv False\n",
            "18 block2a_expand_bn False\n",
            "19 block2a_expand_activation False\n",
            "20 block2a_dwconv_pad False\n",
            "21 block2a_dwconv False\n",
            "22 block2a_bn False\n",
            "23 block2a_activation False\n",
            "24 block2a_se_squeeze False\n",
            "25 block2a_se_reshape False\n",
            "26 block2a_se_reduce False\n",
            "27 block2a_se_expand False\n",
            "28 block2a_se_excite False\n",
            "29 block2a_project_conv False\n",
            "30 block2a_project_bn False\n",
            "31 block2b_expand_conv False\n",
            "32 block2b_expand_bn False\n",
            "33 block2b_expand_activation False\n",
            "34 block2b_dwconv False\n",
            "35 block2b_bn False\n",
            "36 block2b_activation False\n",
            "37 block2b_se_squeeze False\n",
            "38 block2b_se_reshape False\n",
            "39 block2b_se_reduce False\n",
            "40 block2b_se_expand False\n",
            "41 block2b_se_excite False\n",
            "42 block2b_project_conv False\n",
            "43 block2b_project_bn False\n",
            "44 block2b_drop False\n",
            "45 block2b_add False\n",
            "46 block3a_expand_conv False\n",
            "47 block3a_expand_bn False\n",
            "48 block3a_expand_activation False\n",
            "49 block3a_dwconv_pad False\n",
            "50 block3a_dwconv False\n",
            "51 block3a_bn False\n",
            "52 block3a_activation False\n",
            "53 block3a_se_squeeze False\n",
            "54 block3a_se_reshape False\n",
            "55 block3a_se_reduce False\n",
            "56 block3a_se_expand False\n",
            "57 block3a_se_excite False\n",
            "58 block3a_project_conv False\n",
            "59 block3a_project_bn False\n",
            "60 block3b_expand_conv False\n",
            "61 block3b_expand_bn False\n",
            "62 block3b_expand_activation False\n",
            "63 block3b_dwconv False\n",
            "64 block3b_bn False\n",
            "65 block3b_activation False\n",
            "66 block3b_se_squeeze False\n",
            "67 block3b_se_reshape False\n",
            "68 block3b_se_reduce False\n",
            "69 block3b_se_expand False\n",
            "70 block3b_se_excite False\n",
            "71 block3b_project_conv False\n",
            "72 block3b_project_bn False\n",
            "73 block3b_drop False\n",
            "74 block3b_add False\n",
            "75 block4a_expand_conv False\n",
            "76 block4a_expand_bn False\n",
            "77 block4a_expand_activation False\n",
            "78 block4a_dwconv_pad False\n",
            "79 block4a_dwconv False\n",
            "80 block4a_bn False\n",
            "81 block4a_activation False\n",
            "82 block4a_se_squeeze False\n",
            "83 block4a_se_reshape False\n",
            "84 block4a_se_reduce False\n",
            "85 block4a_se_expand False\n",
            "86 block4a_se_excite False\n",
            "87 block4a_project_conv False\n",
            "88 block4a_project_bn False\n",
            "89 block4b_expand_conv False\n",
            "90 block4b_expand_bn False\n",
            "91 block4b_expand_activation False\n",
            "92 block4b_dwconv False\n",
            "93 block4b_bn False\n",
            "94 block4b_activation False\n",
            "95 block4b_se_squeeze False\n",
            "96 block4b_se_reshape False\n",
            "97 block4b_se_reduce False\n",
            "98 block4b_se_expand False\n",
            "99 block4b_se_excite False\n",
            "100 block4b_project_conv False\n",
            "101 block4b_project_bn False\n",
            "102 block4b_drop False\n",
            "103 block4b_add False\n",
            "104 block4c_expand_conv False\n",
            "105 block4c_expand_bn False\n",
            "106 block4c_expand_activation False\n",
            "107 block4c_dwconv False\n",
            "108 block4c_bn False\n",
            "109 block4c_activation False\n",
            "110 block4c_se_squeeze False\n",
            "111 block4c_se_reshape False\n",
            "112 block4c_se_reduce False\n",
            "113 block4c_se_expand False\n",
            "114 block4c_se_excite False\n",
            "115 block4c_project_conv False\n",
            "116 block4c_project_bn False\n",
            "117 block4c_drop False\n",
            "118 block4c_add False\n",
            "119 block5a_expand_conv False\n",
            "120 block5a_expand_bn False\n",
            "121 block5a_expand_activation False\n",
            "122 block5a_dwconv False\n",
            "123 block5a_bn False\n",
            "124 block5a_activation False\n",
            "125 block5a_se_squeeze False\n",
            "126 block5a_se_reshape False\n",
            "127 block5a_se_reduce False\n",
            "128 block5a_se_expand False\n",
            "129 block5a_se_excite False\n",
            "130 block5a_project_conv False\n",
            "131 block5a_project_bn False\n",
            "132 block5b_expand_conv False\n",
            "133 block5b_expand_bn False\n",
            "134 block5b_expand_activation False\n",
            "135 block5b_dwconv False\n",
            "136 block5b_bn False\n",
            "137 block5b_activation False\n",
            "138 block5b_se_squeeze False\n",
            "139 block5b_se_reshape False\n",
            "140 block5b_se_reduce False\n",
            "141 block5b_se_expand False\n",
            "142 block5b_se_excite False\n",
            "143 block5b_project_conv False\n",
            "144 block5b_project_bn False\n",
            "145 block5b_drop False\n",
            "146 block5b_add False\n",
            "147 block5c_expand_conv False\n",
            "148 block5c_expand_bn False\n",
            "149 block5c_expand_activation False\n",
            "150 block5c_dwconv False\n",
            "151 block5c_bn False\n",
            "152 block5c_activation False\n",
            "153 block5c_se_squeeze False\n",
            "154 block5c_se_reshape False\n",
            "155 block5c_se_reduce False\n",
            "156 block5c_se_expand False\n",
            "157 block5c_se_excite False\n",
            "158 block5c_project_conv False\n",
            "159 block5c_project_bn False\n",
            "160 block5c_drop False\n",
            "161 block5c_add False\n",
            "162 block6a_expand_conv False\n",
            "163 block6a_expand_bn False\n",
            "164 block6a_expand_activation False\n",
            "165 block6a_dwconv_pad False\n",
            "166 block6a_dwconv False\n",
            "167 block6a_bn False\n",
            "168 block6a_activation False\n",
            "169 block6a_se_squeeze False\n",
            "170 block6a_se_reshape False\n",
            "171 block6a_se_reduce False\n",
            "172 block6a_se_expand False\n",
            "173 block6a_se_excite False\n",
            "174 block6a_project_conv False\n",
            "175 block6a_project_bn False\n",
            "176 block6b_expand_conv False\n",
            "177 block6b_expand_bn False\n",
            "178 block6b_expand_activation False\n",
            "179 block6b_dwconv False\n",
            "180 block6b_bn False\n",
            "181 block6b_activation False\n",
            "182 block6b_se_squeeze False\n",
            "183 block6b_se_reshape False\n",
            "184 block6b_se_reduce False\n",
            "185 block6b_se_expand False\n",
            "186 block6b_se_excite False\n",
            "187 block6b_project_conv False\n",
            "188 block6b_project_bn False\n",
            "189 block6b_drop False\n",
            "190 block6b_add False\n",
            "191 block6c_expand_conv False\n",
            "192 block6c_expand_bn False\n",
            "193 block6c_expand_activation False\n",
            "194 block6c_dwconv False\n",
            "195 block6c_bn False\n",
            "196 block6c_activation False\n",
            "197 block6c_se_squeeze False\n",
            "198 block6c_se_reshape False\n",
            "199 block6c_se_reduce False\n",
            "200 block6c_se_expand False\n",
            "201 block6c_se_excite False\n",
            "202 block6c_project_conv False\n",
            "203 block6c_project_bn False\n",
            "204 block6c_drop False\n",
            "205 block6c_add False\n",
            "206 block6d_expand_conv False\n",
            "207 block6d_expand_bn False\n",
            "208 block6d_expand_activation False\n",
            "209 block6d_dwconv False\n",
            "210 block6d_bn False\n",
            "211 block6d_activation False\n",
            "212 block6d_se_squeeze False\n",
            "213 block6d_se_reshape False\n",
            "214 block6d_se_reduce False\n",
            "215 block6d_se_expand False\n",
            "216 block6d_se_excite False\n",
            "217 block6d_project_conv False\n",
            "218 block6d_project_bn False\n",
            "219 block6d_drop False\n",
            "220 block6d_add False\n",
            "221 block7a_expand_conv False\n",
            "222 block7a_expand_bn False\n",
            "223 block7a_expand_activation False\n",
            "224 block7a_dwconv False\n",
            "225 block7a_bn False\n",
            "226 block7a_activation False\n",
            "227 block7a_se_squeeze False\n",
            "228 block7a_se_reshape False\n",
            "229 block7a_se_reduce False\n",
            "230 block7a_se_expand False\n",
            "231 block7a_se_excite False\n",
            "232 block7a_project_conv True\n",
            "233 block7a_project_bn True\n",
            "234 top_conv True\n",
            "235 top_bn True\n",
            "236 top_activation True\n"
          ]
        }
      ],
      "source": [
        "# Check which layers are trainable in our base model?\n",
        "for layer_number, layer in enumerate(model.layers[2].layers):\n",
        "    print(layer_number, layer.name, layer.trainable)"
      ]
    },
    {
      "cell_type": "code",
      "execution_count": 20,
      "metadata": {},
      "outputs": [
        {
          "name": "stdout",
          "output_type": "stream",
          "text": [
            "Saving TensorBoard log files to: transfer_learning/all_classes_10_percent_fine_tune/20220628-204013\n",
            "Epoch 5/10\n",
            "237/237 [==============================] - 70s 259ms/step - loss: 1.3494 - accuracy: 0.6481 - val_loss: 1.8508 - val_accuracy: 0.5188\n",
            "Epoch 6/10\n",
            "237/237 [==============================] - 55s 232ms/step - loss: 1.2295 - accuracy: 0.6792 - val_loss: 1.8212 - val_accuracy: 0.5299\n",
            "Epoch 7/10\n",
            "237/237 [==============================] - 53s 223ms/step - loss: 1.1545 - accuracy: 0.6915 - val_loss: 1.8649 - val_accuracy: 0.5188\n",
            "Epoch 8/10\n",
            "237/237 [==============================] - 49s 207ms/step - loss: 1.0904 - accuracy: 0.7135 - val_loss: 1.8673 - val_accuracy: 0.5188\n",
            "Epoch 9/10\n",
            "237/237 [==============================] - 51s 216ms/step - loss: 1.0185 - accuracy: 0.7265 - val_loss: 1.8393 - val_accuracy: 0.5252\n",
            "Epoch 10/10\n",
            "237/237 [==============================] - 48s 202ms/step - loss: 0.9722 - accuracy: 0.7402 - val_loss: 1.7944 - val_accuracy: 0.5400\n"
          ]
        }
      ],
      "source": [
        "# Fine-tune for 5 more epochs\n",
        "fine_tune_epochs = 10 # model has already done 5 epochs, this is the total number of epochs we're after (5 + 5)\n",
        "\n",
        "# Fit the model\n",
        "history_all_classes_10_percent_fine_tuned = model.fit(\n",
        "    train_data_all_10_percent,\n",
        "    epochs=fine_tune_epochs,\n",
        "    steps_per_epoch=len(train_data_all_10_percent), # not neccessary according to a question in udemy. \n",
        "    validation_data=test_data,\n",
        "    validation_steps=int(0.15*len(test_data)),\n",
        "    initial_epoch=history_all_classes_10_percent.epoch[-1],\n",
        "    callbacks=[\n",
        "        create_tensorboard_callback(\n",
        "            dir_name=\"transfer_learning\",\n",
        "            experiment_name=\"all_classes_10_percent_fine_tune\"\n",
        "        )\n",
        "    ]\n",
        ")"
      ]
    },
    {
      "cell_type": "code",
      "execution_count": 21,
      "metadata": {},
      "outputs": [
        {
          "name": "stdout",
          "output_type": "stream",
          "text": [
            "790/790 [==============================] - 69s 87ms/step - loss: 1.6079 - accuracy: 0.5768\n"
          ]
        },
        {
          "data": {
            "text/plain": [
              "[1.6078609228134155, 0.5768316984176636]"
            ]
          },
          "execution_count": 21,
          "metadata": {},
          "output_type": "execute_result"
        }
      ],
      "source": [
        "# Evaluate on the whole test data\n",
        "feature_extraction_results = model.evaluate(test_data)\n",
        "feature_extraction_results"
      ]
    },
    {
      "cell_type": "code",
      "execution_count": 22,
      "metadata": {},
      "outputs": [
        {
          "data": {
            "image/png": "[encoded data removed]",
            "image/svg+xml": "<?xml version=\"1.0\" encoding=\"utf-8\" standalone=\"no\"?>\n<!DOCTYPE svg PUBLIC \"-//W3C//DTD SVG 1.1//EN\"\n  \"http://www.w3.org/Graphics/SVG/1.1/DTD/svg11.dtd\">\n<svg xmlns:xlink=\"http://www.w3.org/1999/xlink\" width=\"483.703125pt\" height=\"494.754375pt\" viewBox=\"0 0 483.703125 494.754375\" xmlns=\"http://www.w3.org/2000/svg\" version=\"1.1\">\n <metadata>\n  <rdf:RDF xmlns:dc=\"http://purl.org/dc/elements/1.1/\" xmlns:cc=\"http://creativecommons.org/ns#\" xmlns:rdf=\"http://www.w3.org/1999/02/22-rdf-syntax-ns#\">\n   <cc:Work>\n    <dc:type rdf:resource=\"http://purl.org/dc/dcmitype/StillImage\"/>\n    <dc:date>2022-06-28T20:46:50.106392</dc:date>\n    <dc:format>image/svg+xml</dc:format>\n    <dc:creator>\n     <cc:Agent>\n      <dc:title>Matplotlib v3.5.1, https://matplotlib.org/</dc:title>\n     </cc:Agent>\n    </dc:creator>\n   </cc:Work>\n  </rdf:RDF>\n </metadata>\n <defs>\n  <style type=\"text/css\">*{stroke-linejoin: round; stroke-linecap: butt}</style>\n </defs>\n <g id=\"figure_1\">\n  <g id=\"patch_1\">\n   <path d=\"M 0 494.754375 \nL 483.703125 494.754375 \nL 483.703125 0 \nL 0 0 \nz\n\"/>\n  </g>\n  <g id=\"axes_1\">\n   <g id=\"patch_2\">\n    <path d=\"M 30.103125 219.990852 \nL 476.503125 219.990852 \nL 476.503125 22.318125 \nL 30.103125 22.318125 \nz\n\"/>\n   </g>\n   <g id=\"matplotlib.axis_1\">\n    <g id=\"xtick_1\">\n     <g id=\"line2d_1\">\n      <defs>\n       <path id=\"m0392018a97\" d=\"M 0 0 \nL 0 3.5 \n\" style=\"stroke: #ffffff; stroke-width: 0.8\"/>\n      </defs>\n      <g>\n       <use xlink:href=\"#m0392018a97\" x=\"50.394034\" y=\"219.990852\" style=\"fill: #ffffff; stroke: #ffffff; stroke-width: 0.8\"/>\n      </g>\n     </g>\n     <g id=\"text_1\">\n      <!-- 0 -->\n      <g style=\"fill: #ffffff\" transform=\"translate(47.212784 234.58929)scale(0.1 -0.1)\">\n       <defs>\n        <path id=\"DejaVuSans-30\" d=\"M 2034 4250 \nQ 1547 4250 1301 3770 \nQ 1056 3291 1056 2328 \nQ 1056 1369 1301 889 \nQ 1547 409 2034 409 \nQ 2525 409 2770 889 \nQ 3016 1369 3016 2328 \nQ 3016 3291 2770 3770 \nQ 2525 4250 2034 4250 \nz\nM 2034 4750 \nQ 2819 4750 3233 4129 \nQ 3647 3509 3647 2328 \nQ 3647 1150 3233 529 \nQ 2819 -91 2034 -91 \nQ 1250 -91 836 529 \nQ 422 1150 422 2328 \nQ 422 3509 836 4129 \nQ 1250 4750 2034 4750 \nz\n\" transform=\"scale(0.015625)\"/>\n       </defs>\n       <use xlink:href=\"#DejaVuSans-30\"/>\n      </g>\n     </g>\n    </g>\n    <g id=\"xtick_2\">\n     <g id=\"line2d_2\">\n      <g>\n       <use xlink:href=\"#m0392018a97\" x=\"131.55767\" y=\"219.990852\" style=\"fill: #ffffff; stroke: #ffffff; stroke-width: 0.8\"/>\n      </g>\n     </g>\n     <g id=\"text_2\">\n      <!-- 2 -->\n      <g style=\"fill: #ffffff\" transform=\"translate(128.37642 234.58929)scale(0.1 -0.1)\">\n       <defs>\n        <path id=\"DejaVuSans-32\" d=\"M 1228 531 \nL 3431 531 \nL 3431 0 \nL 469 0 \nL 469 531 \nQ 828 903 1448 1529 \nQ 2069 2156 2228 2338 \nQ 2531 2678 2651 2914 \nQ 2772 3150 2772 3378 \nQ 2772 3750 2511 3984 \nQ 2250 4219 1831 4219 \nQ 1534 4219 1204 4116 \nQ 875 4013 500 3803 \nL 500 4441 \nQ 881 4594 1212 4672 \nQ 1544 4750 1819 4750 \nQ 2544 4750 2975 4387 \nQ 3406 4025 3406 3419 \nQ 3406 3131 3298 2873 \nQ 3191 2616 2906 2266 \nQ 2828 2175 2409 1742 \nQ 1991 1309 1228 531 \nz\n\" transform=\"scale(0.015625)\"/>\n       </defs>\n       <use xlink:href=\"#DejaVuSans-32\"/>\n      </g>\n     </g>\n    </g>\n    <g id=\"xtick_3\">\n     <g id=\"line2d_3\">\n      <g>\n       <use xlink:href=\"#m0392018a97\" x=\"212.721307\" y=\"219.990852\" style=\"fill: #ffffff; stroke: #ffffff; stroke-width: 0.8\"/>\n      </g>\n     </g>\n     <g id=\"text_3\">\n      <!-- 4 -->\n      <g style=\"fill: #ffffff\" transform=\"translate(209.540057 234.58929)scale(0.1 -0.1)\">\n       <defs>\n        <path id=\"DejaVuSans-34\" d=\"M 2419 4116 \nL 825 1625 \nL 2419 1625 \nL 2419 4116 \nz\nM 2253 4666 \nL 3047 4666 \nL 3047 1625 \nL 3713 1625 \nL 3713 1100 \nL 3047 1100 \nL 3047 0 \nL 2419 0 \nL 2419 1100 \nL 313 1100 \nL 313 1709 \nL 2253 4666 \nz\n\" transform=\"scale(0.015625)\"/>\n       </defs>\n       <use xlink:href=\"#DejaVuSans-34\"/>\n      </g>\n     </g>\n    </g>\n    <g id=\"xtick_4\">\n     <g id=\"line2d_4\">\n      <g>\n       <use xlink:href=\"#m0392018a97\" x=\"293.884943\" y=\"219.990852\" style=\"fill: #ffffff; stroke: #ffffff; stroke-width: 0.8\"/>\n      </g>\n     </g>\n     <g id=\"text_4\">\n      <!-- 6 -->\n      <g style=\"fill: #ffffff\" transform=\"translate(290.703693 234.58929)scale(0.1 -0.1)\">\n       <defs>\n        <path id=\"DejaVuSans-36\" d=\"M 2113 2584 \nQ 1688 2584 1439 2293 \nQ 1191 2003 1191 1497 \nQ 1191 994 1439 701 \nQ 1688 409 2113 409 \nQ 2538 409 2786 701 \nQ 3034 994 3034 1497 \nQ 3034 2003 2786 2293 \nQ 2538 2584 2113 2584 \nz\nM 3366 4563 \nL 3366 3988 \nQ 3128 4100 2886 4159 \nQ 2644 4219 2406 4219 \nQ 1781 4219 1451 3797 \nQ 1122 3375 1075 2522 \nQ 1259 2794 1537 2939 \nQ 1816 3084 2150 3084 \nQ 2853 3084 3261 2657 \nQ 3669 2231 3669 1497 \nQ 3669 778 3244 343 \nQ 2819 -91 2113 -91 \nQ 1303 -91 875 529 \nQ 447 1150 447 2328 \nQ 447 3434 972 4092 \nQ 1497 4750 2381 4750 \nQ 2619 4750 2861 4703 \nQ 3103 4656 3366 4563 \nz\n\" transform=\"scale(0.015625)\"/>\n       </defs>\n       <use xlink:href=\"#DejaVuSans-36\"/>\n      </g>\n     </g>\n    </g>\n    <g id=\"xtick_5\">\n     <g id=\"line2d_5\">\n      <g>\n       <use xlink:href=\"#m0392018a97\" x=\"375.04858\" y=\"219.990852\" style=\"fill: #ffffff; stroke: #ffffff; stroke-width: 0.8\"/>\n      </g>\n     </g>\n     <g id=\"text_5\">\n      <!-- 8 -->\n      <g style=\"fill: #ffffff\" transform=\"translate(371.86733 234.58929)scale(0.1 -0.1)\">\n       <defs>\n        <path id=\"DejaVuSans-38\" d=\"M 2034 2216 \nQ 1584 2216 1326 1975 \nQ 1069 1734 1069 1313 \nQ 1069 891 1326 650 \nQ 1584 409 2034 409 \nQ 2484 409 2743 651 \nQ 3003 894 3003 1313 \nQ 3003 1734 2745 1975 \nQ 2488 2216 2034 2216 \nz\nM 1403 2484 \nQ 997 2584 770 2862 \nQ 544 3141 544 3541 \nQ 544 4100 942 4425 \nQ 1341 4750 2034 4750 \nQ 2731 4750 3128 4425 \nQ 3525 4100 3525 3541 \nQ 3525 3141 3298 2862 \nQ 3072 2584 2669 2484 \nQ 3125 2378 3379 2068 \nQ 3634 1759 3634 1313 \nQ 3634 634 3220 271 \nQ 2806 -91 2034 -91 \nQ 1263 -91 848 271 \nQ 434 634 434 1313 \nQ 434 1759 690 2068 \nQ 947 2378 1403 2484 \nz\nM 1172 3481 \nQ 1172 3119 1398 2916 \nQ 1625 2713 2034 2713 \nQ 2441 2713 2670 2916 \nQ 2900 3119 2900 3481 \nQ 2900 3844 2670 4047 \nQ 2441 4250 2034 4250 \nQ 1625 4250 1398 4047 \nQ 1172 3844 1172 3481 \nz\n\" transform=\"scale(0.015625)\"/>\n       </defs>\n       <use xlink:href=\"#DejaVuSans-38\"/>\n      </g>\n     </g>\n    </g>\n    <g id=\"xtick_6\">\n     <g id=\"line2d_6\">\n      <g>\n       <use xlink:href=\"#m0392018a97\" x=\"456.212216\" y=\"219.990852\" style=\"fill: #ffffff; stroke: #ffffff; stroke-width: 0.8\"/>\n      </g>\n     </g>\n     <g id=\"text_6\">\n      <!-- 10 -->\n      <g style=\"fill: #ffffff\" transform=\"translate(449.849716 234.58929)scale(0.1 -0.1)\">\n       <defs>\n        <path id=\"DejaVuSans-31\" d=\"M 794 531 \nL 1825 531 \nL 1825 4091 \nL 703 3866 \nL 703 4441 \nL 1819 4666 \nL 2450 4666 \nL 2450 531 \nL 3481 531 \nL 3481 0 \nL 794 0 \nL 794 531 \nz\n\" transform=\"scale(0.015625)\"/>\n       </defs>\n       <use xlink:href=\"#DejaVuSans-31\"/>\n       <use xlink:href=\"#DejaVuSans-30\" x=\"63.623047\"/>\n      </g>\n     </g>\n    </g>\n   </g>\n   <g id=\"matplotlib.axis_2\">\n    <g id=\"ytick_1\">\n     <g id=\"line2d_7\">\n      <defs>\n       <path id=\"m254537f314\" d=\"M 0 0 \nL -3.5 0 \n\" style=\"stroke: #ffffff; stroke-width: 0.8\"/>\n      </defs>\n      <g>\n       <use xlink:href=\"#m254537f314\" x=\"30.103125\" y=\"217.262296\" style=\"fill: #ffffff; stroke: #ffffff; stroke-width: 0.8\"/>\n      </g>\n     </g>\n     <g id=\"text_7\">\n      <!-- 0.2 -->\n      <g style=\"fill: #ffffff\" transform=\"translate(7.2 221.061514)scale(0.1 -0.1)\">\n       <defs>\n        <path id=\"DejaVuSans-2e\" d=\"M 684 794 \nL 1344 794 \nL 1344 0 \nL 684 0 \nL 684 794 \nz\n\" transform=\"scale(0.015625)\"/>\n       </defs>\n       <use xlink:href=\"#DejaVuSans-30\"/>\n       <use xlink:href=\"#DejaVuSans-2e\" x=\"63.623047\"/>\n       <use xlink:href=\"#DejaVuSans-32\" x=\"95.410156\"/>\n      </g>\n     </g>\n    </g>\n    <g id=\"ytick_2\">\n     <g id=\"line2d_8\">\n      <g>\n       <use xlink:href=\"#m254537f314\" x=\"30.103125\" y=\"184.350151\" style=\"fill: #ffffff; stroke: #ffffff; stroke-width: 0.8\"/>\n      </g>\n     </g>\n     <g id=\"text_8\">\n      <!-- 0.3 -->\n      <g style=\"fill: #ffffff\" transform=\"translate(7.2 188.14937)scale(0.1 -0.1)\">\n       <defs>\n        <path id=\"DejaVuSans-33\" d=\"M 2597 2516 \nQ 3050 2419 3304 2112 \nQ 3559 1806 3559 1356 \nQ 3559 666 3084 287 \nQ 2609 -91 1734 -91 \nQ 1441 -91 1130 -33 \nQ 819 25 488 141 \nL 488 750 \nQ 750 597 1062 519 \nQ 1375 441 1716 441 \nQ 2309 441 2620 675 \nQ 2931 909 2931 1356 \nQ 2931 1769 2642 2001 \nQ 2353 2234 1838 2234 \nL 1294 2234 \nL 1294 2753 \nL 1863 2753 \nQ 2328 2753 2575 2939 \nQ 2822 3125 2822 3475 \nQ 2822 3834 2567 4026 \nQ 2313 4219 1838 4219 \nQ 1578 4219 1281 4162 \nQ 984 4106 628 3988 \nL 628 4550 \nQ 988 4650 1302 4700 \nQ 1616 4750 1894 4750 \nQ 2613 4750 3031 4423 \nQ 3450 4097 3450 3541 \nQ 3450 3153 3228 2886 \nQ 3006 2619 2597 2516 \nz\n\" transform=\"scale(0.015625)\"/>\n       </defs>\n       <use xlink:href=\"#DejaVuSans-30\"/>\n       <use xlink:href=\"#DejaVuSans-2e\" x=\"63.623047\"/>\n       <use xlink:href=\"#DejaVuSans-33\" x=\"95.410156\"/>\n      </g>\n     </g>\n    </g>\n    <g id=\"ytick_3\">\n     <g id=\"line2d_9\">\n      <g>\n       <use xlink:href=\"#m254537f314\" x=\"30.103125\" y=\"151.438006\" style=\"fill: #ffffff; stroke: #ffffff; stroke-width: 0.8\"/>\n      </g>\n     </g>\n     <g id=\"text_9\">\n      <!-- 0.4 -->\n      <g style=\"fill: #ffffff\" transform=\"translate(7.2 155.237225)scale(0.1 -0.1)\">\n       <use xlink:href=\"#DejaVuSans-30\"/>\n       <use xlink:href=\"#DejaVuSans-2e\" x=\"63.623047\"/>\n       <use xlink:href=\"#DejaVuSans-34\" x=\"95.410156\"/>\n      </g>\n     </g>\n    </g>\n    <g id=\"ytick_4\">\n     <g id=\"line2d_10\">\n      <g>\n       <use xlink:href=\"#m254537f314\" x=\"30.103125\" y=\"118.525862\" style=\"fill: #ffffff; stroke: #ffffff; stroke-width: 0.8\"/>\n      </g>\n     </g>\n     <g id=\"text_10\">\n      <!-- 0.5 -->\n      <g style=\"fill: #ffffff\" transform=\"translate(7.2 122.325081)scale(0.1 -0.1)\">\n       <defs>\n        <path id=\"DejaVuSans-35\" d=\"M 691 4666 \nL 3169 4666 \nL 3169 4134 \nL 1269 4134 \nL 1269 2991 \nQ 1406 3038 1543 3061 \nQ 1681 3084 1819 3084 \nQ 2600 3084 3056 2656 \nQ 3513 2228 3513 1497 \nQ 3513 744 3044 326 \nQ 2575 -91 1722 -91 \nQ 1428 -91 1123 -41 \nQ 819 9 494 109 \nL 494 744 \nQ 775 591 1075 516 \nQ 1375 441 1709 441 \nQ 2250 441 2565 725 \nQ 2881 1009 2881 1497 \nQ 2881 1984 2565 2268 \nQ 2250 2553 1709 2553 \nQ 1456 2553 1204 2497 \nQ 953 2441 691 2322 \nL 691 4666 \nz\n\" transform=\"scale(0.015625)\"/>\n       </defs>\n       <use xlink:href=\"#DejaVuSans-30\"/>\n       <use xlink:href=\"#DejaVuSans-2e\" x=\"63.623047\"/>\n       <use xlink:href=\"#DejaVuSans-35\" x=\"95.410156\"/>\n      </g>\n     </g>\n    </g>\n    <g id=\"ytick_5\">\n     <g id=\"line2d_11\">\n      <g>\n       <use xlink:href=\"#m254537f314\" x=\"30.103125\" y=\"85.613717\" style=\"fill: #ffffff; stroke: #ffffff; stroke-width: 0.8\"/>\n      </g>\n     </g>\n     <g id=\"text_11\">\n      <!-- 0.6 -->\n      <g style=\"fill: #ffffff\" transform=\"translate(7.2 89.412936)scale(0.1 -0.1)\">\n       <use xlink:href=\"#DejaVuSans-30\"/>\n       <use xlink:href=\"#DejaVuSans-2e\" x=\"63.623047\"/>\n       <use xlink:href=\"#DejaVuSans-36\" x=\"95.410156\"/>\n      </g>\n     </g>\n    </g>\n    <g id=\"ytick_6\">\n     <g id=\"line2d_12\">\n      <g>\n       <use xlink:href=\"#m254537f314\" x=\"30.103125\" y=\"52.701573\" style=\"fill: #ffffff; stroke: #ffffff; stroke-width: 0.8\"/>\n      </g>\n     </g>\n     <g id=\"text_12\">\n      <!-- 0.7 -->\n      <g style=\"fill: #ffffff\" transform=\"translate(7.2 56.500791)scale(0.1 -0.1)\">\n       <defs>\n        <path id=\"DejaVuSans-37\" d=\"M 525 4666 \nL 3525 4666 \nL 3525 4397 \nL 1831 0 \nL 1172 0 \nL 2766 4134 \nL 525 4134 \nL 525 4666 \nz\n\" transform=\"scale(0.015625)\"/>\n       </defs>\n       <use xlink:href=\"#DejaVuSans-30\"/>\n       <use xlink:href=\"#DejaVuSans-2e\" x=\"63.623047\"/>\n       <use xlink:href=\"#DejaVuSans-37\" x=\"95.410156\"/>\n      </g>\n     </g>\n    </g>\n   </g>\n   <g id=\"line2d_13\">\n    <path d=\"M 50.394034 202.837434 \nL 90.975852 131.929683 \nL 131.55767 108.815148 \nL 172.139489 94.259936 \nL 212.721307 83.528189 \nL 253.303125 69.798506 \nL 293.884943 59.544692 \nL 334.466761 55.503987 \nL 375.04858 48.248107 \nL 415.630398 43.990181 \nL 456.212216 39.471543 \n\" clip-path=\"url(#p83eaedbf43)\" style=\"fill: none; stroke: #8dd3c7; stroke-width: 1.5; stroke-linecap: square\"/>\n   </g>\n   <g id=\"line2d_14\">\n    <path d=\"M 50.394034 143.715511 \nL 90.975852 125.150128 \nL 131.55767 121.925154 \nL 172.139489 117.654251 \nL 212.721307 114.952242 \nL 253.303125 112.337411 \nL 293.884943 108.676632 \nL 334.466761 112.337411 \nL 375.04858 112.337411 \nL 415.630398 110.245534 \nL 456.212216 105.364489 \n\" clip-path=\"url(#p83eaedbf43)\" style=\"fill: none; stroke: #feffb3; stroke-width: 1.5; stroke-linecap: square\"/>\n   </g>\n   <g id=\"line2d_15\">\n    <path d=\"M 212.721307 211.005728 \nL 212.721307 31.303249 \n\" clip-path=\"url(#p83eaedbf43)\" style=\"fill: none; stroke: #bfbbd9; stroke-width: 1.5; stroke-linecap: square\"/>\n   </g>\n   <g id=\"patch_3\">\n    <path d=\"M 30.103125 219.990852 \nL 30.103125 22.318125 \n\" style=\"fill: none; stroke: #ffffff; stroke-width: 0.8; stroke-linejoin: miter; stroke-linecap: square\"/>\n   </g>\n   <g id=\"patch_4\">\n    <path d=\"M 476.503125 219.990852 \nL 476.503125 22.318125 \n\" style=\"fill: none; stroke: #ffffff; stroke-width: 0.8; stroke-linejoin: miter; stroke-linecap: square\"/>\n   </g>\n   <g id=\"patch_5\">\n    <path d=\"M 30.103125 219.990852 \nL 476.503125 219.990852 \n\" style=\"fill: none; stroke: #ffffff; stroke-width: 0.8; stroke-linejoin: miter; stroke-linecap: square\"/>\n   </g>\n   <g id=\"patch_6\">\n    <path d=\"M 30.103125 22.318125 \nL 476.503125 22.318125 \n\" style=\"fill: none; stroke: #ffffff; stroke-width: 0.8; stroke-linejoin: miter; stroke-linecap: square\"/>\n   </g>\n   <g id=\"text_13\">\n    <!-- Training and Validation Accuracy -->\n    <g style=\"fill: #ffffff\" transform=\"translate(155.600625 16.318125)scale(0.12 -0.12)\">\n     <defs>\n      <path id=\"DejaVuSans-54\" d=\"M -19 4666 \nL 3928 4666 \nL 3928 4134 \nL 2272 4134 \nL 2272 0 \nL 1638 0 \nL 1638 4134 \nL -19 4134 \nL -19 4666 \nz\n\" transform=\"scale(0.015625)\"/>\n      <path id=\"DejaVuSans-72\" d=\"M 2631 2963 \nQ 2534 3019 2420 3045 \nQ 2306 3072 2169 3072 \nQ 1681 3072 1420 2755 \nQ 1159 2438 1159 1844 \nL 1159 0 \nL 581 0 \nL 581 3500 \nL 1159 3500 \nL 1159 2956 \nQ 1341 3275 1631 3429 \nQ 1922 3584 2338 3584 \nQ 2397 3584 2469 3576 \nQ 2541 3569 2628 3553 \nL 2631 2963 \nz\n\" transform=\"scale(0.015625)\"/>\n      <path id=\"DejaVuSans-61\" d=\"M 2194 1759 \nQ 1497 1759 1228 1600 \nQ 959 1441 959 1056 \nQ 959 750 1161 570 \nQ 1363 391 1709 391 \nQ 2188 391 2477 730 \nQ 2766 1069 2766 1631 \nL 2766 1759 \nL 2194 1759 \nz\nM 3341 1997 \nL 3341 0 \nL 2766 0 \nL 2766 531 \nQ 2569 213 2275 61 \nQ 1981 -91 1556 -91 \nQ 1019 -91 701 211 \nQ 384 513 384 1019 \nQ 384 1609 779 1909 \nQ 1175 2209 1959 2209 \nL 2766 2209 \nL 2766 2266 \nQ 2766 2663 2505 2880 \nQ 2244 3097 1772 3097 \nQ 1472 3097 1187 3025 \nQ 903 2953 641 2809 \nL 641 3341 \nQ 956 3463 1253 3523 \nQ 1550 3584 1831 3584 \nQ 2591 3584 2966 3190 \nQ 3341 2797 3341 1997 \nz\n\" transform=\"scale(0.015625)\"/>\n      <path id=\"DejaVuSans-69\" d=\"M 603 3500 \nL 1178 3500 \nL 1178 0 \nL 603 0 \nL 603 3500 \nz\nM 603 4863 \nL 1178 4863 \nL 1178 4134 \nL 603 4134 \nL 603 4863 \nz\n\" transform=\"scale(0.015625)\"/>\n      <path id=\"DejaVuSans-6e\" d=\"M 3513 2113 \nL 3513 0 \nL 2938 0 \nL 2938 2094 \nQ 2938 2591 2744 2837 \nQ 2550 3084 2163 3084 \nQ 1697 3084 1428 2787 \nQ 1159 2491 1159 1978 \nL 1159 0 \nL 581 0 \nL 581 3500 \nL 1159 3500 \nL 1159 2956 \nQ 1366 3272 1645 3428 \nQ 1925 3584 2291 3584 \nQ 2894 3584 3203 3211 \nQ 3513 2838 3513 2113 \nz\n\" transform=\"scale(0.015625)\"/>\n      <path id=\"DejaVuSans-67\" d=\"M 2906 1791 \nQ 2906 2416 2648 2759 \nQ 2391 3103 1925 3103 \nQ 1463 3103 1205 2759 \nQ 947 2416 947 1791 \nQ 947 1169 1205 825 \nQ 1463 481 1925 481 \nQ 2391 481 2648 825 \nQ 2906 1169 2906 1791 \nz\nM 3481 434 \nQ 3481 -459 3084 -895 \nQ 2688 -1331 1869 -1331 \nQ 1566 -1331 1297 -1286 \nQ 1028 -1241 775 -1147 \nL 775 -588 \nQ 1028 -725 1275 -790 \nQ 1522 -856 1778 -856 \nQ 2344 -856 2625 -561 \nQ 2906 -266 2906 331 \nL 2906 616 \nQ 2728 306 2450 153 \nQ 2172 0 1784 0 \nQ 1141 0 747 490 \nQ 353 981 353 1791 \nQ 353 2603 747 3093 \nQ 1141 3584 1784 3584 \nQ 2172 3584 2450 3431 \nQ 2728 3278 2906 2969 \nL 2906 3500 \nL 3481 3500 \nL 3481 434 \nz\n\" transform=\"scale(0.015625)\"/>\n      <path id=\"DejaVuSans-20\" transform=\"scale(0.015625)\"/>\n      <path id=\"DejaVuSans-64\" d=\"M 2906 2969 \nL 2906 4863 \nL 3481 4863 \nL 3481 0 \nL 2906 0 \nL 2906 525 \nQ 2725 213 2448 61 \nQ 2172 -91 1784 -91 \nQ 1150 -91 751 415 \nQ 353 922 353 1747 \nQ 353 2572 751 3078 \nQ 1150 3584 1784 3584 \nQ 2172 3584 2448 3432 \nQ 2725 3281 2906 2969 \nz\nM 947 1747 \nQ 947 1113 1208 752 \nQ 1469 391 1925 391 \nQ 2381 391 2643 752 \nQ 2906 1113 2906 1747 \nQ 2906 2381 2643 2742 \nQ 2381 3103 1925 3103 \nQ 1469 3103 1208 2742 \nQ 947 2381 947 1747 \nz\n\" transform=\"scale(0.015625)\"/>\n      <path id=\"DejaVuSans-56\" d=\"M 1831 0 \nL 50 4666 \nL 709 4666 \nL 2188 738 \nL 3669 4666 \nL 4325 4666 \nL 2547 0 \nL 1831 0 \nz\n\" transform=\"scale(0.015625)\"/>\n      <path id=\"DejaVuSans-6c\" d=\"M 603 4863 \nL 1178 4863 \nL 1178 0 \nL 603 0 \nL 603 4863 \nz\n\" transform=\"scale(0.015625)\"/>\n      <path id=\"DejaVuSans-74\" d=\"M 1172 4494 \nL 1172 3500 \nL 2356 3500 \nL 2356 3053 \nL 1172 3053 \nL 1172 1153 \nQ 1172 725 1289 603 \nQ 1406 481 1766 481 \nL 2356 481 \nL 2356 0 \nL 1766 0 \nQ 1100 0 847 248 \nQ 594 497 594 1153 \nL 594 3053 \nL 172 3053 \nL 172 3500 \nL 594 3500 \nL 594 4494 \nL 1172 4494 \nz\n\" transform=\"scale(0.015625)\"/>\n      <path id=\"DejaVuSans-6f\" d=\"M 1959 3097 \nQ 1497 3097 1228 2736 \nQ 959 2375 959 1747 \nQ 959 1119 1226 758 \nQ 1494 397 1959 397 \nQ 2419 397 2687 759 \nQ 2956 1122 2956 1747 \nQ 2956 2369 2687 2733 \nQ 2419 3097 1959 3097 \nz\nM 1959 3584 \nQ 2709 3584 3137 3096 \nQ 3566 2609 3566 1747 \nQ 3566 888 3137 398 \nQ 2709 -91 1959 -91 \nQ 1206 -91 779 398 \nQ 353 888 353 1747 \nQ 353 2609 779 3096 \nQ 1206 3584 1959 3584 \nz\n\" transform=\"scale(0.015625)\"/>\n      <path id=\"DejaVuSans-41\" d=\"M 2188 4044 \nL 1331 1722 \nL 3047 1722 \nL 2188 4044 \nz\nM 1831 4666 \nL 2547 4666 \nL 4325 0 \nL 3669 0 \nL 3244 1197 \nL 1141 1197 \nL 716 0 \nL 50 0 \nL 1831 4666 \nz\n\" transform=\"scale(0.015625)\"/>\n      <path id=\"DejaVuSans-63\" d=\"M 3122 3366 \nL 3122 2828 \nQ 2878 2963 2633 3030 \nQ 2388 3097 2138 3097 \nQ 1578 3097 1268 2742 \nQ 959 2388 959 1747 \nQ 959 1106 1268 751 \nQ 1578 397 2138 397 \nQ 2388 397 2633 464 \nQ 2878 531 3122 666 \nL 3122 134 \nQ 2881 22 2623 -34 \nQ 2366 -91 2075 -91 \nQ 1284 -91 818 406 \nQ 353 903 353 1747 \nQ 353 2603 823 3093 \nQ 1294 3584 2113 3584 \nQ 2378 3584 2631 3529 \nQ 2884 3475 3122 3366 \nz\n\" transform=\"scale(0.015625)\"/>\n      <path id=\"DejaVuSans-75\" d=\"M 544 1381 \nL 544 3500 \nL 1119 3500 \nL 1119 1403 \nQ 1119 906 1312 657 \nQ 1506 409 1894 409 \nQ 2359 409 2629 706 \nQ 2900 1003 2900 1516 \nL 2900 3500 \nL 3475 3500 \nL 3475 0 \nL 2900 0 \nL 2900 538 \nQ 2691 219 2414 64 \nQ 2138 -91 1772 -91 \nQ 1169 -91 856 284 \nQ 544 659 544 1381 \nz\nM 1991 3584 \nL 1991 3584 \nz\n\" transform=\"scale(0.015625)\"/>\n      <path id=\"DejaVuSans-79\" d=\"M 2059 -325 \nQ 1816 -950 1584 -1140 \nQ 1353 -1331 966 -1331 \nL 506 -1331 \nL 506 -850 \nL 844 -850 \nQ 1081 -850 1212 -737 \nQ 1344 -625 1503 -206 \nL 1606 56 \nL 191 3500 \nL 800 3500 \nL 1894 763 \nL 2988 3500 \nL 3597 3500 \nL 2059 -325 \nz\n\" transform=\"scale(0.015625)\"/>\n     </defs>\n     <use xlink:href=\"#DejaVuSans-54\"/>\n     <use xlink:href=\"#DejaVuSans-72\" x=\"46.333984\"/>\n     <use xlink:href=\"#DejaVuSans-61\" x=\"87.447266\"/>\n     <use xlink:href=\"#DejaVuSans-69\" x=\"148.726562\"/>\n     <use xlink:href=\"#DejaVuSans-6e\" x=\"176.509766\"/>\n     <use xlink:href=\"#DejaVuSans-69\" x=\"239.888672\"/>\n     <use xlink:href=\"#DejaVuSans-6e\" x=\"267.671875\"/>\n     <use xlink:href=\"#DejaVuSans-67\" x=\"331.050781\"/>\n     <use xlink:href=\"#DejaVuSans-20\" x=\"394.527344\"/>\n     <use xlink:href=\"#DejaVuSans-61\" x=\"426.314453\"/>\n     <use xlink:href=\"#DejaVuSans-6e\" x=\"487.59375\"/>\n     <use xlink:href=\"#DejaVuSans-64\" x=\"550.972656\"/>\n     <use xlink:href=\"#DejaVuSans-20\" x=\"614.449219\"/>\n     <use xlink:href=\"#DejaVuSans-56\" x=\"646.236328\"/>\n     <use xlink:href=\"#DejaVuSans-61\" x=\"706.894531\"/>\n     <use xlink:href=\"#DejaVuSans-6c\" x=\"768.173828\"/>\n     <use xlink:href=\"#DejaVuSans-69\" x=\"795.957031\"/>\n     <use xlink:href=\"#DejaVuSans-64\" x=\"823.740234\"/>\n     <use xlink:href=\"#DejaVuSans-61\" x=\"887.216797\"/>\n     <use xlink:href=\"#DejaVuSans-74\" x=\"948.496094\"/>\n     <use xlink:href=\"#DejaVuSans-69\" x=\"987.705078\"/>\n     <use xlink:href=\"#DejaVuSans-6f\" x=\"1015.488281\"/>\n     <use xlink:href=\"#DejaVuSans-6e\" x=\"1076.669922\"/>\n     <use xlink:href=\"#DejaVuSans-20\" x=\"1140.048828\"/>\n     <use xlink:href=\"#DejaVuSans-41\" x=\"1171.835938\"/>\n     <use xlink:href=\"#DejaVuSans-63\" x=\"1238.494141\"/>\n     <use xlink:href=\"#DejaVuSans-63\" x=\"1293.474609\"/>\n     <use xlink:href=\"#DejaVuSans-75\" x=\"1348.455078\"/>\n     <use xlink:href=\"#DejaVuSans-72\" x=\"1411.833984\"/>\n     <use xlink:href=\"#DejaVuSans-61\" x=\"1452.947266\"/>\n     <use xlink:href=\"#DejaVuSans-63\" x=\"1514.226562\"/>\n     <use xlink:href=\"#DejaVuSans-79\" x=\"1569.207031\"/>\n    </g>\n   </g>\n   <g id=\"legend_1\">\n    <g id=\"patch_7\">\n     <path d=\"M 339.2875 214.990852 \nL 469.503125 214.990852 \nQ 471.503125 214.990852 471.503125 212.990852 \nL 471.503125 169.956477 \nQ 471.503125 167.956477 469.503125 167.956477 \nL 339.2875 167.956477 \nQ 337.2875 167.956477 337.2875 169.956477 \nL 337.2875 212.990852 \nQ 337.2875 214.990852 339.2875 214.990852 \nz\n\" style=\"opacity: 0.8; stroke: #cccccc; stroke-linejoin: miter\"/>\n    </g>\n    <g id=\"line2d_16\">\n     <path d=\"M 341.2875 176.054915 \nL 351.2875 176.054915 \nL 361.2875 176.054915 \n\" style=\"fill: none; stroke: #8dd3c7; stroke-width: 1.5; stroke-linecap: square\"/>\n    </g>\n    <g id=\"text_14\">\n     <!-- Training Accuracy -->\n     <g style=\"fill: #ffffff\" transform=\"translate(369.2875 179.554915)scale(0.1 -0.1)\">\n      <use xlink:href=\"#DejaVuSans-54\"/>\n      <use xlink:href=\"#DejaVuSans-72\" x=\"46.333984\"/>\n      <use xlink:href=\"#DejaVuSans-61\" x=\"87.447266\"/>\n      <use xlink:href=\"#DejaVuSans-69\" x=\"148.726562\"/>\n      <use xlink:href=\"#DejaVuSans-6e\" x=\"176.509766\"/>\n      <use xlink:href=\"#DejaVuSans-69\" x=\"239.888672\"/>\n      <use xlink:href=\"#DejaVuSans-6e\" x=\"267.671875\"/>\n      <use xlink:href=\"#DejaVuSans-67\" x=\"331.050781\"/>\n      <use xlink:href=\"#DejaVuSans-20\" x=\"394.527344\"/>\n      <use xlink:href=\"#DejaVuSans-41\" x=\"426.314453\"/>\n      <use xlink:href=\"#DejaVuSans-63\" x=\"492.972656\"/>\n      <use xlink:href=\"#DejaVuSans-63\" x=\"547.953125\"/>\n      <use xlink:href=\"#DejaVuSans-75\" x=\"602.933594\"/>\n      <use xlink:href=\"#DejaVuSans-72\" x=\"666.3125\"/>\n      <use xlink:href=\"#DejaVuSans-61\" x=\"707.425781\"/>\n      <use xlink:href=\"#DejaVuSans-63\" x=\"768.705078\"/>\n      <use xlink:href=\"#DejaVuSans-79\" x=\"823.685547\"/>\n     </g>\n    </g>\n    <g id=\"line2d_17\">\n     <path d=\"M 341.2875 190.73304 \nL 351.2875 190.73304 \nL 361.2875 190.73304 \n\" style=\"fill: none; stroke: #feffb3; stroke-width: 1.5; stroke-linecap: square\"/>\n    </g>\n    <g id=\"text_15\">\n     <!-- Validation Accuracy -->\n     <g style=\"fill: #ffffff\" transform=\"translate(369.2875 194.23304)scale(0.1 -0.1)\">\n      <use xlink:href=\"#DejaVuSans-56\"/>\n      <use xlink:href=\"#DejaVuSans-61\" x=\"60.658203\"/>\n      <use xlink:href=\"#DejaVuSans-6c\" x=\"121.9375\"/>\n      <use xlink:href=\"#DejaVuSans-69\" x=\"149.720703\"/>\n      <use xlink:href=\"#DejaVuSans-64\" x=\"177.503906\"/>\n      <use xlink:href=\"#DejaVuSans-61\" x=\"240.980469\"/>\n      <use xlink:href=\"#DejaVuSans-74\" x=\"302.259766\"/>\n      <use xlink:href=\"#DejaVuSans-69\" x=\"341.46875\"/>\n      <use xlink:href=\"#DejaVuSans-6f\" x=\"369.251953\"/>\n      <use xlink:href=\"#DejaVuSans-6e\" x=\"430.433594\"/>\n      <use xlink:href=\"#DejaVuSans-20\" x=\"493.8125\"/>\n      <use xlink:href=\"#DejaVuSans-41\" x=\"525.599609\"/>\n      <use xlink:href=\"#DejaVuSans-63\" x=\"592.257812\"/>\n      <use xlink:href=\"#DejaVuSans-63\" x=\"647.238281\"/>\n      <use xlink:href=\"#DejaVuSans-75\" x=\"702.21875\"/>\n      <use xlink:href=\"#DejaVuSans-72\" x=\"765.597656\"/>\n      <use xlink:href=\"#DejaVuSans-61\" x=\"806.710938\"/>\n      <use xlink:href=\"#DejaVuSans-63\" x=\"867.990234\"/>\n      <use xlink:href=\"#DejaVuSans-79\" x=\"922.970703\"/>\n     </g>\n    </g>\n    <g id=\"line2d_18\">\n     <path d=\"M 341.2875 205.411165 \nL 351.2875 205.411165 \nL 361.2875 205.411165 \n\" style=\"fill: none; stroke: #bfbbd9; stroke-width: 1.5; stroke-linecap: square\"/>\n    </g>\n    <g id=\"text_16\">\n     <!-- Start Fine Tuning -->\n     <g style=\"fill: #ffffff\" transform=\"translate(369.2875 208.911165)scale(0.1 -0.1)\">\n      <defs>\n       <path id=\"DejaVuSans-53\" d=\"M 3425 4513 \nL 3425 3897 \nQ 3066 4069 2747 4153 \nQ 2428 4238 2131 4238 \nQ 1616 4238 1336 4038 \nQ 1056 3838 1056 3469 \nQ 1056 3159 1242 3001 \nQ 1428 2844 1947 2747 \nL 2328 2669 \nQ 3034 2534 3370 2195 \nQ 3706 1856 3706 1288 \nQ 3706 609 3251 259 \nQ 2797 -91 1919 -91 \nQ 1588 -91 1214 -16 \nQ 841 59 441 206 \nL 441 856 \nQ 825 641 1194 531 \nQ 1563 422 1919 422 \nQ 2459 422 2753 634 \nQ 3047 847 3047 1241 \nQ 3047 1584 2836 1778 \nQ 2625 1972 2144 2069 \nL 1759 2144 \nQ 1053 2284 737 2584 \nQ 422 2884 422 3419 \nQ 422 4038 858 4394 \nQ 1294 4750 2059 4750 \nQ 2388 4750 2728 4690 \nQ 3069 4631 3425 4513 \nz\n\" transform=\"scale(0.015625)\"/>\n       <path id=\"DejaVuSans-46\" d=\"M 628 4666 \nL 3309 4666 \nL 3309 4134 \nL 1259 4134 \nL 1259 2759 \nL 3109 2759 \nL 3109 2228 \nL 1259 2228 \nL 1259 0 \nL 628 0 \nL 628 4666 \nz\n\" transform=\"scale(0.015625)\"/>\n       <path id=\"DejaVuSans-65\" d=\"M 3597 1894 \nL 3597 1613 \nL 953 1613 \nQ 991 1019 1311 708 \nQ 1631 397 2203 397 \nQ 2534 397 2845 478 \nQ 3156 559 3463 722 \nL 3463 178 \nQ 3153 47 2828 -22 \nQ 2503 -91 2169 -91 \nQ 1331 -91 842 396 \nQ 353 884 353 1716 \nQ 353 2575 817 3079 \nQ 1281 3584 2069 3584 \nQ 2775 3584 3186 3129 \nQ 3597 2675 3597 1894 \nz\nM 3022 2063 \nQ 3016 2534 2758 2815 \nQ 2500 3097 2075 3097 \nQ 1594 3097 1305 2825 \nQ 1016 2553 972 2059 \nL 3022 2063 \nz\n\" transform=\"scale(0.015625)\"/>\n      </defs>\n      <use xlink:href=\"#DejaVuSans-53\"/>\n      <use xlink:href=\"#DejaVuSans-74\" x=\"63.476562\"/>\n      <use xlink:href=\"#DejaVuSans-61\" x=\"102.685547\"/>\n      <use xlink:href=\"#DejaVuSans-72\" x=\"163.964844\"/>\n      <use xlink:href=\"#DejaVuSans-74\" x=\"205.078125\"/>\n      <use xlink:href=\"#DejaVuSans-20\" x=\"244.287109\"/>\n      <use xlink:href=\"#DejaVuSans-46\" x=\"276.074219\"/>\n      <use xlink:href=\"#DejaVuSans-69\" x=\"326.34375\"/>\n      <use xlink:href=\"#DejaVuSans-6e\" x=\"354.126953\"/>\n      <use xlink:href=\"#DejaVuSans-65\" x=\"417.505859\"/>\n      <use xlink:href=\"#DejaVuSans-20\" x=\"479.029297\"/>\n      <use xlink:href=\"#DejaVuSans-54\" x=\"510.816406\"/>\n      <use xlink:href=\"#DejaVuSans-75\" x=\"556.775391\"/>\n      <use xlink:href=\"#DejaVuSans-6e\" x=\"620.154297\"/>\n      <use xlink:href=\"#DejaVuSans-69\" x=\"683.533203\"/>\n      <use xlink:href=\"#DejaVuSans-6e\" x=\"711.316406\"/>\n      <use xlink:href=\"#DejaVuSans-67\" x=\"774.695312\"/>\n     </g>\n    </g>\n   </g>\n  </g>\n  <g id=\"axes_2\">\n   <g id=\"patch_8\">\n    <path d=\"M 30.103125 457.198125 \nL 476.503125 457.198125 \nL 476.503125 259.525398 \nL 30.103125 259.525398 \nz\n\"/>\n   </g>\n   <g id=\"matplotlib.axis_3\">\n    <g id=\"xtick_7\">\n     <g id=\"line2d_19\">\n      <g>\n       <use xlink:href=\"#m0392018a97\" x=\"50.394034\" y=\"457.198125\" style=\"fill: #ffffff; stroke: #ffffff; stroke-width: 0.8\"/>\n      </g>\n     </g>\n     <g id=\"text_17\">\n      <!-- 0 -->\n      <g style=\"fill: #ffffff\" transform=\"translate(47.212784 471.796562)scale(0.1 -0.1)\">\n       <use xlink:href=\"#DejaVuSans-30\"/>\n      </g>\n     </g>\n    </g>\n    <g id=\"xtick_8\">\n     <g id=\"line2d_20\">\n      <g>\n       <use xlink:href=\"#m0392018a97\" x=\"131.55767\" y=\"457.198125\" style=\"fill: #ffffff; stroke: #ffffff; stroke-width: 0.8\"/>\n      </g>\n     </g>\n     <g id=\"text_18\">\n      <!-- 2 -->\n      <g style=\"fill: #ffffff\" transform=\"translate(128.37642 471.796562)scale(0.1 -0.1)\">\n       <use xlink:href=\"#DejaVuSans-32\"/>\n      </g>\n     </g>\n    </g>\n    <g id=\"xtick_9\">\n     <g id=\"line2d_21\">\n      <g>\n       <use xlink:href=\"#m0392018a97\" x=\"212.721307\" y=\"457.198125\" style=\"fill: #ffffff; stroke: #ffffff; stroke-width: 0.8\"/>\n      </g>\n     </g>\n     <g id=\"text_19\">\n      <!-- 4 -->\n      <g style=\"fill: #ffffff\" transform=\"translate(209.540057 471.796562)scale(0.1 -0.1)\">\n       <use xlink:href=\"#DejaVuSans-34\"/>\n      </g>\n     </g>\n    </g>\n    <g id=\"xtick_10\">\n     <g id=\"line2d_22\">\n      <g>\n       <use xlink:href=\"#m0392018a97\" x=\"293.884943\" y=\"457.198125\" style=\"fill: #ffffff; stroke: #ffffff; stroke-width: 0.8\"/>\n      </g>\n     </g>\n     <g id=\"text_20\">\n      <!-- 6 -->\n      <g style=\"fill: #ffffff\" transform=\"translate(290.703693 471.796562)scale(0.1 -0.1)\">\n       <use xlink:href=\"#DejaVuSans-36\"/>\n      </g>\n     </g>\n    </g>\n    <g id=\"xtick_11\">\n     <g id=\"line2d_23\">\n      <g>\n       <use xlink:href=\"#m0392018a97\" x=\"375.04858\" y=\"457.198125\" style=\"fill: #ffffff; stroke: #ffffff; stroke-width: 0.8\"/>\n      </g>\n     </g>\n     <g id=\"text_21\">\n      <!-- 8 -->\n      <g style=\"fill: #ffffff\" transform=\"translate(371.86733 471.796562)scale(0.1 -0.1)\">\n       <use xlink:href=\"#DejaVuSans-38\"/>\n      </g>\n     </g>\n    </g>\n    <g id=\"xtick_12\">\n     <g id=\"line2d_24\">\n      <g>\n       <use xlink:href=\"#m0392018a97\" x=\"456.212216\" y=\"457.198125\" style=\"fill: #ffffff; stroke: #ffffff; stroke-width: 0.8\"/>\n      </g>\n     </g>\n     <g id=\"text_22\">\n      <!-- 10 -->\n      <g style=\"fill: #ffffff\" transform=\"translate(449.849716 471.796562)scale(0.1 -0.1)\">\n       <use xlink:href=\"#DejaVuSans-31\"/>\n       <use xlink:href=\"#DejaVuSans-30\" x=\"63.623047\"/>\n      </g>\n     </g>\n    </g>\n    <g id=\"text_23\">\n     <!-- epoch -->\n     <g style=\"fill: #ffffff\" transform=\"translate(238.075 485.474687)scale(0.1 -0.1)\">\n      <defs>\n       <path id=\"DejaVuSans-70\" d=\"M 1159 525 \nL 1159 -1331 \nL 581 -1331 \nL 581 3500 \nL 1159 3500 \nL 1159 2969 \nQ 1341 3281 1617 3432 \nQ 1894 3584 2278 3584 \nQ 2916 3584 3314 3078 \nQ 3713 2572 3713 1747 \nQ 3713 922 3314 415 \nQ 2916 -91 2278 -91 \nQ 1894 -91 1617 61 \nQ 1341 213 1159 525 \nz\nM 3116 1747 \nQ 3116 2381 2855 2742 \nQ 2594 3103 2138 3103 \nQ 1681 3103 1420 2742 \nQ 1159 2381 1159 1747 \nQ 1159 1113 1420 752 \nQ 1681 391 2138 391 \nQ 2594 391 2855 752 \nQ 3116 1113 3116 1747 \nz\n\" transform=\"scale(0.015625)\"/>\n       <path id=\"DejaVuSans-68\" d=\"M 3513 2113 \nL 3513 0 \nL 2938 0 \nL 2938 2094 \nQ 2938 2591 2744 2837 \nQ 2550 3084 2163 3084 \nQ 1697 3084 1428 2787 \nQ 1159 2491 1159 1978 \nL 1159 0 \nL 581 0 \nL 581 4863 \nL 1159 4863 \nL 1159 2956 \nQ 1366 3272 1645 3428 \nQ 1925 3584 2291 3584 \nQ 2894 3584 3203 3211 \nQ 3513 2838 3513 2113 \nz\n\" transform=\"scale(0.015625)\"/>\n      </defs>\n      <use xlink:href=\"#DejaVuSans-65\"/>\n      <use xlink:href=\"#DejaVuSans-70\" x=\"61.523438\"/>\n      <use xlink:href=\"#DejaVuSans-6f\" x=\"125\"/>\n      <use xlink:href=\"#DejaVuSans-63\" x=\"186.181641\"/>\n      <use xlink:href=\"#DejaVuSans-68\" x=\"241.162109\"/>\n     </g>\n    </g>\n   </g>\n   <g id=\"matplotlib.axis_4\">\n    <g id=\"ytick_7\">\n     <g id=\"line2d_25\">\n      <g>\n       <use xlink:href=\"#m254537f314\" x=\"30.103125\" y=\"438.237592\" style=\"fill: #ffffff; stroke: #ffffff; stroke-width: 0.8\"/>\n      </g>\n     </g>\n     <g id=\"text_24\">\n      <!-- 1.0 -->\n      <g style=\"fill: #ffffff\" transform=\"translate(7.2 442.036811)scale(0.1 -0.1)\">\n       <use xlink:href=\"#DejaVuSans-31\"/>\n       <use xlink:href=\"#DejaVuSans-2e\" x=\"63.623047\"/>\n       <use xlink:href=\"#DejaVuSans-30\" x=\"95.410156\"/>\n      </g>\n     </g>\n    </g>\n    <g id=\"ytick_8\">\n     <g id=\"line2d_26\">\n      <g>\n       <use xlink:href=\"#m254537f314\" x=\"30.103125\" y=\"405.77057\" style=\"fill: #ffffff; stroke: #ffffff; stroke-width: 0.8\"/>\n      </g>\n     </g>\n     <g id=\"text_25\">\n      <!-- 1.5 -->\n      <g style=\"fill: #ffffff\" transform=\"translate(7.2 409.569789)scale(0.1 -0.1)\">\n       <use xlink:href=\"#DejaVuSans-31\"/>\n       <use xlink:href=\"#DejaVuSans-2e\" x=\"63.623047\"/>\n       <use xlink:href=\"#DejaVuSans-35\" x=\"95.410156\"/>\n      </g>\n     </g>\n    </g>\n    <g id=\"ytick_9\">\n     <g id=\"line2d_27\">\n      <g>\n       <use xlink:href=\"#m254537f314\" x=\"30.103125\" y=\"373.303548\" style=\"fill: #ffffff; stroke: #ffffff; stroke-width: 0.8\"/>\n      </g>\n     </g>\n     <g id=\"text_26\">\n      <!-- 2.0 -->\n      <g style=\"fill: #ffffff\" transform=\"translate(7.2 377.102767)scale(0.1 -0.1)\">\n       <use xlink:href=\"#DejaVuSans-32\"/>\n       <use xlink:href=\"#DejaVuSans-2e\" x=\"63.623047\"/>\n       <use xlink:href=\"#DejaVuSans-30\" x=\"95.410156\"/>\n      </g>\n     </g>\n    </g>\n    <g id=\"ytick_10\">\n     <g id=\"line2d_28\">\n      <g>\n       <use xlink:href=\"#m254537f314\" x=\"30.103125\" y=\"340.836526\" style=\"fill: #ffffff; stroke: #ffffff; stroke-width: 0.8\"/>\n      </g>\n     </g>\n     <g id=\"text_27\">\n      <!-- 2.5 -->\n      <g style=\"fill: #ffffff\" transform=\"translate(7.2 344.635745)scale(0.1 -0.1)\">\n       <use xlink:href=\"#DejaVuSans-32\"/>\n       <use xlink:href=\"#DejaVuSans-2e\" x=\"63.623047\"/>\n       <use xlink:href=\"#DejaVuSans-35\" x=\"95.410156\"/>\n      </g>\n     </g>\n    </g>\n    <g id=\"ytick_11\">\n     <g id=\"line2d_29\">\n      <g>\n       <use xlink:href=\"#m254537f314\" x=\"30.103125\" y=\"308.369504\" style=\"fill: #ffffff; stroke: #ffffff; stroke-width: 0.8\"/>\n      </g>\n     </g>\n     <g id=\"text_28\">\n      <!-- 3.0 -->\n      <g style=\"fill: #ffffff\" transform=\"translate(7.2 312.168723)scale(0.1 -0.1)\">\n       <use xlink:href=\"#DejaVuSans-33\"/>\n       <use xlink:href=\"#DejaVuSans-2e\" x=\"63.623047\"/>\n       <use xlink:href=\"#DejaVuSans-30\" x=\"95.410156\"/>\n      </g>\n     </g>\n    </g>\n    <g id=\"ytick_12\">\n     <g id=\"line2d_30\">\n      <g>\n       <use xlink:href=\"#m254537f314\" x=\"30.103125\" y=\"275.902482\" style=\"fill: #ffffff; stroke: #ffffff; stroke-width: 0.8\"/>\n      </g>\n     </g>\n     <g id=\"text_29\">\n      <!-- 3.5 -->\n      <g style=\"fill: #ffffff\" transform=\"translate(7.2 279.701701)scale(0.1 -0.1)\">\n       <use xlink:href=\"#DejaVuSans-33\"/>\n       <use xlink:href=\"#DejaVuSans-2e\" x=\"63.623047\"/>\n       <use xlink:href=\"#DejaVuSans-35\" x=\"95.410156\"/>\n      </g>\n     </g>\n    </g>\n   </g>\n   <g id=\"line2d_31\">\n    <path d=\"M 50.394034 276.678816 \nL 90.975852 350.425973 \nL 131.55767 375.028363 \nL 172.139489 389.133828 \nL 212.721307 399.22044 \nL 253.303125 415.547575 \nL 293.884943 423.335945 \nL 334.466761 428.206381 \nL 375.04858 432.369839 \nL 415.630398 437.039534 \nL 456.212216 440.044707 \n\" clip-path=\"url(#p0b5892c155)\" style=\"fill: none; stroke: #8dd3c7; stroke-width: 1.5; stroke-linecap: square\"/>\n   </g>\n   <g id=\"line2d_32\">\n    <path d=\"M 50.394034 333.13825 \nL 90.975852 360.105089 \nL 131.55767 370.640903 \nL 172.139489 375.810077 \nL 212.721307 380.149908 \nL 253.303125 382.990071 \nL 293.884943 384.911765 \nL 334.466761 382.0738 \nL 375.04858 381.917189 \nL 415.630398 383.738733 \nL 456.212216 386.651117 \n\" clip-path=\"url(#p0b5892c155)\" style=\"fill: none; stroke: #feffb3; stroke-width: 1.5; stroke-linecap: square\"/>\n   </g>\n   <g id=\"line2d_33\">\n    <path d=\"M 212.721307 448.213001 \nL 212.721307 268.510522 \n\" clip-path=\"url(#p0b5892c155)\" style=\"fill: none; stroke: #bfbbd9; stroke-width: 1.5; stroke-linecap: square\"/>\n   </g>\n   <g id=\"patch_9\">\n    <path d=\"M 30.103125 457.198125 \nL 30.103125 259.525398 \n\" style=\"fill: none; stroke: #ffffff; stroke-width: 0.8; stroke-linejoin: miter; stroke-linecap: square\"/>\n   </g>\n   <g id=\"patch_10\">\n    <path d=\"M 476.503125 457.198125 \nL 476.503125 259.525398 \n\" style=\"fill: none; stroke: #ffffff; stroke-width: 0.8; stroke-linejoin: miter; stroke-linecap: square\"/>\n   </g>\n   <g id=\"patch_11\">\n    <path d=\"M 30.103125 457.198125 \nL 476.503125 457.198125 \n\" style=\"fill: none; stroke: #ffffff; stroke-width: 0.8; stroke-linejoin: miter; stroke-linecap: square\"/>\n   </g>\n   <g id=\"patch_12\">\n    <path d=\"M 30.103125 259.525398 \nL 476.503125 259.525398 \n\" style=\"fill: none; stroke: #ffffff; stroke-width: 0.8; stroke-linejoin: miter; stroke-linecap: square\"/>\n   </g>\n   <g id=\"text_30\">\n    <!-- Training and Validation Loss -->\n    <g style=\"fill: #ffffff\" transform=\"translate(169.83375 253.525398)scale(0.12 -0.12)\">\n     <defs>\n      <path id=\"DejaVuSans-4c\" d=\"M 628 4666 \nL 1259 4666 \nL 1259 531 \nL 3531 531 \nL 3531 0 \nL 628 0 \nL 628 4666 \nz\n\" transform=\"scale(0.015625)\"/>\n      <path id=\"DejaVuSans-73\" d=\"M 2834 3397 \nL 2834 2853 \nQ 2591 2978 2328 3040 \nQ 2066 3103 1784 3103 \nQ 1356 3103 1142 2972 \nQ 928 2841 928 2578 \nQ 928 2378 1081 2264 \nQ 1234 2150 1697 2047 \nL 1894 2003 \nQ 2506 1872 2764 1633 \nQ 3022 1394 3022 966 \nQ 3022 478 2636 193 \nQ 2250 -91 1575 -91 \nQ 1294 -91 989 -36 \nQ 684 19 347 128 \nL 347 722 \nQ 666 556 975 473 \nQ 1284 391 1588 391 \nQ 1994 391 2212 530 \nQ 2431 669 2431 922 \nQ 2431 1156 2273 1281 \nQ 2116 1406 1581 1522 \nL 1381 1569 \nQ 847 1681 609 1914 \nQ 372 2147 372 2553 \nQ 372 3047 722 3315 \nQ 1072 3584 1716 3584 \nQ 2034 3584 2315 3537 \nQ 2597 3491 2834 3397 \nz\n\" transform=\"scale(0.015625)\"/>\n     </defs>\n     <use xlink:href=\"#DejaVuSans-54\"/>\n     <use xlink:href=\"#DejaVuSans-72\" x=\"46.333984\"/>\n     <use xlink:href=\"#DejaVuSans-61\" x=\"87.447266\"/>\n     <use xlink:href=\"#DejaVuSans-69\" x=\"148.726562\"/>\n     <use xlink:href=\"#DejaVuSans-6e\" x=\"176.509766\"/>\n     <use xlink:href=\"#DejaVuSans-69\" x=\"239.888672\"/>\n     <use xlink:href=\"#DejaVuSans-6e\" x=\"267.671875\"/>\n     <use xlink:href=\"#DejaVuSans-67\" x=\"331.050781\"/>\n     <use xlink:href=\"#DejaVuSans-20\" x=\"394.527344\"/>\n     <use xlink:href=\"#DejaVuSans-61\" x=\"426.314453\"/>\n     <use xlink:href=\"#DejaVuSans-6e\" x=\"487.59375\"/>\n     <use xlink:href=\"#DejaVuSans-64\" x=\"550.972656\"/>\n     <use xlink:href=\"#DejaVuSans-20\" x=\"614.449219\"/>\n     <use xlink:href=\"#DejaVuSans-56\" x=\"646.236328\"/>\n     <use xlink:href=\"#DejaVuSans-61\" x=\"706.894531\"/>\n     <use xlink:href=\"#DejaVuSans-6c\" x=\"768.173828\"/>\n     <use xlink:href=\"#DejaVuSans-69\" x=\"795.957031\"/>\n     <use xlink:href=\"#DejaVuSans-64\" x=\"823.740234\"/>\n     <use xlink:href=\"#DejaVuSans-61\" x=\"887.216797\"/>\n     <use xlink:href=\"#DejaVuSans-74\" x=\"948.496094\"/>\n     <use xlink:href=\"#DejaVuSans-69\" x=\"987.705078\"/>\n     <use xlink:href=\"#DejaVuSans-6f\" x=\"1015.488281\"/>\n     <use xlink:href=\"#DejaVuSans-6e\" x=\"1076.669922\"/>\n     <use xlink:href=\"#DejaVuSans-20\" x=\"1140.048828\"/>\n     <use xlink:href=\"#DejaVuSans-4c\" x=\"1171.835938\"/>\n     <use xlink:href=\"#DejaVuSans-6f\" x=\"1225.798828\"/>\n     <use xlink:href=\"#DejaVuSans-73\" x=\"1286.980469\"/>\n     <use xlink:href=\"#DejaVuSans-73\" x=\"1339.080078\"/>\n    </g>\n   </g>\n   <g id=\"legend_2\">\n    <g id=\"patch_13\">\n     <path d=\"M 353.689062 311.559773 \nL 469.503125 311.559773 \nQ 471.503125 311.559773 471.503125 309.559773 \nL 471.503125 266.525398 \nQ 471.503125 264.525398 469.503125 264.525398 \nL 353.689062 264.525398 \nQ 351.689062 264.525398 351.689062 266.525398 \nL 351.689062 309.559773 \nQ 351.689062 311.559773 353.689062 311.559773 \nz\n\" style=\"opacity: 0.8; stroke: #cccccc; stroke-linejoin: miter\"/>\n    </g>\n    <g id=\"line2d_34\">\n     <path d=\"M 355.689062 272.623835 \nL 365.689062 272.623835 \nL 375.689062 272.623835 \n\" style=\"fill: none; stroke: #8dd3c7; stroke-width: 1.5; stroke-linecap: square\"/>\n    </g>\n    <g id=\"text_31\">\n     <!-- Training Loss -->\n     <g style=\"fill: #ffffff\" transform=\"translate(383.689062 276.123835)scale(0.1 -0.1)\">\n      <use xlink:href=\"#DejaVuSans-54\"/>\n      <use xlink:href=\"#DejaVuSans-72\" x=\"46.333984\"/>\n      <use xlink:href=\"#DejaVuSans-61\" x=\"87.447266\"/>\n      <use xlink:href=\"#DejaVuSans-69\" x=\"148.726562\"/>\n      <use xlink:href=\"#DejaVuSans-6e\" x=\"176.509766\"/>\n      <use xlink:href=\"#DejaVuSans-69\" x=\"239.888672\"/>\n      <use xlink:href=\"#DejaVuSans-6e\" x=\"267.671875\"/>\n      <use xlink:href=\"#DejaVuSans-67\" x=\"331.050781\"/>\n      <use xlink:href=\"#DejaVuSans-20\" x=\"394.527344\"/>\n      <use xlink:href=\"#DejaVuSans-4c\" x=\"426.314453\"/>\n      <use xlink:href=\"#DejaVuSans-6f\" x=\"480.277344\"/>\n      <use xlink:href=\"#DejaVuSans-73\" x=\"541.458984\"/>\n      <use xlink:href=\"#DejaVuSans-73\" x=\"593.558594\"/>\n     </g>\n    </g>\n    <g id=\"line2d_35\">\n     <path d=\"M 355.689062 287.30196 \nL 365.689062 287.30196 \nL 375.689062 287.30196 \n\" style=\"fill: none; stroke: #feffb3; stroke-width: 1.5; stroke-linecap: square\"/>\n    </g>\n    <g id=\"text_32\">\n     <!-- Validation Loss -->\n     <g style=\"fill: #ffffff\" transform=\"translate(383.689062 290.80196)scale(0.1 -0.1)\">\n      <use xlink:href=\"#DejaVuSans-56\"/>\n      <use xlink:href=\"#DejaVuSans-61\" x=\"60.658203\"/>\n      <use xlink:href=\"#DejaVuSans-6c\" x=\"121.9375\"/>\n      <use xlink:href=\"#DejaVuSans-69\" x=\"149.720703\"/>\n      <use xlink:href=\"#DejaVuSans-64\" x=\"177.503906\"/>\n      <use xlink:href=\"#DejaVuSans-61\" x=\"240.980469\"/>\n      <use xlink:href=\"#DejaVuSans-74\" x=\"302.259766\"/>\n      <use xlink:href=\"#DejaVuSans-69\" x=\"341.46875\"/>\n      <use xlink:href=\"#DejaVuSans-6f\" x=\"369.251953\"/>\n      <use xlink:href=\"#DejaVuSans-6e\" x=\"430.433594\"/>\n      <use xlink:href=\"#DejaVuSans-20\" x=\"493.8125\"/>\n      <use xlink:href=\"#DejaVuSans-4c\" x=\"525.599609\"/>\n      <use xlink:href=\"#DejaVuSans-6f\" x=\"579.5625\"/>\n      <use xlink:href=\"#DejaVuSans-73\" x=\"640.744141\"/>\n      <use xlink:href=\"#DejaVuSans-73\" x=\"692.84375\"/>\n     </g>\n    </g>\n    <g id=\"line2d_36\">\n     <path d=\"M 355.689062 301.980085 \nL 365.689062 301.980085 \nL 375.689062 301.980085 \n\" style=\"fill: none; stroke: #bfbbd9; stroke-width: 1.5; stroke-linecap: square\"/>\n    </g>\n    <g id=\"text_33\">\n     <!-- Start Fine Tuning -->\n     <g style=\"fill: #ffffff\" transform=\"translate(383.689062 305.480085)scale(0.1 -0.1)\">\n      <use xlink:href=\"#DejaVuSans-53\"/>\n      <use xlink:href=\"#DejaVuSans-74\" x=\"63.476562\"/>\n      <use xlink:href=\"#DejaVuSans-61\" x=\"102.685547\"/>\n      <use xlink:href=\"#DejaVuSans-72\" x=\"163.964844\"/>\n      <use xlink:href=\"#DejaVuSans-74\" x=\"205.078125\"/>\n      <use xlink:href=\"#DejaVuSans-20\" x=\"244.287109\"/>\n      <use xlink:href=\"#DejaVuSans-46\" x=\"276.074219\"/>\n      <use xlink:href=\"#DejaVuSans-69\" x=\"326.34375\"/>\n      <use xlink:href=\"#DejaVuSans-6e\" x=\"354.126953\"/>\n      <use xlink:href=\"#DejaVuSans-65\" x=\"417.505859\"/>\n      <use xlink:href=\"#DejaVuSans-20\" x=\"479.029297\"/>\n      <use xlink:href=\"#DejaVuSans-54\" x=\"510.816406\"/>\n      <use xlink:href=\"#DejaVuSans-75\" x=\"556.775391\"/>\n      <use xlink:href=\"#DejaVuSans-6e\" x=\"620.154297\"/>\n      <use xlink:href=\"#DejaVuSans-69\" x=\"683.533203\"/>\n      <use xlink:href=\"#DejaVuSans-6e\" x=\"711.316406\"/>\n      <use xlink:href=\"#DejaVuSans-67\" x=\"774.695312\"/>\n     </g>\n    </g>\n   </g>\n  </g>\n </g>\n <defs>\n  <clipPath id=\"p83eaedbf43\">\n   <rect x=\"30.103125\" y=\"22.318125\" width=\"446.4\" height=\"197.672727\"/>\n  </clipPath>\n  <clipPath id=\"p0b5892c155\">\n   <rect x=\"30.103125\" y=\"259.525398\" width=\"446.4\" height=\"197.672727\"/>\n  </clipPath>\n </defs>\n</svg>\n",
            "text/plain": [
              "<Figure size 576x576 with 2 Axes>"
            ]
          },
          "metadata": {},
          "output_type": "display_data"
        }
      ],
      "source": [
        "# Compare the historie of feature extraction model with fine-tuning model\n",
        "compare_historys(\n",
        "    original_history=history_all_classes_10_percent, \n",
        "    new_history=history_all_classes_10_percent_fine_tuned, \n",
        "    initial_epochs=5\n",
        ")"
      ]
    },
    {
      "cell_type": "markdown",
      "metadata": {},
      "source": [
        "## Saving and loading our model\n",
        "\n",
        "To use our model in an external application, we'll save it and export somewhere"
      ]
    },
    {
      "cell_type": "code",
      "execution_count": 23,
      "metadata": {},
      "outputs": [
        {
          "name": "stdout",
          "output_type": "stream",
          "text": [
            "INFO:tensorflow:Assets written to: 101_food_classes_10_percent/saved_trained_model/assets\n"
          ]
        },
        {
          "name": "stderr",
          "output_type": "stream",
          "text": [
            "c:\\Users\\gutsc\\anaconda3\\envs\\udemy_tensorflow\\lib\\site-packages\\keras\\utils\\generic_utils.py:494: CustomMaskWarning: Custom mask layers require a config and must override get_config. When loading, the custom mask layer must be passed to the custom_objects argument.\n",
            "  warnings.warn('Custom mask layers require a config and must override '\n"
          ]
        }
      ],
      "source": [
        "# Save our fine-tuned model\n",
        "model.save(\"101_food_classes_10_percent/saved_trained_model/\")"
      ]
    },
    {
      "cell_type": "code",
      "execution_count": 24,
      "metadata": {},
      "outputs": [
        {
          "name": "stderr",
          "output_type": "stream",
          "text": [
            "WARNING:absl:Importing a function (__inference_block6b_activation_layer_call_and_return_conditional_losses_50917) with ops with unsaved custom gradients. Will likely fail if a gradient is requested.\n",
            "WARNING:absl:Importing a function (__inference_block4a_expand_activation_layer_call_and_return_conditional_losses_85768) with ops with unsaved custom gradients. Will likely fail if a gradient is requested.\n",
            "WARNING:absl:Importing a function (__inference_block4a_expand_activation_layer_call_and_return_conditional_losses_49797) with ops with unsaved custom gradients. Will likely fail if a gradient is requested.\n",
            "WARNING:absl:Importing a function (__inference_block2a_activation_layer_call_and_return_conditional_losses_49200) with ops with unsaved custom gradients. Will likely fail if a gradient is requested.\n",
            "WARNING:absl:Importing a function (__inference_block5b_se_reduce_layer_call_and_return_conditional_losses_87471) with ops with unsaved custom gradients. Will likely fail if a gradient is requested.\n",
            "WARNING:absl:Importing a function (__inference_block6d_se_reduce_layer_call_and_return_conditional_losses_89471) with ops with unsaved custom gradients. Will likely fail if a gradient is requested.\n",
            "WARNING:absl:Importing a function (__inference_block6a_expand_activation_layer_call_and_return_conditional_losses_50740) with ops with unsaved custom gradients. Will likely fail if a gradient is requested.\n",
            "WARNING:absl:Importing a function (__inference_block5b_expand_activation_layer_call_and_return_conditional_losses_50418) with ops with unsaved custom gradients. Will likely fail if a gradient is requested.\n",
            "WARNING:absl:Importing a function (__inference_block2a_expand_activation_layer_call_and_return_conditional_losses_49169) with ops with unsaved custom gradients. Will likely fail if a gradient is requested.\n",
            "WARNING:absl:Importing a function (__inference_block2a_activation_layer_call_and_return_conditional_losses_84313) with ops with unsaved custom gradients. Will likely fail if a gradient is requested.\n",
            "WARNING:absl:Importing a function (__inference_block4a_se_reduce_layer_call_and_return_conditional_losses_49869) with ops with unsaved custom gradients. Will likely fail if a gradient is requested.\n",
            "WARNING:absl:Importing a function (__inference_block6b_expand_activation_layer_call_and_return_conditional_losses_88506) with ops with unsaved custom gradients. Will likely fail if a gradient is requested.\n",
            "WARNING:absl:Importing a function (__inference_block5c_expand_activation_layer_call_and_return_conditional_losses_50579) with ops with unsaved custom gradients. Will likely fail if a gradient is requested.\n",
            "WARNING:absl:Importing a function (__inference_block3a_activation_layer_call_and_return_conditional_losses_85098) with ops with unsaved custom gradients. Will likely fail if a gradient is requested.\n",
            "WARNING:absl:Importing a function (__inference_block4c_se_reduce_layer_call_and_return_conditional_losses_86708) with ops with unsaved custom gradients. Will likely fail if a gradient is requested.\n",
            "WARNING:absl:Importing a function (__inference_block4c_se_reduce_layer_call_and_return_conditional_losses_50176) with ops with unsaved custom gradients. Will likely fail if a gradient is requested.\n",
            "WARNING:absl:Importing a function (__inference_block5c_se_reduce_layer_call_and_return_conditional_losses_87876) with ops with unsaved custom gradients. Will likely fail if a gradient is requested.\n",
            "WARNING:absl:Importing a function (__inference_block4b_activation_layer_call_and_return_conditional_losses_49974) with ops with unsaved custom gradients. Will likely fail if a gradient is requested.\n",
            "WARNING:absl:Importing a function (__inference_block5b_activation_layer_call_and_return_conditional_losses_50442) with ops with unsaved custom gradients. Will likely fail if a gradient is requested.\n",
            "WARNING:absl:Importing a function (__inference_top_activation_layer_call_and_return_conditional_losses_90079) with ops with unsaved custom gradients. Will likely fail if a gradient is requested.\n",
            "WARNING:absl:Importing a function (__inference_model_layer_call_and_return_conditional_losses_72112) with ops with unsaved custom gradients. Will likely fail if a gradient is requested.\n",
            "WARNING:absl:Importing a function (__inference_block2b_se_reduce_layer_call_and_return_conditional_losses_49387) with ops with unsaved custom gradients. Will likely fail if a gradient is requested.\n",
            "WARNING:absl:Importing a function (__inference_block4c_expand_activation_layer_call_and_return_conditional_losses_86553) with ops with unsaved custom gradients. Will likely fail if a gradient is requested.\n",
            "WARNING:absl:Importing a function (__inference_block5c_expand_activation_layer_call_and_return_conditional_losses_87721) with ops with unsaved custom gradients. Will likely fail if a gradient is requested.\n",
            "WARNING:absl:Importing a function (__inference_block7a_activation_layer_call_and_return_conditional_losses_89814) with ops with unsaved custom gradients. Will likely fail if a gradient is requested.\n",
            "WARNING:absl:Importing a function (__inference_block4a_se_reduce_layer_call_and_return_conditional_losses_85945) with ops with unsaved custom gradients. Will likely fail if a gradient is requested.\n",
            "WARNING:absl:Importing a function (__inference_block5a_activation_layer_call_and_return_conditional_losses_87051) with ops with unsaved custom gradients. Will likely fail if a gradient is requested.\n",
            "WARNING:absl:Importing a function (__inference_block7a_expand_activation_layer_call_and_return_conditional_losses_89721) with ops with unsaved custom gradients. Will likely fail if a gradient is requested.\n",
            "WARNING:absl:Importing a function (__inference_block4c_expand_activation_layer_call_and_return_conditional_losses_50111) with ops with unsaved custom gradients. Will likely fail if a gradient is requested.\n",
            "WARNING:absl:Importing a function (__inference_block7a_se_reduce_layer_call_and_return_conditional_losses_89876) with ops with unsaved custom gradients. Will likely fail if a gradient is requested.\n",
            "WARNING:absl:Importing a function (__inference_block6d_activation_layer_call_and_return_conditional_losses_51239) with ops with unsaved custom gradients. Will likely fail if a gradient is requested.\n",
            "WARNING:absl:Importing a function (__inference_block6d_expand_activation_layer_call_and_return_conditional_losses_51215) with ops with unsaved custom gradients. Will likely fail if a gradient is requested.\n",
            "WARNING:absl:Importing a function (__inference_efficientnetb0_layer_call_and_return_conditional_losses_59715) with ops with unsaved custom gradients. Will likely fail if a gradient is requested.\n",
            "WARNING:absl:Importing a function (__inference_block6c_se_reduce_layer_call_and_return_conditional_losses_89066) with ops with unsaved custom gradients. Will likely fail if a gradient is requested.\n",
            "WARNING:absl:Importing a function (__inference_block3b_expand_activation_layer_call_and_return_conditional_losses_49636) with ops with unsaved custom gradients. Will likely fail if a gradient is requested.\n",
            "WARNING:absl:Importing a function (__inference_block4b_expand_activation_layer_call_and_return_conditional_losses_86148) with ops with unsaved custom gradients. Will likely fail if a gradient is requested.\n",
            "WARNING:absl:Importing a function (__inference_block3b_se_reduce_layer_call_and_return_conditional_losses_85518) with ops with unsaved custom gradients. Will likely fail if a gradient is requested.\n",
            "WARNING:absl:Importing a function (__inference_block5c_se_reduce_layer_call_and_return_conditional_losses_50644) with ops with unsaved custom gradients. Will likely fail if a gradient is requested.\n",
            "WARNING:absl:Importing a function (__inference_block2a_se_reduce_layer_call_and_return_conditional_losses_84375) with ops with unsaved custom gradients. Will likely fail if a gradient is requested.\n",
            "WARNING:absl:Importing a function (__inference_top_activation_layer_call_and_return_conditional_losses_51522) with ops with unsaved custom gradients. Will likely fail if a gradient is requested.\n",
            "WARNING:absl:Importing a function (__inference_block1a_activation_layer_call_and_return_conditional_losses_49047) with ops with unsaved custom gradients. Will likely fail if a gradient is requested.\n",
            "WARNING:absl:Importing a function (__inference_block1a_se_reduce_layer_call_and_return_conditional_losses_83995) with ops with unsaved custom gradients. Will likely fail if a gradient is requested.\n",
            "WARNING:absl:Importing a function (__inference_block5a_expand_activation_layer_call_and_return_conditional_losses_86958) with ops with unsaved custom gradients. Will likely fail if a gradient is requested.\n",
            "WARNING:absl:Importing a function (__inference_block6d_activation_layer_call_and_return_conditional_losses_89409) with ops with unsaved custom gradients. Will likely fail if a gradient is requested.\n",
            "WARNING:absl:Importing a function (__inference_block6c_expand_activation_layer_call_and_return_conditional_losses_51054) with ops with unsaved custom gradients. Will likely fail if a gradient is requested.\n",
            "WARNING:absl:Importing a function (__inference_block6a_expand_activation_layer_call_and_return_conditional_losses_88126) with ops with unsaved custom gradients. Will likely fail if a gradient is requested.\n",
            "WARNING:absl:Importing a function (__inference_efficientnetb0_layer_call_and_return_conditional_losses_63390) with ops with unsaved custom gradients. Will likely fail if a gradient is requested.\n",
            "WARNING:absl:Importing a function (__inference_block6c_activation_layer_call_and_return_conditional_losses_51078) with ops with unsaved custom gradients. Will likely fail if a gradient is requested.\n",
            "WARNING:absl:Importing a function (__inference_block1a_activation_layer_call_and_return_conditional_losses_83933) with ops with unsaved custom gradients. Will likely fail if a gradient is requested.\n",
            "WARNING:absl:Importing a function (__inference_block3a_activation_layer_call_and_return_conditional_losses_49514) with ops with unsaved custom gradients. Will likely fail if a gradient is requested.\n",
            "WARNING:absl:Importing a function (__inference_block6c_se_reduce_layer_call_and_return_conditional_losses_51119) with ops with unsaved custom gradients. Will likely fail if a gradient is requested.\n",
            "WARNING:absl:Importing a function (__inference_stem_activation_layer_call_and_return_conditional_losses_49023) with ops with unsaved custom gradients. Will likely fail if a gradient is requested.\n",
            "WARNING:absl:Importing a function (__inference_block4b_expand_activation_layer_call_and_return_conditional_losses_49950) with ops with unsaved custom gradients. Will likely fail if a gradient is requested.\n",
            "WARNING:absl:Importing a function (__inference_block2a_se_reduce_layer_call_and_return_conditional_losses_49241) with ops with unsaved custom gradients. Will likely fail if a gradient is requested.\n",
            "WARNING:absl:Importing a function (__inference_block3a_se_reduce_layer_call_and_return_conditional_losses_49555) with ops with unsaved custom gradients. Will likely fail if a gradient is requested.\n",
            "WARNING:absl:Importing a function (__inference_block3b_expand_activation_layer_call_and_return_conditional_losses_85363) with ops with unsaved custom gradients. Will likely fail if a gradient is requested.\n",
            "WARNING:absl:Importing a function (__inference_block6a_se_reduce_layer_call_and_return_conditional_losses_88303) with ops with unsaved custom gradients. Will likely fail if a gradient is requested.\n",
            "WARNING:absl:Importing a function (__inference_block2b_expand_activation_layer_call_and_return_conditional_losses_49322) with ops with unsaved custom gradients. Will likely fail if a gradient is requested.\n",
            "WARNING:absl:Importing a function (__inference_efficientnetb0_layer_call_and_return_conditional_losses_78759) with ops with unsaved custom gradients. Will likely fail if a gradient is requested.\n",
            "WARNING:absl:Importing a function (__inference_block5b_se_reduce_layer_call_and_return_conditional_losses_50483) with ops with unsaved custom gradients. Will likely fail if a gradient is requested.\n",
            "WARNING:absl:Importing a function (__inference_block6b_expand_activation_layer_call_and_return_conditional_losses_50893) with ops with unsaved custom gradients. Will likely fail if a gradient is requested.\n",
            "WARNING:absl:Importing a function (__inference_stem_activation_layer_call_and_return_conditional_losses_83840) with ops with unsaved custom gradients. Will likely fail if a gradient is requested.\n",
            "WARNING:absl:Importing a function (__inference_block5a_se_reduce_layer_call_and_return_conditional_losses_87113) with ops with unsaved custom gradients. Will likely fail if a gradient is requested.\n",
            "WARNING:absl:Importing a function (__inference_block6a_se_reduce_layer_call_and_return_conditional_losses_50812) with ops with unsaved custom gradients. Will likely fail if a gradient is requested.\n",
            "WARNING:absl:Importing a function (__inference_block5a_expand_activation_layer_call_and_return_conditional_losses_50272) with ops with unsaved custom gradients. Will likely fail if a gradient is requested.\n",
            "WARNING:absl:Importing a function (__inference_block4c_activation_layer_call_and_return_conditional_losses_86646) with ops with unsaved custom gradients. Will likely fail if a gradient is requested.\n",
            "WARNING:absl:Importing a function (__inference_block3b_se_reduce_layer_call_and_return_conditional_losses_49701) with ops with unsaved custom gradients. Will likely fail if a gradient is requested.\n",
            "WARNING:absl:Importing a function (__inference_block4b_se_reduce_layer_call_and_return_conditional_losses_86303) with ops with unsaved custom gradients. Will likely fail if a gradient is requested.\n",
            "WARNING:absl:Importing a function (__inference_block6c_expand_activation_layer_call_and_return_conditional_losses_88911) with ops with unsaved custom gradients. Will likely fail if a gradient is requested.\n",
            "WARNING:absl:Importing a function (__inference_block3b_activation_layer_call_and_return_conditional_losses_85456) with ops with unsaved custom gradients. Will likely fail if a gradient is requested.\n",
            "WARNING:absl:Importing a function (__inference_block2a_expand_activation_layer_call_and_return_conditional_losses_84198) with ops with unsaved custom gradients. Will likely fail if a gradient is requested.\n",
            "WARNING:absl:Importing a function (__inference_block2b_activation_layer_call_and_return_conditional_losses_49346) with ops with unsaved custom gradients. Will likely fail if a gradient is requested.\n",
            "WARNING:absl:Importing a function (__inference_block4b_activation_layer_call_and_return_conditional_losses_86241) with ops with unsaved custom gradients. Will likely fail if a gradient is requested.\n",
            "WARNING:absl:Importing a function (__inference_block3a_se_reduce_layer_call_and_return_conditional_losses_85160) with ops with unsaved custom gradients. Will likely fail if a gradient is requested.\n",
            "WARNING:absl:Importing a function (__inference_efficientnetb0_layer_call_and_return_conditional_losses_75388) with ops with unsaved custom gradients. Will likely fail if a gradient is requested.\n",
            "WARNING:absl:Importing a function (__inference_block6b_activation_layer_call_and_return_conditional_losses_88599) with ops with unsaved custom gradients. Will likely fail if a gradient is requested.\n",
            "WARNING:absl:Importing a function (__inference_block5b_expand_activation_layer_call_and_return_conditional_losses_87316) with ops with unsaved custom gradients. Will likely fail if a gradient is requested.\n",
            "WARNING:absl:Importing a function (__inference_block7a_activation_layer_call_and_return_conditional_losses_51400) with ops with unsaved custom gradients. Will likely fail if a gradient is requested.\n",
            "WARNING:absl:Importing a function (__inference_block6c_activation_layer_call_and_return_conditional_losses_89004) with ops with unsaved custom gradients. Will likely fail if a gradient is requested.\n",
            "WARNING:absl:Importing a function (__inference_block6a_activation_layer_call_and_return_conditional_losses_50771) with ops with unsaved custom gradients. Will likely fail if a gradient is requested.\n",
            "WARNING:absl:Importing a function (__inference_block6d_expand_activation_layer_call_and_return_conditional_losses_89316) with ops with unsaved custom gradients. Will likely fail if a gradient is requested.\n",
            "WARNING:absl:Importing a function (__inference_block5c_activation_layer_call_and_return_conditional_losses_50603) with ops with unsaved custom gradients. Will likely fail if a gradient is requested.\n",
            "WARNING:absl:Importing a function (__inference_block5b_activation_layer_call_and_return_conditional_losses_87409) with ops with unsaved custom gradients. Will likely fail if a gradient is requested.\n",
            "WARNING:absl:Importing a function (__inference_block4a_activation_layer_call_and_return_conditional_losses_85883) with ops with unsaved custom gradients. Will likely fail if a gradient is requested.\n",
            "WARNING:absl:Importing a function (__inference_block3b_activation_layer_call_and_return_conditional_losses_49660) with ops with unsaved custom gradients. Will likely fail if a gradient is requested.\n",
            "WARNING:absl:Importing a function (__inference_block3a_expand_activation_layer_call_and_return_conditional_losses_84983) with ops with unsaved custom gradients. Will likely fail if a gradient is requested.\n",
            "WARNING:absl:Importing a function (__inference_block6b_se_reduce_layer_call_and_return_conditional_losses_88661) with ops with unsaved custom gradients. Will likely fail if a gradient is requested.\n",
            "WARNING:absl:Importing a function (__inference_block4c_activation_layer_call_and_return_conditional_losses_50135) with ops with unsaved custom gradients. Will likely fail if a gradient is requested.\n",
            "WARNING:absl:Importing a function (__inference__wrapped_model_40986) with ops with unsaved custom gradients. Will likely fail if a gradient is requested.\n",
            "WARNING:absl:Importing a function (__inference_efficientnetb0_layer_call_and_return_conditional_losses_80512) with ops with unsaved custom gradients. Will likely fail if a gradient is requested.\n",
            "WARNING:absl:Importing a function (__inference_block5a_se_reduce_layer_call_and_return_conditional_losses_50337) with ops with unsaved custom gradients. Will likely fail if a gradient is requested.\n",
            "WARNING:absl:Importing a function (__inference_efficientnetb0_layer_call_and_return_conditional_losses_77141) with ops with unsaved custom gradients. Will likely fail if a gradient is requested.\n",
            "WARNING:absl:Importing a function (__inference_block1a_se_reduce_layer_call_and_return_conditional_losses_49088) with ops with unsaved custom gradients. Will likely fail if a gradient is requested.\n",
            "WARNING:absl:Importing a function (__inference_block3a_expand_activation_layer_call_and_return_conditional_losses_49483) with ops with unsaved custom gradients. Will likely fail if a gradient is requested.\n",
            "WARNING:absl:Importing a function (__inference_block4a_activation_layer_call_and_return_conditional_losses_49828) with ops with unsaved custom gradients. Will likely fail if a gradient is requested.\n",
            "WARNING:absl:Importing a function (__inference_block7a_expand_activation_layer_call_and_return_conditional_losses_51376) with ops with unsaved custom gradients. Will likely fail if a gradient is requested.\n",
            "WARNING:absl:Importing a function (__inference_block5c_activation_layer_call_and_return_conditional_losses_87814) with ops with unsaved custom gradients. Will likely fail if a gradient is requested.\n",
            "WARNING:absl:Importing a function (__inference_block5a_activation_layer_call_and_return_conditional_losses_50296) with ops with unsaved custom gradients. Will likely fail if a gradient is requested.\n",
            "WARNING:absl:Importing a function (__inference_block7a_se_reduce_layer_call_and_return_conditional_losses_51441) with ops with unsaved custom gradients. Will likely fail if a gradient is requested.\n",
            "WARNING:absl:Importing a function (__inference_block2b_expand_activation_layer_call_and_return_conditional_losses_84578) with ops with unsaved custom gradients. Will likely fail if a gradient is requested.\n",
            "WARNING:absl:Importing a function (__inference_block6a_activation_layer_call_and_return_conditional_losses_88241) with ops with unsaved custom gradients. Will likely fail if a gradient is requested.\n",
            "WARNING:absl:Importing a function (__inference_block2b_activation_layer_call_and_return_conditional_losses_84671) with ops with unsaved custom gradients. Will likely fail if a gradient is requested.\n",
            "WARNING:absl:Importing a function (__inference_block2b_se_reduce_layer_call_and_return_conditional_losses_84733) with ops with unsaved custom gradients. Will likely fail if a gradient is requested.\n",
            "WARNING:absl:Importing a function (__inference_block6d_se_reduce_layer_call_and_return_conditional_losses_51280) with ops with unsaved custom gradients. Will likely fail if a gradient is requested.\n",
            "WARNING:absl:Importing a function (__inference_block6b_se_reduce_layer_call_and_return_conditional_losses_50958) with ops with unsaved custom gradients. Will likely fail if a gradient is requested.\n",
            "WARNING:absl:Importing a function (__inference_model_layer_call_and_return_conditional_losses_70127) with ops with unsaved custom gradients. Will likely fail if a gradient is requested.\n",
            "WARNING:absl:Importing a function (__inference_block4b_se_reduce_layer_call_and_return_conditional_losses_50015) with ops with unsaved custom gradients. Will likely fail if a gradient is requested.\n"
          ]
        }
      ],
      "source": [
        "# Load and evaluate saved model\n",
        "import tensorflow as tf\n",
        "loaded_model = tf.keras.models.load_model(\"101_food_classes_10_percent/saved_trained_model/\")"
      ]
    },
    {
      "cell_type": "code",
      "execution_count": 25,
      "metadata": {},
      "outputs": [
        {
          "name": "stdout",
          "output_type": "stream",
          "text": [
            "790/790 [==============================] - 74s 89ms/step - loss: 1.6079 - accuracy: 0.5768\n"
          ]
        },
        {
          "data": {
            "text/plain": [
              "[1.6078609228134155, 0.5768316984176636]"
            ]
          },
          "execution_count": 25,
          "metadata": {},
          "output_type": "execute_result"
        }
      ],
      "source": [
        "# Evaluate loaded model and compare performance to pre-saved model\n",
        "loaded_model_results = loaded_model.evaluate(test_data)\n",
        "loaded_model_results"
      ]
    },
    {
      "cell_type": "code",
      "execution_count": 26,
      "metadata": {},
      "outputs": [],
      "source": [
        "# The results from our loaded_model (above) should be very similar to the results below\n",
        "# all_classes_10_percent_fine_tuned_results"
      ]
    },
    {
      "cell_type": "markdown",
      "metadata": {},
      "source": [
        "## Evaluating the performance of the big dog model across all different classes\n",
        "\n",
        "Let's make some predictions, visualize them and then later find out which predictions were the \"most\" wrong."
      ]
    },
    {
      "cell_type": "code",
      "execution_count": 27,
      "metadata": {},
      "outputs": [],
      "source": [
        "import tensorflow as tf\n",
        "import os\n",
        "\n",
        "# Download pretrained mode (one that was prepared earlier, so all predictions are similar)\n",
        "if not os.path.exists(\"07_efficientnetb0_fine_tuned_101_classes_mixed_precision.zip\"):\n",
        "    !python -m wget https://storage.googleapis.com/ztm_tf_course/food_vision/07_efficientnetb0_fine_tuned_101_classes_mixed_precision.zip\n",
        "if not os.path.exists(\"07_efficientnetb0_fine_tuned_101_classes_mixed_precision\"):\n",
        "    unzip_data(\"07_efficientnetb0_fine_tuned_101_classes_mixed_precision.zip\")"
      ]
    },
    {
      "cell_type": "code",
      "execution_count": 28,
      "metadata": {},
      "outputs": [],
      "source": [
        "# Load in saved model\n",
        "# model = tf.keras.models.load_model(\"07_efficientnetb0_fine_tuned_101_classes_mixed_precision\")"
      ]
    },
    {
      "cell_type": "code",
      "execution_count": 29,
      "metadata": {},
      "outputs": [],
      "source": [
        "# Evaluate loaded model (the one we just downloaded on test data)\n",
        "# results_downloaded_model = model.evaluate(test_data)\n",
        "# results_downloaded_model"
      ]
    },
    {
      "cell_type": "markdown",
      "metadata": {},
      "source": [
        "The model from dbourke isn't working in my case. That's why i am using my own loaded model for further work."
      ]
    },
    {
      "cell_type": "markdown",
      "metadata": {},
      "source": [
        "## Making predictions with our trained model"
      ]
    },
    {
      "cell_type": "code",
      "execution_count": 30,
      "metadata": {},
      "outputs": [
        {
          "name": "stdout",
          "output_type": "stream",
          "text": [
            "790/790 [==============================] - 66s 79ms/step\n"
          ]
        }
      ],
      "source": [
        "# Make predictions with model\n",
        "preds_probs = loaded_model.predict(test_data, verbose=1) # set verborsity to see how long is left"
      ]
    },
    {
      "cell_type": "code",
      "execution_count": 31,
      "metadata": {},
      "outputs": [
        {
          "data": {
            "text/plain": [
              "790"
            ]
          },
          "execution_count": 31,
          "metadata": {},
          "output_type": "execute_result"
        }
      ],
      "source": [
        "len(test_data)"
      ]
    },
    {
      "cell_type": "code",
      "execution_count": 32,
      "metadata": {},
      "outputs": [
        {
          "data": {
            "text/plain": [
              "25250"
            ]
          },
          "execution_count": 32,
          "metadata": {},
          "output_type": "execute_result"
        }
      ],
      "source": [
        "# How many predictions are there?\n",
        "len(preds_probs)"
      ]
    },
    {
      "cell_type": "code",
      "execution_count": 33,
      "metadata": {},
      "outputs": [
        {
          "data": {
            "text/plain": [
              "(25250, 101)"
            ]
          },
          "execution_count": 33,
          "metadata": {},
          "output_type": "execute_result"
        }
      ],
      "source": [
        "# What's the shape of our predictions?\n",
        "preds_probs.shape"
      ]
    },
    {
      "cell_type": "code",
      "execution_count": 34,
      "metadata": {},
      "outputs": [
        {
          "data": {
            "text/plain": [
              "array([[5.90080440e-01, 1.44795646e-04, 5.02662994e-02, ...,\n",
              "        4.15184440e-05, 5.95019839e-04, 1.06070787e-01],\n",
              "       [9.26912248e-01, 3.08654080e-08, 2.28566956e-03, ...,\n",
              "        2.77120620e-03, 3.26030289e-07, 5.00603892e-06],\n",
              "       [3.09688151e-01, 3.90412263e-03, 4.90405224e-03, ...,\n",
              "        3.19043698e-04, 1.49645971e-03, 4.60208952e-03],\n",
              "       ...,\n",
              "       [3.39643747e-01, 1.31043282e-06, 3.22040776e-03, ...,\n",
              "        1.84754450e-02, 8.05906602e-05, 3.55551601e-05],\n",
              "       [1.18889466e-01, 9.31276998e-04, 3.77007835e-02, ...,\n",
              "        2.96295417e-04, 1.01215628e-04, 3.51348164e-04],\n",
              "       [6.56943798e-01, 7.25611017e-07, 3.01430206e-04, ...,\n",
              "        1.61768291e-02, 6.10946790e-06, 2.27605132e-03]], dtype=float32)"
            ]
          },
          "execution_count": 34,
          "metadata": {},
          "output_type": "execute_result"
        }
      ],
      "source": [
        "# Let's see what the first 10 predictions look like\n",
        "preds_probs[:10]"
      ]
    },
    {
      "cell_type": "code",
      "execution_count": 35,
      "metadata": {},
      "outputs": [
        {
          "data": {
            "text/plain": [
              "(array([5.9008044e-01, 1.4479565e-04, 5.0266299e-02, 6.8267321e-09,\n",
              "        1.2715163e-06, 4.7178091e-06, 2.9949138e-05, 1.6308459e-05,\n",
              "        1.1659621e-02, 2.4068526e-04, 2.3779578e-06, 1.1491846e-05,\n",
              "        2.0841549e-03, 1.2646402e-06, 1.1536038e-02, 4.0370945e-04,\n",
              "        2.0330959e-05, 5.0765608e-04, 1.9733433e-04, 7.0503411e-06,\n",
              "        5.3744439e-05, 3.6342219e-05, 8.6330262e-04, 3.3802094e-04,\n",
              "        4.9442245e-04, 8.8656181e-04, 1.3739576e-04, 1.0296292e-05,\n",
              "        4.2976454e-02, 3.0540517e-03, 3.5393914e-06, 3.5274948e-04,\n",
              "        1.5472533e-03, 1.8507610e-07, 1.8626630e-03, 7.3551596e-06,\n",
              "        4.4281631e-05, 7.1842055e-04, 6.9647552e-03, 3.5393325e-05,\n",
              "        3.2489770e-04, 1.2272123e-03, 9.3266339e-04, 3.0877245e-06,\n",
              "        2.1798083e-05, 7.0822607e-05, 4.9380801e-04, 1.5821095e-04,\n",
              "        4.2692778e-07, 3.5140727e-02, 2.5608944e-04, 5.7683457e-05,\n",
              "        2.3911251e-02, 5.4815384e-03, 6.3777348e-05, 4.1186376e-03,\n",
              "        1.5489652e-02, 3.2515700e-03, 3.5957086e-03, 4.8384321e-05,\n",
              "        1.2370000e-06, 5.0407409e-04, 2.9040815e-02, 2.5070907e-04,\n",
              "        1.1860192e-04, 6.2739848e-05, 8.8478164e-06, 6.5179206e-03,\n",
              "        1.3631704e-03, 1.4863068e-03, 8.0064623e-05, 9.2256305e-06,\n",
              "        3.4967589e-03, 2.3316004e-05, 1.4242795e-04, 6.8810200e-06,\n",
              "        3.5857145e-05, 8.6804712e-03, 9.6020574e-04, 2.2688439e-05,\n",
              "        1.1907112e-03, 3.3549441e-05, 2.0287971e-03, 1.9299108e-05,\n",
              "        2.7379542e-04, 1.1762926e-02, 3.9045879e-04, 3.3516632e-04,\n",
              "        1.4768541e-06, 8.3868130e-05, 7.1922091e-06, 6.8840523e-06,\n",
              "        3.0662376e-04, 3.0139333e-04, 4.0505652e-04, 5.9086480e-04,\n",
              "        4.2076778e-04, 7.0885719e-05, 4.1518444e-05, 5.9501984e-04,\n",
              "        1.0607079e-01], dtype=float32),\n",
              " 101,\n",
              " 0.9999999991946078)"
            ]
          },
          "execution_count": 35,
          "metadata": {},
          "output_type": "execute_result"
        }
      ],
      "source": [
        "# What does the first prediction probability array look like?\n",
        "preds_probs[0], len(preds_probs[0]), sum(preds_probs[0])"
      ]
    },
    {
      "cell_type": "markdown",
      "metadata": {},
      "source": [
        "Our model outputs a prediction probability array (with N number of variables, where N is the number of classes) for each sample passed to the predict method"
      ]
    },
    {
      "cell_type": "code",
      "execution_count": 36,
      "metadata": {},
      "outputs": [
        {
          "name": "stdout",
          "output_type": "stream",
          "text": [
            "Number of prediction probabilities for sample 0: 101\n",
            "What prediction probability sample 0 looks like: \n",
            "[5.9008044e-01 1.4479565e-04 5.0266299e-02 6.8267321e-09 1.2715163e-06\n",
            " 4.7178091e-06 2.9949138e-05 1.6308459e-05 1.1659621e-02 2.4068526e-04\n",
            " 2.3779578e-06 1.1491846e-05 2.0841549e-03 1.2646402e-06 1.1536038e-02\n",
            " 4.0370945e-04 2.0330959e-05 5.0765608e-04 1.9733433e-04 7.0503411e-06\n",
            " 5.3744439e-05 3.6342219e-05 8.6330262e-04 3.3802094e-04 4.9442245e-04\n",
            " 8.8656181e-04 1.3739576e-04 1.0296292e-05 4.2976454e-02 3.0540517e-03\n",
            " 3.5393914e-06 3.5274948e-04 1.5472533e-03 1.8507610e-07 1.8626630e-03\n",
            " 7.3551596e-06 4.4281631e-05 7.1842055e-04 6.9647552e-03 3.5393325e-05\n",
            " 3.2489770e-04 1.2272123e-03 9.3266339e-04 3.0877245e-06 2.1798083e-05\n",
            " 7.0822607e-05 4.9380801e-04 1.5821095e-04 4.2692778e-07 3.5140727e-02\n",
            " 2.5608944e-04 5.7683457e-05 2.3911251e-02 5.4815384e-03 6.3777348e-05\n",
            " 4.1186376e-03 1.5489652e-02 3.2515700e-03 3.5957086e-03 4.8384321e-05\n",
            " 1.2370000e-06 5.0407409e-04 2.9040815e-02 2.5070907e-04 1.1860192e-04\n",
            " 6.2739848e-05 8.8478164e-06 6.5179206e-03 1.3631704e-03 1.4863068e-03\n",
            " 8.0064623e-05 9.2256305e-06 3.4967589e-03 2.3316004e-05 1.4242795e-04\n",
            " 6.8810200e-06 3.5857145e-05 8.6804712e-03 9.6020574e-04 2.2688439e-05\n",
            " 1.1907112e-03 3.3549441e-05 2.0287971e-03 1.9299108e-05 2.7379542e-04\n",
            " 1.1762926e-02 3.9045879e-04 3.3516632e-04 1.4768541e-06 8.3868130e-05\n",
            " 7.1922091e-06 6.8840523e-06 3.0662376e-04 3.0139333e-04 4.0505652e-04\n",
            " 5.9086480e-04 4.2076778e-04 7.0885719e-05 4.1518444e-05 5.9501984e-04\n",
            " 1.0607079e-01]\n",
            "The class with the highest predicted probability by the model for sample 0: 0\n"
          ]
        }
      ],
      "source": [
        "# We get one prediction probability per class (in our case there's 101 prediction probabilities)\n",
        "print(f\"Number of prediction probabilities for sample 0: {len(preds_probs[0])}\")\n",
        "print(f\"What prediction probability sample 0 looks like: \\n{preds_probs[0]}\")\n",
        "print(f\"The class with the highest predicted probability by the model for sample 0: {tf.argmax(preds_probs[0])}\")"
      ]
    },
    {
      "cell_type": "code",
      "execution_count": 37,
      "metadata": {},
      "outputs": [
        {
          "data": {
            "text/plain": [
              "[<matplotlib.lines.Line2D at 0x235b4f0d670>]"
            ]
          },
          "execution_count": 37,
          "metadata": {},
          "output_type": "execute_result"
        },
        {
          "data": {
            "image/png": "[encoded data removed]",
            "image/svg+xml": "<?xml version=\"1.0\" encoding=\"utf-8\" standalone=\"no\"?>\n<!DOCTYPE svg PUBLIC \"-//W3C//DTD SVG 1.1//EN\"\n  \"http://www.w3.org/Graphics/SVG/1.1/DTD/svg11.dtd\">\n<svg xmlns:xlink=\"http://www.w3.org/1999/xlink\" width=\"372.103125pt\" height=\"248.518125pt\" viewBox=\"0 0 372.103125 248.518125\" xmlns=\"http://www.w3.org/2000/svg\" version=\"1.1\">\n <metadata>\n  <rdf:RDF xmlns:dc=\"http://purl.org/dc/elements/1.1/\" xmlns:cc=\"http://creativecommons.org/ns#\" xmlns:rdf=\"http://www.w3.org/1999/02/22-rdf-syntax-ns#\">\n   <cc:Work>\n    <dc:type rdf:resource=\"http://purl.org/dc/dcmitype/StillImage\"/>\n    <dc:date>2022-06-28T20:50:38.798296</dc:date>\n    <dc:format>image/svg+xml</dc:format>\n    <dc:creator>\n     <cc:Agent>\n      <dc:title>Matplotlib v3.5.1, https://matplotlib.org/</dc:title>\n     </cc:Agent>\n    </dc:creator>\n   </cc:Work>\n  </rdf:RDF>\n </metadata>\n <defs>\n  <style type=\"text/css\">*{stroke-linejoin: round; stroke-linecap: butt}</style>\n </defs>\n <g id=\"figure_1\">\n  <g id=\"patch_1\">\n   <path d=\"M 0 248.518125 \nL 372.103125 248.518125 \nL 372.103125 0 \nL 0 0 \nz\n\"/>\n  </g>\n  <g id=\"axes_1\">\n   <g id=\"patch_2\">\n    <path d=\"M 30.103125 224.64 \nL 364.903125 224.64 \nL 364.903125 7.2 \nL 30.103125 7.2 \nz\n\"/>\n   </g>\n   <g id=\"matplotlib.axis_1\">\n    <g id=\"xtick_1\">\n     <g id=\"line2d_1\">\n      <defs>\n       <path id=\"me0c75b1154\" d=\"M 0 0 \nL 0 3.5 \n\" style=\"stroke: #ffffff; stroke-width: 0.8\"/>\n      </defs>\n      <g>\n       <use xlink:href=\"#me0c75b1154\" x=\"45.321307\" y=\"224.64\" style=\"fill: #ffffff; stroke: #ffffff; stroke-width: 0.8\"/>\n      </g>\n     </g>\n     <g id=\"text_1\">\n      <!-- 0 -->\n      <g style=\"fill: #ffffff\" transform=\"translate(42.140057 239.238438)scale(0.1 -0.1)\">\n       <defs>\n        <path id=\"DejaVuSans-30\" d=\"M 2034 4250 \nQ 1547 4250 1301 3770 \nQ 1056 3291 1056 2328 \nQ 1056 1369 1301 889 \nQ 1547 409 2034 409 \nQ 2525 409 2770 889 \nQ 3016 1369 3016 2328 \nQ 3016 3291 2770 3770 \nQ 2525 4250 2034 4250 \nz\nM 2034 4750 \nQ 2819 4750 3233 4129 \nQ 3647 3509 3647 2328 \nQ 3647 1150 3233 529 \nQ 2819 -91 2034 -91 \nQ 1250 -91 836 529 \nQ 422 1150 422 2328 \nQ 422 3509 836 4129 \nQ 1250 4750 2034 4750 \nz\n\" transform=\"scale(0.015625)\"/>\n       </defs>\n       <use xlink:href=\"#DejaVuSans-30\"/>\n      </g>\n     </g>\n    </g>\n    <g id=\"xtick_2\">\n     <g id=\"line2d_2\">\n      <g>\n       <use xlink:href=\"#me0c75b1154\" x=\"106.194034\" y=\"224.64\" style=\"fill: #ffffff; stroke: #ffffff; stroke-width: 0.8\"/>\n      </g>\n     </g>\n     <g id=\"text_2\">\n      <!-- 20 -->\n      <g style=\"fill: #ffffff\" transform=\"translate(99.831534 239.238438)scale(0.1 -0.1)\">\n       <defs>\n        <path id=\"DejaVuSans-32\" d=\"M 1228 531 \nL 3431 531 \nL 3431 0 \nL 469 0 \nL 469 531 \nQ 828 903 1448 1529 \nQ 2069 2156 2228 2338 \nQ 2531 2678 2651 2914 \nQ 2772 3150 2772 3378 \nQ 2772 3750 2511 3984 \nQ 2250 4219 1831 4219 \nQ 1534 4219 1204 4116 \nQ 875 4013 500 3803 \nL 500 4441 \nQ 881 4594 1212 4672 \nQ 1544 4750 1819 4750 \nQ 2544 4750 2975 4387 \nQ 3406 4025 3406 3419 \nQ 3406 3131 3298 2873 \nQ 3191 2616 2906 2266 \nQ 2828 2175 2409 1742 \nQ 1991 1309 1228 531 \nz\n\" transform=\"scale(0.015625)\"/>\n       </defs>\n       <use xlink:href=\"#DejaVuSans-32\"/>\n       <use xlink:href=\"#DejaVuSans-30\" x=\"63.623047\"/>\n      </g>\n     </g>\n    </g>\n    <g id=\"xtick_3\">\n     <g id=\"line2d_3\">\n      <g>\n       <use xlink:href=\"#me0c75b1154\" x=\"167.066761\" y=\"224.64\" style=\"fill: #ffffff; stroke: #ffffff; stroke-width: 0.8\"/>\n      </g>\n     </g>\n     <g id=\"text_3\">\n      <!-- 40 -->\n      <g style=\"fill: #ffffff\" transform=\"translate(160.704261 239.238438)scale(0.1 -0.1)\">\n       <defs>\n        <path id=\"DejaVuSans-34\" d=\"M 2419 4116 \nL 825 1625 \nL 2419 1625 \nL 2419 4116 \nz\nM 2253 4666 \nL 3047 4666 \nL 3047 1625 \nL 3713 1625 \nL 3713 1100 \nL 3047 1100 \nL 3047 0 \nL 2419 0 \nL 2419 1100 \nL 313 1100 \nL 313 1709 \nL 2253 4666 \nz\n\" transform=\"scale(0.015625)\"/>\n       </defs>\n       <use xlink:href=\"#DejaVuSans-34\"/>\n       <use xlink:href=\"#DejaVuSans-30\" x=\"63.623047\"/>\n      </g>\n     </g>\n    </g>\n    <g id=\"xtick_4\">\n     <g id=\"line2d_4\">\n      <g>\n       <use xlink:href=\"#me0c75b1154\" x=\"227.939489\" y=\"224.64\" style=\"fill: #ffffff; stroke: #ffffff; stroke-width: 0.8\"/>\n      </g>\n     </g>\n     <g id=\"text_4\">\n      <!-- 60 -->\n      <g style=\"fill: #ffffff\" transform=\"translate(221.576989 239.238438)scale(0.1 -0.1)\">\n       <defs>\n        <path id=\"DejaVuSans-36\" d=\"M 2113 2584 \nQ 1688 2584 1439 2293 \nQ 1191 2003 1191 1497 \nQ 1191 994 1439 701 \nQ 1688 409 2113 409 \nQ 2538 409 2786 701 \nQ 3034 994 3034 1497 \nQ 3034 2003 2786 2293 \nQ 2538 2584 2113 2584 \nz\nM 3366 4563 \nL 3366 3988 \nQ 3128 4100 2886 4159 \nQ 2644 4219 2406 4219 \nQ 1781 4219 1451 3797 \nQ 1122 3375 1075 2522 \nQ 1259 2794 1537 2939 \nQ 1816 3084 2150 3084 \nQ 2853 3084 3261 2657 \nQ 3669 2231 3669 1497 \nQ 3669 778 3244 343 \nQ 2819 -91 2113 -91 \nQ 1303 -91 875 529 \nQ 447 1150 447 2328 \nQ 447 3434 972 4092 \nQ 1497 4750 2381 4750 \nQ 2619 4750 2861 4703 \nQ 3103 4656 3366 4563 \nz\n\" transform=\"scale(0.015625)\"/>\n       </defs>\n       <use xlink:href=\"#DejaVuSans-36\"/>\n       <use xlink:href=\"#DejaVuSans-30\" x=\"63.623047\"/>\n      </g>\n     </g>\n    </g>\n    <g id=\"xtick_5\">\n     <g id=\"line2d_5\">\n      <g>\n       <use xlink:href=\"#me0c75b1154\" x=\"288.812216\" y=\"224.64\" style=\"fill: #ffffff; stroke: #ffffff; stroke-width: 0.8\"/>\n      </g>\n     </g>\n     <g id=\"text_5\">\n      <!-- 80 -->\n      <g style=\"fill: #ffffff\" transform=\"translate(282.449716 239.238438)scale(0.1 -0.1)\">\n       <defs>\n        <path id=\"DejaVuSans-38\" d=\"M 2034 2216 \nQ 1584 2216 1326 1975 \nQ 1069 1734 1069 1313 \nQ 1069 891 1326 650 \nQ 1584 409 2034 409 \nQ 2484 409 2743 651 \nQ 3003 894 3003 1313 \nQ 3003 1734 2745 1975 \nQ 2488 2216 2034 2216 \nz\nM 1403 2484 \nQ 997 2584 770 2862 \nQ 544 3141 544 3541 \nQ 544 4100 942 4425 \nQ 1341 4750 2034 4750 \nQ 2731 4750 3128 4425 \nQ 3525 4100 3525 3541 \nQ 3525 3141 3298 2862 \nQ 3072 2584 2669 2484 \nQ 3125 2378 3379 2068 \nQ 3634 1759 3634 1313 \nQ 3634 634 3220 271 \nQ 2806 -91 2034 -91 \nQ 1263 -91 848 271 \nQ 434 634 434 1313 \nQ 434 1759 690 2068 \nQ 947 2378 1403 2484 \nz\nM 1172 3481 \nQ 1172 3119 1398 2916 \nQ 1625 2713 2034 2713 \nQ 2441 2713 2670 2916 \nQ 2900 3119 2900 3481 \nQ 2900 3844 2670 4047 \nQ 2441 4250 2034 4250 \nQ 1625 4250 1398 4047 \nQ 1172 3844 1172 3481 \nz\n\" transform=\"scale(0.015625)\"/>\n       </defs>\n       <use xlink:href=\"#DejaVuSans-38\"/>\n       <use xlink:href=\"#DejaVuSans-30\" x=\"63.623047\"/>\n      </g>\n     </g>\n    </g>\n    <g id=\"xtick_6\">\n     <g id=\"line2d_6\">\n      <g>\n       <use xlink:href=\"#me0c75b1154\" x=\"349.684943\" y=\"224.64\" style=\"fill: #ffffff; stroke: #ffffff; stroke-width: 0.8\"/>\n      </g>\n     </g>\n     <g id=\"text_6\">\n      <!-- 100 -->\n      <g style=\"fill: #ffffff\" transform=\"translate(340.141193 239.238438)scale(0.1 -0.1)\">\n       <defs>\n        <path id=\"DejaVuSans-31\" d=\"M 794 531 \nL 1825 531 \nL 1825 4091 \nL 703 3866 \nL 703 4441 \nL 1819 4666 \nL 2450 4666 \nL 2450 531 \nL 3481 531 \nL 3481 0 \nL 794 0 \nL 794 531 \nz\n\" transform=\"scale(0.015625)\"/>\n       </defs>\n       <use xlink:href=\"#DejaVuSans-31\"/>\n       <use xlink:href=\"#DejaVuSans-30\" x=\"63.623047\"/>\n       <use xlink:href=\"#DejaVuSans-30\" x=\"127.246094\"/>\n      </g>\n     </g>\n    </g>\n   </g>\n   <g id=\"matplotlib.axis_2\">\n    <g id=\"ytick_1\">\n     <g id=\"line2d_7\">\n      <defs>\n       <path id=\"m1a8921a48d\" d=\"M 0 0 \nL -3.5 0 \n\" style=\"stroke: #ffffff; stroke-width: 0.8\"/>\n      </defs>\n      <g>\n       <use xlink:href=\"#m1a8921a48d\" x=\"30.103125\" y=\"214.756366\" style=\"fill: #ffffff; stroke: #ffffff; stroke-width: 0.8\"/>\n      </g>\n     </g>\n     <g id=\"text_7\">\n      <!-- 0.0 -->\n      <g style=\"fill: #ffffff\" transform=\"translate(7.2 218.555585)scale(0.1 -0.1)\">\n       <defs>\n        <path id=\"DejaVuSans-2e\" d=\"M 684 794 \nL 1344 794 \nL 1344 0 \nL 684 0 \nL 684 794 \nz\n\" transform=\"scale(0.015625)\"/>\n       </defs>\n       <use xlink:href=\"#DejaVuSans-30\"/>\n       <use xlink:href=\"#DejaVuSans-2e\" x=\"63.623047\"/>\n       <use xlink:href=\"#DejaVuSans-30\" x=\"95.410156\"/>\n      </g>\n     </g>\n    </g>\n    <g id=\"ytick_2\">\n     <g id=\"line2d_8\">\n      <g>\n       <use xlink:href=\"#m1a8921a48d\" x=\"30.103125\" y=\"181.257081\" style=\"fill: #ffffff; stroke: #ffffff; stroke-width: 0.8\"/>\n      </g>\n     </g>\n     <g id=\"text_8\">\n      <!-- 0.1 -->\n      <g style=\"fill: #ffffff\" transform=\"translate(7.2 185.056299)scale(0.1 -0.1)\">\n       <use xlink:href=\"#DejaVuSans-30\"/>\n       <use xlink:href=\"#DejaVuSans-2e\" x=\"63.623047\"/>\n       <use xlink:href=\"#DejaVuSans-31\" x=\"95.410156\"/>\n      </g>\n     </g>\n    </g>\n    <g id=\"ytick_3\">\n     <g id=\"line2d_9\">\n      <g>\n       <use xlink:href=\"#m1a8921a48d\" x=\"30.103125\" y=\"147.757796\" style=\"fill: #ffffff; stroke: #ffffff; stroke-width: 0.8\"/>\n      </g>\n     </g>\n     <g id=\"text_9\">\n      <!-- 0.2 -->\n      <g style=\"fill: #ffffff\" transform=\"translate(7.2 151.557014)scale(0.1 -0.1)\">\n       <use xlink:href=\"#DejaVuSans-30\"/>\n       <use xlink:href=\"#DejaVuSans-2e\" x=\"63.623047\"/>\n       <use xlink:href=\"#DejaVuSans-32\" x=\"95.410156\"/>\n      </g>\n     </g>\n    </g>\n    <g id=\"ytick_4\">\n     <g id=\"line2d_10\">\n      <g>\n       <use xlink:href=\"#m1a8921a48d\" x=\"30.103125\" y=\"114.25851\" style=\"fill: #ffffff; stroke: #ffffff; stroke-width: 0.8\"/>\n      </g>\n     </g>\n     <g id=\"text_10\">\n      <!-- 0.3 -->\n      <g style=\"fill: #ffffff\" transform=\"translate(7.2 118.057729)scale(0.1 -0.1)\">\n       <defs>\n        <path id=\"DejaVuSans-33\" d=\"M 2597 2516 \nQ 3050 2419 3304 2112 \nQ 3559 1806 3559 1356 \nQ 3559 666 3084 287 \nQ 2609 -91 1734 -91 \nQ 1441 -91 1130 -33 \nQ 819 25 488 141 \nL 488 750 \nQ 750 597 1062 519 \nQ 1375 441 1716 441 \nQ 2309 441 2620 675 \nQ 2931 909 2931 1356 \nQ 2931 1769 2642 2001 \nQ 2353 2234 1838 2234 \nL 1294 2234 \nL 1294 2753 \nL 1863 2753 \nQ 2328 2753 2575 2939 \nQ 2822 3125 2822 3475 \nQ 2822 3834 2567 4026 \nQ 2313 4219 1838 4219 \nQ 1578 4219 1281 4162 \nQ 984 4106 628 3988 \nL 628 4550 \nQ 988 4650 1302 4700 \nQ 1616 4750 1894 4750 \nQ 2613 4750 3031 4423 \nQ 3450 4097 3450 3541 \nQ 3450 3153 3228 2886 \nQ 3006 2619 2597 2516 \nz\n\" transform=\"scale(0.015625)\"/>\n       </defs>\n       <use xlink:href=\"#DejaVuSans-30\"/>\n       <use xlink:href=\"#DejaVuSans-2e\" x=\"63.623047\"/>\n       <use xlink:href=\"#DejaVuSans-33\" x=\"95.410156\"/>\n      </g>\n     </g>\n    </g>\n    <g id=\"ytick_5\">\n     <g id=\"line2d_11\">\n      <g>\n       <use xlink:href=\"#m1a8921a48d\" x=\"30.103125\" y=\"80.759225\" style=\"fill: #ffffff; stroke: #ffffff; stroke-width: 0.8\"/>\n      </g>\n     </g>\n     <g id=\"text_11\">\n      <!-- 0.4 -->\n      <g style=\"fill: #ffffff\" transform=\"translate(7.2 84.558444)scale(0.1 -0.1)\">\n       <use xlink:href=\"#DejaVuSans-30\"/>\n       <use xlink:href=\"#DejaVuSans-2e\" x=\"63.623047\"/>\n       <use xlink:href=\"#DejaVuSans-34\" x=\"95.410156\"/>\n      </g>\n     </g>\n    </g>\n    <g id=\"ytick_6\">\n     <g id=\"line2d_12\">\n      <g>\n       <use xlink:href=\"#m1a8921a48d\" x=\"30.103125\" y=\"47.25994\" style=\"fill: #ffffff; stroke: #ffffff; stroke-width: 0.8\"/>\n      </g>\n     </g>\n     <g id=\"text_12\">\n      <!-- 0.5 -->\n      <g style=\"fill: #ffffff\" transform=\"translate(7.2 51.059159)scale(0.1 -0.1)\">\n       <defs>\n        <path id=\"DejaVuSans-35\" d=\"M 691 4666 \nL 3169 4666 \nL 3169 4134 \nL 1269 4134 \nL 1269 2991 \nQ 1406 3038 1543 3061 \nQ 1681 3084 1819 3084 \nQ 2600 3084 3056 2656 \nQ 3513 2228 3513 1497 \nQ 3513 744 3044 326 \nQ 2575 -91 1722 -91 \nQ 1428 -91 1123 -41 \nQ 819 9 494 109 \nL 494 744 \nQ 775 591 1075 516 \nQ 1375 441 1709 441 \nQ 2250 441 2565 725 \nQ 2881 1009 2881 1497 \nQ 2881 1984 2565 2268 \nQ 2250 2553 1709 2553 \nQ 1456 2553 1204 2497 \nQ 953 2441 691 2322 \nL 691 4666 \nz\n\" transform=\"scale(0.015625)\"/>\n       </defs>\n       <use xlink:href=\"#DejaVuSans-30\"/>\n       <use xlink:href=\"#DejaVuSans-2e\" x=\"63.623047\"/>\n       <use xlink:href=\"#DejaVuSans-35\" x=\"95.410156\"/>\n      </g>\n     </g>\n    </g>\n    <g id=\"ytick_7\">\n     <g id=\"line2d_13\">\n      <g>\n       <use xlink:href=\"#m1a8921a48d\" x=\"30.103125\" y=\"13.760655\" style=\"fill: #ffffff; stroke: #ffffff; stroke-width: 0.8\"/>\n      </g>\n     </g>\n     <g id=\"text_13\">\n      <!-- 0.6 -->\n      <g style=\"fill: #ffffff\" transform=\"translate(7.2 17.559873)scale(0.1 -0.1)\">\n       <use xlink:href=\"#DejaVuSans-30\"/>\n       <use xlink:href=\"#DejaVuSans-2e\" x=\"63.623047\"/>\n       <use xlink:href=\"#DejaVuSans-36\" x=\"95.410156\"/>\n      </g>\n     </g>\n    </g>\n   </g>\n   <g id=\"line2d_14\">\n    <path d=\"M 45.321307 17.083636 \nL 48.364943 214.70786 \nL 51.40858 197.917515 \nL 54.452216 214.756364 \nL 57.495852 214.75594 \nL 60.539489 214.754785 \nL 63.583125 214.746333 \nL 66.626761 214.750903 \nL 69.670398 210.850476 \nL 72.714034 214.675738 \nL 75.75767 214.755569 \nL 78.801307 214.752516 \nL 81.844943 214.058189 \nL 84.88858 214.755942 \nL 87.932216 210.891876 \nL 90.975852 214.621126 \nL 94.019489 214.749555 \nL 97.063125 214.586305 \nL 100.106761 214.69026 \nL 103.150398 214.754004 \nL 106.194034 214.738362 \nL 109.23767 214.744192 \nL 112.281307 214.467166 \nL 115.324943 214.643131 \nL 118.36858 214.590738 \nL 121.412216 214.459374 \nL 124.455852 214.710339 \nL 127.499489 214.752917 \nL 130.543125 200.359561 \nL 133.586761 213.73328 \nL 136.630398 214.75518 \nL 139.674034 214.638197 \nL 142.71767 214.238047 \nL 145.761307 214.756304 \nL 148.804943 214.132387 \nL 151.84858 214.753902 \nL 154.892216 214.741532 \nL 157.935852 214.5157 \nL 160.979489 212.423223 \nL 164.023125 214.744509 \nL 167.066761 214.647528 \nL 170.110398 214.345259 \nL 173.154034 214.44393 \nL 176.19767 214.755332 \nL 179.241307 214.749064 \nL 182.284943 214.732641 \nL 185.32858 214.590944 \nL 188.372216 214.703366 \nL 191.415852 214.756223 \nL 194.459489 202.984474 \nL 197.503125 214.670578 \nL 200.546761 214.737042 \nL 203.590398 206.746268 \nL 206.634034 212.92009 \nL 209.67767 214.735001 \nL 212.721307 213.376652 \nL 215.764943 209.567443 \nL 218.80858 213.667113 \nL 221.852216 213.551829 \nL 224.895852 214.740158 \nL 227.939489 214.755952 \nL 230.983125 214.587505 \nL 234.026761 205.0279 \nL 237.070398 214.67238 \nL 240.114034 214.716635 \nL 243.15767 214.735349 \nL 246.201307 214.753402 \nL 249.244943 212.572909 \nL 252.28858 214.299714 \nL 255.332216 214.258464 \nL 258.375852 214.729545 \nL 261.419489 214.753275 \nL 264.463125 213.584977 \nL 267.506761 214.748555 \nL 270.550398 214.708654 \nL 273.594034 214.754061 \nL 276.63767 214.744354 \nL 279.681307 211.84847 \nL 282.724943 214.434704 \nL 285.76858 214.748765 \nL 288.812216 214.357486 \nL 291.855852 214.745127 \nL 294.899489 214.076733 \nL 297.943125 214.749901 \nL 300.986761 214.664646 \nL 304.030398 210.81587 \nL 307.074034 214.625565 \nL 310.11767 214.644088 \nL 313.161307 214.755871 \nL 316.204943 214.728271 \nL 319.24858 214.753957 \nL 322.292216 214.75406 \nL 325.335852 214.653649 \nL 328.379489 214.655401 \nL 331.423125 214.620675 \nL 334.466761 214.55843 \nL 337.510398 214.615412 \nL 340.554034 214.73262 \nL 343.59767 214.742458 \nL 346.641307 214.557039 \nL 349.684943 179.223411 \n\" clip-path=\"url(#pcf0c22f5aa)\" style=\"fill: none; stroke: #8dd3c7; stroke-width: 1.5; stroke-linecap: square\"/>\n   </g>\n   <g id=\"patch_3\">\n    <path d=\"M 30.103125 224.64 \nL 30.103125 7.2 \n\" style=\"fill: none; stroke: #ffffff; stroke-width: 0.8; stroke-linejoin: miter; stroke-linecap: square\"/>\n   </g>\n   <g id=\"patch_4\">\n    <path d=\"M 364.903125 224.64 \nL 364.903125 7.2 \n\" style=\"fill: none; stroke: #ffffff; stroke-width: 0.8; stroke-linejoin: miter; stroke-linecap: square\"/>\n   </g>\n   <g id=\"patch_5\">\n    <path d=\"M 30.103125 224.64 \nL 364.903125 224.64 \n\" style=\"fill: none; stroke: #ffffff; stroke-width: 0.8; stroke-linejoin: miter; stroke-linecap: square\"/>\n   </g>\n   <g id=\"patch_6\">\n    <path d=\"M 30.103125 7.2 \nL 364.903125 7.2 \n\" style=\"fill: none; stroke: #ffffff; stroke-width: 0.8; stroke-linejoin: miter; stroke-linecap: square\"/>\n   </g>\n  </g>\n </g>\n <defs>\n  <clipPath id=\"pcf0c22f5aa\">\n   <rect x=\"30.103125\" y=\"7.2\" width=\"334.8\" height=\"217.44\"/>\n  </clipPath>\n </defs>\n</svg>\n",
            "text/plain": [
              "<Figure size 432x288 with 1 Axes>"
            ]
          },
          "metadata": {},
          "output_type": "display_data"
        }
      ],
      "source": [
        "# Visualize the probabilities\n",
        "matplotlib.pyplot.plot(preds_probs[0])"
      ]
    },
    {
      "cell_type": "code",
      "execution_count": 38,
      "metadata": {},
      "outputs": [
        {
          "data": {
            "text/plain": [
              "'apple_pie'"
            ]
          },
          "execution_count": 38,
          "metadata": {},
          "output_type": "execute_result"
        }
      ],
      "source": [
        "test_data.class_names[tf.argmax(preds_probs[0])]"
      ]
    },
    {
      "cell_type": "code",
      "execution_count": 39,
      "metadata": {},
      "outputs": [
        {
          "data": {
            "text/plain": [
              "array([ 0,  0,  0,  8,  0, 78, 29, 46,  9,  0], dtype=int64)"
            ]
          },
          "execution_count": 39,
          "metadata": {},
          "output_type": "execute_result"
        }
      ],
      "source": [
        "# Get the pred classes of each label\n",
        "pred_classes = preds_probs.argmax(axis=1)\n",
        "\n",
        "# How do they look?\n",
        "pred_classes[:10]"
      ]
    },
    {
      "cell_type": "code",
      "execution_count": 40,
      "metadata": {},
      "outputs": [
        {
          "data": {
            "text/plain": [
              "25250"
            ]
          },
          "execution_count": 40,
          "metadata": {},
          "output_type": "execute_result"
        }
      ],
      "source": [
        "# How many pred classes do we have?\n",
        "len(pred_classes)"
      ]
    },
    {
      "cell_type": "markdown",
      "metadata": {},
      "source": [
        "Now we've got a predictions array of all of our model's predictions, to evaluate them, we need to compare them to the original test dataset labels."
      ]
    },
    {
      "cell_type": "code",
      "execution_count": 41,
      "metadata": {},
      "outputs": [
        {
          "data": {
            "text/plain": [
              "(<BatchDataset shapes: ((None, 224, 224, 3), (None, 101)), types: (tf.float32, tf.float32)>,\n",
              " 790)"
            ]
          },
          "execution_count": 41,
          "metadata": {},
          "output_type": "execute_result"
        }
      ],
      "source": [
        "test_data, len(test_data)"
      ]
    },
    {
      "cell_type": "code",
      "execution_count": 42,
      "metadata": {},
      "outputs": [
        {
          "data": {
            "text/plain": [
              "[0, 0, 0, 0, 0, 0, 0, 0, 0, 0]"
            ]
          },
          "execution_count": 42,
          "metadata": {},
          "output_type": "execute_result"
        }
      ],
      "source": [
        "# To get our test labels we need to unravel our test_data BatchDataset\n",
        "y_labels = []\n",
        "for images, labels in test_data.unbatch():\n",
        "    y_labels.append(labels.numpy().argmax()) # currently test labels look like [0, 0, 0, 1, ... 0, 0], we want the index value where the \"1\" occurs\n",
        "y_labels[:10]"
      ]
    },
    {
      "cell_type": "code",
      "execution_count": 43,
      "metadata": {},
      "outputs": [
        {
          "data": {
            "text/plain": [
              "25250"
            ]
          },
          "execution_count": 43,
          "metadata": {},
          "output_type": "execute_result"
        }
      ],
      "source": [
        "# How many y_labels are there?\n",
        "len(y_labels)"
      ]
    },
    {
      "cell_type": "markdown",
      "metadata": {},
      "source": [
        "## Evaluating our model's predictions\n",
        "\n",
        "One way to check that our model's predictions array is in the same order as our test labels array is to find the accuracy score."
      ]
    },
    {
      "cell_type": "code",
      "execution_count": 44,
      "metadata": {},
      "outputs": [
        {
          "data": {
            "text/plain": [
              "[1.6078609228134155, 0.5768316984176636]"
            ]
          },
          "execution_count": 44,
          "metadata": {},
          "output_type": "execute_result"
        }
      ],
      "source": [
        "loaded_model_results"
      ]
    },
    {
      "cell_type": "code",
      "execution_count": 45,
      "metadata": {},
      "outputs": [
        {
          "data": {
            "text/plain": [
              "0.5768316831683168"
            ]
          },
          "execution_count": 45,
          "metadata": {},
          "output_type": "execute_result"
        }
      ],
      "source": [
        "# Let's try scikit-learn's accuracy score function and see what it comes up with\n",
        "from sklearn.metrics import accuracy_score\n",
        "sklearn_accuracy = accuracy_score(y_true=y_labels, y_pred=pred_classes)\n",
        "sklearn_accuracy"
      ]
    },
    {
      "cell_type": "code",
      "execution_count": 46,
      "metadata": {},
      "outputs": [
        {
          "data": {
            "text/plain": [
              "True"
            ]
          },
          "execution_count": 46,
          "metadata": {},
          "output_type": "execute_result"
        }
      ],
      "source": [
        "# Does this metric come close to our model's evaluate results\n",
        "import numpy as np\n",
        "np.isclose(loaded_model_results[1], sklearn_accuracy)"
      ]
    },
    {
      "cell_type": "markdown",
      "metadata": {},
      "source": [
        "## Let's get visual: making a confusion matrix"
      ]
    },
    {
      "cell_type": "code",
      "execution_count": 48,
      "metadata": {},
      "outputs": [],
      "source": [
        "from helper_functions import make_confusion_matrix"
      ]
    },
    {
      "cell_type": "code",
      "execution_count": 53,
      "metadata": {},
      "outputs": [],
      "source": [
        "import itertools\n",
        "import matplotlib.pyplot as plt\n",
        "import numpy as np\n",
        "from sklearn.metrics import confusion_matrix\n",
        "\n",
        "# We need to make some changes to our make_confusion_matrix function to ensure x-labels print vertically\n",
        "\n",
        "def make_confusion_matrix(y_true, y_pred, classes=None, figsize=(10, 10), text_size=15, norm=False, savefig=False): \n",
        "  \"\"\"Makes a labelled confusion matrix comparing predictions and ground truth labels.\n",
        "\n",
        "  If classes is passed, confusion matrix will be labelled, if not, integer class values\n",
        "  will be used.\n",
        "\n",
        "  Args:\n",
        "    y_true: Array of truth labels (must be same shape as y_pred).\n",
        "    y_pred: Array of predicted labels (must be same shape as y_true).\n",
        "    classes: Array of class labels (e.g. string form). If `None`, integer labels are used.\n",
        "    figsize: Size of output figure (default=(10, 10)).\n",
        "    text_size: Size of output figure text (default=15).\n",
        "    norm: normalize values or not (default=False).\n",
        "    savefig: save confusion matrix to file (default=False).\n",
        "  \n",
        "  Returns:\n",
        "    A labelled confusion matrix plot comparing y_true and y_pred.\n",
        "\n",
        "  Example usage:\n",
        "    make_confusion_matrix(y_true=test_labels, # ground truth test labels\n",
        "                          y_pred=y_preds, # predicted labels\n",
        "                          classes=class_names, # array of class label names\n",
        "                          figsize=(15, 15),\n",
        "                          text_size=10)\n",
        "  \"\"\"  \n",
        "  # Create the confustion matrix\n",
        "  cm = confusion_matrix(y_true, y_pred)\n",
        "  cm_norm = cm.astype(\"float\") / cm.sum(axis=1)[:, np.newaxis] # normalize it\n",
        "  n_classes = cm.shape[0] # find the number of classes we're dealing with\n",
        "\n",
        "  # Plot the figure and make it pretty\n",
        "  fig, ax = plt.subplots(figsize=figsize)\n",
        "  cax = ax.matshow(cm, cmap=plt.cm.Blues) # colors will represent how 'correct' a class is, darker == better\n",
        "  fig.colorbar(cax)\n",
        "\n",
        "  # Are there a list of classes?\n",
        "  if classes:\n",
        "    labels = classes\n",
        "  else:\n",
        "    labels = np.arange(cm.shape[0])\n",
        "  \n",
        "  # Label the axes\n",
        "  ax.set(title=\"Confusion Matrix\",\n",
        "         xlabel=\"Predicted label\",\n",
        "         ylabel=\"True label\",\n",
        "         xticks=np.arange(n_classes), # create enough axis slots for each class\n",
        "         yticks=np.arange(n_classes), \n",
        "         xticklabels=labels, # axes will labeled with class names (if they exist) or ints\n",
        "         yticklabels=labels)\n",
        "  \n",
        "  # Make x-axis labels appear on bottom\n",
        "  ax.xaxis.set_label_position(\"bottom\")\n",
        "  ax.xaxis.tick_bottom()\n",
        "\n",
        "  \"\"\" Changed plot(x-labels veritcally) \"\"\"\n",
        "  plt.xticks(rotation=70, fontsize=text_size)\n",
        "  plt.yticks(fontsize=text_size)\n",
        "\n",
        "  # Set the threshold for different colors\n",
        "  threshold = (cm.max() + cm.min()) / 2.\n",
        "\n",
        "  # Plot the text on each cell\n",
        "  for i, j in itertools.product(range(cm.shape[0]), range(cm.shape[1])):\n",
        "    if norm:\n",
        "      plt.text(j, i, f\"{cm[i, j]} ({cm_norm[i, j]*100:.1f}%)\",\n",
        "              horizontalalignment=\"center\",\n",
        "              color=\"white\" if cm[i, j] > threshold else \"black\",\n",
        "              size=text_size)\n",
        "    else:\n",
        "      plt.text(j, i, f\"{cm[i, j]}\",\n",
        "              horizontalalignment=\"center\",\n",
        "              color=\"white\" if cm[i, j] > threshold else \"black\",\n",
        "              size=text_size)\n",
        "\n",
        "  # Save the figure to the current working directory\n",
        "  if savefig:\n",
        "    fig.savefig(\"confusion_matrix.png\")"
      ]
    },
    {
      "cell_type": "code",
      "execution_count": null,
      "metadata": {},
      "outputs": [],
      "source": [
        "# Get a list of class_names\n",
        "class_names = test_data.class_names\n",
        "make_confusion_matrix(y_true=y_labels, \n",
        "    y_pred=pred_classes, \n",
        "    classes=class_names, \n",
        "    figsize=(100,100), \n",
        "    text_size=10,\n",
        "    savefig=True)"
      ]
    },
    {
      "cell_type": "markdown",
      "metadata": {},
      "source": [
        "## Let's keep the evaluation train going, time for a classification report\n",
        "\n",
        "scikit-learn has a helpful function for acquiring many different classification metrics per class (e.g. precision, recall and F1) called [classification_report](https://scikit-learn.org/stable/modules/generated/sklearn.metrics.classification_report.html), let's try it out."
      ]
    },
    {
      "cell_type": "code",
      "execution_count": 56,
      "metadata": {},
      "outputs": [
        {
          "name": "stdout",
          "output_type": "stream",
          "text": [
            "              precision    recall  f1-score   support\n",
            "\n",
            "           0       0.32      0.20      0.24       250\n",
            "           1       0.48      0.72      0.58       250\n",
            "           2       0.66      0.57      0.61       250\n",
            "           3       0.84      0.47      0.60       250\n",
            "           4       0.50      0.46      0.48       250\n",
            "           5       0.39      0.38      0.39       250\n",
            "           6       0.83      0.66      0.73       250\n",
            "           7       0.84      0.70      0.77       250\n",
            "           8       0.23      0.62      0.34       250\n",
            "           9       0.35      0.67      0.46       250\n",
            "          10       0.45      0.46      0.45       250\n",
            "          11       0.69      0.60      0.64       250\n",
            "          12       0.62      0.60      0.61       250\n",
            "          13       0.62      0.46      0.53       250\n",
            "          14       0.48      0.55      0.51       250\n",
            "          15       0.43      0.27      0.33       250\n",
            "          16       0.72      0.44      0.55       250\n",
            "          17       0.39      0.42      0.40       250\n",
            "          18       0.57      0.41      0.48       250\n",
            "          19       0.70      0.54      0.61       250\n",
            "          20       0.72      0.72      0.72       250\n",
            "          21       0.49      0.58      0.53       250\n",
            "          22       0.29      0.44      0.35       250\n",
            "          23       0.69      0.72      0.70       250\n",
            "          24       0.75      0.60      0.67       250\n",
            "          25       0.67      0.69      0.68       250\n",
            "          26       0.41      0.33      0.36       250\n",
            "          27       0.73      0.72      0.72       250\n",
            "          28       0.74      0.65      0.69       250\n",
            "          29       0.67      0.74      0.71       250\n",
            "          30       0.85      0.56      0.68       250\n",
            "          31       0.77      0.70      0.73       250\n",
            "          32       0.72      0.84      0.77       250\n",
            "          33       0.93      0.98      0.95       250\n",
            "          34       0.68      0.70      0.69       250\n",
            "          35       0.74      0.64      0.69       250\n",
            "          36       0.61      0.30      0.40       250\n",
            "          37       0.24      0.43      0.31       250\n",
            "          38       0.84      0.59      0.69       250\n",
            "          39       0.39      0.28      0.32       250\n",
            "          40       0.74      0.78      0.76       250\n",
            "          41       0.71      0.62      0.66       250\n",
            "          42       0.48      0.48      0.48       250\n",
            "          43       0.80      0.44      0.57       250\n",
            "          44       0.70      0.40      0.51       250\n",
            "          45       0.82      0.82      0.82       250\n",
            "          46       0.54      0.65      0.59       250\n",
            "          47       0.32      0.60      0.42       250\n",
            "          48       0.47      0.80      0.59       250\n",
            "          49       0.35      0.48      0.40       250\n",
            "          50       0.49      0.30      0.37       250\n",
            "          51       0.79      0.86      0.82       250\n",
            "          52       0.75      0.52      0.61       250\n",
            "          53       0.60      0.63      0.61       250\n",
            "          54       0.81      0.80      0.81       250\n",
            "          55       0.72      0.81      0.76       250\n",
            "          56       0.27      0.40      0.32       250\n",
            "          57       0.57      0.38      0.45       250\n",
            "          58       0.67      0.53      0.59       250\n",
            "          59       0.69      0.23      0.34       250\n",
            "          60       0.68      0.67      0.68       250\n",
            "          61       0.64      0.62      0.63       250\n",
            "          62       0.48      0.59      0.53       250\n",
            "          63       0.93      0.79      0.85       250\n",
            "          64       0.74      0.87      0.80       250\n",
            "          65       0.87      0.76      0.81       250\n",
            "          66       0.61      0.31      0.41       250\n",
            "          67       0.44      0.48      0.46       250\n",
            "          68       0.74      0.82      0.78       250\n",
            "          69       0.83      0.78      0.80       250\n",
            "          70       0.71      0.78      0.74       250\n",
            "          71       0.84      0.35      0.50       250\n",
            "          72       0.49      0.68      0.57       250\n",
            "          73       0.39      0.49      0.43       250\n",
            "          74       0.74      0.51      0.61       250\n",
            "          75       0.79      0.88      0.83       250\n",
            "          76       0.74      0.88      0.81       250\n",
            "          77       0.27      0.37      0.32       250\n",
            "          78       0.58      0.73      0.65       250\n",
            "          79       0.63      0.61      0.62       250\n",
            "          80       0.45      0.70      0.55       250\n",
            "          81       0.57      0.74      0.64       250\n",
            "          82       0.35      0.34      0.34       250\n",
            "          83       0.61      0.71      0.66       250\n",
            "          84       0.35      0.38      0.36       250\n",
            "          85       0.60      0.55      0.57       250\n",
            "          86       0.79      0.85      0.82       250\n",
            "          87       0.52      0.22      0.31       250\n",
            "          88       0.82      0.76      0.79       250\n",
            "          89       0.41      0.43      0.42       250\n",
            "          90       0.78      0.67      0.72       250\n",
            "          91       0.78      0.85      0.81       250\n",
            "          92       0.69      0.56      0.62       250\n",
            "          93       0.29      0.31      0.30       250\n",
            "          94       0.67      0.46      0.55       250\n",
            "          95       0.72      0.52      0.60       250\n",
            "          96       0.48      0.39      0.43       250\n",
            "          97       0.70      0.57      0.63       250\n",
            "          98       0.37      0.46      0.41       250\n",
            "          99       0.31      0.26      0.28       250\n",
            "         100       0.59      0.65      0.62       250\n",
            "\n",
            "    accuracy                           0.58     25250\n",
            "   macro avg       0.61      0.58      0.58     25250\n",
            "weighted avg       0.61      0.58      0.58     25250\n",
            "\n"
          ]
        }
      ],
      "source": [
        "from sklearn.metrics import classification_report\n",
        "print(classification_report(y_true=y_labels, \n",
        "    y_pred=pred_classes))"
      ]
    },
    {
      "cell_type": "markdown",
      "metadata": {},
      "source": [
        "The numbers above give a great class-by-class evaluation of our model's predictions but with so many classes, they're quite hard to understand. \n",
        "\n",
        "How about we create a visualization to get a better understanding?"
      ]
    },
    {
      "cell_type": "code",
      "execution_count": 58,
      "metadata": {},
      "outputs": [
        {
          "data": {
            "text/plain": [
              "{'0': {'precision': 0.3181818181818182,\n",
              "  'recall': 0.196,\n",
              "  'f1-score': 0.24257425742574257,\n",
              "  'support': 250},\n",
              " '1': {'precision': 0.4826666666666667,\n",
              "  'recall': 0.724,\n",
              "  'f1-score': 0.5792,\n",
              "  'support': 250},\n",
              " '2': {'precision': 0.6574074074074074,\n",
              "  'recall': 0.568,\n",
              "  'f1-score': 0.6094420600858369,\n",
              "  'support': 250},\n",
              " '3': {'precision': 0.8357142857142857,\n",
              "  'recall': 0.468,\n",
              "  'f1-score': 0.6,\n",
              "  'support': 250},\n",
              " '4': {'precision': 0.4978165938864629,\n",
              "  'recall': 0.456,\n",
              "  'f1-score': 0.4759916492693111,\n",
              "  'support': 250},\n",
              " '5': {'precision': 0.38866396761133604,\n",
              "  'recall': 0.384,\n",
              "  'f1-score': 0.38631790744466804,\n",
              "  'support': 250},\n",
              " '6': {'precision': 0.8291457286432161,\n",
              "  'recall': 0.66,\n",
              "  'f1-score': 0.734966592427617,\n",
              "  'support': 250},\n",
              " '7': {'precision': 0.8421052631578947,\n",
              "  'recall': 0.704,\n",
              "  'f1-score': 0.7668845315904139,\n",
              "  'support': 250},\n",
              " '8': {'precision': 0.23168908819133036,\n",
              "  'recall': 0.62,\n",
              "  'f1-score': 0.3373231773667029,\n",
              "  'support': 250},\n",
              " '9': {'precision': 0.35368421052631577,\n",
              "  'recall': 0.672,\n",
              "  'f1-score': 0.46344827586206894,\n",
              "  'support': 250},\n",
              " '10': {'precision': 0.4474708171206226,\n",
              "  'recall': 0.46,\n",
              "  'f1-score': 0.45364891518737677,\n",
              "  'support': 250},\n",
              " '11': {'precision': 0.6863636363636364,\n",
              "  'recall': 0.604,\n",
              "  'f1-score': 0.6425531914893616,\n",
              "  'support': 250},\n",
              " '12': {'precision': 0.6172839506172839,\n",
              "  'recall': 0.6,\n",
              "  'f1-score': 0.6085192697768763,\n",
              "  'support': 250},\n",
              " '13': {'precision': 0.6182795698924731,\n",
              "  'recall': 0.46,\n",
              "  'f1-score': 0.5275229357798165,\n",
              "  'support': 250},\n",
              " '14': {'precision': 0.47586206896551725,\n",
              "  'recall': 0.552,\n",
              "  'f1-score': 0.5111111111111111,\n",
              "  'support': 250},\n",
              " '15': {'precision': 0.43037974683544306,\n",
              "  'recall': 0.272,\n",
              "  'f1-score': 0.3333333333333333,\n",
              "  'support': 250},\n",
              " '16': {'precision': 0.7161290322580646,\n",
              "  'recall': 0.444,\n",
              "  'f1-score': 0.5481481481481482,\n",
              "  'support': 250},\n",
              " '17': {'precision': 0.3874538745387454,\n",
              "  'recall': 0.42,\n",
              "  'f1-score': 0.4030710172744722,\n",
              "  'support': 250},\n",
              " '18': {'precision': 0.5698324022346368,\n",
              "  'recall': 0.408,\n",
              "  'f1-score': 0.4755244755244755,\n",
              "  'support': 250},\n",
              " '19': {'precision': 0.703125,\n",
              "  'recall': 0.54,\n",
              "  'f1-score': 0.6108597285067874,\n",
              "  'support': 250},\n",
              " '20': {'precision': 0.716,\n",
              "  'recall': 0.716,\n",
              "  'f1-score': 0.7160000000000001,\n",
              "  'support': 250},\n",
              " '21': {'precision': 0.4915254237288136,\n",
              "  'recall': 0.58,\n",
              "  'f1-score': 0.5321100917431192,\n",
              "  'support': 250},\n",
              " '22': {'precision': 0.28720626631853785,\n",
              "  'recall': 0.44,\n",
              "  'f1-score': 0.34755134281200634,\n",
              "  'support': 250},\n",
              " '23': {'precision': 0.6856060606060606,\n",
              "  'recall': 0.724,\n",
              "  'f1-score': 0.7042801556420233,\n",
              "  'support': 250},\n",
              " '24': {'precision': 0.75,\n",
              "  'recall': 0.6,\n",
              "  'f1-score': 0.6666666666666665,\n",
              "  'support': 250},\n",
              " '25': {'precision': 0.669260700389105,\n",
              "  'recall': 0.688,\n",
              "  'f1-score': 0.6785009861932938,\n",
              "  'support': 250},\n",
              " '26': {'precision': 0.41,\n",
              "  'recall': 0.328,\n",
              "  'f1-score': 0.3644444444444444,\n",
              "  'support': 250},\n",
              " '27': {'precision': 0.7258064516129032,\n",
              "  'recall': 0.72,\n",
              "  'f1-score': 0.7228915662650602,\n",
              "  'support': 250},\n",
              " '28': {'precision': 0.7397260273972602,\n",
              "  'recall': 0.648,\n",
              "  'f1-score': 0.6908315565031983,\n",
              "  'support': 250},\n",
              " '29': {'precision': 0.6739130434782609,\n",
              "  'recall': 0.744,\n",
              "  'f1-score': 0.7072243346007604,\n",
              "  'support': 250},\n",
              " '30': {'precision': 0.8545454545454545,\n",
              "  'recall': 0.564,\n",
              "  'f1-score': 0.6795180722891565,\n",
              "  'support': 250},\n",
              " '31': {'precision': 0.7675438596491229,\n",
              "  'recall': 0.7,\n",
              "  'f1-score': 0.7322175732217573,\n",
              "  'support': 250},\n",
              " '32': {'precision': 0.7191780821917808,\n",
              "  'recall': 0.84,\n",
              "  'f1-score': 0.7749077490774908,\n",
              "  'support': 250},\n",
              " '33': {'precision': 0.9312977099236641,\n",
              "  'recall': 0.976,\n",
              "  'f1-score': 0.953125,\n",
              "  'support': 250},\n",
              " '34': {'precision': 0.6823529411764706,\n",
              "  'recall': 0.696,\n",
              "  'f1-score': 0.689108910891089,\n",
              "  'support': 250},\n",
              " '35': {'precision': 0.7419354838709677,\n",
              "  'recall': 0.644,\n",
              "  'f1-score': 0.689507494646681,\n",
              "  'support': 250},\n",
              " '36': {'precision': 0.6115702479338843,\n",
              "  'recall': 0.296,\n",
              "  'f1-score': 0.398921832884097,\n",
              "  'support': 250},\n",
              " '37': {'precision': 0.23841059602649006,\n",
              "  'recall': 0.432,\n",
              "  'f1-score': 0.30725462304409673,\n",
              "  'support': 250},\n",
              " '38': {'precision': 0.8352272727272727,\n",
              "  'recall': 0.588,\n",
              "  'f1-score': 0.6901408450704225,\n",
              "  'support': 250},\n",
              " '39': {'precision': 0.38764044943820225,\n",
              "  'recall': 0.276,\n",
              "  'f1-score': 0.3224299065420561,\n",
              "  'support': 250},\n",
              " '40': {'precision': 0.7442748091603053,\n",
              "  'recall': 0.78,\n",
              "  'f1-score': 0.76171875,\n",
              "  'support': 250},\n",
              " '41': {'precision': 0.7142857142857143,\n",
              "  'recall': 0.62,\n",
              "  'f1-score': 0.6638115631691649,\n",
              "  'support': 250},\n",
              " '42': {'precision': 0.4779116465863454,\n",
              "  'recall': 0.476,\n",
              "  'f1-score': 0.4769539078156313,\n",
              "  'support': 250},\n",
              " '43': {'precision': 0.8043478260869565,\n",
              "  'recall': 0.444,\n",
              "  'f1-score': 0.5721649484536082,\n",
              "  'support': 250},\n",
              " '44': {'precision': 0.6971830985915493,\n",
              "  'recall': 0.396,\n",
              "  'f1-score': 0.5051020408163265,\n",
              "  'support': 250},\n",
              " '45': {'precision': 0.8225806451612904,\n",
              "  'recall': 0.816,\n",
              "  'f1-score': 0.8192771084337349,\n",
              "  'support': 250},\n",
              " '46': {'precision': 0.5364238410596026,\n",
              "  'recall': 0.648,\n",
              "  'f1-score': 0.5869565217391305,\n",
              "  'support': 250},\n",
              " '47': {'precision': 0.31856540084388185,\n",
              "  'recall': 0.604,\n",
              "  'f1-score': 0.4171270718232044,\n",
              "  'support': 250},\n",
              " '48': {'precision': 0.4672897196261682,\n",
              "  'recall': 0.8,\n",
              "  'f1-score': 0.5899705014749262,\n",
              "  'support': 250},\n",
              " '49': {'precision': 0.3457142857142857,\n",
              "  'recall': 0.484,\n",
              "  'f1-score': 0.4033333333333333,\n",
              "  'support': 250},\n",
              " '50': {'precision': 0.48717948717948717,\n",
              "  'recall': 0.304,\n",
              "  'f1-score': 0.37438423645320196,\n",
              "  'support': 250},\n",
              " '51': {'precision': 0.7867647058823529,\n",
              "  'recall': 0.856,\n",
              "  'f1-score': 0.8199233716475095,\n",
              "  'support': 250},\n",
              " '52': {'precision': 0.75,\n",
              "  'recall': 0.516,\n",
              "  'f1-score': 0.6113744075829384,\n",
              "  'support': 250},\n",
              " '53': {'precision': 0.596958174904943,\n",
              "  'recall': 0.628,\n",
              "  'f1-score': 0.6120857699805068,\n",
              "  'support': 250},\n",
              " '54': {'precision': 0.8104838709677419,\n",
              "  'recall': 0.804,\n",
              "  'f1-score': 0.8072289156626508,\n",
              "  'support': 250},\n",
              " '55': {'precision': 0.7198581560283688,\n",
              "  'recall': 0.812,\n",
              "  'f1-score': 0.7631578947368421,\n",
              "  'support': 250},\n",
              " '56': {'precision': 0.27100271002710025,\n",
              "  'recall': 0.4,\n",
              "  'f1-score': 0.3231017770597738,\n",
              "  'support': 250},\n",
              " '57': {'precision': 0.5662650602409639,\n",
              "  'recall': 0.376,\n",
              "  'f1-score': 0.451923076923077,\n",
              "  'support': 250},\n",
              " '58': {'precision': 0.665,\n",
              "  'recall': 0.532,\n",
              "  'f1-score': 0.5911111111111111,\n",
              "  'support': 250},\n",
              " '59': {'precision': 0.6867469879518072,\n",
              "  'recall': 0.228,\n",
              "  'f1-score': 0.34234234234234234,\n",
              "  'support': 250},\n",
              " '60': {'precision': 0.6844262295081968,\n",
              "  'recall': 0.668,\n",
              "  'f1-score': 0.6761133603238867,\n",
              "  'support': 250},\n",
              " '61': {'precision': 0.636734693877551,\n",
              "  'recall': 0.624,\n",
              "  'f1-score': 0.6303030303030304,\n",
              "  'support': 250},\n",
              " '62': {'precision': 0.48366013071895425,\n",
              "  'recall': 0.592,\n",
              "  'f1-score': 0.5323741007194245,\n",
              "  'support': 250},\n",
              " '63': {'precision': 0.9292452830188679,\n",
              "  'recall': 0.788,\n",
              "  'f1-score': 0.8528138528138528,\n",
              "  'support': 250},\n",
              " '64': {'precision': 0.7364864864864865,\n",
              "  'recall': 0.872,\n",
              "  'f1-score': 0.7985347985347986,\n",
              "  'support': 250},\n",
              " '65': {'precision': 0.8669724770642202,\n",
              "  'recall': 0.756,\n",
              "  'f1-score': 0.8076923076923077,\n",
              "  'support': 250},\n",
              " '66': {'precision': 0.6141732283464567,\n",
              "  'recall': 0.312,\n",
              "  'f1-score': 0.4137931034482758,\n",
              "  'support': 250},\n",
              " '67': {'precision': 0.4375,\n",
              "  'recall': 0.476,\n",
              "  'f1-score': 0.4559386973180077,\n",
              "  'support': 250},\n",
              " '68': {'precision': 0.7427536231884058,\n",
              "  'recall': 0.82,\n",
              "  'f1-score': 0.779467680608365,\n",
              "  'support': 250},\n",
              " '69': {'precision': 0.8290598290598291,\n",
              "  'recall': 0.776,\n",
              "  'f1-score': 0.8016528925619835,\n",
              "  'support': 250},\n",
              " '70': {'precision': 0.7132352941176471,\n",
              "  'recall': 0.776,\n",
              "  'f1-score': 0.7432950191570882,\n",
              "  'support': 250},\n",
              " '71': {'precision': 0.8380952380952381,\n",
              "  'recall': 0.352,\n",
              "  'f1-score': 0.4957746478873239,\n",
              "  'support': 250},\n",
              " '72': {'precision': 0.4857142857142857,\n",
              "  'recall': 0.68,\n",
              "  'f1-score': 0.5666666666666667,\n",
              "  'support': 250},\n",
              " '73': {'precision': 0.3867924528301887,\n",
              "  'recall': 0.492,\n",
              "  'f1-score': 0.43309859154929575,\n",
              "  'support': 250},\n",
              " '74': {'precision': 0.7398843930635838,\n",
              "  'recall': 0.512,\n",
              "  'f1-score': 0.6052009456264774,\n",
              "  'support': 250},\n",
              " '75': {'precision': 0.7934782608695652,\n",
              "  'recall': 0.876,\n",
              "  'f1-score': 0.8326996197718631,\n",
              "  'support': 250},\n",
              " '76': {'precision': 0.7448979591836735,\n",
              "  'recall': 0.876,\n",
              "  'f1-score': 0.8051470588235294,\n",
              "  'support': 250},\n",
              " '77': {'precision': 0.2735294117647059,\n",
              "  'recall': 0.372,\n",
              "  'f1-score': 0.3152542372881356,\n",
              "  'support': 250},\n",
              " '78': {'precision': 0.5796178343949044,\n",
              "  'recall': 0.728,\n",
              "  'f1-score': 0.6453900709219859,\n",
              "  'support': 250},\n",
              " '79': {'precision': 0.628099173553719,\n",
              "  'recall': 0.608,\n",
              "  'f1-score': 0.6178861788617886,\n",
              "  'support': 250},\n",
              " '80': {'precision': 0.45430809399477806,\n",
              "  'recall': 0.696,\n",
              "  'f1-score': 0.5497630331753555,\n",
              "  'support': 250},\n",
              " '81': {'precision': 0.5653495440729484,\n",
              "  'recall': 0.744,\n",
              "  'f1-score': 0.6424870466321244,\n",
              "  'support': 250},\n",
              " '82': {'precision': 0.34710743801652894,\n",
              "  'recall': 0.336,\n",
              "  'f1-score': 0.34146341463414637,\n",
              "  'support': 250},\n",
              " '83': {'precision': 0.6137931034482759,\n",
              "  'recall': 0.712,\n",
              "  'f1-score': 0.6592592592592593,\n",
              "  'support': 250},\n",
              " '84': {'precision': 0.34532374100719426,\n",
              "  'recall': 0.384,\n",
              "  'f1-score': 0.3636363636363637,\n",
              "  'support': 250},\n",
              " '85': {'precision': 0.6008771929824561,\n",
              "  'recall': 0.548,\n",
              "  'f1-score': 0.5732217573221758,\n",
              "  'support': 250},\n",
              " '86': {'precision': 0.7947761194029851,\n",
              "  'recall': 0.852,\n",
              "  'f1-score': 0.8223938223938224,\n",
              "  'support': 250},\n",
              " '87': {'precision': 0.5192307692307693,\n",
              "  'recall': 0.216,\n",
              "  'f1-score': 0.3050847457627119,\n",
              "  'support': 250},\n",
              " '88': {'precision': 0.8217391304347826,\n",
              "  'recall': 0.756,\n",
              "  'f1-score': 0.7875,\n",
              "  'support': 250},\n",
              " '89': {'precision': 0.41312741312741313,\n",
              "  'recall': 0.428,\n",
              "  'f1-score': 0.42043222003929276,\n",
              "  'support': 250},\n",
              " '90': {'precision': 0.780373831775701,\n",
              "  'recall': 0.668,\n",
              "  'f1-score': 0.7198275862068967,\n",
              "  'support': 250},\n",
              " '91': {'precision': 0.7822878228782287,\n",
              "  'recall': 0.848,\n",
              "  'f1-score': 0.8138195777351247,\n",
              "  'support': 250},\n",
              " '92': {'precision': 0.6896551724137931,\n",
              "  'recall': 0.56,\n",
              "  'f1-score': 0.6181015452538632,\n",
              "  'support': 250},\n",
              " '93': {'precision': 0.2943396226415094,\n",
              "  'recall': 0.312,\n",
              "  'f1-score': 0.3029126213592233,\n",
              "  'support': 250},\n",
              " '94': {'precision': 0.672514619883041,\n",
              "  'recall': 0.46,\n",
              "  'f1-score': 0.5463182897862233,\n",
              "  'support': 250},\n",
              " '95': {'precision': 0.7222222222222222,\n",
              "  'recall': 0.52,\n",
              "  'f1-score': 0.6046511627906976,\n",
              "  'support': 250},\n",
              " '96': {'precision': 0.485,\n",
              "  'recall': 0.388,\n",
              "  'f1-score': 0.43111111111111117,\n",
              "  'support': 250},\n",
              " '97': {'precision': 0.7029702970297029,\n",
              "  'recall': 0.568,\n",
              "  'f1-score': 0.6283185840707965,\n",
              "  'support': 250},\n",
              " '98': {'precision': 0.3709677419354839,\n",
              "  'recall': 0.46,\n",
              "  'f1-score': 0.4107142857142857,\n",
              "  'support': 250},\n",
              " '99': {'precision': 0.3125,\n",
              "  'recall': 0.26,\n",
              "  'f1-score': 0.2838427947598253,\n",
              "  'support': 250},\n",
              " '100': {'precision': 0.5884476534296029,\n",
              "  'recall': 0.652,\n",
              "  'f1-score': 0.618595825426945,\n",
              "  'support': 250},\n",
              " 'accuracy': 0.5768316831683168,\n",
              " 'macro avg': {'precision': 0.6069119322268333,\n",
              "  'recall': 0.5768316831683168,\n",
              "  'f1-score': 0.5784522206796919,\n",
              "  'support': 25250},\n",
              " 'weighted avg': {'precision': 0.6069119322268334,\n",
              "  'recall': 0.5768316831683168,\n",
              "  'f1-score': 0.5784522206796918,\n",
              "  'support': 25250}}"
            ]
          },
          "execution_count": 58,
          "metadata": {},
          "output_type": "execute_result"
        }
      ],
      "source": [
        "# Get a dictionary of the classification report\n",
        "classification_report_dict = classification_report(y_labels, pred_classes, output_dict=True)\n",
        "classification_report_dict"
      ]
    },
    {
      "cell_type": "code",
      "execution_count": 63,
      "metadata": {},
      "outputs": [
        {
          "data": {
            "text/plain": [
              "{'precision': 0.4779116465863454,\n",
              " 'recall': 0.476,\n",
              " 'f1-score': 0.4769539078156313,\n",
              " 'support': 250}"
            ]
          },
          "execution_count": 63,
          "metadata": {},
          "output_type": "execute_result"
        }
      ],
      "source": [
        "classification_report_dict[\"42\"]"
      ]
    },
    {
      "cell_type": "code",
      "execution_count": 62,
      "metadata": {},
      "outputs": [
        {
          "data": {
            "text/plain": [
              "'french_toast'"
            ]
          },
          "execution_count": 62,
          "metadata": {},
          "output_type": "execute_result"
        }
      ],
      "source": [
        "class_names[42]"
      ]
    },
    {
      "cell_type": "markdown",
      "metadata": {},
      "source": [
        "Let's plot all of our classes F1-scores..."
      ]
    },
    {
      "cell_type": "code",
      "execution_count": 69,
      "metadata": {},
      "outputs": [
        {
          "data": {
            "text/plain": [
              "{'apple_pie': 0.24257425742574257,\n",
              " 'baby_back_ribs': 0.5792,\n",
              " 'baklava': 0.6094420600858369,\n",
              " 'beef_carpaccio': 0.6,\n",
              " 'beef_tartare': 0.4759916492693111,\n",
              " 'beet_salad': 0.38631790744466804,\n",
              " 'beignets': 0.734966592427617,\n",
              " 'bibimbap': 0.7668845315904139,\n",
              " 'bread_pudding': 0.3373231773667029,\n",
              " 'breakfast_burrito': 0.46344827586206894,\n",
              " 'bruschetta': 0.45364891518737677,\n",
              " 'caesar_salad': 0.6425531914893616,\n",
              " 'cannoli': 0.6085192697768763,\n",
              " 'caprese_salad': 0.5275229357798165,\n",
              " 'carrot_cake': 0.5111111111111111,\n",
              " 'ceviche': 0.3333333333333333,\n",
              " 'cheese_plate': 0.5481481481481482,\n",
              " 'cheesecake': 0.4030710172744722,\n",
              " 'chicken_curry': 0.4755244755244755,\n",
              " 'chicken_quesadilla': 0.6108597285067874,\n",
              " 'chicken_wings': 0.7160000000000001,\n",
              " 'chocolate_cake': 0.5321100917431192,\n",
              " 'chocolate_mousse': 0.34755134281200634,\n",
              " 'churros': 0.7042801556420233,\n",
              " 'clam_chowder': 0.6666666666666665,\n",
              " 'club_sandwich': 0.6785009861932938,\n",
              " 'crab_cakes': 0.3644444444444444,\n",
              " 'creme_brulee': 0.7228915662650602,\n",
              " 'croque_madame': 0.6908315565031983,\n",
              " 'cup_cakes': 0.7072243346007604,\n",
              " 'deviled_eggs': 0.6795180722891565,\n",
              " 'donuts': 0.7322175732217573,\n",
              " 'dumplings': 0.7749077490774908,\n",
              " 'edamame': 0.953125,\n",
              " 'eggs_benedict': 0.689108910891089,\n",
              " 'escargots': 0.689507494646681,\n",
              " 'falafel': 0.398921832884097,\n",
              " 'filet_mignon': 0.30725462304409673,\n",
              " 'fish_and_chips': 0.6901408450704225,\n",
              " 'foie_gras': 0.3224299065420561,\n",
              " 'french_fries': 0.76171875,\n",
              " 'french_onion_soup': 0.6638115631691649,\n",
              " 'french_toast': 0.4769539078156313,\n",
              " 'fried_calamari': 0.5721649484536082,\n",
              " 'fried_rice': 0.5051020408163265,\n",
              " 'frozen_yogurt': 0.8192771084337349,\n",
              " 'garlic_bread': 0.5869565217391305,\n",
              " 'gnocchi': 0.4171270718232044,\n",
              " 'greek_salad': 0.5899705014749262,\n",
              " 'grilled_cheese_sandwich': 0.4033333333333333,\n",
              " 'grilled_salmon': 0.37438423645320196,\n",
              " 'guacamole': 0.8199233716475095,\n",
              " 'gyoza': 0.6113744075829384,\n",
              " 'hamburger': 0.6120857699805068,\n",
              " 'hot_and_sour_soup': 0.8072289156626508,\n",
              " 'hot_dog': 0.7631578947368421,\n",
              " 'huevos_rancheros': 0.3231017770597738,\n",
              " 'hummus': 0.451923076923077,\n",
              " 'ice_cream': 0.5911111111111111,\n",
              " 'lasagna': 0.34234234234234234,\n",
              " 'lobster_bisque': 0.6761133603238867,\n",
              " 'lobster_roll_sandwich': 0.6303030303030304,\n",
              " 'macaroni_and_cheese': 0.5323741007194245,\n",
              " 'macarons': 0.8528138528138528,\n",
              " 'miso_soup': 0.7985347985347986,\n",
              " 'mussels': 0.8076923076923077,\n",
              " 'nachos': 0.4137931034482758,\n",
              " 'omelette': 0.4559386973180077,\n",
              " 'onion_rings': 0.779467680608365,\n",
              " 'oysters': 0.8016528925619835,\n",
              " 'pad_thai': 0.7432950191570882,\n",
              " 'paella': 0.4957746478873239,\n",
              " 'pancakes': 0.5666666666666667,\n",
              " 'panna_cotta': 0.43309859154929575,\n",
              " 'peking_duck': 0.6052009456264774,\n",
              " 'pho': 0.8326996197718631,\n",
              " 'pizza': 0.8051470588235294,\n",
              " 'pork_chop': 0.3152542372881356,\n",
              " 'poutine': 0.6453900709219859,\n",
              " 'prime_rib': 0.6178861788617886,\n",
              " 'pulled_pork_sandwich': 0.5497630331753555,\n",
              " 'ramen': 0.6424870466321244,\n",
              " 'ravioli': 0.34146341463414637,\n",
              " 'red_velvet_cake': 0.6592592592592593,\n",
              " 'risotto': 0.3636363636363637,\n",
              " 'samosa': 0.5732217573221758,\n",
              " 'sashimi': 0.8223938223938224,\n",
              " 'scallops': 0.3050847457627119,\n",
              " 'seaweed_salad': 0.7875,\n",
              " 'shrimp_and_grits': 0.42043222003929276,\n",
              " 'spaghetti_bolognese': 0.7198275862068967,\n",
              " 'spaghetti_carbonara': 0.8138195777351247,\n",
              " 'spring_rolls': 0.6181015452538632,\n",
              " 'steak': 0.3029126213592233,\n",
              " 'strawberry_shortcake': 0.5463182897862233,\n",
              " 'sushi': 0.6046511627906976,\n",
              " 'tacos': 0.43111111111111117,\n",
              " 'takoyaki': 0.6283185840707965,\n",
              " 'tiramisu': 0.4107142857142857,\n",
              " 'tuna_tartare': 0.2838427947598253,\n",
              " 'waffles': 0.618595825426945}"
            ]
          },
          "execution_count": 69,
          "metadata": {},
          "output_type": "execute_result"
        }
      ],
      "source": [
        "# Create empty dictionary\n",
        "class_f1_scores = {}\n",
        "# Loop through classification report dictionary items\n",
        "for k, v in classification_report_dict.items():\n",
        "    if k == \"accuracy\": # stop once we get to accuracy key\n",
        "        break\n",
        "    else: # Add class names and f1-scores to new dictionary\n",
        "        class_f1_scores[class_names[int(k)]] = v[\"f1-score\"]\n",
        "class_f1_scores"
      ]
    },
    {
      "cell_type": "code",
      "execution_count": 71,
      "metadata": {},
      "outputs": [
        {
          "data": {
            "text/html": [
              "<div>\n",
              "<style scoped>\n",
              "    .dataframe tbody tr th:only-of-type {\n",
              "        vertical-align: middle;\n",
              "    }\n",
              "\n",
              "    .dataframe tbody tr th {\n",
              "        vertical-align: top;\n",
              "    }\n",
              "\n",
              "    .dataframe thead th {\n",
              "        text-align: right;\n",
              "    }\n",
              "</style>\n",
              "<table border=\"1\" class=\"dataframe\">\n",
              "  <thead>\n",
              "    <tr style=\"text-align: right;\">\n",
              "      <th></th>\n",
              "      <th>class_names</th>\n",
              "      <th>f1-score</th>\n",
              "    </tr>\n",
              "  </thead>\n",
              "  <tbody>\n",
              "    <tr>\n",
              "      <th>33</th>\n",
              "      <td>edamame</td>\n",
              "      <td>0.953125</td>\n",
              "    </tr>\n",
              "    <tr>\n",
              "      <th>63</th>\n",
              "      <td>macarons</td>\n",
              "      <td>0.852814</td>\n",
              "    </tr>\n",
              "    <tr>\n",
              "      <th>75</th>\n",
              "      <td>pho</td>\n",
              "      <td>0.832700</td>\n",
              "    </tr>\n",
              "    <tr>\n",
              "      <th>86</th>\n",
              "      <td>sashimi</td>\n",
              "      <td>0.822394</td>\n",
              "    </tr>\n",
              "    <tr>\n",
              "      <th>51</th>\n",
              "      <td>guacamole</td>\n",
              "      <td>0.819923</td>\n",
              "    </tr>\n",
              "    <tr>\n",
              "      <th>...</th>\n",
              "      <td>...</td>\n",
              "      <td>...</td>\n",
              "    </tr>\n",
              "    <tr>\n",
              "      <th>37</th>\n",
              "      <td>filet_mignon</td>\n",
              "      <td>0.307255</td>\n",
              "    </tr>\n",
              "    <tr>\n",
              "      <th>87</th>\n",
              "      <td>scallops</td>\n",
              "      <td>0.305085</td>\n",
              "    </tr>\n",
              "    <tr>\n",
              "      <th>93</th>\n",
              "      <td>steak</td>\n",
              "      <td>0.302913</td>\n",
              "    </tr>\n",
              "    <tr>\n",
              "      <th>99</th>\n",
              "      <td>tuna_tartare</td>\n",
              "      <td>0.283843</td>\n",
              "    </tr>\n",
              "    <tr>\n",
              "      <th>0</th>\n",
              "      <td>apple_pie</td>\n",
              "      <td>0.242574</td>\n",
              "    </tr>\n",
              "  </tbody>\n",
              "</table>\n",
              "<p>101 rows × 2 columns</p>\n",
              "</div>"
            ],
            "text/plain": [
              "     class_names  f1-score\n",
              "33       edamame  0.953125\n",
              "63      macarons  0.852814\n",
              "75           pho  0.832700\n",
              "86       sashimi  0.822394\n",
              "51     guacamole  0.819923\n",
              "..           ...       ...\n",
              "37  filet_mignon  0.307255\n",
              "87      scallops  0.305085\n",
              "93         steak  0.302913\n",
              "99  tuna_tartare  0.283843\n",
              "0      apple_pie  0.242574\n",
              "\n",
              "[101 rows x 2 columns]"
            ]
          },
          "execution_count": 71,
          "metadata": {},
          "output_type": "execute_result"
        }
      ],
      "source": [
        "# Turn f1-scores into datafram for visualization\n",
        "import pandas as pd\n",
        "f1_scores = pd.DataFrame({\"class_names\": list(class_f1_scores.keys()),\n",
        "    \"f1-score\": list(class_f1_scores.values())}).sort_values(\"f1-score\", ascending=False)\n",
        "f1_scores"
      ]
    },
    {
      "cell_type": "code",
      "execution_count": null,
      "metadata": {},
      "outputs": [],
      "source": []
    }
  ],
  "metadata": {
    "accelerator": "GPU",
    "colab": {
      "authorship_tag": "ABX9TyMu0iHzJt2plAy3p2dORhsU",
      "collapsed_sections": [],
      "include_colab_link": true,
      "name": "06_transfer_learning_with_TensorFlow_part_3_scaling_up.ipynb",
      "provenance": []
    },
    "gpuClass": "standard",
    "kernelspec": {
      "display_name": "Python 3.9.7 ('udemy_tensorflow')",
      "language": "python",
      "name": "python3"
    },
    "language_info": {
      "codemirror_mode": {
        "name": "ipython",
        "version": 3
      },
      "file_extension": ".py",
      "mimetype": "text/x-python",
      "name": "python",
      "nbconvert_exporter": "python",
      "pygments_lexer": "ipython3",
      "version": "3.9.7"
    },
    "vscode": {
      "interpreter": {
        "hash": "63418e73e250c304d26eaf03185e2f59ff2277f62dd1cc8bba54019c2c46cc60"
      }
    }
  },
  "nbformat": 4,
  "nbformat_minor": 0
}
