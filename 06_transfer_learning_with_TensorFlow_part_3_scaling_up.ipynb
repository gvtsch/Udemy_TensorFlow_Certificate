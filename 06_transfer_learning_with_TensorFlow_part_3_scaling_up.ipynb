{
  "cells": [
    {
      "cell_type": "markdown",
      "metadata": {
        "colab_type": "text",
        "id": "view-in-github"
      },
      "source": [
        "<a href=\"https://colab.research.google.com/github/gvtsch/Udemy_TensorFlow_Certificate/blob/main/06_transfer_learning_with_TensorFlow_part_3_scaling_up.ipynb\" target=\"_parent\"><img src=\"https://colab.research.google.com/assets/colab-badge.svg\" alt=\"Open In Colab\"/></a>"
      ]
    },
    {
      "cell_type": "markdown",
      "metadata": {
        "id": "kCaUQyowCP3C"
      },
      "source": [
        "# Transfer Learning with TensorFlow Part 3: Scaling up (Food Vision mini)\n",
        "\n",
        "We've seen the power of transfer learning feature extraction and fine-tuning, now it's time to scale up to all of the classes in Food101 (101 total classes of food).\n",
        "\n",
        "Our goal is to beat the original Food101 paper with 10% of the training (leveraging the power of deep learning).\n",
        "\n",
        "Original Food101 paper: https://data.vision.ee.ethz.ch/cvl/datasets_extra/food-101/\n",
        "\n",
        "Our baseline to beat 50.76% accuracy across 101 classes."
      ]
    },
    {
      "cell_type": "code",
      "execution_count": 1,
      "metadata": {
        "colab": {
          "base_uri": "https://localhost:8080/"
        },
        "id": "IC248s4tFkxa",
        "outputId": "8838daa1-56cb-4da0-aa24-8178fa7b0f14"
      },
      "outputs": [
        {
          "name": "stdout",
          "output_type": "stream",
          "text": [
            "Mon Jun 27 20:21:36 2022       \n",
            "+-----------------------------------------------------------------------------+\n",
            "| NVIDIA-SMI 516.40       Driver Version: 516.40       CUDA Version: 11.7     |\n",
            "|-------------------------------+----------------------+----------------------+\n",
            "| GPU  Name            TCC/WDDM | Bus-Id        Disp.A | Volatile Uncorr. ECC |\n",
            "| Fan  Temp  Perf  Pwr:Usage/Cap|         Memory-Usage | GPU-Util  Compute M. |\n",
            "|                               |                      |               MIG M. |\n",
            "|===============================+======================+======================|\n",
            "|   0  NVIDIA GeForce ... WDDM  | 00000000:01:00.0 Off |                  N/A |\n",
            "| N/A   60C    P8    11W /  N/A |    654MiB /  6144MiB |      0%      Default |\n",
            "|                               |                      |                  N/A |\n",
            "+-------------------------------+----------------------+----------------------+\n",
            "                                                                               \n",
            "+-----------------------------------------------------------------------------+\n",
            "| Processes:                                                                  |\n",
            "|  GPU   GI   CI        PID   Type   Process name                  GPU Memory |\n",
            "|        ID   ID                                                   Usage      |\n",
            "|=============================================================================|\n",
            "|    0   N/A  N/A      1324    C+G   ...batNotificationClient.exe    N/A      |\n",
            "|    0   N/A  N/A     10084    C+G   ...ropbox\\Client\\Dropbox.exe    N/A      |\n",
            "|    0   N/A  N/A     10336    C+G   ...ekyb3d8bbwe\\HxOutlook.exe    N/A      |\n",
            "|    0   N/A  N/A     10648    C+G   C:\\Windows\\explorer.exe         N/A      |\n",
            "|    0   N/A  N/A     15900    C+G   ...ck\\app-4.27.154\\slack.exe    N/A      |\n",
            "|    0   N/A  N/A     16728    C+G   ...obeNotificationClient.exe    N/A      |\n",
            "|    0   N/A  N/A     20252    C+G   ...zilla Firefox\\firefox.exe    N/A      |\n",
            "|    0   N/A  N/A     23184    C+G   ...zilla Firefox\\firefox.exe    N/A      |\n",
            "|    0   N/A  N/A     24244    C+G   ... iCUE 4 Software\\iCUE.exe    N/A      |\n",
            "|    0   N/A  N/A     32572    C+G   ...lPanel\\SystemSettings.exe    N/A      |\n",
            "|    0   N/A  N/A     33232    C+G   ...n1h2txyewy\\SearchHost.exe    N/A      |\n",
            "|    0   N/A  N/A     35368    C+G   ...264.37\\msedgewebview2.exe    N/A      |\n",
            "|    0   N/A  N/A     36608    C+G   ...\\app-1.0.9005\\Discord.exe    N/A      |\n",
            "+-----------------------------------------------------------------------------+\n"
          ]
        }
      ],
      "source": [
        "# Check to see if we're using a GPU\n",
        "!nvidia-smi"
      ]
    },
    {
      "cell_type": "markdown",
      "metadata": {
        "id": "m9i5vF3BFva1"
      },
      "source": [
        "## Creating helper funtions\n",
        "\n",
        "In previous notebooks, we've created a series of helper functions to do different tasks, let's download them."
      ]
    },
    {
      "cell_type": "code",
      "execution_count": 5,
      "metadata": {
        "colab": {
          "base_uri": "https://localhost:8080/"
        },
        "id": "udw0MO4WCDyD",
        "outputId": "8772e645-2d7d-4470-fede-21ab7e4105bd"
      },
      "outputs": [],
      "source": [
        "import os\n",
        "\n",
        "if not os.path.exists(\"helper_functions.py\"):\n",
        "  # !wget https://raw.githubusercontent.com/mrdbourke/tensorflow-deep-learning/main/extras/helper_functions.py\n",
        "  !python -m wget https://raw.githubusercontent.com/mrdbourke/tensorflow-deep-learning/main/extras/helper_functions.py"
      ]
    },
    {
      "cell_type": "code",
      "execution_count": 6,
      "metadata": {
        "id": "YCEytKIeGKg3"
      },
      "outputs": [],
      "source": [
        "from helper_functions import create_tensorboard_callback, plot_loss_curves, unzip_data, compare_historys, walk_through_dir"
      ]
    },
    {
      "cell_type": "markdown",
      "metadata": {
        "id": "psF8DjQqGtH1"
      },
      "source": [
        "## 101 Food Classes: Working with less data\n",
        "\n",
        "Our goal is to beat the original Food101 paper with 10% of the training data, so let's download it.\n",
        "\n",
        "The data we're downloading comes from the original Food101 dataset but has been preprocessed using the image_data_notification notebook."
      ]
    },
    {
      "cell_type": "code",
      "execution_count": 7,
      "metadata": {
        "id": "n1xGJGFFGMFq"
      },
      "outputs": [],
      "source": [
        "if not os.path.exists(\"101_food_classes_10_percent/\"):\n",
        "  # !wget https://storage.googleapis.com/ztm_tf_course/food_vision/101_food_classes_10_percent.zip\n",
        "  !python -m wget https://storage.googleapis.com/ztm_tf_course/food_vision/101_food_classes_10_percent.zip\n",
        "  unzip_data(\"101_food_classes_10_percent.zip\")"
      ]
    },
    {
      "cell_type": "code",
      "execution_count": 8,
      "metadata": {
        "id": "TOIUNExRGklp"
      },
      "outputs": [],
      "source": [
        "train_dir = \"101_food_classes_10_percent/train\"\n",
        "test_dir = \"101_food_classes_10_percent/test\""
      ]
    },
    {
      "cell_type": "code",
      "execution_count": 9,
      "metadata": {
        "colab": {
          "base_uri": "https://localhost:8080/"
        },
        "id": "6BKjjOsiHTza",
        "outputId": "b3bffafc-29cd-48cf-b1b5-6f93640d3d4d"
      },
      "outputs": [
        {
          "name": "stdout",
          "output_type": "stream",
          "text": [
            "There are 2 directories and 0 images in '101_food_classes_10_percent'.\n",
            "There are 101 directories and 0 images in '101_food_classes_10_percent\\test'.\n",
            "There are 0 directories and 250 images in '101_food_classes_10_percent\\test\\apple_pie'.\n",
            "There are 0 directories and 250 images in '101_food_classes_10_percent\\test\\baby_back_ribs'.\n",
            "There are 0 directories and 250 images in '101_food_classes_10_percent\\test\\baklava'.\n",
            "There are 0 directories and 250 images in '101_food_classes_10_percent\\test\\beef_carpaccio'.\n",
            "There are 0 directories and 250 images in '101_food_classes_10_percent\\test\\beef_tartare'.\n",
            "There are 0 directories and 250 images in '101_food_classes_10_percent\\test\\beet_salad'.\n",
            "There are 0 directories and 250 images in '101_food_classes_10_percent\\test\\beignets'.\n",
            "There are 0 directories and 250 images in '101_food_classes_10_percent\\test\\bibimbap'.\n",
            "There are 0 directories and 250 images in '101_food_classes_10_percent\\test\\bread_pudding'.\n",
            "There are 0 directories and 250 images in '101_food_classes_10_percent\\test\\breakfast_burrito'.\n",
            "There are 0 directories and 250 images in '101_food_classes_10_percent\\test\\bruschetta'.\n",
            "There are 0 directories and 250 images in '101_food_classes_10_percent\\test\\caesar_salad'.\n",
            "There are 0 directories and 250 images in '101_food_classes_10_percent\\test\\cannoli'.\n",
            "There are 0 directories and 250 images in '101_food_classes_10_percent\\test\\caprese_salad'.\n",
            "There are 0 directories and 250 images in '101_food_classes_10_percent\\test\\carrot_cake'.\n",
            "There are 0 directories and 250 images in '101_food_classes_10_percent\\test\\ceviche'.\n",
            "There are 0 directories and 250 images in '101_food_classes_10_percent\\test\\cheesecake'.\n",
            "There are 0 directories and 250 images in '101_food_classes_10_percent\\test\\cheese_plate'.\n",
            "There are 0 directories and 250 images in '101_food_classes_10_percent\\test\\chicken_curry'.\n",
            "There are 0 directories and 250 images in '101_food_classes_10_percent\\test\\chicken_quesadilla'.\n",
            "There are 0 directories and 250 images in '101_food_classes_10_percent\\test\\chicken_wings'.\n",
            "There are 0 directories and 250 images in '101_food_classes_10_percent\\test\\chocolate_cake'.\n",
            "There are 0 directories and 250 images in '101_food_classes_10_percent\\test\\chocolate_mousse'.\n",
            "There are 0 directories and 250 images in '101_food_classes_10_percent\\test\\churros'.\n",
            "There are 0 directories and 250 images in '101_food_classes_10_percent\\test\\clam_chowder'.\n",
            "There are 0 directories and 250 images in '101_food_classes_10_percent\\test\\club_sandwich'.\n",
            "There are 0 directories and 250 images in '101_food_classes_10_percent\\test\\crab_cakes'.\n",
            "There are 0 directories and 250 images in '101_food_classes_10_percent\\test\\creme_brulee'.\n",
            "There are 0 directories and 250 images in '101_food_classes_10_percent\\test\\croque_madame'.\n",
            "There are 0 directories and 250 images in '101_food_classes_10_percent\\test\\cup_cakes'.\n",
            "There are 0 directories and 250 images in '101_food_classes_10_percent\\test\\deviled_eggs'.\n",
            "There are 0 directories and 250 images in '101_food_classes_10_percent\\test\\donuts'.\n",
            "There are 0 directories and 250 images in '101_food_classes_10_percent\\test\\dumplings'.\n",
            "There are 0 directories and 250 images in '101_food_classes_10_percent\\test\\edamame'.\n",
            "There are 0 directories and 250 images in '101_food_classes_10_percent\\test\\eggs_benedict'.\n",
            "There are 0 directories and 250 images in '101_food_classes_10_percent\\test\\escargots'.\n",
            "There are 0 directories and 250 images in '101_food_classes_10_percent\\test\\falafel'.\n",
            "There are 0 directories and 250 images in '101_food_classes_10_percent\\test\\filet_mignon'.\n",
            "There are 0 directories and 250 images in '101_food_classes_10_percent\\test\\fish_and_chips'.\n",
            "There are 0 directories and 250 images in '101_food_classes_10_percent\\test\\foie_gras'.\n",
            "There are 0 directories and 250 images in '101_food_classes_10_percent\\test\\french_fries'.\n",
            "There are 0 directories and 250 images in '101_food_classes_10_percent\\test\\french_onion_soup'.\n",
            "There are 0 directories and 250 images in '101_food_classes_10_percent\\test\\french_toast'.\n",
            "There are 0 directories and 250 images in '101_food_classes_10_percent\\test\\fried_calamari'.\n",
            "There are 0 directories and 250 images in '101_food_classes_10_percent\\test\\fried_rice'.\n",
            "There are 0 directories and 250 images in '101_food_classes_10_percent\\test\\frozen_yogurt'.\n",
            "There are 0 directories and 250 images in '101_food_classes_10_percent\\test\\garlic_bread'.\n",
            "There are 0 directories and 250 images in '101_food_classes_10_percent\\test\\gnocchi'.\n",
            "There are 0 directories and 250 images in '101_food_classes_10_percent\\test\\greek_salad'.\n",
            "There are 0 directories and 250 images in '101_food_classes_10_percent\\test\\grilled_cheese_sandwich'.\n",
            "There are 0 directories and 250 images in '101_food_classes_10_percent\\test\\grilled_salmon'.\n",
            "There are 0 directories and 250 images in '101_food_classes_10_percent\\test\\guacamole'.\n",
            "There are 0 directories and 250 images in '101_food_classes_10_percent\\test\\gyoza'.\n",
            "There are 0 directories and 250 images in '101_food_classes_10_percent\\test\\hamburger'.\n",
            "There are 0 directories and 250 images in '101_food_classes_10_percent\\test\\hot_and_sour_soup'.\n",
            "There are 0 directories and 250 images in '101_food_classes_10_percent\\test\\hot_dog'.\n",
            "There are 0 directories and 250 images in '101_food_classes_10_percent\\test\\huevos_rancheros'.\n",
            "There are 0 directories and 250 images in '101_food_classes_10_percent\\test\\hummus'.\n",
            "There are 0 directories and 250 images in '101_food_classes_10_percent\\test\\ice_cream'.\n",
            "There are 0 directories and 250 images in '101_food_classes_10_percent\\test\\lasagna'.\n",
            "There are 0 directories and 250 images in '101_food_classes_10_percent\\test\\lobster_bisque'.\n",
            "There are 0 directories and 250 images in '101_food_classes_10_percent\\test\\lobster_roll_sandwich'.\n",
            "There are 0 directories and 250 images in '101_food_classes_10_percent\\test\\macaroni_and_cheese'.\n",
            "There are 0 directories and 250 images in '101_food_classes_10_percent\\test\\macarons'.\n",
            "There are 0 directories and 250 images in '101_food_classes_10_percent\\test\\miso_soup'.\n",
            "There are 0 directories and 250 images in '101_food_classes_10_percent\\test\\mussels'.\n",
            "There are 0 directories and 250 images in '101_food_classes_10_percent\\test\\nachos'.\n",
            "There are 0 directories and 250 images in '101_food_classes_10_percent\\test\\omelette'.\n",
            "There are 0 directories and 250 images in '101_food_classes_10_percent\\test\\onion_rings'.\n",
            "There are 0 directories and 250 images in '101_food_classes_10_percent\\test\\oysters'.\n",
            "There are 0 directories and 250 images in '101_food_classes_10_percent\\test\\pad_thai'.\n",
            "There are 0 directories and 250 images in '101_food_classes_10_percent\\test\\paella'.\n",
            "There are 0 directories and 250 images in '101_food_classes_10_percent\\test\\pancakes'.\n",
            "There are 0 directories and 250 images in '101_food_classes_10_percent\\test\\panna_cotta'.\n",
            "There are 0 directories and 250 images in '101_food_classes_10_percent\\test\\peking_duck'.\n",
            "There are 0 directories and 250 images in '101_food_classes_10_percent\\test\\pho'.\n",
            "There are 0 directories and 250 images in '101_food_classes_10_percent\\test\\pizza'.\n",
            "There are 0 directories and 250 images in '101_food_classes_10_percent\\test\\pork_chop'.\n",
            "There are 0 directories and 250 images in '101_food_classes_10_percent\\test\\poutine'.\n",
            "There are 0 directories and 250 images in '101_food_classes_10_percent\\test\\prime_rib'.\n",
            "There are 0 directories and 250 images in '101_food_classes_10_percent\\test\\pulled_pork_sandwich'.\n",
            "There are 0 directories and 250 images in '101_food_classes_10_percent\\test\\ramen'.\n",
            "There are 0 directories and 250 images in '101_food_classes_10_percent\\test\\ravioli'.\n",
            "There are 0 directories and 250 images in '101_food_classes_10_percent\\test\\red_velvet_cake'.\n",
            "There are 0 directories and 250 images in '101_food_classes_10_percent\\test\\risotto'.\n",
            "There are 0 directories and 250 images in '101_food_classes_10_percent\\test\\samosa'.\n",
            "There are 0 directories and 250 images in '101_food_classes_10_percent\\test\\sashimi'.\n",
            "There are 0 directories and 250 images in '101_food_classes_10_percent\\test\\scallops'.\n",
            "There are 0 directories and 250 images in '101_food_classes_10_percent\\test\\seaweed_salad'.\n",
            "There are 0 directories and 250 images in '101_food_classes_10_percent\\test\\shrimp_and_grits'.\n",
            "There are 0 directories and 250 images in '101_food_classes_10_percent\\test\\spaghetti_bolognese'.\n",
            "There are 0 directories and 250 images in '101_food_classes_10_percent\\test\\spaghetti_carbonara'.\n",
            "There are 0 directories and 250 images in '101_food_classes_10_percent\\test\\spring_rolls'.\n",
            "There are 0 directories and 250 images in '101_food_classes_10_percent\\test\\steak'.\n",
            "There are 0 directories and 250 images in '101_food_classes_10_percent\\test\\strawberry_shortcake'.\n",
            "There are 0 directories and 250 images in '101_food_classes_10_percent\\test\\sushi'.\n",
            "There are 0 directories and 250 images in '101_food_classes_10_percent\\test\\tacos'.\n",
            "There are 0 directories and 250 images in '101_food_classes_10_percent\\test\\takoyaki'.\n",
            "There are 0 directories and 250 images in '101_food_classes_10_percent\\test\\tiramisu'.\n",
            "There are 0 directories and 250 images in '101_food_classes_10_percent\\test\\tuna_tartare'.\n",
            "There are 0 directories and 250 images in '101_food_classes_10_percent\\test\\waffles'.\n",
            "There are 101 directories and 0 images in '101_food_classes_10_percent\\train'.\n",
            "There are 0 directories and 75 images in '101_food_classes_10_percent\\train\\apple_pie'.\n",
            "There are 0 directories and 75 images in '101_food_classes_10_percent\\train\\baby_back_ribs'.\n",
            "There are 0 directories and 75 images in '101_food_classes_10_percent\\train\\baklava'.\n",
            "There are 0 directories and 75 images in '101_food_classes_10_percent\\train\\beef_carpaccio'.\n",
            "There are 0 directories and 75 images in '101_food_classes_10_percent\\train\\beef_tartare'.\n",
            "There are 0 directories and 75 images in '101_food_classes_10_percent\\train\\beet_salad'.\n",
            "There are 0 directories and 75 images in '101_food_classes_10_percent\\train\\beignets'.\n",
            "There are 0 directories and 75 images in '101_food_classes_10_percent\\train\\bibimbap'.\n",
            "There are 0 directories and 75 images in '101_food_classes_10_percent\\train\\bread_pudding'.\n",
            "There are 0 directories and 75 images in '101_food_classes_10_percent\\train\\breakfast_burrito'.\n",
            "There are 0 directories and 75 images in '101_food_classes_10_percent\\train\\bruschetta'.\n",
            "There are 0 directories and 75 images in '101_food_classes_10_percent\\train\\caesar_salad'.\n",
            "There are 0 directories and 75 images in '101_food_classes_10_percent\\train\\cannoli'.\n",
            "There are 0 directories and 75 images in '101_food_classes_10_percent\\train\\caprese_salad'.\n",
            "There are 0 directories and 75 images in '101_food_classes_10_percent\\train\\carrot_cake'.\n",
            "There are 0 directories and 75 images in '101_food_classes_10_percent\\train\\ceviche'.\n",
            "There are 0 directories and 75 images in '101_food_classes_10_percent\\train\\cheesecake'.\n",
            "There are 0 directories and 75 images in '101_food_classes_10_percent\\train\\cheese_plate'.\n",
            "There are 0 directories and 75 images in '101_food_classes_10_percent\\train\\chicken_curry'.\n",
            "There are 0 directories and 75 images in '101_food_classes_10_percent\\train\\chicken_quesadilla'.\n",
            "There are 0 directories and 75 images in '101_food_classes_10_percent\\train\\chicken_wings'.\n",
            "There are 0 directories and 75 images in '101_food_classes_10_percent\\train\\chocolate_cake'.\n",
            "There are 0 directories and 75 images in '101_food_classes_10_percent\\train\\chocolate_mousse'.\n",
            "There are 0 directories and 75 images in '101_food_classes_10_percent\\train\\churros'.\n",
            "There are 0 directories and 75 images in '101_food_classes_10_percent\\train\\clam_chowder'.\n",
            "There are 0 directories and 75 images in '101_food_classes_10_percent\\train\\club_sandwich'.\n",
            "There are 0 directories and 75 images in '101_food_classes_10_percent\\train\\crab_cakes'.\n",
            "There are 0 directories and 75 images in '101_food_classes_10_percent\\train\\creme_brulee'.\n",
            "There are 0 directories and 75 images in '101_food_classes_10_percent\\train\\croque_madame'.\n",
            "There are 0 directories and 75 images in '101_food_classes_10_percent\\train\\cup_cakes'.\n",
            "There are 0 directories and 75 images in '101_food_classes_10_percent\\train\\deviled_eggs'.\n",
            "There are 0 directories and 75 images in '101_food_classes_10_percent\\train\\donuts'.\n",
            "There are 0 directories and 75 images in '101_food_classes_10_percent\\train\\dumplings'.\n",
            "There are 0 directories and 75 images in '101_food_classes_10_percent\\train\\edamame'.\n",
            "There are 0 directories and 75 images in '101_food_classes_10_percent\\train\\eggs_benedict'.\n",
            "There are 0 directories and 75 images in '101_food_classes_10_percent\\train\\escargots'.\n",
            "There are 0 directories and 75 images in '101_food_classes_10_percent\\train\\falafel'.\n",
            "There are 0 directories and 75 images in '101_food_classes_10_percent\\train\\filet_mignon'.\n",
            "There are 0 directories and 75 images in '101_food_classes_10_percent\\train\\fish_and_chips'.\n",
            "There are 0 directories and 75 images in '101_food_classes_10_percent\\train\\foie_gras'.\n",
            "There are 0 directories and 75 images in '101_food_classes_10_percent\\train\\french_fries'.\n",
            "There are 0 directories and 75 images in '101_food_classes_10_percent\\train\\french_onion_soup'.\n",
            "There are 0 directories and 75 images in '101_food_classes_10_percent\\train\\french_toast'.\n",
            "There are 0 directories and 75 images in '101_food_classes_10_percent\\train\\fried_calamari'.\n",
            "There are 0 directories and 75 images in '101_food_classes_10_percent\\train\\fried_rice'.\n",
            "There are 0 directories and 75 images in '101_food_classes_10_percent\\train\\frozen_yogurt'.\n",
            "There are 0 directories and 75 images in '101_food_classes_10_percent\\train\\garlic_bread'.\n",
            "There are 0 directories and 75 images in '101_food_classes_10_percent\\train\\gnocchi'.\n",
            "There are 0 directories and 75 images in '101_food_classes_10_percent\\train\\greek_salad'.\n",
            "There are 0 directories and 75 images in '101_food_classes_10_percent\\train\\grilled_cheese_sandwich'.\n",
            "There are 0 directories and 75 images in '101_food_classes_10_percent\\train\\grilled_salmon'.\n",
            "There are 0 directories and 75 images in '101_food_classes_10_percent\\train\\guacamole'.\n",
            "There are 0 directories and 75 images in '101_food_classes_10_percent\\train\\gyoza'.\n",
            "There are 0 directories and 75 images in '101_food_classes_10_percent\\train\\hamburger'.\n",
            "There are 0 directories and 75 images in '101_food_classes_10_percent\\train\\hot_and_sour_soup'.\n",
            "There are 0 directories and 75 images in '101_food_classes_10_percent\\train\\hot_dog'.\n",
            "There are 0 directories and 75 images in '101_food_classes_10_percent\\train\\huevos_rancheros'.\n",
            "There are 0 directories and 75 images in '101_food_classes_10_percent\\train\\hummus'.\n",
            "There are 0 directories and 75 images in '101_food_classes_10_percent\\train\\ice_cream'.\n",
            "There are 0 directories and 75 images in '101_food_classes_10_percent\\train\\lasagna'.\n",
            "There are 0 directories and 75 images in '101_food_classes_10_percent\\train\\lobster_bisque'.\n",
            "There are 0 directories and 75 images in '101_food_classes_10_percent\\train\\lobster_roll_sandwich'.\n",
            "There are 0 directories and 75 images in '101_food_classes_10_percent\\train\\macaroni_and_cheese'.\n",
            "There are 0 directories and 75 images in '101_food_classes_10_percent\\train\\macarons'.\n",
            "There are 0 directories and 75 images in '101_food_classes_10_percent\\train\\miso_soup'.\n",
            "There are 0 directories and 75 images in '101_food_classes_10_percent\\train\\mussels'.\n",
            "There are 0 directories and 75 images in '101_food_classes_10_percent\\train\\nachos'.\n",
            "There are 0 directories and 75 images in '101_food_classes_10_percent\\train\\omelette'.\n",
            "There are 0 directories and 75 images in '101_food_classes_10_percent\\train\\onion_rings'.\n",
            "There are 0 directories and 75 images in '101_food_classes_10_percent\\train\\oysters'.\n",
            "There are 0 directories and 75 images in '101_food_classes_10_percent\\train\\pad_thai'.\n",
            "There are 0 directories and 75 images in '101_food_classes_10_percent\\train\\paella'.\n",
            "There are 0 directories and 75 images in '101_food_classes_10_percent\\train\\pancakes'.\n",
            "There are 0 directories and 75 images in '101_food_classes_10_percent\\train\\panna_cotta'.\n",
            "There are 0 directories and 75 images in '101_food_classes_10_percent\\train\\peking_duck'.\n",
            "There are 0 directories and 75 images in '101_food_classes_10_percent\\train\\pho'.\n",
            "There are 0 directories and 75 images in '101_food_classes_10_percent\\train\\pizza'.\n",
            "There are 0 directories and 75 images in '101_food_classes_10_percent\\train\\pork_chop'.\n",
            "There are 0 directories and 75 images in '101_food_classes_10_percent\\train\\poutine'.\n",
            "There are 0 directories and 75 images in '101_food_classes_10_percent\\train\\prime_rib'.\n",
            "There are 0 directories and 75 images in '101_food_classes_10_percent\\train\\pulled_pork_sandwich'.\n",
            "There are 0 directories and 75 images in '101_food_classes_10_percent\\train\\ramen'.\n",
            "There are 0 directories and 75 images in '101_food_classes_10_percent\\train\\ravioli'.\n",
            "There are 0 directories and 75 images in '101_food_classes_10_percent\\train\\red_velvet_cake'.\n",
            "There are 0 directories and 75 images in '101_food_classes_10_percent\\train\\risotto'.\n",
            "There are 0 directories and 75 images in '101_food_classes_10_percent\\train\\samosa'.\n",
            "There are 0 directories and 75 images in '101_food_classes_10_percent\\train\\sashimi'.\n",
            "There are 0 directories and 75 images in '101_food_classes_10_percent\\train\\scallops'.\n",
            "There are 0 directories and 75 images in '101_food_classes_10_percent\\train\\seaweed_salad'.\n",
            "There are 0 directories and 75 images in '101_food_classes_10_percent\\train\\shrimp_and_grits'.\n",
            "There are 0 directories and 75 images in '101_food_classes_10_percent\\train\\spaghetti_bolognese'.\n",
            "There are 0 directories and 75 images in '101_food_classes_10_percent\\train\\spaghetti_carbonara'.\n",
            "There are 0 directories and 75 images in '101_food_classes_10_percent\\train\\spring_rolls'.\n",
            "There are 0 directories and 75 images in '101_food_classes_10_percent\\train\\steak'.\n",
            "There are 0 directories and 75 images in '101_food_classes_10_percent\\train\\strawberry_shortcake'.\n",
            "There are 0 directories and 75 images in '101_food_classes_10_percent\\train\\sushi'.\n",
            "There are 0 directories and 75 images in '101_food_classes_10_percent\\train\\tacos'.\n",
            "There are 0 directories and 75 images in '101_food_classes_10_percent\\train\\takoyaki'.\n",
            "There are 0 directories and 75 images in '101_food_classes_10_percent\\train\\tiramisu'.\n",
            "There are 0 directories and 75 images in '101_food_classes_10_percent\\train\\tuna_tartare'.\n",
            "There are 0 directories and 75 images in '101_food_classes_10_percent\\train\\waffles'.\n"
          ]
        }
      ],
      "source": [
        "# How many images/classes are there?\n",
        "walk_through_dir(\"101_food_classes_10_percent\")"
      ]
    },
    {
      "cell_type": "code",
      "execution_count": 10,
      "metadata": {
        "colab": {
          "base_uri": "https://localhost:8080/"
        },
        "id": "9xHjqpg-Hiir",
        "outputId": "011cad2e-9b49-4dbd-8aea-9e2773328353"
      },
      "outputs": [
        {
          "name": "stdout",
          "output_type": "stream",
          "text": [
            "Found 7575 files belonging to 101 classes.\n",
            "Found 25250 files belonging to 101 classes.\n"
          ]
        }
      ],
      "source": [
        "# Setup data inputs\n",
        "import tensorflow as tf\n",
        "IMG_SIZE=(224, 224)\n",
        "\n",
        "train_data_all_10_percent = tf.keras.preprocessing.image_dataset_from_directory(\n",
        "    train_dir,\n",
        "    label_mode=\"categorical\",\n",
        "    image_size=IMG_SIZE,\n",
        "    batch_size=32\n",
        ")\n",
        "\n",
        "test_data = tf.keras.preprocessing.image_dataset_from_directory(\n",
        "    test_dir,\n",
        "    label_mode=\"categorical\",\n",
        "    image_size=IMG_SIZE,\n",
        "    batch_size=32,\n",
        "    shuffle=False # don't shuffle test data for prediction analysis\n",
        ")"
      ]
    },
    {
      "cell_type": "markdown",
      "metadata": {
        "id": "WF-xJEeqIwax"
      },
      "source": [
        "## Train a big dog model with transfer learning on 10% of 101 food classes\n",
        "\n",
        "Here are the steps we're going to take:\n",
        "* Create a model checkpoint callback\n",
        "* Create a data augmentation layer to build data augmentation right into the model\n",
        "* Build a headless (no top layers) Functional EfficientNetB0 backboned model (we'll create our own output layer)\n",
        "* Compile our model\n",
        "* Feature extract for 5 full passes (5 epochs on the train dataset and validate on 15% of the test data, to save epoch time)"
      ]
    },
    {
      "cell_type": "code",
      "execution_count": 11,
      "metadata": {
        "id": "1D6fGjsuIdjc"
      },
      "outputs": [],
      "source": [
        "# Create checkpoint callback\n",
        "checkpoint_path = \"101_classes_10_percent_data_model_checkpoint\"\n",
        "checkpoint_callback = tf.keras.callbacks.ModelCheckpoint(\n",
        "    checkpoint_path,\n",
        "    save_weights_only=True,\n",
        "    monitor=\"val_accuracy\",\n",
        "    save_best_only=True\n",
        ")"
      ]
    },
    {
      "cell_type": "code",
      "execution_count": 12,
      "metadata": {
        "id": "qNBEyctyJq66"
      },
      "outputs": [],
      "source": [
        "# Create data augmentation layer to incorporate it right into the model\n",
        "from tensorflow.keras import layers\n",
        "from tensorflow.keras.layers.experimental import preprocessing\n",
        "from tensorflow.keras.models import Sequential\n",
        "\n",
        "# Setup data augmentation\n",
        "data_augmentation = Sequential([\n",
        "    preprocessing.RandomFlip(\"horizontal\"),\n",
        "    preprocessing.RandomRotation(0.2),\n",
        "    preprocessing.RandomHeight(0.2),\n",
        "    preprocessing.RandomWidth(0.2),\n",
        "    preprocessing.RandomZoom(0.2),\n",
        "    # preprocessing.Rescale(1/255.) # Rescale inputs to 0 between, if not already rescaled like EfficientNet\n",
        "], name=\"data_augmentation\")"
      ]
    },
    {
      "cell_type": "code",
      "execution_count": 13,
      "metadata": {},
      "outputs": [],
      "source": [
        "# Setup the base_model and freeze its layers (this will extract features)\n",
        "base_model = tf.keras.applications.EfficientNetB0(include_top=False)\n",
        "base_model.trainable = False\n",
        "\n",
        "# Setup model architecture with trainable top layers\n",
        "inputs = layers.Input(shape=(224, 224, 3), name=\"input_layer\")\n",
        "x = data_augmentation(inputs) # augment images (this only happens during training phase)\n",
        "x = base_model(x, training=False) # put the base model in inference mode so weights which need to stay frozen, stay frozen\n",
        "x = layers.GlobalAveragePooling2D(name=\"global_avg_pool_layer\")(x)\n",
        "outputs = layers.Dense(len(train_data_all_10_percent.class_names), activation=\"softmax\", name=\"output_layer\")(x)\n",
        "model = tf.keras.Model(inputs, outputs)"
      ]
    },
    {
      "cell_type": "code",
      "execution_count": 14,
      "metadata": {},
      "outputs": [
        {
          "name": "stdout",
          "output_type": "stream",
          "text": [
            "Model: \"model\"\n",
            "_________________________________________________________________\n",
            "Layer (type)                 Output Shape              Param #   \n",
            "=================================================================\n",
            "input_layer (InputLayer)     [(None, 224, 224, 3)]     0         \n",
            "_________________________________________________________________\n",
            "data_augmentation (Sequentia (None, None, None, 3)     0         \n",
            "_________________________________________________________________\n",
            "efficientnetb0 (Functional)  (None, None, None, 1280)  4049571   \n",
            "_________________________________________________________________\n",
            "global_avg_pool_layer (Globa (None, 1280)              0         \n",
            "_________________________________________________________________\n",
            "output_layer (Dense)         (None, 101)               129381    \n",
            "=================================================================\n",
            "Total params: 4,178,952\n",
            "Trainable params: 129,381\n",
            "Non-trainable params: 4,049,571\n",
            "_________________________________________________________________\n"
          ]
        }
      ],
      "source": [
        "# Get summary\n",
        "model.summary()"
      ]
    },
    {
      "cell_type": "code",
      "execution_count": 15,
      "metadata": {},
      "outputs": [],
      "source": [
        "# Compile\n",
        "model.compile(\n",
        "    loss=\"categorical_crossentropy\",\n",
        "    optimizer=tf.keras.optimizers.Adam(),\n",
        "    metrics=[\"accuracy\"]\n",
        ")"
      ]
    },
    {
      "cell_type": "code",
      "execution_count": 16,
      "metadata": {},
      "outputs": [
        {
          "name": "stdout",
          "output_type": "stream",
          "text": [
            "Saving TensorBoard log files to: transfer_learning/101_food_classes_10_percent/20220628-053128\n"
          ]
        },
        {
          "name": "stderr",
          "output_type": "stream",
          "text": [
            "c:\\Users\\gutsc\\anaconda3\\envs\\udemy_tensorflow\\lib\\site-packages\\keras\\utils\\generic_utils.py:494: CustomMaskWarning: Custom mask layers require a config and must override get_config. When loading, the custom mask layer must be passed to the custom_objects argument.\n",
            "  warnings.warn('Custom mask layers require a config and must override '\n"
          ]
        },
        {
          "name": "stdout",
          "output_type": "stream",
          "text": [
            "Epoch 1/5\n",
            "237/237 [==============================] - 117s 446ms/step - loss: 3.4767 - accuracy: 0.2481 - val_loss: 2.6813 - val_accuracy: 0.4044\n",
            "Epoch 2/5\n",
            "237/237 [==============================] - 83s 351ms/step - loss: 2.3617 - accuracy: 0.4622 - val_loss: 2.2394 - val_accuracy: 0.4642\n",
            "Epoch 3/5\n",
            "237/237 [==============================] - 73s 307ms/step - loss: 1.9779 - accuracy: 0.5303 - val_loss: 2.0547 - val_accuracy: 0.4846\n",
            "Epoch 4/5\n",
            "237/237 [==============================] - 69s 289ms/step - loss: 1.7601 - accuracy: 0.5760 - val_loss: 2.0011 - val_accuracy: 0.4865\n",
            "Epoch 5/5\n",
            "237/237 [==============================] - 60s 253ms/step - loss: 1.5951 - accuracy: 0.6096 - val_loss: 1.9431 - val_accuracy: 0.4981\n"
          ]
        }
      ],
      "source": [
        "# Fit it for 5 epochs\n",
        "initial_epochs = 5\n",
        "\n",
        "history_all_classes_10_percent = model.fit(\n",
        "    train_data_all_10_percent,\n",
        "    epochs=initial_epochs,\n",
        "    steps_per_epoch=len(train_data_all_10_percent),\n",
        "    validation_data=test_data,\n",
        "    validation_steps=int(0.15*len(test_data)), # validate on 15%\n",
        "    callbacks=[\n",
        "        create_tensorboard_callback(\n",
        "            dir_name=\"transfer_learning\",\n",
        "            experiment_name=\"101_food_classes_10_percent\"\n",
        "        )\n",
        "    ]\n",
        ")"
      ]
    },
    {
      "cell_type": "code",
      "execution_count": 17,
      "metadata": {},
      "outputs": [
        {
          "name": "stdout",
          "output_type": "stream",
          "text": [
            "790/790 [==============================] - 71s 90ms/step - loss: 1.7258 - accuracy: 0.5483\n"
          ]
        },
        {
          "data": {
            "text/plain": [
              "[1.7257566452026367, 0.5483168363571167]"
            ]
          },
          "execution_count": 17,
          "metadata": {},
          "output_type": "execute_result"
        }
      ],
      "source": [
        "# Evaluate on the whole test dataset\n",
        "model.evaluate(test_data)"
      ]
    },
    {
      "cell_type": "code",
      "execution_count": 18,
      "metadata": {},
      "outputs": [
        {
          "data": {
            "image/png": "[encoded data removed]",
            "image/svg+xml": "<?xml version=\"1.0\" encoding=\"utf-8\" standalone=\"no\"?>\n<!DOCTYPE svg PUBLIC \"-//W3C//DTD SVG 1.1//EN\"\n  \"http://www.w3.org/Graphics/SVG/1.1/DTD/svg11.dtd\">\n<svg xmlns:xlink=\"http://www.w3.org/1999/xlink\" width=\"378.465625pt\" height=\"277.314375pt\" viewBox=\"0 0 378.465625 277.314375\" xmlns=\"http://www.w3.org/2000/svg\" version=\"1.1\">\n <metadata>\n  <rdf:RDF xmlns:dc=\"http://purl.org/dc/elements/1.1/\" xmlns:cc=\"http://creativecommons.org/ns#\" xmlns:rdf=\"http://www.w3.org/1999/02/22-rdf-syntax-ns#\">\n   <cc:Work>\n    <dc:type rdf:resource=\"http://purl.org/dc/dcmitype/StillImage\"/>\n    <dc:date>2022-06-28T05:39:22.737591</dc:date>\n    <dc:format>image/svg+xml</dc:format>\n    <dc:creator>\n     <cc:Agent>\n      <dc:title>Matplotlib v3.5.1, https://matplotlib.org/</dc:title>\n     </cc:Agent>\n    </dc:creator>\n   </cc:Work>\n  </rdf:RDF>\n </metadata>\n <defs>\n  <style type=\"text/css\">*{stroke-linejoin: round; stroke-linecap: butt}</style>\n </defs>\n <g id=\"figure_1\">\n  <g id=\"patch_1\">\n   <path d=\"M 0 277.314375 \nL 378.465625 277.314375 \nL 378.465625 0 \nL 0 0 \nz\n\"/>\n  </g>\n  <g id=\"axes_1\">\n   <g id=\"patch_2\">\n    <path d=\"M 36.465625 239.758125 \nL 371.265625 239.758125 \nL 371.265625 22.318125 \nL 36.465625 22.318125 \nz\n\"/>\n   </g>\n   <g id=\"matplotlib.axis_1\">\n    <g id=\"xtick_1\">\n     <g id=\"line2d_1\">\n      <defs>\n       <path id=\"m3a60f52f36\" d=\"M 0 0 \nL 0 3.5 \n\" style=\"stroke: #ffffff; stroke-width: 0.8\"/>\n      </defs>\n      <g>\n       <use xlink:href=\"#m3a60f52f36\" x=\"51.683807\" y=\"239.758125\" style=\"fill: #ffffff; stroke: #ffffff; stroke-width: 0.8\"/>\n      </g>\n     </g>\n     <g id=\"text_1\">\n      <!-- 0.0 -->\n      <g style=\"fill: #ffffff\" transform=\"translate(43.732244 254.356562)scale(0.1 -0.1)\">\n       <defs>\n        <path id=\"DejaVuSans-30\" d=\"M 2034 4250 \nQ 1547 4250 1301 3770 \nQ 1056 3291 1056 2328 \nQ 1056 1369 1301 889 \nQ 1547 409 2034 409 \nQ 2525 409 2770 889 \nQ 3016 1369 3016 2328 \nQ 3016 3291 2770 3770 \nQ 2525 4250 2034 4250 \nz\nM 2034 4750 \nQ 2819 4750 3233 4129 \nQ 3647 3509 3647 2328 \nQ 3647 1150 3233 529 \nQ 2819 -91 2034 -91 \nQ 1250 -91 836 529 \nQ 422 1150 422 2328 \nQ 422 3509 836 4129 \nQ 1250 4750 2034 4750 \nz\n\" transform=\"scale(0.015625)\"/>\n        <path id=\"DejaVuSans-2e\" d=\"M 684 794 \nL 1344 794 \nL 1344 0 \nL 684 0 \nL 684 794 \nz\n\" transform=\"scale(0.015625)\"/>\n       </defs>\n       <use xlink:href=\"#DejaVuSans-30\"/>\n       <use xlink:href=\"#DejaVuSans-2e\" x=\"63.623047\"/>\n       <use xlink:href=\"#DejaVuSans-30\" x=\"95.410156\"/>\n      </g>\n     </g>\n    </g>\n    <g id=\"xtick_2\">\n     <g id=\"line2d_2\">\n      <g>\n       <use xlink:href=\"#m3a60f52f36\" x=\"89.729261\" y=\"239.758125\" style=\"fill: #ffffff; stroke: #ffffff; stroke-width: 0.8\"/>\n      </g>\n     </g>\n     <g id=\"text_2\">\n      <!-- 0.5 -->\n      <g style=\"fill: #ffffff\" transform=\"translate(81.777699 254.356562)scale(0.1 -0.1)\">\n       <defs>\n        <path id=\"DejaVuSans-35\" d=\"M 691 4666 \nL 3169 4666 \nL 3169 4134 \nL 1269 4134 \nL 1269 2991 \nQ 1406 3038 1543 3061 \nQ 1681 3084 1819 3084 \nQ 2600 3084 3056 2656 \nQ 3513 2228 3513 1497 \nQ 3513 744 3044 326 \nQ 2575 -91 1722 -91 \nQ 1428 -91 1123 -41 \nQ 819 9 494 109 \nL 494 744 \nQ 775 591 1075 516 \nQ 1375 441 1709 441 \nQ 2250 441 2565 725 \nQ 2881 1009 2881 1497 \nQ 2881 1984 2565 2268 \nQ 2250 2553 1709 2553 \nQ 1456 2553 1204 2497 \nQ 953 2441 691 2322 \nL 691 4666 \nz\n\" transform=\"scale(0.015625)\"/>\n       </defs>\n       <use xlink:href=\"#DejaVuSans-30\"/>\n       <use xlink:href=\"#DejaVuSans-2e\" x=\"63.623047\"/>\n       <use xlink:href=\"#DejaVuSans-35\" x=\"95.410156\"/>\n      </g>\n     </g>\n    </g>\n    <g id=\"xtick_3\">\n     <g id=\"line2d_3\">\n      <g>\n       <use xlink:href=\"#m3a60f52f36\" x=\"127.774716\" y=\"239.758125\" style=\"fill: #ffffff; stroke: #ffffff; stroke-width: 0.8\"/>\n      </g>\n     </g>\n     <g id=\"text_3\">\n      <!-- 1.0 -->\n      <g style=\"fill: #ffffff\" transform=\"translate(119.823153 254.356562)scale(0.1 -0.1)\">\n       <defs>\n        <path id=\"DejaVuSans-31\" d=\"M 794 531 \nL 1825 531 \nL 1825 4091 \nL 703 3866 \nL 703 4441 \nL 1819 4666 \nL 2450 4666 \nL 2450 531 \nL 3481 531 \nL 3481 0 \nL 794 0 \nL 794 531 \nz\n\" transform=\"scale(0.015625)\"/>\n       </defs>\n       <use xlink:href=\"#DejaVuSans-31\"/>\n       <use xlink:href=\"#DejaVuSans-2e\" x=\"63.623047\"/>\n       <use xlink:href=\"#DejaVuSans-30\" x=\"95.410156\"/>\n      </g>\n     </g>\n    </g>\n    <g id=\"xtick_4\">\n     <g id=\"line2d_4\">\n      <g>\n       <use xlink:href=\"#m3a60f52f36\" x=\"165.82017\" y=\"239.758125\" style=\"fill: #ffffff; stroke: #ffffff; stroke-width: 0.8\"/>\n      </g>\n     </g>\n     <g id=\"text_4\">\n      <!-- 1.5 -->\n      <g style=\"fill: #ffffff\" transform=\"translate(157.868608 254.356562)scale(0.1 -0.1)\">\n       <use xlink:href=\"#DejaVuSans-31\"/>\n       <use xlink:href=\"#DejaVuSans-2e\" x=\"63.623047\"/>\n       <use xlink:href=\"#DejaVuSans-35\" x=\"95.410156\"/>\n      </g>\n     </g>\n    </g>\n    <g id=\"xtick_5\">\n     <g id=\"line2d_5\">\n      <g>\n       <use xlink:href=\"#m3a60f52f36\" x=\"203.865625\" y=\"239.758125\" style=\"fill: #ffffff; stroke: #ffffff; stroke-width: 0.8\"/>\n      </g>\n     </g>\n     <g id=\"text_5\">\n      <!-- 2.0 -->\n      <g style=\"fill: #ffffff\" transform=\"translate(195.914063 254.356562)scale(0.1 -0.1)\">\n       <defs>\n        <path id=\"DejaVuSans-32\" d=\"M 1228 531 \nL 3431 531 \nL 3431 0 \nL 469 0 \nL 469 531 \nQ 828 903 1448 1529 \nQ 2069 2156 2228 2338 \nQ 2531 2678 2651 2914 \nQ 2772 3150 2772 3378 \nQ 2772 3750 2511 3984 \nQ 2250 4219 1831 4219 \nQ 1534 4219 1204 4116 \nQ 875 4013 500 3803 \nL 500 4441 \nQ 881 4594 1212 4672 \nQ 1544 4750 1819 4750 \nQ 2544 4750 2975 4387 \nQ 3406 4025 3406 3419 \nQ 3406 3131 3298 2873 \nQ 3191 2616 2906 2266 \nQ 2828 2175 2409 1742 \nQ 1991 1309 1228 531 \nz\n\" transform=\"scale(0.015625)\"/>\n       </defs>\n       <use xlink:href=\"#DejaVuSans-32\"/>\n       <use xlink:href=\"#DejaVuSans-2e\" x=\"63.623047\"/>\n       <use xlink:href=\"#DejaVuSans-30\" x=\"95.410156\"/>\n      </g>\n     </g>\n    </g>\n    <g id=\"xtick_6\">\n     <g id=\"line2d_6\">\n      <g>\n       <use xlink:href=\"#m3a60f52f36\" x=\"241.91108\" y=\"239.758125\" style=\"fill: #ffffff; stroke: #ffffff; stroke-width: 0.8\"/>\n      </g>\n     </g>\n     <g id=\"text_6\">\n      <!-- 2.5 -->\n      <g style=\"fill: #ffffff\" transform=\"translate(233.959517 254.356562)scale(0.1 -0.1)\">\n       <use xlink:href=\"#DejaVuSans-32\"/>\n       <use xlink:href=\"#DejaVuSans-2e\" x=\"63.623047\"/>\n       <use xlink:href=\"#DejaVuSans-35\" x=\"95.410156\"/>\n      </g>\n     </g>\n    </g>\n    <g id=\"xtick_7\">\n     <g id=\"line2d_7\">\n      <g>\n       <use xlink:href=\"#m3a60f52f36\" x=\"279.956534\" y=\"239.758125\" style=\"fill: #ffffff; stroke: #ffffff; stroke-width: 0.8\"/>\n      </g>\n     </g>\n     <g id=\"text_7\">\n      <!-- 3.0 -->\n      <g style=\"fill: #ffffff\" transform=\"translate(272.004972 254.356562)scale(0.1 -0.1)\">\n       <defs>\n        <path id=\"DejaVuSans-33\" d=\"M 2597 2516 \nQ 3050 2419 3304 2112 \nQ 3559 1806 3559 1356 \nQ 3559 666 3084 287 \nQ 2609 -91 1734 -91 \nQ 1441 -91 1130 -33 \nQ 819 25 488 141 \nL 488 750 \nQ 750 597 1062 519 \nQ 1375 441 1716 441 \nQ 2309 441 2620 675 \nQ 2931 909 2931 1356 \nQ 2931 1769 2642 2001 \nQ 2353 2234 1838 2234 \nL 1294 2234 \nL 1294 2753 \nL 1863 2753 \nQ 2328 2753 2575 2939 \nQ 2822 3125 2822 3475 \nQ 2822 3834 2567 4026 \nQ 2313 4219 1838 4219 \nQ 1578 4219 1281 4162 \nQ 984 4106 628 3988 \nL 628 4550 \nQ 988 4650 1302 4700 \nQ 1616 4750 1894 4750 \nQ 2613 4750 3031 4423 \nQ 3450 4097 3450 3541 \nQ 3450 3153 3228 2886 \nQ 3006 2619 2597 2516 \nz\n\" transform=\"scale(0.015625)\"/>\n       </defs>\n       <use xlink:href=\"#DejaVuSans-33\"/>\n       <use xlink:href=\"#DejaVuSans-2e\" x=\"63.623047\"/>\n       <use xlink:href=\"#DejaVuSans-30\" x=\"95.410156\"/>\n      </g>\n     </g>\n    </g>\n    <g id=\"xtick_8\">\n     <g id=\"line2d_8\">\n      <g>\n       <use xlink:href=\"#m3a60f52f36\" x=\"318.001989\" y=\"239.758125\" style=\"fill: #ffffff; stroke: #ffffff; stroke-width: 0.8\"/>\n      </g>\n     </g>\n     <g id=\"text_8\">\n      <!-- 3.5 -->\n      <g style=\"fill: #ffffff\" transform=\"translate(310.050426 254.356562)scale(0.1 -0.1)\">\n       <use xlink:href=\"#DejaVuSans-33\"/>\n       <use xlink:href=\"#DejaVuSans-2e\" x=\"63.623047\"/>\n       <use xlink:href=\"#DejaVuSans-35\" x=\"95.410156\"/>\n      </g>\n     </g>\n    </g>\n    <g id=\"xtick_9\">\n     <g id=\"line2d_9\">\n      <g>\n       <use xlink:href=\"#m3a60f52f36\" x=\"356.047443\" y=\"239.758125\" style=\"fill: #ffffff; stroke: #ffffff; stroke-width: 0.8\"/>\n      </g>\n     </g>\n     <g id=\"text_9\">\n      <!-- 4.0 -->\n      <g style=\"fill: #ffffff\" transform=\"translate(348.095881 254.356562)scale(0.1 -0.1)\">\n       <defs>\n        <path id=\"DejaVuSans-34\" d=\"M 2419 4116 \nL 825 1625 \nL 2419 1625 \nL 2419 4116 \nz\nM 2253 4666 \nL 3047 4666 \nL 3047 1625 \nL 3713 1625 \nL 3713 1100 \nL 3047 1100 \nL 3047 0 \nL 2419 0 \nL 2419 1100 \nL 313 1100 \nL 313 1709 \nL 2253 4666 \nz\n\" transform=\"scale(0.015625)\"/>\n       </defs>\n       <use xlink:href=\"#DejaVuSans-34\"/>\n       <use xlink:href=\"#DejaVuSans-2e\" x=\"63.623047\"/>\n       <use xlink:href=\"#DejaVuSans-30\" x=\"95.410156\"/>\n      </g>\n     </g>\n    </g>\n    <g id=\"text_10\">\n     <!-- Epochs -->\n     <g style=\"fill: #ffffff\" transform=\"translate(185.95 268.034687)scale(0.1 -0.1)\">\n      <defs>\n       <path id=\"DejaVuSans-45\" d=\"M 628 4666 \nL 3578 4666 \nL 3578 4134 \nL 1259 4134 \nL 1259 2753 \nL 3481 2753 \nL 3481 2222 \nL 1259 2222 \nL 1259 531 \nL 3634 531 \nL 3634 0 \nL 628 0 \nL 628 4666 \nz\n\" transform=\"scale(0.015625)\"/>\n       <path id=\"DejaVuSans-70\" d=\"M 1159 525 \nL 1159 -1331 \nL 581 -1331 \nL 581 3500 \nL 1159 3500 \nL 1159 2969 \nQ 1341 3281 1617 3432 \nQ 1894 3584 2278 3584 \nQ 2916 3584 3314 3078 \nQ 3713 2572 3713 1747 \nQ 3713 922 3314 415 \nQ 2916 -91 2278 -91 \nQ 1894 -91 1617 61 \nQ 1341 213 1159 525 \nz\nM 3116 1747 \nQ 3116 2381 2855 2742 \nQ 2594 3103 2138 3103 \nQ 1681 3103 1420 2742 \nQ 1159 2381 1159 1747 \nQ 1159 1113 1420 752 \nQ 1681 391 2138 391 \nQ 2594 391 2855 752 \nQ 3116 1113 3116 1747 \nz\n\" transform=\"scale(0.015625)\"/>\n       <path id=\"DejaVuSans-6f\" d=\"M 1959 3097 \nQ 1497 3097 1228 2736 \nQ 959 2375 959 1747 \nQ 959 1119 1226 758 \nQ 1494 397 1959 397 \nQ 2419 397 2687 759 \nQ 2956 1122 2956 1747 \nQ 2956 2369 2687 2733 \nQ 2419 3097 1959 3097 \nz\nM 1959 3584 \nQ 2709 3584 3137 3096 \nQ 3566 2609 3566 1747 \nQ 3566 888 3137 398 \nQ 2709 -91 1959 -91 \nQ 1206 -91 779 398 \nQ 353 888 353 1747 \nQ 353 2609 779 3096 \nQ 1206 3584 1959 3584 \nz\n\" transform=\"scale(0.015625)\"/>\n       <path id=\"DejaVuSans-63\" d=\"M 3122 3366 \nL 3122 2828 \nQ 2878 2963 2633 3030 \nQ 2388 3097 2138 3097 \nQ 1578 3097 1268 2742 \nQ 959 2388 959 1747 \nQ 959 1106 1268 751 \nQ 1578 397 2138 397 \nQ 2388 397 2633 464 \nQ 2878 531 3122 666 \nL 3122 134 \nQ 2881 22 2623 -34 \nQ 2366 -91 2075 -91 \nQ 1284 -91 818 406 \nQ 353 903 353 1747 \nQ 353 2603 823 3093 \nQ 1294 3584 2113 3584 \nQ 2378 3584 2631 3529 \nQ 2884 3475 3122 3366 \nz\n\" transform=\"scale(0.015625)\"/>\n       <path id=\"DejaVuSans-68\" d=\"M 3513 2113 \nL 3513 0 \nL 2938 0 \nL 2938 2094 \nQ 2938 2591 2744 2837 \nQ 2550 3084 2163 3084 \nQ 1697 3084 1428 2787 \nQ 1159 2491 1159 1978 \nL 1159 0 \nL 581 0 \nL 581 4863 \nL 1159 4863 \nL 1159 2956 \nQ 1366 3272 1645 3428 \nQ 1925 3584 2291 3584 \nQ 2894 3584 3203 3211 \nQ 3513 2838 3513 2113 \nz\n\" transform=\"scale(0.015625)\"/>\n       <path id=\"DejaVuSans-73\" d=\"M 2834 3397 \nL 2834 2853 \nQ 2591 2978 2328 3040 \nQ 2066 3103 1784 3103 \nQ 1356 3103 1142 2972 \nQ 928 2841 928 2578 \nQ 928 2378 1081 2264 \nQ 1234 2150 1697 2047 \nL 1894 2003 \nQ 2506 1872 2764 1633 \nQ 3022 1394 3022 966 \nQ 3022 478 2636 193 \nQ 2250 -91 1575 -91 \nQ 1294 -91 989 -36 \nQ 684 19 347 128 \nL 347 722 \nQ 666 556 975 473 \nQ 1284 391 1588 391 \nQ 1994 391 2212 530 \nQ 2431 669 2431 922 \nQ 2431 1156 2273 1281 \nQ 2116 1406 1581 1522 \nL 1381 1569 \nQ 847 1681 609 1914 \nQ 372 2147 372 2553 \nQ 372 3047 722 3315 \nQ 1072 3584 1716 3584 \nQ 2034 3584 2315 3537 \nQ 2597 3491 2834 3397 \nz\n\" transform=\"scale(0.015625)\"/>\n      </defs>\n      <use xlink:href=\"#DejaVuSans-45\"/>\n      <use xlink:href=\"#DejaVuSans-70\" x=\"63.183594\"/>\n      <use xlink:href=\"#DejaVuSans-6f\" x=\"126.660156\"/>\n      <use xlink:href=\"#DejaVuSans-63\" x=\"187.841797\"/>\n      <use xlink:href=\"#DejaVuSans-68\" x=\"242.822266\"/>\n      <use xlink:href=\"#DejaVuSans-73\" x=\"306.201172\"/>\n     </g>\n    </g>\n   </g>\n   <g id=\"matplotlib.axis_2\">\n    <g id=\"ytick_1\">\n     <g id=\"line2d_10\">\n      <defs>\n       <path id=\"meee56f0fed\" d=\"M 0 0 \nL -3.5 0 \n\" style=\"stroke: #ffffff; stroke-width: 0.8\"/>\n      </defs>\n      <g>\n       <use xlink:href=\"#meee56f0fed\" x=\"36.465625\" y=\"213.597468\" style=\"fill: #ffffff; stroke: #ffffff; stroke-width: 0.8\"/>\n      </g>\n     </g>\n     <g id=\"text_11\">\n      <!-- 1.75 -->\n      <g style=\"fill: #ffffff\" transform=\"translate(7.2 217.396687)scale(0.1 -0.1)\">\n       <defs>\n        <path id=\"DejaVuSans-37\" d=\"M 525 4666 \nL 3525 4666 \nL 3525 4397 \nL 1831 0 \nL 1172 0 \nL 2766 4134 \nL 525 4134 \nL 525 4666 \nz\n\" transform=\"scale(0.015625)\"/>\n       </defs>\n       <use xlink:href=\"#DejaVuSans-31\"/>\n       <use xlink:href=\"#DejaVuSans-2e\" x=\"63.623047\"/>\n       <use xlink:href=\"#DejaVuSans-37\" x=\"95.410156\"/>\n       <use xlink:href=\"#DejaVuSans-35\" x=\"159.033203\"/>\n      </g>\n     </g>\n    </g>\n    <g id=\"ytick_2\">\n     <g id=\"line2d_11\">\n      <g>\n       <use xlink:href=\"#meee56f0fed\" x=\"36.465625\" y=\"187.333499\" style=\"fill: #ffffff; stroke: #ffffff; stroke-width: 0.8\"/>\n      </g>\n     </g>\n     <g id=\"text_12\">\n      <!-- 2.00 -->\n      <g style=\"fill: #ffffff\" transform=\"translate(7.2 191.132718)scale(0.1 -0.1)\">\n       <use xlink:href=\"#DejaVuSans-32\"/>\n       <use xlink:href=\"#DejaVuSans-2e\" x=\"63.623047\"/>\n       <use xlink:href=\"#DejaVuSans-30\" x=\"95.410156\"/>\n       <use xlink:href=\"#DejaVuSans-30\" x=\"159.033203\"/>\n      </g>\n     </g>\n    </g>\n    <g id=\"ytick_3\">\n     <g id=\"line2d_12\">\n      <g>\n       <use xlink:href=\"#meee56f0fed\" x=\"36.465625\" y=\"161.06953\" style=\"fill: #ffffff; stroke: #ffffff; stroke-width: 0.8\"/>\n      </g>\n     </g>\n     <g id=\"text_13\">\n      <!-- 2.25 -->\n      <g style=\"fill: #ffffff\" transform=\"translate(7.2 164.868748)scale(0.1 -0.1)\">\n       <use xlink:href=\"#DejaVuSans-32\"/>\n       <use xlink:href=\"#DejaVuSans-2e\" x=\"63.623047\"/>\n       <use xlink:href=\"#DejaVuSans-32\" x=\"95.410156\"/>\n       <use xlink:href=\"#DejaVuSans-35\" x=\"159.033203\"/>\n      </g>\n     </g>\n    </g>\n    <g id=\"ytick_4\">\n     <g id=\"line2d_13\">\n      <g>\n       <use xlink:href=\"#meee56f0fed\" x=\"36.465625\" y=\"134.80556\" style=\"fill: #ffffff; stroke: #ffffff; stroke-width: 0.8\"/>\n      </g>\n     </g>\n     <g id=\"text_14\">\n      <!-- 2.50 -->\n      <g style=\"fill: #ffffff\" transform=\"translate(7.2 138.604779)scale(0.1 -0.1)\">\n       <use xlink:href=\"#DejaVuSans-32\"/>\n       <use xlink:href=\"#DejaVuSans-2e\" x=\"63.623047\"/>\n       <use xlink:href=\"#DejaVuSans-35\" x=\"95.410156\"/>\n       <use xlink:href=\"#DejaVuSans-30\" x=\"159.033203\"/>\n      </g>\n     </g>\n    </g>\n    <g id=\"ytick_5\">\n     <g id=\"line2d_14\">\n      <g>\n       <use xlink:href=\"#meee56f0fed\" x=\"36.465625\" y=\"108.541591\" style=\"fill: #ffffff; stroke: #ffffff; stroke-width: 0.8\"/>\n      </g>\n     </g>\n     <g id=\"text_15\">\n      <!-- 2.75 -->\n      <g style=\"fill: #ffffff\" transform=\"translate(7.2 112.34081)scale(0.1 -0.1)\">\n       <use xlink:href=\"#DejaVuSans-32\"/>\n       <use xlink:href=\"#DejaVuSans-2e\" x=\"63.623047\"/>\n       <use xlink:href=\"#DejaVuSans-37\" x=\"95.410156\"/>\n       <use xlink:href=\"#DejaVuSans-35\" x=\"159.033203\"/>\n      </g>\n     </g>\n    </g>\n    <g id=\"ytick_6\">\n     <g id=\"line2d_15\">\n      <g>\n       <use xlink:href=\"#meee56f0fed\" x=\"36.465625\" y=\"82.277622\" style=\"fill: #ffffff; stroke: #ffffff; stroke-width: 0.8\"/>\n      </g>\n     </g>\n     <g id=\"text_16\">\n      <!-- 3.00 -->\n      <g style=\"fill: #ffffff\" transform=\"translate(7.2 86.076841)scale(0.1 -0.1)\">\n       <use xlink:href=\"#DejaVuSans-33\"/>\n       <use xlink:href=\"#DejaVuSans-2e\" x=\"63.623047\"/>\n       <use xlink:href=\"#DejaVuSans-30\" x=\"95.410156\"/>\n       <use xlink:href=\"#DejaVuSans-30\" x=\"159.033203\"/>\n      </g>\n     </g>\n    </g>\n    <g id=\"ytick_7\">\n     <g id=\"line2d_16\">\n      <g>\n       <use xlink:href=\"#meee56f0fed\" x=\"36.465625\" y=\"56.013653\" style=\"fill: #ffffff; stroke: #ffffff; stroke-width: 0.8\"/>\n      </g>\n     </g>\n     <g id=\"text_17\">\n      <!-- 3.25 -->\n      <g style=\"fill: #ffffff\" transform=\"translate(7.2 59.812871)scale(0.1 -0.1)\">\n       <use xlink:href=\"#DejaVuSans-33\"/>\n       <use xlink:href=\"#DejaVuSans-2e\" x=\"63.623047\"/>\n       <use xlink:href=\"#DejaVuSans-32\" x=\"95.410156\"/>\n       <use xlink:href=\"#DejaVuSans-35\" x=\"159.033203\"/>\n      </g>\n     </g>\n    </g>\n    <g id=\"ytick_8\">\n     <g id=\"line2d_17\">\n      <g>\n       <use xlink:href=\"#meee56f0fed\" x=\"36.465625\" y=\"29.749683\" style=\"fill: #ffffff; stroke: #ffffff; stroke-width: 0.8\"/>\n      </g>\n     </g>\n     <g id=\"text_18\">\n      <!-- 3.50 -->\n      <g style=\"fill: #ffffff\" transform=\"translate(7.2 33.548902)scale(0.1 -0.1)\">\n       <use xlink:href=\"#DejaVuSans-33\"/>\n       <use xlink:href=\"#DejaVuSans-2e\" x=\"63.623047\"/>\n       <use xlink:href=\"#DejaVuSans-35\" x=\"95.410156\"/>\n       <use xlink:href=\"#DejaVuSans-30\" x=\"159.033203\"/>\n      </g>\n     </g>\n    </g>\n   </g>\n   <g id=\"line2d_18\">\n    <path d=\"M 51.683807 32.201761 \nL 127.774716 149.339917 \nL 203.865625 189.650121 \nL 279.956534 212.53738 \nL 356.047443 229.874489 \n\" clip-path=\"url(#p2c7f46fbe9)\" style=\"fill: none; stroke: #8dd3c7; stroke-width: 1.5; stroke-linecap: square\"/>\n   </g>\n   <g id=\"line2d_19\">\n    <path d=\"M 51.683807 115.761117 \nL 127.774716 162.184309 \nL 203.865625 181.590234 \nL 279.956534 187.219334 \nL 356.047443 193.316303 \n\" clip-path=\"url(#p2c7f46fbe9)\" style=\"fill: none; stroke: #feffb3; stroke-width: 1.5; stroke-linecap: square\"/>\n   </g>\n   <g id=\"patch_3\">\n    <path d=\"M 36.465625 239.758125 \nL 36.465625 22.318125 \n\" style=\"fill: none; stroke: #ffffff; stroke-width: 0.8; stroke-linejoin: miter; stroke-linecap: square\"/>\n   </g>\n   <g id=\"patch_4\">\n    <path d=\"M 371.265625 239.758125 \nL 371.265625 22.318125 \n\" style=\"fill: none; stroke: #ffffff; stroke-width: 0.8; stroke-linejoin: miter; stroke-linecap: square\"/>\n   </g>\n   <g id=\"patch_5\">\n    <path d=\"M 36.465625 239.758125 \nL 371.265625 239.758125 \n\" style=\"fill: none; stroke: #ffffff; stroke-width: 0.8; stroke-linejoin: miter; stroke-linecap: square\"/>\n   </g>\n   <g id=\"patch_6\">\n    <path d=\"M 36.465625 22.318125 \nL 371.265625 22.318125 \n\" style=\"fill: none; stroke: #ffffff; stroke-width: 0.8; stroke-linejoin: miter; stroke-linecap: square\"/>\n   </g>\n   <g id=\"text_19\">\n    <!-- Loss -->\n    <g style=\"fill: #ffffff\" transform=\"translate(190.705 16.318125)scale(0.12 -0.12)\">\n     <defs>\n      <path id=\"DejaVuSans-4c\" d=\"M 628 4666 \nL 1259 4666 \nL 1259 531 \nL 3531 531 \nL 3531 0 \nL 628 0 \nL 628 4666 \nz\n\" transform=\"scale(0.015625)\"/>\n     </defs>\n     <use xlink:href=\"#DejaVuSans-4c\"/>\n     <use xlink:href=\"#DejaVuSans-6f\" x=\"53.962891\"/>\n     <use xlink:href=\"#DejaVuSans-73\" x=\"115.144531\"/>\n     <use xlink:href=\"#DejaVuSans-73\" x=\"167.244141\"/>\n    </g>\n   </g>\n   <g id=\"legend_1\">\n    <g id=\"patch_7\">\n     <path d=\"M 269.210938 60.230625 \nL 364.265625 60.230625 \nQ 366.265625 60.230625 366.265625 58.230625 \nL 366.265625 29.318125 \nQ 366.265625 27.318125 364.265625 27.318125 \nL 269.210938 27.318125 \nQ 267.210938 27.318125 267.210938 29.318125 \nL 267.210938 58.230625 \nQ 267.210938 60.230625 269.210938 60.230625 \nz\n\" style=\"opacity: 0.8; stroke: #cccccc; stroke-linejoin: miter\"/>\n    </g>\n    <g id=\"line2d_20\">\n     <path d=\"M 271.210938 35.416562 \nL 281.210938 35.416562 \nL 291.210938 35.416562 \n\" style=\"fill: none; stroke: #8dd3c7; stroke-width: 1.5; stroke-linecap: square\"/>\n    </g>\n    <g id=\"text_20\">\n     <!-- training_loss -->\n     <g style=\"fill: #ffffff\" transform=\"translate(299.210938 38.916562)scale(0.1 -0.1)\">\n      <defs>\n       <path id=\"DejaVuSans-74\" d=\"M 1172 4494 \nL 1172 3500 \nL 2356 3500 \nL 2356 3053 \nL 1172 3053 \nL 1172 1153 \nQ 1172 725 1289 603 \nQ 1406 481 1766 481 \nL 2356 481 \nL 2356 0 \nL 1766 0 \nQ 1100 0 847 248 \nQ 594 497 594 1153 \nL 594 3053 \nL 172 3053 \nL 172 3500 \nL 594 3500 \nL 594 4494 \nL 1172 4494 \nz\n\" transform=\"scale(0.015625)\"/>\n       <path id=\"DejaVuSans-72\" d=\"M 2631 2963 \nQ 2534 3019 2420 3045 \nQ 2306 3072 2169 3072 \nQ 1681 3072 1420 2755 \nQ 1159 2438 1159 1844 \nL 1159 0 \nL 581 0 \nL 581 3500 \nL 1159 3500 \nL 1159 2956 \nQ 1341 3275 1631 3429 \nQ 1922 3584 2338 3584 \nQ 2397 3584 2469 3576 \nQ 2541 3569 2628 3553 \nL 2631 2963 \nz\n\" transform=\"scale(0.015625)\"/>\n       <path id=\"DejaVuSans-61\" d=\"M 2194 1759 \nQ 1497 1759 1228 1600 \nQ 959 1441 959 1056 \nQ 959 750 1161 570 \nQ 1363 391 1709 391 \nQ 2188 391 2477 730 \nQ 2766 1069 2766 1631 \nL 2766 1759 \nL 2194 1759 \nz\nM 3341 1997 \nL 3341 0 \nL 2766 0 \nL 2766 531 \nQ 2569 213 2275 61 \nQ 1981 -91 1556 -91 \nQ 1019 -91 701 211 \nQ 384 513 384 1019 \nQ 384 1609 779 1909 \nQ 1175 2209 1959 2209 \nL 2766 2209 \nL 2766 2266 \nQ 2766 2663 2505 2880 \nQ 2244 3097 1772 3097 \nQ 1472 3097 1187 3025 \nQ 903 2953 641 2809 \nL 641 3341 \nQ 956 3463 1253 3523 \nQ 1550 3584 1831 3584 \nQ 2591 3584 2966 3190 \nQ 3341 2797 3341 1997 \nz\n\" transform=\"scale(0.015625)\"/>\n       <path id=\"DejaVuSans-69\" d=\"M 603 3500 \nL 1178 3500 \nL 1178 0 \nL 603 0 \nL 603 3500 \nz\nM 603 4863 \nL 1178 4863 \nL 1178 4134 \nL 603 4134 \nL 603 4863 \nz\n\" transform=\"scale(0.015625)\"/>\n       <path id=\"DejaVuSans-6e\" d=\"M 3513 2113 \nL 3513 0 \nL 2938 0 \nL 2938 2094 \nQ 2938 2591 2744 2837 \nQ 2550 3084 2163 3084 \nQ 1697 3084 1428 2787 \nQ 1159 2491 1159 1978 \nL 1159 0 \nL 581 0 \nL 581 3500 \nL 1159 3500 \nL 1159 2956 \nQ 1366 3272 1645 3428 \nQ 1925 3584 2291 3584 \nQ 2894 3584 3203 3211 \nQ 3513 2838 3513 2113 \nz\n\" transform=\"scale(0.015625)\"/>\n       <path id=\"DejaVuSans-67\" d=\"M 2906 1791 \nQ 2906 2416 2648 2759 \nQ 2391 3103 1925 3103 \nQ 1463 3103 1205 2759 \nQ 947 2416 947 1791 \nQ 947 1169 1205 825 \nQ 1463 481 1925 481 \nQ 2391 481 2648 825 \nQ 2906 1169 2906 1791 \nz\nM 3481 434 \nQ 3481 -459 3084 -895 \nQ 2688 -1331 1869 -1331 \nQ 1566 -1331 1297 -1286 \nQ 1028 -1241 775 -1147 \nL 775 -588 \nQ 1028 -725 1275 -790 \nQ 1522 -856 1778 -856 \nQ 2344 -856 2625 -561 \nQ 2906 -266 2906 331 \nL 2906 616 \nQ 2728 306 2450 153 \nQ 2172 0 1784 0 \nQ 1141 0 747 490 \nQ 353 981 353 1791 \nQ 353 2603 747 3093 \nQ 1141 3584 1784 3584 \nQ 2172 3584 2450 3431 \nQ 2728 3278 2906 2969 \nL 2906 3500 \nL 3481 3500 \nL 3481 434 \nz\n\" transform=\"scale(0.015625)\"/>\n       <path id=\"DejaVuSans-5f\" d=\"M 3263 -1063 \nL 3263 -1509 \nL -63 -1509 \nL -63 -1063 \nL 3263 -1063 \nz\n\" transform=\"scale(0.015625)\"/>\n       <path id=\"DejaVuSans-6c\" d=\"M 603 4863 \nL 1178 4863 \nL 1178 0 \nL 603 0 \nL 603 4863 \nz\n\" transform=\"scale(0.015625)\"/>\n      </defs>\n      <use xlink:href=\"#DejaVuSans-74\"/>\n      <use xlink:href=\"#DejaVuSans-72\" x=\"39.208984\"/>\n      <use xlink:href=\"#DejaVuSans-61\" x=\"80.322266\"/>\n      <use xlink:href=\"#DejaVuSans-69\" x=\"141.601562\"/>\n      <use xlink:href=\"#DejaVuSans-6e\" x=\"169.384766\"/>\n      <use xlink:href=\"#DejaVuSans-69\" x=\"232.763672\"/>\n      <use xlink:href=\"#DejaVuSans-6e\" x=\"260.546875\"/>\n      <use xlink:href=\"#DejaVuSans-67\" x=\"323.925781\"/>\n      <use xlink:href=\"#DejaVuSans-5f\" x=\"387.402344\"/>\n      <use xlink:href=\"#DejaVuSans-6c\" x=\"437.402344\"/>\n      <use xlink:href=\"#DejaVuSans-6f\" x=\"465.185547\"/>\n      <use xlink:href=\"#DejaVuSans-73\" x=\"526.367188\"/>\n      <use xlink:href=\"#DejaVuSans-73\" x=\"578.466797\"/>\n     </g>\n    </g>\n    <g id=\"line2d_21\">\n     <path d=\"M 271.210938 50.372812 \nL 281.210938 50.372812 \nL 291.210938 50.372812 \n\" style=\"fill: none; stroke: #feffb3; stroke-width: 1.5; stroke-linecap: square\"/>\n    </g>\n    <g id=\"text_21\">\n     <!-- val_loss -->\n     <g style=\"fill: #ffffff\" transform=\"translate(299.210938 53.872812)scale(0.1 -0.1)\">\n      <defs>\n       <path id=\"DejaVuSans-76\" d=\"M 191 3500 \nL 800 3500 \nL 1894 563 \nL 2988 3500 \nL 3597 3500 \nL 2284 0 \nL 1503 0 \nL 191 3500 \nz\n\" transform=\"scale(0.015625)\"/>\n      </defs>\n      <use xlink:href=\"#DejaVuSans-76\"/>\n      <use xlink:href=\"#DejaVuSans-61\" x=\"59.179688\"/>\n      <use xlink:href=\"#DejaVuSans-6c\" x=\"120.458984\"/>\n      <use xlink:href=\"#DejaVuSans-5f\" x=\"148.242188\"/>\n      <use xlink:href=\"#DejaVuSans-6c\" x=\"198.242188\"/>\n      <use xlink:href=\"#DejaVuSans-6f\" x=\"226.025391\"/>\n      <use xlink:href=\"#DejaVuSans-73\" x=\"287.207031\"/>\n      <use xlink:href=\"#DejaVuSans-73\" x=\"339.306641\"/>\n     </g>\n    </g>\n   </g>\n  </g>\n </g>\n <defs>\n  <clipPath id=\"p2c7f46fbe9\">\n   <rect x=\"36.465625\" y=\"22.318125\" width=\"334.8\" height=\"217.44\"/>\n  </clipPath>\n </defs>\n</svg>\n",
            "text/plain": [
              "<Figure size 432x288 with 1 Axes>"
            ]
          },
          "metadata": {},
          "output_type": "display_data"
        },
        {
          "data": {
            "image/png": "[encoded data removed]",
            "image/svg+xml": "<?xml version=\"1.0\" encoding=\"utf-8\" standalone=\"no\"?>\n<!DOCTYPE svg PUBLIC \"-//W3C//DTD SVG 1.1//EN\"\n  \"http://www.w3.org/Graphics/SVG/1.1/DTD/svg11.dtd\">\n<svg xmlns:xlink=\"http://www.w3.org/1999/xlink\" width=\"378.465625pt\" height=\"277.314375pt\" viewBox=\"0 0 378.465625 277.314375\" xmlns=\"http://www.w3.org/2000/svg\" version=\"1.1\">\n <metadata>\n  <rdf:RDF xmlns:dc=\"http://purl.org/dc/elements/1.1/\" xmlns:cc=\"http://creativecommons.org/ns#\" xmlns:rdf=\"http://www.w3.org/1999/02/22-rdf-syntax-ns#\">\n   <cc:Work>\n    <dc:type rdf:resource=\"http://purl.org/dc/dcmitype/StillImage\"/>\n    <dc:date>2022-06-28T05:39:22.889637</dc:date>\n    <dc:format>image/svg+xml</dc:format>\n    <dc:creator>\n     <cc:Agent>\n      <dc:title>Matplotlib v3.5.1, https://matplotlib.org/</dc:title>\n     </cc:Agent>\n    </dc:creator>\n   </cc:Work>\n  </rdf:RDF>\n </metadata>\n <defs>\n  <style type=\"text/css\">*{stroke-linejoin: round; stroke-linecap: butt}</style>\n </defs>\n <g id=\"figure_1\">\n  <g id=\"patch_1\">\n   <path d=\"M 0 277.314375 \nL 378.465625 277.314375 \nL 378.465625 0 \nL 0 0 \nz\n\"/>\n  </g>\n  <g id=\"axes_1\">\n   <g id=\"patch_2\">\n    <path d=\"M 36.465625 239.758125 \nL 371.265625 239.758125 \nL 371.265625 22.318125 \nL 36.465625 22.318125 \nz\n\"/>\n   </g>\n   <g id=\"matplotlib.axis_1\">\n    <g id=\"xtick_1\">\n     <g id=\"line2d_1\">\n      <defs>\n       <path id=\"md801f2b082\" d=\"M 0 0 \nL 0 3.5 \n\" style=\"stroke: #ffffff; stroke-width: 0.8\"/>\n      </defs>\n      <g>\n       <use xlink:href=\"#md801f2b082\" x=\"51.683807\" y=\"239.758125\" style=\"fill: #ffffff; stroke: #ffffff; stroke-width: 0.8\"/>\n      </g>\n     </g>\n     <g id=\"text_1\">\n      <!-- 0.0 -->\n      <g style=\"fill: #ffffff\" transform=\"translate(43.732244 254.356562)scale(0.1 -0.1)\">\n       <defs>\n        <path id=\"DejaVuSans-30\" d=\"M 2034 4250 \nQ 1547 4250 1301 3770 \nQ 1056 3291 1056 2328 \nQ 1056 1369 1301 889 \nQ 1547 409 2034 409 \nQ 2525 409 2770 889 \nQ 3016 1369 3016 2328 \nQ 3016 3291 2770 3770 \nQ 2525 4250 2034 4250 \nz\nM 2034 4750 \nQ 2819 4750 3233 4129 \nQ 3647 3509 3647 2328 \nQ 3647 1150 3233 529 \nQ 2819 -91 2034 -91 \nQ 1250 -91 836 529 \nQ 422 1150 422 2328 \nQ 422 3509 836 4129 \nQ 1250 4750 2034 4750 \nz\n\" transform=\"scale(0.015625)\"/>\n        <path id=\"DejaVuSans-2e\" d=\"M 684 794 \nL 1344 794 \nL 1344 0 \nL 684 0 \nL 684 794 \nz\n\" transform=\"scale(0.015625)\"/>\n       </defs>\n       <use xlink:href=\"#DejaVuSans-30\"/>\n       <use xlink:href=\"#DejaVuSans-2e\" x=\"63.623047\"/>\n       <use xlink:href=\"#DejaVuSans-30\" x=\"95.410156\"/>\n      </g>\n     </g>\n    </g>\n    <g id=\"xtick_2\">\n     <g id=\"line2d_2\">\n      <g>\n       <use xlink:href=\"#md801f2b082\" x=\"89.729261\" y=\"239.758125\" style=\"fill: #ffffff; stroke: #ffffff; stroke-width: 0.8\"/>\n      </g>\n     </g>\n     <g id=\"text_2\">\n      <!-- 0.5 -->\n      <g style=\"fill: #ffffff\" transform=\"translate(81.777699 254.356562)scale(0.1 -0.1)\">\n       <defs>\n        <path id=\"DejaVuSans-35\" d=\"M 691 4666 \nL 3169 4666 \nL 3169 4134 \nL 1269 4134 \nL 1269 2991 \nQ 1406 3038 1543 3061 \nQ 1681 3084 1819 3084 \nQ 2600 3084 3056 2656 \nQ 3513 2228 3513 1497 \nQ 3513 744 3044 326 \nQ 2575 -91 1722 -91 \nQ 1428 -91 1123 -41 \nQ 819 9 494 109 \nL 494 744 \nQ 775 591 1075 516 \nQ 1375 441 1709 441 \nQ 2250 441 2565 725 \nQ 2881 1009 2881 1497 \nQ 2881 1984 2565 2268 \nQ 2250 2553 1709 2553 \nQ 1456 2553 1204 2497 \nQ 953 2441 691 2322 \nL 691 4666 \nz\n\" transform=\"scale(0.015625)\"/>\n       </defs>\n       <use xlink:href=\"#DejaVuSans-30\"/>\n       <use xlink:href=\"#DejaVuSans-2e\" x=\"63.623047\"/>\n       <use xlink:href=\"#DejaVuSans-35\" x=\"95.410156\"/>\n      </g>\n     </g>\n    </g>\n    <g id=\"xtick_3\">\n     <g id=\"line2d_3\">\n      <g>\n       <use xlink:href=\"#md801f2b082\" x=\"127.774716\" y=\"239.758125\" style=\"fill: #ffffff; stroke: #ffffff; stroke-width: 0.8\"/>\n      </g>\n     </g>\n     <g id=\"text_3\">\n      <!-- 1.0 -->\n      <g style=\"fill: #ffffff\" transform=\"translate(119.823153 254.356562)scale(0.1 -0.1)\">\n       <defs>\n        <path id=\"DejaVuSans-31\" d=\"M 794 531 \nL 1825 531 \nL 1825 4091 \nL 703 3866 \nL 703 4441 \nL 1819 4666 \nL 2450 4666 \nL 2450 531 \nL 3481 531 \nL 3481 0 \nL 794 0 \nL 794 531 \nz\n\" transform=\"scale(0.015625)\"/>\n       </defs>\n       <use xlink:href=\"#DejaVuSans-31\"/>\n       <use xlink:href=\"#DejaVuSans-2e\" x=\"63.623047\"/>\n       <use xlink:href=\"#DejaVuSans-30\" x=\"95.410156\"/>\n      </g>\n     </g>\n    </g>\n    <g id=\"xtick_4\">\n     <g id=\"line2d_4\">\n      <g>\n       <use xlink:href=\"#md801f2b082\" x=\"165.82017\" y=\"239.758125\" style=\"fill: #ffffff; stroke: #ffffff; stroke-width: 0.8\"/>\n      </g>\n     </g>\n     <g id=\"text_4\">\n      <!-- 1.5 -->\n      <g style=\"fill: #ffffff\" transform=\"translate(157.868608 254.356562)scale(0.1 -0.1)\">\n       <use xlink:href=\"#DejaVuSans-31\"/>\n       <use xlink:href=\"#DejaVuSans-2e\" x=\"63.623047\"/>\n       <use xlink:href=\"#DejaVuSans-35\" x=\"95.410156\"/>\n      </g>\n     </g>\n    </g>\n    <g id=\"xtick_5\">\n     <g id=\"line2d_5\">\n      <g>\n       <use xlink:href=\"#md801f2b082\" x=\"203.865625\" y=\"239.758125\" style=\"fill: #ffffff; stroke: #ffffff; stroke-width: 0.8\"/>\n      </g>\n     </g>\n     <g id=\"text_5\">\n      <!-- 2.0 -->\n      <g style=\"fill: #ffffff\" transform=\"translate(195.914063 254.356562)scale(0.1 -0.1)\">\n       <defs>\n        <path id=\"DejaVuSans-32\" d=\"M 1228 531 \nL 3431 531 \nL 3431 0 \nL 469 0 \nL 469 531 \nQ 828 903 1448 1529 \nQ 2069 2156 2228 2338 \nQ 2531 2678 2651 2914 \nQ 2772 3150 2772 3378 \nQ 2772 3750 2511 3984 \nQ 2250 4219 1831 4219 \nQ 1534 4219 1204 4116 \nQ 875 4013 500 3803 \nL 500 4441 \nQ 881 4594 1212 4672 \nQ 1544 4750 1819 4750 \nQ 2544 4750 2975 4387 \nQ 3406 4025 3406 3419 \nQ 3406 3131 3298 2873 \nQ 3191 2616 2906 2266 \nQ 2828 2175 2409 1742 \nQ 1991 1309 1228 531 \nz\n\" transform=\"scale(0.015625)\"/>\n       </defs>\n       <use xlink:href=\"#DejaVuSans-32\"/>\n       <use xlink:href=\"#DejaVuSans-2e\" x=\"63.623047\"/>\n       <use xlink:href=\"#DejaVuSans-30\" x=\"95.410156\"/>\n      </g>\n     </g>\n    </g>\n    <g id=\"xtick_6\">\n     <g id=\"line2d_6\">\n      <g>\n       <use xlink:href=\"#md801f2b082\" x=\"241.91108\" y=\"239.758125\" style=\"fill: #ffffff; stroke: #ffffff; stroke-width: 0.8\"/>\n      </g>\n     </g>\n     <g id=\"text_6\">\n      <!-- 2.5 -->\n      <g style=\"fill: #ffffff\" transform=\"translate(233.959517 254.356562)scale(0.1 -0.1)\">\n       <use xlink:href=\"#DejaVuSans-32\"/>\n       <use xlink:href=\"#DejaVuSans-2e\" x=\"63.623047\"/>\n       <use xlink:href=\"#DejaVuSans-35\" x=\"95.410156\"/>\n      </g>\n     </g>\n    </g>\n    <g id=\"xtick_7\">\n     <g id=\"line2d_7\">\n      <g>\n       <use xlink:href=\"#md801f2b082\" x=\"279.956534\" y=\"239.758125\" style=\"fill: #ffffff; stroke: #ffffff; stroke-width: 0.8\"/>\n      </g>\n     </g>\n     <g id=\"text_7\">\n      <!-- 3.0 -->\n      <g style=\"fill: #ffffff\" transform=\"translate(272.004972 254.356562)scale(0.1 -0.1)\">\n       <defs>\n        <path id=\"DejaVuSans-33\" d=\"M 2597 2516 \nQ 3050 2419 3304 2112 \nQ 3559 1806 3559 1356 \nQ 3559 666 3084 287 \nQ 2609 -91 1734 -91 \nQ 1441 -91 1130 -33 \nQ 819 25 488 141 \nL 488 750 \nQ 750 597 1062 519 \nQ 1375 441 1716 441 \nQ 2309 441 2620 675 \nQ 2931 909 2931 1356 \nQ 2931 1769 2642 2001 \nQ 2353 2234 1838 2234 \nL 1294 2234 \nL 1294 2753 \nL 1863 2753 \nQ 2328 2753 2575 2939 \nQ 2822 3125 2822 3475 \nQ 2822 3834 2567 4026 \nQ 2313 4219 1838 4219 \nQ 1578 4219 1281 4162 \nQ 984 4106 628 3988 \nL 628 4550 \nQ 988 4650 1302 4700 \nQ 1616 4750 1894 4750 \nQ 2613 4750 3031 4423 \nQ 3450 4097 3450 3541 \nQ 3450 3153 3228 2886 \nQ 3006 2619 2597 2516 \nz\n\" transform=\"scale(0.015625)\"/>\n       </defs>\n       <use xlink:href=\"#DejaVuSans-33\"/>\n       <use xlink:href=\"#DejaVuSans-2e\" x=\"63.623047\"/>\n       <use xlink:href=\"#DejaVuSans-30\" x=\"95.410156\"/>\n      </g>\n     </g>\n    </g>\n    <g id=\"xtick_8\">\n     <g id=\"line2d_8\">\n      <g>\n       <use xlink:href=\"#md801f2b082\" x=\"318.001989\" y=\"239.758125\" style=\"fill: #ffffff; stroke: #ffffff; stroke-width: 0.8\"/>\n      </g>\n     </g>\n     <g id=\"text_8\">\n      <!-- 3.5 -->\n      <g style=\"fill: #ffffff\" transform=\"translate(310.050426 254.356562)scale(0.1 -0.1)\">\n       <use xlink:href=\"#DejaVuSans-33\"/>\n       <use xlink:href=\"#DejaVuSans-2e\" x=\"63.623047\"/>\n       <use xlink:href=\"#DejaVuSans-35\" x=\"95.410156\"/>\n      </g>\n     </g>\n    </g>\n    <g id=\"xtick_9\">\n     <g id=\"line2d_9\">\n      <g>\n       <use xlink:href=\"#md801f2b082\" x=\"356.047443\" y=\"239.758125\" style=\"fill: #ffffff; stroke: #ffffff; stroke-width: 0.8\"/>\n      </g>\n     </g>\n     <g id=\"text_9\">\n      <!-- 4.0 -->\n      <g style=\"fill: #ffffff\" transform=\"translate(348.095881 254.356562)scale(0.1 -0.1)\">\n       <defs>\n        <path id=\"DejaVuSans-34\" d=\"M 2419 4116 \nL 825 1625 \nL 2419 1625 \nL 2419 4116 \nz\nM 2253 4666 \nL 3047 4666 \nL 3047 1625 \nL 3713 1625 \nL 3713 1100 \nL 3047 1100 \nL 3047 0 \nL 2419 0 \nL 2419 1100 \nL 313 1100 \nL 313 1709 \nL 2253 4666 \nz\n\" transform=\"scale(0.015625)\"/>\n       </defs>\n       <use xlink:href=\"#DejaVuSans-34\"/>\n       <use xlink:href=\"#DejaVuSans-2e\" x=\"63.623047\"/>\n       <use xlink:href=\"#DejaVuSans-30\" x=\"95.410156\"/>\n      </g>\n     </g>\n    </g>\n    <g id=\"text_10\">\n     <!-- Epochs -->\n     <g style=\"fill: #ffffff\" transform=\"translate(185.95 268.034687)scale(0.1 -0.1)\">\n      <defs>\n       <path id=\"DejaVuSans-45\" d=\"M 628 4666 \nL 3578 4666 \nL 3578 4134 \nL 1259 4134 \nL 1259 2753 \nL 3481 2753 \nL 3481 2222 \nL 1259 2222 \nL 1259 531 \nL 3634 531 \nL 3634 0 \nL 628 0 \nL 628 4666 \nz\n\" transform=\"scale(0.015625)\"/>\n       <path id=\"DejaVuSans-70\" d=\"M 1159 525 \nL 1159 -1331 \nL 581 -1331 \nL 581 3500 \nL 1159 3500 \nL 1159 2969 \nQ 1341 3281 1617 3432 \nQ 1894 3584 2278 3584 \nQ 2916 3584 3314 3078 \nQ 3713 2572 3713 1747 \nQ 3713 922 3314 415 \nQ 2916 -91 2278 -91 \nQ 1894 -91 1617 61 \nQ 1341 213 1159 525 \nz\nM 3116 1747 \nQ 3116 2381 2855 2742 \nQ 2594 3103 2138 3103 \nQ 1681 3103 1420 2742 \nQ 1159 2381 1159 1747 \nQ 1159 1113 1420 752 \nQ 1681 391 2138 391 \nQ 2594 391 2855 752 \nQ 3116 1113 3116 1747 \nz\n\" transform=\"scale(0.015625)\"/>\n       <path id=\"DejaVuSans-6f\" d=\"M 1959 3097 \nQ 1497 3097 1228 2736 \nQ 959 2375 959 1747 \nQ 959 1119 1226 758 \nQ 1494 397 1959 397 \nQ 2419 397 2687 759 \nQ 2956 1122 2956 1747 \nQ 2956 2369 2687 2733 \nQ 2419 3097 1959 3097 \nz\nM 1959 3584 \nQ 2709 3584 3137 3096 \nQ 3566 2609 3566 1747 \nQ 3566 888 3137 398 \nQ 2709 -91 1959 -91 \nQ 1206 -91 779 398 \nQ 353 888 353 1747 \nQ 353 2609 779 3096 \nQ 1206 3584 1959 3584 \nz\n\" transform=\"scale(0.015625)\"/>\n       <path id=\"DejaVuSans-63\" d=\"M 3122 3366 \nL 3122 2828 \nQ 2878 2963 2633 3030 \nQ 2388 3097 2138 3097 \nQ 1578 3097 1268 2742 \nQ 959 2388 959 1747 \nQ 959 1106 1268 751 \nQ 1578 397 2138 397 \nQ 2388 397 2633 464 \nQ 2878 531 3122 666 \nL 3122 134 \nQ 2881 22 2623 -34 \nQ 2366 -91 2075 -91 \nQ 1284 -91 818 406 \nQ 353 903 353 1747 \nQ 353 2603 823 3093 \nQ 1294 3584 2113 3584 \nQ 2378 3584 2631 3529 \nQ 2884 3475 3122 3366 \nz\n\" transform=\"scale(0.015625)\"/>\n       <path id=\"DejaVuSans-68\" d=\"M 3513 2113 \nL 3513 0 \nL 2938 0 \nL 2938 2094 \nQ 2938 2591 2744 2837 \nQ 2550 3084 2163 3084 \nQ 1697 3084 1428 2787 \nQ 1159 2491 1159 1978 \nL 1159 0 \nL 581 0 \nL 581 4863 \nL 1159 4863 \nL 1159 2956 \nQ 1366 3272 1645 3428 \nQ 1925 3584 2291 3584 \nQ 2894 3584 3203 3211 \nQ 3513 2838 3513 2113 \nz\n\" transform=\"scale(0.015625)\"/>\n       <path id=\"DejaVuSans-73\" d=\"M 2834 3397 \nL 2834 2853 \nQ 2591 2978 2328 3040 \nQ 2066 3103 1784 3103 \nQ 1356 3103 1142 2972 \nQ 928 2841 928 2578 \nQ 928 2378 1081 2264 \nQ 1234 2150 1697 2047 \nL 1894 2003 \nQ 2506 1872 2764 1633 \nQ 3022 1394 3022 966 \nQ 3022 478 2636 193 \nQ 2250 -91 1575 -91 \nQ 1294 -91 989 -36 \nQ 684 19 347 128 \nL 347 722 \nQ 666 556 975 473 \nQ 1284 391 1588 391 \nQ 1994 391 2212 530 \nQ 2431 669 2431 922 \nQ 2431 1156 2273 1281 \nQ 2116 1406 1581 1522 \nL 1381 1569 \nQ 847 1681 609 1914 \nQ 372 2147 372 2553 \nQ 372 3047 722 3315 \nQ 1072 3584 1716 3584 \nQ 2034 3584 2315 3537 \nQ 2597 3491 2834 3397 \nz\n\" transform=\"scale(0.015625)\"/>\n      </defs>\n      <use xlink:href=\"#DejaVuSans-45\"/>\n      <use xlink:href=\"#DejaVuSans-70\" x=\"63.183594\"/>\n      <use xlink:href=\"#DejaVuSans-6f\" x=\"126.660156\"/>\n      <use xlink:href=\"#DejaVuSans-63\" x=\"187.841797\"/>\n      <use xlink:href=\"#DejaVuSans-68\" x=\"242.822266\"/>\n      <use xlink:href=\"#DejaVuSans-73\" x=\"306.201172\"/>\n     </g>\n    </g>\n   </g>\n   <g id=\"matplotlib.axis_2\">\n    <g id=\"ytick_1\">\n     <g id=\"line2d_10\">\n      <defs>\n       <path id=\"m2ec7f9fc61\" d=\"M 0 0 \nL -3.5 0 \n\" style=\"stroke: #ffffff; stroke-width: 0.8\"/>\n      </defs>\n      <g>\n       <use xlink:href=\"#m2ec7f9fc61\" x=\"36.465625\" y=\"228.809986\" style=\"fill: #ffffff; stroke: #ffffff; stroke-width: 0.8\"/>\n      </g>\n     </g>\n     <g id=\"text_11\">\n      <!-- 0.25 -->\n      <g style=\"fill: #ffffff\" transform=\"translate(7.2 232.609205)scale(0.1 -0.1)\">\n       <use xlink:href=\"#DejaVuSans-30\"/>\n       <use xlink:href=\"#DejaVuSans-2e\" x=\"63.623047\"/>\n       <use xlink:href=\"#DejaVuSans-32\" x=\"95.410156\"/>\n       <use xlink:href=\"#DejaVuSans-35\" x=\"159.033203\"/>\n      </g>\n     </g>\n    </g>\n    <g id=\"ytick_2\">\n     <g id=\"line2d_11\">\n      <g>\n       <use xlink:href=\"#m2ec7f9fc61\" x=\"36.465625\" y=\"201.475723\" style=\"fill: #ffffff; stroke: #ffffff; stroke-width: 0.8\"/>\n      </g>\n     </g>\n     <g id=\"text_12\">\n      <!-- 0.30 -->\n      <g style=\"fill: #ffffff\" transform=\"translate(7.2 205.274942)scale(0.1 -0.1)\">\n       <use xlink:href=\"#DejaVuSans-30\"/>\n       <use xlink:href=\"#DejaVuSans-2e\" x=\"63.623047\"/>\n       <use xlink:href=\"#DejaVuSans-33\" x=\"95.410156\"/>\n       <use xlink:href=\"#DejaVuSans-30\" x=\"159.033203\"/>\n      </g>\n     </g>\n    </g>\n    <g id=\"ytick_3\">\n     <g id=\"line2d_12\">\n      <g>\n       <use xlink:href=\"#m2ec7f9fc61\" x=\"36.465625\" y=\"174.141461\" style=\"fill: #ffffff; stroke: #ffffff; stroke-width: 0.8\"/>\n      </g>\n     </g>\n     <g id=\"text_13\">\n      <!-- 0.35 -->\n      <g style=\"fill: #ffffff\" transform=\"translate(7.2 177.940679)scale(0.1 -0.1)\">\n       <use xlink:href=\"#DejaVuSans-30\"/>\n       <use xlink:href=\"#DejaVuSans-2e\" x=\"63.623047\"/>\n       <use xlink:href=\"#DejaVuSans-33\" x=\"95.410156\"/>\n       <use xlink:href=\"#DejaVuSans-35\" x=\"159.033203\"/>\n      </g>\n     </g>\n    </g>\n    <g id=\"ytick_4\">\n     <g id=\"line2d_13\">\n      <g>\n       <use xlink:href=\"#m2ec7f9fc61\" x=\"36.465625\" y=\"146.807198\" style=\"fill: #ffffff; stroke: #ffffff; stroke-width: 0.8\"/>\n      </g>\n     </g>\n     <g id=\"text_14\">\n      <!-- 0.40 -->\n      <g style=\"fill: #ffffff\" transform=\"translate(7.2 150.606417)scale(0.1 -0.1)\">\n       <use xlink:href=\"#DejaVuSans-30\"/>\n       <use xlink:href=\"#DejaVuSans-2e\" x=\"63.623047\"/>\n       <use xlink:href=\"#DejaVuSans-34\" x=\"95.410156\"/>\n       <use xlink:href=\"#DejaVuSans-30\" x=\"159.033203\"/>\n      </g>\n     </g>\n    </g>\n    <g id=\"ytick_5\">\n     <g id=\"line2d_14\">\n      <g>\n       <use xlink:href=\"#m2ec7f9fc61\" x=\"36.465625\" y=\"119.472935\" style=\"fill: #ffffff; stroke: #ffffff; stroke-width: 0.8\"/>\n      </g>\n     </g>\n     <g id=\"text_15\">\n      <!-- 0.45 -->\n      <g style=\"fill: #ffffff\" transform=\"translate(7.2 123.272154)scale(0.1 -0.1)\">\n       <use xlink:href=\"#DejaVuSans-30\"/>\n       <use xlink:href=\"#DejaVuSans-2e\" x=\"63.623047\"/>\n       <use xlink:href=\"#DejaVuSans-34\" x=\"95.410156\"/>\n       <use xlink:href=\"#DejaVuSans-35\" x=\"159.033203\"/>\n      </g>\n     </g>\n    </g>\n    <g id=\"ytick_6\">\n     <g id=\"line2d_15\">\n      <g>\n       <use xlink:href=\"#m2ec7f9fc61\" x=\"36.465625\" y=\"92.138672\" style=\"fill: #ffffff; stroke: #ffffff; stroke-width: 0.8\"/>\n      </g>\n     </g>\n     <g id=\"text_16\">\n      <!-- 0.50 -->\n      <g style=\"fill: #ffffff\" transform=\"translate(7.2 95.937891)scale(0.1 -0.1)\">\n       <use xlink:href=\"#DejaVuSans-30\"/>\n       <use xlink:href=\"#DejaVuSans-2e\" x=\"63.623047\"/>\n       <use xlink:href=\"#DejaVuSans-35\" x=\"95.410156\"/>\n       <use xlink:href=\"#DejaVuSans-30\" x=\"159.033203\"/>\n      </g>\n     </g>\n    </g>\n    <g id=\"ytick_7\">\n     <g id=\"line2d_16\">\n      <g>\n       <use xlink:href=\"#m2ec7f9fc61\" x=\"36.465625\" y=\"64.804409\" style=\"fill: #ffffff; stroke: #ffffff; stroke-width: 0.8\"/>\n      </g>\n     </g>\n     <g id=\"text_17\">\n      <!-- 0.55 -->\n      <g style=\"fill: #ffffff\" transform=\"translate(7.2 68.603628)scale(0.1 -0.1)\">\n       <use xlink:href=\"#DejaVuSans-30\"/>\n       <use xlink:href=\"#DejaVuSans-2e\" x=\"63.623047\"/>\n       <use xlink:href=\"#DejaVuSans-35\" x=\"95.410156\"/>\n       <use xlink:href=\"#DejaVuSans-35\" x=\"159.033203\"/>\n      </g>\n     </g>\n    </g>\n    <g id=\"ytick_8\">\n     <g id=\"line2d_17\">\n      <g>\n       <use xlink:href=\"#m2ec7f9fc61\" x=\"36.465625\" y=\"37.470147\" style=\"fill: #ffffff; stroke: #ffffff; stroke-width: 0.8\"/>\n      </g>\n     </g>\n     <g id=\"text_18\">\n      <!-- 0.60 -->\n      <g style=\"fill: #ffffff\" transform=\"translate(7.2 41.269365)scale(0.1 -0.1)\">\n       <defs>\n        <path id=\"DejaVuSans-36\" d=\"M 2113 2584 \nQ 1688 2584 1439 2293 \nQ 1191 2003 1191 1497 \nQ 1191 994 1439 701 \nQ 1688 409 2113 409 \nQ 2538 409 2786 701 \nQ 3034 994 3034 1497 \nQ 3034 2003 2786 2293 \nQ 2538 2584 2113 2584 \nz\nM 3366 4563 \nL 3366 3988 \nQ 3128 4100 2886 4159 \nQ 2644 4219 2406 4219 \nQ 1781 4219 1451 3797 \nQ 1122 3375 1075 2522 \nQ 1259 2794 1537 2939 \nQ 1816 3084 2150 3084 \nQ 2853 3084 3261 2657 \nQ 3669 2231 3669 1497 \nQ 3669 778 3244 343 \nQ 2819 -91 2113 -91 \nQ 1303 -91 875 529 \nQ 447 1150 447 2328 \nQ 447 3434 972 4092 \nQ 1497 4750 2381 4750 \nQ 2619 4750 2861 4703 \nQ 3103 4656 3366 4563 \nz\n\" transform=\"scale(0.015625)\"/>\n       </defs>\n       <use xlink:href=\"#DejaVuSans-30\"/>\n       <use xlink:href=\"#DejaVuSans-2e\" x=\"63.623047\"/>\n       <use xlink:href=\"#DejaVuSans-36\" x=\"95.410156\"/>\n       <use xlink:href=\"#DejaVuSans-30\" x=\"159.033203\"/>\n      </g>\n     </g>\n    </g>\n   </g>\n   <g id=\"line2d_18\">\n    <path d=\"M 51.683807 229.874489 \nL 127.774716 112.815276 \nL 203.865625 75.575727 \nL 279.956534 50.605041 \nL 356.047443 32.201761 \n\" clip-path=\"url(#p0572d76ce6)\" style=\"fill: none; stroke: #8dd3c7; stroke-width: 1.5; stroke-linecap: square\"/>\n   </g>\n   <g id=\"line2d_19\">\n    <path d=\"M 51.683807 144.403873 \nL 127.774716 111.683828 \nL 203.865625 100.535854 \nL 279.956534 99.522396 \nL 356.047443 93.15213 \n\" clip-path=\"url(#p0572d76ce6)\" style=\"fill: none; stroke: #feffb3; stroke-width: 1.5; stroke-linecap: square\"/>\n   </g>\n   <g id=\"patch_3\">\n    <path d=\"M 36.465625 239.758125 \nL 36.465625 22.318125 \n\" style=\"fill: none; stroke: #ffffff; stroke-width: 0.8; stroke-linejoin: miter; stroke-linecap: square\"/>\n   </g>\n   <g id=\"patch_4\">\n    <path d=\"M 371.265625 239.758125 \nL 371.265625 22.318125 \n\" style=\"fill: none; stroke: #ffffff; stroke-width: 0.8; stroke-linejoin: miter; stroke-linecap: square\"/>\n   </g>\n   <g id=\"patch_5\">\n    <path d=\"M 36.465625 239.758125 \nL 371.265625 239.758125 \n\" style=\"fill: none; stroke: #ffffff; stroke-width: 0.8; stroke-linejoin: miter; stroke-linecap: square\"/>\n   </g>\n   <g id=\"patch_6\">\n    <path d=\"M 36.465625 22.318125 \nL 371.265625 22.318125 \n\" style=\"fill: none; stroke: #ffffff; stroke-width: 0.8; stroke-linejoin: miter; stroke-linecap: square\"/>\n   </g>\n   <g id=\"text_19\">\n    <!-- Accuracy -->\n    <g style=\"fill: #ffffff\" transform=\"translate(176.471875 16.318125)scale(0.12 -0.12)\">\n     <defs>\n      <path id=\"DejaVuSans-41\" d=\"M 2188 4044 \nL 1331 1722 \nL 3047 1722 \nL 2188 4044 \nz\nM 1831 4666 \nL 2547 4666 \nL 4325 0 \nL 3669 0 \nL 3244 1197 \nL 1141 1197 \nL 716 0 \nL 50 0 \nL 1831 4666 \nz\n\" transform=\"scale(0.015625)\"/>\n      <path id=\"DejaVuSans-75\" d=\"M 544 1381 \nL 544 3500 \nL 1119 3500 \nL 1119 1403 \nQ 1119 906 1312 657 \nQ 1506 409 1894 409 \nQ 2359 409 2629 706 \nQ 2900 1003 2900 1516 \nL 2900 3500 \nL 3475 3500 \nL 3475 0 \nL 2900 0 \nL 2900 538 \nQ 2691 219 2414 64 \nQ 2138 -91 1772 -91 \nQ 1169 -91 856 284 \nQ 544 659 544 1381 \nz\nM 1991 3584 \nL 1991 3584 \nz\n\" transform=\"scale(0.015625)\"/>\n      <path id=\"DejaVuSans-72\" d=\"M 2631 2963 \nQ 2534 3019 2420 3045 \nQ 2306 3072 2169 3072 \nQ 1681 3072 1420 2755 \nQ 1159 2438 1159 1844 \nL 1159 0 \nL 581 0 \nL 581 3500 \nL 1159 3500 \nL 1159 2956 \nQ 1341 3275 1631 3429 \nQ 1922 3584 2338 3584 \nQ 2397 3584 2469 3576 \nQ 2541 3569 2628 3553 \nL 2631 2963 \nz\n\" transform=\"scale(0.015625)\"/>\n      <path id=\"DejaVuSans-61\" d=\"M 2194 1759 \nQ 1497 1759 1228 1600 \nQ 959 1441 959 1056 \nQ 959 750 1161 570 \nQ 1363 391 1709 391 \nQ 2188 391 2477 730 \nQ 2766 1069 2766 1631 \nL 2766 1759 \nL 2194 1759 \nz\nM 3341 1997 \nL 3341 0 \nL 2766 0 \nL 2766 531 \nQ 2569 213 2275 61 \nQ 1981 -91 1556 -91 \nQ 1019 -91 701 211 \nQ 384 513 384 1019 \nQ 384 1609 779 1909 \nQ 1175 2209 1959 2209 \nL 2766 2209 \nL 2766 2266 \nQ 2766 2663 2505 2880 \nQ 2244 3097 1772 3097 \nQ 1472 3097 1187 3025 \nQ 903 2953 641 2809 \nL 641 3341 \nQ 956 3463 1253 3523 \nQ 1550 3584 1831 3584 \nQ 2591 3584 2966 3190 \nQ 3341 2797 3341 1997 \nz\n\" transform=\"scale(0.015625)\"/>\n      <path id=\"DejaVuSans-79\" d=\"M 2059 -325 \nQ 1816 -950 1584 -1140 \nQ 1353 -1331 966 -1331 \nL 506 -1331 \nL 506 -850 \nL 844 -850 \nQ 1081 -850 1212 -737 \nQ 1344 -625 1503 -206 \nL 1606 56 \nL 191 3500 \nL 800 3500 \nL 1894 763 \nL 2988 3500 \nL 3597 3500 \nL 2059 -325 \nz\n\" transform=\"scale(0.015625)\"/>\n     </defs>\n     <use xlink:href=\"#DejaVuSans-41\"/>\n     <use xlink:href=\"#DejaVuSans-63\" x=\"66.658203\"/>\n     <use xlink:href=\"#DejaVuSans-63\" x=\"121.638672\"/>\n     <use xlink:href=\"#DejaVuSans-75\" x=\"176.619141\"/>\n     <use xlink:href=\"#DejaVuSans-72\" x=\"239.998047\"/>\n     <use xlink:href=\"#DejaVuSans-61\" x=\"281.111328\"/>\n     <use xlink:href=\"#DejaVuSans-63\" x=\"342.390625\"/>\n     <use xlink:href=\"#DejaVuSans-79\" x=\"397.371094\"/>\n    </g>\n   </g>\n   <g id=\"legend_1\">\n    <g id=\"patch_7\">\n     <path d=\"M 43.465625 60.230625 \nL 164.323438 60.230625 \nQ 166.323438 60.230625 166.323438 58.230625 \nL 166.323438 29.318125 \nQ 166.323438 27.318125 164.323438 27.318125 \nL 43.465625 27.318125 \nQ 41.465625 27.318125 41.465625 29.318125 \nL 41.465625 58.230625 \nQ 41.465625 60.230625 43.465625 60.230625 \nz\n\" style=\"opacity: 0.8; stroke: #cccccc; stroke-linejoin: miter\"/>\n    </g>\n    <g id=\"line2d_20\">\n     <path d=\"M 45.465625 35.416562 \nL 55.465625 35.416562 \nL 65.465625 35.416562 \n\" style=\"fill: none; stroke: #8dd3c7; stroke-width: 1.5; stroke-linecap: square\"/>\n    </g>\n    <g id=\"text_20\">\n     <!-- training_accuracy -->\n     <g style=\"fill: #ffffff\" transform=\"translate(73.465625 38.916562)scale(0.1 -0.1)\">\n      <defs>\n       <path id=\"DejaVuSans-74\" d=\"M 1172 4494 \nL 1172 3500 \nL 2356 3500 \nL 2356 3053 \nL 1172 3053 \nL 1172 1153 \nQ 1172 725 1289 603 \nQ 1406 481 1766 481 \nL 2356 481 \nL 2356 0 \nL 1766 0 \nQ 1100 0 847 248 \nQ 594 497 594 1153 \nL 594 3053 \nL 172 3053 \nL 172 3500 \nL 594 3500 \nL 594 4494 \nL 1172 4494 \nz\n\" transform=\"scale(0.015625)\"/>\n       <path id=\"DejaVuSans-69\" d=\"M 603 3500 \nL 1178 3500 \nL 1178 0 \nL 603 0 \nL 603 3500 \nz\nM 603 4863 \nL 1178 4863 \nL 1178 4134 \nL 603 4134 \nL 603 4863 \nz\n\" transform=\"scale(0.015625)\"/>\n       <path id=\"DejaVuSans-6e\" d=\"M 3513 2113 \nL 3513 0 \nL 2938 0 \nL 2938 2094 \nQ 2938 2591 2744 2837 \nQ 2550 3084 2163 3084 \nQ 1697 3084 1428 2787 \nQ 1159 2491 1159 1978 \nL 1159 0 \nL 581 0 \nL 581 3500 \nL 1159 3500 \nL 1159 2956 \nQ 1366 3272 1645 3428 \nQ 1925 3584 2291 3584 \nQ 2894 3584 3203 3211 \nQ 3513 2838 3513 2113 \nz\n\" transform=\"scale(0.015625)\"/>\n       <path id=\"DejaVuSans-67\" d=\"M 2906 1791 \nQ 2906 2416 2648 2759 \nQ 2391 3103 1925 3103 \nQ 1463 3103 1205 2759 \nQ 947 2416 947 1791 \nQ 947 1169 1205 825 \nQ 1463 481 1925 481 \nQ 2391 481 2648 825 \nQ 2906 1169 2906 1791 \nz\nM 3481 434 \nQ 3481 -459 3084 -895 \nQ 2688 -1331 1869 -1331 \nQ 1566 -1331 1297 -1286 \nQ 1028 -1241 775 -1147 \nL 775 -588 \nQ 1028 -725 1275 -790 \nQ 1522 -856 1778 -856 \nQ 2344 -856 2625 -561 \nQ 2906 -266 2906 331 \nL 2906 616 \nQ 2728 306 2450 153 \nQ 2172 0 1784 0 \nQ 1141 0 747 490 \nQ 353 981 353 1791 \nQ 353 2603 747 3093 \nQ 1141 3584 1784 3584 \nQ 2172 3584 2450 3431 \nQ 2728 3278 2906 2969 \nL 2906 3500 \nL 3481 3500 \nL 3481 434 \nz\n\" transform=\"scale(0.015625)\"/>\n       <path id=\"DejaVuSans-5f\" d=\"M 3263 -1063 \nL 3263 -1509 \nL -63 -1509 \nL -63 -1063 \nL 3263 -1063 \nz\n\" transform=\"scale(0.015625)\"/>\n      </defs>\n      <use xlink:href=\"#DejaVuSans-74\"/>\n      <use xlink:href=\"#DejaVuSans-72\" x=\"39.208984\"/>\n      <use xlink:href=\"#DejaVuSans-61\" x=\"80.322266\"/>\n      <use xlink:href=\"#DejaVuSans-69\" x=\"141.601562\"/>\n      <use xlink:href=\"#DejaVuSans-6e\" x=\"169.384766\"/>\n      <use xlink:href=\"#DejaVuSans-69\" x=\"232.763672\"/>\n      <use xlink:href=\"#DejaVuSans-6e\" x=\"260.546875\"/>\n      <use xlink:href=\"#DejaVuSans-67\" x=\"323.925781\"/>\n      <use xlink:href=\"#DejaVuSans-5f\" x=\"387.402344\"/>\n      <use xlink:href=\"#DejaVuSans-61\" x=\"437.402344\"/>\n      <use xlink:href=\"#DejaVuSans-63\" x=\"498.681641\"/>\n      <use xlink:href=\"#DejaVuSans-63\" x=\"553.662109\"/>\n      <use xlink:href=\"#DejaVuSans-75\" x=\"608.642578\"/>\n      <use xlink:href=\"#DejaVuSans-72\" x=\"672.021484\"/>\n      <use xlink:href=\"#DejaVuSans-61\" x=\"713.134766\"/>\n      <use xlink:href=\"#DejaVuSans-63\" x=\"774.414062\"/>\n      <use xlink:href=\"#DejaVuSans-79\" x=\"829.394531\"/>\n     </g>\n    </g>\n    <g id=\"line2d_21\">\n     <path d=\"M 45.465625 50.372812 \nL 55.465625 50.372812 \nL 65.465625 50.372812 \n\" style=\"fill: none; stroke: #feffb3; stroke-width: 1.5; stroke-linecap: square\"/>\n    </g>\n    <g id=\"text_21\">\n     <!-- val_accuracy -->\n     <g style=\"fill: #ffffff\" transform=\"translate(73.465625 53.872812)scale(0.1 -0.1)\">\n      <defs>\n       <path id=\"DejaVuSans-76\" d=\"M 191 3500 \nL 800 3500 \nL 1894 563 \nL 2988 3500 \nL 3597 3500 \nL 2284 0 \nL 1503 0 \nL 191 3500 \nz\n\" transform=\"scale(0.015625)\"/>\n       <path id=\"DejaVuSans-6c\" d=\"M 603 4863 \nL 1178 4863 \nL 1178 0 \nL 603 0 \nL 603 4863 \nz\n\" transform=\"scale(0.015625)\"/>\n      </defs>\n      <use xlink:href=\"#DejaVuSans-76\"/>\n      <use xlink:href=\"#DejaVuSans-61\" x=\"59.179688\"/>\n      <use xlink:href=\"#DejaVuSans-6c\" x=\"120.458984\"/>\n      <use xlink:href=\"#DejaVuSans-5f\" x=\"148.242188\"/>\n      <use xlink:href=\"#DejaVuSans-61\" x=\"198.242188\"/>\n      <use xlink:href=\"#DejaVuSans-63\" x=\"259.521484\"/>\n      <use xlink:href=\"#DejaVuSans-63\" x=\"314.501953\"/>\n      <use xlink:href=\"#DejaVuSans-75\" x=\"369.482422\"/>\n      <use xlink:href=\"#DejaVuSans-72\" x=\"432.861328\"/>\n      <use xlink:href=\"#DejaVuSans-61\" x=\"473.974609\"/>\n      <use xlink:href=\"#DejaVuSans-63\" x=\"535.253906\"/>\n      <use xlink:href=\"#DejaVuSans-79\" x=\"590.234375\"/>\n     </g>\n    </g>\n   </g>\n  </g>\n </g>\n <defs>\n  <clipPath id=\"p0572d76ce6\">\n   <rect x=\"36.465625\" y=\"22.318125\" width=\"334.8\" height=\"217.44\"/>\n  </clipPath>\n </defs>\n</svg>\n",
            "text/plain": [
              "<Figure size 432x288 with 1 Axes>"
            ]
          },
          "metadata": {},
          "output_type": "display_data"
        }
      ],
      "source": [
        "plot_loss_curves(history_all_classes_10_percent)"
      ]
    },
    {
      "cell_type": "markdown",
      "metadata": {},
      "source": [
        "> 🤔 **Question:** What do these curves suggest? Hint: Ideally, the two curves should be pretty similar to each other, if not it may suggest that our model is overfitting (performing too well on the training data and not generalizing to unseen data)."
      ]
    },
    {
      "cell_type": "markdown",
      "metadata": {},
      "source": [
        "## Fine-tuning"
      ]
    },
    {
      "cell_type": "code",
      "execution_count": 19,
      "metadata": {},
      "outputs": [],
      "source": [
        "# Unfreeze all of the layers in the base model\n",
        "base_model.trainable = True\n",
        "\n",
        "# Refreeze verey layer except the last 5\n",
        "for layer in base_model.layers[:-5]:\n",
        "    layer.trainable = False"
      ]
    },
    {
      "cell_type": "code",
      "execution_count": null,
      "metadata": {},
      "outputs": [],
      "source": [
        "# Recompile model with lower learning rate (it's typically best practive to lower the learning rate when fine-tuning).\n",
        "model.compile(\n",
        "    loss=\"categorical_crossentropy\",\n",
        "    optimizer=tf.keras.optimizers.Adam(lr=0.0001), # lr lowered by 10x\n",
        "    metrics=[\"accuracy\"]\n",
        ")"
      ]
    },
    {
      "cell_type": "code",
      "execution_count": 21,
      "metadata": {},
      "outputs": [
        {
          "name": "stdout",
          "output_type": "stream",
          "text": [
            "input_layer True\n",
            "data_augmentation True\n",
            "efficientnetb0 True\n",
            "global_avg_pool_layer True\n",
            "output_layer True\n"
          ]
        }
      ],
      "source": [
        "# What layers in the model are trainable?\n",
        "for layer in model.layers:\n",
        "    print(layer.name, layer.trainable)"
      ]
    },
    {
      "cell_type": "code",
      "execution_count": 22,
      "metadata": {},
      "outputs": [
        {
          "name": "stdout",
          "output_type": "stream",
          "text": [
            "0 input_1 False\n",
            "1 rescaling False\n",
            "2 normalization False\n",
            "3 stem_conv_pad False\n",
            "4 stem_conv False\n",
            "5 stem_bn False\n",
            "6 stem_activation False\n",
            "7 block1a_dwconv False\n",
            "8 block1a_bn False\n",
            "9 block1a_activation False\n",
            "10 block1a_se_squeeze False\n",
            "11 block1a_se_reshape False\n",
            "12 block1a_se_reduce False\n",
            "13 block1a_se_expand False\n",
            "14 block1a_se_excite False\n",
            "15 block1a_project_conv False\n",
            "16 block1a_project_bn False\n",
            "17 block2a_expand_conv False\n",
            "18 block2a_expand_bn False\n",
            "19 block2a_expand_activation False\n",
            "20 block2a_dwconv_pad False\n",
            "21 block2a_dwconv False\n",
            "22 block2a_bn False\n",
            "23 block2a_activation False\n",
            "24 block2a_se_squeeze False\n",
            "25 block2a_se_reshape False\n",
            "26 block2a_se_reduce False\n",
            "27 block2a_se_expand False\n",
            "28 block2a_se_excite False\n",
            "29 block2a_project_conv False\n",
            "30 block2a_project_bn False\n",
            "31 block2b_expand_conv False\n",
            "32 block2b_expand_bn False\n",
            "33 block2b_expand_activation False\n",
            "34 block2b_dwconv False\n",
            "35 block2b_bn False\n",
            "36 block2b_activation False\n",
            "37 block2b_se_squeeze False\n",
            "38 block2b_se_reshape False\n",
            "39 block2b_se_reduce False\n",
            "40 block2b_se_expand False\n",
            "41 block2b_se_excite False\n",
            "42 block2b_project_conv False\n",
            "43 block2b_project_bn False\n",
            "44 block2b_drop False\n",
            "45 block2b_add False\n",
            "46 block3a_expand_conv False\n",
            "47 block3a_expand_bn False\n",
            "48 block3a_expand_activation False\n",
            "49 block3a_dwconv_pad False\n",
            "50 block3a_dwconv False\n",
            "51 block3a_bn False\n",
            "52 block3a_activation False\n",
            "53 block3a_se_squeeze False\n",
            "54 block3a_se_reshape False\n",
            "55 block3a_se_reduce False\n",
            "56 block3a_se_expand False\n",
            "57 block3a_se_excite False\n",
            "58 block3a_project_conv False\n",
            "59 block3a_project_bn False\n",
            "60 block3b_expand_conv False\n",
            "61 block3b_expand_bn False\n",
            "62 block3b_expand_activation False\n",
            "63 block3b_dwconv False\n",
            "64 block3b_bn False\n",
            "65 block3b_activation False\n",
            "66 block3b_se_squeeze False\n",
            "67 block3b_se_reshape False\n",
            "68 block3b_se_reduce False\n",
            "69 block3b_se_expand False\n",
            "70 block3b_se_excite False\n",
            "71 block3b_project_conv False\n",
            "72 block3b_project_bn False\n",
            "73 block3b_drop False\n",
            "74 block3b_add False\n",
            "75 block4a_expand_conv False\n",
            "76 block4a_expand_bn False\n",
            "77 block4a_expand_activation False\n",
            "78 block4a_dwconv_pad False\n",
            "79 block4a_dwconv False\n",
            "80 block4a_bn False\n",
            "81 block4a_activation False\n",
            "82 block4a_se_squeeze False\n",
            "83 block4a_se_reshape False\n",
            "84 block4a_se_reduce False\n",
            "85 block4a_se_expand False\n",
            "86 block4a_se_excite False\n",
            "87 block4a_project_conv False\n",
            "88 block4a_project_bn False\n",
            "89 block4b_expand_conv False\n",
            "90 block4b_expand_bn False\n",
            "91 block4b_expand_activation False\n",
            "92 block4b_dwconv False\n",
            "93 block4b_bn False\n",
            "94 block4b_activation False\n",
            "95 block4b_se_squeeze False\n",
            "96 block4b_se_reshape False\n",
            "97 block4b_se_reduce False\n",
            "98 block4b_se_expand False\n",
            "99 block4b_se_excite False\n",
            "100 block4b_project_conv False\n",
            "101 block4b_project_bn False\n",
            "102 block4b_drop False\n",
            "103 block4b_add False\n",
            "104 block4c_expand_conv False\n",
            "105 block4c_expand_bn False\n",
            "106 block4c_expand_activation False\n",
            "107 block4c_dwconv False\n",
            "108 block4c_bn False\n",
            "109 block4c_activation False\n",
            "110 block4c_se_squeeze False\n",
            "111 block4c_se_reshape False\n",
            "112 block4c_se_reduce False\n",
            "113 block4c_se_expand False\n",
            "114 block4c_se_excite False\n",
            "115 block4c_project_conv False\n",
            "116 block4c_project_bn False\n",
            "117 block4c_drop False\n",
            "118 block4c_add False\n",
            "119 block5a_expand_conv False\n",
            "120 block5a_expand_bn False\n",
            "121 block5a_expand_activation False\n",
            "122 block5a_dwconv False\n",
            "123 block5a_bn False\n",
            "124 block5a_activation False\n",
            "125 block5a_se_squeeze False\n",
            "126 block5a_se_reshape False\n",
            "127 block5a_se_reduce False\n",
            "128 block5a_se_expand False\n",
            "129 block5a_se_excite False\n",
            "130 block5a_project_conv False\n",
            "131 block5a_project_bn False\n",
            "132 block5b_expand_conv False\n",
            "133 block5b_expand_bn False\n",
            "134 block5b_expand_activation False\n",
            "135 block5b_dwconv False\n",
            "136 block5b_bn False\n",
            "137 block5b_activation False\n",
            "138 block5b_se_squeeze False\n",
            "139 block5b_se_reshape False\n",
            "140 block5b_se_reduce False\n",
            "141 block5b_se_expand False\n",
            "142 block5b_se_excite False\n",
            "143 block5b_project_conv False\n",
            "144 block5b_project_bn False\n",
            "145 block5b_drop False\n",
            "146 block5b_add False\n",
            "147 block5c_expand_conv False\n",
            "148 block5c_expand_bn False\n",
            "149 block5c_expand_activation False\n",
            "150 block5c_dwconv False\n",
            "151 block5c_bn False\n",
            "152 block5c_activation False\n",
            "153 block5c_se_squeeze False\n",
            "154 block5c_se_reshape False\n",
            "155 block5c_se_reduce False\n",
            "156 block5c_se_expand False\n",
            "157 block5c_se_excite False\n",
            "158 block5c_project_conv False\n",
            "159 block5c_project_bn False\n",
            "160 block5c_drop False\n",
            "161 block5c_add False\n",
            "162 block6a_expand_conv False\n",
            "163 block6a_expand_bn False\n",
            "164 block6a_expand_activation False\n",
            "165 block6a_dwconv_pad False\n",
            "166 block6a_dwconv False\n",
            "167 block6a_bn False\n",
            "168 block6a_activation False\n",
            "169 block6a_se_squeeze False\n",
            "170 block6a_se_reshape False\n",
            "171 block6a_se_reduce False\n",
            "172 block6a_se_expand False\n",
            "173 block6a_se_excite False\n",
            "174 block6a_project_conv False\n",
            "175 block6a_project_bn False\n",
            "176 block6b_expand_conv False\n",
            "177 block6b_expand_bn False\n",
            "178 block6b_expand_activation False\n",
            "179 block6b_dwconv False\n",
            "180 block6b_bn False\n",
            "181 block6b_activation False\n",
            "182 block6b_se_squeeze False\n",
            "183 block6b_se_reshape False\n",
            "184 block6b_se_reduce False\n",
            "185 block6b_se_expand False\n",
            "186 block6b_se_excite False\n",
            "187 block6b_project_conv False\n",
            "188 block6b_project_bn False\n",
            "189 block6b_drop False\n",
            "190 block6b_add False\n",
            "191 block6c_expand_conv False\n",
            "192 block6c_expand_bn False\n",
            "193 block6c_expand_activation False\n",
            "194 block6c_dwconv False\n",
            "195 block6c_bn False\n",
            "196 block6c_activation False\n",
            "197 block6c_se_squeeze False\n",
            "198 block6c_se_reshape False\n",
            "199 block6c_se_reduce False\n",
            "200 block6c_se_expand False\n",
            "201 block6c_se_excite False\n",
            "202 block6c_project_conv False\n",
            "203 block6c_project_bn False\n",
            "204 block6c_drop False\n",
            "205 block6c_add False\n",
            "206 block6d_expand_conv False\n",
            "207 block6d_expand_bn False\n",
            "208 block6d_expand_activation False\n",
            "209 block6d_dwconv False\n",
            "210 block6d_bn False\n",
            "211 block6d_activation False\n",
            "212 block6d_se_squeeze False\n",
            "213 block6d_se_reshape False\n",
            "214 block6d_se_reduce False\n",
            "215 block6d_se_expand False\n",
            "216 block6d_se_excite False\n",
            "217 block6d_project_conv False\n",
            "218 block6d_project_bn False\n",
            "219 block6d_drop False\n",
            "220 block6d_add False\n",
            "221 block7a_expand_conv False\n",
            "222 block7a_expand_bn False\n",
            "223 block7a_expand_activation False\n",
            "224 block7a_dwconv False\n",
            "225 block7a_bn False\n",
            "226 block7a_activation False\n",
            "227 block7a_se_squeeze False\n",
            "228 block7a_se_reshape False\n",
            "229 block7a_se_reduce False\n",
            "230 block7a_se_expand False\n",
            "231 block7a_se_excite False\n",
            "232 block7a_project_conv True\n",
            "233 block7a_project_bn True\n",
            "234 top_conv True\n",
            "235 top_bn True\n",
            "236 top_activation True\n"
          ]
        }
      ],
      "source": [
        "# Check which layers are trainable in our base model?\n",
        "for layer_number, layer in enumerate(model.layers[2].layers):\n",
        "    print(layer_number, layer.name, layer.trainable)"
      ]
    },
    {
      "cell_type": "code",
      "execution_count": 25,
      "metadata": {},
      "outputs": [
        {
          "name": "stdout",
          "output_type": "stream",
          "text": [
            "Saving TensorBoard log files to: transfer_learning/all_classes_10_percent_fine_tune/20220628-054812\n",
            "Epoch 5/10\n"
          ]
        },
        {
          "name": "stderr",
          "output_type": "stream",
          "text": [
            "c:\\Users\\gutsc\\anaconda3\\envs\\udemy_tensorflow\\lib\\site-packages\\keras\\utils\\generic_utils.py:494: CustomMaskWarning: Custom mask layers require a config and must override get_config. When loading, the custom mask layer must be passed to the custom_objects argument.\n",
            "  warnings.warn('Custom mask layers require a config and must override '\n"
          ]
        },
        {
          "name": "stdout",
          "output_type": "stream",
          "text": [
            "237/237 [==============================] - 56s 237ms/step - loss: 1.4791 - accuracy: 0.6364 - val_loss: 1.9213 - val_accuracy: 0.4966\n",
            "Epoch 6/10\n",
            "237/237 [==============================] - 53s 225ms/step - loss: 1.3873 - accuracy: 0.6562 - val_loss: 1.8971 - val_accuracy: 0.5026\n",
            "Epoch 7/10\n",
            "237/237 [==============================] - 50s 212ms/step - loss: 1.3028 - accuracy: 0.6739 - val_loss: 1.9051 - val_accuracy: 0.4950\n",
            "Epoch 8/10\n",
            "237/237 [==============================] - 50s 210ms/step - loss: 1.2246 - accuracy: 0.7011 - val_loss: 1.9102 - val_accuracy: 0.4981\n",
            "Epoch 9/10\n",
            "237/237 [==============================] - 49s 208ms/step - loss: 1.1496 - accuracy: 0.7127 - val_loss: 1.8600 - val_accuracy: 0.5114\n",
            "Epoch 10/10\n",
            "237/237 [==============================] - 47s 198ms/step - loss: 1.0866 - accuracy: 0.7430 - val_loss: 1.8536 - val_accuracy: 0.5159\n"
          ]
        }
      ],
      "source": [
        "# Fine-tune for 5 more epochs\n",
        "fine_tune_epochs = 10 # model has already done 5 epochs, this is the total number of epochs we're after (5 + 5)\n",
        "\n",
        "# Fit the model\n",
        "history_all_classes_10_percent_fine_tuned = model.fit(\n",
        "    train_data_all_10_percent,\n",
        "    epochs=fine_tune_epochs,\n",
        "    steps_per_epoch=len(train_data_all_10_percent), # not neccessary according to a question in udemy. \n",
        "    validation_data=test_data,\n",
        "    validation_steps=int(0.15*len(test_data)),\n",
        "    initial_epoch=history_all_classes_10_percent.epoch[-1],\n",
        "    callbacks=[\n",
        "        create_tensorboard_callback(\n",
        "            dir_name=\"transfer_learning\",\n",
        "            experiment_name=\"all_classes_10_percent_fine_tune\"\n",
        "        )\n",
        "    ]\n",
        ")"
      ]
    },
    {
      "cell_type": "code",
      "execution_count": 29,
      "metadata": {},
      "outputs": [
        {
          "name": "stdout",
          "output_type": "stream",
          "text": [
            "790/790 [==============================] - 71s 89ms/step - loss: 1.6370 - accuracy: 0.5657\n"
          ]
        },
        {
          "data": {
            "text/plain": [
              "[1.6370251178741455, 0.565742552280426]"
            ]
          },
          "execution_count": 29,
          "metadata": {},
          "output_type": "execute_result"
        }
      ],
      "source": [
        "# Evaluate on the whole test data\n",
        "feature_extraction_results = model.evaluate(test_data)\n",
        "feature_extraction_results"
      ]
    },
    {
      "cell_type": "code",
      "execution_count": 31,
      "metadata": {},
      "outputs": [
        {
          "data": {
            "image/png": "[encoded data removed]",
            "image/svg+xml": "<?xml version=\"1.0\" encoding=\"utf-8\" standalone=\"no\"?>\n<!DOCTYPE svg PUBLIC \"-//W3C//DTD SVG 1.1//EN\"\n  \"http://www.w3.org/Graphics/SVG/1.1/DTD/svg11.dtd\">\n<svg xmlns:xlink=\"http://www.w3.org/1999/xlink\" width=\"483.703125pt\" height=\"494.754375pt\" viewBox=\"0 0 483.703125 494.754375\" xmlns=\"http://www.w3.org/2000/svg\" version=\"1.1\">\n <metadata>\n  <rdf:RDF xmlns:dc=\"http://purl.org/dc/elements/1.1/\" xmlns:cc=\"http://creativecommons.org/ns#\" xmlns:rdf=\"http://www.w3.org/1999/02/22-rdf-syntax-ns#\">\n   <cc:Work>\n    <dc:type rdf:resource=\"http://purl.org/dc/dcmitype/StillImage\"/>\n    <dc:date>2022-06-28T05:59:35.676271</dc:date>\n    <dc:format>image/svg+xml</dc:format>\n    <dc:creator>\n     <cc:Agent>\n      <dc:title>Matplotlib v3.5.1, https://matplotlib.org/</dc:title>\n     </cc:Agent>\n    </dc:creator>\n   </cc:Work>\n  </rdf:RDF>\n </metadata>\n <defs>\n  <style type=\"text/css\">*{stroke-linejoin: round; stroke-linecap: butt}</style>\n </defs>\n <g id=\"figure_1\">\n  <g id=\"patch_1\">\n   <path d=\"M 0 494.754375 \nL 483.703125 494.754375 \nL 483.703125 0 \nL 0 0 \nz\n\"/>\n  </g>\n  <g id=\"axes_1\">\n   <g id=\"patch_2\">\n    <path d=\"M 30.103125 219.990852 \nL 476.503125 219.990852 \nL 476.503125 22.318125 \nL 30.103125 22.318125 \nz\n\"/>\n   </g>\n   <g id=\"matplotlib.axis_1\">\n    <g id=\"xtick_1\">\n     <g id=\"line2d_1\">\n      <defs>\n       <path id=\"md40bbead32\" d=\"M 0 0 \nL 0 3.5 \n\" style=\"stroke: #ffffff; stroke-width: 0.8\"/>\n      </defs>\n      <g>\n       <use xlink:href=\"#md40bbead32\" x=\"50.394034\" y=\"219.990852\" style=\"fill: #ffffff; stroke: #ffffff; stroke-width: 0.8\"/>\n      </g>\n     </g>\n     <g id=\"text_1\">\n      <!-- 0 -->\n      <g style=\"fill: #ffffff\" transform=\"translate(47.212784 234.58929)scale(0.1 -0.1)\">\n       <defs>\n        <path id=\"DejaVuSans-30\" d=\"M 2034 4250 \nQ 1547 4250 1301 3770 \nQ 1056 3291 1056 2328 \nQ 1056 1369 1301 889 \nQ 1547 409 2034 409 \nQ 2525 409 2770 889 \nQ 3016 1369 3016 2328 \nQ 3016 3291 2770 3770 \nQ 2525 4250 2034 4250 \nz\nM 2034 4750 \nQ 2819 4750 3233 4129 \nQ 3647 3509 3647 2328 \nQ 3647 1150 3233 529 \nQ 2819 -91 2034 -91 \nQ 1250 -91 836 529 \nQ 422 1150 422 2328 \nQ 422 3509 836 4129 \nQ 1250 4750 2034 4750 \nz\n\" transform=\"scale(0.015625)\"/>\n       </defs>\n       <use xlink:href=\"#DejaVuSans-30\"/>\n      </g>\n     </g>\n    </g>\n    <g id=\"xtick_2\">\n     <g id=\"line2d_2\">\n      <g>\n       <use xlink:href=\"#md40bbead32\" x=\"131.55767\" y=\"219.990852\" style=\"fill: #ffffff; stroke: #ffffff; stroke-width: 0.8\"/>\n      </g>\n     </g>\n     <g id=\"text_2\">\n      <!-- 2 -->\n      <g style=\"fill: #ffffff\" transform=\"translate(128.37642 234.58929)scale(0.1 -0.1)\">\n       <defs>\n        <path id=\"DejaVuSans-32\" d=\"M 1228 531 \nL 3431 531 \nL 3431 0 \nL 469 0 \nL 469 531 \nQ 828 903 1448 1529 \nQ 2069 2156 2228 2338 \nQ 2531 2678 2651 2914 \nQ 2772 3150 2772 3378 \nQ 2772 3750 2511 3984 \nQ 2250 4219 1831 4219 \nQ 1534 4219 1204 4116 \nQ 875 4013 500 3803 \nL 500 4441 \nQ 881 4594 1212 4672 \nQ 1544 4750 1819 4750 \nQ 2544 4750 2975 4387 \nQ 3406 4025 3406 3419 \nQ 3406 3131 3298 2873 \nQ 3191 2616 2906 2266 \nQ 2828 2175 2409 1742 \nQ 1991 1309 1228 531 \nz\n\" transform=\"scale(0.015625)\"/>\n       </defs>\n       <use xlink:href=\"#DejaVuSans-32\"/>\n      </g>\n     </g>\n    </g>\n    <g id=\"xtick_3\">\n     <g id=\"line2d_3\">\n      <g>\n       <use xlink:href=\"#md40bbead32\" x=\"212.721307\" y=\"219.990852\" style=\"fill: #ffffff; stroke: #ffffff; stroke-width: 0.8\"/>\n      </g>\n     </g>\n     <g id=\"text_3\">\n      <!-- 4 -->\n      <g style=\"fill: #ffffff\" transform=\"translate(209.540057 234.58929)scale(0.1 -0.1)\">\n       <defs>\n        <path id=\"DejaVuSans-34\" d=\"M 2419 4116 \nL 825 1625 \nL 2419 1625 \nL 2419 4116 \nz\nM 2253 4666 \nL 3047 4666 \nL 3047 1625 \nL 3713 1625 \nL 3713 1100 \nL 3047 1100 \nL 3047 0 \nL 2419 0 \nL 2419 1100 \nL 313 1100 \nL 313 1709 \nL 2253 4666 \nz\n\" transform=\"scale(0.015625)\"/>\n       </defs>\n       <use xlink:href=\"#DejaVuSans-34\"/>\n      </g>\n     </g>\n    </g>\n    <g id=\"xtick_4\">\n     <g id=\"line2d_4\">\n      <g>\n       <use xlink:href=\"#md40bbead32\" x=\"293.884943\" y=\"219.990852\" style=\"fill: #ffffff; stroke: #ffffff; stroke-width: 0.8\"/>\n      </g>\n     </g>\n     <g id=\"text_4\">\n      <!-- 6 -->\n      <g style=\"fill: #ffffff\" transform=\"translate(290.703693 234.58929)scale(0.1 -0.1)\">\n       <defs>\n        <path id=\"DejaVuSans-36\" d=\"M 2113 2584 \nQ 1688 2584 1439 2293 \nQ 1191 2003 1191 1497 \nQ 1191 994 1439 701 \nQ 1688 409 2113 409 \nQ 2538 409 2786 701 \nQ 3034 994 3034 1497 \nQ 3034 2003 2786 2293 \nQ 2538 2584 2113 2584 \nz\nM 3366 4563 \nL 3366 3988 \nQ 3128 4100 2886 4159 \nQ 2644 4219 2406 4219 \nQ 1781 4219 1451 3797 \nQ 1122 3375 1075 2522 \nQ 1259 2794 1537 2939 \nQ 1816 3084 2150 3084 \nQ 2853 3084 3261 2657 \nQ 3669 2231 3669 1497 \nQ 3669 778 3244 343 \nQ 2819 -91 2113 -91 \nQ 1303 -91 875 529 \nQ 447 1150 447 2328 \nQ 447 3434 972 4092 \nQ 1497 4750 2381 4750 \nQ 2619 4750 2861 4703 \nQ 3103 4656 3366 4563 \nz\n\" transform=\"scale(0.015625)\"/>\n       </defs>\n       <use xlink:href=\"#DejaVuSans-36\"/>\n      </g>\n     </g>\n    </g>\n    <g id=\"xtick_5\">\n     <g id=\"line2d_5\">\n      <g>\n       <use xlink:href=\"#md40bbead32\" x=\"375.04858\" y=\"219.990852\" style=\"fill: #ffffff; stroke: #ffffff; stroke-width: 0.8\"/>\n      </g>\n     </g>\n     <g id=\"text_5\">\n      <!-- 8 -->\n      <g style=\"fill: #ffffff\" transform=\"translate(371.86733 234.58929)scale(0.1 -0.1)\">\n       <defs>\n        <path id=\"DejaVuSans-38\" d=\"M 2034 2216 \nQ 1584 2216 1326 1975 \nQ 1069 1734 1069 1313 \nQ 1069 891 1326 650 \nQ 1584 409 2034 409 \nQ 2484 409 2743 651 \nQ 3003 894 3003 1313 \nQ 3003 1734 2745 1975 \nQ 2488 2216 2034 2216 \nz\nM 1403 2484 \nQ 997 2584 770 2862 \nQ 544 3141 544 3541 \nQ 544 4100 942 4425 \nQ 1341 4750 2034 4750 \nQ 2731 4750 3128 4425 \nQ 3525 4100 3525 3541 \nQ 3525 3141 3298 2862 \nQ 3072 2584 2669 2484 \nQ 3125 2378 3379 2068 \nQ 3634 1759 3634 1313 \nQ 3634 634 3220 271 \nQ 2806 -91 2034 -91 \nQ 1263 -91 848 271 \nQ 434 634 434 1313 \nQ 434 1759 690 2068 \nQ 947 2378 1403 2484 \nz\nM 1172 3481 \nQ 1172 3119 1398 2916 \nQ 1625 2713 2034 2713 \nQ 2441 2713 2670 2916 \nQ 2900 3119 2900 3481 \nQ 2900 3844 2670 4047 \nQ 2441 4250 2034 4250 \nQ 1625 4250 1398 4047 \nQ 1172 3844 1172 3481 \nz\n\" transform=\"scale(0.015625)\"/>\n       </defs>\n       <use xlink:href=\"#DejaVuSans-38\"/>\n      </g>\n     </g>\n    </g>\n    <g id=\"xtick_6\">\n     <g id=\"line2d_6\">\n      <g>\n       <use xlink:href=\"#md40bbead32\" x=\"456.212216\" y=\"219.990852\" style=\"fill: #ffffff; stroke: #ffffff; stroke-width: 0.8\"/>\n      </g>\n     </g>\n     <g id=\"text_6\">\n      <!-- 10 -->\n      <g style=\"fill: #ffffff\" transform=\"translate(449.849716 234.58929)scale(0.1 -0.1)\">\n       <defs>\n        <path id=\"DejaVuSans-31\" d=\"M 794 531 \nL 1825 531 \nL 1825 4091 \nL 703 3866 \nL 703 4441 \nL 1819 4666 \nL 2450 4666 \nL 2450 531 \nL 3481 531 \nL 3481 0 \nL 794 0 \nL 794 531 \nz\n\" transform=\"scale(0.015625)\"/>\n       </defs>\n       <use xlink:href=\"#DejaVuSans-31\"/>\n       <use xlink:href=\"#DejaVuSans-30\" x=\"63.623047\"/>\n      </g>\n     </g>\n    </g>\n   </g>\n   <g id=\"matplotlib.axis_2\">\n    <g id=\"ytick_1\">\n     <g id=\"line2d_7\">\n      <defs>\n       <path id=\"meccdbbc72b\" d=\"M 0 0 \nL -3.5 0 \n\" style=\"stroke: #ffffff; stroke-width: 0.8\"/>\n      </defs>\n      <g>\n       <use xlink:href=\"#meccdbbc72b\" x=\"30.103125\" y=\"218.699046\" style=\"fill: #ffffff; stroke: #ffffff; stroke-width: 0.8\"/>\n      </g>\n     </g>\n     <g id=\"text_7\">\n      <!-- 0.2 -->\n      <g style=\"fill: #ffffff\" transform=\"translate(7.2 222.498265)scale(0.1 -0.1)\">\n       <defs>\n        <path id=\"DejaVuSans-2e\" d=\"M 684 794 \nL 1344 794 \nL 1344 0 \nL 684 0 \nL 684 794 \nz\n\" transform=\"scale(0.015625)\"/>\n       </defs>\n       <use xlink:href=\"#DejaVuSans-30\"/>\n       <use xlink:href=\"#DejaVuSans-2e\" x=\"63.623047\"/>\n       <use xlink:href=\"#DejaVuSans-32\" x=\"95.410156\"/>\n      </g>\n     </g>\n    </g>\n    <g id=\"ytick_2\">\n     <g id=\"line2d_8\">\n      <g>\n       <use xlink:href=\"#meccdbbc72b\" x=\"30.103125\" y=\"185.690334\" style=\"fill: #ffffff; stroke: #ffffff; stroke-width: 0.8\"/>\n      </g>\n     </g>\n     <g id=\"text_8\">\n      <!-- 0.3 -->\n      <g style=\"fill: #ffffff\" transform=\"translate(7.2 189.489552)scale(0.1 -0.1)\">\n       <defs>\n        <path id=\"DejaVuSans-33\" d=\"M 2597 2516 \nQ 3050 2419 3304 2112 \nQ 3559 1806 3559 1356 \nQ 3559 666 3084 287 \nQ 2609 -91 1734 -91 \nQ 1441 -91 1130 -33 \nQ 819 25 488 141 \nL 488 750 \nQ 750 597 1062 519 \nQ 1375 441 1716 441 \nQ 2309 441 2620 675 \nQ 2931 909 2931 1356 \nQ 2931 1769 2642 2001 \nQ 2353 2234 1838 2234 \nL 1294 2234 \nL 1294 2753 \nL 1863 2753 \nQ 2328 2753 2575 2939 \nQ 2822 3125 2822 3475 \nQ 2822 3834 2567 4026 \nQ 2313 4219 1838 4219 \nQ 1578 4219 1281 4162 \nQ 984 4106 628 3988 \nL 628 4550 \nQ 988 4650 1302 4700 \nQ 1616 4750 1894 4750 \nQ 2613 4750 3031 4423 \nQ 3450 4097 3450 3541 \nQ 3450 3153 3228 2886 \nQ 3006 2619 2597 2516 \nz\n\" transform=\"scale(0.015625)\"/>\n       </defs>\n       <use xlink:href=\"#DejaVuSans-30\"/>\n       <use xlink:href=\"#DejaVuSans-2e\" x=\"63.623047\"/>\n       <use xlink:href=\"#DejaVuSans-33\" x=\"95.410156\"/>\n      </g>\n     </g>\n    </g>\n    <g id=\"ytick_3\">\n     <g id=\"line2d_9\">\n      <g>\n       <use xlink:href=\"#meccdbbc72b\" x=\"30.103125\" y=\"152.681621\" style=\"fill: #ffffff; stroke: #ffffff; stroke-width: 0.8\"/>\n      </g>\n     </g>\n     <g id=\"text_9\">\n      <!-- 0.4 -->\n      <g style=\"fill: #ffffff\" transform=\"translate(7.2 156.48084)scale(0.1 -0.1)\">\n       <use xlink:href=\"#DejaVuSans-30\"/>\n       <use xlink:href=\"#DejaVuSans-2e\" x=\"63.623047\"/>\n       <use xlink:href=\"#DejaVuSans-34\" x=\"95.410156\"/>\n      </g>\n     </g>\n    </g>\n    <g id=\"ytick_4\">\n     <g id=\"line2d_10\">\n      <g>\n       <use xlink:href=\"#meccdbbc72b\" x=\"30.103125\" y=\"119.672908\" style=\"fill: #ffffff; stroke: #ffffff; stroke-width: 0.8\"/>\n      </g>\n     </g>\n     <g id=\"text_10\">\n      <!-- 0.5 -->\n      <g style=\"fill: #ffffff\" transform=\"translate(7.2 123.472127)scale(0.1 -0.1)\">\n       <defs>\n        <path id=\"DejaVuSans-35\" d=\"M 691 4666 \nL 3169 4666 \nL 3169 4134 \nL 1269 4134 \nL 1269 2991 \nQ 1406 3038 1543 3061 \nQ 1681 3084 1819 3084 \nQ 2600 3084 3056 2656 \nQ 3513 2228 3513 1497 \nQ 3513 744 3044 326 \nQ 2575 -91 1722 -91 \nQ 1428 -91 1123 -41 \nQ 819 9 494 109 \nL 494 744 \nQ 775 591 1075 516 \nQ 1375 441 1709 441 \nQ 2250 441 2565 725 \nQ 2881 1009 2881 1497 \nQ 2881 1984 2565 2268 \nQ 2250 2553 1709 2553 \nQ 1456 2553 1204 2497 \nQ 953 2441 691 2322 \nL 691 4666 \nz\n\" transform=\"scale(0.015625)\"/>\n       </defs>\n       <use xlink:href=\"#DejaVuSans-30\"/>\n       <use xlink:href=\"#DejaVuSans-2e\" x=\"63.623047\"/>\n       <use xlink:href=\"#DejaVuSans-35\" x=\"95.410156\"/>\n      </g>\n     </g>\n    </g>\n    <g id=\"ytick_5\">\n     <g id=\"line2d_11\">\n      <g>\n       <use xlink:href=\"#meccdbbc72b\" x=\"30.103125\" y=\"86.664195\" style=\"fill: #ffffff; stroke: #ffffff; stroke-width: 0.8\"/>\n      </g>\n     </g>\n     <g id=\"text_11\">\n      <!-- 0.6 -->\n      <g style=\"fill: #ffffff\" transform=\"translate(7.2 90.463414)scale(0.1 -0.1)\">\n       <use xlink:href=\"#DejaVuSans-30\"/>\n       <use xlink:href=\"#DejaVuSans-2e\" x=\"63.623047\"/>\n       <use xlink:href=\"#DejaVuSans-36\" x=\"95.410156\"/>\n      </g>\n     </g>\n    </g>\n    <g id=\"ytick_6\">\n     <g id=\"line2d_12\">\n      <g>\n       <use xlink:href=\"#meccdbbc72b\" x=\"30.103125\" y=\"53.655482\" style=\"fill: #ffffff; stroke: #ffffff; stroke-width: 0.8\"/>\n      </g>\n     </g>\n     <g id=\"text_12\">\n      <!-- 0.7 -->\n      <g style=\"fill: #ffffff\" transform=\"translate(7.2 57.454701)scale(0.1 -0.1)\">\n       <defs>\n        <path id=\"DejaVuSans-37\" d=\"M 525 4666 \nL 3525 4666 \nL 3525 4397 \nL 1831 0 \nL 1172 0 \nL 2766 4134 \nL 525 4134 \nL 525 4666 \nz\n\" transform=\"scale(0.015625)\"/>\n       </defs>\n       <use xlink:href=\"#DejaVuSans-30\"/>\n       <use xlink:href=\"#DejaVuSans-2e\" x=\"63.623047\"/>\n       <use xlink:href=\"#DejaVuSans-37\" x=\"95.410156\"/>\n      </g>\n     </g>\n    </g>\n   </g>\n   <g id=\"line2d_13\">\n    <path d=\"M 50.394034 202.837434 \nL 90.975852 132.157387 \nL 131.55767 109.672245 \nL 172.139489 94.59501 \nL 212.721307 83.483158 \nL 253.303125 74.637263 \nL 293.884943 68.100887 \nL 334.466761 62.261723 \nL 375.04858 53.28509 \nL 415.630398 49.450407 \nL 456.212216 39.471543 \n\" clip-path=\"url(#p9ee6d06071)\" style=\"fill: none; stroke: #8dd3c7; stroke-width: 1.5; stroke-linecap: square\"/>\n   </g>\n   <g id=\"line2d_14\">\n    <path d=\"M 50.394034 151.2305 \nL 90.975852 131.474222 \nL 131.55767 124.743105 \nL 172.139489 124.131181 \nL 212.721307 120.284831 \nL 253.303125 120.80933 \nL 293.884943 118.79874 \nL 334.466761 121.333839 \nL 375.04858 120.284831 \nL 415.630398 115.913973 \nL 456.212216 114.427882 \n\" clip-path=\"url(#p9ee6d06071)\" style=\"fill: none; stroke: #feffb3; stroke-width: 1.5; stroke-linecap: square\"/>\n   </g>\n   <g id=\"line2d_15\">\n    <path d=\"M 212.721307 211.005728 \nL 212.721307 31.303249 \n\" clip-path=\"url(#p9ee6d06071)\" style=\"fill: none; stroke: #bfbbd9; stroke-width: 1.5; stroke-linecap: square\"/>\n   </g>\n   <g id=\"patch_3\">\n    <path d=\"M 30.103125 219.990852 \nL 30.103125 22.318125 \n\" style=\"fill: none; stroke: #ffffff; stroke-width: 0.8; stroke-linejoin: miter; stroke-linecap: square\"/>\n   </g>\n   <g id=\"patch_4\">\n    <path d=\"M 476.503125 219.990852 \nL 476.503125 22.318125 \n\" style=\"fill: none; stroke: #ffffff; stroke-width: 0.8; stroke-linejoin: miter; stroke-linecap: square\"/>\n   </g>\n   <g id=\"patch_5\">\n    <path d=\"M 30.103125 219.990852 \nL 476.503125 219.990852 \n\" style=\"fill: none; stroke: #ffffff; stroke-width: 0.8; stroke-linejoin: miter; stroke-linecap: square\"/>\n   </g>\n   <g id=\"patch_6\">\n    <path d=\"M 30.103125 22.318125 \nL 476.503125 22.318125 \n\" style=\"fill: none; stroke: #ffffff; stroke-width: 0.8; stroke-linejoin: miter; stroke-linecap: square\"/>\n   </g>\n   <g id=\"text_13\">\n    <!-- Training and Validation Accuracy -->\n    <g style=\"fill: #ffffff\" transform=\"translate(155.600625 16.318125)scale(0.12 -0.12)\">\n     <defs>\n      <path id=\"DejaVuSans-54\" d=\"M -19 4666 \nL 3928 4666 \nL 3928 4134 \nL 2272 4134 \nL 2272 0 \nL 1638 0 \nL 1638 4134 \nL -19 4134 \nL -19 4666 \nz\n\" transform=\"scale(0.015625)\"/>\n      <path id=\"DejaVuSans-72\" d=\"M 2631 2963 \nQ 2534 3019 2420 3045 \nQ 2306 3072 2169 3072 \nQ 1681 3072 1420 2755 \nQ 1159 2438 1159 1844 \nL 1159 0 \nL 581 0 \nL 581 3500 \nL 1159 3500 \nL 1159 2956 \nQ 1341 3275 1631 3429 \nQ 1922 3584 2338 3584 \nQ 2397 3584 2469 3576 \nQ 2541 3569 2628 3553 \nL 2631 2963 \nz\n\" transform=\"scale(0.015625)\"/>\n      <path id=\"DejaVuSans-61\" d=\"M 2194 1759 \nQ 1497 1759 1228 1600 \nQ 959 1441 959 1056 \nQ 959 750 1161 570 \nQ 1363 391 1709 391 \nQ 2188 391 2477 730 \nQ 2766 1069 2766 1631 \nL 2766 1759 \nL 2194 1759 \nz\nM 3341 1997 \nL 3341 0 \nL 2766 0 \nL 2766 531 \nQ 2569 213 2275 61 \nQ 1981 -91 1556 -91 \nQ 1019 -91 701 211 \nQ 384 513 384 1019 \nQ 384 1609 779 1909 \nQ 1175 2209 1959 2209 \nL 2766 2209 \nL 2766 2266 \nQ 2766 2663 2505 2880 \nQ 2244 3097 1772 3097 \nQ 1472 3097 1187 3025 \nQ 903 2953 641 2809 \nL 641 3341 \nQ 956 3463 1253 3523 \nQ 1550 3584 1831 3584 \nQ 2591 3584 2966 3190 \nQ 3341 2797 3341 1997 \nz\n\" transform=\"scale(0.015625)\"/>\n      <path id=\"DejaVuSans-69\" d=\"M 603 3500 \nL 1178 3500 \nL 1178 0 \nL 603 0 \nL 603 3500 \nz\nM 603 4863 \nL 1178 4863 \nL 1178 4134 \nL 603 4134 \nL 603 4863 \nz\n\" transform=\"scale(0.015625)\"/>\n      <path id=\"DejaVuSans-6e\" d=\"M 3513 2113 \nL 3513 0 \nL 2938 0 \nL 2938 2094 \nQ 2938 2591 2744 2837 \nQ 2550 3084 2163 3084 \nQ 1697 3084 1428 2787 \nQ 1159 2491 1159 1978 \nL 1159 0 \nL 581 0 \nL 581 3500 \nL 1159 3500 \nL 1159 2956 \nQ 1366 3272 1645 3428 \nQ 1925 3584 2291 3584 \nQ 2894 3584 3203 3211 \nQ 3513 2838 3513 2113 \nz\n\" transform=\"scale(0.015625)\"/>\n      <path id=\"DejaVuSans-67\" d=\"M 2906 1791 \nQ 2906 2416 2648 2759 \nQ 2391 3103 1925 3103 \nQ 1463 3103 1205 2759 \nQ 947 2416 947 1791 \nQ 947 1169 1205 825 \nQ 1463 481 1925 481 \nQ 2391 481 2648 825 \nQ 2906 1169 2906 1791 \nz\nM 3481 434 \nQ 3481 -459 3084 -895 \nQ 2688 -1331 1869 -1331 \nQ 1566 -1331 1297 -1286 \nQ 1028 -1241 775 -1147 \nL 775 -588 \nQ 1028 -725 1275 -790 \nQ 1522 -856 1778 -856 \nQ 2344 -856 2625 -561 \nQ 2906 -266 2906 331 \nL 2906 616 \nQ 2728 306 2450 153 \nQ 2172 0 1784 0 \nQ 1141 0 747 490 \nQ 353 981 353 1791 \nQ 353 2603 747 3093 \nQ 1141 3584 1784 3584 \nQ 2172 3584 2450 3431 \nQ 2728 3278 2906 2969 \nL 2906 3500 \nL 3481 3500 \nL 3481 434 \nz\n\" transform=\"scale(0.015625)\"/>\n      <path id=\"DejaVuSans-20\" transform=\"scale(0.015625)\"/>\n      <path id=\"DejaVuSans-64\" d=\"M 2906 2969 \nL 2906 4863 \nL 3481 4863 \nL 3481 0 \nL 2906 0 \nL 2906 525 \nQ 2725 213 2448 61 \nQ 2172 -91 1784 -91 \nQ 1150 -91 751 415 \nQ 353 922 353 1747 \nQ 353 2572 751 3078 \nQ 1150 3584 1784 3584 \nQ 2172 3584 2448 3432 \nQ 2725 3281 2906 2969 \nz\nM 947 1747 \nQ 947 1113 1208 752 \nQ 1469 391 1925 391 \nQ 2381 391 2643 752 \nQ 2906 1113 2906 1747 \nQ 2906 2381 2643 2742 \nQ 2381 3103 1925 3103 \nQ 1469 3103 1208 2742 \nQ 947 2381 947 1747 \nz\n\" transform=\"scale(0.015625)\"/>\n      <path id=\"DejaVuSans-56\" d=\"M 1831 0 \nL 50 4666 \nL 709 4666 \nL 2188 738 \nL 3669 4666 \nL 4325 4666 \nL 2547 0 \nL 1831 0 \nz\n\" transform=\"scale(0.015625)\"/>\n      <path id=\"DejaVuSans-6c\" d=\"M 603 4863 \nL 1178 4863 \nL 1178 0 \nL 603 0 \nL 603 4863 \nz\n\" transform=\"scale(0.015625)\"/>\n      <path id=\"DejaVuSans-74\" d=\"M 1172 4494 \nL 1172 3500 \nL 2356 3500 \nL 2356 3053 \nL 1172 3053 \nL 1172 1153 \nQ 1172 725 1289 603 \nQ 1406 481 1766 481 \nL 2356 481 \nL 2356 0 \nL 1766 0 \nQ 1100 0 847 248 \nQ 594 497 594 1153 \nL 594 3053 \nL 172 3053 \nL 172 3500 \nL 594 3500 \nL 594 4494 \nL 1172 4494 \nz\n\" transform=\"scale(0.015625)\"/>\n      <path id=\"DejaVuSans-6f\" d=\"M 1959 3097 \nQ 1497 3097 1228 2736 \nQ 959 2375 959 1747 \nQ 959 1119 1226 758 \nQ 1494 397 1959 397 \nQ 2419 397 2687 759 \nQ 2956 1122 2956 1747 \nQ 2956 2369 2687 2733 \nQ 2419 3097 1959 3097 \nz\nM 1959 3584 \nQ 2709 3584 3137 3096 \nQ 3566 2609 3566 1747 \nQ 3566 888 3137 398 \nQ 2709 -91 1959 -91 \nQ 1206 -91 779 398 \nQ 353 888 353 1747 \nQ 353 2609 779 3096 \nQ 1206 3584 1959 3584 \nz\n\" transform=\"scale(0.015625)\"/>\n      <path id=\"DejaVuSans-41\" d=\"M 2188 4044 \nL 1331 1722 \nL 3047 1722 \nL 2188 4044 \nz\nM 1831 4666 \nL 2547 4666 \nL 4325 0 \nL 3669 0 \nL 3244 1197 \nL 1141 1197 \nL 716 0 \nL 50 0 \nL 1831 4666 \nz\n\" transform=\"scale(0.015625)\"/>\n      <path id=\"DejaVuSans-63\" d=\"M 3122 3366 \nL 3122 2828 \nQ 2878 2963 2633 3030 \nQ 2388 3097 2138 3097 \nQ 1578 3097 1268 2742 \nQ 959 2388 959 1747 \nQ 959 1106 1268 751 \nQ 1578 397 2138 397 \nQ 2388 397 2633 464 \nQ 2878 531 3122 666 \nL 3122 134 \nQ 2881 22 2623 -34 \nQ 2366 -91 2075 -91 \nQ 1284 -91 818 406 \nQ 353 903 353 1747 \nQ 353 2603 823 3093 \nQ 1294 3584 2113 3584 \nQ 2378 3584 2631 3529 \nQ 2884 3475 3122 3366 \nz\n\" transform=\"scale(0.015625)\"/>\n      <path id=\"DejaVuSans-75\" d=\"M 544 1381 \nL 544 3500 \nL 1119 3500 \nL 1119 1403 \nQ 1119 906 1312 657 \nQ 1506 409 1894 409 \nQ 2359 409 2629 706 \nQ 2900 1003 2900 1516 \nL 2900 3500 \nL 3475 3500 \nL 3475 0 \nL 2900 0 \nL 2900 538 \nQ 2691 219 2414 64 \nQ 2138 -91 1772 -91 \nQ 1169 -91 856 284 \nQ 544 659 544 1381 \nz\nM 1991 3584 \nL 1991 3584 \nz\n\" transform=\"scale(0.015625)\"/>\n      <path id=\"DejaVuSans-79\" d=\"M 2059 -325 \nQ 1816 -950 1584 -1140 \nQ 1353 -1331 966 -1331 \nL 506 -1331 \nL 506 -850 \nL 844 -850 \nQ 1081 -850 1212 -737 \nQ 1344 -625 1503 -206 \nL 1606 56 \nL 191 3500 \nL 800 3500 \nL 1894 763 \nL 2988 3500 \nL 3597 3500 \nL 2059 -325 \nz\n\" transform=\"scale(0.015625)\"/>\n     </defs>\n     <use xlink:href=\"#DejaVuSans-54\"/>\n     <use xlink:href=\"#DejaVuSans-72\" x=\"46.333984\"/>\n     <use xlink:href=\"#DejaVuSans-61\" x=\"87.447266\"/>\n     <use xlink:href=\"#DejaVuSans-69\" x=\"148.726562\"/>\n     <use xlink:href=\"#DejaVuSans-6e\" x=\"176.509766\"/>\n     <use xlink:href=\"#DejaVuSans-69\" x=\"239.888672\"/>\n     <use xlink:href=\"#DejaVuSans-6e\" x=\"267.671875\"/>\n     <use xlink:href=\"#DejaVuSans-67\" x=\"331.050781\"/>\n     <use xlink:href=\"#DejaVuSans-20\" x=\"394.527344\"/>\n     <use xlink:href=\"#DejaVuSans-61\" x=\"426.314453\"/>\n     <use xlink:href=\"#DejaVuSans-6e\" x=\"487.59375\"/>\n     <use xlink:href=\"#DejaVuSans-64\" x=\"550.972656\"/>\n     <use xlink:href=\"#DejaVuSans-20\" x=\"614.449219\"/>\n     <use xlink:href=\"#DejaVuSans-56\" x=\"646.236328\"/>\n     <use xlink:href=\"#DejaVuSans-61\" x=\"706.894531\"/>\n     <use xlink:href=\"#DejaVuSans-6c\" x=\"768.173828\"/>\n     <use xlink:href=\"#DejaVuSans-69\" x=\"795.957031\"/>\n     <use xlink:href=\"#DejaVuSans-64\" x=\"823.740234\"/>\n     <use xlink:href=\"#DejaVuSans-61\" x=\"887.216797\"/>\n     <use xlink:href=\"#DejaVuSans-74\" x=\"948.496094\"/>\n     <use xlink:href=\"#DejaVuSans-69\" x=\"987.705078\"/>\n     <use xlink:href=\"#DejaVuSans-6f\" x=\"1015.488281\"/>\n     <use xlink:href=\"#DejaVuSans-6e\" x=\"1076.669922\"/>\n     <use xlink:href=\"#DejaVuSans-20\" x=\"1140.048828\"/>\n     <use xlink:href=\"#DejaVuSans-41\" x=\"1171.835938\"/>\n     <use xlink:href=\"#DejaVuSans-63\" x=\"1238.494141\"/>\n     <use xlink:href=\"#DejaVuSans-63\" x=\"1293.474609\"/>\n     <use xlink:href=\"#DejaVuSans-75\" x=\"1348.455078\"/>\n     <use xlink:href=\"#DejaVuSans-72\" x=\"1411.833984\"/>\n     <use xlink:href=\"#DejaVuSans-61\" x=\"1452.947266\"/>\n     <use xlink:href=\"#DejaVuSans-63\" x=\"1514.226562\"/>\n     <use xlink:href=\"#DejaVuSans-79\" x=\"1569.207031\"/>\n    </g>\n   </g>\n   <g id=\"legend_1\">\n    <g id=\"patch_7\">\n     <path d=\"M 339.2875 214.990852 \nL 469.503125 214.990852 \nQ 471.503125 214.990852 471.503125 212.990852 \nL 471.503125 169.956477 \nQ 471.503125 167.956477 469.503125 167.956477 \nL 339.2875 167.956477 \nQ 337.2875 167.956477 337.2875 169.956477 \nL 337.2875 212.990852 \nQ 337.2875 214.990852 339.2875 214.990852 \nz\n\" style=\"opacity: 0.8; stroke: #cccccc; stroke-linejoin: miter\"/>\n    </g>\n    <g id=\"line2d_16\">\n     <path d=\"M 341.2875 176.054915 \nL 351.2875 176.054915 \nL 361.2875 176.054915 \n\" style=\"fill: none; stroke: #8dd3c7; stroke-width: 1.5; stroke-linecap: square\"/>\n    </g>\n    <g id=\"text_14\">\n     <!-- Training Accuracy -->\n     <g style=\"fill: #ffffff\" transform=\"translate(369.2875 179.554915)scale(0.1 -0.1)\">\n      <use xlink:href=\"#DejaVuSans-54\"/>\n      <use xlink:href=\"#DejaVuSans-72\" x=\"46.333984\"/>\n      <use xlink:href=\"#DejaVuSans-61\" x=\"87.447266\"/>\n      <use xlink:href=\"#DejaVuSans-69\" x=\"148.726562\"/>\n      <use xlink:href=\"#DejaVuSans-6e\" x=\"176.509766\"/>\n      <use xlink:href=\"#DejaVuSans-69\" x=\"239.888672\"/>\n      <use xlink:href=\"#DejaVuSans-6e\" x=\"267.671875\"/>\n      <use xlink:href=\"#DejaVuSans-67\" x=\"331.050781\"/>\n      <use xlink:href=\"#DejaVuSans-20\" x=\"394.527344\"/>\n      <use xlink:href=\"#DejaVuSans-41\" x=\"426.314453\"/>\n      <use xlink:href=\"#DejaVuSans-63\" x=\"492.972656\"/>\n      <use xlink:href=\"#DejaVuSans-63\" x=\"547.953125\"/>\n      <use xlink:href=\"#DejaVuSans-75\" x=\"602.933594\"/>\n      <use xlink:href=\"#DejaVuSans-72\" x=\"666.3125\"/>\n      <use xlink:href=\"#DejaVuSans-61\" x=\"707.425781\"/>\n      <use xlink:href=\"#DejaVuSans-63\" x=\"768.705078\"/>\n      <use xlink:href=\"#DejaVuSans-79\" x=\"823.685547\"/>\n     </g>\n    </g>\n    <g id=\"line2d_17\">\n     <path d=\"M 341.2875 190.73304 \nL 351.2875 190.73304 \nL 361.2875 190.73304 \n\" style=\"fill: none; stroke: #feffb3; stroke-width: 1.5; stroke-linecap: square\"/>\n    </g>\n    <g id=\"text_15\">\n     <!-- Validation Accuracy -->\n     <g style=\"fill: #ffffff\" transform=\"translate(369.2875 194.23304)scale(0.1 -0.1)\">\n      <use xlink:href=\"#DejaVuSans-56\"/>\n      <use xlink:href=\"#DejaVuSans-61\" x=\"60.658203\"/>\n      <use xlink:href=\"#DejaVuSans-6c\" x=\"121.9375\"/>\n      <use xlink:href=\"#DejaVuSans-69\" x=\"149.720703\"/>\n      <use xlink:href=\"#DejaVuSans-64\" x=\"177.503906\"/>\n      <use xlink:href=\"#DejaVuSans-61\" x=\"240.980469\"/>\n      <use xlink:href=\"#DejaVuSans-74\" x=\"302.259766\"/>\n      <use xlink:href=\"#DejaVuSans-69\" x=\"341.46875\"/>\n      <use xlink:href=\"#DejaVuSans-6f\" x=\"369.251953\"/>\n      <use xlink:href=\"#DejaVuSans-6e\" x=\"430.433594\"/>\n      <use xlink:href=\"#DejaVuSans-20\" x=\"493.8125\"/>\n      <use xlink:href=\"#DejaVuSans-41\" x=\"525.599609\"/>\n      <use xlink:href=\"#DejaVuSans-63\" x=\"592.257812\"/>\n      <use xlink:href=\"#DejaVuSans-63\" x=\"647.238281\"/>\n      <use xlink:href=\"#DejaVuSans-75\" x=\"702.21875\"/>\n      <use xlink:href=\"#DejaVuSans-72\" x=\"765.597656\"/>\n      <use xlink:href=\"#DejaVuSans-61\" x=\"806.710938\"/>\n      <use xlink:href=\"#DejaVuSans-63\" x=\"867.990234\"/>\n      <use xlink:href=\"#DejaVuSans-79\" x=\"922.970703\"/>\n     </g>\n    </g>\n    <g id=\"line2d_18\">\n     <path d=\"M 341.2875 205.411165 \nL 351.2875 205.411165 \nL 361.2875 205.411165 \n\" style=\"fill: none; stroke: #bfbbd9; stroke-width: 1.5; stroke-linecap: square\"/>\n    </g>\n    <g id=\"text_16\">\n     <!-- Start Fine Tuning -->\n     <g style=\"fill: #ffffff\" transform=\"translate(369.2875 208.911165)scale(0.1 -0.1)\">\n      <defs>\n       <path id=\"DejaVuSans-53\" d=\"M 3425 4513 \nL 3425 3897 \nQ 3066 4069 2747 4153 \nQ 2428 4238 2131 4238 \nQ 1616 4238 1336 4038 \nQ 1056 3838 1056 3469 \nQ 1056 3159 1242 3001 \nQ 1428 2844 1947 2747 \nL 2328 2669 \nQ 3034 2534 3370 2195 \nQ 3706 1856 3706 1288 \nQ 3706 609 3251 259 \nQ 2797 -91 1919 -91 \nQ 1588 -91 1214 -16 \nQ 841 59 441 206 \nL 441 856 \nQ 825 641 1194 531 \nQ 1563 422 1919 422 \nQ 2459 422 2753 634 \nQ 3047 847 3047 1241 \nQ 3047 1584 2836 1778 \nQ 2625 1972 2144 2069 \nL 1759 2144 \nQ 1053 2284 737 2584 \nQ 422 2884 422 3419 \nQ 422 4038 858 4394 \nQ 1294 4750 2059 4750 \nQ 2388 4750 2728 4690 \nQ 3069 4631 3425 4513 \nz\n\" transform=\"scale(0.015625)\"/>\n       <path id=\"DejaVuSans-46\" d=\"M 628 4666 \nL 3309 4666 \nL 3309 4134 \nL 1259 4134 \nL 1259 2759 \nL 3109 2759 \nL 3109 2228 \nL 1259 2228 \nL 1259 0 \nL 628 0 \nL 628 4666 \nz\n\" transform=\"scale(0.015625)\"/>\n       <path id=\"DejaVuSans-65\" d=\"M 3597 1894 \nL 3597 1613 \nL 953 1613 \nQ 991 1019 1311 708 \nQ 1631 397 2203 397 \nQ 2534 397 2845 478 \nQ 3156 559 3463 722 \nL 3463 178 \nQ 3153 47 2828 -22 \nQ 2503 -91 2169 -91 \nQ 1331 -91 842 396 \nQ 353 884 353 1716 \nQ 353 2575 817 3079 \nQ 1281 3584 2069 3584 \nQ 2775 3584 3186 3129 \nQ 3597 2675 3597 1894 \nz\nM 3022 2063 \nQ 3016 2534 2758 2815 \nQ 2500 3097 2075 3097 \nQ 1594 3097 1305 2825 \nQ 1016 2553 972 2059 \nL 3022 2063 \nz\n\" transform=\"scale(0.015625)\"/>\n      </defs>\n      <use xlink:href=\"#DejaVuSans-53\"/>\n      <use xlink:href=\"#DejaVuSans-74\" x=\"63.476562\"/>\n      <use xlink:href=\"#DejaVuSans-61\" x=\"102.685547\"/>\n      <use xlink:href=\"#DejaVuSans-72\" x=\"163.964844\"/>\n      <use xlink:href=\"#DejaVuSans-74\" x=\"205.078125\"/>\n      <use xlink:href=\"#DejaVuSans-20\" x=\"244.287109\"/>\n      <use xlink:href=\"#DejaVuSans-46\" x=\"276.074219\"/>\n      <use xlink:href=\"#DejaVuSans-69\" x=\"326.34375\"/>\n      <use xlink:href=\"#DejaVuSans-6e\" x=\"354.126953\"/>\n      <use xlink:href=\"#DejaVuSans-65\" x=\"417.505859\"/>\n      <use xlink:href=\"#DejaVuSans-20\" x=\"479.029297\"/>\n      <use xlink:href=\"#DejaVuSans-54\" x=\"510.816406\"/>\n      <use xlink:href=\"#DejaVuSans-75\" x=\"556.775391\"/>\n      <use xlink:href=\"#DejaVuSans-6e\" x=\"620.154297\"/>\n      <use xlink:href=\"#DejaVuSans-69\" x=\"683.533203\"/>\n      <use xlink:href=\"#DejaVuSans-6e\" x=\"711.316406\"/>\n      <use xlink:href=\"#DejaVuSans-67\" x=\"774.695312\"/>\n     </g>\n    </g>\n   </g>\n  </g>\n  <g id=\"axes_2\">\n   <g id=\"patch_8\">\n    <path d=\"M 30.103125 457.198125 \nL 476.503125 457.198125 \nL 476.503125 259.525398 \nL 30.103125 259.525398 \nz\n\"/>\n   </g>\n   <g id=\"matplotlib.axis_3\">\n    <g id=\"xtick_7\">\n     <g id=\"line2d_19\">\n      <g>\n       <use xlink:href=\"#md40bbead32\" x=\"50.394034\" y=\"457.198125\" style=\"fill: #ffffff; stroke: #ffffff; stroke-width: 0.8\"/>\n      </g>\n     </g>\n     <g id=\"text_17\">\n      <!-- 0 -->\n      <g style=\"fill: #ffffff\" transform=\"translate(47.212784 471.796562)scale(0.1 -0.1)\">\n       <use xlink:href=\"#DejaVuSans-30\"/>\n      </g>\n     </g>\n    </g>\n    <g id=\"xtick_8\">\n     <g id=\"line2d_20\">\n      <g>\n       <use xlink:href=\"#md40bbead32\" x=\"131.55767\" y=\"457.198125\" style=\"fill: #ffffff; stroke: #ffffff; stroke-width: 0.8\"/>\n      </g>\n     </g>\n     <g id=\"text_18\">\n      <!-- 2 -->\n      <g style=\"fill: #ffffff\" transform=\"translate(128.37642 471.796562)scale(0.1 -0.1)\">\n       <use xlink:href=\"#DejaVuSans-32\"/>\n      </g>\n     </g>\n    </g>\n    <g id=\"xtick_9\">\n     <g id=\"line2d_21\">\n      <g>\n       <use xlink:href=\"#md40bbead32\" x=\"212.721307\" y=\"457.198125\" style=\"fill: #ffffff; stroke: #ffffff; stroke-width: 0.8\"/>\n      </g>\n     </g>\n     <g id=\"text_19\">\n      <!-- 4 -->\n      <g style=\"fill: #ffffff\" transform=\"translate(209.540057 471.796562)scale(0.1 -0.1)\">\n       <use xlink:href=\"#DejaVuSans-34\"/>\n      </g>\n     </g>\n    </g>\n    <g id=\"xtick_10\">\n     <g id=\"line2d_22\">\n      <g>\n       <use xlink:href=\"#md40bbead32\" x=\"293.884943\" y=\"457.198125\" style=\"fill: #ffffff; stroke: #ffffff; stroke-width: 0.8\"/>\n      </g>\n     </g>\n     <g id=\"text_20\">\n      <!-- 6 -->\n      <g style=\"fill: #ffffff\" transform=\"translate(290.703693 471.796562)scale(0.1 -0.1)\">\n       <use xlink:href=\"#DejaVuSans-36\"/>\n      </g>\n     </g>\n    </g>\n    <g id=\"xtick_11\">\n     <g id=\"line2d_23\">\n      <g>\n       <use xlink:href=\"#md40bbead32\" x=\"375.04858\" y=\"457.198125\" style=\"fill: #ffffff; stroke: #ffffff; stroke-width: 0.8\"/>\n      </g>\n     </g>\n     <g id=\"text_21\">\n      <!-- 8 -->\n      <g style=\"fill: #ffffff\" transform=\"translate(371.86733 471.796562)scale(0.1 -0.1)\">\n       <use xlink:href=\"#DejaVuSans-38\"/>\n      </g>\n     </g>\n    </g>\n    <g id=\"xtick_12\">\n     <g id=\"line2d_24\">\n      <g>\n       <use xlink:href=\"#md40bbead32\" x=\"456.212216\" y=\"457.198125\" style=\"fill: #ffffff; stroke: #ffffff; stroke-width: 0.8\"/>\n      </g>\n     </g>\n     <g id=\"text_22\">\n      <!-- 10 -->\n      <g style=\"fill: #ffffff\" transform=\"translate(449.849716 471.796562)scale(0.1 -0.1)\">\n       <use xlink:href=\"#DejaVuSans-31\"/>\n       <use xlink:href=\"#DejaVuSans-30\" x=\"63.623047\"/>\n      </g>\n     </g>\n    </g>\n    <g id=\"text_23\">\n     <!-- epoch -->\n     <g style=\"fill: #ffffff\" transform=\"translate(238.075 485.474687)scale(0.1 -0.1)\">\n      <defs>\n       <path id=\"DejaVuSans-70\" d=\"M 1159 525 \nL 1159 -1331 \nL 581 -1331 \nL 581 3500 \nL 1159 3500 \nL 1159 2969 \nQ 1341 3281 1617 3432 \nQ 1894 3584 2278 3584 \nQ 2916 3584 3314 3078 \nQ 3713 2572 3713 1747 \nQ 3713 922 3314 415 \nQ 2916 -91 2278 -91 \nQ 1894 -91 1617 61 \nQ 1341 213 1159 525 \nz\nM 3116 1747 \nQ 3116 2381 2855 2742 \nQ 2594 3103 2138 3103 \nQ 1681 3103 1420 2742 \nQ 1159 2381 1159 1747 \nQ 1159 1113 1420 752 \nQ 1681 391 2138 391 \nQ 2594 391 2855 752 \nQ 3116 1113 3116 1747 \nz\n\" transform=\"scale(0.015625)\"/>\n       <path id=\"DejaVuSans-68\" d=\"M 3513 2113 \nL 3513 0 \nL 2938 0 \nL 2938 2094 \nQ 2938 2591 2744 2837 \nQ 2550 3084 2163 3084 \nQ 1697 3084 1428 2787 \nQ 1159 2491 1159 1978 \nL 1159 0 \nL 581 0 \nL 581 4863 \nL 1159 4863 \nL 1159 2956 \nQ 1366 3272 1645 3428 \nQ 1925 3584 2291 3584 \nQ 2894 3584 3203 3211 \nQ 3513 2838 3513 2113 \nz\n\" transform=\"scale(0.015625)\"/>\n      </defs>\n      <use xlink:href=\"#DejaVuSans-65\"/>\n      <use xlink:href=\"#DejaVuSans-70\" x=\"61.523438\"/>\n      <use xlink:href=\"#DejaVuSans-6f\" x=\"125\"/>\n      <use xlink:href=\"#DejaVuSans-63\" x=\"186.181641\"/>\n      <use xlink:href=\"#DejaVuSans-68\" x=\"241.162109\"/>\n     </g>\n    </g>\n   </g>\n   <g id=\"matplotlib.axis_4\">\n    <g id=\"ytick_7\">\n     <g id=\"line2d_25\">\n      <g>\n       <use xlink:href=\"#meccdbbc72b\" x=\"30.103125\" y=\"445.964986\" style=\"fill: #ffffff; stroke: #ffffff; stroke-width: 0.8\"/>\n      </g>\n     </g>\n     <g id=\"text_24\">\n      <!-- 1.0 -->\n      <g style=\"fill: #ffffff\" transform=\"translate(7.2 449.764204)scale(0.1 -0.1)\">\n       <use xlink:href=\"#DejaVuSans-31\"/>\n       <use xlink:href=\"#DejaVuSans-2e\" x=\"63.623047\"/>\n       <use xlink:href=\"#DejaVuSans-30\" x=\"95.410156\"/>\n      </g>\n     </g>\n    </g>\n    <g id=\"ytick_8\">\n     <g id=\"line2d_26\">\n      <g>\n       <use xlink:href=\"#meccdbbc72b\" x=\"30.103125\" y=\"411.788672\" style=\"fill: #ffffff; stroke: #ffffff; stroke-width: 0.8\"/>\n      </g>\n     </g>\n     <g id=\"text_25\">\n      <!-- 1.5 -->\n      <g style=\"fill: #ffffff\" transform=\"translate(7.2 415.587891)scale(0.1 -0.1)\">\n       <use xlink:href=\"#DejaVuSans-31\"/>\n       <use xlink:href=\"#DejaVuSans-2e\" x=\"63.623047\"/>\n       <use xlink:href=\"#DejaVuSans-35\" x=\"95.410156\"/>\n      </g>\n     </g>\n    </g>\n    <g id=\"ytick_9\">\n     <g id=\"line2d_27\">\n      <g>\n       <use xlink:href=\"#meccdbbc72b\" x=\"30.103125\" y=\"377.612358\" style=\"fill: #ffffff; stroke: #ffffff; stroke-width: 0.8\"/>\n      </g>\n     </g>\n     <g id=\"text_26\">\n      <!-- 2.0 -->\n      <g style=\"fill: #ffffff\" transform=\"translate(7.2 381.411577)scale(0.1 -0.1)\">\n       <use xlink:href=\"#DejaVuSans-32\"/>\n       <use xlink:href=\"#DejaVuSans-2e\" x=\"63.623047\"/>\n       <use xlink:href=\"#DejaVuSans-30\" x=\"95.410156\"/>\n      </g>\n     </g>\n    </g>\n    <g id=\"ytick_10\">\n     <g id=\"line2d_28\">\n      <g>\n       <use xlink:href=\"#meccdbbc72b\" x=\"30.103125\" y=\"343.436045\" style=\"fill: #ffffff; stroke: #ffffff; stroke-width: 0.8\"/>\n      </g>\n     </g>\n     <g id=\"text_27\">\n      <!-- 2.5 -->\n      <g style=\"fill: #ffffff\" transform=\"translate(7.2 347.235264)scale(0.1 -0.1)\">\n       <use xlink:href=\"#DejaVuSans-32\"/>\n       <use xlink:href=\"#DejaVuSans-2e\" x=\"63.623047\"/>\n       <use xlink:href=\"#DejaVuSans-35\" x=\"95.410156\"/>\n      </g>\n     </g>\n    </g>\n    <g id=\"ytick_11\">\n     <g id=\"line2d_29\">\n      <g>\n       <use xlink:href=\"#meccdbbc72b\" x=\"30.103125\" y=\"309.259731\" style=\"fill: #ffffff; stroke: #ffffff; stroke-width: 0.8\"/>\n      </g>\n     </g>\n     <g id=\"text_28\">\n      <!-- 3.0 -->\n      <g style=\"fill: #ffffff\" transform=\"translate(7.2 313.05895)scale(0.1 -0.1)\">\n       <use xlink:href=\"#DejaVuSans-33\"/>\n       <use xlink:href=\"#DejaVuSans-2e\" x=\"63.623047\"/>\n       <use xlink:href=\"#DejaVuSans-30\" x=\"95.410156\"/>\n      </g>\n     </g>\n    </g>\n    <g id=\"ytick_12\">\n     <g id=\"line2d_30\">\n      <g>\n       <use xlink:href=\"#meccdbbc72b\" x=\"30.103125\" y=\"275.083418\" style=\"fill: #ffffff; stroke: #ffffff; stroke-width: 0.8\"/>\n      </g>\n     </g>\n     <g id=\"text_29\">\n      <!-- 3.5 -->\n      <g style=\"fill: #ffffff\" transform=\"translate(7.2 278.882637)scale(0.1 -0.1)\">\n       <use xlink:href=\"#DejaVuSans-33\"/>\n       <use xlink:href=\"#DejaVuSans-2e\" x=\"63.623047\"/>\n       <use xlink:href=\"#DejaVuSans-35\" x=\"95.410156\"/>\n      </g>\n     </g>\n    </g>\n   </g>\n   <g id=\"line2d_31\">\n    <path d=\"M 50.394034 276.678816 \nL 90.975852 352.89255 \nL 131.55767 379.119625 \nL 172.139489 394.010789 \nL 212.721307 405.290852 \nL 253.303125 413.214546 \nL 293.884943 419.489323 \nL 334.466761 425.269615 \nL 375.04858 430.611033 \nL 415.630398 435.740759 \nL 456.212216 440.044707 \n\" clip-path=\"url(#p38779bc80c)\" style=\"fill: none; stroke: #8dd3c7; stroke-width: 1.5; stroke-linecap: square\"/>\n   </g>\n   <g id=\"line2d_32\">\n    <path d=\"M 50.394034 331.045137 \nL 90.975852 361.249512 \nL 131.55767 373.875612 \nL 172.139489 377.538079 \nL 212.721307 381.504957 \nL 253.303125 382.988537 \nL 293.884943 384.643923 \nL 334.466761 384.09794 \nL 375.04858 383.752787 \nL 415.630398 387.181375 \nL 456.212216 387.618701 \n\" clip-path=\"url(#p38779bc80c)\" style=\"fill: none; stroke: #feffb3; stroke-width: 1.5; stroke-linecap: square\"/>\n   </g>\n   <g id=\"line2d_33\">\n    <path d=\"M 212.721307 448.213001 \nL 212.721307 268.510522 \n\" clip-path=\"url(#p38779bc80c)\" style=\"fill: none; stroke: #bfbbd9; stroke-width: 1.5; stroke-linecap: square\"/>\n   </g>\n   <g id=\"patch_9\">\n    <path d=\"M 30.103125 457.198125 \nL 30.103125 259.525398 \n\" style=\"fill: none; stroke: #ffffff; stroke-width: 0.8; stroke-linejoin: miter; stroke-linecap: square\"/>\n   </g>\n   <g id=\"patch_10\">\n    <path d=\"M 476.503125 457.198125 \nL 476.503125 259.525398 \n\" style=\"fill: none; stroke: #ffffff; stroke-width: 0.8; stroke-linejoin: miter; stroke-linecap: square\"/>\n   </g>\n   <g id=\"patch_11\">\n    <path d=\"M 30.103125 457.198125 \nL 476.503125 457.198125 \n\" style=\"fill: none; stroke: #ffffff; stroke-width: 0.8; stroke-linejoin: miter; stroke-linecap: square\"/>\n   </g>\n   <g id=\"patch_12\">\n    <path d=\"M 30.103125 259.525398 \nL 476.503125 259.525398 \n\" style=\"fill: none; stroke: #ffffff; stroke-width: 0.8; stroke-linejoin: miter; stroke-linecap: square\"/>\n   </g>\n   <g id=\"text_30\">\n    <!-- Training and Validation Loss -->\n    <g style=\"fill: #ffffff\" transform=\"translate(169.83375 253.525398)scale(0.12 -0.12)\">\n     <defs>\n      <path id=\"DejaVuSans-4c\" d=\"M 628 4666 \nL 1259 4666 \nL 1259 531 \nL 3531 531 \nL 3531 0 \nL 628 0 \nL 628 4666 \nz\n\" transform=\"scale(0.015625)\"/>\n      <path id=\"DejaVuSans-73\" d=\"M 2834 3397 \nL 2834 2853 \nQ 2591 2978 2328 3040 \nQ 2066 3103 1784 3103 \nQ 1356 3103 1142 2972 \nQ 928 2841 928 2578 \nQ 928 2378 1081 2264 \nQ 1234 2150 1697 2047 \nL 1894 2003 \nQ 2506 1872 2764 1633 \nQ 3022 1394 3022 966 \nQ 3022 478 2636 193 \nQ 2250 -91 1575 -91 \nQ 1294 -91 989 -36 \nQ 684 19 347 128 \nL 347 722 \nQ 666 556 975 473 \nQ 1284 391 1588 391 \nQ 1994 391 2212 530 \nQ 2431 669 2431 922 \nQ 2431 1156 2273 1281 \nQ 2116 1406 1581 1522 \nL 1381 1569 \nQ 847 1681 609 1914 \nQ 372 2147 372 2553 \nQ 372 3047 722 3315 \nQ 1072 3584 1716 3584 \nQ 2034 3584 2315 3537 \nQ 2597 3491 2834 3397 \nz\n\" transform=\"scale(0.015625)\"/>\n     </defs>\n     <use xlink:href=\"#DejaVuSans-54\"/>\n     <use xlink:href=\"#DejaVuSans-72\" x=\"46.333984\"/>\n     <use xlink:href=\"#DejaVuSans-61\" x=\"87.447266\"/>\n     <use xlink:href=\"#DejaVuSans-69\" x=\"148.726562\"/>\n     <use xlink:href=\"#DejaVuSans-6e\" x=\"176.509766\"/>\n     <use xlink:href=\"#DejaVuSans-69\" x=\"239.888672\"/>\n     <use xlink:href=\"#DejaVuSans-6e\" x=\"267.671875\"/>\n     <use xlink:href=\"#DejaVuSans-67\" x=\"331.050781\"/>\n     <use xlink:href=\"#DejaVuSans-20\" x=\"394.527344\"/>\n     <use xlink:href=\"#DejaVuSans-61\" x=\"426.314453\"/>\n     <use xlink:href=\"#DejaVuSans-6e\" x=\"487.59375\"/>\n     <use xlink:href=\"#DejaVuSans-64\" x=\"550.972656\"/>\n     <use xlink:href=\"#DejaVuSans-20\" x=\"614.449219\"/>\n     <use xlink:href=\"#DejaVuSans-56\" x=\"646.236328\"/>\n     <use xlink:href=\"#DejaVuSans-61\" x=\"706.894531\"/>\n     <use xlink:href=\"#DejaVuSans-6c\" x=\"768.173828\"/>\n     <use xlink:href=\"#DejaVuSans-69\" x=\"795.957031\"/>\n     <use xlink:href=\"#DejaVuSans-64\" x=\"823.740234\"/>\n     <use xlink:href=\"#DejaVuSans-61\" x=\"887.216797\"/>\n     <use xlink:href=\"#DejaVuSans-74\" x=\"948.496094\"/>\n     <use xlink:href=\"#DejaVuSans-69\" x=\"987.705078\"/>\n     <use xlink:href=\"#DejaVuSans-6f\" x=\"1015.488281\"/>\n     <use xlink:href=\"#DejaVuSans-6e\" x=\"1076.669922\"/>\n     <use xlink:href=\"#DejaVuSans-20\" x=\"1140.048828\"/>\n     <use xlink:href=\"#DejaVuSans-4c\" x=\"1171.835938\"/>\n     <use xlink:href=\"#DejaVuSans-6f\" x=\"1225.798828\"/>\n     <use xlink:href=\"#DejaVuSans-73\" x=\"1286.980469\"/>\n     <use xlink:href=\"#DejaVuSans-73\" x=\"1339.080078\"/>\n    </g>\n   </g>\n   <g id=\"legend_2\">\n    <g id=\"patch_13\">\n     <path d=\"M 353.689062 311.559773 \nL 469.503125 311.559773 \nQ 471.503125 311.559773 471.503125 309.559773 \nL 471.503125 266.525398 \nQ 471.503125 264.525398 469.503125 264.525398 \nL 353.689062 264.525398 \nQ 351.689062 264.525398 351.689062 266.525398 \nL 351.689062 309.559773 \nQ 351.689062 311.559773 353.689062 311.559773 \nz\n\" style=\"opacity: 0.8; stroke: #cccccc; stroke-linejoin: miter\"/>\n    </g>\n    <g id=\"line2d_34\">\n     <path d=\"M 355.689062 272.623835 \nL 365.689062 272.623835 \nL 375.689062 272.623835 \n\" style=\"fill: none; stroke: #8dd3c7; stroke-width: 1.5; stroke-linecap: square\"/>\n    </g>\n    <g id=\"text_31\">\n     <!-- Training Loss -->\n     <g style=\"fill: #ffffff\" transform=\"translate(383.689062 276.123835)scale(0.1 -0.1)\">\n      <use xlink:href=\"#DejaVuSans-54\"/>\n      <use xlink:href=\"#DejaVuSans-72\" x=\"46.333984\"/>\n      <use xlink:href=\"#DejaVuSans-61\" x=\"87.447266\"/>\n      <use xlink:href=\"#DejaVuSans-69\" x=\"148.726562\"/>\n      <use xlink:href=\"#DejaVuSans-6e\" x=\"176.509766\"/>\n      <use xlink:href=\"#DejaVuSans-69\" x=\"239.888672\"/>\n      <use xlink:href=\"#DejaVuSans-6e\" x=\"267.671875\"/>\n      <use xlink:href=\"#DejaVuSans-67\" x=\"331.050781\"/>\n      <use xlink:href=\"#DejaVuSans-20\" x=\"394.527344\"/>\n      <use xlink:href=\"#DejaVuSans-4c\" x=\"426.314453\"/>\n      <use xlink:href=\"#DejaVuSans-6f\" x=\"480.277344\"/>\n      <use xlink:href=\"#DejaVuSans-73\" x=\"541.458984\"/>\n      <use xlink:href=\"#DejaVuSans-73\" x=\"593.558594\"/>\n     </g>\n    </g>\n    <g id=\"line2d_35\">\n     <path d=\"M 355.689062 287.30196 \nL 365.689062 287.30196 \nL 375.689062 287.30196 \n\" style=\"fill: none; stroke: #feffb3; stroke-width: 1.5; stroke-linecap: square\"/>\n    </g>\n    <g id=\"text_32\">\n     <!-- Validation Loss -->\n     <g style=\"fill: #ffffff\" transform=\"translate(383.689062 290.80196)scale(0.1 -0.1)\">\n      <use xlink:href=\"#DejaVuSans-56\"/>\n      <use xlink:href=\"#DejaVuSans-61\" x=\"60.658203\"/>\n      <use xlink:href=\"#DejaVuSans-6c\" x=\"121.9375\"/>\n      <use xlink:href=\"#DejaVuSans-69\" x=\"149.720703\"/>\n      <use xlink:href=\"#DejaVuSans-64\" x=\"177.503906\"/>\n      <use xlink:href=\"#DejaVuSans-61\" x=\"240.980469\"/>\n      <use xlink:href=\"#DejaVuSans-74\" x=\"302.259766\"/>\n      <use xlink:href=\"#DejaVuSans-69\" x=\"341.46875\"/>\n      <use xlink:href=\"#DejaVuSans-6f\" x=\"369.251953\"/>\n      <use xlink:href=\"#DejaVuSans-6e\" x=\"430.433594\"/>\n      <use xlink:href=\"#DejaVuSans-20\" x=\"493.8125\"/>\n      <use xlink:href=\"#DejaVuSans-4c\" x=\"525.599609\"/>\n      <use xlink:href=\"#DejaVuSans-6f\" x=\"579.5625\"/>\n      <use xlink:href=\"#DejaVuSans-73\" x=\"640.744141\"/>\n      <use xlink:href=\"#DejaVuSans-73\" x=\"692.84375\"/>\n     </g>\n    </g>\n    <g id=\"line2d_36\">\n     <path d=\"M 355.689062 301.980085 \nL 365.689062 301.980085 \nL 375.689062 301.980085 \n\" style=\"fill: none; stroke: #bfbbd9; stroke-width: 1.5; stroke-linecap: square\"/>\n    </g>\n    <g id=\"text_33\">\n     <!-- Start Fine Tuning -->\n     <g style=\"fill: #ffffff\" transform=\"translate(383.689062 305.480085)scale(0.1 -0.1)\">\n      <use xlink:href=\"#DejaVuSans-53\"/>\n      <use xlink:href=\"#DejaVuSans-74\" x=\"63.476562\"/>\n      <use xlink:href=\"#DejaVuSans-61\" x=\"102.685547\"/>\n      <use xlink:href=\"#DejaVuSans-72\" x=\"163.964844\"/>\n      <use xlink:href=\"#DejaVuSans-74\" x=\"205.078125\"/>\n      <use xlink:href=\"#DejaVuSans-20\" x=\"244.287109\"/>\n      <use xlink:href=\"#DejaVuSans-46\" x=\"276.074219\"/>\n      <use xlink:href=\"#DejaVuSans-69\" x=\"326.34375\"/>\n      <use xlink:href=\"#DejaVuSans-6e\" x=\"354.126953\"/>\n      <use xlink:href=\"#DejaVuSans-65\" x=\"417.505859\"/>\n      <use xlink:href=\"#DejaVuSans-20\" x=\"479.029297\"/>\n      <use xlink:href=\"#DejaVuSans-54\" x=\"510.816406\"/>\n      <use xlink:href=\"#DejaVuSans-75\" x=\"556.775391\"/>\n      <use xlink:href=\"#DejaVuSans-6e\" x=\"620.154297\"/>\n      <use xlink:href=\"#DejaVuSans-69\" x=\"683.533203\"/>\n      <use xlink:href=\"#DejaVuSans-6e\" x=\"711.316406\"/>\n      <use xlink:href=\"#DejaVuSans-67\" x=\"774.695312\"/>\n     </g>\n    </g>\n   </g>\n  </g>\n </g>\n <defs>\n  <clipPath id=\"p9ee6d06071\">\n   <rect x=\"30.103125\" y=\"22.318125\" width=\"446.4\" height=\"197.672727\"/>\n  </clipPath>\n  <clipPath id=\"p38779bc80c\">\n   <rect x=\"30.103125\" y=\"259.525398\" width=\"446.4\" height=\"197.672727\"/>\n  </clipPath>\n </defs>\n</svg>\n",
            "text/plain": [
              "<Figure size 576x576 with 2 Axes>"
            ]
          },
          "metadata": {},
          "output_type": "display_data"
        }
      ],
      "source": [
        "# Compare the historie of feature extraction model with fine-tuning model\n",
        "compare_historys(\n",
        "    original_history=history_all_classes_10_percent, \n",
        "    new_history=history_all_classes_10_percent_fine_tuned, \n",
        "    initial_epochs=5\n",
        ")"
      ]
    },
    {
      "cell_type": "markdown",
      "metadata": {},
      "source": [
        "## Saving and loading our model\n",
        "\n",
        "To use our model in an external application, we'll save it and export somewhere"
      ]
    },
    {
      "cell_type": "code",
      "execution_count": 32,
      "metadata": {},
      "outputs": [
        {
          "name": "stdout",
          "output_type": "stream",
          "text": [
            "INFO:tensorflow:Assets written to: 101_food_classes_10_percent/saved_trained_model/assets\n"
          ]
        },
        {
          "name": "stderr",
          "output_type": "stream",
          "text": [
            "c:\\Users\\gutsc\\anaconda3\\envs\\udemy_tensorflow\\lib\\site-packages\\keras\\utils\\generic_utils.py:494: CustomMaskWarning: Custom mask layers require a config and must override get_config. When loading, the custom mask layer must be passed to the custom_objects argument.\n",
            "  warnings.warn('Custom mask layers require a config and must override '\n"
          ]
        }
      ],
      "source": [
        "# Save our fine-tuned model\n",
        "model.save(\"101_food_classes_10_percent/saved_trained_model/\")"
      ]
    },
    {
      "cell_type": "code",
      "execution_count": null,
      "metadata": {},
      "outputs": [],
      "source": [
        "# Load and evaluate saved model\n",
        "loaded_model = tf.keras.models.load_model(\"101_food_classes_10_percent/saved_trained_model/\")"
      ]
    },
    {
      "cell_type": "code",
      "execution_count": 35,
      "metadata": {},
      "outputs": [
        {
          "name": "stdout",
          "output_type": "stream",
          "text": [
            "790/790 [==============================] - 71s 89ms/step - loss: 1.6370 - accuracy: 0.5657\n"
          ]
        },
        {
          "data": {
            "text/plain": [
              "[1.6370251178741455, 0.565742552280426]"
            ]
          },
          "execution_count": 35,
          "metadata": {},
          "output_type": "execute_result"
        }
      ],
      "source": [
        "# Evaluate loaded model and compare performance to pre-saved model\n",
        "loaded_model_results = loaded_model.evaluate(test_data)\n",
        "loaded_model_results"
      ]
    },
    {
      "cell_type": "code",
      "execution_count": 38,
      "metadata": {},
      "outputs": [
        {
          "data": {
            "text/plain": [
              "[1.6370251178741455, 0.565742552280426]"
            ]
          },
          "execution_count": 38,
          "metadata": {},
          "output_type": "execute_result"
        }
      ],
      "source": [
        "# The results from our loaded_model (above) should be very similar to the results below\n",
        "all_classes_10_percent_fine_tuned_results"
      ]
    },
    {
      "cell_type": "markdown",
      "metadata": {},
      "source": [
        "## Evaluating the performance of the big dog model across all different classes\n",
        "\n",
        "Let's make some predictions, visualize them and then later find out which predictions were the \"most\" wrong."
      ]
    },
    {
      "cell_type": "code",
      "execution_count": 42,
      "metadata": {},
      "outputs": [],
      "source": [
        "import tensorflow as tf\n",
        "import os\n",
        "\n",
        "# Download pretrained mode (one that was prepared earlier, so all predictions are similar)\n",
        "if not os.path.exists(\"07_efficientnetb0_fine_tuned_101_classes_mixed_precision.zip\"):\n",
        "    !python -m wget https://storage.googleapis.com/ztm_tf_course/food_vision/07_efficientnetb0_fine_tuned_101_classes_mixed_precision.zip\n",
        "if not os.path.exists(\"07_efficientnetb0_fine_tuned_101_classes_mixed_precision\"):\n",
        "    unzip_data(\"07_efficientnetb0_fine_tuned_101_classes_mixed_precision.zip\")"
      ]
    },
    {
      "cell_type": "code",
      "execution_count": 48,
      "metadata": {},
      "outputs": [],
      "source": [
        "# Load in saved model\n",
        "# model = tf.keras.models.load_model(\"07_efficientnetb0_fine_tuned_101_classes_mixed_precision\")"
      ]
    },
    {
      "cell_type": "code",
      "execution_count": 49,
      "metadata": {},
      "outputs": [],
      "source": [
        "# Evaluate loaded model (the one we just downloaded on test data)\n",
        "# results_downloaded_model = model.evaluate(test_data)\n",
        "# results_downloaded_model"
      ]
    },
    {
      "cell_type": "markdown",
      "metadata": {},
      "source": [
        "The model from dbourke isn't working in my case. That's why i am using my own loaded model for further work."
      ]
    },
    {
      "cell_type": "markdown",
      "metadata": {},
      "source": [
        "## Making predictions with our trained model"
      ]
    },
    {
      "cell_type": "code",
      "execution_count": 50,
      "metadata": {},
      "outputs": [
        {
          "name": "stdout",
          "output_type": "stream",
          "text": [
            "790/790 [==============================] - 68s 85ms/step\n"
          ]
        }
      ],
      "source": [
        "# Make predictions with model\n",
        "preds_probs = loaded_model.predict(test_data, verbose=1) # set verborsity to see how long is left"
      ]
    },
    {
      "cell_type": "code",
      "execution_count": 51,
      "metadata": {},
      "outputs": [
        {
          "data": {
            "text/plain": [
              "790"
            ]
          },
          "execution_count": 51,
          "metadata": {},
          "output_type": "execute_result"
        }
      ],
      "source": [
        "len(test_data)"
      ]
    },
    {
      "cell_type": "code",
      "execution_count": 52,
      "metadata": {},
      "outputs": [
        {
          "data": {
            "text/plain": [
              "25250"
            ]
          },
          "execution_count": 52,
          "metadata": {},
          "output_type": "execute_result"
        }
      ],
      "source": [
        "# How many predictions are there?\n",
        "len(preds_probs)"
      ]
    },
    {
      "cell_type": "code",
      "execution_count": 53,
      "metadata": {},
      "outputs": [
        {
          "data": {
            "text/plain": [
              "(25250, 101)"
            ]
          },
          "execution_count": 53,
          "metadata": {},
          "output_type": "execute_result"
        }
      ],
      "source": [
        "# What's the shape of our predictions?\n",
        "preds_probs.shape"
      ]
    },
    {
      "cell_type": "code",
      "execution_count": 54,
      "metadata": {},
      "outputs": [
        {
          "data": {
            "text/plain": [
              "array([[2.1892658e-01, 1.7999565e-04, 6.5498419e-02, ..., 1.4018068e-04,\n",
              "        1.5542877e-03, 1.8559998e-01],\n",
              "       [9.3593389e-01, 2.9630792e-07, 5.3656817e-04, ..., 4.2633322e-04,\n",
              "        9.0475004e-07, 1.6666295e-06],\n",
              "       [2.3277692e-01, 2.7895800e-03, 7.3765391e-03, ..., 9.5484272e-04,\n",
              "        2.1135681e-03, 6.8649221e-03],\n",
              "       ...,\n",
              "       [5.1859868e-01, 1.6626367e-05, 1.1567477e-03, ..., 1.8406518e-02,\n",
              "        5.5162539e-04, 2.5720731e-04],\n",
              "       [1.4192736e-01, 6.9239503e-04, 6.9072597e-02, ..., 5.7484559e-04,\n",
              "        3.5254203e-04, 7.6392817e-04],\n",
              "       [5.3036755e-01, 1.0255848e-05, 1.4568632e-03, ..., 5.7214289e-03,\n",
              "        4.8844879e-05, 4.8177652e-03]], dtype=float32)"
            ]
          },
          "execution_count": 54,
          "metadata": {},
          "output_type": "execute_result"
        }
      ],
      "source": [
        "# Let's see what the first 10 predictions look like\n",
        "preds_probs[:10]"
      ]
    },
    {
      "cell_type": "code",
      "execution_count": 58,
      "metadata": {},
      "outputs": [
        {
          "data": {
            "text/plain": [
              "(array([2.18926579e-01, 1.79995652e-04, 6.54984191e-02, 4.70018193e-07,\n",
              "        8.51854293e-06, 5.14893645e-06, 2.07535108e-04, 6.13238662e-05,\n",
              "        2.91395616e-02, 2.96188425e-03, 5.67262323e-05, 4.86556064e-06,\n",
              "        2.64779408e-03, 6.60726846e-06, 4.93487008e-02, 1.31282245e-03,\n",
              "        1.24287879e-04, 2.66818213e-03, 1.25663215e-03, 1.76287958e-05,\n",
              "        5.88946335e-04, 1.09072396e-04, 8.60903470e-04, 1.04049279e-03,\n",
              "        8.33238126e-04, 1.62948994e-03, 1.78463745e-03, 2.66211631e-04,\n",
              "        7.88679048e-02, 3.83399753e-03, 1.03204411e-05, 9.69134038e-04,\n",
              "        1.30325882e-03, 1.09959740e-06, 6.41045859e-03, 1.24117592e-04,\n",
              "        2.50013662e-03, 7.02978345e-04, 4.10416424e-02, 3.61666280e-05,\n",
              "        2.74749851e-04, 2.14123004e-03, 1.54402782e-03, 2.17528632e-05,\n",
              "        4.25683946e-04, 2.64956383e-04, 4.86693298e-03, 1.98165420e-04,\n",
              "        3.26182931e-06, 2.29221247e-02, 7.48885912e-04, 5.64377588e-05,\n",
              "        1.08348064e-01, 3.27416211e-02, 1.99535170e-05, 1.32076405e-02,\n",
              "        1.98271964e-02, 9.49425437e-03, 2.42477586e-03, 4.85519413e-05,\n",
              "        2.45987690e-06, 9.38119541e-04, 1.28312297e-02, 1.47099476e-04,\n",
              "        2.23249925e-04, 1.62749202e-03, 1.77428956e-05, 8.49588495e-03,\n",
              "        6.67189888e-04, 1.07640284e-03, 2.17546039e-04, 5.64928132e-06,\n",
              "        4.16890718e-03, 5.83596520e-05, 1.69870546e-04, 5.09068741e-06,\n",
              "        1.40270495e-04, 5.59056550e-03, 1.24279701e-03, 1.82227086e-04,\n",
              "        2.36137048e-03, 4.43462268e-05, 7.64526718e-04, 1.76653324e-04,\n",
              "        1.49510032e-03, 1.75733864e-02, 1.45357358e-03, 2.01502442e-03,\n",
              "        3.99047713e-05, 6.91416673e-04, 4.78954498e-05, 6.19437342e-05,\n",
              "        1.93187548e-03, 5.90681913e-04, 7.33083871e-04, 5.96765941e-03,\n",
              "        1.78969593e-03, 2.31065103e-04, 1.40180680e-04, 1.55428774e-03,\n",
              "        1.85599983e-01], dtype=float32),\n",
              " 101,\n",
              " 0.9999999677275753)"
            ]
          },
          "execution_count": 58,
          "metadata": {},
          "output_type": "execute_result"
        }
      ],
      "source": [
        "# What does the first prediction probability array look like?\n",
        "preds_probs[0], len(preds_probs[0]), sum(preds_probs[0])"
      ]
    },
    {
      "cell_type": "markdown",
      "metadata": {},
      "source": [
        "Our model outputs a prediction probability array (with N number of variables, where N is the number of classes) for each sample passed to the predict method"
      ]
    },
    {
      "cell_type": "code",
      "execution_count": 61,
      "metadata": {},
      "outputs": [
        {
          "name": "stdout",
          "output_type": "stream",
          "text": [
            "Number of prediction probabilities for sample 0: 101\n",
            "What prediction probability sample 0 looks like: \n",
            "[2.18926579e-01 1.79995652e-04 6.54984191e-02 4.70018193e-07\n",
            " 8.51854293e-06 5.14893645e-06 2.07535108e-04 6.13238662e-05\n",
            " 2.91395616e-02 2.96188425e-03 5.67262323e-05 4.86556064e-06\n",
            " 2.64779408e-03 6.60726846e-06 4.93487008e-02 1.31282245e-03\n",
            " 1.24287879e-04 2.66818213e-03 1.25663215e-03 1.76287958e-05\n",
            " 5.88946335e-04 1.09072396e-04 8.60903470e-04 1.04049279e-03\n",
            " 8.33238126e-04 1.62948994e-03 1.78463745e-03 2.66211631e-04\n",
            " 7.88679048e-02 3.83399753e-03 1.03204411e-05 9.69134038e-04\n",
            " 1.30325882e-03 1.09959740e-06 6.41045859e-03 1.24117592e-04\n",
            " 2.50013662e-03 7.02978345e-04 4.10416424e-02 3.61666280e-05\n",
            " 2.74749851e-04 2.14123004e-03 1.54402782e-03 2.17528632e-05\n",
            " 4.25683946e-04 2.64956383e-04 4.86693298e-03 1.98165420e-04\n",
            " 3.26182931e-06 2.29221247e-02 7.48885912e-04 5.64377588e-05\n",
            " 1.08348064e-01 3.27416211e-02 1.99535170e-05 1.32076405e-02\n",
            " 1.98271964e-02 9.49425437e-03 2.42477586e-03 4.85519413e-05\n",
            " 2.45987690e-06 9.38119541e-04 1.28312297e-02 1.47099476e-04\n",
            " 2.23249925e-04 1.62749202e-03 1.77428956e-05 8.49588495e-03\n",
            " 6.67189888e-04 1.07640284e-03 2.17546039e-04 5.64928132e-06\n",
            " 4.16890718e-03 5.83596520e-05 1.69870546e-04 5.09068741e-06\n",
            " 1.40270495e-04 5.59056550e-03 1.24279701e-03 1.82227086e-04\n",
            " 2.36137048e-03 4.43462268e-05 7.64526718e-04 1.76653324e-04\n",
            " 1.49510032e-03 1.75733864e-02 1.45357358e-03 2.01502442e-03\n",
            " 3.99047713e-05 6.91416673e-04 4.78954498e-05 6.19437342e-05\n",
            " 1.93187548e-03 5.90681913e-04 7.33083871e-04 5.96765941e-03\n",
            " 1.78969593e-03 2.31065103e-04 1.40180680e-04 1.55428774e-03\n",
            " 1.85599983e-01]\n",
            "The class with the highest predicted probability by the model for sample 0: 0\n"
          ]
        }
      ],
      "source": [
        "# We get one prediction probability per class (in our case there's 101 prediction probabilities)\n",
        "print(f\"Number of prediction probabilities for sample 0: {len(preds_probs[0])}\")\n",
        "print(f\"What prediction probability sample 0 looks like: \\n{preds_probs[0]}\")\n",
        "print(f\"The class with the highest predicted probability by the model for sample 0: {tf.argmax(preds_probs[0])}\")"
      ]
    },
    {
      "cell_type": "code",
      "execution_count": 64,
      "metadata": {},
      "outputs": [
        {
          "data": {
            "text/plain": [
              "[<matplotlib.lines.Line2D at 0x202f29f4d90>]"
            ]
          },
          "execution_count": 64,
          "metadata": {},
          "output_type": "execute_result"
        },
        {
          "data": {
            "image/png": "[encoded data removed]",
            "image/svg+xml": "<?xml version=\"1.0\" encoding=\"utf-8\" standalone=\"no\"?>\n<!DOCTYPE svg PUBLIC \"-//W3C//DTD SVG 1.1//EN\"\n  \"http://www.w3.org/Graphics/SVG/1.1/DTD/svg11.dtd\">\n<svg xmlns:xlink=\"http://www.w3.org/1999/xlink\" width=\"378.465625pt\" height=\"248.518125pt\" viewBox=\"0 0 378.465625 248.518125\" xmlns=\"http://www.w3.org/2000/svg\" version=\"1.1\">\n <metadata>\n  <rdf:RDF xmlns:dc=\"http://purl.org/dc/elements/1.1/\" xmlns:cc=\"http://creativecommons.org/ns#\" xmlns:rdf=\"http://www.w3.org/1999/02/22-rdf-syntax-ns#\">\n   <cc:Work>\n    <dc:type rdf:resource=\"http://purl.org/dc/dcmitype/StillImage\"/>\n    <dc:date>2022-06-28T06:36:50.586382</dc:date>\n    <dc:format>image/svg+xml</dc:format>\n    <dc:creator>\n     <cc:Agent>\n      <dc:title>Matplotlib v3.5.1, https://matplotlib.org/</dc:title>\n     </cc:Agent>\n    </dc:creator>\n   </cc:Work>\n  </rdf:RDF>\n </metadata>\n <defs>\n  <style type=\"text/css\">*{stroke-linejoin: round; stroke-linecap: butt}</style>\n </defs>\n <g id=\"figure_1\">\n  <g id=\"patch_1\">\n   <path d=\"M 0 248.518125 \nL 378.465625 248.518125 \nL 378.465625 0 \nL 0 0 \nz\n\"/>\n  </g>\n  <g id=\"axes_1\">\n   <g id=\"patch_2\">\n    <path d=\"M 36.465625 224.64 \nL 371.265625 224.64 \nL 371.265625 7.2 \nL 36.465625 7.2 \nz\n\"/>\n   </g>\n   <g id=\"matplotlib.axis_1\">\n    <g id=\"xtick_1\">\n     <g id=\"line2d_1\">\n      <defs>\n       <path id=\"m762d4b4fe7\" d=\"M 0 0 \nL 0 3.5 \n\" style=\"stroke: #ffffff; stroke-width: 0.8\"/>\n      </defs>\n      <g>\n       <use xlink:href=\"#m762d4b4fe7\" x=\"51.683807\" y=\"224.64\" style=\"fill: #ffffff; stroke: #ffffff; stroke-width: 0.8\"/>\n      </g>\n     </g>\n     <g id=\"text_1\">\n      <!-- 0 -->\n      <g style=\"fill: #ffffff\" transform=\"translate(48.502557 239.238438)scale(0.1 -0.1)\">\n       <defs>\n        <path id=\"DejaVuSans-30\" d=\"M 2034 4250 \nQ 1547 4250 1301 3770 \nQ 1056 3291 1056 2328 \nQ 1056 1369 1301 889 \nQ 1547 409 2034 409 \nQ 2525 409 2770 889 \nQ 3016 1369 3016 2328 \nQ 3016 3291 2770 3770 \nQ 2525 4250 2034 4250 \nz\nM 2034 4750 \nQ 2819 4750 3233 4129 \nQ 3647 3509 3647 2328 \nQ 3647 1150 3233 529 \nQ 2819 -91 2034 -91 \nQ 1250 -91 836 529 \nQ 422 1150 422 2328 \nQ 422 3509 836 4129 \nQ 1250 4750 2034 4750 \nz\n\" transform=\"scale(0.015625)\"/>\n       </defs>\n       <use xlink:href=\"#DejaVuSans-30\"/>\n      </g>\n     </g>\n    </g>\n    <g id=\"xtick_2\">\n     <g id=\"line2d_2\">\n      <g>\n       <use xlink:href=\"#m762d4b4fe7\" x=\"112.556534\" y=\"224.64\" style=\"fill: #ffffff; stroke: #ffffff; stroke-width: 0.8\"/>\n      </g>\n     </g>\n     <g id=\"text_2\">\n      <!-- 20 -->\n      <g style=\"fill: #ffffff\" transform=\"translate(106.194034 239.238438)scale(0.1 -0.1)\">\n       <defs>\n        <path id=\"DejaVuSans-32\" d=\"M 1228 531 \nL 3431 531 \nL 3431 0 \nL 469 0 \nL 469 531 \nQ 828 903 1448 1529 \nQ 2069 2156 2228 2338 \nQ 2531 2678 2651 2914 \nQ 2772 3150 2772 3378 \nQ 2772 3750 2511 3984 \nQ 2250 4219 1831 4219 \nQ 1534 4219 1204 4116 \nQ 875 4013 500 3803 \nL 500 4441 \nQ 881 4594 1212 4672 \nQ 1544 4750 1819 4750 \nQ 2544 4750 2975 4387 \nQ 3406 4025 3406 3419 \nQ 3406 3131 3298 2873 \nQ 3191 2616 2906 2266 \nQ 2828 2175 2409 1742 \nQ 1991 1309 1228 531 \nz\n\" transform=\"scale(0.015625)\"/>\n       </defs>\n       <use xlink:href=\"#DejaVuSans-32\"/>\n       <use xlink:href=\"#DejaVuSans-30\" x=\"63.623047\"/>\n      </g>\n     </g>\n    </g>\n    <g id=\"xtick_3\">\n     <g id=\"line2d_3\">\n      <g>\n       <use xlink:href=\"#m762d4b4fe7\" x=\"173.429261\" y=\"224.64\" style=\"fill: #ffffff; stroke: #ffffff; stroke-width: 0.8\"/>\n      </g>\n     </g>\n     <g id=\"text_3\">\n      <!-- 40 -->\n      <g style=\"fill: #ffffff\" transform=\"translate(167.066761 239.238438)scale(0.1 -0.1)\">\n       <defs>\n        <path id=\"DejaVuSans-34\" d=\"M 2419 4116 \nL 825 1625 \nL 2419 1625 \nL 2419 4116 \nz\nM 2253 4666 \nL 3047 4666 \nL 3047 1625 \nL 3713 1625 \nL 3713 1100 \nL 3047 1100 \nL 3047 0 \nL 2419 0 \nL 2419 1100 \nL 313 1100 \nL 313 1709 \nL 2253 4666 \nz\n\" transform=\"scale(0.015625)\"/>\n       </defs>\n       <use xlink:href=\"#DejaVuSans-34\"/>\n       <use xlink:href=\"#DejaVuSans-30\" x=\"63.623047\"/>\n      </g>\n     </g>\n    </g>\n    <g id=\"xtick_4\">\n     <g id=\"line2d_4\">\n      <g>\n       <use xlink:href=\"#m762d4b4fe7\" x=\"234.301989\" y=\"224.64\" style=\"fill: #ffffff; stroke: #ffffff; stroke-width: 0.8\"/>\n      </g>\n     </g>\n     <g id=\"text_4\">\n      <!-- 60 -->\n      <g style=\"fill: #ffffff\" transform=\"translate(227.939489 239.238438)scale(0.1 -0.1)\">\n       <defs>\n        <path id=\"DejaVuSans-36\" d=\"M 2113 2584 \nQ 1688 2584 1439 2293 \nQ 1191 2003 1191 1497 \nQ 1191 994 1439 701 \nQ 1688 409 2113 409 \nQ 2538 409 2786 701 \nQ 3034 994 3034 1497 \nQ 3034 2003 2786 2293 \nQ 2538 2584 2113 2584 \nz\nM 3366 4563 \nL 3366 3988 \nQ 3128 4100 2886 4159 \nQ 2644 4219 2406 4219 \nQ 1781 4219 1451 3797 \nQ 1122 3375 1075 2522 \nQ 1259 2794 1537 2939 \nQ 1816 3084 2150 3084 \nQ 2853 3084 3261 2657 \nQ 3669 2231 3669 1497 \nQ 3669 778 3244 343 \nQ 2819 -91 2113 -91 \nQ 1303 -91 875 529 \nQ 447 1150 447 2328 \nQ 447 3434 972 4092 \nQ 1497 4750 2381 4750 \nQ 2619 4750 2861 4703 \nQ 3103 4656 3366 4563 \nz\n\" transform=\"scale(0.015625)\"/>\n       </defs>\n       <use xlink:href=\"#DejaVuSans-36\"/>\n       <use xlink:href=\"#DejaVuSans-30\" x=\"63.623047\"/>\n      </g>\n     </g>\n    </g>\n    <g id=\"xtick_5\">\n     <g id=\"line2d_5\">\n      <g>\n       <use xlink:href=\"#m762d4b4fe7\" x=\"295.174716\" y=\"224.64\" style=\"fill: #ffffff; stroke: #ffffff; stroke-width: 0.8\"/>\n      </g>\n     </g>\n     <g id=\"text_5\">\n      <!-- 80 -->\n      <g style=\"fill: #ffffff\" transform=\"translate(288.812216 239.238438)scale(0.1 -0.1)\">\n       <defs>\n        <path id=\"DejaVuSans-38\" d=\"M 2034 2216 \nQ 1584 2216 1326 1975 \nQ 1069 1734 1069 1313 \nQ 1069 891 1326 650 \nQ 1584 409 2034 409 \nQ 2484 409 2743 651 \nQ 3003 894 3003 1313 \nQ 3003 1734 2745 1975 \nQ 2488 2216 2034 2216 \nz\nM 1403 2484 \nQ 997 2584 770 2862 \nQ 544 3141 544 3541 \nQ 544 4100 942 4425 \nQ 1341 4750 2034 4750 \nQ 2731 4750 3128 4425 \nQ 3525 4100 3525 3541 \nQ 3525 3141 3298 2862 \nQ 3072 2584 2669 2484 \nQ 3125 2378 3379 2068 \nQ 3634 1759 3634 1313 \nQ 3634 634 3220 271 \nQ 2806 -91 2034 -91 \nQ 1263 -91 848 271 \nQ 434 634 434 1313 \nQ 434 1759 690 2068 \nQ 947 2378 1403 2484 \nz\nM 1172 3481 \nQ 1172 3119 1398 2916 \nQ 1625 2713 2034 2713 \nQ 2441 2713 2670 2916 \nQ 2900 3119 2900 3481 \nQ 2900 3844 2670 4047 \nQ 2441 4250 2034 4250 \nQ 1625 4250 1398 4047 \nQ 1172 3844 1172 3481 \nz\n\" transform=\"scale(0.015625)\"/>\n       </defs>\n       <use xlink:href=\"#DejaVuSans-38\"/>\n       <use xlink:href=\"#DejaVuSans-30\" x=\"63.623047\"/>\n      </g>\n     </g>\n    </g>\n    <g id=\"xtick_6\">\n     <g id=\"line2d_6\">\n      <g>\n       <use xlink:href=\"#m762d4b4fe7\" x=\"356.047443\" y=\"224.64\" style=\"fill: #ffffff; stroke: #ffffff; stroke-width: 0.8\"/>\n      </g>\n     </g>\n     <g id=\"text_6\">\n      <!-- 100 -->\n      <g style=\"fill: #ffffff\" transform=\"translate(346.503693 239.238438)scale(0.1 -0.1)\">\n       <defs>\n        <path id=\"DejaVuSans-31\" d=\"M 794 531 \nL 1825 531 \nL 1825 4091 \nL 703 3866 \nL 703 4441 \nL 1819 4666 \nL 2450 4666 \nL 2450 531 \nL 3481 531 \nL 3481 0 \nL 794 0 \nL 794 531 \nz\n\" transform=\"scale(0.015625)\"/>\n       </defs>\n       <use xlink:href=\"#DejaVuSans-31\"/>\n       <use xlink:href=\"#DejaVuSans-30\" x=\"63.623047\"/>\n       <use xlink:href=\"#DejaVuSans-30\" x=\"127.246094\"/>\n      </g>\n     </g>\n    </g>\n   </g>\n   <g id=\"matplotlib.axis_2\">\n    <g id=\"ytick_1\">\n     <g id=\"line2d_7\">\n      <defs>\n       <path id=\"m8de2f12671\" d=\"M 0 0 \nL -3.5 0 \n\" style=\"stroke: #ffffff; stroke-width: 0.8\"/>\n      </defs>\n      <g>\n       <use xlink:href=\"#m8de2f12671\" x=\"36.465625\" y=\"214.756788\" style=\"fill: #ffffff; stroke: #ffffff; stroke-width: 0.8\"/>\n      </g>\n     </g>\n     <g id=\"text_7\">\n      <!-- 0.00 -->\n      <g style=\"fill: #ffffff\" transform=\"translate(7.2 218.556007)scale(0.1 -0.1)\">\n       <defs>\n        <path id=\"DejaVuSans-2e\" d=\"M 684 794 \nL 1344 794 \nL 1344 0 \nL 684 0 \nL 684 794 \nz\n\" transform=\"scale(0.015625)\"/>\n       </defs>\n       <use xlink:href=\"#DejaVuSans-30\"/>\n       <use xlink:href=\"#DejaVuSans-2e\" x=\"63.623047\"/>\n       <use xlink:href=\"#DejaVuSans-30\" x=\"95.410156\"/>\n       <use xlink:href=\"#DejaVuSans-30\" x=\"159.033203\"/>\n      </g>\n     </g>\n    </g>\n    <g id=\"ytick_2\">\n     <g id=\"line2d_8\">\n      <g>\n       <use xlink:href=\"#m8de2f12671\" x=\"36.465625\" y=\"169.610796\" style=\"fill: #ffffff; stroke: #ffffff; stroke-width: 0.8\"/>\n      </g>\n     </g>\n     <g id=\"text_8\">\n      <!-- 0.05 -->\n      <g style=\"fill: #ffffff\" transform=\"translate(7.2 173.410015)scale(0.1 -0.1)\">\n       <defs>\n        <path id=\"DejaVuSans-35\" d=\"M 691 4666 \nL 3169 4666 \nL 3169 4134 \nL 1269 4134 \nL 1269 2991 \nQ 1406 3038 1543 3061 \nQ 1681 3084 1819 3084 \nQ 2600 3084 3056 2656 \nQ 3513 2228 3513 1497 \nQ 3513 744 3044 326 \nQ 2575 -91 1722 -91 \nQ 1428 -91 1123 -41 \nQ 819 9 494 109 \nL 494 744 \nQ 775 591 1075 516 \nQ 1375 441 1709 441 \nQ 2250 441 2565 725 \nQ 2881 1009 2881 1497 \nQ 2881 1984 2565 2268 \nQ 2250 2553 1709 2553 \nQ 1456 2553 1204 2497 \nQ 953 2441 691 2322 \nL 691 4666 \nz\n\" transform=\"scale(0.015625)\"/>\n       </defs>\n       <use xlink:href=\"#DejaVuSans-30\"/>\n       <use xlink:href=\"#DejaVuSans-2e\" x=\"63.623047\"/>\n       <use xlink:href=\"#DejaVuSans-30\" x=\"95.410156\"/>\n       <use xlink:href=\"#DejaVuSans-35\" x=\"159.033203\"/>\n      </g>\n     </g>\n    </g>\n    <g id=\"ytick_3\">\n     <g id=\"line2d_9\">\n      <g>\n       <use xlink:href=\"#m8de2f12671\" x=\"36.465625\" y=\"124.464804\" style=\"fill: #ffffff; stroke: #ffffff; stroke-width: 0.8\"/>\n      </g>\n     </g>\n     <g id=\"text_9\">\n      <!-- 0.10 -->\n      <g style=\"fill: #ffffff\" transform=\"translate(7.2 128.264023)scale(0.1 -0.1)\">\n       <use xlink:href=\"#DejaVuSans-30\"/>\n       <use xlink:href=\"#DejaVuSans-2e\" x=\"63.623047\"/>\n       <use xlink:href=\"#DejaVuSans-31\" x=\"95.410156\"/>\n       <use xlink:href=\"#DejaVuSans-30\" x=\"159.033203\"/>\n      </g>\n     </g>\n    </g>\n    <g id=\"ytick_4\">\n     <g id=\"line2d_10\">\n      <g>\n       <use xlink:href=\"#m8de2f12671\" x=\"36.465625\" y=\"79.318812\" style=\"fill: #ffffff; stroke: #ffffff; stroke-width: 0.8\"/>\n      </g>\n     </g>\n     <g id=\"text_10\">\n      <!-- 0.15 -->\n      <g style=\"fill: #ffffff\" transform=\"translate(7.2 83.118031)scale(0.1 -0.1)\">\n       <use xlink:href=\"#DejaVuSans-30\"/>\n       <use xlink:href=\"#DejaVuSans-2e\" x=\"63.623047\"/>\n       <use xlink:href=\"#DejaVuSans-31\" x=\"95.410156\"/>\n       <use xlink:href=\"#DejaVuSans-35\" x=\"159.033203\"/>\n      </g>\n     </g>\n    </g>\n    <g id=\"ytick_5\">\n     <g id=\"line2d_11\">\n      <g>\n       <use xlink:href=\"#m8de2f12671\" x=\"36.465625\" y=\"34.17282\" style=\"fill: #ffffff; stroke: #ffffff; stroke-width: 0.8\"/>\n      </g>\n     </g>\n     <g id=\"text_11\">\n      <!-- 0.20 -->\n      <g style=\"fill: #ffffff\" transform=\"translate(7.2 37.972039)scale(0.1 -0.1)\">\n       <use xlink:href=\"#DejaVuSans-30\"/>\n       <use xlink:href=\"#DejaVuSans-2e\" x=\"63.623047\"/>\n       <use xlink:href=\"#DejaVuSans-32\" x=\"95.410156\"/>\n       <use xlink:href=\"#DejaVuSans-30\" x=\"159.033203\"/>\n      </g>\n     </g>\n    </g>\n   </g>\n   <g id=\"line2d_12\">\n    <path d=\"M 51.683807 17.083636 \nL 54.727443 214.594266 \nL 57.77108 155.616966 \nL 60.814716 214.756364 \nL 63.858352 214.749096 \nL 66.901989 214.752139 \nL 69.945625 214.5694 \nL 72.989261 214.701417 \nL 76.032898 188.4461 \nL 79.076534 212.082444 \nL 82.12017 214.705569 \nL 85.163807 214.752395 \nL 88.207443 212.366042 \nL 91.25108 214.750822 \nL 94.294716 170.198867 \nL 97.338352 213.571415 \nL 100.381989 214.644566 \nL 103.425625 212.347633 \nL 106.469261 213.62215 \nL 109.512898 214.740871 \nL 112.556534 214.225017 \nL 115.60017 214.658304 \nL 118.643807 213.979461 \nL 121.687443 213.817306 \nL 124.73108 214.004441 \nL 127.774716 213.285489 \nL 130.818352 213.145403 \nL 133.861989 214.51642 \nL 136.905625 143.545392 \nL 139.949261 211.294996 \nL 142.992898 214.747469 \nL 146.036534 213.881738 \nL 149.08017 213.58005 \nL 152.123807 214.755795 \nL 155.167443 208.968658 \nL 158.21108 214.64472 \nL 161.254716 212.499365 \nL 164.298352 214.122055 \nL 167.341989 177.699475 \nL 170.385625 214.724132 \nL 173.429261 214.508711 \nL 176.472898 212.823429 \nL 179.516534 213.362655 \nL 182.56017 214.737147 \nL 185.603807 214.37243 \nL 188.647443 214.517554 \nL 191.69108 210.362338 \nL 194.734716 214.577861 \nL 197.778352 214.753843 \nL 200.821989 194.059947 \nL 203.865625 214.080604 \nL 206.909261 214.705829 \nL 209.952898 116.927171 \nL 212.996534 185.193729 \nL 216.04017 214.738772 \nL 219.083807 202.831347 \nL 222.127443 196.854419 \nL 225.17108 206.184237 \nL 228.214716 212.56741 \nL 231.258352 214.71295 \nL 234.301989 214.754567 \nL 237.345625 213.909741 \nL 240.389261 203.171216 \nL 243.432898 214.623969 \nL 246.476534 214.555211 \nL 249.52017 213.287293 \nL 252.563807 214.740768 \nL 255.607443 207.085685 \nL 258.65108 214.154369 \nL 261.694716 213.784883 \nL 264.738352 214.560361 \nL 267.781989 214.751687 \nL 270.825625 210.992599 \nL 273.869261 214.704094 \nL 276.912898 214.603409 \nL 279.956534 214.752192 \nL 283.00017 214.630135 \nL 286.043807 209.708956 \nL 289.087443 213.634642 \nL 292.13108 214.592252 \nL 295.174716 212.62466 \nL 298.218352 214.716747 \nL 301.261989 214.066482 \nL 304.305625 214.597284 \nL 307.349261 213.406832 \nL 310.392898 198.889429 \nL 313.436534 213.444328 \nL 316.48017 212.937382 \nL 319.523807 214.720757 \nL 322.567443 214.132494 \nL 325.61108 214.713542 \nL 328.654716 214.700858 \nL 331.698352 213.012459 \nL 334.741989 214.22345 \nL 337.785625 214.094872 \nL 340.829261 209.36847 \nL 343.872898 213.140836 \nL 346.916534 214.548155 \nL 349.96017 214.630216 \nL 353.003807 213.353391 \nL 356.047443 47.174881 \n\" clip-path=\"url(#p2751551735)\" style=\"fill: none; stroke: #8dd3c7; stroke-width: 1.5; stroke-linecap: square\"/>\n   </g>\n   <g id=\"patch_3\">\n    <path d=\"M 36.465625 224.64 \nL 36.465625 7.2 \n\" style=\"fill: none; stroke: #ffffff; stroke-width: 0.8; stroke-linejoin: miter; stroke-linecap: square\"/>\n   </g>\n   <g id=\"patch_4\">\n    <path d=\"M 371.265625 224.64 \nL 371.265625 7.2 \n\" style=\"fill: none; stroke: #ffffff; stroke-width: 0.8; stroke-linejoin: miter; stroke-linecap: square\"/>\n   </g>\n   <g id=\"patch_5\">\n    <path d=\"M 36.465625 224.64 \nL 371.265625 224.64 \n\" style=\"fill: none; stroke: #ffffff; stroke-width: 0.8; stroke-linejoin: miter; stroke-linecap: square\"/>\n   </g>\n   <g id=\"patch_6\">\n    <path d=\"M 36.465625 7.2 \nL 371.265625 7.2 \n\" style=\"fill: none; stroke: #ffffff; stroke-width: 0.8; stroke-linejoin: miter; stroke-linecap: square\"/>\n   </g>\n  </g>\n </g>\n <defs>\n  <clipPath id=\"p2751551735\">\n   <rect x=\"36.465625\" y=\"7.2\" width=\"334.8\" height=\"217.44\"/>\n  </clipPath>\n </defs>\n</svg>\n",
            "text/plain": [
              "<Figure size 432x288 with 1 Axes>"
            ]
          },
          "metadata": {},
          "output_type": "display_data"
        }
      ],
      "source": [
        "# Visualize the probabilities\n",
        "matplotlib.pyplot.plot(preds_probs[0])"
      ]
    },
    {
      "cell_type": "code",
      "execution_count": 67,
      "metadata": {},
      "outputs": [
        {
          "data": {
            "text/plain": [
              "'apple_pie'"
            ]
          },
          "execution_count": 67,
          "metadata": {},
          "output_type": "execute_result"
        }
      ],
      "source": [
        "test_data.class_names[tf.argmax(preds_probs[0])]"
      ]
    },
    {
      "cell_type": "code",
      "execution_count": 74,
      "metadata": {},
      "outputs": [
        {
          "data": {
            "text/plain": [
              "array([ 0,  0,  0, 38,  8, 78, 29,  0,  9,  0], dtype=int64)"
            ]
          },
          "execution_count": 74,
          "metadata": {},
          "output_type": "execute_result"
        }
      ],
      "source": [
        "# Get the pred classes of each label\n",
        "pred_classes = preds_probs.argmax(axis=1)\n",
        "\n",
        "# How do they look?\n",
        "pred_classes[:10]"
      ]
    },
    {
      "cell_type": "code",
      "execution_count": null,
      "metadata": {},
      "outputs": [],
      "source": []
    }
  ],
  "metadata": {
    "accelerator": "GPU",
    "colab": {
      "authorship_tag": "ABX9TyMu0iHzJt2plAy3p2dORhsU",
      "collapsed_sections": [],
      "include_colab_link": true,
      "name": "06_transfer_learning_with_TensorFlow_part_3_scaling_up.ipynb",
      "provenance": []
    },
    "gpuClass": "standard",
    "kernelspec": {
      "display_name": "Python 3.9.7 ('udemy_tensorflow')",
      "language": "python",
      "name": "python3"
    },
    "language_info": {
      "codemirror_mode": {
        "name": "ipython",
        "version": 3
      },
      "file_extension": ".py",
      "mimetype": "text/x-python",
      "name": "python",
      "nbconvert_exporter": "python",
      "pygments_lexer": "ipython3",
      "version": "3.9.7"
    },
    "vscode": {
      "interpreter": {
        "hash": "63418e73e250c304d26eaf03185e2f59ff2277f62dd1cc8bba54019c2c46cc60"
      }
    }
  },
  "nbformat": 4,
  "nbformat_minor": 0
}
