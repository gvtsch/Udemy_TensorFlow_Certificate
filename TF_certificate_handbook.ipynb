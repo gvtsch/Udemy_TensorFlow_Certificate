{
  "nbformat": 4,
  "nbformat_minor": 0,
  "metadata": {
    "colab": {
      "name": "TF_certificate_handbook.ipynb",
      "provenance": [],
      "collapsed_sections": [],
      "authorship_tag": "ABX9TyPhr02Iw9tnjGrrCjkYZfw8",
      "include_colab_link": true
    },
    "kernelspec": {
      "name": "python3",
      "display_name": "Python 3"
    },
    "language_info": {
      "name": "python"
    }
  },
  "cells": [
    {
      "cell_type": "markdown",
      "metadata": {
        "id": "view-in-github",
        "colab_type": "text"
      },
      "source": [
        "<a href=\"https://colab.research.google.com/github/gvtsch/Udemy_TensorFlow_Certificate/blob/main/TF_certificate_handbook.ipynb\" target=\"_parent\"><img src=\"https://colab.research.google.com/assets/colab-badge.svg\" alt=\"Open In Colab\"/></a>"
      ]
    },
    {
      "cell_type": "markdown",
      "source": [
        "# TensorFlow Developer Certificate\n",
        "You can find this and other relevant information in the [TensorFlow Certificate Candidate Handbook](https://www.tensorflow.org/extras/cert/TF_Certificate_Candidate_Handbook.pdf). In the official handbook you can actual information, information according time limit, registration, results etc.\n",
        "\n",
        "In this notebook I am trying to create a link to code for every checkbox (as far as possible)."
      ],
      "metadata": {
        "id": "Vivah5k0jUxJ"
      }
    },
    {
      "cell_type": "markdown",
      "source": [
        "## 1. Tensorflow developer skills\n",
        "You need to demonstrate that you understand how to develop software programs using TensorFlow and\n",
        "that you can find the information you need to work as an ML practitioner. \n",
        "\n",
        "---\n",
        "\n",
        "<div>\n",
        "<input type=\"checkbox\">Know how to program in Python, resolve Python issues, and compile and run Python programs in PyCharm.\n",
        "</div>\n",
        "<div>\n",
        "<input type=\"checkbox\">Know how to find information about TensorFlow APIs, including how to find guides and API references on tensorflow.org.\n",
        "</div>\n",
        "<div>\n",
        "<input type=\"checkbox\">Know how to debug, investigate, and solve error messages from the TensorFlow API.\n",
        "</div>\n",
        "<div>\n",
        "<input type=\"checkbox\">Know how to search beyond tensorflow.org, as and when necessary, to solve your TensorFlow questions.\n",
        "</div>\n",
        "<div>\n",
        "<input type=\"checkbox\">Know how to create ML models using TensorFlow where the model size is reasonable for the problem being solved.\n",
        "</div>\n",
        "<div>\n",
        "<input type=\"checkbox\">Know how to save ML models and check the model file size.\n",
        "</div>\n",
        "<div>\n",
        "<input type=\"checkbox\">Understand the compatibility discrepancies between different versions of TensorFlow.\n",
        "</div>"
      ],
      "metadata": {
        "id": "10TstFOvjgyp"
      }
    },
    {
      "cell_type": "markdown",
      "source": [
        "## 2. Building and training neural network models using TensorFlow 2.x\n",
        "You need to understand the foundational principles of machine learning (ML) and deep learning (DL) using TensorFlow 2.x. \n",
        "\n",
        "---\n",
        "\n",
        "<div>\n",
        "<input type=\"checkbox\">Use TensorFlow 2.x.\n",
        "</div>\n",
        "<div>\n",
        "<input type=\"checkbox\">Build, compile and train machine learning (ML) models using TensorFlow.\n",
        "</div>\n",
        "<div>\n",
        "<input type=\"checkbox\">Preprocess data to get it ready for use in a model.\n",
        "</div>\n",
        "<div>\n",
        "<input type=\"checkbox\">Use models to predict results.\n",
        "</div>\n",
        "<div>\n",
        "<input type=\"checkbox\">Build sequential models with multiple layers\n",
        "</div>\n",
        "<div>\n",
        "<input type=\"checkbox\">Build and train models for binary classification.\n",
        "</div>\n",
        "<div>\n",
        "<input type=\"checkbox\">Build and train models for multi-class categorization.\n",
        "</div>\n",
        "<div>\n",
        "<input type=\"checkbox\">Plot loss and accuracy of a trained model.\n",
        "</div>\n",
        "<div>\n",
        "<input type=\"checkbox\">Identify strategies to prevent overfitting, including augmentation and dropout.\n",
        "</div>\n",
        "<div>\n",
        "<input type=\"checkbox\">Use pretrained models (transfer learning).\n",
        "</div>\n",
        "<div>\n",
        "<input type=\"checkbox\">Extract features from pre-trained models.\n",
        "</div>\n",
        "<div>\n",
        "<input type=\"checkbox\">Ensure that inputs to a model are in the correct shape.\n",
        "</div>\n",
        "<div>\n",
        "<input type=\"checkbox\">Ensure that you can match test data to the input shape of a neural network.\n",
        "</div>\n",
        "<div>\n",
        "<input type=\"checkbox\">Ensure you can match output data of a neural network to specified input shape for test data.\n",
        "</div>\n",
        "<div>\n",
        "<input type=\"checkbox\">Understand batch loading of data.\n",
        "</div>\n",
        "<div>\n",
        "<input type=\"checkbox\">Use callbacks to trigger the end of training cycles.\n",
        "</div>\n",
        "<div>\n",
        "<input type=\"checkbox\">Use datasets from different sources.\n",
        "</div>\n",
        "<div>\n",
        "<input type=\"checkbox\">Use datasets in different formats, including json and csv.\n",
        "</div>\n",
        "<div>\n",
        "<input type=\"checkbox\">Use datasets from tf.data.datasets.\n",
        "</div>\n"
      ],
      "metadata": {
        "id": "Z6rKn8lYmdoL"
      }
    },
    {
      "cell_type": "markdown",
      "source": [
        "## 3. Image classification\n",
        "\n",
        "You need to understand how to build image recognition and object detection models with deep neural networks and convolutional neural networks using TensorFlow 2.x. \n",
        "\n",
        "---\n",
        "\n",
        "<div>\n",
        "<input type=\"checkbox\">Define Convolutional neural networks with Conv2D and pooling layers.\n",
        "</div>\n",
        "<div>\n",
        "<input type=\"checkbox\">Build and train models to process real-world image datasets.\n",
        "</div>\n",
        "<div>\n",
        "<input type=\"checkbox\">Understand how to use convolutions to improve your neural network.\n",
        "</div>\n",
        "<div>\n",
        "<input type=\"checkbox\">Use real-world images in different shapes and sizes.\n",
        "</div>\n",
        "<div>\n",
        "<input type=\"checkbox\">Use image augmentation to prevent overfitting.\n",
        "</div>\n",
        "<div>\n",
        "<input type=\"checkbox\">Use ImageDataGenerator.\n",
        "</div>\n",
        "<div>\n",
        "<input type=\"checkbox\">Understand how ImageDataGenerator labels images based on the directory structure.\n",
        "</div>"
      ],
      "metadata": {
        "id": "2LzpanCKnty8"
      }
    },
    {
      "cell_type": "markdown",
      "source": [
        "## 4. Natural language processing (NLP)\n",
        "You need to understand how to use neural networks to solve natural language processing problems using TensorFlow.\n",
        "\n",
        "---\n",
        "\n",
        "<div>\n",
        "<input type=\"checkbox\">Build natural language processing systems using TensorFlow.\n",
        "</div>\n",
        "<div>\n",
        "<input type=\"checkbox\">Prepare text to use in TensorFlow models.\n",
        "</div>\n",
        "<div>\n",
        "<input type=\"checkbox\">Build models that identify the category of a piece of text using binary categorization.\n",
        "</div>\n",
        "<div>\n",
        "<input type=\"checkbox\">Build models that identify the category of a piece of text using multi-class categorization.\n",
        "</div>\n",
        "<div>\n",
        "<input type=\"checkbox\">Use word embeddings in your TensorFlow model.\n",
        "</div>\n",
        "<div>\n",
        "<input type=\"checkbox\">Use LSTMs in your model to classify text for either binary or multi-class categorization.\n",
        "</div>\n",
        "<div>\n",
        "<input type=\"checkbox\">Add RNN and GRU layers to your model.\n",
        "</div>\n",
        "<div>\n",
        "<input type=\"checkbox\">Use RNNS, LSTMs, GRUs and CNNs in models that work with text.\n",
        "</div>\n",
        "<div>\n",
        "<input type=\"checkbox\">Train LSTMs on existing text to generate text (such as songs and poetry).\n",
        "</div>"
      ],
      "metadata": {
        "id": "UX8JEIJCoKz5"
      }
    },
    {
      "cell_type": "markdown",
      "source": [
        "## 5. Time series, sequences and predictions\n",
        "You need to understand how to solve time series and forecasting problems in TensorFlow.\n",
        "\n",
        "---\n",
        "\n",
        "<div>\n",
        "<input type=\"checkbox\">Train, tune and use time series, sequence and prediction models.\n",
        "</div>\n",
        "<div>\n",
        "<input type=\"checkbox\">Train models to predict values for both univariate and multivariate time series.\n",
        "</div>\n",
        "<div>\n",
        "<input type=\"checkbox\">Prepare data for time series learning.\n",
        "</div>\n",
        "<div>\n",
        "<input type=\"checkbox\">Understand Mean Absolute Error (MAE) and how it can be used to evaluate accuracy of\n",
        "sequence models.\n",
        "</div>\n",
        "<div>\n",
        "<input type=\"checkbox\">Use RNNs and CNNs for time series, sequence and forecasting models.\n",
        "</div>\n",
        "<div>\n",
        "<input type=\"checkbox\">Identify when to use trailing versus centred windows.\n",
        "</div>\n",
        "<div>\n",
        "<input type=\"checkbox\">Use TensorFlow for forecasting.\n",
        "</div>\n",
        "<div>\n",
        "<input type=\"checkbox\"> Prepare features and labels.\n",
        "</div>\n",
        "<div>\n",
        "<input type=\"checkbox\">Identify and compensate for sequence bias.\n",
        "</div>\n",
        "<div>\n",
        "<input type=\"checkbox\">Adjust the learning rate dynamically in time series, sequence and prediction models.\n",
        "</div>"
      ],
      "metadata": {
        "id": "RBBfwI9nolwv"
      }
    }
  ]
}