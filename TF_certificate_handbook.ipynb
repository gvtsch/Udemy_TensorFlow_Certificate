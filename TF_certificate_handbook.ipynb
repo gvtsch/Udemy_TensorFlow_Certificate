{
  "nbformat": 4,
  "nbformat_minor": 0,
  "metadata": {
    "colab": {
      "name": "TF_certificate_handbook.ipynb",
      "provenance": [],
      "collapsed_sections": [],
      "authorship_tag": "ABX9TyPR39J3RDOYB9NhAcm0GZzI",
      "include_colab_link": true
    },
    "kernelspec": {
      "name": "python3",
      "display_name": "Python 3"
    },
    "language_info": {
      "name": "python"
    }
  },
  "cells": [
    {
      "cell_type": "markdown",
      "metadata": {
        "id": "view-in-github",
        "colab_type": "text"
      },
      "source": [
        "<a href=\"https://colab.research.google.com/github/gvtsch/Udemy_TensorFlow_Certificate/blob/main/TF_certificate_handbook.ipynb\" target=\"_parent\"><img src=\"https://colab.research.google.com/assets/colab-badge.svg\" alt=\"Open In Colab\"/></a>"
      ]
    },
    {
      "cell_type": "markdown",
      "source": [
        "# TensorFlow Developer Certificate\n",
        "You can find this and other relevant information in the [TensorFlow Certificate Candidate Handbook](https://www.tensorflow.org/extras/cert/TF_Certificate_Candidate_Handbook.pdf). In the official handbook you can actual information, information according time limit, registration, results etc.\n",
        "\n",
        "In this notebook I am trying to create a link to code for every checkbox (as far as possible)."
      ],
      "metadata": {
        "id": "Vivah5k0jUxJ"
      }
    },
    {
      "cell_type": "markdown",
      "source": [
        "## 1. Tensorflow developer skills\n",
        "You need to demonstrate that you understand how to develop software programs using TensorFlow and\n",
        "that you can find the information you need to work as an ML practitioner. \n",
        "\n",
        "---\n",
        "\n",
        "<div>\n",
        "<input type=\"checkbox\">Know how to program in Python, resolve Python issues, and compile and run Python programs in PyCharm.\n",
        "</div>\n",
        "<div>\n",
        "<input type=\"checkbox\">Know how to find information about TensorFlow APIs, including how to find guides and API references on tensorflow.org.\n",
        "</div>\n",
        "<div>\n",
        "<input type=\"checkbox\">Know how to debug, investigate, and solve error messages from the TensorFlow API.\n",
        "</div>\n",
        "<div>\n",
        "<input type=\"checkbox\">Know how to search beyond tensorflow.org, as and when necessary, to solve your TensorFlow questions.\n",
        "</div>\n",
        "<div>\n",
        "<input type=\"checkbox\">Know how to create ML models using TensorFlow where the model size is reasonable for the problem being solved.\n",
        "</div>\n",
        "<div>\n",
        "<input type=\"checkbox\">Know how to save ML models and check the model file size.\n",
        "</div>\n",
        "<div>\n",
        "<input type=\"checkbox\">Understand the compatibility discrepancies between different versions of TensorFlow.\n",
        "</div>"
      ],
      "metadata": {
        "id": "10TstFOvjgyp"
      }
    },
    {
      "cell_type": "markdown",
      "source": [
        "## 2. Building and training neural network models using TensorFlow 2.x\n",
        "You need to understand the foundational principles of machine learning (ML) and deep learning (DL) using TensorFlow 2.x. \n",
        "\n",
        "---\n",
        "\n",
        "<div>\n",
        "<input type=\"checkbox\">Use TensorFlow 2.x.\n",
        "</div>\n",
        "<div>\n",
        "<input type=\"checkbox\">Build, compile and train machine learning (ML) models using TensorFlow.\n",
        "</div>\n",
        "<div>\n",
        "<input type=\"checkbox\">Preprocess data to get it ready for use in a model.\n",
        "</div>\n",
        "<div>\n",
        "<input type=\"checkbox\">Use models to predict results.\n",
        "</div>\n",
        "<div>\n",
        "<input type=\"checkbox\">Build sequential models with multiple layers\n",
        "</div>\n",
        "<div>\n",
        "<input type=\"checkbox\">Build and train models for binary classification.\n",
        "</div>\n",
        "<div>\n",
        "<input type=\"checkbox\">Build and train models for multi-class categorization.\n",
        "</div>\n",
        "<div>\n",
        "<input type=\"checkbox\">Plot loss and accuracy of a trained model.\n",
        "</div>\n",
        "<div>\n",
        "<input type=\"checkbox\">Identify strategies to prevent overfitting, including augmentation and dropout.\n",
        "</div>\n",
        "<div>\n",
        "<input type=\"checkbox\">Use pretrained models (transfer learning).\n",
        "</div>\n",
        "<div>\n",
        "<input type=\"checkbox\">Extract features from pre-trained models.\n",
        "</div>\n",
        "<div>\n",
        "<input type=\"checkbox\">Ensure that inputs to a model are in the correct shape.\n",
        "</div>\n",
        "<div>\n",
        "<input type=\"checkbox\">Ensure that you can match test data to the input shape of a neural network.\n",
        "</div>\n",
        "<div>\n",
        "<input type=\"checkbox\">Ensure you can match output data of a neural network to specified input shape for test data.\n",
        "</div>\n",
        "<div>\n",
        "<input type=\"checkbox\">Understand batch loading of data.\n",
        "</div>\n",
        "<div>\n",
        "<input type=\"checkbox\">Use callbacks to trigger the end of training cycles.\n",
        "</div>\n",
        "<div>\n",
        "<input type=\"checkbox\">Use datasets from different sources.\n",
        "</div>\n",
        "<div>\n",
        "<input type=\"checkbox\">Use datasets in different formats, including json and csv.\n",
        "</div>\n",
        "<div>\n",
        "<input type=\"checkbox\">Use datasets from tf.data.datasets.\n",
        "</div>\n"
      ],
      "metadata": {
        "id": "Z6rKn8lYmdoL"
      }
    },
    {
      "cell_type": "markdown",
      "source": [
        "### Imports"
      ],
      "metadata": {
        "id": "7mQIsT4NFthe"
      }
    },
    {
      "cell_type": "code",
      "source": [
        "import tensorflow as tf\n",
        "import pandas as pd\n",
        "import numpy as np\n",
        "import matplotlib.pyplot as plt\n",
        "from sklearn.model_selection import train_test_split\n",
        "from tensorflow.keras import layers\n",
        "\n",
        "# Bildverarbeitung\n",
        "from tensorflow.keras.preprocessing.image import ImageDataGenerator\n",
        "\n",
        "# NLP\n",
        "from tensorflow.keras.layers.experimental.preprocessing import TextVectorization"
      ],
      "metadata": {
        "id": "6k2xH75MFS9E"
      },
      "execution_count": 7,
      "outputs": []
    },
    {
      "cell_type": "code",
      "source": [
        "print(tf.__version__)"
      ],
      "metadata": {
        "id": "LlrH2Uq0HBIw",
        "outputId": "468bc65b-ddc2-4d90-abf7-0732d59d5970",
        "colab": {
          "base_uri": "https://localhost:8080/"
        }
      },
      "execution_count": 4,
      "outputs": [
        {
          "output_type": "stream",
          "name": "stdout",
          "text": [
            "2.8.2\n"
          ]
        }
      ]
    },
    {
      "cell_type": "markdown",
      "source": [
        "## 3. Image classification\n",
        "\n",
        "You need to understand how to build image recognition and object detection models with deep neural networks and convolutional neural networks using TensorFlow 2.x. \n",
        "\n",
        "---\n",
        "\n",
        "<div>\n",
        "<input type=\"checkbox\">Define Convolutional neural networks with Conv2D and pooling layers.\n",
        "</div>\n",
        "<div>\n",
        "<input type=\"checkbox\">Build and train models to process real-world image datasets.\n",
        "</div>\n",
        "<div>\n",
        "<input type=\"checkbox\">Understand how to use convolutions to improve your neural network.\n",
        "</div>\n",
        "<div>\n",
        "<input type=\"checkbox\">Use real-world images in different shapes and sizes.\n",
        "</div>\n",
        "<div>\n",
        "<input type=\"checkbox\">Use image augmentation to prevent overfitting.\n",
        "</div>\n",
        "<div>\n",
        "<input type=\"checkbox\">Use ImageDataGenerator.\n",
        "</div>\n",
        "<div>\n",
        "<input type=\"checkbox\">Understand how ImageDataGenerator labels images based on the directory structure.\n",
        "</div>"
      ],
      "metadata": {
        "id": "2LzpanCKnty8"
      }
    },
    {
      "cell_type": "markdown",
      "source": [
        "### DNN"
      ],
      "metadata": {
        "id": "S02oGSJlIXkY"
      }
    },
    {
      "cell_type": "code",
      "source": [
        "num_inputs = 32\n",
        "model_dnn = tf.keras.Sequential([\n",
        "  tf.keras.layers.Dense(units=64, activation=\"relu\", input_shape=(num_inputs,)),\n",
        "  tf.keras.layers.Dropout(0.2), # Against overfitting        \n",
        "  tf.keras.layers.Dense(units=32, activation=\"relu\"),\n",
        "  tf.keras.layers.Dropout(0.2),\n",
        "  tf.keras.layers.Dense(units=1, activation=\"relu\")               \n",
        "])"
      ],
      "metadata": {
        "id": "zIM_onIcIXKn"
      },
      "execution_count": 11,
      "outputs": []
    },
    {
      "cell_type": "markdown",
      "source": [
        "### CNN"
      ],
      "metadata": {
        "id": "JUQP9wIkRjfP"
      }
    },
    {
      "cell_type": "code",
      "source": [
        "model_cnn = tf.keras.Sequential([\n",
        "                                 tf.keras.layers.Conv2D(\n",
        "                                     filters=10,\n",
        "                                     kernel_size=3,\n",
        "                                     activation=\"relu\",\n",
        "                                     input_shape=(224, 224, 3)),\n",
        "                                 tf.keras.layers.MaxPooling2D\n",
        "                                 ])"
      ],
      "metadata": {
        "id": "vuSCqRsNRmtY"
      },
      "execution_count": 13,
      "outputs": []
    },
    {
      "cell_type": "markdown",
      "source": [
        "## 4. Natural language processing (NLP)\n",
        "You need to understand how to use neural networks to solve natural language processing problems using TensorFlow.\n",
        "\n",
        "---\n",
        "\n",
        "<div>\n",
        "<input type=\"checkbox\">Build natural language processing systems using TensorFlow.\n",
        "</div>\n",
        "<div>\n",
        "<input type=\"checkbox\">Prepare text to use in TensorFlow models.\n",
        "</div>\n",
        "<div>\n",
        "<input type=\"checkbox\">Build models that identify the category of a piece of text using binary categorization.\n",
        "</div>\n",
        "<div>\n",
        "<input type=\"checkbox\">Build models that identify the category of a piece of text using multi-class categorization.\n",
        "</div>\n",
        "<div>\n",
        "<input type=\"checkbox\">Use word embeddings in your TensorFlow model.\n",
        "</div>\n",
        "<div>\n",
        "<input type=\"checkbox\">Use LSTMs in your model to classify text for either binary or multi-class categorization.\n",
        "</div>\n",
        "<div>\n",
        "<input type=\"checkbox\">Add RNN and GRU layers to your model.\n",
        "</div>\n",
        "<div>\n",
        "<input type=\"checkbox\">Use RNNS, LSTMs, GRUs and CNNs in models that work with text.\n",
        "</div>\n",
        "<div>\n",
        "<input type=\"checkbox\">Train LSTMs on existing text to generate text (such as songs and poetry).\n",
        "</div>"
      ],
      "metadata": {
        "id": "UX8JEIJCoKz5"
      }
    },
    {
      "cell_type": "markdown",
      "source": [
        "## 5. Time series, sequences and predictions\n",
        "You need to understand how to solve time series and forecasting problems in TensorFlow.\n",
        "\n",
        "---\n",
        "\n",
        "<div>\n",
        "<input type=\"checkbox\">Train, tune and use time series, sequence and prediction models.\n",
        "</div>\n",
        "<div>\n",
        "<input type=\"checkbox\">Train models to predict values for both univariate and multivariate time series.\n",
        "</div>\n",
        "<div>\n",
        "<input type=\"checkbox\">Prepare data for time series learning.\n",
        "</div>\n",
        "<div>\n",
        "<input type=\"checkbox\">Understand Mean Absolute Error (MAE) and how it can be used to evaluate accuracy of\n",
        "sequence models.\n",
        "</div>\n",
        "<div>\n",
        "<input type=\"checkbox\">Use RNNs and CNNs for time series, sequence and forecasting models.\n",
        "</div>\n",
        "<div>\n",
        "<input type=\"checkbox\">Identify when to use trailing versus centred windows.\n",
        "</div>\n",
        "<div>\n",
        "<input type=\"checkbox\">Use TensorFlow for forecasting.\n",
        "</div>\n",
        "<div>\n",
        "<input type=\"checkbox\"> Prepare features and labels.\n",
        "</div>\n",
        "<div>\n",
        "<input type=\"checkbox\">Identify and compensate for sequence bias.\n",
        "</div>\n",
        "<div>\n",
        "<input type=\"checkbox\">Adjust the learning rate dynamically in time series, sequence and prediction models.\n",
        "</div>"
      ],
      "metadata": {
        "id": "RBBfwI9nolwv"
      }
    }
  ]
}