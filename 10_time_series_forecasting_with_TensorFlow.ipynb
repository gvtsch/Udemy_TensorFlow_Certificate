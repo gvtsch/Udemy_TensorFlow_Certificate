{
  "nbformat": 4,
  "nbformat_minor": 0,
  "metadata": {
    "colab": {
      "name": "10_time_series_forecasting_with_TensorFlow.ipynb",
      "provenance": [],
      "collapsed_sections": [],
      "authorship_tag": "ABX9TyOkLbmX69XJsV8mvA2PAZQh",
      "include_colab_link": true
    },
    "kernelspec": {
      "name": "python3",
      "display_name": "Python 3"
    },
    "language_info": {
      "name": "python"
    },
    "accelerator": "GPU",
    "gpuClass": "standard"
  },
  "cells": [
    {
      "cell_type": "markdown",
      "metadata": {
        "id": "view-in-github",
        "colab_type": "text"
      },
      "source": [
        "<a href=\"https://colab.research.google.com/github/gvtsch/Udemy_TensorFlow_Certificate/blob/main/10_time_series_forecasting_with_TensorFlow.ipynb\" target=\"_parent\"><img src=\"https://colab.research.google.com/assets/colab-badge.svg\" alt=\"Open In Colab\"/></a>"
      ]
    },
    {
      "cell_type": "markdown",
      "source": [
        "# Time series forecasting fundamental with TensorFlow + Milestone Project 3: BitPredict 💰\n",
        "\n",
        "Let's write some TensorFlow code to predict the price of Bitcoin based on the historical price of Bitcoin.\n",
        "\n",
        "⚠ **Note:** This is not financial advice.\n",
        "\n",
        "Links:\n",
        "* All resources: https://github.com/mrdbourke/tensorflow-deep-learning\n",
        "* Book version of actual code/text: https://github.com/mrdbourke/tensorflow-deep-learning/blob/main/10_time_series_forecasting_in_tensorflow.ipynb"
      ],
      "metadata": {
        "id": "Mr4NBgZlIIwO"
      }
    },
    {
      "cell_type": "markdown",
      "source": [
        "## Get data\n",
        "\n",
        "We're going to be using the historica price data of Bitcoin to try and predict the future price of Bitcoin.\n",
        "\n",
        "To follow along the video with using the same data i am using the data from course's github repository. If i wanted to use other data i could download it e.g. [\n",
        "  here](https://query1.finance.yahoo.com/v7/finance/download/BTC-USD?period1=1410912000&period2=1656460800&interval=1d&events=history&includeAdjustedClose=true)"
      ],
      "metadata": {
        "id": "_SFeW8KXQ5xZ"
      }
    },
    {
      "cell_type": "code",
      "execution_count": 1,
      "metadata": {
        "id": "W_-_0fBDDcmt",
        "colab": {
          "base_uri": "https://localhost:8080/"
        },
        "outputId": "d1876351-ec47-4c04-d246-36d6e369d5e2"
      },
      "outputs": [
        {
          "output_type": "stream",
          "name": "stdout",
          "text": [
            "--2022-07-04 11:18:16--  https://raw.githubusercontent.com/mrdbourke/tensorflow-deep-learning/main/extras/BTC_USD_2013-10-01_2021-05-18-CoinDesk.csv\n",
            "Resolving raw.githubusercontent.com (raw.githubusercontent.com)... 185.199.110.133, 185.199.111.133, 185.199.108.133, ...\n",
            "Connecting to raw.githubusercontent.com (raw.githubusercontent.com)|185.199.110.133|:443... connected.\n",
            "HTTP request sent, awaiting response... 200 OK\n",
            "Length: 178509 (174K) [text/plain]\n",
            "Saving to: ‘BTC_USD_2013-10-01_2021-05-18-CoinDesk.csv’\n",
            "\n",
            "BTC_USD_2013-10-01_ 100%[===================>] 174.33K  --.-KB/s    in 0.02s   \n",
            "\n",
            "2022-07-04 11:18:16 (7.26 MB/s) - ‘BTC_USD_2013-10-01_2021-05-18-CoinDesk.csv’ saved [178509/178509]\n",
            "\n"
          ]
        }
      ],
      "source": [
        "import os\n",
        "if not os.path.exists(\"BTC_USD_2013-10-01_2021-05-18-CoinDesk.csv\"):\n",
        "  # !python -m wget !wget https://raw.githubusercontent.com/mrdbourke/tensorflow-deep-learning/main/extras/BTC_USD_2013-10-01_2021-05-18-CoinDesk.csv\n",
        "  !wget https://raw.githubusercontent.com/mrdbourke/tensorflow-deep-learning/main/extras/BTC_USD_2013-10-01_2021-05-18-CoinDesk.csv\n"
      ]
    },
    {
      "cell_type": "markdown",
      "source": [
        "## Importing time series with pandas"
      ],
      "metadata": {
        "id": "lGxmC7JhSoj-"
      }
    },
    {
      "cell_type": "code",
      "source": [
        "# Import with pandas\n",
        "import pandas as pd\n",
        "\n",
        "# Let's read in our Bitcoin data and parse the dates\n",
        "df = pd.read_csv(\"/content/BTC_USD_2013-10-01_2021-05-18-CoinDesk.csv\",\n",
        "                 parse_dates=[\"Date\"],\n",
        "                 index_col=[\"Date\"]) # parse the date column and tell pandas column 1 is a datetime\n",
        "\n",
        "df.head()"
      ],
      "metadata": {
        "colab": {
          "base_uri": "https://localhost:8080/",
          "height": 238
        },
        "id": "5KtZMPGJSU0U",
        "outputId": "089264ab-0c90-4511-ad45-b59f1dbfc3c5"
      },
      "execution_count": 2,
      "outputs": [
        {
          "output_type": "execute_result",
          "data": {
            "text/plain": [
              "           Currency  Closing Price (USD)  24h Open (USD)  24h High (USD)  \\\n",
              "Date                                                                       \n",
              "2013-10-01      BTC            123.65499       124.30466       124.75166   \n",
              "2013-10-02      BTC            125.45500       123.65499       125.75850   \n",
              "2013-10-03      BTC            108.58483       125.45500       125.66566   \n",
              "2013-10-04      BTC            118.67466       108.58483       118.67500   \n",
              "2013-10-05      BTC            121.33866       118.67466       121.93633   \n",
              "\n",
              "            24h Low (USD)  \n",
              "Date                       \n",
              "2013-10-01      122.56349  \n",
              "2013-10-02      123.63383  \n",
              "2013-10-03       83.32833  \n",
              "2013-10-04      107.05816  \n",
              "2013-10-05      118.00566  "
            ],
            "text/html": [
              "\n",
              "  <div id=\"df-470bc94e-dd2a-4f7d-8ce8-4c5d05ae4a2a\">\n",
              "    <div class=\"colab-df-container\">\n",
              "      <div>\n",
              "<style scoped>\n",
              "    .dataframe tbody tr th:only-of-type {\n",
              "        vertical-align: middle;\n",
              "    }\n",
              "\n",
              "    .dataframe tbody tr th {\n",
              "        vertical-align: top;\n",
              "    }\n",
              "\n",
              "    .dataframe thead th {\n",
              "        text-align: right;\n",
              "    }\n",
              "</style>\n",
              "<table border=\"1\" class=\"dataframe\">\n",
              "  <thead>\n",
              "    <tr style=\"text-align: right;\">\n",
              "      <th></th>\n",
              "      <th>Currency</th>\n",
              "      <th>Closing Price (USD)</th>\n",
              "      <th>24h Open (USD)</th>\n",
              "      <th>24h High (USD)</th>\n",
              "      <th>24h Low (USD)</th>\n",
              "    </tr>\n",
              "    <tr>\n",
              "      <th>Date</th>\n",
              "      <th></th>\n",
              "      <th></th>\n",
              "      <th></th>\n",
              "      <th></th>\n",
              "      <th></th>\n",
              "    </tr>\n",
              "  </thead>\n",
              "  <tbody>\n",
              "    <tr>\n",
              "      <th>2013-10-01</th>\n",
              "      <td>BTC</td>\n",
              "      <td>123.65499</td>\n",
              "      <td>124.30466</td>\n",
              "      <td>124.75166</td>\n",
              "      <td>122.56349</td>\n",
              "    </tr>\n",
              "    <tr>\n",
              "      <th>2013-10-02</th>\n",
              "      <td>BTC</td>\n",
              "      <td>125.45500</td>\n",
              "      <td>123.65499</td>\n",
              "      <td>125.75850</td>\n",
              "      <td>123.63383</td>\n",
              "    </tr>\n",
              "    <tr>\n",
              "      <th>2013-10-03</th>\n",
              "      <td>BTC</td>\n",
              "      <td>108.58483</td>\n",
              "      <td>125.45500</td>\n",
              "      <td>125.66566</td>\n",
              "      <td>83.32833</td>\n",
              "    </tr>\n",
              "    <tr>\n",
              "      <th>2013-10-04</th>\n",
              "      <td>BTC</td>\n",
              "      <td>118.67466</td>\n",
              "      <td>108.58483</td>\n",
              "      <td>118.67500</td>\n",
              "      <td>107.05816</td>\n",
              "    </tr>\n",
              "    <tr>\n",
              "      <th>2013-10-05</th>\n",
              "      <td>BTC</td>\n",
              "      <td>121.33866</td>\n",
              "      <td>118.67466</td>\n",
              "      <td>121.93633</td>\n",
              "      <td>118.00566</td>\n",
              "    </tr>\n",
              "  </tbody>\n",
              "</table>\n",
              "</div>\n",
              "      <button class=\"colab-df-convert\" onclick=\"convertToInteractive('df-470bc94e-dd2a-4f7d-8ce8-4c5d05ae4a2a')\"\n",
              "              title=\"Convert this dataframe to an interactive table.\"\n",
              "              style=\"display:none;\">\n",
              "        \n",
              "  <svg xmlns=\"http://www.w3.org/2000/svg\" height=\"24px\"viewBox=\"0 0 24 24\"\n",
              "       width=\"24px\">\n",
              "    <path d=\"M0 0h24v24H0V0z\" fill=\"none\"/>\n",
              "    <path d=\"M18.56 5.44l.94 2.06.94-2.06 2.06-.94-2.06-.94-.94-2.06-.94 2.06-2.06.94zm-11 1L8.5 8.5l.94-2.06 2.06-.94-2.06-.94L8.5 2.5l-.94 2.06-2.06.94zm10 10l.94 2.06.94-2.06 2.06-.94-2.06-.94-.94-2.06-.94 2.06-2.06.94z\"/><path d=\"M17.41 7.96l-1.37-1.37c-.4-.4-.92-.59-1.43-.59-.52 0-1.04.2-1.43.59L10.3 9.45l-7.72 7.72c-.78.78-.78 2.05 0 2.83L4 21.41c.39.39.9.59 1.41.59.51 0 1.02-.2 1.41-.59l7.78-7.78 2.81-2.81c.8-.78.8-2.07 0-2.86zM5.41 20L4 18.59l7.72-7.72 1.47 1.35L5.41 20z\"/>\n",
              "  </svg>\n",
              "      </button>\n",
              "      \n",
              "  <style>\n",
              "    .colab-df-container {\n",
              "      display:flex;\n",
              "      flex-wrap:wrap;\n",
              "      gap: 12px;\n",
              "    }\n",
              "\n",
              "    .colab-df-convert {\n",
              "      background-color: #E8F0FE;\n",
              "      border: none;\n",
              "      border-radius: 50%;\n",
              "      cursor: pointer;\n",
              "      display: none;\n",
              "      fill: #1967D2;\n",
              "      height: 32px;\n",
              "      padding: 0 0 0 0;\n",
              "      width: 32px;\n",
              "    }\n",
              "\n",
              "    .colab-df-convert:hover {\n",
              "      background-color: #E2EBFA;\n",
              "      box-shadow: 0px 1px 2px rgba(60, 64, 67, 0.3), 0px 1px 3px 1px rgba(60, 64, 67, 0.15);\n",
              "      fill: #174EA6;\n",
              "    }\n",
              "\n",
              "    [theme=dark] .colab-df-convert {\n",
              "      background-color: #3B4455;\n",
              "      fill: #D2E3FC;\n",
              "    }\n",
              "\n",
              "    [theme=dark] .colab-df-convert:hover {\n",
              "      background-color: #434B5C;\n",
              "      box-shadow: 0px 1px 3px 1px rgba(0, 0, 0, 0.15);\n",
              "      filter: drop-shadow(0px 1px 2px rgba(0, 0, 0, 0.3));\n",
              "      fill: #FFFFFF;\n",
              "    }\n",
              "  </style>\n",
              "\n",
              "      <script>\n",
              "        const buttonEl =\n",
              "          document.querySelector('#df-470bc94e-dd2a-4f7d-8ce8-4c5d05ae4a2a button.colab-df-convert');\n",
              "        buttonEl.style.display =\n",
              "          google.colab.kernel.accessAllowed ? 'block' : 'none';\n",
              "\n",
              "        async function convertToInteractive(key) {\n",
              "          const element = document.querySelector('#df-470bc94e-dd2a-4f7d-8ce8-4c5d05ae4a2a');\n",
              "          const dataTable =\n",
              "            await google.colab.kernel.invokeFunction('convertToInteractive',\n",
              "                                                     [key], {});\n",
              "          if (!dataTable) return;\n",
              "\n",
              "          const docLinkHtml = 'Like what you see? Visit the ' +\n",
              "            '<a target=\"_blank\" href=https://colab.research.google.com/notebooks/data_table.ipynb>data table notebook</a>'\n",
              "            + ' to learn more about interactive tables.';\n",
              "          element.innerHTML = '';\n",
              "          dataTable['output_type'] = 'display_data';\n",
              "          await google.colab.output.renderOutput(dataTable, element);\n",
              "          const docLink = document.createElement('div');\n",
              "          docLink.innerHTML = docLinkHtml;\n",
              "          element.appendChild(docLink);\n",
              "        }\n",
              "      </script>\n",
              "    </div>\n",
              "  </div>\n",
              "  "
            ]
          },
          "metadata": {},
          "execution_count": 2
        }
      ]
    },
    {
      "cell_type": "code",
      "source": [
        "df.tail()"
      ],
      "metadata": {
        "colab": {
          "base_uri": "https://localhost:8080/",
          "height": 238
        },
        "id": "YqYq6vyOUHvE",
        "outputId": "6a496f0c-c7f5-4c43-da41-1de195cdfad1"
      },
      "execution_count": 3,
      "outputs": [
        {
          "output_type": "execute_result",
          "data": {
            "text/plain": [
              "           Currency  Closing Price (USD)  24h Open (USD)  24h High (USD)  \\\n",
              "Date                                                                       \n",
              "2021-05-14      BTC         49764.132082    49596.778891    51448.798576   \n",
              "2021-05-15      BTC         50032.693137    49717.354353    51578.312545   \n",
              "2021-05-16      BTC         47885.625255    49926.035067    50690.802950   \n",
              "2021-05-17      BTC         45604.615754    46805.537852    49670.414174   \n",
              "2021-05-18      BTC         43144.471291    46439.336570    46622.853437   \n",
              "\n",
              "            24h Low (USD)  \n",
              "Date                       \n",
              "2021-05-14   46294.720180  \n",
              "2021-05-15   48944.346536  \n",
              "2021-05-16   47005.102292  \n",
              "2021-05-17   43868.638969  \n",
              "2021-05-18   42102.346430  "
            ],
            "text/html": [
              "\n",
              "  <div id=\"df-f4267d64-3c2d-4312-acb3-1cb50b988041\">\n",
              "    <div class=\"colab-df-container\">\n",
              "      <div>\n",
              "<style scoped>\n",
              "    .dataframe tbody tr th:only-of-type {\n",
              "        vertical-align: middle;\n",
              "    }\n",
              "\n",
              "    .dataframe tbody tr th {\n",
              "        vertical-align: top;\n",
              "    }\n",
              "\n",
              "    .dataframe thead th {\n",
              "        text-align: right;\n",
              "    }\n",
              "</style>\n",
              "<table border=\"1\" class=\"dataframe\">\n",
              "  <thead>\n",
              "    <tr style=\"text-align: right;\">\n",
              "      <th></th>\n",
              "      <th>Currency</th>\n",
              "      <th>Closing Price (USD)</th>\n",
              "      <th>24h Open (USD)</th>\n",
              "      <th>24h High (USD)</th>\n",
              "      <th>24h Low (USD)</th>\n",
              "    </tr>\n",
              "    <tr>\n",
              "      <th>Date</th>\n",
              "      <th></th>\n",
              "      <th></th>\n",
              "      <th></th>\n",
              "      <th></th>\n",
              "      <th></th>\n",
              "    </tr>\n",
              "  </thead>\n",
              "  <tbody>\n",
              "    <tr>\n",
              "      <th>2021-05-14</th>\n",
              "      <td>BTC</td>\n",
              "      <td>49764.132082</td>\n",
              "      <td>49596.778891</td>\n",
              "      <td>51448.798576</td>\n",
              "      <td>46294.720180</td>\n",
              "    </tr>\n",
              "    <tr>\n",
              "      <th>2021-05-15</th>\n",
              "      <td>BTC</td>\n",
              "      <td>50032.693137</td>\n",
              "      <td>49717.354353</td>\n",
              "      <td>51578.312545</td>\n",
              "      <td>48944.346536</td>\n",
              "    </tr>\n",
              "    <tr>\n",
              "      <th>2021-05-16</th>\n",
              "      <td>BTC</td>\n",
              "      <td>47885.625255</td>\n",
              "      <td>49926.035067</td>\n",
              "      <td>50690.802950</td>\n",
              "      <td>47005.102292</td>\n",
              "    </tr>\n",
              "    <tr>\n",
              "      <th>2021-05-17</th>\n",
              "      <td>BTC</td>\n",
              "      <td>45604.615754</td>\n",
              "      <td>46805.537852</td>\n",
              "      <td>49670.414174</td>\n",
              "      <td>43868.638969</td>\n",
              "    </tr>\n",
              "    <tr>\n",
              "      <th>2021-05-18</th>\n",
              "      <td>BTC</td>\n",
              "      <td>43144.471291</td>\n",
              "      <td>46439.336570</td>\n",
              "      <td>46622.853437</td>\n",
              "      <td>42102.346430</td>\n",
              "    </tr>\n",
              "  </tbody>\n",
              "</table>\n",
              "</div>\n",
              "      <button class=\"colab-df-convert\" onclick=\"convertToInteractive('df-f4267d64-3c2d-4312-acb3-1cb50b988041')\"\n",
              "              title=\"Convert this dataframe to an interactive table.\"\n",
              "              style=\"display:none;\">\n",
              "        \n",
              "  <svg xmlns=\"http://www.w3.org/2000/svg\" height=\"24px\"viewBox=\"0 0 24 24\"\n",
              "       width=\"24px\">\n",
              "    <path d=\"M0 0h24v24H0V0z\" fill=\"none\"/>\n",
              "    <path d=\"M18.56 5.44l.94 2.06.94-2.06 2.06-.94-2.06-.94-.94-2.06-.94 2.06-2.06.94zm-11 1L8.5 8.5l.94-2.06 2.06-.94-2.06-.94L8.5 2.5l-.94 2.06-2.06.94zm10 10l.94 2.06.94-2.06 2.06-.94-2.06-.94-.94-2.06-.94 2.06-2.06.94z\"/><path d=\"M17.41 7.96l-1.37-1.37c-.4-.4-.92-.59-1.43-.59-.52 0-1.04.2-1.43.59L10.3 9.45l-7.72 7.72c-.78.78-.78 2.05 0 2.83L4 21.41c.39.39.9.59 1.41.59.51 0 1.02-.2 1.41-.59l7.78-7.78 2.81-2.81c.8-.78.8-2.07 0-2.86zM5.41 20L4 18.59l7.72-7.72 1.47 1.35L5.41 20z\"/>\n",
              "  </svg>\n",
              "      </button>\n",
              "      \n",
              "  <style>\n",
              "    .colab-df-container {\n",
              "      display:flex;\n",
              "      flex-wrap:wrap;\n",
              "      gap: 12px;\n",
              "    }\n",
              "\n",
              "    .colab-df-convert {\n",
              "      background-color: #E8F0FE;\n",
              "      border: none;\n",
              "      border-radius: 50%;\n",
              "      cursor: pointer;\n",
              "      display: none;\n",
              "      fill: #1967D2;\n",
              "      height: 32px;\n",
              "      padding: 0 0 0 0;\n",
              "      width: 32px;\n",
              "    }\n",
              "\n",
              "    .colab-df-convert:hover {\n",
              "      background-color: #E2EBFA;\n",
              "      box-shadow: 0px 1px 2px rgba(60, 64, 67, 0.3), 0px 1px 3px 1px rgba(60, 64, 67, 0.15);\n",
              "      fill: #174EA6;\n",
              "    }\n",
              "\n",
              "    [theme=dark] .colab-df-convert {\n",
              "      background-color: #3B4455;\n",
              "      fill: #D2E3FC;\n",
              "    }\n",
              "\n",
              "    [theme=dark] .colab-df-convert:hover {\n",
              "      background-color: #434B5C;\n",
              "      box-shadow: 0px 1px 3px 1px rgba(0, 0, 0, 0.15);\n",
              "      filter: drop-shadow(0px 1px 2px rgba(0, 0, 0, 0.3));\n",
              "      fill: #FFFFFF;\n",
              "    }\n",
              "  </style>\n",
              "\n",
              "      <script>\n",
              "        const buttonEl =\n",
              "          document.querySelector('#df-f4267d64-3c2d-4312-acb3-1cb50b988041 button.colab-df-convert');\n",
              "        buttonEl.style.display =\n",
              "          google.colab.kernel.accessAllowed ? 'block' : 'none';\n",
              "\n",
              "        async function convertToInteractive(key) {\n",
              "          const element = document.querySelector('#df-f4267d64-3c2d-4312-acb3-1cb50b988041');\n",
              "          const dataTable =\n",
              "            await google.colab.kernel.invokeFunction('convertToInteractive',\n",
              "                                                     [key], {});\n",
              "          if (!dataTable) return;\n",
              "\n",
              "          const docLinkHtml = 'Like what you see? Visit the ' +\n",
              "            '<a target=\"_blank\" href=https://colab.research.google.com/notebooks/data_table.ipynb>data table notebook</a>'\n",
              "            + ' to learn more about interactive tables.';\n",
              "          element.innerHTML = '';\n",
              "          dataTable['output_type'] = 'display_data';\n",
              "          await google.colab.output.renderOutput(dataTable, element);\n",
              "          const docLink = document.createElement('div');\n",
              "          docLink.innerHTML = docLinkHtml;\n",
              "          element.appendChild(docLink);\n",
              "        }\n",
              "      </script>\n",
              "    </div>\n",
              "  </div>\n",
              "  "
            ]
          },
          "metadata": {},
          "execution_count": 3
        }
      ]
    },
    {
      "cell_type": "code",
      "source": [
        "df.info()"
      ],
      "metadata": {
        "colab": {
          "base_uri": "https://localhost:8080/"
        },
        "id": "C9j4Tf3YT9El",
        "outputId": "6e9ef1a0-95b2-4eb4-f7cb-d57876fca3d1"
      },
      "execution_count": 4,
      "outputs": [
        {
          "output_type": "stream",
          "name": "stdout",
          "text": [
            "<class 'pandas.core.frame.DataFrame'>\n",
            "DatetimeIndex: 2787 entries, 2013-10-01 to 2021-05-18\n",
            "Data columns (total 5 columns):\n",
            " #   Column               Non-Null Count  Dtype  \n",
            "---  ------               --------------  -----  \n",
            " 0   Currency             2787 non-null   object \n",
            " 1   Closing Price (USD)  2787 non-null   float64\n",
            " 2   24h Open (USD)       2787 non-null   float64\n",
            " 3   24h High (USD)       2787 non-null   float64\n",
            " 4   24h Low (USD)        2787 non-null   float64\n",
            "dtypes: float64(4), object(1)\n",
            "memory usage: 130.6+ KB\n"
          ]
        }
      ]
    },
    {
      "cell_type": "code",
      "source": [
        "# How many samples do we have?\n",
        "len(df)"
      ],
      "metadata": {
        "colab": {
          "base_uri": "https://localhost:8080/"
        },
        "id": "6LkmE0aLUAom",
        "outputId": "0071183f-271e-4a7d-94fd-513b96b7a481"
      },
      "execution_count": 5,
      "outputs": [
        {
          "output_type": "execute_result",
          "data": {
            "text/plain": [
              "2787"
            ]
          },
          "metadata": {},
          "execution_count": 5
        }
      ]
    },
    {
      "cell_type": "markdown",
      "source": [
        "We've collected the historical price of bitcoin for the past ~8 years but there's 2787 samples.\n",
        "\n",
        "Typically deep learning models usually like lots and lots and lots of samples (where lots and lots and lots can be thousands to tens of thousands to millions).\n",
        "\n",
        "A smaller number of samples is something you'll often run into with time series data problems.\n"
      ],
      "metadata": {
        "id": "K9vgwPYwUbzv"
      }
    },
    {
      "cell_type": "markdown",
      "source": [
        "> 🔑 **Note:** The **seasonality** of a time series dataset is referred as the number of samples per year. So for our Bitcoin data, it has a seasonality of daily or value of 365 because we collect one sample per day meaning we'll get 365 samples per year."
      ],
      "metadata": {
        "id": "2BQgjL2yVTlD"
      }
    },
    {
      "cell_type": "code",
      "source": [
        "# We only want closing price for each day\n",
        "bitcoin_prices = pd.DataFrame(df[\"Closing Price (USD)\"]).rename(columns={\"Closing Price (USD)\": \"Price\"})\n",
        "bitcoin_prices"
      ],
      "metadata": {
        "colab": {
          "base_uri": "https://localhost:8080/",
          "height": 455
        },
        "id": "33U--lyCVSd9",
        "outputId": "a4aeb031-dada-4c95-cb0a-a033e29932ac"
      },
      "execution_count": 6,
      "outputs": [
        {
          "output_type": "execute_result",
          "data": {
            "text/plain": [
              "                   Price\n",
              "Date                    \n",
              "2013-10-01    123.654990\n",
              "2013-10-02    125.455000\n",
              "2013-10-03    108.584830\n",
              "2013-10-04    118.674660\n",
              "2013-10-05    121.338660\n",
              "...                  ...\n",
              "2021-05-14  49764.132082\n",
              "2021-05-15  50032.693137\n",
              "2021-05-16  47885.625255\n",
              "2021-05-17  45604.615754\n",
              "2021-05-18  43144.471291\n",
              "\n",
              "[2787 rows x 1 columns]"
            ],
            "text/html": [
              "\n",
              "  <div id=\"df-372afe70-34f2-44a8-835e-d54de51ab25c\">\n",
              "    <div class=\"colab-df-container\">\n",
              "      <div>\n",
              "<style scoped>\n",
              "    .dataframe tbody tr th:only-of-type {\n",
              "        vertical-align: middle;\n",
              "    }\n",
              "\n",
              "    .dataframe tbody tr th {\n",
              "        vertical-align: top;\n",
              "    }\n",
              "\n",
              "    .dataframe thead th {\n",
              "        text-align: right;\n",
              "    }\n",
              "</style>\n",
              "<table border=\"1\" class=\"dataframe\">\n",
              "  <thead>\n",
              "    <tr style=\"text-align: right;\">\n",
              "      <th></th>\n",
              "      <th>Price</th>\n",
              "    </tr>\n",
              "    <tr>\n",
              "      <th>Date</th>\n",
              "      <th></th>\n",
              "    </tr>\n",
              "  </thead>\n",
              "  <tbody>\n",
              "    <tr>\n",
              "      <th>2013-10-01</th>\n",
              "      <td>123.654990</td>\n",
              "    </tr>\n",
              "    <tr>\n",
              "      <th>2013-10-02</th>\n",
              "      <td>125.455000</td>\n",
              "    </tr>\n",
              "    <tr>\n",
              "      <th>2013-10-03</th>\n",
              "      <td>108.584830</td>\n",
              "    </tr>\n",
              "    <tr>\n",
              "      <th>2013-10-04</th>\n",
              "      <td>118.674660</td>\n",
              "    </tr>\n",
              "    <tr>\n",
              "      <th>2013-10-05</th>\n",
              "      <td>121.338660</td>\n",
              "    </tr>\n",
              "    <tr>\n",
              "      <th>...</th>\n",
              "      <td>...</td>\n",
              "    </tr>\n",
              "    <tr>\n",
              "      <th>2021-05-14</th>\n",
              "      <td>49764.132082</td>\n",
              "    </tr>\n",
              "    <tr>\n",
              "      <th>2021-05-15</th>\n",
              "      <td>50032.693137</td>\n",
              "    </tr>\n",
              "    <tr>\n",
              "      <th>2021-05-16</th>\n",
              "      <td>47885.625255</td>\n",
              "    </tr>\n",
              "    <tr>\n",
              "      <th>2021-05-17</th>\n",
              "      <td>45604.615754</td>\n",
              "    </tr>\n",
              "    <tr>\n",
              "      <th>2021-05-18</th>\n",
              "      <td>43144.471291</td>\n",
              "    </tr>\n",
              "  </tbody>\n",
              "</table>\n",
              "<p>2787 rows × 1 columns</p>\n",
              "</div>\n",
              "      <button class=\"colab-df-convert\" onclick=\"convertToInteractive('df-372afe70-34f2-44a8-835e-d54de51ab25c')\"\n",
              "              title=\"Convert this dataframe to an interactive table.\"\n",
              "              style=\"display:none;\">\n",
              "        \n",
              "  <svg xmlns=\"http://www.w3.org/2000/svg\" height=\"24px\"viewBox=\"0 0 24 24\"\n",
              "       width=\"24px\">\n",
              "    <path d=\"M0 0h24v24H0V0z\" fill=\"none\"/>\n",
              "    <path d=\"M18.56 5.44l.94 2.06.94-2.06 2.06-.94-2.06-.94-.94-2.06-.94 2.06-2.06.94zm-11 1L8.5 8.5l.94-2.06 2.06-.94-2.06-.94L8.5 2.5l-.94 2.06-2.06.94zm10 10l.94 2.06.94-2.06 2.06-.94-2.06-.94-.94-2.06-.94 2.06-2.06.94z\"/><path d=\"M17.41 7.96l-1.37-1.37c-.4-.4-.92-.59-1.43-.59-.52 0-1.04.2-1.43.59L10.3 9.45l-7.72 7.72c-.78.78-.78 2.05 0 2.83L4 21.41c.39.39.9.59 1.41.59.51 0 1.02-.2 1.41-.59l7.78-7.78 2.81-2.81c.8-.78.8-2.07 0-2.86zM5.41 20L4 18.59l7.72-7.72 1.47 1.35L5.41 20z\"/>\n",
              "  </svg>\n",
              "      </button>\n",
              "      \n",
              "  <style>\n",
              "    .colab-df-container {\n",
              "      display:flex;\n",
              "      flex-wrap:wrap;\n",
              "      gap: 12px;\n",
              "    }\n",
              "\n",
              "    .colab-df-convert {\n",
              "      background-color: #E8F0FE;\n",
              "      border: none;\n",
              "      border-radius: 50%;\n",
              "      cursor: pointer;\n",
              "      display: none;\n",
              "      fill: #1967D2;\n",
              "      height: 32px;\n",
              "      padding: 0 0 0 0;\n",
              "      width: 32px;\n",
              "    }\n",
              "\n",
              "    .colab-df-convert:hover {\n",
              "      background-color: #E2EBFA;\n",
              "      box-shadow: 0px 1px 2px rgba(60, 64, 67, 0.3), 0px 1px 3px 1px rgba(60, 64, 67, 0.15);\n",
              "      fill: #174EA6;\n",
              "    }\n",
              "\n",
              "    [theme=dark] .colab-df-convert {\n",
              "      background-color: #3B4455;\n",
              "      fill: #D2E3FC;\n",
              "    }\n",
              "\n",
              "    [theme=dark] .colab-df-convert:hover {\n",
              "      background-color: #434B5C;\n",
              "      box-shadow: 0px 1px 3px 1px rgba(0, 0, 0, 0.15);\n",
              "      filter: drop-shadow(0px 1px 2px rgba(0, 0, 0, 0.3));\n",
              "      fill: #FFFFFF;\n",
              "    }\n",
              "  </style>\n",
              "\n",
              "      <script>\n",
              "        const buttonEl =\n",
              "          document.querySelector('#df-372afe70-34f2-44a8-835e-d54de51ab25c button.colab-df-convert');\n",
              "        buttonEl.style.display =\n",
              "          google.colab.kernel.accessAllowed ? 'block' : 'none';\n",
              "\n",
              "        async function convertToInteractive(key) {\n",
              "          const element = document.querySelector('#df-372afe70-34f2-44a8-835e-d54de51ab25c');\n",
              "          const dataTable =\n",
              "            await google.colab.kernel.invokeFunction('convertToInteractive',\n",
              "                                                     [key], {});\n",
              "          if (!dataTable) return;\n",
              "\n",
              "          const docLinkHtml = 'Like what you see? Visit the ' +\n",
              "            '<a target=\"_blank\" href=https://colab.research.google.com/notebooks/data_table.ipynb>data table notebook</a>'\n",
              "            + ' to learn more about interactive tables.';\n",
              "          element.innerHTML = '';\n",
              "          dataTable['output_type'] = 'display_data';\n",
              "          await google.colab.output.renderOutput(dataTable, element);\n",
              "          const docLink = document.createElement('div');\n",
              "          docLink.innerHTML = docLinkHtml;\n",
              "          element.appendChild(docLink);\n",
              "        }\n",
              "      </script>\n",
              "    </div>\n",
              "  </div>\n",
              "  "
            ]
          },
          "metadata": {},
          "execution_count": 6
        }
      ]
    },
    {
      "cell_type": "code",
      "source": [
        "import matplotlib.pyplot as plt\n",
        "bitcoin_prices.plot(figsize=(10, 7))\n",
        "plt.ylabel(\"BTC Price\")\n",
        "plt.title(\"Price of Bitcoin from 1 Oct 2013 to 18 May 2021\", fontsize=16)\n",
        "plt.legend(fontsize=14)\n",
        "plt.grid()"
      ],
      "metadata": {
        "colab": {
          "base_uri": "https://localhost:8080/",
          "height": 460
        },
        "id": "g96a7XkaXtJ7",
        "outputId": "dc4f54a0-92e9-4be4-a729-57977dc05538"
      },
      "execution_count": 7,
      "outputs": [
        {
          "output_type": "display_data",
          "data": {
            "text/plain": [
              "<Figure size 720x504 with 1 Axes>"
            ],
            "image/png": "[encoded data removed]"
          },
          "metadata": {
            "needs_background": "light"
          }
        }
      ]
    },
    {
      "cell_type": "markdown",
      "source": [
        "## Importing time series data with Python's CSV module"
      ],
      "metadata": {
        "id": "sG_bBqgsYpbq"
      }
    },
    {
      "cell_type": "code",
      "source": [
        "# Importing and formatting historical Bitcoin data with Python\n",
        "import csv\n",
        "from datetime import datetime\n",
        "\n",
        "timesteps = []\n",
        "btc_price = []\n",
        "with open(\"/content/BTC_USD_2013-10-01_2021-05-18-CoinDesk.csv\", \"r\") as f:\n",
        "  csv_reader = csv.reader(f, delimiter=\",\")\n",
        "  next(csv_reader) # skip first line (this gets rid of the column titles)\n",
        "  for line in csv_reader:\n",
        "    timesteps.append(datetime.strptime(line[1], \"%Y-%m-%d\")) # get the dates as dates not strings\n",
        "    btc_price.append(float(line[2])) # get the closing price as float"
      ],
      "metadata": {
        "id": "v3mXIjKlX9ey"
      },
      "execution_count": 8,
      "outputs": []
    },
    {
      "cell_type": "code",
      "source": [
        "# View first 10 of each\n",
        "timesteps[:10], btc_price[:10]"
      ],
      "metadata": {
        "colab": {
          "base_uri": "https://localhost:8080/"
        },
        "id": "2Dv1amxWYx_U",
        "outputId": "3aa29274-967f-404e-9890-fc767ca48ea4"
      },
      "execution_count": 9,
      "outputs": [
        {
          "output_type": "execute_result",
          "data": {
            "text/plain": [
              "([datetime.datetime(2013, 10, 1, 0, 0),\n",
              "  datetime.datetime(2013, 10, 2, 0, 0),\n",
              "  datetime.datetime(2013, 10, 3, 0, 0),\n",
              "  datetime.datetime(2013, 10, 4, 0, 0),\n",
              "  datetime.datetime(2013, 10, 5, 0, 0),\n",
              "  datetime.datetime(2013, 10, 6, 0, 0),\n",
              "  datetime.datetime(2013, 10, 7, 0, 0),\n",
              "  datetime.datetime(2013, 10, 8, 0, 0),\n",
              "  datetime.datetime(2013, 10, 9, 0, 0),\n",
              "  datetime.datetime(2013, 10, 10, 0, 0)],\n",
              " [123.65499,\n",
              "  125.455,\n",
              "  108.58483,\n",
              "  118.67466,\n",
              "  121.33866,\n",
              "  120.65533,\n",
              "  121.795,\n",
              "  123.033,\n",
              "  124.049,\n",
              "  125.96116])"
            ]
          },
          "metadata": {},
          "execution_count": 9
        }
      ]
    },
    {
      "cell_type": "code",
      "source": [
        "# Plot from csv\n",
        "plt.figure(figsize=(10, 7))\n",
        "plt.plot(timesteps, btc_price)\n",
        "plt.title(\"Price of Bitcoin from 1 Oct 2013 to 18 May 2021\")\n",
        "plt.ylabel(\"BTC Price\")\n",
        "plt.xlabel(\"Date\")\n",
        "plt.legend([\"Price\"], fontsize=14)\n",
        "plt.grid()"
      ],
      "metadata": {
        "colab": {
          "base_uri": "https://localhost:8080/",
          "height": 458
        },
        "id": "QG3g1C3paZ1Z",
        "outputId": "a4c551a4-81d8-40bf-ac85-3b7c52b72fb6"
      },
      "execution_count": 10,
      "outputs": [
        {
          "output_type": "display_data",
          "data": {
            "text/plain": [
              "<Figure size 720x504 with 1 Axes>"
            ],
            "image/png": "[encoded data removed]"
          },
          "metadata": {
            "needs_background": "light"
          }
        }
      ]
    },
    {
      "cell_type": "markdown",
      "source": [
        "## Format data part 1: Create train and test sets of our time series data"
      ],
      "metadata": {
        "id": "xKkvnLi3bUlg"
      }
    },
    {
      "cell_type": "markdown",
      "source": [
        "### Creating train and test sets with time series data (the wrong way)"
      ],
      "metadata": {
        "id": "DLaSamvxbVx3"
      }
    },
    {
      "cell_type": "code",
      "source": [
        "bitcoin_prices[:5]"
      ],
      "metadata": {
        "colab": {
          "base_uri": "https://localhost:8080/",
          "height": 238
        },
        "id": "PTkcXehYdzHE",
        "outputId": "d169ac1b-a507-4673-eb0c-9963103f8e49"
      },
      "execution_count": 11,
      "outputs": [
        {
          "output_type": "execute_result",
          "data": {
            "text/plain": [
              "                Price\n",
              "Date                 \n",
              "2013-10-01  123.65499\n",
              "2013-10-02  125.45500\n",
              "2013-10-03  108.58483\n",
              "2013-10-04  118.67466\n",
              "2013-10-05  121.33866"
            ],
            "text/html": [
              "\n",
              "  <div id=\"df-1f81b7dd-05de-42a9-8a6e-eeac94c69c90\">\n",
              "    <div class=\"colab-df-container\">\n",
              "      <div>\n",
              "<style scoped>\n",
              "    .dataframe tbody tr th:only-of-type {\n",
              "        vertical-align: middle;\n",
              "    }\n",
              "\n",
              "    .dataframe tbody tr th {\n",
              "        vertical-align: top;\n",
              "    }\n",
              "\n",
              "    .dataframe thead th {\n",
              "        text-align: right;\n",
              "    }\n",
              "</style>\n",
              "<table border=\"1\" class=\"dataframe\">\n",
              "  <thead>\n",
              "    <tr style=\"text-align: right;\">\n",
              "      <th></th>\n",
              "      <th>Price</th>\n",
              "    </tr>\n",
              "    <tr>\n",
              "      <th>Date</th>\n",
              "      <th></th>\n",
              "    </tr>\n",
              "  </thead>\n",
              "  <tbody>\n",
              "    <tr>\n",
              "      <th>2013-10-01</th>\n",
              "      <td>123.65499</td>\n",
              "    </tr>\n",
              "    <tr>\n",
              "      <th>2013-10-02</th>\n",
              "      <td>125.45500</td>\n",
              "    </tr>\n",
              "    <tr>\n",
              "      <th>2013-10-03</th>\n",
              "      <td>108.58483</td>\n",
              "    </tr>\n",
              "    <tr>\n",
              "      <th>2013-10-04</th>\n",
              "      <td>118.67466</td>\n",
              "    </tr>\n",
              "    <tr>\n",
              "      <th>2013-10-05</th>\n",
              "      <td>121.33866</td>\n",
              "    </tr>\n",
              "  </tbody>\n",
              "</table>\n",
              "</div>\n",
              "      <button class=\"colab-df-convert\" onclick=\"convertToInteractive('df-1f81b7dd-05de-42a9-8a6e-eeac94c69c90')\"\n",
              "              title=\"Convert this dataframe to an interactive table.\"\n",
              "              style=\"display:none;\">\n",
              "        \n",
              "  <svg xmlns=\"http://www.w3.org/2000/svg\" height=\"24px\"viewBox=\"0 0 24 24\"\n",
              "       width=\"24px\">\n",
              "    <path d=\"M0 0h24v24H0V0z\" fill=\"none\"/>\n",
              "    <path d=\"M18.56 5.44l.94 2.06.94-2.06 2.06-.94-2.06-.94-.94-2.06-.94 2.06-2.06.94zm-11 1L8.5 8.5l.94-2.06 2.06-.94-2.06-.94L8.5 2.5l-.94 2.06-2.06.94zm10 10l.94 2.06.94-2.06 2.06-.94-2.06-.94-.94-2.06-.94 2.06-2.06.94z\"/><path d=\"M17.41 7.96l-1.37-1.37c-.4-.4-.92-.59-1.43-.59-.52 0-1.04.2-1.43.59L10.3 9.45l-7.72 7.72c-.78.78-.78 2.05 0 2.83L4 21.41c.39.39.9.59 1.41.59.51 0 1.02-.2 1.41-.59l7.78-7.78 2.81-2.81c.8-.78.8-2.07 0-2.86zM5.41 20L4 18.59l7.72-7.72 1.47 1.35L5.41 20z\"/>\n",
              "  </svg>\n",
              "      </button>\n",
              "      \n",
              "  <style>\n",
              "    .colab-df-container {\n",
              "      display:flex;\n",
              "      flex-wrap:wrap;\n",
              "      gap: 12px;\n",
              "    }\n",
              "\n",
              "    .colab-df-convert {\n",
              "      background-color: #E8F0FE;\n",
              "      border: none;\n",
              "      border-radius: 50%;\n",
              "      cursor: pointer;\n",
              "      display: none;\n",
              "      fill: #1967D2;\n",
              "      height: 32px;\n",
              "      padding: 0 0 0 0;\n",
              "      width: 32px;\n",
              "    }\n",
              "\n",
              "    .colab-df-convert:hover {\n",
              "      background-color: #E2EBFA;\n",
              "      box-shadow: 0px 1px 2px rgba(60, 64, 67, 0.3), 0px 1px 3px 1px rgba(60, 64, 67, 0.15);\n",
              "      fill: #174EA6;\n",
              "    }\n",
              "\n",
              "    [theme=dark] .colab-df-convert {\n",
              "      background-color: #3B4455;\n",
              "      fill: #D2E3FC;\n",
              "    }\n",
              "\n",
              "    [theme=dark] .colab-df-convert:hover {\n",
              "      background-color: #434B5C;\n",
              "      box-shadow: 0px 1px 3px 1px rgba(0, 0, 0, 0.15);\n",
              "      filter: drop-shadow(0px 1px 2px rgba(0, 0, 0, 0.3));\n",
              "      fill: #FFFFFF;\n",
              "    }\n",
              "  </style>\n",
              "\n",
              "      <script>\n",
              "        const buttonEl =\n",
              "          document.querySelector('#df-1f81b7dd-05de-42a9-8a6e-eeac94c69c90 button.colab-df-convert');\n",
              "        buttonEl.style.display =\n",
              "          google.colab.kernel.accessAllowed ? 'block' : 'none';\n",
              "\n",
              "        async function convertToInteractive(key) {\n",
              "          const element = document.querySelector('#df-1f81b7dd-05de-42a9-8a6e-eeac94c69c90');\n",
              "          const dataTable =\n",
              "            await google.colab.kernel.invokeFunction('convertToInteractive',\n",
              "                                                     [key], {});\n",
              "          if (!dataTable) return;\n",
              "\n",
              "          const docLinkHtml = 'Like what you see? Visit the ' +\n",
              "            '<a target=\"_blank\" href=https://colab.research.google.com/notebooks/data_table.ipynb>data table notebook</a>'\n",
              "            + ' to learn more about interactive tables.';\n",
              "          element.innerHTML = '';\n",
              "          dataTable['output_type'] = 'display_data';\n",
              "          await google.colab.output.renderOutput(dataTable, element);\n",
              "          const docLink = document.createElement('div');\n",
              "          docLink.innerHTML = docLinkHtml;\n",
              "          element.appendChild(docLink);\n",
              "        }\n",
              "      </script>\n",
              "    </div>\n",
              "  </div>\n",
              "  "
            ]
          },
          "metadata": {},
          "execution_count": 11
        }
      ]
    },
    {
      "cell_type": "code",
      "source": [
        "# Get bitcoin date array\n",
        "timesteps = bitcoin_prices.index.to_numpy()\n",
        "prices = bitcoin_prices[\"Price\"].to_numpy()\n",
        "timesteps[:5], prices[:5]"
      ],
      "metadata": {
        "colab": {
          "base_uri": "https://localhost:8080/"
        },
        "id": "VIekNLxfbOAq",
        "outputId": "5b0bb38b-89c5-4888-e17e-a5b556cd0b3d"
      },
      "execution_count": 12,
      "outputs": [
        {
          "output_type": "execute_result",
          "data": {
            "text/plain": [
              "(array(['2013-10-01T00:00:00.000000000', '2013-10-02T00:00:00.000000000',\n",
              "        '2013-10-03T00:00:00.000000000', '2013-10-04T00:00:00.000000000',\n",
              "        '2013-10-05T00:00:00.000000000'], dtype='datetime64[ns]'),\n",
              " array([123.65499, 125.455  , 108.58483, 118.67466, 121.33866]))"
            ]
          },
          "metadata": {},
          "execution_count": 12
        }
      ]
    },
    {
      "cell_type": "code",
      "source": [
        "# Wrong way to make train/test sets for time series data\n",
        "from sklearn.model_selection import train_test_split\n",
        "\n",
        "x_train, x_test, y_train, y_test = train_test_split(timesteps, \n",
        "                                                    prices, \n",
        "                                                    test_size=0.2,\n",
        "                                                    random_state=42)\n",
        "x_train.shape, x_test.shape, y_train.shape, y_test.shape"
      ],
      "metadata": {
        "colab": {
          "base_uri": "https://localhost:8080/"
        },
        "id": "8vWKD3Kxavqp",
        "outputId": "71440374-7359-4a4c-f414-bfb93f4bbad5"
      },
      "execution_count": 13,
      "outputs": [
        {
          "output_type": "execute_result",
          "data": {
            "text/plain": [
              "((2229,), (558,), (2229,), (558,))"
            ]
          },
          "metadata": {},
          "execution_count": 13
        }
      ]
    },
    {
      "cell_type": "code",
      "source": [
        "# Let's plot wrong train and test splits\n",
        "plt.figure(figsize=(10, 7))\n",
        "plt.scatter(x_train, y_train, s=5, label=\"Train data\")\n",
        "plt.scatter(x_test, y_test, s=5, label=\"Test data\")\n",
        "plt.xlabel(\"Date\")\n",
        "plt.ylabel(\"BTC Price\")\n",
        "plt.legend(fontsize=14)\n",
        "plt.grid()\n",
        "plt.show()"
      ],
      "metadata": {
        "colab": {
          "base_uri": "https://localhost:8080/",
          "height": 442
        },
        "id": "WYEGwUFxeTJt",
        "outputId": "3dd51192-04bc-4700-fb45-40afa4b391e6"
      },
      "execution_count": 14,
      "outputs": [
        {
          "output_type": "display_data",
          "data": {
            "text/plain": [
              "<Figure size 720x504 with 1 Axes>"
            ],
            "image/png": "[encoded data removed]"
          },
          "metadata": {
            "needs_background": "light"
          }
        }
      ]
    },
    {
      "cell_type": "markdown",
      "source": [
        "### Create train and test sets for time series (the right way)"
      ],
      "metadata": {
        "id": "Zk4SWhqSfuGy"
      }
    },
    {
      "cell_type": "code",
      "source": [
        "# Create train and test splits the right way for time series data\n",
        "split_size = int(0.8 * len(prices)) # 80% train, 20% test\n",
        "\n",
        "# Create train data splots (everything before the split)\n",
        "x_train, y_train = timesteps[:split_size], prices[:split_size]\n",
        "\n",
        "# Create test data splits (everything beyond the split)\n",
        "x_test, y_test = timesteps[split_size:], prices[split_size:]\n",
        "\n",
        "len(x_train), len(x_test), len(y_train), len(y_test)"
      ],
      "metadata": {
        "colab": {
          "base_uri": "https://localhost:8080/"
        },
        "id": "Dvh_6K3beUbM",
        "outputId": "9ba7ed2d-6d0c-446b-d7d1-2ebb653685c5"
      },
      "execution_count": 15,
      "outputs": [
        {
          "output_type": "execute_result",
          "data": {
            "text/plain": [
              "(2229, 558, 2229, 558)"
            ]
          },
          "metadata": {},
          "execution_count": 15
        }
      ]
    },
    {
      "cell_type": "code",
      "source": [
        "# Plot correctly made splits\n",
        "plt.figure(figsize=(10, 7))\n",
        "plt.scatter(x_train, y_train, s=5, label=\"Train data\")\n",
        "plt.scatter(x_test, y_test, s=5, label=\"Test data\")\n",
        "plt.xlabel(\"Date\")\n",
        "plt.ylabel(\"BTC Price\")\n",
        "plt.legend(fontsize=14)\n",
        "plt.grid()\n",
        "plt.show()"
      ],
      "metadata": {
        "colab": {
          "base_uri": "https://localhost:8080/",
          "height": 442
        },
        "id": "YXTQhV0fg0o6",
        "outputId": "037a8119-38d3-4566-f649-147a938857ec"
      },
      "execution_count": 16,
      "outputs": [
        {
          "output_type": "display_data",
          "data": {
            "text/plain": [
              "<Figure size 720x504 with 1 Axes>"
            ],
            "image/png": "[encoded data removed]"
          },
          "metadata": {
            "needs_background": "light"
          }
        }
      ]
    },
    {
      "cell_type": "markdown",
      "source": [
        "## Create a plotting function\n",
        "\n",
        "Typing plotting code is tedious, let's functionize it."
      ],
      "metadata": {
        "id": "lsha5jYNhcJS"
      }
    },
    {
      "cell_type": "code",
      "source": [
        "# Create a function to plot time series data\n",
        "def plot_time_series(timesteps, values, format=\".\", start=0, end=None, label=None):\n",
        "  \"\"\"\n",
        "  Plots timesteps (a series of points in time) against values (a series of values across timesteps).\n",
        "  \n",
        "  Parameters\n",
        "  ---\n",
        "  timesteps : array of timestep values\n",
        "  values : array of values across time\n",
        "  format : style of plot, default \".\"\n",
        "  start : where to start the plot (setting a value will indes from start of timesteps and values)\n",
        "  end : where to end the plot (similoar to start but for the end)\n",
        "  label : label to show on plot about values\n",
        "  \"\"\"\n",
        "\n",
        "  # Plot the series\n",
        "  plt.plot(timesteps[start:end], values[start:end], format, label=label)\n",
        "  plt.xlabel(\"Time\")\n",
        "  plt.ylabel(\"BTC Price\")\n",
        "  if label: \n",
        "    plt.legend(fontsize=14) \n",
        "  plt.grid(True)\n"
      ],
      "metadata": {
        "id": "LKaa2a31hgfh"
      },
      "execution_count": 17,
      "outputs": []
    },
    {
      "cell_type": "code",
      "source": [
        "# Test out plotting function\n",
        "plt.figure(figsize=(10, 7))\n",
        "plot_time_series(timesteps=x_train, values=y_train, label=\"Train data\")\n",
        "plot_time_series(timesteps=x_test, values=y_test, label=\"Test data\")"
      ],
      "metadata": {
        "colab": {
          "base_uri": "https://localhost:8080/",
          "height": 442
        },
        "id": "qn1EeaiTiNug",
        "outputId": "68042e4f-ca51-43f0-e8da-842d5eb56e8f"
      },
      "execution_count": 18,
      "outputs": [
        {
          "output_type": "display_data",
          "data": {
            "text/plain": [
              "<Figure size 720x504 with 1 Axes>"
            ],
            "image/png": "[encoded data removed]"
          },
          "metadata": {
            "needs_background": "light"
          }
        }
      ]
    },
    {
      "cell_type": "markdown",
      "source": [
        "## Modelling Experiments\n",
        "\n",
        "We've got some Bitcoin historical data, to model it, let's run a series of modelling experiments and see which model performs best.\n",
        "\n",
        "Terms to be familiar with:\n",
        "* **Horizon** = number of timesteps into the future we're going to predict\n",
        "* **Window** = number of timesteps we're going to use to predict horizon\n",
        "\n",
        "Modelling experiments we're running:\n",
        "0. Naïve model (baseline)\n",
        "1. Dense model, horizon = 1, window = 7\n",
        "2. Same as 1, horizon = 1, window = 30\n",
        "3. Same as 1, horizon = 7, window = 30\n",
        "4. Conv1D, horizon = 1, window = 7\n",
        "5. LSTM, horizon = 1, window = 7\n",
        "6. Same as 1 (but with mulitvariate data), horizon = 1, window = 7\n",
        "7. N-BEATs Algorithm, horizon = 1, window = 7\n",
        "8. Ensemble (multiple models optimized on different loss functions), horizon = 1, window = 7\n",
        "9. Future prediction model (model to predict future values), horizon = 1, window = 7\n",
        "10. Same as 1 (but with turkey 🦃 data introduced), horizon = 1, window = 7"
      ],
      "metadata": {
        "id": "HfQI41t2jeny"
      }
    },
    {
      "cell_type": "markdown",
      "source": [
        "## Model 0: Naïve Forecast (baseline)\n",
        "\n",
        "The formula looks like this:\n",
        "\n",
        "$$\\hat{y}_{t} = y_{t-1}$$\n",
        "\n",
        "In English:\n",
        "> The prediction at timestep t (y-hat) is equal to the value at timestep t-1 (previous timestep) - this is for a horizon of 1."
      ],
      "metadata": {
        "id": "Hb_XLA7xmj0Q"
      }
    },
    {
      "cell_type": "code",
      "source": [
        "y_test[:10], y_test[-10:]"
      ],
      "metadata": {
        "colab": {
          "base_uri": "https://localhost:8080/"
        },
        "id": "tRjKOOQMnRrQ",
        "outputId": "7a95d3c6-9bf3-452c-f046-19f377c357a8"
      },
      "execution_count": 19,
      "outputs": [
        {
          "output_type": "execute_result",
          "data": {
            "text/plain": [
              "(array([9226.48582088, 8794.35864452, 8798.04205463, 9081.18687849,\n",
              "        8711.53433917, 8760.89271814, 8749.52059102, 8656.97092235,\n",
              "        8500.64355816, 8469.2608989 ]),\n",
              " array([58788.20967893, 58102.19142623, 55715.54665129, 56573.5554719 ,\n",
              "        52147.82118698, 49764.1320816 , 50032.69313676, 47885.62525472,\n",
              "        45604.61575361, 43144.47129086]))"
            ]
          },
          "metadata": {},
          "execution_count": 19
        }
      ]
    },
    {
      "cell_type": "code",
      "source": [
        "# Create a Naive forecast\n",
        "naive_forecast = y_test[:-1]\n",
        "\n",
        "naive_forecast[:10], naive_forecast[-10:]"
      ],
      "metadata": {
        "colab": {
          "base_uri": "https://localhost:8080/"
        },
        "id": "KKWURc6Ri1PI",
        "outputId": "5f41893d-2c94-475a-dd6d-96e6aed0cc53"
      },
      "execution_count": 20,
      "outputs": [
        {
          "output_type": "execute_result",
          "data": {
            "text/plain": [
              "(array([9226.48582088, 8794.35864452, 8798.04205463, 9081.18687849,\n",
              "        8711.53433917, 8760.89271814, 8749.52059102, 8656.97092235,\n",
              "        8500.64355816, 8469.2608989 ]),\n",
              " array([57107.12067189, 58788.20967893, 58102.19142623, 55715.54665129,\n",
              "        56573.5554719 , 52147.82118698, 49764.1320816 , 50032.69313676,\n",
              "        47885.62525472, 45604.61575361]))"
            ]
          },
          "metadata": {},
          "execution_count": 20
        }
      ]
    },
    {
      "cell_type": "code",
      "source": [
        "# Plot naive dorecast\n",
        "plt.figure(figsize=(10, 7))\n",
        "plot_time_series(timesteps=x_train, values=y_train, label=\"Train Data\")\n",
        "plot_time_series(timesteps=x_test, values=y_test, label=\"Test Data\")\n",
        "plot_time_series(timesteps=x_test[1:], values=naive_forecast, format=\"-\", label=\"Naive Forecast\")"
      ],
      "metadata": {
        "colab": {
          "base_uri": "https://localhost:8080/",
          "height": 442
        },
        "id": "HgKEPzn3nYCZ",
        "outputId": "1fe75b88-098d-4724-8a8b-63bae4bbdd51"
      },
      "execution_count": 21,
      "outputs": [
        {
          "output_type": "display_data",
          "data": {
            "text/plain": [
              "<Figure size 720x504 with 1 Axes>"
            ],
            "image/png": "[encoded data removed]"
          },
          "metadata": {
            "needs_background": "light"
          }
        }
      ]
    },
    {
      "cell_type": "markdown",
      "source": [
        "## Evaluating a time series model\n",
        "\n",
        "Let's look into some evaluation metrics for time series forecasting predictions.\n",
        "\n",
        "What are we doing? \n",
        "\n",
        "We're predicting a number, so that means we have a form of a regression problem.\n",
        "\n",
        "Because we're working on a regression problem, we'll need some regression-like metrics. \n",
        "\n",
        "A few common regression metrics (which can also be used for time series forecasting):\n",
        "* MAE - Mean Absolute Error\n",
        "* MSE - Mean Squared Error\n",
        "* RMSE - Root Mean Squared Error\n",
        "* MAPE = (Symmetric) Mean Absolute Percentage Error\n",
        "* MASE - Mean Absolute scaled error\n",
        "\n",
        "For all the aboive metrics, **lower is better**, for example, an MAE of 0 that is better than an MAE of 100.\n",
        "\n",
        "The main thing we're evaluating here is: **How do our model's forecasts (y_pred) compare against the actual values (y_true or ground truth values)?**"
      ],
      "metadata": {
        "id": "Y9ijHRUkcNFD"
      }
    },
    {
      "cell_type": "code",
      "source": [
        "import tensorflow as tf"
      ],
      "metadata": {
        "id": "11PnRhRNn6SW"
      },
      "execution_count": 22,
      "outputs": []
    },
    {
      "cell_type": "code",
      "source": [
        "# MASE implementation\n",
        "def mean_absolute_scaled_error(y_true, y_pred):\n",
        "  \"\"\"\n",
        "  Implement MASE (assuming no seasonality of data).\n",
        "  \"\"\"\n",
        "\n",
        "  mae = tf.reduce_mean(tf.abs(y_true-y_pred))\n",
        "\n",
        "  # Find MAE of naive forecast (no seasonality)\n",
        "  mae_naive_no_season = tf.reduce_mean(tf.abs(y_true[1:]-y_true[:-1])) # our seasonality is 1 day (hence the shift of 1)\n",
        "\n",
        "  return mae / mae_naive_no_season"
      ],
      "metadata": {
        "id": "es8LLmscgw-L"
      },
      "execution_count": 23,
      "outputs": []
    },
    {
      "cell_type": "code",
      "source": [
        "# Test MASE (this value should = 1 or be very close to 1 with the naive forecast)\n",
        "mean_absolute_scaled_error(y_true=y_test[1:], y_pred=naive_forecast).numpy()"
      ],
      "metadata": {
        "colab": {
          "base_uri": "https://localhost:8080/"
        },
        "id": "Lq-a9uTAh0dU",
        "outputId": "368fef20-4b5c-4204-8e61-2b42fb246c6f"
      },
      "execution_count": 24,
      "outputs": [
        {
          "output_type": "execute_result",
          "data": {
            "text/plain": [
              "0.9995699939182624"
            ]
          },
          "metadata": {},
          "execution_count": 24
        }
      ]
    },
    {
      "cell_type": "code",
      "source": [
        "# Create a function to take in model predictions and truth values and return evaluation metrics\n",
        "def evaluate_preds(y_true, y_pred):\n",
        "  # Make sure float32 datatype (for metrics calculations)\n",
        "  y_true = tf.cast(y_true, dtype=tf.float32)\n",
        "  y_pred = tf.cast(y_pred, dtype=tf.float32)\n",
        "\n",
        "  # Calculate various evaluation metrics\n",
        "  mae = tf.keras.metrics.mean_absolute_error(y_true, y_pred)\n",
        "  mse = tf.keras.metrics.mean_squared_error(y_true, y_pred)\n",
        "  rmse = tf.sqrt(mse)\n",
        "  mape = tf.keras.metrics.mean_absolute_percentage_error(y_true, y_pred)\n",
        "  mase = mean_absolute_scaled_error(y_true, y_pred)\n",
        "\n",
        "  return {\n",
        "      \"mae\": mae.numpy(), \n",
        "      \"mse\": mse.numpy(),\n",
        "      \"rmse\": rmse.numpy(),\n",
        "      \"mape\": mape.numpy(),\n",
        "      \"mase\": mase.numpy()\n",
        "  }"
      ],
      "metadata": {
        "id": "d9MLKp0_h8L8"
      },
      "execution_count": 25,
      "outputs": []
    },
    {
      "cell_type": "markdown",
      "source": [
        "That's one good looking evaluation function!\n",
        "\n",
        "Let's now see if it works..."
      ],
      "metadata": {
        "id": "aGNAuHhljyxx"
      }
    },
    {
      "cell_type": "code",
      "source": [
        "naive_results = evaluate_preds(\n",
        "    y_true=y_test[1:], \n",
        "    y_pred=naive_forecast\n",
        ")\n",
        "naive_results"
      ],
      "metadata": {
        "colab": {
          "base_uri": "https://localhost:8080/"
        },
        "id": "P_9qWycljx5R",
        "outputId": "9f652064-f022-450e-eb4b-ea228dff3fd7"
      },
      "execution_count": 26,
      "outputs": [
        {
          "output_type": "execute_result",
          "data": {
            "text/plain": [
              "{'mae': 567.9802,\n",
              " 'mape': 2.5165248,\n",
              " 'mase': 0.99957,\n",
              " 'mse': 1147547.0,\n",
              " 'rmse': 1071.2362}"
            ]
          },
          "metadata": {},
          "execution_count": 26
        }
      ]
    },
    {
      "cell_type": "code",
      "source": [
        "naive_forecast[-10:]"
      ],
      "metadata": {
        "colab": {
          "base_uri": "https://localhost:8080/"
        },
        "id": "yEEklxUFj-Bp",
        "outputId": "00bb43b5-20f8-4d19-bb45-6b0bcd2cf2a7"
      },
      "execution_count": 27,
      "outputs": [
        {
          "output_type": "execute_result",
          "data": {
            "text/plain": [
              "array([57107.12067189, 58788.20967893, 58102.19142623, 55715.54665129,\n",
              "       56573.5554719 , 52147.82118698, 49764.1320816 , 50032.69313676,\n",
              "       47885.62525472, 45604.61575361])"
            ]
          },
          "metadata": {},
          "execution_count": 27
        }
      ]
    },
    {
      "cell_type": "code",
      "source": [
        "tf.reduce_mean(y_test)"
      ],
      "metadata": {
        "colab": {
          "base_uri": "https://localhost:8080/"
        },
        "id": "86LYNu5Nl4AZ",
        "outputId": "9871bf53-e2a5-41e8-f487-bb525be7bf68"
      },
      "execution_count": 28,
      "outputs": [
        {
          "output_type": "execute_result",
          "data": {
            "text/plain": [
              "<tf.Tensor: shape=(), dtype=float64, numpy=20056.632963737226>"
            ]
          },
          "metadata": {},
          "execution_count": 28
        }
      ]
    },
    {
      "cell_type": "code",
      "source": [
        "tf.reduce_min(y_test), tf.reduce_max(y_test)"
      ],
      "metadata": {
        "colab": {
          "base_uri": "https://localhost:8080/"
        },
        "id": "Y5tEErAnmTY5",
        "outputId": "e215a8fd-c286-471b-bc60-0abe588d7df6"
      },
      "execution_count": 29,
      "outputs": [
        {
          "output_type": "execute_result",
          "data": {
            "text/plain": [
              "(<tf.Tensor: shape=(), dtype=float64, numpy=4944.7023359837>,\n",
              " <tf.Tensor: shape=(), dtype=float64, numpy=63346.7890351052>)"
            ]
          },
          "metadata": {},
          "execution_count": 29
        }
      ]
    },
    {
      "cell_type": "markdown",
      "source": [
        "## Other models you can use for baselines and for actual forecasts\n",
        "\n",
        "In this notebook we're  focused on TensorFlow and deep learning models.\n",
        "\n",
        "However there are plenty of other styles of time series forecasting models you may want to experiment with.\n",
        "\n",
        "* [Moving average](https://machinelearningmastery.com/moving-average-smoothing-for-time-series-forecasting-python/)\n",
        "* [ARIMA (Autoregression Integrated Moving Average)](https://machinelearningmastery.com/arima-for-time-series-forecasting-with-python/)\n",
        "* [sktime (Scikit-Learn for time series)](https://github.com/alan-turing-institute/sktime)\n",
        "* [TensorFlow Decision Forests (random forest, gradient boosting trees)](https://www.tensorflow.org/decision_forests)\n",
        "* [Facebook Kats (purpose-built forecasting and time series analysis library by Facebook)](https://github.com/facebookresearch/Kats)\n",
        "* [LinkedIn Greykite (flexible, intuitive and fast forecasts)](https://github.com/linkedin/greykite)"
      ],
      "metadata": {
        "id": "beSpJEQnm4fp"
      }
    },
    {
      "cell_type": "markdown",
      "source": [
        "## Format Data Part 2: Windowing our dataset\n",
        "\n",
        "Why do we window?\n",
        "\n",
        "We window our time series dataset to turn our data into a supervised learning problem.\n",
        "\n",
        "```\n",
        "Windowing for one week\n",
        "[0, 1, 2, 3, 4, 5, 6] -> [7]\n",
        "[1, 2, 3, 4, 5, 6, 7] -> [8]\n",
        "[2, 3, 4, 5, 6, 7, 8] -> [9]\n",
        "```"
      ],
      "metadata": {
        "id": "otmKL8WkpGdg"
      }
    },
    {
      "cell_type": "code",
      "source": [
        "import numpy as np"
      ],
      "metadata": {
        "id": "rsel4wK02m_I"
      },
      "execution_count": 30,
      "outputs": []
    },
    {
      "cell_type": "code",
      "source": [
        "btc_price[:10]"
      ],
      "metadata": {
        "colab": {
          "base_uri": "https://localhost:8080/"
        },
        "id": "ChLBvYXImW74",
        "outputId": "d42f1b8b-3cf8-4720-fae8-3839ea46775b"
      },
      "execution_count": 31,
      "outputs": [
        {
          "output_type": "execute_result",
          "data": {
            "text/plain": [
              "[123.65499,\n",
              " 125.455,\n",
              " 108.58483,\n",
              " 118.67466,\n",
              " 121.33866,\n",
              " 120.65533,\n",
              " 121.795,\n",
              " 123.033,\n",
              " 124.049,\n",
              " 125.96116]"
            ]
          },
          "metadata": {},
          "execution_count": 31
        }
      ]
    },
    {
      "cell_type": "code",
      "source": [
        "# What we want to do with our Bitcoin data\n",
        "print(f\"We want to use {btc_price[:7]} to predict {btc_price[7]}\")"
      ],
      "metadata": {
        "colab": {
          "base_uri": "https://localhost:8080/"
        },
        "id": "FcaDkrlJpoY1",
        "outputId": "b8822446-88a8-4c86-f956-6a7464011c4e"
      },
      "execution_count": 32,
      "outputs": [
        {
          "output_type": "stream",
          "name": "stdout",
          "text": [
            "We want to use [123.65499, 125.455, 108.58483, 118.67466, 121.33866, 120.65533, 121.795] to predict 123.033\n"
          ]
        }
      ]
    },
    {
      "cell_type": "code",
      "source": [
        "# Let's setup global variable for window and horizon size\n",
        "HORIZON = 1\n",
        "WINDOW_SIZE = 7"
      ],
      "metadata": {
        "id": "Q4ZxGBcMptkE"
      },
      "execution_count": 33,
      "outputs": []
    },
    {
      "cell_type": "code",
      "source": [
        "# Create function to label windowed data\n",
        "def get_labelled_windows(x, horizon=HORIZON):\n",
        "  \"\"\"\n",
        "  Creates labels for windowed dataset.\n",
        "\n",
        "  E.g. if horizon=1\n",
        "  Input: [0, 1, 2, 3, 4, 5, 6, 7] -> ([0, 1, 2, 3, 4, 5, 6], [7])\n",
        "  \"\"\"\n",
        "  return x[:, :-horizon], x[:, -horizon:]"
      ],
      "metadata": {
        "id": "KMIWTDaRqUOE"
      },
      "execution_count": 34,
      "outputs": []
    },
    {
      "cell_type": "code",
      "source": [
        "# Test out the window labelling function\n",
        "test_window, test_label = get_labelled_windows(tf.expand_dims(tf.range(8), axis=0))\n",
        "print(f\"Window: {tf.squeeze(test_window).numpy()} -> Label {tf.squeeze(test_label.numpy())}\")"
      ],
      "metadata": {
        "colab": {
          "base_uri": "https://localhost:8080/"
        },
        "id": "EjL9w-yrrejo",
        "outputId": "1504b7ad-7c53-4a2d-ebfe-59027f2830e7"
      },
      "execution_count": 35,
      "outputs": [
        {
          "output_type": "stream",
          "name": "stdout",
          "text": [
            "Window: [0 1 2 3 4 5 6] -> Label 7\n"
          ]
        }
      ]
    },
    {
      "cell_type": "markdown",
      "source": [
        "We've got a way to label our windowed data.\n",
        "\n",
        "Howevee, this only works on a small scale.\n",
        "\n",
        "We need a way tot do the above across our entire time series.\n",
        "\n",
        "We could do this with python for loops, however, for large time series, that'd be quite slow.\n",
        "\n",
        "To speed things up, we'll leverage NumPy's array indexing - https://numpy.org/doc/stable/reference/arrays.indexing.html\n",
        "\n",
        "Our function will:\n",
        "1. Create a window step of specific window size (e.g. [0, 1, 2, 3, 4, 5, 6])\n",
        "2. Use NumPy indexing to create a 2D array of multiple window steps, for example \n",
        "```\n",
        "[[0, 1, 2, 3, 4, 5, 6],\n",
        "[1, 2, 3, 4, 5, 6, 7],\n",
        "[2, 3, 4, 5, 6, 7, 8]]\n",
        "```\n",
        "3. Uses the 2D array of multiple window steps (from 2.) to index on a target series (e.g. the historical price of Bitcoin)\n",
        "4. Uses our `get_labelled_window()` function we created above to turn the window steps into windows with a specified horizon.\n",
        "\n",
        "> 📖 **Resource:** The function we're about to create has been adapted from the following article: https://towardsdatascience.com/fast-and-robust-sliding-window-vectorization-with-numpy-3ad950ed62f5"
      ],
      "metadata": {
        "id": "_FAO1igzw3Ol"
      }
    },
    {
      "cell_type": "code",
      "source": [
        "# Create function to view NumPy array as windows\n",
        "def make_windows(x, window_size=WINDOW_SIZE, horizon=HORIZON):\n",
        "  \"\"\"\n",
        "  Turns a 1D array into a 2D array of sequential labelled windows of window_size with horizon size labels.\n",
        "  \"\"\"\n",
        "  # 1. Create a window of specific window_size (add the hoizon on the end for labelling later)\n",
        "  window_step = np.expand_dims(np.arange(window_size+horizon), axis=0)\n",
        "\n",
        "  # 2. Create a 2D array of multiple window steps (minus -1 to account for 0 indexing)\n",
        "  window_indexes = window_step + np.expand_dims(np.arange(len(x)-(window_size+horizon-1)), axis=0).T \n",
        "    # create 2D array of windows of size window_size\n",
        "  # print(f\"Window indexes: \\n{window_indexes, window_indexes.shape}\")\n",
        "\n",
        "  # 3. Index on the target array (a time series) with 2D Array of multiple window steps\n",
        "  windowed_array = x[window_indexes]\n",
        "  # print(windowed_array)\n",
        "\n",
        "  # 4. Get the labeled windows\n",
        "  windows, labels = get_labelled_windows(windowed_array, horizon=horizon)\n",
        "  return windows, labels"
      ],
      "metadata": {
        "id": "dwnMQUufrsTx"
      },
      "execution_count": 36,
      "outputs": []
    },
    {
      "cell_type": "code",
      "source": [
        "full_windows, full_labels = make_windows(prices, window_size=WINDOW_SIZE)\n",
        "len(full_windows), len(full_labels), len(prices)"
      ],
      "metadata": {
        "colab": {
          "base_uri": "https://localhost:8080/"
        },
        "id": "lODJQn_x3Ii-",
        "outputId": "0a02f40a-56c5-4344-9fc5-d76632be8be4"
      },
      "execution_count": 37,
      "outputs": [
        {
          "output_type": "execute_result",
          "data": {
            "text/plain": [
              "(2780, 2780, 2787)"
            ]
          },
          "metadata": {},
          "execution_count": 37
        }
      ]
    },
    {
      "cell_type": "code",
      "source": [
        "# View the first windows/labels\n",
        "for i in range(3):\n",
        "  print(f\"Window: {full_windows[i]} -> Label: {full_labels[i]}\")"
      ],
      "metadata": {
        "colab": {
          "base_uri": "https://localhost:8080/"
        },
        "id": "TZ-ULvZ53o3X",
        "outputId": "d738d020-21a0-4160-8ec8-1621dd32725d"
      },
      "execution_count": 38,
      "outputs": [
        {
          "output_type": "stream",
          "name": "stdout",
          "text": [
            "Window: [123.65499 125.455   108.58483 118.67466 121.33866 120.65533 121.795  ] -> Label: [123.033]\n",
            "Window: [125.455   108.58483 118.67466 121.33866 120.65533 121.795   123.033  ] -> Label: [124.049]\n",
            "Window: [108.58483 118.67466 121.33866 120.65533 121.795   123.033   124.049  ] -> Label: [125.96116]\n"
          ]
        }
      ]
    },
    {
      "cell_type": "code",
      "source": [
        "# View the last 3\n",
        "for i in range(3):\n",
        "  print(f\"Window: {full_windows[i-3]}, Label: {full_labels[i-3]}\")"
      ],
      "metadata": {
        "colab": {
          "base_uri": "https://localhost:8080/"
        },
        "id": "IhPXkPMS6JzV",
        "outputId": "6598b78a-6b12-485d-cbfd-a295064bbf97"
      },
      "execution_count": 39,
      "outputs": [
        {
          "output_type": "stream",
          "name": "stdout",
          "text": [
            "Window: [58788.20967893 58102.19142623 55715.54665129 56573.5554719\n",
            " 52147.82118698 49764.1320816  50032.69313676], Label: [47885.62525472]\n",
            "Window: [58102.19142623 55715.54665129 56573.5554719  52147.82118698\n",
            " 49764.1320816  50032.69313676 47885.62525472], Label: [45604.61575361]\n",
            "Window: [55715.54665129 56573.5554719  52147.82118698 49764.1320816\n",
            " 50032.69313676 47885.62525472 45604.61575361], Label: [43144.47129086]\n"
          ]
        }
      ]
    },
    {
      "cell_type": "code",
      "source": [
        "prices[-1]"
      ],
      "metadata": {
        "colab": {
          "base_uri": "https://localhost:8080/"
        },
        "id": "ew3Enovv6gMF",
        "outputId": "82766adb-0c4d-41bc-c9a6-187cb3042a8f"
      },
      "execution_count": 40,
      "outputs": [
        {
          "output_type": "execute_result",
          "data": {
            "text/plain": [
              "43144.4712908603"
            ]
          },
          "metadata": {},
          "execution_count": 40
        }
      ]
    },
    {
      "cell_type": "markdown",
      "source": [
        "> 🔑 **Note:** You can find a function which achieces similar results to the ones we implemented above at [tf.keras.preprocessing.timeseries_dataset_from_array()](https://keras.io/api/preprocessing/timeseries/). Just like ours, it takes in an array and returns a windowed dataset. It has the benefit of returning data in the form of a tf.data.Dataset instance (we'll see how to do this with our own data later)."
      ],
      "metadata": {
        "id": "WhMbTuyB6tTE"
      }
    },
    {
      "cell_type": "markdown",
      "source": [
        "## Turning windows into training and test sets"
      ],
      "metadata": {
        "id": "ERjw-QdI7btK"
      }
    },
    {
      "cell_type": "code",
      "source": [
        "full_windows[:5], full_labels[:5]"
      ],
      "metadata": {
        "colab": {
          "base_uri": "https://localhost:8080/"
        },
        "id": "1E7AGC8JKmVc",
        "outputId": "05321c3d-a271-4cca-919f-4aade71bb085"
      },
      "execution_count": 41,
      "outputs": [
        {
          "output_type": "execute_result",
          "data": {
            "text/plain": [
              "(array([[123.65499, 125.455  , 108.58483, 118.67466, 121.33866, 120.65533,\n",
              "         121.795  ],\n",
              "        [125.455  , 108.58483, 118.67466, 121.33866, 120.65533, 121.795  ,\n",
              "         123.033  ],\n",
              "        [108.58483, 118.67466, 121.33866, 120.65533, 121.795  , 123.033  ,\n",
              "         124.049  ],\n",
              "        [118.67466, 121.33866, 120.65533, 121.795  , 123.033  , 124.049  ,\n",
              "         125.96116],\n",
              "        [121.33866, 120.65533, 121.795  , 123.033  , 124.049  , 125.96116,\n",
              "         125.27966]]), array([[123.033  ],\n",
              "        [124.049  ],\n",
              "        [125.96116],\n",
              "        [125.27966],\n",
              "        [125.9275 ]]))"
            ]
          },
          "metadata": {},
          "execution_count": 41
        }
      ]
    },
    {
      "cell_type": "code",
      "source": [
        "# Make the train/test splits\n",
        "def make_train_test_splits(windows, labels, test_split=0.2):\n",
        "  \"\"\"\n",
        "  Splits matching pairs of windows and labels into train and test splits.\n",
        "  \"\"\"\n",
        "  split_size = int(len(windows) * (1-test_split)) # this will default to 80% train/20% test\n",
        "  train_windows = windows[:split_size]\n",
        "  train_labels = labels[:split_size]\n",
        "  test_windows = windows[split_size:]\n",
        "  test_labels = labels[split_size:]\n",
        "  return train_windows, test_windows, train_labels, test_labels"
      ],
      "metadata": {
        "id": "OqNXSinQ6hUm"
      },
      "execution_count": 42,
      "outputs": []
    },
    {
      "cell_type": "code",
      "source": [
        "# Create train and test windows\n",
        "train_windows, test_windows, train_labels, test_labels = make_train_test_splits(full_windows, full_labels)\n",
        "len(train_windows), len(test_windows), len(train_labels), len(test_labels), len(full_windows)*0.8"
      ],
      "metadata": {
        "colab": {
          "base_uri": "https://localhost:8080/"
        },
        "id": "_ZUbs1OIK92p",
        "outputId": "c30052f0-e980-488b-c192-ba22dd9dd1ed"
      },
      "execution_count": 43,
      "outputs": [
        {
          "output_type": "execute_result",
          "data": {
            "text/plain": [
              "(2224, 556, 2224, 556, 2224.0)"
            ]
          },
          "metadata": {},
          "execution_count": 43
        }
      ]
    },
    {
      "cell_type": "code",
      "source": [
        "train_windows[:5], train_labels[:5]"
      ],
      "metadata": {
        "colab": {
          "base_uri": "https://localhost:8080/"
        },
        "id": "s4XnJ3FSLmMH",
        "outputId": "0f13658f-cda9-49e5-848a-89ecfe4d3d6d"
      },
      "execution_count": 44,
      "outputs": [
        {
          "output_type": "execute_result",
          "data": {
            "text/plain": [
              "(array([[123.65499, 125.455  , 108.58483, 118.67466, 121.33866, 120.65533,\n",
              "         121.795  ],\n",
              "        [125.455  , 108.58483, 118.67466, 121.33866, 120.65533, 121.795  ,\n",
              "         123.033  ],\n",
              "        [108.58483, 118.67466, 121.33866, 120.65533, 121.795  , 123.033  ,\n",
              "         124.049  ],\n",
              "        [118.67466, 121.33866, 120.65533, 121.795  , 123.033  , 124.049  ,\n",
              "         125.96116],\n",
              "        [121.33866, 120.65533, 121.795  , 123.033  , 124.049  , 125.96116,\n",
              "         125.27966]]), array([[123.033  ],\n",
              "        [124.049  ],\n",
              "        [125.96116],\n",
              "        [125.27966],\n",
              "        [125.9275 ]]))"
            ]
          },
          "metadata": {},
          "execution_count": 44
        }
      ]
    },
    {
      "cell_type": "code",
      "source": [
        "test_windows[:5], test_labels[:5]"
      ],
      "metadata": {
        "colab": {
          "base_uri": "https://localhost:8080/"
        },
        "id": "ZHwtiT6OLyd3",
        "outputId": "7817ee08-bfb6-4cab-9056-f4e1bf2790a9"
      },
      "execution_count": 45,
      "outputs": [
        {
          "output_type": "execute_result",
          "data": {
            "text/plain": [
              "(array([[9290.89660239, 9202.41545055, 9369.62808116, 9326.59962378,\n",
              "         9335.75240233, 9226.48582088, 8794.35864452],\n",
              "        [9202.41545055, 9369.62808116, 9326.59962378, 9335.75240233,\n",
              "         9226.48582088, 8794.35864452, 8798.04205463],\n",
              "        [9369.62808116, 9326.59962378, 9335.75240233, 9226.48582088,\n",
              "         8794.35864452, 8798.04205463, 9081.18687849],\n",
              "        [9326.59962378, 9335.75240233, 9226.48582088, 8794.35864452,\n",
              "         8798.04205463, 9081.18687849, 8711.53433917],\n",
              "        [9335.75240233, 9226.48582088, 8794.35864452, 8798.04205463,\n",
              "         9081.18687849, 8711.53433917, 8760.89271814]]),\n",
              " array([[8798.04205463],\n",
              "        [9081.18687849],\n",
              "        [8711.53433917],\n",
              "        [8760.89271814],\n",
              "        [8749.52059102]]))"
            ]
          },
          "metadata": {},
          "execution_count": 45
        }
      ]
    },
    {
      "cell_type": "code",
      "source": [
        "# Check to see if train labels are the same (before and after window split)\n",
        "np.array_equal(np.squeeze(train_labels[:-HORIZON-1]), y_train[WINDOW_SIZE:])"
      ],
      "metadata": {
        "colab": {
          "base_uri": "https://localhost:8080/"
        },
        "id": "MgY9fkUdL04W",
        "outputId": "c1332df3-8620-49cf-db15-4f4978f91e24"
      },
      "execution_count": 46,
      "outputs": [
        {
          "output_type": "execute_result",
          "data": {
            "text/plain": [
              "True"
            ]
          },
          "metadata": {},
          "execution_count": 46
        }
      ]
    },
    {
      "cell_type": "markdown",
      "source": [
        "## Make a modelling checkpoint callback\n",
        "\n",
        "Because our model's performance will fluctuate from experiment to experiment, we're going to write a model checkpoint so we can compare apples to apples.\n",
        "\n",
        "More specifically, we want to compare each of our model's best performances against the other model's best performances.\n",
        "\n",
        "For example if our model performs the best on epoch 55 (but we're training for 100 epochs), we want to load and evaluate the model saved on epoch 55.\n",
        "\n",
        "We can create a modelling checkpoint callback using the following: https://www.tensorflow.org/api_docs/python/tf/keras/callbacks/ModelCheckpoint"
      ],
      "metadata": {
        "id": "nzqw3ZtwMj1E"
      }
    },
    {
      "cell_type": "code",
      "source": [
        "import os\n",
        "\n",
        "# Create a function to implement a ModelCheckpoint callback with a specific filename \n",
        "def create_model_checkpoint(model_name, save_path=\"model_experiments\"):\n",
        "  return tf.keras.callbacks.ModelCheckpoint(filepath=os.path.join(save_path, model_name), # create filepath to save model\n",
        "                                            verbose=0, # only output a limited amount of text\n",
        "                                            save_best_only=True) # save only the best model to file"
      ],
      "metadata": {
        "id": "5qzJT_JCL7R3"
      },
      "execution_count": 47,
      "outputs": []
    },
    {
      "cell_type": "markdown",
      "source": [
        "## Model 1: Dense model (window=7, horizon=1)\n",
        "\n",
        "Our first deep model is going to be a simple dense model:\n",
        "* A single dense layer with 128 hidden units and ReLU\n",
        "* An output layer with linear activation (no activation)\n",
        "* Adam optimizer and MAE loss function\n",
        "* Batch size of 128 (previously we've used 32)\n",
        "* 100 epochs\n",
        "\n",
        "Why these values?\n",
        "\n",
        "Picked them out of experimentation.\n",
        "\n",
        "* *Hyperparameters* = values a machine learning practitioner (me!) can adjust myself.\n",
        "  * See: https://towardsdatascience.com/hyperparameter-tuning-with-kerastuner-and-tensorflow-c4a4d690b31a\n",
        "* **Parameters** = values a model learns on its own"
      ],
      "metadata": {
        "id": "RvRaV7edOZho"
      }
    },
    {
      "cell_type": "code",
      "source": [
        "import tensorflow as tf\n",
        "from tensorflow.keras import layers\n",
        "\n",
        "# Set random seed\n",
        "tf.random.set_seed(42)\n",
        "\n",
        "# 1. Model\n",
        "model_1 = tf.keras.Sequential([\n",
        "  layers.Dense(128, activation=\"relu\"),\n",
        "  layers.Dense(HORIZON, activation=\"linear\")\n",
        "], name=\"model_1_dense\")\n",
        "\n",
        "# 2. Compile\n",
        "model_1.compile(\n",
        "    loss=\"mae\",\n",
        "    optimizer=tf.keras.optimizers.Adam(),\n",
        "    metrics=[\"mae\"]\n",
        ")\n",
        "\n",
        "# 3. Fit\n",
        "model_1.fit(\n",
        "    x=train_windows,\n",
        "    y=train_labels,\n",
        "    epochs=100,\n",
        "    verbose=0,\n",
        "    batch_size=128,\n",
        "    validation_data=(test_windows, test_labels),\n",
        "    callbacks=[\n",
        "      create_model_checkpoint(model_name=model_1.name)\n",
        "    ]\n",
        ")"
      ],
      "metadata": {
        "colab": {
          "base_uri": "https://localhost:8080/"
        },
        "id": "ATfh6ppKOEhV",
        "outputId": "e500abfa-4583-4ac9-83ce-b670ab9e5c75"
      },
      "execution_count": 48,
      "outputs": [
        {
          "output_type": "stream",
          "name": "stdout",
          "text": [
            "INFO:tensorflow:Assets written to: model_experiments/model_1_dense/assets\n",
            "INFO:tensorflow:Assets written to: model_experiments/model_1_dense/assets\n",
            "INFO:tensorflow:Assets written to: model_experiments/model_1_dense/assets\n",
            "INFO:tensorflow:Assets written to: model_experiments/model_1_dense/assets\n",
            "INFO:tensorflow:Assets written to: model_experiments/model_1_dense/assets\n",
            "INFO:tensorflow:Assets written to: model_experiments/model_1_dense/assets\n",
            "INFO:tensorflow:Assets written to: model_experiments/model_1_dense/assets\n",
            "INFO:tensorflow:Assets written to: model_experiments/model_1_dense/assets\n",
            "INFO:tensorflow:Assets written to: model_experiments/model_1_dense/assets\n",
            "INFO:tensorflow:Assets written to: model_experiments/model_1_dense/assets\n",
            "INFO:tensorflow:Assets written to: model_experiments/model_1_dense/assets\n",
            "INFO:tensorflow:Assets written to: model_experiments/model_1_dense/assets\n",
            "INFO:tensorflow:Assets written to: model_experiments/model_1_dense/assets\n",
            "INFO:tensorflow:Assets written to: model_experiments/model_1_dense/assets\n",
            "INFO:tensorflow:Assets written to: model_experiments/model_1_dense/assets\n",
            "INFO:tensorflow:Assets written to: model_experiments/model_1_dense/assets\n",
            "INFO:tensorflow:Assets written to: model_experiments/model_1_dense/assets\n",
            "INFO:tensorflow:Assets written to: model_experiments/model_1_dense/assets\n",
            "INFO:tensorflow:Assets written to: model_experiments/model_1_dense/assets\n",
            "INFO:tensorflow:Assets written to: model_experiments/model_1_dense/assets\n",
            "INFO:tensorflow:Assets written to: model_experiments/model_1_dense/assets\n",
            "INFO:tensorflow:Assets written to: model_experiments/model_1_dense/assets\n",
            "INFO:tensorflow:Assets written to: model_experiments/model_1_dense/assets\n",
            "INFO:tensorflow:Assets written to: model_experiments/model_1_dense/assets\n",
            "INFO:tensorflow:Assets written to: model_experiments/model_1_dense/assets\n",
            "INFO:tensorflow:Assets written to: model_experiments/model_1_dense/assets\n",
            "INFO:tensorflow:Assets written to: model_experiments/model_1_dense/assets\n",
            "INFO:tensorflow:Assets written to: model_experiments/model_1_dense/assets\n",
            "INFO:tensorflow:Assets written to: model_experiments/model_1_dense/assets\n",
            "INFO:tensorflow:Assets written to: model_experiments/model_1_dense/assets\n",
            "INFO:tensorflow:Assets written to: model_experiments/model_1_dense/assets\n",
            "INFO:tensorflow:Assets written to: model_experiments/model_1_dense/assets\n",
            "INFO:tensorflow:Assets written to: model_experiments/model_1_dense/assets\n",
            "INFO:tensorflow:Assets written to: model_experiments/model_1_dense/assets\n",
            "INFO:tensorflow:Assets written to: model_experiments/model_1_dense/assets\n",
            "INFO:tensorflow:Assets written to: model_experiments/model_1_dense/assets\n"
          ]
        },
        {
          "output_type": "execute_result",
          "data": {
            "text/plain": [
              "<keras.callbacks.History at 0x7f2473744190>"
            ]
          },
          "metadata": {},
          "execution_count": 48
        }
      ]
    },
    {
      "cell_type": "code",
      "source": [
        "# Evaluate model on test data\n",
        "model_1.evaluate(test_windows, test_labels)"
      ],
      "metadata": {
        "colab": {
          "base_uri": "https://localhost:8080/"
        },
        "id": "ZfuiZUmeQ8zc",
        "outputId": "b197726d-b3ef-4e40-dcd3-f9d7cc729afa"
      },
      "execution_count": 49,
      "outputs": [
        {
          "output_type": "stream",
          "name": "stdout",
          "text": [
            "18/18 [==============================] - 0s 2ms/step - loss: 662.5322 - mae: 662.5322\n"
          ]
        },
        {
          "output_type": "execute_result",
          "data": {
            "text/plain": [
              "[662.5322265625, 662.5322265625]"
            ]
          },
          "metadata": {},
          "execution_count": 49
        }
      ]
    },
    {
      "cell_type": "code",
      "source": [
        "# Load in saved best performing model_1 and evaluate it on test data\n",
        "model_1 = tf.keras.models.load_model(\"model_experiments/model_1_dense/\")\n",
        "model_1.evaluate(test_windows, test_labels)"
      ],
      "metadata": {
        "colab": {
          "base_uri": "https://localhost:8080/"
        },
        "id": "Ymeg09t3RLcD",
        "outputId": "18e97dd4-f7f3-4a66-8e48-54dfb5e05772"
      },
      "execution_count": 50,
      "outputs": [
        {
          "output_type": "stream",
          "name": "stdout",
          "text": [
            "18/18 [==============================] - 0s 2ms/step - loss: 568.5499 - mae: 568.5499\n"
          ]
        },
        {
          "output_type": "execute_result",
          "data": {
            "text/plain": [
              "[568.5498657226562, 568.5498657226562]"
            ]
          },
          "metadata": {},
          "execution_count": 50
        }
      ]
    },
    {
      "cell_type": "markdown",
      "source": [
        "### Making forecasts with a model (on the test dataset)\n",
        "\n",
        "To make forecasts on the test dataset (note: these won't be actual forecasts, they're only pseudo forecasts because actual forecasts are into the future), let's wirte a function to:\n",
        "\n",
        "1. Take in a train model\n",
        "2. Takes in some input data (same kind of data the model was trained on)\n",
        "3. Passes the input data to the model's `predict()` method\n",
        "4. Returns the predictions"
      ],
      "metadata": {
        "id": "HCM7UIpeVW2B"
      }
    },
    {
      "cell_type": "code",
      "source": [
        "def make_preds(model, input_data):\n",
        "  \"\"\" \n",
        "  Uses model to make predictions on input_data.\n",
        "  \"\"\"\n",
        "  forecast = model.predict(input_data)\n",
        "  return tf.squeeze(forecast) # return 1-D array of predictions"
      ],
      "metadata": {
        "id": "LVnfhJXZSHUI"
      },
      "execution_count": 51,
      "outputs": []
    },
    {
      "cell_type": "code",
      "source": [
        "# Make predictions using model_1 on the test dataset and view results\n",
        "model_1_preds = make_preds(model_1, test_windows)\n",
        "len(model_1_preds), model_1_preds[:10]"
      ],
      "metadata": {
        "colab": {
          "base_uri": "https://localhost:8080/"
        },
        "id": "uTqU8CaqWWjA",
        "outputId": "453c4978-1845-4670-e720-687c67f75ff6"
      },
      "execution_count": 52,
      "outputs": [
        {
          "output_type": "execute_result",
          "data": {
            "text/plain": [
              "(556, <tf.Tensor: shape=(10,), dtype=float32, numpy=\n",
              " array([8874.493, 8789.944, 9040.986, 8804.829, 8741.21 , 8749.835,\n",
              "        8705.865, 8513.171, 8478.415, 8536.302], dtype=float32)>)"
            ]
          },
          "metadata": {},
          "execution_count": 52
        }
      ]
    },
    {
      "cell_type": "code",
      "source": [
        "test_labels.shape, model_1_preds.shape"
      ],
      "metadata": {
        "colab": {
          "base_uri": "https://localhost:8080/"
        },
        "id": "K-9iun2kX0xZ",
        "outputId": "cb1a17c1-8fd3-4123-8777-4174ce685d4f"
      },
      "execution_count": 53,
      "outputs": [
        {
          "output_type": "execute_result",
          "data": {
            "text/plain": [
              "((556, 1), TensorShape([556]))"
            ]
          },
          "metadata": {},
          "execution_count": 53
        }
      ]
    },
    {
      "cell_type": "code",
      "source": [
        "# Evaluate preds\n",
        "model_1_results = evaluate_preds(y_true=tf.squeeze(test_labels), y_pred=model_1_preds)\n",
        "model_1_results"
      ],
      "metadata": {
        "colab": {
          "base_uri": "https://localhost:8080/"
        },
        "id": "Up4I6C3LWpyA",
        "outputId": "e0be99b2-f51b-438f-bbcb-813f6ff29e13"
      },
      "execution_count": 54,
      "outputs": [
        {
          "output_type": "execute_result",
          "data": {
            "text/plain": [
              "{'mae': 568.5498,\n",
              " 'mape': 2.549229,\n",
              " 'mase': 0.99878454,\n",
              " 'mse': 1172587.6,\n",
              " 'rmse': 1082.8608}"
            ]
          },
          "metadata": {},
          "execution_count": 54
        }
      ]
    },
    {
      "cell_type": "code",
      "source": [
        "naive_results"
      ],
      "metadata": {
        "colab": {
          "base_uri": "https://localhost:8080/"
        },
        "id": "SH9UmjXyWycO",
        "outputId": "ad91c8de-9f79-4a85-8067-651637e6216d"
      },
      "execution_count": 55,
      "outputs": [
        {
          "output_type": "execute_result",
          "data": {
            "text/plain": [
              "{'mae': 567.9802,\n",
              " 'mape': 2.5165248,\n",
              " 'mase': 0.99957,\n",
              " 'mse': 1147547.0,\n",
              " 'rmse': 1071.2362}"
            ]
          },
          "metadata": {},
          "execution_count": 55
        }
      ]
    },
    {
      "cell_type": "code",
      "source": [
        "# Let's plot our model_1 predictions\n",
        "offset = 300\n",
        "plt.figure(figsize=(10, 7))\n",
        "# Account for the test_window offset and index into test_labels to ensure correct plotting\n",
        "plot_time_series(\n",
        "    timesteps=x_test[-len(test_windows):], \n",
        "    values=test_labels[:, 0], \n",
        "    start=offset, \n",
        "    label=\"Test Data\"\n",
        ")\n",
        "plot_time_series(\n",
        "    timesteps=x_test[-len(test_windows):], \n",
        "    values=model_1_preds,\n",
        "    start=offset,\n",
        "    format=\"-\",\n",
        "    label=\"Model 1 preds\"\n",
        ")"
      ],
      "metadata": {
        "colab": {
          "base_uri": "https://localhost:8080/",
          "height": 442
        },
        "id": "XMZlZkaQYF9v",
        "outputId": "3c80b739-eddf-478e-aef2-21ca8cead80c"
      },
      "execution_count": 56,
      "outputs": [
        {
          "output_type": "display_data",
          "data": {
            "text/plain": [
              "<Figure size 720x504 with 1 Axes>"
            ],
            "image/png": "[encoded data removed]"
          },
          "metadata": {
            "needs_background": "light"
          }
        }
      ]
    },
    {
      "cell_type": "markdown",
      "source": [
        "## Model 2: Dense (window=30, horizon=1)\n"
      ],
      "metadata": {
        "id": "5_HBcY4NZvd-"
      }
    },
    {
      "cell_type": "code",
      "source": [
        "WINDOW_SIZE=30\n",
        "HORIZON=1"
      ],
      "metadata": {
        "id": "0oJCr11xbqX5"
      },
      "execution_count": 57,
      "outputs": []
    },
    {
      "cell_type": "code",
      "source": [
        "# Make window data with appropriate horizon and window size\n",
        "full_windows, full_labels = make_windows(prices, window_size=WINDOW_SIZE, horizon=HORIZON)\n",
        "len(full_windows), len(full_labels)"
      ],
      "metadata": {
        "colab": {
          "base_uri": "https://localhost:8080/"
        },
        "id": "-3pcYnWFbkkA",
        "outputId": "934b8f18-0064-41ef-9174-9b426217392d"
      },
      "execution_count": 58,
      "outputs": [
        {
          "output_type": "execute_result",
          "data": {
            "text/plain": [
              "(2757, 2757)"
            ]
          },
          "metadata": {},
          "execution_count": 58
        }
      ]
    },
    {
      "cell_type": "code",
      "source": [
        "# Make train and testing windows\n",
        "train_windows, test_windows, train_labels, test_labels = make_train_test_splits(\n",
        "    windows=full_windows,\n",
        "    labels=full_labels,\n",
        "    test_split=0.2\n",
        ")"
      ],
      "metadata": {
        "id": "VMv7kxWzb-K8"
      },
      "execution_count": 59,
      "outputs": []
    },
    {
      "cell_type": "code",
      "source": [
        "tf.random.set_seed(42)\n",
        "\n",
        "# Model 2\n",
        "model_2 = tf.keras.Sequential([\n",
        "  layers.Dense(128, activation=\"relu\"),\n",
        "  layers.Dense(HORIZON, activation=\"linear\")\n",
        "], name=\"model_2_dense\")\n",
        "\n",
        "# Compile\n",
        "model_2.compile(\n",
        "    loss=\"mae\",\n",
        "    optimizer=tf.keras.optimizers.Adam(),\n",
        "    metrics=[\"mae\"]\n",
        ")\n",
        "\n",
        "# Fit\n",
        "model_2.fit(\n",
        "    x=train_windows,\n",
        "    y=train_labels,\n",
        "    epochs=100,\n",
        "    validation_data=(test_windows, test_labels),\n",
        "    verbose=0,\n",
        "    batch_size=128,\n",
        "    callbacks=[\n",
        "      create_model_checkpoint(model_name=model_2.name)\n",
        "    ]\n",
        ")"
      ],
      "metadata": {
        "colab": {
          "base_uri": "https://localhost:8080/"
        },
        "id": "g5-Omm7-Y0O0",
        "outputId": "8fe53bc8-d74a-4902-81d5-da7543bd86e1"
      },
      "execution_count": 60,
      "outputs": [
        {
          "output_type": "stream",
          "name": "stdout",
          "text": [
            "INFO:tensorflow:Assets written to: model_experiments/model_2_dense/assets\n",
            "INFO:tensorflow:Assets written to: model_experiments/model_2_dense/assets\n",
            "INFO:tensorflow:Assets written to: model_experiments/model_2_dense/assets\n",
            "INFO:tensorflow:Assets written to: model_experiments/model_2_dense/assets\n",
            "INFO:tensorflow:Assets written to: model_experiments/model_2_dense/assets\n",
            "INFO:tensorflow:Assets written to: model_experiments/model_2_dense/assets\n",
            "INFO:tensorflow:Assets written to: model_experiments/model_2_dense/assets\n",
            "INFO:tensorflow:Assets written to: model_experiments/model_2_dense/assets\n",
            "INFO:tensorflow:Assets written to: model_experiments/model_2_dense/assets\n",
            "INFO:tensorflow:Assets written to: model_experiments/model_2_dense/assets\n",
            "INFO:tensorflow:Assets written to: model_experiments/model_2_dense/assets\n",
            "INFO:tensorflow:Assets written to: model_experiments/model_2_dense/assets\n",
            "INFO:tensorflow:Assets written to: model_experiments/model_2_dense/assets\n",
            "INFO:tensorflow:Assets written to: model_experiments/model_2_dense/assets\n",
            "INFO:tensorflow:Assets written to: model_experiments/model_2_dense/assets\n",
            "INFO:tensorflow:Assets written to: model_experiments/model_2_dense/assets\n",
            "INFO:tensorflow:Assets written to: model_experiments/model_2_dense/assets\n",
            "INFO:tensorflow:Assets written to: model_experiments/model_2_dense/assets\n",
            "INFO:tensorflow:Assets written to: model_experiments/model_2_dense/assets\n",
            "INFO:tensorflow:Assets written to: model_experiments/model_2_dense/assets\n",
            "INFO:tensorflow:Assets written to: model_experiments/model_2_dense/assets\n",
            "INFO:tensorflow:Assets written to: model_experiments/model_2_dense/assets\n",
            "INFO:tensorflow:Assets written to: model_experiments/model_2_dense/assets\n",
            "INFO:tensorflow:Assets written to: model_experiments/model_2_dense/assets\n",
            "INFO:tensorflow:Assets written to: model_experiments/model_2_dense/assets\n",
            "INFO:tensorflow:Assets written to: model_experiments/model_2_dense/assets\n",
            "INFO:tensorflow:Assets written to: model_experiments/model_2_dense/assets\n",
            "INFO:tensorflow:Assets written to: model_experiments/model_2_dense/assets\n",
            "INFO:tensorflow:Assets written to: model_experiments/model_2_dense/assets\n",
            "INFO:tensorflow:Assets written to: model_experiments/model_2_dense/assets\n"
          ]
        },
        {
          "output_type": "execute_result",
          "data": {
            "text/plain": [
              "<keras.callbacks.History at 0x7f246f910cd0>"
            ]
          },
          "metadata": {},
          "execution_count": 60
        }
      ]
    },
    {
      "cell_type": "code",
      "source": [
        "# Load in saved best performing model_1 and evaluate it on test data\n",
        "model_2 = tf.keras.models.load_model(\"model_experiments/model_2_dense/\")\n",
        "model_2.evaluate(test_windows, test_labels)"
      ],
      "metadata": {
        "colab": {
          "base_uri": "https://localhost:8080/"
        },
        "id": "9OXEqgJDdXd7",
        "outputId": "6ae67e32-0824-4f55-b3d9-64914040fc94"
      },
      "execution_count": 61,
      "outputs": [
        {
          "output_type": "stream",
          "name": "stdout",
          "text": [
            "18/18 [==============================] - 0s 2ms/step - loss: 608.8480 - mae: 608.8480\n"
          ]
        },
        {
          "output_type": "execute_result",
          "data": {
            "text/plain": [
              "[608.8480224609375, 608.8480224609375]"
            ]
          },
          "metadata": {},
          "execution_count": 61
        }
      ]
    },
    {
      "cell_type": "markdown",
      "source": [
        "### Making forecasts"
      ],
      "metadata": {
        "id": "0gt_xHjydbIl"
      }
    },
    {
      "cell_type": "code",
      "source": [
        "model_2_preds = make_preds(model_2, test_windows)\n",
        "model_2_preds[-10:]"
      ],
      "metadata": {
        "colab": {
          "base_uri": "https://localhost:8080/"
        },
        "id": "-2nPAtkRaULe",
        "outputId": "7c38d108-3d94-4f47-dda1-ac3cbd8aa1fa"
      },
      "execution_count": 62,
      "outputs": [
        {
          "output_type": "execute_result",
          "data": {
            "text/plain": [
              "<tf.Tensor: shape=(10,), dtype=float32, numpy=\n",
              "array([56825.27 , 59047.63 , 58355.285, 57038.727, 56018.46 , 54154.688,\n",
              "       49806.98 , 51226.5  , 48485.57 , 47112.715], dtype=float32)>"
            ]
          },
          "metadata": {},
          "execution_count": 62
        }
      ]
    },
    {
      "cell_type": "code",
      "source": [
        "# Evaluate preds\n",
        "model_2_results = evaluate_preds(y_true=tf.squeeze(test_labels), y_pred=model_2_preds)\n",
        "model_2_results"
      ],
      "metadata": {
        "colab": {
          "base_uri": "https://localhost:8080/"
        },
        "id": "0tU4g2NLdH9d",
        "outputId": "8a0d0371-5f3e-4bb9-eea2-5a784c678e80"
      },
      "execution_count": 63,
      "outputs": [
        {
          "output_type": "execute_result",
          "data": {
            "text/plain": [
              "{'mae': 608.84814,\n",
              " 'mape': 2.7680664,\n",
              " 'mase': 1.0642724,\n",
              " 'mse': 1284314.4,\n",
              " 'rmse': 1133.276}"
            ]
          },
          "metadata": {},
          "execution_count": 63
        }
      ]
    },
    {
      "cell_type": "code",
      "source": [
        "naive_results"
      ],
      "metadata": {
        "colab": {
          "base_uri": "https://localhost:8080/"
        },
        "id": "FwQ6ulfOdQ3P",
        "outputId": "e68e5ee0-e4b1-4e8e-fa18-38242f96156d"
      },
      "execution_count": 64,
      "outputs": [
        {
          "output_type": "execute_result",
          "data": {
            "text/plain": [
              "{'mae': 567.9802,\n",
              " 'mape': 2.5165248,\n",
              " 'mase': 0.99957,\n",
              " 'mse': 1147547.0,\n",
              " 'rmse': 1071.2362}"
            ]
          },
          "metadata": {},
          "execution_count": 64
        }
      ]
    },
    {
      "cell_type": "code",
      "source": [
        "offset = 300\n",
        "\n",
        "plt.figure(figsize=(10, 7))\n",
        "plot_time_series(\n",
        "    timesteps=x_test[-len(test_windows):], \n",
        "    values=test_labels[:, 0], \n",
        "    start=offset, \n",
        "    label=\"Test Data\"\n",
        ")\n",
        "plot_time_series(\n",
        "    timesteps=x_test[-len(test_windows):], \n",
        "    values=model_2_preds, \n",
        "    start=offset, format=\"-\", \n",
        "    label=\"model_2_preds\"\n",
        ")"
      ],
      "metadata": {
        "colab": {
          "base_uri": "https://localhost:8080/",
          "height": 442
        },
        "id": "XhATuCofeTzP",
        "outputId": "850bdb10-6d8d-4d34-b3dd-ee7a2dce70e7"
      },
      "execution_count": 65,
      "outputs": [
        {
          "output_type": "display_data",
          "data": {
            "text/plain": [
              "<Figure size 720x504 with 1 Axes>"
            ],
            "image/png": "[encoded data removed]"
          },
          "metadata": {
            "needs_background": "light"
          }
        }
      ]
    },
    {
      "cell_type": "markdown",
      "source": [
        "## **Model 3**: Dense (window=30, horizon=7)\n",
        "\n",
        "Let's ty and predict 7 days given the previous 30 days.**Text fett markieren**"
      ],
      "metadata": {
        "id": "C1qQ-6PcssLj"
      }
    },
    {
      "cell_type": "code",
      "source": [
        "HORIZON = 7\n",
        "WINDOW_SIZE = 30"
      ],
      "metadata": {
        "id": "fOnH78rRszaF"
      },
      "execution_count": 66,
      "outputs": []
    },
    {
      "cell_type": "code",
      "source": [
        "# Make window data with appropriate horizon and window size\n",
        "full_windows, full_labels = make_windows(prices, window_size=WINDOW_SIZE, horizon=HORIZON)\n",
        "len(train_windows), len(test_windows), len(train_labels), len(test_labels), len(full_windows)*0.8"
      ],
      "metadata": {
        "colab": {
          "base_uri": "https://localhost:8080/"
        },
        "id": "VbT__b5qs1Lf",
        "outputId": "9e679272-11b4-4cd9-b834-8816627f0aff"
      },
      "execution_count": 67,
      "outputs": [
        {
          "output_type": "execute_result",
          "data": {
            "text/plain": [
              "(2205, 552, 2205, 552, 2200.8)"
            ]
          },
          "metadata": {},
          "execution_count": 67
        }
      ]
    },
    {
      "cell_type": "code",
      "source": [
        "# Make train and testing windows\n",
        "train_windows, test_windows, train_labels, test_labels = make_train_test_splits(\n",
        "    windows=full_windows,\n",
        "    labels=full_labels,\n",
        "    test_split=0.2\n",
        ")"
      ],
      "metadata": {
        "id": "FWhVzEQotXDe"
      },
      "execution_count": 68,
      "outputs": []
    },
    {
      "cell_type": "code",
      "source": [
        "# Model 3\n",
        "model_3 = tf.keras.Sequential([\n",
        "  layers.Dense(128, activation=\"relu\"),\n",
        "  layers.Dense(HORIZON, activation=\"linear\")\n",
        "], name=\"model_3_dense\")\n",
        "\n",
        "# Compile\n",
        "model_3.compile(\n",
        "    loss=\"mae\",\n",
        "    optimizer=tf.keras.optimizers.Adam(),\n",
        "    metrics=[\"mae\"]\n",
        ")\n",
        "\n",
        "# Fit\n",
        "model_3.fit(\n",
        "    x=train_windows,\n",
        "    y=train_labels,\n",
        "    epochs=100,\n",
        "    validation_data=(test_windows, test_labels),\n",
        "    verbose=0,\n",
        "    batch_size=128,\n",
        "    callbacks=[\n",
        "      create_model_checkpoint(model_name=model_3.name)\n",
        "    ]\n",
        ")"
      ],
      "metadata": {
        "colab": {
          "base_uri": "https://localhost:8080/"
        },
        "id": "cMJ4_vOYt14V",
        "outputId": "9fa91803-9aa0-4af5-b7e4-0ace19d23a0d"
      },
      "execution_count": 69,
      "outputs": [
        {
          "output_type": "stream",
          "name": "stdout",
          "text": [
            "INFO:tensorflow:Assets written to: model_experiments/model_3_dense/assets\n",
            "INFO:tensorflow:Assets written to: model_experiments/model_3_dense/assets\n",
            "INFO:tensorflow:Assets written to: model_experiments/model_3_dense/assets\n",
            "INFO:tensorflow:Assets written to: model_experiments/model_3_dense/assets\n",
            "INFO:tensorflow:Assets written to: model_experiments/model_3_dense/assets\n",
            "INFO:tensorflow:Assets written to: model_experiments/model_3_dense/assets\n",
            "INFO:tensorflow:Assets written to: model_experiments/model_3_dense/assets\n",
            "INFO:tensorflow:Assets written to: model_experiments/model_3_dense/assets\n",
            "INFO:tensorflow:Assets written to: model_experiments/model_3_dense/assets\n",
            "INFO:tensorflow:Assets written to: model_experiments/model_3_dense/assets\n",
            "INFO:tensorflow:Assets written to: model_experiments/model_3_dense/assets\n",
            "INFO:tensorflow:Assets written to: model_experiments/model_3_dense/assets\n",
            "INFO:tensorflow:Assets written to: model_experiments/model_3_dense/assets\n",
            "INFO:tensorflow:Assets written to: model_experiments/model_3_dense/assets\n",
            "INFO:tensorflow:Assets written to: model_experiments/model_3_dense/assets\n",
            "INFO:tensorflow:Assets written to: model_experiments/model_3_dense/assets\n",
            "INFO:tensorflow:Assets written to: model_experiments/model_3_dense/assets\n",
            "INFO:tensorflow:Assets written to: model_experiments/model_3_dense/assets\n",
            "INFO:tensorflow:Assets written to: model_experiments/model_3_dense/assets\n",
            "INFO:tensorflow:Assets written to: model_experiments/model_3_dense/assets\n",
            "INFO:tensorflow:Assets written to: model_experiments/model_3_dense/assets\n",
            "INFO:tensorflow:Assets written to: model_experiments/model_3_dense/assets\n"
          ]
        },
        {
          "output_type": "execute_result",
          "data": {
            "text/plain": [
              "<keras.callbacks.History at 0x7f246f937c50>"
            ]
          },
          "metadata": {},
          "execution_count": 69
        }
      ]
    },
    {
      "cell_type": "code",
      "source": [
        "model_3.evaluate(test_windows, test_labels)"
      ],
      "metadata": {
        "colab": {
          "base_uri": "https://localhost:8080/"
        },
        "id": "oZRmem9IxALM",
        "outputId": "25c08915-a6d2-4e0f-9327-443d822cdee0"
      },
      "execution_count": 70,
      "outputs": [
        {
          "output_type": "stream",
          "name": "stdout",
          "text": [
            "18/18 [==============================] - 0s 2ms/step - loss: 1332.0151 - mae: 1332.0151\n"
          ]
        },
        {
          "output_type": "execute_result",
          "data": {
            "text/plain": [
              "[1332.01513671875, 1332.01513671875]"
            ]
          },
          "metadata": {},
          "execution_count": 70
        }
      ]
    },
    {
      "cell_type": "code",
      "source": [
        "# Load in best version of model_3 and evaluate\n",
        "model_3 = tf.keras.models.load_model(\"model_experiments/model_3_dense/\")\n",
        "model_3.evaluate(test_windows, test_labels)"
      ],
      "metadata": {
        "colab": {
          "base_uri": "https://localhost:8080/"
        },
        "id": "WgJmGu8lxHRj",
        "outputId": "e72c0e55-7a22-4d49-b799-56fc6995d27e"
      },
      "execution_count": 71,
      "outputs": [
        {
          "output_type": "stream",
          "name": "stdout",
          "text": [
            "18/18 [==============================] - 0s 2ms/step - loss: 1247.9972 - mae: 1247.9972\n"
          ]
        },
        {
          "output_type": "execute_result",
          "data": {
            "text/plain": [
              "[1247.9971923828125, 1247.9971923828125]"
            ]
          },
          "metadata": {},
          "execution_count": 71
        }
      ]
    },
    {
      "cell_type": "markdown",
      "source": [
        "### Making forecasts"
      ],
      "metadata": {
        "id": "gr18zULlvgDH"
      }
    },
    {
      "cell_type": "code",
      "source": [
        "model_3_preds = make_preds(\n",
        "    model_3, \n",
        "    input_data=test_windows\n",
        ")\n",
        "model_3_preds[-5:]"
      ],
      "metadata": {
        "colab": {
          "base_uri": "https://localhost:8080/"
        },
        "id": "EK3-njvfvm_m",
        "outputId": "3a1ab20f-165f-4f98-d534-05606401d1fd"
      },
      "execution_count": 72,
      "outputs": [
        {
          "output_type": "execute_result",
          "data": {
            "text/plain": [
              "<tf.Tensor: shape=(5, 7), dtype=float32, numpy=\n",
              "array([[56635.83 , 57524.54 , 58213.344, 57628.953, 57200.72 , 57035.457,\n",
              "        57279.76 ],\n",
              "       [57826.812, 56566.863, 57760.11 , 56611.566, 58175.016, 57849.89 ,\n",
              "        58080.387],\n",
              "       [58732.33 , 58032.67 , 59060.293, 58774.63 , 59073.812, 59163.367,\n",
              "        60058.85 ],\n",
              "       [58451.703, 57740.207, 59235.047, 59138.13 , 60068.9  , 60725.117,\n",
              "        60206.65 ],\n",
              "       [57420.04 , 57396.   , 58323.016, 59167.527, 59339.426, 59042.79 ,\n",
              "        58675.92 ]], dtype=float32)>"
            ]
          },
          "metadata": {},
          "execution_count": 72
        }
      ]
    },
    {
      "cell_type": "code",
      "source": [
        "model_3_results = evaluate_preds(y_true=tf.squeeze(test_labels),\n",
        "                                 y_pred=model_3_preds)"
      ],
      "metadata": {
        "id": "dmqYl2lZwlRg"
      },
      "execution_count": 73,
      "outputs": []
    },
    {
      "cell_type": "markdown",
      "source": [
        "### Make our evaluation function work for larger horizons"
      ],
      "metadata": {
        "id": "CrAbNsXMDTUQ"
      }
    },
    {
      "cell_type": "code",
      "source": [
        "def evaluate_preds(y_true, y_pred):\n",
        "  y_true = tf.cast(y_true, dtype=tf.float32)\n",
        "  y_pred = tf.cast(y_pred, dtype=tf.float32)\n",
        "\n",
        "  # Calculate various evaluation metrics\n",
        "  mae = tf.keras.metrics.mean_absolute_error(y_true, y_pred)\n",
        "  mse = tf.keras.metrics.mean_squared_error(y_true, y_pred)\n",
        "  rmse = tf.sqrt(mse)\n",
        "  mape = tf.keras.metrics.mean_absolute_percentage_error(y_true, y_pred)\n",
        "  mase = mean_absolute_scaled_error(y_true, y_pred)\n",
        "\n",
        "  # Account for differenz sized metrics (for longer horizons, reduce to single number)\n",
        "  if mae.ndim > 0: # if mae isn't already a scalar, reduce it to one by aggregating tensors to mean\n",
        "    mae = tf.reduce_mean(mae)\n",
        "    mse = tf.reduce_mean(mse)\n",
        "    rmse = tf.reduce_mean(rmse)\n",
        "    mape = tf.reduce_mean(mape)\n",
        "    mase = tf.reduce_mean(mase)\n",
        "\n",
        "  return {\"mae\": mae.numpy(),\n",
        "          \"mse\": mse.numpy(),\n",
        "          \"rmse\": rmse.numpy(),\n",
        "          \"mape\": mape.numpy(),\n",
        "          \"mase\": mase.numpy()}"
      ],
      "metadata": {
        "id": "hS9OGz0Jx2gp"
      },
      "execution_count": 74,
      "outputs": []
    },
    {
      "cell_type": "code",
      "source": [
        "# Get model_3 results aggregated to single values\n",
        "model_3_results = evaluate_preds(y_true=tf.squeeze(test_labels),\n",
        "                                 y_pred=model_3_preds)\n",
        "model_3_results"
      ],
      "metadata": {
        "colab": {
          "base_uri": "https://localhost:8080/"
        },
        "id": "-r8tB-jY0kjz",
        "outputId": "6579a1ec-a612-48cd-c537-5986e3b7617d"
      },
      "execution_count": 75,
      "outputs": [
        {
          "output_type": "execute_result",
          "data": {
            "text/plain": [
              "{'mae': 1247.9972,\n",
              " 'mape': 5.667339,\n",
              " 'mase': 2.2207413,\n",
              " 'mse': 5503063.5,\n",
              " 'rmse': 1431.8477}"
            ]
          },
          "metadata": {},
          "execution_count": 75
        }
      ]
    },
    {
      "cell_type": "code",
      "source": [
        "offset = 300\n",
        "plt.figure(figsize=(15, 15))\n",
        "plot_time_series(\n",
        "    timesteps=x_test[-len(test_windows):], \n",
        "    values=test_labels[:, 0], \n",
        "    start=offset, \n",
        "    label=\"Test Data\"\n",
        ")\n",
        "plot_time_series(\n",
        "    timesteps=x_test[-len(test_windows):], \n",
        "    values=model_3_preds, \n",
        "    start=offset, \n",
        "    label=\"model_3_preds\"\n",
        ")"
      ],
      "metadata": {
        "colab": {
          "base_uri": "https://localhost:8080/",
          "height": 877
        },
        "id": "zKC1-h_Y0mTE",
        "outputId": "e5af143b-bae4-4778-bdd8-4424e3709ace"
      },
      "execution_count": 76,
      "outputs": [
        {
          "output_type": "display_data",
          "data": {
            "text/plain": [
              "<Figure size 1080x1080 with 1 Axes>"
            ],
            "image/png": "[encoded data removed]"
          },
          "metadata": {
            "needs_background": "light"
          }
        }
      ]
    },
    {
      "cell_type": "code",
      "source": [
        "offset = 300\n",
        "plt.figure(figsize=(15, 15))\n",
        "plot_time_series(\n",
        "    timesteps=x_test[-len(test_windows):],\n",
        "    values=test_labels[:, 0],\n",
        "    start=offset,\n",
        "    label=\"Test Data\"\n",
        ")\n",
        "plot_time_series(\n",
        "    timesteps=x_test[-len(test_windows):],\n",
        "    values=tf.reduce_mean(model_3_preds, axis = 1),\n",
        "    format=\"-\",\n",
        "    start=offset,\n",
        "    label=\"model_3_preds\"\n",
        ")"
      ],
      "metadata": {
        "colab": {
          "base_uri": "https://localhost:8080/",
          "height": 877
        },
        "id": "CzhzEm6d2oK8",
        "outputId": "20357af5-7445-4309-997d-5c3f1b7f775f"
      },
      "execution_count": 77,
      "outputs": [
        {
          "output_type": "display_data",
          "data": {
            "text/plain": [
              "<Figure size 1080x1080 with 1 Axes>"
            ],
            "image/png": "[encoded data removed]"
          },
          "metadata": {
            "needs_background": "light"
          }
        }
      ]
    },
    {
      "cell_type": "markdown",
      "source": [
        "## Which of our models is performing the best so far?\n",
        "\n",
        "So we've trained a few models, now let's compare them and see how they've gone ..."
      ],
      "metadata": {
        "id": "MXF5krEkHITq"
      }
    },
    {
      "cell_type": "code",
      "source": [
        "pd.DataFrame({\n",
        "    \"naive\": naive_results[\"mae\"],\n",
        "    \"horizon_1_window_7\": model_1_results[\"mae\"],\n",
        "    \"horizon_1_window_30\": model_2_results[\"mae\"],\n",
        "    \"horizon_7_window_30\": model_3_results[\"mae\"]},\n",
        "  index=[\"mae\"]).plot(\n",
        "      figsize=(10, 7), \n",
        "      kind=\"bar\"\n",
        "      )"
      ],
      "metadata": {
        "colab": {
          "base_uri": "https://localhost:8080/",
          "height": 457
        },
        "id": "Q1Soj97lHRpc",
        "outputId": "d9d08f38-4aea-4592-da92-5427e09426cf"
      },
      "execution_count": 78,
      "outputs": [
        {
          "output_type": "execute_result",
          "data": {
            "text/plain": [
              "<matplotlib.axes._subplots.AxesSubplot at 0x7f2477561810>"
            ]
          },
          "metadata": {},
          "execution_count": 78
        },
        {
          "output_type": "display_data",
          "data": {
            "text/plain": [
              "<Figure size 720x504 with 1 Axes>"
            ],
            "image/png": "[encoded data removed]"
          },
          "metadata": {
            "needs_background": "light"
          }
        }
      ]
    },
    {
      "cell_type": "markdown",
      "source": [
        "> 🔑 **Note:** You might be wonderung, why are the naive results so good? One of the reasons could be due the presence of autocorrelation in the data. If a time series has autocorrelation it means the value at `t+1` (the next timestep) is typically close to the value at `t` (the current timestep). In other words, today's value is probably close to yesterday's value. Of course this isn't always the case but when it is (stock market prices often seem autocorrelated but often fluctuate randomly), a naive model will often get fairly good results.\n",
        "\n",
        "> 📖 **Ressource:** For more on how autocorrelation influences a model's predictions, see the article [How (not) to use Machine Learning for time series forecasting: Avoiding the pitfalls](https://www.linkedin.com/pulse/how-use-machine-learning-time-series-forecasting-vegard-flovik-phd/)"
      ],
      "metadata": {
        "id": "yW39ObbQbiEB"
      }
    },
    {
      "cell_type": "markdown",
      "source": [
        "## Model 4: Conv1D\n",
        "\n"
      ],
      "metadata": {
        "id": "JLbgiuh7dKXA"
      }
    },
    {
      "cell_type": "code",
      "source": [
        "HORIZON = 1\n",
        "WINDOW_SIZE = 7"
      ],
      "metadata": {
        "id": "vDbO3EI4HRIQ"
      },
      "execution_count": 79,
      "outputs": []
    },
    {
      "cell_type": "code",
      "source": [
        "# Create the windowed data\n",
        "full_windows, full_labels = make_windows(\n",
        "    prices, \n",
        "    window_size=WINDOW_SIZE,\n",
        "    horizon=HORIZON)\n",
        "len(full_windows), len(full_labels)"
      ],
      "metadata": {
        "colab": {
          "base_uri": "https://localhost:8080/"
        },
        "id": "vJ-v159sdZ9G",
        "outputId": "26e6832b-ab5f-4b4e-a540-b734c0775329"
      },
      "execution_count": 80,
      "outputs": [
        {
          "output_type": "execute_result",
          "data": {
            "text/plain": [
              "(2780, 2780)"
            ]
          },
          "metadata": {},
          "execution_count": 80
        }
      ]
    },
    {
      "cell_type": "code",
      "source": [
        "# Create train/test sets\n",
        "train_windows, test_windows, train_labels, test_labels = make_train_test_splits(\n",
        "    full_windows, \n",
        "    full_labels)\n",
        "len(train_windows), len(train_labels), len(test_windows), len(test_labels)"
      ],
      "metadata": {
        "colab": {
          "base_uri": "https://localhost:8080/"
        },
        "id": "xoLzV5nndoDV",
        "outputId": "94ace552-4e12-4081-cd02-49bc438edea4"
      },
      "execution_count": 81,
      "outputs": [
        {
          "output_type": "execute_result",
          "data": {
            "text/plain": [
              "(2224, 2224, 556, 556)"
            ]
          },
          "metadata": {},
          "execution_count": 81
        }
      ]
    },
    {
      "cell_type": "markdown",
      "source": [
        "To use the Conv1D layer, we need an input shape of `(batch_size, timesteps, input_dims)`...\n",
        "\n",
        "However our data isn't in that shape yet..."
      ],
      "metadata": {
        "id": "d2QyTEWUeH0A"
      }
    },
    {
      "cell_type": "code",
      "source": [
        "# Check data input shape\n",
        "train_windows[0].shape"
      ],
      "metadata": {
        "colab": {
          "base_uri": "https://localhost:8080/"
        },
        "id": "k0_Z9HZcdzZl",
        "outputId": "901feb82-c099-403d-c828-35e8c4d17fc7"
      },
      "execution_count": 82,
      "outputs": [
        {
          "output_type": "execute_result",
          "data": {
            "text/plain": [
              "(7,)"
            ]
          },
          "metadata": {},
          "execution_count": 82
        }
      ]
    },
    {
      "cell_type": "code",
      "source": [
        "# Before we pass our data to the Conv1D layer, we have to reshape it to make sure it works\n",
        "x = tf.constant(train_windows[0])\n",
        "x"
      ],
      "metadata": {
        "colab": {
          "base_uri": "https://localhost:8080/"
        },
        "id": "EvO82uKyeYlE",
        "outputId": "4bd28629-5ebb-4a7d-ecb3-d958c7121d5c"
      },
      "execution_count": 83,
      "outputs": [
        {
          "output_type": "execute_result",
          "data": {
            "text/plain": [
              "<tf.Tensor: shape=(7,), dtype=float64, numpy=\n",
              "array([123.65499, 125.455  , 108.58483, 118.67466, 121.33866, 120.65533,\n",
              "       121.795  ])>"
            ]
          },
          "metadata": {},
          "execution_count": 83
        }
      ]
    },
    {
      "cell_type": "code",
      "source": [
        "expand_dims_layer = layers.Lambda(lambda x: tf.expand_dims(x, axis=1)) # Add an extra dimension for input dim"
      ],
      "metadata": {
        "id": "XZs7Tqcte0ij"
      },
      "execution_count": 84,
      "outputs": []
    },
    {
      "cell_type": "code",
      "source": [
        "# Test out our lambda layer\n",
        "print(f\"Original shape: {x.shape}\\nExpanded shape:{expand_dims_layer(x).shape}\")\n",
        "print(f\"Original values with expanded shape:\\n{expand_dims_layer(x)}\")"
      ],
      "metadata": {
        "colab": {
          "base_uri": "https://localhost:8080/"
        },
        "id": "6qGY952DfB11",
        "outputId": "6ad843b4-a9e9-4d82-9f84-3eaf50a229b5"
      },
      "execution_count": 85,
      "outputs": [
        {
          "output_type": "stream",
          "name": "stdout",
          "text": [
            "Original shape: (7,)\n",
            "Expanded shape:(7, 1)\n",
            "Original values with expanded shape:\n",
            "[[123.65499]\n",
            " [125.455  ]\n",
            " [108.58483]\n",
            " [118.67466]\n",
            " [121.33866]\n",
            " [120.65533]\n",
            " [121.795  ]]\n"
          ]
        }
      ]
    },
    {
      "cell_type": "code",
      "source": [
        "x.numpy()"
      ],
      "metadata": {
        "colab": {
          "base_uri": "https://localhost:8080/"
        },
        "id": "b8K1bjSQfU-R",
        "outputId": "72856499-377b-43ac-e3e0-5a48d1a064b9"
      },
      "execution_count": 86,
      "outputs": [
        {
          "output_type": "execute_result",
          "data": {
            "text/plain": [
              "array([123.65499, 125.455  , 108.58483, 118.67466, 121.33866, 120.65533,\n",
              "       121.795  ])"
            ]
          },
          "metadata": {},
          "execution_count": 86
        }
      ]
    },
    {
      "cell_type": "code",
      "source": [
        "tf.random.set_seed(42)\n",
        "\n",
        "# Create a Conv1D \n",
        "model_4 = tf.keras.Sequential([\n",
        "  layers.Lambda(lambda x: tf.expand_dims(x, axis=1)),\n",
        "  layers.Conv1D(filters=128, kernel_size=7, padding=\"causal\", strides=1, activation=\"relu\"),\n",
        "  layers.Dense(HORIZON)\n",
        "], name=\"model_4_Conv1D\")\n",
        "\n",
        "# Compile\n",
        "model_4.compile(\n",
        "    loss=\"mae\",\n",
        "    optimizer=tf.keras.optimizers.Adam(),\n",
        "    metrics=[\"mae\"])"
      ],
      "metadata": {
        "id": "7JbgKLuhfzhD"
      },
      "execution_count": 87,
      "outputs": []
    },
    {
      "cell_type": "code",
      "source": [
        "# Fit\n",
        "model_4.fit(\n",
        "    train_windows,\n",
        "    train_labels,\n",
        "    batch_size=128,\n",
        "    epochs=100,\n",
        "    validation_data=(test_windows, test_labels),\n",
        "    callbacks=[create_model_checkpoint(model_name=model_4.name)])"
      ],
      "metadata": {
        "id": "Jrbdcv3egnNS",
        "colab": {
          "base_uri": "https://localhost:8080/"
        },
        "outputId": "5eddd486-ae0f-420a-e5b7-3baf24d898b5"
      },
      "execution_count": 88,
      "outputs": [
        {
          "output_type": "stream",
          "name": "stdout",
          "text": [
            "Epoch 1/100\n",
            " 1/18 [>.............................] - ETA: 9s - loss: 3208.0901 - mae: 3208.0901INFO:tensorflow:Assets written to: model_experiments/model_4_Conv1D/assets\n",
            "18/18 [==============================] - 2s 59ms/step - loss: 1486.8625 - mae: 1486.8625 - val_loss: 1494.0219 - val_mae: 1494.0219\n",
            "Epoch 2/100\n",
            "18/18 [==============================] - 0s 5ms/step - loss: 359.4608 - mae: 359.4608 - val_loss: 1882.3615 - val_mae: 1882.3615\n",
            "Epoch 3/100\n",
            " 1/18 [>.............................] - ETA: 0s - loss: 247.5283 - mae: 247.5283INFO:tensorflow:Assets written to: model_experiments/model_4_Conv1D/assets\n",
            "18/18 [==============================] - 1s 47ms/step - loss: 237.6436 - mae: 237.6436 - val_loss: 1228.3146 - val_mae: 1228.3146\n",
            "Epoch 4/100\n",
            " 1/18 [>.............................] - ETA: 0s - loss: 258.0387 - mae: 258.0387INFO:tensorflow:Assets written to: model_experiments/model_4_Conv1D/assets\n",
            "18/18 [==============================] - 1s 46ms/step - loss: 208.6003 - mae: 208.6003 - val_loss: 1095.6528 - val_mae: 1095.6528\n",
            "Epoch 5/100\n",
            " 1/18 [>.............................] - ETA: 0s - loss: 207.1095 - mae: 207.1095INFO:tensorflow:Assets written to: model_experiments/model_4_Conv1D/assets\n",
            "18/18 [==============================] - 1s 46ms/step - loss: 197.1489 - mae: 197.1489 - val_loss: 1088.0098 - val_mae: 1088.0098\n",
            "Epoch 6/100\n",
            " 1/18 [>.............................] - ETA: 0s - loss: 150.6735 - mae: 150.6735INFO:tensorflow:Assets written to: model_experiments/model_4_Conv1D/assets\n",
            "18/18 [==============================] - 1s 46ms/step - loss: 192.2837 - mae: 192.2837 - val_loss: 1075.7446 - val_mae: 1075.7446\n",
            "Epoch 7/100\n",
            " 1/18 [>.............................] - ETA: 0s - loss: 240.3131 - mae: 240.3131INFO:tensorflow:Assets written to: model_experiments/model_4_Conv1D/assets\n",
            "18/18 [==============================] - 1s 47ms/step - loss: 191.2738 - mae: 191.2738 - val_loss: 1050.4635 - val_mae: 1050.4635\n",
            "Epoch 8/100\n",
            "18/18 [==============================] - 0s 4ms/step - loss: 186.0934 - mae: 186.0934 - val_loss: 1054.7946 - val_mae: 1054.7946\n",
            "Epoch 9/100\n",
            "18/18 [==============================] - 0s 4ms/step - loss: 183.6488 - mae: 183.6488 - val_loss: 1061.1055 - val_mae: 1061.1055\n",
            "Epoch 10/100\n",
            " 1/18 [>.............................] - ETA: 0s - loss: 201.4658 - mae: 201.4658INFO:tensorflow:Assets written to: model_experiments/model_4_Conv1D/assets\n",
            "18/18 [==============================] - 1s 66ms/step - loss: 181.0742 - mae: 181.0742 - val_loss: 1007.3361 - val_mae: 1007.3361\n",
            "Epoch 11/100\n",
            " 1/18 [>.............................] - ETA: 0s - loss: 205.7795 - mae: 205.7795INFO:tensorflow:Assets written to: model_experiments/model_4_Conv1D/assets\n",
            "18/18 [==============================] - 1s 51ms/step - loss: 177.9125 - mae: 177.9125 - val_loss: 986.4657 - val_mae: 986.4657\n",
            "Epoch 12/100\n",
            "18/18 [==============================] - 0s 6ms/step - loss: 177.0193 - mae: 177.0193 - val_loss: 1027.5861 - val_mae: 1027.5861\n",
            "Epoch 13/100\n",
            "18/18 [==============================] - 0s 7ms/step - loss: 173.0901 - mae: 173.0901 - val_loss: 998.1078 - val_mae: 998.1078\n",
            "Epoch 14/100\n",
            " 1/18 [>.............................] - ETA: 0s - loss: 194.8536 - mae: 194.8536INFO:tensorflow:Assets written to: model_experiments/model_4_Conv1D/assets\n",
            "18/18 [==============================] - 1s 51ms/step - loss: 169.1068 - mae: 169.1068 - val_loss: 957.6744 - val_mae: 957.6744\n",
            "Epoch 15/100\n",
            "16/18 [=========================>....] - ETA: 0s - loss: 171.6935 - mae: 171.6935INFO:tensorflow:Assets written to: model_experiments/model_4_Conv1D/assets\n",
            "18/18 [==============================] - 1s 53ms/step - loss: 168.9437 - mae: 168.9437 - val_loss: 951.1043 - val_mae: 951.1043\n",
            "Epoch 16/100\n",
            " 1/18 [>.............................] - ETA: 0s - loss: 160.1310 - mae: 160.1310INFO:tensorflow:Assets written to: model_experiments/model_4_Conv1D/assets\n",
            "18/18 [==============================] - 1s 50ms/step - loss: 162.9819 - mae: 162.9819 - val_loss: 910.6301 - val_mae: 910.6301\n",
            "Epoch 17/100\n",
            "18/18 [==============================] - 0s 4ms/step - loss: 159.8225 - mae: 159.8225 - val_loss: 950.2974 - val_mae: 950.2974\n",
            "Epoch 18/100\n",
            "18/18 [==============================] - 0s 5ms/step - loss: 158.4488 - mae: 158.4488 - val_loss: 932.6360 - val_mae: 932.6360\n",
            "Epoch 19/100\n",
            " 1/18 [>.............................] - ETA: 0s - loss: 86.1395 - mae: 86.1395INFO:tensorflow:Assets written to: model_experiments/model_4_Conv1D/assets\n",
            "18/18 [==============================] - 1s 50ms/step - loss: 155.9720 - mae: 155.9720 - val_loss: 865.1782 - val_mae: 865.1782\n",
            "Epoch 20/100\n",
            " 1/18 [>.............................] - ETA: 0s - loss: 168.3147 - mae: 168.3147INFO:tensorflow:Assets written to: model_experiments/model_4_Conv1D/assets\n",
            "18/18 [==============================] - 1s 50ms/step - loss: 152.4892 - mae: 152.4892 - val_loss: 851.0131 - val_mae: 851.0131\n",
            "Epoch 21/100\n",
            " 1/18 [>.............................] - ETA: 0s - loss: 218.8522 - mae: 218.8522INFO:tensorflow:Assets written to: model_experiments/model_4_Conv1D/assets\n",
            "18/18 [==============================] - 1s 49ms/step - loss: 150.2419 - mae: 150.2419 - val_loss: 823.7698 - val_mae: 823.7698\n",
            "Epoch 22/100\n",
            "18/18 [==============================] - ETA: 0s - loss: 146.5942 - mae: 146.5942INFO:tensorflow:Assets written to: model_experiments/model_4_Conv1D/assets\n",
            "18/18 [==============================] - 1s 49ms/step - loss: 146.5942 - mae: 146.5942 - val_loss: 817.5638 - val_mae: 817.5638\n",
            "Epoch 23/100\n",
            " 1/18 [>.............................] - ETA: 0s - loss: 164.5946 - mae: 164.5946INFO:tensorflow:Assets written to: model_experiments/model_4_Conv1D/assets\n",
            "18/18 [==============================] - 1s 49ms/step - loss: 143.0214 - mae: 143.0214 - val_loss: 815.2380 - val_mae: 815.2380\n",
            "Epoch 24/100\n",
            "17/18 [===========================>..] - ETA: 0s - loss: 144.0221 - mae: 144.0221INFO:tensorflow:Assets written to: model_experiments/model_4_Conv1D/assets\n",
            "18/18 [==============================] - 1s 50ms/step - loss: 142.4469 - mae: 142.4469 - val_loss: 811.6857 - val_mae: 811.6857\n",
            "Epoch 25/100\n",
            " 1/18 [>.............................] - ETA: 0s - loss: 148.4152 - mae: 148.4152INFO:tensorflow:Assets written to: model_experiments/model_4_Conv1D/assets\n",
            "18/18 [==============================] - 1s 69ms/step - loss: 138.6928 - mae: 138.6928 - val_loss: 777.4811 - val_mae: 777.4811\n",
            "Epoch 26/100\n",
            " 1/18 [>.............................] - ETA: 0s - loss: 134.7219 - mae: 134.7219INFO:tensorflow:Assets written to: model_experiments/model_4_Conv1D/assets\n",
            "18/18 [==============================] - 1s 50ms/step - loss: 136.4652 - mae: 136.4652 - val_loss: 749.3503 - val_mae: 749.3503\n",
            "Epoch 27/100\n",
            " 1/18 [>.............................] - ETA: 0s - loss: 199.7113 - mae: 199.7113INFO:tensorflow:Assets written to: model_experiments/model_4_Conv1D/assets\n",
            "18/18 [==============================] - 1s 51ms/step - loss: 135.9937 - mae: 135.9937 - val_loss: 737.4932 - val_mae: 737.4932\n",
            "Epoch 28/100\n",
            " 1/18 [>.............................] - ETA: 0s - loss: 135.4674 - mae: 135.4674INFO:tensorflow:Assets written to: model_experiments/model_4_Conv1D/assets\n",
            "18/18 [==============================] - 1s 49ms/step - loss: 131.9827 - mae: 131.9827 - val_loss: 729.7272 - val_mae: 729.7272\n",
            "Epoch 29/100\n",
            " 1/18 [>.............................] - ETA: 0s - loss: 125.1226 - mae: 125.1226INFO:tensorflow:Assets written to: model_experiments/model_4_Conv1D/assets\n",
            "18/18 [==============================] - 1s 48ms/step - loss: 130.6191 - mae: 130.6191 - val_loss: 715.8120 - val_mae: 715.8121\n",
            "Epoch 30/100\n",
            "18/18 [==============================] - 0s 4ms/step - loss: 132.2158 - mae: 132.2158 - val_loss: 816.6174 - val_mae: 816.6174\n",
            "Epoch 31/100\n",
            "18/18 [==============================] - 0s 5ms/step - loss: 143.8577 - mae: 143.8577 - val_loss: 816.5145 - val_mae: 816.5145\n",
            "Epoch 32/100\n",
            " 1/18 [>.............................] - ETA: 0s - loss: 129.9117 - mae: 129.9117INFO:tensorflow:Assets written to: model_experiments/model_4_Conv1D/assets\n",
            "18/18 [==============================] - 1s 49ms/step - loss: 133.7224 - mae: 133.7224 - val_loss: 710.1313 - val_mae: 710.1313\n",
            "Epoch 33/100\n",
            " 1/18 [>.............................] - ETA: 0s - loss: 152.7400 - mae: 152.7400INFO:tensorflow:Assets written to: model_experiments/model_4_Conv1D/assets\n",
            "18/18 [==============================] - 1s 51ms/step - loss: 127.7070 - mae: 127.7070 - val_loss: 704.1623 - val_mae: 704.1623\n",
            "Epoch 34/100\n",
            " 1/18 [>.............................] - ETA: 0s - loss: 133.5043 - mae: 133.5043INFO:tensorflow:Assets written to: model_experiments/model_4_Conv1D/assets\n",
            "18/18 [==============================] - 1s 50ms/step - loss: 124.5724 - mae: 124.5724 - val_loss: 685.5092 - val_mae: 685.5092\n",
            "Epoch 35/100\n",
            " 1/18 [>.............................] - ETA: 0s - loss: 110.9997 - mae: 110.9997INFO:tensorflow:Assets written to: model_experiments/model_4_Conv1D/assets\n",
            "18/18 [==============================] - 1s 48ms/step - loss: 122.4643 - mae: 122.4643 - val_loss: 675.2094 - val_mae: 675.2094\n",
            "Epoch 36/100\n",
            "18/18 [==============================] - 0s 5ms/step - loss: 124.4589 - mae: 124.4589 - val_loss: 727.3516 - val_mae: 727.3516\n",
            "Epoch 37/100\n",
            " 1/18 [>.............................] - ETA: 0s - loss: 158.1724 - mae: 158.1724INFO:tensorflow:Assets written to: model_experiments/model_4_Conv1D/assets\n",
            "18/18 [==============================] - 1s 70ms/step - loss: 122.7511 - mae: 122.7511 - val_loss: 657.3185 - val_mae: 657.3185\n",
            "Epoch 38/100\n",
            "18/18 [==============================] - ETA: 0s - loss: 121.4673 - mae: 121.4673INFO:tensorflow:Assets written to: model_experiments/model_4_Conv1D/assets\n",
            "18/18 [==============================] - 1s 56ms/step - loss: 121.4673 - mae: 121.4673 - val_loss: 652.2405 - val_mae: 652.2405\n",
            "Epoch 39/100\n",
            "18/18 [==============================] - 0s 6ms/step - loss: 121.0363 - mae: 121.0363 - val_loss: 682.1937 - val_mae: 682.1937\n",
            "Epoch 40/100\n",
            "18/18 [==============================] - ETA: 0s - loss: 118.5199 - mae: 118.5199INFO:tensorflow:Assets written to: model_experiments/model_4_Conv1D/assets\n",
            "18/18 [==============================] - 1s 56ms/step - loss: 118.5199 - mae: 118.5199 - val_loss: 646.3601 - val_mae: 646.3601\n",
            "Epoch 41/100\n",
            "14/18 [======================>.......] - ETA: 0s - loss: 121.9008 - mae: 121.9008INFO:tensorflow:Assets written to: model_experiments/model_4_Conv1D/assets\n",
            "18/18 [==============================] - 1s 57ms/step - loss: 118.8632 - mae: 118.8632 - val_loss: 635.0540 - val_mae: 635.0540\n",
            "Epoch 42/100\n",
            "18/18 [==============================] - 0s 6ms/step - loss: 119.9173 - mae: 119.9173 - val_loss: 638.3469 - val_mae: 638.3469\n",
            "Epoch 43/100\n",
            "18/18 [==============================] - 0s 6ms/step - loss: 116.5598 - mae: 116.5598 - val_loss: 648.9620 - val_mae: 648.9620\n",
            "Epoch 44/100\n",
            "17/18 [===========================>..] - ETA: 0s - loss: 117.9613 - mae: 117.9613INFO:tensorflow:Assets written to: model_experiments/model_4_Conv1D/assets\n",
            "18/18 [==============================] - 1s 60ms/step - loss: 117.2226 - mae: 117.2226 - val_loss: 623.6570 - val_mae: 623.6570\n",
            "Epoch 45/100\n",
            "18/18 [==============================] - 0s 6ms/step - loss: 116.5021 - mae: 116.5021 - val_loss: 633.1766 - val_mae: 633.1766\n",
            "Epoch 46/100\n",
            "17/18 [===========================>..] - ETA: 0s - loss: 115.9891 - mae: 115.9891INFO:tensorflow:Assets written to: model_experiments/model_4_Conv1D/assets\n",
            "18/18 [==============================] - 1s 57ms/step - loss: 116.6764 - mae: 116.6764 - val_loss: 617.2056 - val_mae: 617.2056\n",
            "Epoch 47/100\n",
            "18/18 [==============================] - 0s 6ms/step - loss: 116.9065 - mae: 116.9065 - val_loss: 688.8200 - val_mae: 688.8200\n",
            "Epoch 48/100\n",
            "18/18 [==============================] - 0s 14ms/step - loss: 115.2582 - mae: 115.2582 - val_loss: 671.8950 - val_mae: 671.8950\n",
            "Epoch 49/100\n",
            "13/18 [====================>.........] - ETA: 0s - loss: 120.4578 - mae: 120.4578INFO:tensorflow:Assets written to: model_experiments/model_4_Conv1D/assets\n",
            "18/18 [==============================] - 1s 80ms/step - loss: 116.8443 - mae: 116.8443 - val_loss: 615.4095 - val_mae: 615.4095\n",
            "Epoch 50/100\n",
            " 1/18 [>.............................] - ETA: 0s - loss: 135.1500 - mae: 135.1500INFO:tensorflow:Assets written to: model_experiments/model_4_Conv1D/assets\n",
            "18/18 [==============================] - 1s 49ms/step - loss: 116.4172 - mae: 116.4172 - val_loss: 615.3945 - val_mae: 615.3945\n",
            "Epoch 51/100\n",
            "18/18 [==============================] - 0s 6ms/step - loss: 114.4015 - mae: 114.4015 - val_loss: 635.3820 - val_mae: 635.3820\n",
            "Epoch 52/100\n",
            "17/18 [===========================>..] - ETA: 0s - loss: 120.1175 - mae: 120.1175INFO:tensorflow:Assets written to: model_experiments/model_4_Conv1D/assets\n",
            "18/18 [==============================] - 1s 48ms/step - loss: 119.5445 - mae: 119.5445 - val_loss: 604.4543 - val_mae: 604.4543\n",
            "Epoch 53/100\n",
            " 1/18 [>.............................] - ETA: 0s - loss: 61.6272 - mae: 61.6272INFO:tensorflow:Assets written to: model_experiments/model_4_Conv1D/assets\n",
            "18/18 [==============================] - 1s 46ms/step - loss: 117.4462 - mae: 117.4462 - val_loss: 600.9332 - val_mae: 600.9332\n",
            "Epoch 54/100\n",
            "18/18 [==============================] - 0s 3ms/step - loss: 112.1194 - mae: 112.1194 - val_loss: 602.0598 - val_mae: 602.0598\n",
            "Epoch 55/100\n",
            "18/18 [==============================] - 0s 4ms/step - loss: 114.4299 - mae: 114.4299 - val_loss: 608.7642 - val_mae: 608.7642\n",
            "Epoch 56/100\n",
            "18/18 [==============================] - 0s 5ms/step - loss: 115.9096 - mae: 115.9096 - val_loss: 732.2004 - val_mae: 732.2004\n",
            "Epoch 57/100\n",
            "18/18 [==============================] - 0s 5ms/step - loss: 134.2316 - mae: 134.2316 - val_loss: 638.4044 - val_mae: 638.4044\n",
            "Epoch 58/100\n",
            "18/18 [==============================] - 0s 5ms/step - loss: 123.8935 - mae: 123.8935 - val_loss: 646.8499 - val_mae: 646.8499\n",
            "Epoch 59/100\n",
            "18/18 [==============================] - 0s 5ms/step - loss: 111.5002 - mae: 111.5002 - val_loss: 608.3995 - val_mae: 608.3995\n",
            "Epoch 60/100\n",
            "18/18 [==============================] - 0s 4ms/step - loss: 111.6725 - mae: 111.6725 - val_loss: 627.9479 - val_mae: 627.9479\n",
            "Epoch 61/100\n",
            " 1/18 [>.............................] - ETA: 0s - loss: 140.4980 - mae: 140.4980INFO:tensorflow:Assets written to: model_experiments/model_4_Conv1D/assets\n",
            "18/18 [==============================] - 1s 46ms/step - loss: 112.1395 - mae: 112.1395 - val_loss: 594.7697 - val_mae: 594.7697\n",
            "Epoch 62/100\n",
            " 1/18 [>.............................] - ETA: 0s - loss: 78.4971 - mae: 78.4971INFO:tensorflow:Assets written to: model_experiments/model_4_Conv1D/assets\n",
            "18/18 [==============================] - 1s 65ms/step - loss: 110.0054 - mae: 110.0054 - val_loss: 592.1656 - val_mae: 592.1656\n",
            "Epoch 63/100\n",
            "18/18 [==============================] - 0s 4ms/step - loss: 112.4188 - mae: 112.4188 - val_loss: 602.4727 - val_mae: 602.4727\n",
            "Epoch 64/100\n",
            "18/18 [==============================] - 0s 5ms/step - loss: 113.4439 - mae: 113.4439 - val_loss: 670.7295 - val_mae: 670.7295\n",
            "Epoch 65/100\n",
            " 1/18 [>.............................] - ETA: 0s - loss: 143.4462 - mae: 143.4462INFO:tensorflow:Assets written to: model_experiments/model_4_Conv1D/assets\n",
            "18/18 [==============================] - 1s 47ms/step - loss: 115.7557 - mae: 115.7557 - val_loss: 585.1594 - val_mae: 585.1594\n",
            "Epoch 66/100\n",
            "18/18 [==============================] - 0s 5ms/step - loss: 112.3069 - mae: 112.3069 - val_loss: 585.8987 - val_mae: 585.8987\n",
            "Epoch 67/100\n",
            "18/18 [==============================] - 0s 4ms/step - loss: 108.9034 - mae: 108.9034 - val_loss: 624.7969 - val_mae: 624.7969\n",
            "Epoch 68/100\n",
            "18/18 [==============================] - 0s 5ms/step - loss: 116.7557 - mae: 116.7557 - val_loss: 709.2063 - val_mae: 709.2063\n",
            "Epoch 69/100\n",
            "18/18 [==============================] - 0s 4ms/step - loss: 130.1915 - mae: 130.1915 - val_loss: 696.8691 - val_mae: 696.8691\n",
            "Epoch 70/100\n",
            "16/18 [=========================>....] - ETA: 0s - loss: 117.5610 - mae: 117.5610INFO:tensorflow:Assets written to: model_experiments/model_4_Conv1D/assets\n",
            "18/18 [==============================] - 1s 47ms/step - loss: 117.4973 - mae: 117.4973 - val_loss: 582.1721 - val_mae: 582.1721\n",
            "Epoch 71/100\n",
            "18/18 [==============================] - 0s 4ms/step - loss: 111.4053 - mae: 111.4053 - val_loss: 592.3586 - val_mae: 592.3586\n",
            "Epoch 72/100\n",
            "18/18 [==============================] - 0s 4ms/step - loss: 110.3650 - mae: 110.3650 - val_loss: 582.6543 - val_mae: 582.6543\n",
            "Epoch 73/100\n",
            "18/18 [==============================] - 0s 6ms/step - loss: 109.6267 - mae: 109.6267 - val_loss: 598.3505 - val_mae: 598.3505\n",
            "Epoch 74/100\n",
            "18/18 [==============================] - 0s 4ms/step - loss: 111.0637 - mae: 111.0637 - val_loss: 597.2785 - val_mae: 597.2785\n",
            "Epoch 75/100\n",
            " 1/18 [>.............................] - ETA: 0s - loss: 127.7875 - mae: 127.7875INFO:tensorflow:Assets written to: model_experiments/model_4_Conv1D/assets\n",
            "18/18 [==============================] - 1s 48ms/step - loss: 110.1981 - mae: 110.1981 - val_loss: 580.6466 - val_mae: 580.6466\n",
            "Epoch 76/100\n",
            " 1/18 [>.............................] - ETA: 0s - loss: 78.1762 - mae: 78.1762INFO:tensorflow:Assets written to: model_experiments/model_4_Conv1D/assets\n",
            "18/18 [==============================] - 1s 52ms/step - loss: 110.2786 - mae: 110.2786 - val_loss: 578.3000 - val_mae: 578.3000\n",
            "Epoch 77/100\n",
            " 1/18 [>.............................] - ETA: 0s - loss: 85.8220 - mae: 85.8220INFO:tensorflow:Assets written to: model_experiments/model_4_Conv1D/assets\n",
            "18/18 [==============================] - 1s 48ms/step - loss: 109.9684 - mae: 109.9684 - val_loss: 577.5176 - val_mae: 577.5176\n",
            "Epoch 78/100\n",
            "18/18 [==============================] - 0s 4ms/step - loss: 110.1154 - mae: 110.1154 - val_loss: 584.0735 - val_mae: 584.0735\n",
            "Epoch 79/100\n",
            "18/18 [==============================] - 0s 4ms/step - loss: 109.9454 - mae: 109.9454 - val_loss: 601.1721 - val_mae: 601.1721\n",
            "Epoch 80/100\n",
            "18/18 [==============================] - 0s 4ms/step - loss: 109.2231 - mae: 109.2231 - val_loss: 584.6572 - val_mae: 584.6572\n",
            "Epoch 81/100\n",
            " 1/18 [>.............................] - ETA: 0s - loss: 94.5031 - mae: 94.5031INFO:tensorflow:Assets written to: model_experiments/model_4_Conv1D/assets\n",
            "18/18 [==============================] - 1s 51ms/step - loss: 108.8816 - mae: 108.8816 - val_loss: 577.2933 - val_mae: 577.2933\n",
            "Epoch 82/100\n",
            " 1/18 [>.............................] - ETA: 0s - loss: 199.0694 - mae: 199.0694INFO:tensorflow:Assets written to: model_experiments/model_4_Conv1D/assets\n",
            "18/18 [==============================] - 1s 49ms/step - loss: 115.2162 - mae: 115.2162 - val_loss: 575.1487 - val_mae: 575.1487\n",
            "Epoch 83/100\n",
            "18/18 [==============================] - 0s 5ms/step - loss: 112.1618 - mae: 112.1618 - val_loss: 660.5386 - val_mae: 660.5386\n",
            "Epoch 84/100\n",
            "18/18 [==============================] - 0s 5ms/step - loss: 115.6580 - mae: 115.6580 - val_loss: 579.7722 - val_mae: 579.7722\n",
            "Epoch 85/100\n",
            "18/18 [==============================] - 0s 4ms/step - loss: 108.4625 - mae: 108.4625 - val_loss: 578.7055 - val_mae: 578.7055\n",
            "Epoch 86/100\n",
            "18/18 [==============================] - 0s 5ms/step - loss: 109.1078 - mae: 109.1078 - val_loss: 612.1540 - val_mae: 612.1540\n",
            "Epoch 87/100\n",
            " 1/18 [>.............................] - ETA: 0s - loss: 124.8027 - mae: 124.8027INFO:tensorflow:Assets written to: model_experiments/model_4_Conv1D/assets\n",
            "18/18 [==============================] - 1s 47ms/step - loss: 109.5943 - mae: 109.5943 - val_loss: 573.7505 - val_mae: 573.7505\n",
            "Epoch 88/100\n",
            "18/18 [==============================] - 0s 4ms/step - loss: 108.3296 - mae: 108.3296 - val_loss: 603.7560 - val_mae: 603.7560\n",
            "Epoch 89/100\n",
            " 1/18 [>.............................] - ETA: 0s - loss: 106.6225 - mae: 106.6225INFO:tensorflow:Assets written to: model_experiments/model_4_Conv1D/assets\n",
            "18/18 [==============================] - 1s 65ms/step - loss: 110.1261 - mae: 110.1261 - val_loss: 573.5157 - val_mae: 573.5157\n",
            "Epoch 90/100\n",
            "18/18 [==============================] - 0s 4ms/step - loss: 107.8898 - mae: 107.8898 - val_loss: 632.4512 - val_mae: 632.4512\n",
            "Epoch 91/100\n",
            "18/18 [==============================] - 0s 5ms/step - loss: 111.9061 - mae: 111.9061 - val_loss: 661.1208 - val_mae: 661.1208\n",
            "Epoch 92/100\n",
            "18/18 [==============================] - 0s 4ms/step - loss: 110.2413 - mae: 110.2413 - val_loss: 581.5148 - val_mae: 581.5148\n",
            "Epoch 93/100\n",
            "18/18 [==============================] - 0s 6ms/step - loss: 115.7351 - mae: 115.7351 - val_loss: 630.8295 - val_mae: 630.8295\n",
            "Epoch 94/100\n",
            "18/18 [==============================] - 0s 4ms/step - loss: 111.2476 - mae: 111.2476 - val_loss: 575.5905 - val_mae: 575.5905\n",
            "Epoch 95/100\n",
            "18/18 [==============================] - 0s 5ms/step - loss: 110.0501 - mae: 110.0501 - val_loss: 584.2338 - val_mae: 584.2338\n",
            "Epoch 96/100\n",
            "18/18 [==============================] - 0s 4ms/step - loss: 114.5560 - mae: 114.5560 - val_loss: 610.7230 - val_mae: 610.7230\n",
            "Epoch 97/100\n",
            "18/18 [==============================] - 0s 4ms/step - loss: 110.3120 - mae: 110.3120 - val_loss: 588.9648 - val_mae: 588.9648\n",
            "Epoch 98/100\n",
            "18/18 [==============================] - 0s 4ms/step - loss: 110.0176 - mae: 110.0176 - val_loss: 575.3353 - val_mae: 575.3353\n",
            "Epoch 99/100\n",
            " 1/18 [>.............................] - ETA: 0s - loss: 151.7352 - mae: 151.7352INFO:tensorflow:Assets written to: model_experiments/model_4_Conv1D/assets\n",
            "18/18 [==============================] - 1s 49ms/step - loss: 109.7019 - mae: 109.7019 - val_loss: 570.3993 - val_mae: 570.3993\n",
            "Epoch 100/100\n",
            "18/18 [==============================] - 0s 4ms/step - loss: 110.7865 - mae: 110.7865 - val_loss: 609.9927 - val_mae: 609.9927\n"
          ]
        },
        {
          "output_type": "execute_result",
          "data": {
            "text/plain": [
              "<keras.callbacks.History at 0x7f246d4ed6d0>"
            ]
          },
          "metadata": {},
          "execution_count": 88
        }
      ]
    },
    {
      "cell_type": "code",
      "source": [
        "model_4.summary()"
      ],
      "metadata": {
        "colab": {
          "base_uri": "https://localhost:8080/"
        },
        "id": "XXpy7I6ArGtL",
        "outputId": "6916f766-718b-4a09-fbb0-0616f2a7581f"
      },
      "execution_count": 89,
      "outputs": [
        {
          "output_type": "stream",
          "name": "stdout",
          "text": [
            "Model: \"model_4_Conv1D\"\n",
            "_________________________________________________________________\n",
            " Layer (type)                Output Shape              Param #   \n",
            "=================================================================\n",
            " lambda_1 (Lambda)           (None, 1, 7)              0         \n",
            "                                                                 \n",
            " conv1d (Conv1D)             (None, 1, 128)            6400      \n",
            "                                                                 \n",
            " dense_6 (Dense)             (None, 1, 1)              129       \n",
            "                                                                 \n",
            "=================================================================\n",
            "Total params: 6,529\n",
            "Trainable params: 6,529\n",
            "Non-trainable params: 0\n",
            "_________________________________________________________________\n"
          ]
        }
      ]
    },
    {
      "cell_type": "code",
      "source": [
        "# Evaluate model\n",
        "model_4.evaluate(test_windows, test_labels)"
      ],
      "metadata": {
        "colab": {
          "base_uri": "https://localhost:8080/"
        },
        "id": "b6MYCzb_iVtB",
        "outputId": "25c048c2-3dd8-4dba-fe5a-2394f35b3845"
      },
      "execution_count": 90,
      "outputs": [
        {
          "output_type": "stream",
          "name": "stdout",
          "text": [
            "18/18 [==============================] - 0s 2ms/step - loss: 609.9927 - mae: 609.9927\n"
          ]
        },
        {
          "output_type": "execute_result",
          "data": {
            "text/plain": [
              "[609.99267578125, 609.99267578125]"
            ]
          },
          "metadata": {},
          "execution_count": 90
        }
      ]
    },
    {
      "cell_type": "code",
      "source": [
        "# Load best model\n",
        "model_4 = tf.keras.models.load_model(\"model_experiments/model_4_Conv1D\")"
      ],
      "metadata": {
        "id": "oJ8BP3r4sQC6"
      },
      "execution_count": 91,
      "outputs": []
    },
    {
      "cell_type": "code",
      "source": [
        "# Evaluate best model\n",
        "model_4.evaluate(test_windows, test_labels)"
      ],
      "metadata": {
        "colab": {
          "base_uri": "https://localhost:8080/"
        },
        "id": "RTCDaZajsbYJ",
        "outputId": "56c0548d-39d1-48b7-adbc-f39c4e237069"
      },
      "execution_count": 92,
      "outputs": [
        {
          "output_type": "stream",
          "name": "stdout",
          "text": [
            "18/18 [==============================] - 0s 2ms/step - loss: 570.3994 - mae: 570.3994\n"
          ]
        },
        {
          "output_type": "execute_result",
          "data": {
            "text/plain": [
              "[570.3993530273438, 570.3993530273438]"
            ]
          },
          "metadata": {},
          "execution_count": 92
        }
      ]
    },
    {
      "cell_type": "code",
      "source": [
        "# Make predictions first\n",
        "model_4_preds = make_preds(model_4, test_windows)\n",
        "model_4_preds[:10]"
      ],
      "metadata": {
        "colab": {
          "base_uri": "https://localhost:8080/"
        },
        "id": "Fv1TxLxAsdN5",
        "outputId": "6314df24-0972-4ed9-cd85-ca20537b8421"
      },
      "execution_count": 93,
      "outputs": [
        {
          "output_type": "execute_result",
          "data": {
            "text/plain": [
              "<tf.Tensor: shape=(10,), dtype=float32, numpy=\n",
              "array([8897.537 , 8793.336 , 9025.615 , 8800.965 , 8748.348 , 8769.1875,\n",
              "       8684.735 , 8543.161 , 8480.019 , 8531.297 ], dtype=float32)>"
            ]
          },
          "metadata": {},
          "execution_count": 93
        }
      ]
    },
    {
      "cell_type": "code",
      "source": [
        "# Evaluate predictions\n",
        "model_4_results = evaluate_preds(\n",
        "    y_true=tf.squeeze(test_labels),\n",
        "    y_pred=model_4_preds)\n",
        "model_4_results"
      ],
      "metadata": {
        "colab": {
          "base_uri": "https://localhost:8080/"
        },
        "id": "Qtka3Sy5tSgp",
        "outputId": "c25bb875-4c16-479b-b87f-21f91c5d47cd"
      },
      "execution_count": 94,
      "outputs": [
        {
          "output_type": "execute_result",
          "data": {
            "text/plain": [
              "{'mae': 570.39935,\n",
              " 'mape': 2.5455725,\n",
              " 'mase': 1.0020337,\n",
              " 'mse': 1182763.1,\n",
              " 'rmse': 1087.5492}"
            ]
          },
          "metadata": {},
          "execution_count": 94
        }
      ]
    },
    {
      "cell_type": "code",
      "source": [
        "model_1_results"
      ],
      "metadata": {
        "colab": {
          "base_uri": "https://localhost:8080/"
        },
        "id": "ZB2EAiOsthUK",
        "outputId": "4c274fe6-a3b0-48bf-d99d-286b008d51f6"
      },
      "execution_count": 95,
      "outputs": [
        {
          "output_type": "execute_result",
          "data": {
            "text/plain": [
              "{'mae': 568.5498,\n",
              " 'mape': 2.549229,\n",
              " 'mase': 0.99878454,\n",
              " 'mse': 1172587.6,\n",
              " 'rmse': 1082.8608}"
            ]
          },
          "metadata": {},
          "execution_count": 95
        }
      ]
    },
    {
      "cell_type": "markdown",
      "source": [
        "## Model 5: RNN (LSTM)\n",
        "\n",
        "Let's build an RNN model for our time series data.\n",
        "\n",
        "We'll use the same data we created previously."
      ],
      "metadata": {
        "id": "pR4WoXOit_IY"
      }
    },
    {
      "cell_type": "code",
      "source": [
        "tf.random.set_seed(42)\n",
        "\n",
        "# Let's build an LSTM model with the Functional API\n",
        "inputs = layers.Input(shape=(WINDOW_SIZE))\n",
        "x = layers.Lambda(lambda x: tf.expand_dims(x, axis=1))(inputs)\n",
        "# x = layers.LSTM(128, return_sequences=True)(x)\n",
        "x = layers.LSTM(128, activation=\"relu\")(x)\n",
        "# x = layers.Dense(32, activation=\"relu\")(x)\n",
        "outputs = layers.Dense(HORIZON)(x)\n",
        "\n",
        "model_5 = tf.keras.Model(inputs=inputs, outputs=outputs, name=\"model_5_LSTM\")"
      ],
      "metadata": {
        "id": "kG3XmgRhtlDp"
      },
      "execution_count": 96,
      "outputs": []
    },
    {
      "cell_type": "code",
      "source": [
        "model_5.compile(\n",
        "    loss=\"mae\",\n",
        "    optimizer=tf.keras.optimizers.Adam(),\n",
        "    metrics=[\"mae\"]\n",
        ")"
      ],
      "metadata": {
        "id": "qC6U3ryqvKDI"
      },
      "execution_count": 97,
      "outputs": []
    },
    {
      "cell_type": "code",
      "source": [
        "model_5.fit(\n",
        "    train_windows,\n",
        "    train_labels,\n",
        "    epochs=100,\n",
        "    batch_size=128,\n",
        "    validation_data=(test_windows, test_labels),\n",
        "    callbacks=[create_model_checkpoint(model_name=model_5.name)])"
      ],
      "metadata": {
        "colab": {
          "base_uri": "https://localhost:8080/"
        },
        "id": "SruGDHUrvZKo",
        "outputId": "d7ebaa1f-1fbe-46c7-ddac-995d75886ca0"
      },
      "execution_count": 98,
      "outputs": [
        {
          "output_type": "stream",
          "name": "stdout",
          "text": [
            "Epoch 1/100\n",
            "10/18 [===============>..............] - ETA: 0s - loss: 2581.3245 - mae: 2581.3245 INFO:tensorflow:Assets written to: model_experiments/model_5_LSTM/assets\n"
          ]
        },
        {
          "output_type": "stream",
          "name": "stderr",
          "text": [
            "WARNING:absl:<keras.layers.recurrent.LSTMCell object at 0x7f246d5986d0> has the same name 'LSTMCell' as a built-in Keras object. Consider renaming <class 'keras.layers.recurrent.LSTMCell'> to avoid naming conflicts when loading with `tf.keras.models.load_model`. If renaming is not possible, pass the object in the `custom_objects` parameter of the load function.\n"
          ]
        },
        {
          "output_type": "stream",
          "name": "stdout",
          "text": [
            "\b\b\b\b\b\b\b\b\b\b\b\b\b\b\b\b\b\b\b\b\b\b\b\b\b\b\b\b\b\b\b\b\b\b\b\b\b\b\b\b\b\b\b\b\b\b\b\b\b\b\b\b\b\b\b\b\b\b\b\b\b\b\b\b\b\b\b\b\b\b\b\b\b\b\b\b\b\b\b\b\b\b\b\r18/18 [==============================] - 4s 146ms/step - loss: 2323.6123 - mae: 2323.6123 - val_loss: 9224.3506 - val_mae: 9224.3506\n",
            "Epoch 2/100\n",
            "17/18 [===========================>..] - ETA: 0s - loss: 706.6860 - mae: 706.6860  INFO:tensorflow:Assets written to: model_experiments/model_5_LSTM/assets\n"
          ]
        },
        {
          "output_type": "stream",
          "name": "stderr",
          "text": [
            "INFO:tensorflow:Assets written to: model_experiments/model_5_LSTM/assets\n",
            "WARNING:absl:<keras.layers.recurrent.LSTMCell object at 0x7f246d5986d0> has the same name 'LSTMCell' as a built-in Keras object. Consider renaming <class 'keras.layers.recurrent.LSTMCell'> to avoid naming conflicts when loading with `tf.keras.models.load_model`. If renaming is not possible, pass the object in the `custom_objects` parameter of the load function.\n"
          ]
        },
        {
          "output_type": "stream",
          "name": "stdout",
          "text": [
            "\b\b\b\b\b\b\b\b\b\b\b\b\b\b\b\b\b\b\b\b\b\b\b\b\b\b\b\b\b\b\b\b\b\b\b\b\b\b\b\b\b\b\b\b\b\b\b\b\b\b\b\b\b\b\b\b\b\b\b\b\b\b\b\b\b\b\b\b\b\b\b\b\b\b\b\b\b\b\b\b\b\r18/18 [==============================] - 3s 153ms/step - loss: 695.4956 - mae: 695.4956 - val_loss: 1485.8942 - val_mae: 1485.8942\n",
            "Epoch 3/100\n",
            "17/18 [===========================>..] - ETA: 0s - loss: 239.3258 - mae: 239.3258INFO:tensorflow:Assets written to: model_experiments/model_5_LSTM/assets\n"
          ]
        },
        {
          "output_type": "stream",
          "name": "stderr",
          "text": [
            "INFO:tensorflow:Assets written to: model_experiments/model_5_LSTM/assets\n",
            "WARNING:absl:<keras.layers.recurrent.LSTMCell object at 0x7f246d5986d0> has the same name 'LSTMCell' as a built-in Keras object. Consider renaming <class 'keras.layers.recurrent.LSTMCell'> to avoid naming conflicts when loading with `tf.keras.models.load_model`. If renaming is not possible, pass the object in the `custom_objects` parameter of the load function.\n"
          ]
        },
        {
          "output_type": "stream",
          "name": "stdout",
          "text": [
            "\b\b\b\b\b\b\b\b\b\b\b\b\b\b\b\b\b\b\b\b\b\b\b\b\b\b\b\b\b\b\b\b\b\b\b\b\b\b\b\b\b\b\b\b\b\b\b\b\b\b\b\b\b\b\b\b\b\b\b\b\b\b\b\b\b\b\b\b\b\b\b\b\b\b\b\b\b\b\b\b\b\r18/18 [==============================] - 2s 144ms/step - loss: 237.3010 - mae: 237.3010 - val_loss: 1298.9436 - val_mae: 1298.9436\n",
            "Epoch 4/100\n",
            "18/18 [==============================] - ETA: 0s - loss: 181.9182 - mae: 181.9182INFO:tensorflow:Assets written to: model_experiments/model_5_LSTM/assets\n"
          ]
        },
        {
          "output_type": "stream",
          "name": "stderr",
          "text": [
            "INFO:tensorflow:Assets written to: model_experiments/model_5_LSTM/assets\n",
            "WARNING:absl:<keras.layers.recurrent.LSTMCell object at 0x7f246d5986d0> has the same name 'LSTMCell' as a built-in Keras object. Consider renaming <class 'keras.layers.recurrent.LSTMCell'> to avoid naming conflicts when loading with `tf.keras.models.load_model`. If renaming is not possible, pass the object in the `custom_objects` parameter of the load function.\n"
          ]
        },
        {
          "output_type": "stream",
          "name": "stdout",
          "text": [
            "\b\b\b\b\b\b\b\b\b\b\b\b\b\b\b\b\b\b\b\b\b\b\b\b\b\b\b\b\b\b\b\b\b\b\b\b\b\b\b\b\b\b\b\b\b\b\b\b\b\b\b\b\b\b\b\b\b\b\b\b\b\b\b\b\b\b\b\b\b\b\b\b\b\b\b\b\b\b\b\b\b\r18/18 [==============================] - 2s 138ms/step - loss: 181.9182 - mae: 181.9182 - val_loss: 966.6407 - val_mae: 966.6407\n",
            "Epoch 5/100\n",
            "18/18 [==============================] - 0s 9ms/step - loss: 173.4021 - mae: 173.4021 - val_loss: 970.9384 - val_mae: 970.9384\n",
            "Epoch 6/100\n",
            "10/18 [===============>..............] - ETA: 0s - loss: 169.4054 - mae: 169.4054INFO:tensorflow:Assets written to: model_experiments/model_5_LSTM/assets\n"
          ]
        },
        {
          "output_type": "stream",
          "name": "stderr",
          "text": [
            "INFO:tensorflow:Assets written to: model_experiments/model_5_LSTM/assets\n",
            "WARNING:absl:<keras.layers.recurrent.LSTMCell object at 0x7f246d5986d0> has the same name 'LSTMCell' as a built-in Keras object. Consider renaming <class 'keras.layers.recurrent.LSTMCell'> to avoid naming conflicts when loading with `tf.keras.models.load_model`. If renaming is not possible, pass the object in the `custom_objects` parameter of the load function.\n"
          ]
        },
        {
          "output_type": "stream",
          "name": "stdout",
          "text": [
            "\b\b\b\b\b\b\b\b\b\b\b\b\b\b\b\b\b\b\b\b\b\b\b\b\b\b\b\b\b\b\b\b\b\b\b\b\b\b\b\b\b\b\b\b\b\b\b\b\b\b\b\b\b\b\b\b\b\b\b\b\b\b\b\b\b\b\b\b\b\b\b\b\b\b\b\b\b\b\b\b\b\r18/18 [==============================] - 2s 132ms/step - loss: 172.3319 - mae: 172.3319 - val_loss: 891.5209 - val_mae: 891.5209\n",
            "Epoch 7/100\n",
            "18/18 [==============================] - 0s 9ms/step - loss: 168.9708 - mae: 168.9708 - val_loss: 968.6377 - val_mae: 968.6377\n",
            "Epoch 8/100\n",
            "18/18 [==============================] - 0s 9ms/step - loss: 169.5318 - mae: 169.5318 - val_loss: 963.4456 - val_mae: 963.4456\n",
            "Epoch 9/100\n",
            "18/18 [==============================] - 0s 8ms/step - loss: 167.5760 - mae: 167.5760 - val_loss: 956.5829 - val_mae: 956.5829\n",
            "Epoch 10/100\n",
            "18/18 [==============================] - 0s 9ms/step - loss: 166.3443 - mae: 166.3443 - val_loss: 936.8956 - val_mae: 936.8956\n",
            "Epoch 11/100\n",
            "18/18 [==============================] - 0s 9ms/step - loss: 165.4762 - mae: 165.4762 - val_loss: 909.1110 - val_mae: 909.1110\n",
            "Epoch 12/100\n",
            "18/18 [==============================] - ETA: 0s - loss: 169.9951 - mae: 169.9951INFO:tensorflow:Assets written to: model_experiments/model_5_LSTM/assets\n"
          ]
        },
        {
          "output_type": "stream",
          "name": "stderr",
          "text": [
            "INFO:tensorflow:Assets written to: model_experiments/model_5_LSTM/assets\n",
            "WARNING:absl:<keras.layers.recurrent.LSTMCell object at 0x7f246d5986d0> has the same name 'LSTMCell' as a built-in Keras object. Consider renaming <class 'keras.layers.recurrent.LSTMCell'> to avoid naming conflicts when loading with `tf.keras.models.load_model`. If renaming is not possible, pass the object in the `custom_objects` parameter of the load function.\n"
          ]
        },
        {
          "output_type": "stream",
          "name": "stdout",
          "text": [
            "\b\b\b\b\b\b\b\b\b\b\b\b\b\b\b\b\b\b\b\b\b\b\b\b\b\b\b\b\b\b\b\b\b\b\b\b\b\b\b\b\b\b\b\b\b\b\b\b\b\b\b\b\b\b\b\b\b\b\b\b\b\b\b\b\b\b\b\b\b\b\b\b\b\b\b\b\b\b\b\b\b\r18/18 [==============================] - 3s 156ms/step - loss: 169.9951 - mae: 169.9951 - val_loss: 891.2327 - val_mae: 891.2327\n",
            "Epoch 13/100\n",
            "18/18 [==============================] - 0s 9ms/step - loss: 160.3806 - mae: 160.3806 - val_loss: 898.5595 - val_mae: 898.5595\n",
            "Epoch 14/100\n",
            "18/18 [==============================] - 0s 8ms/step - loss: 157.6484 - mae: 157.6484 - val_loss: 927.9266 - val_mae: 927.9266\n",
            "Epoch 15/100\n",
            "18/18 [==============================] - 0s 9ms/step - loss: 167.6508 - mae: 167.6508 - val_loss: 982.9256 - val_mae: 982.9256\n",
            "Epoch 16/100\n",
            "18/18 [==============================] - 0s 10ms/step - loss: 160.4521 - mae: 160.4521 - val_loss: 916.0458 - val_mae: 916.0458\n",
            "Epoch 17/100\n",
            "18/18 [==============================] - 0s 8ms/step - loss: 153.8805 - mae: 153.8805 - val_loss: 928.6927 - val_mae: 928.6927\n",
            "Epoch 18/100\n",
            "10/18 [===============>..............] - ETA: 0s - loss: 162.7562 - mae: 162.7562INFO:tensorflow:Assets written to: model_experiments/model_5_LSTM/assets\n"
          ]
        },
        {
          "output_type": "stream",
          "name": "stderr",
          "text": [
            "INFO:tensorflow:Assets written to: model_experiments/model_5_LSTM/assets\n",
            "WARNING:absl:<keras.layers.recurrent.LSTMCell object at 0x7f246d5986d0> has the same name 'LSTMCell' as a built-in Keras object. Consider renaming <class 'keras.layers.recurrent.LSTMCell'> to avoid naming conflicts when loading with `tf.keras.models.load_model`. If renaming is not possible, pass the object in the `custom_objects` parameter of the load function.\n"
          ]
        },
        {
          "output_type": "stream",
          "name": "stdout",
          "text": [
            "\b\b\b\b\b\b\b\b\b\b\b\b\b\b\b\b\b\b\b\b\b\b\b\b\b\b\b\b\b\b\b\b\b\b\b\b\b\b\b\b\b\b\b\b\b\b\b\b\b\b\b\b\b\b\b\b\b\b\b\b\b\b\b\b\b\b\b\b\b\b\b\b\b\b\b\b\b\b\b\b\b\r18/18 [==============================] - 2s 134ms/step - loss: 152.1556 - mae: 152.1556 - val_loss: 865.6219 - val_mae: 865.6219\n",
            "Epoch 19/100\n",
            "18/18 [==============================] - 0s 9ms/step - loss: 148.8319 - mae: 148.8319 - val_loss: 876.9328 - val_mae: 876.9328\n",
            "Epoch 20/100\n",
            "18/18 [==============================] - ETA: 0s - loss: 149.6801 - mae: 149.6801INFO:tensorflow:Assets written to: model_experiments/model_5_LSTM/assets\n"
          ]
        },
        {
          "output_type": "stream",
          "name": "stderr",
          "text": [
            "INFO:tensorflow:Assets written to: model_experiments/model_5_LSTM/assets\n",
            "WARNING:absl:<keras.layers.recurrent.LSTMCell object at 0x7f246d5986d0> has the same name 'LSTMCell' as a built-in Keras object. Consider renaming <class 'keras.layers.recurrent.LSTMCell'> to avoid naming conflicts when loading with `tf.keras.models.load_model`. If renaming is not possible, pass the object in the `custom_objects` parameter of the load function.\n"
          ]
        },
        {
          "output_type": "stream",
          "name": "stdout",
          "text": [
            "\b\b\b\b\b\b\b\b\b\b\b\b\b\b\b\b\b\b\b\b\b\b\b\b\b\b\b\b\b\b\b\b\b\b\b\b\b\b\b\b\b\b\b\b\b\b\b\b\b\b\b\b\b\b\b\b\b\b\b\b\b\b\b\b\b\b\b\b\b\b\b\b\b\b\b\b\b\b\b\b\b\r18/18 [==============================] - 2s 135ms/step - loss: 149.6801 - mae: 149.6801 - val_loss: 831.2376 - val_mae: 831.2376\n",
            "Epoch 21/100\n",
            "15/18 [========================>.....] - ETA: 0s - loss: 145.5328 - mae: 145.5328INFO:tensorflow:Assets written to: model_experiments/model_5_LSTM/assets\n"
          ]
        },
        {
          "output_type": "stream",
          "name": "stderr",
          "text": [
            "INFO:tensorflow:Assets written to: model_experiments/model_5_LSTM/assets\n",
            "WARNING:absl:<keras.layers.recurrent.LSTMCell object at 0x7f246d5986d0> has the same name 'LSTMCell' as a built-in Keras object. Consider renaming <class 'keras.layers.recurrent.LSTMCell'> to avoid naming conflicts when loading with `tf.keras.models.load_model`. If renaming is not possible, pass the object in the `custom_objects` parameter of the load function.\n"
          ]
        },
        {
          "output_type": "stream",
          "name": "stdout",
          "text": [
            "\b\b\b\b\b\b\b\b\b\b\b\b\b\b\b\b\b\b\b\b\b\b\b\b\b\b\b\b\b\b\b\b\b\b\b\b\b\b\b\b\b\b\b\b\b\b\b\b\b\b\b\b\b\b\b\b\b\b\b\b\b\b\b\b\b\b\b\b\b\b\b\b\b\b\b\b\b\b\b\b\b\r18/18 [==============================] - 3s 147ms/step - loss: 145.7330 - mae: 145.7330 - val_loss: 821.0629 - val_mae: 821.0629\n",
            "Epoch 22/100\n",
            "18/18 [==============================] - 0s 10ms/step - loss: 143.9433 - mae: 143.9433 - val_loss: 821.2911 - val_mae: 821.2911\n",
            "Epoch 23/100\n",
            "18/18 [==============================] - 0s 8ms/step - loss: 143.1268 - mae: 143.1268 - val_loss: 837.1895 - val_mae: 837.1895\n",
            "Epoch 24/100\n",
            "14/18 [======================>.......] - ETA: 0s - loss: 141.6198 - mae: 141.6198INFO:tensorflow:Assets written to: model_experiments/model_5_LSTM/assets\n"
          ]
        },
        {
          "output_type": "stream",
          "name": "stderr",
          "text": [
            "INFO:tensorflow:Assets written to: model_experiments/model_5_LSTM/assets\n",
            "WARNING:absl:<keras.layers.recurrent.LSTMCell object at 0x7f246d5986d0> has the same name 'LSTMCell' as a built-in Keras object. Consider renaming <class 'keras.layers.recurrent.LSTMCell'> to avoid naming conflicts when loading with `tf.keras.models.load_model`. If renaming is not possible, pass the object in the `custom_objects` parameter of the load function.\n"
          ]
        },
        {
          "output_type": "stream",
          "name": "stdout",
          "text": [
            "\b\b\b\b\b\b\b\b\b\b\b\b\b\b\b\b\b\b\b\b\b\b\b\b\b\b\b\b\b\b\b\b\b\b\b\b\b\b\b\b\b\b\b\b\b\b\b\b\b\b\b\b\b\b\b\b\b\b\b\b\b\b\b\b\b\b\b\b\b\b\b\b\b\b\b\b\b\b\b\b\b\r18/18 [==============================] - 3s 178ms/step - loss: 141.0378 - mae: 141.0378 - val_loss: 808.0547 - val_mae: 808.0547\n",
            "Epoch 25/100\n",
            "15/18 [========================>.....] - ETA: 0s - loss: 144.1336 - mae: 144.1336INFO:tensorflow:Assets written to: model_experiments/model_5_LSTM/assets\n"
          ]
        },
        {
          "output_type": "stream",
          "name": "stderr",
          "text": [
            "INFO:tensorflow:Assets written to: model_experiments/model_5_LSTM/assets\n",
            "WARNING:absl:<keras.layers.recurrent.LSTMCell object at 0x7f246d5986d0> has the same name 'LSTMCell' as a built-in Keras object. Consider renaming <class 'keras.layers.recurrent.LSTMCell'> to avoid naming conflicts when loading with `tf.keras.models.load_model`. If renaming is not possible, pass the object in the `custom_objects` parameter of the load function.\n"
          ]
        },
        {
          "output_type": "stream",
          "name": "stdout",
          "text": [
            "\b\b\b\b\b\b\b\b\b\b\b\b\b\b\b\b\b\b\b\b\b\b\b\b\b\b\b\b\b\b\b\b\b\b\b\b\b\b\b\b\b\b\b\b\b\b\b\b\b\b\b\b\b\b\b\b\b\b\b\b\b\b\b\b\b\b\b\b\b\b\b\b\b\b\b\b\b\b\b\b\b\r18/18 [==============================] - 2s 138ms/step - loss: 139.0068 - mae: 139.0068 - val_loss: 787.0112 - val_mae: 787.0112\n",
            "Epoch 26/100\n",
            "18/18 [==============================] - ETA: 0s - loss: 137.9395 - mae: 137.9395INFO:tensorflow:Assets written to: model_experiments/model_5_LSTM/assets\n"
          ]
        },
        {
          "output_type": "stream",
          "name": "stderr",
          "text": [
            "INFO:tensorflow:Assets written to: model_experiments/model_5_LSTM/assets\n",
            "WARNING:absl:<keras.layers.recurrent.LSTMCell object at 0x7f246d5986d0> has the same name 'LSTMCell' as a built-in Keras object. Consider renaming <class 'keras.layers.recurrent.LSTMCell'> to avoid naming conflicts when loading with `tf.keras.models.load_model`. If renaming is not possible, pass the object in the `custom_objects` parameter of the load function.\n"
          ]
        },
        {
          "output_type": "stream",
          "name": "stdout",
          "text": [
            "\b\b\b\b\b\b\b\b\b\b\b\b\b\b\b\b\b\b\b\b\b\b\b\b\b\b\b\b\b\b\b\b\b\b\b\b\b\b\b\b\b\b\b\b\b\b\b\b\b\b\b\b\b\b\b\b\b\b\b\b\b\b\b\b\b\b\b\b\b\b\b\b\b\b\b\b\b\b\b\b\b\r18/18 [==============================] - 2s 142ms/step - loss: 137.9395 - mae: 137.9395 - val_loss: 769.2203 - val_mae: 769.2203\n",
            "Epoch 27/100\n",
            "18/18 [==============================] - 0s 10ms/step - loss: 136.4498 - mae: 136.4498 - val_loss: 772.5977 - val_mae: 772.5977\n",
            "Epoch 28/100\n",
            "18/18 [==============================] - ETA: 0s - loss: 135.2745 - mae: 135.2745INFO:tensorflow:Assets written to: model_experiments/model_5_LSTM/assets\n"
          ]
        },
        {
          "output_type": "stream",
          "name": "stderr",
          "text": [
            "INFO:tensorflow:Assets written to: model_experiments/model_5_LSTM/assets\n",
            "WARNING:absl:<keras.layers.recurrent.LSTMCell object at 0x7f246d5986d0> has the same name 'LSTMCell' as a built-in Keras object. Consider renaming <class 'keras.layers.recurrent.LSTMCell'> to avoid naming conflicts when loading with `tf.keras.models.load_model`. If renaming is not possible, pass the object in the `custom_objects` parameter of the load function.\n"
          ]
        },
        {
          "output_type": "stream",
          "name": "stdout",
          "text": [
            "\b\b\b\b\b\b\b\b\b\b\b\b\b\b\b\b\b\b\b\b\b\b\b\b\b\b\b\b\b\b\b\b\b\b\b\b\b\b\b\b\b\b\b\b\b\b\b\b\b\b\b\b\b\b\b\b\b\b\b\b\b\b\b\b\b\b\b\b\b\b\b\b\b\b\b\b\b\b\b\b\b\r18/18 [==============================] - 3s 169ms/step - loss: 135.2745 - mae: 135.2745 - val_loss: 751.0115 - val_mae: 751.0115\n",
            "Epoch 29/100\n",
            "18/18 [==============================] - 0s 9ms/step - loss: 135.5958 - mae: 135.5958 - val_loss: 759.8718 - val_mae: 759.8718\n",
            "Epoch 30/100\n",
            "18/18 [==============================] - 0s 9ms/step - loss: 138.2377 - mae: 138.2377 - val_loss: 789.2983 - val_mae: 789.2983\n",
            "Epoch 31/100\n",
            "15/18 [========================>.....] - ETA: 0s - loss: 131.8530 - mae: 131.8530INFO:tensorflow:Assets written to: model_experiments/model_5_LSTM/assets\n"
          ]
        },
        {
          "output_type": "stream",
          "name": "stderr",
          "text": [
            "INFO:tensorflow:Assets written to: model_experiments/model_5_LSTM/assets\n",
            "WARNING:absl:<keras.layers.recurrent.LSTMCell object at 0x7f246d5986d0> has the same name 'LSTMCell' as a built-in Keras object. Consider renaming <class 'keras.layers.recurrent.LSTMCell'> to avoid naming conflicts when loading with `tf.keras.models.load_model`. If renaming is not possible, pass the object in the `custom_objects` parameter of the load function.\n"
          ]
        },
        {
          "output_type": "stream",
          "name": "stdout",
          "text": [
            "\b\b\b\b\b\b\b\b\b\b\b\b\b\b\b\b\b\b\b\b\b\b\b\b\b\b\b\b\b\b\b\b\b\b\b\b\b\b\b\b\b\b\b\b\b\b\b\b\b\b\b\b\b\b\b\b\b\b\b\b\b\b\b\b\b\b\b\b\b\b\b\b\b\b\b\b\b\b\b\b\b\r18/18 [==============================] - 3s 151ms/step - loss: 133.4514 - mae: 133.4514 - val_loss: 730.3293 - val_mae: 730.3293\n",
            "Epoch 32/100\n",
            "18/18 [==============================] - 0s 9ms/step - loss: 129.2459 - mae: 129.2459 - val_loss: 730.9674 - val_mae: 730.9674\n",
            "Epoch 33/100\n",
            "16/18 [=========================>....] - ETA: 0s - loss: 129.9039 - mae: 129.9039INFO:tensorflow:Assets written to: model_experiments/model_5_LSTM/assets\n"
          ]
        },
        {
          "output_type": "stream",
          "name": "stderr",
          "text": [
            "INFO:tensorflow:Assets written to: model_experiments/model_5_LSTM/assets\n",
            "WARNING:absl:<keras.layers.recurrent.LSTMCell object at 0x7f246d5986d0> has the same name 'LSTMCell' as a built-in Keras object. Consider renaming <class 'keras.layers.recurrent.LSTMCell'> to avoid naming conflicts when loading with `tf.keras.models.load_model`. If renaming is not possible, pass the object in the `custom_objects` parameter of the load function.\n"
          ]
        },
        {
          "output_type": "stream",
          "name": "stdout",
          "text": [
            "\b\b\b\b\b\b\b\b\b\b\b\b\b\b\b\b\b\b\b\b\b\b\b\b\b\b\b\b\b\b\b\b\b\b\b\b\b\b\b\b\b\b\b\b\b\b\b\b\b\b\b\b\b\b\b\b\b\b\b\b\b\b\b\b\b\b\b\b\b\b\b\b\b\b\b\b\b\b\b\b\b\r18/18 [==============================] - 2s 144ms/step - loss: 128.6682 - mae: 128.6682 - val_loss: 726.6902 - val_mae: 726.6902\n",
            "Epoch 34/100\n",
            "16/18 [=========================>....] - ETA: 0s - loss: 128.8947 - mae: 128.8947INFO:tensorflow:Assets written to: model_experiments/model_5_LSTM/assets\n"
          ]
        },
        {
          "output_type": "stream",
          "name": "stderr",
          "text": [
            "INFO:tensorflow:Assets written to: model_experiments/model_5_LSTM/assets\n",
            "WARNING:absl:<keras.layers.recurrent.LSTMCell object at 0x7f246d5986d0> has the same name 'LSTMCell' as a built-in Keras object. Consider renaming <class 'keras.layers.recurrent.LSTMCell'> to avoid naming conflicts when loading with `tf.keras.models.load_model`. If renaming is not possible, pass the object in the `custom_objects` parameter of the load function.\n"
          ]
        },
        {
          "output_type": "stream",
          "name": "stdout",
          "text": [
            "\b\b\b\b\b\b\b\b\b\b\b\b\b\b\b\b\b\b\b\b\b\b\b\b\b\b\b\b\b\b\b\b\b\b\b\b\b\b\b\b\b\b\b\b\b\b\b\b\b\b\b\b\b\b\b\b\b\b\b\b\b\b\b\b\b\b\b\b\b\b\b\b\b\b\b\b\b\b\b\b\b\r18/18 [==============================] - 2s 133ms/step - loss: 128.9641 - mae: 128.9641 - val_loss: 708.2340 - val_mae: 708.2340\n",
            "Epoch 35/100\n",
            "10/18 [===============>..............] - ETA: 0s - loss: 125.0531 - mae: 125.0531INFO:tensorflow:Assets written to: model_experiments/model_5_LSTM/assets\n"
          ]
        },
        {
          "output_type": "stream",
          "name": "stderr",
          "text": [
            "INFO:tensorflow:Assets written to: model_experiments/model_5_LSTM/assets\n",
            "WARNING:absl:<keras.layers.recurrent.LSTMCell object at 0x7f246d5986d0> has the same name 'LSTMCell' as a built-in Keras object. Consider renaming <class 'keras.layers.recurrent.LSTMCell'> to avoid naming conflicts when loading with `tf.keras.models.load_model`. If renaming is not possible, pass the object in the `custom_objects` parameter of the load function.\n"
          ]
        },
        {
          "output_type": "stream",
          "name": "stdout",
          "text": [
            "\b\b\b\b\b\b\b\b\b\b\b\b\b\b\b\b\b\b\b\b\b\b\b\b\b\b\b\b\b\b\b\b\b\b\b\b\b\b\b\b\b\b\b\b\b\b\b\b\b\b\b\b\b\b\b\b\b\b\b\b\b\b\b\b\b\b\b\b\b\b\b\b\b\b\b\b\b\b\b\b\b\r18/18 [==============================] - 3s 171ms/step - loss: 126.4375 - mae: 126.4375 - val_loss: 702.6016 - val_mae: 702.6016\n",
            "Epoch 36/100\n",
            "18/18 [==============================] - ETA: 0s - loss: 125.8648 - mae: 125.8648INFO:tensorflow:Assets written to: model_experiments/model_5_LSTM/assets\n"
          ]
        },
        {
          "output_type": "stream",
          "name": "stderr",
          "text": [
            "INFO:tensorflow:Assets written to: model_experiments/model_5_LSTM/assets\n",
            "WARNING:absl:<keras.layers.recurrent.LSTMCell object at 0x7f246d5986d0> has the same name 'LSTMCell' as a built-in Keras object. Consider renaming <class 'keras.layers.recurrent.LSTMCell'> to avoid naming conflicts when loading with `tf.keras.models.load_model`. If renaming is not possible, pass the object in the `custom_objects` parameter of the load function.\n"
          ]
        },
        {
          "output_type": "stream",
          "name": "stdout",
          "text": [
            "\b\b\b\b\b\b\b\b\b\b\b\b\b\b\b\b\b\b\b\b\b\b\b\b\b\b\b\b\b\b\b\b\b\b\b\b\b\b\b\b\b\b\b\b\b\b\b\b\b\b\b\b\b\b\b\b\b\b\b\b\b\b\b\b\b\b\b\b\b\b\b\b\b\b\b\b\b\b\b\b\b\r18/18 [==============================] - 2s 139ms/step - loss: 125.8648 - mae: 125.8648 - val_loss: 696.0234 - val_mae: 696.0234\n",
            "Epoch 37/100\n",
            "10/18 [===============>..............] - ETA: 0s - loss: 116.4368 - mae: 116.4368INFO:tensorflow:Assets written to: model_experiments/model_5_LSTM/assets\n"
          ]
        },
        {
          "output_type": "stream",
          "name": "stderr",
          "text": [
            "INFO:tensorflow:Assets written to: model_experiments/model_5_LSTM/assets\n",
            "WARNING:absl:<keras.layers.recurrent.LSTMCell object at 0x7f246d5986d0> has the same name 'LSTMCell' as a built-in Keras object. Consider renaming <class 'keras.layers.recurrent.LSTMCell'> to avoid naming conflicts when loading with `tf.keras.models.load_model`. If renaming is not possible, pass the object in the `custom_objects` parameter of the load function.\n"
          ]
        },
        {
          "output_type": "stream",
          "name": "stdout",
          "text": [
            "\b\b\b\b\b\b\b\b\b\b\b\b\b\b\b\b\b\b\b\b\b\b\b\b\b\b\b\b\b\b\b\b\b\b\b\b\b\b\b\b\b\b\b\b\b\b\b\b\b\b\b\b\b\b\b\b\b\b\b\b\b\b\b\b\b\b\b\b\b\b\b\b\b\b\b\b\b\b\b\b\b\r18/18 [==============================] - 2s 138ms/step - loss: 124.2744 - mae: 124.2744 - val_loss: 692.3998 - val_mae: 692.3998\n",
            "Epoch 38/100\n",
            "15/18 [========================>.....] - ETA: 0s - loss: 124.9941 - mae: 124.9941INFO:tensorflow:Assets written to: model_experiments/model_5_LSTM/assets\n"
          ]
        },
        {
          "output_type": "stream",
          "name": "stderr",
          "text": [
            "INFO:tensorflow:Assets written to: model_experiments/model_5_LSTM/assets\n",
            "WARNING:absl:<keras.layers.recurrent.LSTMCell object at 0x7f246d5986d0> has the same name 'LSTMCell' as a built-in Keras object. Consider renaming <class 'keras.layers.recurrent.LSTMCell'> to avoid naming conflicts when loading with `tf.keras.models.load_model`. If renaming is not possible, pass the object in the `custom_objects` parameter of the load function.\n"
          ]
        },
        {
          "output_type": "stream",
          "name": "stdout",
          "text": [
            "\b\b\b\b\b\b\b\b\b\b\b\b\b\b\b\b\b\b\b\b\b\b\b\b\b\b\b\b\b\b\b\b\b\b\b\b\b\b\b\b\b\b\b\b\b\b\b\b\b\b\b\b\b\b\b\b\b\b\b\b\b\b\b\b\b\b\b\b\b\b\b\b\b\b\b\b\b\b\b\b\b\r18/18 [==============================] - 3s 147ms/step - loss: 123.4617 - mae: 123.4617 - val_loss: 682.3129 - val_mae: 682.3129\n",
            "Epoch 39/100\n",
            "18/18 [==============================] - 0s 10ms/step - loss: 124.4908 - mae: 124.4908 - val_loss: 689.1117 - val_mae: 689.1116\n",
            "Epoch 40/100\n",
            "18/18 [==============================] - 0s 10ms/step - loss: 123.6601 - mae: 123.6601 - val_loss: 688.7414 - val_mae: 688.7414\n",
            "Epoch 41/100\n",
            "15/18 [========================>.....] - ETA: 0s - loss: 125.5659 - mae: 125.5659INFO:tensorflow:Assets written to: model_experiments/model_5_LSTM/assets\n"
          ]
        },
        {
          "output_type": "stream",
          "name": "stderr",
          "text": [
            "INFO:tensorflow:Assets written to: model_experiments/model_5_LSTM/assets\n",
            "WARNING:absl:<keras.layers.recurrent.LSTMCell object at 0x7f246d5986d0> has the same name 'LSTMCell' as a built-in Keras object. Consider renaming <class 'keras.layers.recurrent.LSTMCell'> to avoid naming conflicts when loading with `tf.keras.models.load_model`. If renaming is not possible, pass the object in the `custom_objects` parameter of the load function.\n"
          ]
        },
        {
          "output_type": "stream",
          "name": "stdout",
          "text": [
            "\b\b\b\b\b\b\b\b\b\b\b\b\b\b\b\b\b\b\b\b\b\b\b\b\b\b\b\b\b\b\b\b\b\b\b\b\b\b\b\b\b\b\b\b\b\b\b\b\b\b\b\b\b\b\b\b\b\b\b\b\b\b\b\b\b\b\b\b\b\b\b\b\b\b\b\b\b\b\b\b\b\r18/18 [==============================] - 3s 179ms/step - loss: 121.6996 - mae: 121.6996 - val_loss: 673.3080 - val_mae: 673.3080\n",
            "Epoch 42/100\n",
            "16/18 [=========================>....] - ETA: 0s - loss: 120.5581 - mae: 120.5581INFO:tensorflow:Assets written to: model_experiments/model_5_LSTM/assets\n"
          ]
        },
        {
          "output_type": "stream",
          "name": "stderr",
          "text": [
            "INFO:tensorflow:Assets written to: model_experiments/model_5_LSTM/assets\n",
            "WARNING:absl:<keras.layers.recurrent.LSTMCell object at 0x7f246d5986d0> has the same name 'LSTMCell' as a built-in Keras object. Consider renaming <class 'keras.layers.recurrent.LSTMCell'> to avoid naming conflicts when loading with `tf.keras.models.load_model`. If renaming is not possible, pass the object in the `custom_objects` parameter of the load function.\n"
          ]
        },
        {
          "output_type": "stream",
          "name": "stdout",
          "text": [
            "\b\b\b\b\b\b\b\b\b\b\b\b\b\b\b\b\b\b\b\b\b\b\b\b\b\b\b\b\b\b\b\b\b\b\b\b\b\b\b\b\b\b\b\b\b\b\b\b\b\b\b\b\b\b\b\b\b\b\b\b\b\b\b\b\b\b\b\b\b\b\b\b\b\b\b\b\b\b\b\b\b\r18/18 [==============================] - 2s 146ms/step - loss: 121.2662 - mae: 121.2662 - val_loss: 665.5682 - val_mae: 665.5682\n",
            "Epoch 43/100\n",
            "17/18 [===========================>..] - ETA: 0s - loss: 120.8663 - mae: 120.8663INFO:tensorflow:Assets written to: model_experiments/model_5_LSTM/assets\n"
          ]
        },
        {
          "output_type": "stream",
          "name": "stderr",
          "text": [
            "INFO:tensorflow:Assets written to: model_experiments/model_5_LSTM/assets\n",
            "WARNING:absl:<keras.layers.recurrent.LSTMCell object at 0x7f246d5986d0> has the same name 'LSTMCell' as a built-in Keras object. Consider renaming <class 'keras.layers.recurrent.LSTMCell'> to avoid naming conflicts when loading with `tf.keras.models.load_model`. If renaming is not possible, pass the object in the `custom_objects` parameter of the load function.\n"
          ]
        },
        {
          "output_type": "stream",
          "name": "stdout",
          "text": [
            "\b\b\b\b\b\b\b\b\b\b\b\b\b\b\b\b\b\b\b\b\b\b\b\b\b\b\b\b\b\b\b\b\b\b\b\b\b\b\b\b\b\b\b\b\b\b\b\b\b\b\b\b\b\b\b\b\b\b\b\b\b\b\b\b\b\b\b\b\b\b\b\b\b\b\b\b\b\b\b\b\b\r18/18 [==============================] - 2s 138ms/step - loss: 121.1914 - mae: 121.1914 - val_loss: 663.4371 - val_mae: 663.4371\n",
            "Epoch 44/100\n",
            "18/18 [==============================] - 0s 9ms/step - loss: 121.3492 - mae: 121.3492 - val_loss: 666.4625 - val_mae: 666.4625\n",
            "Epoch 45/100\n",
            "16/18 [=========================>....] - ETA: 0s - loss: 117.9707 - mae: 117.9707INFO:tensorflow:Assets written to: model_experiments/model_5_LSTM/assets\n"
          ]
        },
        {
          "output_type": "stream",
          "name": "stderr",
          "text": [
            "INFO:tensorflow:Assets written to: model_experiments/model_5_LSTM/assets\n",
            "WARNING:absl:<keras.layers.recurrent.LSTMCell object at 0x7f246d5986d0> has the same name 'LSTMCell' as a built-in Keras object. Consider renaming <class 'keras.layers.recurrent.LSTMCell'> to avoid naming conflicts when loading with `tf.keras.models.load_model`. If renaming is not possible, pass the object in the `custom_objects` parameter of the load function.\n"
          ]
        },
        {
          "output_type": "stream",
          "name": "stdout",
          "text": [
            "\b\b\b\b\b\b\b\b\b\b\b\b\b\b\b\b\b\b\b\b\b\b\b\b\b\b\b\b\b\b\b\b\b\b\b\b\b\b\b\b\b\b\b\b\b\b\b\b\b\b\b\b\b\b\b\b\b\b\b\b\b\b\b\b\b\b\b\b\b\b\b\b\b\b\b\b\b\b\b\b\b\r18/18 [==============================] - 3s 162ms/step - loss: 119.4222 - mae: 119.4222 - val_loss: 653.1441 - val_mae: 653.1441\n",
            "Epoch 46/100\n",
            "18/18 [==============================] - ETA: 0s - loss: 119.1475 - mae: 119.1475INFO:tensorflow:Assets written to: model_experiments/model_5_LSTM/assets\n"
          ]
        },
        {
          "output_type": "stream",
          "name": "stderr",
          "text": [
            "INFO:tensorflow:Assets written to: model_experiments/model_5_LSTM/assets\n",
            "WARNING:absl:<keras.layers.recurrent.LSTMCell object at 0x7f246d5986d0> has the same name 'LSTMCell' as a built-in Keras object. Consider renaming <class 'keras.layers.recurrent.LSTMCell'> to avoid naming conflicts when loading with `tf.keras.models.load_model`. If renaming is not possible, pass the object in the `custom_objects` parameter of the load function.\n"
          ]
        },
        {
          "output_type": "stream",
          "name": "stdout",
          "text": [
            "\b\b\b\b\b\b\b\b\b\b\b\b\b\b\b\b\b\b\b\b\b\b\b\b\b\b\b\b\b\b\b\b\b\b\b\b\b\b\b\b\b\b\b\b\b\b\b\b\b\b\b\b\b\b\b\b\b\b\b\b\b\b\b\b\b\b\b\b\b\b\b\b\b\b\b\b\b\b\b\b\b\r18/18 [==============================] - 2s 146ms/step - loss: 119.1475 - mae: 119.1475 - val_loss: 649.3669 - val_mae: 649.3669\n",
            "Epoch 47/100\n",
            "18/18 [==============================] - 0s 9ms/step - loss: 119.5113 - mae: 119.5113 - val_loss: 650.3450 - val_mae: 650.3450\n",
            "Epoch 48/100\n",
            "17/18 [===========================>..] - ETA: 0s - loss: 117.7157 - mae: 117.7157INFO:tensorflow:Assets written to: model_experiments/model_5_LSTM/assets\n"
          ]
        },
        {
          "output_type": "stream",
          "name": "stderr",
          "text": [
            "INFO:tensorflow:Assets written to: model_experiments/model_5_LSTM/assets\n",
            "WARNING:absl:<keras.layers.recurrent.LSTMCell object at 0x7f246d5986d0> has the same name 'LSTMCell' as a built-in Keras object. Consider renaming <class 'keras.layers.recurrent.LSTMCell'> to avoid naming conflicts when loading with `tf.keras.models.load_model`. If renaming is not possible, pass the object in the `custom_objects` parameter of the load function.\n"
          ]
        },
        {
          "output_type": "stream",
          "name": "stdout",
          "text": [
            "\b\b\b\b\b\b\b\b\b\b\b\b\b\b\b\b\b\b\b\b\b\b\b\b\b\b\b\b\b\b\b\b\b\b\b\b\b\b\b\b\b\b\b\b\b\b\b\b\b\b\b\b\b\b\b\b\b\b\b\b\b\b\b\b\b\b\b\b\b\b\b\b\b\b\b\b\b\b\b\b\b\r18/18 [==============================] - 2s 140ms/step - loss: 117.9849 - mae: 117.9849 - val_loss: 643.7015 - val_mae: 643.7015\n",
            "Epoch 49/100\n",
            "18/18 [==============================] - 0s 9ms/step - loss: 117.3458 - mae: 117.3458 - val_loss: 649.1431 - val_mae: 649.1431\n",
            "Epoch 50/100\n",
            "18/18 [==============================] - 0s 9ms/step - loss: 119.0112 - mae: 119.0112 - val_loss: 658.5665 - val_mae: 658.5665\n",
            "Epoch 51/100\n",
            "18/18 [==============================] - 0s 9ms/step - loss: 118.3833 - mae: 118.3833 - val_loss: 673.2418 - val_mae: 673.2418\n",
            "Epoch 52/100\n",
            "18/18 [==============================] - 0s 10ms/step - loss: 118.0016 - mae: 118.0016 - val_loss: 644.5724 - val_mae: 644.5724\n",
            "Epoch 53/100\n",
            "14/18 [======================>.......] - ETA: 0s - loss: 117.6709 - mae: 117.6709INFO:tensorflow:Assets written to: model_experiments/model_5_LSTM/assets\n"
          ]
        },
        {
          "output_type": "stream",
          "name": "stderr",
          "text": [
            "INFO:tensorflow:Assets written to: model_experiments/model_5_LSTM/assets\n",
            "WARNING:absl:<keras.layers.recurrent.LSTMCell object at 0x7f246d5986d0> has the same name 'LSTMCell' as a built-in Keras object. Consider renaming <class 'keras.layers.recurrent.LSTMCell'> to avoid naming conflicts when loading with `tf.keras.models.load_model`. If renaming is not possible, pass the object in the `custom_objects` parameter of the load function.\n"
          ]
        },
        {
          "output_type": "stream",
          "name": "stdout",
          "text": [
            "\b\b\b\b\b\b\b\b\b\b\b\b\b\b\b\b\b\b\b\b\b\b\b\b\b\b\b\b\b\b\b\b\b\b\b\b\b\b\b\b\b\b\b\b\b\b\b\b\b\b\b\b\b\b\b\b\b\b\b\b\b\b\b\b\b\b\b\b\b\b\b\b\b\b\b\b\b\b\b\b\b\r18/18 [==============================] - 2s 135ms/step - loss: 117.5012 - mae: 117.5012 - val_loss: 632.1457 - val_mae: 632.1457\n",
            "Epoch 54/100\n",
            "18/18 [==============================] - 0s 8ms/step - loss: 117.3330 - mae: 117.3330 - val_loss: 637.2055 - val_mae: 637.2055\n",
            "Epoch 55/100\n",
            "18/18 [==============================] - ETA: 0s - loss: 115.8615 - mae: 115.8615INFO:tensorflow:Assets written to: model_experiments/model_5_LSTM/assets\n"
          ]
        },
        {
          "output_type": "stream",
          "name": "stderr",
          "text": [
            "INFO:tensorflow:Assets written to: model_experiments/model_5_LSTM/assets\n",
            "WARNING:absl:<keras.layers.recurrent.LSTMCell object at 0x7f246d5986d0> has the same name 'LSTMCell' as a built-in Keras object. Consider renaming <class 'keras.layers.recurrent.LSTMCell'> to avoid naming conflicts when loading with `tf.keras.models.load_model`. If renaming is not possible, pass the object in the `custom_objects` parameter of the load function.\n"
          ]
        },
        {
          "output_type": "stream",
          "name": "stdout",
          "text": [
            "\b\b\b\b\b\b\b\b\b\b\b\b\b\b\b\b\b\b\b\b\b\b\b\b\b\b\b\b\b\b\b\b\b\b\b\b\b\b\b\b\b\b\b\b\b\b\b\b\b\b\b\b\b\b\b\b\b\b\b\b\b\b\b\b\b\b\b\b\b\b\b\b\b\b\b\b\b\b\b\b\b\r18/18 [==============================] - 3s 162ms/step - loss: 115.8615 - mae: 115.8615 - val_loss: 627.7058 - val_mae: 627.7058\n",
            "Epoch 56/100\n",
            "18/18 [==============================] - 0s 9ms/step - loss: 117.1814 - mae: 117.1814 - val_loss: 648.4813 - val_mae: 648.4813\n",
            "Epoch 57/100\n",
            "18/18 [==============================] - 0s 9ms/step - loss: 125.8361 - mae: 125.8361 - val_loss: 648.9831 - val_mae: 648.9831\n",
            "Epoch 58/100\n",
            "18/18 [==============================] - 0s 9ms/step - loss: 115.4787 - mae: 115.4787 - val_loss: 630.3375 - val_mae: 630.3375\n",
            "Epoch 59/100\n",
            "18/18 [==============================] - 0s 10ms/step - loss: 114.6559 - mae: 114.6559 - val_loss: 628.4244 - val_mae: 628.4244\n",
            "Epoch 60/100\n",
            "17/18 [===========================>..] - ETA: 0s - loss: 113.3809 - mae: 113.3809INFO:tensorflow:Assets written to: model_experiments/model_5_LSTM/assets\n"
          ]
        },
        {
          "output_type": "stream",
          "name": "stderr",
          "text": [
            "INFO:tensorflow:Assets written to: model_experiments/model_5_LSTM/assets\n",
            "WARNING:absl:<keras.layers.recurrent.LSTMCell object at 0x7f246d5986d0> has the same name 'LSTMCell' as a built-in Keras object. Consider renaming <class 'keras.layers.recurrent.LSTMCell'> to avoid naming conflicts when loading with `tf.keras.models.load_model`. If renaming is not possible, pass the object in the `custom_objects` parameter of the load function.\n"
          ]
        },
        {
          "output_type": "stream",
          "name": "stdout",
          "text": [
            "\b\b\b\b\b\b\b\b\b\b\b\b\b\b\b\b\b\b\b\b\b\b\b\b\b\b\b\b\b\b\b\b\b\b\b\b\b\b\b\b\b\b\b\b\b\b\b\b\b\b\b\b\b\b\b\b\b\b\b\b\b\b\b\b\b\b\b\b\b\b\b\b\b\b\b\b\b\b\b\b\b\r18/18 [==============================] - 2s 144ms/step - loss: 114.8021 - mae: 114.8021 - val_loss: 620.0607 - val_mae: 620.0607\n",
            "Epoch 61/100\n",
            "18/18 [==============================] - 0s 10ms/step - loss: 114.3845 - mae: 114.3845 - val_loss: 633.4195 - val_mae: 633.4195\n",
            "Epoch 62/100\n",
            "18/18 [==============================] - 0s 10ms/step - loss: 114.7735 - mae: 114.7735 - val_loss: 653.0529 - val_mae: 653.0529\n",
            "Epoch 63/100\n",
            "18/18 [==============================] - 0s 10ms/step - loss: 118.5447 - mae: 118.5447 - val_loss: 622.3017 - val_mae: 622.3017\n",
            "Epoch 64/100\n",
            "18/18 [==============================] - 0s 10ms/step - loss: 113.3439 - mae: 113.3439 - val_loss: 646.4648 - val_mae: 646.4648\n",
            "Epoch 65/100\n",
            "18/18 [==============================] - 0s 10ms/step - loss: 115.5774 - mae: 115.5774 - val_loss: 621.8207 - val_mae: 621.8207\n",
            "Epoch 66/100\n",
            "18/18 [==============================] - 0s 11ms/step - loss: 113.5758 - mae: 113.5758 - val_loss: 625.8535 - val_mae: 625.8535\n",
            "Epoch 67/100\n",
            "14/18 [======================>.......] - ETA: 0s - loss: 116.1135 - mae: 116.1135INFO:tensorflow:Assets written to: model_experiments/model_5_LSTM/assets\n"
          ]
        },
        {
          "output_type": "stream",
          "name": "stderr",
          "text": [
            "INFO:tensorflow:Assets written to: model_experiments/model_5_LSTM/assets\n",
            "WARNING:absl:<keras.layers.recurrent.LSTMCell object at 0x7f246d5986d0> has the same name 'LSTMCell' as a built-in Keras object. Consider renaming <class 'keras.layers.recurrent.LSTMCell'> to avoid naming conflicts when loading with `tf.keras.models.load_model`. If renaming is not possible, pass the object in the `custom_objects` parameter of the load function.\n"
          ]
        },
        {
          "output_type": "stream",
          "name": "stdout",
          "text": [
            "\b\b\b\b\b\b\b\b\b\b\b\b\b\b\b\b\b\b\b\b\b\b\b\b\b\b\b\b\b\b\b\b\b\b\b\b\b\b\b\b\b\b\b\b\b\b\b\b\b\b\b\b\b\b\b\b\b\b\b\b\b\b\b\b\b\b\b\b\b\b\b\b\b\b\b\b\b\b\b\b\b\r18/18 [==============================] - 3s 147ms/step - loss: 114.3274 - mae: 114.3274 - val_loss: 618.1777 - val_mae: 618.1777\n",
            "Epoch 68/100\n",
            "14/18 [======================>.......] - ETA: 0s - loss: 117.0965 - mae: 117.0965INFO:tensorflow:Assets written to: model_experiments/model_5_LSTM/assets\n"
          ]
        },
        {
          "output_type": "stream",
          "name": "stderr",
          "text": [
            "INFO:tensorflow:Assets written to: model_experiments/model_5_LSTM/assets\n",
            "WARNING:absl:<keras.layers.recurrent.LSTMCell object at 0x7f246d5986d0> has the same name 'LSTMCell' as a built-in Keras object. Consider renaming <class 'keras.layers.recurrent.LSTMCell'> to avoid naming conflicts when loading with `tf.keras.models.load_model`. If renaming is not possible, pass the object in the `custom_objects` parameter of the load function.\n"
          ]
        },
        {
          "output_type": "stream",
          "name": "stdout",
          "text": [
            "\b\b\b\b\b\b\b\b\b\b\b\b\b\b\b\b\b\b\b\b\b\b\b\b\b\b\b\b\b\b\b\b\b\b\b\b\b\b\b\b\b\b\b\b\b\b\b\b\b\b\b\b\b\b\b\b\b\b\b\b\b\b\b\b\b\b\b\b\b\b\b\b\b\b\b\b\b\b\b\b\b\r18/18 [==============================] - 3s 167ms/step - loss: 115.8874 - mae: 115.8874 - val_loss: 610.0667 - val_mae: 610.0667\n",
            "Epoch 69/100\n",
            "18/18 [==============================] - 0s 11ms/step - loss: 118.1946 - mae: 118.1946 - val_loss: 630.6259 - val_mae: 630.6259\n",
            "Epoch 70/100\n",
            "18/18 [==============================] - 0s 10ms/step - loss: 117.6780 - mae: 117.6780 - val_loss: 613.6976 - val_mae: 613.6976\n",
            "Epoch 71/100\n",
            "18/18 [==============================] - 0s 11ms/step - loss: 112.6891 - mae: 112.6891 - val_loss: 628.7469 - val_mae: 628.7469\n",
            "Epoch 72/100\n",
            "18/18 [==============================] - 0s 9ms/step - loss: 115.3159 - mae: 115.3159 - val_loss: 613.3113 - val_mae: 613.3113\n",
            "Epoch 73/100\n",
            "14/18 [======================>.......] - ETA: 0s - loss: 113.5761 - mae: 113.5761INFO:tensorflow:Assets written to: model_experiments/model_5_LSTM/assets\n"
          ]
        },
        {
          "output_type": "stream",
          "name": "stderr",
          "text": [
            "INFO:tensorflow:Assets written to: model_experiments/model_5_LSTM/assets\n",
            "WARNING:absl:<keras.layers.recurrent.LSTMCell object at 0x7f246d5986d0> has the same name 'LSTMCell' as a built-in Keras object. Consider renaming <class 'keras.layers.recurrent.LSTMCell'> to avoid naming conflicts when loading with `tf.keras.models.load_model`. If renaming is not possible, pass the object in the `custom_objects` parameter of the load function.\n"
          ]
        },
        {
          "output_type": "stream",
          "name": "stdout",
          "text": [
            "\b\b\b\b\b\b\b\b\b\b\b\b\b\b\b\b\b\b\b\b\b\b\b\b\b\b\b\b\b\b\b\b\b\b\b\b\b\b\b\b\b\b\b\b\b\b\b\b\b\b\b\b\b\b\b\b\b\b\b\b\b\b\b\b\b\b\b\b\b\b\b\b\b\b\b\b\b\b\b\b\b\r18/18 [==============================] - 3s 148ms/step - loss: 112.2513 - mae: 112.2513 - val_loss: 607.5436 - val_mae: 607.5436\n",
            "Epoch 74/100\n",
            "18/18 [==============================] - 0s 9ms/step - loss: 113.5405 - mae: 113.5405 - val_loss: 612.9193 - val_mae: 612.9193\n",
            "Epoch 75/100\n",
            "18/18 [==============================] - 0s 9ms/step - loss: 114.6243 - mae: 114.6243 - val_loss: 680.9974 - val_mae: 680.9974\n",
            "Epoch 76/100\n",
            "18/18 [==============================] - 0s 9ms/step - loss: 114.3978 - mae: 114.3978 - val_loss: 627.7791 - val_mae: 627.7791\n",
            "Epoch 77/100\n",
            "18/18 [==============================] - 0s 10ms/step - loss: 115.0701 - mae: 115.0701 - val_loss: 677.3135 - val_mae: 677.3135\n",
            "Epoch 78/100\n",
            "18/18 [==============================] - 0s 10ms/step - loss: 115.6408 - mae: 115.6408 - val_loss: 638.9863 - val_mae: 638.9863\n",
            "Epoch 79/100\n",
            "17/18 [===========================>..] - ETA: 0s - loss: 114.2517 - mae: 114.2517INFO:tensorflow:Assets written to: model_experiments/model_5_LSTM/assets\n"
          ]
        },
        {
          "output_type": "stream",
          "name": "stderr",
          "text": [
            "INFO:tensorflow:Assets written to: model_experiments/model_5_LSTM/assets\n",
            "WARNING:absl:<keras.layers.recurrent.LSTMCell object at 0x7f246d5986d0> has the same name 'LSTMCell' as a built-in Keras object. Consider renaming <class 'keras.layers.recurrent.LSTMCell'> to avoid naming conflicts when loading with `tf.keras.models.load_model`. If renaming is not possible, pass the object in the `custom_objects` parameter of the load function.\n"
          ]
        },
        {
          "output_type": "stream",
          "name": "stdout",
          "text": [
            "\b\b\b\b\b\b\b\b\b\b\b\b\b\b\b\b\b\b\b\b\b\b\b\b\b\b\b\b\b\b\b\b\b\b\b\b\b\b\b\b\b\b\b\b\b\b\b\b\b\b\b\b\b\b\b\b\b\b\b\b\b\b\b\b\b\b\b\b\b\b\b\b\b\b\b\b\b\b\b\b\b\r18/18 [==============================] - 2s 141ms/step - loss: 113.8102 - mae: 113.8102 - val_loss: 603.6312 - val_mae: 603.6312\n",
            "Epoch 80/100\n",
            "18/18 [==============================] - 0s 9ms/step - loss: 111.6164 - mae: 111.6164 - val_loss: 621.9382 - val_mae: 621.9382\n",
            "Epoch 81/100\n",
            "18/18 [==============================] - 0s 9ms/step - loss: 111.7110 - mae: 111.7110 - val_loss: 620.0795 - val_mae: 620.0795\n",
            "Epoch 82/100\n",
            "18/18 [==============================] - ETA: 0s - loss: 114.4341 - mae: 114.4341INFO:tensorflow:Assets written to: model_experiments/model_5_LSTM/assets\n"
          ]
        },
        {
          "output_type": "stream",
          "name": "stderr",
          "text": [
            "INFO:tensorflow:Assets written to: model_experiments/model_5_LSTM/assets\n",
            "WARNING:absl:<keras.layers.recurrent.LSTMCell object at 0x7f246d5986d0> has the same name 'LSTMCell' as a built-in Keras object. Consider renaming <class 'keras.layers.recurrent.LSTMCell'> to avoid naming conflicts when loading with `tf.keras.models.load_model`. If renaming is not possible, pass the object in the `custom_objects` parameter of the load function.\n"
          ]
        },
        {
          "output_type": "stream",
          "name": "stdout",
          "text": [
            "\b\b\b\b\b\b\b\b\b\b\b\b\b\b\b\b\b\b\b\b\b\b\b\b\b\b\b\b\b\b\b\b\b\b\b\b\b\b\b\b\b\b\b\b\b\b\b\b\b\b\b\b\b\b\b\b\b\b\b\b\b\b\b\b\b\b\b\b\b\b\b\b\b\b\b\b\b\b\b\b\b\r18/18 [==============================] - 2s 133ms/step - loss: 114.4341 - mae: 114.4341 - val_loss: 598.3356 - val_mae: 598.3356\n",
            "Epoch 83/100\n",
            "18/18 [==============================] - 0s 9ms/step - loss: 112.8585 - mae: 112.8585 - val_loss: 607.5803 - val_mae: 607.5803\n",
            "Epoch 84/100\n",
            "18/18 [==============================] - 0s 8ms/step - loss: 111.8406 - mae: 111.8406 - val_loss: 602.6411 - val_mae: 602.6411\n",
            "Epoch 85/100\n",
            "18/18 [==============================] - 0s 10ms/step - loss: 111.2613 - mae: 111.2613 - val_loss: 627.6544 - val_mae: 627.6544\n",
            "Epoch 86/100\n",
            "18/18 [==============================] - 0s 9ms/step - loss: 113.9645 - mae: 113.9645 - val_loss: 619.5224 - val_mae: 619.5224\n",
            "Epoch 87/100\n",
            "16/18 [=========================>....] - ETA: 0s - loss: 114.0054 - mae: 114.0054INFO:tensorflow:Assets written to: model_experiments/model_5_LSTM/assets\n"
          ]
        },
        {
          "output_type": "stream",
          "name": "stderr",
          "text": [
            "INFO:tensorflow:Assets written to: model_experiments/model_5_LSTM/assets\n",
            "WARNING:absl:<keras.layers.recurrent.LSTMCell object at 0x7f246d5986d0> has the same name 'LSTMCell' as a built-in Keras object. Consider renaming <class 'keras.layers.recurrent.LSTMCell'> to avoid naming conflicts when loading with `tf.keras.models.load_model`. If renaming is not possible, pass the object in the `custom_objects` parameter of the load function.\n"
          ]
        },
        {
          "output_type": "stream",
          "name": "stdout",
          "text": [
            "\b\b\b\b\b\b\b\b\b\b\b\b\b\b\b\b\b\b\b\b\b\b\b\b\b\b\b\b\b\b\b\b\b\b\b\b\b\b\b\b\b\b\b\b\b\b\b\b\b\b\b\b\b\b\b\b\b\b\b\b\b\b\b\b\b\b\b\b\b\b\b\b\b\b\b\b\b\b\b\b\b\r18/18 [==============================] - 3s 162ms/step - loss: 113.8286 - mae: 113.8286 - val_loss: 598.2933 - val_mae: 598.2933\n",
            "Epoch 88/100\n",
            "16/18 [=========================>....] - ETA: 0s - loss: 113.1223 - mae: 113.1223INFO:tensorflow:Assets written to: model_experiments/model_5_LSTM/assets\n"
          ]
        },
        {
          "output_type": "stream",
          "name": "stderr",
          "text": [
            "INFO:tensorflow:Assets written to: model_experiments/model_5_LSTM/assets\n",
            "WARNING:absl:<keras.layers.recurrent.LSTMCell object at 0x7f246d5986d0> has the same name 'LSTMCell' as a built-in Keras object. Consider renaming <class 'keras.layers.recurrent.LSTMCell'> to avoid naming conflicts when loading with `tf.keras.models.load_model`. If renaming is not possible, pass the object in the `custom_objects` parameter of the load function.\n"
          ]
        },
        {
          "output_type": "stream",
          "name": "stdout",
          "text": [
            "\b\b\b\b\b\b\b\b\b\b\b\b\b\b\b\b\b\b\b\b\b\b\b\b\b\b\b\b\b\b\b\b\b\b\b\b\b\b\b\b\b\b\b\b\b\b\b\b\b\b\b\b\b\b\b\b\b\b\b\b\b\b\b\b\b\b\b\b\b\b\b\b\b\b\b\b\b\b\b\b\b\r18/18 [==============================] - 2s 137ms/step - loss: 110.8448 - mae: 110.8448 - val_loss: 596.0640 - val_mae: 596.0640\n",
            "Epoch 89/100\n",
            "18/18 [==============================] - 0s 9ms/step - loss: 111.0922 - mae: 111.0922 - val_loss: 630.6047 - val_mae: 630.6047\n",
            "Epoch 90/100\n",
            "18/18 [==============================] - 0s 9ms/step - loss: 115.8214 - mae: 115.8214 - val_loss: 680.3810 - val_mae: 680.3810\n",
            "Epoch 91/100\n",
            "18/18 [==============================] - 0s 8ms/step - loss: 116.0425 - mae: 116.0425 - val_loss: 632.1270 - val_mae: 632.1270\n",
            "Epoch 92/100\n",
            "18/18 [==============================] - ETA: 0s - loss: 111.9858 - mae: 111.9858INFO:tensorflow:Assets written to: model_experiments/model_5_LSTM/assets\n"
          ]
        },
        {
          "output_type": "stream",
          "name": "stderr",
          "text": [
            "INFO:tensorflow:Assets written to: model_experiments/model_5_LSTM/assets\n",
            "WARNING:absl:<keras.layers.recurrent.LSTMCell object at 0x7f246d5986d0> has the same name 'LSTMCell' as a built-in Keras object. Consider renaming <class 'keras.layers.recurrent.LSTMCell'> to avoid naming conflicts when loading with `tf.keras.models.load_model`. If renaming is not possible, pass the object in the `custom_objects` parameter of the load function.\n"
          ]
        },
        {
          "output_type": "stream",
          "name": "stdout",
          "text": [
            "\b\b\b\b\b\b\b\b\b\b\b\b\b\b\b\b\b\b\b\b\b\b\b\b\b\b\b\b\b\b\b\b\b\b\b\b\b\b\b\b\b\b\b\b\b\b\b\b\b\b\b\b\b\b\b\b\b\b\b\b\b\b\b\b\b\b\b\b\b\b\b\b\b\b\b\b\b\b\b\b\b\r18/18 [==============================] - 2s 134ms/step - loss: 111.9858 - mae: 111.9858 - val_loss: 596.0399 - val_mae: 596.0399\n",
            "Epoch 93/100\n",
            "18/18 [==============================] - 0s 10ms/step - loss: 111.9554 - mae: 111.9554 - val_loss: 601.6699 - val_mae: 601.6699\n",
            "Epoch 94/100\n",
            "18/18 [==============================] - 0s 8ms/step - loss: 110.7805 - mae: 110.7805 - val_loss: 605.7480 - val_mae: 605.7480\n",
            "Epoch 95/100\n",
            "18/18 [==============================] - ETA: 0s - loss: 110.1889 - mae: 110.1889INFO:tensorflow:Assets written to: model_experiments/model_5_LSTM/assets\n"
          ]
        },
        {
          "output_type": "stream",
          "name": "stderr",
          "text": [
            "INFO:tensorflow:Assets written to: model_experiments/model_5_LSTM/assets\n",
            "WARNING:absl:<keras.layers.recurrent.LSTMCell object at 0x7f246d5986d0> has the same name 'LSTMCell' as a built-in Keras object. Consider renaming <class 'keras.layers.recurrent.LSTMCell'> to avoid naming conflicts when loading with `tf.keras.models.load_model`. If renaming is not possible, pass the object in the `custom_objects` parameter of the load function.\n"
          ]
        },
        {
          "output_type": "stream",
          "name": "stdout",
          "text": [
            "\b\b\b\b\b\b\b\b\b\b\b\b\b\b\b\b\b\b\b\b\b\b\b\b\b\b\b\b\b\b\b\b\b\b\b\b\b\b\b\b\b\b\b\b\b\b\b\b\b\b\b\b\b\b\b\b\b\b\b\b\b\b\b\b\b\b\b\b\b\b\b\b\b\b\b\b\b\b\b\b\b\r18/18 [==============================] - 2s 134ms/step - loss: 110.1889 - mae: 110.1889 - val_loss: 594.1672 - val_mae: 594.1672\n",
            "Epoch 96/100\n",
            "18/18 [==============================] - 0s 10ms/step - loss: 112.3372 - mae: 112.3372 - val_loss: 601.4485 - val_mae: 601.4485\n",
            "Epoch 97/100\n",
            "18/18 [==============================] - 0s 8ms/step - loss: 110.8521 - mae: 110.8521 - val_loss: 625.3636 - val_mae: 625.3636\n",
            "Epoch 98/100\n",
            "16/18 [=========================>....] - ETA: 0s - loss: 112.4198 - mae: 112.4198INFO:tensorflow:Assets written to: model_experiments/model_5_LSTM/assets\n"
          ]
        },
        {
          "output_type": "stream",
          "name": "stderr",
          "text": [
            "INFO:tensorflow:Assets written to: model_experiments/model_5_LSTM/assets\n",
            "WARNING:absl:<keras.layers.recurrent.LSTMCell object at 0x7f246d5986d0> has the same name 'LSTMCell' as a built-in Keras object. Consider renaming <class 'keras.layers.recurrent.LSTMCell'> to avoid naming conflicts when loading with `tf.keras.models.load_model`. If renaming is not possible, pass the object in the `custom_objects` parameter of the load function.\n"
          ]
        },
        {
          "output_type": "stream",
          "name": "stdout",
          "text": [
            "\b\b\b\b\b\b\b\b\b\b\b\b\b\b\b\b\b\b\b\b\b\b\b\b\b\b\b\b\b\b\b\b\b\b\b\b\b\b\b\b\b\b\b\b\b\b\b\b\b\b\b\b\b\b\b\b\b\b\b\b\b\b\b\b\b\b\b\b\b\b\b\b\b\b\b\b\b\b\b\b\b\r18/18 [==============================] - 3s 159ms/step - loss: 110.8161 - mae: 110.8161 - val_loss: 594.1018 - val_mae: 594.1018\n",
            "Epoch 99/100\n",
            "17/18 [===========================>..] - ETA: 0s - loss: 110.2074 - mae: 110.2074INFO:tensorflow:Assets written to: model_experiments/model_5_LSTM/assets\n"
          ]
        },
        {
          "output_type": "stream",
          "name": "stderr",
          "text": [
            "INFO:tensorflow:Assets written to: model_experiments/model_5_LSTM/assets\n",
            "WARNING:absl:<keras.layers.recurrent.LSTMCell object at 0x7f246d5986d0> has the same name 'LSTMCell' as a built-in Keras object. Consider renaming <class 'keras.layers.recurrent.LSTMCell'> to avoid naming conflicts when loading with `tf.keras.models.load_model`. If renaming is not possible, pass the object in the `custom_objects` parameter of the load function.\n"
          ]
        },
        {
          "output_type": "stream",
          "name": "stdout",
          "text": [
            "\b\b\b\b\b\b\b\b\b\b\b\b\b\b\b\b\b\b\b\b\b\b\b\b\b\b\b\b\b\b\b\b\b\b\b\b\b\b\b\b\b\b\b\b\b\b\b\b\b\b\b\b\b\b\b\b\b\b\b\b\b\b\b\b\b\b\b\b\b\b\b\b\b\b\b\b\b\b\b\b\b\r18/18 [==============================] - 2s 131ms/step - loss: 109.7159 - mae: 109.7159 - val_loss: 591.6655 - val_mae: 591.6655\n",
            "Epoch 100/100\n",
            "18/18 [==============================] - 0s 9ms/step - loss: 112.6171 - mae: 112.6171 - val_loss: 594.9865 - val_mae: 594.9865\n"
          ]
        },
        {
          "output_type": "execute_result",
          "data": {
            "text/plain": [
              "<keras.callbacks.History at 0x7f2473749a50>"
            ]
          },
          "metadata": {},
          "execution_count": 98
        }
      ]
    },
    {
      "cell_type": "code",
      "source": [
        "# Load in best version of model_5 and evaluate on test data\n",
        "model_5 = tf.keras.models.load_model(\"model_experiments/model_5_LSTM\")\n",
        "model_5.evaluate(test_windows, test_labels)"
      ],
      "metadata": {
        "colab": {
          "base_uri": "https://localhost:8080/"
        },
        "id": "6O9SdGrpvr2Y",
        "outputId": "cf1b4cfa-4a7a-4278-fccb-86b76090c1af"
      },
      "execution_count": 99,
      "outputs": [
        {
          "output_type": "stream",
          "name": "stdout",
          "text": [
            "18/18 [==============================] - 0s 2ms/step - loss: 591.6655 - mae: 591.6655\n"
          ]
        },
        {
          "output_type": "execute_result",
          "data": {
            "text/plain": [
              "[591.6654663085938, 591.6654663085938]"
            ]
          },
          "metadata": {},
          "execution_count": 99
        }
      ]
    },
    {
      "cell_type": "code",
      "source": [
        "# Make predictions\n",
        "model_5_preds = make_preds(model_5, test_windows)\n",
        "model_5_preds[:5]"
      ],
      "metadata": {
        "colab": {
          "base_uri": "https://localhost:8080/"
        },
        "id": "YfBY1xNUxdx3",
        "outputId": "50d3f803-1256-4e2d-bdf3-746afd7cb3cc"
      },
      "execution_count": 100,
      "outputs": [
        {
          "output_type": "execute_result",
          "data": {
            "text/plain": [
              "<tf.Tensor: shape=(5,), dtype=float32, numpy=array([8970.957, 8815.352, 9026.793, 8831.478, 8736.686], dtype=float32)>"
            ]
          },
          "metadata": {},
          "execution_count": 100
        }
      ]
    },
    {
      "cell_type": "code",
      "source": [
        "# Evaluate model_5 predictions\n",
        "model_5_results = evaluate_preds(\n",
        "    y_true=tf.squeeze(test_labels), \n",
        "    y_pred=model_5_preds)\n",
        "model_5_results"
      ],
      "metadata": {
        "colab": {
          "base_uri": "https://localhost:8080/"
        },
        "id": "4UBA7ffrxm3n",
        "outputId": "d9fda5ea-b5d3-40ab-f5ce-53224ecf794b"
      },
      "execution_count": 101,
      "outputs": [
        {
          "output_type": "execute_result",
          "data": {
            "text/plain": [
              "{'mae': 591.6655,\n",
              " 'mape': 2.66558,\n",
              " 'mase': 1.0393925,\n",
              " 'mse': 1250831.5,\n",
              " 'rmse': 1118.4058}"
            ]
          },
          "metadata": {},
          "execution_count": 101
        }
      ]
    },
    {
      "cell_type": "code",
      "source": [
        "model_1_results"
      ],
      "metadata": {
        "colab": {
          "base_uri": "https://localhost:8080/"
        },
        "id": "K74rGgiUxwLn",
        "outputId": "e286a50c-90b0-41c7-82fb-38c410e8e70b"
      },
      "execution_count": 102,
      "outputs": [
        {
          "output_type": "execute_result",
          "data": {
            "text/plain": [
              "{'mae': 568.5498,\n",
              " 'mape': 2.549229,\n",
              " 'mase': 0.99878454,\n",
              " 'mse': 1172587.6,\n",
              " 'rmse': 1082.8608}"
            ]
          },
          "metadata": {},
          "execution_count": 102
        }
      ]
    },
    {
      "cell_type": "markdown",
      "source": [
        "> 🔑 **Note:** Because neural networks are such powerful algorithms, they can be used for almost any problem, however, that doesn't mean they'll achieve performant or usable results. You're probably starting to clue onto this now."
      ],
      "metadata": {
        "id": "_eM_y_PT9GHc"
      }
    },
    {
      "cell_type": "code",
      "source": [
        "naive_results"
      ],
      "metadata": {
        "id": "oSMdAIBNx0H2",
        "colab": {
          "base_uri": "https://localhost:8080/"
        },
        "outputId": "924f150c-30d6-4318-e5cf-fa8358a022ac"
      },
      "execution_count": 104,
      "outputs": [
        {
          "output_type": "execute_result",
          "data": {
            "text/plain": [
              "{'mae': 567.9802,\n",
              " 'mape': 2.5165248,\n",
              " 'mase': 0.99957,\n",
              " 'mse': 1147547.0,\n",
              " 'rmse': 1071.2362}"
            ]
          },
          "metadata": {},
          "execution_count": 104
        }
      ]
    },
    {
      "cell_type": "markdown",
      "source": [
        "## Make a multivariate timeseries dataset\n",
        "\n",
        "Before we add a feature to our time series, what is a feautre we can use?\n",
        "\n",
        "One feature we could add is whether or not Daniel Bourke tweeted on that day ...\n",
        "\n",
        "* day 1 - 0\n",
        "* day 2 - 1\n",
        "* day 3 - 0\n",
        "\n",
        "What's a better feature to use?\n",
        "\n",
        "How about the Bitcoin halving events?"
      ],
      "metadata": {
        "id": "uTlVw0sj9pL_"
      }
    },
    {
      "cell_type": "code",
      "source": [
        "# Let's make a multivariate time series\n",
        "bitcoin_prices.head()"
      ],
      "metadata": {
        "colab": {
          "base_uri": "https://localhost:8080/",
          "height": 238
        },
        "id": "OUAOKZD-9eh6",
        "outputId": "343f97ee-1ff4-42f4-a306-e55161d41479"
      },
      "execution_count": 105,
      "outputs": [
        {
          "output_type": "execute_result",
          "data": {
            "text/plain": [
              "                Price\n",
              "Date                 \n",
              "2013-10-01  123.65499\n",
              "2013-10-02  125.45500\n",
              "2013-10-03  108.58483\n",
              "2013-10-04  118.67466\n",
              "2013-10-05  121.33866"
            ],
            "text/html": [
              "\n",
              "  <div id=\"df-7c99cd7f-c4be-487c-a715-546fe9115648\">\n",
              "    <div class=\"colab-df-container\">\n",
              "      <div>\n",
              "<style scoped>\n",
              "    .dataframe tbody tr th:only-of-type {\n",
              "        vertical-align: middle;\n",
              "    }\n",
              "\n",
              "    .dataframe tbody tr th {\n",
              "        vertical-align: top;\n",
              "    }\n",
              "\n",
              "    .dataframe thead th {\n",
              "        text-align: right;\n",
              "    }\n",
              "</style>\n",
              "<table border=\"1\" class=\"dataframe\">\n",
              "  <thead>\n",
              "    <tr style=\"text-align: right;\">\n",
              "      <th></th>\n",
              "      <th>Price</th>\n",
              "    </tr>\n",
              "    <tr>\n",
              "      <th>Date</th>\n",
              "      <th></th>\n",
              "    </tr>\n",
              "  </thead>\n",
              "  <tbody>\n",
              "    <tr>\n",
              "      <th>2013-10-01</th>\n",
              "      <td>123.65499</td>\n",
              "    </tr>\n",
              "    <tr>\n",
              "      <th>2013-10-02</th>\n",
              "      <td>125.45500</td>\n",
              "    </tr>\n",
              "    <tr>\n",
              "      <th>2013-10-03</th>\n",
              "      <td>108.58483</td>\n",
              "    </tr>\n",
              "    <tr>\n",
              "      <th>2013-10-04</th>\n",
              "      <td>118.67466</td>\n",
              "    </tr>\n",
              "    <tr>\n",
              "      <th>2013-10-05</th>\n",
              "      <td>121.33866</td>\n",
              "    </tr>\n",
              "  </tbody>\n",
              "</table>\n",
              "</div>\n",
              "      <button class=\"colab-df-convert\" onclick=\"convertToInteractive('df-7c99cd7f-c4be-487c-a715-546fe9115648')\"\n",
              "              title=\"Convert this dataframe to an interactive table.\"\n",
              "              style=\"display:none;\">\n",
              "        \n",
              "  <svg xmlns=\"http://www.w3.org/2000/svg\" height=\"24px\"viewBox=\"0 0 24 24\"\n",
              "       width=\"24px\">\n",
              "    <path d=\"M0 0h24v24H0V0z\" fill=\"none\"/>\n",
              "    <path d=\"M18.56 5.44l.94 2.06.94-2.06 2.06-.94-2.06-.94-.94-2.06-.94 2.06-2.06.94zm-11 1L8.5 8.5l.94-2.06 2.06-.94-2.06-.94L8.5 2.5l-.94 2.06-2.06.94zm10 10l.94 2.06.94-2.06 2.06-.94-2.06-.94-.94-2.06-.94 2.06-2.06.94z\"/><path d=\"M17.41 7.96l-1.37-1.37c-.4-.4-.92-.59-1.43-.59-.52 0-1.04.2-1.43.59L10.3 9.45l-7.72 7.72c-.78.78-.78 2.05 0 2.83L4 21.41c.39.39.9.59 1.41.59.51 0 1.02-.2 1.41-.59l7.78-7.78 2.81-2.81c.8-.78.8-2.07 0-2.86zM5.41 20L4 18.59l7.72-7.72 1.47 1.35L5.41 20z\"/>\n",
              "  </svg>\n",
              "      </button>\n",
              "      \n",
              "  <style>\n",
              "    .colab-df-container {\n",
              "      display:flex;\n",
              "      flex-wrap:wrap;\n",
              "      gap: 12px;\n",
              "    }\n",
              "\n",
              "    .colab-df-convert {\n",
              "      background-color: #E8F0FE;\n",
              "      border: none;\n",
              "      border-radius: 50%;\n",
              "      cursor: pointer;\n",
              "      display: none;\n",
              "      fill: #1967D2;\n",
              "      height: 32px;\n",
              "      padding: 0 0 0 0;\n",
              "      width: 32px;\n",
              "    }\n",
              "\n",
              "    .colab-df-convert:hover {\n",
              "      background-color: #E2EBFA;\n",
              "      box-shadow: 0px 1px 2px rgba(60, 64, 67, 0.3), 0px 1px 3px 1px rgba(60, 64, 67, 0.15);\n",
              "      fill: #174EA6;\n",
              "    }\n",
              "\n",
              "    [theme=dark] .colab-df-convert {\n",
              "      background-color: #3B4455;\n",
              "      fill: #D2E3FC;\n",
              "    }\n",
              "\n",
              "    [theme=dark] .colab-df-convert:hover {\n",
              "      background-color: #434B5C;\n",
              "      box-shadow: 0px 1px 3px 1px rgba(0, 0, 0, 0.15);\n",
              "      filter: drop-shadow(0px 1px 2px rgba(0, 0, 0, 0.3));\n",
              "      fill: #FFFFFF;\n",
              "    }\n",
              "  </style>\n",
              "\n",
              "      <script>\n",
              "        const buttonEl =\n",
              "          document.querySelector('#df-7c99cd7f-c4be-487c-a715-546fe9115648 button.colab-df-convert');\n",
              "        buttonEl.style.display =\n",
              "          google.colab.kernel.accessAllowed ? 'block' : 'none';\n",
              "\n",
              "        async function convertToInteractive(key) {\n",
              "          const element = document.querySelector('#df-7c99cd7f-c4be-487c-a715-546fe9115648');\n",
              "          const dataTable =\n",
              "            await google.colab.kernel.invokeFunction('convertToInteractive',\n",
              "                                                     [key], {});\n",
              "          if (!dataTable) return;\n",
              "\n",
              "          const docLinkHtml = 'Like what you see? Visit the ' +\n",
              "            '<a target=\"_blank\" href=https://colab.research.google.com/notebooks/data_table.ipynb>data table notebook</a>'\n",
              "            + ' to learn more about interactive tables.';\n",
              "          element.innerHTML = '';\n",
              "          dataTable['output_type'] = 'display_data';\n",
              "          await google.colab.output.renderOutput(dataTable, element);\n",
              "          const docLink = document.createElement('div');\n",
              "          docLink.innerHTML = docLinkHtml;\n",
              "          element.appendChild(docLink);\n",
              "        }\n",
              "      </script>\n",
              "    </div>\n",
              "  </div>\n",
              "  "
            ]
          },
          "metadata": {},
          "execution_count": 105
        }
      ]
    },
    {
      "cell_type": "code",
      "source": [
        "# Let's add the bitcoin halving events to this dataset\n",
        "block_reward_1 = 50 # 3 Jan 2009 - this block reward isn't in our dataset (starts 2013)\n",
        "block_reward_2 = 25 # 28 Nov 2012 - not included, too\n",
        "block_reward_3 = 12.5 # 9 Jul 2016\n",
        "block_reward_4 = 6.25 # 18 May 2020\n",
        "\n",
        "# Block reward dates\n",
        "block_reward_2_datetime = np.datetime64(\"2012-11-28\")\n",
        "block_reward_3_datetime = np.datetime64(\"2016-07-09\")\n",
        "block_reward_4_datetime = np.datetime64(\"2020-05-18\")"
      ],
      "metadata": {
        "id": "n8gDTiuL_Uo6"
      },
      "execution_count": 112,
      "outputs": []
    },
    {
      "cell_type": "code",
      "source": [
        "# Create date ranges of where specific block_reward values should be\n",
        "block_reward_2_days = (block_reward_3_datetime - bitcoin_prices.index[0]).days\n",
        "block_reward_3_days = (block_reward_4_datetime - bitcoin_prices.index[0]).days\n",
        "block_reward_2_days, block_reward_3_days"
      ],
      "metadata": {
        "colab": {
          "base_uri": "https://localhost:8080/"
        },
        "id": "TfcpDmTc_68a",
        "outputId": "bc834bde-8680-4608-ad04-d80d2243eab0"
      },
      "execution_count": 113,
      "outputs": [
        {
          "output_type": "execute_result",
          "data": {
            "text/plain": [
              "(1012, 2421)"
            ]
          },
          "metadata": {},
          "execution_count": 113
        }
      ]
    },
    {
      "cell_type": "code",
      "source": [
        "# Add in a block_reward column\n",
        "bitcoin_prices_block = bitcoin_prices.copy()\n",
        "bitcoin_prices_block[\"block_reward\"] = None\n",
        "\n",
        "# Add in block_reward values as a feature to our dataframe\n",
        "bitcoin_prices_block.iloc[:block_reward_2_days, -1] = block_reward_2\n",
        "bitcoin_prices_block.iloc[block_reward_2_days:block_reward_3_days, -1] = block_reward_3\n",
        "bitcoin_prices_block.iloc[block_reward_3_days:, -1] = block_reward_4\n",
        "\n",
        "bitcoin_prices_block.head(), bitcoin_prices_block.tail()"
      ],
      "metadata": {
        "colab": {
          "base_uri": "https://localhost:8080/"
        },
        "id": "N4AWtsa-AogJ",
        "outputId": "dbacfe56-b575-4055-9c18-fc3acec78da7"
      },
      "execution_count": 120,
      "outputs": [
        {
          "output_type": "execute_result",
          "data": {
            "text/plain": [
              "(                Price block_reward\n",
              " Date                              \n",
              " 2013-10-01  123.65499           25\n",
              " 2013-10-02  125.45500           25\n",
              " 2013-10-03  108.58483           25\n",
              " 2013-10-04  118.67466           25\n",
              " 2013-10-05  121.33866           25,                    Price block_reward\n",
              " Date                                 \n",
              " 2021-05-14  49764.132082         6.25\n",
              " 2021-05-15  50032.693137         6.25\n",
              " 2021-05-16  47885.625255         6.25\n",
              " 2021-05-17  45604.615754         6.25\n",
              " 2021-05-18  43144.471291         6.25)"
            ]
          },
          "metadata": {},
          "execution_count": 120
        }
      ]
    },
    {
      "cell_type": "code",
      "source": [
        "# Plot the block reward vs price over time\n",
        "from sklearn.preprocessing import minmax_scale\n",
        "scaled_price_block_df = pd.DataFrame(minmax_scale(bitcoin_prices_block[[\"Price\", \"block_reward\"]]),\n",
        "                                     columns=bitcoin_prices_block.columns,\n",
        "                                     index=bitcoin_prices_block.index)\n",
        "scaled_price_block_df.plot(figsize=(10, 7))"
      ],
      "metadata": {
        "colab": {
          "base_uri": "https://localhost:8080/",
          "height": 459
        },
        "id": "Cvs7M2QwBsJJ",
        "outputId": "a9f567ff-2294-4330-954f-5811451a9ca2"
      },
      "execution_count": 128,
      "outputs": [
        {
          "output_type": "execute_result",
          "data": {
            "text/plain": [
              "<matplotlib.axes._subplots.AxesSubplot at 0x7f2470a96050>"
            ]
          },
          "metadata": {},
          "execution_count": 128
        },
        {
          "output_type": "display_data",
          "data": {
            "text/plain": [
              "<Figure size 720x504 with 1 Axes>"
            ],
            "image/png": "[encoded data removed]"
          },
          "metadata": {
            "needs_background": "light"
          }
        }
      ]
    },
    {
      "cell_type": "code",
      "source": [
        ""
      ],
      "metadata": {
        "id": "8ELOP6EVCeMH"
      },
      "execution_count": null,
      "outputs": []
    }
  ]
}