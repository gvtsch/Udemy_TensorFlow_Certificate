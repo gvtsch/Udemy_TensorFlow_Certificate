{
 "cells": [
  {
   "cell_type": "markdown",
   "metadata": {},
   "source": [
    ">🔑 **Note:** Hyperparameter\n",
    "* Input layer shape: Same shape as number of features(e.g. # bedrooms, # bathrooms, ...)\n",
    "* Hidden layer(s): Problem specific, minimum = 1, maximum = unlimited\n",
    "* Neurons per hidden layer: Problem specific, generally 10 to 100\n",
    "* Output layer shape: Same shape as desired prediction shape\n",
    "* Hidden activation: Usually ReLU\n",
    "* Output activation: None, ReLU, tanh\n",
    "* Loss function: MSE, MAE\n",
    "* Optimizer: SGD, Adam, ..."
   ]
  },
  {
   "cell_type": "code",
   "execution_count": null,
   "metadata": {},
   "outputs": [],
   "source": []
  }
 ],
 "metadata": {
  "interpreter": {
   "hash": "ad6c57515631d9bb109eb499b4bb1ec6f506277a5ee28599dfb5ae2805d1ee5a"
  },
  "kernelspec": {
   "display_name": "Python 3.9.12 ('tf_udemy')",
   "language": "python",
   "name": "python3"
  },
  "language_info": {
   "name": "python",
   "version": "3.9.12"
  },
  "orig_nbformat": 4
 },
 "nbformat": 4,
 "nbformat_minor": 2
}
