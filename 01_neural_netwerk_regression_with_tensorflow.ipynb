{
 "cells": [
  {
   "cell_type": "markdown",
   "metadata": {},
   "source": [
    "# Introduction to Regression with Neural Networks in TensorFlow\n",
    "\n",
    "There are many definitions for regression problem but in our case, we're going to simplify it: predicting a numerical variable based on some other combination of variables, even shorter ... predicting a number"
   ]
  },
  {
   "cell_type": "markdown",
   "metadata": {},
   "source": [
    ">🔑 **Note:** Hyperparameter\n",
    "* Input layer shape: Same shape as number of features(e.g. # bedrooms, # bathrooms, ...)\n",
    "* Hidden layer(s): Problem specific, minimum = 1, maximum = unlimited\n",
    "* Neurons per hidden layer: Problem specific, generally 10 to 100\n",
    "* Output layer shape: Same shape as desired prediction shape\n",
    "* Hidden activation: Usually ReLU\n",
    "* Output activation: None, ReLU, tanh\n",
    "* Loss function: MSE, MAE\n",
    "* Optimizer: SGD, Adam, ..."
   ]
  },
  {
   "cell_type": "code",
   "execution_count": 1,
   "metadata": {},
   "outputs": [
    {
     "name": "stdout",
     "output_type": "stream",
     "text": [
      "2.6.3\n"
     ]
    },
    {
     "data": {
      "text/plain": [
       "[PhysicalDevice(name='/physical_device:GPU:0', device_type='GPU')]"
      ]
     },
     "execution_count": 1,
     "metadata": {},
     "output_type": "execute_result"
    }
   ],
   "source": [
    "# Import TensorFlow\n",
    "import tensorflow as tf\n",
    "print(tf.__version__)\n",
    "tf.config.list_physical_devices(\"GPU\")"
   ]
  },
  {
   "cell_type": "markdown",
   "metadata": {},
   "source": [
    "# Creating some data to view and to fit"
   ]
  },
  {
   "cell_type": "code",
   "execution_count": 2,
   "metadata": {},
   "outputs": [
    {
     "data": {
      "text/plain": [
       "<matplotlib.collections.PathCollection at 0x26436f41610>"
      ]
     },
     "execution_count": 2,
     "metadata": {},
     "output_type": "execute_result"
    },
    {
     "data": {
      "image/png": "[encoded data removed]",
      "image/svg+xml": "<?xml version=\"1.0\" encoding=\"utf-8\" standalone=\"no\"?>\n<!DOCTYPE svg PUBLIC \"-//W3C//DTD SVG 1.1//EN\"\n  \"http://www.w3.org/Graphics/SVG/1.1/DTD/svg11.dtd\">\n<svg xmlns:xlink=\"http://www.w3.org/1999/xlink\" width=\"374.562825pt\" height=\"251.846694pt\" viewBox=\"0 0 374.562825 251.846694\" xmlns=\"http://www.w3.org/2000/svg\" version=\"1.1\">\n <metadata>\n  <rdf:RDF xmlns:dc=\"http://purl.org/dc/elements/1.1/\" xmlns:cc=\"http://creativecommons.org/ns#\" xmlns:rdf=\"http://www.w3.org/1999/02/22-rdf-syntax-ns#\">\n   <cc:Work>\n    <dc:type rdf:resource=\"http://purl.org/dc/dcmitype/StillImage\"/>\n    <dc:date>2022-05-10T09:38:24.276906</dc:date>\n    <dc:format>image/svg+xml</dc:format>\n    <dc:creator>\n     <cc:Agent>\n      <dc:title>Matplotlib v3.5.1, https://matplotlib.org/</dc:title>\n     </cc:Agent>\n    </dc:creator>\n   </cc:Work>\n  </rdf:RDF>\n </metadata>\n <defs>\n  <style type=\"text/css\">*{stroke-linejoin: round; stroke-linecap: butt}</style>\n </defs>\n <g id=\"figure_1\">\n  <g id=\"patch_1\">\n   <path d=\"M -0 251.846694 \nL 374.562825 251.846694 \nL 374.562825 0 \nL -0 0 \nz\n\"/>\n  </g>\n  <g id=\"axes_1\">\n   <g id=\"patch_2\">\n    <path d=\"M 26.925 227.968569 \nL 361.725 227.968569 \nL 361.725 10.528569 \nL 26.925 10.528569 \nz\n\"/>\n   </g>\n   <g id=\"PathCollection_1\">\n    <defs>\n     <path id=\"mdc47c90fbf\" d=\"M 0 3 \nC 0.795609 3 1.55874 2.683901 2.12132 2.12132 \nC 2.683901 1.55874 3 0.795609 3 0 \nC 3 -0.795609 2.683901 -1.55874 2.12132 -2.12132 \nC 1.55874 -2.683901 0.795609 -3 0 -3 \nC -0.795609 -3 -1.55874 -2.683901 -2.12132 -2.12132 \nC -2.683901 -1.55874 -3 -0.795609 -3 0 \nC -3 0.795609 -2.683901 1.55874 -2.12132 2.12132 \nC -1.55874 2.683901 -0.795609 3 0 3 \nz\n\" style=\"stroke: #8dd3c7\"/>\n    </defs>\n    <g clip-path=\"url(#pa425c4557e)\">\n     <use xlink:href=\"#mdc47c90fbf\" x=\"42.143182\" y=\"218.084933\" style=\"fill: #8dd3c7; stroke: #8dd3c7\"/>\n     <use xlink:href=\"#mdc47c90fbf\" x=\"85.623701\" y=\"189.845972\" style=\"fill: #8dd3c7; stroke: #8dd3c7\"/>\n     <use xlink:href=\"#mdc47c90fbf\" x=\"129.104221\" y=\"161.607011\" style=\"fill: #8dd3c7; stroke: #8dd3c7\"/>\n     <use xlink:href=\"#mdc47c90fbf\" x=\"172.58474\" y=\"133.36805\" style=\"fill: #8dd3c7; stroke: #8dd3c7\"/>\n     <use xlink:href=\"#mdc47c90fbf\" x=\"216.06526\" y=\"105.129089\" style=\"fill: #8dd3c7; stroke: #8dd3c7\"/>\n     <use xlink:href=\"#mdc47c90fbf\" x=\"259.545779\" y=\"76.890128\" style=\"fill: #8dd3c7; stroke: #8dd3c7\"/>\n     <use xlink:href=\"#mdc47c90fbf\" x=\"303.026299\" y=\"48.651167\" style=\"fill: #8dd3c7; stroke: #8dd3c7\"/>\n     <use xlink:href=\"#mdc47c90fbf\" x=\"346.506818\" y=\"20.412206\" style=\"fill: #8dd3c7; stroke: #8dd3c7\"/>\n    </g>\n   </g>\n   <g id=\"matplotlib.axis_1\">\n    <g id=\"xtick_1\">\n     <g id=\"line2d_1\">\n      <defs>\n       <path id=\"mf37de60a75\" d=\"M 0 0 \nL 0 3.5 \n\" style=\"stroke: #ffffff; stroke-width: 0.8\"/>\n      </defs>\n      <g>\n       <use xlink:href=\"#mf37de60a75\" x=\"71.130195\" y=\"227.968569\" style=\"fill: #ffffff; stroke: #ffffff; stroke-width: 0.8\"/>\n      </g>\n     </g>\n     <g id=\"text_1\">\n      <!-- −5 -->\n      <g style=\"fill: #ffffff\" transform=\"translate(63.759101 242.567007)scale(0.1 -0.1)\">\n       <defs>\n        <path id=\"DejaVuSans-2212\" d=\"M 678 2272 \nL 4684 2272 \nL 4684 1741 \nL 678 1741 \nL 678 2272 \nz\n\" transform=\"scale(0.015625)\"/>\n        <path id=\"DejaVuSans-35\" d=\"M 691 4666 \nL 3169 4666 \nL 3169 4134 \nL 1269 4134 \nL 1269 2991 \nQ 1406 3038 1543 3061 \nQ 1681 3084 1819 3084 \nQ 2600 3084 3056 2656 \nQ 3513 2228 3513 1497 \nQ 3513 744 3044 326 \nQ 2575 -91 1722 -91 \nQ 1428 -91 1123 -41 \nQ 819 9 494 109 \nL 494 744 \nQ 775 591 1075 516 \nQ 1375 441 1709 441 \nQ 2250 441 2565 725 \nQ 2881 1009 2881 1497 \nQ 2881 1984 2565 2268 \nQ 2250 2553 1709 2553 \nQ 1456 2553 1204 2497 \nQ 953 2441 691 2322 \nL 691 4666 \nz\n\" transform=\"scale(0.015625)\"/>\n       </defs>\n       <use xlink:href=\"#DejaVuSans-2212\"/>\n       <use xlink:href=\"#DejaVuSans-35\" x=\"83.789062\"/>\n      </g>\n     </g>\n    </g>\n    <g id=\"xtick_2\">\n     <g id=\"line2d_2\">\n      <g>\n       <use xlink:href=\"#mf37de60a75\" x=\"143.597727\" y=\"227.968569\" style=\"fill: #ffffff; stroke: #ffffff; stroke-width: 0.8\"/>\n      </g>\n     </g>\n     <g id=\"text_2\">\n      <!-- 0 -->\n      <g style=\"fill: #ffffff\" transform=\"translate(140.416477 242.567007)scale(0.1 -0.1)\">\n       <defs>\n        <path id=\"DejaVuSans-30\" d=\"M 2034 4250 \nQ 1547 4250 1301 3770 \nQ 1056 3291 1056 2328 \nQ 1056 1369 1301 889 \nQ 1547 409 2034 409 \nQ 2525 409 2770 889 \nQ 3016 1369 3016 2328 \nQ 3016 3291 2770 3770 \nQ 2525 4250 2034 4250 \nz\nM 2034 4750 \nQ 2819 4750 3233 4129 \nQ 3647 3509 3647 2328 \nQ 3647 1150 3233 529 \nQ 2819 -91 2034 -91 \nQ 1250 -91 836 529 \nQ 422 1150 422 2328 \nQ 422 3509 836 4129 \nQ 1250 4750 2034 4750 \nz\n\" transform=\"scale(0.015625)\"/>\n       </defs>\n       <use xlink:href=\"#DejaVuSans-30\"/>\n      </g>\n     </g>\n    </g>\n    <g id=\"xtick_3\">\n     <g id=\"line2d_3\">\n      <g>\n       <use xlink:href=\"#mf37de60a75\" x=\"216.06526\" y=\"227.968569\" style=\"fill: #ffffff; stroke: #ffffff; stroke-width: 0.8\"/>\n      </g>\n     </g>\n     <g id=\"text_3\">\n      <!-- 5 -->\n      <g style=\"fill: #ffffff\" transform=\"translate(212.88401 242.567007)scale(0.1 -0.1)\">\n       <use xlink:href=\"#DejaVuSans-35\"/>\n      </g>\n     </g>\n    </g>\n    <g id=\"xtick_4\">\n     <g id=\"line2d_4\">\n      <g>\n       <use xlink:href=\"#mf37de60a75\" x=\"288.532792\" y=\"227.968569\" style=\"fill: #ffffff; stroke: #ffffff; stroke-width: 0.8\"/>\n      </g>\n     </g>\n     <g id=\"text_4\">\n      <!-- 10 -->\n      <g style=\"fill: #ffffff\" transform=\"translate(282.170292 242.567007)scale(0.1 -0.1)\">\n       <defs>\n        <path id=\"DejaVuSans-31\" d=\"M 794 531 \nL 1825 531 \nL 1825 4091 \nL 703 3866 \nL 703 4441 \nL 1819 4666 \nL 2450 4666 \nL 2450 531 \nL 3481 531 \nL 3481 0 \nL 794 0 \nL 794 531 \nz\n\" transform=\"scale(0.015625)\"/>\n       </defs>\n       <use xlink:href=\"#DejaVuSans-31\"/>\n       <use xlink:href=\"#DejaVuSans-30\" x=\"63.623047\"/>\n      </g>\n     </g>\n    </g>\n    <g id=\"xtick_5\">\n     <g id=\"line2d_5\">\n      <g>\n       <use xlink:href=\"#mf37de60a75\" x=\"361.000325\" y=\"227.968569\" style=\"fill: #ffffff; stroke: #ffffff; stroke-width: 0.8\"/>\n      </g>\n     </g>\n     <g id=\"text_5\">\n      <!-- 15 -->\n      <g style=\"fill: #ffffff\" transform=\"translate(354.637825 242.567007)scale(0.1 -0.1)\">\n       <use xlink:href=\"#DejaVuSans-31\"/>\n       <use xlink:href=\"#DejaVuSans-35\" x=\"63.623047\"/>\n      </g>\n     </g>\n    </g>\n   </g>\n   <g id=\"matplotlib.axis_2\">\n    <g id=\"ytick_1\">\n     <g id=\"line2d_6\">\n      <defs>\n       <path id=\"m91c1e9a845\" d=\"M 0 0 \nL -3.5 0 \n\" style=\"stroke: #ffffff; stroke-width: 0.8\"/>\n      </defs>\n      <g>\n       <use xlink:href=\"#m91c1e9a845\" x=\"26.925\" y=\"199.258959\" style=\"fill: #ffffff; stroke: #ffffff; stroke-width: 0.8\"/>\n      </g>\n     </g>\n     <g id=\"text_6\">\n      <!-- 5 -->\n      <g style=\"fill: #ffffff\" transform=\"translate(13.5625 203.058178)scale(0.1 -0.1)\">\n       <use xlink:href=\"#DejaVuSans-35\"/>\n      </g>\n     </g>\n    </g>\n    <g id=\"ytick_2\">\n     <g id=\"line2d_7\">\n      <g>\n       <use xlink:href=\"#m91c1e9a845\" x=\"26.925\" y=\"152.194024\" style=\"fill: #ffffff; stroke: #ffffff; stroke-width: 0.8\"/>\n      </g>\n     </g>\n     <g id=\"text_7\">\n      <!-- 10 -->\n      <g style=\"fill: #ffffff\" transform=\"translate(7.2 155.993243)scale(0.1 -0.1)\">\n       <use xlink:href=\"#DejaVuSans-31\"/>\n       <use xlink:href=\"#DejaVuSans-30\" x=\"63.623047\"/>\n      </g>\n     </g>\n    </g>\n    <g id=\"ytick_3\">\n     <g id=\"line2d_8\">\n      <g>\n       <use xlink:href=\"#m91c1e9a845\" x=\"26.925\" y=\"105.129089\" style=\"fill: #ffffff; stroke: #ffffff; stroke-width: 0.8\"/>\n      </g>\n     </g>\n     <g id=\"text_8\">\n      <!-- 15 -->\n      <g style=\"fill: #ffffff\" transform=\"translate(7.2 108.928308)scale(0.1 -0.1)\">\n       <use xlink:href=\"#DejaVuSans-31\"/>\n       <use xlink:href=\"#DejaVuSans-35\" x=\"63.623047\"/>\n      </g>\n     </g>\n    </g>\n    <g id=\"ytick_4\">\n     <g id=\"line2d_9\">\n      <g>\n       <use xlink:href=\"#m91c1e9a845\" x=\"26.925\" y=\"58.064154\" style=\"fill: #ffffff; stroke: #ffffff; stroke-width: 0.8\"/>\n      </g>\n     </g>\n     <g id=\"text_9\">\n      <!-- 20 -->\n      <g style=\"fill: #ffffff\" transform=\"translate(7.2 61.863373)scale(0.1 -0.1)\">\n       <defs>\n        <path id=\"DejaVuSans-32\" d=\"M 1228 531 \nL 3431 531 \nL 3431 0 \nL 469 0 \nL 469 531 \nQ 828 903 1448 1529 \nQ 2069 2156 2228 2338 \nQ 2531 2678 2651 2914 \nQ 2772 3150 2772 3378 \nQ 2772 3750 2511 3984 \nQ 2250 4219 1831 4219 \nQ 1534 4219 1204 4116 \nQ 875 4013 500 3803 \nL 500 4441 \nQ 881 4594 1212 4672 \nQ 1544 4750 1819 4750 \nQ 2544 4750 2975 4387 \nQ 3406 4025 3406 3419 \nQ 3406 3131 3298 2873 \nQ 3191 2616 2906 2266 \nQ 2828 2175 2409 1742 \nQ 1991 1309 1228 531 \nz\n\" transform=\"scale(0.015625)\"/>\n       </defs>\n       <use xlink:href=\"#DejaVuSans-32\"/>\n       <use xlink:href=\"#DejaVuSans-30\" x=\"63.623047\"/>\n      </g>\n     </g>\n    </g>\n    <g id=\"ytick_5\">\n     <g id=\"line2d_10\">\n      <g>\n       <use xlink:href=\"#m91c1e9a845\" x=\"26.925\" y=\"10.999219\" style=\"fill: #ffffff; stroke: #ffffff; stroke-width: 0.8\"/>\n      </g>\n     </g>\n     <g id=\"text_10\">\n      <!-- 25 -->\n      <g style=\"fill: #ffffff\" transform=\"translate(7.2 14.798437)scale(0.1 -0.1)\">\n       <use xlink:href=\"#DejaVuSans-32\"/>\n       <use xlink:href=\"#DejaVuSans-35\" x=\"63.623047\"/>\n      </g>\n     </g>\n    </g>\n   </g>\n   <g id=\"patch_3\">\n    <path d=\"M 26.925 227.968569 \nL 26.925 10.528569 \n\" style=\"fill: none; stroke: #ffffff; stroke-width: 0.8; stroke-linejoin: miter; stroke-linecap: square\"/>\n   </g>\n   <g id=\"patch_4\">\n    <path d=\"M 361.725 227.968569 \nL 361.725 10.528569 \n\" style=\"fill: none; stroke: #ffffff; stroke-width: 0.8; stroke-linejoin: miter; stroke-linecap: square\"/>\n   </g>\n   <g id=\"patch_5\">\n    <path d=\"M 26.925 227.968569 \nL 361.725 227.968569 \n\" style=\"fill: none; stroke: #ffffff; stroke-width: 0.8; stroke-linejoin: miter; stroke-linecap: square\"/>\n   </g>\n   <g id=\"patch_6\">\n    <path d=\"M 26.925 10.528569 \nL 361.725 10.528569 \n\" style=\"fill: none; stroke: #ffffff; stroke-width: 0.8; stroke-linejoin: miter; stroke-linecap: square\"/>\n   </g>\n  </g>\n </g>\n <defs>\n  <clipPath id=\"pa425c4557e\">\n   <rect x=\"26.925\" y=\"10.528569\" width=\"334.8\" height=\"217.44\"/>\n  </clipPath>\n </defs>\n</svg>\n",
      "text/plain": [
       "<Figure size 432x288 with 1 Axes>"
      ]
     },
     "metadata": {},
     "output_type": "display_data"
    }
   ],
   "source": [
    "import numpy as np\n",
    "import matplotlib.pyplot as plt\n",
    "\n",
    "# Create features\n",
    "X = np.array([-7., -4., -1., 2., 5., 8., 11., 14.])\n",
    "\n",
    "# Create labels\n",
    "y = np.array([3., 6., 9., 12., 15., 18., 21., 24])\n",
    "\n",
    "# Visualize\n",
    "plt.scatter(X, y)"
   ]
  },
  {
   "cell_type": "code",
   "execution_count": 3,
   "metadata": {},
   "outputs": [
    {
     "data": {
      "text/plain": [
       "array([ True,  True,  True,  True,  True,  True,  True,  True])"
      ]
     },
     "execution_count": 3,
     "metadata": {},
     "output_type": "execute_result"
    }
   ],
   "source": [
    "# This is the relationship our neural network should learn\n",
    "y == X + 10"
   ]
  },
  {
   "cell_type": "markdown",
   "metadata": {},
   "source": [
    "## Input and output shapes\n"
   ]
  },
  {
   "cell_type": "code",
   "execution_count": 4,
   "metadata": {},
   "outputs": [
    {
     "data": {
      "text/plain": [
       "(<tf.Tensor: shape=(3,), dtype=string, numpy=array([b'bedroom', b'bathroom', b'garage'], dtype=object)>,\n",
       " <tf.Tensor: shape=(1,), dtype=int32, numpy=array([939700])>)"
      ]
     },
     "execution_count": 4,
     "metadata": {},
     "output_type": "execute_result"
    }
   ],
   "source": [
    "# Create a demo tensor for our housing price prediction problem\n",
    "house_info = tf.constant([\"bedroom\", \"bathroom\", \"garage\"])\n",
    "house_price = tf.constant([939_700])\n",
    "house_info, house_price"
   ]
  },
  {
   "cell_type": "code",
   "execution_count": 5,
   "metadata": {},
   "outputs": [
    {
     "data": {
      "text/plain": [
       "((), ())"
      ]
     },
     "execution_count": 5,
     "metadata": {},
     "output_type": "execute_result"
    }
   ],
   "source": [
    "input_shape = X[0].shape\n",
    "output_shape = y[0].shape\n",
    "input_shape, output_shape"
   ]
  },
  {
   "cell_type": "code",
   "execution_count": 6,
   "metadata": {},
   "outputs": [
    {
     "data": {
      "text/plain": [
       "0"
      ]
     },
     "execution_count": 6,
     "metadata": {},
     "output_type": "execute_result"
    }
   ],
   "source": [
    "X[0].ndim"
   ]
  },
  {
   "cell_type": "code",
   "execution_count": 7,
   "metadata": {},
   "outputs": [
    {
     "data": {
      "text/plain": [
       "(-7.0, 3.0)"
      ]
     },
     "execution_count": 7,
     "metadata": {},
     "output_type": "execute_result"
    }
   ],
   "source": [
    "X[0], y[0]"
   ]
  },
  {
   "cell_type": "code",
   "execution_count": 8,
   "metadata": {},
   "outputs": [
    {
     "data": {
      "text/plain": [
       "(<tf.Tensor: shape=(8,), dtype=float32, numpy=array([-7., -4., -1.,  2.,  5.,  8., 11., 14.], dtype=float32)>,\n",
       " <tf.Tensor: shape=(8,), dtype=float32, numpy=array([ 3.,  6.,  9., 12., 15., 18., 21., 24.], dtype=float32)>)"
      ]
     },
     "execution_count": 8,
     "metadata": {},
     "output_type": "execute_result"
    }
   ],
   "source": [
    "# Turn our NumPy arrays into tensors\n",
    "X = tf.constant(X, dtype=tf.float32)\n",
    "y = tf.constant(y, dtype=tf.float32)\n",
    "X, y"
   ]
  },
  {
   "cell_type": "code",
   "execution_count": 9,
   "metadata": {},
   "outputs": [
    {
     "data": {
      "text/plain": [
       "(TensorShape([]), TensorShape([]))"
      ]
     },
     "execution_count": 9,
     "metadata": {},
     "output_type": "execute_result"
    }
   ],
   "source": [
    "input_shape = X[0].shape\n",
    "output_shape = y[0].shape\n",
    "input_shape, output_shape"
   ]
  },
  {
   "cell_type": "markdown",
   "metadata": {},
   "source": [
    "## Steps in modelling with TensorFlow\n",
    "\n",
    "1. **Creating a model** - define the input and output layers, as well as the hidden layers of a deep learning model\n",
    "2. **Compiling a model** - define the loss function (in other words, the function which tells our model how ring it is) and the optimizer (tells our model how to improve the patterns its learning) and evaluation matrix (what we can use to interpret the performance of our model)\n",
    "3. **Fitting a model** - letting the model try to find patterns between X & y (features and labels)."
   ]
  },
  {
   "cell_type": "code",
   "execution_count": 10,
   "metadata": {},
   "outputs": [
    {
     "name": "stdout",
     "output_type": "stream",
     "text": [
      "Epoch 1/5\n",
      "1/1 [==============================] - 1s 706ms/step - loss: 11.5048 - mae: 11.5048\n",
      "Epoch 2/5\n",
      "1/1 [==============================] - 0s 3ms/step - loss: 11.3723 - mae: 11.3723\n",
      "Epoch 3/5\n",
      "1/1 [==============================] - 0s 2ms/step - loss: 11.2398 - mae: 11.2398\n",
      "Epoch 4/5\n",
      "1/1 [==============================] - 0s 2ms/step - loss: 11.1073 - mae: 11.1073\n",
      "Epoch 5/5\n",
      "1/1 [==============================] - 0s 2ms/step - loss: 10.9748 - mae: 10.9748\n"
     ]
    },
    {
     "data": {
      "text/plain": [
       "<keras.callbacks.History at 0x26541322be0>"
      ]
     },
     "execution_count": 10,
     "metadata": {},
     "output_type": "execute_result"
    }
   ],
   "source": [
    "# Set random seed\n",
    "tf.random.set_seed(42)\n",
    "\n",
    "# 1. Create a model using the Sequential API\n",
    "model = tf.keras.Sequential([\n",
    "    tf.keras.layers.Dense(1)]) # This way we're adding Layers like in a list. We can also use `model.add`\n",
    "\n",
    "# 2. Compile the model\n",
    "model.compile(\n",
    "    loss=tf.keras.losses.mae, # mean absolute error of predicted values\n",
    "    optimizer=tf.keras.optimizers.SGD(), # stochastic gradient descent\n",
    "    metrics = [\"mae\"])\n",
    "\n",
    "# 3. Fit the model\n",
    "model.fit(tf.expand_dims(X, axis=-1), y, epochs=5)"
   ]
  },
  {
   "cell_type": "code",
   "execution_count": 11,
   "metadata": {},
   "outputs": [
    {
     "data": {
      "text/plain": [
       "(<tf.Tensor: shape=(8,), dtype=float32, numpy=array([-7., -4., -1.,  2.,  5.,  8., 11., 14.], dtype=float32)>,\n",
       " <tf.Tensor: shape=(8,), dtype=float32, numpy=array([ 3.,  6.,  9., 12., 15., 18., 21., 24.], dtype=float32)>)"
      ]
     },
     "execution_count": 11,
     "metadata": {},
     "output_type": "execute_result"
    }
   ],
   "source": [
    "# Check out X and y\n",
    "X, y"
   ]
  },
  {
   "cell_type": "code",
   "execution_count": 12,
   "metadata": {},
   "outputs": [
    {
     "data": {
      "text/plain": [
       "array([[12.716021]], dtype=float32)"
      ]
     },
     "execution_count": 12,
     "metadata": {},
     "output_type": "execute_result"
    }
   ],
   "source": [
    "# Try and make a prediction using our model\n",
    "y_pred = model.predict([17.])\n",
    "y_pred"
   ]
  },
  {
   "cell_type": "markdown",
   "metadata": {},
   "source": [
    "## Improving our model\n",
    "\n",
    "We can improve our model, by altering the steps we tool to create a model\n",
    "\n",
    "1. **Creating a model** - here we might add more layers, increase the number of hidden units (all called neurons) within each of the hidden layers, change the activation function of each layer.\n",
    "2. **Compiling a model** - here we might chagen the optimization function or perhaps the **learning rate** of the optimization function.\n",
    "3. **Fitting a model** - here we might fit a model for more **epochs** (leave it training for longer) or on more data (give the model more examples to learn from)."
   ]
  },
  {
   "cell_type": "code",
   "execution_count": 13,
   "metadata": {},
   "outputs": [
    {
     "name": "stdout",
     "output_type": "stream",
     "text": [
      "Epoch 1/100\n",
      "1/1 [==============================] - 0s 142ms/step - loss: 11.2219 - mae: 11.2219\n",
      "Epoch 2/100\n",
      "1/1 [==============================] - 0s 2ms/step - loss: 11.0894 - mae: 11.0894\n",
      "Epoch 3/100\n",
      "1/1 [==============================] - 0s 2ms/step - loss: 10.9569 - mae: 10.9569\n",
      "Epoch 4/100\n",
      "1/1 [==============================] - 0s 2ms/step - loss: 10.8244 - mae: 10.8244\n",
      "Epoch 5/100\n",
      "1/1 [==============================] - 0s 2ms/step - loss: 10.6919 - mae: 10.6919\n",
      "Epoch 6/100\n",
      "1/1 [==============================] - 0s 2ms/step - loss: 10.5594 - mae: 10.5594\n",
      "Epoch 7/100\n",
      "1/1 [==============================] - 0s 2ms/step - loss: 10.4269 - mae: 10.4269\n",
      "Epoch 8/100\n",
      "1/1 [==============================] - 0s 2ms/step - loss: 10.2944 - mae: 10.2944\n",
      "Epoch 9/100\n",
      "1/1 [==============================] - 0s 2ms/step - loss: 10.1619 - mae: 10.1619\n",
      "Epoch 10/100\n",
      "1/1 [==============================] - 0s 2ms/step - loss: 10.0294 - mae: 10.0294\n",
      "Epoch 11/100\n",
      "1/1 [==============================] - 0s 2ms/step - loss: 9.8969 - mae: 9.8969\n",
      "Epoch 12/100\n",
      "1/1 [==============================] - 0s 2ms/step - loss: 9.7644 - mae: 9.7644\n",
      "Epoch 13/100\n",
      "1/1 [==============================] - 0s 2ms/step - loss: 9.6319 - mae: 9.6319\n",
      "Epoch 14/100\n",
      "1/1 [==============================] - 0s 2ms/step - loss: 9.4994 - mae: 9.4994\n",
      "Epoch 15/100\n",
      "1/1 [==============================] - 0s 1ms/step - loss: 9.3669 - mae: 9.3669\n",
      "Epoch 16/100\n",
      "1/1 [==============================] - 0s 2ms/step - loss: 9.2344 - mae: 9.2344\n",
      "Epoch 17/100\n",
      "1/1 [==============================] - 0s 2ms/step - loss: 9.1019 - mae: 9.1019\n",
      "Epoch 18/100\n",
      "1/1 [==============================] - 0s 2ms/step - loss: 8.9694 - mae: 8.9694\n",
      "Epoch 19/100\n",
      "1/1 [==============================] - 0s 2ms/step - loss: 8.8369 - mae: 8.8369\n",
      "Epoch 20/100\n",
      "1/1 [==============================] - 0s 2ms/step - loss: 8.7044 - mae: 8.7044\n",
      "Epoch 21/100\n",
      "1/1 [==============================] - 0s 2ms/step - loss: 8.5719 - mae: 8.5719\n",
      "Epoch 22/100\n",
      "1/1 [==============================] - 0s 1ms/step - loss: 8.4394 - mae: 8.4394\n",
      "Epoch 23/100\n",
      "1/1 [==============================] - 0s 3ms/step - loss: 8.3069 - mae: 8.3069\n",
      "Epoch 24/100\n",
      "1/1 [==============================] - 0s 2ms/step - loss: 8.1744 - mae: 8.1744\n",
      "Epoch 25/100\n",
      "1/1 [==============================] - 0s 2ms/step - loss: 8.0419 - mae: 8.0419\n",
      "Epoch 26/100\n",
      "1/1 [==============================] - 0s 2ms/step - loss: 7.9094 - mae: 7.9094\n",
      "Epoch 27/100\n",
      "1/1 [==============================] - 0s 2ms/step - loss: 7.7769 - mae: 7.7769\n",
      "Epoch 28/100\n",
      "1/1 [==============================] - 0s 2ms/step - loss: 7.6444 - mae: 7.6444\n",
      "Epoch 29/100\n",
      "1/1 [==============================] - 0s 2ms/step - loss: 7.5119 - mae: 7.5119\n",
      "Epoch 30/100\n",
      "1/1 [==============================] - 0s 3ms/step - loss: 7.3794 - mae: 7.3794\n",
      "Epoch 31/100\n",
      "1/1 [==============================] - 0s 2ms/step - loss: 7.2750 - mae: 7.2750\n",
      "Epoch 32/100\n",
      "1/1 [==============================] - 0s 3ms/step - loss: 7.2694 - mae: 7.2694\n",
      "Epoch 33/100\n",
      "1/1 [==============================] - 0s 2ms/step - loss: 7.2638 - mae: 7.2638\n",
      "Epoch 34/100\n",
      "1/1 [==============================] - 0s 3ms/step - loss: 7.2581 - mae: 7.2581\n",
      "Epoch 35/100\n",
      "1/1 [==============================] - 0s 3ms/step - loss: 7.2525 - mae: 7.2525\n",
      "Epoch 36/100\n",
      "1/1 [==============================] - 0s 3ms/step - loss: 7.2469 - mae: 7.2469\n",
      "Epoch 37/100\n",
      "1/1 [==============================] - 0s 2ms/step - loss: 7.2413 - mae: 7.2413\n",
      "Epoch 38/100\n",
      "1/1 [==============================] - 0s 4ms/step - loss: 7.2356 - mae: 7.2356\n",
      "Epoch 39/100\n",
      "1/1 [==============================] - 0s 3ms/step - loss: 7.2300 - mae: 7.2300\n",
      "Epoch 40/100\n",
      "1/1 [==============================] - 0s 3ms/step - loss: 7.2244 - mae: 7.2244\n",
      "Epoch 41/100\n",
      "1/1 [==============================] - 0s 2ms/step - loss: 7.2188 - mae: 7.2188\n",
      "Epoch 42/100\n",
      "1/1 [==============================] - 0s 3ms/step - loss: 7.2131 - mae: 7.2131\n",
      "Epoch 43/100\n",
      "1/1 [==============================] - 0s 3ms/step - loss: 7.2075 - mae: 7.2075\n",
      "Epoch 44/100\n",
      "1/1 [==============================] - 0s 3ms/step - loss: 7.2019 - mae: 7.2019\n",
      "Epoch 45/100\n",
      "1/1 [==============================] - 0s 3ms/step - loss: 7.1962 - mae: 7.1962\n",
      "Epoch 46/100\n",
      "1/1 [==============================] - 0s 2ms/step - loss: 7.1906 - mae: 7.1906\n",
      "Epoch 47/100\n",
      "1/1 [==============================] - 0s 2ms/step - loss: 7.1850 - mae: 7.1850\n",
      "Epoch 48/100\n",
      "1/1 [==============================] - 0s 2ms/step - loss: 7.1794 - mae: 7.1794\n",
      "Epoch 49/100\n",
      "1/1 [==============================] - 0s 3ms/step - loss: 7.1737 - mae: 7.1737\n",
      "Epoch 50/100\n",
      "1/1 [==============================] - 0s 2ms/step - loss: 7.1681 - mae: 7.1681\n",
      "Epoch 51/100\n",
      "1/1 [==============================] - 0s 2ms/step - loss: 7.1625 - mae: 7.1625\n",
      "Epoch 52/100\n",
      "1/1 [==============================] - 0s 2ms/step - loss: 7.1569 - mae: 7.1569\n",
      "Epoch 53/100\n",
      "1/1 [==============================] - 0s 3ms/step - loss: 7.1512 - mae: 7.1512\n",
      "Epoch 54/100\n",
      "1/1 [==============================] - 0s 2ms/step - loss: 7.1456 - mae: 7.1456\n",
      "Epoch 55/100\n",
      "1/1 [==============================] - 0s 2ms/step - loss: 7.1400 - mae: 7.1400\n",
      "Epoch 56/100\n",
      "1/1 [==============================] - 0s 2ms/step - loss: 7.1344 - mae: 7.1344\n",
      "Epoch 57/100\n",
      "1/1 [==============================] - 0s 3ms/step - loss: 7.1287 - mae: 7.1287\n",
      "Epoch 58/100\n",
      "1/1 [==============================] - 0s 2ms/step - loss: 7.1231 - mae: 7.1231\n",
      "Epoch 59/100\n",
      "1/1 [==============================] - 0s 3ms/step - loss: 7.1175 - mae: 7.1175\n",
      "Epoch 60/100\n",
      "1/1 [==============================] - 0s 3ms/step - loss: 7.1119 - mae: 7.1119\n",
      "Epoch 61/100\n",
      "1/1 [==============================] - 0s 3ms/step - loss: 7.1062 - mae: 7.1062\n",
      "Epoch 62/100\n",
      "1/1 [==============================] - 0s 3ms/step - loss: 7.1006 - mae: 7.1006\n",
      "Epoch 63/100\n",
      "1/1 [==============================] - 0s 2ms/step - loss: 7.0950 - mae: 7.0950\n",
      "Epoch 64/100\n",
      "1/1 [==============================] - 0s 2ms/step - loss: 7.0894 - mae: 7.0894\n",
      "Epoch 65/100\n",
      "1/1 [==============================] - 0s 2ms/step - loss: 7.0838 - mae: 7.0838\n",
      "Epoch 66/100\n",
      "1/1 [==============================] - 0s 2ms/step - loss: 7.0781 - mae: 7.0781\n",
      "Epoch 67/100\n",
      "1/1 [==============================] - 0s 2ms/step - loss: 7.0725 - mae: 7.0725\n",
      "Epoch 68/100\n",
      "1/1 [==============================] - 0s 2ms/step - loss: 7.0669 - mae: 7.0669\n",
      "Epoch 69/100\n",
      "1/1 [==============================] - 0s 2ms/step - loss: 7.0613 - mae: 7.0613\n",
      "Epoch 70/100\n",
      "1/1 [==============================] - 0s 2ms/step - loss: 7.0556 - mae: 7.0556\n",
      "Epoch 71/100\n",
      "1/1 [==============================] - 0s 2ms/step - loss: 7.0500 - mae: 7.0500\n",
      "Epoch 72/100\n",
      "1/1 [==============================] - 0s 2ms/step - loss: 7.0444 - mae: 7.0444\n",
      "Epoch 73/100\n",
      "1/1 [==============================] - 0s 2ms/step - loss: 7.0388 - mae: 7.0388\n",
      "Epoch 74/100\n",
      "1/1 [==============================] - 0s 3ms/step - loss: 7.0331 - mae: 7.0331\n",
      "Epoch 75/100\n",
      "1/1 [==============================] - 0s 3ms/step - loss: 7.0275 - mae: 7.0275\n",
      "Epoch 76/100\n",
      "1/1 [==============================] - 0s 2ms/step - loss: 7.0219 - mae: 7.0219\n",
      "Epoch 77/100\n",
      "1/1 [==============================] - 0s 2ms/step - loss: 7.0163 - mae: 7.0163\n",
      "Epoch 78/100\n",
      "1/1 [==============================] - 0s 3ms/step - loss: 7.0106 - mae: 7.0106\n",
      "Epoch 79/100\n",
      "1/1 [==============================] - 0s 3ms/step - loss: 7.0050 - mae: 7.0050\n",
      "Epoch 80/100\n",
      "1/1 [==============================] - 0s 2ms/step - loss: 6.9994 - mae: 6.9994\n",
      "Epoch 81/100\n",
      "1/1 [==============================] - 0s 2ms/step - loss: 6.9938 - mae: 6.9938\n",
      "Epoch 82/100\n",
      "1/1 [==============================] - 0s 2ms/step - loss: 6.9881 - mae: 6.9881\n",
      "Epoch 83/100\n",
      "1/1 [==============================] - 0s 2ms/step - loss: 6.9825 - mae: 6.9825\n",
      "Epoch 84/100\n",
      "1/1 [==============================] - 0s 3ms/step - loss: 6.9769 - mae: 6.9769\n",
      "Epoch 85/100\n",
      "1/1 [==============================] - 0s 1ms/step - loss: 6.9713 - mae: 6.9713\n",
      "Epoch 86/100\n",
      "1/1 [==============================] - 0s 2ms/step - loss: 6.9656 - mae: 6.9656\n",
      "Epoch 87/100\n",
      "1/1 [==============================] - 0s 1ms/step - loss: 6.9600 - mae: 6.9600\n",
      "Epoch 88/100\n",
      "1/1 [==============================] - 0s 3ms/step - loss: 6.9544 - mae: 6.9544\n",
      "Epoch 89/100\n",
      "1/1 [==============================] - 0s 2ms/step - loss: 6.9488 - mae: 6.9488\n",
      "Epoch 90/100\n",
      "1/1 [==============================] - 0s 2ms/step - loss: 6.9431 - mae: 6.9431\n",
      "Epoch 91/100\n",
      "1/1 [==============================] - 0s 3ms/step - loss: 6.9375 - mae: 6.9375\n",
      "Epoch 92/100\n",
      "1/1 [==============================] - 0s 2ms/step - loss: 6.9319 - mae: 6.9319\n",
      "Epoch 93/100\n",
      "1/1 [==============================] - 0s 2ms/step - loss: 6.9262 - mae: 6.9262\n",
      "Epoch 94/100\n",
      "1/1 [==============================] - 0s 2ms/step - loss: 6.9206 - mae: 6.9206\n",
      "Epoch 95/100\n",
      "1/1 [==============================] - 0s 2ms/step - loss: 6.9150 - mae: 6.9150\n",
      "Epoch 96/100\n",
      "1/1 [==============================] - 0s 3ms/step - loss: 6.9094 - mae: 6.9094\n",
      "Epoch 97/100\n",
      "1/1 [==============================] - 0s 2ms/step - loss: 6.9038 - mae: 6.9038\n",
      "Epoch 98/100\n",
      "1/1 [==============================] - 0s 3ms/step - loss: 6.8981 - mae: 6.8981\n",
      "Epoch 99/100\n",
      "1/1 [==============================] - 0s 2ms/step - loss: 6.8925 - mae: 6.8925\n",
      "Epoch 100/100\n",
      "1/1 [==============================] - 0s 3ms/step - loss: 6.8869 - mae: 6.8869\n"
     ]
    },
    {
     "data": {
      "text/plain": [
       "<keras.callbacks.History at 0x2654289e520>"
      ]
     },
     "execution_count": 13,
     "metadata": {},
     "output_type": "execute_result"
    }
   ],
   "source": [
    "# Let's rebuild our model\n",
    "# 1. Create a model (specified to your problem)\n",
    "model = tf.keras.Sequential([\n",
    "    tf.keras.layers.Dense(1)\n",
    "])\n",
    "\n",
    "# 2. Compile the model\n",
    "model.compile(\n",
    "    loss=tf.keras.losses.mae, # mean absolute error of predicted values\n",
    "    optimizer=tf.keras.optimizers.SGD(),\n",
    "    metrics = [\"mae\"])\n",
    "\n",
    "# 3. Fit the model (train for longer this time)\n",
    "model.fit(tf.expand_dims(X, axis=-1), y, epochs=100)"
   ]
  },
  {
   "cell_type": "code",
   "execution_count": 14,
   "metadata": {},
   "outputs": [
    {
     "data": {
      "text/plain": [
       "(<tf.Tensor: shape=(8,), dtype=float32, numpy=array([-7., -4., -1.,  2.,  5.,  8., 11., 14.], dtype=float32)>,\n",
       " <tf.Tensor: shape=(8,), dtype=float32, numpy=array([ 3.,  6.,  9., 12., 15., 18., 21., 24.], dtype=float32)>,\n",
       " array([[29.739855]], dtype=float32))"
      ]
     },
     "execution_count": 14,
     "metadata": {},
     "output_type": "execute_result"
    }
   ],
   "source": [
    "# Try and make a prediction using our model\n",
    "y_pred = model.predict([17.])\n",
    "X, y, y_pred"
   ]
  },
  {
   "cell_type": "code",
   "execution_count": 15,
   "metadata": {},
   "outputs": [
    {
     "name": "stdout",
     "output_type": "stream",
     "text": [
      "Epoch 1/100\n",
      "1/1 [==============================] - ETA: 0s - loss: 11.7683 - mae: 11.7683"
     ]
    },
    {
     "name": "stderr",
     "output_type": "stream",
     "text": [
      "c:\\Users\\gutsc\\anaconda3\\envs\\udemy_tensorflow\\lib\\site-packages\\keras\\optimizer_v2\\optimizer_v2.py:355: UserWarning: The `lr` argument is deprecated, use `learning_rate` instead.\n",
      "  warnings.warn(\n"
     ]
    },
    {
     "name": "stdout",
     "output_type": "stream",
     "text": [
      "1/1 [==============================] - 0s 180ms/step - loss: 11.7683 - mae: 11.7683\n",
      "Epoch 2/100\n",
      "1/1 [==============================] - 0s 2ms/step - loss: 11.0964 - mae: 11.0964\n",
      "Epoch 3/100\n",
      "1/1 [==============================] - 0s 3ms/step - loss: 10.4150 - mae: 10.4150\n",
      "Epoch 4/100\n",
      "1/1 [==============================] - 0s 2ms/step - loss: 9.7211 - mae: 9.7211\n",
      "Epoch 5/100\n",
      "1/1 [==============================] - 0s 2ms/step - loss: 9.0105 - mae: 9.0105\n",
      "Epoch 6/100\n",
      "1/1 [==============================] - 0s 2ms/step - loss: 8.2779 - mae: 8.2779\n",
      "Epoch 7/100\n",
      "1/1 [==============================] - 0s 2ms/step - loss: 7.5200 - mae: 7.5200\n",
      "Epoch 8/100\n",
      "1/1 [==============================] - 0s 3ms/step - loss: 6.9648 - mae: 6.9648\n",
      "Epoch 9/100\n",
      "1/1 [==============================] - 0s 2ms/step - loss: 7.0674 - mae: 7.0674\n",
      "Epoch 10/100\n",
      "1/1 [==============================] - 0s 2ms/step - loss: 7.3316 - mae: 7.3316\n",
      "Epoch 11/100\n",
      "1/1 [==============================] - 0s 2ms/step - loss: 7.4673 - mae: 7.4673\n",
      "Epoch 12/100\n",
      "1/1 [==============================] - 0s 3ms/step - loss: 7.5290 - mae: 7.5290\n",
      "Epoch 13/100\n",
      "1/1 [==============================] - 0s 3ms/step - loss: 7.4016 - mae: 7.4016\n",
      "Epoch 14/100\n",
      "1/1 [==============================] - 0s 3ms/step - loss: 7.1921 - mae: 7.1921\n",
      "Epoch 15/100\n",
      "1/1 [==============================] - 0s 3ms/step - loss: 6.9573 - mae: 6.9573\n",
      "Epoch 16/100\n",
      "1/1 [==============================] - 0s 2ms/step - loss: 6.6951 - mae: 6.6951\n",
      "Epoch 17/100\n",
      "1/1 [==============================] - 0s 2ms/step - loss: 6.4128 - mae: 6.4128\n",
      "Epoch 18/100\n",
      "1/1 [==============================] - 0s 3ms/step - loss: 6.3048 - mae: 6.3048\n",
      "Epoch 19/100\n",
      "1/1 [==============================] - 0s 3ms/step - loss: 6.2575 - mae: 6.2575\n",
      "Epoch 20/100\n",
      "1/1 [==============================] - 0s 3ms/step - loss: 6.3980 - mae: 6.3980\n",
      "Epoch 21/100\n",
      "1/1 [==============================] - 0s 3ms/step - loss: 6.4549 - mae: 6.4549\n",
      "Epoch 22/100\n",
      "1/1 [==============================] - 0s 2ms/step - loss: 6.4001 - mae: 6.4001\n",
      "Epoch 23/100\n",
      "1/1 [==============================] - 0s 2ms/step - loss: 6.2484 - mae: 6.2484\n",
      "Epoch 24/100\n",
      "1/1 [==============================] - 0s 4ms/step - loss: 6.0103 - mae: 6.0103\n",
      "Epoch 25/100\n",
      "1/1 [==============================] - 0s 3ms/step - loss: 5.7876 - mae: 5.7876\n",
      "Epoch 26/100\n",
      "1/1 [==============================] - 0s 3ms/step - loss: 5.6809 - mae: 5.6809\n",
      "Epoch 27/100\n",
      "1/1 [==============================] - 0s 3ms/step - loss: 5.5715 - mae: 5.5715\n",
      "Epoch 28/100\n",
      "1/1 [==============================] - 0s 3ms/step - loss: 5.6125 - mae: 5.6125\n",
      "Epoch 29/100\n",
      "1/1 [==============================] - 0s 3ms/step - loss: 5.6071 - mae: 5.6071\n",
      "Epoch 30/100\n",
      "1/1 [==============================] - 0s 2ms/step - loss: 5.5541 - mae: 5.5541\n",
      "Epoch 31/100\n",
      "1/1 [==============================] - 0s 3ms/step - loss: 5.4569 - mae: 5.4569\n",
      "Epoch 32/100\n",
      "1/1 [==============================] - 0s 3ms/step - loss: 5.3200 - mae: 5.3200\n",
      "Epoch 33/100\n",
      "1/1 [==============================] - 0s 4ms/step - loss: 5.1472 - mae: 5.1472\n",
      "Epoch 34/100\n",
      "1/1 [==============================] - 0s 2ms/step - loss: 4.9440 - mae: 4.9440\n",
      "Epoch 35/100\n",
      "1/1 [==============================] - 0s 3ms/step - loss: 4.8239 - mae: 4.8239\n",
      "Epoch 36/100\n",
      "1/1 [==============================] - 0s 2ms/step - loss: 4.7389 - mae: 4.7389\n",
      "Epoch 37/100\n",
      "1/1 [==============================] - 0s 3ms/step - loss: 4.6661 - mae: 4.6661\n",
      "Epoch 38/100\n",
      "1/1 [==============================] - 0s 2ms/step - loss: 4.5844 - mae: 4.5844\n",
      "Epoch 39/100\n",
      "1/1 [==============================] - 0s 3ms/step - loss: 4.4027 - mae: 4.4027\n",
      "Epoch 40/100\n",
      "1/1 [==============================] - 0s 2ms/step - loss: 4.2653 - mae: 4.2653\n",
      "Epoch 41/100\n",
      "1/1 [==============================] - 0s 3ms/step - loss: 4.1212 - mae: 4.1212\n",
      "Epoch 42/100\n",
      "1/1 [==============================] - 0s 2ms/step - loss: 3.9702 - mae: 3.9702\n",
      "Epoch 43/100\n",
      "1/1 [==============================] - 0s 3ms/step - loss: 3.8272 - mae: 3.8272\n",
      "Epoch 44/100\n",
      "1/1 [==============================] - 0s 3ms/step - loss: 3.7044 - mae: 3.7044\n",
      "Epoch 45/100\n",
      "1/1 [==============================] - 0s 3ms/step - loss: 3.5317 - mae: 3.5317\n",
      "Epoch 46/100\n",
      "1/1 [==============================] - 0s 3ms/step - loss: 3.3664 - mae: 3.3664\n",
      "Epoch 47/100\n",
      "1/1 [==============================] - 0s 3ms/step - loss: 3.2116 - mae: 3.2116\n",
      "Epoch 48/100\n",
      "1/1 [==============================] - 0s 2ms/step - loss: 3.0463 - mae: 3.0463\n",
      "Epoch 49/100\n",
      "1/1 [==============================] - 0s 3ms/step - loss: 2.8705 - mae: 2.8705\n",
      "Epoch 50/100\n",
      "1/1 [==============================] - 0s 2ms/step - loss: 2.6840 - mae: 2.6840\n",
      "Epoch 51/100\n",
      "1/1 [==============================] - 0s 2ms/step - loss: 2.4868 - mae: 2.4868\n",
      "Epoch 52/100\n",
      "1/1 [==============================] - 0s 3ms/step - loss: 2.2787 - mae: 2.2787\n",
      "Epoch 53/100\n",
      "1/1 [==============================] - 0s 2ms/step - loss: 2.0596 - mae: 2.0596\n",
      "Epoch 54/100\n",
      "1/1 [==============================] - 0s 3ms/step - loss: 1.8293 - mae: 1.8293\n",
      "Epoch 55/100\n",
      "1/1 [==============================] - 0s 3ms/step - loss: 1.5876 - mae: 1.5876\n",
      "Epoch 56/100\n",
      "1/1 [==============================] - 0s 3ms/step - loss: 1.3531 - mae: 1.3531\n",
      "Epoch 57/100\n",
      "1/1 [==============================] - 0s 2ms/step - loss: 1.0850 - mae: 1.0850\n",
      "Epoch 58/100\n",
      "1/1 [==============================] - 0s 3ms/step - loss: 0.8224 - mae: 0.8224\n",
      "Epoch 59/100\n",
      "1/1 [==============================] - 0s 2ms/step - loss: 0.5467 - mae: 0.5467\n",
      "Epoch 60/100\n",
      "1/1 [==============================] - 0s 3ms/step - loss: 0.2755 - mae: 0.2755\n",
      "Epoch 61/100\n",
      "1/1 [==============================] - 0s 3ms/step - loss: 0.1350 - mae: 0.1350\n",
      "Epoch 62/100\n",
      "1/1 [==============================] - 0s 3ms/step - loss: 0.4493 - mae: 0.4493\n",
      "Epoch 63/100\n",
      "1/1 [==============================] - 0s 2ms/step - loss: 0.6499 - mae: 0.6499\n",
      "Epoch 64/100\n",
      "1/1 [==============================] - 0s 2ms/step - loss: 0.6216 - mae: 0.6216\n",
      "Epoch 65/100\n",
      "1/1 [==============================] - 0s 3ms/step - loss: 0.8027 - mae: 0.8027\n",
      "Epoch 66/100\n",
      "1/1 [==============================] - 0s 3ms/step - loss: 0.7992 - mae: 0.7992\n",
      "Epoch 67/100\n",
      "1/1 [==============================] - 0s 2ms/step - loss: 0.7408 - mae: 0.7408\n",
      "Epoch 68/100\n",
      "1/1 [==============================] - 0s 2ms/step - loss: 0.7812 - mae: 0.7812\n",
      "Epoch 69/100\n",
      "1/1 [==============================] - 0s 3ms/step - loss: 0.6305 - mae: 0.6305\n",
      "Epoch 70/100\n",
      "1/1 [==============================] - 0s 2ms/step - loss: 0.5554 - mae: 0.5554\n",
      "Epoch 71/100\n",
      "1/1 [==============================] - 0s 2ms/step - loss: 0.4307 - mae: 0.4307\n",
      "Epoch 72/100\n",
      "1/1 [==============================] - 0s 3ms/step - loss: 0.2788 - mae: 0.2788\n",
      "Epoch 73/100\n",
      "1/1 [==============================] - 0s 2ms/step - loss: 0.1380 - mae: 0.1380\n",
      "Epoch 74/100\n",
      "1/1 [==============================] - 0s 3ms/step - loss: 0.1191 - mae: 0.1191\n",
      "Epoch 75/100\n",
      "1/1 [==============================] - 0s 3ms/step - loss: 0.2780 - mae: 0.2780\n",
      "Epoch 76/100\n",
      "1/1 [==============================] - 0s 2ms/step - loss: 0.3237 - mae: 0.3237\n",
      "Epoch 77/100\n",
      "1/1 [==============================] - 0s 3ms/step - loss: 0.4154 - mae: 0.4154\n",
      "Epoch 78/100\n",
      "1/1 [==============================] - 0s 3ms/step - loss: 0.4314 - mae: 0.4314\n",
      "Epoch 79/100\n",
      "1/1 [==============================] - 0s 3ms/step - loss: 0.3389 - mae: 0.3389\n",
      "Epoch 80/100\n",
      "1/1 [==============================] - 0s 2ms/step - loss: 0.2969 - mae: 0.2969\n",
      "Epoch 81/100\n",
      "1/1 [==============================] - 0s 3ms/step - loss: 0.2363 - mae: 0.2363\n",
      "Epoch 82/100\n",
      "1/1 [==============================] - 0s 2ms/step - loss: 0.1628 - mae: 0.1628\n",
      "Epoch 83/100\n",
      "1/1 [==============================] - 0s 2ms/step - loss: 0.1351 - mae: 0.1351\n",
      "Epoch 84/100\n",
      "1/1 [==============================] - 0s 3ms/step - loss: 0.1253 - mae: 0.1253\n",
      "Epoch 85/100\n",
      "1/1 [==============================] - 0s 2ms/step - loss: 0.1708 - mae: 0.1708\n",
      "Epoch 86/100\n",
      "1/1 [==============================] - 0s 2ms/step - loss: 0.2119 - mae: 0.2119\n",
      "Epoch 87/100\n",
      "1/1 [==============================] - 0s 2ms/step - loss: 0.2282 - mae: 0.2282\n",
      "Epoch 88/100\n",
      "1/1 [==============================] - 0s 3ms/step - loss: 0.1901 - mae: 0.1901\n",
      "Epoch 89/100\n",
      "1/1 [==============================] - 0s 2ms/step - loss: 0.1352 - mae: 0.1352\n",
      "Epoch 90/100\n",
      "1/1 [==============================] - 0s 2ms/step - loss: 0.1214 - mae: 0.1214\n",
      "Epoch 91/100\n",
      "1/1 [==============================] - 0s 2ms/step - loss: 0.0379 - mae: 0.0379\n",
      "Epoch 92/100\n",
      "1/1 [==============================] - 0s 3ms/step - loss: 0.2195 - mae: 0.2195\n",
      "Epoch 93/100\n",
      "1/1 [==============================] - 0s 2ms/step - loss: 0.2185 - mae: 0.2185\n",
      "Epoch 94/100\n",
      "1/1 [==============================] - 0s 2ms/step - loss: 0.1429 - mae: 0.1429\n",
      "Epoch 95/100\n",
      "1/1 [==============================] - 0s 3ms/step - loss: 0.1179 - mae: 0.1179\n",
      "Epoch 96/100\n",
      "1/1 [==============================] - 0s 3ms/step - loss: 0.2066 - mae: 0.2066\n",
      "Epoch 97/100\n",
      "1/1 [==============================] - 0s 3ms/step - loss: 0.1516 - mae: 0.1516\n",
      "Epoch 98/100\n",
      "1/1 [==============================] - 0s 2ms/step - loss: 0.2140 - mae: 0.2140\n",
      "Epoch 99/100\n",
      "1/1 [==============================] - 0s 2ms/step - loss: 0.2333 - mae: 0.2333\n",
      "Epoch 100/100\n",
      "1/1 [==============================] - 0s 2ms/step - loss: 0.0779 - mae: 0.0779\n"
     ]
    },
    {
     "data": {
      "text/plain": [
       "<keras.callbacks.History at 0x2654c8dcf40>"
      ]
     },
     "execution_count": 15,
     "metadata": {},
     "output_type": "execute_result"
    }
   ],
   "source": [
    "# Let's rebuild our model\n",
    "# 1. Create a model (specified to your problem)\n",
    "model = tf.keras.Sequential([\n",
    "    tf.keras.layers.Dense(50, activation=None),\n",
    "    tf.keras.layers.Dense(1)\n",
    "])\n",
    "\n",
    "# 2. Compile the model\n",
    "model.compile(\n",
    "    loss=tf.keras.losses.mae, # mean absolute error of predicted values\n",
    "    optimizer=tf.keras.optimizers.Adam(lr=0.01), # stochastic gradient descent\n",
    "    metrics = [\"mae\"])\n",
    "\n",
    "# 3. Fit the model (train for longer this time)\n",
    "model.fit(tf.expand_dims(X, axis=-1), y, epochs=100)"
   ]
  },
  {
   "cell_type": "code",
   "execution_count": 16,
   "metadata": {},
   "outputs": [
    {
     "data": {
      "text/plain": [
       "(<tf.Tensor: shape=(8,), dtype=float32, numpy=array([-7., -4., -1.,  2.,  5.,  8., 11., 14.], dtype=float32)>,\n",
       " <tf.Tensor: shape=(8,), dtype=float32, numpy=array([ 3.,  6.,  9., 12., 15., 18., 21., 24.], dtype=float32)>,\n",
       " array([[26.587622]], dtype=float32))"
      ]
     },
     "execution_count": 16,
     "metadata": {},
     "output_type": "execute_result"
    }
   ],
   "source": [
    "# Try and make a prediction using our model\n",
    "y_pred = model.predict([17.])\n",
    "X, y, y_pred"
   ]
  },
  {
   "cell_type": "markdown",
   "metadata": {},
   "source": [
    "## Evaluating a model\n",
    "\n",
    "In practive, a typical workflow you'll go through when build neural networks is:\n",
    "`Build a model -> fit it -> evaluate it -> tweak it -> fit it -> evaluate it -> ...`"
   ]
  },
  {
   "cell_type": "markdown",
   "metadata": {},
   "source": [
    "When it comes to evalution... ther are 3 words you should memorize:\n",
    ">`Visualize, visualize, visualize:`\n",
    "\n",
    "It's a good idea to visualize:\n",
    "* The data - what data are we working with? What does it look like?\n",
    "* The model itself - what does our model look like?\n",
    "* The training of a model - how does a model perform while it learns?\n",
    "* The predictions of the model - how do the predictions of a model line up against the ground truth (the original labels)?"
   ]
  },
  {
   "cell_type": "code",
   "execution_count": 17,
   "metadata": {},
   "outputs": [
    {
     "data": {
      "text/plain": [
       "<tf.Tensor: shape=(50,), dtype=int32, numpy=\n",
       "array([-100,  -96,  -92,  -88,  -84,  -80,  -76,  -72,  -68,  -64,  -60,\n",
       "        -56,  -52,  -48,  -44,  -40,  -36,  -32,  -28,  -24,  -20,  -16,\n",
       "        -12,   -8,   -4,    0,    4,    8,   12,   16,   20,   24,   28,\n",
       "         32,   36,   40,   44,   48,   52,   56,   60,   64,   68,   72,\n",
       "         76,   80,   84,   88,   92,   96])>"
      ]
     },
     "execution_count": 17,
     "metadata": {},
     "output_type": "execute_result"
    }
   ],
   "source": [
    "# Make a bigger dataset\n",
    "X = tf.range(-100, 100, 4)\n",
    "X"
   ]
  },
  {
   "cell_type": "code",
   "execution_count": 18,
   "metadata": {},
   "outputs": [
    {
     "data": {
      "text/plain": [
       "<tf.Tensor: shape=(50,), dtype=int32, numpy=\n",
       "array([-90, -86, -82, -78, -74, -70, -66, -62, -58, -54, -50, -46, -42,\n",
       "       -38, -34, -30, -26, -22, -18, -14, -10,  -6,  -2,   2,   6,  10,\n",
       "        14,  18,  22,  26,  30,  34,  38,  42,  46,  50,  54,  58,  62,\n",
       "        66,  70,  74,  78,  82,  86,  90,  94,  98, 102, 106])>"
      ]
     },
     "execution_count": 18,
     "metadata": {},
     "output_type": "execute_result"
    }
   ],
   "source": [
    "# Make labels for the dataset\n",
    "y = X + 10\n",
    "y"
   ]
  },
  {
   "cell_type": "code",
   "execution_count": 19,
   "metadata": {},
   "outputs": [
    {
     "data": {
      "text/plain": [
       "<matplotlib.collections.PathCollection at 0x265468c5f70>"
      ]
     },
     "execution_count": 19,
     "metadata": {},
     "output_type": "execute_result"
    },
    {
     "data": {
      "image/png": "[encoded data removed]",
      "image/svg+xml": "<?xml version=\"1.0\" encoding=\"utf-8\" standalone=\"no\"?>\n<!DOCTYPE svg PUBLIC \"-//W3C//DTD SVG 1.1//EN\"\n  \"http://www.w3.org/Graphics/SVG/1.1/DTD/svg11.dtd\">\n<svg xmlns:xlink=\"http://www.w3.org/1999/xlink\" width=\"377.841758pt\" height=\"248.518125pt\" viewBox=\"0 0 377.841758 248.518125\" xmlns=\"http://www.w3.org/2000/svg\" version=\"1.1\">\n <metadata>\n  <rdf:RDF xmlns:dc=\"http://purl.org/dc/elements/1.1/\" xmlns:cc=\"http://creativecommons.org/ns#\" xmlns:rdf=\"http://www.w3.org/1999/02/22-rdf-syntax-ns#\">\n   <cc:Work>\n    <dc:type rdf:resource=\"http://purl.org/dc/dcmitype/StillImage\"/>\n    <dc:date>2022-05-10T09:38:29.050738</dc:date>\n    <dc:format>image/svg+xml</dc:format>\n    <dc:creator>\n     <cc:Agent>\n      <dc:title>Matplotlib v3.5.1, https://matplotlib.org/</dc:title>\n     </cc:Agent>\n    </dc:creator>\n   </cc:Work>\n  </rdf:RDF>\n </metadata>\n <defs>\n  <style type=\"text/css\">*{stroke-linejoin: round; stroke-linecap: butt}</style>\n </defs>\n <g id=\"figure_1\">\n  <g id=\"patch_1\">\n   <path d=\"M 0 248.518125 \nL 377.841758 248.518125 \nL 377.841758 0 \nL 0 0 \nz\n\"/>\n  </g>\n  <g id=\"axes_1\">\n   <g id=\"patch_2\">\n    <path d=\"M 35.304688 224.64 \nL 370.104688 224.64 \nL 370.104688 7.2 \nL 35.304688 7.2 \nz\n\"/>\n   </g>\n   <g id=\"PathCollection_1\">\n    <defs>\n     <path id=\"m282139bd47\" d=\"M 0 3 \nC 0.795609 3 1.55874 2.683901 2.12132 2.12132 \nC 2.683901 1.55874 3 0.795609 3 0 \nC 3 -0.795609 2.683901 -1.55874 2.12132 -2.12132 \nC 1.55874 -2.683901 0.795609 -3 0 -3 \nC -0.795609 -3 -1.55874 -2.683901 -2.12132 -2.12132 \nC -2.683901 -1.55874 -3 -0.795609 -3 0 \nC -3 0.795609 -2.683901 1.55874 -2.12132 2.12132 \nC -1.55874 2.683901 -0.795609 3 0 3 \nz\n\" style=\"stroke: #8dd3c7\"/>\n    </defs>\n    <g clip-path=\"url(#pf62e3fe8ac)\">\n     <use xlink:href=\"#m282139bd47\" x=\"50.522869\" y=\"214.756364\" style=\"fill: #8dd3c7; stroke: #8dd3c7\"/>\n     <use xlink:href=\"#m282139bd47\" x=\"56.734372\" y=\"210.722226\" style=\"fill: #8dd3c7; stroke: #8dd3c7\"/>\n     <use xlink:href=\"#m282139bd47\" x=\"62.945875\" y=\"206.688089\" style=\"fill: #8dd3c7; stroke: #8dd3c7\"/>\n     <use xlink:href=\"#m282139bd47\" x=\"69.157378\" y=\"202.653952\" style=\"fill: #8dd3c7; stroke: #8dd3c7\"/>\n     <use xlink:href=\"#m282139bd47\" x=\"75.36888\" y=\"198.619814\" style=\"fill: #8dd3c7; stroke: #8dd3c7\"/>\n     <use xlink:href=\"#m282139bd47\" x=\"81.580383\" y=\"194.585677\" style=\"fill: #8dd3c7; stroke: #8dd3c7\"/>\n     <use xlink:href=\"#m282139bd47\" x=\"87.791886\" y=\"190.55154\" style=\"fill: #8dd3c7; stroke: #8dd3c7\"/>\n     <use xlink:href=\"#m282139bd47\" x=\"94.003389\" y=\"186.517403\" style=\"fill: #8dd3c7; stroke: #8dd3c7\"/>\n     <use xlink:href=\"#m282139bd47\" x=\"100.214892\" y=\"182.483265\" style=\"fill: #8dd3c7; stroke: #8dd3c7\"/>\n     <use xlink:href=\"#m282139bd47\" x=\"106.426394\" y=\"178.449128\" style=\"fill: #8dd3c7; stroke: #8dd3c7\"/>\n     <use xlink:href=\"#m282139bd47\" x=\"112.637897\" y=\"174.414991\" style=\"fill: #8dd3c7; stroke: #8dd3c7\"/>\n     <use xlink:href=\"#m282139bd47\" x=\"118.8494\" y=\"170.380853\" style=\"fill: #8dd3c7; stroke: #8dd3c7\"/>\n     <use xlink:href=\"#m282139bd47\" x=\"125.060903\" y=\"166.346716\" style=\"fill: #8dd3c7; stroke: #8dd3c7\"/>\n     <use xlink:href=\"#m282139bd47\" x=\"131.272405\" y=\"162.312579\" style=\"fill: #8dd3c7; stroke: #8dd3c7\"/>\n     <use xlink:href=\"#m282139bd47\" x=\"137.483908\" y=\"158.278442\" style=\"fill: #8dd3c7; stroke: #8dd3c7\"/>\n     <use xlink:href=\"#m282139bd47\" x=\"143.695411\" y=\"154.244304\" style=\"fill: #8dd3c7; stroke: #8dd3c7\"/>\n     <use xlink:href=\"#m282139bd47\" x=\"149.906914\" y=\"150.210167\" style=\"fill: #8dd3c7; stroke: #8dd3c7\"/>\n     <use xlink:href=\"#m282139bd47\" x=\"156.118417\" y=\"146.17603\" style=\"fill: #8dd3c7; stroke: #8dd3c7\"/>\n     <use xlink:href=\"#m282139bd47\" x=\"162.329919\" y=\"142.141892\" style=\"fill: #8dd3c7; stroke: #8dd3c7\"/>\n     <use xlink:href=\"#m282139bd47\" x=\"168.541422\" y=\"138.107755\" style=\"fill: #8dd3c7; stroke: #8dd3c7\"/>\n     <use xlink:href=\"#m282139bd47\" x=\"174.752925\" y=\"134.073618\" style=\"fill: #8dd3c7; stroke: #8dd3c7\"/>\n     <use xlink:href=\"#m282139bd47\" x=\"180.964428\" y=\"130.039481\" style=\"fill: #8dd3c7; stroke: #8dd3c7\"/>\n     <use xlink:href=\"#m282139bd47\" x=\"187.175931\" y=\"126.005343\" style=\"fill: #8dd3c7; stroke: #8dd3c7\"/>\n     <use xlink:href=\"#m282139bd47\" x=\"193.387433\" y=\"121.971206\" style=\"fill: #8dd3c7; stroke: #8dd3c7\"/>\n     <use xlink:href=\"#m282139bd47\" x=\"199.598936\" y=\"117.937069\" style=\"fill: #8dd3c7; stroke: #8dd3c7\"/>\n     <use xlink:href=\"#m282139bd47\" x=\"205.810439\" y=\"113.902931\" style=\"fill: #8dd3c7; stroke: #8dd3c7\"/>\n     <use xlink:href=\"#m282139bd47\" x=\"212.021942\" y=\"109.868794\" style=\"fill: #8dd3c7; stroke: #8dd3c7\"/>\n     <use xlink:href=\"#m282139bd47\" x=\"218.233444\" y=\"105.834657\" style=\"fill: #8dd3c7; stroke: #8dd3c7\"/>\n     <use xlink:href=\"#m282139bd47\" x=\"224.444947\" y=\"101.800519\" style=\"fill: #8dd3c7; stroke: #8dd3c7\"/>\n     <use xlink:href=\"#m282139bd47\" x=\"230.65645\" y=\"97.766382\" style=\"fill: #8dd3c7; stroke: #8dd3c7\"/>\n     <use xlink:href=\"#m282139bd47\" x=\"236.867953\" y=\"93.732245\" style=\"fill: #8dd3c7; stroke: #8dd3c7\"/>\n     <use xlink:href=\"#m282139bd47\" x=\"243.079456\" y=\"89.698108\" style=\"fill: #8dd3c7; stroke: #8dd3c7\"/>\n     <use xlink:href=\"#m282139bd47\" x=\"249.290958\" y=\"85.66397\" style=\"fill: #8dd3c7; stroke: #8dd3c7\"/>\n     <use xlink:href=\"#m282139bd47\" x=\"255.502461\" y=\"81.629833\" style=\"fill: #8dd3c7; stroke: #8dd3c7\"/>\n     <use xlink:href=\"#m282139bd47\" x=\"261.713964\" y=\"77.595696\" style=\"fill: #8dd3c7; stroke: #8dd3c7\"/>\n     <use xlink:href=\"#m282139bd47\" x=\"267.925467\" y=\"73.561558\" style=\"fill: #8dd3c7; stroke: #8dd3c7\"/>\n     <use xlink:href=\"#m282139bd47\" x=\"274.13697\" y=\"69.527421\" style=\"fill: #8dd3c7; stroke: #8dd3c7\"/>\n     <use xlink:href=\"#m282139bd47\" x=\"280.348472\" y=\"65.493284\" style=\"fill: #8dd3c7; stroke: #8dd3c7\"/>\n     <use xlink:href=\"#m282139bd47\" x=\"286.559975\" y=\"61.459147\" style=\"fill: #8dd3c7; stroke: #8dd3c7\"/>\n     <use xlink:href=\"#m282139bd47\" x=\"292.771478\" y=\"57.425009\" style=\"fill: #8dd3c7; stroke: #8dd3c7\"/>\n     <use xlink:href=\"#m282139bd47\" x=\"298.982981\" y=\"53.390872\" style=\"fill: #8dd3c7; stroke: #8dd3c7\"/>\n     <use xlink:href=\"#m282139bd47\" x=\"305.194483\" y=\"49.356735\" style=\"fill: #8dd3c7; stroke: #8dd3c7\"/>\n     <use xlink:href=\"#m282139bd47\" x=\"311.405986\" y=\"45.322597\" style=\"fill: #8dd3c7; stroke: #8dd3c7\"/>\n     <use xlink:href=\"#m282139bd47\" x=\"317.617489\" y=\"41.28846\" style=\"fill: #8dd3c7; stroke: #8dd3c7\"/>\n     <use xlink:href=\"#m282139bd47\" x=\"323.828992\" y=\"37.254323\" style=\"fill: #8dd3c7; stroke: #8dd3c7\"/>\n     <use xlink:href=\"#m282139bd47\" x=\"330.040495\" y=\"33.220186\" style=\"fill: #8dd3c7; stroke: #8dd3c7\"/>\n     <use xlink:href=\"#m282139bd47\" x=\"336.251997\" y=\"29.186048\" style=\"fill: #8dd3c7; stroke: #8dd3c7\"/>\n     <use xlink:href=\"#m282139bd47\" x=\"342.4635\" y=\"25.151911\" style=\"fill: #8dd3c7; stroke: #8dd3c7\"/>\n     <use xlink:href=\"#m282139bd47\" x=\"348.675003\" y=\"21.117774\" style=\"fill: #8dd3c7; stroke: #8dd3c7\"/>\n     <use xlink:href=\"#m282139bd47\" x=\"354.886506\" y=\"17.083636\" style=\"fill: #8dd3c7; stroke: #8dd3c7\"/>\n    </g>\n   </g>\n   <g id=\"matplotlib.axis_1\">\n    <g id=\"xtick_1\">\n     <g id=\"line2d_1\">\n      <defs>\n       <path id=\"m3caac89b84\" d=\"M 0 0 \nL 0 3.5 \n\" style=\"stroke: #ffffff; stroke-width: 0.8\"/>\n      </defs>\n      <g>\n       <use xlink:href=\"#m3caac89b84\" x=\"50.522869\" y=\"224.64\" style=\"fill: #ffffff; stroke: #ffffff; stroke-width: 0.8\"/>\n      </g>\n     </g>\n     <g id=\"text_1\">\n      <!-- −100 -->\n      <g style=\"fill: #ffffff\" transform=\"translate(36.789276 239.238437)scale(0.1 -0.1)\">\n       <defs>\n        <path id=\"DejaVuSans-2212\" d=\"M 678 2272 \nL 4684 2272 \nL 4684 1741 \nL 678 1741 \nL 678 2272 \nz\n\" transform=\"scale(0.015625)\"/>\n        <path id=\"DejaVuSans-31\" d=\"M 794 531 \nL 1825 531 \nL 1825 4091 \nL 703 3866 \nL 703 4441 \nL 1819 4666 \nL 2450 4666 \nL 2450 531 \nL 3481 531 \nL 3481 0 \nL 794 0 \nL 794 531 \nz\n\" transform=\"scale(0.015625)\"/>\n        <path id=\"DejaVuSans-30\" d=\"M 2034 4250 \nQ 1547 4250 1301 3770 \nQ 1056 3291 1056 2328 \nQ 1056 1369 1301 889 \nQ 1547 409 2034 409 \nQ 2525 409 2770 889 \nQ 3016 1369 3016 2328 \nQ 3016 3291 2770 3770 \nQ 2525 4250 2034 4250 \nz\nM 2034 4750 \nQ 2819 4750 3233 4129 \nQ 3647 3509 3647 2328 \nQ 3647 1150 3233 529 \nQ 2819 -91 2034 -91 \nQ 1250 -91 836 529 \nQ 422 1150 422 2328 \nQ 422 3509 836 4129 \nQ 1250 4750 2034 4750 \nz\n\" transform=\"scale(0.015625)\"/>\n       </defs>\n       <use xlink:href=\"#DejaVuSans-2212\"/>\n       <use xlink:href=\"#DejaVuSans-31\" x=\"83.789062\"/>\n       <use xlink:href=\"#DejaVuSans-30\" x=\"147.412109\"/>\n       <use xlink:href=\"#DejaVuSans-30\" x=\"211.035156\"/>\n      </g>\n     </g>\n    </g>\n    <g id=\"xtick_2\">\n     <g id=\"line2d_2\">\n      <g>\n       <use xlink:href=\"#m3caac89b84\" x=\"89.344762\" y=\"224.64\" style=\"fill: #ffffff; stroke: #ffffff; stroke-width: 0.8\"/>\n      </g>\n     </g>\n     <g id=\"text_2\">\n      <!-- −75 -->\n      <g style=\"fill: #ffffff\" transform=\"translate(78.792418 239.238437)scale(0.1 -0.1)\">\n       <defs>\n        <path id=\"DejaVuSans-37\" d=\"M 525 4666 \nL 3525 4666 \nL 3525 4397 \nL 1831 0 \nL 1172 0 \nL 2766 4134 \nL 525 4134 \nL 525 4666 \nz\n\" transform=\"scale(0.015625)\"/>\n        <path id=\"DejaVuSans-35\" d=\"M 691 4666 \nL 3169 4666 \nL 3169 4134 \nL 1269 4134 \nL 1269 2991 \nQ 1406 3038 1543 3061 \nQ 1681 3084 1819 3084 \nQ 2600 3084 3056 2656 \nQ 3513 2228 3513 1497 \nQ 3513 744 3044 326 \nQ 2575 -91 1722 -91 \nQ 1428 -91 1123 -41 \nQ 819 9 494 109 \nL 494 744 \nQ 775 591 1075 516 \nQ 1375 441 1709 441 \nQ 2250 441 2565 725 \nQ 2881 1009 2881 1497 \nQ 2881 1984 2565 2268 \nQ 2250 2553 1709 2553 \nQ 1456 2553 1204 2497 \nQ 953 2441 691 2322 \nL 691 4666 \nz\n\" transform=\"scale(0.015625)\"/>\n       </defs>\n       <use xlink:href=\"#DejaVuSans-2212\"/>\n       <use xlink:href=\"#DejaVuSans-37\" x=\"83.789062\"/>\n       <use xlink:href=\"#DejaVuSans-35\" x=\"147.412109\"/>\n      </g>\n     </g>\n    </g>\n    <g id=\"xtick_3\">\n     <g id=\"line2d_3\">\n      <g>\n       <use xlink:href=\"#m3caac89b84\" x=\"128.166654\" y=\"224.64\" style=\"fill: #ffffff; stroke: #ffffff; stroke-width: 0.8\"/>\n      </g>\n     </g>\n     <g id=\"text_3\">\n      <!-- −50 -->\n      <g style=\"fill: #ffffff\" transform=\"translate(117.61431 239.238437)scale(0.1 -0.1)\">\n       <use xlink:href=\"#DejaVuSans-2212\"/>\n       <use xlink:href=\"#DejaVuSans-35\" x=\"83.789062\"/>\n       <use xlink:href=\"#DejaVuSans-30\" x=\"147.412109\"/>\n      </g>\n     </g>\n    </g>\n    <g id=\"xtick_4\">\n     <g id=\"line2d_4\">\n      <g>\n       <use xlink:href=\"#m3caac89b84\" x=\"166.988546\" y=\"224.64\" style=\"fill: #ffffff; stroke: #ffffff; stroke-width: 0.8\"/>\n      </g>\n     </g>\n     <g id=\"text_4\">\n      <!-- −25 -->\n      <g style=\"fill: #ffffff\" transform=\"translate(156.436203 239.238437)scale(0.1 -0.1)\">\n       <defs>\n        <path id=\"DejaVuSans-32\" d=\"M 1228 531 \nL 3431 531 \nL 3431 0 \nL 469 0 \nL 469 531 \nQ 828 903 1448 1529 \nQ 2069 2156 2228 2338 \nQ 2531 2678 2651 2914 \nQ 2772 3150 2772 3378 \nQ 2772 3750 2511 3984 \nQ 2250 4219 1831 4219 \nQ 1534 4219 1204 4116 \nQ 875 4013 500 3803 \nL 500 4441 \nQ 881 4594 1212 4672 \nQ 1544 4750 1819 4750 \nQ 2544 4750 2975 4387 \nQ 3406 4025 3406 3419 \nQ 3406 3131 3298 2873 \nQ 3191 2616 2906 2266 \nQ 2828 2175 2409 1742 \nQ 1991 1309 1228 531 \nz\n\" transform=\"scale(0.015625)\"/>\n       </defs>\n       <use xlink:href=\"#DejaVuSans-2212\"/>\n       <use xlink:href=\"#DejaVuSans-32\" x=\"83.789062\"/>\n       <use xlink:href=\"#DejaVuSans-35\" x=\"147.412109\"/>\n      </g>\n     </g>\n    </g>\n    <g id=\"xtick_5\">\n     <g id=\"line2d_5\">\n      <g>\n       <use xlink:href=\"#m3caac89b84\" x=\"205.810439\" y=\"224.64\" style=\"fill: #ffffff; stroke: #ffffff; stroke-width: 0.8\"/>\n      </g>\n     </g>\n     <g id=\"text_5\">\n      <!-- 0 -->\n      <g style=\"fill: #ffffff\" transform=\"translate(202.629189 239.238437)scale(0.1 -0.1)\">\n       <use xlink:href=\"#DejaVuSans-30\"/>\n      </g>\n     </g>\n    </g>\n    <g id=\"xtick_6\">\n     <g id=\"line2d_6\">\n      <g>\n       <use xlink:href=\"#m3caac89b84\" x=\"244.632331\" y=\"224.64\" style=\"fill: #ffffff; stroke: #ffffff; stroke-width: 0.8\"/>\n      </g>\n     </g>\n     <g id=\"text_6\">\n      <!-- 25 -->\n      <g style=\"fill: #ffffff\" transform=\"translate(238.269831 239.238437)scale(0.1 -0.1)\">\n       <use xlink:href=\"#DejaVuSans-32\"/>\n       <use xlink:href=\"#DejaVuSans-35\" x=\"63.623047\"/>\n      </g>\n     </g>\n    </g>\n    <g id=\"xtick_7\">\n     <g id=\"line2d_7\">\n      <g>\n       <use xlink:href=\"#m3caac89b84\" x=\"283.454224\" y=\"224.64\" style=\"fill: #ffffff; stroke: #ffffff; stroke-width: 0.8\"/>\n      </g>\n     </g>\n     <g id=\"text_7\">\n      <!-- 50 -->\n      <g style=\"fill: #ffffff\" transform=\"translate(277.091724 239.238437)scale(0.1 -0.1)\">\n       <use xlink:href=\"#DejaVuSans-35\"/>\n       <use xlink:href=\"#DejaVuSans-30\" x=\"63.623047\"/>\n      </g>\n     </g>\n    </g>\n    <g id=\"xtick_8\">\n     <g id=\"line2d_8\">\n      <g>\n       <use xlink:href=\"#m3caac89b84\" x=\"322.276116\" y=\"224.64\" style=\"fill: #ffffff; stroke: #ffffff; stroke-width: 0.8\"/>\n      </g>\n     </g>\n     <g id=\"text_8\">\n      <!-- 75 -->\n      <g style=\"fill: #ffffff\" transform=\"translate(315.913616 239.238437)scale(0.1 -0.1)\">\n       <use xlink:href=\"#DejaVuSans-37\"/>\n       <use xlink:href=\"#DejaVuSans-35\" x=\"63.623047\"/>\n      </g>\n     </g>\n    </g>\n    <g id=\"xtick_9\">\n     <g id=\"line2d_9\">\n      <g>\n       <use xlink:href=\"#m3caac89b84\" x=\"361.098008\" y=\"224.64\" style=\"fill: #ffffff; stroke: #ffffff; stroke-width: 0.8\"/>\n      </g>\n     </g>\n     <g id=\"text_9\">\n      <!-- 100 -->\n      <g style=\"fill: #ffffff\" transform=\"translate(351.554258 239.238437)scale(0.1 -0.1)\">\n       <use xlink:href=\"#DejaVuSans-31\"/>\n       <use xlink:href=\"#DejaVuSans-30\" x=\"63.623047\"/>\n       <use xlink:href=\"#DejaVuSans-30\" x=\"127.246094\"/>\n      </g>\n     </g>\n    </g>\n   </g>\n   <g id=\"matplotlib.axis_2\">\n    <g id=\"ytick_1\">\n     <g id=\"line2d_10\">\n      <defs>\n       <path id=\"m1456c54197\" d=\"M 0 0 \nL -3.5 0 \n\" style=\"stroke: #ffffff; stroke-width: 0.8\"/>\n      </defs>\n      <g>\n       <use xlink:href=\"#m1456c54197\" x=\"35.304688\" y=\"199.628349\" style=\"fill: #ffffff; stroke: #ffffff; stroke-width: 0.8\"/>\n      </g>\n     </g>\n     <g id=\"text_10\">\n      <!-- −75 -->\n      <g style=\"fill: #ffffff\" transform=\"translate(7.2 203.427568)scale(0.1 -0.1)\">\n       <use xlink:href=\"#DejaVuSans-2212\"/>\n       <use xlink:href=\"#DejaVuSans-37\" x=\"83.789062\"/>\n       <use xlink:href=\"#DejaVuSans-35\" x=\"147.412109\"/>\n      </g>\n     </g>\n    </g>\n    <g id=\"ytick_2\">\n     <g id=\"line2d_11\">\n      <g>\n       <use xlink:href=\"#m1456c54197\" x=\"35.304688\" y=\"174.414991\" style=\"fill: #ffffff; stroke: #ffffff; stroke-width: 0.8\"/>\n      </g>\n     </g>\n     <g id=\"text_11\">\n      <!-- −50 -->\n      <g style=\"fill: #ffffff\" transform=\"translate(7.2 178.214209)scale(0.1 -0.1)\">\n       <use xlink:href=\"#DejaVuSans-2212\"/>\n       <use xlink:href=\"#DejaVuSans-35\" x=\"83.789062\"/>\n       <use xlink:href=\"#DejaVuSans-30\" x=\"147.412109\"/>\n      </g>\n     </g>\n    </g>\n    <g id=\"ytick_3\">\n     <g id=\"line2d_12\">\n      <g>\n       <use xlink:href=\"#m1456c54197\" x=\"35.304688\" y=\"149.201633\" style=\"fill: #ffffff; stroke: #ffffff; stroke-width: 0.8\"/>\n      </g>\n     </g>\n     <g id=\"text_12\">\n      <!-- −25 -->\n      <g style=\"fill: #ffffff\" transform=\"translate(7.2 153.000851)scale(0.1 -0.1)\">\n       <use xlink:href=\"#DejaVuSans-2212\"/>\n       <use xlink:href=\"#DejaVuSans-32\" x=\"83.789062\"/>\n       <use xlink:href=\"#DejaVuSans-35\" x=\"147.412109\"/>\n      </g>\n     </g>\n    </g>\n    <g id=\"ytick_4\">\n     <g id=\"line2d_13\">\n      <g>\n       <use xlink:href=\"#m1456c54197\" x=\"35.304688\" y=\"123.988275\" style=\"fill: #ffffff; stroke: #ffffff; stroke-width: 0.8\"/>\n      </g>\n     </g>\n     <g id=\"text_13\">\n      <!-- 0 -->\n      <g style=\"fill: #ffffff\" transform=\"translate(21.942188 127.787493)scale(0.1 -0.1)\">\n       <use xlink:href=\"#DejaVuSans-30\"/>\n      </g>\n     </g>\n    </g>\n    <g id=\"ytick_5\">\n     <g id=\"line2d_14\">\n      <g>\n       <use xlink:href=\"#m1456c54197\" x=\"35.304688\" y=\"98.774917\" style=\"fill: #ffffff; stroke: #ffffff; stroke-width: 0.8\"/>\n      </g>\n     </g>\n     <g id=\"text_14\">\n      <!-- 25 -->\n      <g style=\"fill: #ffffff\" transform=\"translate(15.579688 102.574135)scale(0.1 -0.1)\">\n       <use xlink:href=\"#DejaVuSans-32\"/>\n       <use xlink:href=\"#DejaVuSans-35\" x=\"63.623047\"/>\n      </g>\n     </g>\n    </g>\n    <g id=\"ytick_6\">\n     <g id=\"line2d_15\">\n      <g>\n       <use xlink:href=\"#m1456c54197\" x=\"35.304688\" y=\"73.561558\" style=\"fill: #ffffff; stroke: #ffffff; stroke-width: 0.8\"/>\n      </g>\n     </g>\n     <g id=\"text_15\">\n      <!-- 50 -->\n      <g style=\"fill: #ffffff\" transform=\"translate(15.579688 77.360777)scale(0.1 -0.1)\">\n       <use xlink:href=\"#DejaVuSans-35\"/>\n       <use xlink:href=\"#DejaVuSans-30\" x=\"63.623047\"/>\n      </g>\n     </g>\n    </g>\n    <g id=\"ytick_7\">\n     <g id=\"line2d_16\">\n      <g>\n       <use xlink:href=\"#m1456c54197\" x=\"35.304688\" y=\"48.3482\" style=\"fill: #ffffff; stroke: #ffffff; stroke-width: 0.8\"/>\n      </g>\n     </g>\n     <g id=\"text_16\">\n      <!-- 75 -->\n      <g style=\"fill: #ffffff\" transform=\"translate(15.579688 52.147419)scale(0.1 -0.1)\">\n       <use xlink:href=\"#DejaVuSans-37\"/>\n       <use xlink:href=\"#DejaVuSans-35\" x=\"63.623047\"/>\n      </g>\n     </g>\n    </g>\n    <g id=\"ytick_8\">\n     <g id=\"line2d_17\">\n      <g>\n       <use xlink:href=\"#m1456c54197\" x=\"35.304688\" y=\"23.134842\" style=\"fill: #ffffff; stroke: #ffffff; stroke-width: 0.8\"/>\n      </g>\n     </g>\n     <g id=\"text_17\">\n      <!-- 100 -->\n      <g style=\"fill: #ffffff\" transform=\"translate(9.217188 26.934061)scale(0.1 -0.1)\">\n       <use xlink:href=\"#DejaVuSans-31\"/>\n       <use xlink:href=\"#DejaVuSans-30\" x=\"63.623047\"/>\n       <use xlink:href=\"#DejaVuSans-30\" x=\"127.246094\"/>\n      </g>\n     </g>\n    </g>\n   </g>\n   <g id=\"patch_3\">\n    <path d=\"M 35.304688 224.64 \nL 35.304688 7.2 \n\" style=\"fill: none; stroke: #ffffff; stroke-width: 0.8; stroke-linejoin: miter; stroke-linecap: square\"/>\n   </g>\n   <g id=\"patch_4\">\n    <path d=\"M 370.104688 224.64 \nL 370.104688 7.2 \n\" style=\"fill: none; stroke: #ffffff; stroke-width: 0.8; stroke-linejoin: miter; stroke-linecap: square\"/>\n   </g>\n   <g id=\"patch_5\">\n    <path d=\"M 35.304688 224.64 \nL 370.104688 224.64 \n\" style=\"fill: none; stroke: #ffffff; stroke-width: 0.8; stroke-linejoin: miter; stroke-linecap: square\"/>\n   </g>\n   <g id=\"patch_6\">\n    <path d=\"M 35.304688 7.2 \nL 370.104688 7.2 \n\" style=\"fill: none; stroke: #ffffff; stroke-width: 0.8; stroke-linejoin: miter; stroke-linecap: square\"/>\n   </g>\n  </g>\n </g>\n <defs>\n  <clipPath id=\"pf62e3fe8ac\">\n   <rect x=\"35.304688\" y=\"7.2\" width=\"334.8\" height=\"217.44\"/>\n  </clipPath>\n </defs>\n</svg>\n",
      "text/plain": [
       "<Figure size 432x288 with 1 Axes>"
      ]
     },
     "metadata": {},
     "output_type": "display_data"
    }
   ],
   "source": [
    "# Visualize the data\n",
    "import matplotlib.pyplot as plt\n",
    "\n",
    "plt.scatter(X, y)"
   ]
  },
  {
   "cell_type": "markdown",
   "metadata": {},
   "source": [
    "### The 3 sets ...\n",
    "\n",
    "* **Training set** - the model learns from this data, which is typically 70-80% of the total data you have available\n",
    "* **Validation set** - the model gets tuned on this data, which is typically 10-15% of the data available\n",
    "* **Test set** - the model gets evaluated on this data to test what it has learned, this set is typically 10-15% of the total data available"
   ]
  },
  {
   "cell_type": "code",
   "execution_count": 20,
   "metadata": {},
   "outputs": [
    {
     "data": {
      "text/plain": [
       "50"
      ]
     },
     "execution_count": 20,
     "metadata": {},
     "output_type": "execute_result"
    }
   ],
   "source": [
    "# Check the length of how many samples we have\n",
    "len(X)"
   ]
  },
  {
   "cell_type": "code",
   "execution_count": 21,
   "metadata": {},
   "outputs": [
    {
     "data": {
      "text/plain": [
       "(40, 10, 40, 10)"
      ]
     },
     "execution_count": 21,
     "metadata": {},
     "output_type": "execute_result"
    }
   ],
   "source": [
    "# Split the data into train and test sets\n",
    "X_train = X[:40] # first 40 are the training samples (80% of the data)\n",
    "y_train = y[:40]\n",
    "X_test = X[40:] # 20% of the data\n",
    "y_test = y[40:]\n",
    "len(X_train), len(X_test), len(y_train), len(y_test)"
   ]
  },
  {
   "cell_type": "markdown",
   "metadata": {},
   "source": [
    "### Visualizing the data\n",
    "Now we've got our data in training and test sets... let's visualize it again!"
   ]
  },
  {
   "cell_type": "code",
   "execution_count": 22,
   "metadata": {},
   "outputs": [
    {
     "data": {
      "text/plain": [
       "<matplotlib.legend.Legend at 0x2654ff32910>"
      ]
     },
     "execution_count": 22,
     "metadata": {},
     "output_type": "execute_result"
    },
    {
     "data": {
      "image/png": "[encoded data removed]",
      "image/svg+xml": "<?xml version=\"1.0\" encoding=\"utf-8\" standalone=\"no\"?>\n<!DOCTYPE svg PUBLIC \"-//W3C//DTD SVG 1.1//EN\"\n  \"http://www.w3.org/Graphics/SVG/1.1/DTD/svg11.dtd\">\n<svg xmlns:xlink=\"http://www.w3.org/1999/xlink\" width=\"600.504688pt\" height=\"411.598125pt\" viewBox=\"0 0 600.504688 411.598125\" xmlns=\"http://www.w3.org/2000/svg\" version=\"1.1\">\n <metadata>\n  <rdf:RDF xmlns:dc=\"http://purl.org/dc/elements/1.1/\" xmlns:cc=\"http://creativecommons.org/ns#\" xmlns:rdf=\"http://www.w3.org/1999/02/22-rdf-syntax-ns#\">\n   <cc:Work>\n    <dc:type rdf:resource=\"http://purl.org/dc/dcmitype/StillImage\"/>\n    <dc:date>2022-05-10T09:38:29.472311</dc:date>\n    <dc:format>image/svg+xml</dc:format>\n    <dc:creator>\n     <cc:Agent>\n      <dc:title>Matplotlib v3.5.1, https://matplotlib.org/</dc:title>\n     </cc:Agent>\n    </dc:creator>\n   </cc:Work>\n  </rdf:RDF>\n </metadata>\n <defs>\n  <style type=\"text/css\">*{stroke-linejoin: round; stroke-linecap: butt}</style>\n </defs>\n <g id=\"figure_1\">\n  <g id=\"patch_1\">\n   <path d=\"M 0 411.598125 \nL 600.504688 411.598125 \nL 600.504688 0 \nL 0 0 \nz\n\"/>\n  </g>\n  <g id=\"axes_1\">\n   <g id=\"patch_2\">\n    <path d=\"M 35.304688 387.72 \nL 593.304688 387.72 \nL 593.304688 7.2 \nL 35.304688 7.2 \nz\n\"/>\n   </g>\n   <g id=\"PathCollection_1\">\n    <defs>\n     <path id=\"mce0a41a2df\" d=\"M 0 3 \nC 0.795609 3 1.55874 2.683901 2.12132 2.12132 \nC 2.683901 1.55874 3 0.795609 3 0 \nC 3 -0.795609 2.683901 -1.55874 2.12132 -2.12132 \nC 1.55874 -2.683901 0.795609 -3 0 -3 \nC -0.795609 -3 -1.55874 -2.683901 -2.12132 -2.12132 \nC -2.683901 -1.55874 -3 -0.795609 -3 0 \nC -3 0.795609 -2.683901 1.55874 -2.12132 2.12132 \nC -1.55874 2.683901 -0.795609 3 0 3 \nz\n\" style=\"stroke: #0000ff\"/>\n    </defs>\n    <g clip-path=\"url(#p94919263fd)\">\n     <use xlink:href=\"#mce0a41a2df\" x=\"60.668324\" y=\"370.423636\" style=\"fill: #0000ff; stroke: #0000ff\"/>\n     <use xlink:href=\"#mce0a41a2df\" x=\"71.020829\" y=\"363.363896\" style=\"fill: #0000ff; stroke: #0000ff\"/>\n     <use xlink:href=\"#mce0a41a2df\" x=\"81.373333\" y=\"356.304156\" style=\"fill: #0000ff; stroke: #0000ff\"/>\n     <use xlink:href=\"#mce0a41a2df\" x=\"91.725838\" y=\"349.244416\" style=\"fill: #0000ff; stroke: #0000ff\"/>\n     <use xlink:href=\"#mce0a41a2df\" x=\"102.078342\" y=\"342.184675\" style=\"fill: #0000ff; stroke: #0000ff\"/>\n     <use xlink:href=\"#mce0a41a2df\" x=\"112.430847\" y=\"335.124935\" style=\"fill: #0000ff; stroke: #0000ff\"/>\n     <use xlink:href=\"#mce0a41a2df\" x=\"122.783352\" y=\"328.065195\" style=\"fill: #0000ff; stroke: #0000ff\"/>\n     <use xlink:href=\"#mce0a41a2df\" x=\"133.135856\" y=\"321.005455\" style=\"fill: #0000ff; stroke: #0000ff\"/>\n     <use xlink:href=\"#mce0a41a2df\" x=\"143.488361\" y=\"313.945714\" style=\"fill: #0000ff; stroke: #0000ff\"/>\n     <use xlink:href=\"#mce0a41a2df\" x=\"153.840866\" y=\"306.885974\" style=\"fill: #0000ff; stroke: #0000ff\"/>\n     <use xlink:href=\"#mce0a41a2df\" x=\"164.19337\" y=\"299.826234\" style=\"fill: #0000ff; stroke: #0000ff\"/>\n     <use xlink:href=\"#mce0a41a2df\" x=\"174.545875\" y=\"292.766494\" style=\"fill: #0000ff; stroke: #0000ff\"/>\n     <use xlink:href=\"#mce0a41a2df\" x=\"184.89838\" y=\"285.706753\" style=\"fill: #0000ff; stroke: #0000ff\"/>\n     <use xlink:href=\"#mce0a41a2df\" x=\"195.250884\" y=\"278.647013\" style=\"fill: #0000ff; stroke: #0000ff\"/>\n     <use xlink:href=\"#mce0a41a2df\" x=\"205.603389\" y=\"271.587273\" style=\"fill: #0000ff; stroke: #0000ff\"/>\n     <use xlink:href=\"#mce0a41a2df\" x=\"215.955893\" y=\"264.527532\" style=\"fill: #0000ff; stroke: #0000ff\"/>\n     <use xlink:href=\"#mce0a41a2df\" x=\"226.308398\" y=\"257.467792\" style=\"fill: #0000ff; stroke: #0000ff\"/>\n     <use xlink:href=\"#mce0a41a2df\" x=\"236.660903\" y=\"250.408052\" style=\"fill: #0000ff; stroke: #0000ff\"/>\n     <use xlink:href=\"#mce0a41a2df\" x=\"247.013407\" y=\"243.348312\" style=\"fill: #0000ff; stroke: #0000ff\"/>\n     <use xlink:href=\"#mce0a41a2df\" x=\"257.365912\" y=\"236.288571\" style=\"fill: #0000ff; stroke: #0000ff\"/>\n     <use xlink:href=\"#mce0a41a2df\" x=\"267.718417\" y=\"229.228831\" style=\"fill: #0000ff; stroke: #0000ff\"/>\n     <use xlink:href=\"#mce0a41a2df\" x=\"278.070921\" y=\"222.169091\" style=\"fill: #0000ff; stroke: #0000ff\"/>\n     <use xlink:href=\"#mce0a41a2df\" x=\"288.423426\" y=\"215.109351\" style=\"fill: #0000ff; stroke: #0000ff\"/>\n     <use xlink:href=\"#mce0a41a2df\" x=\"298.775931\" y=\"208.04961\" style=\"fill: #0000ff; stroke: #0000ff\"/>\n     <use xlink:href=\"#mce0a41a2df\" x=\"309.128435\" y=\"200.98987\" style=\"fill: #0000ff; stroke: #0000ff\"/>\n     <use xlink:href=\"#mce0a41a2df\" x=\"319.48094\" y=\"193.93013\" style=\"fill: #0000ff; stroke: #0000ff\"/>\n     <use xlink:href=\"#mce0a41a2df\" x=\"329.833444\" y=\"186.87039\" style=\"fill: #0000ff; stroke: #0000ff\"/>\n     <use xlink:href=\"#mce0a41a2df\" x=\"340.185949\" y=\"179.810649\" style=\"fill: #0000ff; stroke: #0000ff\"/>\n     <use xlink:href=\"#mce0a41a2df\" x=\"350.538454\" y=\"172.750909\" style=\"fill: #0000ff; stroke: #0000ff\"/>\n     <use xlink:href=\"#mce0a41a2df\" x=\"360.890958\" y=\"165.691169\" style=\"fill: #0000ff; stroke: #0000ff\"/>\n     <use xlink:href=\"#mce0a41a2df\" x=\"371.243463\" y=\"158.631429\" style=\"fill: #0000ff; stroke: #0000ff\"/>\n     <use xlink:href=\"#mce0a41a2df\" x=\"381.595968\" y=\"151.571688\" style=\"fill: #0000ff; stroke: #0000ff\"/>\n     <use xlink:href=\"#mce0a41a2df\" x=\"391.948472\" y=\"144.511948\" style=\"fill: #0000ff; stroke: #0000ff\"/>\n     <use xlink:href=\"#mce0a41a2df\" x=\"402.300977\" y=\"137.452208\" style=\"fill: #0000ff; stroke: #0000ff\"/>\n     <use xlink:href=\"#mce0a41a2df\" x=\"412.653482\" y=\"130.392468\" style=\"fill: #0000ff; stroke: #0000ff\"/>\n     <use xlink:href=\"#mce0a41a2df\" x=\"423.005986\" y=\"123.332727\" style=\"fill: #0000ff; stroke: #0000ff\"/>\n     <use xlink:href=\"#mce0a41a2df\" x=\"433.358491\" y=\"116.272987\" style=\"fill: #0000ff; stroke: #0000ff\"/>\n     <use xlink:href=\"#mce0a41a2df\" x=\"443.710995\" y=\"109.213247\" style=\"fill: #0000ff; stroke: #0000ff\"/>\n     <use xlink:href=\"#mce0a41a2df\" x=\"454.0635\" y=\"102.153506\" style=\"fill: #0000ff; stroke: #0000ff\"/>\n     <use xlink:href=\"#mce0a41a2df\" x=\"464.416005\" y=\"95.093766\" style=\"fill: #0000ff; stroke: #0000ff\"/>\n    </g>\n   </g>\n   <g id=\"PathCollection_2\">\n    <defs>\n     <path id=\"mee025fe37d\" d=\"M 0 3 \nC 0.795609 3 1.55874 2.683901 2.12132 2.12132 \nC 2.683901 1.55874 3 0.795609 3 0 \nC 3 -0.795609 2.683901 -1.55874 2.12132 -2.12132 \nC 1.55874 -2.683901 0.795609 -3 0 -3 \nC -0.795609 -3 -1.55874 -2.683901 -2.12132 -2.12132 \nC -2.683901 -1.55874 -3 -0.795609 -3 0 \nC -3 0.795609 -2.683901 1.55874 -2.12132 2.12132 \nC -1.55874 2.683901 -0.795609 3 0 3 \nz\n\" style=\"stroke: #008000\"/>\n    </defs>\n    <g clip-path=\"url(#p94919263fd)\">\n     <use xlink:href=\"#mee025fe37d\" x=\"474.768509\" y=\"88.034026\" style=\"fill: #008000; stroke: #008000\"/>\n     <use xlink:href=\"#mee025fe37d\" x=\"485.121014\" y=\"80.974286\" style=\"fill: #008000; stroke: #008000\"/>\n     <use xlink:href=\"#mee025fe37d\" x=\"495.473519\" y=\"73.914545\" style=\"fill: #008000; stroke: #008000\"/>\n     <use xlink:href=\"#mee025fe37d\" x=\"505.826023\" y=\"66.854805\" style=\"fill: #008000; stroke: #008000\"/>\n     <use xlink:href=\"#mee025fe37d\" x=\"516.178528\" y=\"59.795065\" style=\"fill: #008000; stroke: #008000\"/>\n     <use xlink:href=\"#mee025fe37d\" x=\"526.531033\" y=\"52.735325\" style=\"fill: #008000; stroke: #008000\"/>\n     <use xlink:href=\"#mee025fe37d\" x=\"536.883537\" y=\"45.675584\" style=\"fill: #008000; stroke: #008000\"/>\n     <use xlink:href=\"#mee025fe37d\" x=\"547.236042\" y=\"38.615844\" style=\"fill: #008000; stroke: #008000\"/>\n     <use xlink:href=\"#mee025fe37d\" x=\"557.588546\" y=\"31.556104\" style=\"fill: #008000; stroke: #008000\"/>\n     <use xlink:href=\"#mee025fe37d\" x=\"567.941051\" y=\"24.496364\" style=\"fill: #008000; stroke: #008000\"/>\n    </g>\n   </g>\n   <g id=\"matplotlib.axis_1\">\n    <g id=\"xtick_1\">\n     <g id=\"line2d_1\">\n      <defs>\n       <path id=\"m2912dc9818\" d=\"M 0 0 \nL 0 3.5 \n\" style=\"stroke: #ffffff; stroke-width: 0.8\"/>\n      </defs>\n      <g>\n       <use xlink:href=\"#m2912dc9818\" x=\"60.668324\" y=\"387.72\" style=\"fill: #ffffff; stroke: #ffffff; stroke-width: 0.8\"/>\n      </g>\n     </g>\n     <g id=\"text_1\">\n      <!-- −100 -->\n      <g style=\"fill: #ffffff\" transform=\"translate(46.93473 402.318437)scale(0.1 -0.1)\">\n       <defs>\n        <path id=\"DejaVuSans-2212\" d=\"M 678 2272 \nL 4684 2272 \nL 4684 1741 \nL 678 1741 \nL 678 2272 \nz\n\" transform=\"scale(0.015625)\"/>\n        <path id=\"DejaVuSans-31\" d=\"M 794 531 \nL 1825 531 \nL 1825 4091 \nL 703 3866 \nL 703 4441 \nL 1819 4666 \nL 2450 4666 \nL 2450 531 \nL 3481 531 \nL 3481 0 \nL 794 0 \nL 794 531 \nz\n\" transform=\"scale(0.015625)\"/>\n        <path id=\"DejaVuSans-30\" d=\"M 2034 4250 \nQ 1547 4250 1301 3770 \nQ 1056 3291 1056 2328 \nQ 1056 1369 1301 889 \nQ 1547 409 2034 409 \nQ 2525 409 2770 889 \nQ 3016 1369 3016 2328 \nQ 3016 3291 2770 3770 \nQ 2525 4250 2034 4250 \nz\nM 2034 4750 \nQ 2819 4750 3233 4129 \nQ 3647 3509 3647 2328 \nQ 3647 1150 3233 529 \nQ 2819 -91 2034 -91 \nQ 1250 -91 836 529 \nQ 422 1150 422 2328 \nQ 422 3509 836 4129 \nQ 1250 4750 2034 4750 \nz\n\" transform=\"scale(0.015625)\"/>\n       </defs>\n       <use xlink:href=\"#DejaVuSans-2212\"/>\n       <use xlink:href=\"#DejaVuSans-31\" x=\"83.789062\"/>\n       <use xlink:href=\"#DejaVuSans-30\" x=\"147.412109\"/>\n       <use xlink:href=\"#DejaVuSans-30\" x=\"211.035156\"/>\n      </g>\n     </g>\n    </g>\n    <g id=\"xtick_2\">\n     <g id=\"line2d_2\">\n      <g>\n       <use xlink:href=\"#m2912dc9818\" x=\"125.371478\" y=\"387.72\" style=\"fill: #ffffff; stroke: #ffffff; stroke-width: 0.8\"/>\n      </g>\n     </g>\n     <g id=\"text_2\">\n      <!-- −75 -->\n      <g style=\"fill: #ffffff\" transform=\"translate(114.819134 402.318437)scale(0.1 -0.1)\">\n       <defs>\n        <path id=\"DejaVuSans-37\" d=\"M 525 4666 \nL 3525 4666 \nL 3525 4397 \nL 1831 0 \nL 1172 0 \nL 2766 4134 \nL 525 4134 \nL 525 4666 \nz\n\" transform=\"scale(0.015625)\"/>\n        <path id=\"DejaVuSans-35\" d=\"M 691 4666 \nL 3169 4666 \nL 3169 4134 \nL 1269 4134 \nL 1269 2991 \nQ 1406 3038 1543 3061 \nQ 1681 3084 1819 3084 \nQ 2600 3084 3056 2656 \nQ 3513 2228 3513 1497 \nQ 3513 744 3044 326 \nQ 2575 -91 1722 -91 \nQ 1428 -91 1123 -41 \nQ 819 9 494 109 \nL 494 744 \nQ 775 591 1075 516 \nQ 1375 441 1709 441 \nQ 2250 441 2565 725 \nQ 2881 1009 2881 1497 \nQ 2881 1984 2565 2268 \nQ 2250 2553 1709 2553 \nQ 1456 2553 1204 2497 \nQ 953 2441 691 2322 \nL 691 4666 \nz\n\" transform=\"scale(0.015625)\"/>\n       </defs>\n       <use xlink:href=\"#DejaVuSans-2212\"/>\n       <use xlink:href=\"#DejaVuSans-37\" x=\"83.789062\"/>\n       <use xlink:href=\"#DejaVuSans-35\" x=\"147.412109\"/>\n      </g>\n     </g>\n    </g>\n    <g id=\"xtick_3\">\n     <g id=\"line2d_3\">\n      <g>\n       <use xlink:href=\"#m2912dc9818\" x=\"190.074632\" y=\"387.72\" style=\"fill: #ffffff; stroke: #ffffff; stroke-width: 0.8\"/>\n      </g>\n     </g>\n     <g id=\"text_3\">\n      <!-- −50 -->\n      <g style=\"fill: #ffffff\" transform=\"translate(179.522288 402.318437)scale(0.1 -0.1)\">\n       <use xlink:href=\"#DejaVuSans-2212\"/>\n       <use xlink:href=\"#DejaVuSans-35\" x=\"83.789062\"/>\n       <use xlink:href=\"#DejaVuSans-30\" x=\"147.412109\"/>\n      </g>\n     </g>\n    </g>\n    <g id=\"xtick_4\">\n     <g id=\"line2d_4\">\n      <g>\n       <use xlink:href=\"#m2912dc9818\" x=\"254.777786\" y=\"387.72\" style=\"fill: #ffffff; stroke: #ffffff; stroke-width: 0.8\"/>\n      </g>\n     </g>\n     <g id=\"text_4\">\n      <!-- −25 -->\n      <g style=\"fill: #ffffff\" transform=\"translate(244.225442 402.318437)scale(0.1 -0.1)\">\n       <defs>\n        <path id=\"DejaVuSans-32\" d=\"M 1228 531 \nL 3431 531 \nL 3431 0 \nL 469 0 \nL 469 531 \nQ 828 903 1448 1529 \nQ 2069 2156 2228 2338 \nQ 2531 2678 2651 2914 \nQ 2772 3150 2772 3378 \nQ 2772 3750 2511 3984 \nQ 2250 4219 1831 4219 \nQ 1534 4219 1204 4116 \nQ 875 4013 500 3803 \nL 500 4441 \nQ 881 4594 1212 4672 \nQ 1544 4750 1819 4750 \nQ 2544 4750 2975 4387 \nQ 3406 4025 3406 3419 \nQ 3406 3131 3298 2873 \nQ 3191 2616 2906 2266 \nQ 2828 2175 2409 1742 \nQ 1991 1309 1228 531 \nz\n\" transform=\"scale(0.015625)\"/>\n       </defs>\n       <use xlink:href=\"#DejaVuSans-2212\"/>\n       <use xlink:href=\"#DejaVuSans-32\" x=\"83.789062\"/>\n       <use xlink:href=\"#DejaVuSans-35\" x=\"147.412109\"/>\n      </g>\n     </g>\n    </g>\n    <g id=\"xtick_5\">\n     <g id=\"line2d_5\">\n      <g>\n       <use xlink:href=\"#m2912dc9818\" x=\"319.48094\" y=\"387.72\" style=\"fill: #ffffff; stroke: #ffffff; stroke-width: 0.8\"/>\n      </g>\n     </g>\n     <g id=\"text_5\">\n      <!-- 0 -->\n      <g style=\"fill: #ffffff\" transform=\"translate(316.29969 402.318437)scale(0.1 -0.1)\">\n       <use xlink:href=\"#DejaVuSans-30\"/>\n      </g>\n     </g>\n    </g>\n    <g id=\"xtick_6\">\n     <g id=\"line2d_6\">\n      <g>\n       <use xlink:href=\"#m2912dc9818\" x=\"384.184094\" y=\"387.72\" style=\"fill: #ffffff; stroke: #ffffff; stroke-width: 0.8\"/>\n      </g>\n     </g>\n     <g id=\"text_6\">\n      <!-- 25 -->\n      <g style=\"fill: #ffffff\" transform=\"translate(377.821594 402.318437)scale(0.1 -0.1)\">\n       <use xlink:href=\"#DejaVuSans-32\"/>\n       <use xlink:href=\"#DejaVuSans-35\" x=\"63.623047\"/>\n      </g>\n     </g>\n    </g>\n    <g id=\"xtick_7\">\n     <g id=\"line2d_7\">\n      <g>\n       <use xlink:href=\"#m2912dc9818\" x=\"448.887248\" y=\"387.72\" style=\"fill: #ffffff; stroke: #ffffff; stroke-width: 0.8\"/>\n      </g>\n     </g>\n     <g id=\"text_7\">\n      <!-- 50 -->\n      <g style=\"fill: #ffffff\" transform=\"translate(442.524748 402.318437)scale(0.1 -0.1)\">\n       <use xlink:href=\"#DejaVuSans-35\"/>\n       <use xlink:href=\"#DejaVuSans-30\" x=\"63.623047\"/>\n      </g>\n     </g>\n    </g>\n    <g id=\"xtick_8\">\n     <g id=\"line2d_8\">\n      <g>\n       <use xlink:href=\"#m2912dc9818\" x=\"513.590402\" y=\"387.72\" style=\"fill: #ffffff; stroke: #ffffff; stroke-width: 0.8\"/>\n      </g>\n     </g>\n     <g id=\"text_8\">\n      <!-- 75 -->\n      <g style=\"fill: #ffffff\" transform=\"translate(507.227902 402.318437)scale(0.1 -0.1)\">\n       <use xlink:href=\"#DejaVuSans-37\"/>\n       <use xlink:href=\"#DejaVuSans-35\" x=\"63.623047\"/>\n      </g>\n     </g>\n    </g>\n    <g id=\"xtick_9\">\n     <g id=\"line2d_9\">\n      <g>\n       <use xlink:href=\"#m2912dc9818\" x=\"578.293556\" y=\"387.72\" style=\"fill: #ffffff; stroke: #ffffff; stroke-width: 0.8\"/>\n      </g>\n     </g>\n     <g id=\"text_9\">\n      <!-- 100 -->\n      <g style=\"fill: #ffffff\" transform=\"translate(568.749806 402.318437)scale(0.1 -0.1)\">\n       <use xlink:href=\"#DejaVuSans-31\"/>\n       <use xlink:href=\"#DejaVuSans-30\" x=\"63.623047\"/>\n       <use xlink:href=\"#DejaVuSans-30\" x=\"127.246094\"/>\n      </g>\n     </g>\n    </g>\n   </g>\n   <g id=\"matplotlib.axis_2\">\n    <g id=\"ytick_1\">\n     <g id=\"line2d_10\">\n      <defs>\n       <path id=\"mb1ef80091b\" d=\"M 0 0 \nL -3.5 0 \n\" style=\"stroke: #ffffff; stroke-width: 0.8\"/>\n      </defs>\n      <g>\n       <use xlink:href=\"#mb1ef80091b\" x=\"35.304688\" y=\"343.94961\" style=\"fill: #ffffff; stroke: #ffffff; stroke-width: 0.8\"/>\n      </g>\n     </g>\n     <g id=\"text_10\">\n      <!-- −75 -->\n      <g style=\"fill: #ffffff\" transform=\"translate(7.2 347.748829)scale(0.1 -0.1)\">\n       <use xlink:href=\"#DejaVuSans-2212\"/>\n       <use xlink:href=\"#DejaVuSans-37\" x=\"83.789062\"/>\n       <use xlink:href=\"#DejaVuSans-35\" x=\"147.412109\"/>\n      </g>\n     </g>\n    </g>\n    <g id=\"ytick_2\">\n     <g id=\"line2d_11\">\n      <g>\n       <use xlink:href=\"#mb1ef80091b\" x=\"35.304688\" y=\"299.826234\" style=\"fill: #ffffff; stroke: #ffffff; stroke-width: 0.8\"/>\n      </g>\n     </g>\n     <g id=\"text_11\">\n      <!-- −50 -->\n      <g style=\"fill: #ffffff\" transform=\"translate(7.2 303.625453)scale(0.1 -0.1)\">\n       <use xlink:href=\"#DejaVuSans-2212\"/>\n       <use xlink:href=\"#DejaVuSans-35\" x=\"83.789062\"/>\n       <use xlink:href=\"#DejaVuSans-30\" x=\"147.412109\"/>\n      </g>\n     </g>\n    </g>\n    <g id=\"ytick_3\">\n     <g id=\"line2d_12\">\n      <g>\n       <use xlink:href=\"#mb1ef80091b\" x=\"35.304688\" y=\"255.702857\" style=\"fill: #ffffff; stroke: #ffffff; stroke-width: 0.8\"/>\n      </g>\n     </g>\n     <g id=\"text_12\">\n      <!-- −25 -->\n      <g style=\"fill: #ffffff\" transform=\"translate(7.2 259.502076)scale(0.1 -0.1)\">\n       <use xlink:href=\"#DejaVuSans-2212\"/>\n       <use xlink:href=\"#DejaVuSans-32\" x=\"83.789062\"/>\n       <use xlink:href=\"#DejaVuSans-35\" x=\"147.412109\"/>\n      </g>\n     </g>\n    </g>\n    <g id=\"ytick_4\">\n     <g id=\"line2d_13\">\n      <g>\n       <use xlink:href=\"#mb1ef80091b\" x=\"35.304688\" y=\"211.579481\" style=\"fill: #ffffff; stroke: #ffffff; stroke-width: 0.8\"/>\n      </g>\n     </g>\n     <g id=\"text_13\">\n      <!-- 0 -->\n      <g style=\"fill: #ffffff\" transform=\"translate(21.942187 215.378699)scale(0.1 -0.1)\">\n       <use xlink:href=\"#DejaVuSans-30\"/>\n      </g>\n     </g>\n    </g>\n    <g id=\"ytick_5\">\n     <g id=\"line2d_14\">\n      <g>\n       <use xlink:href=\"#mb1ef80091b\" x=\"35.304688\" y=\"167.456104\" style=\"fill: #ffffff; stroke: #ffffff; stroke-width: 0.8\"/>\n      </g>\n     </g>\n     <g id=\"text_14\">\n      <!-- 25 -->\n      <g style=\"fill: #ffffff\" transform=\"translate(15.579687 171.255323)scale(0.1 -0.1)\">\n       <use xlink:href=\"#DejaVuSans-32\"/>\n       <use xlink:href=\"#DejaVuSans-35\" x=\"63.623047\"/>\n      </g>\n     </g>\n    </g>\n    <g id=\"ytick_6\">\n     <g id=\"line2d_15\">\n      <g>\n       <use xlink:href=\"#mb1ef80091b\" x=\"35.304688\" y=\"123.332727\" style=\"fill: #ffffff; stroke: #ffffff; stroke-width: 0.8\"/>\n      </g>\n     </g>\n     <g id=\"text_15\">\n      <!-- 50 -->\n      <g style=\"fill: #ffffff\" transform=\"translate(15.579687 127.131946)scale(0.1 -0.1)\">\n       <use xlink:href=\"#DejaVuSans-35\"/>\n       <use xlink:href=\"#DejaVuSans-30\" x=\"63.623047\"/>\n      </g>\n     </g>\n    </g>\n    <g id=\"ytick_7\">\n     <g id=\"line2d_16\">\n      <g>\n       <use xlink:href=\"#mb1ef80091b\" x=\"35.304688\" y=\"79.209351\" style=\"fill: #ffffff; stroke: #ffffff; stroke-width: 0.8\"/>\n      </g>\n     </g>\n     <g id=\"text_16\">\n      <!-- 75 -->\n      <g style=\"fill: #ffffff\" transform=\"translate(15.579687 83.008569)scale(0.1 -0.1)\">\n       <use xlink:href=\"#DejaVuSans-37\"/>\n       <use xlink:href=\"#DejaVuSans-35\" x=\"63.623047\"/>\n      </g>\n     </g>\n    </g>\n    <g id=\"ytick_8\">\n     <g id=\"line2d_17\">\n      <g>\n       <use xlink:href=\"#mb1ef80091b\" x=\"35.304688\" y=\"35.085974\" style=\"fill: #ffffff; stroke: #ffffff; stroke-width: 0.8\"/>\n      </g>\n     </g>\n     <g id=\"text_17\">\n      <!-- 100 -->\n      <g style=\"fill: #ffffff\" transform=\"translate(9.217187 38.885193)scale(0.1 -0.1)\">\n       <use xlink:href=\"#DejaVuSans-31\"/>\n       <use xlink:href=\"#DejaVuSans-30\" x=\"63.623047\"/>\n       <use xlink:href=\"#DejaVuSans-30\" x=\"127.246094\"/>\n      </g>\n     </g>\n    </g>\n   </g>\n   <g id=\"patch_3\">\n    <path d=\"M 35.304688 387.72 \nL 35.304688 7.2 \n\" style=\"fill: none; stroke: #ffffff; stroke-width: 0.8; stroke-linejoin: miter; stroke-linecap: square\"/>\n   </g>\n   <g id=\"patch_4\">\n    <path d=\"M 593.304688 387.72 \nL 593.304688 7.2 \n\" style=\"fill: none; stroke: #ffffff; stroke-width: 0.8; stroke-linejoin: miter; stroke-linecap: square\"/>\n   </g>\n   <g id=\"patch_5\">\n    <path d=\"M 35.304688 387.72 \nL 593.304688 387.72 \n\" style=\"fill: none; stroke: #ffffff; stroke-width: 0.8; stroke-linejoin: miter; stroke-linecap: square\"/>\n   </g>\n   <g id=\"patch_6\">\n    <path d=\"M 35.304688 7.2 \nL 593.304688 7.2 \n\" style=\"fill: none; stroke: #ffffff; stroke-width: 0.8; stroke-linejoin: miter; stroke-linecap: square\"/>\n   </g>\n   <g id=\"legend_1\">\n    <g id=\"patch_7\">\n     <path d=\"M 42.304688 44.55625 \nL 139.459375 44.55625 \nQ 141.459375 44.55625 141.459375 42.55625 \nL 141.459375 14.2 \nQ 141.459375 12.2 139.459375 12.2 \nL 42.304688 12.2 \nQ 40.304688 12.2 40.304688 14.2 \nL 40.304688 42.55625 \nQ 40.304688 44.55625 42.304688 44.55625 \nz\n\" style=\"opacity: 0.8; stroke: #cccccc; stroke-linejoin: miter\"/>\n    </g>\n    <g id=\"PathCollection_3\">\n     <g>\n      <use xlink:href=\"#mce0a41a2df\" x=\"54.304688\" y=\"21.173437\" style=\"fill: #0000ff; stroke: #0000ff\"/>\n     </g>\n    </g>\n    <g id=\"text_18\">\n     <!-- Training data -->\n     <g style=\"fill: #ffffff\" transform=\"translate(72.304688 23.798437)scale(0.1 -0.1)\">\n      <defs>\n       <path id=\"DejaVuSans-54\" d=\"M -19 4666 \nL 3928 4666 \nL 3928 4134 \nL 2272 4134 \nL 2272 0 \nL 1638 0 \nL 1638 4134 \nL -19 4134 \nL -19 4666 \nz\n\" transform=\"scale(0.015625)\"/>\n       <path id=\"DejaVuSans-72\" d=\"M 2631 2963 \nQ 2534 3019 2420 3045 \nQ 2306 3072 2169 3072 \nQ 1681 3072 1420 2755 \nQ 1159 2438 1159 1844 \nL 1159 0 \nL 581 0 \nL 581 3500 \nL 1159 3500 \nL 1159 2956 \nQ 1341 3275 1631 3429 \nQ 1922 3584 2338 3584 \nQ 2397 3584 2469 3576 \nQ 2541 3569 2628 3553 \nL 2631 2963 \nz\n\" transform=\"scale(0.015625)\"/>\n       <path id=\"DejaVuSans-61\" d=\"M 2194 1759 \nQ 1497 1759 1228 1600 \nQ 959 1441 959 1056 \nQ 959 750 1161 570 \nQ 1363 391 1709 391 \nQ 2188 391 2477 730 \nQ 2766 1069 2766 1631 \nL 2766 1759 \nL 2194 1759 \nz\nM 3341 1997 \nL 3341 0 \nL 2766 0 \nL 2766 531 \nQ 2569 213 2275 61 \nQ 1981 -91 1556 -91 \nQ 1019 -91 701 211 \nQ 384 513 384 1019 \nQ 384 1609 779 1909 \nQ 1175 2209 1959 2209 \nL 2766 2209 \nL 2766 2266 \nQ 2766 2663 2505 2880 \nQ 2244 3097 1772 3097 \nQ 1472 3097 1187 3025 \nQ 903 2953 641 2809 \nL 641 3341 \nQ 956 3463 1253 3523 \nQ 1550 3584 1831 3584 \nQ 2591 3584 2966 3190 \nQ 3341 2797 3341 1997 \nz\n\" transform=\"scale(0.015625)\"/>\n       <path id=\"DejaVuSans-69\" d=\"M 603 3500 \nL 1178 3500 \nL 1178 0 \nL 603 0 \nL 603 3500 \nz\nM 603 4863 \nL 1178 4863 \nL 1178 4134 \nL 603 4134 \nL 603 4863 \nz\n\" transform=\"scale(0.015625)\"/>\n       <path id=\"DejaVuSans-6e\" d=\"M 3513 2113 \nL 3513 0 \nL 2938 0 \nL 2938 2094 \nQ 2938 2591 2744 2837 \nQ 2550 3084 2163 3084 \nQ 1697 3084 1428 2787 \nQ 1159 2491 1159 1978 \nL 1159 0 \nL 581 0 \nL 581 3500 \nL 1159 3500 \nL 1159 2956 \nQ 1366 3272 1645 3428 \nQ 1925 3584 2291 3584 \nQ 2894 3584 3203 3211 \nQ 3513 2838 3513 2113 \nz\n\" transform=\"scale(0.015625)\"/>\n       <path id=\"DejaVuSans-67\" d=\"M 2906 1791 \nQ 2906 2416 2648 2759 \nQ 2391 3103 1925 3103 \nQ 1463 3103 1205 2759 \nQ 947 2416 947 1791 \nQ 947 1169 1205 825 \nQ 1463 481 1925 481 \nQ 2391 481 2648 825 \nQ 2906 1169 2906 1791 \nz\nM 3481 434 \nQ 3481 -459 3084 -895 \nQ 2688 -1331 1869 -1331 \nQ 1566 -1331 1297 -1286 \nQ 1028 -1241 775 -1147 \nL 775 -588 \nQ 1028 -725 1275 -790 \nQ 1522 -856 1778 -856 \nQ 2344 -856 2625 -561 \nQ 2906 -266 2906 331 \nL 2906 616 \nQ 2728 306 2450 153 \nQ 2172 0 1784 0 \nQ 1141 0 747 490 \nQ 353 981 353 1791 \nQ 353 2603 747 3093 \nQ 1141 3584 1784 3584 \nQ 2172 3584 2450 3431 \nQ 2728 3278 2906 2969 \nL 2906 3500 \nL 3481 3500 \nL 3481 434 \nz\n\" transform=\"scale(0.015625)\"/>\n       <path id=\"DejaVuSans-20\" transform=\"scale(0.015625)\"/>\n       <path id=\"DejaVuSans-64\" d=\"M 2906 2969 \nL 2906 4863 \nL 3481 4863 \nL 3481 0 \nL 2906 0 \nL 2906 525 \nQ 2725 213 2448 61 \nQ 2172 -91 1784 -91 \nQ 1150 -91 751 415 \nQ 353 922 353 1747 \nQ 353 2572 751 3078 \nQ 1150 3584 1784 3584 \nQ 2172 3584 2448 3432 \nQ 2725 3281 2906 2969 \nz\nM 947 1747 \nQ 947 1113 1208 752 \nQ 1469 391 1925 391 \nQ 2381 391 2643 752 \nQ 2906 1113 2906 1747 \nQ 2906 2381 2643 2742 \nQ 2381 3103 1925 3103 \nQ 1469 3103 1208 2742 \nQ 947 2381 947 1747 \nz\n\" transform=\"scale(0.015625)\"/>\n       <path id=\"DejaVuSans-74\" d=\"M 1172 4494 \nL 1172 3500 \nL 2356 3500 \nL 2356 3053 \nL 1172 3053 \nL 1172 1153 \nQ 1172 725 1289 603 \nQ 1406 481 1766 481 \nL 2356 481 \nL 2356 0 \nL 1766 0 \nQ 1100 0 847 248 \nQ 594 497 594 1153 \nL 594 3053 \nL 172 3053 \nL 172 3500 \nL 594 3500 \nL 594 4494 \nL 1172 4494 \nz\n\" transform=\"scale(0.015625)\"/>\n      </defs>\n      <use xlink:href=\"#DejaVuSans-54\"/>\n      <use xlink:href=\"#DejaVuSans-72\" x=\"46.333984\"/>\n      <use xlink:href=\"#DejaVuSans-61\" x=\"87.447266\"/>\n      <use xlink:href=\"#DejaVuSans-69\" x=\"148.726562\"/>\n      <use xlink:href=\"#DejaVuSans-6e\" x=\"176.509766\"/>\n      <use xlink:href=\"#DejaVuSans-69\" x=\"239.888672\"/>\n      <use xlink:href=\"#DejaVuSans-6e\" x=\"267.671875\"/>\n      <use xlink:href=\"#DejaVuSans-67\" x=\"331.050781\"/>\n      <use xlink:href=\"#DejaVuSans-20\" x=\"394.527344\"/>\n      <use xlink:href=\"#DejaVuSans-64\" x=\"426.314453\"/>\n      <use xlink:href=\"#DejaVuSans-61\" x=\"489.791016\"/>\n      <use xlink:href=\"#DejaVuSans-74\" x=\"551.070312\"/>\n      <use xlink:href=\"#DejaVuSans-61\" x=\"590.279297\"/>\n     </g>\n    </g>\n    <g id=\"PathCollection_4\">\n     <g>\n      <use xlink:href=\"#mee025fe37d\" x=\"54.304688\" y=\"35.851562\" style=\"fill: #008000; stroke: #008000\"/>\n     </g>\n    </g>\n    <g id=\"text_19\">\n     <!-- Testing data -->\n     <g style=\"fill: #ffffff\" transform=\"translate(72.304688 38.476562)scale(0.1 -0.1)\">\n      <defs>\n       <path id=\"DejaVuSans-65\" d=\"M 3597 1894 \nL 3597 1613 \nL 953 1613 \nQ 991 1019 1311 708 \nQ 1631 397 2203 397 \nQ 2534 397 2845 478 \nQ 3156 559 3463 722 \nL 3463 178 \nQ 3153 47 2828 -22 \nQ 2503 -91 2169 -91 \nQ 1331 -91 842 396 \nQ 353 884 353 1716 \nQ 353 2575 817 3079 \nQ 1281 3584 2069 3584 \nQ 2775 3584 3186 3129 \nQ 3597 2675 3597 1894 \nz\nM 3022 2063 \nQ 3016 2534 2758 2815 \nQ 2500 3097 2075 3097 \nQ 1594 3097 1305 2825 \nQ 1016 2553 972 2059 \nL 3022 2063 \nz\n\" transform=\"scale(0.015625)\"/>\n       <path id=\"DejaVuSans-73\" d=\"M 2834 3397 \nL 2834 2853 \nQ 2591 2978 2328 3040 \nQ 2066 3103 1784 3103 \nQ 1356 3103 1142 2972 \nQ 928 2841 928 2578 \nQ 928 2378 1081 2264 \nQ 1234 2150 1697 2047 \nL 1894 2003 \nQ 2506 1872 2764 1633 \nQ 3022 1394 3022 966 \nQ 3022 478 2636 193 \nQ 2250 -91 1575 -91 \nQ 1294 -91 989 -36 \nQ 684 19 347 128 \nL 347 722 \nQ 666 556 975 473 \nQ 1284 391 1588 391 \nQ 1994 391 2212 530 \nQ 2431 669 2431 922 \nQ 2431 1156 2273 1281 \nQ 2116 1406 1581 1522 \nL 1381 1569 \nQ 847 1681 609 1914 \nQ 372 2147 372 2553 \nQ 372 3047 722 3315 \nQ 1072 3584 1716 3584 \nQ 2034 3584 2315 3537 \nQ 2597 3491 2834 3397 \nz\n\" transform=\"scale(0.015625)\"/>\n      </defs>\n      <use xlink:href=\"#DejaVuSans-54\"/>\n      <use xlink:href=\"#DejaVuSans-65\" x=\"44.083984\"/>\n      <use xlink:href=\"#DejaVuSans-73\" x=\"105.607422\"/>\n      <use xlink:href=\"#DejaVuSans-74\" x=\"157.707031\"/>\n      <use xlink:href=\"#DejaVuSans-69\" x=\"196.916016\"/>\n      <use xlink:href=\"#DejaVuSans-6e\" x=\"224.699219\"/>\n      <use xlink:href=\"#DejaVuSans-67\" x=\"288.078125\"/>\n      <use xlink:href=\"#DejaVuSans-20\" x=\"351.554688\"/>\n      <use xlink:href=\"#DejaVuSans-64\" x=\"383.341797\"/>\n      <use xlink:href=\"#DejaVuSans-61\" x=\"446.818359\"/>\n      <use xlink:href=\"#DejaVuSans-74\" x=\"508.097656\"/>\n      <use xlink:href=\"#DejaVuSans-61\" x=\"547.306641\"/>\n     </g>\n    </g>\n   </g>\n  </g>\n </g>\n <defs>\n  <clipPath id=\"p94919263fd\">\n   <rect x=\"35.304688\" y=\"7.2\" width=\"558\" height=\"380.52\"/>\n  </clipPath>\n </defs>\n</svg>\n",
      "text/plain": [
       "<Figure size 720x504 with 1 Axes>"
      ]
     },
     "metadata": {},
     "output_type": "display_data"
    }
   ],
   "source": [
    "plt.figure(figsize=(10,7))\n",
    "# Plot training data in blue\n",
    "plt.scatter(X_train, y_train, c=\"blue\", label=\"Training data\")\n",
    "# Plot test data in green\n",
    "plt.scatter(X_test, y_test, c=\"green\", label=\"Testing data\")\n",
    "# show legend\n",
    "plt.legend()"
   ]
  },
  {
   "cell_type": "code",
   "execution_count": 23,
   "metadata": {},
   "outputs": [
    {
     "name": "stdout",
     "output_type": "stream",
     "text": [
      "Epoch 1/100\n",
      "2/2 [==============================] - 0s 3ms/step - loss: 10.5273 - mae: 10.5273\n",
      "Epoch 2/100\n",
      "2/2 [==============================] - 0s 2ms/step - loss: 9.3906 - mae: 9.3906\n",
      "Epoch 3/100\n",
      "2/2 [==============================] - 0s 3ms/step - loss: 7.6292 - mae: 7.6292\n",
      "Epoch 4/100\n",
      "2/2 [==============================] - 0s 2ms/step - loss: 9.6859 - mae: 9.6859\n",
      "Epoch 5/100\n",
      "2/2 [==============================] - 0s 2ms/step - loss: 11.0740 - mae: 11.0740\n",
      "Epoch 6/100\n",
      "2/2 [==============================] - 0s 2ms/step - loss: 10.2264 - mae: 10.2264\n",
      "Epoch 7/100\n",
      "2/2 [==============================] - 0s 2ms/step - loss: 9.2347 - mae: 9.2347\n",
      "Epoch 8/100\n",
      "2/2 [==============================] - 0s 2ms/step - loss: 9.1547 - mae: 9.1547\n",
      "Epoch 9/100\n",
      "2/2 [==============================] - 0s 2ms/step - loss: 11.7875 - mae: 11.7875\n",
      "Epoch 10/100\n",
      "2/2 [==============================] - 0s 2ms/step - loss: 13.7172 - mae: 13.7172\n",
      "Epoch 11/100\n",
      "2/2 [==============================] - 0s 3ms/step - loss: 11.8015 - mae: 11.8015\n",
      "Epoch 12/100\n",
      "2/2 [==============================] - 0s 2ms/step - loss: 16.3555 - mae: 16.3555\n",
      "Epoch 13/100\n",
      "2/2 [==============================] - 0s 2ms/step - loss: 11.9043 - mae: 11.9043\n",
      "Epoch 14/100\n",
      "2/2 [==============================] - 0s 3ms/step - loss: 13.8239 - mae: 13.8239\n",
      "Epoch 15/100\n",
      "2/2 [==============================] - 0s 3ms/step - loss: 11.2084 - mae: 11.2084\n",
      "Epoch 16/100\n",
      "2/2 [==============================] - 0s 2ms/step - loss: 8.5877 - mae: 8.5877\n",
      "Epoch 17/100\n",
      "2/2 [==============================] - 0s 3ms/step - loss: 13.7567 - mae: 13.7567\n",
      "Epoch 18/100\n",
      "2/2 [==============================] - 0s 2ms/step - loss: 11.6177 - mae: 11.6177\n",
      "Epoch 19/100\n",
      "2/2 [==============================] - 0s 2ms/step - loss: 17.7100 - mae: 17.7100\n",
      "Epoch 20/100\n",
      "2/2 [==============================] - 0s 3ms/step - loss: 14.8462 - mae: 14.8462\n",
      "Epoch 21/100\n",
      "2/2 [==============================] - 0s 2ms/step - loss: 10.7513 - mae: 10.7513\n",
      "Epoch 22/100\n",
      "2/2 [==============================] - 0s 3ms/step - loss: 8.4917 - mae: 8.4917\n",
      "Epoch 23/100\n",
      "2/2 [==============================] - 0s 2ms/step - loss: 9.7766 - mae: 9.7766\n",
      "Epoch 24/100\n",
      "2/2 [==============================] - 0s 2ms/step - loss: 10.8531 - mae: 10.8531\n",
      "Epoch 25/100\n",
      "2/2 [==============================] - 0s 2ms/step - loss: 9.1113 - mae: 9.1113\n",
      "Epoch 26/100\n",
      "2/2 [==============================] - 0s 2ms/step - loss: 13.0840 - mae: 13.0840\n",
      "Epoch 27/100\n",
      "2/2 [==============================] - 0s 2ms/step - loss: 10.4066 - mae: 10.4066\n",
      "Epoch 28/100\n",
      "2/2 [==============================] - 0s 2ms/step - loss: 13.4238 - mae: 13.4238\n",
      "Epoch 29/100\n",
      "2/2 [==============================] - 0s 1ms/step - loss: 9.6076 - mae: 9.6076\n",
      "Epoch 30/100\n",
      "2/2 [==============================] - 0s 2ms/step - loss: 17.2601 - mae: 17.2601\n",
      "Epoch 31/100\n",
      "2/2 [==============================] - 0s 3ms/step - loss: 22.8003 - mae: 22.8003\n",
      "Epoch 32/100\n",
      "2/2 [==============================] - 0s 2ms/step - loss: 7.9049 - mae: 7.9049\n",
      "Epoch 33/100\n",
      "2/2 [==============================] - 0s 3ms/step - loss: 14.1734 - mae: 14.1734\n",
      "Epoch 34/100\n",
      "2/2 [==============================] - 0s 2ms/step - loss: 12.4283 - mae: 12.4283\n",
      "Epoch 35/100\n",
      "2/2 [==============================] - 0s 2ms/step - loss: 8.2339 - mae: 8.2339\n",
      "Epoch 36/100\n",
      "2/2 [==============================] - 0s 3ms/step - loss: 10.4408 - mae: 10.4408\n",
      "Epoch 37/100\n",
      "2/2 [==============================] - 0s 2ms/step - loss: 10.0926 - mae: 10.0926\n",
      "Epoch 38/100\n",
      "2/2 [==============================] - 0s 2ms/step - loss: 11.2658 - mae: 11.2658\n",
      "Epoch 39/100\n",
      "2/2 [==============================] - 0s 2ms/step - loss: 14.7947 - mae: 14.7947\n",
      "Epoch 40/100\n",
      "2/2 [==============================] - 0s 2ms/step - loss: 12.9246 - mae: 12.9246\n",
      "Epoch 41/100\n",
      "2/2 [==============================] - 0s 2ms/step - loss: 9.3199 - mae: 9.3199\n",
      "Epoch 42/100\n",
      "2/2 [==============================] - 0s 2ms/step - loss: 10.9560 - mae: 10.9560\n",
      "Epoch 43/100\n",
      "2/2 [==============================] - 0s 2ms/step - loss: 8.3161 - mae: 8.3161\n",
      "Epoch 44/100\n",
      "2/2 [==============================] - 0s 2ms/step - loss: 12.9795 - mae: 12.9795\n",
      "Epoch 45/100\n",
      "2/2 [==============================] - 0s 2ms/step - loss: 13.7222 - mae: 13.7222\n",
      "Epoch 46/100\n",
      "2/2 [==============================] - 0s 2ms/step - loss: 8.4129 - mae: 8.4129\n",
      "Epoch 47/100\n",
      "2/2 [==============================] - 0s 2ms/step - loss: 9.1536 - mae: 9.1536\n",
      "Epoch 48/100\n",
      "2/2 [==============================] - 0s 2ms/step - loss: 10.6543 - mae: 10.6543\n",
      "Epoch 49/100\n",
      "2/2 [==============================] - 0s 2ms/step - loss: 7.7674 - mae: 7.7674\n",
      "Epoch 50/100\n",
      "2/2 [==============================] - 0s 2ms/step - loss: 9.5726 - mae: 9.5726\n",
      "Epoch 51/100\n",
      "2/2 [==============================] - 0s 2ms/step - loss: 9.1575 - mae: 9.1575\n",
      "Epoch 52/100\n",
      "2/2 [==============================] - 0s 3ms/step - loss: 16.4515 - mae: 16.4515\n",
      "Epoch 53/100\n",
      "2/2 [==============================] - 0s 2ms/step - loss: 14.0818 - mae: 14.0818\n",
      "Epoch 54/100\n",
      "2/2 [==============================] - 0s 3ms/step - loss: 21.0172 - mae: 21.0172\n",
      "Epoch 55/100\n",
      "2/2 [==============================] - 0s 2ms/step - loss: 16.4738 - mae: 16.4738\n",
      "Epoch 56/100\n",
      "2/2 [==============================] - 0s 2ms/step - loss: 9.8662 - mae: 9.8662\n",
      "Epoch 57/100\n",
      "2/2 [==============================] - 0s 2ms/step - loss: 9.6413 - mae: 9.6413\n",
      "Epoch 58/100\n",
      "2/2 [==============================] - 0s 1ms/step - loss: 8.9628 - mae: 8.9628\n",
      "Epoch 59/100\n",
      "2/2 [==============================] - 0s 2ms/step - loss: 10.1686 - mae: 10.1686\n",
      "Epoch 60/100\n",
      "2/2 [==============================] - 0s 2ms/step - loss: 8.4129 - mae: 8.4129\n",
      "Epoch 61/100\n",
      "2/2 [==============================] - 0s 2ms/step - loss: 9.2533 - mae: 9.2533\n",
      "Epoch 62/100\n",
      "2/2 [==============================] - 0s 2ms/step - loss: 7.0626 - mae: 7.0626\n",
      "Epoch 63/100\n",
      "2/2 [==============================] - 0s 2ms/step - loss: 8.6398 - mae: 8.6398\n",
      "Epoch 64/100\n",
      "2/2 [==============================] - 0s 2ms/step - loss: 9.2166 - mae: 9.2166\n",
      "Epoch 65/100\n",
      "2/2 [==============================] - 0s 2ms/step - loss: 10.4767 - mae: 10.4767\n",
      "Epoch 66/100\n",
      "2/2 [==============================] - 0s 2ms/step - loss: 15.6303 - mae: 15.6303\n",
      "Epoch 67/100\n",
      "2/2 [==============================] - 0s 2ms/step - loss: 10.0248 - mae: 10.0248\n",
      "Epoch 68/100\n",
      "2/2 [==============================] - 0s 2ms/step - loss: 9.0030 - mae: 9.0030\n",
      "Epoch 69/100\n",
      "2/2 [==============================] - 0s 2ms/step - loss: 12.4993 - mae: 12.4993\n",
      "Epoch 70/100\n",
      "2/2 [==============================] - 0s 2ms/step - loss: 8.9709 - mae: 8.9709\n",
      "Epoch 71/100\n",
      "2/2 [==============================] - 0s 2ms/step - loss: 9.9493 - mae: 9.9493\n",
      "Epoch 72/100\n",
      "2/2 [==============================] - 0s 3ms/step - loss: 9.9817 - mae: 9.9817\n",
      "Epoch 73/100\n",
      "2/2 [==============================] - 0s 2ms/step - loss: 12.4756 - mae: 12.4756\n",
      "Epoch 74/100\n",
      "2/2 [==============================] - 0s 1ms/step - loss: 10.5140 - mae: 10.5140\n",
      "Epoch 75/100\n",
      "2/2 [==============================] - 0s 2ms/step - loss: 9.6442 - mae: 9.6442\n",
      "Epoch 76/100\n",
      "2/2 [==============================] - 0s 2ms/step - loss: 11.1190 - mae: 11.1190\n",
      "Epoch 77/100\n",
      "2/2 [==============================] - 0s 2ms/step - loss: 8.2914 - mae: 8.2914\n",
      "Epoch 78/100\n",
      "2/2 [==============================] - 0s 2ms/step - loss: 8.9997 - mae: 8.9997\n",
      "Epoch 79/100\n",
      "2/2 [==============================] - 0s 2ms/step - loss: 19.7057 - mae: 19.7057\n",
      "Epoch 80/100\n",
      "2/2 [==============================] - 0s 1ms/step - loss: 17.8733 - mae: 17.8733\n",
      "Epoch 81/100\n",
      "2/2 [==============================] - 0s 2ms/step - loss: 7.0400 - mae: 7.0400\n",
      "Epoch 82/100\n",
      "2/2 [==============================] - 0s 2ms/step - loss: 10.4264 - mae: 10.4264\n",
      "Epoch 83/100\n",
      "2/2 [==============================] - 0s 2ms/step - loss: 9.8572 - mae: 9.8572\n",
      "Epoch 84/100\n",
      "2/2 [==============================] - 0s 2ms/step - loss: 7.9069 - mae: 7.9069\n",
      "Epoch 85/100\n",
      "2/2 [==============================] - 0s 2ms/step - loss: 9.4048 - mae: 9.4048\n",
      "Epoch 86/100\n",
      "2/2 [==============================] - 0s 2ms/step - loss: 9.2307 - mae: 9.2307\n",
      "Epoch 87/100\n",
      "2/2 [==============================] - 0s 2ms/step - loss: 12.0129 - mae: 12.0129\n",
      "Epoch 88/100\n",
      "2/2 [==============================] - 0s 2ms/step - loss: 10.6296 - mae: 10.6296\n",
      "Epoch 89/100\n",
      "2/2 [==============================] - 0s 2ms/step - loss: 7.2506 - mae: 7.2506\n",
      "Epoch 90/100\n",
      "2/2 [==============================] - 0s 2ms/step - loss: 12.7702 - mae: 12.7702\n",
      "Epoch 91/100\n",
      "2/2 [==============================] - 0s 2ms/step - loss: 7.4544 - mae: 7.4544\n",
      "Epoch 92/100\n",
      "2/2 [==============================] - 0s 2ms/step - loss: 6.7385 - mae: 6.7385\n",
      "Epoch 93/100\n",
      "2/2 [==============================] - 0s 2ms/step - loss: 11.9206 - mae: 11.9206\n",
      "Epoch 94/100\n",
      "2/2 [==============================] - 0s 2ms/step - loss: 8.8548 - mae: 8.8548\n",
      "Epoch 95/100\n",
      "2/2 [==============================] - 0s 2ms/step - loss: 7.6966 - mae: 7.6966\n",
      "Epoch 96/100\n",
      "2/2 [==============================] - 0s 3ms/step - loss: 6.7327 - mae: 6.7327\n",
      "Epoch 97/100\n",
      "2/2 [==============================] - 0s 2ms/step - loss: 8.6033 - mae: 8.6033\n",
      "Epoch 98/100\n",
      "2/2 [==============================] - 0s 2ms/step - loss: 9.3858 - mae: 9.3858\n",
      "Epoch 99/100\n",
      "2/2 [==============================] - 0s 2ms/step - loss: 9.1203 - mae: 9.1203\n",
      "Epoch 100/100\n",
      "2/2 [==============================] - 0s 3ms/step - loss: 10.4808 - mae: 10.4808\n"
     ]
    },
    {
     "data": {
      "text/plain": [
       "<keras.callbacks.History at 0x2654ffa4ac0>"
      ]
     },
     "execution_count": 23,
     "metadata": {},
     "output_type": "execute_result"
    }
   ],
   "source": [
    "# Let's have a look at how to build a neural network four our data\n",
    "\n",
    "# 1. Create a model\n",
    "model = tf.keras.Sequential([\n",
    "    tf.keras.layers.Dense(1)])\n",
    "\n",
    "# 2. Compile the mdoel\n",
    "model.compile(\n",
    "    loss=tf.keras.losses.mae,\n",
    "    optimizer=tf.keras.optimizers.SGD(),\n",
    "    metrics=[\"mae\"])\n",
    "\n",
    "# 3. Fit the model\n",
    "model.fit(X_train, y_train, epochs=100)"
   ]
  },
  {
   "cell_type": "markdown",
   "metadata": {},
   "source": [
    "### Visualizing the model"
   ]
  },
  {
   "cell_type": "code",
   "execution_count": 24,
   "metadata": {},
   "outputs": [
    {
     "name": "stdout",
     "output_type": "stream",
     "text": [
      "Model: \"sequential_3\"\n",
      "_________________________________________________________________\n",
      "Layer (type)                 Output Shape              Param #   \n",
      "=================================================================\n",
      "dense_4 (Dense)              (None, 1)                 2         \n",
      "=================================================================\n",
      "Total params: 2\n",
      "Trainable params: 2\n",
      "Non-trainable params: 0\n",
      "_________________________________________________________________\n"
     ]
    }
   ],
   "source": [
    "model.summary()"
   ]
  },
  {
   "cell_type": "code",
   "execution_count": 25,
   "metadata": {},
   "outputs": [
    {
     "name": "stdout",
     "output_type": "stream",
     "text": [
      "Model: \"foo\"\n",
      "_________________________________________________________________\n",
      "Layer (type)                 Output Shape              Param #   \n",
      "=================================================================\n",
      "input_layer (Dense)          (None, 10)                20        \n",
      "_________________________________________________________________\n",
      "output_layer (Dense)         (None, 1)                 11        \n",
      "=================================================================\n",
      "Total params: 31\n",
      "Trainable params: 31\n",
      "Non-trainable params: 0\n",
      "_________________________________________________________________\n"
     ]
    }
   ],
   "source": [
    "# Let's create a model which builds automatically by defining the input_shape argument\n",
    "tf.random.set_seed(42)\n",
    "\n",
    "# 1. Create a model (same as above)\n",
    "model = tf.keras.Sequential([\n",
    "    tf.keras.layers.Dense(10, input_shape=[1], name=\"input_layer\"),\n",
    "    tf.keras.layers.Dense(1, name=\"output_layer\")\n",
    "    ], name=\"foo\")\n",
    "\n",
    "# 2. Compile the model\n",
    "model.compile(\n",
    "    loss=tf.keras.losses.mae,\n",
    "    optimizer=tf.keras.optimizers.SGD(),\n",
    "    metrics=[\"mae\"])\n",
    "\n",
    "model.summary()"
   ]
  },
  {
   "cell_type": "markdown",
   "metadata": {},
   "source": [
    "* Total params - total number of parameters in the model.\n",
    "* Trainable parameters - these are the parameters (patterns) the model can update as it trains.\n",
    "* Non-trainable params - these parameters aren't updated during training (this is typical when you bring in already learned parameters from other models during **transfer learning**)\n",
    "\n",
    "> 📖 **Resource:** For a more in-depth overview of the trainable parameters within a layer, check out MIT's introduction to deep learning video.\n",
    "\n"
   ]
  },
  {
   "cell_type": "code",
   "execution_count": 26,
   "metadata": {},
   "outputs": [
    {
     "name": "stdout",
     "output_type": "stream",
     "text": [
      "Epoch 1/100\n",
      "2/2 [==============================] - 0s 2ms/step - loss: 27.4042 - mae: 27.4042\n",
      "Epoch 2/100\n",
      "2/2 [==============================] - 0s 2ms/step - loss: 24.6332 - mae: 24.6332\n",
      "Epoch 3/100\n",
      "2/2 [==============================] - 0s 2ms/step - loss: 29.8924 - mae: 29.8924\n",
      "Epoch 4/100\n",
      "2/2 [==============================] - 0s 2ms/step - loss: 27.3950 - mae: 27.3950\n",
      "Epoch 5/100\n",
      "2/2 [==============================] - 0s 2ms/step - loss: 14.9435 - mae: 14.9435\n",
      "Epoch 6/100\n",
      "2/2 [==============================] - 0s 2ms/step - loss: 11.8821 - mae: 11.8821\n",
      "Epoch 7/100\n",
      "2/2 [==============================] - 0s 3ms/step - loss: 11.1915 - mae: 11.1915\n",
      "Epoch 8/100\n",
      "2/2 [==============================] - 0s 3ms/step - loss: 11.0898 - mae: 11.0898\n",
      "Epoch 9/100\n",
      "2/2 [==============================] - 0s 3ms/step - loss: 40.4655 - mae: 40.4655\n",
      "Epoch 10/100\n",
      "2/2 [==============================] - 0s 2ms/step - loss: 27.8497 - mae: 27.8497\n",
      "Epoch 11/100\n",
      "2/2 [==============================] - 0s 3ms/step - loss: 10.2466 - mae: 10.2466\n",
      "Epoch 12/100\n",
      "2/2 [==============================] - 0s 2ms/step - loss: 25.2866 - mae: 25.2866\n",
      "Epoch 13/100\n",
      "2/2 [==============================] - 0s 2ms/step - loss: 16.9803 - mae: 16.9803\n",
      "Epoch 14/100\n",
      "2/2 [==============================] - 0s 3ms/step - loss: 25.9224 - mae: 25.9224\n",
      "Epoch 15/100\n",
      "2/2 [==============================] - 0s 2ms/step - loss: 17.9848 - mae: 17.9848\n",
      "Epoch 16/100\n",
      "2/2 [==============================] - 0s 2ms/step - loss: 7.3506 - mae: 7.3506\n",
      "Epoch 17/100\n",
      "2/2 [==============================] - 0s 2ms/step - loss: 10.8646 - mae: 10.8646\n",
      "Epoch 18/100\n",
      "2/2 [==============================] - 0s 3ms/step - loss: 19.5305 - mae: 19.5305\n",
      "Epoch 19/100\n",
      "2/2 [==============================] - 0s 3ms/step - loss: 10.3491 - mae: 10.3491\n",
      "Epoch 20/100\n",
      "2/2 [==============================] - 0s 4ms/step - loss: 17.7010 - mae: 17.7010\n",
      "Epoch 21/100\n",
      "2/2 [==============================] - 0s 2ms/step - loss: 15.9006 - mae: 15.9006\n",
      "Epoch 22/100\n",
      "2/2 [==============================] - 0s 3ms/step - loss: 14.2038 - mae: 14.2038\n",
      "Epoch 23/100\n",
      "2/2 [==============================] - 0s 2ms/step - loss: 8.7695 - mae: 8.7695\n",
      "Epoch 24/100\n",
      "2/2 [==============================] - 0s 2ms/step - loss: 11.0546 - mae: 11.0546\n",
      "Epoch 25/100\n",
      "2/2 [==============================] - 0s 3ms/step - loss: 12.6845 - mae: 12.6845\n",
      "Epoch 26/100\n",
      "2/2 [==============================] - 0s 2ms/step - loss: 26.1838 - mae: 26.1838\n",
      "Epoch 27/100\n",
      "2/2 [==============================] - 0s 2ms/step - loss: 11.7414 - mae: 11.7414\n",
      "Epoch 28/100\n",
      "2/2 [==============================] - 0s 2ms/step - loss: 30.7592 - mae: 30.7592\n",
      "Epoch 29/100\n",
      "2/2 [==============================] - 0s 2ms/step - loss: 9.2842 - mae: 9.2842\n",
      "Epoch 30/100\n",
      "2/2 [==============================] - 0s 1ms/step - loss: 31.1643 - mae: 31.1643\n",
      "Epoch 31/100\n",
      "2/2 [==============================] - 0s 3ms/step - loss: 29.6222 - mae: 29.6222\n",
      "Epoch 32/100\n",
      "2/2 [==============================] - 0s 3ms/step - loss: 10.4508 - mae: 10.4508\n",
      "Epoch 33/100\n",
      "2/2 [==============================] - 0s 2ms/step - loss: 15.4917 - mae: 15.4917\n",
      "Epoch 34/100\n",
      "2/2 [==============================] - 0s 2ms/step - loss: 12.5922 - mae: 12.5922\n",
      "Epoch 35/100\n",
      "2/2 [==============================] - 0s 3ms/step - loss: 9.1956 - mae: 9.1956\n",
      "Epoch 36/100\n",
      "2/2 [==============================] - 0s 3ms/step - loss: 16.4675 - mae: 16.4675\n",
      "Epoch 37/100\n",
      "2/2 [==============================] - 0s 2ms/step - loss: 11.0887 - mae: 11.0887\n",
      "Epoch 38/100\n",
      "2/2 [==============================] - 0s 3ms/step - loss: 18.2178 - mae: 18.2178\n",
      "Epoch 39/100\n",
      "2/2 [==============================] - 0s 2ms/step - loss: 19.1493 - mae: 19.1493\n",
      "Epoch 40/100\n",
      "2/2 [==============================] - 0s 2ms/step - loss: 20.5177 - mae: 20.5177\n",
      "Epoch 41/100\n",
      "2/2 [==============================] - 0s 3ms/step - loss: 14.7962 - mae: 14.7962\n",
      "Epoch 42/100\n",
      "2/2 [==============================] - 0s 2ms/step - loss: 12.1963 - mae: 12.1963\n",
      "Epoch 43/100\n",
      "2/2 [==============================] - 0s 2ms/step - loss: 10.6951 - mae: 10.6951\n",
      "Epoch 44/100\n",
      "2/2 [==============================] - 0s 2ms/step - loss: 32.2486 - mae: 32.2486\n",
      "Epoch 45/100\n",
      "2/2 [==============================] - 0s 1ms/step - loss: 12.4668 - mae: 12.4668\n",
      "Epoch 46/100\n",
      "2/2 [==============================] - 0s 2ms/step - loss: 17.4934 - mae: 17.4934\n",
      "Epoch 47/100\n",
      "2/2 [==============================] - 0s 2ms/step - loss: 15.7563 - mae: 15.7563\n",
      "Epoch 48/100\n",
      "2/2 [==============================] - 0s 3ms/step - loss: 8.3753 - mae: 8.3753\n",
      "Epoch 49/100\n",
      "2/2 [==============================] - 0s 2ms/step - loss: 13.9873 - mae: 13.9873\n",
      "Epoch 50/100\n",
      "2/2 [==============================] - 0s 3ms/step - loss: 12.8283 - mae: 12.8283\n",
      "Epoch 51/100\n",
      "2/2 [==============================] - 0s 2ms/step - loss: 14.8380 - mae: 14.8380\n",
      "Epoch 52/100\n",
      "2/2 [==============================] - 0s 2ms/step - loss: 18.7209 - mae: 18.7209\n",
      "Epoch 53/100\n",
      "2/2 [==============================] - 0s 2ms/step - loss: 24.1718 - mae: 24.1718\n",
      "Epoch 54/100\n",
      "2/2 [==============================] - 0s 2ms/step - loss: 23.1691 - mae: 23.1691\n",
      "Epoch 55/100\n",
      "2/2 [==============================] - 0s 2ms/step - loss: 24.0192 - mae: 24.0192\n",
      "Epoch 56/100\n",
      "2/2 [==============================] - 0s 2ms/step - loss: 11.1575 - mae: 11.1575\n",
      "Epoch 57/100\n",
      "2/2 [==============================] - 0s 2ms/step - loss: 13.1054 - mae: 13.1054\n",
      "Epoch 58/100\n",
      "2/2 [==============================] - 0s 2ms/step - loss: 9.8072 - mae: 9.8072\n",
      "Epoch 59/100\n",
      "2/2 [==============================] - 0s 2ms/step - loss: 13.2931 - mae: 13.2931\n",
      "Epoch 60/100\n",
      "2/2 [==============================] - 0s 1ms/step - loss: 10.8639 - mae: 10.8639\n",
      "Epoch 61/100\n",
      "2/2 [==============================] - 0s 3ms/step - loss: 13.4601 - mae: 13.4601\n",
      "Epoch 62/100\n",
      "2/2 [==============================] - 0s 2ms/step - loss: 17.4779 - mae: 17.4779\n",
      "Epoch 63/100\n",
      "2/2 [==============================] - 0s 2ms/step - loss: 9.1512 - mae: 9.1512\n",
      "Epoch 64/100\n",
      "2/2 [==============================] - 0s 3ms/step - loss: 18.3491 - mae: 18.3491\n",
      "Epoch 65/100\n",
      "2/2 [==============================] - 0s 2ms/step - loss: 10.1088 - mae: 10.1088\n",
      "Epoch 66/100\n",
      "2/2 [==============================] - 0s 2ms/step - loss: 24.2061 - mae: 24.2061\n",
      "Epoch 67/100\n",
      "2/2 [==============================] - 0s 2ms/step - loss: 10.8665 - mae: 10.8665\n",
      "Epoch 68/100\n",
      "2/2 [==============================] - 0s 2ms/step - loss: 10.7567 - mae: 10.7567\n",
      "Epoch 69/100\n",
      "2/2 [==============================] - 0s 3ms/step - loss: 23.1640 - mae: 23.1640\n",
      "Epoch 70/100\n",
      "2/2 [==============================] - 0s 2ms/step - loss: 8.8260 - mae: 8.8260\n",
      "Epoch 71/100\n",
      "2/2 [==============================] - 0s 3ms/step - loss: 16.0449 - mae: 16.0449\n",
      "Epoch 72/100\n",
      "2/2 [==============================] - 0s 2ms/step - loss: 7.7464 - mae: 7.7464\n",
      "Epoch 73/100\n",
      "2/2 [==============================] - 0s 2ms/step - loss: 10.1535 - mae: 10.1535\n",
      "Epoch 74/100\n",
      "2/2 [==============================] - 0s 2ms/step - loss: 28.3241 - mae: 28.3241\n",
      "Epoch 75/100\n",
      "2/2 [==============================] - 0s 3ms/step - loss: 10.0154 - mae: 10.0154\n",
      "Epoch 76/100\n",
      "2/2 [==============================] - 0s 2ms/step - loss: 12.9311 - mae: 12.9311\n",
      "Epoch 77/100\n",
      "2/2 [==============================] - 0s 2ms/step - loss: 17.9091 - mae: 17.9091\n",
      "Epoch 78/100\n",
      "2/2 [==============================] - 0s 2ms/step - loss: 8.9634 - mae: 8.9634\n",
      "Epoch 79/100\n",
      "2/2 [==============================] - 0s 2ms/step - loss: 28.7443 - mae: 28.7443\n",
      "Epoch 80/100\n",
      "2/2 [==============================] - 0s 3ms/step - loss: 31.0858 - mae: 31.0858\n",
      "Epoch 81/100\n",
      "2/2 [==============================] - 0s 2ms/step - loss: 13.4292 - mae: 13.4292\n",
      "Epoch 82/100\n",
      "2/2 [==============================] - 0s 3ms/step - loss: 14.3139 - mae: 14.3139\n",
      "Epoch 83/100\n",
      "2/2 [==============================] - 0s 2ms/step - loss: 18.8504 - mae: 18.8504\n",
      "Epoch 84/100\n",
      "2/2 [==============================] - 0s 2ms/step - loss: 9.4555 - mae: 9.4555\n",
      "Epoch 85/100\n",
      "2/2 [==============================] - 0s 3ms/step - loss: 25.2451 - mae: 25.2451\n",
      "Epoch 86/100\n",
      "2/2 [==============================] - 0s 2ms/step - loss: 16.4412 - mae: 16.4412\n",
      "Epoch 87/100\n",
      "2/2 [==============================] - 0s 2ms/step - loss: 11.4695 - mae: 11.4695\n",
      "Epoch 88/100\n",
      "2/2 [==============================] - 0s 2ms/step - loss: 27.0696 - mae: 27.0696\n",
      "Epoch 89/100\n",
      "2/2 [==============================] - 0s 2ms/step - loss: 9.7398 - mae: 9.7398\n",
      "Epoch 90/100\n",
      "2/2 [==============================] - 0s 2ms/step - loss: 19.0903 - mae: 19.0903\n",
      "Epoch 91/100\n",
      "2/2 [==============================] - 0s 3ms/step - loss: 10.5971 - mae: 10.5971\n",
      "Epoch 92/100\n",
      "2/2 [==============================] - 0s 2ms/step - loss: 18.3100 - mae: 18.3100\n",
      "Epoch 93/100\n",
      "2/2 [==============================] - 0s 3ms/step - loss: 6.8600 - mae: 6.8600\n",
      "Epoch 94/100\n",
      "2/2 [==============================] - 0s 2ms/step - loss: 13.0703 - mae: 13.0703\n",
      "Epoch 95/100\n",
      "2/2 [==============================] - 0s 2ms/step - loss: 18.4446 - mae: 18.4446\n",
      "Epoch 96/100\n",
      "2/2 [==============================] - 0s 3ms/step - loss: 10.4043 - mae: 10.4043\n",
      "Epoch 97/100\n",
      "2/2 [==============================] - 0s 1ms/step - loss: 14.1802 - mae: 14.1802\n",
      "Epoch 98/100\n",
      "2/2 [==============================] - 0s 2ms/step - loss: 9.6495 - mae: 9.6495\n",
      "Epoch 99/100\n",
      "2/2 [==============================] - 0s 2ms/step - loss: 11.3432 - mae: 11.3432\n",
      "Epoch 100/100\n",
      "2/2 [==============================] - 0s 2ms/step - loss: 29.2938 - mae: 29.2938\n"
     ]
    },
    {
     "data": {
      "text/plain": [
       "<keras.callbacks.History at 0x2654ffbc220>"
      ]
     },
     "execution_count": 26,
     "metadata": {},
     "output_type": "execute_result"
    }
   ],
   "source": [
    "# Let's fit our model to the training data\n",
    "model.fit(X_train, y_train, epochs=100, verbose=1)\n",
    "# Every time i fit the model without reinstantiating it, it updates the actual training model and fit it for another 100 times"
   ]
  },
  {
   "cell_type": "code",
   "execution_count": 27,
   "metadata": {},
   "outputs": [
    {
     "data": {
      "image/png": "[encoded data removed]",
      "text/plain": [
       "<IPython.core.display.Image object>"
      ]
     },
     "execution_count": 27,
     "metadata": {},
     "output_type": "execute_result"
    }
   ],
   "source": [
    "from tensorflow.keras.utils import plot_model\n",
    "\n",
    "plot_model(model=model, show_shapes=True)"
   ]
  },
  {
   "cell_type": "markdown",
   "metadata": {},
   "source": [
    "### Visualizing our model's predictions\n",
    "\n",
    "To visualize predictions, it's a good idea to plot them against the ground truth labels.\n",
    "\n",
    "Often you'll see this in the form of `y_test` or `y_true` versus `y_pred` (ground truth versus my model's predictions)."
   ]
  },
  {
   "cell_type": "code",
   "execution_count": 28,
   "metadata": {},
   "outputs": [
    {
     "data": {
      "text/plain": [
       "array([[ 76.99388 ],\n",
       "       [ 82.01411 ],\n",
       "       [ 87.03434 ],\n",
       "       [ 92.054565],\n",
       "       [ 97.07481 ],\n",
       "       [102.09503 ],\n",
       "       [107.11526 ],\n",
       "       [112.13549 ],\n",
       "       [117.15572 ],\n",
       "       [122.17595 ]], dtype=float32)"
      ]
     },
     "execution_count": 28,
     "metadata": {},
     "output_type": "execute_result"
    }
   ],
   "source": [
    "# Make some predictions\n",
    "y_pred = model.predict(X_test)\n",
    "y_pred"
   ]
  },
  {
   "cell_type": "code",
   "execution_count": 29,
   "metadata": {},
   "outputs": [
    {
     "data": {
      "text/plain": [
       "<tf.Tensor: shape=(10,), dtype=int32, numpy=array([ 70,  74,  78,  82,  86,  90,  94,  98, 102, 106])>"
      ]
     },
     "execution_count": 29,
     "metadata": {},
     "output_type": "execute_result"
    }
   ],
   "source": [
    "y_test"
   ]
  },
  {
   "cell_type": "markdown",
   "metadata": {},
   "source": [
    "🔑 **Note:** If you feel like you're going to reuse some kind of functionality in the future, it's a good idea to turn it into a function"
   ]
  },
  {
   "cell_type": "code",
   "execution_count": 30,
   "metadata": {},
   "outputs": [],
   "source": [
    "# Let's create a plotting function\n",
    "def plot_predictions(\n",
    "    train_data=X_train,\n",
    "    train_labels=y_train,\n",
    "    test_data=X_test,\n",
    "    test_labels=y_test,\n",
    "    predictions=y_pred):\n",
    "    \n",
    "    \"\"\"\n",
    "    Plots training data, test data and compares predictions to gound truth labels.\n",
    "    \"\"\"\n",
    "    plt.figure(figsize=(10, 7))\n",
    "    # Plot trainning data in blue\n",
    "    plt.scatter(train_data, train_labels, c=\"blue\", label=\"Training data\")\n",
    "    # Plot testing data in green\n",
    "    plt.scatter(test_data, test_labels, c=\"green\", label=\"Test data\")\n",
    "    # Plot model's predictions in red\n",
    "    plt.scatter(test_data, predictions, c=\"red\", label=\"Predictions\")\n",
    "    # Show the legend\n",
    "    plt.legend()"
   ]
  },
  {
   "cell_type": "code",
   "execution_count": 31,
   "metadata": {},
   "outputs": [
    {
     "data": {
      "image/png": "[encoded data removed]",
      "image/svg+xml": "<?xml version=\"1.0\" encoding=\"utf-8\" standalone=\"no\"?>\n<!DOCTYPE svg PUBLIC \"-//W3C//DTD SVG 1.1//EN\"\n  \"http://www.w3.org/Graphics/SVG/1.1/DTD/svg11.dtd\">\n<svg xmlns:xlink=\"http://www.w3.org/1999/xlink\" width=\"606.867188pt\" height=\"411.598125pt\" viewBox=\"0 0 606.867188 411.598125\" xmlns=\"http://www.w3.org/2000/svg\" version=\"1.1\">\n <metadata>\n  <rdf:RDF xmlns:dc=\"http://purl.org/dc/elements/1.1/\" xmlns:cc=\"http://creativecommons.org/ns#\" xmlns:rdf=\"http://www.w3.org/1999/02/22-rdf-syntax-ns#\">\n   <cc:Work>\n    <dc:type rdf:resource=\"http://purl.org/dc/dcmitype/StillImage\"/>\n    <dc:date>2022-05-10T09:38:32.443329</dc:date>\n    <dc:format>image/svg+xml</dc:format>\n    <dc:creator>\n     <cc:Agent>\n      <dc:title>Matplotlib v3.5.1, https://matplotlib.org/</dc:title>\n     </cc:Agent>\n    </dc:creator>\n   </cc:Work>\n  </rdf:RDF>\n </metadata>\n <defs>\n  <style type=\"text/css\">*{stroke-linejoin: round; stroke-linecap: butt}</style>\n </defs>\n <g id=\"figure_1\">\n  <g id=\"patch_1\">\n   <path d=\"M 0 411.598125 \nL 606.867188 411.598125 \nL 606.867188 0 \nL 0 0 \nz\n\"/>\n  </g>\n  <g id=\"axes_1\">\n   <g id=\"patch_2\">\n    <path d=\"M 41.667188 387.72 \nL 599.667187 387.72 \nL 599.667187 7.2 \nL 41.667188 7.2 \nz\n\"/>\n   </g>\n   <g id=\"PathCollection_1\">\n    <defs>\n     <path id=\"mf5de5d26fb\" d=\"M 0 3 \nC 0.795609 3 1.55874 2.683901 2.12132 2.12132 \nC 2.683901 1.55874 3 0.795609 3 0 \nC 3 -0.795609 2.683901 -1.55874 2.12132 -2.12132 \nC 1.55874 -2.683901 0.795609 -3 0 -3 \nC -0.795609 -3 -1.55874 -2.683901 -2.12132 -2.12132 \nC -2.683901 -1.55874 -3 -0.795609 -3 0 \nC -3 0.795609 -2.683901 1.55874 -2.12132 2.12132 \nC -1.55874 2.683901 -0.795609 3 0 3 \nz\n\" style=\"stroke: #0000ff\"/>\n    </defs>\n    <g clip-path=\"url(#p1ae8eca31d)\">\n     <use xlink:href=\"#mf5de5d26fb\" x=\"67.030824\" y=\"370.423636\" style=\"fill: #0000ff; stroke: #0000ff\"/>\n     <use xlink:href=\"#mf5de5d26fb\" x=\"77.383329\" y=\"363.902119\" style=\"fill: #0000ff; stroke: #0000ff\"/>\n     <use xlink:href=\"#mf5de5d26fb\" x=\"87.735833\" y=\"357.380602\" style=\"fill: #0000ff; stroke: #0000ff\"/>\n     <use xlink:href=\"#mf5de5d26fb\" x=\"98.088338\" y=\"350.859085\" style=\"fill: #0000ff; stroke: #0000ff\"/>\n     <use xlink:href=\"#mf5de5d26fb\" x=\"108.440842\" y=\"344.337568\" style=\"fill: #0000ff; stroke: #0000ff\"/>\n     <use xlink:href=\"#mf5de5d26fb\" x=\"118.793347\" y=\"337.816051\" style=\"fill: #0000ff; stroke: #0000ff\"/>\n     <use xlink:href=\"#mf5de5d26fb\" x=\"129.145852\" y=\"331.294533\" style=\"fill: #0000ff; stroke: #0000ff\"/>\n     <use xlink:href=\"#mf5de5d26fb\" x=\"139.498356\" y=\"324.773016\" style=\"fill: #0000ff; stroke: #0000ff\"/>\n     <use xlink:href=\"#mf5de5d26fb\" x=\"149.850861\" y=\"318.251499\" style=\"fill: #0000ff; stroke: #0000ff\"/>\n     <use xlink:href=\"#mf5de5d26fb\" x=\"160.203366\" y=\"311.729982\" style=\"fill: #0000ff; stroke: #0000ff\"/>\n     <use xlink:href=\"#mf5de5d26fb\" x=\"170.55587\" y=\"305.208465\" style=\"fill: #0000ff; stroke: #0000ff\"/>\n     <use xlink:href=\"#mf5de5d26fb\" x=\"180.908375\" y=\"298.686948\" style=\"fill: #0000ff; stroke: #0000ff\"/>\n     <use xlink:href=\"#mf5de5d26fb\" x=\"191.26088\" y=\"292.165431\" style=\"fill: #0000ff; stroke: #0000ff\"/>\n     <use xlink:href=\"#mf5de5d26fb\" x=\"201.613384\" y=\"285.643913\" style=\"fill: #0000ff; stroke: #0000ff\"/>\n     <use xlink:href=\"#mf5de5d26fb\" x=\"211.965889\" y=\"279.122396\" style=\"fill: #0000ff; stroke: #0000ff\"/>\n     <use xlink:href=\"#mf5de5d26fb\" x=\"222.318393\" y=\"272.600879\" style=\"fill: #0000ff; stroke: #0000ff\"/>\n     <use xlink:href=\"#mf5de5d26fb\" x=\"232.670898\" y=\"266.079362\" style=\"fill: #0000ff; stroke: #0000ff\"/>\n     <use xlink:href=\"#mf5de5d26fb\" x=\"243.023403\" y=\"259.557845\" style=\"fill: #0000ff; stroke: #0000ff\"/>\n     <use xlink:href=\"#mf5de5d26fb\" x=\"253.375907\" y=\"253.036328\" style=\"fill: #0000ff; stroke: #0000ff\"/>\n     <use xlink:href=\"#mf5de5d26fb\" x=\"263.728412\" y=\"246.514811\" style=\"fill: #0000ff; stroke: #0000ff\"/>\n     <use xlink:href=\"#mf5de5d26fb\" x=\"274.080917\" y=\"239.993293\" style=\"fill: #0000ff; stroke: #0000ff\"/>\n     <use xlink:href=\"#mf5de5d26fb\" x=\"284.433421\" y=\"233.471776\" style=\"fill: #0000ff; stroke: #0000ff\"/>\n     <use xlink:href=\"#mf5de5d26fb\" x=\"294.785926\" y=\"226.950259\" style=\"fill: #0000ff; stroke: #0000ff\"/>\n     <use xlink:href=\"#mf5de5d26fb\" x=\"305.138431\" y=\"220.428742\" style=\"fill: #0000ff; stroke: #0000ff\"/>\n     <use xlink:href=\"#mf5de5d26fb\" x=\"315.490935\" y=\"213.907225\" style=\"fill: #0000ff; stroke: #0000ff\"/>\n     <use xlink:href=\"#mf5de5d26fb\" x=\"325.84344\" y=\"207.385708\" style=\"fill: #0000ff; stroke: #0000ff\"/>\n     <use xlink:href=\"#mf5de5d26fb\" x=\"336.195944\" y=\"200.86419\" style=\"fill: #0000ff; stroke: #0000ff\"/>\n     <use xlink:href=\"#mf5de5d26fb\" x=\"346.548449\" y=\"194.342673\" style=\"fill: #0000ff; stroke: #0000ff\"/>\n     <use xlink:href=\"#mf5de5d26fb\" x=\"356.900954\" y=\"187.821156\" style=\"fill: #0000ff; stroke: #0000ff\"/>\n     <use xlink:href=\"#mf5de5d26fb\" x=\"367.253458\" y=\"181.299639\" style=\"fill: #0000ff; stroke: #0000ff\"/>\n     <use xlink:href=\"#mf5de5d26fb\" x=\"377.605963\" y=\"174.778122\" style=\"fill: #0000ff; stroke: #0000ff\"/>\n     <use xlink:href=\"#mf5de5d26fb\" x=\"387.958468\" y=\"168.256605\" style=\"fill: #0000ff; stroke: #0000ff\"/>\n     <use xlink:href=\"#mf5de5d26fb\" x=\"398.310972\" y=\"161.735088\" style=\"fill: #0000ff; stroke: #0000ff\"/>\n     <use xlink:href=\"#mf5de5d26fb\" x=\"408.663477\" y=\"155.21357\" style=\"fill: #0000ff; stroke: #0000ff\"/>\n     <use xlink:href=\"#mf5de5d26fb\" x=\"419.015982\" y=\"148.692053\" style=\"fill: #0000ff; stroke: #0000ff\"/>\n     <use xlink:href=\"#mf5de5d26fb\" x=\"429.368486\" y=\"142.170536\" style=\"fill: #0000ff; stroke: #0000ff\"/>\n     <use xlink:href=\"#mf5de5d26fb\" x=\"439.720991\" y=\"135.649019\" style=\"fill: #0000ff; stroke: #0000ff\"/>\n     <use xlink:href=\"#mf5de5d26fb\" x=\"450.073495\" y=\"129.127502\" style=\"fill: #0000ff; stroke: #0000ff\"/>\n     <use xlink:href=\"#mf5de5d26fb\" x=\"460.426\" y=\"122.605985\" style=\"fill: #0000ff; stroke: #0000ff\"/>\n     <use xlink:href=\"#mf5de5d26fb\" x=\"470.778505\" y=\"116.084468\" style=\"fill: #0000ff; stroke: #0000ff\"/>\n    </g>\n   </g>\n   <g id=\"PathCollection_2\">\n    <defs>\n     <path id=\"mfe3b551477\" d=\"M 0 3 \nC 0.795609 3 1.55874 2.683901 2.12132 2.12132 \nC 2.683901 1.55874 3 0.795609 3 0 \nC 3 -0.795609 2.683901 -1.55874 2.12132 -2.12132 \nC 1.55874 -2.683901 0.795609 -3 0 -3 \nC -0.795609 -3 -1.55874 -2.683901 -2.12132 -2.12132 \nC -2.683901 -1.55874 -3 -0.795609 -3 0 \nC -3 0.795609 -2.683901 1.55874 -2.12132 2.12132 \nC -1.55874 2.683901 -0.795609 3 0 3 \nz\n\" style=\"stroke: #008000\"/>\n    </defs>\n    <g clip-path=\"url(#p1ae8eca31d)\">\n     <use xlink:href=\"#mfe3b551477\" x=\"481.131009\" y=\"109.56295\" style=\"fill: #008000; stroke: #008000\"/>\n     <use xlink:href=\"#mfe3b551477\" x=\"491.483514\" y=\"103.041433\" style=\"fill: #008000; stroke: #008000\"/>\n     <use xlink:href=\"#mfe3b551477\" x=\"501.836019\" y=\"96.519916\" style=\"fill: #008000; stroke: #008000\"/>\n     <use xlink:href=\"#mfe3b551477\" x=\"512.188523\" y=\"89.998399\" style=\"fill: #008000; stroke: #008000\"/>\n     <use xlink:href=\"#mfe3b551477\" x=\"522.541028\" y=\"83.476882\" style=\"fill: #008000; stroke: #008000\"/>\n     <use xlink:href=\"#mfe3b551477\" x=\"532.893533\" y=\"76.955365\" style=\"fill: #008000; stroke: #008000\"/>\n     <use xlink:href=\"#mfe3b551477\" x=\"543.246037\" y=\"70.433847\" style=\"fill: #008000; stroke: #008000\"/>\n     <use xlink:href=\"#mfe3b551477\" x=\"553.598542\" y=\"63.91233\" style=\"fill: #008000; stroke: #008000\"/>\n     <use xlink:href=\"#mfe3b551477\" x=\"563.951046\" y=\"57.390813\" style=\"fill: #008000; stroke: #008000\"/>\n     <use xlink:href=\"#mfe3b551477\" x=\"574.303551\" y=\"50.869296\" style=\"fill: #008000; stroke: #008000\"/>\n    </g>\n   </g>\n   <g id=\"PathCollection_3\">\n    <defs>\n     <path id=\"m5166ee80e8\" d=\"M 0 3 \nC 0.795609 3 1.55874 2.683901 2.12132 2.12132 \nC 2.683901 1.55874 3 0.795609 3 0 \nC 3 -0.795609 2.683901 -1.55874 2.12132 -2.12132 \nC 1.55874 -2.683901 0.795609 -3 0 -3 \nC -0.795609 -3 -1.55874 -2.683901 -2.12132 -2.12132 \nC -2.683901 -1.55874 -3 -0.795609 -3 0 \nC -3 0.795609 -2.683901 1.55874 -2.12132 2.12132 \nC -1.55874 2.683901 -0.795609 3 0 3 \nz\n\" style=\"stroke: #ff0000\"/>\n    </defs>\n    <g clip-path=\"url(#p1ae8eca31d)\">\n     <use xlink:href=\"#m5166ee80e8\" x=\"481.131009\" y=\"98.160271\" style=\"fill: #ff0000; stroke: #ff0000\"/>\n     <use xlink:href=\"#m5166ee80e8\" x=\"491.483514\" y=\"89.9754\" style=\"fill: #ff0000; stroke: #ff0000\"/>\n     <use xlink:href=\"#m5166ee80e8\" x=\"501.836019\" y=\"81.790515\" style=\"fill: #ff0000; stroke: #ff0000\"/>\n     <use xlink:href=\"#m5166ee80e8\" x=\"512.188523\" y=\"73.605644\" style=\"fill: #ff0000; stroke: #ff0000\"/>\n     <use xlink:href=\"#m5166ee80e8\" x=\"522.541028\" y=\"65.420747\" style=\"fill: #ff0000; stroke: #ff0000\"/>\n     <use xlink:href=\"#m5166ee80e8\" x=\"532.893533\" y=\"57.235875\" style=\"fill: #ff0000; stroke: #ff0000\"/>\n     <use xlink:href=\"#m5166ee80e8\" x=\"543.246037\" y=\"49.051004\" style=\"fill: #ff0000; stroke: #ff0000\"/>\n     <use xlink:href=\"#m5166ee80e8\" x=\"553.598542\" y=\"40.86612\" style=\"fill: #ff0000; stroke: #ff0000\"/>\n     <use xlink:href=\"#m5166ee80e8\" x=\"563.951046\" y=\"32.681235\" style=\"fill: #ff0000; stroke: #ff0000\"/>\n     <use xlink:href=\"#m5166ee80e8\" x=\"574.303551\" y=\"24.496364\" style=\"fill: #ff0000; stroke: #ff0000\"/>\n    </g>\n   </g>\n   <g id=\"matplotlib.axis_1\">\n    <g id=\"xtick_1\">\n     <g id=\"line2d_1\">\n      <defs>\n       <path id=\"m776b1740f6\" d=\"M 0 0 \nL 0 3.5 \n\" style=\"stroke: #ffffff; stroke-width: 0.8\"/>\n      </defs>\n      <g>\n       <use xlink:href=\"#m776b1740f6\" x=\"67.030824\" y=\"387.72\" style=\"fill: #ffffff; stroke: #ffffff; stroke-width: 0.8\"/>\n      </g>\n     </g>\n     <g id=\"text_1\">\n      <!-- −100 -->\n      <g style=\"fill: #ffffff\" transform=\"translate(53.29723 402.318437)scale(0.1 -0.1)\">\n       <defs>\n        <path id=\"DejaVuSans-2212\" d=\"M 678 2272 \nL 4684 2272 \nL 4684 1741 \nL 678 1741 \nL 678 2272 \nz\n\" transform=\"scale(0.015625)\"/>\n        <path id=\"DejaVuSans-31\" d=\"M 794 531 \nL 1825 531 \nL 1825 4091 \nL 703 3866 \nL 703 4441 \nL 1819 4666 \nL 2450 4666 \nL 2450 531 \nL 3481 531 \nL 3481 0 \nL 794 0 \nL 794 531 \nz\n\" transform=\"scale(0.015625)\"/>\n        <path id=\"DejaVuSans-30\" d=\"M 2034 4250 \nQ 1547 4250 1301 3770 \nQ 1056 3291 1056 2328 \nQ 1056 1369 1301 889 \nQ 1547 409 2034 409 \nQ 2525 409 2770 889 \nQ 3016 1369 3016 2328 \nQ 3016 3291 2770 3770 \nQ 2525 4250 2034 4250 \nz\nM 2034 4750 \nQ 2819 4750 3233 4129 \nQ 3647 3509 3647 2328 \nQ 3647 1150 3233 529 \nQ 2819 -91 2034 -91 \nQ 1250 -91 836 529 \nQ 422 1150 422 2328 \nQ 422 3509 836 4129 \nQ 1250 4750 2034 4750 \nz\n\" transform=\"scale(0.015625)\"/>\n       </defs>\n       <use xlink:href=\"#DejaVuSans-2212\"/>\n       <use xlink:href=\"#DejaVuSans-31\" x=\"83.789062\"/>\n       <use xlink:href=\"#DejaVuSans-30\" x=\"147.412109\"/>\n       <use xlink:href=\"#DejaVuSans-30\" x=\"211.035156\"/>\n      </g>\n     </g>\n    </g>\n    <g id=\"xtick_2\">\n     <g id=\"line2d_2\">\n      <g>\n       <use xlink:href=\"#m776b1740f6\" x=\"131.733978\" y=\"387.72\" style=\"fill: #ffffff; stroke: #ffffff; stroke-width: 0.8\"/>\n      </g>\n     </g>\n     <g id=\"text_2\">\n      <!-- −75 -->\n      <g style=\"fill: #ffffff\" transform=\"translate(121.181634 402.318437)scale(0.1 -0.1)\">\n       <defs>\n        <path id=\"DejaVuSans-37\" d=\"M 525 4666 \nL 3525 4666 \nL 3525 4397 \nL 1831 0 \nL 1172 0 \nL 2766 4134 \nL 525 4134 \nL 525 4666 \nz\n\" transform=\"scale(0.015625)\"/>\n        <path id=\"DejaVuSans-35\" d=\"M 691 4666 \nL 3169 4666 \nL 3169 4134 \nL 1269 4134 \nL 1269 2991 \nQ 1406 3038 1543 3061 \nQ 1681 3084 1819 3084 \nQ 2600 3084 3056 2656 \nQ 3513 2228 3513 1497 \nQ 3513 744 3044 326 \nQ 2575 -91 1722 -91 \nQ 1428 -91 1123 -41 \nQ 819 9 494 109 \nL 494 744 \nQ 775 591 1075 516 \nQ 1375 441 1709 441 \nQ 2250 441 2565 725 \nQ 2881 1009 2881 1497 \nQ 2881 1984 2565 2268 \nQ 2250 2553 1709 2553 \nQ 1456 2553 1204 2497 \nQ 953 2441 691 2322 \nL 691 4666 \nz\n\" transform=\"scale(0.015625)\"/>\n       </defs>\n       <use xlink:href=\"#DejaVuSans-2212\"/>\n       <use xlink:href=\"#DejaVuSans-37\" x=\"83.789062\"/>\n       <use xlink:href=\"#DejaVuSans-35\" x=\"147.412109\"/>\n      </g>\n     </g>\n    </g>\n    <g id=\"xtick_3\">\n     <g id=\"line2d_3\">\n      <g>\n       <use xlink:href=\"#m776b1740f6\" x=\"196.437132\" y=\"387.72\" style=\"fill: #ffffff; stroke: #ffffff; stroke-width: 0.8\"/>\n      </g>\n     </g>\n     <g id=\"text_3\">\n      <!-- −50 -->\n      <g style=\"fill: #ffffff\" transform=\"translate(185.884788 402.318437)scale(0.1 -0.1)\">\n       <use xlink:href=\"#DejaVuSans-2212\"/>\n       <use xlink:href=\"#DejaVuSans-35\" x=\"83.789062\"/>\n       <use xlink:href=\"#DejaVuSans-30\" x=\"147.412109\"/>\n      </g>\n     </g>\n    </g>\n    <g id=\"xtick_4\">\n     <g id=\"line2d_4\">\n      <g>\n       <use xlink:href=\"#m776b1740f6\" x=\"261.140286\" y=\"387.72\" style=\"fill: #ffffff; stroke: #ffffff; stroke-width: 0.8\"/>\n      </g>\n     </g>\n     <g id=\"text_4\">\n      <!-- −25 -->\n      <g style=\"fill: #ffffff\" transform=\"translate(250.587942 402.318437)scale(0.1 -0.1)\">\n       <defs>\n        <path id=\"DejaVuSans-32\" d=\"M 1228 531 \nL 3431 531 \nL 3431 0 \nL 469 0 \nL 469 531 \nQ 828 903 1448 1529 \nQ 2069 2156 2228 2338 \nQ 2531 2678 2651 2914 \nQ 2772 3150 2772 3378 \nQ 2772 3750 2511 3984 \nQ 2250 4219 1831 4219 \nQ 1534 4219 1204 4116 \nQ 875 4013 500 3803 \nL 500 4441 \nQ 881 4594 1212 4672 \nQ 1544 4750 1819 4750 \nQ 2544 4750 2975 4387 \nQ 3406 4025 3406 3419 \nQ 3406 3131 3298 2873 \nQ 3191 2616 2906 2266 \nQ 2828 2175 2409 1742 \nQ 1991 1309 1228 531 \nz\n\" transform=\"scale(0.015625)\"/>\n       </defs>\n       <use xlink:href=\"#DejaVuSans-2212\"/>\n       <use xlink:href=\"#DejaVuSans-32\" x=\"83.789062\"/>\n       <use xlink:href=\"#DejaVuSans-35\" x=\"147.412109\"/>\n      </g>\n     </g>\n    </g>\n    <g id=\"xtick_5\">\n     <g id=\"line2d_5\">\n      <g>\n       <use xlink:href=\"#m776b1740f6\" x=\"325.84344\" y=\"387.72\" style=\"fill: #ffffff; stroke: #ffffff; stroke-width: 0.8\"/>\n      </g>\n     </g>\n     <g id=\"text_5\">\n      <!-- 0 -->\n      <g style=\"fill: #ffffff\" transform=\"translate(322.66219 402.318437)scale(0.1 -0.1)\">\n       <use xlink:href=\"#DejaVuSans-30\"/>\n      </g>\n     </g>\n    </g>\n    <g id=\"xtick_6\">\n     <g id=\"line2d_6\">\n      <g>\n       <use xlink:href=\"#m776b1740f6\" x=\"390.546594\" y=\"387.72\" style=\"fill: #ffffff; stroke: #ffffff; stroke-width: 0.8\"/>\n      </g>\n     </g>\n     <g id=\"text_6\">\n      <!-- 25 -->\n      <g style=\"fill: #ffffff\" transform=\"translate(384.184094 402.318437)scale(0.1 -0.1)\">\n       <use xlink:href=\"#DejaVuSans-32\"/>\n       <use xlink:href=\"#DejaVuSans-35\" x=\"63.623047\"/>\n      </g>\n     </g>\n    </g>\n    <g id=\"xtick_7\">\n     <g id=\"line2d_7\">\n      <g>\n       <use xlink:href=\"#m776b1740f6\" x=\"455.249748\" y=\"387.72\" style=\"fill: #ffffff; stroke: #ffffff; stroke-width: 0.8\"/>\n      </g>\n     </g>\n     <g id=\"text_7\">\n      <!-- 50 -->\n      <g style=\"fill: #ffffff\" transform=\"translate(448.887248 402.318437)scale(0.1 -0.1)\">\n       <use xlink:href=\"#DejaVuSans-35\"/>\n       <use xlink:href=\"#DejaVuSans-30\" x=\"63.623047\"/>\n      </g>\n     </g>\n    </g>\n    <g id=\"xtick_8\">\n     <g id=\"line2d_8\">\n      <g>\n       <use xlink:href=\"#m776b1740f6\" x=\"519.952902\" y=\"387.72\" style=\"fill: #ffffff; stroke: #ffffff; stroke-width: 0.8\"/>\n      </g>\n     </g>\n     <g id=\"text_8\">\n      <!-- 75 -->\n      <g style=\"fill: #ffffff\" transform=\"translate(513.590402 402.318437)scale(0.1 -0.1)\">\n       <use xlink:href=\"#DejaVuSans-37\"/>\n       <use xlink:href=\"#DejaVuSans-35\" x=\"63.623047\"/>\n      </g>\n     </g>\n    </g>\n    <g id=\"xtick_9\">\n     <g id=\"line2d_9\">\n      <g>\n       <use xlink:href=\"#m776b1740f6\" x=\"584.656056\" y=\"387.72\" style=\"fill: #ffffff; stroke: #ffffff; stroke-width: 0.8\"/>\n      </g>\n     </g>\n     <g id=\"text_9\">\n      <!-- 100 -->\n      <g style=\"fill: #ffffff\" transform=\"translate(575.112306 402.318437)scale(0.1 -0.1)\">\n       <use xlink:href=\"#DejaVuSans-31\"/>\n       <use xlink:href=\"#DejaVuSans-30\" x=\"63.623047\"/>\n       <use xlink:href=\"#DejaVuSans-30\" x=\"127.246094\"/>\n      </g>\n     </g>\n    </g>\n   </g>\n   <g id=\"matplotlib.axis_2\">\n    <g id=\"ytick_1\">\n     <g id=\"line2d_10\">\n      <defs>\n       <path id=\"md6ef3ca50e\" d=\"M 0 0 \nL -3.5 0 \n\" style=\"stroke: #ffffff; stroke-width: 0.8\"/>\n      </defs>\n      <g>\n       <use xlink:href=\"#md6ef3ca50e\" x=\"41.667188\" y=\"386.727429\" style=\"fill: #ffffff; stroke: #ffffff; stroke-width: 0.8\"/>\n      </g>\n     </g>\n     <g id=\"text_10\">\n      <!-- −100 -->\n      <g style=\"fill: #ffffff\" transform=\"translate(7.2 390.526648)scale(0.1 -0.1)\">\n       <use xlink:href=\"#DejaVuSans-2212\"/>\n       <use xlink:href=\"#DejaVuSans-31\" x=\"83.789062\"/>\n       <use xlink:href=\"#DejaVuSans-30\" x=\"147.412109\"/>\n       <use xlink:href=\"#DejaVuSans-30\" x=\"211.035156\"/>\n      </g>\n     </g>\n    </g>\n    <g id=\"ytick_2\">\n     <g id=\"line2d_11\">\n      <g>\n       <use xlink:href=\"#md6ef3ca50e\" x=\"41.667188\" y=\"305.208465\" style=\"fill: #ffffff; stroke: #ffffff; stroke-width: 0.8\"/>\n      </g>\n     </g>\n     <g id=\"text_11\">\n      <!-- −50 -->\n      <g style=\"fill: #ffffff\" transform=\"translate(13.5625 309.007684)scale(0.1 -0.1)\">\n       <use xlink:href=\"#DejaVuSans-2212\"/>\n       <use xlink:href=\"#DejaVuSans-35\" x=\"83.789062\"/>\n       <use xlink:href=\"#DejaVuSans-30\" x=\"147.412109\"/>\n      </g>\n     </g>\n    </g>\n    <g id=\"ytick_3\">\n     <g id=\"line2d_12\">\n      <g>\n       <use xlink:href=\"#md6ef3ca50e\" x=\"41.667188\" y=\"223.6895\" style=\"fill: #ffffff; stroke: #ffffff; stroke-width: 0.8\"/>\n      </g>\n     </g>\n     <g id=\"text_12\">\n      <!-- 0 -->\n      <g style=\"fill: #ffffff\" transform=\"translate(28.304688 227.488719)scale(0.1 -0.1)\">\n       <use xlink:href=\"#DejaVuSans-30\"/>\n      </g>\n     </g>\n    </g>\n    <g id=\"ytick_4\">\n     <g id=\"line2d_13\">\n      <g>\n       <use xlink:href=\"#md6ef3ca50e\" x=\"41.667188\" y=\"142.170536\" style=\"fill: #ffffff; stroke: #ffffff; stroke-width: 0.8\"/>\n      </g>\n     </g>\n     <g id=\"text_13\">\n      <!-- 50 -->\n      <g style=\"fill: #ffffff\" transform=\"translate(21.942188 145.969755)scale(0.1 -0.1)\">\n       <use xlink:href=\"#DejaVuSans-35\"/>\n       <use xlink:href=\"#DejaVuSans-30\" x=\"63.623047\"/>\n      </g>\n     </g>\n    </g>\n    <g id=\"ytick_5\">\n     <g id=\"line2d_14\">\n      <g>\n       <use xlink:href=\"#md6ef3ca50e\" x=\"41.667188\" y=\"60.651572\" style=\"fill: #ffffff; stroke: #ffffff; stroke-width: 0.8\"/>\n      </g>\n     </g>\n     <g id=\"text_14\">\n      <!-- 100 -->\n      <g style=\"fill: #ffffff\" transform=\"translate(15.579688 64.45079)scale(0.1 -0.1)\">\n       <use xlink:href=\"#DejaVuSans-31\"/>\n       <use xlink:href=\"#DejaVuSans-30\" x=\"63.623047\"/>\n       <use xlink:href=\"#DejaVuSans-30\" x=\"127.246094\"/>\n      </g>\n     </g>\n    </g>\n   </g>\n   <g id=\"patch_3\">\n    <path d=\"M 41.667188 387.72 \nL 41.667188 7.2 \n\" style=\"fill: none; stroke: #ffffff; stroke-width: 0.8; stroke-linejoin: miter; stroke-linecap: square\"/>\n   </g>\n   <g id=\"patch_4\">\n    <path d=\"M 599.667187 387.72 \nL 599.667187 7.2 \n\" style=\"fill: none; stroke: #ffffff; stroke-width: 0.8; stroke-linejoin: miter; stroke-linecap: square\"/>\n   </g>\n   <g id=\"patch_5\">\n    <path d=\"M 41.667188 387.72 \nL 599.667188 387.72 \n\" style=\"fill: none; stroke: #ffffff; stroke-width: 0.8; stroke-linejoin: miter; stroke-linecap: square\"/>\n   </g>\n   <g id=\"patch_6\">\n    <path d=\"M 41.667188 7.2 \nL 599.667188 7.2 \n\" style=\"fill: none; stroke: #ffffff; stroke-width: 0.8; stroke-linejoin: miter; stroke-linecap: square\"/>\n   </g>\n   <g id=\"legend_1\">\n    <g id=\"patch_7\">\n     <path d=\"M 48.667188 59.234375 \nL 145.821875 59.234375 \nQ 147.821875 59.234375 147.821875 57.234375 \nL 147.821875 14.2 \nQ 147.821875 12.2 145.821875 12.2 \nL 48.667188 12.2 \nQ 46.667188 12.2 46.667188 14.2 \nL 46.667188 57.234375 \nQ 46.667188 59.234375 48.667188 59.234375 \nz\n\" style=\"opacity: 0.8; stroke: #cccccc; stroke-linejoin: miter\"/>\n    </g>\n    <g id=\"PathCollection_4\">\n     <g>\n      <use xlink:href=\"#mf5de5d26fb\" x=\"60.667188\" y=\"21.173437\" style=\"fill: #0000ff; stroke: #0000ff\"/>\n     </g>\n    </g>\n    <g id=\"text_15\">\n     <!-- Training data -->\n     <g style=\"fill: #ffffff\" transform=\"translate(78.667188 23.798437)scale(0.1 -0.1)\">\n      <defs>\n       <path id=\"DejaVuSans-54\" d=\"M -19 4666 \nL 3928 4666 \nL 3928 4134 \nL 2272 4134 \nL 2272 0 \nL 1638 0 \nL 1638 4134 \nL -19 4134 \nL -19 4666 \nz\n\" transform=\"scale(0.015625)\"/>\n       <path id=\"DejaVuSans-72\" d=\"M 2631 2963 \nQ 2534 3019 2420 3045 \nQ 2306 3072 2169 3072 \nQ 1681 3072 1420 2755 \nQ 1159 2438 1159 1844 \nL 1159 0 \nL 581 0 \nL 581 3500 \nL 1159 3500 \nL 1159 2956 \nQ 1341 3275 1631 3429 \nQ 1922 3584 2338 3584 \nQ 2397 3584 2469 3576 \nQ 2541 3569 2628 3553 \nL 2631 2963 \nz\n\" transform=\"scale(0.015625)\"/>\n       <path id=\"DejaVuSans-61\" d=\"M 2194 1759 \nQ 1497 1759 1228 1600 \nQ 959 1441 959 1056 \nQ 959 750 1161 570 \nQ 1363 391 1709 391 \nQ 2188 391 2477 730 \nQ 2766 1069 2766 1631 \nL 2766 1759 \nL 2194 1759 \nz\nM 3341 1997 \nL 3341 0 \nL 2766 0 \nL 2766 531 \nQ 2569 213 2275 61 \nQ 1981 -91 1556 -91 \nQ 1019 -91 701 211 \nQ 384 513 384 1019 \nQ 384 1609 779 1909 \nQ 1175 2209 1959 2209 \nL 2766 2209 \nL 2766 2266 \nQ 2766 2663 2505 2880 \nQ 2244 3097 1772 3097 \nQ 1472 3097 1187 3025 \nQ 903 2953 641 2809 \nL 641 3341 \nQ 956 3463 1253 3523 \nQ 1550 3584 1831 3584 \nQ 2591 3584 2966 3190 \nQ 3341 2797 3341 1997 \nz\n\" transform=\"scale(0.015625)\"/>\n       <path id=\"DejaVuSans-69\" d=\"M 603 3500 \nL 1178 3500 \nL 1178 0 \nL 603 0 \nL 603 3500 \nz\nM 603 4863 \nL 1178 4863 \nL 1178 4134 \nL 603 4134 \nL 603 4863 \nz\n\" transform=\"scale(0.015625)\"/>\n       <path id=\"DejaVuSans-6e\" d=\"M 3513 2113 \nL 3513 0 \nL 2938 0 \nL 2938 2094 \nQ 2938 2591 2744 2837 \nQ 2550 3084 2163 3084 \nQ 1697 3084 1428 2787 \nQ 1159 2491 1159 1978 \nL 1159 0 \nL 581 0 \nL 581 3500 \nL 1159 3500 \nL 1159 2956 \nQ 1366 3272 1645 3428 \nQ 1925 3584 2291 3584 \nQ 2894 3584 3203 3211 \nQ 3513 2838 3513 2113 \nz\n\" transform=\"scale(0.015625)\"/>\n       <path id=\"DejaVuSans-67\" d=\"M 2906 1791 \nQ 2906 2416 2648 2759 \nQ 2391 3103 1925 3103 \nQ 1463 3103 1205 2759 \nQ 947 2416 947 1791 \nQ 947 1169 1205 825 \nQ 1463 481 1925 481 \nQ 2391 481 2648 825 \nQ 2906 1169 2906 1791 \nz\nM 3481 434 \nQ 3481 -459 3084 -895 \nQ 2688 -1331 1869 -1331 \nQ 1566 -1331 1297 -1286 \nQ 1028 -1241 775 -1147 \nL 775 -588 \nQ 1028 -725 1275 -790 \nQ 1522 -856 1778 -856 \nQ 2344 -856 2625 -561 \nQ 2906 -266 2906 331 \nL 2906 616 \nQ 2728 306 2450 153 \nQ 2172 0 1784 0 \nQ 1141 0 747 490 \nQ 353 981 353 1791 \nQ 353 2603 747 3093 \nQ 1141 3584 1784 3584 \nQ 2172 3584 2450 3431 \nQ 2728 3278 2906 2969 \nL 2906 3500 \nL 3481 3500 \nL 3481 434 \nz\n\" transform=\"scale(0.015625)\"/>\n       <path id=\"DejaVuSans-20\" transform=\"scale(0.015625)\"/>\n       <path id=\"DejaVuSans-64\" d=\"M 2906 2969 \nL 2906 4863 \nL 3481 4863 \nL 3481 0 \nL 2906 0 \nL 2906 525 \nQ 2725 213 2448 61 \nQ 2172 -91 1784 -91 \nQ 1150 -91 751 415 \nQ 353 922 353 1747 \nQ 353 2572 751 3078 \nQ 1150 3584 1784 3584 \nQ 2172 3584 2448 3432 \nQ 2725 3281 2906 2969 \nz\nM 947 1747 \nQ 947 1113 1208 752 \nQ 1469 391 1925 391 \nQ 2381 391 2643 752 \nQ 2906 1113 2906 1747 \nQ 2906 2381 2643 2742 \nQ 2381 3103 1925 3103 \nQ 1469 3103 1208 2742 \nQ 947 2381 947 1747 \nz\n\" transform=\"scale(0.015625)\"/>\n       <path id=\"DejaVuSans-74\" d=\"M 1172 4494 \nL 1172 3500 \nL 2356 3500 \nL 2356 3053 \nL 1172 3053 \nL 1172 1153 \nQ 1172 725 1289 603 \nQ 1406 481 1766 481 \nL 2356 481 \nL 2356 0 \nL 1766 0 \nQ 1100 0 847 248 \nQ 594 497 594 1153 \nL 594 3053 \nL 172 3053 \nL 172 3500 \nL 594 3500 \nL 594 4494 \nL 1172 4494 \nz\n\" transform=\"scale(0.015625)\"/>\n      </defs>\n      <use xlink:href=\"#DejaVuSans-54\"/>\n      <use xlink:href=\"#DejaVuSans-72\" x=\"46.333984\"/>\n      <use xlink:href=\"#DejaVuSans-61\" x=\"87.447266\"/>\n      <use xlink:href=\"#DejaVuSans-69\" x=\"148.726562\"/>\n      <use xlink:href=\"#DejaVuSans-6e\" x=\"176.509766\"/>\n      <use xlink:href=\"#DejaVuSans-69\" x=\"239.888672\"/>\n      <use xlink:href=\"#DejaVuSans-6e\" x=\"267.671875\"/>\n      <use xlink:href=\"#DejaVuSans-67\" x=\"331.050781\"/>\n      <use xlink:href=\"#DejaVuSans-20\" x=\"394.527344\"/>\n      <use xlink:href=\"#DejaVuSans-64\" x=\"426.314453\"/>\n      <use xlink:href=\"#DejaVuSans-61\" x=\"489.791016\"/>\n      <use xlink:href=\"#DejaVuSans-74\" x=\"551.070312\"/>\n      <use xlink:href=\"#DejaVuSans-61\" x=\"590.279297\"/>\n     </g>\n    </g>\n    <g id=\"PathCollection_5\">\n     <g>\n      <use xlink:href=\"#mfe3b551477\" x=\"60.667188\" y=\"35.851562\" style=\"fill: #008000; stroke: #008000\"/>\n     </g>\n    </g>\n    <g id=\"text_16\">\n     <!-- Test data -->\n     <g style=\"fill: #ffffff\" transform=\"translate(78.667188 38.476562)scale(0.1 -0.1)\">\n      <defs>\n       <path id=\"DejaVuSans-65\" d=\"M 3597 1894 \nL 3597 1613 \nL 953 1613 \nQ 991 1019 1311 708 \nQ 1631 397 2203 397 \nQ 2534 397 2845 478 \nQ 3156 559 3463 722 \nL 3463 178 \nQ 3153 47 2828 -22 \nQ 2503 -91 2169 -91 \nQ 1331 -91 842 396 \nQ 353 884 353 1716 \nQ 353 2575 817 3079 \nQ 1281 3584 2069 3584 \nQ 2775 3584 3186 3129 \nQ 3597 2675 3597 1894 \nz\nM 3022 2063 \nQ 3016 2534 2758 2815 \nQ 2500 3097 2075 3097 \nQ 1594 3097 1305 2825 \nQ 1016 2553 972 2059 \nL 3022 2063 \nz\n\" transform=\"scale(0.015625)\"/>\n       <path id=\"DejaVuSans-73\" d=\"M 2834 3397 \nL 2834 2853 \nQ 2591 2978 2328 3040 \nQ 2066 3103 1784 3103 \nQ 1356 3103 1142 2972 \nQ 928 2841 928 2578 \nQ 928 2378 1081 2264 \nQ 1234 2150 1697 2047 \nL 1894 2003 \nQ 2506 1872 2764 1633 \nQ 3022 1394 3022 966 \nQ 3022 478 2636 193 \nQ 2250 -91 1575 -91 \nQ 1294 -91 989 -36 \nQ 684 19 347 128 \nL 347 722 \nQ 666 556 975 473 \nQ 1284 391 1588 391 \nQ 1994 391 2212 530 \nQ 2431 669 2431 922 \nQ 2431 1156 2273 1281 \nQ 2116 1406 1581 1522 \nL 1381 1569 \nQ 847 1681 609 1914 \nQ 372 2147 372 2553 \nQ 372 3047 722 3315 \nQ 1072 3584 1716 3584 \nQ 2034 3584 2315 3537 \nQ 2597 3491 2834 3397 \nz\n\" transform=\"scale(0.015625)\"/>\n      </defs>\n      <use xlink:href=\"#DejaVuSans-54\"/>\n      <use xlink:href=\"#DejaVuSans-65\" x=\"44.083984\"/>\n      <use xlink:href=\"#DejaVuSans-73\" x=\"105.607422\"/>\n      <use xlink:href=\"#DejaVuSans-74\" x=\"157.707031\"/>\n      <use xlink:href=\"#DejaVuSans-20\" x=\"196.916016\"/>\n      <use xlink:href=\"#DejaVuSans-64\" x=\"228.703125\"/>\n      <use xlink:href=\"#DejaVuSans-61\" x=\"292.179688\"/>\n      <use xlink:href=\"#DejaVuSans-74\" x=\"353.458984\"/>\n      <use xlink:href=\"#DejaVuSans-61\" x=\"392.667969\"/>\n     </g>\n    </g>\n    <g id=\"PathCollection_6\">\n     <g>\n      <use xlink:href=\"#m5166ee80e8\" x=\"60.667188\" y=\"50.529687\" style=\"fill: #ff0000; stroke: #ff0000\"/>\n     </g>\n    </g>\n    <g id=\"text_17\">\n     <!-- Predictions -->\n     <g style=\"fill: #ffffff\" transform=\"translate(78.667188 53.154687)scale(0.1 -0.1)\">\n      <defs>\n       <path id=\"DejaVuSans-50\" d=\"M 1259 4147 \nL 1259 2394 \nL 2053 2394 \nQ 2494 2394 2734 2622 \nQ 2975 2850 2975 3272 \nQ 2975 3691 2734 3919 \nQ 2494 4147 2053 4147 \nL 1259 4147 \nz\nM 628 4666 \nL 2053 4666 \nQ 2838 4666 3239 4311 \nQ 3641 3956 3641 3272 \nQ 3641 2581 3239 2228 \nQ 2838 1875 2053 1875 \nL 1259 1875 \nL 1259 0 \nL 628 0 \nL 628 4666 \nz\n\" transform=\"scale(0.015625)\"/>\n       <path id=\"DejaVuSans-63\" d=\"M 3122 3366 \nL 3122 2828 \nQ 2878 2963 2633 3030 \nQ 2388 3097 2138 3097 \nQ 1578 3097 1268 2742 \nQ 959 2388 959 1747 \nQ 959 1106 1268 751 \nQ 1578 397 2138 397 \nQ 2388 397 2633 464 \nQ 2878 531 3122 666 \nL 3122 134 \nQ 2881 22 2623 -34 \nQ 2366 -91 2075 -91 \nQ 1284 -91 818 406 \nQ 353 903 353 1747 \nQ 353 2603 823 3093 \nQ 1294 3584 2113 3584 \nQ 2378 3584 2631 3529 \nQ 2884 3475 3122 3366 \nz\n\" transform=\"scale(0.015625)\"/>\n       <path id=\"DejaVuSans-6f\" d=\"M 1959 3097 \nQ 1497 3097 1228 2736 \nQ 959 2375 959 1747 \nQ 959 1119 1226 758 \nQ 1494 397 1959 397 \nQ 2419 397 2687 759 \nQ 2956 1122 2956 1747 \nQ 2956 2369 2687 2733 \nQ 2419 3097 1959 3097 \nz\nM 1959 3584 \nQ 2709 3584 3137 3096 \nQ 3566 2609 3566 1747 \nQ 3566 888 3137 398 \nQ 2709 -91 1959 -91 \nQ 1206 -91 779 398 \nQ 353 888 353 1747 \nQ 353 2609 779 3096 \nQ 1206 3584 1959 3584 \nz\n\" transform=\"scale(0.015625)\"/>\n      </defs>\n      <use xlink:href=\"#DejaVuSans-50\"/>\n      <use xlink:href=\"#DejaVuSans-72\" x=\"58.552734\"/>\n      <use xlink:href=\"#DejaVuSans-65\" x=\"97.416016\"/>\n      <use xlink:href=\"#DejaVuSans-64\" x=\"158.939453\"/>\n      <use xlink:href=\"#DejaVuSans-69\" x=\"222.416016\"/>\n      <use xlink:href=\"#DejaVuSans-63\" x=\"250.199219\"/>\n      <use xlink:href=\"#DejaVuSans-74\" x=\"305.179688\"/>\n      <use xlink:href=\"#DejaVuSans-69\" x=\"344.388672\"/>\n      <use xlink:href=\"#DejaVuSans-6f\" x=\"372.171875\"/>\n      <use xlink:href=\"#DejaVuSans-6e\" x=\"433.353516\"/>\n      <use xlink:href=\"#DejaVuSans-73\" x=\"496.732422\"/>\n     </g>\n    </g>\n   </g>\n  </g>\n </g>\n <defs>\n  <clipPath id=\"p1ae8eca31d\">\n   <rect x=\"41.667188\" y=\"7.2\" width=\"558\" height=\"380.52\"/>\n  </clipPath>\n </defs>\n</svg>\n",
      "text/plain": [
       "<Figure size 720x504 with 1 Axes>"
      ]
     },
     "metadata": {},
     "output_type": "display_data"
    }
   ],
   "source": [
    "plot_predictions(\n",
    "    train_data=X_train,\n",
    "    train_labels=y_train,\n",
    "    test_data=X_test,\n",
    "    test_labels=y_test,\n",
    "    predictions=y_pred)"
   ]
  },
  {
   "cell_type": "markdown",
   "metadata": {},
   "source": [
    "### Evaluatin our model's predictions with regression evaluation matrix\n",
    "\n",
    "Depending on the problem you're working on, there will be different evaluation metrics to evluate your model's performance.\n",
    "\n",
    "Since we're working on a regression, two of the main metrics:\n",
    "* MAE - mean absolute error\n",
    "* MSE - mean squared error\n"
   ]
  },
  {
   "cell_type": "code",
   "execution_count": 32,
   "metadata": {},
   "outputs": [
    {
     "name": "stdout",
     "output_type": "stream",
     "text": [
      "1/1 [==============================] - 0s 77ms/step - loss: 11.5849 - mae: 11.5849\n"
     ]
    },
    {
     "data": {
      "text/plain": [
       "[11.584915161132812, 11.584915161132812]"
      ]
     },
     "execution_count": 32,
     "metadata": {},
     "output_type": "execute_result"
    }
   ],
   "source": [
    "# Evaluate the model on the test set\n",
    "model.evaluate(X_test, y_test)"
   ]
  },
  {
   "cell_type": "code",
   "execution_count": 33,
   "metadata": {},
   "outputs": [
    {
     "data": {
      "text/plain": [
       "<tf.Tensor: shape=(10,), dtype=float32, numpy=\n",
       "array([13.003672 , 10.797178 , 10.       , 10.410913 , 12.0299225,\n",
       "       14.876025 , 19.115257 , 24.13549  , 29.155725 , 34.17595  ],\n",
       "      dtype=float32)>"
      ]
     },
     "execution_count": 33,
     "metadata": {},
     "output_type": "execute_result"
    }
   ],
   "source": [
    "# Calculate the mean absolute error\n",
    "mae = tf.metrics.mean_absolute_error(\n",
    "    y_true=y_test,\n",
    "    y_pred=tf.constant(y_pred))\n",
    "mae"
   ]
  },
  {
   "cell_type": "code",
   "execution_count": 34,
   "metadata": {},
   "outputs": [
    {
     "data": {
      "text/plain": [
       "(<tf.Tensor: shape=(10, 1), dtype=float32, numpy=\n",
       " array([[ 76.99388 ],\n",
       "        [ 82.01411 ],\n",
       "        [ 87.03434 ],\n",
       "        [ 92.054565],\n",
       "        [ 97.07481 ],\n",
       "        [102.09503 ],\n",
       "        [107.11526 ],\n",
       "        [112.13549 ],\n",
       "        [117.15572 ],\n",
       "        [122.17595 ]], dtype=float32)>,\n",
       " <tf.Tensor: shape=(10,), dtype=int32, numpy=array([ 70,  74,  78,  82,  86,  90,  94,  98, 102, 106])>)"
      ]
     },
     "execution_count": 34,
     "metadata": {},
     "output_type": "execute_result"
    }
   ],
   "source": [
    "tf.constant(y_pred), y_test"
   ]
  },
  {
   "cell_type": "code",
   "execution_count": 35,
   "metadata": {},
   "outputs": [
    {
     "data": {
      "text/plain": [
       "<tf.Tensor: shape=(10,), dtype=float32, numpy=\n",
       "array([ 76.99388 ,  82.01411 ,  87.03434 ,  92.054565,  97.07481 ,\n",
       "       102.09503 , 107.11526 , 112.13549 , 117.15572 , 122.17595 ],\n",
       "      dtype=float32)>"
      ]
     },
     "execution_count": 35,
     "metadata": {},
     "output_type": "execute_result"
    }
   ],
   "source": [
    "tf.squeeze(y_pred)"
   ]
  },
  {
   "cell_type": "code",
   "execution_count": 36,
   "metadata": {},
   "outputs": [
    {
     "data": {
      "text/plain": [
       "<tf.Tensor: shape=(), dtype=float32, numpy=11.584915>"
      ]
     },
     "execution_count": 36,
     "metadata": {},
     "output_type": "execute_result"
    }
   ],
   "source": [
    "# Calculate the mae\n",
    "mae = tf.metrics.mean_absolute_error(\n",
    "    y_true=y_test,\n",
    "    y_pred=tf.squeeze(y_pred))\n",
    "mae"
   ]
  },
  {
   "cell_type": "code",
   "execution_count": 37,
   "metadata": {},
   "outputs": [
    {
     "data": {
      "text/plain": [
       "<tf.Tensor: shape=(), dtype=float32, numpy=142.79744>"
      ]
     },
     "execution_count": 37,
     "metadata": {},
     "output_type": "execute_result"
    }
   ],
   "source": [
    "# Calculate the mse\n",
    "mse = tf.metrics.mean_squared_error(\n",
    "    y_true=y_test,\n",
    "    y_pred=tf.squeeze(y_pred))\n",
    "mse"
   ]
  },
  {
   "cell_type": "code",
   "execution_count": 38,
   "metadata": {},
   "outputs": [],
   "source": [
    "# Make some functions to reuse MAE and MSE\n",
    "def mae(y_true, y_pred):\n",
    "    return tf.metrics.mean_absolute_error(y_true=y_true, y_pred=tf.squeeze(y_pred))\n",
    "\n",
    "def mse(y_true, y_pred):\n",
    "    return tf.metrics.mean_squared_error(y_true=y_true, y_pred=tf.squeeze(y_pred))"
   ]
  },
  {
   "cell_type": "markdown",
   "metadata": {},
   "source": [
    "### Running experiment to improve our model\n",
    "\n",
    "```\n",
    "Build a model -> fit it -> evluate it -> tweak it -> fit it -> evaluat it -> ...\n",
    "```\n",
    "\n",
    "1. Get more data - get more examples for your model to train on (more opportunities to learn patterns or relationships between features and labels).\n",
    "2. MAke your mordel larger (using a more complex model) - this might come in the form of more layer or more hidden units in each layer.\n",
    "3. Train for longer - give more model more of a chance ti find pattern in the data\n",
    "\n",
    "Let's do 3 modelling experiments:\n",
    "1. `model_1` - same as the original model, 1 layer, trained for 100 epochs.\n",
    "2. `model_2` - 2 layers, trained for 100 epochs\n",
    "3. `model_3` - 2 layers, trained for 500 epochs\n",
    "4. ..."
   ]
  },
  {
   "cell_type": "markdown",
   "metadata": {},
   "source": [
    "**Build `model_1`**"
   ]
  },
  {
   "cell_type": "code",
   "execution_count": 39,
   "metadata": {},
   "outputs": [
    {
     "data": {
      "text/plain": [
       "<keras.callbacks.History at 0x2655befdbb0>"
      ]
     },
     "execution_count": 39,
     "metadata": {},
     "output_type": "execute_result"
    }
   ],
   "source": [
    "# Set random seed\n",
    "tf.random.set_seed(42)\n",
    "\n",
    "# 1. Create the model\n",
    "model_1 = tf.keras.Sequential([\n",
    "    tf.keras.layers.Dense(1)])\n",
    "\n",
    "# 2. Compile the model\n",
    "model_1.compile(\n",
    "    loss=tf.keras.losses.mae,\n",
    "    optimizer=tf.keras.optimizers.SGD(),\n",
    "    metrics=[\"mae\"],)\n",
    "\n",
    "# 3. Fit the model\n",
    "model_1.fit(X_train, y_train, epochs=100, verbose=0)"
   ]
  },
  {
   "cell_type": "code",
   "execution_count": 40,
   "metadata": {},
   "outputs": [
    {
     "name": "stdout",
     "output_type": "stream",
     "text": [
      "WARNING:tensorflow:5 out of the last 5 calls to <function Model.make_predict_function.<locals>.predict_function at 0x000002655BF2D040> triggered tf.function retracing. Tracing is expensive and the excessive number of tracings could be due to (1) creating @tf.function repeatedly in a loop, (2) passing tensors with different shapes, (3) passing Python objects instead of tensors. For (1), please define your @tf.function outside of the loop. For (2), @tf.function has experimental_relax_shapes=True option that relaxes argument shapes that can avoid unnecessary retracing. For (3), please refer to https://www.tensorflow.org/guide/function#controlling_retracing and https://www.tensorflow.org/api_docs/python/tf/function for  more details.\n"
     ]
    },
    {
     "data": {
      "image/png": "[encoded data removed]",
      "image/svg+xml": "<?xml version=\"1.0\" encoding=\"utf-8\" standalone=\"no\"?>\n<!DOCTYPE svg PUBLIC \"-//W3C//DTD SVG 1.1//EN\"\n  \"http://www.w3.org/Graphics/SVG/1.1/DTD/svg11.dtd\">\n<svg xmlns:xlink=\"http://www.w3.org/1999/xlink\" width=\"600.504688pt\" height=\"411.598125pt\" viewBox=\"0 0 600.504688 411.598125\" xmlns=\"http://www.w3.org/2000/svg\" version=\"1.1\">\n <metadata>\n  <rdf:RDF xmlns:dc=\"http://purl.org/dc/elements/1.1/\" xmlns:cc=\"http://creativecommons.org/ns#\" xmlns:rdf=\"http://www.w3.org/1999/02/22-rdf-syntax-ns#\">\n   <cc:Work>\n    <dc:type rdf:resource=\"http://purl.org/dc/dcmitype/StillImage\"/>\n    <dc:date>2022-05-10T09:38:34.083116</dc:date>\n    <dc:format>image/svg+xml</dc:format>\n    <dc:creator>\n     <cc:Agent>\n      <dc:title>Matplotlib v3.5.1, https://matplotlib.org/</dc:title>\n     </cc:Agent>\n    </dc:creator>\n   </cc:Work>\n  </rdf:RDF>\n </metadata>\n <defs>\n  <style type=\"text/css\">*{stroke-linejoin: round; stroke-linecap: butt}</style>\n </defs>\n <g id=\"figure_1\">\n  <g id=\"patch_1\">\n   <path d=\"M 0 411.598125 \nL 600.504688 411.598125 \nL 600.504688 0 \nL 0 0 \nz\n\"/>\n  </g>\n  <g id=\"axes_1\">\n   <g id=\"patch_2\">\n    <path d=\"M 35.304688 387.72 \nL 593.304688 387.72 \nL 593.304688 7.2 \nL 35.304688 7.2 \nz\n\"/>\n   </g>\n   <g id=\"PathCollection_1\">\n    <defs>\n     <path id=\"m6dc931b92e\" d=\"M 0 3 \nC 0.795609 3 1.55874 2.683901 2.12132 2.12132 \nC 2.683901 1.55874 3 0.795609 3 0 \nC 3 -0.795609 2.683901 -1.55874 2.12132 -2.12132 \nC 1.55874 -2.683901 0.795609 -3 0 -3 \nC -0.795609 -3 -1.55874 -2.683901 -2.12132 -2.12132 \nC -2.683901 -1.55874 -3 -0.795609 -3 0 \nC -3 0.795609 -2.683901 1.55874 -2.12132 2.12132 \nC -1.55874 2.683901 -0.795609 3 0 3 \nz\n\" style=\"stroke: #0000ff\"/>\n    </defs>\n    <g clip-path=\"url(#pc309dcc4c2)\">\n     <use xlink:href=\"#m6dc931b92e\" x=\"60.668324\" y=\"370.423636\" style=\"fill: #0000ff; stroke: #0000ff\"/>\n     <use xlink:href=\"#m6dc931b92e\" x=\"71.020829\" y=\"363.363896\" style=\"fill: #0000ff; stroke: #0000ff\"/>\n     <use xlink:href=\"#m6dc931b92e\" x=\"81.373333\" y=\"356.304156\" style=\"fill: #0000ff; stroke: #0000ff\"/>\n     <use xlink:href=\"#m6dc931b92e\" x=\"91.725838\" y=\"349.244416\" style=\"fill: #0000ff; stroke: #0000ff\"/>\n     <use xlink:href=\"#m6dc931b92e\" x=\"102.078342\" y=\"342.184675\" style=\"fill: #0000ff; stroke: #0000ff\"/>\n     <use xlink:href=\"#m6dc931b92e\" x=\"112.430847\" y=\"335.124935\" style=\"fill: #0000ff; stroke: #0000ff\"/>\n     <use xlink:href=\"#m6dc931b92e\" x=\"122.783352\" y=\"328.065195\" style=\"fill: #0000ff; stroke: #0000ff\"/>\n     <use xlink:href=\"#m6dc931b92e\" x=\"133.135856\" y=\"321.005455\" style=\"fill: #0000ff; stroke: #0000ff\"/>\n     <use xlink:href=\"#m6dc931b92e\" x=\"143.488361\" y=\"313.945714\" style=\"fill: #0000ff; stroke: #0000ff\"/>\n     <use xlink:href=\"#m6dc931b92e\" x=\"153.840866\" y=\"306.885974\" style=\"fill: #0000ff; stroke: #0000ff\"/>\n     <use xlink:href=\"#m6dc931b92e\" x=\"164.19337\" y=\"299.826234\" style=\"fill: #0000ff; stroke: #0000ff\"/>\n     <use xlink:href=\"#m6dc931b92e\" x=\"174.545875\" y=\"292.766494\" style=\"fill: #0000ff; stroke: #0000ff\"/>\n     <use xlink:href=\"#m6dc931b92e\" x=\"184.89838\" y=\"285.706753\" style=\"fill: #0000ff; stroke: #0000ff\"/>\n     <use xlink:href=\"#m6dc931b92e\" x=\"195.250884\" y=\"278.647013\" style=\"fill: #0000ff; stroke: #0000ff\"/>\n     <use xlink:href=\"#m6dc931b92e\" x=\"205.603389\" y=\"271.587273\" style=\"fill: #0000ff; stroke: #0000ff\"/>\n     <use xlink:href=\"#m6dc931b92e\" x=\"215.955893\" y=\"264.527532\" style=\"fill: #0000ff; stroke: #0000ff\"/>\n     <use xlink:href=\"#m6dc931b92e\" x=\"226.308398\" y=\"257.467792\" style=\"fill: #0000ff; stroke: #0000ff\"/>\n     <use xlink:href=\"#m6dc931b92e\" x=\"236.660903\" y=\"250.408052\" style=\"fill: #0000ff; stroke: #0000ff\"/>\n     <use xlink:href=\"#m6dc931b92e\" x=\"247.013407\" y=\"243.348312\" style=\"fill: #0000ff; stroke: #0000ff\"/>\n     <use xlink:href=\"#m6dc931b92e\" x=\"257.365912\" y=\"236.288571\" style=\"fill: #0000ff; stroke: #0000ff\"/>\n     <use xlink:href=\"#m6dc931b92e\" x=\"267.718417\" y=\"229.228831\" style=\"fill: #0000ff; stroke: #0000ff\"/>\n     <use xlink:href=\"#m6dc931b92e\" x=\"278.070921\" y=\"222.169091\" style=\"fill: #0000ff; stroke: #0000ff\"/>\n     <use xlink:href=\"#m6dc931b92e\" x=\"288.423426\" y=\"215.109351\" style=\"fill: #0000ff; stroke: #0000ff\"/>\n     <use xlink:href=\"#m6dc931b92e\" x=\"298.775931\" y=\"208.04961\" style=\"fill: #0000ff; stroke: #0000ff\"/>\n     <use xlink:href=\"#m6dc931b92e\" x=\"309.128435\" y=\"200.98987\" style=\"fill: #0000ff; stroke: #0000ff\"/>\n     <use xlink:href=\"#m6dc931b92e\" x=\"319.48094\" y=\"193.93013\" style=\"fill: #0000ff; stroke: #0000ff\"/>\n     <use xlink:href=\"#m6dc931b92e\" x=\"329.833444\" y=\"186.87039\" style=\"fill: #0000ff; stroke: #0000ff\"/>\n     <use xlink:href=\"#m6dc931b92e\" x=\"340.185949\" y=\"179.810649\" style=\"fill: #0000ff; stroke: #0000ff\"/>\n     <use xlink:href=\"#m6dc931b92e\" x=\"350.538454\" y=\"172.750909\" style=\"fill: #0000ff; stroke: #0000ff\"/>\n     <use xlink:href=\"#m6dc931b92e\" x=\"360.890958\" y=\"165.691169\" style=\"fill: #0000ff; stroke: #0000ff\"/>\n     <use xlink:href=\"#m6dc931b92e\" x=\"371.243463\" y=\"158.631429\" style=\"fill: #0000ff; stroke: #0000ff\"/>\n     <use xlink:href=\"#m6dc931b92e\" x=\"381.595968\" y=\"151.571688\" style=\"fill: #0000ff; stroke: #0000ff\"/>\n     <use xlink:href=\"#m6dc931b92e\" x=\"391.948472\" y=\"144.511948\" style=\"fill: #0000ff; stroke: #0000ff\"/>\n     <use xlink:href=\"#m6dc931b92e\" x=\"402.300977\" y=\"137.452208\" style=\"fill: #0000ff; stroke: #0000ff\"/>\n     <use xlink:href=\"#m6dc931b92e\" x=\"412.653482\" y=\"130.392468\" style=\"fill: #0000ff; stroke: #0000ff\"/>\n     <use xlink:href=\"#m6dc931b92e\" x=\"423.005986\" y=\"123.332727\" style=\"fill: #0000ff; stroke: #0000ff\"/>\n     <use xlink:href=\"#m6dc931b92e\" x=\"433.358491\" y=\"116.272987\" style=\"fill: #0000ff; stroke: #0000ff\"/>\n     <use xlink:href=\"#m6dc931b92e\" x=\"443.710995\" y=\"109.213247\" style=\"fill: #0000ff; stroke: #0000ff\"/>\n     <use xlink:href=\"#m6dc931b92e\" x=\"454.0635\" y=\"102.153506\" style=\"fill: #0000ff; stroke: #0000ff\"/>\n     <use xlink:href=\"#m6dc931b92e\" x=\"464.416005\" y=\"95.093766\" style=\"fill: #0000ff; stroke: #0000ff\"/>\n    </g>\n   </g>\n   <g id=\"PathCollection_2\">\n    <defs>\n     <path id=\"m12a85ee687\" d=\"M 0 3 \nC 0.795609 3 1.55874 2.683901 2.12132 2.12132 \nC 2.683901 1.55874 3 0.795609 3 0 \nC 3 -0.795609 2.683901 -1.55874 2.12132 -2.12132 \nC 1.55874 -2.683901 0.795609 -3 0 -3 \nC -0.795609 -3 -1.55874 -2.683901 -2.12132 -2.12132 \nC -2.683901 -1.55874 -3 -0.795609 -3 0 \nC -3 0.795609 -2.683901 1.55874 -2.12132 2.12132 \nC -1.55874 2.683901 -0.795609 3 0 3 \nz\n\" style=\"stroke: #008000\"/>\n    </defs>\n    <g clip-path=\"url(#pc309dcc4c2)\">\n     <use xlink:href=\"#m12a85ee687\" x=\"474.768509\" y=\"88.034026\" style=\"fill: #008000; stroke: #008000\"/>\n     <use xlink:href=\"#m12a85ee687\" x=\"485.121014\" y=\"80.974286\" style=\"fill: #008000; stroke: #008000\"/>\n     <use xlink:href=\"#m12a85ee687\" x=\"495.473519\" y=\"73.914545\" style=\"fill: #008000; stroke: #008000\"/>\n     <use xlink:href=\"#m12a85ee687\" x=\"505.826023\" y=\"66.854805\" style=\"fill: #008000; stroke: #008000\"/>\n     <use xlink:href=\"#m12a85ee687\" x=\"516.178528\" y=\"59.795065\" style=\"fill: #008000; stroke: #008000\"/>\n     <use xlink:href=\"#m12a85ee687\" x=\"526.531033\" y=\"52.735325\" style=\"fill: #008000; stroke: #008000\"/>\n     <use xlink:href=\"#m12a85ee687\" x=\"536.883537\" y=\"45.675584\" style=\"fill: #008000; stroke: #008000\"/>\n     <use xlink:href=\"#m12a85ee687\" x=\"547.236042\" y=\"38.615844\" style=\"fill: #008000; stroke: #008000\"/>\n     <use xlink:href=\"#m12a85ee687\" x=\"557.588546\" y=\"31.556104\" style=\"fill: #008000; stroke: #008000\"/>\n     <use xlink:href=\"#m12a85ee687\" x=\"567.941051\" y=\"24.496364\" style=\"fill: #008000; stroke: #008000\"/>\n    </g>\n   </g>\n   <g id=\"PathCollection_3\">\n    <defs>\n     <path id=\"m1d5355ee82\" d=\"M 0 3 \nC 0.795609 3 1.55874 2.683901 2.12132 2.12132 \nC 2.683901 1.55874 3 0.795609 3 0 \nC 3 -0.795609 2.683901 -1.55874 2.12132 -2.12132 \nC 1.55874 -2.683901 0.795609 -3 0 -3 \nC -0.795609 -3 -1.55874 -2.683901 -2.12132 -2.12132 \nC -2.683901 -1.55874 -3 -0.795609 -3 0 \nC -3 0.795609 -2.683901 1.55874 -2.12132 2.12132 \nC -1.55874 2.683901 -0.795609 3 0 3 \nz\n\" style=\"stroke: #ff0000\"/>\n    </defs>\n    <g clip-path=\"url(#pc309dcc4c2)\">\n     <use xlink:href=\"#m1d5355ee82\" x=\"474.768509\" y=\"117.029984\" style=\"fill: #ff0000; stroke: #ff0000\"/>\n     <use xlink:href=\"#m1d5355ee82\" x=\"485.121014\" y=\"110.87876\" style=\"fill: #ff0000; stroke: #ff0000\"/>\n     <use xlink:href=\"#m1d5355ee82\" x=\"495.473519\" y=\"104.727536\" style=\"fill: #ff0000; stroke: #ff0000\"/>\n     <use xlink:href=\"#m1d5355ee82\" x=\"505.826023\" y=\"98.576319\" style=\"fill: #ff0000; stroke: #ff0000\"/>\n     <use xlink:href=\"#m1d5355ee82\" x=\"516.178528\" y=\"92.425088\" style=\"fill: #ff0000; stroke: #ff0000\"/>\n     <use xlink:href=\"#m1d5355ee82\" x=\"526.531033\" y=\"86.273871\" style=\"fill: #ff0000; stroke: #ff0000\"/>\n     <use xlink:href=\"#m1d5355ee82\" x=\"536.883537\" y=\"80.12264\" style=\"fill: #ff0000; stroke: #ff0000\"/>\n     <use xlink:href=\"#m1d5355ee82\" x=\"547.236042\" y=\"73.971423\" style=\"fill: #ff0000; stroke: #ff0000\"/>\n     <use xlink:href=\"#m1d5355ee82\" x=\"557.588546\" y=\"67.820206\" style=\"fill: #ff0000; stroke: #ff0000\"/>\n     <use xlink:href=\"#m1d5355ee82\" x=\"567.941051\" y=\"61.668975\" style=\"fill: #ff0000; stroke: #ff0000\"/>\n    </g>\n   </g>\n   <g id=\"matplotlib.axis_1\">\n    <g id=\"xtick_1\">\n     <g id=\"line2d_1\">\n      <defs>\n       <path id=\"m037c80d55d\" d=\"M 0 0 \nL 0 3.5 \n\" style=\"stroke: #ffffff; stroke-width: 0.8\"/>\n      </defs>\n      <g>\n       <use xlink:href=\"#m037c80d55d\" x=\"60.668324\" y=\"387.72\" style=\"fill: #ffffff; stroke: #ffffff; stroke-width: 0.8\"/>\n      </g>\n     </g>\n     <g id=\"text_1\">\n      <!-- −100 -->\n      <g style=\"fill: #ffffff\" transform=\"translate(46.93473 402.318437)scale(0.1 -0.1)\">\n       <defs>\n        <path id=\"DejaVuSans-2212\" d=\"M 678 2272 \nL 4684 2272 \nL 4684 1741 \nL 678 1741 \nL 678 2272 \nz\n\" transform=\"scale(0.015625)\"/>\n        <path id=\"DejaVuSans-31\" d=\"M 794 531 \nL 1825 531 \nL 1825 4091 \nL 703 3866 \nL 703 4441 \nL 1819 4666 \nL 2450 4666 \nL 2450 531 \nL 3481 531 \nL 3481 0 \nL 794 0 \nL 794 531 \nz\n\" transform=\"scale(0.015625)\"/>\n        <path id=\"DejaVuSans-30\" d=\"M 2034 4250 \nQ 1547 4250 1301 3770 \nQ 1056 3291 1056 2328 \nQ 1056 1369 1301 889 \nQ 1547 409 2034 409 \nQ 2525 409 2770 889 \nQ 3016 1369 3016 2328 \nQ 3016 3291 2770 3770 \nQ 2525 4250 2034 4250 \nz\nM 2034 4750 \nQ 2819 4750 3233 4129 \nQ 3647 3509 3647 2328 \nQ 3647 1150 3233 529 \nQ 2819 -91 2034 -91 \nQ 1250 -91 836 529 \nQ 422 1150 422 2328 \nQ 422 3509 836 4129 \nQ 1250 4750 2034 4750 \nz\n\" transform=\"scale(0.015625)\"/>\n       </defs>\n       <use xlink:href=\"#DejaVuSans-2212\"/>\n       <use xlink:href=\"#DejaVuSans-31\" x=\"83.789062\"/>\n       <use xlink:href=\"#DejaVuSans-30\" x=\"147.412109\"/>\n       <use xlink:href=\"#DejaVuSans-30\" x=\"211.035156\"/>\n      </g>\n     </g>\n    </g>\n    <g id=\"xtick_2\">\n     <g id=\"line2d_2\">\n      <g>\n       <use xlink:href=\"#m037c80d55d\" x=\"125.371478\" y=\"387.72\" style=\"fill: #ffffff; stroke: #ffffff; stroke-width: 0.8\"/>\n      </g>\n     </g>\n     <g id=\"text_2\">\n      <!-- −75 -->\n      <g style=\"fill: #ffffff\" transform=\"translate(114.819134 402.318437)scale(0.1 -0.1)\">\n       <defs>\n        <path id=\"DejaVuSans-37\" d=\"M 525 4666 \nL 3525 4666 \nL 3525 4397 \nL 1831 0 \nL 1172 0 \nL 2766 4134 \nL 525 4134 \nL 525 4666 \nz\n\" transform=\"scale(0.015625)\"/>\n        <path id=\"DejaVuSans-35\" d=\"M 691 4666 \nL 3169 4666 \nL 3169 4134 \nL 1269 4134 \nL 1269 2991 \nQ 1406 3038 1543 3061 \nQ 1681 3084 1819 3084 \nQ 2600 3084 3056 2656 \nQ 3513 2228 3513 1497 \nQ 3513 744 3044 326 \nQ 2575 -91 1722 -91 \nQ 1428 -91 1123 -41 \nQ 819 9 494 109 \nL 494 744 \nQ 775 591 1075 516 \nQ 1375 441 1709 441 \nQ 2250 441 2565 725 \nQ 2881 1009 2881 1497 \nQ 2881 1984 2565 2268 \nQ 2250 2553 1709 2553 \nQ 1456 2553 1204 2497 \nQ 953 2441 691 2322 \nL 691 4666 \nz\n\" transform=\"scale(0.015625)\"/>\n       </defs>\n       <use xlink:href=\"#DejaVuSans-2212\"/>\n       <use xlink:href=\"#DejaVuSans-37\" x=\"83.789062\"/>\n       <use xlink:href=\"#DejaVuSans-35\" x=\"147.412109\"/>\n      </g>\n     </g>\n    </g>\n    <g id=\"xtick_3\">\n     <g id=\"line2d_3\">\n      <g>\n       <use xlink:href=\"#m037c80d55d\" x=\"190.074632\" y=\"387.72\" style=\"fill: #ffffff; stroke: #ffffff; stroke-width: 0.8\"/>\n      </g>\n     </g>\n     <g id=\"text_3\">\n      <!-- −50 -->\n      <g style=\"fill: #ffffff\" transform=\"translate(179.522288 402.318437)scale(0.1 -0.1)\">\n       <use xlink:href=\"#DejaVuSans-2212\"/>\n       <use xlink:href=\"#DejaVuSans-35\" x=\"83.789062\"/>\n       <use xlink:href=\"#DejaVuSans-30\" x=\"147.412109\"/>\n      </g>\n     </g>\n    </g>\n    <g id=\"xtick_4\">\n     <g id=\"line2d_4\">\n      <g>\n       <use xlink:href=\"#m037c80d55d\" x=\"254.777786\" y=\"387.72\" style=\"fill: #ffffff; stroke: #ffffff; stroke-width: 0.8\"/>\n      </g>\n     </g>\n     <g id=\"text_4\">\n      <!-- −25 -->\n      <g style=\"fill: #ffffff\" transform=\"translate(244.225442 402.318437)scale(0.1 -0.1)\">\n       <defs>\n        <path id=\"DejaVuSans-32\" d=\"M 1228 531 \nL 3431 531 \nL 3431 0 \nL 469 0 \nL 469 531 \nQ 828 903 1448 1529 \nQ 2069 2156 2228 2338 \nQ 2531 2678 2651 2914 \nQ 2772 3150 2772 3378 \nQ 2772 3750 2511 3984 \nQ 2250 4219 1831 4219 \nQ 1534 4219 1204 4116 \nQ 875 4013 500 3803 \nL 500 4441 \nQ 881 4594 1212 4672 \nQ 1544 4750 1819 4750 \nQ 2544 4750 2975 4387 \nQ 3406 4025 3406 3419 \nQ 3406 3131 3298 2873 \nQ 3191 2616 2906 2266 \nQ 2828 2175 2409 1742 \nQ 1991 1309 1228 531 \nz\n\" transform=\"scale(0.015625)\"/>\n       </defs>\n       <use xlink:href=\"#DejaVuSans-2212\"/>\n       <use xlink:href=\"#DejaVuSans-32\" x=\"83.789062\"/>\n       <use xlink:href=\"#DejaVuSans-35\" x=\"147.412109\"/>\n      </g>\n     </g>\n    </g>\n    <g id=\"xtick_5\">\n     <g id=\"line2d_5\">\n      <g>\n       <use xlink:href=\"#m037c80d55d\" x=\"319.48094\" y=\"387.72\" style=\"fill: #ffffff; stroke: #ffffff; stroke-width: 0.8\"/>\n      </g>\n     </g>\n     <g id=\"text_5\">\n      <!-- 0 -->\n      <g style=\"fill: #ffffff\" transform=\"translate(316.29969 402.318437)scale(0.1 -0.1)\">\n       <use xlink:href=\"#DejaVuSans-30\"/>\n      </g>\n     </g>\n    </g>\n    <g id=\"xtick_6\">\n     <g id=\"line2d_6\">\n      <g>\n       <use xlink:href=\"#m037c80d55d\" x=\"384.184094\" y=\"387.72\" style=\"fill: #ffffff; stroke: #ffffff; stroke-width: 0.8\"/>\n      </g>\n     </g>\n     <g id=\"text_6\">\n      <!-- 25 -->\n      <g style=\"fill: #ffffff\" transform=\"translate(377.821594 402.318437)scale(0.1 -0.1)\">\n       <use xlink:href=\"#DejaVuSans-32\"/>\n       <use xlink:href=\"#DejaVuSans-35\" x=\"63.623047\"/>\n      </g>\n     </g>\n    </g>\n    <g id=\"xtick_7\">\n     <g id=\"line2d_7\">\n      <g>\n       <use xlink:href=\"#m037c80d55d\" x=\"448.887248\" y=\"387.72\" style=\"fill: #ffffff; stroke: #ffffff; stroke-width: 0.8\"/>\n      </g>\n     </g>\n     <g id=\"text_7\">\n      <!-- 50 -->\n      <g style=\"fill: #ffffff\" transform=\"translate(442.524748 402.318437)scale(0.1 -0.1)\">\n       <use xlink:href=\"#DejaVuSans-35\"/>\n       <use xlink:href=\"#DejaVuSans-30\" x=\"63.623047\"/>\n      </g>\n     </g>\n    </g>\n    <g id=\"xtick_8\">\n     <g id=\"line2d_8\">\n      <g>\n       <use xlink:href=\"#m037c80d55d\" x=\"513.590402\" y=\"387.72\" style=\"fill: #ffffff; stroke: #ffffff; stroke-width: 0.8\"/>\n      </g>\n     </g>\n     <g id=\"text_8\">\n      <!-- 75 -->\n      <g style=\"fill: #ffffff\" transform=\"translate(507.227902 402.318437)scale(0.1 -0.1)\">\n       <use xlink:href=\"#DejaVuSans-37\"/>\n       <use xlink:href=\"#DejaVuSans-35\" x=\"63.623047\"/>\n      </g>\n     </g>\n    </g>\n    <g id=\"xtick_9\">\n     <g id=\"line2d_9\">\n      <g>\n       <use xlink:href=\"#m037c80d55d\" x=\"578.293556\" y=\"387.72\" style=\"fill: #ffffff; stroke: #ffffff; stroke-width: 0.8\"/>\n      </g>\n     </g>\n     <g id=\"text_9\">\n      <!-- 100 -->\n      <g style=\"fill: #ffffff\" transform=\"translate(568.749806 402.318437)scale(0.1 -0.1)\">\n       <use xlink:href=\"#DejaVuSans-31\"/>\n       <use xlink:href=\"#DejaVuSans-30\" x=\"63.623047\"/>\n       <use xlink:href=\"#DejaVuSans-30\" x=\"127.246094\"/>\n      </g>\n     </g>\n    </g>\n   </g>\n   <g id=\"matplotlib.axis_2\">\n    <g id=\"ytick_1\">\n     <g id=\"line2d_10\">\n      <defs>\n       <path id=\"m1f46b18abe\" d=\"M 0 0 \nL -3.5 0 \n\" style=\"stroke: #ffffff; stroke-width: 0.8\"/>\n      </defs>\n      <g>\n       <use xlink:href=\"#m1f46b18abe\" x=\"35.304688\" y=\"343.94961\" style=\"fill: #ffffff; stroke: #ffffff; stroke-width: 0.8\"/>\n      </g>\n     </g>\n     <g id=\"text_10\">\n      <!-- −75 -->\n      <g style=\"fill: #ffffff\" transform=\"translate(7.2 347.748829)scale(0.1 -0.1)\">\n       <use xlink:href=\"#DejaVuSans-2212\"/>\n       <use xlink:href=\"#DejaVuSans-37\" x=\"83.789062\"/>\n       <use xlink:href=\"#DejaVuSans-35\" x=\"147.412109\"/>\n      </g>\n     </g>\n    </g>\n    <g id=\"ytick_2\">\n     <g id=\"line2d_11\">\n      <g>\n       <use xlink:href=\"#m1f46b18abe\" x=\"35.304688\" y=\"299.826234\" style=\"fill: #ffffff; stroke: #ffffff; stroke-width: 0.8\"/>\n      </g>\n     </g>\n     <g id=\"text_11\">\n      <!-- −50 -->\n      <g style=\"fill: #ffffff\" transform=\"translate(7.2 303.625453)scale(0.1 -0.1)\">\n       <use xlink:href=\"#DejaVuSans-2212\"/>\n       <use xlink:href=\"#DejaVuSans-35\" x=\"83.789062\"/>\n       <use xlink:href=\"#DejaVuSans-30\" x=\"147.412109\"/>\n      </g>\n     </g>\n    </g>\n    <g id=\"ytick_3\">\n     <g id=\"line2d_12\">\n      <g>\n       <use xlink:href=\"#m1f46b18abe\" x=\"35.304688\" y=\"255.702857\" style=\"fill: #ffffff; stroke: #ffffff; stroke-width: 0.8\"/>\n      </g>\n     </g>\n     <g id=\"text_12\">\n      <!-- −25 -->\n      <g style=\"fill: #ffffff\" transform=\"translate(7.2 259.502076)scale(0.1 -0.1)\">\n       <use xlink:href=\"#DejaVuSans-2212\"/>\n       <use xlink:href=\"#DejaVuSans-32\" x=\"83.789062\"/>\n       <use xlink:href=\"#DejaVuSans-35\" x=\"147.412109\"/>\n      </g>\n     </g>\n    </g>\n    <g id=\"ytick_4\">\n     <g id=\"line2d_13\">\n      <g>\n       <use xlink:href=\"#m1f46b18abe\" x=\"35.304688\" y=\"211.579481\" style=\"fill: #ffffff; stroke: #ffffff; stroke-width: 0.8\"/>\n      </g>\n     </g>\n     <g id=\"text_13\">\n      <!-- 0 -->\n      <g style=\"fill: #ffffff\" transform=\"translate(21.942187 215.378699)scale(0.1 -0.1)\">\n       <use xlink:href=\"#DejaVuSans-30\"/>\n      </g>\n     </g>\n    </g>\n    <g id=\"ytick_5\">\n     <g id=\"line2d_14\">\n      <g>\n       <use xlink:href=\"#m1f46b18abe\" x=\"35.304688\" y=\"167.456104\" style=\"fill: #ffffff; stroke: #ffffff; stroke-width: 0.8\"/>\n      </g>\n     </g>\n     <g id=\"text_14\">\n      <!-- 25 -->\n      <g style=\"fill: #ffffff\" transform=\"translate(15.579687 171.255323)scale(0.1 -0.1)\">\n       <use xlink:href=\"#DejaVuSans-32\"/>\n       <use xlink:href=\"#DejaVuSans-35\" x=\"63.623047\"/>\n      </g>\n     </g>\n    </g>\n    <g id=\"ytick_6\">\n     <g id=\"line2d_15\">\n      <g>\n       <use xlink:href=\"#m1f46b18abe\" x=\"35.304688\" y=\"123.332727\" style=\"fill: #ffffff; stroke: #ffffff; stroke-width: 0.8\"/>\n      </g>\n     </g>\n     <g id=\"text_15\">\n      <!-- 50 -->\n      <g style=\"fill: #ffffff\" transform=\"translate(15.579687 127.131946)scale(0.1 -0.1)\">\n       <use xlink:href=\"#DejaVuSans-35\"/>\n       <use xlink:href=\"#DejaVuSans-30\" x=\"63.623047\"/>\n      </g>\n     </g>\n    </g>\n    <g id=\"ytick_7\">\n     <g id=\"line2d_16\">\n      <g>\n       <use xlink:href=\"#m1f46b18abe\" x=\"35.304688\" y=\"79.209351\" style=\"fill: #ffffff; stroke: #ffffff; stroke-width: 0.8\"/>\n      </g>\n     </g>\n     <g id=\"text_16\">\n      <!-- 75 -->\n      <g style=\"fill: #ffffff\" transform=\"translate(15.579687 83.008569)scale(0.1 -0.1)\">\n       <use xlink:href=\"#DejaVuSans-37\"/>\n       <use xlink:href=\"#DejaVuSans-35\" x=\"63.623047\"/>\n      </g>\n     </g>\n    </g>\n    <g id=\"ytick_8\">\n     <g id=\"line2d_17\">\n      <g>\n       <use xlink:href=\"#m1f46b18abe\" x=\"35.304688\" y=\"35.085974\" style=\"fill: #ffffff; stroke: #ffffff; stroke-width: 0.8\"/>\n      </g>\n     </g>\n     <g id=\"text_17\">\n      <!-- 100 -->\n      <g style=\"fill: #ffffff\" transform=\"translate(9.217187 38.885193)scale(0.1 -0.1)\">\n       <use xlink:href=\"#DejaVuSans-31\"/>\n       <use xlink:href=\"#DejaVuSans-30\" x=\"63.623047\"/>\n       <use xlink:href=\"#DejaVuSans-30\" x=\"127.246094\"/>\n      </g>\n     </g>\n    </g>\n   </g>\n   <g id=\"patch_3\">\n    <path d=\"M 35.304688 387.72 \nL 35.304688 7.2 \n\" style=\"fill: none; stroke: #ffffff; stroke-width: 0.8; stroke-linejoin: miter; stroke-linecap: square\"/>\n   </g>\n   <g id=\"patch_4\">\n    <path d=\"M 593.304688 387.72 \nL 593.304688 7.2 \n\" style=\"fill: none; stroke: #ffffff; stroke-width: 0.8; stroke-linejoin: miter; stroke-linecap: square\"/>\n   </g>\n   <g id=\"patch_5\">\n    <path d=\"M 35.304688 387.72 \nL 593.304688 387.72 \n\" style=\"fill: none; stroke: #ffffff; stroke-width: 0.8; stroke-linejoin: miter; stroke-linecap: square\"/>\n   </g>\n   <g id=\"patch_6\">\n    <path d=\"M 35.304688 7.2 \nL 593.304688 7.2 \n\" style=\"fill: none; stroke: #ffffff; stroke-width: 0.8; stroke-linejoin: miter; stroke-linecap: square\"/>\n   </g>\n   <g id=\"legend_1\">\n    <g id=\"patch_7\">\n     <path d=\"M 42.304688 59.234375 \nL 139.459375 59.234375 \nQ 141.459375 59.234375 141.459375 57.234375 \nL 141.459375 14.2 \nQ 141.459375 12.2 139.459375 12.2 \nL 42.304688 12.2 \nQ 40.304688 12.2 40.304688 14.2 \nL 40.304688 57.234375 \nQ 40.304688 59.234375 42.304688 59.234375 \nz\n\" style=\"opacity: 0.8; stroke: #cccccc; stroke-linejoin: miter\"/>\n    </g>\n    <g id=\"PathCollection_4\">\n     <g>\n      <use xlink:href=\"#m6dc931b92e\" x=\"54.304688\" y=\"21.173437\" style=\"fill: #0000ff; stroke: #0000ff\"/>\n     </g>\n    </g>\n    <g id=\"text_18\">\n     <!-- Training data -->\n     <g style=\"fill: #ffffff\" transform=\"translate(72.304688 23.798437)scale(0.1 -0.1)\">\n      <defs>\n       <path id=\"DejaVuSans-54\" d=\"M -19 4666 \nL 3928 4666 \nL 3928 4134 \nL 2272 4134 \nL 2272 0 \nL 1638 0 \nL 1638 4134 \nL -19 4134 \nL -19 4666 \nz\n\" transform=\"scale(0.015625)\"/>\n       <path id=\"DejaVuSans-72\" d=\"M 2631 2963 \nQ 2534 3019 2420 3045 \nQ 2306 3072 2169 3072 \nQ 1681 3072 1420 2755 \nQ 1159 2438 1159 1844 \nL 1159 0 \nL 581 0 \nL 581 3500 \nL 1159 3500 \nL 1159 2956 \nQ 1341 3275 1631 3429 \nQ 1922 3584 2338 3584 \nQ 2397 3584 2469 3576 \nQ 2541 3569 2628 3553 \nL 2631 2963 \nz\n\" transform=\"scale(0.015625)\"/>\n       <path id=\"DejaVuSans-61\" d=\"M 2194 1759 \nQ 1497 1759 1228 1600 \nQ 959 1441 959 1056 \nQ 959 750 1161 570 \nQ 1363 391 1709 391 \nQ 2188 391 2477 730 \nQ 2766 1069 2766 1631 \nL 2766 1759 \nL 2194 1759 \nz\nM 3341 1997 \nL 3341 0 \nL 2766 0 \nL 2766 531 \nQ 2569 213 2275 61 \nQ 1981 -91 1556 -91 \nQ 1019 -91 701 211 \nQ 384 513 384 1019 \nQ 384 1609 779 1909 \nQ 1175 2209 1959 2209 \nL 2766 2209 \nL 2766 2266 \nQ 2766 2663 2505 2880 \nQ 2244 3097 1772 3097 \nQ 1472 3097 1187 3025 \nQ 903 2953 641 2809 \nL 641 3341 \nQ 956 3463 1253 3523 \nQ 1550 3584 1831 3584 \nQ 2591 3584 2966 3190 \nQ 3341 2797 3341 1997 \nz\n\" transform=\"scale(0.015625)\"/>\n       <path id=\"DejaVuSans-69\" d=\"M 603 3500 \nL 1178 3500 \nL 1178 0 \nL 603 0 \nL 603 3500 \nz\nM 603 4863 \nL 1178 4863 \nL 1178 4134 \nL 603 4134 \nL 603 4863 \nz\n\" transform=\"scale(0.015625)\"/>\n       <path id=\"DejaVuSans-6e\" d=\"M 3513 2113 \nL 3513 0 \nL 2938 0 \nL 2938 2094 \nQ 2938 2591 2744 2837 \nQ 2550 3084 2163 3084 \nQ 1697 3084 1428 2787 \nQ 1159 2491 1159 1978 \nL 1159 0 \nL 581 0 \nL 581 3500 \nL 1159 3500 \nL 1159 2956 \nQ 1366 3272 1645 3428 \nQ 1925 3584 2291 3584 \nQ 2894 3584 3203 3211 \nQ 3513 2838 3513 2113 \nz\n\" transform=\"scale(0.015625)\"/>\n       <path id=\"DejaVuSans-67\" d=\"M 2906 1791 \nQ 2906 2416 2648 2759 \nQ 2391 3103 1925 3103 \nQ 1463 3103 1205 2759 \nQ 947 2416 947 1791 \nQ 947 1169 1205 825 \nQ 1463 481 1925 481 \nQ 2391 481 2648 825 \nQ 2906 1169 2906 1791 \nz\nM 3481 434 \nQ 3481 -459 3084 -895 \nQ 2688 -1331 1869 -1331 \nQ 1566 -1331 1297 -1286 \nQ 1028 -1241 775 -1147 \nL 775 -588 \nQ 1028 -725 1275 -790 \nQ 1522 -856 1778 -856 \nQ 2344 -856 2625 -561 \nQ 2906 -266 2906 331 \nL 2906 616 \nQ 2728 306 2450 153 \nQ 2172 0 1784 0 \nQ 1141 0 747 490 \nQ 353 981 353 1791 \nQ 353 2603 747 3093 \nQ 1141 3584 1784 3584 \nQ 2172 3584 2450 3431 \nQ 2728 3278 2906 2969 \nL 2906 3500 \nL 3481 3500 \nL 3481 434 \nz\n\" transform=\"scale(0.015625)\"/>\n       <path id=\"DejaVuSans-20\" transform=\"scale(0.015625)\"/>\n       <path id=\"DejaVuSans-64\" d=\"M 2906 2969 \nL 2906 4863 \nL 3481 4863 \nL 3481 0 \nL 2906 0 \nL 2906 525 \nQ 2725 213 2448 61 \nQ 2172 -91 1784 -91 \nQ 1150 -91 751 415 \nQ 353 922 353 1747 \nQ 353 2572 751 3078 \nQ 1150 3584 1784 3584 \nQ 2172 3584 2448 3432 \nQ 2725 3281 2906 2969 \nz\nM 947 1747 \nQ 947 1113 1208 752 \nQ 1469 391 1925 391 \nQ 2381 391 2643 752 \nQ 2906 1113 2906 1747 \nQ 2906 2381 2643 2742 \nQ 2381 3103 1925 3103 \nQ 1469 3103 1208 2742 \nQ 947 2381 947 1747 \nz\n\" transform=\"scale(0.015625)\"/>\n       <path id=\"DejaVuSans-74\" d=\"M 1172 4494 \nL 1172 3500 \nL 2356 3500 \nL 2356 3053 \nL 1172 3053 \nL 1172 1153 \nQ 1172 725 1289 603 \nQ 1406 481 1766 481 \nL 2356 481 \nL 2356 0 \nL 1766 0 \nQ 1100 0 847 248 \nQ 594 497 594 1153 \nL 594 3053 \nL 172 3053 \nL 172 3500 \nL 594 3500 \nL 594 4494 \nL 1172 4494 \nz\n\" transform=\"scale(0.015625)\"/>\n      </defs>\n      <use xlink:href=\"#DejaVuSans-54\"/>\n      <use xlink:href=\"#DejaVuSans-72\" x=\"46.333984\"/>\n      <use xlink:href=\"#DejaVuSans-61\" x=\"87.447266\"/>\n      <use xlink:href=\"#DejaVuSans-69\" x=\"148.726562\"/>\n      <use xlink:href=\"#DejaVuSans-6e\" x=\"176.509766\"/>\n      <use xlink:href=\"#DejaVuSans-69\" x=\"239.888672\"/>\n      <use xlink:href=\"#DejaVuSans-6e\" x=\"267.671875\"/>\n      <use xlink:href=\"#DejaVuSans-67\" x=\"331.050781\"/>\n      <use xlink:href=\"#DejaVuSans-20\" x=\"394.527344\"/>\n      <use xlink:href=\"#DejaVuSans-64\" x=\"426.314453\"/>\n      <use xlink:href=\"#DejaVuSans-61\" x=\"489.791016\"/>\n      <use xlink:href=\"#DejaVuSans-74\" x=\"551.070312\"/>\n      <use xlink:href=\"#DejaVuSans-61\" x=\"590.279297\"/>\n     </g>\n    </g>\n    <g id=\"PathCollection_5\">\n     <g>\n      <use xlink:href=\"#m12a85ee687\" x=\"54.304688\" y=\"35.851562\" style=\"fill: #008000; stroke: #008000\"/>\n     </g>\n    </g>\n    <g id=\"text_19\">\n     <!-- Test data -->\n     <g style=\"fill: #ffffff\" transform=\"translate(72.304688 38.476562)scale(0.1 -0.1)\">\n      <defs>\n       <path id=\"DejaVuSans-65\" d=\"M 3597 1894 \nL 3597 1613 \nL 953 1613 \nQ 991 1019 1311 708 \nQ 1631 397 2203 397 \nQ 2534 397 2845 478 \nQ 3156 559 3463 722 \nL 3463 178 \nQ 3153 47 2828 -22 \nQ 2503 -91 2169 -91 \nQ 1331 -91 842 396 \nQ 353 884 353 1716 \nQ 353 2575 817 3079 \nQ 1281 3584 2069 3584 \nQ 2775 3584 3186 3129 \nQ 3597 2675 3597 1894 \nz\nM 3022 2063 \nQ 3016 2534 2758 2815 \nQ 2500 3097 2075 3097 \nQ 1594 3097 1305 2825 \nQ 1016 2553 972 2059 \nL 3022 2063 \nz\n\" transform=\"scale(0.015625)\"/>\n       <path id=\"DejaVuSans-73\" d=\"M 2834 3397 \nL 2834 2853 \nQ 2591 2978 2328 3040 \nQ 2066 3103 1784 3103 \nQ 1356 3103 1142 2972 \nQ 928 2841 928 2578 \nQ 928 2378 1081 2264 \nQ 1234 2150 1697 2047 \nL 1894 2003 \nQ 2506 1872 2764 1633 \nQ 3022 1394 3022 966 \nQ 3022 478 2636 193 \nQ 2250 -91 1575 -91 \nQ 1294 -91 989 -36 \nQ 684 19 347 128 \nL 347 722 \nQ 666 556 975 473 \nQ 1284 391 1588 391 \nQ 1994 391 2212 530 \nQ 2431 669 2431 922 \nQ 2431 1156 2273 1281 \nQ 2116 1406 1581 1522 \nL 1381 1569 \nQ 847 1681 609 1914 \nQ 372 2147 372 2553 \nQ 372 3047 722 3315 \nQ 1072 3584 1716 3584 \nQ 2034 3584 2315 3537 \nQ 2597 3491 2834 3397 \nz\n\" transform=\"scale(0.015625)\"/>\n      </defs>\n      <use xlink:href=\"#DejaVuSans-54\"/>\n      <use xlink:href=\"#DejaVuSans-65\" x=\"44.083984\"/>\n      <use xlink:href=\"#DejaVuSans-73\" x=\"105.607422\"/>\n      <use xlink:href=\"#DejaVuSans-74\" x=\"157.707031\"/>\n      <use xlink:href=\"#DejaVuSans-20\" x=\"196.916016\"/>\n      <use xlink:href=\"#DejaVuSans-64\" x=\"228.703125\"/>\n      <use xlink:href=\"#DejaVuSans-61\" x=\"292.179688\"/>\n      <use xlink:href=\"#DejaVuSans-74\" x=\"353.458984\"/>\n      <use xlink:href=\"#DejaVuSans-61\" x=\"392.667969\"/>\n     </g>\n    </g>\n    <g id=\"PathCollection_6\">\n     <g>\n      <use xlink:href=\"#m1d5355ee82\" x=\"54.304688\" y=\"50.529687\" style=\"fill: #ff0000; stroke: #ff0000\"/>\n     </g>\n    </g>\n    <g id=\"text_20\">\n     <!-- Predictions -->\n     <g style=\"fill: #ffffff\" transform=\"translate(72.304688 53.154687)scale(0.1 -0.1)\">\n      <defs>\n       <path id=\"DejaVuSans-50\" d=\"M 1259 4147 \nL 1259 2394 \nL 2053 2394 \nQ 2494 2394 2734 2622 \nQ 2975 2850 2975 3272 \nQ 2975 3691 2734 3919 \nQ 2494 4147 2053 4147 \nL 1259 4147 \nz\nM 628 4666 \nL 2053 4666 \nQ 2838 4666 3239 4311 \nQ 3641 3956 3641 3272 \nQ 3641 2581 3239 2228 \nQ 2838 1875 2053 1875 \nL 1259 1875 \nL 1259 0 \nL 628 0 \nL 628 4666 \nz\n\" transform=\"scale(0.015625)\"/>\n       <path id=\"DejaVuSans-63\" d=\"M 3122 3366 \nL 3122 2828 \nQ 2878 2963 2633 3030 \nQ 2388 3097 2138 3097 \nQ 1578 3097 1268 2742 \nQ 959 2388 959 1747 \nQ 959 1106 1268 751 \nQ 1578 397 2138 397 \nQ 2388 397 2633 464 \nQ 2878 531 3122 666 \nL 3122 134 \nQ 2881 22 2623 -34 \nQ 2366 -91 2075 -91 \nQ 1284 -91 818 406 \nQ 353 903 353 1747 \nQ 353 2603 823 3093 \nQ 1294 3584 2113 3584 \nQ 2378 3584 2631 3529 \nQ 2884 3475 3122 3366 \nz\n\" transform=\"scale(0.015625)\"/>\n       <path id=\"DejaVuSans-6f\" d=\"M 1959 3097 \nQ 1497 3097 1228 2736 \nQ 959 2375 959 1747 \nQ 959 1119 1226 758 \nQ 1494 397 1959 397 \nQ 2419 397 2687 759 \nQ 2956 1122 2956 1747 \nQ 2956 2369 2687 2733 \nQ 2419 3097 1959 3097 \nz\nM 1959 3584 \nQ 2709 3584 3137 3096 \nQ 3566 2609 3566 1747 \nQ 3566 888 3137 398 \nQ 2709 -91 1959 -91 \nQ 1206 -91 779 398 \nQ 353 888 353 1747 \nQ 353 2609 779 3096 \nQ 1206 3584 1959 3584 \nz\n\" transform=\"scale(0.015625)\"/>\n      </defs>\n      <use xlink:href=\"#DejaVuSans-50\"/>\n      <use xlink:href=\"#DejaVuSans-72\" x=\"58.552734\"/>\n      <use xlink:href=\"#DejaVuSans-65\" x=\"97.416016\"/>\n      <use xlink:href=\"#DejaVuSans-64\" x=\"158.939453\"/>\n      <use xlink:href=\"#DejaVuSans-69\" x=\"222.416016\"/>\n      <use xlink:href=\"#DejaVuSans-63\" x=\"250.199219\"/>\n      <use xlink:href=\"#DejaVuSans-74\" x=\"305.179688\"/>\n      <use xlink:href=\"#DejaVuSans-69\" x=\"344.388672\"/>\n      <use xlink:href=\"#DejaVuSans-6f\" x=\"372.171875\"/>\n      <use xlink:href=\"#DejaVuSans-6e\" x=\"433.353516\"/>\n      <use xlink:href=\"#DejaVuSans-73\" x=\"496.732422\"/>\n     </g>\n    </g>\n   </g>\n  </g>\n </g>\n <defs>\n  <clipPath id=\"pc309dcc4c2\">\n   <rect x=\"35.304688\" y=\"7.2\" width=\"558\" height=\"380.52\"/>\n  </clipPath>\n </defs>\n</svg>\n",
      "text/plain": [
       "<Figure size 720x504 with 1 Axes>"
      ]
     },
     "metadata": {},
     "output_type": "display_data"
    }
   ],
   "source": [
    "# Make and plot predictions for model_1\n",
    "y_preds_1 = model_1.predict(X_test)\n",
    "plot_predictions(predictions=y_preds_1)"
   ]
  },
  {
   "cell_type": "code",
   "execution_count": 41,
   "metadata": {},
   "outputs": [
    {
     "data": {
      "text/plain": [
       "(<tf.Tensor: shape=(), dtype=float32, numpy=18.745327>,\n",
       " <tf.Tensor: shape=(), dtype=float32, numpy=353.5734>)"
      ]
     },
     "execution_count": 41,
     "metadata": {},
     "output_type": "execute_result"
    }
   ],
   "source": [
    "# Calculate model_1 evaluation metrics\n",
    "mae_1 = mae(y_test, y_preds_1)\n",
    "mse_1 = mse(y_test, y_preds_1)\n",
    "mae_1, mse_1"
   ]
  },
  {
   "cell_type": "markdown",
   "metadata": {},
   "source": [
    "**Build `model_2`**\n",
    "* 2 dense layers, trained for 100 epochs"
   ]
  },
  {
   "cell_type": "code",
   "execution_count": 42,
   "metadata": {},
   "outputs": [
    {
     "data": {
      "text/plain": [
       "<keras.callbacks.History at 0x2656b0cf490>"
      ]
     },
     "execution_count": 42,
     "metadata": {},
     "output_type": "execute_result"
    }
   ],
   "source": [
    "# Set random seed\n",
    "tf.random.set_seed(42)\n",
    "\n",
    "# 1. Create the model\n",
    "model_2 = tf.keras.Sequential([\n",
    "    tf.keras.layers.Dense(1),\n",
    "    tf.keras.layers.Dense(1)])\n",
    "\n",
    "# 2. Compile the model\n",
    "model_2.compile(\n",
    "    loss=tf.keras.losses.mae,\n",
    "    optimizer=tf.keras.optimizers.SGD(),\n",
    "    metrics=[\"mae\"])\n",
    "\n",
    "# 3. Fit the model\n",
    "model_2.fit(X_train, y_train, epochs=100, verbose=0)"
   ]
  },
  {
   "cell_type": "code",
   "execution_count": 43,
   "metadata": {},
   "outputs": [
    {
     "name": "stdout",
     "output_type": "stream",
     "text": [
      "WARNING:tensorflow:6 out of the last 6 calls to <function Model.make_predict_function.<locals>.predict_function at 0x000002656B109310> triggered tf.function retracing. Tracing is expensive and the excessive number of tracings could be due to (1) creating @tf.function repeatedly in a loop, (2) passing tensors with different shapes, (3) passing Python objects instead of tensors. For (1), please define your @tf.function outside of the loop. For (2), @tf.function has experimental_relax_shapes=True option that relaxes argument shapes that can avoid unnecessary retracing. For (3), please refer to https://www.tensorflow.org/guide/function#controlling_retracing and https://www.tensorflow.org/api_docs/python/tf/function for  more details.\n"
     ]
    },
    {
     "data": {
      "image/png": "[encoded data removed]",
      "image/svg+xml": "<?xml version=\"1.0\" encoding=\"utf-8\" standalone=\"no\"?>\n<!DOCTYPE svg PUBLIC \"-//W3C//DTD SVG 1.1//EN\"\n  \"http://www.w3.org/Graphics/SVG/1.1/DTD/svg11.dtd\">\n<svg xmlns:xlink=\"http://www.w3.org/1999/xlink\" width=\"606.867188pt\" height=\"411.598125pt\" viewBox=\"0 0 606.867188 411.598125\" xmlns=\"http://www.w3.org/2000/svg\" version=\"1.1\">\n <metadata>\n  <rdf:RDF xmlns:dc=\"http://purl.org/dc/elements/1.1/\" xmlns:cc=\"http://creativecommons.org/ns#\" xmlns:rdf=\"http://www.w3.org/1999/02/22-rdf-syntax-ns#\">\n   <cc:Work>\n    <dc:type rdf:resource=\"http://purl.org/dc/dcmitype/StillImage\"/>\n    <dc:date>2022-05-10T09:38:35.251819</dc:date>\n    <dc:format>image/svg+xml</dc:format>\n    <dc:creator>\n     <cc:Agent>\n      <dc:title>Matplotlib v3.5.1, https://matplotlib.org/</dc:title>\n     </cc:Agent>\n    </dc:creator>\n   </cc:Work>\n  </rdf:RDF>\n </metadata>\n <defs>\n  <style type=\"text/css\">*{stroke-linejoin: round; stroke-linecap: butt}</style>\n </defs>\n <g id=\"figure_1\">\n  <g id=\"patch_1\">\n   <path d=\"M 0 411.598125 \nL 606.867188 411.598125 \nL 606.867188 0 \nL 0 0 \nz\n\"/>\n  </g>\n  <g id=\"axes_1\">\n   <g id=\"patch_2\">\n    <path d=\"M 41.667188 387.72 \nL 599.667187 387.72 \nL 599.667187 7.2 \nL 41.667188 7.2 \nz\n\"/>\n   </g>\n   <g id=\"PathCollection_1\">\n    <defs>\n     <path id=\"mdb15c20e6d\" d=\"M 0 3 \nC 0.795609 3 1.55874 2.683901 2.12132 2.12132 \nC 2.683901 1.55874 3 0.795609 3 0 \nC 3 -0.795609 2.683901 -1.55874 2.12132 -2.12132 \nC 1.55874 -2.683901 0.795609 -3 0 -3 \nC -0.795609 -3 -1.55874 -2.683901 -2.12132 -2.12132 \nC -2.683901 -1.55874 -3 -0.795609 -3 0 \nC -3 0.795609 -2.683901 1.55874 -2.12132 2.12132 \nC -1.55874 2.683901 -0.795609 3 0 3 \nz\n\" style=\"stroke: #0000ff\"/>\n    </defs>\n    <g clip-path=\"url(#p2fef9a53c8)\">\n     <use xlink:href=\"#mdb15c20e6d\" x=\"67.030824\" y=\"370.423636\" style=\"fill: #0000ff; stroke: #0000ff\"/>\n     <use xlink:href=\"#mdb15c20e6d\" x=\"77.383329\" y=\"363.509708\" style=\"fill: #0000ff; stroke: #0000ff\"/>\n     <use xlink:href=\"#mdb15c20e6d\" x=\"87.735833\" y=\"356.59578\" style=\"fill: #0000ff; stroke: #0000ff\"/>\n     <use xlink:href=\"#mdb15c20e6d\" x=\"98.088338\" y=\"349.681851\" style=\"fill: #0000ff; stroke: #0000ff\"/>\n     <use xlink:href=\"#mdb15c20e6d\" x=\"108.440842\" y=\"342.767923\" style=\"fill: #0000ff; stroke: #0000ff\"/>\n     <use xlink:href=\"#mdb15c20e6d\" x=\"118.793347\" y=\"335.853995\" style=\"fill: #0000ff; stroke: #0000ff\"/>\n     <use xlink:href=\"#mdb15c20e6d\" x=\"129.145852\" y=\"328.940066\" style=\"fill: #0000ff; stroke: #0000ff\"/>\n     <use xlink:href=\"#mdb15c20e6d\" x=\"139.498356\" y=\"322.026138\" style=\"fill: #0000ff; stroke: #0000ff\"/>\n     <use xlink:href=\"#mdb15c20e6d\" x=\"149.850861\" y=\"315.11221\" style=\"fill: #0000ff; stroke: #0000ff\"/>\n     <use xlink:href=\"#mdb15c20e6d\" x=\"160.203366\" y=\"308.198281\" style=\"fill: #0000ff; stroke: #0000ff\"/>\n     <use xlink:href=\"#mdb15c20e6d\" x=\"170.55587\" y=\"301.284353\" style=\"fill: #0000ff; stroke: #0000ff\"/>\n     <use xlink:href=\"#mdb15c20e6d\" x=\"180.908375\" y=\"294.370425\" style=\"fill: #0000ff; stroke: #0000ff\"/>\n     <use xlink:href=\"#mdb15c20e6d\" x=\"191.26088\" y=\"287.456496\" style=\"fill: #0000ff; stroke: #0000ff\"/>\n     <use xlink:href=\"#mdb15c20e6d\" x=\"201.613384\" y=\"280.542568\" style=\"fill: #0000ff; stroke: #0000ff\"/>\n     <use xlink:href=\"#mdb15c20e6d\" x=\"211.965889\" y=\"273.62864\" style=\"fill: #0000ff; stroke: #0000ff\"/>\n     <use xlink:href=\"#mdb15c20e6d\" x=\"222.318393\" y=\"266.714711\" style=\"fill: #0000ff; stroke: #0000ff\"/>\n     <use xlink:href=\"#mdb15c20e6d\" x=\"232.670898\" y=\"259.800783\" style=\"fill: #0000ff; stroke: #0000ff\"/>\n     <use xlink:href=\"#mdb15c20e6d\" x=\"243.023403\" y=\"252.886855\" style=\"fill: #0000ff; stroke: #0000ff\"/>\n     <use xlink:href=\"#mdb15c20e6d\" x=\"253.375907\" y=\"245.972926\" style=\"fill: #0000ff; stroke: #0000ff\"/>\n     <use xlink:href=\"#mdb15c20e6d\" x=\"263.728412\" y=\"239.058998\" style=\"fill: #0000ff; stroke: #0000ff\"/>\n     <use xlink:href=\"#mdb15c20e6d\" x=\"274.080917\" y=\"232.14507\" style=\"fill: #0000ff; stroke: #0000ff\"/>\n     <use xlink:href=\"#mdb15c20e6d\" x=\"284.433421\" y=\"225.231141\" style=\"fill: #0000ff; stroke: #0000ff\"/>\n     <use xlink:href=\"#mdb15c20e6d\" x=\"294.785926\" y=\"218.317213\" style=\"fill: #0000ff; stroke: #0000ff\"/>\n     <use xlink:href=\"#mdb15c20e6d\" x=\"305.138431\" y=\"211.403285\" style=\"fill: #0000ff; stroke: #0000ff\"/>\n     <use xlink:href=\"#mdb15c20e6d\" x=\"315.490935\" y=\"204.489357\" style=\"fill: #0000ff; stroke: #0000ff\"/>\n     <use xlink:href=\"#mdb15c20e6d\" x=\"325.84344\" y=\"197.575428\" style=\"fill: #0000ff; stroke: #0000ff\"/>\n     <use xlink:href=\"#mdb15c20e6d\" x=\"336.195944\" y=\"190.6615\" style=\"fill: #0000ff; stroke: #0000ff\"/>\n     <use xlink:href=\"#mdb15c20e6d\" x=\"346.548449\" y=\"183.747572\" style=\"fill: #0000ff; stroke: #0000ff\"/>\n     <use xlink:href=\"#mdb15c20e6d\" x=\"356.900954\" y=\"176.833643\" style=\"fill: #0000ff; stroke: #0000ff\"/>\n     <use xlink:href=\"#mdb15c20e6d\" x=\"367.253458\" y=\"169.919715\" style=\"fill: #0000ff; stroke: #0000ff\"/>\n     <use xlink:href=\"#mdb15c20e6d\" x=\"377.605963\" y=\"163.005787\" style=\"fill: #0000ff; stroke: #0000ff\"/>\n     <use xlink:href=\"#mdb15c20e6d\" x=\"387.958468\" y=\"156.091858\" style=\"fill: #0000ff; stroke: #0000ff\"/>\n     <use xlink:href=\"#mdb15c20e6d\" x=\"398.310972\" y=\"149.17793\" style=\"fill: #0000ff; stroke: #0000ff\"/>\n     <use xlink:href=\"#mdb15c20e6d\" x=\"408.663477\" y=\"142.264002\" style=\"fill: #0000ff; stroke: #0000ff\"/>\n     <use xlink:href=\"#mdb15c20e6d\" x=\"419.015982\" y=\"135.350073\" style=\"fill: #0000ff; stroke: #0000ff\"/>\n     <use xlink:href=\"#mdb15c20e6d\" x=\"429.368486\" y=\"128.436145\" style=\"fill: #0000ff; stroke: #0000ff\"/>\n     <use xlink:href=\"#mdb15c20e6d\" x=\"439.720991\" y=\"121.522217\" style=\"fill: #0000ff; stroke: #0000ff\"/>\n     <use xlink:href=\"#mdb15c20e6d\" x=\"450.073495\" y=\"114.608288\" style=\"fill: #0000ff; stroke: #0000ff\"/>\n     <use xlink:href=\"#mdb15c20e6d\" x=\"460.426\" y=\"107.69436\" style=\"fill: #0000ff; stroke: #0000ff\"/>\n     <use xlink:href=\"#mdb15c20e6d\" x=\"470.778505\" y=\"100.780432\" style=\"fill: #0000ff; stroke: #0000ff\"/>\n    </g>\n   </g>\n   <g id=\"PathCollection_2\">\n    <defs>\n     <path id=\"mc1cf47d62b\" d=\"M 0 3 \nC 0.795609 3 1.55874 2.683901 2.12132 2.12132 \nC 2.683901 1.55874 3 0.795609 3 0 \nC 3 -0.795609 2.683901 -1.55874 2.12132 -2.12132 \nC 1.55874 -2.683901 0.795609 -3 0 -3 \nC -0.795609 -3 -1.55874 -2.683901 -2.12132 -2.12132 \nC -2.683901 -1.55874 -3 -0.795609 -3 0 \nC -3 0.795609 -2.683901 1.55874 -2.12132 2.12132 \nC -1.55874 2.683901 -0.795609 3 0 3 \nz\n\" style=\"stroke: #008000\"/>\n    </defs>\n    <g clip-path=\"url(#p2fef9a53c8)\">\n     <use xlink:href=\"#mc1cf47d62b\" x=\"481.131009\" y=\"93.866503\" style=\"fill: #008000; stroke: #008000\"/>\n     <use xlink:href=\"#mc1cf47d62b\" x=\"491.483514\" y=\"86.952575\" style=\"fill: #008000; stroke: #008000\"/>\n     <use xlink:href=\"#mc1cf47d62b\" x=\"501.836019\" y=\"80.038647\" style=\"fill: #008000; stroke: #008000\"/>\n     <use xlink:href=\"#mc1cf47d62b\" x=\"512.188523\" y=\"73.124718\" style=\"fill: #008000; stroke: #008000\"/>\n     <use xlink:href=\"#mc1cf47d62b\" x=\"522.541028\" y=\"66.21079\" style=\"fill: #008000; stroke: #008000\"/>\n     <use xlink:href=\"#mc1cf47d62b\" x=\"532.893533\" y=\"59.296862\" style=\"fill: #008000; stroke: #008000\"/>\n     <use xlink:href=\"#mc1cf47d62b\" x=\"543.246037\" y=\"52.382933\" style=\"fill: #008000; stroke: #008000\"/>\n     <use xlink:href=\"#mc1cf47d62b\" x=\"553.598542\" y=\"45.469005\" style=\"fill: #008000; stroke: #008000\"/>\n     <use xlink:href=\"#mc1cf47d62b\" x=\"563.951046\" y=\"38.555077\" style=\"fill: #008000; stroke: #008000\"/>\n     <use xlink:href=\"#mc1cf47d62b\" x=\"574.303551\" y=\"31.641148\" style=\"fill: #008000; stroke: #008000\"/>\n    </g>\n   </g>\n   <g id=\"PathCollection_3\">\n    <defs>\n     <path id=\"m9f8fa76da3\" d=\"M 0 3 \nC 0.795609 3 1.55874 2.683901 2.12132 2.12132 \nC 2.683901 1.55874 3 0.795609 3 0 \nC 3 -0.795609 2.683901 -1.55874 2.12132 -2.12132 \nC 1.55874 -2.683901 0.795609 -3 0 -3 \nC -0.795609 -3 -1.55874 -2.683901 -2.12132 -2.12132 \nC -2.683901 -1.55874 -3 -0.795609 -3 0 \nC -3 0.795609 -2.683901 1.55874 -2.12132 2.12132 \nC -1.55874 2.683901 -0.795609 3 0 3 \nz\n\" style=\"stroke: #ff0000\"/>\n    </defs>\n    <g clip-path=\"url(#p2fef9a53c8)\">\n     <use xlink:href=\"#m9f8fa76da3\" x=\"481.131009\" y=\"94.78745\" style=\"fill: #ff0000; stroke: #ff0000\"/>\n     <use xlink:href=\"#m9f8fa76da3\" x=\"491.483514\" y=\"86.977314\" style=\"fill: #ff0000; stroke: #ff0000\"/>\n     <use xlink:href=\"#m9f8fa76da3\" x=\"501.836019\" y=\"79.167205\" style=\"fill: #ff0000; stroke: #ff0000\"/>\n     <use xlink:href=\"#m9f8fa76da3\" x=\"512.188523\" y=\"71.357083\" style=\"fill: #ff0000; stroke: #ff0000\"/>\n     <use xlink:href=\"#m9f8fa76da3\" x=\"522.541028\" y=\"63.546961\" style=\"fill: #ff0000; stroke: #ff0000\"/>\n     <use xlink:href=\"#m9f8fa76da3\" x=\"532.893533\" y=\"55.736839\" style=\"fill: #ff0000; stroke: #ff0000\"/>\n     <use xlink:href=\"#m9f8fa76da3\" x=\"543.246037\" y=\"47.926717\" style=\"fill: #ff0000; stroke: #ff0000\"/>\n     <use xlink:href=\"#m9f8fa76da3\" x=\"553.598542\" y=\"40.116608\" style=\"fill: #ff0000; stroke: #ff0000\"/>\n     <use xlink:href=\"#m9f8fa76da3\" x=\"563.951046\" y=\"32.306473\" style=\"fill: #ff0000; stroke: #ff0000\"/>\n     <use xlink:href=\"#m9f8fa76da3\" x=\"574.303551\" y=\"24.496364\" style=\"fill: #ff0000; stroke: #ff0000\"/>\n    </g>\n   </g>\n   <g id=\"matplotlib.axis_1\">\n    <g id=\"xtick_1\">\n     <g id=\"line2d_1\">\n      <defs>\n       <path id=\"m0b37e88ae0\" d=\"M 0 0 \nL 0 3.5 \n\" style=\"stroke: #ffffff; stroke-width: 0.8\"/>\n      </defs>\n      <g>\n       <use xlink:href=\"#m0b37e88ae0\" x=\"67.030824\" y=\"387.72\" style=\"fill: #ffffff; stroke: #ffffff; stroke-width: 0.8\"/>\n      </g>\n     </g>\n     <g id=\"text_1\">\n      <!-- −100 -->\n      <g style=\"fill: #ffffff\" transform=\"translate(53.29723 402.318437)scale(0.1 -0.1)\">\n       <defs>\n        <path id=\"DejaVuSans-2212\" d=\"M 678 2272 \nL 4684 2272 \nL 4684 1741 \nL 678 1741 \nL 678 2272 \nz\n\" transform=\"scale(0.015625)\"/>\n        <path id=\"DejaVuSans-31\" d=\"M 794 531 \nL 1825 531 \nL 1825 4091 \nL 703 3866 \nL 703 4441 \nL 1819 4666 \nL 2450 4666 \nL 2450 531 \nL 3481 531 \nL 3481 0 \nL 794 0 \nL 794 531 \nz\n\" transform=\"scale(0.015625)\"/>\n        <path id=\"DejaVuSans-30\" d=\"M 2034 4250 \nQ 1547 4250 1301 3770 \nQ 1056 3291 1056 2328 \nQ 1056 1369 1301 889 \nQ 1547 409 2034 409 \nQ 2525 409 2770 889 \nQ 3016 1369 3016 2328 \nQ 3016 3291 2770 3770 \nQ 2525 4250 2034 4250 \nz\nM 2034 4750 \nQ 2819 4750 3233 4129 \nQ 3647 3509 3647 2328 \nQ 3647 1150 3233 529 \nQ 2819 -91 2034 -91 \nQ 1250 -91 836 529 \nQ 422 1150 422 2328 \nQ 422 3509 836 4129 \nQ 1250 4750 2034 4750 \nz\n\" transform=\"scale(0.015625)\"/>\n       </defs>\n       <use xlink:href=\"#DejaVuSans-2212\"/>\n       <use xlink:href=\"#DejaVuSans-31\" x=\"83.789062\"/>\n       <use xlink:href=\"#DejaVuSans-30\" x=\"147.412109\"/>\n       <use xlink:href=\"#DejaVuSans-30\" x=\"211.035156\"/>\n      </g>\n     </g>\n    </g>\n    <g id=\"xtick_2\">\n     <g id=\"line2d_2\">\n      <g>\n       <use xlink:href=\"#m0b37e88ae0\" x=\"131.733978\" y=\"387.72\" style=\"fill: #ffffff; stroke: #ffffff; stroke-width: 0.8\"/>\n      </g>\n     </g>\n     <g id=\"text_2\">\n      <!-- −75 -->\n      <g style=\"fill: #ffffff\" transform=\"translate(121.181634 402.318437)scale(0.1 -0.1)\">\n       <defs>\n        <path id=\"DejaVuSans-37\" d=\"M 525 4666 \nL 3525 4666 \nL 3525 4397 \nL 1831 0 \nL 1172 0 \nL 2766 4134 \nL 525 4134 \nL 525 4666 \nz\n\" transform=\"scale(0.015625)\"/>\n        <path id=\"DejaVuSans-35\" d=\"M 691 4666 \nL 3169 4666 \nL 3169 4134 \nL 1269 4134 \nL 1269 2991 \nQ 1406 3038 1543 3061 \nQ 1681 3084 1819 3084 \nQ 2600 3084 3056 2656 \nQ 3513 2228 3513 1497 \nQ 3513 744 3044 326 \nQ 2575 -91 1722 -91 \nQ 1428 -91 1123 -41 \nQ 819 9 494 109 \nL 494 744 \nQ 775 591 1075 516 \nQ 1375 441 1709 441 \nQ 2250 441 2565 725 \nQ 2881 1009 2881 1497 \nQ 2881 1984 2565 2268 \nQ 2250 2553 1709 2553 \nQ 1456 2553 1204 2497 \nQ 953 2441 691 2322 \nL 691 4666 \nz\n\" transform=\"scale(0.015625)\"/>\n       </defs>\n       <use xlink:href=\"#DejaVuSans-2212\"/>\n       <use xlink:href=\"#DejaVuSans-37\" x=\"83.789062\"/>\n       <use xlink:href=\"#DejaVuSans-35\" x=\"147.412109\"/>\n      </g>\n     </g>\n    </g>\n    <g id=\"xtick_3\">\n     <g id=\"line2d_3\">\n      <g>\n       <use xlink:href=\"#m0b37e88ae0\" x=\"196.437132\" y=\"387.72\" style=\"fill: #ffffff; stroke: #ffffff; stroke-width: 0.8\"/>\n      </g>\n     </g>\n     <g id=\"text_3\">\n      <!-- −50 -->\n      <g style=\"fill: #ffffff\" transform=\"translate(185.884788 402.318437)scale(0.1 -0.1)\">\n       <use xlink:href=\"#DejaVuSans-2212\"/>\n       <use xlink:href=\"#DejaVuSans-35\" x=\"83.789062\"/>\n       <use xlink:href=\"#DejaVuSans-30\" x=\"147.412109\"/>\n      </g>\n     </g>\n    </g>\n    <g id=\"xtick_4\">\n     <g id=\"line2d_4\">\n      <g>\n       <use xlink:href=\"#m0b37e88ae0\" x=\"261.140286\" y=\"387.72\" style=\"fill: #ffffff; stroke: #ffffff; stroke-width: 0.8\"/>\n      </g>\n     </g>\n     <g id=\"text_4\">\n      <!-- −25 -->\n      <g style=\"fill: #ffffff\" transform=\"translate(250.587942 402.318437)scale(0.1 -0.1)\">\n       <defs>\n        <path id=\"DejaVuSans-32\" d=\"M 1228 531 \nL 3431 531 \nL 3431 0 \nL 469 0 \nL 469 531 \nQ 828 903 1448 1529 \nQ 2069 2156 2228 2338 \nQ 2531 2678 2651 2914 \nQ 2772 3150 2772 3378 \nQ 2772 3750 2511 3984 \nQ 2250 4219 1831 4219 \nQ 1534 4219 1204 4116 \nQ 875 4013 500 3803 \nL 500 4441 \nQ 881 4594 1212 4672 \nQ 1544 4750 1819 4750 \nQ 2544 4750 2975 4387 \nQ 3406 4025 3406 3419 \nQ 3406 3131 3298 2873 \nQ 3191 2616 2906 2266 \nQ 2828 2175 2409 1742 \nQ 1991 1309 1228 531 \nz\n\" transform=\"scale(0.015625)\"/>\n       </defs>\n       <use xlink:href=\"#DejaVuSans-2212\"/>\n       <use xlink:href=\"#DejaVuSans-32\" x=\"83.789062\"/>\n       <use xlink:href=\"#DejaVuSans-35\" x=\"147.412109\"/>\n      </g>\n     </g>\n    </g>\n    <g id=\"xtick_5\">\n     <g id=\"line2d_5\">\n      <g>\n       <use xlink:href=\"#m0b37e88ae0\" x=\"325.84344\" y=\"387.72\" style=\"fill: #ffffff; stroke: #ffffff; stroke-width: 0.8\"/>\n      </g>\n     </g>\n     <g id=\"text_5\">\n      <!-- 0 -->\n      <g style=\"fill: #ffffff\" transform=\"translate(322.66219 402.318437)scale(0.1 -0.1)\">\n       <use xlink:href=\"#DejaVuSans-30\"/>\n      </g>\n     </g>\n    </g>\n    <g id=\"xtick_6\">\n     <g id=\"line2d_6\">\n      <g>\n       <use xlink:href=\"#m0b37e88ae0\" x=\"390.546594\" y=\"387.72\" style=\"fill: #ffffff; stroke: #ffffff; stroke-width: 0.8\"/>\n      </g>\n     </g>\n     <g id=\"text_6\">\n      <!-- 25 -->\n      <g style=\"fill: #ffffff\" transform=\"translate(384.184094 402.318437)scale(0.1 -0.1)\">\n       <use xlink:href=\"#DejaVuSans-32\"/>\n       <use xlink:href=\"#DejaVuSans-35\" x=\"63.623047\"/>\n      </g>\n     </g>\n    </g>\n    <g id=\"xtick_7\">\n     <g id=\"line2d_7\">\n      <g>\n       <use xlink:href=\"#m0b37e88ae0\" x=\"455.249748\" y=\"387.72\" style=\"fill: #ffffff; stroke: #ffffff; stroke-width: 0.8\"/>\n      </g>\n     </g>\n     <g id=\"text_7\">\n      <!-- 50 -->\n      <g style=\"fill: #ffffff\" transform=\"translate(448.887248 402.318437)scale(0.1 -0.1)\">\n       <use xlink:href=\"#DejaVuSans-35\"/>\n       <use xlink:href=\"#DejaVuSans-30\" x=\"63.623047\"/>\n      </g>\n     </g>\n    </g>\n    <g id=\"xtick_8\">\n     <g id=\"line2d_8\">\n      <g>\n       <use xlink:href=\"#m0b37e88ae0\" x=\"519.952902\" y=\"387.72\" style=\"fill: #ffffff; stroke: #ffffff; stroke-width: 0.8\"/>\n      </g>\n     </g>\n     <g id=\"text_8\">\n      <!-- 75 -->\n      <g style=\"fill: #ffffff\" transform=\"translate(513.590402 402.318437)scale(0.1 -0.1)\">\n       <use xlink:href=\"#DejaVuSans-37\"/>\n       <use xlink:href=\"#DejaVuSans-35\" x=\"63.623047\"/>\n      </g>\n     </g>\n    </g>\n    <g id=\"xtick_9\">\n     <g id=\"line2d_9\">\n      <g>\n       <use xlink:href=\"#m0b37e88ae0\" x=\"584.656056\" y=\"387.72\" style=\"fill: #ffffff; stroke: #ffffff; stroke-width: 0.8\"/>\n      </g>\n     </g>\n     <g id=\"text_9\">\n      <!-- 100 -->\n      <g style=\"fill: #ffffff\" transform=\"translate(575.112306 402.318437)scale(0.1 -0.1)\">\n       <use xlink:href=\"#DejaVuSans-31\"/>\n       <use xlink:href=\"#DejaVuSans-30\" x=\"63.623047\"/>\n       <use xlink:href=\"#DejaVuSans-30\" x=\"127.246094\"/>\n      </g>\n     </g>\n    </g>\n   </g>\n   <g id=\"matplotlib.axis_2\">\n    <g id=\"ytick_1\">\n     <g id=\"line2d_10\">\n      <defs>\n       <path id=\"ma4b87955ea\" d=\"M 0 0 \nL -3.5 0 \n\" style=\"stroke: #ffffff; stroke-width: 0.8\"/>\n      </defs>\n      <g>\n       <use xlink:href=\"#ma4b87955ea\" x=\"41.667188\" y=\"387.708457\" style=\"fill: #ffffff; stroke: #ffffff; stroke-width: 0.8\"/>\n      </g>\n     </g>\n     <g id=\"text_10\">\n      <!-- −100 -->\n      <g style=\"fill: #ffffff\" transform=\"translate(7.2 391.507676)scale(0.1 -0.1)\">\n       <use xlink:href=\"#DejaVuSans-2212\"/>\n       <use xlink:href=\"#DejaVuSans-31\" x=\"83.789062\"/>\n       <use xlink:href=\"#DejaVuSans-30\" x=\"147.412109\"/>\n       <use xlink:href=\"#DejaVuSans-30\" x=\"211.035156\"/>\n      </g>\n     </g>\n    </g>\n    <g id=\"ytick_2\">\n     <g id=\"line2d_11\">\n      <g>\n       <use xlink:href=\"#ma4b87955ea\" x=\"41.667188\" y=\"344.496405\" style=\"fill: #ffffff; stroke: #ffffff; stroke-width: 0.8\"/>\n      </g>\n     </g>\n     <g id=\"text_11\">\n      <!-- −75 -->\n      <g style=\"fill: #ffffff\" transform=\"translate(13.5625 348.295624)scale(0.1 -0.1)\">\n       <use xlink:href=\"#DejaVuSans-2212\"/>\n       <use xlink:href=\"#DejaVuSans-37\" x=\"83.789062\"/>\n       <use xlink:href=\"#DejaVuSans-35\" x=\"147.412109\"/>\n      </g>\n     </g>\n    </g>\n    <g id=\"ytick_3\">\n     <g id=\"line2d_12\">\n      <g>\n       <use xlink:href=\"#ma4b87955ea\" x=\"41.667188\" y=\"301.284353\" style=\"fill: #ffffff; stroke: #ffffff; stroke-width: 0.8\"/>\n      </g>\n     </g>\n     <g id=\"text_12\">\n      <!-- −50 -->\n      <g style=\"fill: #ffffff\" transform=\"translate(13.5625 305.083572)scale(0.1 -0.1)\">\n       <use xlink:href=\"#DejaVuSans-2212\"/>\n       <use xlink:href=\"#DejaVuSans-35\" x=\"83.789062\"/>\n       <use xlink:href=\"#DejaVuSans-30\" x=\"147.412109\"/>\n      </g>\n     </g>\n    </g>\n    <g id=\"ytick_4\">\n     <g id=\"line2d_13\">\n      <g>\n       <use xlink:href=\"#ma4b87955ea\" x=\"41.667188\" y=\"258.072301\" style=\"fill: #ffffff; stroke: #ffffff; stroke-width: 0.8\"/>\n      </g>\n     </g>\n     <g id=\"text_13\">\n      <!-- −25 -->\n      <g style=\"fill: #ffffff\" transform=\"translate(13.5625 261.87152)scale(0.1 -0.1)\">\n       <use xlink:href=\"#DejaVuSans-2212\"/>\n       <use xlink:href=\"#DejaVuSans-32\" x=\"83.789062\"/>\n       <use xlink:href=\"#DejaVuSans-35\" x=\"147.412109\"/>\n      </g>\n     </g>\n    </g>\n    <g id=\"ytick_5\">\n     <g id=\"line2d_14\">\n      <g>\n       <use xlink:href=\"#ma4b87955ea\" x=\"41.667188\" y=\"214.860249\" style=\"fill: #ffffff; stroke: #ffffff; stroke-width: 0.8\"/>\n      </g>\n     </g>\n     <g id=\"text_14\">\n      <!-- 0 -->\n      <g style=\"fill: #ffffff\" transform=\"translate(28.304688 218.659468)scale(0.1 -0.1)\">\n       <use xlink:href=\"#DejaVuSans-30\"/>\n      </g>\n     </g>\n    </g>\n    <g id=\"ytick_6\">\n     <g id=\"line2d_15\">\n      <g>\n       <use xlink:href=\"#ma4b87955ea\" x=\"41.667188\" y=\"171.648197\" style=\"fill: #ffffff; stroke: #ffffff; stroke-width: 0.8\"/>\n      </g>\n     </g>\n     <g id=\"text_15\">\n      <!-- 25 -->\n      <g style=\"fill: #ffffff\" transform=\"translate(21.942188 175.447416)scale(0.1 -0.1)\">\n       <use xlink:href=\"#DejaVuSans-32\"/>\n       <use xlink:href=\"#DejaVuSans-35\" x=\"63.623047\"/>\n      </g>\n     </g>\n    </g>\n    <g id=\"ytick_7\">\n     <g id=\"line2d_16\">\n      <g>\n       <use xlink:href=\"#ma4b87955ea\" x=\"41.667188\" y=\"128.436145\" style=\"fill: #ffffff; stroke: #ffffff; stroke-width: 0.8\"/>\n      </g>\n     </g>\n     <g id=\"text_16\">\n      <!-- 50 -->\n      <g style=\"fill: #ffffff\" transform=\"translate(21.942188 132.235364)scale(0.1 -0.1)\">\n       <use xlink:href=\"#DejaVuSans-35\"/>\n       <use xlink:href=\"#DejaVuSans-30\" x=\"63.623047\"/>\n      </g>\n     </g>\n    </g>\n    <g id=\"ytick_8\">\n     <g id=\"line2d_17\">\n      <g>\n       <use xlink:href=\"#ma4b87955ea\" x=\"41.667188\" y=\"85.224093\" style=\"fill: #ffffff; stroke: #ffffff; stroke-width: 0.8\"/>\n      </g>\n     </g>\n     <g id=\"text_17\">\n      <!-- 75 -->\n      <g style=\"fill: #ffffff\" transform=\"translate(21.942188 89.023312)scale(0.1 -0.1)\">\n       <use xlink:href=\"#DejaVuSans-37\"/>\n       <use xlink:href=\"#DejaVuSans-35\" x=\"63.623047\"/>\n      </g>\n     </g>\n    </g>\n    <g id=\"ytick_9\">\n     <g id=\"line2d_18\">\n      <g>\n       <use xlink:href=\"#ma4b87955ea\" x=\"41.667188\" y=\"42.012041\" style=\"fill: #ffffff; stroke: #ffffff; stroke-width: 0.8\"/>\n      </g>\n     </g>\n     <g id=\"text_18\">\n      <!-- 100 -->\n      <g style=\"fill: #ffffff\" transform=\"translate(15.579688 45.81126)scale(0.1 -0.1)\">\n       <use xlink:href=\"#DejaVuSans-31\"/>\n       <use xlink:href=\"#DejaVuSans-30\" x=\"63.623047\"/>\n       <use xlink:href=\"#DejaVuSans-30\" x=\"127.246094\"/>\n      </g>\n     </g>\n    </g>\n   </g>\n   <g id=\"patch_3\">\n    <path d=\"M 41.667188 387.72 \nL 41.667188 7.2 \n\" style=\"fill: none; stroke: #ffffff; stroke-width: 0.8; stroke-linejoin: miter; stroke-linecap: square\"/>\n   </g>\n   <g id=\"patch_4\">\n    <path d=\"M 599.667187 387.72 \nL 599.667187 7.2 \n\" style=\"fill: none; stroke: #ffffff; stroke-width: 0.8; stroke-linejoin: miter; stroke-linecap: square\"/>\n   </g>\n   <g id=\"patch_5\">\n    <path d=\"M 41.667188 387.72 \nL 599.667188 387.72 \n\" style=\"fill: none; stroke: #ffffff; stroke-width: 0.8; stroke-linejoin: miter; stroke-linecap: square\"/>\n   </g>\n   <g id=\"patch_6\">\n    <path d=\"M 41.667188 7.2 \nL 599.667188 7.2 \n\" style=\"fill: none; stroke: #ffffff; stroke-width: 0.8; stroke-linejoin: miter; stroke-linecap: square\"/>\n   </g>\n   <g id=\"legend_1\">\n    <g id=\"patch_7\">\n     <path d=\"M 48.667188 59.234375 \nL 145.821875 59.234375 \nQ 147.821875 59.234375 147.821875 57.234375 \nL 147.821875 14.2 \nQ 147.821875 12.2 145.821875 12.2 \nL 48.667188 12.2 \nQ 46.667188 12.2 46.667188 14.2 \nL 46.667188 57.234375 \nQ 46.667188 59.234375 48.667188 59.234375 \nz\n\" style=\"opacity: 0.8; stroke: #cccccc; stroke-linejoin: miter\"/>\n    </g>\n    <g id=\"PathCollection_4\">\n     <g>\n      <use xlink:href=\"#mdb15c20e6d\" x=\"60.667188\" y=\"21.173437\" style=\"fill: #0000ff; stroke: #0000ff\"/>\n     </g>\n    </g>\n    <g id=\"text_19\">\n     <!-- Training data -->\n     <g style=\"fill: #ffffff\" transform=\"translate(78.667188 23.798437)scale(0.1 -0.1)\">\n      <defs>\n       <path id=\"DejaVuSans-54\" d=\"M -19 4666 \nL 3928 4666 \nL 3928 4134 \nL 2272 4134 \nL 2272 0 \nL 1638 0 \nL 1638 4134 \nL -19 4134 \nL -19 4666 \nz\n\" transform=\"scale(0.015625)\"/>\n       <path id=\"DejaVuSans-72\" d=\"M 2631 2963 \nQ 2534 3019 2420 3045 \nQ 2306 3072 2169 3072 \nQ 1681 3072 1420 2755 \nQ 1159 2438 1159 1844 \nL 1159 0 \nL 581 0 \nL 581 3500 \nL 1159 3500 \nL 1159 2956 \nQ 1341 3275 1631 3429 \nQ 1922 3584 2338 3584 \nQ 2397 3584 2469 3576 \nQ 2541 3569 2628 3553 \nL 2631 2963 \nz\n\" transform=\"scale(0.015625)\"/>\n       <path id=\"DejaVuSans-61\" d=\"M 2194 1759 \nQ 1497 1759 1228 1600 \nQ 959 1441 959 1056 \nQ 959 750 1161 570 \nQ 1363 391 1709 391 \nQ 2188 391 2477 730 \nQ 2766 1069 2766 1631 \nL 2766 1759 \nL 2194 1759 \nz\nM 3341 1997 \nL 3341 0 \nL 2766 0 \nL 2766 531 \nQ 2569 213 2275 61 \nQ 1981 -91 1556 -91 \nQ 1019 -91 701 211 \nQ 384 513 384 1019 \nQ 384 1609 779 1909 \nQ 1175 2209 1959 2209 \nL 2766 2209 \nL 2766 2266 \nQ 2766 2663 2505 2880 \nQ 2244 3097 1772 3097 \nQ 1472 3097 1187 3025 \nQ 903 2953 641 2809 \nL 641 3341 \nQ 956 3463 1253 3523 \nQ 1550 3584 1831 3584 \nQ 2591 3584 2966 3190 \nQ 3341 2797 3341 1997 \nz\n\" transform=\"scale(0.015625)\"/>\n       <path id=\"DejaVuSans-69\" d=\"M 603 3500 \nL 1178 3500 \nL 1178 0 \nL 603 0 \nL 603 3500 \nz\nM 603 4863 \nL 1178 4863 \nL 1178 4134 \nL 603 4134 \nL 603 4863 \nz\n\" transform=\"scale(0.015625)\"/>\n       <path id=\"DejaVuSans-6e\" d=\"M 3513 2113 \nL 3513 0 \nL 2938 0 \nL 2938 2094 \nQ 2938 2591 2744 2837 \nQ 2550 3084 2163 3084 \nQ 1697 3084 1428 2787 \nQ 1159 2491 1159 1978 \nL 1159 0 \nL 581 0 \nL 581 3500 \nL 1159 3500 \nL 1159 2956 \nQ 1366 3272 1645 3428 \nQ 1925 3584 2291 3584 \nQ 2894 3584 3203 3211 \nQ 3513 2838 3513 2113 \nz\n\" transform=\"scale(0.015625)\"/>\n       <path id=\"DejaVuSans-67\" d=\"M 2906 1791 \nQ 2906 2416 2648 2759 \nQ 2391 3103 1925 3103 \nQ 1463 3103 1205 2759 \nQ 947 2416 947 1791 \nQ 947 1169 1205 825 \nQ 1463 481 1925 481 \nQ 2391 481 2648 825 \nQ 2906 1169 2906 1791 \nz\nM 3481 434 \nQ 3481 -459 3084 -895 \nQ 2688 -1331 1869 -1331 \nQ 1566 -1331 1297 -1286 \nQ 1028 -1241 775 -1147 \nL 775 -588 \nQ 1028 -725 1275 -790 \nQ 1522 -856 1778 -856 \nQ 2344 -856 2625 -561 \nQ 2906 -266 2906 331 \nL 2906 616 \nQ 2728 306 2450 153 \nQ 2172 0 1784 0 \nQ 1141 0 747 490 \nQ 353 981 353 1791 \nQ 353 2603 747 3093 \nQ 1141 3584 1784 3584 \nQ 2172 3584 2450 3431 \nQ 2728 3278 2906 2969 \nL 2906 3500 \nL 3481 3500 \nL 3481 434 \nz\n\" transform=\"scale(0.015625)\"/>\n       <path id=\"DejaVuSans-20\" transform=\"scale(0.015625)\"/>\n       <path id=\"DejaVuSans-64\" d=\"M 2906 2969 \nL 2906 4863 \nL 3481 4863 \nL 3481 0 \nL 2906 0 \nL 2906 525 \nQ 2725 213 2448 61 \nQ 2172 -91 1784 -91 \nQ 1150 -91 751 415 \nQ 353 922 353 1747 \nQ 353 2572 751 3078 \nQ 1150 3584 1784 3584 \nQ 2172 3584 2448 3432 \nQ 2725 3281 2906 2969 \nz\nM 947 1747 \nQ 947 1113 1208 752 \nQ 1469 391 1925 391 \nQ 2381 391 2643 752 \nQ 2906 1113 2906 1747 \nQ 2906 2381 2643 2742 \nQ 2381 3103 1925 3103 \nQ 1469 3103 1208 2742 \nQ 947 2381 947 1747 \nz\n\" transform=\"scale(0.015625)\"/>\n       <path id=\"DejaVuSans-74\" d=\"M 1172 4494 \nL 1172 3500 \nL 2356 3500 \nL 2356 3053 \nL 1172 3053 \nL 1172 1153 \nQ 1172 725 1289 603 \nQ 1406 481 1766 481 \nL 2356 481 \nL 2356 0 \nL 1766 0 \nQ 1100 0 847 248 \nQ 594 497 594 1153 \nL 594 3053 \nL 172 3053 \nL 172 3500 \nL 594 3500 \nL 594 4494 \nL 1172 4494 \nz\n\" transform=\"scale(0.015625)\"/>\n      </defs>\n      <use xlink:href=\"#DejaVuSans-54\"/>\n      <use xlink:href=\"#DejaVuSans-72\" x=\"46.333984\"/>\n      <use xlink:href=\"#DejaVuSans-61\" x=\"87.447266\"/>\n      <use xlink:href=\"#DejaVuSans-69\" x=\"148.726562\"/>\n      <use xlink:href=\"#DejaVuSans-6e\" x=\"176.509766\"/>\n      <use xlink:href=\"#DejaVuSans-69\" x=\"239.888672\"/>\n      <use xlink:href=\"#DejaVuSans-6e\" x=\"267.671875\"/>\n      <use xlink:href=\"#DejaVuSans-67\" x=\"331.050781\"/>\n      <use xlink:href=\"#DejaVuSans-20\" x=\"394.527344\"/>\n      <use xlink:href=\"#DejaVuSans-64\" x=\"426.314453\"/>\n      <use xlink:href=\"#DejaVuSans-61\" x=\"489.791016\"/>\n      <use xlink:href=\"#DejaVuSans-74\" x=\"551.070312\"/>\n      <use xlink:href=\"#DejaVuSans-61\" x=\"590.279297\"/>\n     </g>\n    </g>\n    <g id=\"PathCollection_5\">\n     <g>\n      <use xlink:href=\"#mc1cf47d62b\" x=\"60.667188\" y=\"35.851562\" style=\"fill: #008000; stroke: #008000\"/>\n     </g>\n    </g>\n    <g id=\"text_20\">\n     <!-- Test data -->\n     <g style=\"fill: #ffffff\" transform=\"translate(78.667188 38.476562)scale(0.1 -0.1)\">\n      <defs>\n       <path id=\"DejaVuSans-65\" d=\"M 3597 1894 \nL 3597 1613 \nL 953 1613 \nQ 991 1019 1311 708 \nQ 1631 397 2203 397 \nQ 2534 397 2845 478 \nQ 3156 559 3463 722 \nL 3463 178 \nQ 3153 47 2828 -22 \nQ 2503 -91 2169 -91 \nQ 1331 -91 842 396 \nQ 353 884 353 1716 \nQ 353 2575 817 3079 \nQ 1281 3584 2069 3584 \nQ 2775 3584 3186 3129 \nQ 3597 2675 3597 1894 \nz\nM 3022 2063 \nQ 3016 2534 2758 2815 \nQ 2500 3097 2075 3097 \nQ 1594 3097 1305 2825 \nQ 1016 2553 972 2059 \nL 3022 2063 \nz\n\" transform=\"scale(0.015625)\"/>\n       <path id=\"DejaVuSans-73\" d=\"M 2834 3397 \nL 2834 2853 \nQ 2591 2978 2328 3040 \nQ 2066 3103 1784 3103 \nQ 1356 3103 1142 2972 \nQ 928 2841 928 2578 \nQ 928 2378 1081 2264 \nQ 1234 2150 1697 2047 \nL 1894 2003 \nQ 2506 1872 2764 1633 \nQ 3022 1394 3022 966 \nQ 3022 478 2636 193 \nQ 2250 -91 1575 -91 \nQ 1294 -91 989 -36 \nQ 684 19 347 128 \nL 347 722 \nQ 666 556 975 473 \nQ 1284 391 1588 391 \nQ 1994 391 2212 530 \nQ 2431 669 2431 922 \nQ 2431 1156 2273 1281 \nQ 2116 1406 1581 1522 \nL 1381 1569 \nQ 847 1681 609 1914 \nQ 372 2147 372 2553 \nQ 372 3047 722 3315 \nQ 1072 3584 1716 3584 \nQ 2034 3584 2315 3537 \nQ 2597 3491 2834 3397 \nz\n\" transform=\"scale(0.015625)\"/>\n      </defs>\n      <use xlink:href=\"#DejaVuSans-54\"/>\n      <use xlink:href=\"#DejaVuSans-65\" x=\"44.083984\"/>\n      <use xlink:href=\"#DejaVuSans-73\" x=\"105.607422\"/>\n      <use xlink:href=\"#DejaVuSans-74\" x=\"157.707031\"/>\n      <use xlink:href=\"#DejaVuSans-20\" x=\"196.916016\"/>\n      <use xlink:href=\"#DejaVuSans-64\" x=\"228.703125\"/>\n      <use xlink:href=\"#DejaVuSans-61\" x=\"292.179688\"/>\n      <use xlink:href=\"#DejaVuSans-74\" x=\"353.458984\"/>\n      <use xlink:href=\"#DejaVuSans-61\" x=\"392.667969\"/>\n     </g>\n    </g>\n    <g id=\"PathCollection_6\">\n     <g>\n      <use xlink:href=\"#m9f8fa76da3\" x=\"60.667188\" y=\"50.529687\" style=\"fill: #ff0000; stroke: #ff0000\"/>\n     </g>\n    </g>\n    <g id=\"text_21\">\n     <!-- Predictions -->\n     <g style=\"fill: #ffffff\" transform=\"translate(78.667188 53.154687)scale(0.1 -0.1)\">\n      <defs>\n       <path id=\"DejaVuSans-50\" d=\"M 1259 4147 \nL 1259 2394 \nL 2053 2394 \nQ 2494 2394 2734 2622 \nQ 2975 2850 2975 3272 \nQ 2975 3691 2734 3919 \nQ 2494 4147 2053 4147 \nL 1259 4147 \nz\nM 628 4666 \nL 2053 4666 \nQ 2838 4666 3239 4311 \nQ 3641 3956 3641 3272 \nQ 3641 2581 3239 2228 \nQ 2838 1875 2053 1875 \nL 1259 1875 \nL 1259 0 \nL 628 0 \nL 628 4666 \nz\n\" transform=\"scale(0.015625)\"/>\n       <path id=\"DejaVuSans-63\" d=\"M 3122 3366 \nL 3122 2828 \nQ 2878 2963 2633 3030 \nQ 2388 3097 2138 3097 \nQ 1578 3097 1268 2742 \nQ 959 2388 959 1747 \nQ 959 1106 1268 751 \nQ 1578 397 2138 397 \nQ 2388 397 2633 464 \nQ 2878 531 3122 666 \nL 3122 134 \nQ 2881 22 2623 -34 \nQ 2366 -91 2075 -91 \nQ 1284 -91 818 406 \nQ 353 903 353 1747 \nQ 353 2603 823 3093 \nQ 1294 3584 2113 3584 \nQ 2378 3584 2631 3529 \nQ 2884 3475 3122 3366 \nz\n\" transform=\"scale(0.015625)\"/>\n       <path id=\"DejaVuSans-6f\" d=\"M 1959 3097 \nQ 1497 3097 1228 2736 \nQ 959 2375 959 1747 \nQ 959 1119 1226 758 \nQ 1494 397 1959 397 \nQ 2419 397 2687 759 \nQ 2956 1122 2956 1747 \nQ 2956 2369 2687 2733 \nQ 2419 3097 1959 3097 \nz\nM 1959 3584 \nQ 2709 3584 3137 3096 \nQ 3566 2609 3566 1747 \nQ 3566 888 3137 398 \nQ 2709 -91 1959 -91 \nQ 1206 -91 779 398 \nQ 353 888 353 1747 \nQ 353 2609 779 3096 \nQ 1206 3584 1959 3584 \nz\n\" transform=\"scale(0.015625)\"/>\n      </defs>\n      <use xlink:href=\"#DejaVuSans-50\"/>\n      <use xlink:href=\"#DejaVuSans-72\" x=\"58.552734\"/>\n      <use xlink:href=\"#DejaVuSans-65\" x=\"97.416016\"/>\n      <use xlink:href=\"#DejaVuSans-64\" x=\"158.939453\"/>\n      <use xlink:href=\"#DejaVuSans-69\" x=\"222.416016\"/>\n      <use xlink:href=\"#DejaVuSans-63\" x=\"250.199219\"/>\n      <use xlink:href=\"#DejaVuSans-74\" x=\"305.179688\"/>\n      <use xlink:href=\"#DejaVuSans-69\" x=\"344.388672\"/>\n      <use xlink:href=\"#DejaVuSans-6f\" x=\"372.171875\"/>\n      <use xlink:href=\"#DejaVuSans-6e\" x=\"433.353516\"/>\n      <use xlink:href=\"#DejaVuSans-73\" x=\"496.732422\"/>\n     </g>\n    </g>\n   </g>\n  </g>\n </g>\n <defs>\n  <clipPath id=\"p2fef9a53c8\">\n   <rect x=\"41.667188\" y=\"7.2\" width=\"558\" height=\"380.52\"/>\n  </clipPath>\n </defs>\n</svg>\n",
      "text/plain": [
       "<Figure size 720x504 with 1 Axes>"
      ]
     },
     "metadata": {},
     "output_type": "display_data"
    }
   ],
   "source": [
    "# Make and plot predictions\n",
    "y_pred_2 = model_2.predict(X_test)\n",
    "plot_predictions(predictions=y_pred_2)"
   ]
  },
  {
   "cell_type": "code",
   "execution_count": 44,
   "metadata": {},
   "outputs": [
    {
     "data": {
      "text/plain": [
       "(<tf.Tensor: shape=(), dtype=float32, numpy=1.9098037>,\n",
       " <tf.Tensor: shape=(), dtype=float32, numpy=5.459189>)"
      ]
     },
     "execution_count": 44,
     "metadata": {},
     "output_type": "execute_result"
    }
   ],
   "source": [
    "# Calculate model_2 evaluation metrics\n",
    "mae_2 = mae(y_test, y_pred_2)\n",
    "mse_2 = mse(y_test, y_pred_2)\n",
    "mae_2, mse_2"
   ]
  },
  {
   "cell_type": "markdown",
   "metadata": {},
   "source": [
    "**Build `model_3`**\n",
    "* 2 dense layers, trained for 500 epochs"
   ]
  },
  {
   "cell_type": "code",
   "execution_count": 45,
   "metadata": {},
   "outputs": [
    {
     "data": {
      "text/plain": [
       "<keras.callbacks.History at 0x2655b7f01f0>"
      ]
     },
     "execution_count": 45,
     "metadata": {},
     "output_type": "execute_result"
    }
   ],
   "source": [
    "# Set random seed\n",
    "tf.random.set_seed(42)\n",
    "\n",
    "# 1. Create the model\n",
    "model_3 = tf.keras.Sequential([\n",
    "    tf.keras.layers.Dense(1),\n",
    "    tf.keras.layers.Dense(1)])\n",
    "\n",
    "# 2. Compile the model\n",
    "model_3.compile(\n",
    "    loss=tf.keras.losses.mae,\n",
    "    optimizer=tf.keras.optimizers.SGD(),\n",
    "    metrics=[\"mae\"])\n",
    "\n",
    "# 3. Fit the model\n",
    "model_3.fit(X_train, y_train, epochs=500, verbose=0)"
   ]
  },
  {
   "cell_type": "code",
   "execution_count": 46,
   "metadata": {},
   "outputs": [
    {
     "data": {
      "image/png": "[encoded data removed]",
      "image/svg+xml": "<?xml version=\"1.0\" encoding=\"utf-8\" standalone=\"no\"?>\n<!DOCTYPE svg PUBLIC \"-//W3C//DTD SVG 1.1//EN\"\n  \"http://www.w3.org/Graphics/SVG/1.1/DTD/svg11.dtd\">\n<svg xmlns:xlink=\"http://www.w3.org/1999/xlink\" width=\"600.504688pt\" height=\"411.598125pt\" viewBox=\"0 0 600.504688 411.598125\" xmlns=\"http://www.w3.org/2000/svg\" version=\"1.1\">\n <metadata>\n  <rdf:RDF xmlns:dc=\"http://purl.org/dc/elements/1.1/\" xmlns:cc=\"http://creativecommons.org/ns#\" xmlns:rdf=\"http://www.w3.org/1999/02/22-rdf-syntax-ns#\">\n   <cc:Work>\n    <dc:type rdf:resource=\"http://purl.org/dc/dcmitype/StillImage\"/>\n    <dc:date>2022-05-10T09:38:37.585725</dc:date>\n    <dc:format>image/svg+xml</dc:format>\n    <dc:creator>\n     <cc:Agent>\n      <dc:title>Matplotlib v3.5.1, https://matplotlib.org/</dc:title>\n     </cc:Agent>\n    </dc:creator>\n   </cc:Work>\n  </rdf:RDF>\n </metadata>\n <defs>\n  <style type=\"text/css\">*{stroke-linejoin: round; stroke-linecap: butt}</style>\n </defs>\n <g id=\"figure_1\">\n  <g id=\"patch_1\">\n   <path d=\"M 0 411.598125 \nL 600.504688 411.598125 \nL 600.504688 0 \nL 0 0 \nz\n\"/>\n  </g>\n  <g id=\"axes_1\">\n   <g id=\"patch_2\">\n    <path d=\"M 35.304688 387.72 \nL 593.304688 387.72 \nL 593.304688 7.2 \nL 35.304688 7.2 \nz\n\"/>\n   </g>\n   <g id=\"PathCollection_1\">\n    <defs>\n     <path id=\"m2688c0be76\" d=\"M 0 3 \nC 0.795609 3 1.55874 2.683901 2.12132 2.12132 \nC 2.683901 1.55874 3 0.795609 3 0 \nC 3 -0.795609 2.683901 -1.55874 2.12132 -2.12132 \nC 1.55874 -2.683901 0.795609 -3 0 -3 \nC -0.795609 -3 -1.55874 -2.683901 -2.12132 -2.12132 \nC -2.683901 -1.55874 -3 -0.795609 -3 0 \nC -3 0.795609 -2.683901 1.55874 -2.12132 2.12132 \nC -1.55874 2.683901 -0.795609 3 0 3 \nz\n\" style=\"stroke: #0000ff\"/>\n    </defs>\n    <g clip-path=\"url(#p2e601bcb8f)\">\n     <use xlink:href=\"#m2688c0be76\" x=\"60.668324\" y=\"370.423636\" style=\"fill: #0000ff; stroke: #0000ff\"/>\n     <use xlink:href=\"#m2688c0be76\" x=\"71.020829\" y=\"363.363896\" style=\"fill: #0000ff; stroke: #0000ff\"/>\n     <use xlink:href=\"#m2688c0be76\" x=\"81.373333\" y=\"356.304156\" style=\"fill: #0000ff; stroke: #0000ff\"/>\n     <use xlink:href=\"#m2688c0be76\" x=\"91.725838\" y=\"349.244416\" style=\"fill: #0000ff; stroke: #0000ff\"/>\n     <use xlink:href=\"#m2688c0be76\" x=\"102.078342\" y=\"342.184675\" style=\"fill: #0000ff; stroke: #0000ff\"/>\n     <use xlink:href=\"#m2688c0be76\" x=\"112.430847\" y=\"335.124935\" style=\"fill: #0000ff; stroke: #0000ff\"/>\n     <use xlink:href=\"#m2688c0be76\" x=\"122.783352\" y=\"328.065195\" style=\"fill: #0000ff; stroke: #0000ff\"/>\n     <use xlink:href=\"#m2688c0be76\" x=\"133.135856\" y=\"321.005455\" style=\"fill: #0000ff; stroke: #0000ff\"/>\n     <use xlink:href=\"#m2688c0be76\" x=\"143.488361\" y=\"313.945714\" style=\"fill: #0000ff; stroke: #0000ff\"/>\n     <use xlink:href=\"#m2688c0be76\" x=\"153.840866\" y=\"306.885974\" style=\"fill: #0000ff; stroke: #0000ff\"/>\n     <use xlink:href=\"#m2688c0be76\" x=\"164.19337\" y=\"299.826234\" style=\"fill: #0000ff; stroke: #0000ff\"/>\n     <use xlink:href=\"#m2688c0be76\" x=\"174.545875\" y=\"292.766494\" style=\"fill: #0000ff; stroke: #0000ff\"/>\n     <use xlink:href=\"#m2688c0be76\" x=\"184.89838\" y=\"285.706753\" style=\"fill: #0000ff; stroke: #0000ff\"/>\n     <use xlink:href=\"#m2688c0be76\" x=\"195.250884\" y=\"278.647013\" style=\"fill: #0000ff; stroke: #0000ff\"/>\n     <use xlink:href=\"#m2688c0be76\" x=\"205.603389\" y=\"271.587273\" style=\"fill: #0000ff; stroke: #0000ff\"/>\n     <use xlink:href=\"#m2688c0be76\" x=\"215.955893\" y=\"264.527532\" style=\"fill: #0000ff; stroke: #0000ff\"/>\n     <use xlink:href=\"#m2688c0be76\" x=\"226.308398\" y=\"257.467792\" style=\"fill: #0000ff; stroke: #0000ff\"/>\n     <use xlink:href=\"#m2688c0be76\" x=\"236.660903\" y=\"250.408052\" style=\"fill: #0000ff; stroke: #0000ff\"/>\n     <use xlink:href=\"#m2688c0be76\" x=\"247.013407\" y=\"243.348312\" style=\"fill: #0000ff; stroke: #0000ff\"/>\n     <use xlink:href=\"#m2688c0be76\" x=\"257.365912\" y=\"236.288571\" style=\"fill: #0000ff; stroke: #0000ff\"/>\n     <use xlink:href=\"#m2688c0be76\" x=\"267.718417\" y=\"229.228831\" style=\"fill: #0000ff; stroke: #0000ff\"/>\n     <use xlink:href=\"#m2688c0be76\" x=\"278.070921\" y=\"222.169091\" style=\"fill: #0000ff; stroke: #0000ff\"/>\n     <use xlink:href=\"#m2688c0be76\" x=\"288.423426\" y=\"215.109351\" style=\"fill: #0000ff; stroke: #0000ff\"/>\n     <use xlink:href=\"#m2688c0be76\" x=\"298.775931\" y=\"208.04961\" style=\"fill: #0000ff; stroke: #0000ff\"/>\n     <use xlink:href=\"#m2688c0be76\" x=\"309.128435\" y=\"200.98987\" style=\"fill: #0000ff; stroke: #0000ff\"/>\n     <use xlink:href=\"#m2688c0be76\" x=\"319.48094\" y=\"193.93013\" style=\"fill: #0000ff; stroke: #0000ff\"/>\n     <use xlink:href=\"#m2688c0be76\" x=\"329.833444\" y=\"186.87039\" style=\"fill: #0000ff; stroke: #0000ff\"/>\n     <use xlink:href=\"#m2688c0be76\" x=\"340.185949\" y=\"179.810649\" style=\"fill: #0000ff; stroke: #0000ff\"/>\n     <use xlink:href=\"#m2688c0be76\" x=\"350.538454\" y=\"172.750909\" style=\"fill: #0000ff; stroke: #0000ff\"/>\n     <use xlink:href=\"#m2688c0be76\" x=\"360.890958\" y=\"165.691169\" style=\"fill: #0000ff; stroke: #0000ff\"/>\n     <use xlink:href=\"#m2688c0be76\" x=\"371.243463\" y=\"158.631429\" style=\"fill: #0000ff; stroke: #0000ff\"/>\n     <use xlink:href=\"#m2688c0be76\" x=\"381.595968\" y=\"151.571688\" style=\"fill: #0000ff; stroke: #0000ff\"/>\n     <use xlink:href=\"#m2688c0be76\" x=\"391.948472\" y=\"144.511948\" style=\"fill: #0000ff; stroke: #0000ff\"/>\n     <use xlink:href=\"#m2688c0be76\" x=\"402.300977\" y=\"137.452208\" style=\"fill: #0000ff; stroke: #0000ff\"/>\n     <use xlink:href=\"#m2688c0be76\" x=\"412.653482\" y=\"130.392468\" style=\"fill: #0000ff; stroke: #0000ff\"/>\n     <use xlink:href=\"#m2688c0be76\" x=\"423.005986\" y=\"123.332727\" style=\"fill: #0000ff; stroke: #0000ff\"/>\n     <use xlink:href=\"#m2688c0be76\" x=\"433.358491\" y=\"116.272987\" style=\"fill: #0000ff; stroke: #0000ff\"/>\n     <use xlink:href=\"#m2688c0be76\" x=\"443.710995\" y=\"109.213247\" style=\"fill: #0000ff; stroke: #0000ff\"/>\n     <use xlink:href=\"#m2688c0be76\" x=\"454.0635\" y=\"102.153506\" style=\"fill: #0000ff; stroke: #0000ff\"/>\n     <use xlink:href=\"#m2688c0be76\" x=\"464.416005\" y=\"95.093766\" style=\"fill: #0000ff; stroke: #0000ff\"/>\n    </g>\n   </g>\n   <g id=\"PathCollection_2\">\n    <defs>\n     <path id=\"mc63309a01b\" d=\"M 0 3 \nC 0.795609 3 1.55874 2.683901 2.12132 2.12132 \nC 2.683901 1.55874 3 0.795609 3 0 \nC 3 -0.795609 2.683901 -1.55874 2.12132 -2.12132 \nC 1.55874 -2.683901 0.795609 -3 0 -3 \nC -0.795609 -3 -1.55874 -2.683901 -2.12132 -2.12132 \nC -2.683901 -1.55874 -3 -0.795609 -3 0 \nC -3 0.795609 -2.683901 1.55874 -2.12132 2.12132 \nC -1.55874 2.683901 -0.795609 3 0 3 \nz\n\" style=\"stroke: #008000\"/>\n    </defs>\n    <g clip-path=\"url(#p2e601bcb8f)\">\n     <use xlink:href=\"#mc63309a01b\" x=\"474.768509\" y=\"88.034026\" style=\"fill: #008000; stroke: #008000\"/>\n     <use xlink:href=\"#mc63309a01b\" x=\"485.121014\" y=\"80.974286\" style=\"fill: #008000; stroke: #008000\"/>\n     <use xlink:href=\"#mc63309a01b\" x=\"495.473519\" y=\"73.914545\" style=\"fill: #008000; stroke: #008000\"/>\n     <use xlink:href=\"#mc63309a01b\" x=\"505.826023\" y=\"66.854805\" style=\"fill: #008000; stroke: #008000\"/>\n     <use xlink:href=\"#mc63309a01b\" x=\"516.178528\" y=\"59.795065\" style=\"fill: #008000; stroke: #008000\"/>\n     <use xlink:href=\"#mc63309a01b\" x=\"526.531033\" y=\"52.735325\" style=\"fill: #008000; stroke: #008000\"/>\n     <use xlink:href=\"#mc63309a01b\" x=\"536.883537\" y=\"45.675584\" style=\"fill: #008000; stroke: #008000\"/>\n     <use xlink:href=\"#mc63309a01b\" x=\"547.236042\" y=\"38.615844\" style=\"fill: #008000; stroke: #008000\"/>\n     <use xlink:href=\"#mc63309a01b\" x=\"557.588546\" y=\"31.556104\" style=\"fill: #008000; stroke: #008000\"/>\n     <use xlink:href=\"#mc63309a01b\" x=\"567.941051\" y=\"24.496364\" style=\"fill: #008000; stroke: #008000\"/>\n    </g>\n   </g>\n   <g id=\"PathCollection_3\">\n    <defs>\n     <path id=\"mc716ff2a26\" d=\"M 0 3 \nC 0.795609 3 1.55874 2.683901 2.12132 2.12132 \nC 2.683901 1.55874 3 0.795609 3 0 \nC 3 -0.795609 2.683901 -1.55874 2.12132 -2.12132 \nC 1.55874 -2.683901 0.795609 -3 0 -3 \nC -0.795609 -3 -1.55874 -2.683901 -2.12132 -2.12132 \nC -2.683901 -1.55874 -3 -0.795609 -3 0 \nC -3 0.795609 -2.683901 1.55874 -2.12132 2.12132 \nC -1.55874 2.683901 -0.795609 3 0 3 \nz\n\" style=\"stroke: #ff0000\"/>\n    </defs>\n    <g clip-path=\"url(#p2e601bcb8f)\">\n     <use xlink:href=\"#mc716ff2a26\" x=\"474.768509\" y=\"183.554067\" style=\"fill: #ff0000; stroke: #ff0000\"/>\n     <use xlink:href=\"#mc716ff2a26\" x=\"485.121014\" y=\"182.207569\" style=\"fill: #ff0000; stroke: #ff0000\"/>\n     <use xlink:href=\"#mc716ff2a26\" x=\"495.473519\" y=\"180.861071\" style=\"fill: #ff0000; stroke: #ff0000\"/>\n     <use xlink:href=\"#mc716ff2a26\" x=\"505.826023\" y=\"179.514572\" style=\"fill: #ff0000; stroke: #ff0000\"/>\n     <use xlink:href=\"#mc716ff2a26\" x=\"516.178528\" y=\"178.168071\" style=\"fill: #ff0000; stroke: #ff0000\"/>\n     <use xlink:href=\"#mc716ff2a26\" x=\"526.531033\" y=\"176.821573\" style=\"fill: #ff0000; stroke: #ff0000\"/>\n     <use xlink:href=\"#mc716ff2a26\" x=\"536.883537\" y=\"175.475074\" style=\"fill: #ff0000; stroke: #ff0000\"/>\n     <use xlink:href=\"#mc716ff2a26\" x=\"547.236042\" y=\"174.128576\" style=\"fill: #ff0000; stroke: #ff0000\"/>\n     <use xlink:href=\"#mc716ff2a26\" x=\"557.588546\" y=\"172.782075\" style=\"fill: #ff0000; stroke: #ff0000\"/>\n     <use xlink:href=\"#mc716ff2a26\" x=\"567.941051\" y=\"171.43558\" style=\"fill: #ff0000; stroke: #ff0000\"/>\n    </g>\n   </g>\n   <g id=\"matplotlib.axis_1\">\n    <g id=\"xtick_1\">\n     <g id=\"line2d_1\">\n      <defs>\n       <path id=\"md896cdaa49\" d=\"M 0 0 \nL 0 3.5 \n\" style=\"stroke: #ffffff; stroke-width: 0.8\"/>\n      </defs>\n      <g>\n       <use xlink:href=\"#md896cdaa49\" x=\"60.668324\" y=\"387.72\" style=\"fill: #ffffff; stroke: #ffffff; stroke-width: 0.8\"/>\n      </g>\n     </g>\n     <g id=\"text_1\">\n      <!-- −100 -->\n      <g style=\"fill: #ffffff\" transform=\"translate(46.93473 402.318437)scale(0.1 -0.1)\">\n       <defs>\n        <path id=\"DejaVuSans-2212\" d=\"M 678 2272 \nL 4684 2272 \nL 4684 1741 \nL 678 1741 \nL 678 2272 \nz\n\" transform=\"scale(0.015625)\"/>\n        <path id=\"DejaVuSans-31\" d=\"M 794 531 \nL 1825 531 \nL 1825 4091 \nL 703 3866 \nL 703 4441 \nL 1819 4666 \nL 2450 4666 \nL 2450 531 \nL 3481 531 \nL 3481 0 \nL 794 0 \nL 794 531 \nz\n\" transform=\"scale(0.015625)\"/>\n        <path id=\"DejaVuSans-30\" d=\"M 2034 4250 \nQ 1547 4250 1301 3770 \nQ 1056 3291 1056 2328 \nQ 1056 1369 1301 889 \nQ 1547 409 2034 409 \nQ 2525 409 2770 889 \nQ 3016 1369 3016 2328 \nQ 3016 3291 2770 3770 \nQ 2525 4250 2034 4250 \nz\nM 2034 4750 \nQ 2819 4750 3233 4129 \nQ 3647 3509 3647 2328 \nQ 3647 1150 3233 529 \nQ 2819 -91 2034 -91 \nQ 1250 -91 836 529 \nQ 422 1150 422 2328 \nQ 422 3509 836 4129 \nQ 1250 4750 2034 4750 \nz\n\" transform=\"scale(0.015625)\"/>\n       </defs>\n       <use xlink:href=\"#DejaVuSans-2212\"/>\n       <use xlink:href=\"#DejaVuSans-31\" x=\"83.789062\"/>\n       <use xlink:href=\"#DejaVuSans-30\" x=\"147.412109\"/>\n       <use xlink:href=\"#DejaVuSans-30\" x=\"211.035156\"/>\n      </g>\n     </g>\n    </g>\n    <g id=\"xtick_2\">\n     <g id=\"line2d_2\">\n      <g>\n       <use xlink:href=\"#md896cdaa49\" x=\"125.371478\" y=\"387.72\" style=\"fill: #ffffff; stroke: #ffffff; stroke-width: 0.8\"/>\n      </g>\n     </g>\n     <g id=\"text_2\">\n      <!-- −75 -->\n      <g style=\"fill: #ffffff\" transform=\"translate(114.819134 402.318437)scale(0.1 -0.1)\">\n       <defs>\n        <path id=\"DejaVuSans-37\" d=\"M 525 4666 \nL 3525 4666 \nL 3525 4397 \nL 1831 0 \nL 1172 0 \nL 2766 4134 \nL 525 4134 \nL 525 4666 \nz\n\" transform=\"scale(0.015625)\"/>\n        <path id=\"DejaVuSans-35\" d=\"M 691 4666 \nL 3169 4666 \nL 3169 4134 \nL 1269 4134 \nL 1269 2991 \nQ 1406 3038 1543 3061 \nQ 1681 3084 1819 3084 \nQ 2600 3084 3056 2656 \nQ 3513 2228 3513 1497 \nQ 3513 744 3044 326 \nQ 2575 -91 1722 -91 \nQ 1428 -91 1123 -41 \nQ 819 9 494 109 \nL 494 744 \nQ 775 591 1075 516 \nQ 1375 441 1709 441 \nQ 2250 441 2565 725 \nQ 2881 1009 2881 1497 \nQ 2881 1984 2565 2268 \nQ 2250 2553 1709 2553 \nQ 1456 2553 1204 2497 \nQ 953 2441 691 2322 \nL 691 4666 \nz\n\" transform=\"scale(0.015625)\"/>\n       </defs>\n       <use xlink:href=\"#DejaVuSans-2212\"/>\n       <use xlink:href=\"#DejaVuSans-37\" x=\"83.789062\"/>\n       <use xlink:href=\"#DejaVuSans-35\" x=\"147.412109\"/>\n      </g>\n     </g>\n    </g>\n    <g id=\"xtick_3\">\n     <g id=\"line2d_3\">\n      <g>\n       <use xlink:href=\"#md896cdaa49\" x=\"190.074632\" y=\"387.72\" style=\"fill: #ffffff; stroke: #ffffff; stroke-width: 0.8\"/>\n      </g>\n     </g>\n     <g id=\"text_3\">\n      <!-- −50 -->\n      <g style=\"fill: #ffffff\" transform=\"translate(179.522288 402.318437)scale(0.1 -0.1)\">\n       <use xlink:href=\"#DejaVuSans-2212\"/>\n       <use xlink:href=\"#DejaVuSans-35\" x=\"83.789062\"/>\n       <use xlink:href=\"#DejaVuSans-30\" x=\"147.412109\"/>\n      </g>\n     </g>\n    </g>\n    <g id=\"xtick_4\">\n     <g id=\"line2d_4\">\n      <g>\n       <use xlink:href=\"#md896cdaa49\" x=\"254.777786\" y=\"387.72\" style=\"fill: #ffffff; stroke: #ffffff; stroke-width: 0.8\"/>\n      </g>\n     </g>\n     <g id=\"text_4\">\n      <!-- −25 -->\n      <g style=\"fill: #ffffff\" transform=\"translate(244.225442 402.318437)scale(0.1 -0.1)\">\n       <defs>\n        <path id=\"DejaVuSans-32\" d=\"M 1228 531 \nL 3431 531 \nL 3431 0 \nL 469 0 \nL 469 531 \nQ 828 903 1448 1529 \nQ 2069 2156 2228 2338 \nQ 2531 2678 2651 2914 \nQ 2772 3150 2772 3378 \nQ 2772 3750 2511 3984 \nQ 2250 4219 1831 4219 \nQ 1534 4219 1204 4116 \nQ 875 4013 500 3803 \nL 500 4441 \nQ 881 4594 1212 4672 \nQ 1544 4750 1819 4750 \nQ 2544 4750 2975 4387 \nQ 3406 4025 3406 3419 \nQ 3406 3131 3298 2873 \nQ 3191 2616 2906 2266 \nQ 2828 2175 2409 1742 \nQ 1991 1309 1228 531 \nz\n\" transform=\"scale(0.015625)\"/>\n       </defs>\n       <use xlink:href=\"#DejaVuSans-2212\"/>\n       <use xlink:href=\"#DejaVuSans-32\" x=\"83.789062\"/>\n       <use xlink:href=\"#DejaVuSans-35\" x=\"147.412109\"/>\n      </g>\n     </g>\n    </g>\n    <g id=\"xtick_5\">\n     <g id=\"line2d_5\">\n      <g>\n       <use xlink:href=\"#md896cdaa49\" x=\"319.48094\" y=\"387.72\" style=\"fill: #ffffff; stroke: #ffffff; stroke-width: 0.8\"/>\n      </g>\n     </g>\n     <g id=\"text_5\">\n      <!-- 0 -->\n      <g style=\"fill: #ffffff\" transform=\"translate(316.29969 402.318437)scale(0.1 -0.1)\">\n       <use xlink:href=\"#DejaVuSans-30\"/>\n      </g>\n     </g>\n    </g>\n    <g id=\"xtick_6\">\n     <g id=\"line2d_6\">\n      <g>\n       <use xlink:href=\"#md896cdaa49\" x=\"384.184094\" y=\"387.72\" style=\"fill: #ffffff; stroke: #ffffff; stroke-width: 0.8\"/>\n      </g>\n     </g>\n     <g id=\"text_6\">\n      <!-- 25 -->\n      <g style=\"fill: #ffffff\" transform=\"translate(377.821594 402.318437)scale(0.1 -0.1)\">\n       <use xlink:href=\"#DejaVuSans-32\"/>\n       <use xlink:href=\"#DejaVuSans-35\" x=\"63.623047\"/>\n      </g>\n     </g>\n    </g>\n    <g id=\"xtick_7\">\n     <g id=\"line2d_7\">\n      <g>\n       <use xlink:href=\"#md896cdaa49\" x=\"448.887248\" y=\"387.72\" style=\"fill: #ffffff; stroke: #ffffff; stroke-width: 0.8\"/>\n      </g>\n     </g>\n     <g id=\"text_7\">\n      <!-- 50 -->\n      <g style=\"fill: #ffffff\" transform=\"translate(442.524748 402.318437)scale(0.1 -0.1)\">\n       <use xlink:href=\"#DejaVuSans-35\"/>\n       <use xlink:href=\"#DejaVuSans-30\" x=\"63.623047\"/>\n      </g>\n     </g>\n    </g>\n    <g id=\"xtick_8\">\n     <g id=\"line2d_8\">\n      <g>\n       <use xlink:href=\"#md896cdaa49\" x=\"513.590402\" y=\"387.72\" style=\"fill: #ffffff; stroke: #ffffff; stroke-width: 0.8\"/>\n      </g>\n     </g>\n     <g id=\"text_8\">\n      <!-- 75 -->\n      <g style=\"fill: #ffffff\" transform=\"translate(507.227902 402.318437)scale(0.1 -0.1)\">\n       <use xlink:href=\"#DejaVuSans-37\"/>\n       <use xlink:href=\"#DejaVuSans-35\" x=\"63.623047\"/>\n      </g>\n     </g>\n    </g>\n    <g id=\"xtick_9\">\n     <g id=\"line2d_9\">\n      <g>\n       <use xlink:href=\"#md896cdaa49\" x=\"578.293556\" y=\"387.72\" style=\"fill: #ffffff; stroke: #ffffff; stroke-width: 0.8\"/>\n      </g>\n     </g>\n     <g id=\"text_9\">\n      <!-- 100 -->\n      <g style=\"fill: #ffffff\" transform=\"translate(568.749806 402.318437)scale(0.1 -0.1)\">\n       <use xlink:href=\"#DejaVuSans-31\"/>\n       <use xlink:href=\"#DejaVuSans-30\" x=\"63.623047\"/>\n       <use xlink:href=\"#DejaVuSans-30\" x=\"127.246094\"/>\n      </g>\n     </g>\n    </g>\n   </g>\n   <g id=\"matplotlib.axis_2\">\n    <g id=\"ytick_1\">\n     <g id=\"line2d_10\">\n      <defs>\n       <path id=\"mb285fb64a9\" d=\"M 0 0 \nL -3.5 0 \n\" style=\"stroke: #ffffff; stroke-width: 0.8\"/>\n      </defs>\n      <g>\n       <use xlink:href=\"#mb285fb64a9\" x=\"35.304688\" y=\"343.94961\" style=\"fill: #ffffff; stroke: #ffffff; stroke-width: 0.8\"/>\n      </g>\n     </g>\n     <g id=\"text_10\">\n      <!-- −75 -->\n      <g style=\"fill: #ffffff\" transform=\"translate(7.2 347.748829)scale(0.1 -0.1)\">\n       <use xlink:href=\"#DejaVuSans-2212\"/>\n       <use xlink:href=\"#DejaVuSans-37\" x=\"83.789062\"/>\n       <use xlink:href=\"#DejaVuSans-35\" x=\"147.412109\"/>\n      </g>\n     </g>\n    </g>\n    <g id=\"ytick_2\">\n     <g id=\"line2d_11\">\n      <g>\n       <use xlink:href=\"#mb285fb64a9\" x=\"35.304688\" y=\"299.826234\" style=\"fill: #ffffff; stroke: #ffffff; stroke-width: 0.8\"/>\n      </g>\n     </g>\n     <g id=\"text_11\">\n      <!-- −50 -->\n      <g style=\"fill: #ffffff\" transform=\"translate(7.2 303.625453)scale(0.1 -0.1)\">\n       <use xlink:href=\"#DejaVuSans-2212\"/>\n       <use xlink:href=\"#DejaVuSans-35\" x=\"83.789062\"/>\n       <use xlink:href=\"#DejaVuSans-30\" x=\"147.412109\"/>\n      </g>\n     </g>\n    </g>\n    <g id=\"ytick_3\">\n     <g id=\"line2d_12\">\n      <g>\n       <use xlink:href=\"#mb285fb64a9\" x=\"35.304688\" y=\"255.702857\" style=\"fill: #ffffff; stroke: #ffffff; stroke-width: 0.8\"/>\n      </g>\n     </g>\n     <g id=\"text_12\">\n      <!-- −25 -->\n      <g style=\"fill: #ffffff\" transform=\"translate(7.2 259.502076)scale(0.1 -0.1)\">\n       <use xlink:href=\"#DejaVuSans-2212\"/>\n       <use xlink:href=\"#DejaVuSans-32\" x=\"83.789062\"/>\n       <use xlink:href=\"#DejaVuSans-35\" x=\"147.412109\"/>\n      </g>\n     </g>\n    </g>\n    <g id=\"ytick_4\">\n     <g id=\"line2d_13\">\n      <g>\n       <use xlink:href=\"#mb285fb64a9\" x=\"35.304688\" y=\"211.579481\" style=\"fill: #ffffff; stroke: #ffffff; stroke-width: 0.8\"/>\n      </g>\n     </g>\n     <g id=\"text_13\">\n      <!-- 0 -->\n      <g style=\"fill: #ffffff\" transform=\"translate(21.942187 215.378699)scale(0.1 -0.1)\">\n       <use xlink:href=\"#DejaVuSans-30\"/>\n      </g>\n     </g>\n    </g>\n    <g id=\"ytick_5\">\n     <g id=\"line2d_14\">\n      <g>\n       <use xlink:href=\"#mb285fb64a9\" x=\"35.304688\" y=\"167.456104\" style=\"fill: #ffffff; stroke: #ffffff; stroke-width: 0.8\"/>\n      </g>\n     </g>\n     <g id=\"text_14\">\n      <!-- 25 -->\n      <g style=\"fill: #ffffff\" transform=\"translate(15.579687 171.255323)scale(0.1 -0.1)\">\n       <use xlink:href=\"#DejaVuSans-32\"/>\n       <use xlink:href=\"#DejaVuSans-35\" x=\"63.623047\"/>\n      </g>\n     </g>\n    </g>\n    <g id=\"ytick_6\">\n     <g id=\"line2d_15\">\n      <g>\n       <use xlink:href=\"#mb285fb64a9\" x=\"35.304688\" y=\"123.332727\" style=\"fill: #ffffff; stroke: #ffffff; stroke-width: 0.8\"/>\n      </g>\n     </g>\n     <g id=\"text_15\">\n      <!-- 50 -->\n      <g style=\"fill: #ffffff\" transform=\"translate(15.579687 127.131946)scale(0.1 -0.1)\">\n       <use xlink:href=\"#DejaVuSans-35\"/>\n       <use xlink:href=\"#DejaVuSans-30\" x=\"63.623047\"/>\n      </g>\n     </g>\n    </g>\n    <g id=\"ytick_7\">\n     <g id=\"line2d_16\">\n      <g>\n       <use xlink:href=\"#mb285fb64a9\" x=\"35.304688\" y=\"79.209351\" style=\"fill: #ffffff; stroke: #ffffff; stroke-width: 0.8\"/>\n      </g>\n     </g>\n     <g id=\"text_16\">\n      <!-- 75 -->\n      <g style=\"fill: #ffffff\" transform=\"translate(15.579687 83.008569)scale(0.1 -0.1)\">\n       <use xlink:href=\"#DejaVuSans-37\"/>\n       <use xlink:href=\"#DejaVuSans-35\" x=\"63.623047\"/>\n      </g>\n     </g>\n    </g>\n    <g id=\"ytick_8\">\n     <g id=\"line2d_17\">\n      <g>\n       <use xlink:href=\"#mb285fb64a9\" x=\"35.304688\" y=\"35.085974\" style=\"fill: #ffffff; stroke: #ffffff; stroke-width: 0.8\"/>\n      </g>\n     </g>\n     <g id=\"text_17\">\n      <!-- 100 -->\n      <g style=\"fill: #ffffff\" transform=\"translate(9.217187 38.885193)scale(0.1 -0.1)\">\n       <use xlink:href=\"#DejaVuSans-31\"/>\n       <use xlink:href=\"#DejaVuSans-30\" x=\"63.623047\"/>\n       <use xlink:href=\"#DejaVuSans-30\" x=\"127.246094\"/>\n      </g>\n     </g>\n    </g>\n   </g>\n   <g id=\"patch_3\">\n    <path d=\"M 35.304688 387.72 \nL 35.304688 7.2 \n\" style=\"fill: none; stroke: #ffffff; stroke-width: 0.8; stroke-linejoin: miter; stroke-linecap: square\"/>\n   </g>\n   <g id=\"patch_4\">\n    <path d=\"M 593.304688 387.72 \nL 593.304688 7.2 \n\" style=\"fill: none; stroke: #ffffff; stroke-width: 0.8; stroke-linejoin: miter; stroke-linecap: square\"/>\n   </g>\n   <g id=\"patch_5\">\n    <path d=\"M 35.304688 387.72 \nL 593.304688 387.72 \n\" style=\"fill: none; stroke: #ffffff; stroke-width: 0.8; stroke-linejoin: miter; stroke-linecap: square\"/>\n   </g>\n   <g id=\"patch_6\">\n    <path d=\"M 35.304688 7.2 \nL 593.304688 7.2 \n\" style=\"fill: none; stroke: #ffffff; stroke-width: 0.8; stroke-linejoin: miter; stroke-linecap: square\"/>\n   </g>\n   <g id=\"legend_1\">\n    <g id=\"patch_7\">\n     <path d=\"M 42.304688 59.234375 \nL 139.459375 59.234375 \nQ 141.459375 59.234375 141.459375 57.234375 \nL 141.459375 14.2 \nQ 141.459375 12.2 139.459375 12.2 \nL 42.304688 12.2 \nQ 40.304688 12.2 40.304688 14.2 \nL 40.304688 57.234375 \nQ 40.304688 59.234375 42.304688 59.234375 \nz\n\" style=\"opacity: 0.8; stroke: #cccccc; stroke-linejoin: miter\"/>\n    </g>\n    <g id=\"PathCollection_4\">\n     <g>\n      <use xlink:href=\"#m2688c0be76\" x=\"54.304688\" y=\"21.173437\" style=\"fill: #0000ff; stroke: #0000ff\"/>\n     </g>\n    </g>\n    <g id=\"text_18\">\n     <!-- Training data -->\n     <g style=\"fill: #ffffff\" transform=\"translate(72.304688 23.798437)scale(0.1 -0.1)\">\n      <defs>\n       <path id=\"DejaVuSans-54\" d=\"M -19 4666 \nL 3928 4666 \nL 3928 4134 \nL 2272 4134 \nL 2272 0 \nL 1638 0 \nL 1638 4134 \nL -19 4134 \nL -19 4666 \nz\n\" transform=\"scale(0.015625)\"/>\n       <path id=\"DejaVuSans-72\" d=\"M 2631 2963 \nQ 2534 3019 2420 3045 \nQ 2306 3072 2169 3072 \nQ 1681 3072 1420 2755 \nQ 1159 2438 1159 1844 \nL 1159 0 \nL 581 0 \nL 581 3500 \nL 1159 3500 \nL 1159 2956 \nQ 1341 3275 1631 3429 \nQ 1922 3584 2338 3584 \nQ 2397 3584 2469 3576 \nQ 2541 3569 2628 3553 \nL 2631 2963 \nz\n\" transform=\"scale(0.015625)\"/>\n       <path id=\"DejaVuSans-61\" d=\"M 2194 1759 \nQ 1497 1759 1228 1600 \nQ 959 1441 959 1056 \nQ 959 750 1161 570 \nQ 1363 391 1709 391 \nQ 2188 391 2477 730 \nQ 2766 1069 2766 1631 \nL 2766 1759 \nL 2194 1759 \nz\nM 3341 1997 \nL 3341 0 \nL 2766 0 \nL 2766 531 \nQ 2569 213 2275 61 \nQ 1981 -91 1556 -91 \nQ 1019 -91 701 211 \nQ 384 513 384 1019 \nQ 384 1609 779 1909 \nQ 1175 2209 1959 2209 \nL 2766 2209 \nL 2766 2266 \nQ 2766 2663 2505 2880 \nQ 2244 3097 1772 3097 \nQ 1472 3097 1187 3025 \nQ 903 2953 641 2809 \nL 641 3341 \nQ 956 3463 1253 3523 \nQ 1550 3584 1831 3584 \nQ 2591 3584 2966 3190 \nQ 3341 2797 3341 1997 \nz\n\" transform=\"scale(0.015625)\"/>\n       <path id=\"DejaVuSans-69\" d=\"M 603 3500 \nL 1178 3500 \nL 1178 0 \nL 603 0 \nL 603 3500 \nz\nM 603 4863 \nL 1178 4863 \nL 1178 4134 \nL 603 4134 \nL 603 4863 \nz\n\" transform=\"scale(0.015625)\"/>\n       <path id=\"DejaVuSans-6e\" d=\"M 3513 2113 \nL 3513 0 \nL 2938 0 \nL 2938 2094 \nQ 2938 2591 2744 2837 \nQ 2550 3084 2163 3084 \nQ 1697 3084 1428 2787 \nQ 1159 2491 1159 1978 \nL 1159 0 \nL 581 0 \nL 581 3500 \nL 1159 3500 \nL 1159 2956 \nQ 1366 3272 1645 3428 \nQ 1925 3584 2291 3584 \nQ 2894 3584 3203 3211 \nQ 3513 2838 3513 2113 \nz\n\" transform=\"scale(0.015625)\"/>\n       <path id=\"DejaVuSans-67\" d=\"M 2906 1791 \nQ 2906 2416 2648 2759 \nQ 2391 3103 1925 3103 \nQ 1463 3103 1205 2759 \nQ 947 2416 947 1791 \nQ 947 1169 1205 825 \nQ 1463 481 1925 481 \nQ 2391 481 2648 825 \nQ 2906 1169 2906 1791 \nz\nM 3481 434 \nQ 3481 -459 3084 -895 \nQ 2688 -1331 1869 -1331 \nQ 1566 -1331 1297 -1286 \nQ 1028 -1241 775 -1147 \nL 775 -588 \nQ 1028 -725 1275 -790 \nQ 1522 -856 1778 -856 \nQ 2344 -856 2625 -561 \nQ 2906 -266 2906 331 \nL 2906 616 \nQ 2728 306 2450 153 \nQ 2172 0 1784 0 \nQ 1141 0 747 490 \nQ 353 981 353 1791 \nQ 353 2603 747 3093 \nQ 1141 3584 1784 3584 \nQ 2172 3584 2450 3431 \nQ 2728 3278 2906 2969 \nL 2906 3500 \nL 3481 3500 \nL 3481 434 \nz\n\" transform=\"scale(0.015625)\"/>\n       <path id=\"DejaVuSans-20\" transform=\"scale(0.015625)\"/>\n       <path id=\"DejaVuSans-64\" d=\"M 2906 2969 \nL 2906 4863 \nL 3481 4863 \nL 3481 0 \nL 2906 0 \nL 2906 525 \nQ 2725 213 2448 61 \nQ 2172 -91 1784 -91 \nQ 1150 -91 751 415 \nQ 353 922 353 1747 \nQ 353 2572 751 3078 \nQ 1150 3584 1784 3584 \nQ 2172 3584 2448 3432 \nQ 2725 3281 2906 2969 \nz\nM 947 1747 \nQ 947 1113 1208 752 \nQ 1469 391 1925 391 \nQ 2381 391 2643 752 \nQ 2906 1113 2906 1747 \nQ 2906 2381 2643 2742 \nQ 2381 3103 1925 3103 \nQ 1469 3103 1208 2742 \nQ 947 2381 947 1747 \nz\n\" transform=\"scale(0.015625)\"/>\n       <path id=\"DejaVuSans-74\" d=\"M 1172 4494 \nL 1172 3500 \nL 2356 3500 \nL 2356 3053 \nL 1172 3053 \nL 1172 1153 \nQ 1172 725 1289 603 \nQ 1406 481 1766 481 \nL 2356 481 \nL 2356 0 \nL 1766 0 \nQ 1100 0 847 248 \nQ 594 497 594 1153 \nL 594 3053 \nL 172 3053 \nL 172 3500 \nL 594 3500 \nL 594 4494 \nL 1172 4494 \nz\n\" transform=\"scale(0.015625)\"/>\n      </defs>\n      <use xlink:href=\"#DejaVuSans-54\"/>\n      <use xlink:href=\"#DejaVuSans-72\" x=\"46.333984\"/>\n      <use xlink:href=\"#DejaVuSans-61\" x=\"87.447266\"/>\n      <use xlink:href=\"#DejaVuSans-69\" x=\"148.726562\"/>\n      <use xlink:href=\"#DejaVuSans-6e\" x=\"176.509766\"/>\n      <use xlink:href=\"#DejaVuSans-69\" x=\"239.888672\"/>\n      <use xlink:href=\"#DejaVuSans-6e\" x=\"267.671875\"/>\n      <use xlink:href=\"#DejaVuSans-67\" x=\"331.050781\"/>\n      <use xlink:href=\"#DejaVuSans-20\" x=\"394.527344\"/>\n      <use xlink:href=\"#DejaVuSans-64\" x=\"426.314453\"/>\n      <use xlink:href=\"#DejaVuSans-61\" x=\"489.791016\"/>\n      <use xlink:href=\"#DejaVuSans-74\" x=\"551.070312\"/>\n      <use xlink:href=\"#DejaVuSans-61\" x=\"590.279297\"/>\n     </g>\n    </g>\n    <g id=\"PathCollection_5\">\n     <g>\n      <use xlink:href=\"#mc63309a01b\" x=\"54.304688\" y=\"35.851562\" style=\"fill: #008000; stroke: #008000\"/>\n     </g>\n    </g>\n    <g id=\"text_19\">\n     <!-- Test data -->\n     <g style=\"fill: #ffffff\" transform=\"translate(72.304688 38.476562)scale(0.1 -0.1)\">\n      <defs>\n       <path id=\"DejaVuSans-65\" d=\"M 3597 1894 \nL 3597 1613 \nL 953 1613 \nQ 991 1019 1311 708 \nQ 1631 397 2203 397 \nQ 2534 397 2845 478 \nQ 3156 559 3463 722 \nL 3463 178 \nQ 3153 47 2828 -22 \nQ 2503 -91 2169 -91 \nQ 1331 -91 842 396 \nQ 353 884 353 1716 \nQ 353 2575 817 3079 \nQ 1281 3584 2069 3584 \nQ 2775 3584 3186 3129 \nQ 3597 2675 3597 1894 \nz\nM 3022 2063 \nQ 3016 2534 2758 2815 \nQ 2500 3097 2075 3097 \nQ 1594 3097 1305 2825 \nQ 1016 2553 972 2059 \nL 3022 2063 \nz\n\" transform=\"scale(0.015625)\"/>\n       <path id=\"DejaVuSans-73\" d=\"M 2834 3397 \nL 2834 2853 \nQ 2591 2978 2328 3040 \nQ 2066 3103 1784 3103 \nQ 1356 3103 1142 2972 \nQ 928 2841 928 2578 \nQ 928 2378 1081 2264 \nQ 1234 2150 1697 2047 \nL 1894 2003 \nQ 2506 1872 2764 1633 \nQ 3022 1394 3022 966 \nQ 3022 478 2636 193 \nQ 2250 -91 1575 -91 \nQ 1294 -91 989 -36 \nQ 684 19 347 128 \nL 347 722 \nQ 666 556 975 473 \nQ 1284 391 1588 391 \nQ 1994 391 2212 530 \nQ 2431 669 2431 922 \nQ 2431 1156 2273 1281 \nQ 2116 1406 1581 1522 \nL 1381 1569 \nQ 847 1681 609 1914 \nQ 372 2147 372 2553 \nQ 372 3047 722 3315 \nQ 1072 3584 1716 3584 \nQ 2034 3584 2315 3537 \nQ 2597 3491 2834 3397 \nz\n\" transform=\"scale(0.015625)\"/>\n      </defs>\n      <use xlink:href=\"#DejaVuSans-54\"/>\n      <use xlink:href=\"#DejaVuSans-65\" x=\"44.083984\"/>\n      <use xlink:href=\"#DejaVuSans-73\" x=\"105.607422\"/>\n      <use xlink:href=\"#DejaVuSans-74\" x=\"157.707031\"/>\n      <use xlink:href=\"#DejaVuSans-20\" x=\"196.916016\"/>\n      <use xlink:href=\"#DejaVuSans-64\" x=\"228.703125\"/>\n      <use xlink:href=\"#DejaVuSans-61\" x=\"292.179688\"/>\n      <use xlink:href=\"#DejaVuSans-74\" x=\"353.458984\"/>\n      <use xlink:href=\"#DejaVuSans-61\" x=\"392.667969\"/>\n     </g>\n    </g>\n    <g id=\"PathCollection_6\">\n     <g>\n      <use xlink:href=\"#mc716ff2a26\" x=\"54.304688\" y=\"50.529687\" style=\"fill: #ff0000; stroke: #ff0000\"/>\n     </g>\n    </g>\n    <g id=\"text_20\">\n     <!-- Predictions -->\n     <g style=\"fill: #ffffff\" transform=\"translate(72.304688 53.154687)scale(0.1 -0.1)\">\n      <defs>\n       <path id=\"DejaVuSans-50\" d=\"M 1259 4147 \nL 1259 2394 \nL 2053 2394 \nQ 2494 2394 2734 2622 \nQ 2975 2850 2975 3272 \nQ 2975 3691 2734 3919 \nQ 2494 4147 2053 4147 \nL 1259 4147 \nz\nM 628 4666 \nL 2053 4666 \nQ 2838 4666 3239 4311 \nQ 3641 3956 3641 3272 \nQ 3641 2581 3239 2228 \nQ 2838 1875 2053 1875 \nL 1259 1875 \nL 1259 0 \nL 628 0 \nL 628 4666 \nz\n\" transform=\"scale(0.015625)\"/>\n       <path id=\"DejaVuSans-63\" d=\"M 3122 3366 \nL 3122 2828 \nQ 2878 2963 2633 3030 \nQ 2388 3097 2138 3097 \nQ 1578 3097 1268 2742 \nQ 959 2388 959 1747 \nQ 959 1106 1268 751 \nQ 1578 397 2138 397 \nQ 2388 397 2633 464 \nQ 2878 531 3122 666 \nL 3122 134 \nQ 2881 22 2623 -34 \nQ 2366 -91 2075 -91 \nQ 1284 -91 818 406 \nQ 353 903 353 1747 \nQ 353 2603 823 3093 \nQ 1294 3584 2113 3584 \nQ 2378 3584 2631 3529 \nQ 2884 3475 3122 3366 \nz\n\" transform=\"scale(0.015625)\"/>\n       <path id=\"DejaVuSans-6f\" d=\"M 1959 3097 \nQ 1497 3097 1228 2736 \nQ 959 2375 959 1747 \nQ 959 1119 1226 758 \nQ 1494 397 1959 397 \nQ 2419 397 2687 759 \nQ 2956 1122 2956 1747 \nQ 2956 2369 2687 2733 \nQ 2419 3097 1959 3097 \nz\nM 1959 3584 \nQ 2709 3584 3137 3096 \nQ 3566 2609 3566 1747 \nQ 3566 888 3137 398 \nQ 2709 -91 1959 -91 \nQ 1206 -91 779 398 \nQ 353 888 353 1747 \nQ 353 2609 779 3096 \nQ 1206 3584 1959 3584 \nz\n\" transform=\"scale(0.015625)\"/>\n      </defs>\n      <use xlink:href=\"#DejaVuSans-50\"/>\n      <use xlink:href=\"#DejaVuSans-72\" x=\"58.552734\"/>\n      <use xlink:href=\"#DejaVuSans-65\" x=\"97.416016\"/>\n      <use xlink:href=\"#DejaVuSans-64\" x=\"158.939453\"/>\n      <use xlink:href=\"#DejaVuSans-69\" x=\"222.416016\"/>\n      <use xlink:href=\"#DejaVuSans-63\" x=\"250.199219\"/>\n      <use xlink:href=\"#DejaVuSans-74\" x=\"305.179688\"/>\n      <use xlink:href=\"#DejaVuSans-69\" x=\"344.388672\"/>\n      <use xlink:href=\"#DejaVuSans-6f\" x=\"372.171875\"/>\n      <use xlink:href=\"#DejaVuSans-6e\" x=\"433.353516\"/>\n      <use xlink:href=\"#DejaVuSans-73\" x=\"496.732422\"/>\n     </g>\n    </g>\n   </g>\n  </g>\n </g>\n <defs>\n  <clipPath id=\"p2e601bcb8f\">\n   <rect x=\"35.304688\" y=\"7.2\" width=\"558\" height=\"380.52\"/>\n  </clipPath>\n </defs>\n</svg>\n",
      "text/plain": [
       "<Figure size 720x504 with 1 Axes>"
      ]
     },
     "metadata": {},
     "output_type": "display_data"
    }
   ],
   "source": [
    "# Make and plot predictions\n",
    "y_pred_3 = model_3.predict(X_test)\n",
    "plot_predictions(predictions=y_pred_3)"
   ]
  },
  {
   "cell_type": "code",
   "execution_count": 47,
   "metadata": {},
   "outputs": [
    {
     "data": {
      "text/plain": [
       "(<tf.Tensor: shape=(), dtype=float32, numpy=68.68787>,\n",
       " <tf.Tensor: shape=(), dtype=float32, numpy=4804.4727>)"
      ]
     },
     "execution_count": 47,
     "metadata": {},
     "output_type": "execute_result"
    }
   ],
   "source": [
    "# Calculate model_3 evaluation metrics\n",
    "mae_3 = mae(y_test, y_pred_3)\n",
    "mse_3 = mse(y_test, y_pred_3)\n",
    "mae_3, mse_3"
   ]
  },
  {
   "cell_type": "markdown",
   "metadata": {},
   "source": [
    ">🔑 **Note:** You want to start with small experiments (small models) and make sure they work and then increase their scale when necessary."
   ]
  },
  {
   "cell_type": "markdown",
   "metadata": {},
   "source": [
    "### Comparing the results of our experiments\n",
    "\n",
    "We've run a few experiments, let's compare the results"
   ]
  },
  {
   "cell_type": "code",
   "execution_count": 48,
   "metadata": {},
   "outputs": [
    {
     "data": {
      "text/html": [
       "<div>\n",
       "<style scoped>\n",
       "    .dataframe tbody tr th:only-of-type {\n",
       "        vertical-align: middle;\n",
       "    }\n",
       "\n",
       "    .dataframe tbody tr th {\n",
       "        vertical-align: top;\n",
       "    }\n",
       "\n",
       "    .dataframe thead th {\n",
       "        text-align: right;\n",
       "    }\n",
       "</style>\n",
       "<table border=\"1\" class=\"dataframe\">\n",
       "  <thead>\n",
       "    <tr style=\"text-align: right;\">\n",
       "      <th></th>\n",
       "      <th>model</th>\n",
       "      <th>mae</th>\n",
       "      <th>mse</th>\n",
       "    </tr>\n",
       "  </thead>\n",
       "  <tbody>\n",
       "    <tr>\n",
       "      <th>0</th>\n",
       "      <td>model_1</td>\n",
       "      <td>18.745327</td>\n",
       "      <td>353.573395</td>\n",
       "    </tr>\n",
       "    <tr>\n",
       "      <th>1</th>\n",
       "      <td>model_2</td>\n",
       "      <td>1.909804</td>\n",
       "      <td>5.459189</td>\n",
       "    </tr>\n",
       "    <tr>\n",
       "      <th>2</th>\n",
       "      <td>model_3</td>\n",
       "      <td>68.687866</td>\n",
       "      <td>4804.472656</td>\n",
       "    </tr>\n",
       "  </tbody>\n",
       "</table>\n",
       "</div>"
      ],
      "text/plain": [
       "     model        mae          mse\n",
       "0  model_1  18.745327   353.573395\n",
       "1  model_2   1.909804     5.459189\n",
       "2  model_3  68.687866  4804.472656"
      ]
     },
     "execution_count": 48,
     "metadata": {},
     "output_type": "execute_result"
    }
   ],
   "source": [
    "# Let's compare our model's results using a pandas DataFrame\n",
    "import pandas as pd\n",
    "\n",
    "model_results = [[\"model_1\", mae_1.numpy(), mse_1.numpy()],\n",
    "                 [\"model_2\", mae_2.numpy(), mse_2.numpy()],\n",
    "                 [\"model_3\", mae_3.numpy(), mse_3.numpy()]]\n",
    "all_results = pd.DataFrame(model_results, columns=[\"model\", \"mae\", \"mse\"])\n",
    "all_results"
   ]
  },
  {
   "cell_type": "markdown",
   "metadata": {},
   "source": [
    "Looks like model_2 performed the best"
   ]
  },
  {
   "cell_type": "code",
   "execution_count": 49,
   "metadata": {},
   "outputs": [
    {
     "name": "stdout",
     "output_type": "stream",
     "text": [
      "Model: \"sequential_5\"\n",
      "_________________________________________________________________\n",
      "Layer (type)                 Output Shape              Param #   \n",
      "=================================================================\n",
      "dense_6 (Dense)              (None, 1)                 2         \n",
      "_________________________________________________________________\n",
      "dense_7 (Dense)              (None, 1)                 2         \n",
      "=================================================================\n",
      "Total params: 4\n",
      "Trainable params: 4\n",
      "Non-trainable params: 0\n",
      "_________________________________________________________________\n"
     ]
    }
   ],
   "source": [
    "model_2.summary()"
   ]
  },
  {
   "cell_type": "markdown",
   "metadata": {},
   "source": [
    "> 🔑 **Note:** One of my main goals should be to minimize the time between my experiments. The  more experiments i do, the more things i'll figure out which don't work an in turn, get closer to figuring out what does work. Remember the machine learning practioner's mott: \"experiment, experiment, experiment\"."
   ]
  },
  {
   "cell_type": "markdown",
   "metadata": {},
   "source": [
    "## Tracking your experiments\n",
    "\n",
    "One really good habit in machine learning modelling is to track the results of my experiments.\n",
    "\n",
    "And when doing so, it can be tedious if i'm running lots of experiments.\n",
    "\n",
    "Luckily, there are tools to help us!\n",
    "\n",
    ">📖 **Ressource:** As i build more models, i'll want to look into using:\n",
    "* TensorBoard - a component of the TensorFlow library to help track modelling experiments (i'll see this one later).\n",
    "* Weights & Biases - a tool for tracking all of kinds of machine learning experiments (plugs straight into TensorBoard)\n"
   ]
  },
  {
   "cell_type": "markdown",
   "metadata": {},
   "source": [
    "## Saving our models\n",
    "\n",
    "Saving our models allows us to use them outside of VS Code (or wherever they were trained) such as in a web application or a mobile app.\n",
    "\n",
    "There are to main formats we can save our models too:\n",
    "1. The SavedModel format\n",
    "2. The HDF5 format"
   ]
  },
  {
   "cell_type": "code",
   "execution_count": 50,
   "metadata": {},
   "outputs": [
    {
     "name": "stdout",
     "output_type": "stream",
     "text": [
      "INFO:tensorflow:Assets written to: best_model_SavedModel_format\\assets\n"
     ]
    }
   ],
   "source": [
    "# Save model using the SavedModel format\n",
    "model_2.save(\"best_model_SavedModel_format\")"
   ]
  },
  {
   "cell_type": "code",
   "execution_count": 51,
   "metadata": {},
   "outputs": [],
   "source": [
    "# Save model using the HDF5 format\n",
    "# from keras.models import load_model\n",
    "# model_2.save(\"best_model_HDF5_format.h5\")\n",
    "## TODO: #2 #1 Try with save method from other udemy course"
   ]
  },
  {
   "cell_type": "markdown",
   "metadata": {},
   "source": [
    "## Loading in a saved model"
   ]
  },
  {
   "cell_type": "code",
   "execution_count": 52,
   "metadata": {},
   "outputs": [
    {
     "name": "stdout",
     "output_type": "stream",
     "text": [
      "Model: \"sequential_5\"\n",
      "_________________________________________________________________\n",
      "Layer (type)                 Output Shape              Param #   \n",
      "=================================================================\n",
      "dense_6 (Dense)              (None, 1)                 2         \n",
      "_________________________________________________________________\n",
      "dense_7 (Dense)              (None, 1)                 2         \n",
      "=================================================================\n",
      "Total params: 4\n",
      "Trainable params: 4\n",
      "Non-trainable params: 0\n",
      "_________________________________________________________________\n"
     ]
    }
   ],
   "source": [
    "# Load in the SavedModel format model\n",
    "loaded_SavedModel_format = tf.keras.models.load_model(\"best_model_SavedModel_format\")\n",
    "loaded_SavedModel_format.summary()"
   ]
  },
  {
   "cell_type": "code",
   "execution_count": null,
   "metadata": {},
   "outputs": [],
   "source": []
  },
  {
   "cell_type": "code",
   "execution_count": 53,
   "metadata": {},
   "outputs": [
    {
     "data": {
      "text/plain": [
       "(array([[ 69.46719 ],\n",
       "        [ 73.98569 ],\n",
       "        [ 78.504166],\n",
       "        [ 83.02265 ],\n",
       "        [ 87.54114 ],\n",
       "        [ 92.05962 ],\n",
       "        [ 96.57811 ],\n",
       "        [101.09659 ],\n",
       "        [105.61508 ],\n",
       "        [110.13356 ]], dtype=float32),\n",
       " array([[ 69.46719 ],\n",
       "        [ 73.98569 ],\n",
       "        [ 78.504166],\n",
       "        [ 83.02265 ],\n",
       "        [ 87.54114 ],\n",
       "        [ 92.05962 ],\n",
       "        [ 96.57811 ],\n",
       "        [101.09659 ],\n",
       "        [105.61508 ],\n",
       "        [110.13356 ]], dtype=float32),\n",
       " array([[ True],\n",
       "        [ True],\n",
       "        [ True],\n",
       "        [ True],\n",
       "        [ True],\n",
       "        [ True],\n",
       "        [ True],\n",
       "        [ True],\n",
       "        [ True],\n",
       "        [ True]]))"
      ]
     },
     "execution_count": 53,
     "metadata": {},
     "output_type": "execute_result"
    }
   ],
   "source": [
    "# Compare model_2 predictions with SavedModel format model predictions\n",
    "model_2_preds = model_2.predict(X_test)\n",
    "loaded_SavedModel_format_preds = loaded_SavedModel_format.predict(X_test)\n",
    "model_2_preds, loaded_SavedModel_format_preds, model_2_preds == loaded_SavedModel_format_preds"
   ]
  },
  {
   "cell_type": "markdown",
   "metadata": {},
   "source": [
    "### A larger example"
   ]
  },
  {
   "cell_type": "code",
   "execution_count": 54,
   "metadata": {},
   "outputs": [],
   "source": [
    "# Import required libraries\n",
    "import tensorflow as tf\n",
    "import pandas as pd\n",
    "import matplotlib.pyplot as plt"
   ]
  },
  {
   "cell_type": "code",
   "execution_count": 55,
   "metadata": {},
   "outputs": [
    {
     "data": {
      "text/html": [
       "<div>\n",
       "<style scoped>\n",
       "    .dataframe tbody tr th:only-of-type {\n",
       "        vertical-align: middle;\n",
       "    }\n",
       "\n",
       "    .dataframe tbody tr th {\n",
       "        vertical-align: top;\n",
       "    }\n",
       "\n",
       "    .dataframe thead th {\n",
       "        text-align: right;\n",
       "    }\n",
       "</style>\n",
       "<table border=\"1\" class=\"dataframe\">\n",
       "  <thead>\n",
       "    <tr style=\"text-align: right;\">\n",
       "      <th></th>\n",
       "      <th>age</th>\n",
       "      <th>sex</th>\n",
       "      <th>bmi</th>\n",
       "      <th>children</th>\n",
       "      <th>smoker</th>\n",
       "      <th>region</th>\n",
       "      <th>charges</th>\n",
       "    </tr>\n",
       "  </thead>\n",
       "  <tbody>\n",
       "    <tr>\n",
       "      <th>0</th>\n",
       "      <td>19</td>\n",
       "      <td>female</td>\n",
       "      <td>27.900</td>\n",
       "      <td>0</td>\n",
       "      <td>yes</td>\n",
       "      <td>southwest</td>\n",
       "      <td>16884.92400</td>\n",
       "    </tr>\n",
       "    <tr>\n",
       "      <th>1</th>\n",
       "      <td>18</td>\n",
       "      <td>male</td>\n",
       "      <td>33.770</td>\n",
       "      <td>1</td>\n",
       "      <td>no</td>\n",
       "      <td>southeast</td>\n",
       "      <td>1725.55230</td>\n",
       "    </tr>\n",
       "    <tr>\n",
       "      <th>2</th>\n",
       "      <td>28</td>\n",
       "      <td>male</td>\n",
       "      <td>33.000</td>\n",
       "      <td>3</td>\n",
       "      <td>no</td>\n",
       "      <td>southeast</td>\n",
       "      <td>4449.46200</td>\n",
       "    </tr>\n",
       "    <tr>\n",
       "      <th>3</th>\n",
       "      <td>33</td>\n",
       "      <td>male</td>\n",
       "      <td>22.705</td>\n",
       "      <td>0</td>\n",
       "      <td>no</td>\n",
       "      <td>northwest</td>\n",
       "      <td>21984.47061</td>\n",
       "    </tr>\n",
       "    <tr>\n",
       "      <th>4</th>\n",
       "      <td>32</td>\n",
       "      <td>male</td>\n",
       "      <td>28.880</td>\n",
       "      <td>0</td>\n",
       "      <td>no</td>\n",
       "      <td>northwest</td>\n",
       "      <td>3866.85520</td>\n",
       "    </tr>\n",
       "    <tr>\n",
       "      <th>...</th>\n",
       "      <td>...</td>\n",
       "      <td>...</td>\n",
       "      <td>...</td>\n",
       "      <td>...</td>\n",
       "      <td>...</td>\n",
       "      <td>...</td>\n",
       "      <td>...</td>\n",
       "    </tr>\n",
       "    <tr>\n",
       "      <th>1333</th>\n",
       "      <td>50</td>\n",
       "      <td>male</td>\n",
       "      <td>30.970</td>\n",
       "      <td>3</td>\n",
       "      <td>no</td>\n",
       "      <td>northwest</td>\n",
       "      <td>10600.54830</td>\n",
       "    </tr>\n",
       "    <tr>\n",
       "      <th>1334</th>\n",
       "      <td>18</td>\n",
       "      <td>female</td>\n",
       "      <td>31.920</td>\n",
       "      <td>0</td>\n",
       "      <td>no</td>\n",
       "      <td>northeast</td>\n",
       "      <td>2205.98080</td>\n",
       "    </tr>\n",
       "    <tr>\n",
       "      <th>1335</th>\n",
       "      <td>18</td>\n",
       "      <td>female</td>\n",
       "      <td>36.850</td>\n",
       "      <td>0</td>\n",
       "      <td>no</td>\n",
       "      <td>southeast</td>\n",
       "      <td>1629.83350</td>\n",
       "    </tr>\n",
       "    <tr>\n",
       "      <th>1336</th>\n",
       "      <td>21</td>\n",
       "      <td>female</td>\n",
       "      <td>25.800</td>\n",
       "      <td>0</td>\n",
       "      <td>no</td>\n",
       "      <td>southwest</td>\n",
       "      <td>2007.94500</td>\n",
       "    </tr>\n",
       "    <tr>\n",
       "      <th>1337</th>\n",
       "      <td>61</td>\n",
       "      <td>female</td>\n",
       "      <td>29.070</td>\n",
       "      <td>0</td>\n",
       "      <td>yes</td>\n",
       "      <td>northwest</td>\n",
       "      <td>29141.36030</td>\n",
       "    </tr>\n",
       "  </tbody>\n",
       "</table>\n",
       "<p>1338 rows × 7 columns</p>\n",
       "</div>"
      ],
      "text/plain": [
       "      age     sex     bmi  children smoker     region      charges\n",
       "0      19  female  27.900         0    yes  southwest  16884.92400\n",
       "1      18    male  33.770         1     no  southeast   1725.55230\n",
       "2      28    male  33.000         3     no  southeast   4449.46200\n",
       "3      33    male  22.705         0     no  northwest  21984.47061\n",
       "4      32    male  28.880         0     no  northwest   3866.85520\n",
       "...   ...     ...     ...       ...    ...        ...          ...\n",
       "1333   50    male  30.970         3     no  northwest  10600.54830\n",
       "1334   18  female  31.920         0     no  northeast   2205.98080\n",
       "1335   18  female  36.850         0     no  southeast   1629.83350\n",
       "1336   21  female  25.800         0     no  southwest   2007.94500\n",
       "1337   61  female  29.070         0    yes  northwest  29141.36030\n",
       "\n",
       "[1338 rows x 7 columns]"
      ]
     },
     "execution_count": 55,
     "metadata": {},
     "output_type": "execute_result"
    }
   ],
   "source": [
    "# Read in the insurance dataset\n",
    "insurance = pd.read_csv(\"https://raw.githubusercontent.com/stedy/Machine-Learning-with-R-datasets/master/insurance.csv\")\n",
    "insurance"
   ]
  },
  {
   "cell_type": "code",
   "execution_count": 56,
   "metadata": {},
   "outputs": [
    {
     "data": {
      "text/html": [
       "<div>\n",
       "<style scoped>\n",
       "    .dataframe tbody tr th:only-of-type {\n",
       "        vertical-align: middle;\n",
       "    }\n",
       "\n",
       "    .dataframe tbody tr th {\n",
       "        vertical-align: top;\n",
       "    }\n",
       "\n",
       "    .dataframe thead th {\n",
       "        text-align: right;\n",
       "    }\n",
       "</style>\n",
       "<table border=\"1\" class=\"dataframe\">\n",
       "  <thead>\n",
       "    <tr style=\"text-align: right;\">\n",
       "      <th></th>\n",
       "      <th>age</th>\n",
       "      <th>bmi</th>\n",
       "      <th>children</th>\n",
       "      <th>charges</th>\n",
       "      <th>sex_female</th>\n",
       "      <th>sex_male</th>\n",
       "      <th>smoker_no</th>\n",
       "      <th>smoker_yes</th>\n",
       "      <th>region_northeast</th>\n",
       "      <th>region_northwest</th>\n",
       "      <th>region_southeast</th>\n",
       "      <th>region_southwest</th>\n",
       "    </tr>\n",
       "  </thead>\n",
       "  <tbody>\n",
       "    <tr>\n",
       "      <th>0</th>\n",
       "      <td>19</td>\n",
       "      <td>27.900</td>\n",
       "      <td>0</td>\n",
       "      <td>16884.92400</td>\n",
       "      <td>1</td>\n",
       "      <td>0</td>\n",
       "      <td>0</td>\n",
       "      <td>1</td>\n",
       "      <td>0</td>\n",
       "      <td>0</td>\n",
       "      <td>0</td>\n",
       "      <td>1</td>\n",
       "    </tr>\n",
       "    <tr>\n",
       "      <th>1</th>\n",
       "      <td>18</td>\n",
       "      <td>33.770</td>\n",
       "      <td>1</td>\n",
       "      <td>1725.55230</td>\n",
       "      <td>0</td>\n",
       "      <td>1</td>\n",
       "      <td>1</td>\n",
       "      <td>0</td>\n",
       "      <td>0</td>\n",
       "      <td>0</td>\n",
       "      <td>1</td>\n",
       "      <td>0</td>\n",
       "    </tr>\n",
       "    <tr>\n",
       "      <th>2</th>\n",
       "      <td>28</td>\n",
       "      <td>33.000</td>\n",
       "      <td>3</td>\n",
       "      <td>4449.46200</td>\n",
       "      <td>0</td>\n",
       "      <td>1</td>\n",
       "      <td>1</td>\n",
       "      <td>0</td>\n",
       "      <td>0</td>\n",
       "      <td>0</td>\n",
       "      <td>1</td>\n",
       "      <td>0</td>\n",
       "    </tr>\n",
       "    <tr>\n",
       "      <th>3</th>\n",
       "      <td>33</td>\n",
       "      <td>22.705</td>\n",
       "      <td>0</td>\n",
       "      <td>21984.47061</td>\n",
       "      <td>0</td>\n",
       "      <td>1</td>\n",
       "      <td>1</td>\n",
       "      <td>0</td>\n",
       "      <td>0</td>\n",
       "      <td>1</td>\n",
       "      <td>0</td>\n",
       "      <td>0</td>\n",
       "    </tr>\n",
       "    <tr>\n",
       "      <th>4</th>\n",
       "      <td>32</td>\n",
       "      <td>28.880</td>\n",
       "      <td>0</td>\n",
       "      <td>3866.85520</td>\n",
       "      <td>0</td>\n",
       "      <td>1</td>\n",
       "      <td>1</td>\n",
       "      <td>0</td>\n",
       "      <td>0</td>\n",
       "      <td>1</td>\n",
       "      <td>0</td>\n",
       "      <td>0</td>\n",
       "    </tr>\n",
       "  </tbody>\n",
       "</table>\n",
       "</div>"
      ],
      "text/plain": [
       "   age     bmi  children      charges  sex_female  sex_male  smoker_no  \\\n",
       "0   19  27.900         0  16884.92400           1         0          0   \n",
       "1   18  33.770         1   1725.55230           0         1          1   \n",
       "2   28  33.000         3   4449.46200           0         1          1   \n",
       "3   33  22.705         0  21984.47061           0         1          1   \n",
       "4   32  28.880         0   3866.85520           0         1          1   \n",
       "\n",
       "   smoker_yes  region_northeast  region_northwest  region_southeast  \\\n",
       "0           1                 0                 0                 0   \n",
       "1           0                 0                 0                 1   \n",
       "2           0                 0                 0                 1   \n",
       "3           0                 0                 1                 0   \n",
       "4           0                 0                 1                 0   \n",
       "\n",
       "   region_southwest  \n",
       "0                 1  \n",
       "1                 0  \n",
       "2                 0  \n",
       "3                 0  \n",
       "4                 0  "
      ]
     },
     "execution_count": 56,
     "metadata": {},
     "output_type": "execute_result"
    }
   ],
   "source": [
    "# Let's try one-hot encode our DataFrane so it is all numbers\n",
    "insurance_one_hot = pd.get_dummies(insurance)\n",
    "insurance_one_hot.head()"
   ]
  },
  {
   "cell_type": "code",
   "execution_count": 57,
   "metadata": {},
   "outputs": [
    {
     "data": {
      "text/plain": [
       "(   age     bmi  children  sex_female  sex_male  smoker_no  smoker_yes  \\\n",
       " 0   19  27.900         0           1         0          0           1   \n",
       " 1   18  33.770         1           0         1          1           0   \n",
       " 2   28  33.000         3           0         1          1           0   \n",
       " 3   33  22.705         0           0         1          1           0   \n",
       " 4   32  28.880         0           0         1          1           0   \n",
       " \n",
       "    region_northeast  region_northwest  region_southeast  region_southwest  \n",
       " 0                 0                 0                 0                 1  \n",
       " 1                 0                 0                 1                 0  \n",
       " 2                 0                 0                 1                 0  \n",
       " 3                 0                 1                 0                 0  \n",
       " 4                 0                 1                 0                 0  ,\n",
       " 0    16884.92400\n",
       " 1     1725.55230\n",
       " 2     4449.46200\n",
       " 3    21984.47061\n",
       " 4     3866.85520\n",
       " Name: charges, dtype: float64)"
      ]
     },
     "execution_count": 57,
     "metadata": {},
     "output_type": "execute_result"
    }
   ],
   "source": [
    "# Create X and y values (features and labels)\n",
    "X = insurance_one_hot.drop(\"charges\", axis=1)\n",
    "y = insurance_one_hot[\"charges\"]\n",
    "X.head(), y.head()"
   ]
  },
  {
   "cell_type": "code",
   "execution_count": 58,
   "metadata": {},
   "outputs": [
    {
     "data": {
      "text/plain": [
       "(1338, 1070, 268)"
      ]
     },
     "execution_count": 58,
     "metadata": {},
     "output_type": "execute_result"
    }
   ],
   "source": [
    "# Create training and test sets\n",
    "from sklearn.model_selection import train_test_split\n",
    "X_train, X_test, y_train, y_test = train_test_split(X, y, test_size=0.2, random_state=42)\n",
    "len(X), len(X_train), len(X_test)"
   ]
  },
  {
   "cell_type": "code",
   "execution_count": 59,
   "metadata": {},
   "outputs": [
    {
     "name": "stdout",
     "output_type": "stream",
     "text": [
      "Epoch 1/100\n",
      "34/34 [==============================] - 0s 2ms/step - loss: 8637.0889 - mae: 8637.0889\n",
      "Epoch 2/100\n",
      "34/34 [==============================] - 0s 2ms/step - loss: 7886.7476 - mae: 7886.7476\n",
      "Epoch 3/100\n",
      "34/34 [==============================] - 0s 2ms/step - loss: 7558.1616 - mae: 7558.1616\n",
      "Epoch 4/100\n",
      "34/34 [==============================] - 0s 2ms/step - loss: 7791.7866 - mae: 7791.7866\n",
      "Epoch 5/100\n",
      "34/34 [==============================] - 0s 1ms/step - loss: 7748.2188 - mae: 7748.2188\n",
      "Epoch 6/100\n",
      "34/34 [==============================] - 0s 1ms/step - loss: 7594.9863 - mae: 7594.9863\n",
      "Epoch 7/100\n",
      "34/34 [==============================] - 0s 1ms/step - loss: 7589.4282 - mae: 7589.4282\n",
      "Epoch 8/100\n",
      "34/34 [==============================] - 0s 1ms/step - loss: 7698.0161 - mae: 7698.0161\n",
      "Epoch 9/100\n",
      "34/34 [==============================] - 0s 1ms/step - loss: 7496.3296 - mae: 7496.3296\n",
      "Epoch 10/100\n",
      "34/34 [==============================] - 0s 1ms/step - loss: 7492.9463 - mae: 7492.9463\n",
      "Epoch 11/100\n",
      "34/34 [==============================] - 0s 1ms/step - loss: 7769.3750 - mae: 7769.3750\n",
      "Epoch 12/100\n",
      "34/34 [==============================] - 0s 1ms/step - loss: 7706.5986 - mae: 7706.5986\n",
      "Epoch 13/100\n",
      "34/34 [==============================] - 0s 2ms/step - loss: 7630.2822 - mae: 7630.2822\n",
      "Epoch 14/100\n",
      "34/34 [==============================] - 0s 1ms/step - loss: 7777.0508 - mae: 7777.0508\n",
      "Epoch 15/100\n",
      "34/34 [==============================] - 0s 1ms/step - loss: 7352.8779 - mae: 7352.8779\n",
      "Epoch 16/100\n",
      "34/34 [==============================] - 0s 1ms/step - loss: 7740.9019 - mae: 7740.9019\n",
      "Epoch 17/100\n",
      "34/34 [==============================] - 0s 1ms/step - loss: 7711.4878 - mae: 7711.4878\n",
      "Epoch 18/100\n",
      "34/34 [==============================] - 0s 2ms/step - loss: 7753.1655 - mae: 7753.1655\n",
      "Epoch 19/100\n",
      "34/34 [==============================] - 0s 1ms/step - loss: 7766.1133 - mae: 7766.1133\n",
      "Epoch 20/100\n",
      "34/34 [==============================] - 0s 1ms/step - loss: 7871.5542 - mae: 7871.5542\n",
      "Epoch 21/100\n",
      "34/34 [==============================] - 0s 2ms/step - loss: 7487.7598 - mae: 7487.7598\n",
      "Epoch 22/100\n",
      "34/34 [==============================] - 0s 1ms/step - loss: 7942.6074 - mae: 7942.6074\n",
      "Epoch 23/100\n",
      "34/34 [==============================] - 0s 1ms/step - loss: 7639.9717 - mae: 7639.9717\n",
      "Epoch 24/100\n",
      "34/34 [==============================] - 0s 1ms/step - loss: 7567.9839 - mae: 7567.9839\n",
      "Epoch 25/100\n",
      "34/34 [==============================] - 0s 1ms/step - loss: 7622.7480 - mae: 7622.7480\n",
      "Epoch 26/100\n",
      "34/34 [==============================] - 0s 2ms/step - loss: 7622.8916 - mae: 7622.8916\n",
      "Epoch 27/100\n",
      "34/34 [==============================] - 0s 1ms/step - loss: 7425.5508 - mae: 7425.5508\n",
      "Epoch 28/100\n",
      "34/34 [==============================] - 0s 1ms/step - loss: 7539.3979 - mae: 7539.3979\n",
      "Epoch 29/100\n",
      "34/34 [==============================] - 0s 2ms/step - loss: 7594.3979 - mae: 7594.3979\n",
      "Epoch 30/100\n",
      "34/34 [==============================] - 0s 1ms/step - loss: 7642.3687 - mae: 7642.3687\n",
      "Epoch 31/100\n",
      "34/34 [==============================] - 0s 2ms/step - loss: 7568.4604 - mae: 7568.4604\n",
      "Epoch 32/100\n",
      "34/34 [==============================] - 0s 1ms/step - loss: 7584.1079 - mae: 7584.1079\n",
      "Epoch 33/100\n",
      "34/34 [==============================] - 0s 1ms/step - loss: 7386.3145 - mae: 7386.3145\n",
      "Epoch 34/100\n",
      "34/34 [==============================] - 0s 1ms/step - loss: 7302.4619 - mae: 7302.4619\n",
      "Epoch 35/100\n",
      "34/34 [==============================] - 0s 1ms/step - loss: 7511.6348 - mae: 7511.6348\n",
      "Epoch 36/100\n",
      "34/34 [==============================] - 0s 1ms/step - loss: 7562.0283 - mae: 7562.0283\n",
      "Epoch 37/100\n",
      "34/34 [==============================] - 0s 1ms/step - loss: 7372.5913 - mae: 7372.5913\n",
      "Epoch 38/100\n",
      "34/34 [==============================] - 0s 1ms/step - loss: 7476.3022 - mae: 7476.3022\n",
      "Epoch 39/100\n",
      "34/34 [==============================] - 0s 1ms/step - loss: 7529.1055 - mae: 7529.1055\n",
      "Epoch 40/100\n",
      "34/34 [==============================] - 0s 1ms/step - loss: 7459.0034 - mae: 7459.0034\n",
      "Epoch 41/100\n",
      "34/34 [==============================] - 0s 1ms/step - loss: 7639.9941 - mae: 7639.9941\n",
      "Epoch 42/100\n",
      "34/34 [==============================] - 0s 1ms/step - loss: 7437.4844 - mae: 7437.4844\n",
      "Epoch 43/100\n",
      "34/34 [==============================] - 0s 2ms/step - loss: 7669.9902 - mae: 7669.9902\n",
      "Epoch 44/100\n",
      "34/34 [==============================] - 0s 1ms/step - loss: 7404.7998 - mae: 7404.7998\n",
      "Epoch 45/100\n",
      "34/34 [==============================] - 0s 1ms/step - loss: 7443.6084 - mae: 7443.6084\n",
      "Epoch 46/100\n",
      "34/34 [==============================] - 0s 1ms/step - loss: 7360.6724 - mae: 7360.6724\n",
      "Epoch 47/100\n",
      "34/34 [==============================] - 0s 1ms/step - loss: 7462.8662 - mae: 7462.8662\n",
      "Epoch 48/100\n",
      "34/34 [==============================] - 0s 1ms/step - loss: 7527.7344 - mae: 7527.7344\n",
      "Epoch 49/100\n",
      "34/34 [==============================] - 0s 2ms/step - loss: 7540.4517 - mae: 7540.4517\n",
      "Epoch 50/100\n",
      "34/34 [==============================] - 0s 1ms/step - loss: 7491.7710 - mae: 7491.7710\n",
      "Epoch 51/100\n",
      "34/34 [==============================] - 0s 1ms/step - loss: 7372.0112 - mae: 7372.0112\n",
      "Epoch 52/100\n",
      "34/34 [==============================] - 0s 1ms/step - loss: 7398.3159 - mae: 7398.3159\n",
      "Epoch 53/100\n",
      "34/34 [==============================] - 0s 1ms/step - loss: 7630.7891 - mae: 7630.7891\n",
      "Epoch 54/100\n",
      "34/34 [==============================] - 0s 1ms/step - loss: 7229.9844 - mae: 7229.9844\n",
      "Epoch 55/100\n",
      "34/34 [==============================] - 0s 1ms/step - loss: 7319.2227 - mae: 7319.2227\n",
      "Epoch 56/100\n",
      "34/34 [==============================] - 0s 1ms/step - loss: 7322.4956 - mae: 7322.4956\n",
      "Epoch 57/100\n",
      "34/34 [==============================] - 0s 1ms/step - loss: 7417.1260 - mae: 7417.1260\n",
      "Epoch 58/100\n",
      "34/34 [==============================] - 0s 1ms/step - loss: 7525.5063 - mae: 7525.5063\n",
      "Epoch 59/100\n",
      "34/34 [==============================] - 0s 1ms/step - loss: 7464.4678 - mae: 7464.4678\n",
      "Epoch 60/100\n",
      "34/34 [==============================] - 0s 1ms/step - loss: 7410.1729 - mae: 7410.1729\n",
      "Epoch 61/100\n",
      "34/34 [==============================] - 0s 1ms/step - loss: 7581.5981 - mae: 7581.5981\n",
      "Epoch 62/100\n",
      "34/34 [==============================] - 0s 1ms/step - loss: 7417.4897 - mae: 7417.4897\n",
      "Epoch 63/100\n",
      "34/34 [==============================] - 0s 1ms/step - loss: 7358.5815 - mae: 7358.5815\n",
      "Epoch 64/100\n",
      "34/34 [==============================] - 0s 2ms/step - loss: 7278.6030 - mae: 7278.6030\n",
      "Epoch 65/100\n",
      "34/34 [==============================] - 0s 2ms/step - loss: 7443.0317 - mae: 7443.0317\n",
      "Epoch 66/100\n",
      "34/34 [==============================] - 0s 2ms/step - loss: 7306.8823 - mae: 7306.8823\n",
      "Epoch 67/100\n",
      "34/34 [==============================] - 0s 1ms/step - loss: 7468.8979 - mae: 7468.8979\n",
      "Epoch 68/100\n",
      "34/34 [==============================] - 0s 1ms/step - loss: 7502.5815 - mae: 7502.5815\n",
      "Epoch 69/100\n",
      "34/34 [==============================] - 0s 1ms/step - loss: 7653.9805 - mae: 7653.9805\n",
      "Epoch 70/100\n",
      "34/34 [==============================] - 0s 1ms/step - loss: 7690.2080 - mae: 7690.2080\n",
      "Epoch 71/100\n",
      "34/34 [==============================] - 0s 1ms/step - loss: 7372.7817 - mae: 7372.7817\n",
      "Epoch 72/100\n",
      "34/34 [==============================] - 0s 1ms/step - loss: 7416.6426 - mae: 7416.6426\n",
      "Epoch 73/100\n",
      "34/34 [==============================] - 0s 1ms/step - loss: 7477.0859 - mae: 7477.0859\n",
      "Epoch 74/100\n",
      "34/34 [==============================] - 0s 1ms/step - loss: 7410.7231 - mae: 7410.7231\n",
      "Epoch 75/100\n",
      "34/34 [==============================] - 0s 1ms/step - loss: 7299.6807 - mae: 7299.6807\n",
      "Epoch 76/100\n",
      "34/34 [==============================] - 0s 1ms/step - loss: 7148.3750 - mae: 7148.3750\n",
      "Epoch 77/100\n",
      "34/34 [==============================] - 0s 1ms/step - loss: 7236.2246 - mae: 7236.2246\n",
      "Epoch 78/100\n",
      "34/34 [==============================] - 0s 1ms/step - loss: 7536.6001 - mae: 7536.6001\n",
      "Epoch 79/100\n",
      "34/34 [==============================] - 0s 1ms/step - loss: 7439.4585 - mae: 7439.4585\n",
      "Epoch 80/100\n",
      "34/34 [==============================] - 0s 2ms/step - loss: 7232.5708 - mae: 7232.5708\n",
      "Epoch 81/100\n",
      "34/34 [==============================] - 0s 1ms/step - loss: 7279.6548 - mae: 7279.6548\n",
      "Epoch 82/100\n",
      "34/34 [==============================] - 0s 1ms/step - loss: 7309.7373 - mae: 7309.7373\n",
      "Epoch 83/100\n",
      "34/34 [==============================] - 0s 2ms/step - loss: 7387.2773 - mae: 7387.2773\n",
      "Epoch 84/100\n",
      "34/34 [==============================] - 0s 2ms/step - loss: 7079.7090 - mae: 7079.7090\n",
      "Epoch 85/100\n",
      "34/34 [==============================] - 0s 1ms/step - loss: 7292.0737 - mae: 7292.0737\n",
      "Epoch 86/100\n",
      "34/34 [==============================] - 0s 2ms/step - loss: 7313.6572 - mae: 7313.6572\n",
      "Epoch 87/100\n",
      "34/34 [==============================] - 0s 1ms/step - loss: 7194.2090 - mae: 7194.2090\n",
      "Epoch 88/100\n",
      "34/34 [==============================] - 0s 2ms/step - loss: 7402.5059 - mae: 7402.5059\n",
      "Epoch 89/100\n",
      "34/34 [==============================] - 0s 1ms/step - loss: 7507.2490 - mae: 7507.2490\n",
      "Epoch 90/100\n",
      "34/34 [==============================] - 0s 1ms/step - loss: 7011.0986 - mae: 7011.0986\n",
      "Epoch 91/100\n",
      "34/34 [==============================] - 0s 2ms/step - loss: 7454.9663 - mae: 7454.9663\n",
      "Epoch 92/100\n",
      "34/34 [==============================] - 0s 1ms/step - loss: 7255.3188 - mae: 7255.3188\n",
      "Epoch 93/100\n",
      "34/34 [==============================] - 0s 1ms/step - loss: 7564.9980 - mae: 7564.9980\n",
      "Epoch 94/100\n",
      "34/34 [==============================] - 0s 1ms/step - loss: 7334.3994 - mae: 7334.3994\n",
      "Epoch 95/100\n",
      "34/34 [==============================] - 0s 1ms/step - loss: 7415.3882 - mae: 7415.3882\n",
      "Epoch 96/100\n",
      "34/34 [==============================] - 0s 1ms/step - loss: 7112.1499 - mae: 7112.1499\n",
      "Epoch 97/100\n",
      "34/34 [==============================] - 0s 1ms/step - loss: 6980.7285 - mae: 6980.7285\n",
      "Epoch 98/100\n",
      "34/34 [==============================] - 0s 1ms/step - loss: 7403.6123 - mae: 7403.6123\n",
      "Epoch 99/100\n",
      "34/34 [==============================] - 0s 1ms/step - loss: 6886.7178 - mae: 6886.7178\n",
      "Epoch 100/100\n",
      "34/34 [==============================] - 0s 1ms/step - loss: 7288.1445 - mae: 7288.1445\n"
     ]
    },
    {
     "data": {
      "text/plain": [
       "<keras.callbacks.History at 0x2657772cf40>"
      ]
     },
     "execution_count": 59,
     "metadata": {},
     "output_type": "execute_result"
    }
   ],
   "source": [
    "# Build neural network (sort of like model_2 above)\n",
    "tf.random.set_seed(42)\n",
    "\n",
    "# 1. Create a model\n",
    "insurance_model = tf.keras.Sequential([\n",
    "    tf.keras.layers.Dense(10),\n",
    "    tf.keras.layers.Dense(1)])\n",
    "\n",
    "# 2. Compile the model\n",
    "insurance_model.compile(\n",
    "    loss=tf.keras.losses.mae,\n",
    "    optimizer=tf.keras.optimizers.SGD(),\n",
    "    metrics=[\"mae\"])\n",
    "\n",
    "# 3. Fit the model\n",
    "insurance_model.fit(X_train, y_train, epochs=100)"
   ]
  },
  {
   "cell_type": "code",
   "execution_count": 60,
   "metadata": {},
   "outputs": [
    {
     "name": "stdout",
     "output_type": "stream",
     "text": [
      "9/9 [==============================] - 0s 1ms/step - loss: 7034.2998 - mae: 7034.2998\n"
     ]
    },
    {
     "data": {
      "text/plain": [
       "[7034.2998046875, 7034.2998046875]"
      ]
     },
     "execution_count": 60,
     "metadata": {},
     "output_type": "execute_result"
    }
   ],
   "source": [
    "# Check the results of the insurance model on the test data\n",
    "insurance_model.evaluate(X_test, y_test)"
   ]
  },
  {
   "cell_type": "markdown",
   "metadata": {},
   "source": [
    "Right now it looks like our model isn't performing to well... let's try to improve it.\n",
    "\n",
    "To (try) improve our modell, we will run 2 experiments:\n",
    "1. Add an extra layer with more hidden units and use the Adam optimizer\n",
    "2. Train for longer (like above but longer)\n",
    "3. ..."
   ]
  },
  {
   "cell_type": "code",
   "execution_count": 61,
   "metadata": {},
   "outputs": [
    {
     "data": {
      "text/plain": [
       "<keras.callbacks.History at 0x2657784da90>"
      ]
     },
     "execution_count": 61,
     "metadata": {},
     "output_type": "execute_result"
    }
   ],
   "source": [
    "# Set random seed\n",
    "tf.random.set_seed(42)\n",
    "\n",
    "# 1. Create the model\n",
    "insurance_model_2 = tf.keras.Sequential([\n",
    "    tf.keras.layers.Dense(100),\n",
    "    tf.keras.layers.Dense(10),\n",
    "    tf.keras.layers.Dense(1)])\n",
    "\n",
    "# 2. Compile the model\n",
    "insurance_model_2.compile(\n",
    "    loss=tf.keras.losses.mae,\n",
    "    optimizer=tf.keras.optimizers.Adam(),\n",
    "    metrics=[\"mae\"])\n",
    "\n",
    "# 3. Fit the model\n",
    "insurance_model_2.fit(X_train, y_train, epochs=100, verbose=0)"
   ]
  },
  {
   "cell_type": "code",
   "execution_count": 62,
   "metadata": {},
   "outputs": [
    {
     "name": "stdout",
     "output_type": "stream",
     "text": [
      "9/9 [==============================] - 0s 1ms/step - loss: 4921.6919 - mae: 4921.6919\n"
     ]
    },
    {
     "data": {
      "text/plain": [
       "[4921.69189453125, 4921.69189453125]"
      ]
     },
     "execution_count": 62,
     "metadata": {},
     "output_type": "execute_result"
    }
   ],
   "source": [
    "# Evaluate the larger model\n",
    "insurance_model_2.evaluate(X_test, y_test)"
   ]
  },
  {
   "cell_type": "code",
   "execution_count": 63,
   "metadata": {},
   "outputs": [
    {
     "name": "stdout",
     "output_type": "stream",
     "text": [
      "9/9 [==============================] - 0s 1ms/step - loss: 3494.4683 - mae: 3494.4683\n"
     ]
    },
    {
     "data": {
      "text/plain": [
       "[3494.46826171875, 3494.46826171875]"
      ]
     },
     "execution_count": 63,
     "metadata": {},
     "output_type": "execute_result"
    }
   ],
   "source": [
    "# Set random seed\n",
    "tf.random.set_seed(42)\n",
    "\n",
    "# 1. Create the model\n",
    "insurance_model_3 = tf.keras.Sequential([\n",
    "    tf.keras.layers.Dense(100),\n",
    "    tf.keras.layers.Dense(10),\n",
    "    tf.keras.layers.Dense(1)])\n",
    "\n",
    "# 2. Compile the model\n",
    "insurance_model_3.compile(\n",
    "    loss=tf.keras.losses.mae,\n",
    "    optimizer=tf.keras.optimizers.Adam(),\n",
    "    metrics=[\"mae\"])\n",
    "\n",
    "# 3. Fit the model\n",
    "history = insurance_model_3.fit(X_train, y_train, epochs=200, verbose=0)\n",
    "\n",
    "# 4. Evaluate the model\n",
    "insurance_model_3.evaluate(X_test, y_test)"
   ]
  },
  {
   "cell_type": "code",
   "execution_count": 64,
   "metadata": {},
   "outputs": [
    {
     "data": {
      "text/plain": [
       "Text(0.5, 0, 'epochs')"
      ]
     },
     "execution_count": 64,
     "metadata": {},
     "output_type": "execute_result"
    },
    {
     "data": {
      "image/png": "[encoded data removed]",
      "image/svg+xml": "<?xml version=\"1.0\" encoding=\"utf-8\" standalone=\"no\"?>\n<!DOCTYPE svg PUBLIC \"-//W3C//DTD SVG 1.1//EN\"\n  \"http://www.w3.org/Graphics/SVG/1.1/DTD/svg11.dtd\">\n<svg xmlns:xlink=\"http://www.w3.org/1999/xlink\" width=\"401.690625pt\" height=\"262.19625pt\" viewBox=\"0 0 401.690625 262.19625\" xmlns=\"http://www.w3.org/2000/svg\" version=\"1.1\">\n <metadata>\n  <rdf:RDF xmlns:dc=\"http://purl.org/dc/elements/1.1/\" xmlns:cc=\"http://creativecommons.org/ns#\" xmlns:rdf=\"http://www.w3.org/1999/02/22-rdf-syntax-ns#\">\n   <cc:Work>\n    <dc:type rdf:resource=\"http://purl.org/dc/dcmitype/StillImage\"/>\n    <dc:date>2022-05-10T09:39:00.186164</dc:date>\n    <dc:format>image/svg+xml</dc:format>\n    <dc:creator>\n     <cc:Agent>\n      <dc:title>Matplotlib v3.5.1, https://matplotlib.org/</dc:title>\n     </cc:Agent>\n    </dc:creator>\n   </cc:Work>\n  </rdf:RDF>\n </metadata>\n <defs>\n  <style type=\"text/css\">*{stroke-linejoin: round; stroke-linecap: butt}</style>\n </defs>\n <g id=\"figure_1\">\n  <g id=\"patch_1\">\n   <path d=\"M 0 262.19625 \nL 401.690625 262.19625 \nL 401.690625 0 \nL 0 0 \nz\n\"/>\n  </g>\n  <g id=\"axes_1\">\n   <g id=\"patch_2\">\n    <path d=\"M 59.690625 224.64 \nL 394.490625 224.64 \nL 394.490625 7.2 \nL 59.690625 7.2 \nz\n\"/>\n   </g>\n   <g id=\"matplotlib.axis_1\">\n    <g id=\"xtick_1\">\n     <g id=\"line2d_1\">\n      <defs>\n       <path id=\"m42c831265c\" d=\"M 0 0 \nL 0 3.5 \n\" style=\"stroke: #ffffff; stroke-width: 0.8\"/>\n      </defs>\n      <g>\n       <use xlink:href=\"#m42c831265c\" x=\"74.908807\" y=\"224.64\" style=\"fill: #ffffff; stroke: #ffffff; stroke-width: 0.8\"/>\n      </g>\n     </g>\n     <g id=\"text_1\">\n      <!-- 0 -->\n      <g style=\"fill: #ffffff\" transform=\"translate(71.727557 239.238438)scale(0.1 -0.1)\">\n       <defs>\n        <path id=\"DejaVuSans-30\" d=\"M 2034 4250 \nQ 1547 4250 1301 3770 \nQ 1056 3291 1056 2328 \nQ 1056 1369 1301 889 \nQ 1547 409 2034 409 \nQ 2525 409 2770 889 \nQ 3016 1369 3016 2328 \nQ 3016 3291 2770 3770 \nQ 2525 4250 2034 4250 \nz\nM 2034 4750 \nQ 2819 4750 3233 4129 \nQ 3647 3509 3647 2328 \nQ 3647 1150 3233 529 \nQ 2819 -91 2034 -91 \nQ 1250 -91 836 529 \nQ 422 1150 422 2328 \nQ 422 3509 836 4129 \nQ 1250 4750 2034 4750 \nz\n\" transform=\"scale(0.015625)\"/>\n       </defs>\n       <use xlink:href=\"#DejaVuSans-30\"/>\n      </g>\n     </g>\n    </g>\n    <g id=\"xtick_2\">\n     <g id=\"line2d_2\">\n      <g>\n       <use xlink:href=\"#m42c831265c\" x=\"113.145445\" y=\"224.64\" style=\"fill: #ffffff; stroke: #ffffff; stroke-width: 0.8\"/>\n      </g>\n     </g>\n     <g id=\"text_2\">\n      <!-- 25 -->\n      <g style=\"fill: #ffffff\" transform=\"translate(106.782945 239.238438)scale(0.1 -0.1)\">\n       <defs>\n        <path id=\"DejaVuSans-32\" d=\"M 1228 531 \nL 3431 531 \nL 3431 0 \nL 469 0 \nL 469 531 \nQ 828 903 1448 1529 \nQ 2069 2156 2228 2338 \nQ 2531 2678 2651 2914 \nQ 2772 3150 2772 3378 \nQ 2772 3750 2511 3984 \nQ 2250 4219 1831 4219 \nQ 1534 4219 1204 4116 \nQ 875 4013 500 3803 \nL 500 4441 \nQ 881 4594 1212 4672 \nQ 1544 4750 1819 4750 \nQ 2544 4750 2975 4387 \nQ 3406 4025 3406 3419 \nQ 3406 3131 3298 2873 \nQ 3191 2616 2906 2266 \nQ 2828 2175 2409 1742 \nQ 1991 1309 1228 531 \nz\n\" transform=\"scale(0.015625)\"/>\n        <path id=\"DejaVuSans-35\" d=\"M 691 4666 \nL 3169 4666 \nL 3169 4134 \nL 1269 4134 \nL 1269 2991 \nQ 1406 3038 1543 3061 \nQ 1681 3084 1819 3084 \nQ 2600 3084 3056 2656 \nQ 3513 2228 3513 1497 \nQ 3513 744 3044 326 \nQ 2575 -91 1722 -91 \nQ 1428 -91 1123 -41 \nQ 819 9 494 109 \nL 494 744 \nQ 775 591 1075 516 \nQ 1375 441 1709 441 \nQ 2250 441 2565 725 \nQ 2881 1009 2881 1497 \nQ 2881 1984 2565 2268 \nQ 2250 2553 1709 2553 \nQ 1456 2553 1204 2497 \nQ 953 2441 691 2322 \nL 691 4666 \nz\n\" transform=\"scale(0.015625)\"/>\n       </defs>\n       <use xlink:href=\"#DejaVuSans-32\"/>\n       <use xlink:href=\"#DejaVuSans-35\" x=\"63.623047\"/>\n      </g>\n     </g>\n    </g>\n    <g id=\"xtick_3\">\n     <g id=\"line2d_3\">\n      <g>\n       <use xlink:href=\"#m42c831265c\" x=\"151.382082\" y=\"224.64\" style=\"fill: #ffffff; stroke: #ffffff; stroke-width: 0.8\"/>\n      </g>\n     </g>\n     <g id=\"text_3\">\n      <!-- 50 -->\n      <g style=\"fill: #ffffff\" transform=\"translate(145.019582 239.238438)scale(0.1 -0.1)\">\n       <use xlink:href=\"#DejaVuSans-35\"/>\n       <use xlink:href=\"#DejaVuSans-30\" x=\"63.623047\"/>\n      </g>\n     </g>\n    </g>\n    <g id=\"xtick_4\">\n     <g id=\"line2d_4\">\n      <g>\n       <use xlink:href=\"#m42c831265c\" x=\"189.61872\" y=\"224.64\" style=\"fill: #ffffff; stroke: #ffffff; stroke-width: 0.8\"/>\n      </g>\n     </g>\n     <g id=\"text_4\">\n      <!-- 75 -->\n      <g style=\"fill: #ffffff\" transform=\"translate(183.25622 239.238438)scale(0.1 -0.1)\">\n       <defs>\n        <path id=\"DejaVuSans-37\" d=\"M 525 4666 \nL 3525 4666 \nL 3525 4397 \nL 1831 0 \nL 1172 0 \nL 2766 4134 \nL 525 4134 \nL 525 4666 \nz\n\" transform=\"scale(0.015625)\"/>\n       </defs>\n       <use xlink:href=\"#DejaVuSans-37\"/>\n       <use xlink:href=\"#DejaVuSans-35\" x=\"63.623047\"/>\n      </g>\n     </g>\n    </g>\n    <g id=\"xtick_5\">\n     <g id=\"line2d_5\">\n      <g>\n       <use xlink:href=\"#m42c831265c\" x=\"227.855358\" y=\"224.64\" style=\"fill: #ffffff; stroke: #ffffff; stroke-width: 0.8\"/>\n      </g>\n     </g>\n     <g id=\"text_5\">\n      <!-- 100 -->\n      <g style=\"fill: #ffffff\" transform=\"translate(218.311608 239.238438)scale(0.1 -0.1)\">\n       <defs>\n        <path id=\"DejaVuSans-31\" d=\"M 794 531 \nL 1825 531 \nL 1825 4091 \nL 703 3866 \nL 703 4441 \nL 1819 4666 \nL 2450 4666 \nL 2450 531 \nL 3481 531 \nL 3481 0 \nL 794 0 \nL 794 531 \nz\n\" transform=\"scale(0.015625)\"/>\n       </defs>\n       <use xlink:href=\"#DejaVuSans-31\"/>\n       <use xlink:href=\"#DejaVuSans-30\" x=\"63.623047\"/>\n       <use xlink:href=\"#DejaVuSans-30\" x=\"127.246094\"/>\n      </g>\n     </g>\n    </g>\n    <g id=\"xtick_6\">\n     <g id=\"line2d_6\">\n      <g>\n       <use xlink:href=\"#m42c831265c\" x=\"266.091995\" y=\"224.64\" style=\"fill: #ffffff; stroke: #ffffff; stroke-width: 0.8\"/>\n      </g>\n     </g>\n     <g id=\"text_6\">\n      <!-- 125 -->\n      <g style=\"fill: #ffffff\" transform=\"translate(256.548245 239.238438)scale(0.1 -0.1)\">\n       <use xlink:href=\"#DejaVuSans-31\"/>\n       <use xlink:href=\"#DejaVuSans-32\" x=\"63.623047\"/>\n       <use xlink:href=\"#DejaVuSans-35\" x=\"127.246094\"/>\n      </g>\n     </g>\n    </g>\n    <g id=\"xtick_7\">\n     <g id=\"line2d_7\">\n      <g>\n       <use xlink:href=\"#m42c831265c\" x=\"304.328633\" y=\"224.64\" style=\"fill: #ffffff; stroke: #ffffff; stroke-width: 0.8\"/>\n      </g>\n     </g>\n     <g id=\"text_7\">\n      <!-- 150 -->\n      <g style=\"fill: #ffffff\" transform=\"translate(294.784883 239.238438)scale(0.1 -0.1)\">\n       <use xlink:href=\"#DejaVuSans-31\"/>\n       <use xlink:href=\"#DejaVuSans-35\" x=\"63.623047\"/>\n       <use xlink:href=\"#DejaVuSans-30\" x=\"127.246094\"/>\n      </g>\n     </g>\n    </g>\n    <g id=\"xtick_8\">\n     <g id=\"line2d_8\">\n      <g>\n       <use xlink:href=\"#m42c831265c\" x=\"342.565271\" y=\"224.64\" style=\"fill: #ffffff; stroke: #ffffff; stroke-width: 0.8\"/>\n      </g>\n     </g>\n     <g id=\"text_8\">\n      <!-- 175 -->\n      <g style=\"fill: #ffffff\" transform=\"translate(333.021521 239.238438)scale(0.1 -0.1)\">\n       <use xlink:href=\"#DejaVuSans-31\"/>\n       <use xlink:href=\"#DejaVuSans-37\" x=\"63.623047\"/>\n       <use xlink:href=\"#DejaVuSans-35\" x=\"127.246094\"/>\n      </g>\n     </g>\n    </g>\n    <g id=\"xtick_9\">\n     <g id=\"line2d_9\">\n      <g>\n       <use xlink:href=\"#m42c831265c\" x=\"380.801909\" y=\"224.64\" style=\"fill: #ffffff; stroke: #ffffff; stroke-width: 0.8\"/>\n      </g>\n     </g>\n     <g id=\"text_9\">\n      <!-- 200 -->\n      <g style=\"fill: #ffffff\" transform=\"translate(371.258159 239.238438)scale(0.1 -0.1)\">\n       <use xlink:href=\"#DejaVuSans-32\"/>\n       <use xlink:href=\"#DejaVuSans-30\" x=\"63.623047\"/>\n       <use xlink:href=\"#DejaVuSans-30\" x=\"127.246094\"/>\n      </g>\n     </g>\n    </g>\n    <g id=\"text_10\">\n     <!-- epochs -->\n     <g style=\"fill: #ffffff\" transform=\"translate(209.257813 252.916563)scale(0.1 -0.1)\">\n      <defs>\n       <path id=\"DejaVuSans-65\" d=\"M 3597 1894 \nL 3597 1613 \nL 953 1613 \nQ 991 1019 1311 708 \nQ 1631 397 2203 397 \nQ 2534 397 2845 478 \nQ 3156 559 3463 722 \nL 3463 178 \nQ 3153 47 2828 -22 \nQ 2503 -91 2169 -91 \nQ 1331 -91 842 396 \nQ 353 884 353 1716 \nQ 353 2575 817 3079 \nQ 1281 3584 2069 3584 \nQ 2775 3584 3186 3129 \nQ 3597 2675 3597 1894 \nz\nM 3022 2063 \nQ 3016 2534 2758 2815 \nQ 2500 3097 2075 3097 \nQ 1594 3097 1305 2825 \nQ 1016 2553 972 2059 \nL 3022 2063 \nz\n\" transform=\"scale(0.015625)\"/>\n       <path id=\"DejaVuSans-70\" d=\"M 1159 525 \nL 1159 -1331 \nL 581 -1331 \nL 581 3500 \nL 1159 3500 \nL 1159 2969 \nQ 1341 3281 1617 3432 \nQ 1894 3584 2278 3584 \nQ 2916 3584 3314 3078 \nQ 3713 2572 3713 1747 \nQ 3713 922 3314 415 \nQ 2916 -91 2278 -91 \nQ 1894 -91 1617 61 \nQ 1341 213 1159 525 \nz\nM 3116 1747 \nQ 3116 2381 2855 2742 \nQ 2594 3103 2138 3103 \nQ 1681 3103 1420 2742 \nQ 1159 2381 1159 1747 \nQ 1159 1113 1420 752 \nQ 1681 391 2138 391 \nQ 2594 391 2855 752 \nQ 3116 1113 3116 1747 \nz\n\" transform=\"scale(0.015625)\"/>\n       <path id=\"DejaVuSans-6f\" d=\"M 1959 3097 \nQ 1497 3097 1228 2736 \nQ 959 2375 959 1747 \nQ 959 1119 1226 758 \nQ 1494 397 1959 397 \nQ 2419 397 2687 759 \nQ 2956 1122 2956 1747 \nQ 2956 2369 2687 2733 \nQ 2419 3097 1959 3097 \nz\nM 1959 3584 \nQ 2709 3584 3137 3096 \nQ 3566 2609 3566 1747 \nQ 3566 888 3137 398 \nQ 2709 -91 1959 -91 \nQ 1206 -91 779 398 \nQ 353 888 353 1747 \nQ 353 2609 779 3096 \nQ 1206 3584 1959 3584 \nz\n\" transform=\"scale(0.015625)\"/>\n       <path id=\"DejaVuSans-63\" d=\"M 3122 3366 \nL 3122 2828 \nQ 2878 2963 2633 3030 \nQ 2388 3097 2138 3097 \nQ 1578 3097 1268 2742 \nQ 959 2388 959 1747 \nQ 959 1106 1268 751 \nQ 1578 397 2138 397 \nQ 2388 397 2633 464 \nQ 2878 531 3122 666 \nL 3122 134 \nQ 2881 22 2623 -34 \nQ 2366 -91 2075 -91 \nQ 1284 -91 818 406 \nQ 353 903 353 1747 \nQ 353 2603 823 3093 \nQ 1294 3584 2113 3584 \nQ 2378 3584 2631 3529 \nQ 2884 3475 3122 3366 \nz\n\" transform=\"scale(0.015625)\"/>\n       <path id=\"DejaVuSans-68\" d=\"M 3513 2113 \nL 3513 0 \nL 2938 0 \nL 2938 2094 \nQ 2938 2591 2744 2837 \nQ 2550 3084 2163 3084 \nQ 1697 3084 1428 2787 \nQ 1159 2491 1159 1978 \nL 1159 0 \nL 581 0 \nL 581 4863 \nL 1159 4863 \nL 1159 2956 \nQ 1366 3272 1645 3428 \nQ 1925 3584 2291 3584 \nQ 2894 3584 3203 3211 \nQ 3513 2838 3513 2113 \nz\n\" transform=\"scale(0.015625)\"/>\n       <path id=\"DejaVuSans-73\" d=\"M 2834 3397 \nL 2834 2853 \nQ 2591 2978 2328 3040 \nQ 2066 3103 1784 3103 \nQ 1356 3103 1142 2972 \nQ 928 2841 928 2578 \nQ 928 2378 1081 2264 \nQ 1234 2150 1697 2047 \nL 1894 2003 \nQ 2506 1872 2764 1633 \nQ 3022 1394 3022 966 \nQ 3022 478 2636 193 \nQ 2250 -91 1575 -91 \nQ 1294 -91 989 -36 \nQ 684 19 347 128 \nL 347 722 \nQ 666 556 975 473 \nQ 1284 391 1588 391 \nQ 1994 391 2212 530 \nQ 2431 669 2431 922 \nQ 2431 1156 2273 1281 \nQ 2116 1406 1581 1522 \nL 1381 1569 \nQ 847 1681 609 1914 \nQ 372 2147 372 2553 \nQ 372 3047 722 3315 \nQ 1072 3584 1716 3584 \nQ 2034 3584 2315 3537 \nQ 2597 3491 2834 3397 \nz\n\" transform=\"scale(0.015625)\"/>\n      </defs>\n      <use xlink:href=\"#DejaVuSans-65\"/>\n      <use xlink:href=\"#DejaVuSans-70\" x=\"61.523438\"/>\n      <use xlink:href=\"#DejaVuSans-6f\" x=\"125\"/>\n      <use xlink:href=\"#DejaVuSans-63\" x=\"186.181641\"/>\n      <use xlink:href=\"#DejaVuSans-68\" x=\"241.162109\"/>\n      <use xlink:href=\"#DejaVuSans-73\" x=\"304.541016\"/>\n     </g>\n    </g>\n   </g>\n   <g id=\"matplotlib.axis_2\">\n    <g id=\"ytick_1\">\n     <g id=\"line2d_10\">\n      <defs>\n       <path id=\"m2e373bc7e3\" d=\"M 0 0 \nL -3.5 0 \n\" style=\"stroke: #ffffff; stroke-width: 0.8\"/>\n      </defs>\n      <g>\n       <use xlink:href=\"#m2e373bc7e3\" x=\"59.690625\" y=\"207.879776\" style=\"fill: #ffffff; stroke: #ffffff; stroke-width: 0.8\"/>\n      </g>\n     </g>\n     <g id=\"text_11\">\n      <!-- 4000 -->\n      <g style=\"fill: #ffffff\" transform=\"translate(27.240625 211.678995)scale(0.1 -0.1)\">\n       <defs>\n        <path id=\"DejaVuSans-34\" d=\"M 2419 4116 \nL 825 1625 \nL 2419 1625 \nL 2419 4116 \nz\nM 2253 4666 \nL 3047 4666 \nL 3047 1625 \nL 3713 1625 \nL 3713 1100 \nL 3047 1100 \nL 3047 0 \nL 2419 0 \nL 2419 1100 \nL 313 1100 \nL 313 1709 \nL 2253 4666 \nz\n\" transform=\"scale(0.015625)\"/>\n       </defs>\n       <use xlink:href=\"#DejaVuSans-34\"/>\n       <use xlink:href=\"#DejaVuSans-30\" x=\"63.623047\"/>\n       <use xlink:href=\"#DejaVuSans-30\" x=\"127.246094\"/>\n       <use xlink:href=\"#DejaVuSans-30\" x=\"190.869141\"/>\n      </g>\n     </g>\n    </g>\n    <g id=\"ytick_2\">\n     <g id=\"line2d_11\">\n      <g>\n       <use xlink:href=\"#m2e373bc7e3\" x=\"59.690625\" y=\"166.729584\" style=\"fill: #ffffff; stroke: #ffffff; stroke-width: 0.8\"/>\n      </g>\n     </g>\n     <g id=\"text_12\">\n      <!-- 6000 -->\n      <g style=\"fill: #ffffff\" transform=\"translate(27.240625 170.528803)scale(0.1 -0.1)\">\n       <defs>\n        <path id=\"DejaVuSans-36\" d=\"M 2113 2584 \nQ 1688 2584 1439 2293 \nQ 1191 2003 1191 1497 \nQ 1191 994 1439 701 \nQ 1688 409 2113 409 \nQ 2538 409 2786 701 \nQ 3034 994 3034 1497 \nQ 3034 2003 2786 2293 \nQ 2538 2584 2113 2584 \nz\nM 3366 4563 \nL 3366 3988 \nQ 3128 4100 2886 4159 \nQ 2644 4219 2406 4219 \nQ 1781 4219 1451 3797 \nQ 1122 3375 1075 2522 \nQ 1259 2794 1537 2939 \nQ 1816 3084 2150 3084 \nQ 2853 3084 3261 2657 \nQ 3669 2231 3669 1497 \nQ 3669 778 3244 343 \nQ 2819 -91 2113 -91 \nQ 1303 -91 875 529 \nQ 447 1150 447 2328 \nQ 447 3434 972 4092 \nQ 1497 4750 2381 4750 \nQ 2619 4750 2861 4703 \nQ 3103 4656 3366 4563 \nz\n\" transform=\"scale(0.015625)\"/>\n       </defs>\n       <use xlink:href=\"#DejaVuSans-36\"/>\n       <use xlink:href=\"#DejaVuSans-30\" x=\"63.623047\"/>\n       <use xlink:href=\"#DejaVuSans-30\" x=\"127.246094\"/>\n       <use xlink:href=\"#DejaVuSans-30\" x=\"190.869141\"/>\n      </g>\n     </g>\n    </g>\n    <g id=\"ytick_3\">\n     <g id=\"line2d_12\">\n      <g>\n       <use xlink:href=\"#m2e373bc7e3\" x=\"59.690625\" y=\"125.579392\" style=\"fill: #ffffff; stroke: #ffffff; stroke-width: 0.8\"/>\n      </g>\n     </g>\n     <g id=\"text_13\">\n      <!-- 8000 -->\n      <g style=\"fill: #ffffff\" transform=\"translate(27.240625 129.378611)scale(0.1 -0.1)\">\n       <defs>\n        <path id=\"DejaVuSans-38\" d=\"M 2034 2216 \nQ 1584 2216 1326 1975 \nQ 1069 1734 1069 1313 \nQ 1069 891 1326 650 \nQ 1584 409 2034 409 \nQ 2484 409 2743 651 \nQ 3003 894 3003 1313 \nQ 3003 1734 2745 1975 \nQ 2488 2216 2034 2216 \nz\nM 1403 2484 \nQ 997 2584 770 2862 \nQ 544 3141 544 3541 \nQ 544 4100 942 4425 \nQ 1341 4750 2034 4750 \nQ 2731 4750 3128 4425 \nQ 3525 4100 3525 3541 \nQ 3525 3141 3298 2862 \nQ 3072 2584 2669 2484 \nQ 3125 2378 3379 2068 \nQ 3634 1759 3634 1313 \nQ 3634 634 3220 271 \nQ 2806 -91 2034 -91 \nQ 1263 -91 848 271 \nQ 434 634 434 1313 \nQ 434 1759 690 2068 \nQ 947 2378 1403 2484 \nz\nM 1172 3481 \nQ 1172 3119 1398 2916 \nQ 1625 2713 2034 2713 \nQ 2441 2713 2670 2916 \nQ 2900 3119 2900 3481 \nQ 2900 3844 2670 4047 \nQ 2441 4250 2034 4250 \nQ 1625 4250 1398 4047 \nQ 1172 3844 1172 3481 \nz\n\" transform=\"scale(0.015625)\"/>\n       </defs>\n       <use xlink:href=\"#DejaVuSans-38\"/>\n       <use xlink:href=\"#DejaVuSans-30\" x=\"63.623047\"/>\n       <use xlink:href=\"#DejaVuSans-30\" x=\"127.246094\"/>\n       <use xlink:href=\"#DejaVuSans-30\" x=\"190.869141\"/>\n      </g>\n     </g>\n    </g>\n    <g id=\"ytick_4\">\n     <g id=\"line2d_13\">\n      <g>\n       <use xlink:href=\"#m2e373bc7e3\" x=\"59.690625\" y=\"84.4292\" style=\"fill: #ffffff; stroke: #ffffff; stroke-width: 0.8\"/>\n      </g>\n     </g>\n     <g id=\"text_14\">\n      <!-- 10000 -->\n      <g style=\"fill: #ffffff\" transform=\"translate(20.878125 88.228419)scale(0.1 -0.1)\">\n       <use xlink:href=\"#DejaVuSans-31\"/>\n       <use xlink:href=\"#DejaVuSans-30\" x=\"63.623047\"/>\n       <use xlink:href=\"#DejaVuSans-30\" x=\"127.246094\"/>\n       <use xlink:href=\"#DejaVuSans-30\" x=\"190.869141\"/>\n       <use xlink:href=\"#DejaVuSans-30\" x=\"254.492188\"/>\n      </g>\n     </g>\n    </g>\n    <g id=\"ytick_5\">\n     <g id=\"line2d_14\">\n      <g>\n       <use xlink:href=\"#m2e373bc7e3\" x=\"59.690625\" y=\"43.279009\" style=\"fill: #ffffff; stroke: #ffffff; stroke-width: 0.8\"/>\n      </g>\n     </g>\n     <g id=\"text_15\">\n      <!-- 12000 -->\n      <g style=\"fill: #ffffff\" transform=\"translate(20.878125 47.078227)scale(0.1 -0.1)\">\n       <use xlink:href=\"#DejaVuSans-31\"/>\n       <use xlink:href=\"#DejaVuSans-32\" x=\"63.623047\"/>\n       <use xlink:href=\"#DejaVuSans-30\" x=\"127.246094\"/>\n       <use xlink:href=\"#DejaVuSans-30\" x=\"190.869141\"/>\n       <use xlink:href=\"#DejaVuSans-30\" x=\"254.492188\"/>\n      </g>\n     </g>\n    </g>\n    <g id=\"text_16\">\n     <!-- loss -->\n     <g style=\"fill: #ffffff\" transform=\"translate(14.798438 125.577813)rotate(-90)scale(0.1 -0.1)\">\n      <defs>\n       <path id=\"DejaVuSans-6c\" d=\"M 603 4863 \nL 1178 4863 \nL 1178 0 \nL 603 0 \nL 603 4863 \nz\n\" transform=\"scale(0.015625)\"/>\n      </defs>\n      <use xlink:href=\"#DejaVuSans-6c\"/>\n      <use xlink:href=\"#DejaVuSans-6f\" x=\"27.783203\"/>\n      <use xlink:href=\"#DejaVuSans-73\" x=\"88.964844\"/>\n      <use xlink:href=\"#DejaVuSans-73\" x=\"141.064453\"/>\n     </g>\n    </g>\n   </g>\n   <g id=\"line2d_15\">\n    <path d=\"M 74.908807 17.083636 \nL 76.438272 20.555222 \nL 77.967738 27.857271 \nL 79.497203 42.131887 \nL 81.026669 65.791881 \nL 82.556134 95.586468 \nL 84.0856 122.540698 \nL 85.615065 135.273075 \nL 87.144531 137.324085 \nL 99.380255 140.692182 \nL 111.615979 144.405936 \nL 114.67491 145.652237 \nL 123.851703 149.168067 \nL 128.4401 151.180669 \nL 134.557962 154.010116 \nL 136.087427 154.685809 \nL 140.675824 156.298332 \nL 143.734755 156.941906 \nL 146.793686 157.584326 \nL 160.558875 160.057446 \nL 169.735668 161.913334 \nL 178.912461 164.015359 \nL 183.500858 165.227903 \nL 185.030323 165.530291 \nL 186.559789 166.097071 \nL 188.089255 166.533498 \nL 189.61872 166.852562 \nL 191.148186 167.505962 \nL 195.736582 169.05683 \nL 200.324979 170.757209 \nL 201.854444 171.441914 \nL 203.38391 171.91051 \nL 212.560703 176.561797 \nL 214.090168 177.589929 \nL 217.149099 179.411257 \nL 218.678565 180.497608 \nL 220.20803 181.414526 \nL 221.737496 182.497321 \nL 224.796427 185.014354 \nL 226.325892 186.201712 \nL 230.914289 190.49602 \nL 237.032151 197.310325 \nL 238.561616 199.197789 \nL 243.150013 204.344828 \nL 246.208944 207.125711 \nL 247.738409 208.149231 \nL 249.267875 209.033192 \nL 250.79734 209.615825 \nL 255.385737 210.928125 \nL 256.915202 211.298522 \nL 263.033064 211.884053 \nL 264.56253 212.075553 \nL 266.091995 211.865593 \nL 269.150927 212.160847 \nL 270.680392 212.003902 \nL 273.739323 212.351247 \nL 276.798254 212.586866 \nL 281.386651 212.690877 \nL 284.445582 212.344225 \nL 285.975047 212.791884 \nL 290.563444 212.743335 \nL 292.092909 212.934729 \nL 295.15184 213.007109 \nL 296.681306 212.903319 \nL 298.210771 212.998037 \nL 299.740237 212.869799 \nL 301.269702 213.153284 \nL 302.799168 213.262323 \nL 307.387564 213.141404 \nL 308.91703 213.294788 \nL 310.446495 213.242035 \nL 316.564357 213.507014 \nL 318.093823 213.393555 \nL 327.270616 213.622478 \nL 328.800081 213.619976 \nL 333.388478 213.882992 \nL 342.565271 213.911343 \nL 344.094736 214.065943 \nL 345.624202 214.093038 \nL 347.153667 213.86529 \nL 348.683133 213.846312 \nL 350.212599 214.135439 \nL 353.27153 214.226379 \nL 354.800995 214.081027 \nL 356.330461 214.181647 \nL 357.859926 214.12172 \nL 359.389392 214.292108 \nL 360.918857 214.205889 \nL 362.448323 214.399339 \nL 363.977788 214.404317 \nL 365.507254 214.132822 \nL 367.036719 214.413037 \nL 368.566185 214.567501 \nL 373.154581 214.43742 \nL 374.684047 214.756364 \nL 377.742978 214.487049 \nL 379.272443 214.715043 \nL 379.272443 214.715043 \n\" clip-path=\"url(#p901774f868)\" style=\"fill: none; stroke: #8dd3c7; stroke-width: 1.5; stroke-linecap: square\"/>\n   </g>\n   <g id=\"line2d_16\">\n    <path d=\"M 74.908807 17.083636 \nL 76.438272 20.555222 \nL 77.967738 27.857271 \nL 79.497203 42.131887 \nL 81.026669 65.791881 \nL 82.556134 95.586468 \nL 84.0856 122.540698 \nL 85.615065 135.273075 \nL 87.144531 137.324085 \nL 99.380255 140.692182 \nL 111.615979 144.405936 \nL 114.67491 145.652237 \nL 123.851703 149.168067 \nL 128.4401 151.180669 \nL 134.557962 154.010116 \nL 136.087427 154.685809 \nL 140.675824 156.298332 \nL 143.734755 156.941906 \nL 146.793686 157.584326 \nL 160.558875 160.057446 \nL 169.735668 161.913334 \nL 178.912461 164.015359 \nL 183.500858 165.227903 \nL 185.030323 165.530291 \nL 186.559789 166.097071 \nL 188.089255 166.533498 \nL 189.61872 166.852562 \nL 191.148186 167.505962 \nL 195.736582 169.05683 \nL 200.324979 170.757209 \nL 201.854444 171.441914 \nL 203.38391 171.91051 \nL 212.560703 176.561797 \nL 214.090168 177.589929 \nL 217.149099 179.411257 \nL 218.678565 180.497608 \nL 220.20803 181.414526 \nL 221.737496 182.497321 \nL 224.796427 185.014354 \nL 226.325892 186.201712 \nL 230.914289 190.49602 \nL 237.032151 197.310325 \nL 238.561616 199.197789 \nL 243.150013 204.344828 \nL 246.208944 207.125711 \nL 247.738409 208.149231 \nL 249.267875 209.033192 \nL 250.79734 209.615825 \nL 255.385737 210.928125 \nL 256.915202 211.298522 \nL 263.033064 211.884053 \nL 264.56253 212.075553 \nL 266.091995 211.865593 \nL 269.150927 212.160847 \nL 270.680392 212.003902 \nL 273.739323 212.351247 \nL 276.798254 212.586866 \nL 281.386651 212.690877 \nL 284.445582 212.344225 \nL 285.975047 212.791884 \nL 290.563444 212.743335 \nL 292.092909 212.934729 \nL 295.15184 213.007109 \nL 296.681306 212.903319 \nL 298.210771 212.998037 \nL 299.740237 212.869799 \nL 301.269702 213.153284 \nL 302.799168 213.262323 \nL 307.387564 213.141404 \nL 308.91703 213.294788 \nL 310.446495 213.242035 \nL 316.564357 213.507014 \nL 318.093823 213.393555 \nL 327.270616 213.622478 \nL 328.800081 213.619976 \nL 333.388478 213.882992 \nL 342.565271 213.911343 \nL 344.094736 214.065943 \nL 345.624202 214.093038 \nL 347.153667 213.86529 \nL 348.683133 213.846312 \nL 350.212599 214.135439 \nL 353.27153 214.226379 \nL 354.800995 214.081027 \nL 356.330461 214.181647 \nL 357.859926 214.12172 \nL 359.389392 214.292108 \nL 360.918857 214.205889 \nL 362.448323 214.399339 \nL 363.977788 214.404317 \nL 365.507254 214.132822 \nL 367.036719 214.413037 \nL 368.566185 214.567501 \nL 373.154581 214.43742 \nL 374.684047 214.756364 \nL 377.742978 214.487049 \nL 379.272443 214.715043 \nL 379.272443 214.715043 \n\" clip-path=\"url(#p901774f868)\" style=\"fill: none; stroke: #feffb3; stroke-width: 1.5; stroke-linecap: square\"/>\n   </g>\n   <g id=\"patch_3\">\n    <path d=\"M 59.690625 224.64 \nL 59.690625 7.2 \n\" style=\"fill: none; stroke: #ffffff; stroke-width: 0.8; stroke-linejoin: miter; stroke-linecap: square\"/>\n   </g>\n   <g id=\"patch_4\">\n    <path d=\"M 394.490625 224.64 \nL 394.490625 7.2 \n\" style=\"fill: none; stroke: #ffffff; stroke-width: 0.8; stroke-linejoin: miter; stroke-linecap: square\"/>\n   </g>\n   <g id=\"patch_5\">\n    <path d=\"M 59.690625 224.64 \nL 394.490625 224.64 \n\" style=\"fill: none; stroke: #ffffff; stroke-width: 0.8; stroke-linejoin: miter; stroke-linecap: square\"/>\n   </g>\n   <g id=\"patch_6\">\n    <path d=\"M 59.690625 7.2 \nL 394.490625 7.2 \n\" style=\"fill: none; stroke: #ffffff; stroke-width: 0.8; stroke-linejoin: miter; stroke-linecap: square\"/>\n   </g>\n   <g id=\"legend_1\">\n    <g id=\"patch_7\">\n     <path d=\"M 333.46875 44.55625 \nL 387.490625 44.55625 \nQ 389.490625 44.55625 389.490625 42.55625 \nL 389.490625 14.2 \nQ 389.490625 12.2 387.490625 12.2 \nL 333.46875 12.2 \nQ 331.46875 12.2 331.46875 14.2 \nL 331.46875 42.55625 \nQ 331.46875 44.55625 333.46875 44.55625 \nz\n\" style=\"opacity: 0.8; stroke: #cccccc; stroke-linejoin: miter\"/>\n    </g>\n    <g id=\"line2d_17\">\n     <path d=\"M 335.46875 20.298438 \nL 345.46875 20.298438 \nL 355.46875 20.298438 \n\" style=\"fill: none; stroke: #8dd3c7; stroke-width: 1.5; stroke-linecap: square\"/>\n    </g>\n    <g id=\"text_17\">\n     <!-- loss -->\n     <g style=\"fill: #ffffff\" transform=\"translate(363.46875 23.798438)scale(0.1 -0.1)\">\n      <use xlink:href=\"#DejaVuSans-6c\"/>\n      <use xlink:href=\"#DejaVuSans-6f\" x=\"27.783203\"/>\n      <use xlink:href=\"#DejaVuSans-73\" x=\"88.964844\"/>\n      <use xlink:href=\"#DejaVuSans-73\" x=\"141.064453\"/>\n     </g>\n    </g>\n    <g id=\"line2d_18\">\n     <path d=\"M 335.46875 34.976562 \nL 345.46875 34.976562 \nL 355.46875 34.976562 \n\" style=\"fill: none; stroke: #feffb3; stroke-width: 1.5; stroke-linecap: square\"/>\n    </g>\n    <g id=\"text_18\">\n     <!-- mae -->\n     <g style=\"fill: #ffffff\" transform=\"translate(363.46875 38.476562)scale(0.1 -0.1)\">\n      <defs>\n       <path id=\"DejaVuSans-6d\" d=\"M 3328 2828 \nQ 3544 3216 3844 3400 \nQ 4144 3584 4550 3584 \nQ 5097 3584 5394 3201 \nQ 5691 2819 5691 2113 \nL 5691 0 \nL 5113 0 \nL 5113 2094 \nQ 5113 2597 4934 2840 \nQ 4756 3084 4391 3084 \nQ 3944 3084 3684 2787 \nQ 3425 2491 3425 1978 \nL 3425 0 \nL 2847 0 \nL 2847 2094 \nQ 2847 2600 2669 2842 \nQ 2491 3084 2119 3084 \nQ 1678 3084 1418 2786 \nQ 1159 2488 1159 1978 \nL 1159 0 \nL 581 0 \nL 581 3500 \nL 1159 3500 \nL 1159 2956 \nQ 1356 3278 1631 3431 \nQ 1906 3584 2284 3584 \nQ 2666 3584 2933 3390 \nQ 3200 3197 3328 2828 \nz\n\" transform=\"scale(0.015625)\"/>\n       <path id=\"DejaVuSans-61\" d=\"M 2194 1759 \nQ 1497 1759 1228 1600 \nQ 959 1441 959 1056 \nQ 959 750 1161 570 \nQ 1363 391 1709 391 \nQ 2188 391 2477 730 \nQ 2766 1069 2766 1631 \nL 2766 1759 \nL 2194 1759 \nz\nM 3341 1997 \nL 3341 0 \nL 2766 0 \nL 2766 531 \nQ 2569 213 2275 61 \nQ 1981 -91 1556 -91 \nQ 1019 -91 701 211 \nQ 384 513 384 1019 \nQ 384 1609 779 1909 \nQ 1175 2209 1959 2209 \nL 2766 2209 \nL 2766 2266 \nQ 2766 2663 2505 2880 \nQ 2244 3097 1772 3097 \nQ 1472 3097 1187 3025 \nQ 903 2953 641 2809 \nL 641 3341 \nQ 956 3463 1253 3523 \nQ 1550 3584 1831 3584 \nQ 2591 3584 2966 3190 \nQ 3341 2797 3341 1997 \nz\n\" transform=\"scale(0.015625)\"/>\n      </defs>\n      <use xlink:href=\"#DejaVuSans-6d\"/>\n      <use xlink:href=\"#DejaVuSans-61\" x=\"97.412109\"/>\n      <use xlink:href=\"#DejaVuSans-65\" x=\"158.691406\"/>\n     </g>\n    </g>\n   </g>\n  </g>\n </g>\n <defs>\n  <clipPath id=\"p901774f868\">\n   <rect x=\"59.690625\" y=\"7.2\" width=\"334.8\" height=\"217.44\"/>\n  </clipPath>\n </defs>\n</svg>\n",
      "text/plain": [
       "<Figure size 432x288 with 1 Axes>"
      ]
     },
     "metadata": {},
     "output_type": "display_data"
    }
   ],
   "source": [
    "# Plot history (also known as a loss curve or a training curve)\n",
    "pd.DataFrame(history.history).plot()\n",
    "plt.ylabel(\"loss\")\n",
    "plt.xlabel(\"epochs\")"
   ]
  },
  {
   "cell_type": "markdown",
   "metadata": {},
   "source": [
    ">❓**Question:** How long should you train for?\n",
    "\n",
    "It depends. Really... it depends on the problem you're working on. However, many people have asked this question before. TensorFlow has a solution! It's called the [early stopping callback](https://keras.io/api/callbacks/early_stopping/), which is a TensorFLow component you can add to your model to stop training once it stops improving a certain metric."
   ]
  },
  {
   "cell_type": "markdown",
   "metadata": {},
   "source": [
    "### Preprocessing data (normalization and standardization)\n",
    "\n",
    "In terms of scaling values, neural networks tend to prefer normalization.\n",
    "\n",
    "If you're not sure on which to use, you could try both and see which performs better.\n",
    "\n",
    "[Why scale?](https://towardsdatascience.com/scale-standardize-or-normalize-with-scikit-learn-6ccc7d176a02)"
   ]
  },
  {
   "cell_type": "code",
   "execution_count": 65,
   "metadata": {},
   "outputs": [
    {
     "data": {
      "text/html": [
       "<div>\n",
       "<style scoped>\n",
       "    .dataframe tbody tr th:only-of-type {\n",
       "        vertical-align: middle;\n",
       "    }\n",
       "\n",
       "    .dataframe tbody tr th {\n",
       "        vertical-align: top;\n",
       "    }\n",
       "\n",
       "    .dataframe thead th {\n",
       "        text-align: right;\n",
       "    }\n",
       "</style>\n",
       "<table border=\"1\" class=\"dataframe\">\n",
       "  <thead>\n",
       "    <tr style=\"text-align: right;\">\n",
       "      <th></th>\n",
       "      <th>age</th>\n",
       "      <th>sex</th>\n",
       "      <th>bmi</th>\n",
       "      <th>children</th>\n",
       "      <th>smoker</th>\n",
       "      <th>region</th>\n",
       "      <th>charges</th>\n",
       "    </tr>\n",
       "  </thead>\n",
       "  <tbody>\n",
       "    <tr>\n",
       "      <th>0</th>\n",
       "      <td>19</td>\n",
       "      <td>female</td>\n",
       "      <td>27.900</td>\n",
       "      <td>0</td>\n",
       "      <td>yes</td>\n",
       "      <td>southwest</td>\n",
       "      <td>16884.92400</td>\n",
       "    </tr>\n",
       "    <tr>\n",
       "      <th>1</th>\n",
       "      <td>18</td>\n",
       "      <td>male</td>\n",
       "      <td>33.770</td>\n",
       "      <td>1</td>\n",
       "      <td>no</td>\n",
       "      <td>southeast</td>\n",
       "      <td>1725.55230</td>\n",
       "    </tr>\n",
       "    <tr>\n",
       "      <th>2</th>\n",
       "      <td>28</td>\n",
       "      <td>male</td>\n",
       "      <td>33.000</td>\n",
       "      <td>3</td>\n",
       "      <td>no</td>\n",
       "      <td>southeast</td>\n",
       "      <td>4449.46200</td>\n",
       "    </tr>\n",
       "    <tr>\n",
       "      <th>3</th>\n",
       "      <td>33</td>\n",
       "      <td>male</td>\n",
       "      <td>22.705</td>\n",
       "      <td>0</td>\n",
       "      <td>no</td>\n",
       "      <td>northwest</td>\n",
       "      <td>21984.47061</td>\n",
       "    </tr>\n",
       "    <tr>\n",
       "      <th>4</th>\n",
       "      <td>32</td>\n",
       "      <td>male</td>\n",
       "      <td>28.880</td>\n",
       "      <td>0</td>\n",
       "      <td>no</td>\n",
       "      <td>northwest</td>\n",
       "      <td>3866.85520</td>\n",
       "    </tr>\n",
       "    <tr>\n",
       "      <th>...</th>\n",
       "      <td>...</td>\n",
       "      <td>...</td>\n",
       "      <td>...</td>\n",
       "      <td>...</td>\n",
       "      <td>...</td>\n",
       "      <td>...</td>\n",
       "      <td>...</td>\n",
       "    </tr>\n",
       "    <tr>\n",
       "      <th>1333</th>\n",
       "      <td>50</td>\n",
       "      <td>male</td>\n",
       "      <td>30.970</td>\n",
       "      <td>3</td>\n",
       "      <td>no</td>\n",
       "      <td>northwest</td>\n",
       "      <td>10600.54830</td>\n",
       "    </tr>\n",
       "    <tr>\n",
       "      <th>1334</th>\n",
       "      <td>18</td>\n",
       "      <td>female</td>\n",
       "      <td>31.920</td>\n",
       "      <td>0</td>\n",
       "      <td>no</td>\n",
       "      <td>northeast</td>\n",
       "      <td>2205.98080</td>\n",
       "    </tr>\n",
       "    <tr>\n",
       "      <th>1335</th>\n",
       "      <td>18</td>\n",
       "      <td>female</td>\n",
       "      <td>36.850</td>\n",
       "      <td>0</td>\n",
       "      <td>no</td>\n",
       "      <td>southeast</td>\n",
       "      <td>1629.83350</td>\n",
       "    </tr>\n",
       "    <tr>\n",
       "      <th>1336</th>\n",
       "      <td>21</td>\n",
       "      <td>female</td>\n",
       "      <td>25.800</td>\n",
       "      <td>0</td>\n",
       "      <td>no</td>\n",
       "      <td>southwest</td>\n",
       "      <td>2007.94500</td>\n",
       "    </tr>\n",
       "    <tr>\n",
       "      <th>1337</th>\n",
       "      <td>61</td>\n",
       "      <td>female</td>\n",
       "      <td>29.070</td>\n",
       "      <td>0</td>\n",
       "      <td>yes</td>\n",
       "      <td>northwest</td>\n",
       "      <td>29141.36030</td>\n",
       "    </tr>\n",
       "  </tbody>\n",
       "</table>\n",
       "<p>1338 rows × 7 columns</p>\n",
       "</div>"
      ],
      "text/plain": [
       "      age     sex     bmi  children smoker     region      charges\n",
       "0      19  female  27.900         0    yes  southwest  16884.92400\n",
       "1      18    male  33.770         1     no  southeast   1725.55230\n",
       "2      28    male  33.000         3     no  southeast   4449.46200\n",
       "3      33    male  22.705         0     no  northwest  21984.47061\n",
       "4      32    male  28.880         0     no  northwest   3866.85520\n",
       "...   ...     ...     ...       ...    ...        ...          ...\n",
       "1333   50    male  30.970         3     no  northwest  10600.54830\n",
       "1334   18  female  31.920         0     no  northeast   2205.98080\n",
       "1335   18  female  36.850         0     no  southeast   1629.83350\n",
       "1336   21  female  25.800         0     no  southwest   2007.94500\n",
       "1337   61  female  29.070         0    yes  northwest  29141.36030\n",
       "\n",
       "[1338 rows x 7 columns]"
      ]
     },
     "execution_count": 65,
     "metadata": {},
     "output_type": "execute_result"
    }
   ],
   "source": [
    "import pandas as pd\n",
    "import matplotlib.pyplot as plt\n",
    "import tensorflow as tf\n",
    "\n",
    "# Read in the insurance dataframe\n",
    "insurance = pd.read_csv(\"https://raw.githubusercontent.com/stedy/Machine-Learning-with-R-datasets/master/insurance.csv\")\n",
    "insurance"
   ]
  },
  {
   "cell_type": "markdown",
   "metadata": {},
   "source": [
    "To prepare our data, we can borrow a few classes from Scikit-Learn."
   ]
  },
  {
   "cell_type": "code",
   "execution_count": 66,
   "metadata": {},
   "outputs": [],
   "source": [
    "from sklearn.compose import make_column_transformer\n",
    "from sklearn.preprocessing import MinMaxScaler, OneHotEncoder\n",
    "from sklearn.model_selection import train_test_split\n",
    "\n",
    "# Create a column transformer\n",
    "ct = make_column_transformer(\n",
    "    (MinMaxScaler(), [\"age\", \"bmi\", \"children\"]), # turn all values in these columns between 0 and 1\n",
    "    (OneHotEncoder(handle_unknown=\"ignore\"), [\"sex\", \"smoker\", \"region\"]))\n",
    "\n",
    "# Create X and y\n",
    "X = insurance.drop(\"charges\", axis=1)\n",
    "y = insurance[\"charges\"]\n",
    "\n",
    "# Build train and test sets\n",
    "X_train, X_test, y_train, y_test = train_test_split(X, y, test_size=0.2, random_state=42)\n",
    "\n",
    "# Fit the column transformer to our training data\n",
    "# Zunächst nur auf Trainingsdaten fitten! Andernfalls würde man Daten \"aus der Zukunft\" bei trainieren berücksichtigen\n",
    "ct.fit(X_train)\n",
    "\n",
    "# Transform training and test data with normalization (MinMaxScaler) and OneHotEncoder\n",
    "X_train_normal = ct.transform(X_train)\n",
    "X_test_normal = ct.transform(X_test)\n"
   ]
  },
  {
   "cell_type": "code",
   "execution_count": 67,
   "metadata": {},
   "outputs": [
    {
     "data": {
      "text/plain": [
       "age                19\n",
       "sex            female\n",
       "bmi              27.9\n",
       "children            0\n",
       "smoker            yes\n",
       "region      southwest\n",
       "Name: 0, dtype: object"
      ]
     },
     "execution_count": 67,
     "metadata": {},
     "output_type": "execute_result"
    }
   ],
   "source": [
    "# What does our data look like now?\n",
    "X_train.loc[0]"
   ]
  },
  {
   "cell_type": "code",
   "execution_count": 68,
   "metadata": {},
   "outputs": [
    {
     "data": {
      "text/plain": [
       "array([0.60869565, 0.10734463, 0.4       , 1.        , 0.        ,\n",
       "       1.        , 0.        , 0.        , 1.        , 0.        ,\n",
       "       0.        ])"
      ]
     },
     "execution_count": 68,
     "metadata": {},
     "output_type": "execute_result"
    }
   ],
   "source": [
    "X_train_normal[0]"
   ]
  },
  {
   "cell_type": "code",
   "execution_count": 69,
   "metadata": {},
   "outputs": [
    {
     "data": {
      "text/plain": [
       "((1070, 6), (1070, 11))"
      ]
     },
     "execution_count": 69,
     "metadata": {},
     "output_type": "execute_result"
    }
   ],
   "source": [
    "X_train.shape, X_train_normal.shape"
   ]
  },
  {
   "cell_type": "markdown",
   "metadata": {},
   "source": [
    "Beautiful! Our data has been normalized and one hot encoded.\n",
    "Now let's build a neural network model on it and see how it goes."
   ]
  },
  {
   "cell_type": "code",
   "execution_count": 70,
   "metadata": {},
   "outputs": [
    {
     "name": "stdout",
     "output_type": "stream",
     "text": [
      "9/9 [==============================] - 0s 1ms/step - loss: 3439.5508 - mae: 3439.5508\n"
     ]
    },
    {
     "data": {
      "text/plain": [
       "[3439.55078125, 3439.55078125]"
      ]
     },
     "execution_count": 70,
     "metadata": {},
     "output_type": "execute_result"
    }
   ],
   "source": [
    "# Build a neural network model to fit our normalized data\n",
    "\n",
    "# Set random seed\n",
    "tf.random.set_seed(42)\n",
    "\n",
    "# 1. Build the model\n",
    "insurance_model_normalized = tf.keras.Sequential([\n",
    "    tf.keras.layers.Dense(100),\n",
    "    tf.keras.layers.Dense(10),\n",
    "    tf.keras.layers.Dense(1)])\n",
    "\n",
    "# 2. Compile the model\n",
    "insurance_model_normalized.compile(\n",
    "    loss=tf.keras.losses.mae,\n",
    "    optimizer=tf.keras.optimizers.Adam(),\n",
    "    metrics=[\"mae\"])\n",
    "\n",
    "# 3. Fit the model\n",
    "history = insurance_model_normalized.fit(X_train_normal, y_train, epochs=100, verbose=0)\n",
    "\n",
    "# 4. Evaluate the model\n",
    "insurance_model_normalized.evaluate(X_test_normal, y_test)"
   ]
  },
  {
   "cell_type": "code",
   "execution_count": 72,
   "metadata": {},
   "outputs": [
    {
     "data": {
      "text/plain": [
       "Text(0.5, 0, 'epochs')"
      ]
     },
     "execution_count": 72,
     "metadata": {},
     "output_type": "execute_result"
    },
    {
     "data": {
      "image/png": "[encoded data removed]",
      "image/svg+xml": "<?xml version=\"1.0\" encoding=\"utf-8\" standalone=\"no\"?>\n<!DOCTYPE svg PUBLIC \"-//W3C//DTD SVG 1.1//EN\"\n  \"http://www.w3.org/Graphics/SVG/1.1/DTD/svg11.dtd\">\n<svg xmlns:xlink=\"http://www.w3.org/1999/xlink\" width=\"401.690625pt\" height=\"262.19625pt\" viewBox=\"0 0 401.690625 262.19625\" xmlns=\"http://www.w3.org/2000/svg\" version=\"1.1\">\n <metadata>\n  <rdf:RDF xmlns:dc=\"http://purl.org/dc/elements/1.1/\" xmlns:cc=\"http://creativecommons.org/ns#\" xmlns:rdf=\"http://www.w3.org/1999/02/22-rdf-syntax-ns#\">\n   <cc:Work>\n    <dc:type rdf:resource=\"http://purl.org/dc/dcmitype/StillImage\"/>\n    <dc:date>2022-05-10T09:40:29.611413</dc:date>\n    <dc:format>image/svg+xml</dc:format>\n    <dc:creator>\n     <cc:Agent>\n      <dc:title>Matplotlib v3.5.1, https://matplotlib.org/</dc:title>\n     </cc:Agent>\n    </dc:creator>\n   </cc:Work>\n  </rdf:RDF>\n </metadata>\n <defs>\n  <style type=\"text/css\">*{stroke-linejoin: round; stroke-linecap: butt}</style>\n </defs>\n <g id=\"figure_1\">\n  <g id=\"patch_1\">\n   <path d=\"M 0 262.19625 \nL 401.690625 262.19625 \nL 401.690625 0 \nL 0 0 \nz\n\"/>\n  </g>\n  <g id=\"axes_1\">\n   <g id=\"patch_2\">\n    <path d=\"M 59.690625 224.64 \nL 394.490625 224.64 \nL 394.490625 7.2 \nL 59.690625 7.2 \nz\n\"/>\n   </g>\n   <g id=\"matplotlib.axis_1\">\n    <g id=\"xtick_1\">\n     <g id=\"line2d_1\">\n      <defs>\n       <path id=\"m38d5eaca9d\" d=\"M 0 0 \nL 0 3.5 \n\" style=\"stroke: #ffffff; stroke-width: 0.8\"/>\n      </defs>\n      <g>\n       <use xlink:href=\"#m38d5eaca9d\" x=\"74.908807\" y=\"224.64\" style=\"fill: #ffffff; stroke: #ffffff; stroke-width: 0.8\"/>\n      </g>\n     </g>\n     <g id=\"text_1\">\n      <!-- 0 -->\n      <g style=\"fill: #ffffff\" transform=\"translate(71.727557 239.238438)scale(0.1 -0.1)\">\n       <defs>\n        <path id=\"DejaVuSans-30\" d=\"M 2034 4250 \nQ 1547 4250 1301 3770 \nQ 1056 3291 1056 2328 \nQ 1056 1369 1301 889 \nQ 1547 409 2034 409 \nQ 2525 409 2770 889 \nQ 3016 1369 3016 2328 \nQ 3016 3291 2770 3770 \nQ 2525 4250 2034 4250 \nz\nM 2034 4750 \nQ 2819 4750 3233 4129 \nQ 3647 3509 3647 2328 \nQ 3647 1150 3233 529 \nQ 2819 -91 2034 -91 \nQ 1250 -91 836 529 \nQ 422 1150 422 2328 \nQ 422 3509 836 4129 \nQ 1250 4750 2034 4750 \nz\n\" transform=\"scale(0.015625)\"/>\n       </defs>\n       <use xlink:href=\"#DejaVuSans-30\"/>\n      </g>\n     </g>\n    </g>\n    <g id=\"xtick_2\">\n     <g id=\"line2d_2\">\n      <g>\n       <use xlink:href=\"#m38d5eaca9d\" x=\"136.39641\" y=\"224.64\" style=\"fill: #ffffff; stroke: #ffffff; stroke-width: 0.8\"/>\n      </g>\n     </g>\n     <g id=\"text_2\">\n      <!-- 20 -->\n      <g style=\"fill: #ffffff\" transform=\"translate(130.03391 239.238438)scale(0.1 -0.1)\">\n       <defs>\n        <path id=\"DejaVuSans-32\" d=\"M 1228 531 \nL 3431 531 \nL 3431 0 \nL 469 0 \nL 469 531 \nQ 828 903 1448 1529 \nQ 2069 2156 2228 2338 \nQ 2531 2678 2651 2914 \nQ 2772 3150 2772 3378 \nQ 2772 3750 2511 3984 \nQ 2250 4219 1831 4219 \nQ 1534 4219 1204 4116 \nQ 875 4013 500 3803 \nL 500 4441 \nQ 881 4594 1212 4672 \nQ 1544 4750 1819 4750 \nQ 2544 4750 2975 4387 \nQ 3406 4025 3406 3419 \nQ 3406 3131 3298 2873 \nQ 3191 2616 2906 2266 \nQ 2828 2175 2409 1742 \nQ 1991 1309 1228 531 \nz\n\" transform=\"scale(0.015625)\"/>\n       </defs>\n       <use xlink:href=\"#DejaVuSans-32\"/>\n       <use xlink:href=\"#DejaVuSans-30\" x=\"63.623047\"/>\n      </g>\n     </g>\n    </g>\n    <g id=\"xtick_3\">\n     <g id=\"line2d_3\">\n      <g>\n       <use xlink:href=\"#m38d5eaca9d\" x=\"197.884013\" y=\"224.64\" style=\"fill: #ffffff; stroke: #ffffff; stroke-width: 0.8\"/>\n      </g>\n     </g>\n     <g id=\"text_3\">\n      <!-- 40 -->\n      <g style=\"fill: #ffffff\" transform=\"translate(191.521513 239.238438)scale(0.1 -0.1)\">\n       <defs>\n        <path id=\"DejaVuSans-34\" d=\"M 2419 4116 \nL 825 1625 \nL 2419 1625 \nL 2419 4116 \nz\nM 2253 4666 \nL 3047 4666 \nL 3047 1625 \nL 3713 1625 \nL 3713 1100 \nL 3047 1100 \nL 3047 0 \nL 2419 0 \nL 2419 1100 \nL 313 1100 \nL 313 1709 \nL 2253 4666 \nz\n\" transform=\"scale(0.015625)\"/>\n       </defs>\n       <use xlink:href=\"#DejaVuSans-34\"/>\n       <use xlink:href=\"#DejaVuSans-30\" x=\"63.623047\"/>\n      </g>\n     </g>\n    </g>\n    <g id=\"xtick_4\">\n     <g id=\"line2d_4\">\n      <g>\n       <use xlink:href=\"#m38d5eaca9d\" x=\"259.371617\" y=\"224.64\" style=\"fill: #ffffff; stroke: #ffffff; stroke-width: 0.8\"/>\n      </g>\n     </g>\n     <g id=\"text_4\">\n      <!-- 60 -->\n      <g style=\"fill: #ffffff\" transform=\"translate(253.009117 239.238438)scale(0.1 -0.1)\">\n       <defs>\n        <path id=\"DejaVuSans-36\" d=\"M 2113 2584 \nQ 1688 2584 1439 2293 \nQ 1191 2003 1191 1497 \nQ 1191 994 1439 701 \nQ 1688 409 2113 409 \nQ 2538 409 2786 701 \nQ 3034 994 3034 1497 \nQ 3034 2003 2786 2293 \nQ 2538 2584 2113 2584 \nz\nM 3366 4563 \nL 3366 3988 \nQ 3128 4100 2886 4159 \nQ 2644 4219 2406 4219 \nQ 1781 4219 1451 3797 \nQ 1122 3375 1075 2522 \nQ 1259 2794 1537 2939 \nQ 1816 3084 2150 3084 \nQ 2853 3084 3261 2657 \nQ 3669 2231 3669 1497 \nQ 3669 778 3244 343 \nQ 2819 -91 2113 -91 \nQ 1303 -91 875 529 \nQ 447 1150 447 2328 \nQ 447 3434 972 4092 \nQ 1497 4750 2381 4750 \nQ 2619 4750 2861 4703 \nQ 3103 4656 3366 4563 \nz\n\" transform=\"scale(0.015625)\"/>\n       </defs>\n       <use xlink:href=\"#DejaVuSans-36\"/>\n       <use xlink:href=\"#DejaVuSans-30\" x=\"63.623047\"/>\n      </g>\n     </g>\n    </g>\n    <g id=\"xtick_5\">\n     <g id=\"line2d_5\">\n      <g>\n       <use xlink:href=\"#m38d5eaca9d\" x=\"320.85922\" y=\"224.64\" style=\"fill: #ffffff; stroke: #ffffff; stroke-width: 0.8\"/>\n      </g>\n     </g>\n     <g id=\"text_5\">\n      <!-- 80 -->\n      <g style=\"fill: #ffffff\" transform=\"translate(314.49672 239.238438)scale(0.1 -0.1)\">\n       <defs>\n        <path id=\"DejaVuSans-38\" d=\"M 2034 2216 \nQ 1584 2216 1326 1975 \nQ 1069 1734 1069 1313 \nQ 1069 891 1326 650 \nQ 1584 409 2034 409 \nQ 2484 409 2743 651 \nQ 3003 894 3003 1313 \nQ 3003 1734 2745 1975 \nQ 2488 2216 2034 2216 \nz\nM 1403 2484 \nQ 997 2584 770 2862 \nQ 544 3141 544 3541 \nQ 544 4100 942 4425 \nQ 1341 4750 2034 4750 \nQ 2731 4750 3128 4425 \nQ 3525 4100 3525 3541 \nQ 3525 3141 3298 2862 \nQ 3072 2584 2669 2484 \nQ 3125 2378 3379 2068 \nQ 3634 1759 3634 1313 \nQ 3634 634 3220 271 \nQ 2806 -91 2034 -91 \nQ 1263 -91 848 271 \nQ 434 634 434 1313 \nQ 434 1759 690 2068 \nQ 947 2378 1403 2484 \nz\nM 1172 3481 \nQ 1172 3119 1398 2916 \nQ 1625 2713 2034 2713 \nQ 2441 2713 2670 2916 \nQ 2900 3119 2900 3481 \nQ 2900 3844 2670 4047 \nQ 2441 4250 2034 4250 \nQ 1625 4250 1398 4047 \nQ 1172 3844 1172 3481 \nz\n\" transform=\"scale(0.015625)\"/>\n       </defs>\n       <use xlink:href=\"#DejaVuSans-38\"/>\n       <use xlink:href=\"#DejaVuSans-30\" x=\"63.623047\"/>\n      </g>\n     </g>\n    </g>\n    <g id=\"xtick_6\">\n     <g id=\"line2d_6\">\n      <g>\n       <use xlink:href=\"#m38d5eaca9d\" x=\"382.346823\" y=\"224.64\" style=\"fill: #ffffff; stroke: #ffffff; stroke-width: 0.8\"/>\n      </g>\n     </g>\n     <g id=\"text_6\">\n      <!-- 100 -->\n      <g style=\"fill: #ffffff\" transform=\"translate(372.803073 239.238438)scale(0.1 -0.1)\">\n       <defs>\n        <path id=\"DejaVuSans-31\" d=\"M 794 531 \nL 1825 531 \nL 1825 4091 \nL 703 3866 \nL 703 4441 \nL 1819 4666 \nL 2450 4666 \nL 2450 531 \nL 3481 531 \nL 3481 0 \nL 794 0 \nL 794 531 \nz\n\" transform=\"scale(0.015625)\"/>\n       </defs>\n       <use xlink:href=\"#DejaVuSans-31\"/>\n       <use xlink:href=\"#DejaVuSans-30\" x=\"63.623047\"/>\n       <use xlink:href=\"#DejaVuSans-30\" x=\"127.246094\"/>\n      </g>\n     </g>\n    </g>\n    <g id=\"text_7\">\n     <!-- epochs -->\n     <g style=\"fill: #ffffff\" transform=\"translate(209.257813 252.916563)scale(0.1 -0.1)\">\n      <defs>\n       <path id=\"DejaVuSans-65\" d=\"M 3597 1894 \nL 3597 1613 \nL 953 1613 \nQ 991 1019 1311 708 \nQ 1631 397 2203 397 \nQ 2534 397 2845 478 \nQ 3156 559 3463 722 \nL 3463 178 \nQ 3153 47 2828 -22 \nQ 2503 -91 2169 -91 \nQ 1331 -91 842 396 \nQ 353 884 353 1716 \nQ 353 2575 817 3079 \nQ 1281 3584 2069 3584 \nQ 2775 3584 3186 3129 \nQ 3597 2675 3597 1894 \nz\nM 3022 2063 \nQ 3016 2534 2758 2815 \nQ 2500 3097 2075 3097 \nQ 1594 3097 1305 2825 \nQ 1016 2553 972 2059 \nL 3022 2063 \nz\n\" transform=\"scale(0.015625)\"/>\n       <path id=\"DejaVuSans-70\" d=\"M 1159 525 \nL 1159 -1331 \nL 581 -1331 \nL 581 3500 \nL 1159 3500 \nL 1159 2969 \nQ 1341 3281 1617 3432 \nQ 1894 3584 2278 3584 \nQ 2916 3584 3314 3078 \nQ 3713 2572 3713 1747 \nQ 3713 922 3314 415 \nQ 2916 -91 2278 -91 \nQ 1894 -91 1617 61 \nQ 1341 213 1159 525 \nz\nM 3116 1747 \nQ 3116 2381 2855 2742 \nQ 2594 3103 2138 3103 \nQ 1681 3103 1420 2742 \nQ 1159 2381 1159 1747 \nQ 1159 1113 1420 752 \nQ 1681 391 2138 391 \nQ 2594 391 2855 752 \nQ 3116 1113 3116 1747 \nz\n\" transform=\"scale(0.015625)\"/>\n       <path id=\"DejaVuSans-6f\" d=\"M 1959 3097 \nQ 1497 3097 1228 2736 \nQ 959 2375 959 1747 \nQ 959 1119 1226 758 \nQ 1494 397 1959 397 \nQ 2419 397 2687 759 \nQ 2956 1122 2956 1747 \nQ 2956 2369 2687 2733 \nQ 2419 3097 1959 3097 \nz\nM 1959 3584 \nQ 2709 3584 3137 3096 \nQ 3566 2609 3566 1747 \nQ 3566 888 3137 398 \nQ 2709 -91 1959 -91 \nQ 1206 -91 779 398 \nQ 353 888 353 1747 \nQ 353 2609 779 3096 \nQ 1206 3584 1959 3584 \nz\n\" transform=\"scale(0.015625)\"/>\n       <path id=\"DejaVuSans-63\" d=\"M 3122 3366 \nL 3122 2828 \nQ 2878 2963 2633 3030 \nQ 2388 3097 2138 3097 \nQ 1578 3097 1268 2742 \nQ 959 2388 959 1747 \nQ 959 1106 1268 751 \nQ 1578 397 2138 397 \nQ 2388 397 2633 464 \nQ 2878 531 3122 666 \nL 3122 134 \nQ 2881 22 2623 -34 \nQ 2366 -91 2075 -91 \nQ 1284 -91 818 406 \nQ 353 903 353 1747 \nQ 353 2603 823 3093 \nQ 1294 3584 2113 3584 \nQ 2378 3584 2631 3529 \nQ 2884 3475 3122 3366 \nz\n\" transform=\"scale(0.015625)\"/>\n       <path id=\"DejaVuSans-68\" d=\"M 3513 2113 \nL 3513 0 \nL 2938 0 \nL 2938 2094 \nQ 2938 2591 2744 2837 \nQ 2550 3084 2163 3084 \nQ 1697 3084 1428 2787 \nQ 1159 2491 1159 1978 \nL 1159 0 \nL 581 0 \nL 581 4863 \nL 1159 4863 \nL 1159 2956 \nQ 1366 3272 1645 3428 \nQ 1925 3584 2291 3584 \nQ 2894 3584 3203 3211 \nQ 3513 2838 3513 2113 \nz\n\" transform=\"scale(0.015625)\"/>\n       <path id=\"DejaVuSans-73\" d=\"M 2834 3397 \nL 2834 2853 \nQ 2591 2978 2328 3040 \nQ 2066 3103 1784 3103 \nQ 1356 3103 1142 2972 \nQ 928 2841 928 2578 \nQ 928 2378 1081 2264 \nQ 1234 2150 1697 2047 \nL 1894 2003 \nQ 2506 1872 2764 1633 \nQ 3022 1394 3022 966 \nQ 3022 478 2636 193 \nQ 2250 -91 1575 -91 \nQ 1294 -91 989 -36 \nQ 684 19 347 128 \nL 347 722 \nQ 666 556 975 473 \nQ 1284 391 1588 391 \nQ 1994 391 2212 530 \nQ 2431 669 2431 922 \nQ 2431 1156 2273 1281 \nQ 2116 1406 1581 1522 \nL 1381 1569 \nQ 847 1681 609 1914 \nQ 372 2147 372 2553 \nQ 372 3047 722 3315 \nQ 1072 3584 1716 3584 \nQ 2034 3584 2315 3537 \nQ 2597 3491 2834 3397 \nz\n\" transform=\"scale(0.015625)\"/>\n      </defs>\n      <use xlink:href=\"#DejaVuSans-65\"/>\n      <use xlink:href=\"#DejaVuSans-70\" x=\"61.523438\"/>\n      <use xlink:href=\"#DejaVuSans-6f\" x=\"125\"/>\n      <use xlink:href=\"#DejaVuSans-63\" x=\"186.181641\"/>\n      <use xlink:href=\"#DejaVuSans-68\" x=\"241.162109\"/>\n      <use xlink:href=\"#DejaVuSans-73\" x=\"304.541016\"/>\n     </g>\n    </g>\n   </g>\n   <g id=\"matplotlib.axis_2\">\n    <g id=\"ytick_1\">\n     <g id=\"line2d_7\">\n      <defs>\n       <path id=\"m78e23f1588\" d=\"M 0 0 \nL -3.5 0 \n\" style=\"stroke: #ffffff; stroke-width: 0.8\"/>\n      </defs>\n      <g>\n       <use xlink:href=\"#m78e23f1588\" x=\"59.690625\" y=\"207.355152\" style=\"fill: #ffffff; stroke: #ffffff; stroke-width: 0.8\"/>\n      </g>\n     </g>\n     <g id=\"text_8\">\n      <!-- 4000 -->\n      <g style=\"fill: #ffffff\" transform=\"translate(27.240625 211.154371)scale(0.1 -0.1)\">\n       <use xlink:href=\"#DejaVuSans-34\"/>\n       <use xlink:href=\"#DejaVuSans-30\" x=\"63.623047\"/>\n       <use xlink:href=\"#DejaVuSans-30\" x=\"127.246094\"/>\n       <use xlink:href=\"#DejaVuSans-30\" x=\"190.869141\"/>\n      </g>\n     </g>\n    </g>\n    <g id=\"ytick_2\">\n     <g id=\"line2d_8\">\n      <g>\n       <use xlink:href=\"#m78e23f1588\" x=\"59.690625\" y=\"166.623341\" style=\"fill: #ffffff; stroke: #ffffff; stroke-width: 0.8\"/>\n      </g>\n     </g>\n     <g id=\"text_9\">\n      <!-- 6000 -->\n      <g style=\"fill: #ffffff\" transform=\"translate(27.240625 170.42256)scale(0.1 -0.1)\">\n       <use xlink:href=\"#DejaVuSans-36\"/>\n       <use xlink:href=\"#DejaVuSans-30\" x=\"63.623047\"/>\n       <use xlink:href=\"#DejaVuSans-30\" x=\"127.246094\"/>\n       <use xlink:href=\"#DejaVuSans-30\" x=\"190.869141\"/>\n      </g>\n     </g>\n    </g>\n    <g id=\"ytick_3\">\n     <g id=\"line2d_9\">\n      <g>\n       <use xlink:href=\"#m78e23f1588\" x=\"59.690625\" y=\"125.89153\" style=\"fill: #ffffff; stroke: #ffffff; stroke-width: 0.8\"/>\n      </g>\n     </g>\n     <g id=\"text_10\">\n      <!-- 8000 -->\n      <g style=\"fill: #ffffff\" transform=\"translate(27.240625 129.690748)scale(0.1 -0.1)\">\n       <use xlink:href=\"#DejaVuSans-38\"/>\n       <use xlink:href=\"#DejaVuSans-30\" x=\"63.623047\"/>\n       <use xlink:href=\"#DejaVuSans-30\" x=\"127.246094\"/>\n       <use xlink:href=\"#DejaVuSans-30\" x=\"190.869141\"/>\n      </g>\n     </g>\n    </g>\n    <g id=\"ytick_4\">\n     <g id=\"line2d_10\">\n      <g>\n       <use xlink:href=\"#m78e23f1588\" x=\"59.690625\" y=\"85.159719\" style=\"fill: #ffffff; stroke: #ffffff; stroke-width: 0.8\"/>\n      </g>\n     </g>\n     <g id=\"text_11\">\n      <!-- 10000 -->\n      <g style=\"fill: #ffffff\" transform=\"translate(20.878125 88.958937)scale(0.1 -0.1)\">\n       <use xlink:href=\"#DejaVuSans-31\"/>\n       <use xlink:href=\"#DejaVuSans-30\" x=\"63.623047\"/>\n       <use xlink:href=\"#DejaVuSans-30\" x=\"127.246094\"/>\n       <use xlink:href=\"#DejaVuSans-30\" x=\"190.869141\"/>\n       <use xlink:href=\"#DejaVuSans-30\" x=\"254.492188\"/>\n      </g>\n     </g>\n    </g>\n    <g id=\"ytick_5\">\n     <g id=\"line2d_11\">\n      <g>\n       <use xlink:href=\"#m78e23f1588\" x=\"59.690625\" y=\"44.427908\" style=\"fill: #ffffff; stroke: #ffffff; stroke-width: 0.8\"/>\n      </g>\n     </g>\n     <g id=\"text_12\">\n      <!-- 12000 -->\n      <g style=\"fill: #ffffff\" transform=\"translate(20.878125 48.227126)scale(0.1 -0.1)\">\n       <use xlink:href=\"#DejaVuSans-31\"/>\n       <use xlink:href=\"#DejaVuSans-32\" x=\"63.623047\"/>\n       <use xlink:href=\"#DejaVuSans-30\" x=\"127.246094\"/>\n       <use xlink:href=\"#DejaVuSans-30\" x=\"190.869141\"/>\n       <use xlink:href=\"#DejaVuSans-30\" x=\"254.492188\"/>\n      </g>\n     </g>\n    </g>\n    <g id=\"text_13\">\n     <!-- loss -->\n     <g style=\"fill: #ffffff\" transform=\"translate(14.798438 125.577813)rotate(-90)scale(0.1 -0.1)\">\n      <defs>\n       <path id=\"DejaVuSans-6c\" d=\"M 603 4863 \nL 1178 4863 \nL 1178 0 \nL 603 0 \nL 603 4863 \nz\n\" transform=\"scale(0.015625)\"/>\n      </defs>\n      <use xlink:href=\"#DejaVuSans-6c\"/>\n      <use xlink:href=\"#DejaVuSans-6f\" x=\"27.783203\"/>\n      <use xlink:href=\"#DejaVuSans-73\" x=\"88.964844\"/>\n      <use xlink:href=\"#DejaVuSans-73\" x=\"141.064453\"/>\n     </g>\n    </g>\n   </g>\n   <g id=\"line2d_12\">\n    <path d=\"M 74.908807 17.083636 \nL 77.983187 17.27041 \nL 81.057567 17.707362 \nL 84.131947 18.608156 \nL 87.206327 20.200992 \nL 90.280708 22.708644 \nL 93.355088 26.338986 \nL 96.429468 31.299038 \nL 99.503848 37.797811 \nL 102.578228 45.935681 \nL 105.652608 55.54085 \nL 108.726989 65.816046 \nL 111.801369 76.01674 \nL 114.875749 86.145098 \nL 117.950129 95.694142 \nL 121.024509 104.166101 \nL 124.098889 111.187406 \nL 127.17327 116.90573 \nL 130.24765 121.257391 \nL 133.32203 124.221317 \nL 136.39641 126.422356 \nL 139.47079 127.944379 \nL 142.54517 129.141105 \nL 145.619551 130.208674 \nL 148.693931 130.996988 \nL 151.768311 132.041695 \nL 154.842691 132.89579 \nL 157.917071 133.762057 \nL 160.991451 134.627907 \nL 164.065832 135.51445 \nL 167.140212 136.407049 \nL 170.214592 137.306312 \nL 173.288972 138.210168 \nL 176.363352 139.192495 \nL 179.437732 140.144869 \nL 182.512113 141.166486 \nL 185.586493 142.193055 \nL 188.660873 143.231368 \nL 191.735253 144.347018 \nL 194.809633 145.47656 \nL 197.884013 146.625533 \nL 200.958394 147.825759 \nL 204.032774 149.099991 \nL 207.107154 150.451181 \nL 210.181534 151.81875 \nL 213.255914 153.225777 \nL 216.330294 154.675177 \nL 219.404675 156.278207 \nL 222.479055 157.885204 \nL 225.553435 159.632555 \nL 228.627815 161.356576 \nL 231.702195 163.256383 \nL 234.776575 165.21153 \nL 237.850956 167.218994 \nL 240.925336 169.405972 \nL 243.999716 171.616677 \nL 247.074096 173.974627 \nL 250.148476 176.381444 \nL 253.222856 178.793342 \nL 256.297237 181.316785 \nL 259.371617 183.91309 \nL 262.445997 186.568842 \nL 265.520377 189.209955 \nL 268.594757 191.915628 \nL 271.669137 194.512281 \nL 274.743518 197.0757 \nL 277.817898 199.329722 \nL 280.892278 201.544435 \nL 283.966658 203.628151 \nL 287.041038 205.525333 \nL 290.115418 207.280386 \nL 293.189799 208.798551 \nL 296.264179 210.075984 \nL 299.338559 211.146467 \nL 302.412939 211.962893 \nL 305.487319 212.552943 \nL 308.561699 213.053106 \nL 311.63608 213.394647 \nL 314.71046 213.624877 \nL 317.78484 213.805093 \nL 320.85922 213.925677 \nL 323.9336 213.99038 \nL 327.00798 214.110149 \nL 330.082361 214.180182 \nL 333.156741 214.232334 \nL 336.231121 214.261769 \nL 339.305501 214.324558 \nL 342.379881 214.37144 \nL 345.454261 214.397603 \nL 348.528642 214.434482 \nL 351.603022 214.495197 \nL 354.677402 214.507025 \nL 357.751782 214.55344 \nL 360.826162 214.590021 \nL 363.900542 214.576258 \nL 366.974923 214.625343 \nL 370.049303 214.680608 \nL 373.123683 214.722275 \nL 376.198063 214.735655 \nL 379.272443 214.756364 \n\" clip-path=\"url(#p916e3b927e)\" style=\"fill: none; stroke: #8dd3c7; stroke-width: 1.5; stroke-linecap: square\"/>\n   </g>\n   <g id=\"line2d_13\">\n    <path d=\"M 74.908807 17.083636 \nL 77.983187 17.27041 \nL 81.057567 17.707362 \nL 84.131947 18.608156 \nL 87.206327 20.200992 \nL 90.280708 22.708644 \nL 93.355088 26.338986 \nL 96.429468 31.299038 \nL 99.503848 37.797811 \nL 102.578228 45.935681 \nL 105.652608 55.54085 \nL 108.726989 65.816046 \nL 111.801369 76.01674 \nL 114.875749 86.145098 \nL 117.950129 95.694142 \nL 121.024509 104.166101 \nL 124.098889 111.187406 \nL 127.17327 116.90573 \nL 130.24765 121.257391 \nL 133.32203 124.221317 \nL 136.39641 126.422356 \nL 139.47079 127.944379 \nL 142.54517 129.141105 \nL 145.619551 130.208674 \nL 148.693931 130.996988 \nL 151.768311 132.041695 \nL 154.842691 132.89579 \nL 157.917071 133.762057 \nL 160.991451 134.627907 \nL 164.065832 135.51445 \nL 167.140212 136.407049 \nL 170.214592 137.306312 \nL 173.288972 138.210168 \nL 176.363352 139.192495 \nL 179.437732 140.144869 \nL 182.512113 141.166486 \nL 185.586493 142.193055 \nL 188.660873 143.231368 \nL 191.735253 144.347018 \nL 194.809633 145.47656 \nL 197.884013 146.625533 \nL 200.958394 147.825749 \nL 204.032774 149.099991 \nL 207.107154 150.451181 \nL 210.181534 151.81875 \nL 213.255914 153.225777 \nL 216.330294 154.675177 \nL 219.404675 156.278207 \nL 222.479055 157.885204 \nL 225.553435 159.632555 \nL 228.627815 161.356576 \nL 231.702195 163.256383 \nL 234.776575 165.21153 \nL 237.850956 167.218994 \nL 240.925336 169.405972 \nL 243.999716 171.616677 \nL 247.074096 173.974627 \nL 250.148476 176.381444 \nL 253.222856 178.793342 \nL 256.297237 181.316785 \nL 259.371617 183.91309 \nL 262.445997 186.568842 \nL 265.520377 189.209955 \nL 268.594757 191.915628 \nL 271.669137 194.512281 \nL 274.743518 197.0757 \nL 277.817898 199.329722 \nL 280.892278 201.544435 \nL 283.966658 203.628151 \nL 287.041038 205.525333 \nL 290.115418 207.280386 \nL 293.189799 208.798551 \nL 296.264179 210.075984 \nL 299.338559 211.146467 \nL 302.412939 211.962893 \nL 305.487319 212.552943 \nL 308.561699 213.053106 \nL 311.63608 213.394647 \nL 314.71046 213.624877 \nL 317.78484 213.805093 \nL 320.85922 213.925677 \nL 323.9336 213.99038 \nL 327.00798 214.110149 \nL 330.082361 214.180182 \nL 333.156741 214.232334 \nL 336.231121 214.261769 \nL 339.305501 214.324558 \nL 342.379881 214.37144 \nL 345.454261 214.397603 \nL 348.528642 214.434482 \nL 351.603022 214.495197 \nL 354.677402 214.507025 \nL 357.751782 214.55344 \nL 360.826162 214.590021 \nL 363.900542 214.576258 \nL 366.974923 214.625343 \nL 370.049303 214.680608 \nL 373.123683 214.722275 \nL 376.198063 214.735655 \nL 379.272443 214.756364 \n\" clip-path=\"url(#p916e3b927e)\" style=\"fill: none; stroke: #feffb3; stroke-width: 1.5; stroke-linecap: square\"/>\n   </g>\n   <g id=\"patch_3\">\n    <path d=\"M 59.690625 224.64 \nL 59.690625 7.2 \n\" style=\"fill: none; stroke: #ffffff; stroke-width: 0.8; stroke-linejoin: miter; stroke-linecap: square\"/>\n   </g>\n   <g id=\"patch_4\">\n    <path d=\"M 394.490625 224.64 \nL 394.490625 7.2 \n\" style=\"fill: none; stroke: #ffffff; stroke-width: 0.8; stroke-linejoin: miter; stroke-linecap: square\"/>\n   </g>\n   <g id=\"patch_5\">\n    <path d=\"M 59.690625 224.64 \nL 394.490625 224.64 \n\" style=\"fill: none; stroke: #ffffff; stroke-width: 0.8; stroke-linejoin: miter; stroke-linecap: square\"/>\n   </g>\n   <g id=\"patch_6\">\n    <path d=\"M 59.690625 7.2 \nL 394.490625 7.2 \n\" style=\"fill: none; stroke: #ffffff; stroke-width: 0.8; stroke-linejoin: miter; stroke-linecap: square\"/>\n   </g>\n   <g id=\"legend_1\">\n    <g id=\"patch_7\">\n     <path d=\"M 333.46875 44.55625 \nL 387.490625 44.55625 \nQ 389.490625 44.55625 389.490625 42.55625 \nL 389.490625 14.2 \nQ 389.490625 12.2 387.490625 12.2 \nL 333.46875 12.2 \nQ 331.46875 12.2 331.46875 14.2 \nL 331.46875 42.55625 \nQ 331.46875 44.55625 333.46875 44.55625 \nz\n\" style=\"opacity: 0.8; stroke: #cccccc; stroke-linejoin: miter\"/>\n    </g>\n    <g id=\"line2d_14\">\n     <path d=\"M 335.46875 20.298438 \nL 345.46875 20.298438 \nL 355.46875 20.298438 \n\" style=\"fill: none; stroke: #8dd3c7; stroke-width: 1.5; stroke-linecap: square\"/>\n    </g>\n    <g id=\"text_14\">\n     <!-- loss -->\n     <g style=\"fill: #ffffff\" transform=\"translate(363.46875 23.798438)scale(0.1 -0.1)\">\n      <use xlink:href=\"#DejaVuSans-6c\"/>\n      <use xlink:href=\"#DejaVuSans-6f\" x=\"27.783203\"/>\n      <use xlink:href=\"#DejaVuSans-73\" x=\"88.964844\"/>\n      <use xlink:href=\"#DejaVuSans-73\" x=\"141.064453\"/>\n     </g>\n    </g>\n    <g id=\"line2d_15\">\n     <path d=\"M 335.46875 34.976562 \nL 345.46875 34.976562 \nL 355.46875 34.976562 \n\" style=\"fill: none; stroke: #feffb3; stroke-width: 1.5; stroke-linecap: square\"/>\n    </g>\n    <g id=\"text_15\">\n     <!-- mae -->\n     <g style=\"fill: #ffffff\" transform=\"translate(363.46875 38.476562)scale(0.1 -0.1)\">\n      <defs>\n       <path id=\"DejaVuSans-6d\" d=\"M 3328 2828 \nQ 3544 3216 3844 3400 \nQ 4144 3584 4550 3584 \nQ 5097 3584 5394 3201 \nQ 5691 2819 5691 2113 \nL 5691 0 \nL 5113 0 \nL 5113 2094 \nQ 5113 2597 4934 2840 \nQ 4756 3084 4391 3084 \nQ 3944 3084 3684 2787 \nQ 3425 2491 3425 1978 \nL 3425 0 \nL 2847 0 \nL 2847 2094 \nQ 2847 2600 2669 2842 \nQ 2491 3084 2119 3084 \nQ 1678 3084 1418 2786 \nQ 1159 2488 1159 1978 \nL 1159 0 \nL 581 0 \nL 581 3500 \nL 1159 3500 \nL 1159 2956 \nQ 1356 3278 1631 3431 \nQ 1906 3584 2284 3584 \nQ 2666 3584 2933 3390 \nQ 3200 3197 3328 2828 \nz\n\" transform=\"scale(0.015625)\"/>\n       <path id=\"DejaVuSans-61\" d=\"M 2194 1759 \nQ 1497 1759 1228 1600 \nQ 959 1441 959 1056 \nQ 959 750 1161 570 \nQ 1363 391 1709 391 \nQ 2188 391 2477 730 \nQ 2766 1069 2766 1631 \nL 2766 1759 \nL 2194 1759 \nz\nM 3341 1997 \nL 3341 0 \nL 2766 0 \nL 2766 531 \nQ 2569 213 2275 61 \nQ 1981 -91 1556 -91 \nQ 1019 -91 701 211 \nQ 384 513 384 1019 \nQ 384 1609 779 1909 \nQ 1175 2209 1959 2209 \nL 2766 2209 \nL 2766 2266 \nQ 2766 2663 2505 2880 \nQ 2244 3097 1772 3097 \nQ 1472 3097 1187 3025 \nQ 903 2953 641 2809 \nL 641 3341 \nQ 956 3463 1253 3523 \nQ 1550 3584 1831 3584 \nQ 2591 3584 2966 3190 \nQ 3341 2797 3341 1997 \nz\n\" transform=\"scale(0.015625)\"/>\n      </defs>\n      <use xlink:href=\"#DejaVuSans-6d\"/>\n      <use xlink:href=\"#DejaVuSans-61\" x=\"97.412109\"/>\n      <use xlink:href=\"#DejaVuSans-65\" x=\"158.691406\"/>\n     </g>\n    </g>\n   </g>\n  </g>\n </g>\n <defs>\n  <clipPath id=\"p916e3b927e\">\n   <rect x=\"59.690625\" y=\"7.2\" width=\"334.8\" height=\"217.44\"/>\n  </clipPath>\n </defs>\n</svg>\n",
      "text/plain": [
       "<Figure size 432x288 with 1 Axes>"
      ]
     },
     "metadata": {},
     "output_type": "display_data"
    }
   ],
   "source": [
    "# Plot history\n",
    "pd.DataFrame(history.history).plot()\n",
    "plt.ylabel(\"loss\")\n",
    "plt.xlabel(\"epochs\")"
   ]
  }
 ],
 "metadata": {
  "interpreter": {
   "hash": "63418e73e250c304d26eaf03185e2f59ff2277f62dd1cc8bba54019c2c46cc60"
  },
  "kernelspec": {
   "display_name": "Python 3.9.7 ('udemy_tensorflow')",
   "language": "python",
   "name": "python3"
  },
  "language_info": {
   "codemirror_mode": {
    "name": "ipython",
    "version": 3
   },
   "file_extension": ".py",
   "mimetype": "text/x-python",
   "name": "python",
   "nbconvert_exporter": "python",
   "pygments_lexer": "ipython3",
   "version": "3.9.7"
  },
  "orig_nbformat": 4
 },
 "nbformat": 4,
 "nbformat_minor": 2
}
