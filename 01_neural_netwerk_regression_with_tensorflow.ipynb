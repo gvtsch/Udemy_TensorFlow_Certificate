{
 "cells": [
  {
   "cell_type": "markdown",
   "metadata": {},
   "source": [
    "# Introduction to Regression with Neural Networks in TensorFlow\n",
    "\n",
    "There are many definitions for regression problem but in our case, we're going to simplify it: predicting a numerical variable based on some other combination of variables, even shorter ... predicting a number"
   ]
  },
  {
   "cell_type": "markdown",
   "metadata": {},
   "source": [
    ">🔑 **Note:** Hyperparameter\n",
    "* Input layer shape: Same shape as number of features(e.g. # bedrooms, # bathrooms, ...)\n",
    "* Hidden layer(s): Problem specific, minimum = 1, maximum = unlimited\n",
    "* Neurons per hidden layer: Problem specific, generally 10 to 100\n",
    "* Output layer shape: Same shape as desired prediction shape\n",
    "* Hidden activation: Usually ReLU\n",
    "* Output activation: None, ReLU, tanh\n",
    "* Loss function: MSE, MAE\n",
    "* Optimizer: SGD, Adam, ..."
   ]
  },
  {
   "cell_type": "code",
   "execution_count": 37,
   "metadata": {},
   "outputs": [
    {
     "name": "stdout",
     "output_type": "stream",
     "text": [
      "2.6.3\n"
     ]
    },
    {
     "data": {
      "text/plain": [
       "[PhysicalDevice(name='/physical_device:GPU:0', device_type='GPU')]"
      ]
     },
     "execution_count": 37,
     "metadata": {},
     "output_type": "execute_result"
    }
   ],
   "source": [
    "# Import TensorFlow\n",
    "import tensorflow as tf\n",
    "print(tf.__version__)\n",
    "tf.config.list_physical_devices(\"GPU\")"
   ]
  },
  {
   "cell_type": "markdown",
   "metadata": {},
   "source": [
    "# Creating some data to view and to fit"
   ]
  },
  {
   "cell_type": "code",
   "execution_count": 38,
   "metadata": {},
   "outputs": [
    {
     "data": {
      "text/plain": [
       "<matplotlib.collections.PathCollection at 0x1966651d220>"
      ]
     },
     "execution_count": 38,
     "metadata": {},
     "output_type": "execute_result"
    },
    {
     "data": {
      "image/png": "[encoded data removed]",
      "text/plain": [
       "<Figure size 432x288 with 1 Axes>"
      ]
     },
     "metadata": {
      "needs_background": "light"
     },
     "output_type": "display_data"
    }
   ],
   "source": [
    "import numpy as np\n",
    "import matplotlib.pyplot as plt\n",
    "\n",
    "# Create features\n",
    "X = np.array([-7., -4., -1., 2., 5., 8., 11., 14.])\n",
    "\n",
    "# Create labels\n",
    "y = np.array([3., 6., 9., 12., 15., 18., 21., 24])\n",
    "\n",
    "# Visualize\n",
    "plt.scatter(X, y)"
   ]
  },
  {
   "cell_type": "code",
   "execution_count": 39,
   "metadata": {},
   "outputs": [
    {
     "data": {
      "text/plain": [
       "array([ True,  True,  True,  True,  True,  True,  True,  True])"
      ]
     },
     "execution_count": 39,
     "metadata": {},
     "output_type": "execute_result"
    }
   ],
   "source": [
    "# This is the relationship our neural network should learn\n",
    "y == X + 10"
   ]
  },
  {
   "cell_type": "markdown",
   "metadata": {},
   "source": [
    "## Input and output shapes\n"
   ]
  },
  {
   "cell_type": "code",
   "execution_count": 40,
   "metadata": {},
   "outputs": [
    {
     "data": {
      "text/plain": [
       "(<tf.Tensor: shape=(3,), dtype=string, numpy=array([b'bedroom', b'bathroom', b'garage'], dtype=object)>,\n",
       " <tf.Tensor: shape=(1,), dtype=int32, numpy=array([939700])>)"
      ]
     },
     "execution_count": 40,
     "metadata": {},
     "output_type": "execute_result"
    }
   ],
   "source": [
    "# Create a demo tensor for our housing price prediction problem\n",
    "house_info = tf.constant([\"bedroom\", \"bathroom\", \"garage\"])\n",
    "house_price = tf.constant([939_700])\n",
    "house_info, house_price"
   ]
  },
  {
   "cell_type": "code",
   "execution_count": 41,
   "metadata": {},
   "outputs": [
    {
     "data": {
      "text/plain": [
       "((), ())"
      ]
     },
     "execution_count": 41,
     "metadata": {},
     "output_type": "execute_result"
    }
   ],
   "source": [
    "input_shape = X[0].shape\n",
    "output_shape = y[0].shape\n",
    "input_shape, output_shape"
   ]
  },
  {
   "cell_type": "code",
   "execution_count": 42,
   "metadata": {},
   "outputs": [
    {
     "data": {
      "text/plain": [
       "0"
      ]
     },
     "execution_count": 42,
     "metadata": {},
     "output_type": "execute_result"
    }
   ],
   "source": [
    "X[0].ndim"
   ]
  },
  {
   "cell_type": "code",
   "execution_count": 43,
   "metadata": {},
   "outputs": [
    {
     "data": {
      "text/plain": [
       "(-7.0, 3.0)"
      ]
     },
     "execution_count": 43,
     "metadata": {},
     "output_type": "execute_result"
    }
   ],
   "source": [
    "X[0], y[0]"
   ]
  },
  {
   "cell_type": "code",
   "execution_count": 44,
   "metadata": {},
   "outputs": [
    {
     "data": {
      "text/plain": [
       "(<tf.Tensor: shape=(8,), dtype=float32, numpy=array([-7., -4., -1.,  2.,  5.,  8., 11., 14.], dtype=float32)>,\n",
       " <tf.Tensor: shape=(8,), dtype=float32, numpy=array([ 3.,  6.,  9., 12., 15., 18., 21., 24.], dtype=float32)>)"
      ]
     },
     "execution_count": 44,
     "metadata": {},
     "output_type": "execute_result"
    }
   ],
   "source": [
    "# Turn our NumPy arrays into tensors\n",
    "X = tf.constant(X, dtype=tf.float32)\n",
    "y = tf.constant(y, dtype=tf.float32)\n",
    "X, y"
   ]
  },
  {
   "cell_type": "code",
   "execution_count": 45,
   "metadata": {},
   "outputs": [
    {
     "data": {
      "text/plain": [
       "(TensorShape([]), TensorShape([]))"
      ]
     },
     "execution_count": 45,
     "metadata": {},
     "output_type": "execute_result"
    }
   ],
   "source": [
    "input_shape = X[0].shape\n",
    "output_shape = y[0].shape\n",
    "input_shape, output_shape"
   ]
  },
  {
   "cell_type": "markdown",
   "metadata": {},
   "source": [
    "## Steps in modelling with TensorFlow\n",
    "\n",
    "1. **Creating a model** - define the input and output layers, as well as the hidden layers of a deep learning model\n",
    "2. **Compiling a model** - define the loss function (in other words, the function which tells our model how ring it is) and the optimizer (tells our model how to improve the patterns its learning) and evaluation matrix (what we can use to interpret the performance of our model)\n",
    "3. **Fitting a model** - letting the model try to find patterns between X & y (features and labels)."
   ]
  },
  {
   "cell_type": "code",
   "execution_count": 46,
   "metadata": {},
   "outputs": [
    {
     "name": "stdout",
     "output_type": "stream",
     "text": [
      "Epoch 1/5\n",
      "1/1 [==============================] - 0s 148ms/step - loss: 11.5048 - mae: 11.5048\n",
      "Epoch 2/5\n",
      "1/1 [==============================] - 0s 4ms/step - loss: 11.3723 - mae: 11.3723\n",
      "Epoch 3/5\n",
      "1/1 [==============================] - 0s 2ms/step - loss: 11.2398 - mae: 11.2398\n",
      "Epoch 4/5\n",
      "1/1 [==============================] - 0s 3ms/step - loss: 11.1073 - mae: 11.1073\n",
      "Epoch 5/5\n",
      "1/1 [==============================] - 0s 4ms/step - loss: 10.9748 - mae: 10.9748\n"
     ]
    },
    {
     "data": {
      "text/plain": [
       "<keras.callbacks.History at 0x19666a58490>"
      ]
     },
     "execution_count": 46,
     "metadata": {},
     "output_type": "execute_result"
    }
   ],
   "source": [
    "# Set random seed\n",
    "tf.random.set_seed(42)\n",
    "\n",
    "# 1. Create a model using the Sequential API\n",
    "model = tf.keras.Sequential([\n",
    "    tf.keras.layers.Dense(1)]) # This way we're adding Layers like in a list. We can also use `model.add`\n",
    "\n",
    "# 2. Compile the model\n",
    "model.compile(\n",
    "    loss=tf.keras.losses.mae, # mean absolute error of predicted values\n",
    "    optimizer=tf.keras.optimizers.SGD(), # stochastic gradient descent\n",
    "    metrics = [\"mae\"])\n",
    "\n",
    "# 3. Fit the model\n",
    "model.fit(tf.expand_dims(X, axis=-1), y, epochs=5)"
   ]
  },
  {
   "cell_type": "code",
   "execution_count": 47,
   "metadata": {},
   "outputs": [
    {
     "data": {
      "text/plain": [
       "(<tf.Tensor: shape=(8,), dtype=float32, numpy=array([-7., -4., -1.,  2.,  5.,  8., 11., 14.], dtype=float32)>,\n",
       " <tf.Tensor: shape=(8,), dtype=float32, numpy=array([ 3.,  6.,  9., 12., 15., 18., 21., 24.], dtype=float32)>)"
      ]
     },
     "execution_count": 47,
     "metadata": {},
     "output_type": "execute_result"
    }
   ],
   "source": [
    "# Check out X and y\n",
    "X, y"
   ]
  },
  {
   "cell_type": "code",
   "execution_count": 48,
   "metadata": {},
   "outputs": [
    {
     "data": {
      "text/plain": [
       "array([[12.716021]], dtype=float32)"
      ]
     },
     "execution_count": 48,
     "metadata": {},
     "output_type": "execute_result"
    }
   ],
   "source": [
    "# Try and make a prediction using our model\n",
    "y_pred = model.predict([17.])\n",
    "y_pred"
   ]
  },
  {
   "cell_type": "markdown",
   "metadata": {},
   "source": [
    "## Improving our model\n",
    "\n",
    "We can improve our model, by altering the steps we tool to create a model\n",
    "\n",
    "1. **Creating a model** - here we might add more layers, increase the number of hidden units (all called neurons) within each of the hidden layers, change the activation function of each layer.\n",
    "2. **Compiling a model** - here we might chagen the optimization function or perhaps the **learning rate** of the optimization function.\n",
    "3. **Fitting a model** - here we might fit a model for more **epochs** (leave it training for longer) or on more data (give the model more examples to learn from)."
   ]
  },
  {
   "cell_type": "code",
   "execution_count": 49,
   "metadata": {},
   "outputs": [
    {
     "name": "stdout",
     "output_type": "stream",
     "text": [
      "Epoch 1/100\n",
      "1/1 [==============================] - 0s 144ms/step - loss: 11.2219 - mae: 11.2219\n",
      "Epoch 2/100\n",
      "1/1 [==============================] - 0s 3ms/step - loss: 11.0894 - mae: 11.0894\n",
      "Epoch 3/100\n",
      "1/1 [==============================] - 0s 3ms/step - loss: 10.9569 - mae: 10.9569\n",
      "Epoch 4/100\n",
      "1/1 [==============================] - 0s 3ms/step - loss: 10.8244 - mae: 10.8244\n",
      "Epoch 5/100\n",
      "1/1 [==============================] - 0s 8ms/step - loss: 10.6919 - mae: 10.6919\n",
      "Epoch 6/100\n",
      "1/1 [==============================] - 0s 3ms/step - loss: 10.5594 - mae: 10.5594\n",
      "Epoch 7/100\n",
      "1/1 [==============================] - 0s 3ms/step - loss: 10.4269 - mae: 10.4269\n",
      "Epoch 8/100\n",
      "1/1 [==============================] - 0s 3ms/step - loss: 10.2944 - mae: 10.2944\n",
      "Epoch 9/100\n",
      "1/1 [==============================] - 0s 4ms/step - loss: 10.1619 - mae: 10.1619\n",
      "Epoch 10/100\n",
      "1/1 [==============================] - 0s 3ms/step - loss: 10.0294 - mae: 10.0294\n",
      "Epoch 11/100\n",
      "1/1 [==============================] - 0s 3ms/step - loss: 9.8969 - mae: 9.8969\n",
      "Epoch 12/100\n",
      "1/1 [==============================] - 0s 3ms/step - loss: 9.7644 - mae: 9.7644\n",
      "Epoch 13/100\n",
      "1/1 [==============================] - 0s 3ms/step - loss: 9.6319 - mae: 9.6319\n",
      "Epoch 14/100\n",
      "1/1 [==============================] - 0s 4ms/step - loss: 9.4994 - mae: 9.4994\n",
      "Epoch 15/100\n",
      "1/1 [==============================] - 0s 10ms/step - loss: 9.3669 - mae: 9.3669\n",
      "Epoch 16/100\n",
      "1/1 [==============================] - 0s 3ms/step - loss: 9.2344 - mae: 9.2344\n",
      "Epoch 17/100\n",
      "1/1 [==============================] - 0s 6ms/step - loss: 9.1019 - mae: 9.1019\n",
      "Epoch 18/100\n",
      "1/1 [==============================] - 0s 5ms/step - loss: 8.9694 - mae: 8.9694\n",
      "Epoch 19/100\n",
      "1/1 [==============================] - 0s 4ms/step - loss: 8.8369 - mae: 8.8369\n",
      "Epoch 20/100\n",
      "1/1 [==============================] - 0s 7ms/step - loss: 8.7044 - mae: 8.7044\n",
      "Epoch 21/100\n",
      "1/1 [==============================] - 0s 5ms/step - loss: 8.5719 - mae: 8.5719\n",
      "Epoch 22/100\n",
      "1/1 [==============================] - 0s 3ms/step - loss: 8.4394 - mae: 8.4394\n",
      "Epoch 23/100\n",
      "1/1 [==============================] - 0s 3ms/step - loss: 8.3069 - mae: 8.3069\n",
      "Epoch 24/100\n",
      "1/1 [==============================] - 0s 3ms/step - loss: 8.1744 - mae: 8.1744\n",
      "Epoch 25/100\n",
      "1/1 [==============================] - 0s 3ms/step - loss: 8.0419 - mae: 8.0419\n",
      "Epoch 26/100\n",
      "1/1 [==============================] - 0s 3ms/step - loss: 7.9094 - mae: 7.9094\n",
      "Epoch 27/100\n",
      "1/1 [==============================] - 0s 3ms/step - loss: 7.7769 - mae: 7.7769\n",
      "Epoch 28/100\n",
      "1/1 [==============================] - 0s 4ms/step - loss: 7.6444 - mae: 7.6444\n",
      "Epoch 29/100\n",
      "1/1 [==============================] - 0s 5ms/step - loss: 7.5119 - mae: 7.5119\n",
      "Epoch 30/100\n",
      "1/1 [==============================] - 0s 5ms/step - loss: 7.3794 - mae: 7.3794\n",
      "Epoch 31/100\n",
      "1/1 [==============================] - 0s 5ms/step - loss: 7.2750 - mae: 7.2750\n",
      "Epoch 32/100\n",
      "1/1 [==============================] - 0s 4ms/step - loss: 7.2694 - mae: 7.2694\n",
      "Epoch 33/100\n",
      "1/1 [==============================] - 0s 3ms/step - loss: 7.2638 - mae: 7.2638\n",
      "Epoch 34/100\n",
      "1/1 [==============================] - 0s 3ms/step - loss: 7.2581 - mae: 7.2581\n",
      "Epoch 35/100\n",
      "1/1 [==============================] - 0s 6ms/step - loss: 7.2525 - mae: 7.2525\n",
      "Epoch 36/100\n",
      "1/1 [==============================] - 0s 4ms/step - loss: 7.2469 - mae: 7.2469\n",
      "Epoch 37/100\n",
      "1/1 [==============================] - 0s 6ms/step - loss: 7.2413 - mae: 7.2413\n",
      "Epoch 38/100\n",
      "1/1 [==============================] - 0s 4ms/step - loss: 7.2356 - mae: 7.2356\n",
      "Epoch 39/100\n",
      "1/1 [==============================] - 0s 2ms/step - loss: 7.2300 - mae: 7.2300\n",
      "Epoch 40/100\n",
      "1/1 [==============================] - 0s 3ms/step - loss: 7.2244 - mae: 7.2244\n",
      "Epoch 41/100\n",
      "1/1 [==============================] - 0s 3ms/step - loss: 7.2188 - mae: 7.2188\n",
      "Epoch 42/100\n",
      "1/1 [==============================] - 0s 3ms/step - loss: 7.2131 - mae: 7.2131\n",
      "Epoch 43/100\n",
      "1/1 [==============================] - 0s 4ms/step - loss: 7.2075 - mae: 7.2075\n",
      "Epoch 44/100\n",
      "1/1 [==============================] - 0s 4ms/step - loss: 7.2019 - mae: 7.2019\n",
      "Epoch 45/100\n",
      "1/1 [==============================] - 0s 4ms/step - loss: 7.1962 - mae: 7.1962\n",
      "Epoch 46/100\n",
      "1/1 [==============================] - 0s 4ms/step - loss: 7.1906 - mae: 7.1906\n",
      "Epoch 47/100\n",
      "1/1 [==============================] - 0s 4ms/step - loss: 7.1850 - mae: 7.1850\n",
      "Epoch 48/100\n",
      "1/1 [==============================] - 0s 4ms/step - loss: 7.1794 - mae: 7.1794\n",
      "Epoch 49/100\n",
      "1/1 [==============================] - 0s 3ms/step - loss: 7.1737 - mae: 7.1737\n",
      "Epoch 50/100\n",
      "1/1 [==============================] - 0s 3ms/step - loss: 7.1681 - mae: 7.1681\n",
      "Epoch 51/100\n",
      "1/1 [==============================] - 0s 3ms/step - loss: 7.1625 - mae: 7.1625\n",
      "Epoch 52/100\n",
      "1/1 [==============================] - 0s 3ms/step - loss: 7.1569 - mae: 7.1569\n",
      "Epoch 53/100\n",
      "1/1 [==============================] - 0s 3ms/step - loss: 7.1512 - mae: 7.1512\n",
      "Epoch 54/100\n",
      "1/1 [==============================] - 0s 5ms/step - loss: 7.1456 - mae: 7.1456\n",
      "Epoch 55/100\n",
      "1/1 [==============================] - 0s 3ms/step - loss: 7.1400 - mae: 7.1400\n",
      "Epoch 56/100\n",
      "1/1 [==============================] - 0s 4ms/step - loss: 7.1344 - mae: 7.1344\n",
      "Epoch 57/100\n",
      "1/1 [==============================] - 0s 3ms/step - loss: 7.1287 - mae: 7.1287\n",
      "Epoch 58/100\n",
      "1/1 [==============================] - 0s 7ms/step - loss: 7.1231 - mae: 7.1231\n",
      "Epoch 59/100\n",
      "1/1 [==============================] - 0s 3ms/step - loss: 7.1175 - mae: 7.1175\n",
      "Epoch 60/100\n",
      "1/1 [==============================] - 0s 3ms/step - loss: 7.1119 - mae: 7.1119\n",
      "Epoch 61/100\n",
      "1/1 [==============================] - 0s 4ms/step - loss: 7.1062 - mae: 7.1062\n",
      "Epoch 62/100\n",
      "1/1 [==============================] - 0s 4ms/step - loss: 7.1006 - mae: 7.1006\n",
      "Epoch 63/100\n",
      "1/1 [==============================] - 0s 4ms/step - loss: 7.0950 - mae: 7.0950\n",
      "Epoch 64/100\n",
      "1/1 [==============================] - 0s 4ms/step - loss: 7.0894 - mae: 7.0894\n",
      "Epoch 65/100\n",
      "1/1 [==============================] - 0s 4ms/step - loss: 7.0838 - mae: 7.0838\n",
      "Epoch 66/100\n",
      "1/1 [==============================] - 0s 10ms/step - loss: 7.0781 - mae: 7.0781\n",
      "Epoch 67/100\n",
      "1/1 [==============================] - 0s 4ms/step - loss: 7.0725 - mae: 7.0725\n",
      "Epoch 68/100\n",
      "1/1 [==============================] - 0s 3ms/step - loss: 7.0669 - mae: 7.0669\n",
      "Epoch 69/100\n",
      "1/1 [==============================] - 0s 3ms/step - loss: 7.0613 - mae: 7.0613\n",
      "Epoch 70/100\n",
      "1/1 [==============================] - 0s 3ms/step - loss: 7.0556 - mae: 7.0556\n",
      "Epoch 71/100\n",
      "1/1 [==============================] - 0s 3ms/step - loss: 7.0500 - mae: 7.0500\n",
      "Epoch 72/100\n",
      "1/1 [==============================] - 0s 3ms/step - loss: 7.0444 - mae: 7.0444\n",
      "Epoch 73/100\n",
      "1/1 [==============================] - 0s 3ms/step - loss: 7.0388 - mae: 7.0388\n",
      "Epoch 74/100\n",
      "1/1 [==============================] - 0s 5ms/step - loss: 7.0331 - mae: 7.0331\n",
      "Epoch 75/100\n",
      "1/1 [==============================] - 0s 3ms/step - loss: 7.0275 - mae: 7.0275\n",
      "Epoch 76/100\n",
      "1/1 [==============================] - 0s 3ms/step - loss: 7.0219 - mae: 7.0219\n",
      "Epoch 77/100\n",
      "1/1 [==============================] - 0s 4ms/step - loss: 7.0163 - mae: 7.0163\n",
      "Epoch 78/100\n",
      "1/1 [==============================] - 0s 3ms/step - loss: 7.0106 - mae: 7.0106\n",
      "Epoch 79/100\n",
      "1/1 [==============================] - 0s 3ms/step - loss: 7.0050 - mae: 7.0050\n",
      "Epoch 80/100\n",
      "1/1 [==============================] - 0s 3ms/step - loss: 6.9994 - mae: 6.9994\n",
      "Epoch 81/100\n",
      "1/1 [==============================] - 0s 6ms/step - loss: 6.9938 - mae: 6.9938\n",
      "Epoch 82/100\n",
      "1/1 [==============================] - 0s 3ms/step - loss: 6.9881 - mae: 6.9881\n",
      "Epoch 83/100\n",
      "1/1 [==============================] - 0s 3ms/step - loss: 6.9825 - mae: 6.9825\n",
      "Epoch 84/100\n",
      "1/1 [==============================] - 0s 6ms/step - loss: 6.9769 - mae: 6.9769\n",
      "Epoch 85/100\n",
      "1/1 [==============================] - 0s 3ms/step - loss: 6.9713 - mae: 6.9713\n",
      "Epoch 86/100\n",
      "1/1 [==============================] - 0s 3ms/step - loss: 6.9656 - mae: 6.9656\n",
      "Epoch 87/100\n",
      "1/1 [==============================] - 0s 3ms/step - loss: 6.9600 - mae: 6.9600\n",
      "Epoch 88/100\n",
      "1/1 [==============================] - 0s 2ms/step - loss: 6.9544 - mae: 6.9544\n",
      "Epoch 89/100\n",
      "1/1 [==============================] - 0s 3ms/step - loss: 6.9488 - mae: 6.9488\n",
      "Epoch 90/100\n",
      "1/1 [==============================] - 0s 3ms/step - loss: 6.9431 - mae: 6.9431\n",
      "Epoch 91/100\n",
      "1/1 [==============================] - 0s 5ms/step - loss: 6.9375 - mae: 6.9375\n",
      "Epoch 92/100\n",
      "1/1 [==============================] - 0s 3ms/step - loss: 6.9319 - mae: 6.9319\n",
      "Epoch 93/100\n",
      "1/1 [==============================] - 0s 3ms/step - loss: 6.9262 - mae: 6.9262\n",
      "Epoch 94/100\n",
      "1/1 [==============================] - 0s 4ms/step - loss: 6.9206 - mae: 6.9206\n",
      "Epoch 95/100\n",
      "1/1 [==============================] - 0s 3ms/step - loss: 6.9150 - mae: 6.9150\n",
      "Epoch 96/100\n",
      "1/1 [==============================] - 0s 5ms/step - loss: 6.9094 - mae: 6.9094\n",
      "Epoch 97/100\n",
      "1/1 [==============================] - 0s 3ms/step - loss: 6.9038 - mae: 6.9038\n",
      "Epoch 98/100\n",
      "1/1 [==============================] - 0s 6ms/step - loss: 6.8981 - mae: 6.8981\n",
      "Epoch 99/100\n",
      "1/1 [==============================] - 0s 2ms/step - loss: 6.8925 - mae: 6.8925\n",
      "Epoch 100/100\n",
      "1/1 [==============================] - 0s 3ms/step - loss: 6.8869 - mae: 6.8869\n"
     ]
    },
    {
     "data": {
      "text/plain": [
       "<keras.callbacks.History at 0x19667c71c70>"
      ]
     },
     "execution_count": 49,
     "metadata": {},
     "output_type": "execute_result"
    }
   ],
   "source": [
    "# Let's rebuild our model\n",
    "# 1. Create a model (specified to your problem)\n",
    "model = tf.keras.Sequential([\n",
    "    tf.keras.layers.Dense(1)\n",
    "])\n",
    "\n",
    "# 2. Compile the model\n",
    "model.compile(\n",
    "    loss=tf.keras.losses.mae, # mean absolute error of predicted values\n",
    "    optimizer=tf.keras.optimizers.SGD(),\n",
    "    metrics = [\"mae\"])\n",
    "\n",
    "# 3. Fit the model (train for longer this time)\n",
    "model.fit(tf.expand_dims(X, axis=-1), y, epochs=100)"
   ]
  },
  {
   "cell_type": "code",
   "execution_count": 50,
   "metadata": {},
   "outputs": [
    {
     "data": {
      "text/plain": [
       "(<tf.Tensor: shape=(8,), dtype=float32, numpy=array([-7., -4., -1.,  2.,  5.,  8., 11., 14.], dtype=float32)>,\n",
       " <tf.Tensor: shape=(8,), dtype=float32, numpy=array([ 3.,  6.,  9., 12., 15., 18., 21., 24.], dtype=float32)>,\n",
       " array([[29.739855]], dtype=float32))"
      ]
     },
     "execution_count": 50,
     "metadata": {},
     "output_type": "execute_result"
    }
   ],
   "source": [
    "# Try and make a prediction using our model\n",
    "y_pred = model.predict([17.])\n",
    "X, y, y_pred"
   ]
  },
  {
   "cell_type": "code",
   "execution_count": 51,
   "metadata": {},
   "outputs": [
    {
     "name": "stdout",
     "output_type": "stream",
     "text": [
      "Epoch 1/100\n",
      "1/1 [==============================] - 0s 181ms/step - loss: 11.7683 - mae: 11.7683\n",
      "Epoch 2/100\n",
      "1/1 [==============================] - 0s 3ms/step - loss: 11.0964 - mae: 11.0964\n",
      "Epoch 3/100\n",
      "1/1 [==============================] - 0s 2ms/step - loss: 10.4150 - mae: 10.4150\n",
      "Epoch 4/100\n",
      "1/1 [==============================] - 0s 3ms/step - loss: 9.7211 - mae: 9.7211\n",
      "Epoch 5/100\n",
      "1/1 [==============================] - 0s 3ms/step - loss: 9.0105 - mae: 9.0105\n",
      "Epoch 6/100\n",
      "1/1 [==============================] - 0s 4ms/step - loss: 8.2779 - mae: 8.2779\n",
      "Epoch 7/100\n",
      "1/1 [==============================] - 0s 3ms/step - loss: 7.5200 - mae: 7.5200\n",
      "Epoch 8/100\n",
      "1/1 [==============================] - 0s 2ms/step - loss: 6.9648 - mae: 6.9648\n",
      "Epoch 9/100\n",
      "1/1 [==============================] - 0s 3ms/step - loss: 7.0674 - mae: 7.0674\n",
      "Epoch 10/100\n",
      "1/1 [==============================] - 0s 3ms/step - loss: 7.3316 - mae: 7.3316\n",
      "Epoch 11/100\n",
      "1/1 [==============================] - 0s 3ms/step - loss: 7.4673 - mae: 7.4673\n",
      "Epoch 12/100\n",
      "1/1 [==============================] - 0s 3ms/step - loss: 7.5290 - mae: 7.5290\n",
      "Epoch 13/100\n",
      "1/1 [==============================] - 0s 3ms/step - loss: 7.4016 - mae: 7.4016\n",
      "Epoch 14/100\n",
      "1/1 [==============================] - 0s 3ms/step - loss: 7.1921 - mae: 7.1921\n",
      "Epoch 15/100\n",
      "1/1 [==============================] - 0s 3ms/step - loss: 6.9573 - mae: 6.9573\n",
      "Epoch 16/100\n",
      "1/1 [==============================] - 0s 4ms/step - loss: 6.6951 - mae: 6.6951\n",
      "Epoch 17/100\n",
      "1/1 [==============================] - 0s 3ms/step - loss: 6.4128 - mae: 6.4128\n",
      "Epoch 18/100\n",
      "1/1 [==============================] - 0s 2ms/step - loss: 6.3048 - mae: 6.3048\n",
      "Epoch 19/100\n",
      "1/1 [==============================] - 0s 2ms/step - loss: 6.2575 - mae: 6.2575\n",
      "Epoch 20/100\n",
      "1/1 [==============================] - 0s 4ms/step - loss: 6.3980 - mae: 6.3980\n",
      "Epoch 21/100\n",
      "1/1 [==============================] - 0s 2ms/step - loss: 6.4549 - mae: 6.4549\n",
      "Epoch 22/100\n",
      "1/1 [==============================] - 0s 2ms/step - loss: 6.4001 - mae: 6.4001\n",
      "Epoch 23/100\n",
      "1/1 [==============================] - 0s 3ms/step - loss: 6.2484 - mae: 6.2484\n",
      "Epoch 24/100\n",
      "1/1 [==============================] - 0s 2ms/step - loss: 6.0103 - mae: 6.0103\n",
      "Epoch 25/100\n",
      "1/1 [==============================] - 0s 3ms/step - loss: 5.7876 - mae: 5.7876\n",
      "Epoch 26/100\n",
      "1/1 [==============================] - 0s 2ms/step - loss: 5.6809 - mae: 5.6809\n",
      "Epoch 27/100\n",
      "1/1 [==============================] - 0s 3ms/step - loss: 5.5715 - mae: 5.5715\n",
      "Epoch 28/100\n",
      "1/1 [==============================] - 0s 3ms/step - loss: 5.6125 - mae: 5.6125\n",
      "Epoch 29/100\n",
      "1/1 [==============================] - 0s 3ms/step - loss: 5.6071 - mae: 5.6071\n",
      "Epoch 30/100\n",
      "1/1 [==============================] - 0s 2ms/step - loss: 5.5541 - mae: 5.5541\n",
      "Epoch 31/100\n",
      "1/1 [==============================] - 0s 3ms/step - loss: 5.4569 - mae: 5.4569\n",
      "Epoch 32/100\n",
      "1/1 [==============================] - 0s 3ms/step - loss: 5.3200 - mae: 5.3200\n",
      "Epoch 33/100\n",
      "1/1 [==============================] - 0s 2ms/step - loss: 5.1472 - mae: 5.1472\n",
      "Epoch 34/100\n",
      "1/1 [==============================] - 0s 3ms/step - loss: 4.9440 - mae: 4.9440\n",
      "Epoch 35/100\n",
      "1/1 [==============================] - 0s 2ms/step - loss: 4.8239 - mae: 4.8239\n",
      "Epoch 36/100\n",
      "1/1 [==============================] - 0s 4ms/step - loss: 4.7389 - mae: 4.7389\n",
      "Epoch 37/100\n",
      "1/1 [==============================] - 0s 3ms/step - loss: 4.6661 - mae: 4.6661\n",
      "Epoch 38/100\n",
      "1/1 [==============================] - 0s 3ms/step - loss: 4.5844 - mae: 4.5844\n",
      "Epoch 39/100\n",
      "1/1 [==============================] - 0s 3ms/step - loss: 4.4027 - mae: 4.4027\n",
      "Epoch 40/100\n",
      "1/1 [==============================] - 0s 3ms/step - loss: 4.2653 - mae: 4.2653\n",
      "Epoch 41/100\n",
      "1/1 [==============================] - 0s 2ms/step - loss: 4.1212 - mae: 4.1212\n",
      "Epoch 42/100\n",
      "1/1 [==============================] - 0s 2ms/step - loss: 3.9702 - mae: 3.9702\n",
      "Epoch 43/100\n",
      "1/1 [==============================] - 0s 4ms/step - loss: 3.8272 - mae: 3.8272\n",
      "Epoch 44/100\n",
      "1/1 [==============================] - 0s 2ms/step - loss: 3.7044 - mae: 3.7044\n",
      "Epoch 45/100\n",
      "1/1 [==============================] - 0s 3ms/step - loss: 3.5317 - mae: 3.5317\n",
      "Epoch 46/100\n",
      "1/1 [==============================] - 0s 3ms/step - loss: 3.3664 - mae: 3.3664\n",
      "Epoch 47/100\n",
      "1/1 [==============================] - 0s 3ms/step - loss: 3.2116 - mae: 3.2116\n",
      "Epoch 48/100\n",
      "1/1 [==============================] - 0s 2ms/step - loss: 3.0463 - mae: 3.0463\n",
      "Epoch 49/100\n",
      "1/1 [==============================] - 0s 3ms/step - loss: 2.8705 - mae: 2.8705\n",
      "Epoch 50/100\n",
      "1/1 [==============================] - 0s 4ms/step - loss: 2.6840 - mae: 2.6840\n",
      "Epoch 51/100\n",
      "1/1 [==============================] - 0s 3ms/step - loss: 2.4868 - mae: 2.4868\n",
      "Epoch 52/100\n",
      "1/1 [==============================] - 0s 4ms/step - loss: 2.2787 - mae: 2.2787\n",
      "Epoch 53/100\n",
      "1/1 [==============================] - 0s 3ms/step - loss: 2.0596 - mae: 2.0596\n",
      "Epoch 54/100\n",
      "1/1 [==============================] - 0s 4ms/step - loss: 1.8293 - mae: 1.8293\n",
      "Epoch 55/100\n",
      "1/1 [==============================] - 0s 3ms/step - loss: 1.5876 - mae: 1.5876\n",
      "Epoch 56/100\n",
      "1/1 [==============================] - 0s 3ms/step - loss: 1.3531 - mae: 1.3531\n",
      "Epoch 57/100\n",
      "1/1 [==============================] - 0s 3ms/step - loss: 1.0850 - mae: 1.0850\n",
      "Epoch 58/100\n",
      "1/1 [==============================] - 0s 2ms/step - loss: 0.8224 - mae: 0.8224\n",
      "Epoch 59/100\n",
      "1/1 [==============================] - 0s 3ms/step - loss: 0.5467 - mae: 0.5467\n",
      "Epoch 60/100\n",
      "1/1 [==============================] - 0s 3ms/step - loss: 0.2755 - mae: 0.2755\n",
      "Epoch 61/100\n",
      "1/1 [==============================] - 0s 2ms/step - loss: 0.1350 - mae: 0.1350\n",
      "Epoch 62/100\n",
      "1/1 [==============================] - 0s 3ms/step - loss: 0.4493 - mae: 0.4493\n",
      "Epoch 63/100\n",
      "1/1 [==============================] - 0s 3ms/step - loss: 0.6499 - mae: 0.6499\n",
      "Epoch 64/100\n",
      "1/1 [==============================] - 0s 3ms/step - loss: 0.6216 - mae: 0.6216\n",
      "Epoch 65/100\n",
      "1/1 [==============================] - 0s 4ms/step - loss: 0.8027 - mae: 0.8027\n",
      "Epoch 66/100\n",
      "1/1 [==============================] - 0s 3ms/step - loss: 0.7992 - mae: 0.7992\n",
      "Epoch 67/100\n",
      "1/1 [==============================] - 0s 3ms/step - loss: 0.7408 - mae: 0.7408\n",
      "Epoch 68/100\n",
      "1/1 [==============================] - 0s 3ms/step - loss: 0.7812 - mae: 0.7812\n",
      "Epoch 69/100\n",
      "1/1 [==============================] - 0s 3ms/step - loss: 0.6305 - mae: 0.6305\n",
      "Epoch 70/100\n",
      "1/1 [==============================] - 0s 2ms/step - loss: 0.5554 - mae: 0.5554\n",
      "Epoch 71/100\n",
      "1/1 [==============================] - 0s 3ms/step - loss: 0.4307 - mae: 0.4307\n",
      "Epoch 72/100\n",
      "1/1 [==============================] - 0s 3ms/step - loss: 0.2788 - mae: 0.2788\n",
      "Epoch 73/100\n",
      "1/1 [==============================] - 0s 2ms/step - loss: 0.1380 - mae: 0.1380\n",
      "Epoch 74/100\n",
      "1/1 [==============================] - 0s 3ms/step - loss: 0.1191 - mae: 0.1191\n",
      "Epoch 75/100\n",
      "1/1 [==============================] - 0s 4ms/step - loss: 0.2780 - mae: 0.2780\n",
      "Epoch 76/100\n",
      "1/1 [==============================] - 0s 2ms/step - loss: 0.3237 - mae: 0.3237\n",
      "Epoch 77/100\n",
      "1/1 [==============================] - 0s 3ms/step - loss: 0.4154 - mae: 0.4154\n",
      "Epoch 78/100\n",
      "1/1 [==============================] - 0s 3ms/step - loss: 0.4314 - mae: 0.4314\n",
      "Epoch 79/100\n",
      "1/1 [==============================] - 0s 3ms/step - loss: 0.3389 - mae: 0.3389\n",
      "Epoch 80/100\n",
      "1/1 [==============================] - 0s 3ms/step - loss: 0.2969 - mae: 0.2969\n",
      "Epoch 81/100\n",
      "1/1 [==============================] - 0s 3ms/step - loss: 0.2363 - mae: 0.2363\n",
      "Epoch 82/100\n",
      "1/1 [==============================] - 0s 8ms/step - loss: 0.1628 - mae: 0.1628\n",
      "Epoch 83/100\n",
      "1/1 [==============================] - 0s 2ms/step - loss: 0.1351 - mae: 0.1351\n",
      "Epoch 84/100\n",
      "1/1 [==============================] - 0s 3ms/step - loss: 0.1253 - mae: 0.1253\n",
      "Epoch 85/100\n",
      "1/1 [==============================] - 0s 3ms/step - loss: 0.1708 - mae: 0.1708\n",
      "Epoch 86/100\n",
      "1/1 [==============================] - 0s 2ms/step - loss: 0.2119 - mae: 0.2119\n",
      "Epoch 87/100\n",
      "1/1 [==============================] - 0s 6ms/step - loss: 0.2282 - mae: 0.2282\n",
      "Epoch 88/100\n",
      "1/1 [==============================] - 0s 3ms/step - loss: 0.1901 - mae: 0.1901\n",
      "Epoch 89/100\n",
      "1/1 [==============================] - 0s 3ms/step - loss: 0.1352 - mae: 0.1352\n",
      "Epoch 90/100\n",
      "1/1 [==============================] - 0s 4ms/step - loss: 0.1214 - mae: 0.1214\n",
      "Epoch 91/100\n",
      "1/1 [==============================] - 0s 2ms/step - loss: 0.0379 - mae: 0.0379\n",
      "Epoch 92/100\n",
      "1/1 [==============================] - 0s 3ms/step - loss: 0.2195 - mae: 0.2195\n",
      "Epoch 93/100\n",
      "1/1 [==============================] - 0s 4ms/step - loss: 0.2185 - mae: 0.2185\n",
      "Epoch 94/100\n",
      "1/1 [==============================] - 0s 3ms/step - loss: 0.1429 - mae: 0.1429\n",
      "Epoch 95/100\n",
      "1/1 [==============================] - 0s 3ms/step - loss: 0.1179 - mae: 0.1179\n",
      "Epoch 96/100\n",
      "1/1 [==============================] - 0s 3ms/step - loss: 0.2066 - mae: 0.2066\n",
      "Epoch 97/100\n",
      "1/1 [==============================] - 0s 3ms/step - loss: 0.1516 - mae: 0.1516\n",
      "Epoch 98/100\n",
      "1/1 [==============================] - 0s 3ms/step - loss: 0.2140 - mae: 0.2140\n",
      "Epoch 99/100\n",
      "1/1 [==============================] - 0s 3ms/step - loss: 0.2333 - mae: 0.2333\n",
      "Epoch 100/100\n",
      "1/1 [==============================] - 0s 3ms/step - loss: 0.0779 - mae: 0.0779\n"
     ]
    },
    {
     "data": {
      "text/plain": [
       "<keras.callbacks.History at 0x19668134460>"
      ]
     },
     "execution_count": 51,
     "metadata": {},
     "output_type": "execute_result"
    }
   ],
   "source": [
    "# Let's rebuild our model\n",
    "# 1. Create a model (specified to your problem)\n",
    "model = tf.keras.Sequential([\n",
    "    tf.keras.layers.Dense(50, activation=None),\n",
    "    tf.keras.layers.Dense(1)\n",
    "])\n",
    "\n",
    "# 2. Compile the model\n",
    "model.compile(\n",
    "    loss=tf.keras.losses.mae, # mean absolute error of predicted values\n",
    "    optimizer=tf.keras.optimizers.Adam(lr=0.01), # stochastic gradient descent\n",
    "    metrics = [\"mae\"])\n",
    "\n",
    "# 3. Fit the model (train for longer this time)\n",
    "model.fit(tf.expand_dims(X, axis=-1), y, epochs=100)"
   ]
  },
  {
   "cell_type": "code",
   "execution_count": 52,
   "metadata": {},
   "outputs": [
    {
     "data": {
      "text/plain": [
       "(<tf.Tensor: shape=(8,), dtype=float32, numpy=array([-7., -4., -1.,  2.,  5.,  8., 11., 14.], dtype=float32)>,\n",
       " <tf.Tensor: shape=(8,), dtype=float32, numpy=array([ 3.,  6.,  9., 12., 15., 18., 21., 24.], dtype=float32)>,\n",
       " array([[26.587622]], dtype=float32))"
      ]
     },
     "execution_count": 52,
     "metadata": {},
     "output_type": "execute_result"
    }
   ],
   "source": [
    "# Try and make a prediction using our model\n",
    "y_pred = model.predict([17.])\n",
    "X, y, y_pred"
   ]
  },
  {
   "cell_type": "markdown",
   "metadata": {},
   "source": [
    "## Evaluating a model\n",
    "\n",
    "In practive, a typical workflow you'll go through when build neural networks is:\n",
    "`Build a model -> fit it -> evaluate it -> tweak it -> fit it -> evaluate it -> ...`"
   ]
  },
  {
   "cell_type": "markdown",
   "metadata": {},
   "source": [
    "When it comes to evalution... ther are 3 words you should memorize:\n",
    ">`Visualize, visualize, visualize:`\n",
    "\n",
    "It's a good idea to visualize:\n",
    "* The data - what data are we working with? What does it look like?\n",
    "* The model itself - what does our model look like?\n",
    "* The training of a model - how does a model perform while it learns?\n",
    "* The predictions of the model - how do the predictions of a model line up against the ground truth (the original labels)?"
   ]
  },
  {
   "cell_type": "code",
   "execution_count": 54,
   "metadata": {},
   "outputs": [
    {
     "data": {
      "text/plain": [
       "<tf.Tensor: shape=(50,), dtype=int32, numpy=\n",
       "array([-100,  -96,  -92,  -88,  -84,  -80,  -76,  -72,  -68,  -64,  -60,\n",
       "        -56,  -52,  -48,  -44,  -40,  -36,  -32,  -28,  -24,  -20,  -16,\n",
       "        -12,   -8,   -4,    0,    4,    8,   12,   16,   20,   24,   28,\n",
       "         32,   36,   40,   44,   48,   52,   56,   60,   64,   68,   72,\n",
       "         76,   80,   84,   88,   92,   96])>"
      ]
     },
     "execution_count": 54,
     "metadata": {},
     "output_type": "execute_result"
    }
   ],
   "source": [
    "# Make a bigger dataset\n",
    "X = tf.range(-100, 100, 4)\n",
    "X"
   ]
  },
  {
   "cell_type": "code",
   "execution_count": 56,
   "metadata": {},
   "outputs": [
    {
     "data": {
      "text/plain": [
       "<tf.Tensor: shape=(50,), dtype=int32, numpy=\n",
       "array([-90, -86, -82, -78, -74, -70, -66, -62, -58, -54, -50, -46, -42,\n",
       "       -38, -34, -30, -26, -22, -18, -14, -10,  -6,  -2,   2,   6,  10,\n",
       "        14,  18,  22,  26,  30,  34,  38,  42,  46,  50,  54,  58,  62,\n",
       "        66,  70,  74,  78,  82,  86,  90,  94,  98, 102, 106])>"
      ]
     },
     "execution_count": 56,
     "metadata": {},
     "output_type": "execute_result"
    }
   ],
   "source": [
    "# Make labels for the dataset\n",
    "y = X + 10\n",
    "y"
   ]
  },
  {
   "cell_type": "code",
   "execution_count": 58,
   "metadata": {},
   "outputs": [
    {
     "data": {
      "text/plain": [
       "<matplotlib.collections.PathCollection at 0x19667bc9040>"
      ]
     },
     "execution_count": 58,
     "metadata": {},
     "output_type": "execute_result"
    },
    {
     "data": {
      "image/png": "[encoded data removed]",
      "text/plain": [
       "<Figure size 432x288 with 1 Axes>"
      ]
     },
     "metadata": {
      "needs_background": "light"
     },
     "output_type": "display_data"
    }
   ],
   "source": [
    "# Visualize the data\n",
    "import matplotlib.pyplot as plt\n",
    "\n",
    "plt.scatter(X, y)"
   ]
  },
  {
   "cell_type": "markdown",
   "metadata": {},
   "source": [
    "### The 3 sets ...\n",
    "\n",
    "* **Training set** - the model learns from this data, which is typically 70-80% of the total data you have available\n",
    "* **Validation set** - the model gets tuned on this data, which is typically 10-15% of the data available\n",
    "* **Test set** - the model gets evaluated on this data to test what it has learned, this set is typically 10-15% of the total data available"
   ]
  },
  {
   "cell_type": "code",
   "execution_count": 60,
   "metadata": {},
   "outputs": [
    {
     "data": {
      "text/plain": [
       "50"
      ]
     },
     "execution_count": 60,
     "metadata": {},
     "output_type": "execute_result"
    }
   ],
   "source": [
    "# Check the length of how many samples we have\n",
    "len(X)"
   ]
  },
  {
   "cell_type": "code",
   "execution_count": 63,
   "metadata": {},
   "outputs": [
    {
     "data": {
      "text/plain": [
       "(40, 10, 40, 10)"
      ]
     },
     "execution_count": 63,
     "metadata": {},
     "output_type": "execute_result"
    }
   ],
   "source": [
    "# Split the data into train and test sets\n",
    "X_train = X[:40] # first 40 are the training samples (80% of the data)\n",
    "y_train = y[:40]\n",
    "X_test = X[40:] # 20% of the data\n",
    "y_test = y[40:]\n",
    "len(X_train), len(X_test), len(y_train), len(y_test)"
   ]
  },
  {
   "cell_type": "markdown",
   "metadata": {},
   "source": [
    "### Visualizing the data\n",
    "Now we've got our data in training and test sets... let's visualize it again!"
   ]
  },
  {
   "cell_type": "code",
   "execution_count": 64,
   "metadata": {},
   "outputs": [
    {
     "data": {
      "text/plain": [
       "<matplotlib.legend.Legend at 0x1967e132370>"
      ]
     },
     "execution_count": 64,
     "metadata": {},
     "output_type": "execute_result"
    },
    {
     "data": {
      "image/png": "[encoded data removed]",
      "text/plain": [
       "<Figure size 720x504 with 1 Axes>"
      ]
     },
     "metadata": {
      "needs_background": "light"
     },
     "output_type": "display_data"
    }
   ],
   "source": [
    "plt.figure(figsize=(10,7))\n",
    "# Plot training data in blue\n",
    "plt.scatter(X_train, y_train, c=\"blue\", label=\"Training data\")\n",
    "# Plot test data in green\n",
    "plt.scatter(X_test, y_test, c=\"green\", label=\"Testing data\")\n",
    "# show legend\n",
    "plt.legend()"
   ]
  },
  {
   "cell_type": "code",
   "execution_count": 65,
   "metadata": {},
   "outputs": [
    {
     "name": "stdout",
     "output_type": "stream",
     "text": [
      "Epoch 1/100\n",
      "2/2 [==============================] - 0s 2ms/step - loss: 10.5273 - mae: 10.5273\n",
      "Epoch 2/100\n",
      "2/2 [==============================] - 0s 3ms/step - loss: 9.3906 - mae: 9.3906\n",
      "Epoch 3/100\n",
      "2/2 [==============================] - 0s 5ms/step - loss: 7.6292 - mae: 7.6292\n",
      "Epoch 4/100\n",
      "2/2 [==============================] - 0s 3ms/step - loss: 9.6859 - mae: 9.6859\n",
      "Epoch 5/100\n",
      "2/2 [==============================] - 0s 3ms/step - loss: 11.0740 - mae: 11.0740\n",
      "Epoch 6/100\n",
      "2/2 [==============================] - 0s 3ms/step - loss: 10.2264 - mae: 10.2264\n",
      "Epoch 7/100\n",
      "2/2 [==============================] - 0s 3ms/step - loss: 9.2347 - mae: 9.2347\n",
      "Epoch 8/100\n",
      "2/2 [==============================] - 0s 10ms/step - loss: 9.1547 - mae: 9.1547\n",
      "Epoch 9/100\n",
      "2/2 [==============================] - 0s 4ms/step - loss: 11.7875 - mae: 11.7875\n",
      "Epoch 10/100\n",
      "2/2 [==============================] - 0s 4ms/step - loss: 13.7172 - mae: 13.7172\n",
      "Epoch 11/100\n",
      "2/2 [==============================] - 0s 3ms/step - loss: 11.8015 - mae: 11.8015\n",
      "Epoch 12/100\n",
      "2/2 [==============================] - 0s 4ms/step - loss: 16.3555 - mae: 16.3555\n",
      "Epoch 13/100\n",
      "2/2 [==============================] - 0s 3ms/step - loss: 11.9043 - mae: 11.9043\n",
      "Epoch 14/100\n",
      "2/2 [==============================] - 0s 4ms/step - loss: 13.8239 - mae: 13.8239\n",
      "Epoch 15/100\n",
      "2/2 [==============================] - 0s 3ms/step - loss: 11.2084 - mae: 11.2084\n",
      "Epoch 16/100\n",
      "2/2 [==============================] - 0s 3ms/step - loss: 8.5877 - mae: 8.5877\n",
      "Epoch 17/100\n",
      "2/2 [==============================] - 0s 4ms/step - loss: 13.7567 - mae: 13.7567\n",
      "Epoch 18/100\n",
      "2/2 [==============================] - 0s 2ms/step - loss: 11.6177 - mae: 11.6177\n",
      "Epoch 19/100\n",
      "2/2 [==============================] - 0s 5ms/step - loss: 17.7100 - mae: 17.7100\n",
      "Epoch 20/100\n",
      "2/2 [==============================] - 0s 9ms/step - loss: 14.8462 - mae: 14.8462\n",
      "Epoch 21/100\n",
      "2/2 [==============================] - 0s 4ms/step - loss: 10.7513 - mae: 10.7513\n",
      "Epoch 22/100\n",
      "2/2 [==============================] - 0s 2ms/step - loss: 8.4917 - mae: 8.4917\n",
      "Epoch 23/100\n",
      "2/2 [==============================] - 0s 8ms/step - loss: 9.7766 - mae: 9.7766\n",
      "Epoch 24/100\n",
      "2/2 [==============================] - 0s 3ms/step - loss: 10.8531 - mae: 10.8531\n",
      "Epoch 25/100\n",
      "2/2 [==============================] - 0s 6ms/step - loss: 9.1113 - mae: 9.1113\n",
      "Epoch 26/100\n",
      "2/2 [==============================] - 0s 4ms/step - loss: 13.0840 - mae: 13.0840\n",
      "Epoch 27/100\n",
      "2/2 [==============================] - 0s 3ms/step - loss: 10.4066 - mae: 10.4066\n",
      "Epoch 28/100\n",
      "2/2 [==============================] - 0s 2ms/step - loss: 13.4238 - mae: 13.4238\n",
      "Epoch 29/100\n",
      "2/2 [==============================] - 0s 3ms/step - loss: 9.6076 - mae: 9.6076\n",
      "Epoch 30/100\n",
      "2/2 [==============================] - 0s 3ms/step - loss: 17.2601 - mae: 17.2601\n",
      "Epoch 31/100\n",
      "2/2 [==============================] - 0s 3ms/step - loss: 22.8003 - mae: 22.8003\n",
      "Epoch 32/100\n",
      "2/2 [==============================] - 0s 3ms/step - loss: 7.9049 - mae: 7.9049\n",
      "Epoch 33/100\n",
      "2/2 [==============================] - 0s 3ms/step - loss: 14.1734 - mae: 14.1734\n",
      "Epoch 34/100\n",
      "2/2 [==============================] - 0s 2ms/step - loss: 12.4283 - mae: 12.4283\n",
      "Epoch 35/100\n",
      "2/2 [==============================] - 0s 3ms/step - loss: 8.2339 - mae: 8.2339\n",
      "Epoch 36/100\n",
      "2/2 [==============================] - 0s 3ms/step - loss: 10.4408 - mae: 10.4408\n",
      "Epoch 37/100\n",
      "2/2 [==============================] - 0s 2ms/step - loss: 10.0926 - mae: 10.0926\n",
      "Epoch 38/100\n",
      "2/2 [==============================] - 0s 3ms/step - loss: 11.2658 - mae: 11.2658\n",
      "Epoch 39/100\n",
      "2/2 [==============================] - 0s 4ms/step - loss: 14.7947 - mae: 14.7947\n",
      "Epoch 40/100\n",
      "2/2 [==============================] - 0s 2ms/step - loss: 12.9246 - mae: 12.9246\n",
      "Epoch 41/100\n",
      "2/2 [==============================] - 0s 3ms/step - loss: 9.3199 - mae: 9.3199\n",
      "Epoch 42/100\n",
      "2/2 [==============================] - 0s 3ms/step - loss: 10.9560 - mae: 10.9560\n",
      "Epoch 43/100\n",
      "2/2 [==============================] - 0s 3ms/step - loss: 8.3161 - mae: 8.3161\n",
      "Epoch 44/100\n",
      "2/2 [==============================] - 0s 2ms/step - loss: 12.9795 - mae: 12.9795\n",
      "Epoch 45/100\n",
      "2/2 [==============================] - 0s 5ms/step - loss: 13.7222 - mae: 13.7222\n",
      "Epoch 46/100\n",
      "2/2 [==============================] - 0s 3ms/step - loss: 8.4129 - mae: 8.4129\n",
      "Epoch 47/100\n",
      "2/2 [==============================] - 0s 4ms/step - loss: 9.1536 - mae: 9.1536\n",
      "Epoch 48/100\n",
      "2/2 [==============================] - 0s 3ms/step - loss: 10.6543 - mae: 10.6543\n",
      "Epoch 49/100\n",
      "2/2 [==============================] - 0s 4ms/step - loss: 7.7674 - mae: 7.7674\n",
      "Epoch 50/100\n",
      "2/2 [==============================] - 0s 2ms/step - loss: 9.5726 - mae: 9.5726\n",
      "Epoch 51/100\n",
      "2/2 [==============================] - 0s 5ms/step - loss: 9.1575 - mae: 9.1575\n",
      "Epoch 52/100\n",
      "2/2 [==============================] - 0s 5ms/step - loss: 16.4515 - mae: 16.4515\n",
      "Epoch 53/100\n",
      "2/2 [==============================] - 0s 3ms/step - loss: 14.0818 - mae: 14.0818\n",
      "Epoch 54/100\n",
      "2/2 [==============================] - 0s 3ms/step - loss: 21.0172 - mae: 21.0172\n",
      "Epoch 55/100\n",
      "2/2 [==============================] - 0s 6ms/step - loss: 16.4738 - mae: 16.4738\n",
      "Epoch 56/100\n",
      "2/2 [==============================] - 0s 2ms/step - loss: 9.8662 - mae: 9.8662\n",
      "Epoch 57/100\n",
      "2/2 [==============================] - 0s 4ms/step - loss: 9.6413 - mae: 9.6413\n",
      "Epoch 58/100\n",
      "2/2 [==============================] - 0s 3ms/step - loss: 8.9628 - mae: 8.9628\n",
      "Epoch 59/100\n",
      "2/2 [==============================] - 0s 2ms/step - loss: 10.1686 - mae: 10.1686\n",
      "Epoch 60/100\n",
      "2/2 [==============================] - 0s 8ms/step - loss: 8.4129 - mae: 8.4129\n",
      "Epoch 61/100\n",
      "2/2 [==============================] - 0s 4ms/step - loss: 9.2533 - mae: 9.2533\n",
      "Epoch 62/100\n",
      "2/2 [==============================] - 0s 3ms/step - loss: 7.0626 - mae: 7.0626\n",
      "Epoch 63/100\n",
      "2/2 [==============================] - 0s 3ms/step - loss: 8.6398 - mae: 8.6398\n",
      "Epoch 64/100\n",
      "2/2 [==============================] - 0s 6ms/step - loss: 9.2166 - mae: 9.2166\n",
      "Epoch 65/100\n",
      "2/2 [==============================] - 0s 7ms/step - loss: 10.4767 - mae: 10.4767\n",
      "Epoch 66/100\n",
      "2/2 [==============================] - 0s 2ms/step - loss: 15.6303 - mae: 15.6303\n",
      "Epoch 67/100\n",
      "2/2 [==============================] - 0s 8ms/step - loss: 10.0248 - mae: 10.0248\n",
      "Epoch 68/100\n",
      "2/2 [==============================] - 0s 2ms/step - loss: 9.0030 - mae: 9.0030\n",
      "Epoch 69/100\n",
      "2/2 [==============================] - 0s 2ms/step - loss: 12.4993 - mae: 12.4993\n",
      "Epoch 70/100\n",
      "2/2 [==============================] - 0s 4ms/step - loss: 8.9709 - mae: 8.9709\n",
      "Epoch 71/100\n",
      "2/2 [==============================] - 0s 4ms/step - loss: 9.9493 - mae: 9.9493\n",
      "Epoch 72/100\n",
      "2/2 [==============================] - 0s 4ms/step - loss: 9.9817 - mae: 9.9817\n",
      "Epoch 73/100\n",
      "2/2 [==============================] - 0s 3ms/step - loss: 12.4756 - mae: 12.4756\n",
      "Epoch 74/100\n",
      "2/2 [==============================] - 0s 2ms/step - loss: 10.5140 - mae: 10.5140\n",
      "Epoch 75/100\n",
      "2/2 [==============================] - 0s 8ms/step - loss: 9.6442 - mae: 9.6442\n",
      "Epoch 76/100\n",
      "2/2 [==============================] - 0s 3ms/step - loss: 11.1190 - mae: 11.1190\n",
      "Epoch 77/100\n",
      "2/2 [==============================] - 0s 3ms/step - loss: 8.2914 - mae: 8.2914\n",
      "Epoch 78/100\n",
      "2/2 [==============================] - 0s 3ms/step - loss: 8.9997 - mae: 8.9997\n",
      "Epoch 79/100\n",
      "2/2 [==============================] - 0s 3ms/step - loss: 19.7057 - mae: 19.7057\n",
      "Epoch 80/100\n",
      "2/2 [==============================] - 0s 6ms/step - loss: 17.8733 - mae: 17.8733\n",
      "Epoch 81/100\n",
      "2/2 [==============================] - 0s 4ms/step - loss: 7.0400 - mae: 7.0400\n",
      "Epoch 82/100\n",
      "2/2 [==============================] - 0s 5ms/step - loss: 10.4264 - mae: 10.4264\n",
      "Epoch 83/100\n",
      "2/2 [==============================] - 0s 3ms/step - loss: 9.8572 - mae: 9.8572\n",
      "Epoch 84/100\n",
      "2/2 [==============================] - 0s 3ms/step - loss: 7.9069 - mae: 7.9069\n",
      "Epoch 85/100\n",
      "2/2 [==============================] - 0s 4ms/step - loss: 9.4048 - mae: 9.4048\n",
      "Epoch 86/100\n",
      "2/2 [==============================] - 0s 5ms/step - loss: 9.2307 - mae: 9.2307\n",
      "Epoch 87/100\n",
      "2/2 [==============================] - 0s 6ms/step - loss: 12.0129 - mae: 12.0129\n",
      "Epoch 88/100\n",
      "2/2 [==============================] - 0s 1ms/step - loss: 10.6296 - mae: 10.6296\n",
      "Epoch 89/100\n",
      "2/2 [==============================] - 0s 3ms/step - loss: 7.2506 - mae: 7.2506\n",
      "Epoch 90/100\n",
      "2/2 [==============================] - 0s 3ms/step - loss: 12.7702 - mae: 12.7702\n",
      "Epoch 91/100\n",
      "2/2 [==============================] - 0s 3ms/step - loss: 7.4544 - mae: 7.4544\n",
      "Epoch 92/100\n",
      "2/2 [==============================] - 0s 4ms/step - loss: 6.7385 - mae: 6.7385\n",
      "Epoch 93/100\n",
      "2/2 [==============================] - 0s 8ms/step - loss: 11.9206 - mae: 11.9206\n",
      "Epoch 94/100\n",
      "2/2 [==============================] - 0s 2ms/step - loss: 8.8548 - mae: 8.8548\n",
      "Epoch 95/100\n",
      "2/2 [==============================] - 0s 3ms/step - loss: 7.6966 - mae: 7.6966\n",
      "Epoch 96/100\n",
      "2/2 [==============================] - 0s 3ms/step - loss: 6.7327 - mae: 6.7327\n",
      "Epoch 97/100\n",
      "2/2 [==============================] - 0s 2ms/step - loss: 8.6033 - mae: 8.6033\n",
      "Epoch 98/100\n",
      "2/2 [==============================] - 0s 3ms/step - loss: 9.3858 - mae: 9.3858\n",
      "Epoch 99/100\n",
      "2/2 [==============================] - 0s 3ms/step - loss: 9.1203 - mae: 9.1203\n",
      "Epoch 100/100\n",
      "2/2 [==============================] - 0s 4ms/step - loss: 10.4808 - mae: 10.4808\n"
     ]
    },
    {
     "data": {
      "text/plain": [
       "<keras.callbacks.History at 0x1967e1944c0>"
      ]
     },
     "execution_count": 65,
     "metadata": {},
     "output_type": "execute_result"
    }
   ],
   "source": [
    "# Let's have a look at how to build a neural network four our data\n",
    "\n",
    "# 1. Create a model\n",
    "model = tf.keras.Sequential([\n",
    "    tf.keras.layers.Dense(1)])\n",
    "\n",
    "# 2. Compile the mdoel\n",
    "model.compile(\n",
    "    loss=tf.keras.losses.mae,\n",
    "    optimizer=tf.keras.optimizers.SGD(),\n",
    "    metrics=[\"mae\"])\n",
    "\n",
    "# 3. Fit the model\n",
    "model.fit(X_train, y_train, epochs=100)"
   ]
  },
  {
   "cell_type": "markdown",
   "metadata": {},
   "source": [
    "### Visualizing the model"
   ]
  },
  {
   "cell_type": "code",
   "execution_count": 66,
   "metadata": {},
   "outputs": [
    {
     "name": "stdout",
     "output_type": "stream",
     "text": [
      "Model: \"sequential_10\"\n",
      "_________________________________________________________________\n",
      "Layer (type)                 Output Shape              Param #   \n",
      "=================================================================\n",
      "dense_13 (Dense)             (None, 1)                 2         \n",
      "=================================================================\n",
      "Total params: 2\n",
      "Trainable params: 2\n",
      "Non-trainable params: 0\n",
      "_________________________________________________________________\n"
     ]
    }
   ],
   "source": [
    "model.summary()"
   ]
  },
  {
   "cell_type": "code",
   "execution_count": 68,
   "metadata": {},
   "outputs": [
    {
     "name": "stdout",
     "output_type": "stream",
     "text": [
      "Model: \"sequential_12\"\n",
      "_________________________________________________________________\n",
      "Layer (type)                 Output Shape              Param #   \n",
      "=================================================================\n",
      "dense_15 (Dense)             (None, 1)                 2         \n",
      "=================================================================\n",
      "Total params: 2\n",
      "Trainable params: 2\n",
      "Non-trainable params: 0\n",
      "_________________________________________________________________\n"
     ]
    }
   ],
   "source": [
    "# Let's create a model which builds automatically by defining the input_shape argument\n",
    "tf.random.set_seed(42)\n",
    "\n",
    "# 1. Create a model (same as above)\n",
    "model = tf.keras.Sequential([\n",
    "    tf.keras.layers.Dense(1, input_shape=[1])\n",
    "    ])\n",
    "\n",
    "# 2. Compile the model\n",
    "model.compile(\n",
    "    loss=tf.keras.losses.mae,\n",
    "    optimizer=tf.keras.optimizers.SGD(),\n",
    "    metrics=[\"mae\"])\n",
    "\n",
    "model.summary()"
   ]
  },
  {
   "cell_type": "markdown",
   "metadata": {},
   "source": [
    "* Total params - total number of parameters in the model.\n",
    "* Trainable parameters - these are the parameters (patterns) the model can update as it trains.\n",
    "* Non-trainable params - these parameters aren't updated during training (this is typical when you bring in already learned parameters from other models during **transfer learning**)\n",
    "\n",
    "> 📖 **Resource:** For a more in-depth overview of the trainable parameters within a layer, check out MIT's introduction to deep learning video.\n",
    "\n"
   ]
  },
  {
   "cell_type": "code",
   "execution_count": 73,
   "metadata": {},
   "outputs": [
    {
     "name": "stdout",
     "output_type": "stream",
     "text": [
      "Epoch 1/100\n",
      "2/2 [==============================] - 0s 4ms/step - loss: 12.8429 - mae: 12.8429\n",
      "Epoch 2/100\n",
      "2/2 [==============================] - 0s 10ms/step - loss: 7.7871 - mae: 7.7871\n",
      "Epoch 3/100\n",
      "2/2 [==============================] - 0s 3ms/step - loss: 9.9179 - mae: 9.9179\n",
      "Epoch 4/100\n",
      "2/2 [==============================] - 0s 3ms/step - loss: 8.5446 - mae: 8.5446\n",
      "Epoch 5/100\n",
      "2/2 [==============================] - 0s 2ms/step - loss: 7.5981 - mae: 7.5981\n",
      "Epoch 6/100\n",
      "2/2 [==============================] - 0s 4ms/step - loss: 6.9227 - mae: 6.9227\n",
      "Epoch 7/100\n",
      "2/2 [==============================] - 0s 3ms/step - loss: 4.0363 - mae: 4.0363\n",
      "Epoch 8/100\n",
      "2/2 [==============================] - 0s 3ms/step - loss: 5.6187 - mae: 5.6187\n",
      "Epoch 9/100\n",
      "2/2 [==============================] - 0s 8ms/step - loss: 18.0543 - mae: 18.0543\n",
      "Epoch 10/100\n",
      "2/2 [==============================] - 0s 3ms/step - loss: 6.5911 - mae: 6.5911\n",
      "Epoch 11/100\n",
      "2/2 [==============================] - 0s 8ms/step - loss: 5.3830 - mae: 5.3830\n",
      "Epoch 12/100\n",
      "2/2 [==============================] - 0s 3ms/step - loss: 9.9490 - mae: 9.9490\n",
      "Epoch 13/100\n",
      "2/2 [==============================] - 0s 3ms/step - loss: 10.9080 - mae: 10.9080\n",
      "Epoch 14/100\n",
      "2/2 [==============================] - 0s 4ms/step - loss: 18.9784 - mae: 18.9784\n",
      "Epoch 15/100\n",
      "2/2 [==============================] - 0s 4ms/step - loss: 7.4820 - mae: 7.4820\n",
      "Epoch 16/100\n",
      "2/2 [==============================] - 0s 3ms/step - loss: 7.0777 - mae: 7.0777\n",
      "Epoch 17/100\n",
      "2/2 [==============================] - 0s 3ms/step - loss: 7.5107 - mae: 7.5107\n",
      "Epoch 18/100\n",
      "2/2 [==============================] - 0s 3ms/step - loss: 11.2199 - mae: 11.2199\n",
      "Epoch 19/100\n",
      "2/2 [==============================] - 0s 3ms/step - loss: 13.1667 - mae: 13.1667\n",
      "Epoch 20/100\n",
      "2/2 [==============================] - 0s 4ms/step - loss: 9.9937 - mae: 9.9937\n",
      "Epoch 21/100\n",
      "2/2 [==============================] - 0s 4ms/step - loss: 9.0252 - mae: 9.0252\n",
      "Epoch 22/100\n",
      "2/2 [==============================] - 0s 6ms/step - loss: 10.7196 - mae: 10.7196\n",
      "Epoch 23/100\n",
      "2/2 [==============================] - 0s 9ms/step - loss: 5.1342 - mae: 5.1342\n",
      "Epoch 24/100\n",
      "2/2 [==============================] - 0s 8ms/step - loss: 6.7938 - mae: 6.7938\n",
      "Epoch 25/100\n",
      "2/2 [==============================] - 0s 4ms/step - loss: 11.0219 - mae: 11.0219\n",
      "Epoch 26/100\n",
      "2/2 [==============================] - 0s 4ms/step - loss: 12.7294 - mae: 12.7294\n",
      "Epoch 27/100\n",
      "2/2 [==============================] - 0s 2ms/step - loss: 9.7187 - mae: 9.7187\n",
      "Epoch 28/100\n",
      "2/2 [==============================] - 0s 2ms/step - loss: 13.4194 - mae: 13.4194\n",
      "Epoch 29/100\n",
      "2/2 [==============================] - 0s 6ms/step - loss: 6.9582 - mae: 6.9582\n",
      "Epoch 30/100\n",
      "2/2 [==============================] - 0s 3ms/step - loss: 17.8525 - mae: 17.8525\n",
      "Epoch 31/100\n",
      "2/2 [==============================] - 0s 3ms/step - loss: 20.5837 - mae: 20.5837\n",
      "Epoch 32/100\n",
      "2/2 [==============================] - 0s 2ms/step - loss: 5.8548 - mae: 5.8548\n",
      "Epoch 33/100\n",
      "2/2 [==============================] - 0s 6ms/step - loss: 7.1548 - mae: 7.1548\n",
      "Epoch 34/100\n",
      "2/2 [==============================] - 0s 4ms/step - loss: 12.2749 - mae: 12.2749\n",
      "Epoch 35/100\n",
      "2/2 [==============================] - 0s 4ms/step - loss: 5.4441 - mae: 5.4441\n",
      "Epoch 36/100\n",
      "2/2 [==============================] - 0s 4ms/step - loss: 6.8082 - mae: 6.8082\n",
      "Epoch 37/100\n",
      "2/2 [==============================] - 0s 3ms/step - loss: 5.9796 - mae: 5.9796\n",
      "Epoch 38/100\n",
      "2/2 [==============================] - 0s 4ms/step - loss: 9.2574 - mae: 9.2574\n",
      "Epoch 39/100\n",
      "2/2 [==============================] - 0s 2ms/step - loss: 7.2617 - mae: 7.2617\n",
      "Epoch 40/100\n",
      "2/2 [==============================] - 0s 3ms/step - loss: 10.0524 - mae: 10.0524\n",
      "Epoch 41/100\n",
      "2/2 [==============================] - 0s 2ms/step - loss: 10.8680 - mae: 10.8680\n",
      "Epoch 42/100\n",
      "2/2 [==============================] - 0s 5ms/step - loss: 9.4886 - mae: 9.4886\n",
      "Epoch 43/100\n",
      "2/2 [==============================] - 0s 3ms/step - loss: 5.4071 - mae: 5.4071\n",
      "Epoch 44/100\n",
      "2/2 [==============================] - 0s 3ms/step - loss: 14.6613 - mae: 14.6613\n",
      "Epoch 45/100\n",
      "2/2 [==============================] - 0s 4ms/step - loss: 12.3421 - mae: 12.3421\n",
      "Epoch 46/100\n",
      "2/2 [==============================] - 0s 3ms/step - loss: 5.6023 - mae: 5.6023\n",
      "Epoch 47/100\n",
      "2/2 [==============================] - 0s 4ms/step - loss: 7.9992 - mae: 7.9992\n",
      "Epoch 48/100\n",
      "2/2 [==============================] - 0s 3ms/step - loss: 7.7781 - mae: 7.7781\n",
      "Epoch 49/100\n",
      "2/2 [==============================] - 0s 6ms/step - loss: 5.7473 - mae: 5.7473\n",
      "Epoch 50/100\n",
      "2/2 [==============================] - 0s 3ms/step - loss: 8.8147 - mae: 8.8147\n",
      "Epoch 51/100\n",
      "2/2 [==============================] - 0s 3ms/step - loss: 6.2319 - mae: 6.2319\n",
      "Epoch 52/100\n",
      "2/2 [==============================] - 0s 2ms/step - loss: 18.4047 - mae: 18.4047\n",
      "Epoch 53/100\n",
      "2/2 [==============================] - 0s 3ms/step - loss: 11.6566 - mae: 11.6566\n",
      "Epoch 54/100\n",
      "2/2 [==============================] - 0s 4ms/step - loss: 17.3838 - mae: 17.3838\n",
      "Epoch 55/100\n",
      "2/2 [==============================] - 0s 7ms/step - loss: 17.3495 - mae: 17.3495\n",
      "Epoch 56/100\n",
      "2/2 [==============================] - 0s 3ms/step - loss: 8.2031 - mae: 8.2031\n",
      "Epoch 57/100\n",
      "2/2 [==============================] - 0s 3ms/step - loss: 8.4406 - mae: 8.4406\n",
      "Epoch 58/100\n",
      "2/2 [==============================] - 0s 3ms/step - loss: 5.6031 - mae: 5.6031\n",
      "Epoch 59/100\n",
      "2/2 [==============================] - 0s 2ms/step - loss: 6.4873 - mae: 6.4873\n",
      "Epoch 60/100\n",
      "2/2 [==============================] - 0s 3ms/step - loss: 7.0098 - mae: 7.0098\n",
      "Epoch 61/100\n",
      "2/2 [==============================] - 0s 3ms/step - loss: 6.7263 - mae: 6.7263\n",
      "Epoch 62/100\n",
      "2/2 [==============================] - 0s 3ms/step - loss: 8.9229 - mae: 8.9229\n",
      "Epoch 63/100\n",
      "2/2 [==============================] - 0s 3ms/step - loss: 7.7760 - mae: 7.7760\n",
      "Epoch 64/100\n",
      "2/2 [==============================] - 0s 3ms/step - loss: 7.8219 - mae: 7.8219\n",
      "Epoch 65/100\n",
      "2/2 [==============================] - 0s 4ms/step - loss: 9.4810 - mae: 9.4810\n",
      "Epoch 66/100\n",
      "2/2 [==============================] - 0s 3ms/step - loss: 8.9724 - mae: 8.9724\n",
      "Epoch 67/100\n",
      "2/2 [==============================] - 0s 7ms/step - loss: 10.9305 - mae: 10.9305\n",
      "Epoch 68/100\n",
      "2/2 [==============================] - 0s 3ms/step - loss: 9.5398 - mae: 9.5398\n",
      "Epoch 69/100\n",
      "2/2 [==============================] - 0s 3ms/step - loss: 8.5254 - mae: 8.5254\n",
      "Epoch 70/100\n",
      "2/2 [==============================] - 0s 3ms/step - loss: 4.3670 - mae: 4.3670\n",
      "Epoch 71/100\n",
      "2/2 [==============================] - 0s 8ms/step - loss: 8.4411 - mae: 8.4411\n",
      "Epoch 72/100\n",
      "2/2 [==============================] - 0s 3ms/step - loss: 9.8203 - mae: 9.8203\n",
      "Epoch 73/100\n",
      "2/2 [==============================] - 0s 3ms/step - loss: 7.6109 - mae: 7.6109\n",
      "Epoch 74/100\n",
      "2/2 [==============================] - 0s 3ms/step - loss: 14.4596 - mae: 14.4596\n",
      "Epoch 75/100\n",
      "2/2 [==============================] - 0s 3ms/step - loss: 3.8768 - mae: 3.8768\n",
      "Epoch 76/100\n",
      "2/2 [==============================] - 0s 3ms/step - loss: 5.0887 - mae: 5.0887\n",
      "Epoch 77/100\n",
      "2/2 [==============================] - 0s 2ms/step - loss: 11.3377 - mae: 11.3377\n",
      "Epoch 78/100\n",
      "2/2 [==============================] - 0s 3ms/step - loss: 11.7626 - mae: 11.7626\n",
      "Epoch 79/100\n",
      "2/2 [==============================] - 0s 3ms/step - loss: 14.0558 - mae: 14.0558\n",
      "Epoch 80/100\n",
      "2/2 [==============================] - 0s 4ms/step - loss: 10.1281 - mae: 10.1281\n",
      "Epoch 81/100\n",
      "2/2 [==============================] - 0s 4ms/step - loss: 9.5219 - mae: 9.5219\n",
      "Epoch 82/100\n",
      "2/2 [==============================] - 0s 4ms/step - loss: 7.4114 - mae: 7.4114\n",
      "Epoch 83/100\n",
      "2/2 [==============================] - 0s 4ms/step - loss: 5.8352 - mae: 5.8352\n",
      "Epoch 84/100\n",
      "2/2 [==============================] - 0s 3ms/step - loss: 6.2018 - mae: 6.2018\n",
      "Epoch 85/100\n",
      "2/2 [==============================] - 0s 4ms/step - loss: 14.2787 - mae: 14.2787\n",
      "Epoch 86/100\n",
      "2/2 [==============================] - 0s 3ms/step - loss: 11.5813 - mae: 11.5813\n",
      "Epoch 87/100\n",
      "2/2 [==============================] - 0s 3ms/step - loss: 10.4014 - mae: 10.4014\n",
      "Epoch 88/100\n",
      "2/2 [==============================] - 0s 6ms/step - loss: 7.8273 - mae: 7.8273\n",
      "Epoch 89/100\n",
      "2/2 [==============================] - 0s 2ms/step - loss: 7.3577 - mae: 7.3577\n",
      "Epoch 90/100\n",
      "2/2 [==============================] - 0s 4ms/step - loss: 10.0397 - mae: 10.0397\n",
      "Epoch 91/100\n",
      "2/2 [==============================] - 0s 4ms/step - loss: 7.3293 - mae: 7.3293\n",
      "Epoch 92/100\n",
      "2/2 [==============================] - 0s 5ms/step - loss: 11.6371 - mae: 11.6371\n",
      "Epoch 93/100\n",
      "2/2 [==============================] - 0s 6ms/step - loss: 4.7586 - mae: 4.7586\n",
      "Epoch 94/100\n",
      "2/2 [==============================] - 0s 4ms/step - loss: 9.7613 - mae: 9.7613\n",
      "Epoch 95/100\n",
      "2/2 [==============================] - 0s 3ms/step - loss: 11.5638 - mae: 11.5638\n",
      "Epoch 96/100\n",
      "2/2 [==============================] - 0s 3ms/step - loss: 7.7345 - mae: 7.7345\n",
      "Epoch 97/100\n",
      "2/2 [==============================] - 0s 4ms/step - loss: 10.5471 - mae: 10.5471\n",
      "Epoch 98/100\n",
      "2/2 [==============================] - 0s 3ms/step - loss: 7.7929 - mae: 7.7929\n",
      "Epoch 99/100\n",
      "2/2 [==============================] - 0s 3ms/step - loss: 8.1990 - mae: 8.1990\n",
      "Epoch 100/100\n",
      "2/2 [==============================] - 0s 3ms/step - loss: 11.3843 - mae: 11.3843\n"
     ]
    },
    {
     "data": {
      "text/plain": [
       "<keras.callbacks.History at 0x19666510850>"
      ]
     },
     "execution_count": 73,
     "metadata": {},
     "output_type": "execute_result"
    }
   ],
   "source": [
    "# Let's fit our model to the training data\n",
    "model.fit(X_train, y_train, epochs=100, verbose=1)\n",
    "# Every time i fit the model without reinstantiating it, it updates the actual training model."
   ]
  }
 ],
 "metadata": {
  "interpreter": {
   "hash": "63418e73e250c304d26eaf03185e2f59ff2277f62dd1cc8bba54019c2c46cc60"
  },
  "kernelspec": {
   "display_name": "Python 3.9.7 ('udemy_tensorflow')",
   "language": "python",
   "name": "python3"
  },
  "language_info": {
   "codemirror_mode": {
    "name": "ipython",
    "version": 3
   },
   "file_extension": ".py",
   "mimetype": "text/x-python",
   "name": "python",
   "nbconvert_exporter": "python",
   "pygments_lexer": "ipython3",
   "version": "3.9.7"
  },
  "orig_nbformat": 4
 },
 "nbformat": 4,
 "nbformat_minor": 2
}
