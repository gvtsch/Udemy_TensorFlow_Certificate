{
 "cells": [
  {
   "cell_type": "markdown",
   "metadata": {},
   "source": [
    "# Transfer Learning with TensorFlow Part 1: Feature Extraction\n",
    "\n",
    "Transfer Learning is leveraging a working model's existing architecture and learned patterns for our own problem.\n",
    "\n",
    "There are two mein benefits:\n",
    "1. Can leverage an existing neural network architecture proven to work on problem similar to our own.\n",
    "2. Can leverage a working neural network architecture which has already learning patterns on similar data to our own, then we can adapt those pattern to our own data."
   ]
  },
  {
   "cell_type": "code",
   "execution_count": 1,
   "metadata": {},
   "outputs": [
    {
     "name": "stdout",
     "output_type": "stream",
     "text": [
      "Thu Jun 23 05:42:25 2022       \n",
      "+-----------------------------------------------------------------------------+\n",
      "| NVIDIA-SMI 516.40       Driver Version: 516.40       CUDA Version: 11.7     |\n",
      "|-------------------------------+----------------------+----------------------+\n",
      "| GPU  Name            TCC/WDDM | Bus-Id        Disp.A | Volatile Uncorr. ECC |\n",
      "| Fan  Temp  Perf  Pwr:Usage/Cap|         Memory-Usage | GPU-Util  Compute M. |\n",
      "|                               |                      |               MIG M. |\n",
      "|===============================+======================+======================|\n",
      "|   0  NVIDIA GeForce ... WDDM  | 00000000:01:00.0  On |                  N/A |\n",
      "| N/A   56C    P5    19W /  N/A |   1354MiB /  6144MiB |     31%      Default |\n",
      "|                               |                      |                  N/A |\n",
      "+-------------------------------+----------------------+----------------------+\n",
      "                                                                               \n",
      "+-----------------------------------------------------------------------------+\n",
      "| Processes:                                                                  |\n",
      "|  GPU   GI   CI        PID   Type   Process name                  GPU Memory |\n",
      "|        ID   ID                                                   Usage      |\n",
      "|=============================================================================|\n",
      "|    0   N/A  N/A      7776    C+G   ...ekyb3d8bbwe\\YourPhone.exe    N/A      |\n",
      "|    0   N/A  N/A      8108    C+G   ...zilla Firefox\\firefox.exe    N/A      |\n",
      "|    0   N/A  N/A      8644    C+G   ...4__htrsf667h5kn2\\AWCC.exe    N/A      |\n",
      "|    0   N/A  N/A     10408    C+G   ...cw5n1h2txyewy\\LockApp.exe    N/A      |\n",
      "|    0   N/A  N/A     11760    C+G   C:\\Windows\\explorer.exe         N/A      |\n",
      "|    0   N/A  N/A     13164    C+G   ...ck\\app-4.27.154\\slack.exe    N/A      |\n",
      "|    0   N/A  N/A     14908    C+G   ...\\PremiereElementsLive.exe    N/A      |\n",
      "|    0   N/A  N/A     17368    C+G   ...lication\\WebCompanion.exe    N/A      |\n",
      "|    0   N/A  N/A     17672    C+G   ...ropbox\\Client\\Dropbox.exe    N/A      |\n",
      "|    0   N/A  N/A     17948    C+G   ...ekyb3d8bbwe\\HxOutlook.exe    N/A      |\n",
      "|    0   N/A  N/A     20296    C+G   ...\\app-1.0.9005\\Discord.exe    N/A      |\n",
      "|    0   N/A  N/A     21780    C+G   ...icrosoft VS Code\\Code.exe    N/A      |\n",
      "|    0   N/A  N/A     22208    C+G   ...remiereElementsEditor.exe    N/A      |\n",
      "|    0   N/A  N/A     22524    C+G   ...zilla Firefox\\firefox.exe    N/A      |\n",
      "|    0   N/A  N/A     26500    C+G   ...y\\ShellExperienceHost.exe    N/A      |\n",
      "|    0   N/A  N/A     28000    C+G   ...artMenuExperienceHost.exe    N/A      |\n",
      "|    0   N/A  N/A     28900    C+G   ...245.44\\msedgewebview2.exe    N/A      |\n",
      "|    0   N/A  N/A     30200    C+G   ...ge\\Application\\msedge.exe    N/A      |\n",
      "|    0   N/A  N/A     30576    C+G   ...perience\\NVIDIA Share.exe    N/A      |\n",
      "|    0   N/A  N/A     33380    C+G   ...batNotificationClient.exe    N/A      |\n",
      "|    0   N/A  N/A     34048    C+G   ...n1h2txyewy\\SearchHost.exe    N/A      |\n",
      "|    0   N/A  N/A     34440    C+G   ...lPanel\\SystemSettings.exe    N/A      |\n",
      "|    0   N/A  N/A     35004    C+G   ... iCUE 4 Software\\iCUE.exe    N/A      |\n",
      "|    0   N/A  N/A     36596    C+G   ...obeNotificationClient.exe    N/A      |\n",
      "+-----------------------------------------------------------------------------+\n"
     ]
    }
   ],
   "source": [
    "# Are we using a GPU?\n",
    "!nvidia-smi"
   ]
  },
  {
   "cell_type": "markdown",
   "metadata": {},
   "source": [
    "## Download and becoming one with the data"
   ]
  },
  {
   "cell_type": "code",
   "execution_count": 11,
   "metadata": {},
   "outputs": [],
   "source": [
    "# Let's get data (10% of 10 food classes from Food101)\n",
    "food_dir = \"10_food_classes_10_percent/\""
   ]
  },
  {
   "cell_type": "code",
   "execution_count": 12,
   "metadata": {},
   "outputs": [
    {
     "name": "stdout",
     "output_type": "stream",
     "text": [
      "There are 2 directories and 1 images in '10_food_classes_10_percent/'\n",
      "There are 10 directories and 0 images in '10_food_classes_10_percent/test'\n",
      "There are 0 directories and 250 images in '10_food_classes_10_percent/test\\chicken_curry'\n",
      "There are 0 directories and 250 images in '10_food_classes_10_percent/test\\chicken_wings'\n",
      "There are 0 directories and 250 images in '10_food_classes_10_percent/test\\fried_rice'\n",
      "There are 0 directories and 250 images in '10_food_classes_10_percent/test\\grilled_salmon'\n",
      "There are 0 directories and 250 images in '10_food_classes_10_percent/test\\hamburger'\n",
      "There are 0 directories and 250 images in '10_food_classes_10_percent/test\\ice_cream'\n",
      "There are 0 directories and 250 images in '10_food_classes_10_percent/test\\pizza'\n",
      "There are 0 directories and 250 images in '10_food_classes_10_percent/test\\ramen'\n",
      "There are 0 directories and 250 images in '10_food_classes_10_percent/test\\steak'\n",
      "There are 0 directories and 250 images in '10_food_classes_10_percent/test\\sushi'\n",
      "There are 10 directories and 0 images in '10_food_classes_10_percent/train'\n",
      "There are 0 directories and 75 images in '10_food_classes_10_percent/train\\chicken_curry'\n",
      "There are 0 directories and 75 images in '10_food_classes_10_percent/train\\chicken_wings'\n",
      "There are 0 directories and 75 images in '10_food_classes_10_percent/train\\fried_rice'\n",
      "There are 0 directories and 75 images in '10_food_classes_10_percent/train\\grilled_salmon'\n",
      "There are 0 directories and 75 images in '10_food_classes_10_percent/train\\hamburger'\n",
      "There are 0 directories and 75 images in '10_food_classes_10_percent/train\\ice_cream'\n",
      "There are 0 directories and 75 images in '10_food_classes_10_percent/train\\pizza'\n",
      "There are 0 directories and 75 images in '10_food_classes_10_percent/train\\ramen'\n",
      "There are 0 directories and 75 images in '10_food_classes_10_percent/train\\steak'\n",
      "There are 0 directories and 75 images in '10_food_classes_10_percent/train\\sushi'\n"
     ]
    }
   ],
   "source": [
    "# How many images in each folder\n",
    "import os\n",
    "\n",
    "# Walk through 10 percent data directory and list number of files\n",
    "for dirpath, dirnames, filenames in os.walk(food_dir):\n",
    "    print(f\"There are {len(dirnames)} directories and {len(filenames)} images in '{dirpath}'\")"
   ]
  },
  {
   "cell_type": "markdown",
   "metadata": {},
   "source": [
    "## Creating data loaders (preparing the data)\n",
    "\n",
    "We'll use the `ImageDataGenerator` class to load in our images as batches."
   ]
  },
  {
   "cell_type": "code",
   "execution_count": 13,
   "metadata": {},
   "outputs": [
    {
     "name": "stdout",
     "output_type": "stream",
     "text": [
      "Training images: \n",
      "Found 750 images belonging to 10 classes.\n",
      "Testing images: \n",
      "Found 2500 images belonging to 10 classes.\n"
     ]
    }
   ],
   "source": [
    "# Setup data inputs\n",
    "from tensorflow.keras.preprocessing.image import ImageDataGenerator\n",
    "\n",
    "IMAGE_SHAPE = (224, 224)\n",
    "BATCH_SIZE = 32\n",
    "EPOCHS = 5\n",
    "\n",
    "train_dir = food_dir + \"train\"\n",
    "test_dir = food_dir + \"test\"\n",
    "\n",
    "train_datagen = ImageDataGenerator(rescale=1/255.)\n",
    "test_datagen = ImageDataGenerator(rescale=1/255.)\n",
    "\n",
    "print(\"Training images: \")\n",
    "train_data_10_percent = train_datagen.flow_from_directory(\n",
    "    train_dir,\n",
    "    target_size=IMAGE_SHAPE,\n",
    "    batch_size=BATCH_SIZE,\n",
    "    class_mode=\"categorical\"\n",
    ")\n",
    "\n",
    "print(\"Testing images: \")\n",
    "test_data = test_datagen.flow_from_directory(\n",
    "    test_dir,\n",
    "    target_size=IMAGE_SHAPE,\n",
    "    batch_size=BATCH_SIZE,\n",
    "    class_mode=\"categorical\"\n",
    ")"
   ]
  },
  {
   "cell_type": "markdown",
   "metadata": {},
   "source": [
    "## Setting up callbacks (things to run whilst our model trains)\n",
    "\n",
    "Callbacks are extra functionality you can add to your models to be performed during or after training. Some of the most popular callbacks:\n",
    "\n",
    "* Tracking experiments with the TensorBoard callback\n",
    "* Model checkpoint with the ModelCheckpoint callback\n",
    "* Stopping a model from training (before training too long and it overfits) with the EarlyStopping callback"
   ]
  },
  {
   "cell_type": "code",
   "execution_count": null,
   "metadata": {},
   "outputs": [],
   "source": [
    "# Create TensorBoard callback (functionized because we need to create a new one for each model)\n",
    "import datetime\n",
    "import tensorflow as tf\n",
    "\n",
    "def create_tensorboard_callback(dir_name, experiment_name):\n",
    "    log_dir = dir_name + \"/\" + experiment_name + \"/\" + datetime.datetime.now().strftime(\"%Y%m%d-%H%M%S\")\n",
    "    tensorboard_callback = tf.keras.callbacks.TensorBoard(log_dir=log_dir)\n",
    "    print(f\"Saving TensorBoard log files to: {log_dir}\")\n",
    "    return tensorboard_callback"
   ]
  },
  {
   "cell_type": "markdown",
   "metadata": {},
   "source": [
    "## Creating model using TensorFlow Hub\n",
    "\n",
    "In the past we've used TensorFlow to create our own models layer by layer from scratch.\n",
    "\n",
    "Now we're going to do a similar process, except the majority of our model's layers are going to come from TensorFlow Hub.\n",
    "\n",
    "We can access pretrained models on: https://www.tensorflow.org/hub/\n",
    "\n",
    "Browsing the TensorFlow Hub page and sorting for image classification, we found the following feature vector model link: https://tfhub.dev/google/efficientnet/b0/feature-vector/1"
   ]
  },
  {
   "cell_type": "code",
   "execution_count": 14,
   "metadata": {},
   "outputs": [],
   "source": [
    "import tensorflow_hub as hub"
   ]
  },
  {
   "cell_type": "code",
   "execution_count": null,
   "metadata": {},
   "outputs": [],
   "source": []
  }
 ],
 "metadata": {
  "kernelspec": {
   "display_name": "Python 3.9.7 ('udemy_tensorflow')",
   "language": "python",
   "name": "python3"
  },
  "language_info": {
   "codemirror_mode": {
    "name": "ipython",
    "version": 3
   },
   "file_extension": ".py",
   "mimetype": "text/x-python",
   "name": "python",
   "nbconvert_exporter": "python",
   "pygments_lexer": "ipython3",
   "version": "3.9.7"
  },
  "orig_nbformat": 4,
  "vscode": {
   "interpreter": {
    "hash": "63418e73e250c304d26eaf03185e2f59ff2277f62dd1cc8bba54019c2c46cc60"
   }
  }
 },
 "nbformat": 4,
 "nbformat_minor": 2
}
