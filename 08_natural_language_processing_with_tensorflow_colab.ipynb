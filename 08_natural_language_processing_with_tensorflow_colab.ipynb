{
  "cells": [
    {
      "cell_type": "markdown",
      "metadata": {
        "id": "2qbPwvSxf3W3"
      },
      "source": [
        "# Introduction to NLP fundamentals in TensorFlow\n",
        "\n",
        "NLP has the goal of deriving information out of natural language (could be sequences of text or speech).\n",
        "\n",
        "Another common term for NLP problem is sequence to sequence problems (seq2seq)."
      ]
    },
    {
      "cell_type": "markdown",
      "metadata": {
        "id": "aE5oTjK8f3W5"
      },
      "source": [
        "## Check for GPU"
      ]
    },
    {
      "cell_type": "code",
      "execution_count": 1,
      "metadata": {
        "id": "h5XwZW6mf3W6",
        "outputId": "c2368ab1-196a-4b69-ea44-7fd2541ed3bf",
        "colab": {
          "base_uri": "https://localhost:8080/"
        }
      },
      "outputs": [
        {
          "output_type": "stream",
          "name": "stdout",
          "text": [
            "Wed Jul 13 03:26:09 2022       \n",
            "+-----------------------------------------------------------------------------+\n",
            "| NVIDIA-SMI 460.32.03    Driver Version: 460.32.03    CUDA Version: 11.2     |\n",
            "|-------------------------------+----------------------+----------------------+\n",
            "| GPU  Name        Persistence-M| Bus-Id        Disp.A | Volatile Uncorr. ECC |\n",
            "| Fan  Temp  Perf  Pwr:Usage/Cap|         Memory-Usage | GPU-Util  Compute M. |\n",
            "|                               |                      |               MIG M. |\n",
            "|===============================+======================+======================|\n",
            "|   0  Tesla T4            Off  | 00000000:00:04.0 Off |                    0 |\n",
            "| N/A   38C    P8     9W /  70W |      0MiB / 15109MiB |      0%      Default |\n",
            "|                               |                      |                  N/A |\n",
            "+-------------------------------+----------------------+----------------------+\n",
            "                                                                               \n",
            "+-----------------------------------------------------------------------------+\n",
            "| Processes:                                                                  |\n",
            "|  GPU   GI   CI        PID   Type   Process name                  GPU Memory |\n",
            "|        ID   ID                                                   Usage      |\n",
            "|=============================================================================|\n",
            "|  No running processes found                                                 |\n",
            "+-----------------------------------------------------------------------------+\n",
            "GPU 0: Tesla T4 (UUID: GPU-a9783fac-7b6d-815a-57bb-4a80251c01d1)\n"
          ]
        }
      ],
      "source": [
        "!nvidia-smi\n",
        "!nvidia-smi -L"
      ]
    },
    {
      "cell_type": "markdown",
      "metadata": {
        "id": "IkVzE3YEf3W6"
      },
      "source": [
        "## Get helper functions"
      ]
    },
    {
      "cell_type": "code",
      "execution_count": 2,
      "metadata": {
        "id": "8rHBwYgef3W7",
        "outputId": "0629edbf-0f2f-45e6-d0f6-4b92c352c0d7",
        "colab": {
          "base_uri": "https://localhost:8080/"
        }
      },
      "outputs": [
        {
          "output_type": "stream",
          "name": "stdout",
          "text": [
            "--2022-07-13 03:26:09--  https://raw.githubusercontent.com/mrdbourke/tensorflow-deep-learning/main/extras/helper_functions.py\n",
            "Resolving raw.githubusercontent.com (raw.githubusercontent.com)... 185.199.109.133, 185.199.111.133, 185.199.108.133, ...\n",
            "Connecting to raw.githubusercontent.com (raw.githubusercontent.com)|185.199.109.133|:443... connected.\n",
            "HTTP request sent, awaiting response... 200 OK\n",
            "Length: 10246 (10K) [text/plain]\n",
            "Saving to: ‘helper_functions.py’\n",
            "\n",
            "\rhelper_functions.py   0%[                    ]       0  --.-KB/s               \rhelper_functions.py 100%[===================>]  10.01K  --.-KB/s    in 0s      \n",
            "\n",
            "2022-07-13 03:26:09 (112 MB/s) - ‘helper_functions.py’ saved [10246/10246]\n",
            "\n"
          ]
        }
      ],
      "source": [
        "import os\n",
        "if not os.path.exists(\"helper_functions.py\"):\n",
        "    !wget https://raw.githubusercontent.com/mrdbourke/tensorflow-deep-learning/main/extras/helper_functions.py\n",
        "\n",
        "from helper_functions import unzip_data, create_tensorboard_callback, plot_loss_curves, compare_historys"
      ]
    },
    {
      "cell_type": "markdown",
      "metadata": {
        "id": "kOC2Il8Tf3W7"
      },
      "source": [
        "## Get a text dataset\n",
        "\n",
        "The dataset we're going to be using is Kaggle's introduction to NLP dataset (text samples of Tweets labelled as disaster or not disaster).\n",
        "\n",
        "See the original source: https://www.kaggle.com/code/jhoward/getting-started-with-nlp-for-absolute-beginners/notebook"
      ]
    },
    {
      "cell_type": "code",
      "execution_count": 3,
      "metadata": {
        "id": "8B8x8Parf3W8",
        "outputId": "9efbdd1a-b9f4-4031-8520-35a775fc2991",
        "colab": {
          "base_uri": "https://localhost:8080/"
        }
      },
      "outputs": [
        {
          "output_type": "stream",
          "name": "stdout",
          "text": [
            "--2022-07-13 03:26:12--  https://storage.googleapis.com/ztm_tf_course/nlp_getting_started.zip\n",
            "Resolving storage.googleapis.com (storage.googleapis.com)... 142.251.111.128, 142.250.65.80, 142.251.16.128, ...\n",
            "Connecting to storage.googleapis.com (storage.googleapis.com)|142.251.111.128|:443... connected.\n",
            "HTTP request sent, awaiting response... 200 OK\n",
            "Length: 607343 (593K) [application/zip]\n",
            "Saving to: ‘nlp_getting_started.zip’\n",
            "\n",
            "\rnlp_getting_started   0%[                    ]       0  --.-KB/s               \rnlp_getting_started 100%[===================>] 593.11K  --.-KB/s    in 0.006s  \n",
            "\n",
            "2022-07-13 03:26:12 (90.8 MB/s) - ‘nlp_getting_started.zip’ saved [607343/607343]\n",
            "\n"
          ]
        }
      ],
      "source": [
        "if not os.path.exists(\"nlp_getting_started.zip\"):\n",
        "    !wget https://storage.googleapis.com/ztm_tf_course/nlp_getting_started.zip\n",
        "unzip_data(\"nlp_getting_started.zip\")"
      ]
    },
    {
      "cell_type": "markdown",
      "metadata": {
        "id": "npKgaUh5f3W8"
      },
      "source": [
        "## Visualizing a text dataset\n",
        "\n",
        "To visualize our text samples, we first have to read them in , one way to do so would be to use Python: https://realpython.com/read-write-files-python/ \n",
        "\n",
        "But i prefer to get visual straight away.\n",
        "\n",
        "So another way to do this is to use pandes..."
      ]
    },
    {
      "cell_type": "code",
      "execution_count": 4,
      "metadata": {
        "id": "amskCqKbf3W8",
        "outputId": "3a10fc2c-3bc0-4f64-91be-c9153c346659",
        "colab": {
          "base_uri": "https://localhost:8080/",
          "height": 206
        }
      },
      "outputs": [
        {
          "output_type": "execute_result",
          "data": {
            "text/plain": [
              "   id keyword location                                               text  \\\n",
              "0   1     NaN      NaN  Our Deeds are the Reason of this #earthquake M...   \n",
              "1   4     NaN      NaN             Forest fire near La Ronge Sask. Canada   \n",
              "2   5     NaN      NaN  All residents asked to 'shelter in place' are ...   \n",
              "3   6     NaN      NaN  13,000 people receive #wildfires evacuation or...   \n",
              "4   7     NaN      NaN  Just got sent this photo from Ruby #Alaska as ...   \n",
              "\n",
              "   target  \n",
              "0       1  \n",
              "1       1  \n",
              "2       1  \n",
              "3       1  \n",
              "4       1  "
            ],
            "text/html": [
              "\n",
              "  <div id=\"df-63f02039-b588-4c55-9986-a3e886e029fc\">\n",
              "    <div class=\"colab-df-container\">\n",
              "      <div>\n",
              "<style scoped>\n",
              "    .dataframe tbody tr th:only-of-type {\n",
              "        vertical-align: middle;\n",
              "    }\n",
              "\n",
              "    .dataframe tbody tr th {\n",
              "        vertical-align: top;\n",
              "    }\n",
              "\n",
              "    .dataframe thead th {\n",
              "        text-align: right;\n",
              "    }\n",
              "</style>\n",
              "<table border=\"1\" class=\"dataframe\">\n",
              "  <thead>\n",
              "    <tr style=\"text-align: right;\">\n",
              "      <th></th>\n",
              "      <th>id</th>\n",
              "      <th>keyword</th>\n",
              "      <th>location</th>\n",
              "      <th>text</th>\n",
              "      <th>target</th>\n",
              "    </tr>\n",
              "  </thead>\n",
              "  <tbody>\n",
              "    <tr>\n",
              "      <th>0</th>\n",
              "      <td>1</td>\n",
              "      <td>NaN</td>\n",
              "      <td>NaN</td>\n",
              "      <td>Our Deeds are the Reason of this #earthquake M...</td>\n",
              "      <td>1</td>\n",
              "    </tr>\n",
              "    <tr>\n",
              "      <th>1</th>\n",
              "      <td>4</td>\n",
              "      <td>NaN</td>\n",
              "      <td>NaN</td>\n",
              "      <td>Forest fire near La Ronge Sask. Canada</td>\n",
              "      <td>1</td>\n",
              "    </tr>\n",
              "    <tr>\n",
              "      <th>2</th>\n",
              "      <td>5</td>\n",
              "      <td>NaN</td>\n",
              "      <td>NaN</td>\n",
              "      <td>All residents asked to 'shelter in place' are ...</td>\n",
              "      <td>1</td>\n",
              "    </tr>\n",
              "    <tr>\n",
              "      <th>3</th>\n",
              "      <td>6</td>\n",
              "      <td>NaN</td>\n",
              "      <td>NaN</td>\n",
              "      <td>13,000 people receive #wildfires evacuation or...</td>\n",
              "      <td>1</td>\n",
              "    </tr>\n",
              "    <tr>\n",
              "      <th>4</th>\n",
              "      <td>7</td>\n",
              "      <td>NaN</td>\n",
              "      <td>NaN</td>\n",
              "      <td>Just got sent this photo from Ruby #Alaska as ...</td>\n",
              "      <td>1</td>\n",
              "    </tr>\n",
              "  </tbody>\n",
              "</table>\n",
              "</div>\n",
              "      <button class=\"colab-df-convert\" onclick=\"convertToInteractive('df-63f02039-b588-4c55-9986-a3e886e029fc')\"\n",
              "              title=\"Convert this dataframe to an interactive table.\"\n",
              "              style=\"display:none;\">\n",
              "        \n",
              "  <svg xmlns=\"http://www.w3.org/2000/svg\" height=\"24px\"viewBox=\"0 0 24 24\"\n",
              "       width=\"24px\">\n",
              "    <path d=\"M0 0h24v24H0V0z\" fill=\"none\"/>\n",
              "    <path d=\"M18.56 5.44l.94 2.06.94-2.06 2.06-.94-2.06-.94-.94-2.06-.94 2.06-2.06.94zm-11 1L8.5 8.5l.94-2.06 2.06-.94-2.06-.94L8.5 2.5l-.94 2.06-2.06.94zm10 10l.94 2.06.94-2.06 2.06-.94-2.06-.94-.94-2.06-.94 2.06-2.06.94z\"/><path d=\"M17.41 7.96l-1.37-1.37c-.4-.4-.92-.59-1.43-.59-.52 0-1.04.2-1.43.59L10.3 9.45l-7.72 7.72c-.78.78-.78 2.05 0 2.83L4 21.41c.39.39.9.59 1.41.59.51 0 1.02-.2 1.41-.59l7.78-7.78 2.81-2.81c.8-.78.8-2.07 0-2.86zM5.41 20L4 18.59l7.72-7.72 1.47 1.35L5.41 20z\"/>\n",
              "  </svg>\n",
              "      </button>\n",
              "      \n",
              "  <style>\n",
              "    .colab-df-container {\n",
              "      display:flex;\n",
              "      flex-wrap:wrap;\n",
              "      gap: 12px;\n",
              "    }\n",
              "\n",
              "    .colab-df-convert {\n",
              "      background-color: #E8F0FE;\n",
              "      border: none;\n",
              "      border-radius: 50%;\n",
              "      cursor: pointer;\n",
              "      display: none;\n",
              "      fill: #1967D2;\n",
              "      height: 32px;\n",
              "      padding: 0 0 0 0;\n",
              "      width: 32px;\n",
              "    }\n",
              "\n",
              "    .colab-df-convert:hover {\n",
              "      background-color: #E2EBFA;\n",
              "      box-shadow: 0px 1px 2px rgba(60, 64, 67, 0.3), 0px 1px 3px 1px rgba(60, 64, 67, 0.15);\n",
              "      fill: #174EA6;\n",
              "    }\n",
              "\n",
              "    [theme=dark] .colab-df-convert {\n",
              "      background-color: #3B4455;\n",
              "      fill: #D2E3FC;\n",
              "    }\n",
              "\n",
              "    [theme=dark] .colab-df-convert:hover {\n",
              "      background-color: #434B5C;\n",
              "      box-shadow: 0px 1px 3px 1px rgba(0, 0, 0, 0.15);\n",
              "      filter: drop-shadow(0px 1px 2px rgba(0, 0, 0, 0.3));\n",
              "      fill: #FFFFFF;\n",
              "    }\n",
              "  </style>\n",
              "\n",
              "      <script>\n",
              "        const buttonEl =\n",
              "          document.querySelector('#df-63f02039-b588-4c55-9986-a3e886e029fc button.colab-df-convert');\n",
              "        buttonEl.style.display =\n",
              "          google.colab.kernel.accessAllowed ? 'block' : 'none';\n",
              "\n",
              "        async function convertToInteractive(key) {\n",
              "          const element = document.querySelector('#df-63f02039-b588-4c55-9986-a3e886e029fc');\n",
              "          const dataTable =\n",
              "            await google.colab.kernel.invokeFunction('convertToInteractive',\n",
              "                                                     [key], {});\n",
              "          if (!dataTable) return;\n",
              "\n",
              "          const docLinkHtml = 'Like what you see? Visit the ' +\n",
              "            '<a target=\"_blank\" href=https://colab.research.google.com/notebooks/data_table.ipynb>data table notebook</a>'\n",
              "            + ' to learn more about interactive tables.';\n",
              "          element.innerHTML = '';\n",
              "          dataTable['output_type'] = 'display_data';\n",
              "          await google.colab.output.renderOutput(dataTable, element);\n",
              "          const docLink = document.createElement('div');\n",
              "          docLink.innerHTML = docLinkHtml;\n",
              "          element.appendChild(docLink);\n",
              "        }\n",
              "      </script>\n",
              "    </div>\n",
              "  </div>\n",
              "  "
            ]
          },
          "metadata": {},
          "execution_count": 4
        }
      ],
      "source": [
        "import pandas as pd\n",
        "train_df = pd.read_csv(\"train.csv\")\n",
        "test_df = pd.read_csv(\"test.csv\")\n",
        "train_df.head()"
      ]
    },
    {
      "cell_type": "code",
      "execution_count": 5,
      "metadata": {
        "id": "m06WVEkFf3W9",
        "outputId": "74080e9b-d778-44a7-f93e-a4791b762bc6",
        "colab": {
          "base_uri": "https://localhost:8080/"
        }
      },
      "outputs": [
        {
          "output_type": "execute_result",
          "data": {
            "text/plain": [
              "('Forest fire near La Ronge Sask. Canada', 1)"
            ]
          },
          "metadata": {},
          "execution_count": 5
        }
      ],
      "source": [
        "train_df[\"text\"][1], train_df[\"target\"][1]"
      ]
    },
    {
      "cell_type": "code",
      "execution_count": 6,
      "metadata": {
        "id": "hEB4aXEjf3W-",
        "outputId": "2ce4b5ff-5ada-493c-f165-f9458cc4f8cd",
        "colab": {
          "base_uri": "https://localhost:8080/",
          "height": 206
        }
      },
      "outputs": [
        {
          "output_type": "execute_result",
          "data": {
            "text/plain": [
              "        id      keyword               location  \\\n",
              "2644  3796  destruction                    NaN   \n",
              "2227  3185       deluge                    NaN   \n",
              "5448  7769       police                     UK   \n",
              "132    191   aftershock                    NaN   \n",
              "6845  9810       trauma  Montgomery County, MD   \n",
              "\n",
              "                                                   text  target  \n",
              "2644  So you have a new weapon that can cause un-ima...       1  \n",
              "2227  The f$&amp;@ing things I do for #GISHWHES Just...       0  \n",
              "5448  DT @georgegalloway: RT @Galloway4Mayor: ÛÏThe...       1  \n",
              "132   Aftershock back to school kick off was great. ...       0  \n",
              "6845  in response to trauma Children of Addicts deve...       0  "
            ],
            "text/html": [
              "\n",
              "  <div id=\"df-fbb6e16c-0f6b-4f3d-b31b-c5222f5439a3\">\n",
              "    <div class=\"colab-df-container\">\n",
              "      <div>\n",
              "<style scoped>\n",
              "    .dataframe tbody tr th:only-of-type {\n",
              "        vertical-align: middle;\n",
              "    }\n",
              "\n",
              "    .dataframe tbody tr th {\n",
              "        vertical-align: top;\n",
              "    }\n",
              "\n",
              "    .dataframe thead th {\n",
              "        text-align: right;\n",
              "    }\n",
              "</style>\n",
              "<table border=\"1\" class=\"dataframe\">\n",
              "  <thead>\n",
              "    <tr style=\"text-align: right;\">\n",
              "      <th></th>\n",
              "      <th>id</th>\n",
              "      <th>keyword</th>\n",
              "      <th>location</th>\n",
              "      <th>text</th>\n",
              "      <th>target</th>\n",
              "    </tr>\n",
              "  </thead>\n",
              "  <tbody>\n",
              "    <tr>\n",
              "      <th>2644</th>\n",
              "      <td>3796</td>\n",
              "      <td>destruction</td>\n",
              "      <td>NaN</td>\n",
              "      <td>So you have a new weapon that can cause un-ima...</td>\n",
              "      <td>1</td>\n",
              "    </tr>\n",
              "    <tr>\n",
              "      <th>2227</th>\n",
              "      <td>3185</td>\n",
              "      <td>deluge</td>\n",
              "      <td>NaN</td>\n",
              "      <td>The f$&amp;amp;@ing things I do for #GISHWHES Just...</td>\n",
              "      <td>0</td>\n",
              "    </tr>\n",
              "    <tr>\n",
              "      <th>5448</th>\n",
              "      <td>7769</td>\n",
              "      <td>police</td>\n",
              "      <td>UK</td>\n",
              "      <td>DT @georgegalloway: RT @Galloway4Mayor: ÛÏThe...</td>\n",
              "      <td>1</td>\n",
              "    </tr>\n",
              "    <tr>\n",
              "      <th>132</th>\n",
              "      <td>191</td>\n",
              "      <td>aftershock</td>\n",
              "      <td>NaN</td>\n",
              "      <td>Aftershock back to school kick off was great. ...</td>\n",
              "      <td>0</td>\n",
              "    </tr>\n",
              "    <tr>\n",
              "      <th>6845</th>\n",
              "      <td>9810</td>\n",
              "      <td>trauma</td>\n",
              "      <td>Montgomery County, MD</td>\n",
              "      <td>in response to trauma Children of Addicts deve...</td>\n",
              "      <td>0</td>\n",
              "    </tr>\n",
              "  </tbody>\n",
              "</table>\n",
              "</div>\n",
              "      <button class=\"colab-df-convert\" onclick=\"convertToInteractive('df-fbb6e16c-0f6b-4f3d-b31b-c5222f5439a3')\"\n",
              "              title=\"Convert this dataframe to an interactive table.\"\n",
              "              style=\"display:none;\">\n",
              "        \n",
              "  <svg xmlns=\"http://www.w3.org/2000/svg\" height=\"24px\"viewBox=\"0 0 24 24\"\n",
              "       width=\"24px\">\n",
              "    <path d=\"M0 0h24v24H0V0z\" fill=\"none\"/>\n",
              "    <path d=\"M18.56 5.44l.94 2.06.94-2.06 2.06-.94-2.06-.94-.94-2.06-.94 2.06-2.06.94zm-11 1L8.5 8.5l.94-2.06 2.06-.94-2.06-.94L8.5 2.5l-.94 2.06-2.06.94zm10 10l.94 2.06.94-2.06 2.06-.94-2.06-.94-.94-2.06-.94 2.06-2.06.94z\"/><path d=\"M17.41 7.96l-1.37-1.37c-.4-.4-.92-.59-1.43-.59-.52 0-1.04.2-1.43.59L10.3 9.45l-7.72 7.72c-.78.78-.78 2.05 0 2.83L4 21.41c.39.39.9.59 1.41.59.51 0 1.02-.2 1.41-.59l7.78-7.78 2.81-2.81c.8-.78.8-2.07 0-2.86zM5.41 20L4 18.59l7.72-7.72 1.47 1.35L5.41 20z\"/>\n",
              "  </svg>\n",
              "      </button>\n",
              "      \n",
              "  <style>\n",
              "    .colab-df-container {\n",
              "      display:flex;\n",
              "      flex-wrap:wrap;\n",
              "      gap: 12px;\n",
              "    }\n",
              "\n",
              "    .colab-df-convert {\n",
              "      background-color: #E8F0FE;\n",
              "      border: none;\n",
              "      border-radius: 50%;\n",
              "      cursor: pointer;\n",
              "      display: none;\n",
              "      fill: #1967D2;\n",
              "      height: 32px;\n",
              "      padding: 0 0 0 0;\n",
              "      width: 32px;\n",
              "    }\n",
              "\n",
              "    .colab-df-convert:hover {\n",
              "      background-color: #E2EBFA;\n",
              "      box-shadow: 0px 1px 2px rgba(60, 64, 67, 0.3), 0px 1px 3px 1px rgba(60, 64, 67, 0.15);\n",
              "      fill: #174EA6;\n",
              "    }\n",
              "\n",
              "    [theme=dark] .colab-df-convert {\n",
              "      background-color: #3B4455;\n",
              "      fill: #D2E3FC;\n",
              "    }\n",
              "\n",
              "    [theme=dark] .colab-df-convert:hover {\n",
              "      background-color: #434B5C;\n",
              "      box-shadow: 0px 1px 3px 1px rgba(0, 0, 0, 0.15);\n",
              "      filter: drop-shadow(0px 1px 2px rgba(0, 0, 0, 0.3));\n",
              "      fill: #FFFFFF;\n",
              "    }\n",
              "  </style>\n",
              "\n",
              "      <script>\n",
              "        const buttonEl =\n",
              "          document.querySelector('#df-fbb6e16c-0f6b-4f3d-b31b-c5222f5439a3 button.colab-df-convert');\n",
              "        buttonEl.style.display =\n",
              "          google.colab.kernel.accessAllowed ? 'block' : 'none';\n",
              "\n",
              "        async function convertToInteractive(key) {\n",
              "          const element = document.querySelector('#df-fbb6e16c-0f6b-4f3d-b31b-c5222f5439a3');\n",
              "          const dataTable =\n",
              "            await google.colab.kernel.invokeFunction('convertToInteractive',\n",
              "                                                     [key], {});\n",
              "          if (!dataTable) return;\n",
              "\n",
              "          const docLinkHtml = 'Like what you see? Visit the ' +\n",
              "            '<a target=\"_blank\" href=https://colab.research.google.com/notebooks/data_table.ipynb>data table notebook</a>'\n",
              "            + ' to learn more about interactive tables.';\n",
              "          element.innerHTML = '';\n",
              "          dataTable['output_type'] = 'display_data';\n",
              "          await google.colab.output.renderOutput(dataTable, element);\n",
              "          const docLink = document.createElement('div');\n",
              "          docLink.innerHTML = docLinkHtml;\n",
              "          element.appendChild(docLink);\n",
              "        }\n",
              "      </script>\n",
              "    </div>\n",
              "  </div>\n",
              "  "
            ]
          },
          "metadata": {},
          "execution_count": 6
        }
      ],
      "source": [
        "# Shuffle training dataframe\n",
        "train_df_shuffled = train_df.sample(frac=1, random_state=42)\n",
        "train_df_shuffled.head()"
      ]
    },
    {
      "cell_type": "markdown",
      "metadata": {
        "id": "3mDzzg-4f3W-"
      },
      "source": [
        "# What does the test dataframe look like?\n",
        "test_df.head()"
      ]
    },
    {
      "cell_type": "code",
      "execution_count": 7,
      "metadata": {
        "id": "ZWua8qxBf3W_",
        "outputId": "ae622c4b-dd8b-4de4-8fff-57a44e05dc3a",
        "colab": {
          "base_uri": "https://localhost:8080/"
        }
      },
      "outputs": [
        {
          "output_type": "execute_result",
          "data": {
            "text/plain": [
              "0    4342\n",
              "1    3271\n",
              "Name: target, dtype: int64"
            ]
          },
          "metadata": {},
          "execution_count": 7
        }
      ],
      "source": [
        "# How many examples of each class?\n",
        "train_df.target.value_counts()"
      ]
    },
    {
      "cell_type": "code",
      "execution_count": 8,
      "metadata": {
        "id": "AmPo28AMf3W_",
        "outputId": "778cf41f-31d3-4f0c-8015-51e1ac768424",
        "colab": {
          "base_uri": "https://localhost:8080/"
        }
      },
      "outputs": [
        {
          "output_type": "execute_result",
          "data": {
            "text/plain": [
              "(7613, 3263)"
            ]
          },
          "metadata": {},
          "execution_count": 8
        }
      ],
      "source": [
        "# How many total samples?\n",
        "len(train_df), len(test_df)"
      ]
    },
    {
      "cell_type": "code",
      "execution_count": 9,
      "metadata": {
        "id": "O1w29IYWf3XA",
        "outputId": "eef23f82-8843-4c07-8951-f4db43e84e47",
        "colab": {
          "base_uri": "https://localhost:8080/"
        }
      },
      "outputs": [
        {
          "output_type": "stream",
          "name": "stdout",
          "text": [
            "Target: 0 (not real disaster)\n",
            "Text: Hellfire Gargoyle Hoof coil http://t.co/2ii3Brc7NX\n",
            "\n",
            "Target: 0 (not real disaster)\n",
            "Text: How to Remove Softenza Hijacker? Softenza Anthelmintic Nature book Drawing out Help SEA\n",
            "\n",
            "Target: 1 (real disaster)\n",
            "Text: @kshllcenterpri1 @Progress4Ohio burning down buildings what you mean like when you burnt down those black churches?\n",
            "\n",
            "Target: 1 (real disaster)\n",
            "Text: @allen_enbot If you mess up it's gonna explode...\n",
            "\n",
            "Target: 0 (not real disaster)\n",
            "Text: @SyringeToAnger åÇ and probably even more. But some disagreements with General Ross and the catastrophic occurrence made something clear. åÈ\n",
            "\n"
          ]
        }
      ],
      "source": [
        "# Let's visualize some random training examples\n",
        "import random\n",
        "random_index = random.randint(0, len(train_df)-5) # Create random indexes not higher than the total number\n",
        "for row in train_df_shuffled[[\"text\", \"target\"]][random_index:random_index+5].itertuples():\n",
        "    _, text, target = row\n",
        "    print(f\"Target: {target}\", \"(real disaster)\" if target > 0 else \"(not real disaster)\")\n",
        "    print(f\"Text: {text}\\n\")"
      ]
    },
    {
      "cell_type": "markdown",
      "metadata": {
        "id": "PGBnFfnOf3XA"
      },
      "source": [
        "### Split data into training and validation sets"
      ]
    },
    {
      "cell_type": "code",
      "execution_count": 10,
      "metadata": {
        "id": "nUjmyQElf3XA"
      },
      "outputs": [],
      "source": [
        "from sklearn.model_selection import train_test_split"
      ]
    },
    {
      "cell_type": "code",
      "execution_count": 11,
      "metadata": {
        "id": "6XBXwg5if3XB"
      },
      "outputs": [],
      "source": [
        "# Use train_test_split to split training data into training and validation sets \n",
        "train_sentences, val_sentences, train_labels, val_labels = train_test_split(\n",
        "    train_df_shuffled[\"text\"].to_numpy(),\n",
        "    train_df_shuffled[\"target\"].to_numpy(),\n",
        "    test_size=0.1,\n",
        "    random_state=42)"
      ]
    },
    {
      "cell_type": "code",
      "execution_count": 12,
      "metadata": {
        "id": "MsPwxxtzf3XB",
        "outputId": "3fdaef1b-1f6b-4943-c055-61f93d733d10",
        "colab": {
          "base_uri": "https://localhost:8080/"
        }
      },
      "outputs": [
        {
          "output_type": "execute_result",
          "data": {
            "text/plain": [
              "(6851, 762, 6851, 762)"
            ]
          },
          "metadata": {},
          "execution_count": 12
        }
      ],
      "source": [
        "len(train_sentences), len(val_sentences), len(train_labels), len(val_labels)"
      ]
    },
    {
      "cell_type": "code",
      "execution_count": 13,
      "metadata": {
        "id": "vQqKdDOLf3XC",
        "outputId": "4b3a282b-f9c1-4213-86bf-deae3f5fde3e",
        "colab": {
          "base_uri": "https://localhost:8080/"
        }
      },
      "outputs": [
        {
          "output_type": "execute_result",
          "data": {
            "text/plain": [
              "(array(['@mogacola @zamtriossu i screamed after hitting tweet',\n",
              "        'Imagine getting flattened by Kurt Zouma',\n",
              "        '@Gurmeetramrahim #MSGDoing111WelfareWorks Green S welfare force ke appx 65000 members har time disaster victim ki help ke liye tyar hai....',\n",
              "        \"@shakjn @C7 @Magnums im shaking in fear he's gonna hack the planet\",\n",
              "        'Somehow find you and I collide http://t.co/Ee8RpOahPk',\n",
              "        '@EvaHanderek @MarleyKnysh great times until the bus driver held us hostage in the mall parking lot lmfao',\n",
              "        'destroy the free fandom honestly',\n",
              "        'Weapons stolen from National Guard Armory in New Albany still missing #Gunsense http://t.co/lKNU8902JE',\n",
              "        '@wfaaweather Pete when will the heat wave pass? Is it really going to be mid month? Frisco Boy Scouts have a canoe trip in Okla.',\n",
              "        'Patient-reported outcomes in long-term survivors of metastatic colorectal cancer - British Journal of Surgery http://t.co/5Yl4DC1Tqt'],\n",
              "       dtype=object), array([0, 0, 1, 0, 0, 1, 1, 0, 1, 1]))"
            ]
          },
          "metadata": {},
          "execution_count": 13
        }
      ],
      "source": [
        "# Check the first 10 samples\n",
        "train_sentences[:10], train_labels[:10]"
      ]
    },
    {
      "cell_type": "markdown",
      "metadata": {
        "id": "TFUoy4_0f3XC"
      },
      "source": [
        "## Cnverting text into numbers\n",
        "\n",
        "When dealing with a text problem, one of the first thing you'll have to do before you can build a model is to convert your text to numbers. \n",
        "\n",
        "There are a few ways to do this, namely:\n",
        "* Tokenization - direct mapping of token (a token could be a word or a character)\n",
        "* Embedding - create a matrix of feature vector for each token (the size of the feature vector can be defined and this embedding can be learned)"
      ]
    },
    {
      "cell_type": "markdown",
      "metadata": {
        "id": "tC0ZLBZhf3XC"
      },
      "source": [
        "### Text vectorization (tokenization)"
      ]
    },
    {
      "cell_type": "code",
      "execution_count": 14,
      "metadata": {
        "id": "hu0VRqFSf3XC",
        "outputId": "e6185258-a077-47a4-a063-10fd952f1864",
        "colab": {
          "base_uri": "https://localhost:8080/"
        }
      },
      "outputs": [
        {
          "output_type": "execute_result",
          "data": {
            "text/plain": [
              "array(['@mogacola @zamtriossu i screamed after hitting tweet',\n",
              "       'Imagine getting flattened by Kurt Zouma',\n",
              "       '@Gurmeetramrahim #MSGDoing111WelfareWorks Green S welfare force ke appx 65000 members har time disaster victim ki help ke liye tyar hai....',\n",
              "       \"@shakjn @C7 @Magnums im shaking in fear he's gonna hack the planet\",\n",
              "       'Somehow find you and I collide http://t.co/Ee8RpOahPk'],\n",
              "      dtype=object)"
            ]
          },
          "metadata": {},
          "execution_count": 14
        }
      ],
      "source": [
        "train_sentences[:5]"
      ]
    },
    {
      "cell_type": "code",
      "execution_count": 15,
      "metadata": {
        "id": "Y2sgUjR0f3XC",
        "outputId": "e172afd9-37f9-4d66-c664-7a619cdff160",
        "colab": {
          "base_uri": "https://localhost:8080/"
        }
      },
      "outputs": [
        {
          "output_type": "execute_result",
          "data": {
            "text/plain": [
              "(['@mogacola', '@zamtriossu', 'i', 'screamed', 'after', 'hitting', 'tweet'], 7)"
            ]
          },
          "metadata": {},
          "execution_count": 15
        }
      ],
      "source": [
        "train_sentences[0].split(), len(train_sentences[0].split())"
      ]
    },
    {
      "cell_type": "code",
      "execution_count": 16,
      "metadata": {
        "id": "H5ucN44Bf3XC",
        "outputId": "133a81f0-c923-4334-a467-1ff5d320b17e",
        "colab": {
          "base_uri": "https://localhost:8080/"
        }
      },
      "outputs": [
        {
          "output_type": "execute_result",
          "data": {
            "text/plain": [
              "15"
            ]
          },
          "metadata": {},
          "execution_count": 16
        }
      ],
      "source": [
        "# Find the average number of tokes (words) in the training tweets\n",
        "max_length = round(sum([len(i.split()) for i in train_sentences])/len(train_sentences))\n",
        "max_length"
      ]
    },
    {
      "cell_type": "code",
      "execution_count": 17,
      "metadata": {
        "id": "ebOMztnlf3XD"
      },
      "outputs": [],
      "source": [
        "max_vocab_length = 10000"
      ]
    },
    {
      "cell_type": "code",
      "execution_count": 18,
      "metadata": {
        "id": "cKcrB3L1f3XD"
      },
      "outputs": [],
      "source": [
        "import tensorflow as tf\n",
        "from tensorflow.keras.layers.experimental.preprocessing import TextVectorization\n",
        "\n",
        "# Use the default TextVectorization parameters\n",
        "text_vectorizer = TextVectorization(\n",
        "    max_tokens=max_vocab_length,\n",
        "    standardize=\"lower_and_strip_punctuation\", # Default\n",
        "    split=\"whitespace\", # Default\n",
        "    ngrams=None, # Default\n",
        "    output_mode=\"int\",\n",
        "    output_sequence_length=max_length,\n",
        "    pad_to_max_tokens=True) # Default"
      ]
    },
    {
      "cell_type": "code",
      "execution_count": 19,
      "metadata": {
        "id": "Liqor8naf3XD"
      },
      "outputs": [],
      "source": [
        "# Fit the text vectorizer to the training text\n",
        "text_vectorizer.adapt(train_sentences)"
      ]
    },
    {
      "cell_type": "code",
      "execution_count": 20,
      "metadata": {
        "id": "ICEgA-vxf3XD",
        "outputId": "117eeaf1-2930-405b-c483-65253830a193",
        "colab": {
          "base_uri": "https://localhost:8080/"
        }
      },
      "outputs": [
        {
          "output_type": "execute_result",
          "data": {
            "text/plain": [
              "<tf.Tensor: shape=(1, 15), dtype=int64, numpy=\n",
              "array([[264,   3, 232,   4,  13, 698,   0,   0,   0,   0,   0,   0,   0,\n",
              "          0,   0]])>"
            ]
          },
          "metadata": {},
          "execution_count": 20
        }
      ],
      "source": [
        "# Create a sample sentence and tokenize it\n",
        "sample_sentence = \"There's a flood in my street\"\n",
        "text_vectorizer([sample_sentence])"
      ]
    },
    {
      "cell_type": "code",
      "execution_count": 21,
      "metadata": {
        "id": "jzvhanVJf3XE",
        "outputId": "d6d68562-528d-434b-a6ba-7d1999263189",
        "colab": {
          "base_uri": "https://localhost:8080/"
        }
      },
      "outputs": [
        {
          "output_type": "stream",
          "name": "stdout",
          "text": [
            "Original text:\n",
            "RIZZO IS ON ???????? THAT BALL WAS OBLITERATED\n",
            "    Vectorized version:\n"
          ]
        },
        {
          "output_type": "execute_result",
          "data": {
            "text/plain": [
              "<tf.Tensor: shape=(1, 15), dtype=int64, numpy=\n",
              "array([[9050,    9,   11,   16,  794,   23,  479,    0,    0,    0,    0,\n",
              "           0,    0,    0,    0]])>"
            ]
          },
          "metadata": {},
          "execution_count": 21
        }
      ],
      "source": [
        "# Choose a random sentence from the training dataset and tokenize it\n",
        "random_sentence = random.choice(train_sentences)\n",
        "print(f\"Original text:\\n{random_sentence}\\n\\\n",
        "    Vectorized version:\")\n",
        "text_vectorizer([random_sentence])"
      ]
    },
    {
      "cell_type": "code",
      "execution_count": 22,
      "metadata": {
        "id": "6FCIdaDZf3XE",
        "outputId": "db9914fc-4008-4cdf-ee45-f94dd284da27",
        "colab": {
          "base_uri": "https://localhost:8080/"
        }
      },
      "outputs": [
        {
          "output_type": "execute_result",
          "data": {
            "text/plain": [
              "(10000,\n",
              " ['', '[UNK]', 'the', 'a', 'in'],\n",
              " ['pages', 'paeds', 'pads', 'padres', 'paddytomlinson1'])"
            ]
          },
          "metadata": {},
          "execution_count": 22
        }
      ],
      "source": [
        "# Get the unique words in the vocabulary\n",
        "words_in_vocab = text_vectorizer.get_vocabulary()\n",
        "top_5_words = words_in_vocab[:5]\n",
        "bottom_5_words = words_in_vocab[-5:]\n",
        "len(words_in_vocab), top_5_words, bottom_5_words"
      ]
    },
    {
      "cell_type": "markdown",
      "metadata": {
        "id": "ruxt25lZf3XE"
      },
      "source": [
        "### Creating an Embedding using an EmbeddingLayer\n",
        "\n",
        "To make our embedding, we're going to use TensorFlow's EmbeddingLayer: https://www.tensorflow.org/api_docs/python/tf/keras/layers/Embedding\n",
        "\n",
        "The parameters we care most about for our embedding layer: \n",
        "* `input_dim` = the size of our vocabulary\n",
        "* `output_dim` = the size of the output embedding vector, for example, a value of 100 would mean each tolen gets represented by a vector 100 long\n",
        "* `input_length` = length of the sequences being passed to the embedding layer "
      ]
    },
    {
      "cell_type": "code",
      "execution_count": 23,
      "metadata": {
        "id": "8qyUU3inf3XF",
        "outputId": "b263da72-538e-4be2-a1b0-efa0119cf660",
        "colab": {
          "base_uri": "https://localhost:8080/"
        }
      },
      "outputs": [
        {
          "output_type": "execute_result",
          "data": {
            "text/plain": [
              "<keras.layers.embeddings.Embedding at 0x7faa18645f50>"
            ]
          },
          "metadata": {},
          "execution_count": 23
        }
      ],
      "source": [
        "from tensorflow.keras import layers\n",
        "\n",
        "embedding = layers.Embedding(\n",
        "    input_dim=max_vocab_length,\n",
        "    output_dim=128,\n",
        "    input_length=max_length)\n",
        "embedding"
      ]
    },
    {
      "cell_type": "code",
      "execution_count": 24,
      "metadata": {
        "id": "YnuPab2Vf3XF",
        "outputId": "fa6d30f0-07aa-4789-c94c-d6597074b5ae",
        "colab": {
          "base_uri": "https://localhost:8080/"
        }
      },
      "outputs": [
        {
          "output_type": "stream",
          "name": "stdout",
          "text": [
            "Original text:\n",
            "@irishspy What you don't think the Allies should have just sucked up 1 million casualties?    \n",
            "Embedded version: \n"
          ]
        },
        {
          "output_type": "execute_result",
          "data": {
            "text/plain": [
              "<tf.Tensor: shape=(1, 15, 128), dtype=float32, numpy=\n",
              "array([[[ 0.02821639,  0.03549012, -0.01653309, ..., -0.02767314,\n",
              "          0.04216841,  0.048932  ],\n",
              "        [ 0.01072634,  0.01038395, -0.00640333, ...,  0.03259135,\n",
              "          0.04326041,  0.02254256],\n",
              "        [-0.0122682 , -0.02531258, -0.04872841, ..., -0.00050968,\n",
              "          0.01460761, -0.00812443],\n",
              "        ...,\n",
              "        [-0.01046418, -0.01455903,  0.00395559, ...,  0.01141246,\n",
              "          0.01771853,  0.00313895],\n",
              "        [-0.02508798, -0.02565968, -0.01372151, ..., -0.03877603,\n",
              "          0.01630415,  0.0157624 ],\n",
              "        [ 0.02277188, -0.0413499 ,  0.01537471, ...,  0.03735765,\n",
              "          0.02158003, -0.01394981]]], dtype=float32)>"
            ]
          },
          "metadata": {},
          "execution_count": 24
        }
      ],
      "source": [
        "# Get a random sentence from the training set\n",
        "random_sentence = random.choice(train_sentences)\n",
        "print(f\"Original text:\\n{random_sentence}\\\n",
        "    \\nEmbedded version: \")\n",
        "\n",
        "# Embed the random sentence (turn it into dense vectors of fixed size)\n",
        "sample_embed = embedding(text_vectorizer([random_sentence]))\n",
        "sample_embed"
      ]
    },
    {
      "cell_type": "code",
      "execution_count": 25,
      "metadata": {
        "id": "hFqtrMUGf3XF",
        "outputId": "85acdcd3-8c9a-4782-b85d-d4ccde3672f1",
        "colab": {
          "base_uri": "https://localhost:8080/"
        }
      },
      "outputs": [
        {
          "output_type": "execute_result",
          "data": {
            "text/plain": [
              "(<tf.Tensor: shape=(128,), dtype=float32, numpy=\n",
              " array([ 0.02821639,  0.03549012, -0.01653309,  0.01022058, -0.04193173,\n",
              "        -0.0299664 , -0.0414739 , -0.0192251 ,  0.04420042, -0.01536779,\n",
              "        -0.02390618, -0.02033992, -0.02228875, -0.00326651, -0.04117803,\n",
              "        -0.04252487,  0.00971458, -0.04255943, -0.02618828,  0.0404727 ,\n",
              "         0.0134099 , -0.02643483, -0.01569133, -0.00978485,  0.02578293,\n",
              "         0.04930139,  0.04264076,  0.02412713,  0.03518231,  0.01631718,\n",
              "         0.01715987,  0.03676644,  0.01459153, -0.01761202,  0.03904219,\n",
              "         0.02017404,  0.04181472,  0.04720889, -0.00951487,  0.02392037,\n",
              "         0.03796034, -0.04983382, -0.03287655, -0.03659102, -0.03656794,\n",
              "         0.02766443,  0.04254172, -0.02609669,  0.00275045,  0.00850339,\n",
              "        -0.02647592,  0.01978982, -0.03380235, -0.00658264, -0.02872367,\n",
              "         0.0483906 , -0.04554341, -0.047067  ,  0.03946615,  0.03372704,\n",
              "         0.0059454 , -0.04230705, -0.00388144, -0.03809527,  0.03994081,\n",
              "        -0.02256781,  0.04815045,  0.02956165,  0.04794297, -0.01318797,\n",
              "         0.02641309, -0.02528702, -0.04283428, -0.00929338, -0.01422162,\n",
              "        -0.03592098, -0.00841581,  0.02056066,  0.04859401,  0.02081757,\n",
              "        -0.01621158, -0.02423801,  0.00096556,  0.00182673, -0.01157377,\n",
              "        -0.04860233,  0.02622037, -0.04616901, -0.02037077,  0.04471412,\n",
              "        -0.01143098, -0.0223507 , -0.03202657, -0.04009998, -0.03221165,\n",
              "        -0.00979926,  0.00496962, -0.04622889,  0.02088547, -0.03880781,\n",
              "        -0.01285167,  0.04012134,  0.0257305 ,  0.02142986, -0.00036448,\n",
              "        -0.04695653,  0.03892796, -0.03596098,  0.02459024, -0.04185399,\n",
              "        -0.04575736, -0.00700665,  0.00920912,  0.01036312, -0.04189171,\n",
              "         0.0470848 , -0.00773108,  0.0314783 ,  0.03434971, -0.00705873,\n",
              "         0.03155155, -0.01875815, -0.03246733,  0.01195899,  0.0097509 ,\n",
              "        -0.02767314,  0.04216841,  0.048932  ], dtype=float32)>,\n",
              " TensorShape([128]),\n",
              " \"@irishspy What you don't think the Allies should have just sucked up 1 million casualties?\")"
            ]
          },
          "metadata": {},
          "execution_count": 25
        }
      ],
      "source": [
        "# Check out a single token's embedding\n",
        "sample_embed[0][0], sample_embed[0][0].shape, random_sentence"
      ]
    },
    {
      "cell_type": "markdown",
      "metadata": {
        "id": "9dNTZM8Lf3XG"
      },
      "source": [
        "## Modelling a text dataset (running a series of experiments)\n",
        "\n",
        "Now we've got a way to turn our text sequences into numbers, it's time  to start building a series of modelling experiments.\n",
        "\n",
        "We'll start with a baseline and move on from there.\n",
        "\n",
        "* Model 0: Naive Bayes (baseline), from sklearn ML map: \n",
        "* Model 1: Feed-forward neural network (dense model)\n",
        "* Model 2: LSTM (RNN)\n",
        "* Model 3: GRU (RNN) \n",
        "* Model 4: Bidirectional-LSTM model (RNN)\n",
        "* Model 5: 1D Convolutional Network (CNN)\n",
        "* Model 6: TensorFlow Hub Pretrained Feature Extractor (using transfer learning for NLP)\n",
        "* Model 7: Same as model 6 with 10% of training data\n",
        "\n",
        "How are we going to approach all of these?\n",
        "\n",
        "Use the standard steps in modelling with tensorflow:\n",
        "* Create a model\n",
        "* Build the model\n",
        "* Fit the model\n",
        "* Evaluate the model"
      ]
    },
    {
      "cell_type": "markdown",
      "metadata": {
        "id": "JClCxTU4f3XG"
      },
      "source": [
        "### Model 0: Getting a baseline\n",
        "\n",
        "As with all machine learning modelling experiments it's important to create a baseline model so you've got a benchmark for future experiments to build uopn.\n",
        "\n",
        "To create our baseline, we'll use Sklearn's Mulinomial Naive Bayes using the TF-IDF formula to convert our words to numbers.\n",
        "\n",
        "> 🔑 **Note:** It's common to use non DL-algorithms as a baseline because of their speed and then later using DL to see if you can improve upon them."
      ]
    },
    {
      "cell_type": "code",
      "execution_count": 26,
      "metadata": {
        "id": "zlxtmT1gf3XG",
        "outputId": "939e4cab-05c1-4fe2-a41d-c2dffdf6e7ed",
        "colab": {
          "base_uri": "https://localhost:8080/"
        }
      },
      "outputs": [
        {
          "output_type": "execute_result",
          "data": {
            "text/plain": [
              "Pipeline(steps=[('tfidf', TfidfVectorizer()), ('clf', MultinomialNB())])"
            ]
          },
          "metadata": {},
          "execution_count": 26
        }
      ],
      "source": [
        "from sklearn.feature_extraction.text import TfidfVectorizer\n",
        "from sklearn.naive_bayes import MultinomialNB\n",
        "from sklearn.pipeline import Pipeline\n",
        "\n",
        "# Create tokenization and modelling pipeline\n",
        "model_0 = Pipeline([ # Pipeline is similar to tensorflow's sequential\n",
        "    (\"tfidf\", TfidfVectorizer()), # name of the step is \"tfidf\"; convert words to numbers using tfidf\n",
        "    (\"clf\", MultinomialNB()), # model the text\n",
        "])\n",
        "\n",
        "# Fit the pipeline to the training data\n",
        "model_0.fit(train_sentences, train_labels)"
      ]
    },
    {
      "cell_type": "code",
      "execution_count": 27,
      "metadata": {
        "id": "VTTdv21df3XG",
        "outputId": "a576dd90-6e83-4b75-f878-0f9dd330604d",
        "colab": {
          "base_uri": "https://localhost:8080/"
        }
      },
      "outputs": [
        {
          "output_type": "stream",
          "name": "stdout",
          "text": [
            "Our baseline model achieves an accuracy of: 79.27%\n"
          ]
        }
      ],
      "source": [
        "# Evaluate our baseline model\n",
        "baseline_score = model_0.score(val_sentences, val_labels)\n",
        "print(f\"Our baseline model achieves an accuracy of: {baseline_score*100:.2f}%\")"
      ]
    },
    {
      "cell_type": "code",
      "execution_count": 28,
      "metadata": {
        "id": "HQpgHGmxf3XG",
        "outputId": "3e292a1f-0512-47ca-9db1-1b5f17df66d0",
        "colab": {
          "base_uri": "https://localhost:8080/"
        }
      },
      "outputs": [
        {
          "output_type": "execute_result",
          "data": {
            "text/plain": [
              "array([1, 1, 1, 0, 0, 1, 1, 1, 1, 0, 0, 1, 0, 0, 0, 0, 0, 0, 0, 1])"
            ]
          },
          "metadata": {},
          "execution_count": 28
        }
      ],
      "source": [
        "# Make predictions\n",
        "baseline_preds = model_0.predict(val_sentences)\n",
        "baseline_preds[:20]"
      ]
    },
    {
      "cell_type": "code",
      "execution_count": 29,
      "metadata": {
        "id": "4OBKXhAXf3XH",
        "outputId": "f18a78ff-fcef-4cbc-b64c-03588340929c",
        "colab": {
          "base_uri": "https://localhost:8080/"
        }
      },
      "outputs": [
        {
          "output_type": "execute_result",
          "data": {
            "text/plain": [
              "array([0, 0, 1, ..., 1, 1, 0])"
            ]
          },
          "metadata": {},
          "execution_count": 29
        }
      ],
      "source": [
        "train_labels"
      ]
    },
    {
      "cell_type": "markdown",
      "metadata": {
        "id": "lnWa24NJf3XH"
      },
      "source": [
        "### Creating an evaluation function for our model experiments\n",
        "\n",
        "We could evaluate all of our model's predictions with different metrics every time, however this will be cumbersome and could easily be fixed with a function.\n",
        "\n",
        "Let's create one to compare our model's predictions with the truth labels using the following metrics:\n",
        "* Accuracy\n",
        "* Precision\n",
        "* Recall\n",
        "* F1-score\n",
        "\n",
        "For a deep overview of many different methods, see the Sklearn documentation."
      ]
    },
    {
      "cell_type": "code",
      "execution_count": 30,
      "metadata": {
        "id": "Vmi4F0h_f3XH"
      },
      "outputs": [],
      "source": [
        "# Function to evaluate accuracy, precision, reall and f1-score\n",
        "from sklearn.metrics import accuracy_score, precision_recall_fscore_support\n",
        "\n",
        "def calculate_results(y_true, y_pred):\n",
        "    \"\"\"\n",
        "    Calculates model accuracy, precision, recall and f1 score of a binare classification model.\n",
        "    \"\"\"\n",
        "    # Calculate model accuracy\n",
        "    model_accuracy = accuracy_score(y_true, y_pred) * 100\n",
        "    # Calculate model precision, recall and f1-score using \"weighted\" average\n",
        "    model_precision, model_recall, model_f1, _, = precision_recall_fscore_support(y_true, y_pred, average=\"weighted\")\n",
        "    model_results = {\n",
        "        \"accuracy\": model_accuracy, \n",
        "        \"precision\": model_precision,\n",
        "        \"recall\": model_recall, \n",
        "        \"f1-score\": model_f1}\n",
        "    return model_results"
      ]
    },
    {
      "cell_type": "code",
      "execution_count": 31,
      "metadata": {
        "id": "OaMyd01Vf3XI",
        "outputId": "0a4dd26c-88b5-4c07-c33b-73e089479129",
        "colab": {
          "base_uri": "https://localhost:8080/"
        }
      },
      "outputs": [
        {
          "output_type": "execute_result",
          "data": {
            "text/plain": [
              "{'accuracy': 79.26509186351706,\n",
              " 'f1-score': 0.7862189758049549,\n",
              " 'precision': 0.8111390004213173,\n",
              " 'recall': 0.7926509186351706}"
            ]
          },
          "metadata": {},
          "execution_count": 31
        }
      ],
      "source": [
        "# Get baseline results\n",
        "baseline_results = calculate_results(\n",
        "    y_true=val_labels,\n",
        "    y_pred=baseline_preds)\n",
        "baseline_results"
      ]
    },
    {
      "cell_type": "markdown",
      "metadata": {
        "id": "Z74NF3u2f3XI"
      },
      "source": [
        "### Model 1: A simple dense model"
      ]
    },
    {
      "cell_type": "code",
      "execution_count": 32,
      "metadata": {
        "id": "Ln4xHbHjf3XI"
      },
      "outputs": [],
      "source": [
        "# Create a tensorboard callback (Need to create a new one for each model)\n",
        "from helper_functions import create_tensorboard_callback\n",
        "\n",
        "# Create a directory to save tensorboard logs\n",
        "SAVE_DIR = \"model_logs\""
      ]
    },
    {
      "cell_type": "code",
      "execution_count": 33,
      "metadata": {
        "id": "dqZTI0SGf3XI",
        "outputId": "bdcdb7fb-ee9c-4e90-f8a0-66f1f2e3c217",
        "colab": {
          "base_uri": "https://localhost:8080/"
        }
      },
      "outputs": [
        {
          "output_type": "stream",
          "name": "stdout",
          "text": [
            "Model: \"model_1_dense\"\n",
            "_________________________________________________________________\n",
            " Layer (type)                Output Shape              Param #   \n",
            "=================================================================\n",
            " input_1 (InputLayer)        [(None, 1)]               0         \n",
            "                                                                 \n",
            " text_vectorization (TextVec  (None, 15)               0         \n",
            " torization)                                                     \n",
            "                                                                 \n",
            " embedding (Embedding)       (None, 15, 128)           1280000   \n",
            "                                                                 \n",
            " global_average_pooling1d (G  (None, 128)              0         \n",
            " lobalAveragePooling1D)                                          \n",
            "                                                                 \n",
            " dense (Dense)               (None, 1)                 129       \n",
            "                                                                 \n",
            "=================================================================\n",
            "Total params: 1,280,129\n",
            "Trainable params: 1,280,129\n",
            "Non-trainable params: 0\n",
            "_________________________________________________________________\n"
          ]
        }
      ],
      "source": [
        "# Build model with the Functional API\n",
        "from tensorflow.keras import layers\n",
        "inputs = layers.Input(shape=(1,), dtype=\"string\")\n",
        "x = text_vectorizer(inputs)\n",
        "x = embedding(x)\n",
        "x = layers.GlobalAveragePooling1D()(x) # condense the feature vector for each token to one vector\n",
        "outputs = layers.Dense(1, activation=\"sigmoid\")(x)\n",
        "model_1 = tf.keras.Model(inputs, outputs, name=\"model_1_dense\")\n",
        "model_1.summary()"
      ]
    },
    {
      "cell_type": "code",
      "execution_count": 34,
      "metadata": {
        "id": "f3MygKB8f3XJ"
      },
      "outputs": [],
      "source": [
        "# Compile model\n",
        "model_1.compile(\n",
        "    loss=\"binary_crossentropy\",\n",
        "    optimizer=tf.keras.optimizers.Adam(),\n",
        "    metrics=[\"accuracy\"])"
      ]
    },
    {
      "cell_type": "code",
      "execution_count": 35,
      "metadata": {
        "id": "Z2CiSpdQf3XJ",
        "outputId": "b36c0a6a-b4a4-4cd8-e75d-a08745bb5aab",
        "colab": {
          "base_uri": "https://localhost:8080/"
        }
      },
      "outputs": [
        {
          "output_type": "stream",
          "name": "stdout",
          "text": [
            "Saving TensorBoard log files to: model_logs/model_1_dense/20220713-032621\n",
            "Epoch 1/5\n",
            "215/215 [==============================] - 9s 9ms/step - loss: 0.6110 - accuracy: 0.7041 - val_loss: 0.5371 - val_accuracy: 0.7585\n",
            "Epoch 2/5\n",
            "215/215 [==============================] - 2s 7ms/step - loss: 0.4432 - accuracy: 0.8159 - val_loss: 0.4715 - val_accuracy: 0.7835\n",
            "Epoch 3/5\n",
            "215/215 [==============================] - 2s 7ms/step - loss: 0.3480 - accuracy: 0.8589 - val_loss: 0.4604 - val_accuracy: 0.7887\n",
            "Epoch 4/5\n",
            "215/215 [==============================] - 2s 7ms/step - loss: 0.2853 - accuracy: 0.8905 - val_loss: 0.4709 - val_accuracy: 0.7913\n",
            "Epoch 5/5\n",
            "215/215 [==============================] - 1s 5ms/step - loss: 0.2384 - accuracy: 0.9105 - val_loss: 0.4811 - val_accuracy: 0.7835\n"
          ]
        }
      ],
      "source": [
        "# Fit the model\n",
        "model_1_history = model_1.fit(\n",
        "    x=train_sentences,\n",
        "    y=train_labels,\n",
        "    epochs=5,\n",
        "    validation_data=(val_sentences, val_labels),\n",
        "    callbacks=[create_tensorboard_callback(\n",
        "        dir_name=SAVE_DIR,\n",
        "        experiment_name=\"model_1_dense\"\n",
        "    )]\n",
        ")"
      ]
    },
    {
      "cell_type": "code",
      "execution_count": 36,
      "metadata": {
        "id": "jzRHHgJ2f3XJ",
        "outputId": "451c72c5-9a50-4864-fd76-2344f20827aa",
        "colab": {
          "base_uri": "https://localhost:8080/"
        }
      },
      "outputs": [
        {
          "output_type": "execute_result",
          "data": {
            "text/plain": [
              "({'accuracy': 79.26509186351706,\n",
              "  'f1-score': 0.7862189758049549,\n",
              "  'precision': 0.8111390004213173,\n",
              "  'recall': 0.7926509186351706},)"
            ]
          },
          "metadata": {},
          "execution_count": 36
        }
      ],
      "source": [
        "baseline_results,"
      ]
    },
    {
      "cell_type": "code",
      "execution_count": 37,
      "metadata": {
        "id": "YO5K43Qvf3XJ",
        "outputId": "400a6400-508d-4aeb-f9be-c0f422544597",
        "colab": {
          "base_uri": "https://localhost:8080/"
        }
      },
      "outputs": [
        {
          "output_type": "stream",
          "name": "stdout",
          "text": [
            "24/24 [==============================] - 0s 3ms/step - loss: 0.4811 - accuracy: 0.7835\n"
          ]
        },
        {
          "output_type": "execute_result",
          "data": {
            "text/plain": [
              "[0.481132835149765, 0.7834645509719849]"
            ]
          },
          "metadata": {},
          "execution_count": 37
        }
      ],
      "source": [
        "model_1.evaluate(val_sentences, val_labels)"
      ]
    },
    {
      "cell_type": "code",
      "execution_count": 38,
      "metadata": {
        "id": "5MuvcJdaf3XK",
        "outputId": "829a3346-e445-4bdd-f1ce-65dff3badf42",
        "colab": {
          "base_uri": "https://localhost:8080/"
        }
      },
      "outputs": [
        {
          "output_type": "execute_result",
          "data": {
            "text/plain": [
              "array([[3.51175159e-01],\n",
              "       [7.23558247e-01],\n",
              "       [9.97977674e-01],\n",
              "       [1.06028780e-01],\n",
              "       [1.02776609e-01],\n",
              "       [9.38435137e-01],\n",
              "       [9.17964935e-01],\n",
              "       [9.93569851e-01],\n",
              "       [9.63778555e-01],\n",
              "       [2.74626464e-01],\n",
              "       [1.27085119e-01],\n",
              "       [6.92452550e-01],\n",
              "       [5.10637648e-02],\n",
              "       [2.35894382e-01],\n",
              "       [4.44002310e-03],\n",
              "       [1.27465934e-01],\n",
              "       [3.06201074e-02],\n",
              "       [7.74436593e-02],\n",
              "       [2.15833858e-01],\n",
              "       [4.84978557e-01],\n",
              "       [9.16010499e-01],\n",
              "       [5.07186241e-02],\n",
              "       [3.96783292e-01],\n",
              "       [7.01230913e-02],\n",
              "       [9.58816290e-01],\n",
              "       [9.98736322e-01],\n",
              "       [3.31371501e-02],\n",
              "       [5.60972653e-02],\n",
              "       [2.62592062e-02],\n",
              "       [2.00359538e-01],\n",
              "       [5.40873051e-01],\n",
              "       [2.24518195e-01],\n",
              "       [4.97286707e-01],\n",
              "       [1.68474227e-01],\n",
              "       [4.91570890e-01],\n",
              "       [6.69386089e-02],\n",
              "       [9.93825078e-01],\n",
              "       [1.31869555e-01],\n",
              "       [3.28582153e-02],\n",
              "       [9.98519361e-01],\n",
              "       [1.86400026e-01],\n",
              "       [1.89513434e-02],\n",
              "       [3.60133290e-01],\n",
              "       [6.33903369e-02],\n",
              "       [7.21903861e-01],\n",
              "       [9.80463803e-01],\n",
              "       [3.27811271e-01],\n",
              "       [9.22449291e-01],\n",
              "       [2.24809542e-01],\n",
              "       [5.72727740e-01],\n",
              "       [5.75977154e-02],\n",
              "       [5.47595859e-01],\n",
              "       [4.56826180e-01],\n",
              "       [3.02864853e-02],\n",
              "       [1.61821589e-01],\n",
              "       [3.65438312e-02],\n",
              "       [2.22087473e-01],\n",
              "       [9.53689933e-01],\n",
              "       [7.23958686e-02],\n",
              "       [2.98101851e-03],\n",
              "       [1.35203347e-01],\n",
              "       [9.64949071e-01],\n",
              "       [9.19196069e-01],\n",
              "       [1.44732445e-01],\n",
              "       [9.34599161e-01],\n",
              "       [9.80512977e-01],\n",
              "       [7.46031880e-01],\n",
              "       [4.09686744e-01],\n",
              "       [1.40816912e-01],\n",
              "       [1.41120002e-01],\n",
              "       [8.72180760e-02],\n",
              "       [2.93146279e-02],\n",
              "       [9.43743229e-01],\n",
              "       [1.49999529e-01],\n",
              "       [1.33213133e-01],\n",
              "       [3.75815362e-01],\n",
              "       [3.76771986e-01],\n",
              "       [8.32992673e-01],\n",
              "       [2.34299555e-01],\n",
              "       [5.59845448e-01],\n",
              "       [4.70414162e-01],\n",
              "       [2.51588374e-01],\n",
              "       [9.96800303e-01],\n",
              "       [1.22924328e-01],\n",
              "       [1.71862632e-01],\n",
              "       [9.74356681e-02],\n",
              "       [1.91296320e-02],\n",
              "       [1.03749976e-01],\n",
              "       [6.63461804e-01],\n",
              "       [8.95101249e-01],\n",
              "       [9.91455078e-01],\n",
              "       [9.04151332e-03],\n",
              "       [5.71213961e-01],\n",
              "       [2.99373735e-02],\n",
              "       [9.81727123e-01],\n",
              "       [7.10377038e-01],\n",
              "       [8.71391237e-01],\n",
              "       [9.69483018e-01],\n",
              "       [8.68308246e-01],\n",
              "       [9.52398062e-01],\n",
              "       [9.99367058e-01],\n",
              "       [1.70665994e-01],\n",
              "       [1.57570951e-02],\n",
              "       [9.25760746e-01],\n",
              "       [8.86703312e-01],\n",
              "       [8.85143131e-02],\n",
              "       [8.74349415e-01],\n",
              "       [9.75233078e-01],\n",
              "       [6.76784739e-02],\n",
              "       [3.92425567e-01],\n",
              "       [7.41640627e-01],\n",
              "       [3.63027044e-02],\n",
              "       [2.65342146e-01],\n",
              "       [1.63830549e-01],\n",
              "       [1.39491037e-01],\n",
              "       [4.89067107e-01],\n",
              "       [5.03057241e-01],\n",
              "       [7.33631551e-01],\n",
              "       [7.36368597e-01],\n",
              "       [8.53938907e-02],\n",
              "       [9.99790013e-01],\n",
              "       [9.65336487e-02],\n",
              "       [1.26267523e-01],\n",
              "       [8.29705358e-01],\n",
              "       [4.32059318e-01],\n",
              "       [2.43525073e-01],\n",
              "       [8.37974370e-01],\n",
              "       [1.06164338e-02],\n",
              "       [7.13531524e-02],\n",
              "       [7.66078591e-01],\n",
              "       [9.85739082e-02],\n",
              "       [9.99790013e-01],\n",
              "       [9.99810636e-01],\n",
              "       [9.98736322e-01],\n",
              "       [9.84280586e-01],\n",
              "       [8.35665613e-02],\n",
              "       [9.69351590e-01],\n",
              "       [2.14509353e-01],\n",
              "       [3.43722105e-01],\n",
              "       [8.24594125e-02],\n",
              "       [9.96992826e-01],\n",
              "       [2.93466300e-01],\n",
              "       [2.35894382e-01],\n",
              "       [9.58288372e-01],\n",
              "       [2.33603150e-01],\n",
              "       [6.44920766e-01],\n",
              "       [4.39018644e-02],\n",
              "       [9.17095691e-03],\n",
              "       [2.45025530e-01],\n",
              "       [9.81227040e-01],\n",
              "       [2.45765746e-01],\n",
              "       [6.79252818e-02],\n",
              "       [4.21813488e-01],\n",
              "       [1.60884738e-01],\n",
              "       [2.80502826e-01],\n",
              "       [9.92189944e-01],\n",
              "       [7.63730049e-01],\n",
              "       [4.62411344e-01],\n",
              "       [9.89942074e-01],\n",
              "       [1.58274807e-02],\n",
              "       [9.78790700e-01],\n",
              "       [6.10241629e-02],\n",
              "       [2.74169177e-01],\n",
              "       [9.93139565e-01],\n",
              "       [2.09378853e-01],\n",
              "       [7.04185963e-02],\n",
              "       [9.98657227e-01],\n",
              "       [3.00762892e-01],\n",
              "       [9.83307242e-01],\n",
              "       [2.05672607e-01],\n",
              "       [9.94283259e-01],\n",
              "       [8.59414279e-01],\n",
              "       [8.13090205e-01],\n",
              "       [2.78315824e-02],\n",
              "       [9.98366058e-01],\n",
              "       [7.21200332e-02],\n",
              "       [3.98207158e-01],\n",
              "       [4.93475288e-01],\n",
              "       [7.69295573e-01],\n",
              "       [9.93478298e-01],\n",
              "       [1.63075943e-02],\n",
              "       [8.31933141e-01],\n",
              "       [7.71260142e-01],\n",
              "       [9.69547033e-01],\n",
              "       [9.79237676e-01],\n",
              "       [4.20204639e-01],\n",
              "       [9.11930501e-02],\n",
              "       [9.99584258e-01],\n",
              "       [1.65406149e-02],\n",
              "       [3.80332395e-02],\n",
              "       [1.16028868e-01],\n",
              "       [9.24214721e-01],\n",
              "       [9.89333615e-02],\n",
              "       [2.55846113e-01],\n",
              "       [1.46755446e-02],\n",
              "       [1.08274721e-01],\n",
              "       [4.71797362e-02],\n",
              "       [2.25597009e-01],\n",
              "       [7.62905657e-01],\n",
              "       [6.96891844e-02],\n",
              "       [2.73240507e-01],\n",
              "       [8.67990673e-01],\n",
              "       [9.75659132e-01],\n",
              "       [3.89374495e-01],\n",
              "       [1.11674905e-01],\n",
              "       [9.99827325e-01],\n",
              "       [5.69797277e-01],\n",
              "       [9.38549399e-01],\n",
              "       [7.01254010e-01],\n",
              "       [8.53066325e-01],\n",
              "       [3.15576166e-01],\n",
              "       [9.83377457e-01],\n",
              "       [2.04294175e-02],\n",
              "       [2.44910732e-01],\n",
              "       [6.85395906e-03],\n",
              "       [5.19286981e-03],\n",
              "       [9.57421780e-01],\n",
              "       [8.19590986e-01],\n",
              "       [9.10729349e-01],\n",
              "       [1.49687007e-01],\n",
              "       [8.04637015e-01],\n",
              "       [9.22875330e-02],\n",
              "       [2.79402677e-02],\n",
              "       [1.68371782e-01],\n",
              "       [9.82013166e-01],\n",
              "       [2.15831026e-01],\n",
              "       [5.28095663e-01],\n",
              "       [9.95160162e-01],\n",
              "       [5.61222196e-01],\n",
              "       [6.21861279e-01],\n",
              "       [9.61234644e-02],\n",
              "       [2.31130660e-01],\n",
              "       [8.20107818e-01],\n",
              "       [2.53166467e-01],\n",
              "       [4.99151349e-01],\n",
              "       [1.57814130e-01],\n",
              "       [6.10807121e-01],\n",
              "       [3.54375422e-01],\n",
              "       [1.44592240e-01],\n",
              "       [9.40584838e-02],\n",
              "       [4.31001306e-01],\n",
              "       [2.71770865e-01],\n",
              "       [9.99818861e-01],\n",
              "       [9.88005579e-01],\n",
              "       [6.50485754e-02],\n",
              "       [2.23812908e-02],\n",
              "       [8.80553067e-01],\n",
              "       [9.60545763e-02],\n",
              "       [1.00821398e-01],\n",
              "       [4.35809523e-01],\n",
              "       [4.17608358e-02],\n",
              "       [6.10146582e-01],\n",
              "       [7.95787899e-04],\n",
              "       [5.16180396e-01],\n",
              "       [9.34865415e-01],\n",
              "       [2.30935931e-01],\n",
              "       [9.70736504e-01],\n",
              "       [9.98916268e-01],\n",
              "       [2.79888481e-01],\n",
              "       [1.46664158e-01],\n",
              "       [3.77751291e-01],\n",
              "       [3.82360108e-02],\n",
              "       [5.19527681e-03],\n",
              "       [9.83256459e-01],\n",
              "       [9.73831952e-01],\n",
              "       [7.27999747e-01],\n",
              "       [9.54787374e-01],\n",
              "       [7.14056641e-02],\n",
              "       [1.57123774e-01],\n",
              "       [9.16497502e-03],\n",
              "       [1.52114719e-01],\n",
              "       [4.08317707e-02],\n",
              "       [9.66913283e-01],\n",
              "       [7.66971707e-02],\n",
              "       [1.04156844e-02],\n",
              "       [9.71471608e-01],\n",
              "       [1.56772416e-02],\n",
              "       [9.83975232e-02],\n",
              "       [9.81778145e-01],\n",
              "       [3.09606120e-02],\n",
              "       [9.61884856e-02],\n",
              "       [5.94709860e-03],\n",
              "       [9.75739360e-01],\n",
              "       [6.22768462e-01],\n",
              "       [8.18509877e-01],\n",
              "       [7.16366589e-01],\n",
              "       [5.87126553e-01],\n",
              "       [7.08241686e-02],\n",
              "       [9.37104404e-01],\n",
              "       [3.55581231e-02],\n",
              "       [7.69536197e-01],\n",
              "       [4.30244416e-01],\n",
              "       [3.60955894e-01],\n",
              "       [4.09044683e-01],\n",
              "       [1.84639245e-01],\n",
              "       [7.46677577e-01],\n",
              "       [2.69962341e-01],\n",
              "       [7.05958247e-01],\n",
              "       [1.49442971e-01],\n",
              "       [7.95693338e-01],\n",
              "       [4.57736365e-02],\n",
              "       [8.00386816e-02],\n",
              "       [2.99567074e-01],\n",
              "       [9.82513964e-01],\n",
              "       [1.74912333e-01],\n",
              "       [9.23357010e-02],\n",
              "       [3.40750307e-01],\n",
              "       [1.95229307e-01],\n",
              "       [1.23012051e-01],\n",
              "       [2.92101260e-02],\n",
              "       [3.08534689e-02],\n",
              "       [9.81974781e-01],\n",
              "       [3.27327937e-01],\n",
              "       [2.80098200e-01],\n",
              "       [9.99839902e-01],\n",
              "       [5.54800369e-02],\n",
              "       [5.93548656e-01],\n",
              "       [2.24283099e-01],\n",
              "       [5.37724979e-02],\n",
              "       [1.44822165e-01],\n",
              "       [2.10877344e-01],\n",
              "       [1.00702323e-01],\n",
              "       [9.09702718e-01],\n",
              "       [2.70684063e-01],\n",
              "       [9.86091316e-01],\n",
              "       [7.96820000e-02],\n",
              "       [1.63028743e-02],\n",
              "       [9.95461643e-01],\n",
              "       [2.57865656e-02],\n",
              "       [9.96447444e-01],\n",
              "       [1.67326853e-01],\n",
              "       [3.68703119e-02],\n",
              "       [9.54850733e-01],\n",
              "       [4.76201363e-02],\n",
              "       [3.39473262e-02],\n",
              "       [9.82763529e-01],\n",
              "       [5.51956147e-03],\n",
              "       [2.13343054e-01],\n",
              "       [7.88103521e-01],\n",
              "       [9.32114601e-01],\n",
              "       [4.78400476e-03],\n",
              "       [2.08121657e-01],\n",
              "       [9.83998418e-01],\n",
              "       [9.66598213e-01],\n",
              "       [7.24783480e-01],\n",
              "       [4.33194906e-01],\n",
              "       [5.59044421e-01],\n",
              "       [4.30252463e-01],\n",
              "       [5.51503189e-02],\n",
              "       [9.66789946e-02],\n",
              "       [8.60694870e-02],\n",
              "       [7.33420551e-01],\n",
              "       [3.42936330e-02],\n",
              "       [4.02411789e-01],\n",
              "       [4.16386366e-01],\n",
              "       [1.42562259e-02],\n",
              "       [9.64743555e-01],\n",
              "       [9.98736322e-01],\n",
              "       [9.93952453e-01],\n",
              "       [4.10550199e-02],\n",
              "       [3.48470807e-01],\n",
              "       [1.68292537e-01],\n",
              "       [4.12397444e-01],\n",
              "       [8.11753809e-01],\n",
              "       [1.43710330e-01],\n",
              "       [2.38010623e-02],\n",
              "       [6.25394732e-02],\n",
              "       [5.15890233e-02],\n",
              "       [5.42582810e-01],\n",
              "       [1.01411715e-02],\n",
              "       [2.29486018e-01],\n",
              "       [4.32570986e-02],\n",
              "       [3.77189308e-01],\n",
              "       [3.77581328e-01],\n",
              "       [3.17690581e-01],\n",
              "       [1.72773361e-01],\n",
              "       [5.51309623e-02],\n",
              "       [3.22986096e-01],\n",
              "       [9.30434763e-02],\n",
              "       [9.96297419e-01],\n",
              "       [9.18594003e-01],\n",
              "       [3.41337681e-01],\n",
              "       [5.98688602e-01],\n",
              "       [2.33461652e-02],\n",
              "       [4.68872845e-01],\n",
              "       [9.91208792e-01],\n",
              "       [7.28828311e-01],\n",
              "       [2.24513993e-01],\n",
              "       [9.80187893e-01],\n",
              "       [1.96316347e-01],\n",
              "       [9.48270679e-01],\n",
              "       [3.28092307e-01],\n",
              "       [2.71646697e-02],\n",
              "       [5.64023435e-01],\n",
              "       [4.33494598e-01],\n",
              "       [9.96979356e-01],\n",
              "       [1.13749467e-01],\n",
              "       [4.60891537e-02],\n",
              "       [7.36241043e-02],\n",
              "       [1.43710330e-01],\n",
              "       [9.99097466e-01],\n",
              "       [2.72452515e-02],\n",
              "       [5.88992178e-01],\n",
              "       [9.75384593e-01],\n",
              "       [9.82224941e-02],\n",
              "       [9.99790013e-01],\n",
              "       [3.51327509e-02],\n",
              "       [3.11157942e-01],\n",
              "       [4.61367406e-02],\n",
              "       [7.60687530e-01],\n",
              "       [9.20586824e-01],\n",
              "       [7.91868716e-02],\n",
              "       [1.82343833e-03],\n",
              "       [2.52115607e-01],\n",
              "       [9.91029382e-01],\n",
              "       [8.49917650e-01],\n",
              "       [1.20623305e-01],\n",
              "       [4.87783492e-01],\n",
              "       [7.42518008e-01],\n",
              "       [2.37772111e-02],\n",
              "       [9.93003070e-01],\n",
              "       [4.42993492e-01],\n",
              "       [9.98989880e-01],\n",
              "       [9.21551347e-01],\n",
              "       [1.19730882e-01],\n",
              "       [3.32859546e-01],\n",
              "       [1.40197530e-01],\n",
              "       [9.27832603e-01],\n",
              "       [7.51137555e-01],\n",
              "       [3.53362203e-01],\n",
              "       [3.25318202e-02],\n",
              "       [3.15153152e-01],\n",
              "       [2.86502931e-02],\n",
              "       [7.07411543e-02],\n",
              "       [1.47451848e-01],\n",
              "       [4.00444359e-01],\n",
              "       [5.40280581e-01],\n",
              "       [1.69788361e-01],\n",
              "       [9.99143243e-01],\n",
              "       [9.83562648e-01],\n",
              "       [2.41680160e-01],\n",
              "       [7.23558247e-01],\n",
              "       [2.42176488e-01],\n",
              "       [4.10619378e-02],\n",
              "       [3.00517172e-01],\n",
              "       [7.22530186e-01],\n",
              "       [1.16384588e-01],\n",
              "       [2.05673546e-01],\n",
              "       [2.15458013e-02],\n",
              "       [4.75321144e-01],\n",
              "       [2.16630823e-03],\n",
              "       [9.51555431e-01],\n",
              "       [9.79662478e-01],\n",
              "       [9.93719339e-01],\n",
              "       [9.71957207e-01],\n",
              "       [7.82989204e-01],\n",
              "       [1.52850270e-01],\n",
              "       [6.02867007e-02],\n",
              "       [6.93859339e-01],\n",
              "       [8.92267287e-01],\n",
              "       [9.98397648e-01],\n",
              "       [4.32575168e-03],\n",
              "       [1.64950520e-01],\n",
              "       [1.53355375e-01],\n",
              "       [9.99006689e-01],\n",
              "       [9.99523282e-01],\n",
              "       [2.64979154e-01],\n",
              "       [1.44348025e-01],\n",
              "       [9.96537447e-01],\n",
              "       [4.89050001e-02],\n",
              "       [3.76884162e-01],\n",
              "       [9.86748219e-01],\n",
              "       [1.29041776e-01],\n",
              "       [4.57612351e-02],\n",
              "       [9.44481909e-01],\n",
              "       [3.09420824e-01],\n",
              "       [4.00289446e-01],\n",
              "       [9.74560082e-01],\n",
              "       [1.82818659e-02],\n",
              "       [5.06916270e-02],\n",
              "       [1.10752620e-02],\n",
              "       [1.74069479e-02],\n",
              "       [1.06745005e-01],\n",
              "       [9.71287072e-01],\n",
              "       [2.12370120e-02],\n",
              "       [4.52920675e-01],\n",
              "       [4.50392544e-01],\n",
              "       [5.96847050e-02],\n",
              "       [2.71667451e-01],\n",
              "       [7.10131377e-02],\n",
              "       [3.45235676e-01],\n",
              "       [9.97269928e-01],\n",
              "       [6.22286439e-01],\n",
              "       [1.29826143e-01],\n",
              "       [1.40808523e-01],\n",
              "       [1.49235219e-01],\n",
              "       [6.22927882e-02],\n",
              "       [6.91324472e-01],\n",
              "       [2.25700364e-02],\n",
              "       [9.00721848e-01],\n",
              "       [7.23423898e-01],\n",
              "       [5.65899193e-01],\n",
              "       [6.47837996e-01],\n",
              "       [7.80438840e-01],\n",
              "       [1.01049989e-01],\n",
              "       [2.70785540e-01],\n",
              "       [4.50943708e-01],\n",
              "       [9.12167430e-01],\n",
              "       [2.52429903e-01],\n",
              "       [1.99863851e-01],\n",
              "       [3.89333189e-01],\n",
              "       [1.65765733e-02],\n",
              "       [9.57217738e-02],\n",
              "       [3.51368010e-01],\n",
              "       [7.98390687e-01],\n",
              "       [1.07303388e-01],\n",
              "       [9.90975440e-01],\n",
              "       [9.00990188e-01],\n",
              "       [7.10377038e-01],\n",
              "       [9.83062983e-01],\n",
              "       [1.49995491e-01],\n",
              "       [6.20872751e-02],\n",
              "       [8.88076186e-01],\n",
              "       [1.91851288e-01],\n",
              "       [2.16380805e-02],\n",
              "       [9.66098458e-02],\n",
              "       [1.52733266e-01],\n",
              "       [1.47495046e-03],\n",
              "       [8.66710365e-01],\n",
              "       [7.29421496e-01],\n",
              "       [8.16494823e-01],\n",
              "       [9.46398973e-01],\n",
              "       [8.66728052e-02],\n",
              "       [1.28476560e-01],\n",
              "       [7.25727677e-01],\n",
              "       [1.46005973e-02],\n",
              "       [2.54226804e-01],\n",
              "       [1.41189530e-01],\n",
              "       [6.93162084e-01],\n",
              "       [5.66366851e-01],\n",
              "       [5.36454953e-02],\n",
              "       [6.26354590e-02],\n",
              "       [4.67885554e-01],\n",
              "       [1.21229418e-01],\n",
              "       [1.11779295e-01],\n",
              "       [1.45017356e-01],\n",
              "       [2.16181040e-01],\n",
              "       [9.99094248e-01],\n",
              "       [9.81463969e-01],\n",
              "       [3.49372417e-01],\n",
              "       [8.40405524e-01],\n",
              "       [9.93627906e-01],\n",
              "       [1.18582021e-03],\n",
              "       [9.70747650e-01],\n",
              "       [2.75845438e-01],\n",
              "       [4.60214227e-01],\n",
              "       [2.16418773e-01],\n",
              "       [7.95789436e-02],\n",
              "       [1.33848548e-01],\n",
              "       [3.00732423e-02],\n",
              "       [9.08245370e-02],\n",
              "       [8.08764324e-02],\n",
              "       [7.55898356e-01],\n",
              "       [2.93353260e-01],\n",
              "       [9.93314326e-01],\n",
              "       [3.88824567e-02],\n",
              "       [6.87627435e-01],\n",
              "       [5.51150620e-01],\n",
              "       [1.81425754e-02],\n",
              "       [6.38829842e-02],\n",
              "       [9.65738356e-01],\n",
              "       [7.49458432e-01],\n",
              "       [9.60176706e-01],\n",
              "       [1.57594174e-01],\n",
              "       [1.02778211e-01],\n",
              "       [4.43570942e-01],\n",
              "       [3.00147235e-01],\n",
              "       [2.83697307e-01],\n",
              "       [9.93627906e-01],\n",
              "       [1.15747657e-02],\n",
              "       [4.69747782e-02],\n",
              "       [1.56101093e-01],\n",
              "       [9.97197032e-01],\n",
              "       [2.30939180e-01],\n",
              "       [4.48948145e-02],\n",
              "       [8.25506747e-01],\n",
              "       [6.25589564e-02],\n",
              "       [3.39417532e-02],\n",
              "       [1.41385809e-01],\n",
              "       [2.03425243e-01],\n",
              "       [1.27706483e-01],\n",
              "       [4.15938854e-01],\n",
              "       [3.30333143e-01],\n",
              "       [2.01143399e-01],\n",
              "       [6.77340552e-02],\n",
              "       [3.45894724e-01],\n",
              "       [1.90402791e-02],\n",
              "       [9.41418648e-01],\n",
              "       [8.45674813e-01],\n",
              "       [4.73207504e-01],\n",
              "       [3.55801135e-02],\n",
              "       [2.76068747e-02],\n",
              "       [9.86050904e-01],\n",
              "       [6.25843287e-01],\n",
              "       [9.99531269e-01],\n",
              "       [2.47756407e-01],\n",
              "       [8.71022880e-01],\n",
              "       [9.78120491e-02],\n",
              "       [6.39265120e-01],\n",
              "       [6.87765956e-01],\n",
              "       [2.06276737e-02],\n",
              "       [9.75644708e-01],\n",
              "       [8.96335840e-02],\n",
              "       [5.70925891e-01],\n",
              "       [9.98449206e-01],\n",
              "       [1.78226769e-01],\n",
              "       [3.39546315e-02],\n",
              "       [2.66122937e-01],\n",
              "       [1.17016304e-02],\n",
              "       [4.38439965e-01],\n",
              "       [9.99827325e-01],\n",
              "       [1.92632332e-01],\n",
              "       [9.41433966e-01],\n",
              "       [2.49704152e-01],\n",
              "       [7.83710122e-01],\n",
              "       [2.19399035e-01],\n",
              "       [2.75005162e-01],\n",
              "       [1.84962489e-02],\n",
              "       [6.65523171e-01],\n",
              "       [1.74766108e-02],\n",
              "       [1.67052180e-01],\n",
              "       [9.50206339e-01],\n",
              "       [9.35324550e-01],\n",
              "       [9.95642543e-01],\n",
              "       [7.32305944e-01],\n",
              "       [4.36212271e-02],\n",
              "       [2.75228530e-01],\n",
              "       [1.04615008e-02],\n",
              "       [4.20087934e-01],\n",
              "       [3.10359895e-01],\n",
              "       [8.75361562e-01],\n",
              "       [3.63267735e-02],\n",
              "       [7.51363754e-01],\n",
              "       [8.29356611e-01],\n",
              "       [2.36041442e-01],\n",
              "       [1.94873378e-01],\n",
              "       [1.99863851e-01],\n",
              "       [1.78770021e-01],\n",
              "       [3.66133511e-01],\n",
              "       [6.91161156e-01],\n",
              "       [9.98645008e-01],\n",
              "       [6.72885180e-02],\n",
              "       [7.99354352e-03],\n",
              "       [1.98541917e-02],\n",
              "       [2.21733749e-01],\n",
              "       [2.14250058e-01],\n",
              "       [2.41855383e-02],\n",
              "       [8.51742208e-01],\n",
              "       [1.05588004e-01],\n",
              "       [2.33755693e-01],\n",
              "       [2.87202209e-01],\n",
              "       [2.05633134e-01],\n",
              "       [9.30008590e-01],\n",
              "       [1.58910096e-01],\n",
              "       [4.91645217e-01],\n",
              "       [2.98918277e-01],\n",
              "       [1.32753169e-02],\n",
              "       [9.46949869e-02],\n",
              "       [9.99680996e-01],\n",
              "       [7.91388273e-01],\n",
              "       [4.09531966e-03],\n",
              "       [3.65971535e-01],\n",
              "       [1.57736853e-01],\n",
              "       [7.25581422e-02],\n",
              "       [8.64687920e-01],\n",
              "       [5.41407347e-01],\n",
              "       [5.96358955e-01],\n",
              "       [4.33424920e-01],\n",
              "       [1.83908612e-01],\n",
              "       [6.90790772e-01],\n",
              "       [1.42004356e-01],\n",
              "       [5.34590743e-02],\n",
              "       [9.09731328e-01],\n",
              "       [1.51148915e-01],\n",
              "       [3.47823381e-01],\n",
              "       [9.80657816e-01],\n",
              "       [3.22105974e-01],\n",
              "       [3.78868133e-01],\n",
              "       [1.47495046e-03],\n",
              "       [2.67334342e-01],\n",
              "       [8.23612213e-01],\n",
              "       [9.99790013e-01],\n",
              "       [6.80478454e-01],\n",
              "       [4.64574136e-02],\n",
              "       [9.91996109e-01],\n",
              "       [4.57171470e-01],\n",
              "       [8.55432034e-01],\n",
              "       [4.57171470e-01],\n",
              "       [9.93811727e-01],\n",
              "       [1.29512632e-02],\n",
              "       [4.65465069e-01],\n",
              "       [1.11017868e-01],\n",
              "       [9.75487590e-01],\n",
              "       [2.53459334e-01],\n",
              "       [4.36913043e-01],\n",
              "       [6.22303262e-02],\n",
              "       [3.51690352e-01],\n",
              "       [1.30255967e-01],\n",
              "       [2.13771164e-02],\n",
              "       [2.20874831e-01],\n",
              "       [7.90228248e-02],\n",
              "       [8.47772956e-02],\n",
              "       [8.31769049e-01],\n",
              "       [2.37695985e-02],\n",
              "       [1.07545100e-01],\n",
              "       [3.38823758e-02],\n",
              "       [1.41835958e-02],\n",
              "       [1.16963252e-01],\n",
              "       [6.19319677e-01],\n",
              "       [8.60770121e-02],\n",
              "       [5.90053082e-01],\n",
              "       [1.58248037e-01],\n",
              "       [2.69890279e-01],\n",
              "       [8.69244576e-01],\n",
              "       [1.93314150e-01],\n",
              "       [4.78597358e-02],\n",
              "       [5.92205822e-02],\n",
              "       [6.92920806e-03],\n",
              "       [9.90097761e-01],\n",
              "       [1.41835958e-02],\n",
              "       [3.93505096e-01],\n",
              "       [9.92731750e-01],\n",
              "       [9.93849576e-01],\n",
              "       [9.98066366e-01],\n",
              "       [9.99918699e-01],\n",
              "       [9.99561012e-01],\n",
              "       [2.29697406e-01],\n",
              "       [9.95328948e-02],\n",
              "       [2.20212504e-01],\n",
              "       [4.85167146e-01],\n",
              "       [9.96878982e-01],\n",
              "       [5.52779138e-01],\n",
              "       [2.80465961e-01],\n",
              "       [5.04315913e-01],\n",
              "       [7.19022095e-01],\n",
              "       [3.02020703e-02],\n",
              "       [5.38183609e-03],\n",
              "       [1.03370585e-01],\n",
              "       [3.93989295e-01],\n",
              "       [7.67558021e-03],\n",
              "       [6.32159933e-02],\n",
              "       [4.57537919e-01],\n",
              "       [9.88814056e-01],\n",
              "       [2.50271037e-02],\n",
              "       [9.29109275e-01],\n",
              "       [6.94659829e-01],\n",
              "       [7.64715597e-02],\n",
              "       [3.08546454e-01],\n",
              "       [1.21673666e-01],\n",
              "       [7.26912856e-01],\n",
              "       [4.63416696e-01],\n",
              "       [1.01002604e-02]], dtype=float32)"
            ]
          },
          "metadata": {},
          "execution_count": 38
        }
      ],
      "source": [
        "model_1_pred_probs = model_1.predict(val_sentences)\n",
        "model_1_pred_probs"
      ]
    },
    {
      "cell_type": "code",
      "execution_count": 39,
      "metadata": {
        "id": "bbKCAaDif3XK",
        "outputId": "ee5e78c9-dfcc-4046-b864-3fecdde18700",
        "colab": {
          "base_uri": "https://localhost:8080/"
        }
      },
      "outputs": [
        {
          "output_type": "execute_result",
          "data": {
            "text/plain": [
              "array([0.35117516], dtype=float32)"
            ]
          },
          "metadata": {},
          "execution_count": 39
        }
      ],
      "source": [
        "# Look at a single prediction\n",
        "model_1_pred_probs[0]"
      ]
    },
    {
      "cell_type": "code",
      "execution_count": 40,
      "metadata": {
        "id": "Vxw36AHcf3XK",
        "outputId": "01a6c74c-2b87-4e0e-a056-fd8bcec178d2",
        "colab": {
          "base_uri": "https://localhost:8080/"
        }
      },
      "outputs": [
        {
          "output_type": "execute_result",
          "data": {
            "text/plain": [
              "array([[0.35117516],\n",
              "       [0.72355825],\n",
              "       [0.9979777 ],\n",
              "       [0.10602878],\n",
              "       [0.10277661],\n",
              "       [0.93843514],\n",
              "       [0.91796494],\n",
              "       [0.99356985],\n",
              "       [0.96377856],\n",
              "       [0.27462646]], dtype=float32)"
            ]
          },
          "metadata": {},
          "execution_count": 40
        }
      ],
      "source": [
        "# Look at the first 10\n",
        "model_1_pred_probs[:10]"
      ]
    },
    {
      "cell_type": "code",
      "execution_count": 41,
      "metadata": {
        "id": "irce0alkf3XK",
        "outputId": "6b90ee2e-15b3-46a4-aa6e-67a49d14938d",
        "colab": {
          "base_uri": "https://localhost:8080/"
        }
      },
      "outputs": [
        {
          "output_type": "execute_result",
          "data": {
            "text/plain": [
              "<tf.Tensor: shape=(10,), dtype=float32, numpy=array([0., 1., 1., 0., 0., 1., 1., 1., 1., 0.], dtype=float32)>"
            ]
          },
          "metadata": {},
          "execution_count": 41
        }
      ],
      "source": [
        "# Convert model prediction probabilities to label format\n",
        "model_1_preds = tf.squeeze(tf.round(model_1_pred_probs))\n",
        "model_1_preds[:10]"
      ]
    },
    {
      "cell_type": "code",
      "execution_count": 42,
      "metadata": {
        "id": "5TpWRPayf3XL",
        "outputId": "d412f8c1-18fc-46ea-dd6c-8d60f2ef9e1e",
        "colab": {
          "base_uri": "https://localhost:8080/"
        }
      },
      "outputs": [
        {
          "output_type": "execute_result",
          "data": {
            "text/plain": [
              "{'accuracy': 78.34645669291339,\n",
              " 'f1-score': 0.7803444000779524,\n",
              " 'precision': 0.7884290282979772,\n",
              " 'recall': 0.7834645669291339}"
            ]
          },
          "metadata": {},
          "execution_count": 42
        }
      ],
      "source": [
        "# Calculate our model_1 results\n",
        "model_1_results = calculate_results(\n",
        "    y_true=val_labels,\n",
        "    y_pred=model_1_preds)\n",
        "model_1_results"
      ]
    },
    {
      "cell_type": "code",
      "execution_count": 43,
      "metadata": {
        "id": "H8oWlxT0f3XL",
        "outputId": "881bf203-0251-48de-989c-22e543a53200",
        "colab": {
          "base_uri": "https://localhost:8080/"
        }
      },
      "outputs": [
        {
          "output_type": "execute_result",
          "data": {
            "text/plain": [
              "{'accuracy': 79.26509186351706,\n",
              " 'f1-score': 0.7862189758049549,\n",
              " 'precision': 0.8111390004213173,\n",
              " 'recall': 0.7926509186351706}"
            ]
          },
          "metadata": {},
          "execution_count": 43
        }
      ],
      "source": [
        "baseline_results"
      ]
    },
    {
      "cell_type": "code",
      "execution_count": 44,
      "metadata": {
        "id": "V8hZGbfpf3XL",
        "outputId": "48bcca57-59cc-45aa-ced2-1c2d35d48362",
        "colab": {
          "base_uri": "https://localhost:8080/"
        }
      },
      "outputs": [
        {
          "output_type": "execute_result",
          "data": {
            "text/plain": [
              "array([False, False, False, False])"
            ]
          },
          "metadata": {},
          "execution_count": 44
        }
      ],
      "source": [
        "import numpy as np\n",
        "np.array(list(model_1_results.values())) > np.array(list(baseline_results.values()))"
      ]
    },
    {
      "cell_type": "markdown",
      "metadata": {
        "id": "uyjI40l4f3XM"
      },
      "source": [
        "## Visualizing learned embeddings\n"
      ]
    },
    {
      "cell_type": "code",
      "execution_count": 45,
      "metadata": {
        "id": "pbw-8Mmwf3XM",
        "outputId": "2d484c76-9d05-4db8-cf10-ebce9e270890",
        "colab": {
          "base_uri": "https://localhost:8080/"
        }
      },
      "outputs": [
        {
          "output_type": "execute_result",
          "data": {
            "text/plain": [
              "(10000, ['', '[UNK]', 'the', 'a', 'in', 'to', 'of', 'and', 'i', 'is'])"
            ]
          },
          "metadata": {},
          "execution_count": 45
        }
      ],
      "source": [
        "# Get the vocabulary from the text vectorization layer\n",
        "words_in_vocab = text_vectorizer.get_vocabulary()\n",
        "len(words_in_vocab), words_in_vocab[:10]"
      ]
    },
    {
      "cell_type": "code",
      "execution_count": 46,
      "metadata": {
        "id": "PTo9vFNDf3XM",
        "outputId": "653aba3d-bbfc-404f-a19c-a3e24aa2b2e4",
        "colab": {
          "base_uri": "https://localhost:8080/"
        }
      },
      "outputs": [
        {
          "output_type": "stream",
          "name": "stdout",
          "text": [
            "Model: \"model_1_dense\"\n",
            "_________________________________________________________________\n",
            " Layer (type)                Output Shape              Param #   \n",
            "=================================================================\n",
            " input_1 (InputLayer)        [(None, 1)]               0         \n",
            "                                                                 \n",
            " text_vectorization (TextVec  (None, 15)               0         \n",
            " torization)                                                     \n",
            "                                                                 \n",
            " embedding (Embedding)       (None, 15, 128)           1280000   \n",
            "                                                                 \n",
            " global_average_pooling1d (G  (None, 128)              0         \n",
            " lobalAveragePooling1D)                                          \n",
            "                                                                 \n",
            " dense (Dense)               (None, 1)                 129       \n",
            "                                                                 \n",
            "=================================================================\n",
            "Total params: 1,280,129\n",
            "Trainable params: 1,280,129\n",
            "Non-trainable params: 0\n",
            "_________________________________________________________________\n"
          ]
        }
      ],
      "source": [
        "# Model 1 summary\n",
        "model_1.summary()"
      ]
    },
    {
      "cell_type": "code",
      "execution_count": 47,
      "metadata": {
        "id": "TZ13Hqpcf3XM",
        "outputId": "ab482de4-e345-4594-9e28-42dfb76258db",
        "colab": {
          "base_uri": "https://localhost:8080/"
        }
      },
      "outputs": [
        {
          "output_type": "stream",
          "name": "stdout",
          "text": [
            "[[ 0.0494918   0.03955046 -0.01185712 ...  0.00630372 -0.02836292\n",
            "  -0.0385404 ]\n",
            " [ 0.03879025  0.04425808 -0.02646294 ... -0.03618518  0.03115151\n",
            "   0.05371031]\n",
            " [ 0.00489905 -0.02295103 -0.02894539 ... -0.01116778 -0.00586181\n",
            "   0.04568343]\n",
            " ...\n",
            " [ 0.01032839  0.02544396  0.03455083 ...  0.01312691 -0.03200091\n",
            "   0.00075997]\n",
            " [ 0.06939369  0.07772086 -0.0168009  ... -0.0361635   0.00172345\n",
            "   0.02522496]\n",
            " [ 0.03447783  0.05425862 -0.10055333 ... -0.07728896 -0.08750653\n",
            "   0.04387467]]\n",
            "(10000, 128)\n"
          ]
        }
      ],
      "source": [
        "# Get the weight matrix of embedding layer\n",
        "# (these are the numerical representations of each token in our training data, which have been learned for 5 epochs)\n",
        "embed_weights = model_1.get_layer(\"embedding\").get_weights()[0]\n",
        "print(embed_weights)\n",
        "print(embed_weights.shape) # same size as vocab size and embedding_dim (output_dim of our embedding layer)"
      ]
    },
    {
      "cell_type": "markdown",
      "metadata": {
        "id": "1AqrEbcjf3XM"
      },
      "source": [
        "Now we've got the embedding matrix our model has learned to represent our tokens, let's see how we can visualize it.\n",
        "\n",
        "To do so, TensorFlow has a handy tool called projector: http://projector.tensorflow.org/\n",
        "\n",
        "And TensorFlow also has an incredible guide on word embeddings themselves: https://www.tensorflow.org/text/guide/word_embeddings"
      ]
    },
    {
      "cell_type": "code",
      "execution_count": 48,
      "metadata": {
        "id": "DKEg__-hf3XN"
      },
      "outputs": [],
      "source": [
        "# Create embedding files (we got this from TensorFlow's word embeddings documentation)\n",
        "import io\n",
        "\n",
        "out_v = io.open('vectors.tsv', 'w', encoding='utf-8')\n",
        "out_m = io.open('metadata.tsv', 'w', encoding='utf-8')\n",
        "\n",
        "for index, word in enumerate(words_in_vocab):\n",
        "  if index == 0:\n",
        "    continue  # skip 0, it's padding.\n",
        "  vec = embed_weights[index]\n",
        "  out_v.write('\\t'.join([str(x) for x in vec]) + \"\\n\")\n",
        "  out_m.write(word + \"\\n\")\n",
        "out_v.close()\n",
        "out_m.close()\n"
      ]
    },
    {
      "cell_type": "markdown",
      "metadata": {
        "id": "vBJiowXbf3XN"
      },
      "source": [
        "Downloading the files above we can visualize them using http://projector.tensorflow.org/ and clicking the \"load\" button on  the left hand side.\n",
        "\n",
        "> 📖 **Ressource:** If you'd like to know more about embeddings, I'd encourage you to check out:\n",
        "* Jay Alammar's visualized word2vec post: https://jalammar.github.io/illustrated-word2vec/\n",
        "* TensorFlow's Word Embeddings guide: https://www.tensorflow.org/tutorials/text/word_embeddings"
      ]
    },
    {
      "cell_type": "markdown",
      "metadata": {
        "id": "azyAL14hf3XN"
      },
      "source": [
        "## Recurrent Neural Networks (RNNs)\n",
        "\n",
        "RNN's are useful for sequence data.\n",
        "\n",
        "The premise of a recurrent neural network is to use the representation of a previous input to aid the representation of a later input.\n",
        "\n",
        "> 📖 **Ressources:** If you want an overview of the internals of a recurrent neural network, see the following:\n",
        " - MIT's sequence modell lecture: https://youtu.be/qjrad0V0uJE\n",
        " - Chris Olag's intro to LSTMs: https://colah.github.io/posts/2015-08-Understanding-LSTMs/\n",
        " - Andrej Kaparthy's the unreasonable effectiveness of recurrent neural networks: http://karpathy.github.io/2015/05/21/rnn-effectiveness/"
      ]
    },
    {
      "cell_type": "markdown",
      "metadata": {
        "id": "aEZomZW8f3XN"
      },
      "source": [
        "### Model 2: LSTM\n",
        "LSTM  = long short term memory (one of the most popular LSTM cells)\n",
        "\n",
        "Our structure of an RNN typically looks like this:\n",
        "```Input(text) -> Tokenize -> Embedding -> Layers (RNNs/dense) -> Output (label probability)```"
      ]
    },
    {
      "cell_type": "code",
      "execution_count": 49,
      "metadata": {
        "id": "0xbto23jf3XO"
      },
      "outputs": [],
      "source": [
        "# Create an LSTM model\n",
        "from tensorflow.keras import layers\n",
        "inputs = layers.Input(shape=(1, ), dtype=\"string\")\n",
        "x = text_vectorizer(inputs)\n",
        "x = embedding(x)\n",
        "#x = layers.LSTM(64, return_sequences=True)(x)\n",
        "x = layers.LSTM(64)(x)\n",
        "x = layers.Dense(64, activation=\"relu\")(x)\n",
        "outputs = layers.Dense(1, activation=\"sigmoid\")(x)\n",
        "model_2 = tf.keras.Model(inputs, outputs, name=\"model_2_LSTM\")"
      ]
    },
    {
      "cell_type": "code",
      "execution_count": 50,
      "metadata": {
        "id": "t3YpWaPvf3XO",
        "outputId": "6cdd4f8f-06e1-48a4-d916-ef7e8e109c47",
        "colab": {
          "base_uri": "https://localhost:8080/"
        }
      },
      "outputs": [
        {
          "output_type": "stream",
          "name": "stdout",
          "text": [
            "Model: \"model_2_LSTM\"\n",
            "_________________________________________________________________\n",
            " Layer (type)                Output Shape              Param #   \n",
            "=================================================================\n",
            " input_2 (InputLayer)        [(None, 1)]               0         \n",
            "                                                                 \n",
            " text_vectorization (TextVec  (None, 15)               0         \n",
            " torization)                                                     \n",
            "                                                                 \n",
            " embedding (Embedding)       (None, 15, 128)           1280000   \n",
            "                                                                 \n",
            " lstm (LSTM)                 (None, 64)                49408     \n",
            "                                                                 \n",
            " dense_1 (Dense)             (None, 64)                4160      \n",
            "                                                                 \n",
            " dense_2 (Dense)             (None, 1)                 65        \n",
            "                                                                 \n",
            "=================================================================\n",
            "Total params: 1,333,633\n",
            "Trainable params: 1,333,633\n",
            "Non-trainable params: 0\n",
            "_________________________________________________________________\n"
          ]
        }
      ],
      "source": [
        "model_2.summary()"
      ]
    },
    {
      "cell_type": "code",
      "execution_count": 51,
      "metadata": {
        "id": "rkw9PKEnf3XO"
      },
      "outputs": [],
      "source": [
        "# Compile the nmodel\n",
        "model_2.compile(\n",
        "    loss=\"binary_crossentropy\",\n",
        "    optimizer=tf.keras.optimizers.Adam(),\n",
        "    metrics=[\"accuracy\"]\n",
        ")"
      ]
    },
    {
      "cell_type": "code",
      "execution_count": 52,
      "metadata": {
        "id": "c_jpJqXbf3XO",
        "outputId": "3eaea3ac-c087-4b1a-e5a6-e9a998b9148a",
        "colab": {
          "base_uri": "https://localhost:8080/"
        }
      },
      "outputs": [
        {
          "output_type": "stream",
          "name": "stdout",
          "text": [
            "Saving TensorBoard log files to: model_logs/model_2_LSTM/20220713-032638\n",
            "Epoch 1/5\n",
            "215/215 [==============================] - 6s 8ms/step - loss: 0.2255 - accuracy: 0.9190 - val_loss: 0.5121 - val_accuracy: 0.7808\n",
            "Epoch 2/5\n",
            "215/215 [==============================] - 1s 7ms/step - loss: 0.1577 - accuracy: 0.9421 - val_loss: 0.7399 - val_accuracy: 0.7848\n",
            "Epoch 3/5\n",
            "215/215 [==============================] - 1s 6ms/step - loss: 0.1273 - accuracy: 0.9512 - val_loss: 0.7092 - val_accuracy: 0.7861\n",
            "Epoch 4/5\n",
            "215/215 [==============================] - 1s 6ms/step - loss: 0.1043 - accuracy: 0.9603 - val_loss: 0.8612 - val_accuracy: 0.7730\n",
            "Epoch 5/5\n",
            "215/215 [==============================] - 1s 7ms/step - loss: 0.0865 - accuracy: 0.9654 - val_loss: 0.9267 - val_accuracy: 0.7730\n"
          ]
        }
      ],
      "source": [
        "# Fit\n",
        "histor_model_2 = model_2.fit(\n",
        "    train_sentences,\n",
        "    train_labels,\n",
        "    epochs=5,\n",
        "    validation_data=(val_sentences, val_labels),\n",
        "    callbacks=[create_tensorboard_callback(\n",
        "        SAVE_DIR,\n",
        "        \"model_2_LSTM\")])"
      ]
    },
    {
      "cell_type": "code",
      "execution_count": 53,
      "metadata": {
        "id": "eR1kHqNhf3XO",
        "outputId": "b923888e-f13c-4d4a-c2eb-51ee42e74c32",
        "colab": {
          "base_uri": "https://localhost:8080/"
        }
      },
      "outputs": [
        {
          "output_type": "execute_result",
          "data": {
            "text/plain": [
              "array([[1.9507078e-02],\n",
              "       [9.6340257e-01],\n",
              "       [9.9993551e-01],\n",
              "       [5.4255709e-02],\n",
              "       [2.8841718e-04],\n",
              "       [9.9898654e-01],\n",
              "       [7.0392561e-01],\n",
              "       [9.9997783e-01],\n",
              "       [9.9992311e-01],\n",
              "       [7.1071404e-01]], dtype=float32)"
            ]
          },
          "metadata": {},
          "execution_count": 53
        }
      ],
      "source": [
        "# Make predictions with LSTM model\n",
        "model_2_pred_probs = model_2.predict(val_sentences)\n",
        "model_2_pred_probs[:10]"
      ]
    },
    {
      "cell_type": "code",
      "execution_count": 54,
      "metadata": {
        "id": "MDlBHG9if3XP",
        "outputId": "a891546e-0b78-46a2-a5f2-129ab57d51c3",
        "colab": {
          "base_uri": "https://localhost:8080/"
        }
      },
      "outputs": [
        {
          "output_type": "execute_result",
          "data": {
            "text/plain": [
              "<tf.Tensor: shape=(10,), dtype=float32, numpy=array([0., 1., 1., 0., 0., 1., 1., 1., 1., 1.], dtype=float32)>"
            ]
          },
          "metadata": {},
          "execution_count": 54
        }
      ],
      "source": [
        "# Convert model 2 pred probs to labels\n",
        "model_2_preds = tf.squeeze(tf.round(model_2_pred_probs))\n",
        "model_2_preds[:10]"
      ]
    },
    {
      "cell_type": "code",
      "execution_count": 55,
      "metadata": {
        "id": "f92IQln0f3XP",
        "outputId": "e59b0693-2680-4da3-aa22-ba1277a77085",
        "colab": {
          "base_uri": "https://localhost:8080/"
        }
      },
      "outputs": [
        {
          "output_type": "execute_result",
          "data": {
            "text/plain": [
              "array([0, 0, 1, 1, 1, 1, 1, 1, 1, 0])"
            ]
          },
          "metadata": {},
          "execution_count": 55
        }
      ],
      "source": [
        "val_labels[:10]"
      ]
    },
    {
      "cell_type": "code",
      "execution_count": 56,
      "metadata": {
        "id": "bUtd9djAf3XP",
        "outputId": "821e46ec-bcbd-4ee6-cf99-393cca19b2dd",
        "colab": {
          "base_uri": "https://localhost:8080/"
        }
      },
      "outputs": [
        {
          "output_type": "execute_result",
          "data": {
            "text/plain": [
              "{'accuracy': 77.29658792650919,\n",
              " 'f1-score': 0.7713337273803944,\n",
              " 'precision': 0.7738445106757977,\n",
              " 'recall': 0.7729658792650919}"
            ]
          },
          "metadata": {},
          "execution_count": 56
        }
      ],
      "source": [
        "# Calculate model 2 results\n",
        "model_2_results = calculate_results(\n",
        "    y_true=val_labels,\n",
        "    y_pred=model_2_preds)\n",
        "model_2_results"
      ]
    },
    {
      "cell_type": "code",
      "execution_count": 57,
      "metadata": {
        "id": "VLolP1JNf3XP",
        "outputId": "86b19ae5-077f-409a-93fd-a2414271780e",
        "colab": {
          "base_uri": "https://localhost:8080/"
        }
      },
      "outputs": [
        {
          "output_type": "execute_result",
          "data": {
            "text/plain": [
              "{'accuracy': 79.26509186351706,\n",
              " 'f1-score': 0.7862189758049549,\n",
              " 'precision': 0.8111390004213173,\n",
              " 'recall': 0.7926509186351706}"
            ]
          },
          "metadata": {},
          "execution_count": 57
        }
      ],
      "source": [
        "baseline_results"
      ]
    },
    {
      "cell_type": "markdown",
      "metadata": {
        "id": "VuXDjHObf3XP"
      },
      "source": [
        "### Model 3: GRU\n",
        "\n",
        "Another popular and effective component is the GRU or gated recurrent unit.\n",
        "\n",
        "The GRU cell has similar features to an LSTM cell but has less parameters.\n",
        "\n",
        "> 📖 **Ressource:** \n",
        " - https://towardsdatascience.com/understanding-gru-networks-2ef37df6c9be\n",
        " - https://en.wikipedia.org/wiki/Gated_recurrent_unit"
      ]
    },
    {
      "cell_type": "code",
      "execution_count": 58,
      "metadata": {
        "id": "_1BVIobpf3XQ"
      },
      "outputs": [],
      "source": [
        "# Build an RNN using the GRU cell\n",
        "from tensorflow.keras import layers\n",
        "inputs = layers.Input(shape=(1,), dtype=\"string\")\n",
        "x = text_vectorizer(inputs)\n",
        "x = embedding(x)\n",
        "# x = layers.GRU(64, return_sequences=True)(x) # if you wand to stack recurrent layers --> return_sequences = True\n",
        "# x = layers.LSTM(64, return_sequences=True)(x)\n",
        "x = layers.GRU(64)(x)\n",
        "x = layers.Dense(64, activation=\"relu\")(x)\n",
        "outputs = layers.Dense(1, activation=\"sigmoid\")(x)\n",
        "model_3 = tf.keras.Model(inputs, outputs, name=\"model_3_GRU\")"
      ]
    },
    {
      "cell_type": "code",
      "execution_count": 59,
      "metadata": {
        "id": "imS7u_hOf3XQ",
        "outputId": "56e8326a-0dab-4e2d-8f0e-707346afd758",
        "colab": {
          "base_uri": "https://localhost:8080/"
        }
      },
      "outputs": [
        {
          "output_type": "stream",
          "name": "stdout",
          "text": [
            "Model: \"model_3_GRU\"\n",
            "_________________________________________________________________\n",
            " Layer (type)                Output Shape              Param #   \n",
            "=================================================================\n",
            " input_3 (InputLayer)        [(None, 1)]               0         \n",
            "                                                                 \n",
            " text_vectorization (TextVec  (None, 15)               0         \n",
            " torization)                                                     \n",
            "                                                                 \n",
            " embedding (Embedding)       (None, 15, 128)           1280000   \n",
            "                                                                 \n",
            " gru (GRU)                   (None, 64)                37248     \n",
            "                                                                 \n",
            " dense_3 (Dense)             (None, 64)                4160      \n",
            "                                                                 \n",
            " dense_4 (Dense)             (None, 1)                 65        \n",
            "                                                                 \n",
            "=================================================================\n",
            "Total params: 1,321,473\n",
            "Trainable params: 1,321,473\n",
            "Non-trainable params: 0\n",
            "_________________________________________________________________\n"
          ]
        }
      ],
      "source": [
        "model_3.summary()"
      ]
    },
    {
      "cell_type": "code",
      "execution_count": 60,
      "metadata": {
        "id": "7vKItguAf3XQ"
      },
      "outputs": [],
      "source": [
        "# Compile the model\n",
        "model_3.compile(\n",
        "    loss=\"binary_crossentropy\",\n",
        "    optimizer=tf.keras.optimizers.Adam(),\n",
        "    metrics=[\"accuracy\"])"
      ]
    },
    {
      "cell_type": "code",
      "execution_count": 61,
      "metadata": {
        "id": "wHRX_dNHf3XQ",
        "outputId": "71486a51-6fa6-4e45-80d7-fbc79ccc21b1",
        "colab": {
          "base_uri": "https://localhost:8080/"
        }
      },
      "outputs": [
        {
          "output_type": "stream",
          "name": "stdout",
          "text": [
            "Saving TensorBoard log files to: model_logs/model_3_GRU/20220713-032651\n",
            "Epoch 1/5\n",
            "215/215 [==============================] - 3s 8ms/step - loss: 0.1527 - accuracy: 0.9419 - val_loss: 0.6865 - val_accuracy: 0.7822\n",
            "Epoch 2/5\n",
            "215/215 [==============================] - 1s 6ms/step - loss: 0.0817 - accuracy: 0.9693 - val_loss: 0.8745 - val_accuracy: 0.7756\n",
            "Epoch 3/5\n",
            "215/215 [==============================] - 1s 6ms/step - loss: 0.0688 - accuracy: 0.9714 - val_loss: 0.9328 - val_accuracy: 0.7808\n",
            "Epoch 4/5\n",
            "215/215 [==============================] - 1s 6ms/step - loss: 0.0578 - accuracy: 0.9746 - val_loss: 1.2265 - val_accuracy: 0.7756\n",
            "Epoch 5/5\n",
            "215/215 [==============================] - 1s 6ms/step - loss: 0.0543 - accuracy: 0.9769 - val_loss: 1.2568 - val_accuracy: 0.7756\n"
          ]
        }
      ],
      "source": [
        "# Fit \n",
        "model_3_history = model_3.fit(\n",
        "    train_sentences,\n",
        "    train_labels,\n",
        "    epochs=5,\n",
        "    validation_data=(val_sentences, val_labels),\n",
        "    callbacks=[create_tensorboard_callback(\n",
        "        SAVE_DIR,\n",
        "        \"model_3_GRU\")])"
      ]
    },
    {
      "cell_type": "code",
      "execution_count": 62,
      "metadata": {
        "id": "VWJmXzS5f3XR",
        "outputId": "2b195e52-b306-4dfd-90ae-085c081526bf",
        "colab": {
          "base_uri": "https://localhost:8080/"
        }
      },
      "outputs": [
        {
          "output_type": "execute_result",
          "data": {
            "text/plain": [
              "array([[1.0969154e-02],\n",
              "       [8.8771164e-01],\n",
              "       [9.9998772e-01],\n",
              "       [9.3184993e-02],\n",
              "       [1.6467067e-05],\n",
              "       [9.9957877e-01],\n",
              "       [2.1765120e-01],\n",
              "       [9.9999404e-01],\n",
              "       [9.9998534e-01],\n",
              "       [5.7561767e-01]], dtype=float32)"
            ]
          },
          "metadata": {},
          "execution_count": 62
        }
      ],
      "source": [
        "# Make predictions\n",
        "model_3_pred_probs = model_3.predict(val_sentences)\n",
        "model_3_pred_probs[:10]"
      ]
    },
    {
      "cell_type": "code",
      "execution_count": 63,
      "metadata": {
        "id": "iTeS3qY7f3XR",
        "outputId": "161b4475-0829-4f42-bfdc-1b81cddcdf24",
        "colab": {
          "base_uri": "https://localhost:8080/"
        }
      },
      "outputs": [
        {
          "output_type": "execute_result",
          "data": {
            "text/plain": [
              "<tf.Tensor: shape=(10,), dtype=float32, numpy=array([0., 1., 1., 0., 0., 1., 0., 1., 1., 1.], dtype=float32)>"
            ]
          },
          "metadata": {},
          "execution_count": 63
        }
      ],
      "source": [
        "# Convert pred_probs to labels\n",
        "model_3_preds = tf.squeeze(tf.round(model_3_pred_probs))\n",
        "model_3_preds[:10]"
      ]
    },
    {
      "cell_type": "code",
      "execution_count": 64,
      "metadata": {
        "id": "3YMiye8if3XR",
        "outputId": "e12726e5-3f13-439f-cb79-b3136fa533ef",
        "colab": {
          "base_uri": "https://localhost:8080/"
        }
      },
      "outputs": [
        {
          "output_type": "execute_result",
          "data": {
            "text/plain": [
              "{'accuracy': 77.55905511811024,\n",
              " 'f1-score': 0.7728084240126466,\n",
              " 'precision': 0.7790436087799748,\n",
              " 'recall': 0.7755905511811023}"
            ]
          },
          "metadata": {},
          "execution_count": 64
        }
      ],
      "source": [
        "# Calculate model 3 results\n",
        "model_3_results = calculate_results(\n",
        "    y_true=val_labels,\n",
        "    y_pred=model_3_preds)\n",
        "model_3_results"
      ]
    },
    {
      "cell_type": "markdown",
      "metadata": {
        "id": "bU5YmhNff3XR"
      },
      "source": [
        "### Model 4: Bidirectional RNN\n",
        "\n",
        "Normal RNN's go from left to right (just like you'd read an English sentence), however a bidirectional RNN goes from right to left as well as left to right."
      ]
    },
    {
      "cell_type": "markdown",
      "metadata": {
        "id": "lZseeA1Hf3XS"
      },
      "source": [
        "> 📖 **Ressources:** \n",
        " - https://easy-tensorflow.com/tf-tutorials/recurrent-neural-networks/bidirectional-rnn-for-classification"
      ]
    },
    {
      "cell_type": "code",
      "execution_count": 65,
      "metadata": {
        "id": "YM_L2r54f3XS"
      },
      "outputs": [],
      "source": [
        "# Build a bidirectional RNN (BRNN)\n",
        "from tensorflow.keras import layers\n",
        "inputs = layers.Input(shape=(1,), dtype=\"string\")\n",
        "x = text_vectorizer(inputs)\n",
        "x = embedding(x)\n",
        "# x = layers.Bidirectional(layers.LSTM(64, return_sequences=True))(x)\n",
        "x = layers.Bidirectional(layers.LSTM(64))(x)\n",
        "outputs = layers.Dense(1, activation=\"sigmoid\")(x)\n",
        "model_4 = tf.keras.Model(inputs, outputs, name=\"model_4_BRNN\")"
      ]
    },
    {
      "cell_type": "code",
      "execution_count": 66,
      "metadata": {
        "id": "VVsiVpaEf3XS",
        "outputId": "4a51061d-40da-4d0e-f5f8-b52c071ffbb5",
        "colab": {
          "base_uri": "https://localhost:8080/"
        }
      },
      "outputs": [
        {
          "output_type": "stream",
          "name": "stdout",
          "text": [
            "Model: \"model_4_BRNN\"\n",
            "_________________________________________________________________\n",
            " Layer (type)                Output Shape              Param #   \n",
            "=================================================================\n",
            " input_4 (InputLayer)        [(None, 1)]               0         \n",
            "                                                                 \n",
            " text_vectorization (TextVec  (None, 15)               0         \n",
            " torization)                                                     \n",
            "                                                                 \n",
            " embedding (Embedding)       (None, 15, 128)           1280000   \n",
            "                                                                 \n",
            " bidirectional (Bidirectiona  (None, 128)              98816     \n",
            " l)                                                              \n",
            "                                                                 \n",
            " dense_5 (Dense)             (None, 1)                 129       \n",
            "                                                                 \n",
            "=================================================================\n",
            "Total params: 1,378,945\n",
            "Trainable params: 1,378,945\n",
            "Non-trainable params: 0\n",
            "_________________________________________________________________\n"
          ]
        }
      ],
      "source": [
        "model_4.summary()"
      ]
    },
    {
      "cell_type": "code",
      "execution_count": 67,
      "metadata": {
        "id": "rjVY3UX2f3XS",
        "outputId": "943a1090-7ac8-4155-9c95-7216d0a1d74c",
        "colab": {
          "base_uri": "https://localhost:8080/"
        }
      },
      "outputs": [
        {
          "output_type": "stream",
          "name": "stdout",
          "text": [
            "Saving TensorBoard log files to: model_logs/model_4_BRNN/20220713-032701\n",
            "Epoch 1/5\n",
            "215/215 [==============================] - 5s 11ms/step - loss: 0.1104 - accuracy: 0.9628 - val_loss: 1.0359 - val_accuracy: 0.7743\n",
            "Epoch 2/5\n",
            "215/215 [==============================] - 2s 8ms/step - loss: 0.0562 - accuracy: 0.9753 - val_loss: 1.1375 - val_accuracy: 0.7730\n",
            "Epoch 3/5\n",
            "215/215 [==============================] - 2s 8ms/step - loss: 0.0468 - accuracy: 0.9790 - val_loss: 1.3620 - val_accuracy: 0.7782\n",
            "Epoch 4/5\n",
            "215/215 [==============================] - 2s 8ms/step - loss: 0.0424 - accuracy: 0.9803 - val_loss: 1.2953 - val_accuracy: 0.7717\n",
            "Epoch 5/5\n",
            "215/215 [==============================] - 2s 8ms/step - loss: 0.0403 - accuracy: 0.9815 - val_loss: 1.4346 - val_accuracy: 0.7703\n"
          ]
        },
        {
          "output_type": "execute_result",
          "data": {
            "text/plain": [
              "<keras.callbacks.History at 0x7faa123deb50>"
            ]
          },
          "metadata": {},
          "execution_count": 67
        }
      ],
      "source": [
        "model_4.compile(\n",
        "    loss=\"binary_crossentropy\",\n",
        "    optimizer=tf.keras.optimizers.Adam(),\n",
        "    metrics=[\"accuracy\"]\n",
        ")\n",
        "\n",
        "model_4.fit(\n",
        "    train_sentences,\n",
        "    train_labels,\n",
        "    epochs=5,\n",
        "    validation_data=(val_sentences, val_labels),\n",
        "    callbacks=[create_tensorboard_callback(\n",
        "        SAVE_DIR,\n",
        "        \"model_4_BRNN\")])"
      ]
    },
    {
      "cell_type": "code",
      "execution_count": 68,
      "metadata": {
        "id": "Ikqh-fqBf3XT",
        "outputId": "d89ca9d8-71f2-4223-b979-2b005e24724a",
        "colab": {
          "base_uri": "https://localhost:8080/"
        }
      },
      "outputs": [
        {
          "output_type": "execute_result",
          "data": {
            "text/plain": [
              "array([[2.4696171e-01],\n",
              "       [7.0384479e-01],\n",
              "       [9.9998021e-01],\n",
              "       [2.7497831e-01],\n",
              "       [1.8857319e-05],\n",
              "       [9.9993038e-01],\n",
              "       [5.0691706e-01],\n",
              "       [9.9999177e-01],\n",
              "       [9.9998200e-01],\n",
              "       [9.9786657e-01]], dtype=float32)"
            ]
          },
          "metadata": {},
          "execution_count": 68
        }
      ],
      "source": [
        "model_4_pred_probs = model_4.predict(val_sentences)\n",
        "model_4_pred_probs[:10]"
      ]
    },
    {
      "cell_type": "code",
      "execution_count": 69,
      "metadata": {
        "id": "WyPF8b2If3XT",
        "outputId": "d5e4e3c6-8c75-4cff-af83-869bc5483edb",
        "colab": {
          "base_uri": "https://localhost:8080/"
        }
      },
      "outputs": [
        {
          "output_type": "execute_result",
          "data": {
            "text/plain": [
              "<tf.Tensor: shape=(10,), dtype=float32, numpy=array([0., 1., 1., 0., 0., 1., 1., 1., 1., 1.], dtype=float32)>"
            ]
          },
          "metadata": {},
          "execution_count": 69
        }
      ],
      "source": [
        "model_4_preds = tf.squeeze(tf.round(model_4_pred_probs))\n",
        "model_4_preds[:10]"
      ]
    },
    {
      "cell_type": "code",
      "execution_count": 70,
      "metadata": {
        "id": "Un1PJKMJf3XT",
        "outputId": "6e0e0d09-5e97-4c24-d3e7-3712449c3577",
        "colab": {
          "base_uri": "https://localhost:8080/"
        }
      },
      "outputs": [
        {
          "output_type": "execute_result",
          "data": {
            "text/plain": [
              "{'accuracy': 77.03412073490814,\n",
              " 'f1-score': 0.7676409049388613,\n",
              " 'precision': 0.7732589791209112,\n",
              " 'recall': 0.7703412073490814}"
            ]
          },
          "metadata": {},
          "execution_count": 70
        }
      ],
      "source": [
        "model_4_results = calculate_results(\n",
        "    y_true=val_labels,\n",
        "    y_pred=model_4_preds\n",
        ")\n",
        "model_4_results"
      ]
    },
    {
      "cell_type": "markdown",
      "metadata": {
        "id": "bZSRfGhDf3XT"
      },
      "source": [
        "## Convolutional Neural Networks for Text (and other types of sequences)\n",
        "\n",
        "We've used CNNs for images but images are typically 2D (height x width)... however our textdata is 1D.\n",
        "\n",
        "Previously we've used Conv2D for our image data but now we're going to use Conv1D.\n",
        "\n",
        "The typical structure of a Conv1D model for sequences (in our case, text):\n",
        "```\n",
        "Inputs (text) -> Tokenization -> Embedding -> Layer(s) (typically Conv1D + pooling) -> Outputs (class probabilities)\n",
        "```"
      ]
    },
    {
      "cell_type": "markdown",
      "metadata": {
        "id": "ui9RDLjUf3XT"
      },
      "source": [
        "### Model 5: Conv1D\n",
        "\n",
        "For different explanations of parameters see:\n",
        "* https://poloclub.github.io/cnn-explainer/ (this is for 2D but can relate to 1D data)\n",
        "* Difference between same and valid padding: https://stackoverflow.com/questions/37674306/what-is-the-difference-between-same-and-valid-padding-in-tf-nn-max-pool-of-t\n"
      ]
    },
    {
      "cell_type": "code",
      "execution_count": 71,
      "metadata": {
        "id": "_WkabAtxf3XT",
        "outputId": "ae3eb24b-2e09-4efc-fd42-e7582833dc4c",
        "colab": {
          "base_uri": "https://localhost:8080/"
        }
      },
      "outputs": [
        {
          "output_type": "execute_result",
          "data": {
            "text/plain": [
              "(TensorShape([1, 15, 128]), TensorShape([1, 15, 32]), TensorShape([1, 32]))"
            ]
          },
          "metadata": {},
          "execution_count": 71
        }
      ],
      "source": [
        "# Test out our embedding layer, Conv1D layer and max pooling\n",
        "from tensorflow.keras import layers\n",
        "embedding_test = embedding(text_vectorizer([\"This a test sentence\"])) # turn target sequence into an embedding\n",
        "conv_1d = layers.Conv1D(\n",
        "    filters=32,\n",
        "    kernel_size=5,\n",
        "    activation=\"relu\",\n",
        "    padding=\"same\"\n",
        ")\n",
        "conv_1d_output = conv_1d(embedding_test) #6 pass test embedding through our Conv1D layer\n",
        "max_pool = layers.GlobalMaxPooling1D()\n",
        "max_pool_output = max_pool(conv_1d_output) # equivalent to \"get the most important feature\" or \"get the feature with the highest value\"\n",
        "\n",
        "embedding_test.shape, conv_1d_output.shape, max_pool_output.shape"
      ]
    },
    {
      "cell_type": "code",
      "execution_count": 72,
      "metadata": {
        "id": "cjlG-mdof3XU",
        "outputId": "f669dc50-ec64-4bc0-ee15-d01ea3222633",
        "colab": {
          "base_uri": "https://localhost:8080/"
        }
      },
      "outputs": [
        {
          "output_type": "execute_result",
          "data": {
            "text/plain": [
              "<tf.Tensor: shape=(1, 15, 128), dtype=float32, numpy=\n",
              "array([[[ 0.01009225, -0.00375035,  0.00765278, ..., -0.08550102,\n",
              "          0.01556611,  0.0690764 ],\n",
              "        [-0.04971413, -0.01148343, -0.02876227, ..., -0.046198  ,\n",
              "          0.07555234,  0.01950186],\n",
              "        [-0.00823732,  0.10649691, -0.03650954, ..., -0.06603688,\n",
              "          0.00544376,  0.08574019],\n",
              "        ...,\n",
              "        [ 0.02701372,  0.0217684 , -0.00140731, ..., -0.00330624,\n",
              "         -0.01353441, -0.0159332 ],\n",
              "        [ 0.02701372,  0.0217684 , -0.00140731, ..., -0.00330624,\n",
              "         -0.01353441, -0.0159332 ],\n",
              "        [ 0.02701372,  0.0217684 , -0.00140731, ..., -0.00330624,\n",
              "         -0.01353441, -0.0159332 ]]], dtype=float32)>"
            ]
          },
          "metadata": {},
          "execution_count": 72
        }
      ],
      "source": [
        "embedding_test"
      ]
    },
    {
      "cell_type": "code",
      "execution_count": 73,
      "metadata": {
        "id": "UDGzG3B3f3XU",
        "outputId": "7a8dd552-9e0a-45e8-b52b-259d30daff4f",
        "colab": {
          "base_uri": "https://localhost:8080/"
        }
      },
      "outputs": [
        {
          "output_type": "execute_result",
          "data": {
            "text/plain": [
              "<tf.Tensor: shape=(1, 15, 32), dtype=float32, numpy=\n",
              "array([[[0.08726441, 0.06561091, 0.04232077, 0.        , 0.01878583,\n",
              "         0.01744202, 0.00833535, 0.        , 0.03221142, 0.00851585,\n",
              "         0.        , 0.03486191, 0.01807501, 0.05273913, 0.01517462,\n",
              "         0.03803726, 0.03834271, 0.00864776, 0.01577233, 0.        ,\n",
              "         0.        , 0.03679428, 0.02037758, 0.0381728 , 0.        ,\n",
              "         0.        , 0.        , 0.00435206, 0.03469135, 0.        ,\n",
              "         0.01054505, 0.02176541],\n",
              "        [0.        , 0.        , 0.0581397 , 0.        , 0.        ,\n",
              "         0.        , 0.        , 0.        , 0.        , 0.0360857 ,\n",
              "         0.        , 0.08328104, 0.        , 0.00665728, 0.        ,\n",
              "         0.03390377, 0.02877353, 0.        , 0.        , 0.        ,\n",
              "         0.        , 0.03289517, 0.00037206, 0.        , 0.        ,\n",
              "         0.03092508, 0.        , 0.05373322, 0.        , 0.        ,\n",
              "         0.        , 0.        ],\n",
              "        [0.05701692, 0.09581308, 0.06790788, 0.        , 0.05775791,\n",
              "         0.00335876, 0.03660747, 0.        , 0.00613208, 0.09174182,\n",
              "         0.        , 0.0356357 , 0.02702127, 0.03940029, 0.        ,\n",
              "         0.03690596, 0.        , 0.        , 0.02301495, 0.        ,\n",
              "         0.01391852, 0.0559568 , 0.00486084, 0.03831773, 0.        ,\n",
              "         0.00490899, 0.        , 0.        , 0.04905751, 0.        ,\n",
              "         0.        , 0.        ],\n",
              "        [0.        , 0.        , 0.10331744, 0.        , 0.02301292,\n",
              "         0.        , 0.        , 0.        , 0.        , 0.00154421,\n",
              "         0.        , 0.05186702, 0.00861635, 0.00860088, 0.        ,\n",
              "         0.01556897, 0.02597504, 0.        , 0.        , 0.        ,\n",
              "         0.0061405 , 0.07877658, 0.        , 0.06512518, 0.        ,\n",
              "         0.        , 0.        , 0.0787439 , 0.0241512 , 0.        ,\n",
              "         0.        , 0.        ],\n",
              "        [0.        , 0.05134335, 0.03863733, 0.        , 0.        ,\n",
              "         0.        , 0.0117692 , 0.00189426, 0.        , 0.08845101,\n",
              "         0.        , 0.0236516 , 0.04258373, 0.04874711, 0.01930134,\n",
              "         0.02773175, 0.02255614, 0.        , 0.0736538 , 0.05565058,\n",
              "         0.06876945, 0.08562364, 0.        , 0.01907107, 0.04726471,\n",
              "         0.        , 0.06328341, 0.05016217, 0.02626824, 0.01001821,\n",
              "         0.04344483, 0.        ],\n",
              "        [0.        , 0.        , 0.04966078, 0.        , 0.0517058 ,\n",
              "         0.01203542, 0.03024807, 0.        , 0.        , 0.        ,\n",
              "         0.        , 0.01012756, 0.0129787 , 0.00812929, 0.        ,\n",
              "         0.01461131, 0.02692553, 0.00232735, 0.        , 0.0007087 ,\n",
              "         0.04204538, 0.05773287, 0.        , 0.03212804, 0.        ,\n",
              "         0.        , 0.03785501, 0.        , 0.0031723 , 0.        ,\n",
              "         0.        , 0.02295297],\n",
              "        [0.        , 0.        , 0.04677009, 0.        , 0.02861097,\n",
              "         0.        , 0.01587445, 0.02566797, 0.        , 0.02032743,\n",
              "         0.        , 0.03174803, 0.00665178, 0.00314752, 0.0013263 ,\n",
              "         0.        , 0.02760085, 0.        , 0.01511838, 0.        ,\n",
              "         0.02519152, 0.03735182, 0.        , 0.        , 0.        ,\n",
              "         0.        , 0.0310952 , 0.00886935, 0.01599552, 0.        ,\n",
              "         0.00466797, 0.00566821],\n",
              "        [0.        , 0.        , 0.04677008, 0.        , 0.02861097,\n",
              "         0.        , 0.01587446, 0.02566797, 0.        , 0.02032742,\n",
              "         0.        , 0.03174803, 0.00665177, 0.00314751, 0.00132631,\n",
              "         0.        , 0.02760085, 0.        , 0.01511837, 0.        ,\n",
              "         0.02519152, 0.03735182, 0.        , 0.        , 0.        ,\n",
              "         0.        , 0.0310952 , 0.00886935, 0.01599552, 0.        ,\n",
              "         0.00466796, 0.00566821],\n",
              "        [0.        , 0.        , 0.04677008, 0.        , 0.02861097,\n",
              "         0.        , 0.01587446, 0.02566797, 0.        , 0.02032743,\n",
              "         0.        , 0.03174803, 0.00665177, 0.00314751, 0.00132631,\n",
              "         0.        , 0.02760085, 0.        , 0.01511838, 0.        ,\n",
              "         0.02519152, 0.03735182, 0.        , 0.        , 0.        ,\n",
              "         0.        , 0.0310952 , 0.00886934, 0.01599552, 0.        ,\n",
              "         0.00466797, 0.00566821],\n",
              "        [0.        , 0.        , 0.04677008, 0.        , 0.02861097,\n",
              "         0.        , 0.01587445, 0.02566796, 0.        , 0.02032743,\n",
              "         0.        , 0.03174804, 0.00665177, 0.00314751, 0.00132631,\n",
              "         0.        , 0.02760085, 0.        , 0.01511837, 0.        ,\n",
              "         0.02519151, 0.03735182, 0.        , 0.        , 0.        ,\n",
              "         0.        , 0.03109519, 0.00886935, 0.01599552, 0.        ,\n",
              "         0.00466795, 0.00566822],\n",
              "        [0.        , 0.        , 0.04677008, 0.        , 0.02861097,\n",
              "         0.        , 0.01587446, 0.02566797, 0.        , 0.02032743,\n",
              "         0.        , 0.03174803, 0.00665177, 0.00314752, 0.00132631,\n",
              "         0.        , 0.02760085, 0.        , 0.01511838, 0.        ,\n",
              "         0.02519152, 0.03735182, 0.        , 0.        , 0.        ,\n",
              "         0.        , 0.0310952 , 0.00886935, 0.01599552, 0.        ,\n",
              "         0.00466797, 0.00566821],\n",
              "        [0.        , 0.        , 0.04677009, 0.        , 0.02861097,\n",
              "         0.        , 0.01587445, 0.02566795, 0.        , 0.02032743,\n",
              "         0.        , 0.03174803, 0.00665177, 0.00314751, 0.00132631,\n",
              "         0.        , 0.02760085, 0.        , 0.01511837, 0.        ,\n",
              "         0.02519151, 0.03735182, 0.        , 0.        , 0.        ,\n",
              "         0.        , 0.0310952 , 0.00886934, 0.01599552, 0.        ,\n",
              "         0.00466796, 0.00566821],\n",
              "        [0.        , 0.        , 0.04677008, 0.        , 0.02861096,\n",
              "         0.        , 0.01587446, 0.02566797, 0.        , 0.02032743,\n",
              "         0.        , 0.03174803, 0.00665178, 0.00314751, 0.00132631,\n",
              "         0.        , 0.02760085, 0.        , 0.01511838, 0.        ,\n",
              "         0.02519151, 0.03735182, 0.        , 0.        , 0.        ,\n",
              "         0.        , 0.0310952 , 0.00886935, 0.01599552, 0.        ,\n",
              "         0.00466796, 0.00566821],\n",
              "        [0.        , 0.00588133, 0.04027692, 0.        , 0.02641023,\n",
              "         0.        , 0.        , 0.01962693, 0.        , 0.01512424,\n",
              "         0.        , 0.0145931 , 0.        , 0.00832215, 0.00934641,\n",
              "         0.        , 0.02812946, 0.        , 0.        , 0.0046362 ,\n",
              "         0.03329304, 0.03448341, 0.        , 0.00763806, 0.        ,\n",
              "         0.        , 0.02873855, 0.00792161, 0.00826936, 0.00627941,\n",
              "         0.        , 0.00306952],\n",
              "        [0.        , 0.        , 0.02643157, 0.        , 0.03302291,\n",
              "         0.        , 0.01763184, 0.0286488 , 0.        , 0.01297933,\n",
              "         0.0047466 , 0.00035708, 0.        , 0.01073938, 0.01231927,\n",
              "         0.        , 0.00696653, 0.        , 0.        , 0.        ,\n",
              "         0.02812917, 0.01807521, 0.        , 0.02052072, 0.        ,\n",
              "         0.        , 0.02042973, 0.        , 0.01723142, 0.00806174,\n",
              "         0.00294937, 0.00021862]]], dtype=float32)>"
            ]
          },
          "metadata": {},
          "execution_count": 73
        }
      ],
      "source": [
        "conv_1d_output"
      ]
    },
    {
      "cell_type": "code",
      "execution_count": 74,
      "metadata": {
        "id": "Byg_0z40f3XV",
        "outputId": "ea14f9d0-b1bb-4b2c-de07-06c50e559f02",
        "colab": {
          "base_uri": "https://localhost:8080/"
        }
      },
      "outputs": [
        {
          "output_type": "execute_result",
          "data": {
            "text/plain": [
              "<tf.Tensor: shape=(1, 32), dtype=float32, numpy=\n",
              "array([[0.08726441, 0.09581308, 0.10331744, 0.        , 0.05775791,\n",
              "        0.01744202, 0.03660747, 0.0286488 , 0.03221142, 0.09174182,\n",
              "        0.0047466 , 0.08328104, 0.04258373, 0.05273913, 0.01930134,\n",
              "        0.03803726, 0.03834271, 0.00864776, 0.0736538 , 0.05565058,\n",
              "        0.06876945, 0.08562364, 0.02037758, 0.06512518, 0.04726471,\n",
              "        0.03092508, 0.06328341, 0.0787439 , 0.04905751, 0.01001821,\n",
              "        0.04344483, 0.02295297]], dtype=float32)>"
            ]
          },
          "metadata": {},
          "execution_count": 74
        }
      ],
      "source": [
        "max_pool_output"
      ]
    },
    {
      "cell_type": "code",
      "execution_count": 75,
      "metadata": {
        "id": "0vReqwPdf3XW"
      },
      "outputs": [],
      "source": [
        "# Create 1-d convolutional layer to model sequences\n",
        "from tensorflow.keras import layers\n",
        "inputs = layers.Input(shape=(1,), dtype=\"string\")\n",
        "x = text_vectorizer(inputs)\n",
        "x = embedding(x)\n",
        "x = layers.Conv1D(\n",
        "    filters=64, \n",
        "    kernel_size=5, # each filter is looking at 5 words at a time\n",
        "    strides=1,\n",
        "    activation=\"relu\",\n",
        "    padding=\"valid\",\n",
        ")(x)\n",
        "x = layers.GlobalMaxPool1D()(x)\n",
        "# x =layers.Dense(64, activation=\"relu\")(x)\n",
        "outputs = layers.Dense(1, activation=\"sigmoid\")(x)\n",
        "model_5 = tf.keras.Model(inputs, outputs, name=\"model_5_Conv1D\")\n"
      ]
    },
    {
      "cell_type": "code",
      "execution_count": 76,
      "metadata": {
        "id": "ixSxnnRQf3XW",
        "outputId": "efabce1f-fc7b-4419-8bf0-d68309397409",
        "colab": {
          "base_uri": "https://localhost:8080/"
        }
      },
      "outputs": [
        {
          "output_type": "stream",
          "name": "stdout",
          "text": [
            "Model: \"model_5_Conv1D\"\n",
            "_________________________________________________________________\n",
            " Layer (type)                Output Shape              Param #   \n",
            "=================================================================\n",
            " input_5 (InputLayer)        [(None, 1)]               0         \n",
            "                                                                 \n",
            " text_vectorization (TextVec  (None, 15)               0         \n",
            " torization)                                                     \n",
            "                                                                 \n",
            " embedding (Embedding)       (None, 15, 128)           1280000   \n",
            "                                                                 \n",
            " conv1d_1 (Conv1D)           (None, 11, 64)            41024     \n",
            "                                                                 \n",
            " global_max_pooling1d_1 (Glo  (None, 64)               0         \n",
            " balMaxPooling1D)                                                \n",
            "                                                                 \n",
            " dense_6 (Dense)             (None, 1)                 65        \n",
            "                                                                 \n",
            "=================================================================\n",
            "Total params: 1,321,089\n",
            "Trainable params: 1,321,089\n",
            "Non-trainable params: 0\n",
            "_________________________________________________________________\n"
          ]
        }
      ],
      "source": [
        "model_5.summary()"
      ]
    },
    {
      "cell_type": "code",
      "execution_count": 77,
      "metadata": {
        "id": "tWmm4Cjrf3XX"
      },
      "outputs": [],
      "source": [
        "model_5.compile(\n",
        "    loss=\"binary_crossentropy\",\n",
        "    optimizer=tf.keras.optimizers.Adam(),\n",
        "    metrics=[\"accuracy\"]\n",
        ")"
      ]
    },
    {
      "cell_type": "code",
      "execution_count": 78,
      "metadata": {
        "id": "J-WlCiqWf3XX",
        "outputId": "16fa6686-5f6d-4d09-b9dc-d7ebcafd22d2",
        "colab": {
          "base_uri": "https://localhost:8080/"
        }
      },
      "outputs": [
        {
          "output_type": "stream",
          "name": "stdout",
          "text": [
            "Saving TensorBoard log files to: model_logs/model_5_Conv1D/20220713-032720\n",
            "Epoch 1/5\n",
            "215/215 [==============================] - 3s 6ms/step - loss: 0.1265 - accuracy: 0.9584 - val_loss: 0.8569 - val_accuracy: 0.7769\n",
            "Epoch 2/5\n",
            "215/215 [==============================] - 1s 5ms/step - loss: 0.0748 - accuracy: 0.9720 - val_loss: 1.0227 - val_accuracy: 0.7625\n",
            "Epoch 3/5\n",
            "215/215 [==============================] - 1s 5ms/step - loss: 0.0624 - accuracy: 0.9758 - val_loss: 1.0915 - val_accuracy: 0.7743\n",
            "Epoch 4/5\n",
            "215/215 [==============================] - 1s 5ms/step - loss: 0.0562 - accuracy: 0.9765 - val_loss: 1.1453 - val_accuracy: 0.7638\n",
            "Epoch 5/5\n",
            "215/215 [==============================] - 1s 6ms/step - loss: 0.0516 - accuracy: 0.9774 - val_loss: 1.1599 - val_accuracy: 0.7585\n"
          ]
        },
        {
          "output_type": "execute_result",
          "data": {
            "text/plain": [
              "<keras.callbacks.History at 0x7faa111ae290>"
            ]
          },
          "metadata": {},
          "execution_count": 78
        }
      ],
      "source": [
        "model_5.fit(\n",
        "    train_sentences,\n",
        "    train_labels,\n",
        "    epochs=5,\n",
        "    validation_data=(val_sentences, val_labels),\n",
        "    callbacks=[create_tensorboard_callback(\n",
        "        SAVE_DIR,\n",
        "        \"model_5_Conv1D\"\n",
        "    )]\n",
        ")"
      ]
    },
    {
      "cell_type": "code",
      "execution_count": 79,
      "metadata": {
        "id": "grSAeHEMf3XY",
        "outputId": "b83fb0e3-edbf-4006-fe04-4e44a0c94e68",
        "colab": {
          "base_uri": "https://localhost:8080/"
        }
      },
      "outputs": [
        {
          "output_type": "execute_result",
          "data": {
            "text/plain": [
              "array([[9.8825656e-02],\n",
              "       [7.9590636e-01],\n",
              "       [9.9993503e-01],\n",
              "       [1.2760842e-01],\n",
              "       [5.5566954e-07],\n",
              "       [9.9748045e-01],\n",
              "       [9.4967377e-01],\n",
              "       [9.9998844e-01],\n",
              "       [9.9999964e-01],\n",
              "       [9.7317272e-01]], dtype=float32)"
            ]
          },
          "metadata": {},
          "execution_count": 79
        }
      ],
      "source": [
        "model_5_pred_probs = model_5.predict(val_sentences)\n",
        "model_5_pred_probs[:10]"
      ]
    },
    {
      "cell_type": "code",
      "execution_count": 80,
      "metadata": {
        "id": "ykSoUJuuf3XY",
        "outputId": "caed7fa8-36d7-4f2f-dfa9-71e2c6aa6c37",
        "colab": {
          "base_uri": "https://localhost:8080/"
        }
      },
      "outputs": [
        {
          "output_type": "execute_result",
          "data": {
            "text/plain": [
              "<tf.Tensor: shape=(10,), dtype=float32, numpy=array([0., 1., 1., 0., 0., 1., 1., 1., 1., 1.], dtype=float32)>"
            ]
          },
          "metadata": {},
          "execution_count": 80
        }
      ],
      "source": [
        "model_5_preds = tf.squeeze(tf.round(model_5_pred_probs))\n",
        "model_5_preds[:10]"
      ]
    },
    {
      "cell_type": "code",
      "execution_count": 81,
      "metadata": {
        "id": "wiT_trxMf3XY",
        "outputId": "2079f38d-01d3-477f-fc7e-77e4396cb82e",
        "colab": {
          "base_uri": "https://localhost:8080/"
        }
      },
      "outputs": [
        {
          "output_type": "execute_result",
          "data": {
            "text/plain": [
              "{'accuracy': 75.8530183727034,\n",
              " 'f1-score': 0.7582816474189753,\n",
              " 'precision': 0.7582012033831707,\n",
              " 'recall': 0.7585301837270341}"
            ]
          },
          "metadata": {},
          "execution_count": 81
        }
      ],
      "source": [
        "model_5_results = calculate_results(\n",
        "    y_true=val_labels,\n",
        "    y_pred=model_5_preds\n",
        ")\n",
        "model_5_results"
      ]
    },
    {
      "cell_type": "markdown",
      "metadata": {
        "id": "HMt1wZIvf3XY"
      },
      "source": [
        "## Model 6: TensorFlow Hub Pretrained Sentence Encoder\n",
        "\n",
        "Now we've build a few of our own model, let's try and use transfer leraning for NLP, specifically using TensorFlow Hub's Universal Sentence Encoder."
      ]
    },
    {
      "cell_type": "code",
      "execution_count": 82,
      "metadata": {
        "id": "UEKnVazgf3XY",
        "outputId": "6560fb98-813b-4ad0-db57-c7ecbdcc9f87",
        "colab": {
          "base_uri": "https://localhost:8080/",
          "height": 591
        }
      },
      "outputs": [
        {
          "output_type": "execute_result",
          "data": {
            "text/plain": [
              "\"There's a flood in my street\""
            ],
            "application/vnd.google.colaboratory.intrinsic+json": {
              "type": "string"
            }
          },
          "metadata": {},
          "execution_count": 82
        }
      ],
      "source": [
        "sample_sentence"
      ]
    },
    {
      "cell_type": "code",
      "execution_count": 83,
      "metadata": {
        "id": "U4YTywxof3XZ",
        "outputId": "578d3138-c60e-4df3-c19c-8b9a05950885",
        "colab": {
          "base_uri": "https://localhost:8080/"
        }
      },
      "outputs": [
        {
          "output_type": "stream",
          "name": "stdout",
          "text": [
            "tf.Tensor(\n",
            "[-0.01157028  0.0248591   0.02878048 -0.012715    0.03971538  0.0882776\n",
            "  0.02680984  0.05589836 -0.0106873  -0.00597291  0.00639323 -0.01819518\n",
            "  0.00030813  0.09105888  0.05874644 -0.03180628  0.01512474 -0.05162929\n",
            "  0.00991367 -0.06865347 -0.04209306  0.02678981  0.03011006  0.00321069\n",
            " -0.00337973 -0.04787357  0.0226672  -0.00985925 -0.04063613 -0.01292092\n",
            " -0.04666384  0.05630299 -0.03949255  0.00517686  0.02495829 -0.0701444\n",
            "  0.02871508  0.04947684 -0.00633979 -0.08960192  0.02807118 -0.00808364\n",
            " -0.01360602  0.0599865  -0.10361787 -0.05195374  0.00232954 -0.02332531\n",
            " -0.03758105  0.03327728], shape=(50,), dtype=float32)\n"
          ]
        }
      ],
      "source": [
        "# Example of pretrained embedding with universal sentence encoder - https://tfhub.dev/google/universal-sentence-encoder/4\n",
        "import tensorflow_hub as hub\n",
        "embed = hub.load(\"https://tfhub.dev/google/universal-sentence-encoder/4\") # load Universal Sentence Encoder\n",
        "embed_samples = embed([sample_sentence,\n",
        "                      \"When you call the universal sentence encoder on a sentence, it turns it into numbers.\"])\n",
        "\n",
        "print(embed_samples[0][:50])"
      ]
    },
    {
      "cell_type": "code",
      "execution_count": 84,
      "metadata": {
        "id": "MS30fR8nf3XZ"
      },
      "outputs": [],
      "source": [
        "# Create a Keras Layer using the USW pretrained layer from tensorflow hub\n",
        "sentence_encoder_layer = hub.KerasLayer(\n",
        "    \"https://tfhub.dev/google/universal-sentence-encoder/4\",\n",
        "    input_shape=[],\n",
        "    dtype=tf.string,\n",
        "    trainable=False,\n",
        "    name=\"USE\"\n",
        ")"
      ]
    },
    {
      "cell_type": "code",
      "execution_count": 85,
      "metadata": {
        "id": "yiA-UUNrf3XZ"
      },
      "outputs": [],
      "source": [
        "# Create model using the Sequential API\n",
        "model_6 = tf.keras.Sequential([\n",
        "    sentence_encoder_layer,\n",
        "    layers.Dense(64, activation=\"relu\"),\n",
        "    layers.Dense(1, activation=\"sigmoid\", name=\"output_layer\"),\n",
        "], name=\"model_6_USE\")"
      ]
    },
    {
      "cell_type": "code",
      "execution_count": 86,
      "metadata": {
        "id": "I5cxPY22f3XZ"
      },
      "outputs": [],
      "source": [
        "# Compile the model\n",
        "model_6.compile(\n",
        "    loss=\"binary_crossentropy\",\n",
        "    optimizer=tf.keras.optimizers.Adam(),\n",
        "    metrics=[\"accuracy\"]\n",
        ")"
      ]
    },
    {
      "cell_type": "code",
      "execution_count": 87,
      "metadata": {
        "id": "WffLApJwf3XZ",
        "outputId": "a40c1e65-44eb-437b-be79-8c3f1f9cc527",
        "colab": {
          "base_uri": "https://localhost:8080/"
        }
      },
      "outputs": [
        {
          "output_type": "stream",
          "name": "stdout",
          "text": [
            "Model: \"model_6_USE\"\n",
            "_________________________________________________________________\n",
            " Layer (type)                Output Shape              Param #   \n",
            "=================================================================\n",
            " USE (KerasLayer)            (None, 512)               256797824 \n",
            "                                                                 \n",
            " dense_7 (Dense)             (None, 64)                32832     \n",
            "                                                                 \n",
            " output_layer (Dense)        (None, 1)                 65        \n",
            "                                                                 \n",
            "=================================================================\n",
            "Total params: 256,830,721\n",
            "Trainable params: 32,897\n",
            "Non-trainable params: 256,797,824\n",
            "_________________________________________________________________\n"
          ]
        }
      ],
      "source": [
        "model_6.summary()"
      ]
    },
    {
      "cell_type": "code",
      "execution_count": 88,
      "metadata": {
        "id": "QNQ15YWGf3XZ",
        "outputId": "aea626ce-4eaf-4c2f-986c-ae44e9583866",
        "colab": {
          "base_uri": "https://localhost:8080/"
        }
      },
      "outputs": [
        {
          "output_type": "stream",
          "name": "stdout",
          "text": [
            "Saving TensorBoard log files to: model_logs/tf_hub_sentence_encoder/20220713-032746\n",
            "Epoch 1/5\n",
            "215/215 [==============================] - 5s 13ms/step - loss: 0.5074 - accuracy: 0.7825 - val_loss: 0.4490 - val_accuracy: 0.7979\n",
            "Epoch 2/5\n",
            "215/215 [==============================] - 3s 12ms/step - loss: 0.4155 - accuracy: 0.8158 - val_loss: 0.4371 - val_accuracy: 0.8097\n",
            "Epoch 3/5\n",
            "215/215 [==============================] - 3s 12ms/step - loss: 0.4017 - accuracy: 0.8224 - val_loss: 0.4344 - val_accuracy: 0.8136\n",
            "Epoch 4/5\n",
            "215/215 [==============================] - 4s 21ms/step - loss: 0.3936 - accuracy: 0.8260 - val_loss: 0.4291 - val_accuracy: 0.8123\n",
            "Epoch 5/5\n",
            "215/215 [==============================] - 3s 12ms/step - loss: 0.3870 - accuracy: 0.8267 - val_loss: 0.4269 - val_accuracy: 0.8176\n"
          ]
        }
      ],
      "source": [
        "# Train a classifier on top of USE pretrained embeddings\n",
        "model_6_history = model_6.fit(\n",
        "    train_sentences,\n",
        "    train_labels,\n",
        "    epochs=5,\n",
        "    validation_data=(val_sentences, val_labels),\n",
        "    callbacks=[create_tensorboard_callback(\n",
        "        SAVE_DIR,\n",
        "        \"tf_hub_sentence_encoder\"\n",
        "    )]\n",
        ")"
      ]
    },
    {
      "cell_type": "code",
      "execution_count": 89,
      "metadata": {
        "id": "nl92N4daf3Xa",
        "outputId": "9959ce48-1686-49b7-c98c-afc1c9802066",
        "colab": {
          "base_uri": "https://localhost:8080/"
        }
      },
      "outputs": [
        {
          "output_type": "execute_result",
          "data": {
            "text/plain": [
              "(array([[0.21441066],\n",
              "        [0.8341665 ],\n",
              "        [0.99039537],\n",
              "        [0.20080115],\n",
              "        [0.815391  ],\n",
              "        [0.78648704],\n",
              "        [0.98393655],\n",
              "        [0.9846423 ],\n",
              "        [0.9496211 ],\n",
              "        [0.0963999 ],\n",
              "        [0.66004634],\n",
              "        [0.46192938],\n",
              "        [0.18534489],\n",
              "        [0.57034576],\n",
              "        [0.3047657 ],\n",
              "        [0.02750415],\n",
              "        [0.37051892],\n",
              "        [0.61938274],\n",
              "        [0.39341047],\n",
              "        [0.3513046 ],\n",
              "        [0.9283376 ],\n",
              "        [0.13779701],\n",
              "        [0.48244196],\n",
              "        [0.03451305],\n",
              "        [0.9190363 ],\n",
              "        [0.96999264],\n",
              "        [0.06265002],\n",
              "        [0.11831094],\n",
              "        [0.09797142],\n",
              "        [0.3505278 ],\n",
              "        [0.53567636],\n",
              "        [0.9175348 ],\n",
              "        [0.41950986],\n",
              "        [0.328563  ],\n",
              "        [0.5296536 ],\n",
              "        [0.07257971],\n",
              "        [0.9816992 ],\n",
              "        [0.05207876],\n",
              "        [0.03226565],\n",
              "        [0.9873303 ],\n",
              "        [0.07121301],\n",
              "        [0.24267167],\n",
              "        [0.5208617 ],\n",
              "        [0.55187124],\n",
              "        [0.23236477],\n",
              "        [0.9620513 ],\n",
              "        [0.34307176],\n",
              "        [0.9665441 ],\n",
              "        [0.7185746 ],\n",
              "        [0.9031413 ],\n",
              "        [0.05311493],\n",
              "        [0.7233649 ],\n",
              "        [0.19458649],\n",
              "        [0.0575436 ],\n",
              "        [0.09737188],\n",
              "        [0.03234224],\n",
              "        [0.11926382],\n",
              "        [0.9202674 ],\n",
              "        [0.1333447 ],\n",
              "        [0.050428  ],\n",
              "        [0.06415337],\n",
              "        [0.98189837],\n",
              "        [0.9802831 ],\n",
              "        [0.07227848],\n",
              "        [0.922127  ],\n",
              "        [0.95961624],\n",
              "        [0.6946619 ],\n",
              "        [0.21470371],\n",
              "        [0.05595397],\n",
              "        [0.550627  ],\n",
              "        [0.10402793],\n",
              "        [0.07546265],\n",
              "        [0.8099536 ],\n",
              "        [0.0447984 ],\n",
              "        [0.03114608],\n",
              "        [0.54687244],\n",
              "        [0.14394416],\n",
              "        [0.2439606 ],\n",
              "        [0.05782998],\n",
              "        [0.7899098 ],\n",
              "        [0.76217693],\n",
              "        [0.5110686 ],\n",
              "        [0.946111  ],\n",
              "        [0.08559164],\n",
              "        [0.67535996],\n",
              "        [0.70920837],\n",
              "        [0.0798354 ],\n",
              "        [0.12305243],\n",
              "        [0.98979   ],\n",
              "        [0.9113471 ],\n",
              "        [0.9966028 ],\n",
              "        [0.04071395],\n",
              "        [0.08784336],\n",
              "        [0.02696159],\n",
              "        [0.9657398 ],\n",
              "        [0.80696493],\n",
              "        [0.9740313 ],\n",
              "        [0.91810733],\n",
              "        [0.98196584],\n",
              "        [0.92862207],\n",
              "        [0.9501176 ],\n",
              "        [0.16766918],\n",
              "        [0.14583883],\n",
              "        [0.99121314],\n",
              "        [0.97601056],\n",
              "        [0.02854764],\n",
              "        [0.8917537 ],\n",
              "        [0.8413299 ],\n",
              "        [0.14203501],\n",
              "        [0.8666558 ],\n",
              "        [0.1515591 ],\n",
              "        [0.05295642],\n",
              "        [0.2411179 ],\n",
              "        [0.31830594],\n",
              "        [0.16429612],\n",
              "        [0.23556629],\n",
              "        [0.43007207],\n",
              "        [0.67843336],\n",
              "        [0.81572515],\n",
              "        [0.8327905 ],\n",
              "        [0.936566  ],\n",
              "        [0.14129497],\n",
              "        [0.60092556],\n",
              "        [0.8085927 ],\n",
              "        [0.69396055],\n",
              "        [0.40897176],\n",
              "        [0.16097467],\n",
              "        [0.10166973],\n",
              "        [0.09043057],\n",
              "        [0.3160309 ],\n",
              "        [0.10131598],\n",
              "        [0.9543182 ],\n",
              "        [0.97161925],\n",
              "        [0.9698812 ],\n",
              "        [0.75036144],\n",
              "        [0.24534573],\n",
              "        [0.96915597],\n",
              "        [0.40484607],\n",
              "        [0.47908732],\n",
              "        [0.13106555],\n",
              "        [0.9813891 ],\n",
              "        [0.12185407],\n",
              "        [0.5546669 ],\n",
              "        [0.45556697],\n",
              "        [0.71871656],\n",
              "        [0.4035167 ],\n",
              "        [0.0316886 ],\n",
              "        [0.07614507],\n",
              "        [0.148191  ],\n",
              "        [0.91467494],\n",
              "        [0.36271253],\n",
              "        [0.06014678],\n",
              "        [0.50594693],\n",
              "        [0.06526846],\n",
              "        [0.4417072 ],\n",
              "        [0.8433699 ],\n",
              "        [0.65404814],\n",
              "        [0.07836612],\n",
              "        [0.9563216 ],\n",
              "        [0.16158164],\n",
              "        [0.9253228 ],\n",
              "        [0.07836196],\n",
              "        [0.16675964],\n",
              "        [0.9632788 ],\n",
              "        [0.05963258],\n",
              "        [0.05464331],\n",
              "        [0.99462974],\n",
              "        [0.16648886],\n",
              "        [0.94504297],\n",
              "        [0.16984183],\n",
              "        [0.9838103 ],\n",
              "        [0.5011771 ],\n",
              "        [0.9708435 ],\n",
              "        [0.06444031],\n",
              "        [0.9626346 ],\n",
              "        [0.0292581 ],\n",
              "        [0.86232406],\n",
              "        [0.51073223],\n",
              "        [0.70152503],\n",
              "        [0.99527705],\n",
              "        [0.05189426],\n",
              "        [0.7363536 ],\n",
              "        [0.37754685],\n",
              "        [0.9014193 ],\n",
              "        [0.934741  ],\n",
              "        [0.31063816],\n",
              "        [0.15336576],\n",
              "        [0.9798538 ],\n",
              "        [0.32686302],\n",
              "        [0.08436808],\n",
              "        [0.39736608],\n",
              "        [0.9666326 ],\n",
              "        [0.10077764],\n",
              "        [0.22325383],\n",
              "        [0.1021373 ],\n",
              "        [0.0799242 ],\n",
              "        [0.10645192],\n",
              "        [0.22568168],\n",
              "        [0.08806702],\n",
              "        [0.05740365],\n",
              "        [0.15171096],\n",
              "        [0.9641535 ],\n",
              "        [0.8677867 ],\n",
              "        [0.21693933],\n",
              "        [0.13860087],\n",
              "        [0.98849225],\n",
              "        [0.28338087],\n",
              "        [0.8754239 ],\n",
              "        [0.9408423 ],\n",
              "        [0.83377147],\n",
              "        [0.03193524],\n",
              "        [0.9802839 ],\n",
              "        [0.05585313],\n",
              "        [0.10311756],\n",
              "        [0.0308426 ],\n",
              "        [0.03898199],\n",
              "        [0.92409235],\n",
              "        [0.92440546],\n",
              "        [0.7194716 ],\n",
              "        [0.04821901],\n",
              "        [0.6065571 ],\n",
              "        [0.05578774],\n",
              "        [0.07654645],\n",
              "        [0.21407829],\n",
              "        [0.987576  ],\n",
              "        [0.13909955],\n",
              "        [0.18213739],\n",
              "        [0.9706599 ],\n",
              "        [0.7088448 ],\n",
              "        [0.27988207],\n",
              "        [0.787418  ],\n",
              "        [0.14770548],\n",
              "        [0.9579492 ],\n",
              "        [0.03763635],\n",
              "        [0.35872042],\n",
              "        [0.45049214],\n",
              "        [0.37374586],\n",
              "        [0.5842728 ],\n",
              "        [0.9788568 ],\n",
              "        [0.03211798],\n",
              "        [0.67885727],\n",
              "        [0.30601412],\n",
              "        [0.9760442 ],\n",
              "        [0.9364444 ],\n",
              "        [0.04160566],\n",
              "        [0.23108298],\n",
              "        [0.90521145],\n",
              "        [0.1538672 ],\n",
              "        [0.08899143],\n",
              "        [0.8028104 ],\n",
              "        [0.12760423],\n",
              "        [0.8374087 ],\n",
              "        [0.03104061],\n",
              "        [0.58090496],\n",
              "        [0.89742833],\n",
              "        [0.18629718],\n",
              "        [0.80817425],\n",
              "        [0.994886  ],\n",
              "        [0.33318222],\n",
              "        [0.12030605],\n",
              "        [0.9542344 ],\n",
              "        [0.08608314],\n",
              "        [0.20102559],\n",
              "        [0.96167165],\n",
              "        [0.9018342 ],\n",
              "        [0.7405271 ],\n",
              "        [0.9342358 ],\n",
              "        [0.07261749],\n",
              "        [0.15116076],\n",
              "        [0.06891076],\n",
              "        [0.13033082],\n",
              "        [0.44660497],\n",
              "        [0.90721637],\n",
              "        [0.09987252],\n",
              "        [0.41757116],\n",
              "        [0.9483574 ],\n",
              "        [0.18233865],\n",
              "        [0.0772637 ],\n",
              "        [0.9790603 ],\n",
              "        [0.53833985],\n",
              "        [0.099121  ],\n",
              "        [0.14957662],\n",
              "        [0.9771926 ],\n",
              "        [0.48313415],\n",
              "        [0.17054583],\n",
              "        [0.7150081 ],\n",
              "        [0.7764849 ],\n",
              "        [0.15574954],\n",
              "        [0.8091267 ],\n",
              "        [0.04885828],\n",
              "        [0.8155244 ],\n",
              "        [0.5336252 ],\n",
              "        [0.2630599 ],\n",
              "        [0.7903707 ],\n",
              "        [0.06697217],\n",
              "        [0.8871026 ],\n",
              "        [0.26536143],\n",
              "        [0.98781514],\n",
              "        [0.06584043],\n",
              "        [0.6409247 ],\n",
              "        [0.4110429 ],\n",
              "        [0.08477977],\n",
              "        [0.0658925 ],\n",
              "        [0.7742631 ],\n",
              "        [0.24659982],\n",
              "        [0.15593591],\n",
              "        [0.09702519],\n",
              "        [0.691334  ],\n",
              "        [0.05428028],\n",
              "        [0.02508838],\n",
              "        [0.11145175],\n",
              "        [0.9718241 ],\n",
              "        [0.7059744 ],\n",
              "        [0.24462974],\n",
              "        [0.974428  ],\n",
              "        [0.06661087],\n",
              "        [0.9406036 ],\n",
              "        [0.67488796],\n",
              "        [0.02419913],\n",
              "        [0.20301278],\n",
              "        [0.08761143],\n",
              "        [0.10335852],\n",
              "        [0.9734021 ],\n",
              "        [0.05556737],\n",
              "        [0.77037776],\n",
              "        [0.07225441],\n",
              "        [0.18038423],\n",
              "        [0.9101204 ],\n",
              "        [0.06360669],\n",
              "        [0.8741236 ],\n",
              "        [0.8658703 ],\n",
              "        [0.09000988],\n",
              "        [0.94352955],\n",
              "        [0.2644432 ],\n",
              "        [0.172286  ],\n",
              "        [0.60110897],\n",
              "        [0.04598513],\n",
              "        [0.40349284],\n",
              "        [0.57821965],\n",
              "        [0.64253676],\n",
              "        [0.11199871],\n",
              "        [0.17060065],\n",
              "        [0.9170766 ],\n",
              "        [0.97563154],\n",
              "        [0.76678604],\n",
              "        [0.19429061],\n",
              "        [0.31595725],\n",
              "        [0.0837481 ],\n",
              "        [0.04770535],\n",
              "        [0.17697258],\n",
              "        [0.17762876],\n",
              "        [0.39549273],\n",
              "        [0.06803261],\n",
              "        [0.08702626],\n",
              "        [0.5416264 ],\n",
              "        [0.03938842],\n",
              "        [0.9626984 ],\n",
              "        [0.96174157],\n",
              "        [0.817364  ],\n",
              "        [0.6949784 ],\n",
              "        [0.47475332],\n",
              "        [0.06978557],\n",
              "        [0.962892  ],\n",
              "        [0.5580302 ],\n",
              "        [0.47155306],\n",
              "        [0.0495971 ],\n",
              "        [0.16455755],\n",
              "        [0.07465196],\n",
              "        [0.20748937],\n",
              "        [0.02910498],\n",
              "        [0.78656787],\n",
              "        [0.03237987],\n",
              "        [0.12051997],\n",
              "        [0.21784668],\n",
              "        [0.05654399],\n",
              "        [0.0590536 ],\n",
              "        [0.11770082],\n",
              "        [0.14356406],\n",
              "        [0.1173057 ],\n",
              "        [0.49435145],\n",
              "        [0.9514717 ],\n",
              "        [0.7287327 ],\n",
              "        [0.08212199],\n",
              "        [0.21969047],\n",
              "        [0.5127394 ],\n",
              "        [0.96848696],\n",
              "        [0.448821  ],\n",
              "        [0.3202895 ],\n",
              "        [0.9919829 ],\n",
              "        [0.22612631],\n",
              "        [0.0881541 ],\n",
              "        [0.3913478 ],\n",
              "        [0.03800696],\n",
              "        [0.8486547 ],\n",
              "        [0.74363804],\n",
              "        [0.99040025],\n",
              "        [0.11355684],\n",
              "        [0.7524674 ],\n",
              "        [0.25886756],\n",
              "        [0.4549373 ],\n",
              "        [0.9687526 ],\n",
              "        [0.13633649],\n",
              "        [0.64901304],\n",
              "        [0.93303883],\n",
              "        [0.09409688],\n",
              "        [0.9594665 ],\n",
              "        [0.30408728],\n",
              "        [0.72618353],\n",
              "        [0.05580135],\n",
              "        [0.27308103],\n",
              "        [0.889106  ],\n",
              "        [0.03541623],\n",
              "        [0.09003457],\n",
              "        [0.5075273 ],\n",
              "        [0.9548526 ],\n",
              "        [0.81832224],\n",
              "        [0.28344914],\n",
              "        [0.96858144],\n",
              "        [0.17595662],\n",
              "        [0.0705902 ],\n",
              "        [0.9721718 ],\n",
              "        [0.8952591 ],\n",
              "        [0.75558263],\n",
              "        [0.84078926],\n",
              "        [0.03300218],\n",
              "        [0.65474534],\n",
              "        [0.12367827],\n",
              "        [0.8675398 ],\n",
              "        [0.43637592],\n",
              "        [0.9273098 ],\n",
              "        [0.06097409],\n",
              "        [0.06172036],\n",
              "        [0.10236597],\n",
              "        [0.6473942 ],\n",
              "        [0.27344108],\n",
              "        [0.3078456 ],\n",
              "        [0.44167325],\n",
              "        [0.40474316],\n",
              "        [0.98546326],\n",
              "        [0.7698608 ],\n",
              "        [0.7016951 ],\n",
              "        [0.8142705 ],\n",
              "        [0.3205119 ],\n",
              "        [0.12182236],\n",
              "        [0.15064158],\n",
              "        [0.7780143 ],\n",
              "        [0.06027737],\n",
              "        [0.0472788 ],\n",
              "        [0.24040154],\n",
              "        [0.18052755],\n",
              "        [0.03808966],\n",
              "        [0.9014273 ],\n",
              "        [0.9508445 ],\n",
              "        [0.88991004],\n",
              "        [0.97211266],\n",
              "        [0.9871967 ],\n",
              "        [0.06272359],\n",
              "        [0.21101938],\n",
              "        [0.41584635],\n",
              "        [0.8957316 ],\n",
              "        [0.9851967 ],\n",
              "        [0.06739397],\n",
              "        [0.11195006],\n",
              "        [0.47780824],\n",
              "        [0.9903128 ],\n",
              "        [0.95464635],\n",
              "        [0.16483523],\n",
              "        [0.18940176],\n",
              "        [0.9238615 ],\n",
              "        [0.0301223 ],\n",
              "        [0.14522824],\n",
              "        [0.943089  ],\n",
              "        [0.6188153 ],\n",
              "        [0.30706227],\n",
              "        [0.7830474 ],\n",
              "        [0.60244   ],\n",
              "        [0.8583833 ],\n",
              "        [0.98034704],\n",
              "        [0.0804742 ],\n",
              "        [0.04645811],\n",
              "        [0.16979627],\n",
              "        [0.06076286],\n",
              "        [0.39637235],\n",
              "        [0.88449275],\n",
              "        [0.03169164],\n",
              "        [0.7275015 ],\n",
              "        [0.07035028],\n",
              "        [0.06776679],\n",
              "        [0.3041514 ],\n",
              "        [0.54780865],\n",
              "        [0.35462394],\n",
              "        [0.9722927 ],\n",
              "        [0.2033173 ],\n",
              "        [0.08159354],\n",
              "        [0.12368996],\n",
              "        [0.13588949],\n",
              "        [0.5308708 ],\n",
              "        [0.8510883 ],\n",
              "        [0.10874346],\n",
              "        [0.8763175 ],\n",
              "        [0.9678239 ],\n",
              "        [0.04766271],\n",
              "        [0.34149376],\n",
              "        [0.8672044 ],\n",
              "        [0.19977306],\n",
              "        [0.6816026 ],\n",
              "        [0.10102159],\n",
              "        [0.9579757 ],\n",
              "        [0.19300832],\n",
              "        [0.13596386],\n",
              "        [0.10904151],\n",
              "        [0.0578402 ],\n",
              "        [0.18043265],\n",
              "        [0.6281406 ],\n",
              "        [0.9675509 ],\n",
              "        [0.12505743],\n",
              "        [0.9817472 ],\n",
              "        [0.6768802 ],\n",
              "        [0.721195  ],\n",
              "        [0.9866939 ],\n",
              "        [0.44286495],\n",
              "        [0.3660192 ],\n",
              "        [0.8520672 ],\n",
              "        [0.95365906],\n",
              "        [0.04127568],\n",
              "        [0.22566167],\n",
              "        [0.07673074],\n",
              "        [0.2850303 ],\n",
              "        [0.4385893 ],\n",
              "        [0.9413873 ],\n",
              "        [0.807501  ],\n",
              "        [0.9704349 ],\n",
              "        [0.07525955],\n",
              "        [0.02715904],\n",
              "        [0.8744733 ],\n",
              "        [0.10533164],\n",
              "        [0.05283928],\n",
              "        [0.04743347],\n",
              "        [0.13193569],\n",
              "        [0.4631532 ],\n",
              "        [0.2152826 ],\n",
              "        [0.49958074],\n",
              "        [0.21230747],\n",
              "        [0.16717133],\n",
              "        [0.09346113],\n",
              "        [0.21372308],\n",
              "        [0.38955945],\n",
              "        [0.958744  ],\n",
              "        [0.83112776],\n",
              "        [0.7731869 ],\n",
              "        [0.9391808 ],\n",
              "        [0.9527463 ],\n",
              "        [0.06633613],\n",
              "        [0.84020966],\n",
              "        [0.06301855],\n",
              "        [0.97990143],\n",
              "        [0.05204483],\n",
              "        [0.20984392],\n",
              "        [0.23561522],\n",
              "        [0.04755586],\n",
              "        [0.14523163],\n",
              "        [0.32140666],\n",
              "        [0.96956223],\n",
              "        [0.91321445],\n",
              "        [0.8737726 ],\n",
              "        [0.07808213],\n",
              "        [0.77778304],\n",
              "        [0.8172323 ],\n",
              "        [0.0808717 ],\n",
              "        [0.23560527],\n",
              "        [0.8867499 ],\n",
              "        [0.68037474],\n",
              "        [0.98653436],\n",
              "        [0.27342656],\n",
              "        [0.17894119],\n",
              "        [0.6134008 ],\n",
              "        [0.10785149],\n",
              "        [0.7338363 ],\n",
              "        [0.92571336],\n",
              "        [0.28033105],\n",
              "        [0.04766306],\n",
              "        [0.07055153],\n",
              "        [0.9627135 ],\n",
              "        [0.14129514],\n",
              "        [0.05352974],\n",
              "        [0.97502035],\n",
              "        [0.17630272],\n",
              "        [0.10218552],\n",
              "        [0.73698646],\n",
              "        [0.02373418],\n",
              "        [0.22820185],\n",
              "        [0.32772908],\n",
              "        [0.6839234 ],\n",
              "        [0.01314187],\n",
              "        [0.3068026 ],\n",
              "        [0.9619298 ],\n",
              "        [0.11322103],\n",
              "        [0.9363016 ],\n",
              "        [0.98683584],\n",
              "        [0.05073455],\n",
              "        [0.05848248],\n",
              "        [0.04984927],\n",
              "        [0.9543879 ],\n",
              "        [0.5773488 ],\n",
              "        [0.98292613],\n",
              "        [0.09926329],\n",
              "        [0.31943294],\n",
              "        [0.08172435],\n",
              "        [0.05589557],\n",
              "        [0.80998147],\n",
              "        [0.09858378],\n",
              "        [0.9360306 ],\n",
              "        [0.07766765],\n",
              "        [0.20847848],\n",
              "        [0.9851149 ],\n",
              "        [0.3352784 ],\n",
              "        [0.06439061],\n",
              "        [0.4200056 ],\n",
              "        [0.0398112 ],\n",
              "        [0.6099584 ],\n",
              "        [0.9887243 ],\n",
              "        [0.08000761],\n",
              "        [0.9892874 ],\n",
              "        [0.20227277],\n",
              "        [0.8489673 ],\n",
              "        [0.1149532 ],\n",
              "        [0.5050777 ],\n",
              "        [0.316877  ],\n",
              "        [0.85880244],\n",
              "        [0.02724995],\n",
              "        [0.56177354],\n",
              "        [0.9450135 ],\n",
              "        [0.694972  ],\n",
              "        [0.7078442 ],\n",
              "        [0.9314116 ],\n",
              "        [0.04865305],\n",
              "        [0.65339357],\n",
              "        [0.12601787],\n",
              "        [0.678718  ],\n",
              "        [0.18408138],\n",
              "        [0.93086046],\n",
              "        [0.42187017],\n",
              "        [0.6454104 ],\n",
              "        [0.21409796],\n",
              "        [0.06724609],\n",
              "        [0.6398968 ],\n",
              "        [0.11249403],\n",
              "        [0.17442922],\n",
              "        [0.5502289 ],\n",
              "        [0.97421753],\n",
              "        [0.99246335],\n",
              "        [0.06326447],\n",
              "        [0.06849017],\n",
              "        [0.06624702],\n",
              "        [0.11924932],\n",
              "        [0.2880723 ],\n",
              "        [0.05077549],\n",
              "        [0.9768424 ],\n",
              "        [0.11089633],\n",
              "        [0.45045683],\n",
              "        [0.09554569],\n",
              "        [0.09448025],\n",
              "        [0.88569576],\n",
              "        [0.11002931],\n",
              "        [0.07330876],\n",
              "        [0.22364712],\n",
              "        [0.09718949],\n",
              "        [0.48848623],\n",
              "        [0.9846601 ],\n",
              "        [0.5760836 ],\n",
              "        [0.04003934],\n",
              "        [0.20662606],\n",
              "        [0.11206535],\n",
              "        [0.03297221],\n",
              "        [0.9575946 ],\n",
              "        [0.21319187],\n",
              "        [0.7174869 ],\n",
              "        [0.5001692 ],\n",
              "        [0.13461804],\n",
              "        [0.4297346 ],\n",
              "        [0.25350514],\n",
              "        [0.06438833],\n",
              "        [0.16059045],\n",
              "        [0.8914623 ],\n",
              "        [0.13448341],\n",
              "        [0.9455377 ],\n",
              "        [0.05370698],\n",
              "        [0.17543073],\n",
              "        [0.28503025],\n",
              "        [0.03211203],\n",
              "        [0.8367843 ],\n",
              "        [0.9638048 ],\n",
              "        [0.24225709],\n",
              "        [0.06818987],\n",
              "        [0.9788304 ],\n",
              "        [0.78105426],\n",
              "        [0.8851819 ],\n",
              "        [0.66398335],\n",
              "        [0.8014353 ],\n",
              "        [0.10681643],\n",
              "        [0.18676163],\n",
              "        [0.29000628],\n",
              "        [0.8316454 ],\n",
              "        [0.07260498],\n",
              "        [0.5078711 ],\n",
              "        [0.22503394],\n",
              "        [0.2928719 ],\n",
              "        [0.06630433],\n",
              "        [0.07652777],\n",
              "        [0.13167912],\n",
              "        [0.20427245],\n",
              "        [0.25220937],\n",
              "        [0.66618955],\n",
              "        [0.01815175],\n",
              "        [0.08072724],\n",
              "        [0.21223404],\n",
              "        [0.262454  ],\n",
              "        [0.0202442 ],\n",
              "        [0.7596253 ],\n",
              "        [0.03000332],\n",
              "        [0.64014995],\n",
              "        [0.12103236],\n",
              "        [0.18379305],\n",
              "        [0.90475726],\n",
              "        [0.07698989],\n",
              "        [0.38199604],\n",
              "        [0.09954674],\n",
              "        [0.07400013],\n",
              "        [0.95985436],\n",
              "        [0.25030407],\n",
              "        [0.16472201],\n",
              "        [0.9111368 ],\n",
              "        [0.9418531 ],\n",
              "        [0.91717297],\n",
              "        [0.99148166],\n",
              "        [0.975277  ],\n",
              "        [0.17223784],\n",
              "        [0.16133216],\n",
              "        [0.04546766],\n",
              "        [0.7394594 ],\n",
              "        [0.92405874],\n",
              "        [0.636479  ],\n",
              "        [0.3994284 ],\n",
              "        [0.05886808],\n",
              "        [0.4546843 ],\n",
              "        [0.40540862],\n",
              "        [0.10895811],\n",
              "        [0.18916292],\n",
              "        [0.11928709],\n",
              "        [0.08046296],\n",
              "        [0.10740117],\n",
              "        [0.42156115],\n",
              "        [0.94390786],\n",
              "        [0.08116527],\n",
              "        [0.9495886 ],\n",
              "        [0.6642468 ],\n",
              "        [0.0585429 ],\n",
              "        [0.11350081],\n",
              "        [0.0990496 ],\n",
              "        [0.9112099 ],\n",
              "        [0.7288026 ],\n",
              "        [0.11253462]], dtype=float32),)"
            ]
          },
          "metadata": {},
          "execution_count": 89
        }
      ],
      "source": [
        "# Make predictions with USE TF Hub model\n",
        "model_6_pred_probs = model_6.predict(val_sentences),\n",
        "model_6_pred_probs[:5]"
      ]
    },
    {
      "cell_type": "code",
      "execution_count": 90,
      "metadata": {
        "id": "-UxRoUKXf3Xa",
        "outputId": "6e99c55f-1883-4194-bd39-b8e400e13e2a",
        "colab": {
          "base_uri": "https://localhost:8080/"
        }
      },
      "outputs": [
        {
          "output_type": "execute_result",
          "data": {
            "text/plain": [
              "<tf.Tensor: shape=(10,), dtype=float32, numpy=array([0., 1., 1., 0., 1., 1., 1., 1., 1., 0.], dtype=float32)>"
            ]
          },
          "metadata": {},
          "execution_count": 90
        }
      ],
      "source": [
        "# Convert pred probs to labels\n",
        "model_6_preds = tf.squeeze(tf.round(model_6_pred_probs))\n",
        "model_6_preds[:10]"
      ]
    },
    {
      "cell_type": "code",
      "execution_count": 91,
      "metadata": {
        "id": "B9ypbFLuf3Xa",
        "outputId": "718cef16-5850-458c-927f-576d683b042a",
        "colab": {
          "base_uri": "https://localhost:8080/"
        }
      },
      "outputs": [
        {
          "output_type": "stream",
          "name": "stdout",
          "text": [
            "Model 6 USE:\n",
            "{'accuracy': 81.75853018372703, 'precision': 0.8179238046805183, 'recall': 0.8175853018372703, 'f1-score': 0.8168602489629228}\n",
            "Baseline:\n",
            "{'accuracy': 79.26509186351706, 'precision': 0.8111390004213173, 'recall': 0.7926509186351706, 'f1-score': 0.7862189758049549}\n"
          ]
        }
      ],
      "source": [
        "# Calculate model 6 performance metrics\n",
        "model_6_results = calculate_results(\n",
        "    y_true=val_labels,\n",
        "    y_pred=model_6_preds\n",
        ")\n",
        "print(f\"Model 6 USE:\\n{model_6_results}\\nBaseline:\\n{baseline_results}\")"
      ]
    },
    {
      "cell_type": "code",
      "execution_count": 92,
      "metadata": {
        "id": "xrxHyqTQf3Xa",
        "outputId": "9ffe237c-2520-41a7-d7dc-45d414683ea7",
        "colab": {
          "base_uri": "https://localhost:8080/"
        }
      },
      "outputs": [
        {
          "output_type": "execute_result",
          "data": {
            "text/plain": [
              "(6851, 7613, 7613)"
            ]
          },
          "metadata": {},
          "execution_count": 92
        }
      ],
      "source": [
        "len(train_sentences), len(train_df), len(train_df_shuffled)"
      ]
    },
    {
      "cell_type": "markdown",
      "metadata": {
        "id": "JXRkKtVEf3Xb"
      },
      "source": [
        "## Model 7: TF Hub Pretrained USE but with 10% training data\n",
        "\n",
        "Transfer learning really helps when you don't have a large dataset.\n",
        "\n",
        "To see how our model performs on a smaller dataset, let's replicate `model_6` except we'll train it on 10% of the data."
      ]
    },
    {
      "cell_type": "markdown",
      "metadata": {
        "id": "laFI2AZFf3Xb"
      },
      "source": [
        "> ⚠️ **Note:** Making data splits like below leads to data leakage (model_7 trained on 10% data, outperforms model_6 trained 100% data). DO NOT make data splits which leak data from validation/test set into training set."
      ]
    },
    {
      "cell_type": "code",
      "execution_count": 93,
      "metadata": {
        "id": "0G0XsW3Bf3Xb"
      },
      "outputs": [],
      "source": [
        "# THIS IS BAD!\n",
        "# Create subsets of 10% of the training data\n",
        "# train_10_percent = train_df_shuffled[[\"text\", \"target\"]].sample(frac=0.1, random_state=42)\n",
        "# train_10_percent.head(), len(train_10_percent)"
      ]
    },
    {
      "cell_type": "markdown",
      "metadata": {
        "id": "0ewGzdkpf3Xb"
      },
      "source": [
        "> 🔑 **Note:** Be *very* careful when creating training/val/test splits that you don't leak data accross the dataset. Otherwise your model evaluation metrics will be wrong. If something looks to good to be true (a model trained on 10% of data outperforming the same model trained 100% of data) trust your gut and go back through to find where the error may lie."
      ]
    },
    {
      "cell_type": "code",
      "execution_count": 94,
      "metadata": {
        "id": "SGoQYswJf3Xc",
        "outputId": "db85b065-d01d-48ee-85fa-11304234d663",
        "colab": {
          "base_uri": "https://localhost:8080/"
        }
      },
      "outputs": [
        {
          "output_type": "execute_result",
          "data": {
            "text/plain": [
              "(685, 685)"
            ]
          },
          "metadata": {},
          "execution_count": 94
        }
      ],
      "source": [
        "# Making a better dataset split (no data leakage)\n",
        "train_10_percent_split = int(0.1 * len(train_sentences)) # already in random order\n",
        "train_sentences_10_percent = train_sentences[:train_10_percent_split]\n",
        "train_labels_10_percent = train_labels[:train_10_percent_split]\n",
        "len(train_sentences_10_percent), len(train_labels_10_percent)"
      ]
    },
    {
      "cell_type": "code",
      "execution_count": 95,
      "metadata": {
        "id": "-BCFaM7Lf3Xc"
      },
      "outputs": [],
      "source": [
        "# train_sentences_10_percent = train_10_percent[\"text\"].to_list()\n",
        "# train_labels_10_percent = train_10_percent[\"target\"].to_list()\n",
        "# len(train_sentences_10_percent), len(train_labels_10_percent)"
      ]
    },
    {
      "cell_type": "code",
      "execution_count": 96,
      "metadata": {
        "id": "4ygltdkjf3Xc",
        "outputId": "e3bc3a10-7b45-4346-f235-3fda5925146f",
        "colab": {
          "base_uri": "https://localhost:8080/"
        }
      },
      "outputs": [
        {
          "output_type": "execute_result",
          "data": {
            "text/plain": [
              "0    406\n",
              "1    279\n",
              "dtype: int64"
            ]
          },
          "metadata": {},
          "execution_count": 96
        }
      ],
      "source": [
        "pd.Series(np.array(train_labels_10_percent)).value_counts()"
      ]
    },
    {
      "cell_type": "code",
      "execution_count": 97,
      "metadata": {
        "id": "VHg9OIJsf3Xc",
        "outputId": "bd71ed9a-1335-4977-ed4f-b902424537c5",
        "colab": {
          "base_uri": "https://localhost:8080/"
        }
      },
      "outputs": [
        {
          "output_type": "execute_result",
          "data": {
            "text/plain": [
              "0    4342\n",
              "1    3271\n",
              "Name: target, dtype: int64"
            ]
          },
          "metadata": {},
          "execution_count": 97
        }
      ],
      "source": [
        "# Check the number of target in our subset of data\n",
        "train_df_shuffled[\"target\"].value_counts()"
      ]
    },
    {
      "cell_type": "markdown",
      "metadata": {
        "id": "dmOHhHAIf3Xd"
      },
      "source": [
        "To recreate a model the same as a previous model we've created, we can use the `tf.keras.models.clone_model()` method."
      ]
    },
    {
      "cell_type": "code",
      "execution_count": 98,
      "metadata": {
        "id": "IRT6RwoOf3Xd"
      },
      "outputs": [],
      "source": [
        "# Let's build a model the same as model 6\n",
        "model_7 = tf.keras.models.clone_model(model_6)"
      ]
    },
    {
      "cell_type": "code",
      "execution_count": 99,
      "metadata": {
        "id": "zd8qEbYxf3Xd"
      },
      "outputs": [],
      "source": [
        "# Compile\n",
        "model_7.compile(\n",
        "    loss=\"binary_crossentropy\",\n",
        "    optimizer=tf.keras.optimizers.Adam(),\n",
        "    metrics=[\"accuracy\"]\n",
        ")"
      ]
    },
    {
      "cell_type": "code",
      "execution_count": 100,
      "metadata": {
        "id": "cxiwhQpJf3Xd",
        "outputId": "7e906cb0-1567-45dc-d859-4f778e64c826",
        "colab": {
          "base_uri": "https://localhost:8080/"
        }
      },
      "outputs": [
        {
          "output_type": "stream",
          "name": "stdout",
          "text": [
            "Model: \"model_6_USE\"\n",
            "_________________________________________________________________\n",
            " Layer (type)                Output Shape              Param #   \n",
            "=================================================================\n",
            " USE (KerasLayer)            (None, 512)               256797824 \n",
            "                                                                 \n",
            " dense_7 (Dense)             (None, 64)                32832     \n",
            "                                                                 \n",
            " output_layer (Dense)        (None, 1)                 65        \n",
            "                                                                 \n",
            "=================================================================\n",
            "Total params: 256,830,721\n",
            "Trainable params: 32,897\n",
            "Non-trainable params: 256,797,824\n",
            "_________________________________________________________________\n"
          ]
        }
      ],
      "source": [
        "model_7.summary()"
      ]
    },
    {
      "cell_type": "code",
      "execution_count": 101,
      "metadata": {
        "id": "qMDwP2ppf3Xe",
        "outputId": "3a12257e-026e-42e1-d8e1-7e982fb28133",
        "colab": {
          "base_uri": "https://localhost:8080/"
        }
      },
      "outputs": [
        {
          "output_type": "stream",
          "name": "stdout",
          "text": [
            "Saving TensorBoard log files to: model_logs/model_7_USE_10_percent_correct_split/20220713-032808\n",
            "Epoch 1/5\n",
            "22/22 [==============================] - 3s 56ms/step - loss: 0.6754 - accuracy: 0.6672 - val_loss: 0.6517 - val_accuracy: 0.7388\n",
            "Epoch 2/5\n",
            "22/22 [==============================] - 1s 25ms/step - loss: 0.6057 - accuracy: 0.7971 - val_loss: 0.5918 - val_accuracy: 0.7612\n",
            "Epoch 3/5\n",
            "22/22 [==============================] - 1s 27ms/step - loss: 0.5262 - accuracy: 0.8161 - val_loss: 0.5349 - val_accuracy: 0.7769\n",
            "Epoch 4/5\n",
            "22/22 [==============================] - 1s 25ms/step - loss: 0.4629 - accuracy: 0.8292 - val_loss: 0.5036 - val_accuracy: 0.7743\n",
            "Epoch 5/5\n",
            "22/22 [==============================] - 0s 21ms/step - loss: 0.4209 - accuracy: 0.8365 - val_loss: 0.4889 - val_accuracy: 0.7717\n"
          ]
        },
        {
          "output_type": "execute_result",
          "data": {
            "text/plain": [
              "<keras.callbacks.History at 0x7fa93cb79b10>"
            ]
          },
          "metadata": {},
          "execution_count": 101
        }
      ],
      "source": [
        "model_7.fit(\n",
        "    train_sentences_10_percent,\n",
        "    train_labels_10_percent,\n",
        "    epochs=5,\n",
        "    validation_data=(val_sentences, val_labels),\n",
        "    callbacks=[create_tensorboard_callback(\n",
        "        SAVE_DIR,\n",
        "        \"model_7_USE_10_percent_correct_split\"\n",
        "    )]\n",
        ")"
      ]
    },
    {
      "cell_type": "code",
      "execution_count": 102,
      "metadata": {
        "id": "wu-o_Be2f3Xe",
        "outputId": "dde23a0d-1cc6-4f9f-a7f9-fbb759fc2e60",
        "colab": {
          "base_uri": "https://localhost:8080/"
        }
      },
      "outputs": [
        {
          "output_type": "execute_result",
          "data": {
            "text/plain": [
              "array([[0.23737235],\n",
              "       [0.5966334 ],\n",
              "       [0.9207804 ],\n",
              "       [0.33168226],\n",
              "       [0.5285479 ],\n",
              "       [0.7204244 ],\n",
              "       [0.894622  ],\n",
              "       [0.8407852 ],\n",
              "       [0.84164274],\n",
              "       [0.18183902]], dtype=float32)"
            ]
          },
          "metadata": {},
          "execution_count": 102
        }
      ],
      "source": [
        "model_7_pred_probs = model_7.predict(val_sentences)\n",
        "model_7_pred_probs[:10]"
      ]
    },
    {
      "cell_type": "code",
      "execution_count": 103,
      "metadata": {
        "id": "wmi_B_ptf3Xe",
        "outputId": "a0fcc5f7-b4ea-4ccb-cc47-f91975b990a1",
        "colab": {
          "base_uri": "https://localhost:8080/"
        }
      },
      "outputs": [
        {
          "output_type": "execute_result",
          "data": {
            "text/plain": [
              "<tf.Tensor: shape=(10,), dtype=float32, numpy=array([0., 1., 1., 0., 1., 1., 1., 1., 1., 0.], dtype=float32)>"
            ]
          },
          "metadata": {},
          "execution_count": 103
        }
      ],
      "source": [
        "model_7_preds = tf.squeeze(tf.round(model_7_pred_probs))\n",
        "model_7_preds[:10]"
      ]
    },
    {
      "cell_type": "code",
      "execution_count": 104,
      "metadata": {
        "id": "gx1kEOpGf3Xe",
        "outputId": "23e4b60c-3b54-43f8-fa8f-c10e58e26182",
        "colab": {
          "base_uri": "https://localhost:8080/"
        }
      },
      "outputs": [
        {
          "output_type": "execute_result",
          "data": {
            "text/plain": [
              "{'accuracy': 77.16535433070865,\n",
              " 'f1-score': 0.7702930138828643,\n",
              " 'precision': 0.7720646185150423,\n",
              " 'recall': 0.7716535433070866}"
            ]
          },
          "metadata": {},
          "execution_count": 104
        }
      ],
      "source": [
        "model_7_results = calculate_results(\n",
        "    y_true=val_labels,\n",
        "    y_pred=model_7_preds\n",
        ")\n",
        "model_7_results"
      ]
    },
    {
      "cell_type": "code",
      "execution_count": 105,
      "metadata": {
        "id": "RRd-ObGtf3Xe",
        "outputId": "8de4ad32-899b-495f-f95a-bbd303fb16fc",
        "colab": {
          "base_uri": "https://localhost:8080/"
        }
      },
      "outputs": [
        {
          "output_type": "execute_result",
          "data": {
            "text/plain": [
              "{'accuracy': 81.75853018372703,\n",
              " 'f1-score': 0.8168602489629228,\n",
              " 'precision': 0.8179238046805183,\n",
              " 'recall': 0.8175853018372703}"
            ]
          },
          "metadata": {},
          "execution_count": 105
        }
      ],
      "source": [
        "model_6_results"
      ]
    },
    {
      "cell_type": "code",
      "execution_count": 106,
      "metadata": {
        "id": "IiNQ_uFff3Xf",
        "outputId": "594d428b-62e6-46d5-ae6d-884d3f2196d1",
        "colab": {
          "base_uri": "https://localhost:8080/"
        }
      },
      "outputs": [
        {
          "output_type": "execute_result",
          "data": {
            "text/plain": [
              "{'accuracy': 79.26509186351706,\n",
              " 'f1-score': 0.7862189758049549,\n",
              " 'precision': 0.8111390004213173,\n",
              " 'recall': 0.7926509186351706}"
            ]
          },
          "metadata": {},
          "execution_count": 106
        }
      ],
      "source": [
        "baseline_results"
      ]
    },
    {
      "cell_type": "markdown",
      "metadata": {
        "id": "gHfWbwjff3Xf"
      },
      "source": [
        "## Compare the performance of each of our models"
      ]
    },
    {
      "cell_type": "code",
      "execution_count": 107,
      "metadata": {
        "id": "tZzwUT2Tf3Xf"
      },
      "outputs": [],
      "source": [
        "# Combine model results into a DataFrame\n",
        "all_model_results = pd.DataFrame({\n",
        "    \"baseline\": baseline_results,\n",
        "    \"1_simple_dense\": model_1_results,\n",
        "    \"2_LSTM\": model_2_results,\n",
        "    \"3_GRU\": model_3_results,\n",
        "    \"4_bidirectional\": model_4_results,\n",
        "    \"5_conv1D\": model_5_results,\n",
        "    \"6_tf_hub_USE\": model_6_results,\n",
        "    \"7_tf_hub_USE_10_perc\": model_7_results    \n",
        "})\n",
        "all_model_results = all_model_results.transpose()"
      ]
    },
    {
      "cell_type": "code",
      "execution_count": 108,
      "metadata": {
        "id": "a0NtEr4sf3Xf",
        "outputId": "de6527e9-b796-4d81-c968-cfa94647fa8e",
        "colab": {
          "base_uri": "https://localhost:8080/",
          "height": 382
        }
      },
      "outputs": [
        {
          "output_type": "execute_result",
          "data": {
            "text/plain": [
              "                      accuracy  precision    recall  f1-score\n",
              "baseline              0.792651   0.811139  0.792651  0.786219\n",
              "1_simple_dense        0.783465   0.788429  0.783465  0.780344\n",
              "2_LSTM                0.772966   0.773845  0.772966  0.771334\n",
              "3_GRU                 0.775591   0.779044  0.775591  0.772808\n",
              "4_bidirectional       0.770341   0.773259  0.770341  0.767641\n",
              "5_conv1D              0.758530   0.758201  0.758530  0.758282\n",
              "6_tf_hub_USE          0.817585   0.817924  0.817585  0.816860\n",
              "7_tf_hub_USE_10_perc  0.771654   0.772065  0.771654  0.770293"
            ],
            "text/html": [
              "\n",
              "  <div id=\"df-bdcfaebc-35a6-46f0-a776-63ffc65e15c1\">\n",
              "    <div class=\"colab-df-container\">\n",
              "      <div>\n",
              "<style scoped>\n",
              "    .dataframe tbody tr th:only-of-type {\n",
              "        vertical-align: middle;\n",
              "    }\n",
              "\n",
              "    .dataframe tbody tr th {\n",
              "        vertical-align: top;\n",
              "    }\n",
              "\n",
              "    .dataframe thead th {\n",
              "        text-align: right;\n",
              "    }\n",
              "</style>\n",
              "<table border=\"1\" class=\"dataframe\">\n",
              "  <thead>\n",
              "    <tr style=\"text-align: right;\">\n",
              "      <th></th>\n",
              "      <th>accuracy</th>\n",
              "      <th>precision</th>\n",
              "      <th>recall</th>\n",
              "      <th>f1-score</th>\n",
              "    </tr>\n",
              "  </thead>\n",
              "  <tbody>\n",
              "    <tr>\n",
              "      <th>baseline</th>\n",
              "      <td>0.792651</td>\n",
              "      <td>0.811139</td>\n",
              "      <td>0.792651</td>\n",
              "      <td>0.786219</td>\n",
              "    </tr>\n",
              "    <tr>\n",
              "      <th>1_simple_dense</th>\n",
              "      <td>0.783465</td>\n",
              "      <td>0.788429</td>\n",
              "      <td>0.783465</td>\n",
              "      <td>0.780344</td>\n",
              "    </tr>\n",
              "    <tr>\n",
              "      <th>2_LSTM</th>\n",
              "      <td>0.772966</td>\n",
              "      <td>0.773845</td>\n",
              "      <td>0.772966</td>\n",
              "      <td>0.771334</td>\n",
              "    </tr>\n",
              "    <tr>\n",
              "      <th>3_GRU</th>\n",
              "      <td>0.775591</td>\n",
              "      <td>0.779044</td>\n",
              "      <td>0.775591</td>\n",
              "      <td>0.772808</td>\n",
              "    </tr>\n",
              "    <tr>\n",
              "      <th>4_bidirectional</th>\n",
              "      <td>0.770341</td>\n",
              "      <td>0.773259</td>\n",
              "      <td>0.770341</td>\n",
              "      <td>0.767641</td>\n",
              "    </tr>\n",
              "    <tr>\n",
              "      <th>5_conv1D</th>\n",
              "      <td>0.758530</td>\n",
              "      <td>0.758201</td>\n",
              "      <td>0.758530</td>\n",
              "      <td>0.758282</td>\n",
              "    </tr>\n",
              "    <tr>\n",
              "      <th>6_tf_hub_USE</th>\n",
              "      <td>0.817585</td>\n",
              "      <td>0.817924</td>\n",
              "      <td>0.817585</td>\n",
              "      <td>0.816860</td>\n",
              "    </tr>\n",
              "    <tr>\n",
              "      <th>7_tf_hub_USE_10_perc</th>\n",
              "      <td>0.771654</td>\n",
              "      <td>0.772065</td>\n",
              "      <td>0.771654</td>\n",
              "      <td>0.770293</td>\n",
              "    </tr>\n",
              "  </tbody>\n",
              "</table>\n",
              "</div>\n",
              "      <button class=\"colab-df-convert\" onclick=\"convertToInteractive('df-bdcfaebc-35a6-46f0-a776-63ffc65e15c1')\"\n",
              "              title=\"Convert this dataframe to an interactive table.\"\n",
              "              style=\"display:none;\">\n",
              "        \n",
              "  <svg xmlns=\"http://www.w3.org/2000/svg\" height=\"24px\"viewBox=\"0 0 24 24\"\n",
              "       width=\"24px\">\n",
              "    <path d=\"M0 0h24v24H0V0z\" fill=\"none\"/>\n",
              "    <path d=\"M18.56 5.44l.94 2.06.94-2.06 2.06-.94-2.06-.94-.94-2.06-.94 2.06-2.06.94zm-11 1L8.5 8.5l.94-2.06 2.06-.94-2.06-.94L8.5 2.5l-.94 2.06-2.06.94zm10 10l.94 2.06.94-2.06 2.06-.94-2.06-.94-.94-2.06-.94 2.06-2.06.94z\"/><path d=\"M17.41 7.96l-1.37-1.37c-.4-.4-.92-.59-1.43-.59-.52 0-1.04.2-1.43.59L10.3 9.45l-7.72 7.72c-.78.78-.78 2.05 0 2.83L4 21.41c.39.39.9.59 1.41.59.51 0 1.02-.2 1.41-.59l7.78-7.78 2.81-2.81c.8-.78.8-2.07 0-2.86zM5.41 20L4 18.59l7.72-7.72 1.47 1.35L5.41 20z\"/>\n",
              "  </svg>\n",
              "      </button>\n",
              "      \n",
              "  <style>\n",
              "    .colab-df-container {\n",
              "      display:flex;\n",
              "      flex-wrap:wrap;\n",
              "      gap: 12px;\n",
              "    }\n",
              "\n",
              "    .colab-df-convert {\n",
              "      background-color: #E8F0FE;\n",
              "      border: none;\n",
              "      border-radius: 50%;\n",
              "      cursor: pointer;\n",
              "      display: none;\n",
              "      fill: #1967D2;\n",
              "      height: 32px;\n",
              "      padding: 0 0 0 0;\n",
              "      width: 32px;\n",
              "    }\n",
              "\n",
              "    .colab-df-convert:hover {\n",
              "      background-color: #E2EBFA;\n",
              "      box-shadow: 0px 1px 2px rgba(60, 64, 67, 0.3), 0px 1px 3px 1px rgba(60, 64, 67, 0.15);\n",
              "      fill: #174EA6;\n",
              "    }\n",
              "\n",
              "    [theme=dark] .colab-df-convert {\n",
              "      background-color: #3B4455;\n",
              "      fill: #D2E3FC;\n",
              "    }\n",
              "\n",
              "    [theme=dark] .colab-df-convert:hover {\n",
              "      background-color: #434B5C;\n",
              "      box-shadow: 0px 1px 3px 1px rgba(0, 0, 0, 0.15);\n",
              "      filter: drop-shadow(0px 1px 2px rgba(0, 0, 0, 0.3));\n",
              "      fill: #FFFFFF;\n",
              "    }\n",
              "  </style>\n",
              "\n",
              "      <script>\n",
              "        const buttonEl =\n",
              "          document.querySelector('#df-bdcfaebc-35a6-46f0-a776-63ffc65e15c1 button.colab-df-convert');\n",
              "        buttonEl.style.display =\n",
              "          google.colab.kernel.accessAllowed ? 'block' : 'none';\n",
              "\n",
              "        async function convertToInteractive(key) {\n",
              "          const element = document.querySelector('#df-bdcfaebc-35a6-46f0-a776-63ffc65e15c1');\n",
              "          const dataTable =\n",
              "            await google.colab.kernel.invokeFunction('convertToInteractive',\n",
              "                                                     [key], {});\n",
              "          if (!dataTable) return;\n",
              "\n",
              "          const docLinkHtml = 'Like what you see? Visit the ' +\n",
              "            '<a target=\"_blank\" href=https://colab.research.google.com/notebooks/data_table.ipynb>data table notebook</a>'\n",
              "            + ' to learn more about interactive tables.';\n",
              "          element.innerHTML = '';\n",
              "          dataTable['output_type'] = 'display_data';\n",
              "          await google.colab.output.renderOutput(dataTable, element);\n",
              "          const docLink = document.createElement('div');\n",
              "          docLink.innerHTML = docLinkHtml;\n",
              "          element.appendChild(docLink);\n",
              "        }\n",
              "      </script>\n",
              "    </div>\n",
              "  </div>\n",
              "  "
            ]
          },
          "metadata": {},
          "execution_count": 108
        }
      ],
      "source": [
        "# Reduce the accuracyas the same scale as other metrics\n",
        "all_model_results[\"accuracy\"] = all_model_results[\"accuracy\"]/100\n",
        "all_model_results"
      ]
    },
    {
      "cell_type": "code",
      "execution_count": 109,
      "metadata": {
        "id": "Y2e9cCGwf3Xf",
        "outputId": "0d57abcb-9440-4c66-fdc5-9aadd437848f",
        "colab": {
          "base_uri": "https://localhost:8080/",
          "height": 108
        }
      },
      "outputs": [
        {
          "output_type": "execute_result",
          "data": {
            "text/plain": [
              "<matplotlib.legend.Legend at 0x7fa9af1fa3d0>"
            ]
          },
          "metadata": {},
          "execution_count": 109
        },
        {
          "output_type": "display_data",
          "data": {
            "text/plain": [
              "<Figure size 720x504 with 1 Axes>"
            ],
            "image/png": "[encoded data removed]"
          },
          "metadata": {
            "needs_background": "light"
          }
        }
      ],
      "source": [
        "# Plot and compare all of the model results\n",
        "all_model_results.plot(\n",
        "    kind=\"bar\", \n",
        "    figsize=(10,7)\n",
        ").legend(bbox_to_anchor=(1.0, 1.0))\n"
      ]
    },
    {
      "cell_type": "code",
      "execution_count": 110,
      "metadata": {
        "id": "7dOgOdeVf3Xg",
        "outputId": "d9fef2ff-4891-4b04-f9bf-42ce8bbd2b0a",
        "colab": {
          "base_uri": "https://localhost:8080/",
          "height": 108
        }
      },
      "outputs": [
        {
          "output_type": "execute_result",
          "data": {
            "text/plain": [
              "<matplotlib.axes._subplots.AxesSubplot at 0x7fa93c243910>"
            ]
          },
          "metadata": {},
          "execution_count": 110
        },
        {
          "output_type": "display_data",
          "data": {
            "text/plain": [
              "<Figure size 720x504 with 1 Axes>"
            ],
            "image/png": "[encoded data removed]"
          },
          "metadata": {
            "needs_background": "light"
          }
        }
      ],
      "source": [
        "# Sort model results by f1-score\n",
        "all_model_results.sort_values(\"f1-score\", ascending=False)[\"f1-score\"].plot(kind=\"bar\", figsize=(10, 7))"
      ]
    },
    {
      "cell_type": "markdown",
      "metadata": {
        "id": "RCGxbp-ff3Xg"
      },
      "source": [
        "## Uploading our model training logs to TensorBoard.dev\n",
        "\n",
        "We can further inspect our model's performance using TensorBoard.dev: https://tensordboard.dev"
      ]
    },
    {
      "cell_type": "code",
      "execution_count": 111,
      "metadata": {
        "id": "GU-Gq0URf3Xg"
      },
      "outputs": [],
      "source": [
        "#%reload_ext tensorboard\n",
        "#!tensorboard --logdir ./model_logs/"
      ]
    },
    {
      "cell_type": "markdown",
      "metadata": {
        "id": "pNTIbcqUf3Xg"
      },
      "source": [
        "http://localhost:6006/"
      ]
    },
    {
      "cell_type": "markdown",
      "metadata": {
        "id": "spyer2jzf3Xg"
      },
      "source": [
        "## Saving and loading a trained model\n",
        "\n",
        "There are two main formats to save a model to in TensorFlow:\n",
        "1. HDF5 format\n",
        "2. `SavedModel` format (this is the default when using TensorFlow)"
      ]
    },
    {
      "cell_type": "code",
      "execution_count": 112,
      "metadata": {
        "id": "h1Qv_Impf3Xg"
      },
      "outputs": [],
      "source": [
        "# Save TF Hub Sentence Encoder model to HDF5 format\n",
        "model_6.save('model_6.h5')"
      ]
    },
    {
      "cell_type": "markdown",
      "metadata": {
        "id": "QzjiQlGcf3Xg"
      },
      "source": [
        "> 🔑 **Note:** If loading doesn't work because of OOM, restart kernel and start from here. You also need to import the data again (above)."
      ]
    },
    {
      "cell_type": "code",
      "execution_count": 113,
      "metadata": {
        "id": "5x8GaqRjf3Xg"
      },
      "outputs": [],
      "source": [
        "# Load model with custom Hab Layer (required HDF5 format)\n",
        "loaded_model_6 = tf.keras.models.load_model(\n",
        "    \"model_6.h5\",\n",
        "    custom_objects={\"KerasLayer\": hub.KerasLayer}\n",
        ")"
      ]
    },
    {
      "cell_type": "code",
      "source": [
        "loaded_model_6.evaluate(\n",
        "    val_sentences,\n",
        "    val_labels\n",
        ")"
      ],
      "metadata": {
        "id": "KQB4BzSXphB6",
        "outputId": "59aa98e4-2fab-49b1-86c9-fb3415d7d4bb",
        "colab": {
          "base_uri": "https://localhost:8080/"
        }
      },
      "execution_count": 117,
      "outputs": [
        {
          "output_type": "stream",
          "name": "stdout",
          "text": [
            "24/24 [==============================] - 1s 21ms/step - loss: 0.4269 - accuracy: 0.8176\n"
          ]
        },
        {
          "output_type": "execute_result",
          "data": {
            "text/plain": [
              "[0.426946759223938, 0.817585289478302]"
            ]
          },
          "metadata": {},
          "execution_count": 117
        }
      ]
    },
    {
      "cell_type": "markdown",
      "source": [
        "How let's save to the `SavedModel` format ... (see more on this here: https://www.tensorflow.org/tutorials/keras/save_and_load) "
      ],
      "metadata": {
        "id": "rhtgARXFpDBJ"
      }
    },
    {
      "cell_type": "code",
      "execution_count": 115,
      "metadata": {
        "id": "59rpwP_ef3Xh",
        "outputId": "fdaad818-e89d-4d85-db8c-f8b66173f69a",
        "colab": {
          "base_uri": "https://localhost:8080/"
        }
      },
      "outputs": [
        {
          "output_type": "stream",
          "name": "stderr",
          "text": [
            "WARNING:absl:Function `_wrapped_model` contains input name(s) USE_input with unsupported characters which will be renamed to use_input in the SavedModel.\n"
          ]
        },
        {
          "output_type": "stream",
          "name": "stdout",
          "text": [
            "INFO:tensorflow:Assets written to: model_6_SavedModel_format/assets\n"
          ]
        },
        {
          "output_type": "stream",
          "name": "stderr",
          "text": [
            "INFO:tensorflow:Assets written to: model_6_SavedModel_format/assets\n"
          ]
        }
      ],
      "source": [
        "# Save TF HUb Sentence Encoder Model to SavedMdel format (default)\n",
        "model_6.save(\"model_6_SavedModel_format\")"
      ]
    },
    {
      "cell_type": "code",
      "execution_count": 116,
      "metadata": {
        "id": "5zlRZvjZf3Xh"
      },
      "outputs": [],
      "source": [
        "# Load in a model from the SaveModel format\n",
        "loaded_model_6_SavedModel_format = tf.keras.models.load_model(\"model_6_SavedModel_format\")"
      ]
    },
    {
      "cell_type": "code",
      "source": [
        "loaded_model_6_SavedModel_format.evaluate(\n",
        "    val_sentences,\n",
        "    val_labels\n",
        ")"
      ],
      "metadata": {
        "id": "CT9cEOxEpdxB",
        "outputId": "32a753fe-a237-4c91-c7c0-32fe1f42f704",
        "colab": {
          "base_uri": "https://localhost:8080/"
        }
      },
      "execution_count": 118,
      "outputs": [
        {
          "output_type": "stream",
          "name": "stdout",
          "text": [
            "24/24 [==============================] - 1s 19ms/step - loss: 0.4269 - accuracy: 0.8176\n"
          ]
        },
        {
          "output_type": "execute_result",
          "data": {
            "text/plain": [
              "[0.426946759223938, 0.817585289478302]"
            ]
          },
          "metadata": {},
          "execution_count": 118
        }
      ]
    },
    {
      "cell_type": "markdown",
      "source": [
        "## Finding the most wrong examples\n",
        "\n",
        "* If our best model still isn't perfect, what examples is it getting wrong?\n",
        "* And if these wrong examples which ones is it getteing *most* wrong (those will prediction prediction probabilities cloeses to opposite class)\n",
        "\n",
        "For example if a sample should have a label of 0 but our model predicts a prediction probability of 0.999 (close to 1) and vise versa."
      ],
      "metadata": {
        "id": "oRjI87J6qF88"
      }
    },
    {
      "cell_type": "code",
      "source": [
        "# Download a pretrained model from google storage\n",
        "!wget https://storage.googleapis.com/ztm_tf_course/08_model_6_USE_feature_extractor.zip\n",
        "unzip_data(\"08_model_6_USE_feature_extractor.zip\")"
      ],
      "metadata": {
        "id": "QrPF6Q2ZrAFv",
        "outputId": "7601606f-5e0e-4928-ea8f-d700722a7e50",
        "colab": {
          "base_uri": "https://localhost:8080/"
        }
      },
      "execution_count": 119,
      "outputs": [
        {
          "output_type": "stream",
          "name": "stdout",
          "text": [
            "--2022-07-13 03:49:14--  https://storage.googleapis.com/ztm_tf_course/08_model_6_USE_feature_extractor.zip\n",
            "Resolving storage.googleapis.com (storage.googleapis.com)... 172.253.62.128, 172.253.115.128, 172.253.122.128, ...\n",
            "Connecting to storage.googleapis.com (storage.googleapis.com)|172.253.62.128|:443... connected.\n",
            "HTTP request sent, awaiting response... 200 OK\n",
            "Length: 960779165 (916M) [application/zip]\n",
            "Saving to: ‘08_model_6_USE_feature_extractor.zip’\n",
            "\n",
            "08_model_6_USE_feat 100%[===================>] 916.27M   171MB/s    in 5.6s    \n",
            "\n",
            "2022-07-13 03:49:20 (163 MB/s) - ‘08_model_6_USE_feature_extractor.zip’ saved [960779165/960779165]\n",
            "\n"
          ]
        }
      ]
    },
    {
      "cell_type": "code",
      "source": [
        "# Import pretrained model\n",
        "model_6_pretrained = tf.keras.models.load_model(\"08_model_6_USE_feature_extractor\")\n",
        "model_6_pretrained.evaluate(\n",
        "    val_sentences,\n",
        "    val_labels\n",
        ")"
      ],
      "metadata": {
        "id": "AjafPFVMprKv",
        "outputId": "df04d246-f6d8-4850-99f9-2bc0ed3869cd",
        "colab": {
          "base_uri": "https://localhost:8080/"
        }
      },
      "execution_count": 122,
      "outputs": [
        {
          "output_type": "stream",
          "name": "stdout",
          "text": [
            "WARNING:tensorflow:SavedModel saved prior to TF 2.5 detected when loading Keras model. Please ensure that you are saving the model with model.save() or tf.keras.models.save_model(), *NOT* tf.saved_model.save(). To confirm, there should be a file named \"keras_metadata.pb\" in the SavedModel directory.\n"
          ]
        },
        {
          "output_type": "stream",
          "name": "stderr",
          "text": [
            "WARNING:tensorflow:SavedModel saved prior to TF 2.5 detected when loading Keras model. Please ensure that you are saving the model with model.save() or tf.keras.models.save_model(), *NOT* tf.saved_model.save(). To confirm, there should be a file named \"keras_metadata.pb\" in the SavedModel directory.\n"
          ]
        },
        {
          "output_type": "stream",
          "name": "stdout",
          "text": [
            "24/24 [==============================] - 1s 11ms/step - loss: 0.4272 - accuracy: 0.8163\n"
          ]
        },
        {
          "output_type": "execute_result",
          "data": {
            "text/plain": [
              "[0.42723122239112854, 0.8162729740142822]"
            ]
          },
          "metadata": {},
          "execution_count": 122
        }
      ]
    },
    {
      "cell_type": "code",
      "source": [
        "# Make predictions with the loaded model from GS\n",
        "model_6_pretrained_pred_probs = model_6_pretrained.predict(val_sentences)\n",
        "model_6_pretrained_preds = tf.squeeze(tf.round(model_6_pretrained_pred_probs))\n",
        "model_6_pretrained_preds[:10]"
      ],
      "metadata": {
        "id": "xt9OBhXbsWMP",
        "outputId": "8c637e28-d297-463d-aa24-4cf21c9a7a2e",
        "colab": {
          "base_uri": "https://localhost:8080/"
        }
      },
      "execution_count": 123,
      "outputs": [
        {
          "output_type": "execute_result",
          "data": {
            "text/plain": [
              "<tf.Tensor: shape=(10,), dtype=float32, numpy=array([0., 1., 1., 0., 1., 1., 1., 1., 1., 0.], dtype=float32)>"
            ]
          },
          "metadata": {},
          "execution_count": 123
        }
      ]
    },
    {
      "cell_type": "code",
      "source": [
        "# Create DataFrame with validation sentences, validation labes and best performing model predictions +\n",
        "val_df = pd.DataFrame({\n",
        "    \"text\": val_sentences,\n",
        "    \"target\": val_labels,\n",
        "    \"pred\": model_6_pretrained_preds,\n",
        "    \"pred_prob\": tf.squeeze(model_6_pretrained_pred_probs)\n",
        "})\n",
        "val_df.head()"
      ],
      "metadata": {
        "id": "feqhGkKzrnHR",
        "outputId": "8c3f95da-5114-4837-95b7-4888f3df3fd2",
        "colab": {
          "base_uri": "https://localhost:8080/",
          "height": 206
        }
      },
      "execution_count": 129,
      "outputs": [
        {
          "output_type": "execute_result",
          "data": {
            "text/plain": [
              "                                                text  target  pred  pred_prob\n",
              "0  DFR EP016 Monthly Meltdown - On Dnbheaven 2015...       0   0.0   0.159757\n",
              "1  FedEx no longer to transport bioterror germs i...       0   1.0   0.747162\n",
              "2  Gunmen kill four in El Salvador bus attack: Su...       1   1.0   0.988749\n",
              "3  @camilacabello97 Internally and externally scr...       1   0.0   0.196229\n",
              "4  Radiation emergency #preparedness starts with ...       1   1.0   0.707808"
            ],
            "text/html": [
              "\n",
              "  <div id=\"df-dbc45414-9049-49af-ae48-4e37dd78dbad\">\n",
              "    <div class=\"colab-df-container\">\n",
              "      <div>\n",
              "<style scoped>\n",
              "    .dataframe tbody tr th:only-of-type {\n",
              "        vertical-align: middle;\n",
              "    }\n",
              "\n",
              "    .dataframe tbody tr th {\n",
              "        vertical-align: top;\n",
              "    }\n",
              "\n",
              "    .dataframe thead th {\n",
              "        text-align: right;\n",
              "    }\n",
              "</style>\n",
              "<table border=\"1\" class=\"dataframe\">\n",
              "  <thead>\n",
              "    <tr style=\"text-align: right;\">\n",
              "      <th></th>\n",
              "      <th>text</th>\n",
              "      <th>target</th>\n",
              "      <th>pred</th>\n",
              "      <th>pred_prob</th>\n",
              "    </tr>\n",
              "  </thead>\n",
              "  <tbody>\n",
              "    <tr>\n",
              "      <th>0</th>\n",
              "      <td>DFR EP016 Monthly Meltdown - On Dnbheaven 2015...</td>\n",
              "      <td>0</td>\n",
              "      <td>0.0</td>\n",
              "      <td>0.159757</td>\n",
              "    </tr>\n",
              "    <tr>\n",
              "      <th>1</th>\n",
              "      <td>FedEx no longer to transport bioterror germs i...</td>\n",
              "      <td>0</td>\n",
              "      <td>1.0</td>\n",
              "      <td>0.747162</td>\n",
              "    </tr>\n",
              "    <tr>\n",
              "      <th>2</th>\n",
              "      <td>Gunmen kill four in El Salvador bus attack: Su...</td>\n",
              "      <td>1</td>\n",
              "      <td>1.0</td>\n",
              "      <td>0.988749</td>\n",
              "    </tr>\n",
              "    <tr>\n",
              "      <th>3</th>\n",
              "      <td>@camilacabello97 Internally and externally scr...</td>\n",
              "      <td>1</td>\n",
              "      <td>0.0</td>\n",
              "      <td>0.196229</td>\n",
              "    </tr>\n",
              "    <tr>\n",
              "      <th>4</th>\n",
              "      <td>Radiation emergency #preparedness starts with ...</td>\n",
              "      <td>1</td>\n",
              "      <td>1.0</td>\n",
              "      <td>0.707808</td>\n",
              "    </tr>\n",
              "  </tbody>\n",
              "</table>\n",
              "</div>\n",
              "      <button class=\"colab-df-convert\" onclick=\"convertToInteractive('df-dbc45414-9049-49af-ae48-4e37dd78dbad')\"\n",
              "              title=\"Convert this dataframe to an interactive table.\"\n",
              "              style=\"display:none;\">\n",
              "        \n",
              "  <svg xmlns=\"http://www.w3.org/2000/svg\" height=\"24px\"viewBox=\"0 0 24 24\"\n",
              "       width=\"24px\">\n",
              "    <path d=\"M0 0h24v24H0V0z\" fill=\"none\"/>\n",
              "    <path d=\"M18.56 5.44l.94 2.06.94-2.06 2.06-.94-2.06-.94-.94-2.06-.94 2.06-2.06.94zm-11 1L8.5 8.5l.94-2.06 2.06-.94-2.06-.94L8.5 2.5l-.94 2.06-2.06.94zm10 10l.94 2.06.94-2.06 2.06-.94-2.06-.94-.94-2.06-.94 2.06-2.06.94z\"/><path d=\"M17.41 7.96l-1.37-1.37c-.4-.4-.92-.59-1.43-.59-.52 0-1.04.2-1.43.59L10.3 9.45l-7.72 7.72c-.78.78-.78 2.05 0 2.83L4 21.41c.39.39.9.59 1.41.59.51 0 1.02-.2 1.41-.59l7.78-7.78 2.81-2.81c.8-.78.8-2.07 0-2.86zM5.41 20L4 18.59l7.72-7.72 1.47 1.35L5.41 20z\"/>\n",
              "  </svg>\n",
              "      </button>\n",
              "      \n",
              "  <style>\n",
              "    .colab-df-container {\n",
              "      display:flex;\n",
              "      flex-wrap:wrap;\n",
              "      gap: 12px;\n",
              "    }\n",
              "\n",
              "    .colab-df-convert {\n",
              "      background-color: #E8F0FE;\n",
              "      border: none;\n",
              "      border-radius: 50%;\n",
              "      cursor: pointer;\n",
              "      display: none;\n",
              "      fill: #1967D2;\n",
              "      height: 32px;\n",
              "      padding: 0 0 0 0;\n",
              "      width: 32px;\n",
              "    }\n",
              "\n",
              "    .colab-df-convert:hover {\n",
              "      background-color: #E2EBFA;\n",
              "      box-shadow: 0px 1px 2px rgba(60, 64, 67, 0.3), 0px 1px 3px 1px rgba(60, 64, 67, 0.15);\n",
              "      fill: #174EA6;\n",
              "    }\n",
              "\n",
              "    [theme=dark] .colab-df-convert {\n",
              "      background-color: #3B4455;\n",
              "      fill: #D2E3FC;\n",
              "    }\n",
              "\n",
              "    [theme=dark] .colab-df-convert:hover {\n",
              "      background-color: #434B5C;\n",
              "      box-shadow: 0px 1px 3px 1px rgba(0, 0, 0, 0.15);\n",
              "      filter: drop-shadow(0px 1px 2px rgba(0, 0, 0, 0.3));\n",
              "      fill: #FFFFFF;\n",
              "    }\n",
              "  </style>\n",
              "\n",
              "      <script>\n",
              "        const buttonEl =\n",
              "          document.querySelector('#df-dbc45414-9049-49af-ae48-4e37dd78dbad button.colab-df-convert');\n",
              "        buttonEl.style.display =\n",
              "          google.colab.kernel.accessAllowed ? 'block' : 'none';\n",
              "\n",
              "        async function convertToInteractive(key) {\n",
              "          const element = document.querySelector('#df-dbc45414-9049-49af-ae48-4e37dd78dbad');\n",
              "          const dataTable =\n",
              "            await google.colab.kernel.invokeFunction('convertToInteractive',\n",
              "                                                     [key], {});\n",
              "          if (!dataTable) return;\n",
              "\n",
              "          const docLinkHtml = 'Like what you see? Visit the ' +\n",
              "            '<a target=\"_blank\" href=https://colab.research.google.com/notebooks/data_table.ipynb>data table notebook</a>'\n",
              "            + ' to learn more about interactive tables.';\n",
              "          element.innerHTML = '';\n",
              "          dataTable['output_type'] = 'display_data';\n",
              "          await google.colab.output.renderOutput(dataTable, element);\n",
              "          const docLink = document.createElement('div');\n",
              "          docLink.innerHTML = docLinkHtml;\n",
              "          element.appendChild(docLink);\n",
              "        }\n",
              "      </script>\n",
              "    </div>\n",
              "  </div>\n",
              "  "
            ]
          },
          "metadata": {},
          "execution_count": 129
        }
      ]
    },
    {
      "cell_type": "code",
      "source": [
        "# Find the wrong predictions and sort by prediction probabilities\n",
        "most_wrong = val_df[val_df[\"target\"] != val_df[\"pred\"]].sort_values(\"pred_prob\", ascending=False)\n",
        "most_wrong[:10], most_wrong[-10:]"
      ],
      "metadata": {
        "id": "6GmVkNMhs-Z5",
        "outputId": "d62d2a52-5245-4386-f07d-06f2f1f7f70a",
        "colab": {
          "base_uri": "https://localhost:8080/"
        }
      },
      "execution_count": 134,
      "outputs": [
        {
          "output_type": "execute_result",
          "data": {
            "text/plain": [
              "(                                                  text  target  pred  \\\n",
              " 31   ? High Skies - Burning Buildings ? http://t.co...       0   1.0   \n",
              " 759  FedEx will no longer transport bioterror patho...       0   1.0   \n",
              " 628  @noah_anyname That's where the concentration c...       0   1.0   \n",
              " 209  Ashes 2015: AustraliaÛªs collapse at Trent Br...       0   1.0   \n",
              " 251  @AshGhebranious civil rights continued in the ...       0   1.0   \n",
              " 393  @SonofLiberty357 all illuminated by the bright...       0   1.0   \n",
              " 109  [55436] 1950 LIONEL TRAINS SMOKE LOCOMOTIVES W...       0   1.0   \n",
              " 49   @madonnamking RSPCA site multiple 7 story high...       0   1.0   \n",
              " 119  @freefromwolves GodsLove &amp; #thankU brother...       0   1.0   \n",
              " 344  Air Group is here to the rescue! We have 24/7 ...       0   1.0   \n",
              " \n",
              "      pred_prob  \n",
              " 31    0.910196  \n",
              " 759   0.876982  \n",
              " 628   0.852300  \n",
              " 209   0.835454  \n",
              " 251   0.827213  \n",
              " 393   0.814816  \n",
              " 109   0.810840  \n",
              " 49    0.803122  \n",
              " 119   0.766901  \n",
              " 344   0.766625  ,\n",
              "                                                   text  target  pred  \\\n",
              " 536      @DavidVonderhaar At least you were sincere ??       1   0.0   \n",
              " 408  @willienelson We need help! Horses will die!Pl...       1   0.0   \n",
              " 294  Lucas Duda is Ghost Rider. Not the Nic Cage ve...       1   0.0   \n",
              " 221  going to redo my nails and watch behind the sc...       1   0.0   \n",
              " 59   You can never escape me. Bullets don't harm me...       1   0.0   \n",
              " 411  @SoonerMagic_ I mean I'm a fan but I don't nee...       1   0.0   \n",
              " 233                    I get to smoke my shit in peace       1   0.0   \n",
              " 38   Why are you deluged with low self-image? Take ...       1   0.0   \n",
              " 244  Reddit Will Now QuarantineÛ_ http://t.co/pkUA...       1   0.0   \n",
              " 23   Ron &amp; Fez - Dave's High School Crush https...       1   0.0   \n",
              " \n",
              "      pred_prob  \n",
              " 536   0.067303  \n",
              " 408   0.055076  \n",
              " 294   0.054603  \n",
              " 221   0.054597  \n",
              " 59    0.049637  \n",
              " 411   0.043918  \n",
              " 233   0.042087  \n",
              " 38    0.038998  \n",
              " 244   0.038949  \n",
              " 23    0.037186  )"
            ]
          },
          "metadata": {},
          "execution_count": 134
        }
      ]
    },
    {
      "cell_type": "markdown",
      "source": [
        "Let's remind ourselves of the target labels...\n",
        "* 0 = no disaster\n",
        "* 1 = disaster"
      ],
      "metadata": {
        "id": "kYqwGijkt6M_"
      }
    },
    {
      "cell_type": "code",
      "source": [
        "# Check the false positives (model predicted 1, when should have been 0)\n",
        "for row in most_wrong[:10].itertuples():\n",
        "  _, text, target, pred, pred_prob = row\n",
        "  print(f\"Target: {target}, Pred: {pred}, Prob {pred_prob}\")\n",
        "  print(f\"Text:\\n{text}\\n\")\n",
        "  print(\"---\\n\")"
      ],
      "metadata": {
        "id": "VdK_msx1tysa",
        "outputId": "52538016-4a6b-4a5c-e016-d25c27bd4a0b",
        "colab": {
          "base_uri": "https://localhost:8080/"
        }
      },
      "execution_count": 136,
      "outputs": [
        {
          "output_type": "stream",
          "name": "stdout",
          "text": [
            "Target: 0, Pred: 1.0, Prob 0.9101957678794861\n",
            "Text:\n",
            "? High Skies - Burning Buildings ? http://t.co/uVq41i3Kx2 #nowplaying\n",
            "\n",
            "---\n",
            "\n",
            "Target: 0, Pred: 1.0, Prob 0.8769820928573608\n",
            "Text:\n",
            "FedEx will no longer transport bioterror pathogens in wake of anthrax lab mishaps http://t.co/lHpgxc4b8J\n",
            "\n",
            "---\n",
            "\n",
            "Target: 0, Pred: 1.0, Prob 0.8523001074790955\n",
            "Text:\n",
            "@noah_anyname That's where the concentration camps and mass murder come in. \n",
            " \n",
            "EVERY. FUCKING. TIME.\n",
            "\n",
            "---\n",
            "\n",
            "Target: 0, Pred: 1.0, Prob 0.8354544639587402\n",
            "Text:\n",
            "Ashes 2015: AustraliaÛªs collapse at Trent Bridge among worst in history: England bundled out Australia for 60 ... http://t.co/t5TrhjUAU0\n",
            "\n",
            "---\n",
            "\n",
            "Target: 0, Pred: 1.0, Prob 0.8272132873535156\n",
            "Text:\n",
            "@AshGhebranious civil rights continued in the 60s. And what about trans-generational trauma? if anything we should listen to the Americans.\n",
            "\n",
            "---\n",
            "\n",
            "Target: 0, Pred: 1.0, Prob 0.8148158192634583\n",
            "Text:\n",
            "@SonofLiberty357 all illuminated by the brightly burning buildings all around the town!\n",
            "\n",
            "---\n",
            "\n",
            "Target: 0, Pred: 1.0, Prob 0.8108397126197815\n",
            "Text:\n",
            "[55436] 1950 LIONEL TRAINS SMOKE LOCOMOTIVES WITH MAGNE-TRACTION INSTRUCTIONS http://t.co/xEZBs3sq0y http://t.co/C2x0QoKGlY\n",
            "\n",
            "---\n",
            "\n",
            "Target: 0, Pred: 1.0, Prob 0.8031217455863953\n",
            "Text:\n",
            "@madonnamking RSPCA site multiple 7 story high rise buildings next to low density character residential in an area that floods\n",
            "\n",
            "---\n",
            "\n",
            "Target: 0, Pred: 1.0, Prob 0.7669008374214172\n",
            "Text:\n",
            "@freefromwolves GodsLove &amp; #thankU brother Danny for RT of NEW VIDEO http://t.co/cybKsXHF7d The Coming Apocalyptic US Earthquake &amp; Tsunami\n",
            "\n",
            "---\n",
            "\n",
            "Target: 0, Pred: 1.0, Prob 0.7666252851486206\n",
            "Text:\n",
            "Air Group is here to the rescue! We have 24/7 Emergency Service! Learn more about it here - http://t.co/9lyx7zMtHE http://t.co/5PbC96rTMJ\n",
            "\n",
            "---\n",
            "\n"
          ]
        }
      ]
    },
    {
      "cell_type": "code",
      "source": [
        "# Check the false positives (model predicted 0, when should have been 1)\n",
        "for row in most_wrong[-10:].itertuples():\n",
        "  _, text, target, pred, pred_prob = row\n",
        "  print(f\"Target: {target}, Pred: {pred}, Prob {pred_prob}\")\n",
        "  print(f\"Text:\\n{text}\\n\")\n",
        "  print(\"---\\n\")"
      ],
      "metadata": {
        "id": "FkTpQXeZu040",
        "outputId": "180abcee-36e2-4389-aa8f-b50c9a3e13dd",
        "colab": {
          "base_uri": "https://localhost:8080/"
        }
      },
      "execution_count": 137,
      "outputs": [
        {
          "output_type": "stream",
          "name": "stdout",
          "text": [
            "Target: 1, Pred: 0.0, Prob 0.06730346381664276\n",
            "Text:\n",
            "@DavidVonderhaar At least you were sincere ??\n",
            "\n",
            "---\n",
            "\n",
            "Target: 1, Pred: 0.0, Prob 0.055075809359550476\n",
            "Text:\n",
            "@willienelson We need help! Horses will die!Please RT &amp; sign petition!Take a stand &amp; be a voice for them! #gilbert23 https://t.co/e8dl1lNCVu\n",
            "\n",
            "---\n",
            "\n",
            "Target: 1, Pred: 0.0, Prob 0.05460336431860924\n",
            "Text:\n",
            "Lucas Duda is Ghost Rider. Not the Nic Cage version but an actual 'engulfed in flames' badass. #Mets\n",
            "\n",
            "---\n",
            "\n",
            "Target: 1, Pred: 0.0, Prob 0.054596975445747375\n",
            "Text:\n",
            "going to redo my nails and watch behind the scenes of desolation of smaug ayyy\n",
            "\n",
            "---\n",
            "\n",
            "Target: 1, Pred: 0.0, Prob 0.04963728412985802\n",
            "Text:\n",
            "You can never escape me. Bullets don't harm me. Nothing harms me. But I know pain. I know pain. Sometimes I share it. With someone like you.\n",
            "\n",
            "---\n",
            "\n",
            "Target: 1, Pred: 0.0, Prob 0.043918490409851074\n",
            "Text:\n",
            "@SoonerMagic_ I mean I'm a fan but I don't need a girl sounding off like a damn siren\n",
            "\n",
            "---\n",
            "\n",
            "Target: 1, Pred: 0.0, Prob 0.04208686202764511\n",
            "Text:\n",
            "I get to smoke my shit in peace\n",
            "\n",
            "---\n",
            "\n",
            "Target: 1, Pred: 0.0, Prob 0.03899793699383736\n",
            "Text:\n",
            "Why are you deluged with low self-image? Take the quiz: http://t.co/XsPqdOrIqj http://t.co/CQYvFR4UCy\n",
            "\n",
            "---\n",
            "\n",
            "Target: 1, Pred: 0.0, Prob 0.038949452340602875\n",
            "Text:\n",
            "Reddit Will Now QuarantineÛ_ http://t.co/pkUAMXw6pm #onlinecommunities #reddit #amageddon #freespeech #Business http://t.co/PAWvNJ4sAP\n",
            "\n",
            "---\n",
            "\n",
            "Target: 1, Pred: 0.0, Prob 0.037185799330472946\n",
            "Text:\n",
            "Ron &amp; Fez - Dave's High School Crush https://t.co/aN3W16c8F6 via @YouTube\n",
            "\n",
            "---\n",
            "\n"
          ]
        }
      ]
    },
    {
      "cell_type": "markdown",
      "source": [
        "## Making predictions on the test dataset"
      ],
      "metadata": {
        "id": "N03Pbgiywfmg"
      }
    },
    {
      "cell_type": "code",
      "source": [
        "# Making predictions on the test dataset and visualizing them\n",
        "test_sentences = test_df[\"text\"].to_list()\n",
        "test_samples = random.sample(test_sentences, 10)\n",
        "for test_sample in test_samples:\n",
        "  pred_prob = tf.squeeze(model_6_pretrained.predict([test_sample])) # our model expects a list as input\n",
        "  pred = tf.round(pred_prob)\n",
        "  print(f\"Pred: {int(pred)}, Prob: {pred_prob}\\nText:\\n{test_sample}\\n-----\\n\")"
      ],
      "metadata": {
        "id": "CvYjyILmvmVX",
        "outputId": "bcbae8d2-4b04-4c42-a20e-0fc25e4982ca",
        "colab": {
          "base_uri": "https://localhost:8080/"
        }
      },
      "execution_count": 139,
      "outputs": [
        {
          "output_type": "stream",
          "name": "stdout",
          "text": [
            "Pred: 1, Prob: 0.6627715826034546\n",
            "Text:\n",
            "When the Government couldn't figure out how to plug the Gulf oil spill so Chuck Norris plugged it...with his fist.\n",
            "-----\n",
            "\n",
            "Pred: 0, Prob: 0.3252168297767639\n",
            "Text:\n",
            "Reade this and see how are politicians are leading us to disaster all for the #GreedyRich https://t.co/2bFliBD2sh\n",
            "-----\n",
            "\n",
            "Pred: 0, Prob: 0.10865471512079239\n",
            "Text:\n",
            "I lava you\n",
            "-----\n",
            "\n",
            "Pred: 1, Prob: 0.6496626734733582\n",
            "Text:\n",
            "@AkinwunmiAmbode Urgentthere is currently a 3 storey building at church B/stop Oworoshoki Third mainland bridge which likely to collapse\n",
            "-----\n",
            "\n",
            "Pred: 1, Prob: 0.885780394077301\n",
            "Text:\n",
            "Japan NRA proposes raising maximum radiation dose to 250 mSv for nuclear plant workers in emergency situations. http://t.co/Iqb8YH6hHT\n",
            "-----\n",
            "\n",
            "Pred: 1, Prob: 0.9833021759986877\n",
            "Text:\n",
            "Sinjar Massacre Yazidis Blast Lack of Action Over Hostages http://t.co/fdU8aCnC2W #denver #billings #rapidcity #seattle #cheyenne #lasvegas\n",
            "-----\n",
            "\n",
            "Pred: 0, Prob: 0.28774139285087585\n",
            "Text:\n",
            "I liked a @YouTube video http://t.co/18aAsFMVbl Call Of Duty Ghosts Walktrough Part-8 Tsunami!\n",
            "-----\n",
            "\n",
            "Pred: 1, Prob: 0.9890894293785095\n",
            "Text:\n",
            "Landslide in Italian Alps kills three: ROME (Reuters) - Three people were killed when a severe rainstorm in th... http://t.co/2pZ9t2FnSz\n",
            "-----\n",
            "\n",
            "Pred: 0, Prob: 0.3110685348510742\n",
            "Text:\n",
            "Call for Tasmania's emergency services to be trained in horse rescues http://t.co/q9OXqfdGwX #abcnews\n",
            "-----\n",
            "\n",
            "Pred: 0, Prob: 0.23282620310783386\n",
            "Text:\n",
            "@thelovatoagent omg i feel like i am in a war zone\n",
            "-----\n",
            "\n"
          ]
        }
      ]
    },
    {
      "cell_type": "markdown",
      "source": [
        "## The speed/score tradeoff\n"
      ],
      "metadata": {
        "id": "yNpfExBMyRA1"
      }
    },
    {
      "cell_type": "code",
      "source": [
        "# Let's make a function to measure the time of prediction\n",
        "import time\n",
        "def pred_timer(model, samples):\n",
        "  \"\"\" \n",
        "  Times how long a model takes to make predictions on samples.\n",
        "  \"\"\"\n",
        "  start_time = time.perf_counter()\n",
        "  model.predict(samples)\n",
        "  end_time = time.perf_counter()\n",
        "  total_time = end_time-start_time\n",
        "  time_per_pred = total_time/len(samples)\n",
        "  return total_time, time_per_pred"
      ],
      "metadata": {
        "id": "I9KQrxBywzPC"
      },
      "execution_count": 142,
      "outputs": []
    },
    {
      "cell_type": "code",
      "source": [
        "# Calculate TF Hub sentence Encoder time per pred\n",
        "model_6_total_pred_time, model_6_time_per_pred = pred_timer(\n",
        "    model=model_6_pretrained, \n",
        "    samples=val_sentences)\n",
        "model_6_total_pred_time, model_6_time_per_pred"
      ],
      "metadata": {
        "id": "i2SxoMTXwr3b",
        "outputId": "3fc52992-88c6-446b-9e15-86230ffd66e2",
        "colab": {
          "base_uri": "https://localhost:8080/"
        }
      },
      "execution_count": 143,
      "outputs": [
        {
          "output_type": "execute_result",
          "data": {
            "text/plain": [
              "(0.4869899129998885, 0.0006390943740156017)"
            ]
          },
          "metadata": {},
          "execution_count": 143
        }
      ]
    },
    {
      "cell_type": "code",
      "source": [
        "# Calculate our baseline model times per pred\n",
        "baseline_total_pred_time, baseline_time_per_pred = pred_timer(\n",
        "    model_0,\n",
        "    val_sentences\n",
        ")\n",
        "baseline_total_pred_time, baseline_time_per_pred"
      ],
      "metadata": {
        "id": "tkOgATKZzjPw",
        "outputId": "25dfabc7-f247-4f52-cdfd-7f40cdd8d591",
        "colab": {
          "base_uri": "https://localhost:8080/"
        }
      },
      "execution_count": 144,
      "outputs": [
        {
          "output_type": "execute_result",
          "data": {
            "text/plain": [
              "(0.05639555299967469, 7.40099120730639e-05)"
            ]
          },
          "metadata": {},
          "execution_count": 144
        }
      ]
    },
    {
      "cell_type": "code",
      "source": [
        "# Get results for pretrained GS model\n",
        "model_6_pretrained_results = calculate_results(\n",
        "    y_true=val_labels,\n",
        "    y_pred=model_6_pretrained_preds\n",
        ")\n",
        "model_6_pretrained_results"
      ],
      "metadata": {
        "id": "zDziQu7k0F78",
        "outputId": "e2241015-ec51-4d00-ad90-3b3788b5605b",
        "colab": {
          "base_uri": "https://localhost:8080/"
        }
      },
      "execution_count": 147,
      "outputs": [
        {
          "output_type": "execute_result",
          "data": {
            "text/plain": [
              "{'accuracy': 81.62729658792651,\n",
              " 'f1-score': 0.8148082644367335,\n",
              " 'precision': 0.818446310697231,\n",
              " 'recall': 0.8162729658792651}"
            ]
          },
          "metadata": {},
          "execution_count": 147
        }
      ]
    },
    {
      "cell_type": "code",
      "source": [
        "import matplotlib.pyplot as plt\n",
        "\n",
        "plt.figure(figsize=(10, 7))\n",
        "plt.scatter(baseline_time_per_pred, baseline_results[\"f1-score\"], label=\"baseline\")\n",
        "plt.scatter(model_6_time_per_pred, model_6_pretrained_results[\"f1-score\"], label=\"tf_hub_sentence_encoder\")\n",
        "plt.legend()\n",
        "plt.title(\"f1-score vs. timer per prediction\")\n",
        "plt.xlabel(\"Time per prediction\")\n",
        "plt.ylabel(\"f1-score\")"
      ],
      "metadata": {
        "id": "szBXk_LZz0j8",
        "outputId": "040ba151-a1f2-4df8-d488-cf381084d82a",
        "colab": {
          "base_uri": "https://localhost:8080/",
          "height": 476
        }
      },
      "execution_count": 149,
      "outputs": [
        {
          "output_type": "execute_result",
          "data": {
            "text/plain": [
              "Text(0, 0.5, 'f1-score')"
            ]
          },
          "metadata": {},
          "execution_count": 149
        },
        {
          "output_type": "display_data",
          "data": {
            "text/plain": [
              "<Figure size 720x504 with 1 Axes>"
            ],
            "image/png": "[encoded data removed]"
          },
          "metadata": {
            "needs_background": "light"
          }
        }
      ]
    },
    {
      "cell_type": "code",
      "source": [
        ""
      ],
      "metadata": {
        "id": "pKDxG71u0th5"
      },
      "execution_count": null,
      "outputs": []
    }
  ],
  "metadata": {
    "kernelspec": {
      "display_name": "Python 3.9.7 ('udemy_tensorflow')",
      "language": "python",
      "name": "python3"
    },
    "language_info": {
      "codemirror_mode": {
        "name": "ipython",
        "version": 3
      },
      "file_extension": ".py",
      "mimetype": "text/x-python",
      "name": "python",
      "nbconvert_exporter": "python",
      "pygments_lexer": "ipython3",
      "version": "3.9.7"
    },
    "orig_nbformat": 4,
    "vscode": {
      "interpreter": {
        "hash": "63418e73e250c304d26eaf03185e2f59ff2277f62dd1cc8bba54019c2c46cc60"
      }
    },
    "colab": {
      "name": "08_natural_language_processing_with_tensorflow.ipynb",
      "provenance": []
    },
    "accelerator": "GPU",
    "gpuClass": "standard"
  },
  "nbformat": 4,
  "nbformat_minor": 0
}