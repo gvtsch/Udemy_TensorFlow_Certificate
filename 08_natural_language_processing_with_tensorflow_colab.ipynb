{
  "cells": [
    {
      "cell_type": "markdown",
      "metadata": {
        "id": "2qbPwvSxf3W3"
      },
      "source": [
        "# Introduction to NLP fundamentals in TensorFlow\n",
        "\n",
        "NLP has the goal of deriving information out of natural language (could be sequences of text or speech).\n",
        "\n",
        "Another common term for NLP problem is sequence to sequence problems (seq2seq)."
      ]
    },
    {
      "cell_type": "markdown",
      "metadata": {
        "id": "aE5oTjK8f3W5"
      },
      "source": [
        "## Check for GPU"
      ]
    },
    {
      "cell_type": "code",
      "execution_count": 1,
      "metadata": {
        "id": "h5XwZW6mf3W6",
        "outputId": "61c91331-6ed3-4b80-dd7a-32dc298a0476",
        "colab": {
          "base_uri": "https://localhost:8080/"
        }
      },
      "outputs": [
        {
          "output_type": "stream",
          "name": "stdout",
          "text": [
            "Tue Jul 12 17:30:54 2022       \n",
            "+-----------------------------------------------------------------------------+\n",
            "| NVIDIA-SMI 460.32.03    Driver Version: 460.32.03    CUDA Version: 11.2     |\n",
            "|-------------------------------+----------------------+----------------------+\n",
            "| GPU  Name        Persistence-M| Bus-Id        Disp.A | Volatile Uncorr. ECC |\n",
            "| Fan  Temp  Perf  Pwr:Usage/Cap|         Memory-Usage | GPU-Util  Compute M. |\n",
            "|                               |                      |               MIG M. |\n",
            "|===============================+======================+======================|\n",
            "|   0  Tesla T4            Off  | 00000000:00:04.0 Off |                    0 |\n",
            "| N/A   52C    P8    10W /  70W |      0MiB / 15109MiB |      0%      Default |\n",
            "|                               |                      |                  N/A |\n",
            "+-------------------------------+----------------------+----------------------+\n",
            "                                                                               \n",
            "+-----------------------------------------------------------------------------+\n",
            "| Processes:                                                                  |\n",
            "|  GPU   GI   CI        PID   Type   Process name                  GPU Memory |\n",
            "|        ID   ID                                                   Usage      |\n",
            "|=============================================================================|\n",
            "|  No running processes found                                                 |\n",
            "+-----------------------------------------------------------------------------+\n",
            "GPU 0: Tesla T4 (UUID: GPU-ce4fbc31-2bb7-6e50-75af-4aa2430b79dc)\n"
          ]
        }
      ],
      "source": [
        "!nvidia-smi\n",
        "!nvidia-smi -L"
      ]
    },
    {
      "cell_type": "markdown",
      "metadata": {
        "id": "IkVzE3YEf3W6"
      },
      "source": [
        "## Get helper functions"
      ]
    },
    {
      "cell_type": "code",
      "execution_count": 2,
      "metadata": {
        "id": "8rHBwYgef3W7",
        "outputId": "2b6e4df2-f6ce-46a1-8193-0d4602cf6bca",
        "colab": {
          "base_uri": "https://localhost:8080/"
        }
      },
      "outputs": [
        {
          "output_type": "stream",
          "name": "stdout",
          "text": [
            "--2022-07-12 17:30:54--  https://raw.githubusercontent.com/mrdbourke/tensorflow-deep-learning/main/extras/helper_functions.py\n",
            "Resolving raw.githubusercontent.com (raw.githubusercontent.com)... 185.199.108.133, 185.199.109.133, 185.199.110.133, ...\n",
            "Connecting to raw.githubusercontent.com (raw.githubusercontent.com)|185.199.108.133|:443... connected.\n",
            "HTTP request sent, awaiting response... 200 OK\n",
            "Length: 10246 (10K) [text/plain]\n",
            "Saving to: ‘helper_functions.py’\n",
            "\n",
            "helper_functions.py 100%[===================>]  10.01K  --.-KB/s    in 0s      \n",
            "\n",
            "2022-07-12 17:30:54 (90.5 MB/s) - ‘helper_functions.py’ saved [10246/10246]\n",
            "\n"
          ]
        }
      ],
      "source": [
        "import os\n",
        "if not os.path.exists(\"helper_functions.py\"):\n",
        "    !wget https://raw.githubusercontent.com/mrdbourke/tensorflow-deep-learning/main/extras/helper_functions.py\n",
        "\n",
        "from helper_functions import unzip_data, create_tensorboard_callback, plot_loss_curves, compare_historys"
      ]
    },
    {
      "cell_type": "markdown",
      "metadata": {
        "id": "kOC2Il8Tf3W7"
      },
      "source": [
        "## Get a text dataset\n",
        "\n",
        "The dataset we're going to be using is Kaggle's introduction to NLP dataset (text samples of Tweets labelled as disaster or not disaster).\n",
        "\n",
        "See the original source: https://www.kaggle.com/code/jhoward/getting-started-with-nlp-for-absolute-beginners/notebook"
      ]
    },
    {
      "cell_type": "code",
      "execution_count": 3,
      "metadata": {
        "id": "8B8x8Parf3W8",
        "outputId": "7bb87ff8-6be3-40ce-8da1-86ada3401b2b",
        "colab": {
          "base_uri": "https://localhost:8080/"
        }
      },
      "outputs": [
        {
          "output_type": "stream",
          "name": "stdout",
          "text": [
            "--2022-07-12 17:30:57--  https://storage.googleapis.com/ztm_tf_course/nlp_getting_started.zip\n",
            "Resolving storage.googleapis.com (storage.googleapis.com)... 142.251.12.128, 172.217.194.128, 74.125.200.128, ...\n",
            "Connecting to storage.googleapis.com (storage.googleapis.com)|142.251.12.128|:443... connected.\n",
            "HTTP request sent, awaiting response... 200 OK\n",
            "Length: 607343 (593K) [application/zip]\n",
            "Saving to: ‘nlp_getting_started.zip’\n",
            "\n",
            "\rnlp_getting_started   0%[                    ]       0  --.-KB/s               \rnlp_getting_started 100%[===================>] 593.11K  --.-KB/s    in 0.004s  \n",
            "\n",
            "2022-07-12 17:30:57 (140 MB/s) - ‘nlp_getting_started.zip’ saved [607343/607343]\n",
            "\n"
          ]
        }
      ],
      "source": [
        "if not os.path.exists(\"nlp_getting_started.zip\"):\n",
        "    !wget https://storage.googleapis.com/ztm_tf_course/nlp_getting_started.zip\n",
        "unzip_data(\"nlp_getting_started.zip\")"
      ]
    },
    {
      "cell_type": "markdown",
      "metadata": {
        "id": "npKgaUh5f3W8"
      },
      "source": [
        "## Visualizing a text dataset\n",
        "\n",
        "To visualize our text samples, we first have to read them in , one way to do so would be to use Python: https://realpython.com/read-write-files-python/ \n",
        "\n",
        "But i prefer to get visual straight away.\n",
        "\n",
        "So another way to do this is to use pandes..."
      ]
    },
    {
      "cell_type": "code",
      "execution_count": 4,
      "metadata": {
        "id": "amskCqKbf3W8",
        "outputId": "db1a4071-435b-4efa-e86b-9b9a52e51bd8",
        "colab": {
          "base_uri": "https://localhost:8080/",
          "height": 206
        }
      },
      "outputs": [
        {
          "output_type": "execute_result",
          "data": {
            "text/plain": [
              "   id keyword location                                               text  \\\n",
              "0   1     NaN      NaN  Our Deeds are the Reason of this #earthquake M...   \n",
              "1   4     NaN      NaN             Forest fire near La Ronge Sask. Canada   \n",
              "2   5     NaN      NaN  All residents asked to 'shelter in place' are ...   \n",
              "3   6     NaN      NaN  13,000 people receive #wildfires evacuation or...   \n",
              "4   7     NaN      NaN  Just got sent this photo from Ruby #Alaska as ...   \n",
              "\n",
              "   target  \n",
              "0       1  \n",
              "1       1  \n",
              "2       1  \n",
              "3       1  \n",
              "4       1  "
            ],
            "text/html": [
              "\n",
              "  <div id=\"df-8ac7f0fc-c027-47f4-9f2c-3d644c77769f\">\n",
              "    <div class=\"colab-df-container\">\n",
              "      <div>\n",
              "<style scoped>\n",
              "    .dataframe tbody tr th:only-of-type {\n",
              "        vertical-align: middle;\n",
              "    }\n",
              "\n",
              "    .dataframe tbody tr th {\n",
              "        vertical-align: top;\n",
              "    }\n",
              "\n",
              "    .dataframe thead th {\n",
              "        text-align: right;\n",
              "    }\n",
              "</style>\n",
              "<table border=\"1\" class=\"dataframe\">\n",
              "  <thead>\n",
              "    <tr style=\"text-align: right;\">\n",
              "      <th></th>\n",
              "      <th>id</th>\n",
              "      <th>keyword</th>\n",
              "      <th>location</th>\n",
              "      <th>text</th>\n",
              "      <th>target</th>\n",
              "    </tr>\n",
              "  </thead>\n",
              "  <tbody>\n",
              "    <tr>\n",
              "      <th>0</th>\n",
              "      <td>1</td>\n",
              "      <td>NaN</td>\n",
              "      <td>NaN</td>\n",
              "      <td>Our Deeds are the Reason of this #earthquake M...</td>\n",
              "      <td>1</td>\n",
              "    </tr>\n",
              "    <tr>\n",
              "      <th>1</th>\n",
              "      <td>4</td>\n",
              "      <td>NaN</td>\n",
              "      <td>NaN</td>\n",
              "      <td>Forest fire near La Ronge Sask. Canada</td>\n",
              "      <td>1</td>\n",
              "    </tr>\n",
              "    <tr>\n",
              "      <th>2</th>\n",
              "      <td>5</td>\n",
              "      <td>NaN</td>\n",
              "      <td>NaN</td>\n",
              "      <td>All residents asked to 'shelter in place' are ...</td>\n",
              "      <td>1</td>\n",
              "    </tr>\n",
              "    <tr>\n",
              "      <th>3</th>\n",
              "      <td>6</td>\n",
              "      <td>NaN</td>\n",
              "      <td>NaN</td>\n",
              "      <td>13,000 people receive #wildfires evacuation or...</td>\n",
              "      <td>1</td>\n",
              "    </tr>\n",
              "    <tr>\n",
              "      <th>4</th>\n",
              "      <td>7</td>\n",
              "      <td>NaN</td>\n",
              "      <td>NaN</td>\n",
              "      <td>Just got sent this photo from Ruby #Alaska as ...</td>\n",
              "      <td>1</td>\n",
              "    </tr>\n",
              "  </tbody>\n",
              "</table>\n",
              "</div>\n",
              "      <button class=\"colab-df-convert\" onclick=\"convertToInteractive('df-8ac7f0fc-c027-47f4-9f2c-3d644c77769f')\"\n",
              "              title=\"Convert this dataframe to an interactive table.\"\n",
              "              style=\"display:none;\">\n",
              "        \n",
              "  <svg xmlns=\"http://www.w3.org/2000/svg\" height=\"24px\"viewBox=\"0 0 24 24\"\n",
              "       width=\"24px\">\n",
              "    <path d=\"M0 0h24v24H0V0z\" fill=\"none\"/>\n",
              "    <path d=\"M18.56 5.44l.94 2.06.94-2.06 2.06-.94-2.06-.94-.94-2.06-.94 2.06-2.06.94zm-11 1L8.5 8.5l.94-2.06 2.06-.94-2.06-.94L8.5 2.5l-.94 2.06-2.06.94zm10 10l.94 2.06.94-2.06 2.06-.94-2.06-.94-.94-2.06-.94 2.06-2.06.94z\"/><path d=\"M17.41 7.96l-1.37-1.37c-.4-.4-.92-.59-1.43-.59-.52 0-1.04.2-1.43.59L10.3 9.45l-7.72 7.72c-.78.78-.78 2.05 0 2.83L4 21.41c.39.39.9.59 1.41.59.51 0 1.02-.2 1.41-.59l7.78-7.78 2.81-2.81c.8-.78.8-2.07 0-2.86zM5.41 20L4 18.59l7.72-7.72 1.47 1.35L5.41 20z\"/>\n",
              "  </svg>\n",
              "      </button>\n",
              "      \n",
              "  <style>\n",
              "    .colab-df-container {\n",
              "      display:flex;\n",
              "      flex-wrap:wrap;\n",
              "      gap: 12px;\n",
              "    }\n",
              "\n",
              "    .colab-df-convert {\n",
              "      background-color: #E8F0FE;\n",
              "      border: none;\n",
              "      border-radius: 50%;\n",
              "      cursor: pointer;\n",
              "      display: none;\n",
              "      fill: #1967D2;\n",
              "      height: 32px;\n",
              "      padding: 0 0 0 0;\n",
              "      width: 32px;\n",
              "    }\n",
              "\n",
              "    .colab-df-convert:hover {\n",
              "      background-color: #E2EBFA;\n",
              "      box-shadow: 0px 1px 2px rgba(60, 64, 67, 0.3), 0px 1px 3px 1px rgba(60, 64, 67, 0.15);\n",
              "      fill: #174EA6;\n",
              "    }\n",
              "\n",
              "    [theme=dark] .colab-df-convert {\n",
              "      background-color: #3B4455;\n",
              "      fill: #D2E3FC;\n",
              "    }\n",
              "\n",
              "    [theme=dark] .colab-df-convert:hover {\n",
              "      background-color: #434B5C;\n",
              "      box-shadow: 0px 1px 3px 1px rgba(0, 0, 0, 0.15);\n",
              "      filter: drop-shadow(0px 1px 2px rgba(0, 0, 0, 0.3));\n",
              "      fill: #FFFFFF;\n",
              "    }\n",
              "  </style>\n",
              "\n",
              "      <script>\n",
              "        const buttonEl =\n",
              "          document.querySelector('#df-8ac7f0fc-c027-47f4-9f2c-3d644c77769f button.colab-df-convert');\n",
              "        buttonEl.style.display =\n",
              "          google.colab.kernel.accessAllowed ? 'block' : 'none';\n",
              "\n",
              "        async function convertToInteractive(key) {\n",
              "          const element = document.querySelector('#df-8ac7f0fc-c027-47f4-9f2c-3d644c77769f');\n",
              "          const dataTable =\n",
              "            await google.colab.kernel.invokeFunction('convertToInteractive',\n",
              "                                                     [key], {});\n",
              "          if (!dataTable) return;\n",
              "\n",
              "          const docLinkHtml = 'Like what you see? Visit the ' +\n",
              "            '<a target=\"_blank\" href=https://colab.research.google.com/notebooks/data_table.ipynb>data table notebook</a>'\n",
              "            + ' to learn more about interactive tables.';\n",
              "          element.innerHTML = '';\n",
              "          dataTable['output_type'] = 'display_data';\n",
              "          await google.colab.output.renderOutput(dataTable, element);\n",
              "          const docLink = document.createElement('div');\n",
              "          docLink.innerHTML = docLinkHtml;\n",
              "          element.appendChild(docLink);\n",
              "        }\n",
              "      </script>\n",
              "    </div>\n",
              "  </div>\n",
              "  "
            ]
          },
          "metadata": {},
          "execution_count": 4
        }
      ],
      "source": [
        "import pandas as pd\n",
        "train_df = pd.read_csv(\"train.csv\")\n",
        "test_df = pd.read_csv(\"test.csv\")\n",
        "train_df.head()"
      ]
    },
    {
      "cell_type": "code",
      "execution_count": 5,
      "metadata": {
        "id": "m06WVEkFf3W9",
        "outputId": "a9979a70-1dc5-47cb-9891-ead92a076f50",
        "colab": {
          "base_uri": "https://localhost:8080/"
        }
      },
      "outputs": [
        {
          "output_type": "execute_result",
          "data": {
            "text/plain": [
              "('Forest fire near La Ronge Sask. Canada', 1)"
            ]
          },
          "metadata": {},
          "execution_count": 5
        }
      ],
      "source": [
        "train_df[\"text\"][1], train_df[\"target\"][1]"
      ]
    },
    {
      "cell_type": "code",
      "execution_count": 6,
      "metadata": {
        "id": "hEB4aXEjf3W-",
        "outputId": "184e0c6e-f1f6-46d6-8feb-db862b2cf273",
        "colab": {
          "base_uri": "https://localhost:8080/",
          "height": 206
        }
      },
      "outputs": [
        {
          "output_type": "execute_result",
          "data": {
            "text/plain": [
              "        id      keyword               location  \\\n",
              "2644  3796  destruction                    NaN   \n",
              "2227  3185       deluge                    NaN   \n",
              "5448  7769       police                     UK   \n",
              "132    191   aftershock                    NaN   \n",
              "6845  9810       trauma  Montgomery County, MD   \n",
              "\n",
              "                                                   text  target  \n",
              "2644  So you have a new weapon that can cause un-ima...       1  \n",
              "2227  The f$&amp;@ing things I do for #GISHWHES Just...       0  \n",
              "5448  DT @georgegalloway: RT @Galloway4Mayor: ÛÏThe...       1  \n",
              "132   Aftershock back to school kick off was great. ...       0  \n",
              "6845  in response to trauma Children of Addicts deve...       0  "
            ],
            "text/html": [
              "\n",
              "  <div id=\"df-ff9c6513-8c8f-43d8-8655-a7791094da62\">\n",
              "    <div class=\"colab-df-container\">\n",
              "      <div>\n",
              "<style scoped>\n",
              "    .dataframe tbody tr th:only-of-type {\n",
              "        vertical-align: middle;\n",
              "    }\n",
              "\n",
              "    .dataframe tbody tr th {\n",
              "        vertical-align: top;\n",
              "    }\n",
              "\n",
              "    .dataframe thead th {\n",
              "        text-align: right;\n",
              "    }\n",
              "</style>\n",
              "<table border=\"1\" class=\"dataframe\">\n",
              "  <thead>\n",
              "    <tr style=\"text-align: right;\">\n",
              "      <th></th>\n",
              "      <th>id</th>\n",
              "      <th>keyword</th>\n",
              "      <th>location</th>\n",
              "      <th>text</th>\n",
              "      <th>target</th>\n",
              "    </tr>\n",
              "  </thead>\n",
              "  <tbody>\n",
              "    <tr>\n",
              "      <th>2644</th>\n",
              "      <td>3796</td>\n",
              "      <td>destruction</td>\n",
              "      <td>NaN</td>\n",
              "      <td>So you have a new weapon that can cause un-ima...</td>\n",
              "      <td>1</td>\n",
              "    </tr>\n",
              "    <tr>\n",
              "      <th>2227</th>\n",
              "      <td>3185</td>\n",
              "      <td>deluge</td>\n",
              "      <td>NaN</td>\n",
              "      <td>The f$&amp;amp;@ing things I do for #GISHWHES Just...</td>\n",
              "      <td>0</td>\n",
              "    </tr>\n",
              "    <tr>\n",
              "      <th>5448</th>\n",
              "      <td>7769</td>\n",
              "      <td>police</td>\n",
              "      <td>UK</td>\n",
              "      <td>DT @georgegalloway: RT @Galloway4Mayor: ÛÏThe...</td>\n",
              "      <td>1</td>\n",
              "    </tr>\n",
              "    <tr>\n",
              "      <th>132</th>\n",
              "      <td>191</td>\n",
              "      <td>aftershock</td>\n",
              "      <td>NaN</td>\n",
              "      <td>Aftershock back to school kick off was great. ...</td>\n",
              "      <td>0</td>\n",
              "    </tr>\n",
              "    <tr>\n",
              "      <th>6845</th>\n",
              "      <td>9810</td>\n",
              "      <td>trauma</td>\n",
              "      <td>Montgomery County, MD</td>\n",
              "      <td>in response to trauma Children of Addicts deve...</td>\n",
              "      <td>0</td>\n",
              "    </tr>\n",
              "  </tbody>\n",
              "</table>\n",
              "</div>\n",
              "      <button class=\"colab-df-convert\" onclick=\"convertToInteractive('df-ff9c6513-8c8f-43d8-8655-a7791094da62')\"\n",
              "              title=\"Convert this dataframe to an interactive table.\"\n",
              "              style=\"display:none;\">\n",
              "        \n",
              "  <svg xmlns=\"http://www.w3.org/2000/svg\" height=\"24px\"viewBox=\"0 0 24 24\"\n",
              "       width=\"24px\">\n",
              "    <path d=\"M0 0h24v24H0V0z\" fill=\"none\"/>\n",
              "    <path d=\"M18.56 5.44l.94 2.06.94-2.06 2.06-.94-2.06-.94-.94-2.06-.94 2.06-2.06.94zm-11 1L8.5 8.5l.94-2.06 2.06-.94-2.06-.94L8.5 2.5l-.94 2.06-2.06.94zm10 10l.94 2.06.94-2.06 2.06-.94-2.06-.94-.94-2.06-.94 2.06-2.06.94z\"/><path d=\"M17.41 7.96l-1.37-1.37c-.4-.4-.92-.59-1.43-.59-.52 0-1.04.2-1.43.59L10.3 9.45l-7.72 7.72c-.78.78-.78 2.05 0 2.83L4 21.41c.39.39.9.59 1.41.59.51 0 1.02-.2 1.41-.59l7.78-7.78 2.81-2.81c.8-.78.8-2.07 0-2.86zM5.41 20L4 18.59l7.72-7.72 1.47 1.35L5.41 20z\"/>\n",
              "  </svg>\n",
              "      </button>\n",
              "      \n",
              "  <style>\n",
              "    .colab-df-container {\n",
              "      display:flex;\n",
              "      flex-wrap:wrap;\n",
              "      gap: 12px;\n",
              "    }\n",
              "\n",
              "    .colab-df-convert {\n",
              "      background-color: #E8F0FE;\n",
              "      border: none;\n",
              "      border-radius: 50%;\n",
              "      cursor: pointer;\n",
              "      display: none;\n",
              "      fill: #1967D2;\n",
              "      height: 32px;\n",
              "      padding: 0 0 0 0;\n",
              "      width: 32px;\n",
              "    }\n",
              "\n",
              "    .colab-df-convert:hover {\n",
              "      background-color: #E2EBFA;\n",
              "      box-shadow: 0px 1px 2px rgba(60, 64, 67, 0.3), 0px 1px 3px 1px rgba(60, 64, 67, 0.15);\n",
              "      fill: #174EA6;\n",
              "    }\n",
              "\n",
              "    [theme=dark] .colab-df-convert {\n",
              "      background-color: #3B4455;\n",
              "      fill: #D2E3FC;\n",
              "    }\n",
              "\n",
              "    [theme=dark] .colab-df-convert:hover {\n",
              "      background-color: #434B5C;\n",
              "      box-shadow: 0px 1px 3px 1px rgba(0, 0, 0, 0.15);\n",
              "      filter: drop-shadow(0px 1px 2px rgba(0, 0, 0, 0.3));\n",
              "      fill: #FFFFFF;\n",
              "    }\n",
              "  </style>\n",
              "\n",
              "      <script>\n",
              "        const buttonEl =\n",
              "          document.querySelector('#df-ff9c6513-8c8f-43d8-8655-a7791094da62 button.colab-df-convert');\n",
              "        buttonEl.style.display =\n",
              "          google.colab.kernel.accessAllowed ? 'block' : 'none';\n",
              "\n",
              "        async function convertToInteractive(key) {\n",
              "          const element = document.querySelector('#df-ff9c6513-8c8f-43d8-8655-a7791094da62');\n",
              "          const dataTable =\n",
              "            await google.colab.kernel.invokeFunction('convertToInteractive',\n",
              "                                                     [key], {});\n",
              "          if (!dataTable) return;\n",
              "\n",
              "          const docLinkHtml = 'Like what you see? Visit the ' +\n",
              "            '<a target=\"_blank\" href=https://colab.research.google.com/notebooks/data_table.ipynb>data table notebook</a>'\n",
              "            + ' to learn more about interactive tables.';\n",
              "          element.innerHTML = '';\n",
              "          dataTable['output_type'] = 'display_data';\n",
              "          await google.colab.output.renderOutput(dataTable, element);\n",
              "          const docLink = document.createElement('div');\n",
              "          docLink.innerHTML = docLinkHtml;\n",
              "          element.appendChild(docLink);\n",
              "        }\n",
              "      </script>\n",
              "    </div>\n",
              "  </div>\n",
              "  "
            ]
          },
          "metadata": {},
          "execution_count": 6
        }
      ],
      "source": [
        "# Shuffle training dataframe\n",
        "train_df_shuffled = train_df.sample(frac=1, random_state=42)\n",
        "train_df_shuffled.head()"
      ]
    },
    {
      "cell_type": "markdown",
      "metadata": {
        "id": "3mDzzg-4f3W-"
      },
      "source": [
        "# What does the test dataframe look like?\n",
        "test_df.head()"
      ]
    },
    {
      "cell_type": "code",
      "execution_count": 7,
      "metadata": {
        "id": "ZWua8qxBf3W_",
        "outputId": "5ad939d4-e307-439f-b6cc-f5ef8fc253f3",
        "colab": {
          "base_uri": "https://localhost:8080/"
        }
      },
      "outputs": [
        {
          "output_type": "execute_result",
          "data": {
            "text/plain": [
              "0    4342\n",
              "1    3271\n",
              "Name: target, dtype: int64"
            ]
          },
          "metadata": {},
          "execution_count": 7
        }
      ],
      "source": [
        "# How many examples of each class?\n",
        "train_df.target.value_counts()"
      ]
    },
    {
      "cell_type": "code",
      "execution_count": 8,
      "metadata": {
        "id": "AmPo28AMf3W_",
        "outputId": "da926ea3-730b-48db-b90e-6b8fdd56c482",
        "colab": {
          "base_uri": "https://localhost:8080/"
        }
      },
      "outputs": [
        {
          "output_type": "execute_result",
          "data": {
            "text/plain": [
              "(7613, 3263)"
            ]
          },
          "metadata": {},
          "execution_count": 8
        }
      ],
      "source": [
        "# How many total samples?\n",
        "len(train_df), len(test_df)"
      ]
    },
    {
      "cell_type": "code",
      "execution_count": 9,
      "metadata": {
        "id": "O1w29IYWf3XA",
        "outputId": "f90f3c28-ccad-4c72-e07d-0b1dea1e0c29",
        "colab": {
          "base_uri": "https://localhost:8080/"
        }
      },
      "outputs": [
        {
          "output_type": "stream",
          "name": "stdout",
          "text": [
            "Target: 0 (not real disaster)\n",
            "Text: Hey @reddit - the concept of a 'quarantine' makes no sense if the people you've quarantined can just wander out &amp; about whenever they want\n",
            "\n",
            "Target: 1 (real disaster)\n",
            "Text: Richard returns after whirlwind few days http://t.co/L8W30WFW3R #MLB\n",
            "\n",
            "Target: 0 (not real disaster)\n",
            "Text: Drop it down on a nigga do damage ! ??\n",
            "\n",
            "Target: 0 (not real disaster)\n",
            "Text: GREAT PERFORMANCE CHIP FUEL/GAS SAVER CHEVY TAHOE/BLAZER/AVALANCHE/S-10 http://t.co/iCrZi5TqC5 http://t.co/ONxhKfHn2a\n",
            "\n",
            "Target: 1 (real disaster)\n",
            "Text: $1 million bail for man accused of #shooting at Fife #police - Aug 5 @ 8:16 PM ET http://t.co/hu5CXqnoBf\n",
            "\n"
          ]
        }
      ],
      "source": [
        "# Let's visualize some random training examples\n",
        "import random\n",
        "random_index = random.randint(0, len(train_df)-5) # Create random indexes not higher than the total number\n",
        "for row in train_df_shuffled[[\"text\", \"target\"]][random_index:random_index+5].itertuples():\n",
        "    _, text, target = row\n",
        "    print(f\"Target: {target}\", \"(real disaster)\" if target > 0 else \"(not real disaster)\")\n",
        "    print(f\"Text: {text}\\n\")"
      ]
    },
    {
      "cell_type": "markdown",
      "metadata": {
        "id": "PGBnFfnOf3XA"
      },
      "source": [
        "### Split data into training and validation sets"
      ]
    },
    {
      "cell_type": "code",
      "execution_count": 10,
      "metadata": {
        "id": "nUjmyQElf3XA"
      },
      "outputs": [],
      "source": [
        "from sklearn.model_selection import train_test_split"
      ]
    },
    {
      "cell_type": "code",
      "execution_count": 11,
      "metadata": {
        "id": "6XBXwg5if3XB"
      },
      "outputs": [],
      "source": [
        "# Use train_test_split to split training data into training and validation sets \n",
        "train_sentences, val_sentences, train_labels, val_labels = train_test_split(\n",
        "    train_df_shuffled[\"text\"].to_numpy(),\n",
        "    train_df_shuffled[\"target\"].to_numpy(),\n",
        "    test_size=0.1,\n",
        "    random_state=42)"
      ]
    },
    {
      "cell_type": "code",
      "execution_count": 12,
      "metadata": {
        "id": "MsPwxxtzf3XB",
        "outputId": "099c16c8-73b9-4b55-8251-43b43056ffcb",
        "colab": {
          "base_uri": "https://localhost:8080/"
        }
      },
      "outputs": [
        {
          "output_type": "execute_result",
          "data": {
            "text/plain": [
              "(6851, 762, 6851, 762)"
            ]
          },
          "metadata": {},
          "execution_count": 12
        }
      ],
      "source": [
        "len(train_sentences), len(val_sentences), len(train_labels), len(val_labels)"
      ]
    },
    {
      "cell_type": "code",
      "execution_count": 13,
      "metadata": {
        "id": "vQqKdDOLf3XC",
        "outputId": "c735f513-62de-40f1-a3d2-8806e3581dea",
        "colab": {
          "base_uri": "https://localhost:8080/"
        }
      },
      "outputs": [
        {
          "output_type": "execute_result",
          "data": {
            "text/plain": [
              "(array(['@mogacola @zamtriossu i screamed after hitting tweet',\n",
              "        'Imagine getting flattened by Kurt Zouma',\n",
              "        '@Gurmeetramrahim #MSGDoing111WelfareWorks Green S welfare force ke appx 65000 members har time disaster victim ki help ke liye tyar hai....',\n",
              "        \"@shakjn @C7 @Magnums im shaking in fear he's gonna hack the planet\",\n",
              "        'Somehow find you and I collide http://t.co/Ee8RpOahPk',\n",
              "        '@EvaHanderek @MarleyKnysh great times until the bus driver held us hostage in the mall parking lot lmfao',\n",
              "        'destroy the free fandom honestly',\n",
              "        'Weapons stolen from National Guard Armory in New Albany still missing #Gunsense http://t.co/lKNU8902JE',\n",
              "        '@wfaaweather Pete when will the heat wave pass? Is it really going to be mid month? Frisco Boy Scouts have a canoe trip in Okla.',\n",
              "        'Patient-reported outcomes in long-term survivors of metastatic colorectal cancer - British Journal of Surgery http://t.co/5Yl4DC1Tqt'],\n",
              "       dtype=object), array([0, 0, 1, 0, 0, 1, 1, 0, 1, 1]))"
            ]
          },
          "metadata": {},
          "execution_count": 13
        }
      ],
      "source": [
        "# Check the first 10 samples\n",
        "train_sentences[:10], train_labels[:10]"
      ]
    },
    {
      "cell_type": "markdown",
      "metadata": {
        "id": "TFUoy4_0f3XC"
      },
      "source": [
        "## Cnverting text into numbers\n",
        "\n",
        "When dealing with a text problem, one of the first thing you'll have to do before you can build a model is to convert your text to numbers. \n",
        "\n",
        "There are a few ways to do this, namely:\n",
        "* Tokenization - direct mapping of token (a token could be a word or a character)\n",
        "* Embedding - create a matrix of feature vector for each token (the size of the feature vector can be defined and this embedding can be learned)"
      ]
    },
    {
      "cell_type": "markdown",
      "metadata": {
        "id": "tC0ZLBZhf3XC"
      },
      "source": [
        "### Text vectorization (tokenization)"
      ]
    },
    {
      "cell_type": "code",
      "execution_count": 14,
      "metadata": {
        "id": "hu0VRqFSf3XC",
        "outputId": "f50087a9-43de-4763-e22c-51776e17e7d6",
        "colab": {
          "base_uri": "https://localhost:8080/"
        }
      },
      "outputs": [
        {
          "output_type": "execute_result",
          "data": {
            "text/plain": [
              "array(['@mogacola @zamtriossu i screamed after hitting tweet',\n",
              "       'Imagine getting flattened by Kurt Zouma',\n",
              "       '@Gurmeetramrahim #MSGDoing111WelfareWorks Green S welfare force ke appx 65000 members har time disaster victim ki help ke liye tyar hai....',\n",
              "       \"@shakjn @C7 @Magnums im shaking in fear he's gonna hack the planet\",\n",
              "       'Somehow find you and I collide http://t.co/Ee8RpOahPk'],\n",
              "      dtype=object)"
            ]
          },
          "metadata": {},
          "execution_count": 14
        }
      ],
      "source": [
        "train_sentences[:5]"
      ]
    },
    {
      "cell_type": "code",
      "execution_count": 15,
      "metadata": {
        "id": "Y2sgUjR0f3XC",
        "outputId": "637c5c51-4320-43d2-9809-389ba65bf924",
        "colab": {
          "base_uri": "https://localhost:8080/"
        }
      },
      "outputs": [
        {
          "output_type": "execute_result",
          "data": {
            "text/plain": [
              "(['@mogacola', '@zamtriossu', 'i', 'screamed', 'after', 'hitting', 'tweet'], 7)"
            ]
          },
          "metadata": {},
          "execution_count": 15
        }
      ],
      "source": [
        "train_sentences[0].split(), len(train_sentences[0].split())"
      ]
    },
    {
      "cell_type": "code",
      "execution_count": 16,
      "metadata": {
        "id": "H5ucN44Bf3XC",
        "outputId": "bdadadca-a7ca-4a1c-d196-b6931e567586",
        "colab": {
          "base_uri": "https://localhost:8080/"
        }
      },
      "outputs": [
        {
          "output_type": "execute_result",
          "data": {
            "text/plain": [
              "15"
            ]
          },
          "metadata": {},
          "execution_count": 16
        }
      ],
      "source": [
        "# Find the average number of tokes (words) in the training tweets\n",
        "max_length = round(sum([len(i.split()) for i in train_sentences])/len(train_sentences))\n",
        "max_length"
      ]
    },
    {
      "cell_type": "code",
      "execution_count": 17,
      "metadata": {
        "id": "ebOMztnlf3XD"
      },
      "outputs": [],
      "source": [
        "max_vocab_length = 10000"
      ]
    },
    {
      "cell_type": "code",
      "execution_count": 18,
      "metadata": {
        "id": "cKcrB3L1f3XD"
      },
      "outputs": [],
      "source": [
        "import tensorflow as tf\n",
        "from tensorflow.keras.layers.experimental.preprocessing import TextVectorization\n",
        "\n",
        "# Use the default TextVectorization parameters\n",
        "text_vectorizer = TextVectorization(\n",
        "    max_tokens=max_vocab_length,\n",
        "    standardize=\"lower_and_strip_punctuation\", # Default\n",
        "    split=\"whitespace\", # Default\n",
        "    ngrams=None, # Default\n",
        "    output_mode=\"int\",\n",
        "    output_sequence_length=max_length,\n",
        "    pad_to_max_tokens=True) # Default"
      ]
    },
    {
      "cell_type": "code",
      "execution_count": 19,
      "metadata": {
        "id": "Liqor8naf3XD"
      },
      "outputs": [],
      "source": [
        "# Fit the text vectorizer to the training text\n",
        "text_vectorizer.adapt(train_sentences)"
      ]
    },
    {
      "cell_type": "code",
      "execution_count": 20,
      "metadata": {
        "id": "ICEgA-vxf3XD",
        "outputId": "979666da-b8a4-4e85-f43c-022e4048d7be",
        "colab": {
          "base_uri": "https://localhost:8080/"
        }
      },
      "outputs": [
        {
          "output_type": "execute_result",
          "data": {
            "text/plain": [
              "<tf.Tensor: shape=(1, 15), dtype=int64, numpy=\n",
              "array([[264,   3, 232,   4,  13, 698,   0,   0,   0,   0,   0,   0,   0,\n",
              "          0,   0]])>"
            ]
          },
          "metadata": {},
          "execution_count": 20
        }
      ],
      "source": [
        "# Create a sample sentence and tokenize it\n",
        "sample_sentence = \"There's a flood in my street\"\n",
        "text_vectorizer([sample_sentence])"
      ]
    },
    {
      "cell_type": "code",
      "execution_count": 21,
      "metadata": {
        "id": "jzvhanVJf3XE",
        "outputId": "17476fc7-666e-44bb-aeec-0d869c30f0f1",
        "colab": {
          "base_uri": "https://localhost:8080/"
        }
      },
      "outputs": [
        {
          "output_type": "stream",
          "name": "stdout",
          "text": [
            "Original text:\n",
            "someone: mentions gansey on fire\n",
            "me busting through the brick walls of seven different buildings:\n",
            "    Vectorized version:\n"
          ]
        },
        {
          "output_type": "execute_result",
          "data": {
            "text/plain": [
              "<tf.Tensor: shape=(1, 15), dtype=int64, numpy=\n",
              "array([[ 475, 2050,    1,   11,   42,   31,    1,  295,    2, 6067, 3266,\n",
              "           6, 1766, 1215,   95]])>"
            ]
          },
          "metadata": {},
          "execution_count": 21
        }
      ],
      "source": [
        "# Choose a random sentence from the training dataset and tokenize it\n",
        "random_sentence = random.choice(train_sentences)\n",
        "print(f\"Original text:\\n{random_sentence}\\n\\\n",
        "    Vectorized version:\")\n",
        "text_vectorizer([random_sentence])"
      ]
    },
    {
      "cell_type": "code",
      "execution_count": 22,
      "metadata": {
        "id": "6FCIdaDZf3XE",
        "outputId": "ef66b772-fcd4-488b-dc25-c497ad029f19",
        "colab": {
          "base_uri": "https://localhost:8080/"
        }
      },
      "outputs": [
        {
          "output_type": "execute_result",
          "data": {
            "text/plain": [
              "(10000,\n",
              " ['', '[UNK]', 'the', 'a', 'in'],\n",
              " ['pages', 'paeds', 'pads', 'padres', 'paddytomlinson1'])"
            ]
          },
          "metadata": {},
          "execution_count": 22
        }
      ],
      "source": [
        "# Get the unique words in the vocabulary\n",
        "words_in_vocab = text_vectorizer.get_vocabulary()\n",
        "top_5_words = words_in_vocab[:5]\n",
        "bottom_5_words = words_in_vocab[-5:]\n",
        "len(words_in_vocab), top_5_words, bottom_5_words"
      ]
    },
    {
      "cell_type": "markdown",
      "metadata": {
        "id": "ruxt25lZf3XE"
      },
      "source": [
        "### Creating an Embedding using an EmbeddingLayer\n",
        "\n",
        "To make our embedding, we're going to use TensorFlow's EmbeddingLayer: https://www.tensorflow.org/api_docs/python/tf/keras/layers/Embedding\n",
        "\n",
        "The parameters we care most about for our embedding layer: \n",
        "* `input_dim` = the size of our vocabulary\n",
        "* `output_dim` = the size of the output embedding vector, for example, a value of 100 would mean each tolen gets represented by a vector 100 long\n",
        "* `input_length` = length of the sequences being passed to the embedding layer "
      ]
    },
    {
      "cell_type": "code",
      "execution_count": 23,
      "metadata": {
        "id": "8qyUU3inf3XF",
        "outputId": "3b80047d-243a-46a7-d532-1ab00d910da4",
        "colab": {
          "base_uri": "https://localhost:8080/"
        }
      },
      "outputs": [
        {
          "output_type": "execute_result",
          "data": {
            "text/plain": [
              "<keras.layers.embeddings.Embedding at 0x7f0adc632190>"
            ]
          },
          "metadata": {},
          "execution_count": 23
        }
      ],
      "source": [
        "from tensorflow.keras import layers\n",
        "\n",
        "embedding = layers.Embedding(\n",
        "    input_dim=max_vocab_length,\n",
        "    output_dim=128,\n",
        "    input_length=max_length)\n",
        "embedding"
      ]
    },
    {
      "cell_type": "code",
      "execution_count": 24,
      "metadata": {
        "id": "YnuPab2Vf3XF",
        "outputId": "77f9e9cb-8b20-470e-8418-5c82726e9421",
        "colab": {
          "base_uri": "https://localhost:8080/"
        }
      },
      "outputs": [
        {
          "output_type": "stream",
          "name": "stdout",
          "text": [
            "Original text:\n",
            "I'm blazing rn and there's nothing you can do to stop me    \n",
            "Embedded version: \n"
          ]
        },
        {
          "output_type": "execute_result",
          "data": {
            "text/plain": [
              "<tf.Tensor: shape=(1, 15, 128), dtype=float32, numpy=\n",
              "array([[[-0.00425172, -0.00160626,  0.04125797, ...,  0.04907576,\n",
              "         -0.0492836 ,  0.03941442],\n",
              "        [-0.01453899,  0.01424965,  0.04314465, ..., -0.03449648,\n",
              "         -0.03461619, -0.03398571],\n",
              "        [-0.03533477, -0.01348163, -0.02819748, ...,  0.04613021,\n",
              "          0.01992854,  0.01977536],\n",
              "        ...,\n",
              "        [ 0.02844235,  0.0420007 ,  0.01215855, ...,  0.04604912,\n",
              "         -0.04193454, -0.01709964],\n",
              "        [ 0.02844235,  0.0420007 ,  0.01215855, ...,  0.04604912,\n",
              "         -0.04193454, -0.01709964],\n",
              "        [ 0.02844235,  0.0420007 ,  0.01215855, ...,  0.04604912,\n",
              "         -0.04193454, -0.01709964]]], dtype=float32)>"
            ]
          },
          "metadata": {},
          "execution_count": 24
        }
      ],
      "source": [
        "# Get a random sentence from the training set\n",
        "random_sentence = random.choice(train_sentences)\n",
        "print(f\"Original text:\\n{random_sentence}\\\n",
        "    \\nEmbedded version: \")\n",
        "\n",
        "# Embed the random sentence (turn it into dense vectors of fixed size)\n",
        "sample_embed = embedding(text_vectorizer([random_sentence]))\n",
        "sample_embed"
      ]
    },
    {
      "cell_type": "code",
      "execution_count": 25,
      "metadata": {
        "id": "hFqtrMUGf3XF",
        "outputId": "3283ab9d-f8d6-4af9-e8b4-aebd3e0b093d",
        "colab": {
          "base_uri": "https://localhost:8080/"
        }
      },
      "outputs": [
        {
          "output_type": "execute_result",
          "data": {
            "text/plain": [
              "(<tf.Tensor: shape=(128,), dtype=float32, numpy=\n",
              " array([-0.00425172, -0.00160626,  0.04125797,  0.03486824,  0.01498418,\n",
              "         0.0433372 , -0.02469661, -0.00189818, -0.0461166 , -0.00568752,\n",
              "        -0.03959838,  0.04108726,  0.0079518 ,  0.04052121,  0.01705294,\n",
              "         0.04713902,  0.04296252, -0.02821313, -0.01232759,  0.03136191,\n",
              "         0.04485169,  0.03453543,  0.01575087, -0.03765459, -0.02403343,\n",
              "         0.02758572,  0.03888771,  0.03303099, -0.00925253, -0.03453044,\n",
              "        -0.0203127 ,  0.02579116,  0.03802747,  0.01484679, -0.04828334,\n",
              "         0.0019739 ,  0.03652677,  0.04401236, -0.00185243,  0.01661864,\n",
              "         0.0118281 , -0.02053506,  0.01304623,  0.03513253, -0.00610243,\n",
              "        -0.04043629, -0.03465058,  0.01797668,  0.01120793, -0.01455634,\n",
              "        -0.00712692,  0.01271221,  0.04122372,  0.01814631, -0.03977837,\n",
              "         0.04575198, -0.02028467,  0.04534203,  0.03745409,  0.01058296,\n",
              "        -0.01141857, -0.0082926 ,  0.00615988, -0.03408819,  0.04044152,\n",
              "         0.0131968 , -0.01908135, -0.00678718,  0.00604894, -0.01460933,\n",
              "         0.01249775, -0.03922047, -0.0022938 ,  0.04137191, -0.03125659,\n",
              "        -0.01472922, -0.03262519, -0.00565564,  0.01747728, -0.02593787,\n",
              "         0.0075266 ,  0.04350701, -0.03982034, -0.03042723, -0.04519702,\n",
              "         0.02523268, -0.02062527,  0.04220296, -0.03731794, -0.01216284,\n",
              "         0.04210401,  0.00105508,  0.02318707, -0.0230348 , -0.01200777,\n",
              "         0.044922  , -0.04126719,  0.02044925, -0.00241139,  0.0409846 ,\n",
              "        -0.02638627,  0.02220743,  0.00734445, -0.01470948,  0.04165348,\n",
              "         0.02610015, -0.0085261 , -0.01545769,  0.0042515 , -0.0377565 ,\n",
              "         0.0153949 ,  0.04957838, -0.03754573, -0.03864736,  0.03526561,\n",
              "        -0.0472361 , -0.0261112 ,  0.03836739,  0.01830829, -0.01124768,\n",
              "        -0.04978994,  0.02352171,  0.00645447,  0.0340304 ,  0.02430551,\n",
              "         0.04907576, -0.0492836 ,  0.03941442], dtype=float32)>,\n",
              " TensorShape([128]),\n",
              " \"I'm blazing rn and there's nothing you can do to stop me\")"
            ]
          },
          "metadata": {},
          "execution_count": 25
        }
      ],
      "source": [
        "# Check out a single token's embedding\n",
        "sample_embed[0][0], sample_embed[0][0].shape, random_sentence"
      ]
    },
    {
      "cell_type": "markdown",
      "metadata": {
        "id": "9dNTZM8Lf3XG"
      },
      "source": [
        "## Modelling a text dataset (running a series of experiments)\n",
        "\n",
        "Now we've got a way to turn our text sequences into numbers, it's time  to start building a series of modelling experiments.\n",
        "\n",
        "We'll start with a baseline and move on from there.\n",
        "\n",
        "* Model 0: Naive Bayes (baseline), from sklearn ML map: \n",
        "* Model 1: Feed-forward neural network (dense model)\n",
        "* Model 2: LSTM (RNN)\n",
        "* Model 3: GRU (RNN) \n",
        "* Model 4: Bidirectional-LSTM model (RNN)\n",
        "* Model 5: 1D Convolutional Network (CNN)\n",
        "* Model 6: TensorFlow Hub Pretrained Feature Extractor (using transfer learning for NLP)\n",
        "* Model 7: Same as model 6 with 10% of training data\n",
        "\n",
        "How are we going to approach all of these?\n",
        "\n",
        "Use the standard steps in modelling with tensorflow:\n",
        "* Create a model\n",
        "* Build the model\n",
        "* Fit the model\n",
        "* Evaluate the model"
      ]
    },
    {
      "cell_type": "markdown",
      "metadata": {
        "id": "JClCxTU4f3XG"
      },
      "source": [
        "### Model 0: Getting a baseline\n",
        "\n",
        "As with all machine learning modelling experiments it's important to create a baseline model so you've got a benchmark for future experiments to build uopn.\n",
        "\n",
        "To create our baseline, we'll use Sklearn's Mulinomial Naive Bayes using the TF-IDF formula to convert our words to numbers.\n",
        "\n",
        "> 🔑 **Note:** It's common to use non DL-algorithms as a baseline because of their speed and then later using DL to see if you can improve upon them."
      ]
    },
    {
      "cell_type": "code",
      "execution_count": 26,
      "metadata": {
        "id": "zlxtmT1gf3XG",
        "outputId": "4cd5c64b-3d6d-4d93-efc4-1ee42d8d2fb8",
        "colab": {
          "base_uri": "https://localhost:8080/"
        }
      },
      "outputs": [
        {
          "output_type": "execute_result",
          "data": {
            "text/plain": [
              "Pipeline(steps=[('tfidf', TfidfVectorizer()), ('clf', MultinomialNB())])"
            ]
          },
          "metadata": {},
          "execution_count": 26
        }
      ],
      "source": [
        "from sklearn.feature_extraction.text import TfidfVectorizer\n",
        "from sklearn.naive_bayes import MultinomialNB\n",
        "from sklearn.pipeline import Pipeline\n",
        "\n",
        "# Create tokenization and modelling pipeline\n",
        "model_0 = Pipeline([ # Pipeline is similar to tensorflow's sequential\n",
        "    (\"tfidf\", TfidfVectorizer()), # name of the step is \"tfidf\"; convert words to numbers using tfidf\n",
        "    (\"clf\", MultinomialNB()), # model the text\n",
        "])\n",
        "\n",
        "# Fit the pipeline to the training data\n",
        "model_0.fit(train_sentences, train_labels)"
      ]
    },
    {
      "cell_type": "code",
      "execution_count": 27,
      "metadata": {
        "id": "VTTdv21df3XG",
        "outputId": "fb61e1fb-c3a3-42dd-92b9-b29cd19c4a9a",
        "colab": {
          "base_uri": "https://localhost:8080/"
        }
      },
      "outputs": [
        {
          "output_type": "stream",
          "name": "stdout",
          "text": [
            "Our baseline model achieves an accuracy of: 79.27%\n"
          ]
        }
      ],
      "source": [
        "# Evaluate our baseline model\n",
        "baseline_score = model_0.score(val_sentences, val_labels)\n",
        "print(f\"Our baseline model achieves an accuracy of: {baseline_score*100:.2f}%\")"
      ]
    },
    {
      "cell_type": "code",
      "execution_count": 28,
      "metadata": {
        "id": "HQpgHGmxf3XG",
        "outputId": "2fc92eb7-094c-4010-cc5a-b67b0edc50d7",
        "colab": {
          "base_uri": "https://localhost:8080/"
        }
      },
      "outputs": [
        {
          "output_type": "execute_result",
          "data": {
            "text/plain": [
              "array([1, 1, 1, 0, 0, 1, 1, 1, 1, 0, 0, 1, 0, 0, 0, 0, 0, 0, 0, 1])"
            ]
          },
          "metadata": {},
          "execution_count": 28
        }
      ],
      "source": [
        "# Make predictions\n",
        "baseline_preds = model_0.predict(val_sentences)\n",
        "baseline_preds[:20]"
      ]
    },
    {
      "cell_type": "code",
      "execution_count": 29,
      "metadata": {
        "id": "4OBKXhAXf3XH",
        "outputId": "cf5cc6a7-ef5d-404b-d944-65dd1b451c72",
        "colab": {
          "base_uri": "https://localhost:8080/"
        }
      },
      "outputs": [
        {
          "output_type": "execute_result",
          "data": {
            "text/plain": [
              "array([0, 0, 1, ..., 1, 1, 0])"
            ]
          },
          "metadata": {},
          "execution_count": 29
        }
      ],
      "source": [
        "train_labels"
      ]
    },
    {
      "cell_type": "markdown",
      "metadata": {
        "id": "lnWa24NJf3XH"
      },
      "source": [
        "### Creating an evaluation function for our model experiments\n",
        "\n",
        "We could evaluate all of our model's predictions with different metrics every time, however this will be cumbersome and could easily be fixed with a function.\n",
        "\n",
        "Let's create one to compare our model's predictions with the truth labels using the following metrics:\n",
        "* Accuracy\n",
        "* Precision\n",
        "* Recall\n",
        "* F1-score\n",
        "\n",
        "For a deep overview of many different methods, see the Sklearn documentation."
      ]
    },
    {
      "cell_type": "code",
      "execution_count": 30,
      "metadata": {
        "id": "Vmi4F0h_f3XH"
      },
      "outputs": [],
      "source": [
        "# Function to evaluate accuracy, precision, reall and f1-score\n",
        "from sklearn.metrics import accuracy_score, precision_recall_fscore_support\n",
        "\n",
        "def calculate_results(y_true, y_pred):\n",
        "    \"\"\"\n",
        "    Calculates model accuracy, precision, recall and f1 score of a binare classification model.\n",
        "    \"\"\"\n",
        "    # Calculate model accuracy\n",
        "    model_accuracy = accuracy_score(y_true, y_pred) * 100\n",
        "    # Calculate model precision, recall and f1-score using \"weighted\" average\n",
        "    model_precision, model_recall, model_f1, _, = precision_recall_fscore_support(y_true, y_pred, average=\"weighted\")\n",
        "    model_results = {\n",
        "        \"accuracy\": model_accuracy, \n",
        "        \"precision\": model_precision,\n",
        "        \"recall\": model_recall, \n",
        "        \"f1-score\": model_f1}\n",
        "    return model_results"
      ]
    },
    {
      "cell_type": "code",
      "execution_count": 31,
      "metadata": {
        "id": "OaMyd01Vf3XI",
        "outputId": "bb2c3f39-f5be-451e-a02f-fc60cbbe483a",
        "colab": {
          "base_uri": "https://localhost:8080/"
        }
      },
      "outputs": [
        {
          "output_type": "execute_result",
          "data": {
            "text/plain": [
              "{'accuracy': 79.26509186351706,\n",
              " 'f1-score': 0.7862189758049549,\n",
              " 'precision': 0.8111390004213173,\n",
              " 'recall': 0.7926509186351706}"
            ]
          },
          "metadata": {},
          "execution_count": 31
        }
      ],
      "source": [
        "# Get baseline results\n",
        "baseline_results = calculate_results(\n",
        "    y_true=val_labels,\n",
        "    y_pred=baseline_preds)\n",
        "baseline_results"
      ]
    },
    {
      "cell_type": "markdown",
      "metadata": {
        "id": "Z74NF3u2f3XI"
      },
      "source": [
        "### Model 1: A simple dense model"
      ]
    },
    {
      "cell_type": "code",
      "execution_count": 32,
      "metadata": {
        "id": "Ln4xHbHjf3XI"
      },
      "outputs": [],
      "source": [
        "# Create a tensorboard callback (Need to create a new one for each model)\n",
        "from helper_functions import create_tensorboard_callback\n",
        "\n",
        "# Create a directory to save tensorboard logs\n",
        "SAVE_DIR = \"model_logs\""
      ]
    },
    {
      "cell_type": "code",
      "execution_count": 33,
      "metadata": {
        "id": "dqZTI0SGf3XI",
        "outputId": "c4ba7cf8-56d0-4775-e60f-47bf96401f58",
        "colab": {
          "base_uri": "https://localhost:8080/"
        }
      },
      "outputs": [
        {
          "output_type": "stream",
          "name": "stdout",
          "text": [
            "Model: \"model_1_dense\"\n",
            "_________________________________________________________________\n",
            " Layer (type)                Output Shape              Param #   \n",
            "=================================================================\n",
            " input_1 (InputLayer)        [(None, 1)]               0         \n",
            "                                                                 \n",
            " text_vectorization (TextVec  (None, 15)               0         \n",
            " torization)                                                     \n",
            "                                                                 \n",
            " embedding (Embedding)       (None, 15, 128)           1280000   \n",
            "                                                                 \n",
            " global_average_pooling1d (G  (None, 128)              0         \n",
            " lobalAveragePooling1D)                                          \n",
            "                                                                 \n",
            " dense (Dense)               (None, 1)                 129       \n",
            "                                                                 \n",
            "=================================================================\n",
            "Total params: 1,280,129\n",
            "Trainable params: 1,280,129\n",
            "Non-trainable params: 0\n",
            "_________________________________________________________________\n"
          ]
        }
      ],
      "source": [
        "# Build model with the Functional API\n",
        "from tensorflow.keras import layers\n",
        "inputs = layers.Input(shape=(1,), dtype=\"string\")\n",
        "x = text_vectorizer(inputs)\n",
        "x = embedding(x)\n",
        "x = layers.GlobalAveragePooling1D()(x) # condense the feature vector for each token to one vector\n",
        "outputs = layers.Dense(1, activation=\"sigmoid\")(x)\n",
        "model_1 = tf.keras.Model(inputs, outputs, name=\"model_1_dense\")\n",
        "model_1.summary()"
      ]
    },
    {
      "cell_type": "code",
      "execution_count": 34,
      "metadata": {
        "id": "f3MygKB8f3XJ"
      },
      "outputs": [],
      "source": [
        "# Compile model\n",
        "model_1.compile(\n",
        "    loss=\"binary_crossentropy\",\n",
        "    optimizer=tf.keras.optimizers.Adam(),\n",
        "    metrics=[\"accuracy\"])"
      ]
    },
    {
      "cell_type": "code",
      "execution_count": 35,
      "metadata": {
        "id": "Z2CiSpdQf3XJ",
        "outputId": "b2aec270-5388-4524-b3bb-401fbc00684d",
        "colab": {
          "base_uri": "https://localhost:8080/"
        }
      },
      "outputs": [
        {
          "output_type": "stream",
          "name": "stdout",
          "text": [
            "Saving TensorBoard log files to: model_logs/model_1_dense/20220712-173105\n",
            "Epoch 1/5\n",
            "215/215 [==============================] - 9s 9ms/step - loss: 0.6100 - accuracy: 0.6930 - val_loss: 0.5358 - val_accuracy: 0.7493\n",
            "Epoch 2/5\n",
            "215/215 [==============================] - 2s 8ms/step - loss: 0.4398 - accuracy: 0.8184 - val_loss: 0.4667 - val_accuracy: 0.7900\n",
            "Epoch 3/5\n",
            "215/215 [==============================] - 2s 9ms/step - loss: 0.3457 - accuracy: 0.8616 - val_loss: 0.4588 - val_accuracy: 0.7913\n",
            "Epoch 4/5\n",
            "215/215 [==============================] - 2s 8ms/step - loss: 0.2839 - accuracy: 0.8911 - val_loss: 0.4656 - val_accuracy: 0.7966\n",
            "Epoch 5/5\n",
            "215/215 [==============================] - 2s 7ms/step - loss: 0.2361 - accuracy: 0.9153 - val_loss: 0.4790 - val_accuracy: 0.7887\n"
          ]
        }
      ],
      "source": [
        "# Fit the model\n",
        "model_1_history = model_1.fit(\n",
        "    x=train_sentences,\n",
        "    y=train_labels,\n",
        "    epochs=5,\n",
        "    validation_data=(val_sentences, val_labels),\n",
        "    callbacks=[create_tensorboard_callback(\n",
        "        dir_name=SAVE_DIR,\n",
        "        experiment_name=\"model_1_dense\"\n",
        "    )]\n",
        ")"
      ]
    },
    {
      "cell_type": "code",
      "execution_count": 36,
      "metadata": {
        "id": "jzRHHgJ2f3XJ",
        "outputId": "10117552-6a01-41e8-c324-0421e1c5b7b9",
        "colab": {
          "base_uri": "https://localhost:8080/"
        }
      },
      "outputs": [
        {
          "output_type": "execute_result",
          "data": {
            "text/plain": [
              "({'accuracy': 79.26509186351706,\n",
              "  'f1-score': 0.7862189758049549,\n",
              "  'precision': 0.8111390004213173,\n",
              "  'recall': 0.7926509186351706},)"
            ]
          },
          "metadata": {},
          "execution_count": 36
        }
      ],
      "source": [
        "baseline_results,"
      ]
    },
    {
      "cell_type": "code",
      "execution_count": 37,
      "metadata": {
        "id": "YO5K43Qvf3XJ",
        "outputId": "dc0a4fe2-2adf-41d6-a43a-1b0de1bf537f",
        "colab": {
          "base_uri": "https://localhost:8080/"
        }
      },
      "outputs": [
        {
          "output_type": "stream",
          "name": "stdout",
          "text": [
            "24/24 [==============================] - 0s 3ms/step - loss: 0.4790 - accuracy: 0.7887\n"
          ]
        },
        {
          "output_type": "execute_result",
          "data": {
            "text/plain": [
              "[0.47895973920822144, 0.7887139320373535]"
            ]
          },
          "metadata": {},
          "execution_count": 37
        }
      ],
      "source": [
        "model_1.evaluate(val_sentences, val_labels)"
      ]
    },
    {
      "cell_type": "code",
      "execution_count": 38,
      "metadata": {
        "id": "5MuvcJdaf3XK",
        "outputId": "855affdd-566b-42d6-c3cc-ccbb6214bc30",
        "colab": {
          "base_uri": "https://localhost:8080/"
        }
      },
      "outputs": [
        {
          "output_type": "execute_result",
          "data": {
            "text/plain": [
              "array([[3.88021499e-01],\n",
              "       [8.13324213e-01],\n",
              "       [9.98109937e-01],\n",
              "       [1.07442297e-01],\n",
              "       [1.17617287e-01],\n",
              "       [9.35801506e-01],\n",
              "       [9.20977533e-01],\n",
              "       [9.93130982e-01],\n",
              "       [9.70727563e-01],\n",
              "       [2.30573520e-01],\n",
              "       [1.05123185e-01],\n",
              "       [6.79786026e-01],\n",
              "       [5.30182235e-02],\n",
              "       [1.85088232e-01],\n",
              "       [4.95905569e-03],\n",
              "       [1.23898461e-01],\n",
              "       [2.77216136e-02],\n",
              "       [7.65865073e-02],\n",
              "       [2.05416173e-01],\n",
              "       [5.10562837e-01],\n",
              "       [9.15307343e-01],\n",
              "       [4.28515710e-02],\n",
              "       [4.27625686e-01],\n",
              "       [7.20809475e-02],\n",
              "       [9.59228992e-01],\n",
              "       [9.98811841e-01],\n",
              "       [2.68224906e-02],\n",
              "       [7.08449632e-02],\n",
              "       [2.51108855e-02],\n",
              "       [1.97951138e-01],\n",
              "       [5.41886568e-01],\n",
              "       [2.31611699e-01],\n",
              "       [4.82257783e-01],\n",
              "       [1.99650854e-01],\n",
              "       [5.25000751e-01],\n",
              "       [5.21190166e-02],\n",
              "       [9.94018793e-01],\n",
              "       [1.32729843e-01],\n",
              "       [2.90919002e-02],\n",
              "       [9.98669267e-01],\n",
              "       [1.86650336e-01],\n",
              "       [1.90990567e-02],\n",
              "       [3.43418509e-01],\n",
              "       [6.09774180e-02],\n",
              "       [6.76362395e-01],\n",
              "       [9.81684983e-01],\n",
              "       [3.00574571e-01],\n",
              "       [9.23015356e-01],\n",
              "       [2.05911890e-01],\n",
              "       [6.39776707e-01],\n",
              "       [5.73658235e-02],\n",
              "       [4.76803869e-01],\n",
              "       [4.14984167e-01],\n",
              "       [2.52147876e-02],\n",
              "       [1.33297130e-01],\n",
              "       [3.47609669e-02],\n",
              "       [2.38013640e-01],\n",
              "       [9.56814587e-01],\n",
              "       [9.78135169e-02],\n",
              "       [2.32814881e-03],\n",
              "       [1.22351691e-01],\n",
              "       [9.59372580e-01],\n",
              "       [9.24294114e-01],\n",
              "       [1.47820979e-01],\n",
              "       [9.26456094e-01],\n",
              "       [9.80090559e-01],\n",
              "       [7.20423877e-01],\n",
              "       [4.14711475e-01],\n",
              "       [1.15332477e-01],\n",
              "       [1.35536626e-01],\n",
              "       [7.99904838e-02],\n",
              "       [2.90838890e-02],\n",
              "       [9.50569630e-01],\n",
              "       [1.44863039e-01],\n",
              "       [1.14984311e-01],\n",
              "       [4.00000006e-01],\n",
              "       [3.56029093e-01],\n",
              "       [8.45738411e-01],\n",
              "       [2.42438927e-01],\n",
              "       [6.74173057e-01],\n",
              "       [4.17330235e-01],\n",
              "       [2.18011141e-01],\n",
              "       [9.96000051e-01],\n",
              "       [1.10193245e-01],\n",
              "       [1.57645687e-01],\n",
              "       [9.93465707e-02],\n",
              "       [1.81113016e-02],\n",
              "       [1.16218492e-01],\n",
              "       [6.48725867e-01],\n",
              "       [8.73672426e-01],\n",
              "       [9.91257191e-01],\n",
              "       [1.10661415e-02],\n",
              "       [5.92818081e-01],\n",
              "       [3.11795678e-02],\n",
              "       [9.85000968e-01],\n",
              "       [8.06228936e-01],\n",
              "       [8.51161599e-01],\n",
              "       [9.73122954e-01],\n",
              "       [8.72955501e-01],\n",
              "       [9.65387821e-01],\n",
              "       [9.99222159e-01],\n",
              "       [1.76893800e-01],\n",
              "       [1.24274762e-02],\n",
              "       [9.20196295e-01],\n",
              "       [8.79715681e-01],\n",
              "       [9.26702917e-02],\n",
              "       [8.71354759e-01],\n",
              "       [9.79887128e-01],\n",
              "       [5.66770621e-02],\n",
              "       [4.30849463e-01],\n",
              "       [7.59663224e-01],\n",
              "       [4.22994234e-02],\n",
              "       [2.58573651e-01],\n",
              "       [1.61483020e-01],\n",
              "       [2.05274254e-01],\n",
              "       [4.78357315e-01],\n",
              "       [4.42566156e-01],\n",
              "       [7.08877981e-01],\n",
              "       [7.32787132e-01],\n",
              "       [8.36144835e-02],\n",
              "       [9.99700308e-01],\n",
              "       [9.25085694e-02],\n",
              "       [1.39094263e-01],\n",
              "       [8.32991302e-01],\n",
              "       [4.64103431e-01],\n",
              "       [2.34976277e-01],\n",
              "       [8.16876233e-01],\n",
              "       [1.00341449e-02],\n",
              "       [6.99864402e-02],\n",
              "       [7.58372068e-01],\n",
              "       [8.68689120e-02],\n",
              "       [9.99700308e-01],\n",
              "       [9.99821246e-01],\n",
              "       [9.98811841e-01],\n",
              "       [9.83267725e-01],\n",
              "       [8.24399441e-02],\n",
              "       [9.70685840e-01],\n",
              "       [1.77319482e-01],\n",
              "       [3.03974867e-01],\n",
              "       [8.45226943e-02],\n",
              "       [9.96556640e-01],\n",
              "       [2.81389028e-01],\n",
              "       [1.85088232e-01],\n",
              "       [9.58052039e-01],\n",
              "       [2.25990281e-01],\n",
              "       [6.29350901e-01],\n",
              "       [5.82640618e-02],\n",
              "       [7.33330566e-03],\n",
              "       [2.46640667e-01],\n",
              "       [9.81802642e-01],\n",
              "       [2.76306570e-01],\n",
              "       [5.59246726e-02],\n",
              "       [4.04010564e-01],\n",
              "       [1.93687215e-01],\n",
              "       [2.65695751e-01],\n",
              "       [9.92655635e-01],\n",
              "       [7.90772974e-01],\n",
              "       [4.97265488e-01],\n",
              "       [9.88603950e-01],\n",
              "       [1.60760842e-02],\n",
              "       [9.79794085e-01],\n",
              "       [5.48968762e-02],\n",
              "       [2.55639464e-01],\n",
              "       [9.91926372e-01],\n",
              "       [2.16236264e-01],\n",
              "       [7.65135810e-02],\n",
              "       [9.98449683e-01],\n",
              "       [2.64368922e-01],\n",
              "       [9.78864789e-01],\n",
              "       [2.09066555e-01],\n",
              "       [9.94076610e-01],\n",
              "       [8.47795367e-01],\n",
              "       [8.32282364e-01],\n",
              "       [2.89145149e-02],\n",
              "       [9.98285592e-01],\n",
              "       [6.78459555e-02],\n",
              "       [3.77671152e-01],\n",
              "       [4.79925543e-01],\n",
              "       [7.51488268e-01],\n",
              "       [9.93019879e-01],\n",
              "       [1.80359017e-02],\n",
              "       [8.55261207e-01],\n",
              "       [7.84795463e-01],\n",
              "       [9.70183730e-01],\n",
              "       [9.76024985e-01],\n",
              "       [3.76691163e-01],\n",
              "       [8.47807676e-02],\n",
              "       [9.99624252e-01],\n",
              "       [1.26584945e-02],\n",
              "       [3.84254642e-02],\n",
              "       [1.06702976e-01],\n",
              "       [9.19230402e-01],\n",
              "       [9.10902172e-02],\n",
              "       [2.10794240e-01],\n",
              "       [1.52160488e-02],\n",
              "       [9.83171836e-02],\n",
              "       [3.70760374e-02],\n",
              "       [2.05772966e-01],\n",
              "       [7.62911558e-01],\n",
              "       [8.24626386e-02],\n",
              "       [2.69317329e-01],\n",
              "       [8.85522366e-01],\n",
              "       [9.71059918e-01],\n",
              "       [4.03683007e-01],\n",
              "       [1.09541804e-01],\n",
              "       [9.99841213e-01],\n",
              "       [4.98202026e-01],\n",
              "       [9.45627213e-01],\n",
              "       [6.47722244e-01],\n",
              "       [8.48392129e-01],\n",
              "       [3.03401709e-01],\n",
              "       [9.81888235e-01],\n",
              "       [1.67601146e-02],\n",
              "       [2.18155727e-01],\n",
              "       [5.56872319e-03],\n",
              "       [5.13065606e-03],\n",
              "       [9.57749844e-01],\n",
              "       [7.90781140e-01],\n",
              "       [8.83970320e-01],\n",
              "       [1.43830448e-01],\n",
              "       [6.93751812e-01],\n",
              "       [9.34258848e-02],\n",
              "       [2.57597994e-02],\n",
              "       [1.68286607e-01],\n",
              "       [9.78648484e-01],\n",
              "       [1.98484629e-01],\n",
              "       [5.35382211e-01],\n",
              "       [9.96100903e-01],\n",
              "       [6.17653549e-01],\n",
              "       [6.80607796e-01],\n",
              "       [1.01739556e-01],\n",
              "       [2.08060369e-01],\n",
              "       [8.12740445e-01],\n",
              "       [2.39233553e-01],\n",
              "       [4.73283976e-01],\n",
              "       [1.55065984e-01],\n",
              "       [5.50351501e-01],\n",
              "       [3.33609700e-01],\n",
              "       [1.52013645e-01],\n",
              "       [7.77058303e-02],\n",
              "       [4.32666659e-01],\n",
              "       [2.49698490e-01],\n",
              "       [9.99836683e-01],\n",
              "       [9.85541761e-01],\n",
              "       [8.76717865e-02],\n",
              "       [2.14866363e-02],\n",
              "       [8.53717625e-01],\n",
              "       [8.79175290e-02],\n",
              "       [8.92858133e-02],\n",
              "       [4.41083461e-01],\n",
              "       [4.12529297e-02],\n",
              "       [5.46969354e-01],\n",
              "       [8.20252462e-04],\n",
              "       [4.12928581e-01],\n",
              "       [9.26964283e-01],\n",
              "       [1.94619820e-01],\n",
              "       [9.76299107e-01],\n",
              "       [9.98976827e-01],\n",
              "       [3.08485240e-01],\n",
              "       [1.27569348e-01],\n",
              "       [3.68197024e-01],\n",
              "       [3.96990478e-02],\n",
              "       [4.57485672e-03],\n",
              "       [9.83756781e-01],\n",
              "       [9.71529663e-01],\n",
              "       [6.92622840e-01],\n",
              "       [9.53470886e-01],\n",
              "       [6.84885532e-02],\n",
              "       [1.38643995e-01],\n",
              "       [1.02005824e-02],\n",
              "       [1.49602234e-01],\n",
              "       [4.22932729e-02],\n",
              "       [9.60419774e-01],\n",
              "       [8.95308927e-02],\n",
              "       [9.79007781e-03],\n",
              "       [9.67208743e-01],\n",
              "       [1.22695351e-02],\n",
              "       [1.03712313e-01],\n",
              "       [9.83593643e-01],\n",
              "       [4.38969359e-02],\n",
              "       [9.34622437e-02],\n",
              "       [5.59030427e-03],\n",
              "       [9.65365469e-01],\n",
              "       [6.17019832e-01],\n",
              "       [7.51531661e-01],\n",
              "       [7.17782676e-01],\n",
              "       [5.98317862e-01],\n",
              "       [6.76252842e-02],\n",
              "       [9.29924190e-01],\n",
              "       [3.16685550e-02],\n",
              "       [7.45681465e-01],\n",
              "       [4.05472487e-01],\n",
              "       [3.74930263e-01],\n",
              "       [3.79332691e-01],\n",
              "       [2.01072961e-01],\n",
              "       [7.32720375e-01],\n",
              "       [2.31369838e-01],\n",
              "       [6.71954572e-01],\n",
              "       [1.41049922e-01],\n",
              "       [8.15947354e-01],\n",
              "       [4.11508568e-02],\n",
              "       [7.86900371e-02],\n",
              "       [2.41110981e-01],\n",
              "       [9.81735528e-01],\n",
              "       [1.76684156e-01],\n",
              "       [7.33563378e-02],\n",
              "       [3.98696721e-01],\n",
              "       [1.74959913e-01],\n",
              "       [1.10439360e-01],\n",
              "       [2.73090415e-02],\n",
              "       [2.87809521e-02],\n",
              "       [9.80765164e-01],\n",
              "       [3.11633348e-01],\n",
              "       [2.75473863e-01],\n",
              "       [9.99832034e-01],\n",
              "       [5.09339236e-02],\n",
              "       [5.95296264e-01],\n",
              "       [2.05041319e-01],\n",
              "       [4.47809324e-02],\n",
              "       [1.23820014e-01],\n",
              "       [1.77512392e-01],\n",
              "       [9.00622532e-02],\n",
              "       [9.12312746e-01],\n",
              "       [2.45786622e-01],\n",
              "       [9.84799981e-01],\n",
              "       [1.01034336e-01],\n",
              "       [1.79542154e-02],\n",
              "       [9.95198786e-01],\n",
              "       [2.46015918e-02],\n",
              "       [9.96595800e-01],\n",
              "       [1.71435505e-01],\n",
              "       [3.21358070e-02],\n",
              "       [9.61009502e-01],\n",
              "       [4.73519415e-02],\n",
              "       [3.53570394e-02],\n",
              "       [9.79458988e-01],\n",
              "       [4.96913446e-03],\n",
              "       [1.82978943e-01],\n",
              "       [7.41261423e-01],\n",
              "       [9.05535638e-01],\n",
              "       [4.57458058e-03],\n",
              "       [1.78954527e-01],\n",
              "       [9.82459426e-01],\n",
              "       [9.62933421e-01],\n",
              "       [7.54671991e-01],\n",
              "       [4.03307676e-01],\n",
              "       [5.79784930e-01],\n",
              "       [4.61998284e-01],\n",
              "       [4.93022427e-02],\n",
              "       [9.33384448e-02],\n",
              "       [7.90852979e-02],\n",
              "       [7.33544350e-01],\n",
              "       [3.10732126e-02],\n",
              "       [4.24957305e-01],\n",
              "       [4.09902066e-01],\n",
              "       [1.43245831e-02],\n",
              "       [9.59019542e-01],\n",
              "       [9.98811841e-01],\n",
              "       [9.94440973e-01],\n",
              "       [3.97898853e-02],\n",
              "       [3.02877933e-01],\n",
              "       [1.48090631e-01],\n",
              "       [3.99823904e-01],\n",
              "       [8.18667531e-01],\n",
              "       [1.69589341e-01],\n",
              "       [2.08040755e-02],\n",
              "       [6.10120334e-02],\n",
              "       [4.48431559e-02],\n",
              "       [5.44557393e-01],\n",
              "       [1.02043720e-02],\n",
              "       [1.95620105e-01],\n",
              "       [3.88171710e-02],\n",
              "       [3.62278998e-01],\n",
              "       [3.69041830e-01],\n",
              "       [3.09678227e-01],\n",
              "       [1.50042638e-01],\n",
              "       [5.44750467e-02],\n",
              "       [3.66307169e-01],\n",
              "       [9.13778692e-02],\n",
              "       [9.96983588e-01],\n",
              "       [9.07587111e-01],\n",
              "       [3.62519473e-01],\n",
              "       [5.93808591e-01],\n",
              "       [1.92586966e-02],\n",
              "       [4.98388976e-01],\n",
              "       [9.90345061e-01],\n",
              "       [6.89549029e-01],\n",
              "       [1.66146457e-01],\n",
              "       [9.79154468e-01],\n",
              "       [1.74430951e-01],\n",
              "       [9.51094866e-01],\n",
              "       [2.69897729e-01],\n",
              "       [3.14709395e-02],\n",
              "       [5.47994137e-01],\n",
              "       [4.40968156e-01],\n",
              "       [9.96523261e-01],\n",
              "       [1.08588628e-01],\n",
              "       [5.68851046e-02],\n",
              "       [8.64769071e-02],\n",
              "       [1.69589341e-01],\n",
              "       [9.98913407e-01],\n",
              "       [2.50938702e-02],\n",
              "       [5.88266134e-01],\n",
              "       [9.76877570e-01],\n",
              "       [1.06185243e-01],\n",
              "       [9.99700308e-01],\n",
              "       [3.17609087e-02],\n",
              "       [3.14824134e-01],\n",
              "       [4.98554036e-02],\n",
              "       [7.44030595e-01],\n",
              "       [9.12454247e-01],\n",
              "       [6.69655055e-02],\n",
              "       [1.47726957e-03],\n",
              "       [2.26194650e-01],\n",
              "       [9.87281621e-01],\n",
              "       [8.88567805e-01],\n",
              "       [1.12234265e-01],\n",
              "       [4.26684022e-01],\n",
              "       [7.43537903e-01],\n",
              "       [1.95893943e-02],\n",
              "       [9.94216681e-01],\n",
              "       [4.81844038e-01],\n",
              "       [9.98871744e-01],\n",
              "       [9.20530736e-01],\n",
              "       [1.03785262e-01],\n",
              "       [3.61862272e-01],\n",
              "       [1.05848230e-01],\n",
              "       [9.15572286e-01],\n",
              "       [7.40591943e-01],\n",
              "       [3.53990555e-01],\n",
              "       [2.96788011e-02],\n",
              "       [2.75781780e-01],\n",
              "       [3.66571471e-02],\n",
              "       [7.68693388e-02],\n",
              "       [1.24466039e-01],\n",
              "       [4.05068934e-01],\n",
              "       [5.08954167e-01],\n",
              "       [1.61052182e-01],\n",
              "       [9.99055803e-01],\n",
              "       [9.83110905e-01],\n",
              "       [2.42253274e-01],\n",
              "       [8.13324213e-01],\n",
              "       [2.20298931e-01],\n",
              "       [3.56190950e-02],\n",
              "       [2.73638576e-01],\n",
              "       [7.08977282e-01],\n",
              "       [8.25310498e-02],\n",
              "       [1.98837027e-01],\n",
              "       [1.64338499e-02],\n",
              "       [4.64990556e-01],\n",
              "       [1.86315272e-03],\n",
              "       [9.58761513e-01],\n",
              "       [9.81805146e-01],\n",
              "       [9.93690372e-01],\n",
              "       [9.73801792e-01],\n",
              "       [7.69301116e-01],\n",
              "       [1.61221832e-01],\n",
              "       [6.04458489e-02],\n",
              "       [6.29092515e-01],\n",
              "       [9.09708023e-01],\n",
              "       [9.98123229e-01],\n",
              "       [3.55076115e-03],\n",
              "       [1.48081958e-01],\n",
              "       [1.62789270e-01],\n",
              "       [9.98903751e-01],\n",
              "       [9.99363720e-01],\n",
              "       [2.64640957e-01],\n",
              "       [1.31812349e-01],\n",
              "       [9.96299922e-01],\n",
              "       [4.44319881e-02],\n",
              "       [3.35452169e-01],\n",
              "       [9.84255314e-01],\n",
              "       [1.06479049e-01],\n",
              "       [3.61611359e-02],\n",
              "       [9.36554253e-01],\n",
              "       [2.06720605e-01],\n",
              "       [4.04809415e-01],\n",
              "       [9.67644751e-01],\n",
              "       [1.98024698e-02],\n",
              "       [4.83044721e-02],\n",
              "       [9.67322197e-03],\n",
              "       [1.50293587e-02],\n",
              "       [1.23100415e-01],\n",
              "       [9.68377054e-01],\n",
              "       [1.86748095e-02],\n",
              "       [4.05247271e-01],\n",
              "       [5.05542815e-01],\n",
              "       [5.58899716e-02],\n",
              "       [2.41845846e-01],\n",
              "       [6.43485337e-02],\n",
              "       [3.44245702e-01],\n",
              "       [9.97876763e-01],\n",
              "       [6.15625799e-01],\n",
              "       [1.41781658e-01],\n",
              "       [1.26225978e-01],\n",
              "       [1.44810483e-01],\n",
              "       [5.40334992e-02],\n",
              "       [6.70242906e-01],\n",
              "       [1.88030861e-02],\n",
              "       [9.01403725e-01],\n",
              "       [7.40637302e-01],\n",
              "       [5.68934202e-01],\n",
              "       [5.99166334e-01],\n",
              "       [8.03850532e-01],\n",
              "       [8.64538923e-02],\n",
              "       [2.36507580e-01],\n",
              "       [3.40447962e-01],\n",
              "       [9.13073123e-01],\n",
              "       [2.46752411e-01],\n",
              "       [1.85016349e-01],\n",
              "       [3.54001492e-01],\n",
              "       [1.22936387e-02],\n",
              "       [9.07830596e-02],\n",
              "       [3.81374329e-01],\n",
              "       [8.16842735e-01],\n",
              "       [9.76377130e-02],\n",
              "       [9.92420256e-01],\n",
              "       [9.02307451e-01],\n",
              "       [8.06228936e-01],\n",
              "       [9.83702183e-01],\n",
              "       [1.38135523e-01],\n",
              "       [5.98268434e-02],\n",
              "       [8.90249491e-01],\n",
              "       [1.90973610e-01],\n",
              "       [2.21392680e-02],\n",
              "       [7.01088086e-02],\n",
              "       [1.46664798e-01],\n",
              "       [1.21542381e-03],\n",
              "       [8.71618867e-01],\n",
              "       [7.72583187e-01],\n",
              "       [8.09874415e-01],\n",
              "       [9.36747313e-01],\n",
              "       [9.40487981e-02],\n",
              "       [1.10108718e-01],\n",
              "       [6.63838387e-01],\n",
              "       [2.19379961e-02],\n",
              "       [2.44961709e-01],\n",
              "       [1.19897522e-01],\n",
              "       [7.12784708e-01],\n",
              "       [5.48259139e-01],\n",
              "       [5.42375334e-02],\n",
              "       [5.88084534e-02],\n",
              "       [4.28836048e-01],\n",
              "       [1.38163224e-01],\n",
              "       [1.23028360e-01],\n",
              "       [1.52362376e-01],\n",
              "       [2.46008024e-01],\n",
              "       [9.98914957e-01],\n",
              "       [9.81566906e-01],\n",
              "       [3.57077390e-01],\n",
              "       [8.44610035e-01],\n",
              "       [9.92641509e-01],\n",
              "       [1.18560507e-03],\n",
              "       [9.66464221e-01],\n",
              "       [2.77423412e-01],\n",
              "       [4.27530229e-01],\n",
              "       [2.04626545e-01],\n",
              "       [8.82451981e-02],\n",
              "       [1.36353776e-01],\n",
              "       [2.91625801e-02],\n",
              "       [7.55617395e-02],\n",
              "       [6.94953203e-02],\n",
              "       [7.33185589e-01],\n",
              "       [2.90028453e-01],\n",
              "       [9.93170500e-01],\n",
              "       [3.90005559e-02],\n",
              "       [6.54011309e-01],\n",
              "       [5.58894813e-01],\n",
              "       [1.73454769e-02],\n",
              "       [5.82649671e-02],\n",
              "       [9.66852665e-01],\n",
              "       [6.57427132e-01],\n",
              "       [9.48654592e-01],\n",
              "       [2.15511352e-01],\n",
              "       [8.51960033e-02],\n",
              "       [4.29943651e-01],\n",
              "       [3.27382028e-01],\n",
              "       [2.65795350e-01],\n",
              "       [9.92641509e-01],\n",
              "       [1.04040913e-02],\n",
              "       [3.80631126e-02],\n",
              "       [1.60122007e-01],\n",
              "       [9.96818900e-01],\n",
              "       [1.86503381e-01],\n",
              "       [4.83735390e-02],\n",
              "       [8.05244505e-01],\n",
              "       [5.89101948e-02],\n",
              "       [3.26844640e-02],\n",
              "       [1.40626132e-01],\n",
              "       [1.95715040e-01],\n",
              "       [1.13221526e-01],\n",
              "       [4.04520124e-01],\n",
              "       [3.55685323e-01],\n",
              "       [1.97901577e-01],\n",
              "       [7.22102970e-02],\n",
              "       [2.96739578e-01],\n",
              "       [1.73411388e-02],\n",
              "       [9.44761157e-01],\n",
              "       [8.13820779e-01],\n",
              "       [4.71279651e-01],\n",
              "       [3.21063958e-02],\n",
              "       [2.49354895e-02],\n",
              "       [9.87702906e-01],\n",
              "       [6.13911211e-01],\n",
              "       [9.99671936e-01],\n",
              "       [2.42806330e-01],\n",
              "       [8.56783688e-01],\n",
              "       [9.13955495e-02],\n",
              "       [6.26392603e-01],\n",
              "       [6.66399598e-01],\n",
              "       [1.75315384e-02],\n",
              "       [9.80238318e-01],\n",
              "       [7.79894888e-02],\n",
              "       [5.77279687e-01],\n",
              "       [9.98101532e-01],\n",
              "       [1.29482016e-01],\n",
              "       [2.79351845e-02],\n",
              "       [2.58250564e-01],\n",
              "       [8.35467130e-03],\n",
              "       [4.36753362e-01],\n",
              "       [9.99841213e-01],\n",
              "       [2.65754133e-01],\n",
              "       [9.39514577e-01],\n",
              "       [2.15404838e-01],\n",
              "       [7.69245803e-01],\n",
              "       [2.02079117e-01],\n",
              "       [2.44561926e-01],\n",
              "       [1.42214829e-02],\n",
              "       [6.59321725e-01],\n",
              "       [1.59963295e-02],\n",
              "       [1.75180256e-01],\n",
              "       [9.56446528e-01],\n",
              "       [9.29664552e-01],\n",
              "       [9.95293915e-01],\n",
              "       [7.55300462e-01],\n",
              "       [4.12081964e-02],\n",
              "       [2.48454913e-01],\n",
              "       [1.58816446e-02],\n",
              "       [4.32719171e-01],\n",
              "       [3.10821950e-01],\n",
              "       [8.83420646e-01],\n",
              "       [3.72612998e-02],\n",
              "       [7.43189514e-01],\n",
              "       [8.30679178e-01],\n",
              "       [2.53034800e-01],\n",
              "       [1.74314857e-01],\n",
              "       [1.85016349e-01],\n",
              "       [1.76253811e-01],\n",
              "       [3.82250696e-01],\n",
              "       [6.77054286e-01],\n",
              "       [9.98672843e-01],\n",
              "       [5.64560331e-02],\n",
              "       [6.78113895e-03],\n",
              "       [1.60455722e-02],\n",
              "       [1.91742659e-01],\n",
              "       [2.04029426e-01],\n",
              "       [2.01719366e-02],\n",
              "       [8.33984137e-01],\n",
              "       [8.97613764e-02],\n",
              "       [2.23607585e-01],\n",
              "       [2.60360152e-01],\n",
              "       [1.94087073e-01],\n",
              "       [9.34995234e-01],\n",
              "       [1.65444523e-01],\n",
              "       [4.93738323e-01],\n",
              "       [2.74992704e-01],\n",
              "       [1.42125888e-02],\n",
              "       [1.01937838e-01],\n",
              "       [9.99780834e-01],\n",
              "       [7.88558185e-01],\n",
              "       [4.93394304e-03],\n",
              "       [3.65552664e-01],\n",
              "       [1.73322737e-01],\n",
              "       [8.00392404e-02],\n",
              "       [8.69992137e-01],\n",
              "       [5.19933879e-01],\n",
              "       [5.85665107e-01],\n",
              "       [3.90637279e-01],\n",
              "       [2.08084852e-01],\n",
              "       [6.03874922e-01],\n",
              "       [1.17072307e-01],\n",
              "       [5.85780367e-02],\n",
              "       [9.01336491e-01],\n",
              "       [1.43927157e-01],\n",
              "       [2.99354315e-01],\n",
              "       [9.79579687e-01],\n",
              "       [2.63981670e-01],\n",
              "       [3.35589647e-01],\n",
              "       [1.21542381e-03],\n",
              "       [2.49424055e-01],\n",
              "       [8.35416853e-01],\n",
              "       [9.99700308e-01],\n",
              "       [6.87772512e-01],\n",
              "       [4.39614691e-02],\n",
              "       [9.90461290e-01],\n",
              "       [3.72135341e-01],\n",
              "       [8.74403834e-01],\n",
              "       [3.72135341e-01],\n",
              "       [9.91114199e-01],\n",
              "       [9.86997690e-03],\n",
              "       [4.40027207e-01],\n",
              "       [1.44803330e-01],\n",
              "       [9.72517371e-01],\n",
              "       [2.24718973e-01],\n",
              "       [4.12257373e-01],\n",
              "       [4.95293327e-02],\n",
              "       [3.41499627e-01],\n",
              "       [1.11940786e-01],\n",
              "       [1.82953570e-02],\n",
              "       [2.11949751e-01],\n",
              "       [7.55190924e-02],\n",
              "       [7.57013336e-02],\n",
              "       [8.30795527e-01],\n",
              "       [2.26905663e-02],\n",
              "       [8.99001583e-02],\n",
              "       [3.87082063e-02],\n",
              "       [1.37854815e-02],\n",
              "       [1.22133560e-01],\n",
              "       [6.39763415e-01],\n",
              "       [7.04852045e-02],\n",
              "       [6.13117278e-01],\n",
              "       [1.27447814e-01],\n",
              "       [2.45781004e-01],\n",
              "       [8.55783999e-01],\n",
              "       [1.68070450e-01],\n",
              "       [4.12564538e-02],\n",
              "       [5.52688576e-02],\n",
              "       [7.05539621e-03],\n",
              "       [9.89583910e-01],\n",
              "       [1.37854815e-02],\n",
              "       [3.75262320e-01],\n",
              "       [9.91981566e-01],\n",
              "       [9.91775751e-01],\n",
              "       [9.97581720e-01],\n",
              "       [9.99906301e-01],\n",
              "       [9.99537706e-01],\n",
              "       [2.07744151e-01],\n",
              "       [8.50448012e-02],\n",
              "       [2.27207303e-01],\n",
              "       [5.07374823e-01],\n",
              "       [9.96853888e-01],\n",
              "       [5.22926152e-01],\n",
              "       [2.20076725e-01],\n",
              "       [5.15888512e-01],\n",
              "       [7.17796624e-01],\n",
              "       [2.83464156e-02],\n",
              "       [4.70823376e-03],\n",
              "       [8.68617594e-02],\n",
              "       [3.48274440e-01],\n",
              "       [7.61070848e-03],\n",
              "       [5.63590750e-02],\n",
              "       [3.70167941e-01],\n",
              "       [9.90478158e-01],\n",
              "       [1.84904337e-02],\n",
              "       [9.30891454e-01],\n",
              "       [6.57766283e-01],\n",
              "       [7.33202100e-02],\n",
              "       [2.61537194e-01],\n",
              "       [1.16411798e-01],\n",
              "       [8.33774209e-01],\n",
              "       [4.45661873e-01],\n",
              "       [9.59211867e-03]], dtype=float32)"
            ]
          },
          "metadata": {},
          "execution_count": 38
        }
      ],
      "source": [
        "model_1_pred_probs = model_1.predict(val_sentences)\n",
        "model_1_pred_probs"
      ]
    },
    {
      "cell_type": "code",
      "execution_count": 39,
      "metadata": {
        "id": "bbKCAaDif3XK",
        "outputId": "2048590c-4836-4a98-82a3-5878b63c4f20",
        "colab": {
          "base_uri": "https://localhost:8080/"
        }
      },
      "outputs": [
        {
          "output_type": "execute_result",
          "data": {
            "text/plain": [
              "array([0.3880215], dtype=float32)"
            ]
          },
          "metadata": {},
          "execution_count": 39
        }
      ],
      "source": [
        "# Look at a single prediction\n",
        "model_1_pred_probs[0]"
      ]
    },
    {
      "cell_type": "code",
      "execution_count": 40,
      "metadata": {
        "id": "Vxw36AHcf3XK",
        "outputId": "14466456-7c4d-4913-ea9d-86938613bd31",
        "colab": {
          "base_uri": "https://localhost:8080/"
        }
      },
      "outputs": [
        {
          "output_type": "execute_result",
          "data": {
            "text/plain": [
              "array([[0.3880215 ],\n",
              "       [0.8133242 ],\n",
              "       [0.99810994],\n",
              "       [0.1074423 ],\n",
              "       [0.11761729],\n",
              "       [0.9358015 ],\n",
              "       [0.92097753],\n",
              "       [0.993131  ],\n",
              "       [0.97072756],\n",
              "       [0.23057352]], dtype=float32)"
            ]
          },
          "metadata": {},
          "execution_count": 40
        }
      ],
      "source": [
        "# Look at the first 10\n",
        "model_1_pred_probs[:10]"
      ]
    },
    {
      "cell_type": "code",
      "execution_count": 41,
      "metadata": {
        "id": "irce0alkf3XK",
        "outputId": "5b33f8de-d1e6-47de-9d6b-c3532a788849",
        "colab": {
          "base_uri": "https://localhost:8080/"
        }
      },
      "outputs": [
        {
          "output_type": "execute_result",
          "data": {
            "text/plain": [
              "<tf.Tensor: shape=(10,), dtype=float32, numpy=array([0., 1., 1., 0., 0., 1., 1., 1., 1., 0.], dtype=float32)>"
            ]
          },
          "metadata": {},
          "execution_count": 41
        }
      ],
      "source": [
        "# Convert model prediction probabilities to label format\n",
        "model_1_preds = tf.squeeze(tf.round(model_1_pred_probs))\n",
        "model_1_preds[:10]"
      ]
    },
    {
      "cell_type": "code",
      "execution_count": 42,
      "metadata": {
        "id": "5TpWRPayf3XL",
        "outputId": "394476cf-6254-42da-a305-d96ed3b666c3",
        "colab": {
          "base_uri": "https://localhost:8080/"
        }
      },
      "outputs": [
        {
          "output_type": "execute_result",
          "data": {
            "text/plain": [
              "{'accuracy': 78.87139107611549,\n",
              " 'f1-score': 0.7856693843184869,\n",
              " 'precision': 0.7939119079827037,\n",
              " 'recall': 0.7887139107611548}"
            ]
          },
          "metadata": {},
          "execution_count": 42
        }
      ],
      "source": [
        "# Calculate our model_1 results\n",
        "model_1_results = calculate_results(\n",
        "    y_true=val_labels,\n",
        "    y_pred=model_1_preds)\n",
        "model_1_results"
      ]
    },
    {
      "cell_type": "code",
      "execution_count": 43,
      "metadata": {
        "id": "H8oWlxT0f3XL",
        "outputId": "9cef1145-1dc8-478f-8166-36d45acba49c",
        "colab": {
          "base_uri": "https://localhost:8080/"
        }
      },
      "outputs": [
        {
          "output_type": "execute_result",
          "data": {
            "text/plain": [
              "{'accuracy': 79.26509186351706,\n",
              " 'f1-score': 0.7862189758049549,\n",
              " 'precision': 0.8111390004213173,\n",
              " 'recall': 0.7926509186351706}"
            ]
          },
          "metadata": {},
          "execution_count": 43
        }
      ],
      "source": [
        "baseline_results"
      ]
    },
    {
      "cell_type": "code",
      "execution_count": 44,
      "metadata": {
        "id": "V8hZGbfpf3XL",
        "outputId": "0d78e8b6-a430-4611-ba8a-23c854e6cec1",
        "colab": {
          "base_uri": "https://localhost:8080/"
        }
      },
      "outputs": [
        {
          "output_type": "execute_result",
          "data": {
            "text/plain": [
              "array([False, False, False, False])"
            ]
          },
          "metadata": {},
          "execution_count": 44
        }
      ],
      "source": [
        "import numpy as np\n",
        "np.array(list(model_1_results.values())) > np.array(list(baseline_results.values()))"
      ]
    },
    {
      "cell_type": "markdown",
      "metadata": {
        "id": "uyjI40l4f3XM"
      },
      "source": [
        "## Visualizing learned embeddings\n"
      ]
    },
    {
      "cell_type": "code",
      "execution_count": 45,
      "metadata": {
        "id": "pbw-8Mmwf3XM",
        "outputId": "1e6bb436-4522-44bf-8084-f1299df3930c",
        "colab": {
          "base_uri": "https://localhost:8080/"
        }
      },
      "outputs": [
        {
          "output_type": "execute_result",
          "data": {
            "text/plain": [
              "(10000, ['', '[UNK]', 'the', 'a', 'in', 'to', 'of', 'and', 'i', 'is'])"
            ]
          },
          "metadata": {},
          "execution_count": 45
        }
      ],
      "source": [
        "# Get the vocabulary from the text vectorization layer\n",
        "words_in_vocab = text_vectorizer.get_vocabulary()\n",
        "len(words_in_vocab), words_in_vocab[:10]"
      ]
    },
    {
      "cell_type": "code",
      "execution_count": 46,
      "metadata": {
        "id": "PTo9vFNDf3XM",
        "outputId": "8c8ce9b9-ef89-4269-f996-9cb2876630cb",
        "colab": {
          "base_uri": "https://localhost:8080/"
        }
      },
      "outputs": [
        {
          "output_type": "stream",
          "name": "stdout",
          "text": [
            "Model: \"model_1_dense\"\n",
            "_________________________________________________________________\n",
            " Layer (type)                Output Shape              Param #   \n",
            "=================================================================\n",
            " input_1 (InputLayer)        [(None, 1)]               0         \n",
            "                                                                 \n",
            " text_vectorization (TextVec  (None, 15)               0         \n",
            " torization)                                                     \n",
            "                                                                 \n",
            " embedding (Embedding)       (None, 15, 128)           1280000   \n",
            "                                                                 \n",
            " global_average_pooling1d (G  (None, 128)              0         \n",
            " lobalAveragePooling1D)                                          \n",
            "                                                                 \n",
            " dense (Dense)               (None, 1)                 129       \n",
            "                                                                 \n",
            "=================================================================\n",
            "Total params: 1,280,129\n",
            "Trainable params: 1,280,129\n",
            "Non-trainable params: 0\n",
            "_________________________________________________________________\n"
          ]
        }
      ],
      "source": [
        "# Model 1 summary\n",
        "model_1.summary()"
      ]
    },
    {
      "cell_type": "code",
      "execution_count": 47,
      "metadata": {
        "id": "TZ13Hqpcf3XM",
        "outputId": "d5160aa9-b3c2-4576-8870-2563dbd54202",
        "colab": {
          "base_uri": "https://localhost:8080/"
        }
      },
      "outputs": [
        {
          "output_type": "stream",
          "name": "stdout",
          "text": [
            "[[ 0.0472912   0.02413734  0.00377305 ...  0.06508201 -0.06026678\n",
            "   0.00142188]\n",
            " [ 0.00049827 -0.00648262  0.04461583 ...  0.0174851   0.01777712\n",
            "   0.05278213]\n",
            " [ 0.02184566 -0.04668173  0.00077051 ... -0.02330029  0.00151436\n",
            "   0.04540404]\n",
            " ...\n",
            " [ 0.03678239 -0.01421575  0.04732505 ... -0.028166   -0.00810652\n",
            "   0.00948545]\n",
            " [ 0.02113183 -0.04389714 -0.02218872 ...  0.04749653 -0.04162758\n",
            "  -0.00803098]\n",
            " [ 0.02291374 -0.11444009 -0.07562084 ...  0.11021747 -0.04070343\n",
            "   0.11256574]]\n",
            "(10000, 128)\n"
          ]
        }
      ],
      "source": [
        "# Get the weight matrix of embedding layer\n",
        "# (these are the numerical representations of each token in our training data, which have been learned for 5 epochs)\n",
        "embed_weights = model_1.get_layer(\"embedding\").get_weights()[0]\n",
        "print(embed_weights)\n",
        "print(embed_weights.shape) # same size as vocab size and embedding_dim (output_dim of our embedding layer)"
      ]
    },
    {
      "cell_type": "markdown",
      "metadata": {
        "id": "1AqrEbcjf3XM"
      },
      "source": [
        "Now we've got the embedding matrix our model has learned to represent our tokens, let's see how we can visualize it.\n",
        "\n",
        "To do so, TensorFlow has a handy tool called projector: http://projector.tensorflow.org/\n",
        "\n",
        "And TensorFlow also has an incredible guide on word embeddings themselves: https://www.tensorflow.org/text/guide/word_embeddings"
      ]
    },
    {
      "cell_type": "code",
      "execution_count": 48,
      "metadata": {
        "id": "DKEg__-hf3XN"
      },
      "outputs": [],
      "source": [
        "# Create embedding files (we got this from TensorFlow's word embeddings documentation)\n",
        "import io\n",
        "\n",
        "out_v = io.open('vectors.tsv', 'w', encoding='utf-8')\n",
        "out_m = io.open('metadata.tsv', 'w', encoding='utf-8')\n",
        "\n",
        "for index, word in enumerate(words_in_vocab):\n",
        "  if index == 0:\n",
        "    continue  # skip 0, it's padding.\n",
        "  vec = embed_weights[index]\n",
        "  out_v.write('\\t'.join([str(x) for x in vec]) + \"\\n\")\n",
        "  out_m.write(word + \"\\n\")\n",
        "out_v.close()\n",
        "out_m.close()\n"
      ]
    },
    {
      "cell_type": "markdown",
      "metadata": {
        "id": "vBJiowXbf3XN"
      },
      "source": [
        "Downloading the files above we can visualize them using http://projector.tensorflow.org/ and clicking the \"load\" button on  the left hand side.\n",
        "\n",
        "> 📖 **Ressource:** If you'd like to know more about embeddings, I'd encourage you to check out:\n",
        "* Jay Alammar's visualized word2vec post: https://jalammar.github.io/illustrated-word2vec/\n",
        "* TensorFlow's Word Embeddings guide: https://www.tensorflow.org/tutorials/text/word_embeddings"
      ]
    },
    {
      "cell_type": "markdown",
      "metadata": {
        "id": "azyAL14hf3XN"
      },
      "source": [
        "## Recurrent Neural Networks (RNNs)\n",
        "\n",
        "RNN's are useful for sequence data.\n",
        "\n",
        "The premise of a recurrent neural network is to use the representation of a previous input to aid the representation of a later input.\n",
        "\n",
        "> 📖 **Ressources:** If you want an overview of the internals of a recurrent neural network, see the following:\n",
        " - MIT's sequence modell lecture: https://youtu.be/qjrad0V0uJE\n",
        " - Chris Olag's intro to LSTMs: https://colah.github.io/posts/2015-08-Understanding-LSTMs/\n",
        " - Andrej Kaparthy's the unreasonable effectiveness of recurrent neural networks: http://karpathy.github.io/2015/05/21/rnn-effectiveness/"
      ]
    },
    {
      "cell_type": "markdown",
      "metadata": {
        "id": "aEZomZW8f3XN"
      },
      "source": [
        "### Model 2: LSTM\n",
        "LSTM  = long short term memory (one of the most popular LSTM cells)\n",
        "\n",
        "Our structure of an RNN typically looks like this:\n",
        "```Input(text) -> Tokenize -> Embedding -> Layers (RNNs/dense) -> Output (label probability)```"
      ]
    },
    {
      "cell_type": "code",
      "execution_count": 49,
      "metadata": {
        "id": "0xbto23jf3XO"
      },
      "outputs": [],
      "source": [
        "# Create an LSTM model\n",
        "from tensorflow.keras import layers\n",
        "inputs = layers.Input(shape=(1, ), dtype=\"string\")\n",
        "x = text_vectorizer(inputs)\n",
        "x = embedding(x)\n",
        "#x = layers.LSTM(64, return_sequences=True)(x)\n",
        "x = layers.LSTM(64)(x)\n",
        "x = layers.Dense(64, activation=\"relu\")(x)\n",
        "outputs = layers.Dense(1, activation=\"sigmoid\")(x)\n",
        "model_2 = tf.keras.Model(inputs, outputs, name=\"model_2_LSTM\")"
      ]
    },
    {
      "cell_type": "code",
      "execution_count": 50,
      "metadata": {
        "id": "t3YpWaPvf3XO",
        "outputId": "4000e203-f986-46cc-8b3c-a7fc360153b0",
        "colab": {
          "base_uri": "https://localhost:8080/"
        }
      },
      "outputs": [
        {
          "output_type": "stream",
          "name": "stdout",
          "text": [
            "Model: \"model_2_LSTM\"\n",
            "_________________________________________________________________\n",
            " Layer (type)                Output Shape              Param #   \n",
            "=================================================================\n",
            " input_2 (InputLayer)        [(None, 1)]               0         \n",
            "                                                                 \n",
            " text_vectorization (TextVec  (None, 15)               0         \n",
            " torization)                                                     \n",
            "                                                                 \n",
            " embedding (Embedding)       (None, 15, 128)           1280000   \n",
            "                                                                 \n",
            " lstm (LSTM)                 (None, 64)                49408     \n",
            "                                                                 \n",
            " dense_1 (Dense)             (None, 64)                4160      \n",
            "                                                                 \n",
            " dense_2 (Dense)             (None, 1)                 65        \n",
            "                                                                 \n",
            "=================================================================\n",
            "Total params: 1,333,633\n",
            "Trainable params: 1,333,633\n",
            "Non-trainable params: 0\n",
            "_________________________________________________________________\n"
          ]
        }
      ],
      "source": [
        "model_2.summary()"
      ]
    },
    {
      "cell_type": "code",
      "execution_count": 51,
      "metadata": {
        "id": "rkw9PKEnf3XO"
      },
      "outputs": [],
      "source": [
        "# Compile the nmodel\n",
        "model_2.compile(\n",
        "    loss=\"binary_crossentropy\",\n",
        "    optimizer=tf.keras.optimizers.Adam(),\n",
        "    metrics=[\"accuracy\"]\n",
        ")"
      ]
    },
    {
      "cell_type": "code",
      "execution_count": 52,
      "metadata": {
        "id": "c_jpJqXbf3XO",
        "outputId": "db76e236-853d-4c2e-cbea-01e1a8445b04",
        "colab": {
          "base_uri": "https://localhost:8080/"
        }
      },
      "outputs": [
        {
          "output_type": "stream",
          "name": "stdout",
          "text": [
            "Saving TensorBoard log files to: model_logs/model_2_LSTM/20220712-173129\n",
            "Epoch 1/5\n",
            "215/215 [==============================] - 6s 8ms/step - loss: 0.2218 - accuracy: 0.9213 - val_loss: 0.6937 - val_accuracy: 0.7861\n",
            "Epoch 2/5\n",
            "215/215 [==============================] - 1s 6ms/step - loss: 0.1569 - accuracy: 0.9432 - val_loss: 0.6892 - val_accuracy: 0.7835\n",
            "Epoch 3/5\n",
            "215/215 [==============================] - 1s 6ms/step - loss: 0.1269 - accuracy: 0.9508 - val_loss: 0.7855 - val_accuracy: 0.7730\n",
            "Epoch 4/5\n",
            "215/215 [==============================] - 1s 6ms/step - loss: 0.1043 - accuracy: 0.9575 - val_loss: 1.0425 - val_accuracy: 0.7782\n",
            "Epoch 5/5\n",
            "215/215 [==============================] - 1s 6ms/step - loss: 0.0828 - accuracy: 0.9654 - val_loss: 1.1560 - val_accuracy: 0.7638\n"
          ]
        }
      ],
      "source": [
        "# Fit\n",
        "histor_model_2 = model_2.fit(\n",
        "    train_sentences,\n",
        "    train_labels,\n",
        "    epochs=5,\n",
        "    validation_data=(val_sentences, val_labels),\n",
        "    callbacks=[create_tensorboard_callback(\n",
        "        SAVE_DIR,\n",
        "        \"model_2_LSTM\")])"
      ]
    },
    {
      "cell_type": "code",
      "execution_count": 53,
      "metadata": {
        "id": "eR1kHqNhf3XO",
        "outputId": "3083cbe9-5234-40d1-f7ee-e56885e5646b",
        "colab": {
          "base_uri": "https://localhost:8080/"
        }
      },
      "outputs": [
        {
          "output_type": "execute_result",
          "data": {
            "text/plain": [
              "array([[1.9378250e-02],\n",
              "       [6.2073839e-01],\n",
              "       [9.9991190e-01],\n",
              "       [2.8189393e-03],\n",
              "       [7.3383977e-05],\n",
              "       [9.9942809e-01],\n",
              "       [9.6393979e-01],\n",
              "       [9.9997354e-01],\n",
              "       [9.9991202e-01],\n",
              "       [7.6508707e-01]], dtype=float32)"
            ]
          },
          "metadata": {},
          "execution_count": 53
        }
      ],
      "source": [
        "# Make predictions with LSTM model\n",
        "model_2_pred_probs = model_2.predict(val_sentences)\n",
        "model_2_pred_probs[:10]"
      ]
    },
    {
      "cell_type": "code",
      "execution_count": 54,
      "metadata": {
        "id": "MDlBHG9if3XP",
        "outputId": "7dedb567-3977-4384-a2bc-cdefd7f9e193",
        "colab": {
          "base_uri": "https://localhost:8080/"
        }
      },
      "outputs": [
        {
          "output_type": "execute_result",
          "data": {
            "text/plain": [
              "<tf.Tensor: shape=(10,), dtype=float32, numpy=array([0., 1., 1., 0., 0., 1., 1., 1., 1., 1.], dtype=float32)>"
            ]
          },
          "metadata": {},
          "execution_count": 54
        }
      ],
      "source": [
        "# Convert model 2 pred probs to labels\n",
        "model_2_preds = tf.squeeze(tf.round(model_2_pred_probs))\n",
        "model_2_preds[:10]"
      ]
    },
    {
      "cell_type": "code",
      "execution_count": 55,
      "metadata": {
        "id": "f92IQln0f3XP",
        "outputId": "c4192379-f6ac-424f-c750-59c1de1c5d2a",
        "colab": {
          "base_uri": "https://localhost:8080/"
        }
      },
      "outputs": [
        {
          "output_type": "execute_result",
          "data": {
            "text/plain": [
              "array([0, 0, 1, 1, 1, 1, 1, 1, 1, 0])"
            ]
          },
          "metadata": {},
          "execution_count": 55
        }
      ],
      "source": [
        "val_labels[:10]"
      ]
    },
    {
      "cell_type": "code",
      "execution_count": 56,
      "metadata": {
        "id": "bUtd9djAf3XP",
        "outputId": "3388e67d-ccc7-4ad5-b174-2d8d4281868c",
        "colab": {
          "base_uri": "https://localhost:8080/"
        }
      },
      "outputs": [
        {
          "output_type": "execute_result",
          "data": {
            "text/plain": [
              "{'accuracy': 76.37795275590551,\n",
              " 'f1-score': 0.761768588939328,\n",
              " 'precision': 0.7649838845988884,\n",
              " 'recall': 0.7637795275590551}"
            ]
          },
          "metadata": {},
          "execution_count": 56
        }
      ],
      "source": [
        "# Calculate model 2 results\n",
        "model_2_results = calculate_results(\n",
        "    y_true=val_labels,\n",
        "    y_pred=model_2_preds)\n",
        "model_2_results"
      ]
    },
    {
      "cell_type": "code",
      "execution_count": 57,
      "metadata": {
        "id": "VLolP1JNf3XP",
        "outputId": "9f60db8a-4eb2-450d-8300-540831b9337b",
        "colab": {
          "base_uri": "https://localhost:8080/"
        }
      },
      "outputs": [
        {
          "output_type": "execute_result",
          "data": {
            "text/plain": [
              "{'accuracy': 79.26509186351706,\n",
              " 'f1-score': 0.7862189758049549,\n",
              " 'precision': 0.8111390004213173,\n",
              " 'recall': 0.7926509186351706}"
            ]
          },
          "metadata": {},
          "execution_count": 57
        }
      ],
      "source": [
        "baseline_results"
      ]
    },
    {
      "cell_type": "markdown",
      "metadata": {
        "id": "VuXDjHObf3XP"
      },
      "source": [
        "### Model 3: GRU\n",
        "\n",
        "Another popular and effective component is the GRU or gated recurrent unit.\n",
        "\n",
        "The GRU cell has similar features to an LSTM cell but has less parameters.\n",
        "\n",
        "> 📖 **Ressource:** \n",
        " - https://towardsdatascience.com/understanding-gru-networks-2ef37df6c9be\n",
        " - https://en.wikipedia.org/wiki/Gated_recurrent_unit"
      ]
    },
    {
      "cell_type": "code",
      "execution_count": 58,
      "metadata": {
        "id": "_1BVIobpf3XQ"
      },
      "outputs": [],
      "source": [
        "# Build an RNN using the GRU cell\n",
        "from tensorflow.keras import layers\n",
        "inputs = layers.Input(shape=(1,), dtype=\"string\")\n",
        "x = text_vectorizer(inputs)\n",
        "x = embedding(x)\n",
        "# x = layers.GRU(64, return_sequences=True)(x) # if you wand to stack recurrent layers --> return_sequences = True\n",
        "# x = layers.LSTM(64, return_sequences=True)(x)\n",
        "x = layers.GRU(64)(x)\n",
        "x = layers.Dense(64, activation=\"relu\")(x)\n",
        "outputs = layers.Dense(1, activation=\"sigmoid\")(x)\n",
        "model_3 = tf.keras.Model(inputs, outputs, name=\"model_3_GRU\")"
      ]
    },
    {
      "cell_type": "code",
      "execution_count": 59,
      "metadata": {
        "id": "imS7u_hOf3XQ",
        "outputId": "72192f38-ca9e-457e-e784-84a94e4c0835",
        "colab": {
          "base_uri": "https://localhost:8080/"
        }
      },
      "outputs": [
        {
          "output_type": "stream",
          "name": "stdout",
          "text": [
            "Model: \"model_3_GRU\"\n",
            "_________________________________________________________________\n",
            " Layer (type)                Output Shape              Param #   \n",
            "=================================================================\n",
            " input_3 (InputLayer)        [(None, 1)]               0         \n",
            "                                                                 \n",
            " text_vectorization (TextVec  (None, 15)               0         \n",
            " torization)                                                     \n",
            "                                                                 \n",
            " embedding (Embedding)       (None, 15, 128)           1280000   \n",
            "                                                                 \n",
            " gru (GRU)                   (None, 64)                37248     \n",
            "                                                                 \n",
            " dense_3 (Dense)             (None, 64)                4160      \n",
            "                                                                 \n",
            " dense_4 (Dense)             (None, 1)                 65        \n",
            "                                                                 \n",
            "=================================================================\n",
            "Total params: 1,321,473\n",
            "Trainable params: 1,321,473\n",
            "Non-trainable params: 0\n",
            "_________________________________________________________________\n"
          ]
        }
      ],
      "source": [
        "model_3.summary()"
      ]
    },
    {
      "cell_type": "code",
      "execution_count": 60,
      "metadata": {
        "id": "7vKItguAf3XQ"
      },
      "outputs": [],
      "source": [
        "# Compile the model\n",
        "model_3.compile(\n",
        "    loss=\"binary_crossentropy\",\n",
        "    optimizer=tf.keras.optimizers.Adam(),\n",
        "    metrics=[\"accuracy\"])"
      ]
    },
    {
      "cell_type": "code",
      "execution_count": 61,
      "metadata": {
        "id": "wHRX_dNHf3XQ",
        "outputId": "2dd480f7-0728-4e2a-b86f-c008f643a810",
        "colab": {
          "base_uri": "https://localhost:8080/"
        }
      },
      "outputs": [
        {
          "output_type": "stream",
          "name": "stdout",
          "text": [
            "Saving TensorBoard log files to: model_logs/model_3_GRU/20220712-173142\n",
            "Epoch 1/5\n",
            "215/215 [==============================] - 3s 8ms/step - loss: 0.1552 - accuracy: 0.9406 - val_loss: 0.7885 - val_accuracy: 0.7677\n",
            "Epoch 2/5\n",
            "215/215 [==============================] - 1s 6ms/step - loss: 0.0809 - accuracy: 0.9701 - val_loss: 0.9247 - val_accuracy: 0.7717\n",
            "Epoch 3/5\n",
            "215/215 [==============================] - 1s 6ms/step - loss: 0.0655 - accuracy: 0.9740 - val_loss: 1.0065 - val_accuracy: 0.7730\n",
            "Epoch 4/5\n",
            "215/215 [==============================] - 1s 6ms/step - loss: 0.0551 - accuracy: 0.9769 - val_loss: 1.2358 - val_accuracy: 0.7690\n",
            "Epoch 5/5\n",
            "215/215 [==============================] - 1s 6ms/step - loss: 0.0511 - accuracy: 0.9759 - val_loss: 1.3106 - val_accuracy: 0.7690\n"
          ]
        }
      ],
      "source": [
        "# Fit \n",
        "model_3_history = model_3.fit(\n",
        "    train_sentences,\n",
        "    train_labels,\n",
        "    epochs=5,\n",
        "    validation_data=(val_sentences, val_labels),\n",
        "    callbacks=[create_tensorboard_callback(\n",
        "        SAVE_DIR,\n",
        "        \"model_3_GRU\")])"
      ]
    },
    {
      "cell_type": "code",
      "execution_count": 62,
      "metadata": {
        "id": "VWJmXzS5f3XR",
        "outputId": "cc01a3f0-5715-433d-cb46-b2b43f3cce4f",
        "colab": {
          "base_uri": "https://localhost:8080/"
        }
      },
      "outputs": [
        {
          "output_type": "execute_result",
          "data": {
            "text/plain": [
              "array([[6.4210291e-03],\n",
              "       [4.4472975e-01],\n",
              "       [9.9998808e-01],\n",
              "       [2.9606831e-01],\n",
              "       [1.0718668e-05],\n",
              "       [9.9979764e-01],\n",
              "       [1.3051219e-01],\n",
              "       [9.9999058e-01],\n",
              "       [9.9997520e-01],\n",
              "       [7.9509383e-01]], dtype=float32)"
            ]
          },
          "metadata": {},
          "execution_count": 62
        }
      ],
      "source": [
        "# Make predictions\n",
        "model_3_pred_probs = model_3.predict(val_sentences)\n",
        "model_3_pred_probs[:10]"
      ]
    },
    {
      "cell_type": "code",
      "execution_count": 63,
      "metadata": {
        "id": "iTeS3qY7f3XR",
        "outputId": "339fad80-f3ff-42c0-d4cc-364d41889828",
        "colab": {
          "base_uri": "https://localhost:8080/"
        }
      },
      "outputs": [
        {
          "output_type": "execute_result",
          "data": {
            "text/plain": [
              "<tf.Tensor: shape=(10,), dtype=float32, numpy=array([0., 0., 1., 0., 0., 1., 0., 1., 1., 1.], dtype=float32)>"
            ]
          },
          "metadata": {},
          "execution_count": 63
        }
      ],
      "source": [
        "# Convert pred_probs to labels\n",
        "model_3_preds = tf.squeeze(tf.round(model_3_pred_probs))\n",
        "model_3_preds[:10]"
      ]
    },
    {
      "cell_type": "code",
      "execution_count": 64,
      "metadata": {
        "id": "3YMiye8if3XR",
        "outputId": "ec748d98-c905-483d-f708-9054895ccc7d",
        "colab": {
          "base_uri": "https://localhost:8080/"
        }
      },
      "outputs": [
        {
          "output_type": "execute_result",
          "data": {
            "text/plain": [
              "{'accuracy': 76.9028871391076,\n",
              " 'f1-score': 0.7660901868079131,\n",
              " 'precision': 0.772410916855732,\n",
              " 'recall': 0.7690288713910761}"
            ]
          },
          "metadata": {},
          "execution_count": 64
        }
      ],
      "source": [
        "# Calculate model 3 results\n",
        "model_3_results = calculate_results(\n",
        "    y_true=val_labels,\n",
        "    y_pred=model_3_preds)\n",
        "model_3_results"
      ]
    },
    {
      "cell_type": "markdown",
      "metadata": {
        "id": "bU5YmhNff3XR"
      },
      "source": [
        "### Model 4: Bidirectional RNN\n",
        "\n",
        "Normal RNN's go from left to right (just like you'd read an English sentence), however a bidirectional RNN goes from right to left as well as left to right."
      ]
    },
    {
      "cell_type": "markdown",
      "metadata": {
        "id": "lZseeA1Hf3XS"
      },
      "source": [
        "> 📖 **Ressources:** \n",
        " - https://easy-tensorflow.com/tf-tutorials/recurrent-neural-networks/bidirectional-rnn-for-classification"
      ]
    },
    {
      "cell_type": "code",
      "execution_count": 65,
      "metadata": {
        "id": "YM_L2r54f3XS"
      },
      "outputs": [],
      "source": [
        "# Build a bidirectional RNN (BRNN)\n",
        "from tensorflow.keras import layers\n",
        "inputs = layers.Input(shape=(1,), dtype=\"string\")\n",
        "x = text_vectorizer(inputs)\n",
        "x = embedding(x)\n",
        "# x = layers.Bidirectional(layers.LSTM(64, return_sequences=True))(x)\n",
        "x = layers.Bidirectional(layers.LSTM(64))(x)\n",
        "outputs = layers.Dense(1, activation=\"sigmoid\")(x)\n",
        "model_4 = tf.keras.Model(inputs, outputs, name=\"model_4_BRNN\")"
      ]
    },
    {
      "cell_type": "code",
      "execution_count": 66,
      "metadata": {
        "id": "VVsiVpaEf3XS",
        "outputId": "77999757-417b-4ef5-967e-d8b59bac781c",
        "colab": {
          "base_uri": "https://localhost:8080/"
        }
      },
      "outputs": [
        {
          "output_type": "stream",
          "name": "stdout",
          "text": [
            "Model: \"model_4_BRNN\"\n",
            "_________________________________________________________________\n",
            " Layer (type)                Output Shape              Param #   \n",
            "=================================================================\n",
            " input_4 (InputLayer)        [(None, 1)]               0         \n",
            "                                                                 \n",
            " text_vectorization (TextVec  (None, 15)               0         \n",
            " torization)                                                     \n",
            "                                                                 \n",
            " embedding (Embedding)       (None, 15, 128)           1280000   \n",
            "                                                                 \n",
            " bidirectional (Bidirectiona  (None, 128)              98816     \n",
            " l)                                                              \n",
            "                                                                 \n",
            " dense_5 (Dense)             (None, 1)                 129       \n",
            "                                                                 \n",
            "=================================================================\n",
            "Total params: 1,378,945\n",
            "Trainable params: 1,378,945\n",
            "Non-trainable params: 0\n",
            "_________________________________________________________________\n"
          ]
        }
      ],
      "source": [
        "model_4.summary()"
      ]
    },
    {
      "cell_type": "code",
      "execution_count": 67,
      "metadata": {
        "id": "rjVY3UX2f3XS",
        "outputId": "fdd377f5-55e6-4114-d7bb-23933644ca3b",
        "colab": {
          "base_uri": "https://localhost:8080/"
        }
      },
      "outputs": [
        {
          "output_type": "stream",
          "name": "stdout",
          "text": [
            "Saving TensorBoard log files to: model_logs/model_4_BRNN/20220712-173151\n",
            "Epoch 1/5\n",
            "215/215 [==============================] - 5s 11ms/step - loss: 0.1118 - accuracy: 0.9626 - val_loss: 1.1073 - val_accuracy: 0.7743\n",
            "Epoch 2/5\n",
            "215/215 [==============================] - 2s 8ms/step - loss: 0.0500 - accuracy: 0.9793 - val_loss: 1.2874 - val_accuracy: 0.7690\n",
            "Epoch 3/5\n",
            "215/215 [==============================] - 2s 8ms/step - loss: 0.0484 - accuracy: 0.9793 - val_loss: 1.2297 - val_accuracy: 0.7703\n",
            "Epoch 4/5\n",
            "215/215 [==============================] - 2s 8ms/step - loss: 0.0427 - accuracy: 0.9801 - val_loss: 1.4414 - val_accuracy: 0.7690\n",
            "Epoch 5/5\n",
            "215/215 [==============================] - 2s 8ms/step - loss: 0.0417 - accuracy: 0.9803 - val_loss: 1.3258 - val_accuracy: 0.7677\n"
          ]
        },
        {
          "output_type": "execute_result",
          "data": {
            "text/plain": [
              "<keras.callbacks.History at 0x7f0ad641ecd0>"
            ]
          },
          "metadata": {},
          "execution_count": 67
        }
      ],
      "source": [
        "model_4.compile(\n",
        "    loss=\"binary_crossentropy\",\n",
        "    optimizer=tf.keras.optimizers.Adam(),\n",
        "    metrics=[\"accuracy\"]\n",
        ")\n",
        "\n",
        "model_4.fit(\n",
        "    train_sentences,\n",
        "    train_labels,\n",
        "    epochs=5,\n",
        "    validation_data=(val_sentences, val_labels),\n",
        "    callbacks=[create_tensorboard_callback(\n",
        "        SAVE_DIR,\n",
        "        \"model_4_BRNN\")])"
      ]
    },
    {
      "cell_type": "code",
      "execution_count": 68,
      "metadata": {
        "id": "Ikqh-fqBf3XT",
        "outputId": "b388197a-9259-494c-fdc7-307820032240",
        "colab": {
          "base_uri": "https://localhost:8080/"
        }
      },
      "outputs": [
        {
          "output_type": "execute_result",
          "data": {
            "text/plain": [
              "array([[1.8069221e-01],\n",
              "       [9.7826147e-01],\n",
              "       [9.9996758e-01],\n",
              "       [2.3242012e-01],\n",
              "       [2.9510060e-05],\n",
              "       [9.9980706e-01],\n",
              "       [9.2942119e-01],\n",
              "       [9.9997616e-01],\n",
              "       [9.9996483e-01],\n",
              "       [8.5806286e-01]], dtype=float32)"
            ]
          },
          "metadata": {},
          "execution_count": 68
        }
      ],
      "source": [
        "model_4_pred_probs = model_4.predict(val_sentences)\n",
        "model_4_pred_probs[:10]"
      ]
    },
    {
      "cell_type": "code",
      "execution_count": 69,
      "metadata": {
        "id": "WyPF8b2If3XT",
        "outputId": "6efe169c-105c-4dbb-b160-d20fbffc5c8d",
        "colab": {
          "base_uri": "https://localhost:8080/"
        }
      },
      "outputs": [
        {
          "output_type": "execute_result",
          "data": {
            "text/plain": [
              "<tf.Tensor: shape=(10,), dtype=float32, numpy=array([0., 1., 1., 0., 0., 1., 1., 1., 1., 1.], dtype=float32)>"
            ]
          },
          "metadata": {},
          "execution_count": 69
        }
      ],
      "source": [
        "model_4_preds = tf.squeeze(tf.round(model_4_pred_probs))\n",
        "model_4_preds[:10]"
      ]
    },
    {
      "cell_type": "code",
      "execution_count": 70,
      "metadata": {
        "id": "Un1PJKMJf3XT",
        "outputId": "9e39e6b9-4dba-46d1-ff45-43c039ec9adf",
        "colab": {
          "base_uri": "https://localhost:8080/"
        }
      },
      "outputs": [
        {
          "output_type": "execute_result",
          "data": {
            "text/plain": [
              "{'accuracy': 76.77165354330708,\n",
              " 'f1-score': 0.7662770891654436,\n",
              " 'precision': 0.7681410880728078,\n",
              " 'recall': 0.7677165354330708}"
            ]
          },
          "metadata": {},
          "execution_count": 70
        }
      ],
      "source": [
        "model_4_results = calculate_results(\n",
        "    y_true=val_labels,\n",
        "    y_pred=model_4_preds\n",
        ")\n",
        "model_4_results"
      ]
    },
    {
      "cell_type": "markdown",
      "metadata": {
        "id": "bZSRfGhDf3XT"
      },
      "source": [
        "## Convolutional Neural Networks for Text (and other types of sequences)\n",
        "\n",
        "We've used CNNs for images but images are typically 2D (height x width)... however our textdata is 1D.\n",
        "\n",
        "Previously we've used Conv2D for our image data but now we're going to use Conv1D.\n",
        "\n",
        "The typical structure of a Conv1D model for sequences (in our case, text):\n",
        "```\n",
        "Inputs (text) -> Tokenization -> Embedding -> Layer(s) (typically Conv1D + pooling) -> Outputs (class probabilities)\n",
        "```"
      ]
    },
    {
      "cell_type": "markdown",
      "metadata": {
        "id": "ui9RDLjUf3XT"
      },
      "source": [
        "### Model 5: Conv1D\n",
        "\n",
        "For different explanations of parameters see:\n",
        "* https://poloclub.github.io/cnn-explainer/ (this is for 2D but can relate to 1D data)\n",
        "* Difference between same and valid padding: https://stackoverflow.com/questions/37674306/what-is-the-difference-between-same-and-valid-padding-in-tf-nn-max-pool-of-t\n"
      ]
    },
    {
      "cell_type": "code",
      "execution_count": 71,
      "metadata": {
        "id": "_WkabAtxf3XT",
        "outputId": "dcd65ca9-79ef-490a-f5ed-340ab9936e96",
        "colab": {
          "base_uri": "https://localhost:8080/"
        }
      },
      "outputs": [
        {
          "output_type": "execute_result",
          "data": {
            "text/plain": [
              "(TensorShape([1, 15, 128]), TensorShape([1, 15, 32]), TensorShape([1, 32]))"
            ]
          },
          "metadata": {},
          "execution_count": 71
        }
      ],
      "source": [
        "# Test out our embedding layer, Conv1D layer and max pooling\n",
        "from tensorflow.keras import layers\n",
        "embedding_test = embedding(text_vectorizer([\"This a test sentence\"])) # turn target sequence into an embedding\n",
        "conv_1d = layers.Conv1D(\n",
        "    filters=32,\n",
        "    kernel_size=5,\n",
        "    activation=\"relu\",\n",
        "    padding=\"same\"\n",
        ")\n",
        "conv_1d_output = conv_1d(embedding_test) #6 pass test embedding through our Conv1D layer\n",
        "max_pool = layers.GlobalMaxPooling1D()\n",
        "max_pool_output = max_pool(conv_1d_output) # equivalent to \"get the most important feature\" or \"get the feature with the highest value\"\n",
        "\n",
        "embedding_test.shape, conv_1d_output.shape, max_pool_output.shape"
      ]
    },
    {
      "cell_type": "code",
      "execution_count": 72,
      "metadata": {
        "id": "cjlG-mdof3XU",
        "outputId": "437282cc-2b17-4f8e-8305-a95e83e93cd0",
        "colab": {
          "base_uri": "https://localhost:8080/"
        }
      },
      "outputs": [
        {
          "output_type": "execute_result",
          "data": {
            "text/plain": [
              "<tf.Tensor: shape=(1, 15, 128), dtype=float32, numpy=\n",
              "array([[[ 0.05846079, -0.00607412,  0.04632553, ...,  0.07662604,\n",
              "         -0.04180934,  0.02042088],\n",
              "        [ 0.02659065,  0.00033405,  0.0111361 , ...,  0.02466691,\n",
              "         -0.07765971,  0.02062846],\n",
              "        [-0.00510978, -0.01981938, -0.12607175, ..., -0.03898013,\n",
              "          0.04852548,  0.01195497],\n",
              "        ...,\n",
              "        [ 0.02273669,  0.0083076 ,  0.01255527, ...,  0.04086352,\n",
              "         -0.0547768 ,  0.00077887],\n",
              "        [ 0.02273669,  0.0083076 ,  0.01255527, ...,  0.04086352,\n",
              "         -0.0547768 ,  0.00077887],\n",
              "        [ 0.02273669,  0.0083076 ,  0.01255527, ...,  0.04086352,\n",
              "         -0.0547768 ,  0.00077887]]], dtype=float32)>"
            ]
          },
          "metadata": {},
          "execution_count": 72
        }
      ],
      "source": [
        "embedding_test"
      ]
    },
    {
      "cell_type": "code",
      "execution_count": 73,
      "metadata": {
        "id": "UDGzG3B3f3XU",
        "outputId": "36dba97a-77ad-4ba6-bc65-8e7cb63d911b",
        "colab": {
          "base_uri": "https://localhost:8080/"
        }
      },
      "outputs": [
        {
          "output_type": "execute_result",
          "data": {
            "text/plain": [
              "<tf.Tensor: shape=(1, 15, 32), dtype=float32, numpy=\n",
              "array([[[0.00000000e+00, 0.00000000e+00, 4.57468107e-02, 0.00000000e+00,\n",
              "         3.81535292e-02, 7.63439387e-02, 1.96403936e-02, 0.00000000e+00,\n",
              "         2.52681226e-02, 0.00000000e+00, 5.21171056e-02, 0.00000000e+00,\n",
              "         0.00000000e+00, 0.00000000e+00, 4.37481478e-02, 1.53670553e-02,\n",
              "         6.98568672e-02, 0.00000000e+00, 0.00000000e+00, 0.00000000e+00,\n",
              "         0.00000000e+00, 0.00000000e+00, 0.00000000e+00, 0.00000000e+00,\n",
              "         0.00000000e+00, 0.00000000e+00, 0.00000000e+00, 7.51482323e-03,\n",
              "         0.00000000e+00, 0.00000000e+00, 3.16073969e-02, 3.44706960e-02],\n",
              "        [0.00000000e+00, 0.00000000e+00, 6.08274993e-03, 7.00572506e-02,\n",
              "         0.00000000e+00, 2.54937634e-03, 2.73008477e-02, 0.00000000e+00,\n",
              "         1.45382888e-03, 0.00000000e+00, 0.00000000e+00, 1.37964264e-02,\n",
              "         7.39113539e-02, 1.47348521e-02, 3.41558158e-02, 0.00000000e+00,\n",
              "         3.43557298e-02, 2.08353885e-02, 0.00000000e+00, 0.00000000e+00,\n",
              "         1.64854750e-02, 0.00000000e+00, 0.00000000e+00, 4.46758792e-02,\n",
              "         2.99805813e-02, 0.00000000e+00, 0.00000000e+00, 0.00000000e+00,\n",
              "         0.00000000e+00, 0.00000000e+00, 1.06435046e-02, 4.98164333e-02],\n",
              "        [0.00000000e+00, 0.00000000e+00, 2.65010316e-02, 1.04668856e-01,\n",
              "         0.00000000e+00, 0.00000000e+00, 4.34780270e-02, 0.00000000e+00,\n",
              "         8.71103629e-02, 4.87613678e-03, 0.00000000e+00, 0.00000000e+00,\n",
              "         3.64838839e-02, 0.00000000e+00, 0.00000000e+00, 0.00000000e+00,\n",
              "         1.43857270e-01, 1.18295401e-01, 0.00000000e+00, 0.00000000e+00,\n",
              "         2.47282982e-02, 0.00000000e+00, 0.00000000e+00, 5.61420806e-02,\n",
              "         0.00000000e+00, 0.00000000e+00, 5.78274354e-02, 0.00000000e+00,\n",
              "         3.50193260e-03, 1.67974308e-01, 0.00000000e+00, 4.39222269e-02],\n",
              "        [0.00000000e+00, 1.50169255e-02, 0.00000000e+00, 3.19007114e-02,\n",
              "         0.00000000e+00, 6.76334128e-02, 5.31071723e-02, 0.00000000e+00,\n",
              "         0.00000000e+00, 0.00000000e+00, 0.00000000e+00, 0.00000000e+00,\n",
              "         0.00000000e+00, 8.25625882e-02, 0.00000000e+00, 2.93134581e-02,\n",
              "         0.00000000e+00, 1.15090758e-02, 0.00000000e+00, 3.02423965e-02,\n",
              "         3.16862687e-02, 9.23081189e-02, 0.00000000e+00, 2.09455639e-02,\n",
              "         0.00000000e+00, 4.70370520e-03, 7.63242040e-03, 0.00000000e+00,\n",
              "         4.95614931e-02, 1.51138566e-02, 0.00000000e+00, 7.27150077e-03],\n",
              "        [0.00000000e+00, 0.00000000e+00, 1.27339736e-05, 9.61670280e-03,\n",
              "         0.00000000e+00, 7.36455247e-02, 7.20172003e-03, 0.00000000e+00,\n",
              "         0.00000000e+00, 0.00000000e+00, 5.54495938e-02, 0.00000000e+00,\n",
              "         0.00000000e+00, 2.85316966e-02, 5.63319772e-03, 5.52740283e-02,\n",
              "         0.00000000e+00, 5.29991239e-02, 0.00000000e+00, 8.06374177e-02,\n",
              "         0.00000000e+00, 4.85125706e-02, 0.00000000e+00, 2.10647732e-02,\n",
              "         0.00000000e+00, 0.00000000e+00, 0.00000000e+00, 0.00000000e+00,\n",
              "         8.86604283e-03, 1.34616215e-02, 0.00000000e+00, 0.00000000e+00],\n",
              "        [1.85007770e-02, 1.13749253e-02, 2.01497227e-02, 7.21813738e-03,\n",
              "         0.00000000e+00, 1.94684640e-02, 0.00000000e+00, 0.00000000e+00,\n",
              "         1.25191119e-02, 0.00000000e+00, 5.43625979e-03, 0.00000000e+00,\n",
              "         0.00000000e+00, 0.00000000e+00, 4.80228439e-02, 0.00000000e+00,\n",
              "         0.00000000e+00, 2.41927020e-02, 0.00000000e+00, 1.74636878e-02,\n",
              "         0.00000000e+00, 2.37032939e-02, 0.00000000e+00, 2.38102674e-03,\n",
              "         0.00000000e+00, 0.00000000e+00, 0.00000000e+00, 0.00000000e+00,\n",
              "         1.07212914e-02, 5.03623709e-02, 0.00000000e+00, 5.82528487e-03],\n",
              "        [0.00000000e+00, 0.00000000e+00, 9.33391694e-03, 2.81667523e-02,\n",
              "         0.00000000e+00, 1.28333773e-02, 2.30031391e-03, 2.50803512e-02,\n",
              "         0.00000000e+00, 0.00000000e+00, 6.25338592e-03, 0.00000000e+00,\n",
              "         1.22667826e-03, 0.00000000e+00, 2.13094577e-02, 4.01621219e-03,\n",
              "         0.00000000e+00, 1.97875053e-02, 0.00000000e+00, 8.19738768e-03,\n",
              "         0.00000000e+00, 1.17394049e-02, 0.00000000e+00, 3.53984162e-02,\n",
              "         0.00000000e+00, 1.57392193e-02, 0.00000000e+00, 0.00000000e+00,\n",
              "         1.06553969e-04, 7.06881136e-02, 0.00000000e+00, 6.67972490e-03],\n",
              "        [0.00000000e+00, 0.00000000e+00, 9.33392346e-03, 2.81667523e-02,\n",
              "         0.00000000e+00, 1.28333764e-02, 2.30031647e-03, 2.50803456e-02,\n",
              "         0.00000000e+00, 0.00000000e+00, 6.25338592e-03, 0.00000000e+00,\n",
              "         1.22668012e-03, 0.00000000e+00, 2.13094652e-02, 4.01621684e-03,\n",
              "         0.00000000e+00, 1.97875127e-02, 0.00000000e+00, 8.19738675e-03,\n",
              "         0.00000000e+00, 1.17394058e-02, 0.00000000e+00, 3.53984162e-02,\n",
              "         0.00000000e+00, 1.57392174e-02, 0.00000000e+00, 0.00000000e+00,\n",
              "         1.06555926e-04, 7.06881136e-02, 0.00000000e+00, 6.67973096e-03],\n",
              "        [0.00000000e+00, 0.00000000e+00, 9.33392812e-03, 2.81667523e-02,\n",
              "         0.00000000e+00, 1.28333755e-02, 2.30032206e-03, 2.50803530e-02,\n",
              "         0.00000000e+00, 0.00000000e+00, 6.25338219e-03, 0.00000000e+00,\n",
              "         1.22667989e-03, 0.00000000e+00, 2.13094633e-02, 4.01621684e-03,\n",
              "         0.00000000e+00, 1.97875090e-02, 0.00000000e+00, 8.19738582e-03,\n",
              "         0.00000000e+00, 1.17393974e-02, 0.00000000e+00, 3.53984274e-02,\n",
              "         0.00000000e+00, 1.57392174e-02, 0.00000000e+00, 0.00000000e+00,\n",
              "         1.06551190e-04, 7.06881136e-02, 0.00000000e+00, 6.67973049e-03],\n",
              "        [0.00000000e+00, 0.00000000e+00, 9.33392253e-03, 2.81667504e-02,\n",
              "         0.00000000e+00, 1.28333755e-02, 2.30032532e-03, 2.50803549e-02,\n",
              "         0.00000000e+00, 0.00000000e+00, 6.25338219e-03, 0.00000000e+00,\n",
              "         1.22668454e-03, 0.00000000e+00, 2.13094652e-02, 4.01620753e-03,\n",
              "         0.00000000e+00, 1.97875015e-02, 0.00000000e+00, 8.19737837e-03,\n",
              "         0.00000000e+00, 1.17393956e-02, 0.00000000e+00, 3.53984237e-02,\n",
              "         0.00000000e+00, 1.57392137e-02, 0.00000000e+00, 0.00000000e+00,\n",
              "         1.06555301e-04, 7.06881136e-02, 0.00000000e+00, 6.67973608e-03],\n",
              "        [0.00000000e+00, 0.00000000e+00, 9.33392067e-03, 2.81667542e-02,\n",
              "         0.00000000e+00, 1.28333699e-02, 2.30032252e-03, 2.50803530e-02,\n",
              "         0.00000000e+00, 0.00000000e+00, 6.25338033e-03, 0.00000000e+00,\n",
              "         1.22668198e-03, 0.00000000e+00, 2.13094633e-02, 4.01621219e-03,\n",
              "         0.00000000e+00, 1.97875090e-02, 0.00000000e+00, 8.19738768e-03,\n",
              "         0.00000000e+00, 1.17394021e-02, 0.00000000e+00, 3.53984237e-02,\n",
              "         0.00000000e+00, 1.57392118e-02, 0.00000000e+00, 0.00000000e+00,\n",
              "         1.06554886e-04, 7.06881210e-02, 0.00000000e+00, 6.67973235e-03],\n",
              "        [0.00000000e+00, 0.00000000e+00, 9.33392346e-03, 2.81667449e-02,\n",
              "         0.00000000e+00, 1.28333773e-02, 2.30031973e-03, 2.50803493e-02,\n",
              "         0.00000000e+00, 0.00000000e+00, 6.25338033e-03, 0.00000000e+00,\n",
              "         1.22668117e-03, 0.00000000e+00, 2.13094614e-02, 4.01622057e-03,\n",
              "         0.00000000e+00, 1.97875164e-02, 0.00000000e+00, 8.19739327e-03,\n",
              "         0.00000000e+00, 1.17394123e-02, 0.00000000e+00, 3.53984237e-02,\n",
              "         0.00000000e+00, 1.57392211e-02, 0.00000000e+00, 0.00000000e+00,\n",
              "         1.06560386e-04, 7.06881210e-02, 0.00000000e+00, 6.67973049e-03],\n",
              "        [0.00000000e+00, 0.00000000e+00, 9.33391973e-03, 2.81667560e-02,\n",
              "         0.00000000e+00, 1.28333792e-02, 2.30032392e-03, 2.50803512e-02,\n",
              "         0.00000000e+00, 0.00000000e+00, 6.25338126e-03, 0.00000000e+00,\n",
              "         1.22668594e-03, 0.00000000e+00, 2.13094577e-02, 4.01621684e-03,\n",
              "         0.00000000e+00, 1.97875034e-02, 0.00000000e+00, 8.19737837e-03,\n",
              "         0.00000000e+00, 1.17394067e-02, 0.00000000e+00, 3.53984199e-02,\n",
              "         0.00000000e+00, 1.57392118e-02, 0.00000000e+00, 0.00000000e+00,\n",
              "         1.06554478e-04, 7.06881210e-02, 0.00000000e+00, 6.67973142e-03],\n",
              "        [0.00000000e+00, 0.00000000e+00, 1.68432482e-02, 2.77067907e-02,\n",
              "         0.00000000e+00, 0.00000000e+00, 0.00000000e+00, 2.73939688e-02,\n",
              "         0.00000000e+00, 0.00000000e+00, 1.72549263e-02, 0.00000000e+00,\n",
              "         0.00000000e+00, 0.00000000e+00, 1.03018200e-03, 8.87348223e-03,\n",
              "         0.00000000e+00, 1.68411527e-03, 0.00000000e+00, 1.64120235e-02,\n",
              "         4.13081050e-03, 0.00000000e+00, 0.00000000e+00, 4.27452326e-02,\n",
              "         0.00000000e+00, 1.64319389e-02, 0.00000000e+00, 0.00000000e+00,\n",
              "         1.50802210e-02, 5.78613840e-02, 0.00000000e+00, 0.00000000e+00],\n",
              "        [3.08387796e-03, 0.00000000e+00, 8.90264101e-03, 2.83671357e-02,\n",
              "         0.00000000e+00, 0.00000000e+00, 0.00000000e+00, 2.51408536e-02,\n",
              "         0.00000000e+00, 0.00000000e+00, 1.35745034e-02, 0.00000000e+00,\n",
              "         6.78523909e-04, 0.00000000e+00, 0.00000000e+00, 0.00000000e+00,\n",
              "         0.00000000e+00, 1.93618126e-02, 0.00000000e+00, 0.00000000e+00,\n",
              "         2.43013911e-03, 0.00000000e+00, 0.00000000e+00, 3.37343551e-02,\n",
              "         0.00000000e+00, 1.26755126e-02, 0.00000000e+00, 0.00000000e+00,\n",
              "         8.97365436e-03, 4.29274775e-02, 0.00000000e+00, 1.15827220e-02]]],\n",
              "      dtype=float32)>"
            ]
          },
          "metadata": {},
          "execution_count": 73
        }
      ],
      "source": [
        "conv_1d_output"
      ]
    },
    {
      "cell_type": "code",
      "execution_count": 74,
      "metadata": {
        "id": "Byg_0z40f3XV",
        "outputId": "4ba7f09d-06a9-4415-9f46-78ade6e0ac07",
        "colab": {
          "base_uri": "https://localhost:8080/"
        }
      },
      "outputs": [
        {
          "output_type": "execute_result",
          "data": {
            "text/plain": [
              "<tf.Tensor: shape=(1, 32), dtype=float32, numpy=\n",
              "array([[0.01850078, 0.01501693, 0.04574681, 0.10466886, 0.03815353,\n",
              "        0.07634394, 0.05310717, 0.02739397, 0.08711036, 0.00487614,\n",
              "        0.05544959, 0.01379643, 0.07391135, 0.08256259, 0.04802284,\n",
              "        0.05527403, 0.14385727, 0.1182954 , 0.        , 0.08063742,\n",
              "        0.03168627, 0.09230812, 0.        , 0.05614208, 0.02998058,\n",
              "        0.01643194, 0.05782744, 0.00751482, 0.04956149, 0.16797431,\n",
              "        0.0316074 , 0.04981643]], dtype=float32)>"
            ]
          },
          "metadata": {},
          "execution_count": 74
        }
      ],
      "source": [
        "max_pool_output"
      ]
    },
    {
      "cell_type": "code",
      "execution_count": 75,
      "metadata": {
        "id": "0vReqwPdf3XW"
      },
      "outputs": [],
      "source": [
        "# Create 1-d convolutional layer to model sequences\n",
        "from tensorflow.keras import layers\n",
        "inputs = layers.Input(shape=(1,), dtype=\"string\")\n",
        "x = text_vectorizer(inputs)\n",
        "x = embedding(x)\n",
        "x = layers.Conv1D(\n",
        "    filters=64, \n",
        "    kernel_size=5, # each filter is looking at 5 words at a time\n",
        "    strides=1,\n",
        "    activation=\"relu\",\n",
        "    padding=\"valid\",\n",
        ")(x)\n",
        "x = layers.GlobalMaxPool1D()(x)\n",
        "# x =layers.Dense(64, activation=\"relu\")(x)\n",
        "outputs = layers.Dense(1, activation=\"sigmoid\")(x)\n",
        "model_5 = tf.keras.Model(inputs, outputs, name=\"model_5_Conv1D\")\n"
      ]
    },
    {
      "cell_type": "code",
      "execution_count": 76,
      "metadata": {
        "id": "ixSxnnRQf3XW",
        "outputId": "425dcb8f-feda-40fe-8c53-7b03cd2370ef",
        "colab": {
          "base_uri": "https://localhost:8080/"
        }
      },
      "outputs": [
        {
          "output_type": "stream",
          "name": "stdout",
          "text": [
            "Model: \"model_5_Conv1D\"\n",
            "_________________________________________________________________\n",
            " Layer (type)                Output Shape              Param #   \n",
            "=================================================================\n",
            " input_5 (InputLayer)        [(None, 1)]               0         \n",
            "                                                                 \n",
            " text_vectorization (TextVec  (None, 15)               0         \n",
            " torization)                                                     \n",
            "                                                                 \n",
            " embedding (Embedding)       (None, 15, 128)           1280000   \n",
            "                                                                 \n",
            " conv1d_1 (Conv1D)           (None, 11, 64)            41024     \n",
            "                                                                 \n",
            " global_max_pooling1d_1 (Glo  (None, 64)               0         \n",
            " balMaxPooling1D)                                                \n",
            "                                                                 \n",
            " dense_6 (Dense)             (None, 1)                 65        \n",
            "                                                                 \n",
            "=================================================================\n",
            "Total params: 1,321,089\n",
            "Trainable params: 1,321,089\n",
            "Non-trainable params: 0\n",
            "_________________________________________________________________\n"
          ]
        }
      ],
      "source": [
        "model_5.summary()"
      ]
    },
    {
      "cell_type": "code",
      "execution_count": 77,
      "metadata": {
        "id": "tWmm4Cjrf3XX"
      },
      "outputs": [],
      "source": [
        "model_5.compile(\n",
        "    loss=\"binary_crossentropy\",\n",
        "    optimizer=tf.keras.optimizers.Adam(),\n",
        "    metrics=[\"accuracy\"]\n",
        ")"
      ]
    },
    {
      "cell_type": "code",
      "execution_count": 78,
      "metadata": {
        "id": "J-WlCiqWf3XX",
        "outputId": "3bb2db84-35c4-4990-bc52-3a08f7081d79",
        "colab": {
          "base_uri": "https://localhost:8080/"
        }
      },
      "outputs": [
        {
          "output_type": "stream",
          "name": "stdout",
          "text": [
            "Saving TensorBoard log files to: model_logs/model_5_Conv1D/20220712-173211\n",
            "Epoch 1/5\n",
            "215/215 [==============================] - 4s 9ms/step - loss: 0.1273 - accuracy: 0.9565 - val_loss: 0.9076 - val_accuracy: 0.7664\n",
            "Epoch 2/5\n",
            "215/215 [==============================] - 2s 7ms/step - loss: 0.0758 - accuracy: 0.9727 - val_loss: 1.0593 - val_accuracy: 0.7559\n",
            "Epoch 3/5\n",
            "215/215 [==============================] - 1s 5ms/step - loss: 0.0624 - accuracy: 0.9749 - val_loss: 1.1446 - val_accuracy: 0.7625\n",
            "Epoch 4/5\n",
            "215/215 [==============================] - 1s 5ms/step - loss: 0.0537 - accuracy: 0.9777 - val_loss: 1.1921 - val_accuracy: 0.7598\n",
            "Epoch 5/5\n",
            "215/215 [==============================] - 1s 5ms/step - loss: 0.0537 - accuracy: 0.9783 - val_loss: 1.1905 - val_accuracy: 0.7598\n"
          ]
        },
        {
          "output_type": "execute_result",
          "data": {
            "text/plain": [
              "<keras.callbacks.History at 0x7f0ad517b450>"
            ]
          },
          "metadata": {},
          "execution_count": 78
        }
      ],
      "source": [
        "model_5.fit(\n",
        "    train_sentences,\n",
        "    train_labels,\n",
        "    epochs=5,\n",
        "    validation_data=(val_sentences, val_labels),\n",
        "    callbacks=[create_tensorboard_callback(\n",
        "        SAVE_DIR,\n",
        "        \"model_5_Conv1D\"\n",
        "    )]\n",
        ")"
      ]
    },
    {
      "cell_type": "code",
      "execution_count": 79,
      "metadata": {
        "id": "grSAeHEMf3XY",
        "outputId": "3b09c0d5-f701-415e-a1ad-03eef97c27d4",
        "colab": {
          "base_uri": "https://localhost:8080/"
        }
      },
      "outputs": [
        {
          "output_type": "execute_result",
          "data": {
            "text/plain": [
              "array([[4.5639026e-01],\n",
              "       [9.4488043e-01],\n",
              "       [9.9996912e-01],\n",
              "       [9.3256667e-02],\n",
              "       [1.1717701e-06],\n",
              "       [9.9941373e-01],\n",
              "       [9.7977358e-01],\n",
              "       [9.9998367e-01],\n",
              "       [9.9999964e-01],\n",
              "       [8.8437963e-01]], dtype=float32)"
            ]
          },
          "metadata": {},
          "execution_count": 79
        }
      ],
      "source": [
        "model_5_pred_probs = model_5.predict(val_sentences)\n",
        "model_5_pred_probs[:10]"
      ]
    },
    {
      "cell_type": "code",
      "execution_count": 80,
      "metadata": {
        "id": "ykSoUJuuf3XY",
        "outputId": "46d36c00-91dc-4e63-e63e-b4670eb51cfe",
        "colab": {
          "base_uri": "https://localhost:8080/"
        }
      },
      "outputs": [
        {
          "output_type": "execute_result",
          "data": {
            "text/plain": [
              "<tf.Tensor: shape=(10,), dtype=float32, numpy=array([0., 1., 1., 0., 0., 1., 1., 1., 1., 1.], dtype=float32)>"
            ]
          },
          "metadata": {},
          "execution_count": 80
        }
      ],
      "source": [
        "model_5_preds = tf.squeeze(tf.round(model_5_pred_probs))\n",
        "model_5_preds[:10]"
      ]
    },
    {
      "cell_type": "code",
      "execution_count": 81,
      "metadata": {
        "id": "wiT_trxMf3XY",
        "outputId": "394d475a-57a7-4879-f6ff-e979598edd97",
        "colab": {
          "base_uri": "https://localhost:8080/"
        }
      },
      "outputs": [
        {
          "output_type": "execute_result",
          "data": {
            "text/plain": [
              "{'accuracy': 75.98425196850394,\n",
              " 'f1-score': 0.7590768821741806,\n",
              " 'precision': 0.7594780880165999,\n",
              " 'recall': 0.7598425196850394}"
            ]
          },
          "metadata": {},
          "execution_count": 81
        }
      ],
      "source": [
        "model_5_results = calculate_results(\n",
        "    y_true=val_labels,\n",
        "    y_pred=model_5_preds\n",
        ")\n",
        "model_5_results"
      ]
    },
    {
      "cell_type": "markdown",
      "metadata": {
        "id": "HMt1wZIvf3XY"
      },
      "source": [
        "## Model 6: TensorFlow Hub Pretrained Sentence Encoder\n",
        "\n",
        "Now we've build a few of our own model, let's try and use transfer leraning for NLP, specifically using TensorFlow Hub's Universal Sentence Encoder."
      ]
    },
    {
      "cell_type": "code",
      "execution_count": 82,
      "metadata": {
        "id": "UEKnVazgf3XY",
        "outputId": "d1ab089a-5d40-4af1-9aec-cd50ad21542f",
        "colab": {
          "base_uri": "https://localhost:8080/",
          "height": 591
        }
      },
      "outputs": [
        {
          "output_type": "execute_result",
          "data": {
            "text/plain": [
              "\"There's a flood in my street\""
            ],
            "application/vnd.google.colaboratory.intrinsic+json": {
              "type": "string"
            }
          },
          "metadata": {},
          "execution_count": 82
        }
      ],
      "source": [
        "sample_sentence"
      ]
    },
    {
      "cell_type": "code",
      "execution_count": 83,
      "metadata": {
        "id": "U4YTywxof3XZ",
        "outputId": "9beb0f39-024d-41c1-b576-f5b310e2f60e",
        "colab": {
          "base_uri": "https://localhost:8080/"
        }
      },
      "outputs": [
        {
          "output_type": "stream",
          "name": "stdout",
          "text": [
            "tf.Tensor(\n",
            "[-0.01157028  0.0248591   0.02878048 -0.012715    0.03971538  0.0882776\n",
            "  0.02680984  0.05589836 -0.0106873  -0.00597291  0.00639323 -0.01819518\n",
            "  0.00030813  0.09105888  0.05874644 -0.03180628  0.01512474 -0.05162929\n",
            "  0.00991367 -0.06865347 -0.04209306  0.02678981  0.03011006  0.00321069\n",
            " -0.00337973 -0.04787357  0.0226672  -0.00985925 -0.04063613 -0.01292092\n",
            " -0.04666384  0.05630299 -0.03949255  0.00517686  0.02495829 -0.0701444\n",
            "  0.02871508  0.04947684 -0.00633979 -0.08960192  0.02807118 -0.00808364\n",
            " -0.01360602  0.0599865  -0.10361787 -0.05195374  0.00232954 -0.02332531\n",
            " -0.03758105  0.03327728], shape=(50,), dtype=float32)\n"
          ]
        }
      ],
      "source": [
        "# Example of pretrained embedding with universal sentence encoder - https://tfhub.dev/google/universal-sentence-encoder/4\n",
        "import tensorflow_hub as hub\n",
        "embed = hub.load(\"https://tfhub.dev/google/universal-sentence-encoder/4\") # load Universal Sentence Encoder\n",
        "embed_samples = embed([sample_sentence,\n",
        "                      \"When you call the universal sentence encoder on a sentence, it turns it into numbers.\"])\n",
        "\n",
        "print(embed_samples[0][:50])"
      ]
    },
    {
      "cell_type": "code",
      "execution_count": 84,
      "metadata": {
        "id": "MS30fR8nf3XZ"
      },
      "outputs": [],
      "source": [
        "# Create a Keras Layer using the USW pretrained layer from tensorflow hub\n",
        "sentence_encoder_layer = hub.KerasLayer(\n",
        "    \"https://tfhub.dev/google/universal-sentence-encoder/4\",\n",
        "    input_shape=[],\n",
        "    dtype=tf.string,\n",
        "    trainable=False,\n",
        "    name=\"USE\"\n",
        ")"
      ]
    },
    {
      "cell_type": "code",
      "execution_count": 85,
      "metadata": {
        "id": "yiA-UUNrf3XZ"
      },
      "outputs": [],
      "source": [
        "# Create model using the Sequential API\n",
        "model_6 = tf.keras.Sequential([\n",
        "    sentence_encoder_layer,\n",
        "    layers.Dense(64, activation=\"relu\"),\n",
        "    layers.Dense(1, activation=\"sigmoid\", name=\"output_layer\"),\n",
        "], name=\"model_6_USE\")"
      ]
    },
    {
      "cell_type": "code",
      "execution_count": 86,
      "metadata": {
        "id": "I5cxPY22f3XZ"
      },
      "outputs": [],
      "source": [
        "# Compile the model\n",
        "model_6.compile(\n",
        "    loss=\"binary_crossentropy\",\n",
        "    optimizer=tf.keras.optimizers.Adam(),\n",
        "    metrics=[\"accuracy\"]\n",
        ")"
      ]
    },
    {
      "cell_type": "code",
      "execution_count": 87,
      "metadata": {
        "id": "WffLApJwf3XZ",
        "outputId": "1b92327e-2f8a-40ed-96ca-287bb50e0094",
        "colab": {
          "base_uri": "https://localhost:8080/"
        }
      },
      "outputs": [
        {
          "output_type": "stream",
          "name": "stdout",
          "text": [
            "Model: \"model_6_USE\"\n",
            "_________________________________________________________________\n",
            " Layer (type)                Output Shape              Param #   \n",
            "=================================================================\n",
            " USE (KerasLayer)            (None, 512)               256797824 \n",
            "                                                                 \n",
            " dense_7 (Dense)             (None, 64)                32832     \n",
            "                                                                 \n",
            " output_layer (Dense)        (None, 1)                 65        \n",
            "                                                                 \n",
            "=================================================================\n",
            "Total params: 256,830,721\n",
            "Trainable params: 32,897\n",
            "Non-trainable params: 256,797,824\n",
            "_________________________________________________________________\n"
          ]
        }
      ],
      "source": [
        "model_6.summary()"
      ]
    },
    {
      "cell_type": "code",
      "execution_count": 88,
      "metadata": {
        "id": "QNQ15YWGf3XZ",
        "outputId": "592629c9-afcd-468d-bd84-7a661ec10fa5",
        "colab": {
          "base_uri": "https://localhost:8080/"
        }
      },
      "outputs": [
        {
          "output_type": "stream",
          "name": "stdout",
          "text": [
            "Saving TensorBoard log files to: model_logs/tf_hub_sentence_encoder/20220712-173252\n",
            "Epoch 1/5\n",
            "215/215 [==============================] - 5s 13ms/step - loss: 0.4983 - accuracy: 0.7860 - val_loss: 0.4529 - val_accuracy: 0.7966\n",
            "Epoch 2/5\n",
            "215/215 [==============================] - 2s 12ms/step - loss: 0.4140 - accuracy: 0.8159 - val_loss: 0.4384 - val_accuracy: 0.8110\n",
            "Epoch 3/5\n",
            "215/215 [==============================] - 3s 12ms/step - loss: 0.3992 - accuracy: 0.8208 - val_loss: 0.4339 - val_accuracy: 0.8058\n",
            "Epoch 4/5\n",
            "215/215 [==============================] - 2s 11ms/step - loss: 0.3916 - accuracy: 0.8260 - val_loss: 0.4262 - val_accuracy: 0.8163\n",
            "Epoch 5/5\n",
            "215/215 [==============================] - 3s 12ms/step - loss: 0.3844 - accuracy: 0.8281 - val_loss: 0.4270 - val_accuracy: 0.8163\n"
          ]
        }
      ],
      "source": [
        "# Train a classifier on top of USE pretrained embeddings\n",
        "model_6_history = model_6.fit(\n",
        "    train_sentences,\n",
        "    train_labels,\n",
        "    epochs=5,\n",
        "    validation_data=(val_sentences, val_labels),\n",
        "    callbacks=[create_tensorboard_callback(\n",
        "        SAVE_DIR,\n",
        "        \"tf_hub_sentence_encoder\"\n",
        "    )]\n",
        ")"
      ]
    },
    {
      "cell_type": "code",
      "execution_count": 89,
      "metadata": {
        "id": "nl92N4daf3Xa",
        "outputId": "7b753b17-15ab-4d7e-c3ab-0e012e32c205",
        "colab": {
          "base_uri": "https://localhost:8080/"
        }
      },
      "outputs": [
        {
          "output_type": "execute_result",
          "data": {
            "text/plain": [
              "(array([[0.16951914],\n",
              "        [0.7882122 ],\n",
              "        [0.9876496 ],\n",
              "        [0.22316977],\n",
              "        [0.76107866],\n",
              "        [0.75656146],\n",
              "        [0.9848316 ],\n",
              "        [0.98289216],\n",
              "        [0.946928  ],\n",
              "        [0.11135335],\n",
              "        [0.58240193],\n",
              "        [0.39691114],\n",
              "        [0.17597948],\n",
              "        [0.55589414],\n",
              "        [0.24490215],\n",
              "        [0.02629266],\n",
              "        [0.40498173],\n",
              "        [0.59943515],\n",
              "        [0.3923854 ],\n",
              "        [0.33303285],\n",
              "        [0.9167108 ],\n",
              "        [0.16570489],\n",
              "        [0.5204492 ],\n",
              "        [0.03506904],\n",
              "        [0.92163324],\n",
              "        [0.9659887 ],\n",
              "        [0.06505248],\n",
              "        [0.10431332],\n",
              "        [0.1307779 ],\n",
              "        [0.38788664],\n",
              "        [0.4940648 ],\n",
              "        [0.93513125],\n",
              "        [0.41323656],\n",
              "        [0.28585902],\n",
              "        [0.56600404],\n",
              "        [0.10511889],\n",
              "        [0.97666943],\n",
              "        [0.06506552],\n",
              "        [0.04365131],\n",
              "        [0.9821346 ],\n",
              "        [0.0763255 ],\n",
              "        [0.24968474],\n",
              "        [0.39799842],\n",
              "        [0.5057665 ],\n",
              "        [0.2576215 ],\n",
              "        [0.96486413],\n",
              "        [0.49706528],\n",
              "        [0.95967954],\n",
              "        [0.6820149 ],\n",
              "        [0.86972547],\n",
              "        [0.06177104],\n",
              "        [0.71732837],\n",
              "        [0.18711989],\n",
              "        [0.0661931 ],\n",
              "        [0.12715372],\n",
              "        [0.04558113],\n",
              "        [0.13853803],\n",
              "        [0.913204  ],\n",
              "        [0.13871443],\n",
              "        [0.05571634],\n",
              "        [0.10150414],\n",
              "        [0.9838389 ],\n",
              "        [0.97231287],\n",
              "        [0.08762197],\n",
              "        [0.9354739 ],\n",
              "        [0.95840526],\n",
              "        [0.7083183 ],\n",
              "        [0.18675466],\n",
              "        [0.08059847],\n",
              "        [0.5131486 ],\n",
              "        [0.13902882],\n",
              "        [0.07069297],\n",
              "        [0.7579545 ],\n",
              "        [0.05939486],\n",
              "        [0.04288516],\n",
              "        [0.4682877 ],\n",
              "        [0.2204642 ],\n",
              "        [0.29730392],\n",
              "        [0.07170533],\n",
              "        [0.74165654],\n",
              "        [0.7103928 ],\n",
              "        [0.5655031 ],\n",
              "        [0.95467585],\n",
              "        [0.08416571],\n",
              "        [0.63197803],\n",
              "        [0.6257478 ],\n",
              "        [0.07468529],\n",
              "        [0.19302808],\n",
              "        [0.98755544],\n",
              "        [0.8952442 ],\n",
              "        [0.9963477 ],\n",
              "        [0.04318788],\n",
              "        [0.10571193],\n",
              "        [0.02443352],\n",
              "        [0.97233635],\n",
              "        [0.77508366],\n",
              "        [0.95932704],\n",
              "        [0.90667266],\n",
              "        [0.9835081 ],\n",
              "        [0.93602943],\n",
              "        [0.94497234],\n",
              "        [0.186645  ],\n",
              "        [0.21659513],\n",
              "        [0.99229515],\n",
              "        [0.978237  ],\n",
              "        [0.04031221],\n",
              "        [0.88566715],\n",
              "        [0.78580606],\n",
              "        [0.16765244],\n",
              "        [0.85022885],\n",
              "        [0.1100277 ],\n",
              "        [0.04595144],\n",
              "        [0.23687243],\n",
              "        [0.24594505],\n",
              "        [0.1715059 ],\n",
              "        [0.20498297],\n",
              "        [0.44876164],\n",
              "        [0.6289469 ],\n",
              "        [0.8107575 ],\n",
              "        [0.7597151 ],\n",
              "        [0.9178995 ],\n",
              "        [0.1231262 ],\n",
              "        [0.6338437 ],\n",
              "        [0.7303555 ],\n",
              "        [0.6532281 ],\n",
              "        [0.3873035 ],\n",
              "        [0.1752039 ],\n",
              "        [0.11631944],\n",
              "        [0.15820666],\n",
              "        [0.3903844 ],\n",
              "        [0.12300179],\n",
              "        [0.9404718 ],\n",
              "        [0.96293163],\n",
              "        [0.96658576],\n",
              "        [0.7401391 ],\n",
              "        [0.23898405],\n",
              "        [0.96313465],\n",
              "        [0.39396945],\n",
              "        [0.5419737 ],\n",
              "        [0.14976692],\n",
              "        [0.97560537],\n",
              "        [0.13613744],\n",
              "        [0.53533524],\n",
              "        [0.52732563],\n",
              "        [0.81956995],\n",
              "        [0.46023402],\n",
              "        [0.04644715],\n",
              "        [0.09654813],\n",
              "        [0.17278878],\n",
              "        [0.89194804],\n",
              "        [0.33700037],\n",
              "        [0.07609316],\n",
              "        [0.45092255],\n",
              "        [0.05561813],\n",
              "        [0.48820013],\n",
              "        [0.8219746 ],\n",
              "        [0.68760777],\n",
              "        [0.0760517 ],\n",
              "        [0.95688653],\n",
              "        [0.1736155 ],\n",
              "        [0.92537475],\n",
              "        [0.09285254],\n",
              "        [0.22689402],\n",
              "        [0.9466044 ],\n",
              "        [0.06025035],\n",
              "        [0.04120311],\n",
              "        [0.9950813 ],\n",
              "        [0.13416107],\n",
              "        [0.93891203],\n",
              "        [0.19199815],\n",
              "        [0.98370874],\n",
              "        [0.41865087],\n",
              "        [0.97131044],\n",
              "        [0.0565861 ],\n",
              "        [0.9529372 ],\n",
              "        [0.04168928],\n",
              "        [0.8226083 ],\n",
              "        [0.481152  ],\n",
              "        [0.58007175],\n",
              "        [0.99531823],\n",
              "        [0.06936223],\n",
              "        [0.6882989 ],\n",
              "        [0.40597156],\n",
              "        [0.88097715],\n",
              "        [0.9197679 ],\n",
              "        [0.30463603],\n",
              "        [0.19673474],\n",
              "        [0.9768596 ],\n",
              "        [0.33601055],\n",
              "        [0.08634988],\n",
              "        [0.35048363],\n",
              "        [0.96452624],\n",
              "        [0.07190218],\n",
              "        [0.20404643],\n",
              "        [0.11827801],\n",
              "        [0.10244642],\n",
              "        [0.12031798],\n",
              "        [0.26365143],\n",
              "        [0.07601249],\n",
              "        [0.05751419],\n",
              "        [0.18829846],\n",
              "        [0.9707295 ],\n",
              "        [0.8203143 ],\n",
              "        [0.25432873],\n",
              "        [0.11499953],\n",
              "        [0.9832485 ],\n",
              "        [0.28384146],\n",
              "        [0.8122952 ],\n",
              "        [0.889965  ],\n",
              "        [0.84177214],\n",
              "        [0.04313314],\n",
              "        [0.9801281 ],\n",
              "        [0.06508243],\n",
              "        [0.11443394],\n",
              "        [0.03036926],\n",
              "        [0.05241239],\n",
              "        [0.9180068 ],\n",
              "        [0.90327895],\n",
              "        [0.72763574],\n",
              "        [0.06807281],\n",
              "        [0.5665819 ],\n",
              "        [0.06798708],\n",
              "        [0.10220353],\n",
              "        [0.1957376 ],\n",
              "        [0.98924047],\n",
              "        [0.20011699],\n",
              "        [0.22902693],\n",
              "        [0.97354   ],\n",
              "        [0.6880674 ],\n",
              "        [0.2970533 ],\n",
              "        [0.80539995],\n",
              "        [0.19336063],\n",
              "        [0.9516936 ],\n",
              "        [0.0563593 ],\n",
              "        [0.3817789 ],\n",
              "        [0.53897977],\n",
              "        [0.37613449],\n",
              "        [0.59179586],\n",
              "        [0.9792291 ],\n",
              "        [0.03994994],\n",
              "        [0.59248084],\n",
              "        [0.28727216],\n",
              "        [0.9728961 ],\n",
              "        [0.9280341 ],\n",
              "        [0.04191569],\n",
              "        [0.20814744],\n",
              "        [0.9193528 ],\n",
              "        [0.21299429],\n",
              "        [0.11808895],\n",
              "        [0.776753  ],\n",
              "        [0.12218502],\n",
              "        [0.8512618 ],\n",
              "        [0.03272168],\n",
              "        [0.5852867 ],\n",
              "        [0.8882596 ],\n",
              "        [0.23112556],\n",
              "        [0.8091168 ],\n",
              "        [0.9948782 ],\n",
              "        [0.4481865 ],\n",
              "        [0.13268599],\n",
              "        [0.95801663],\n",
              "        [0.10862673],\n",
              "        [0.18218064],\n",
              "        [0.9582349 ],\n",
              "        [0.8821514 ],\n",
              "        [0.78087187],\n",
              "        [0.934118  ],\n",
              "        [0.10299332],\n",
              "        [0.17323689],\n",
              "        [0.07606643],\n",
              "        [0.10389031],\n",
              "        [0.3958896 ],\n",
              "        [0.912829  ],\n",
              "        [0.10976937],\n",
              "        [0.3804599 ],\n",
              "        [0.9309383 ],\n",
              "        [0.15183717],\n",
              "        [0.10101754],\n",
              "        [0.9769132 ],\n",
              "        [0.46287042],\n",
              "        [0.10806014],\n",
              "        [0.15228224],\n",
              "        [0.9680636 ],\n",
              "        [0.38695553],\n",
              "        [0.18814647],\n",
              "        [0.60283476],\n",
              "        [0.7739263 ],\n",
              "        [0.19486019],\n",
              "        [0.820356  ],\n",
              "        [0.04572342],\n",
              "        [0.830575  ],\n",
              "        [0.5904471 ],\n",
              "        [0.25928092],\n",
              "        [0.7789462 ],\n",
              "        [0.0709826 ],\n",
              "        [0.8803802 ],\n",
              "        [0.32188764],\n",
              "        [0.9811493 ],\n",
              "        [0.10407601],\n",
              "        [0.5282481 ],\n",
              "        [0.37048712],\n",
              "        [0.12664276],\n",
              "        [0.06538305],\n",
              "        [0.70115376],\n",
              "        [0.23822613],\n",
              "        [0.21914865],\n",
              "        [0.10078842],\n",
              "        [0.74958235],\n",
              "        [0.0588543 ],\n",
              "        [0.03629798],\n",
              "        [0.13383986],\n",
              "        [0.97735333],\n",
              "        [0.730248  ],\n",
              "        [0.19894677],\n",
              "        [0.9693207 ],\n",
              "        [0.0703322 ],\n",
              "        [0.92687225],\n",
              "        [0.6197743 ],\n",
              "        [0.02932005],\n",
              "        [0.31254807],\n",
              "        [0.10306989],\n",
              "        [0.17802829],\n",
              "        [0.9745861 ],\n",
              "        [0.07245342],\n",
              "        [0.7864721 ],\n",
              "        [0.059208  ],\n",
              "        [0.21081424],\n",
              "        [0.87146944],\n",
              "        [0.06065081],\n",
              "        [0.8082845 ],\n",
              "        [0.8897316 ],\n",
              "        [0.11910496],\n",
              "        [0.92938   ],\n",
              "        [0.22397378],\n",
              "        [0.19177629],\n",
              "        [0.50684094],\n",
              "        [0.0604628 ],\n",
              "        [0.31576467],\n",
              "        [0.5305695 ],\n",
              "        [0.59520596],\n",
              "        [0.1186663 ],\n",
              "        [0.19543166],\n",
              "        [0.893284  ],\n",
              "        [0.97638446],\n",
              "        [0.7776909 ],\n",
              "        [0.2266208 ],\n",
              "        [0.31131333],\n",
              "        [0.11569825],\n",
              "        [0.07989143],\n",
              "        [0.14952232],\n",
              "        [0.23625441],\n",
              "        [0.40941137],\n",
              "        [0.08939165],\n",
              "        [0.08019439],\n",
              "        [0.5956857 ],\n",
              "        [0.04645699],\n",
              "        [0.9593157 ],\n",
              "        [0.95410776],\n",
              "        [0.7993831 ],\n",
              "        [0.6997285 ],\n",
              "        [0.48555773],\n",
              "        [0.09151933],\n",
              "        [0.96168643],\n",
              "        [0.5780012 ],\n",
              "        [0.33673754],\n",
              "        [0.05745392],\n",
              "        [0.17784595],\n",
              "        [0.07133643],\n",
              "        [0.16384593],\n",
              "        [0.03058413],\n",
              "        [0.80733526],\n",
              "        [0.03907194],\n",
              "        [0.1793735 ],\n",
              "        [0.18153381],\n",
              "        [0.10708142],\n",
              "        [0.0872997 ],\n",
              "        [0.12776448],\n",
              "        [0.13786046],\n",
              "        [0.13623242],\n",
              "        [0.4036259 ],\n",
              "        [0.95161587],\n",
              "        [0.78047144],\n",
              "        [0.17776577],\n",
              "        [0.2165657 ],\n",
              "        [0.611415  ],\n",
              "        [0.9708652 ],\n",
              "        [0.40745243],\n",
              "        [0.3509438 ],\n",
              "        [0.9907417 ],\n",
              "        [0.29427078],\n",
              "        [0.11587635],\n",
              "        [0.45887122],\n",
              "        [0.04726635],\n",
              "        [0.8322405 ],\n",
              "        [0.7864746 ],\n",
              "        [0.99156123],\n",
              "        [0.16038293],\n",
              "        [0.74881756],\n",
              "        [0.2550741 ],\n",
              "        [0.31297377],\n",
              "        [0.9637038 ],\n",
              "        [0.15628281],\n",
              "        [0.6953814 ],\n",
              "        [0.93201536],\n",
              "        [0.08504263],\n",
              "        [0.94741666],\n",
              "        [0.2749093 ],\n",
              "        [0.73778707],\n",
              "        [0.05884153],\n",
              "        [0.2721496 ],\n",
              "        [0.88163066],\n",
              "        [0.04904317],\n",
              "        [0.10414748],\n",
              "        [0.6104253 ],\n",
              "        [0.9420021 ],\n",
              "        [0.74787235],\n",
              "        [0.24941735],\n",
              "        [0.96662974],\n",
              "        [0.18956758],\n",
              "        [0.08963431],\n",
              "        [0.9729345 ],\n",
              "        [0.88883793],\n",
              "        [0.70803654],\n",
              "        [0.8334038 ],\n",
              "        [0.05047111],\n",
              "        [0.62495655],\n",
              "        [0.13614404],\n",
              "        [0.8305022 ],\n",
              "        [0.5853835 ],\n",
              "        [0.9104854 ],\n",
              "        [0.09064852],\n",
              "        [0.07183917],\n",
              "        [0.13674109],\n",
              "        [0.6184998 ],\n",
              "        [0.27668908],\n",
              "        [0.31396422],\n",
              "        [0.48528638],\n",
              "        [0.31164038],\n",
              "        [0.98693526],\n",
              "        [0.69552445],\n",
              "        [0.72596455],\n",
              "        [0.76897556],\n",
              "        [0.31823775],\n",
              "        [0.12734075],\n",
              "        [0.16895339],\n",
              "        [0.688992  ],\n",
              "        [0.05202813],\n",
              "        [0.05640852],\n",
              "        [0.19702226],\n",
              "        [0.18024836],\n",
              "        [0.03819261],\n",
              "        [0.90884423],\n",
              "        [0.9491085 ],\n",
              "        [0.8737507 ],\n",
              "        [0.96003246],\n",
              "        [0.98881793],\n",
              "        [0.06598981],\n",
              "        [0.18739338],\n",
              "        [0.40434206],\n",
              "        [0.85560423],\n",
              "        [0.98566794],\n",
              "        [0.08811538],\n",
              "        [0.10011992],\n",
              "        [0.3471856 ],\n",
              "        [0.9905744 ],\n",
              "        [0.9559835 ],\n",
              "        [0.17607273],\n",
              "        [0.2202608 ],\n",
              "        [0.92063904],\n",
              "        [0.03957603],\n",
              "        [0.23456323],\n",
              "        [0.91756403],\n",
              "        [0.5480521 ],\n",
              "        [0.30273628],\n",
              "        [0.7574517 ],\n",
              "        [0.5226789 ],\n",
              "        [0.8363024 ],\n",
              "        [0.97762376],\n",
              "        [0.09307414],\n",
              "        [0.0640341 ],\n",
              "        [0.16296303],\n",
              "        [0.07677692],\n",
              "        [0.34304443],\n",
              "        [0.86118215],\n",
              "        [0.04580427],\n",
              "        [0.6620206 ],\n",
              "        [0.07696079],\n",
              "        [0.11736926],\n",
              "        [0.32162958],\n",
              "        [0.43754557],\n",
              "        [0.33212012],\n",
              "        [0.9569289 ],\n",
              "        [0.23011115],\n",
              "        [0.07275421],\n",
              "        [0.09759548],\n",
              "        [0.11940127],\n",
              "        [0.49213415],\n",
              "        [0.85906434],\n",
              "        [0.12875304],\n",
              "        [0.9100199 ],\n",
              "        [0.96482676],\n",
              "        [0.05413323],\n",
              "        [0.46486592],\n",
              "        [0.808705  ],\n",
              "        [0.20525566],\n",
              "        [0.70377785],\n",
              "        [0.10257836],\n",
              "        [0.9483479 ],\n",
              "        [0.22743565],\n",
              "        [0.21167897],\n",
              "        [0.15378857],\n",
              "        [0.06857569],\n",
              "        [0.1783233 ],\n",
              "        [0.69055694],\n",
              "        [0.9589856 ],\n",
              "        [0.18508118],\n",
              "        [0.9841962 ],\n",
              "        [0.58942187],\n",
              "        [0.6707089 ],\n",
              "        [0.9822391 ],\n",
              "        [0.5122133 ],\n",
              "        [0.4299998 ],\n",
              "        [0.84979606],\n",
              "        [0.95910054],\n",
              "        [0.0788184 ],\n",
              "        [0.22444849],\n",
              "        [0.0592781 ],\n",
              "        [0.22073579],\n",
              "        [0.3641949 ],\n",
              "        [0.93428314],\n",
              "        [0.7980664 ],\n",
              "        [0.95874494],\n",
              "        [0.08796807],\n",
              "        [0.04501691],\n",
              "        [0.87881744],\n",
              "        [0.09358586],\n",
              "        [0.07418865],\n",
              "        [0.06371013],\n",
              "        [0.18014418],\n",
              "        [0.51964074],\n",
              "        [0.25784498],\n",
              "        [0.55190694],\n",
              "        [0.24283464],\n",
              "        [0.1611959 ],\n",
              "        [0.11481069],\n",
              "        [0.19774984],\n",
              "        [0.3771835 ],\n",
              "        [0.94446534],\n",
              "        [0.80596036],\n",
              "        [0.76396805],\n",
              "        [0.93848175],\n",
              "        [0.9541251 ],\n",
              "        [0.06557935],\n",
              "        [0.8422084 ],\n",
              "        [0.08190976],\n",
              "        [0.9789283 ],\n",
              "        [0.06327236],\n",
              "        [0.17229947],\n",
              "        [0.23700388],\n",
              "        [0.05547977],\n",
              "        [0.23972128],\n",
              "        [0.23814419],\n",
              "        [0.9567834 ],\n",
              "        [0.8550125 ],\n",
              "        [0.8507215 ],\n",
              "        [0.0860804 ],\n",
              "        [0.7106773 ],\n",
              "        [0.80723125],\n",
              "        [0.09407572],\n",
              "        [0.22651187],\n",
              "        [0.85389274],\n",
              "        [0.6605536 ],\n",
              "        [0.98224026],\n",
              "        [0.20968509],\n",
              "        [0.1715523 ],\n",
              "        [0.5881401 ],\n",
              "        [0.09001973],\n",
              "        [0.7081341 ],\n",
              "        [0.9243682 ],\n",
              "        [0.19453746],\n",
              "        [0.05491513],\n",
              "        [0.07411511],\n",
              "        [0.96554494],\n",
              "        [0.17307036],\n",
              "        [0.0756241 ],\n",
              "        [0.97287685],\n",
              "        [0.12846307],\n",
              "        [0.09584701],\n",
              "        [0.7097873 ],\n",
              "        [0.02459814],\n",
              "        [0.28534806],\n",
              "        [0.3230334 ],\n",
              "        [0.5644257 ],\n",
              "        [0.01451229],\n",
              "        [0.26920846],\n",
              "        [0.95692825],\n",
              "        [0.11043028],\n",
              "        [0.9213568 ],\n",
              "        [0.9874986 ],\n",
              "        [0.0690643 ],\n",
              "        [0.05747885],\n",
              "        [0.06671081],\n",
              "        [0.9556768 ],\n",
              "        [0.5305052 ],\n",
              "        [0.97861254],\n",
              "        [0.09981983],\n",
              "        [0.28049138],\n",
              "        [0.09654231],\n",
              "        [0.05188395],\n",
              "        [0.84153163],\n",
              "        [0.14682196],\n",
              "        [0.9508663 ],\n",
              "        [0.09889335],\n",
              "        [0.22852403],\n",
              "        [0.98426706],\n",
              "        [0.31138083],\n",
              "        [0.07127764],\n",
              "        [0.42603716],\n",
              "        [0.04771505],\n",
              "        [0.63888896],\n",
              "        [0.9831035 ],\n",
              "        [0.07757975],\n",
              "        [0.9894509 ],\n",
              "        [0.30845007],\n",
              "        [0.83817166],\n",
              "        [0.14625691],\n",
              "        [0.46216577],\n",
              "        [0.3186589 ],\n",
              "        [0.8889292 ],\n",
              "        [0.04031417],\n",
              "        [0.43263102],\n",
              "        [0.9331526 ],\n",
              "        [0.6768251 ],\n",
              "        [0.69049877],\n",
              "        [0.93110716],\n",
              "        [0.06947881],\n",
              "        [0.6976904 ],\n",
              "        [0.09812136],\n",
              "        [0.8284977 ],\n",
              "        [0.21821517],\n",
              "        [0.9571763 ],\n",
              "        [0.38473317],\n",
              "        [0.6451979 ],\n",
              "        [0.25657135],\n",
              "        [0.06456892],\n",
              "        [0.6606116 ],\n",
              "        [0.15299234],\n",
              "        [0.13056482],\n",
              "        [0.665993  ],\n",
              "        [0.97976136],\n",
              "        [0.98832893],\n",
              "        [0.09620694],\n",
              "        [0.06392165],\n",
              "        [0.06769256],\n",
              "        [0.122428  ],\n",
              "        [0.263219  ],\n",
              "        [0.08242524],\n",
              "        [0.9754063 ],\n",
              "        [0.14591725],\n",
              "        [0.47066218],\n",
              "        [0.10915671],\n",
              "        [0.13631164],\n",
              "        [0.8673035 ],\n",
              "        [0.10164841],\n",
              "        [0.09351379],\n",
              "        [0.28208533],\n",
              "        [0.08044582],\n",
              "        [0.49468774],\n",
              "        [0.97916   ],\n",
              "        [0.5522932 ],\n",
              "        [0.0463772 ],\n",
              "        [0.20893002],\n",
              "        [0.13714015],\n",
              "        [0.03001448],\n",
              "        [0.94511175],\n",
              "        [0.1916887 ],\n",
              "        [0.63386995],\n",
              "        [0.4782378 ],\n",
              "        [0.14487724],\n",
              "        [0.46536395],\n",
              "        [0.2789816 ],\n",
              "        [0.07150207],\n",
              "        [0.16662097],\n",
              "        [0.8677015 ],\n",
              "        [0.1400567 ],\n",
              "        [0.94057494],\n",
              "        [0.06562369],\n",
              "        [0.20467012],\n",
              "        [0.22073579],\n",
              "        [0.05247609],\n",
              "        [0.8448834 ],\n",
              "        [0.95521265],\n",
              "        [0.29307744],\n",
              "        [0.08060622],\n",
              "        [0.97382146],\n",
              "        [0.758851  ],\n",
              "        [0.90358853],\n",
              "        [0.6408285 ],\n",
              "        [0.8102621 ],\n",
              "        [0.07404018],\n",
              "        [0.18902194],\n",
              "        [0.29000595],\n",
              "        [0.79701996],\n",
              "        [0.09323886],\n",
              "        [0.43354505],\n",
              "        [0.23335281],\n",
              "        [0.4184756 ],\n",
              "        [0.0817537 ],\n",
              "        [0.08068049],\n",
              "        [0.1133031 ],\n",
              "        [0.25464463],\n",
              "        [0.26438883],\n",
              "        [0.56208515],\n",
              "        [0.02899699],\n",
              "        [0.11119515],\n",
              "        [0.18992113],\n",
              "        [0.2052882 ],\n",
              "        [0.02813649],\n",
              "        [0.6898176 ],\n",
              "        [0.03207301],\n",
              "        [0.5760678 ],\n",
              "        [0.16659632],\n",
              "        [0.27169997],\n",
              "        [0.91338366],\n",
              "        [0.05679595],\n",
              "        [0.37747937],\n",
              "        [0.11551054],\n",
              "        [0.06853408],\n",
              "        [0.95025945],\n",
              "        [0.19712682],\n",
              "        [0.17498614],\n",
              "        [0.87258816],\n",
              "        [0.9445151 ],\n",
              "        [0.8984509 ],\n",
              "        [0.9940363 ],\n",
              "        [0.98021656],\n",
              "        [0.16564555],\n",
              "        [0.17076428],\n",
              "        [0.05281656],\n",
              "        [0.74211484],\n",
              "        [0.9023039 ],\n",
              "        [0.63784486],\n",
              "        [0.38938737],\n",
              "        [0.05819046],\n",
              "        [0.39830983],\n",
              "        [0.37121582],\n",
              "        [0.09812623],\n",
              "        [0.15591933],\n",
              "        [0.18558627],\n",
              "        [0.07766022],\n",
              "        [0.16266257],\n",
              "        [0.39080808],\n",
              "        [0.93726635],\n",
              "        [0.10219266],\n",
              "        [0.93856084],\n",
              "        [0.6172494 ],\n",
              "        [0.07719949],\n",
              "        [0.15193672],\n",
              "        [0.10174843],\n",
              "        [0.9012594 ],\n",
              "        [0.69484   ],\n",
              "        [0.08482788]], dtype=float32),)"
            ]
          },
          "metadata": {},
          "execution_count": 89
        }
      ],
      "source": [
        "# Make predictions with USE TF Hub model\n",
        "model_6_pred_probs = model_6.predict(val_sentences),\n",
        "model_6_pred_probs[:5]"
      ]
    },
    {
      "cell_type": "code",
      "execution_count": 90,
      "metadata": {
        "id": "-UxRoUKXf3Xa",
        "outputId": "cce53415-9601-4cf7-d2cb-3d844c6c9d15",
        "colab": {
          "base_uri": "https://localhost:8080/"
        }
      },
      "outputs": [
        {
          "output_type": "execute_result",
          "data": {
            "text/plain": [
              "<tf.Tensor: shape=(10,), dtype=float32, numpy=array([0., 1., 1., 0., 1., 1., 1., 1., 1., 0.], dtype=float32)>"
            ]
          },
          "metadata": {},
          "execution_count": 90
        }
      ],
      "source": [
        "# Convert pred probs to labels\n",
        "model_6_preds = tf.squeeze(tf.round(model_6_pred_probs))\n",
        "model_6_preds[:10]"
      ]
    },
    {
      "cell_type": "code",
      "execution_count": 91,
      "metadata": {
        "id": "B9ypbFLuf3Xa",
        "outputId": "bf746321-9bb4-4cd6-a9ca-cbc22e3fd8ec",
        "colab": {
          "base_uri": "https://localhost:8080/"
        }
      },
      "outputs": [
        {
          "output_type": "stream",
          "name": "stdout",
          "text": [
            "Model 6 USE:\n",
            "{'accuracy': 81.62729658792651, 'precision': 0.8170007401548035, 'recall': 0.8162729658792651, 'f1-score': 0.8153469807013113}\n",
            "Baseline:\n",
            "{'accuracy': 79.26509186351706, 'precision': 0.8111390004213173, 'recall': 0.7926509186351706, 'f1-score': 0.7862189758049549}\n"
          ]
        }
      ],
      "source": [
        "# Calculate model 6 performance metrics\n",
        "model_6_results = calculate_results(\n",
        "    y_true=val_labels,\n",
        "    y_pred=model_6_preds\n",
        ")\n",
        "print(f\"Model 6 USE:\\n{model_6_results}\\nBaseline:\\n{baseline_results}\")"
      ]
    },
    {
      "cell_type": "code",
      "execution_count": 92,
      "metadata": {
        "id": "xrxHyqTQf3Xa",
        "outputId": "fc833c23-6a42-4087-92af-084caa5aa5c2",
        "colab": {
          "base_uri": "https://localhost:8080/"
        }
      },
      "outputs": [
        {
          "output_type": "execute_result",
          "data": {
            "text/plain": [
              "(6851, 7613, 7613)"
            ]
          },
          "metadata": {},
          "execution_count": 92
        }
      ],
      "source": [
        "len(train_sentences), len(train_df), len(train_df_shuffled)"
      ]
    },
    {
      "cell_type": "markdown",
      "metadata": {
        "id": "JXRkKtVEf3Xb"
      },
      "source": [
        "## Model 7: TF Hub Pretrained USE but with 10% training data\n",
        "\n",
        "Transfer learning really helps when you don't have a large dataset.\n",
        "\n",
        "To see how our model performs on a smaller dataset, let's replicate `model_6` except we'll train it on 10% of the data."
      ]
    },
    {
      "cell_type": "markdown",
      "metadata": {
        "id": "laFI2AZFf3Xb"
      },
      "source": [
        "> ⚠️ **Note:** Making data splits like below leads to data leakage (model_7 trained on 10% data, outperforms model_6 trained 100% data). DO NOT make data splits which leak data from validation/test set into training set."
      ]
    },
    {
      "cell_type": "code",
      "execution_count": 93,
      "metadata": {
        "id": "0G0XsW3Bf3Xb"
      },
      "outputs": [],
      "source": [
        "# THIS IS BAD!\n",
        "# Create subsets of 10% of the training data\n",
        "# train_10_percent = train_df_shuffled[[\"text\", \"target\"]].sample(frac=0.1, random_state=42)\n",
        "# train_10_percent.head(), len(train_10_percent)"
      ]
    },
    {
      "cell_type": "markdown",
      "metadata": {
        "id": "0ewGzdkpf3Xb"
      },
      "source": [
        "> 🔑 **Note:** Be *very* careful when creating training/val/test splits that you don't leak data accross the dataset. Otherwise your model evaluation metrics will be wrong. If something looks to good to be true (a model trained on 10% of data outperforming the same model trained 100% of data) trust your gut and go back through to find where the error may lie."
      ]
    },
    {
      "cell_type": "code",
      "execution_count": 94,
      "metadata": {
        "id": "SGoQYswJf3Xc",
        "outputId": "8d508c45-e072-475a-c148-5d03ad31e8b2",
        "colab": {
          "base_uri": "https://localhost:8080/"
        }
      },
      "outputs": [
        {
          "output_type": "execute_result",
          "data": {
            "text/plain": [
              "(685, 685)"
            ]
          },
          "metadata": {},
          "execution_count": 94
        }
      ],
      "source": [
        "# Making a better dataset split (no data leakage)\n",
        "train_10_percent_split = int(0.1 * len(train_sentences)) # already in random order\n",
        "train_sentences_10_percent = train_sentences[:train_10_percent_split]\n",
        "train_labels_10_percent = train_labels[:train_10_percent_split]\n",
        "len(train_sentences_10_percent), len(train_labels_10_percent)"
      ]
    },
    {
      "cell_type": "code",
      "execution_count": 95,
      "metadata": {
        "id": "-BCFaM7Lf3Xc"
      },
      "outputs": [],
      "source": [
        "# train_sentences_10_percent = train_10_percent[\"text\"].to_list()\n",
        "# train_labels_10_percent = train_10_percent[\"target\"].to_list()\n",
        "# len(train_sentences_10_percent), len(train_labels_10_percent)"
      ]
    },
    {
      "cell_type": "code",
      "execution_count": 96,
      "metadata": {
        "id": "4ygltdkjf3Xc",
        "outputId": "f0570d5e-b03f-4dfc-f09d-03a0f5653ad7",
        "colab": {
          "base_uri": "https://localhost:8080/"
        }
      },
      "outputs": [
        {
          "output_type": "execute_result",
          "data": {
            "text/plain": [
              "0    406\n",
              "1    279\n",
              "dtype: int64"
            ]
          },
          "metadata": {},
          "execution_count": 96
        }
      ],
      "source": [
        "pd.Series(np.array(train_labels_10_percent)).value_counts()"
      ]
    },
    {
      "cell_type": "code",
      "execution_count": 97,
      "metadata": {
        "id": "VHg9OIJsf3Xc",
        "outputId": "59179543-7ccd-4326-aa38-656e93209303",
        "colab": {
          "base_uri": "https://localhost:8080/"
        }
      },
      "outputs": [
        {
          "output_type": "execute_result",
          "data": {
            "text/plain": [
              "0    4342\n",
              "1    3271\n",
              "Name: target, dtype: int64"
            ]
          },
          "metadata": {},
          "execution_count": 97
        }
      ],
      "source": [
        "# Check the number of target in our subset of data\n",
        "train_df_shuffled[\"target\"].value_counts()"
      ]
    },
    {
      "cell_type": "markdown",
      "metadata": {
        "id": "dmOHhHAIf3Xd"
      },
      "source": [
        "To recreate a model the same as a previous model we've created, we can use the `tf.keras.models.clone_model()` method."
      ]
    },
    {
      "cell_type": "code",
      "execution_count": 98,
      "metadata": {
        "id": "IRT6RwoOf3Xd"
      },
      "outputs": [],
      "source": [
        "# Let's build a model the same as model 6\n",
        "model_7 = tf.keras.models.clone_model(model_6)"
      ]
    },
    {
      "cell_type": "code",
      "execution_count": 99,
      "metadata": {
        "id": "zd8qEbYxf3Xd"
      },
      "outputs": [],
      "source": [
        "# Compile\n",
        "model_7.compile(\n",
        "    loss=\"binary_crossentropy\",\n",
        "    optimizer=tf.keras.optimizers.Adam(),\n",
        "    metrics=[\"accuracy\"]\n",
        ")"
      ]
    },
    {
      "cell_type": "code",
      "execution_count": 100,
      "metadata": {
        "id": "cxiwhQpJf3Xd",
        "outputId": "e27ff320-644f-4a60-f6cd-c3914066dd46",
        "colab": {
          "base_uri": "https://localhost:8080/"
        }
      },
      "outputs": [
        {
          "output_type": "stream",
          "name": "stdout",
          "text": [
            "Model: \"model_6_USE\"\n",
            "_________________________________________________________________\n",
            " Layer (type)                Output Shape              Param #   \n",
            "=================================================================\n",
            " USE (KerasLayer)            (None, 512)               256797824 \n",
            "                                                                 \n",
            " dense_7 (Dense)             (None, 64)                32832     \n",
            "                                                                 \n",
            " output_layer (Dense)        (None, 1)                 65        \n",
            "                                                                 \n",
            "=================================================================\n",
            "Total params: 256,830,721\n",
            "Trainable params: 32,897\n",
            "Non-trainable params: 256,797,824\n",
            "_________________________________________________________________\n"
          ]
        }
      ],
      "source": [
        "model_7.summary()"
      ]
    },
    {
      "cell_type": "code",
      "execution_count": 101,
      "metadata": {
        "id": "qMDwP2ppf3Xe",
        "outputId": "081f78c4-ebc4-4a89-9a2c-8421951bae18",
        "colab": {
          "base_uri": "https://localhost:8080/"
        }
      },
      "outputs": [
        {
          "output_type": "stream",
          "name": "stdout",
          "text": [
            "Saving TensorBoard log files to: model_logs/model_7_USE_10_percent_correct_split/20220712-173311\n",
            "Epoch 1/5\n",
            "22/22 [==============================] - 3s 40ms/step - loss: 0.6692 - accuracy: 0.6920 - val_loss: 0.6445 - val_accuracy: 0.7428\n",
            "Epoch 2/5\n",
            "22/22 [==============================] - 1s 26ms/step - loss: 0.5952 - accuracy: 0.8029 - val_loss: 0.5859 - val_accuracy: 0.7572\n",
            "Epoch 3/5\n",
            "22/22 [==============================] - 1s 25ms/step - loss: 0.5197 - accuracy: 0.8204 - val_loss: 0.5315 - val_accuracy: 0.7743\n",
            "Epoch 4/5\n",
            "22/22 [==============================] - 1s 26ms/step - loss: 0.4609 - accuracy: 0.8248 - val_loss: 0.4998 - val_accuracy: 0.7808\n",
            "Epoch 5/5\n",
            "22/22 [==============================] - 0s 21ms/step - loss: 0.4203 - accuracy: 0.8380 - val_loss: 0.4881 - val_accuracy: 0.7822\n"
          ]
        },
        {
          "output_type": "execute_result",
          "data": {
            "text/plain": [
              "<keras.callbacks.History at 0x7f0a18f10350>"
            ]
          },
          "metadata": {},
          "execution_count": 101
        }
      ],
      "source": [
        "model_7.fit(\n",
        "    train_sentences_10_percent,\n",
        "    train_labels_10_percent,\n",
        "    epochs=5,\n",
        "    validation_data=(val_sentences, val_labels),\n",
        "    callbacks=[create_tensorboard_callback(\n",
        "        SAVE_DIR,\n",
        "        \"model_7_USE_10_percent_correct_split\"\n",
        "    )]\n",
        ")"
      ]
    },
    {
      "cell_type": "code",
      "execution_count": 102,
      "metadata": {
        "id": "wu-o_Be2f3Xe",
        "outputId": "da16aa21-e4a5-4b1a-db03-639879c2690f",
        "colab": {
          "base_uri": "https://localhost:8080/"
        }
      },
      "outputs": [
        {
          "output_type": "execute_result",
          "data": {
            "text/plain": [
              "array([[0.21784952],\n",
              "       [0.587639  ],\n",
              "       [0.9285175 ],\n",
              "       [0.36888686],\n",
              "       [0.5356703 ],\n",
              "       [0.68968004],\n",
              "       [0.902588  ],\n",
              "       [0.8293751 ],\n",
              "       [0.8239721 ],\n",
              "       [0.14327493]], dtype=float32)"
            ]
          },
          "metadata": {},
          "execution_count": 102
        }
      ],
      "source": [
        "model_7_pred_probs = model_7.predict(val_sentences)\n",
        "model_7_pred_probs[:10]"
      ]
    },
    {
      "cell_type": "code",
      "execution_count": 103,
      "metadata": {
        "id": "wmi_B_ptf3Xe",
        "outputId": "283ae09f-10ba-453a-c688-f2f28b0d85db",
        "colab": {
          "base_uri": "https://localhost:8080/"
        }
      },
      "outputs": [
        {
          "output_type": "execute_result",
          "data": {
            "text/plain": [
              "<tf.Tensor: shape=(10,), dtype=float32, numpy=array([0., 1., 1., 0., 1., 1., 1., 1., 1., 0.], dtype=float32)>"
            ]
          },
          "metadata": {},
          "execution_count": 103
        }
      ],
      "source": [
        "model_7_preds = tf.squeeze(tf.round(model_7_pred_probs))\n",
        "model_7_preds[:10]"
      ]
    },
    {
      "cell_type": "code",
      "execution_count": 104,
      "metadata": {
        "id": "gx1kEOpGf3Xe",
        "outputId": "65b85242-e740-4589-9232-9593f2ceb4ca",
        "colab": {
          "base_uri": "https://localhost:8080/"
        }
      },
      "outputs": [
        {
          "output_type": "execute_result",
          "data": {
            "text/plain": [
              "{'accuracy': 78.21522309711287,\n",
              " 'f1-score': 0.7805300645444495,\n",
              " 'precision': 0.7833242410577732,\n",
              " 'recall': 0.7821522309711286}"
            ]
          },
          "metadata": {},
          "execution_count": 104
        }
      ],
      "source": [
        "model_7_results = calculate_results(\n",
        "    y_true=val_labels,\n",
        "    y_pred=model_7_preds\n",
        ")\n",
        "model_7_results"
      ]
    },
    {
      "cell_type": "code",
      "execution_count": 105,
      "metadata": {
        "id": "RRd-ObGtf3Xe",
        "outputId": "47655908-0668-46d6-ef24-2b38ae48ad7f",
        "colab": {
          "base_uri": "https://localhost:8080/"
        }
      },
      "outputs": [
        {
          "output_type": "execute_result",
          "data": {
            "text/plain": [
              "{'accuracy': 81.62729658792651,\n",
              " 'f1-score': 0.8153469807013113,\n",
              " 'precision': 0.8170007401548035,\n",
              " 'recall': 0.8162729658792651}"
            ]
          },
          "metadata": {},
          "execution_count": 105
        }
      ],
      "source": [
        "model_6_results"
      ]
    },
    {
      "cell_type": "code",
      "execution_count": 106,
      "metadata": {
        "id": "IiNQ_uFff3Xf",
        "outputId": "32c7b314-a9f1-4db3-e72e-fabca79225c1",
        "colab": {
          "base_uri": "https://localhost:8080/"
        }
      },
      "outputs": [
        {
          "output_type": "execute_result",
          "data": {
            "text/plain": [
              "{'accuracy': 79.26509186351706,\n",
              " 'f1-score': 0.7862189758049549,\n",
              " 'precision': 0.8111390004213173,\n",
              " 'recall': 0.7926509186351706}"
            ]
          },
          "metadata": {},
          "execution_count": 106
        }
      ],
      "source": [
        "baseline_results"
      ]
    },
    {
      "cell_type": "markdown",
      "metadata": {
        "id": "gHfWbwjff3Xf"
      },
      "source": [
        "## Compare the performance of each of our models"
      ]
    },
    {
      "cell_type": "code",
      "execution_count": 107,
      "metadata": {
        "id": "tZzwUT2Tf3Xf"
      },
      "outputs": [],
      "source": [
        "# Combine model results into a DataFrame\n",
        "all_model_results = pd.DataFrame({\n",
        "    \"baseline\": baseline_results,\n",
        "    \"1_simple_dense\": model_1_results,\n",
        "    \"2_LSTM\": model_2_results,\n",
        "    \"3_GRU\": model_3_results,\n",
        "    \"4_bidirectional\": model_4_results,\n",
        "    \"5_conv1D\": model_5_results,\n",
        "    \"6_tf_hub_USE\": model_6_results,\n",
        "    \"7_tf_hub_USE_10_perc\": model_7_results    \n",
        "})\n",
        "all_model_results = all_model_results.transpose()"
      ]
    },
    {
      "cell_type": "code",
      "execution_count": 108,
      "metadata": {
        "id": "a0NtEr4sf3Xf",
        "outputId": "693b1e68-f777-4151-8d39-ff33bbf3e290",
        "colab": {
          "base_uri": "https://localhost:8080/",
          "height": 382
        }
      },
      "outputs": [
        {
          "output_type": "execute_result",
          "data": {
            "text/plain": [
              "                      accuracy  precision    recall  f1-score\n",
              "baseline              0.792651   0.811139  0.792651  0.786219\n",
              "1_simple_dense        0.788714   0.793912  0.788714  0.785669\n",
              "2_LSTM                0.763780   0.764984  0.763780  0.761769\n",
              "3_GRU                 0.769029   0.772411  0.769029  0.766090\n",
              "4_bidirectional       0.767717   0.768141  0.767717  0.766277\n",
              "5_conv1D              0.759843   0.759478  0.759843  0.759077\n",
              "6_tf_hub_USE          0.816273   0.817001  0.816273  0.815347\n",
              "7_tf_hub_USE_10_perc  0.782152   0.783324  0.782152  0.780530"
            ],
            "text/html": [
              "\n",
              "  <div id=\"df-df76eed4-1815-4bda-8d6a-62efca52bf6c\">\n",
              "    <div class=\"colab-df-container\">\n",
              "      <div>\n",
              "<style scoped>\n",
              "    .dataframe tbody tr th:only-of-type {\n",
              "        vertical-align: middle;\n",
              "    }\n",
              "\n",
              "    .dataframe tbody tr th {\n",
              "        vertical-align: top;\n",
              "    }\n",
              "\n",
              "    .dataframe thead th {\n",
              "        text-align: right;\n",
              "    }\n",
              "</style>\n",
              "<table border=\"1\" class=\"dataframe\">\n",
              "  <thead>\n",
              "    <tr style=\"text-align: right;\">\n",
              "      <th></th>\n",
              "      <th>accuracy</th>\n",
              "      <th>precision</th>\n",
              "      <th>recall</th>\n",
              "      <th>f1-score</th>\n",
              "    </tr>\n",
              "  </thead>\n",
              "  <tbody>\n",
              "    <tr>\n",
              "      <th>baseline</th>\n",
              "      <td>0.792651</td>\n",
              "      <td>0.811139</td>\n",
              "      <td>0.792651</td>\n",
              "      <td>0.786219</td>\n",
              "    </tr>\n",
              "    <tr>\n",
              "      <th>1_simple_dense</th>\n",
              "      <td>0.788714</td>\n",
              "      <td>0.793912</td>\n",
              "      <td>0.788714</td>\n",
              "      <td>0.785669</td>\n",
              "    </tr>\n",
              "    <tr>\n",
              "      <th>2_LSTM</th>\n",
              "      <td>0.763780</td>\n",
              "      <td>0.764984</td>\n",
              "      <td>0.763780</td>\n",
              "      <td>0.761769</td>\n",
              "    </tr>\n",
              "    <tr>\n",
              "      <th>3_GRU</th>\n",
              "      <td>0.769029</td>\n",
              "      <td>0.772411</td>\n",
              "      <td>0.769029</td>\n",
              "      <td>0.766090</td>\n",
              "    </tr>\n",
              "    <tr>\n",
              "      <th>4_bidirectional</th>\n",
              "      <td>0.767717</td>\n",
              "      <td>0.768141</td>\n",
              "      <td>0.767717</td>\n",
              "      <td>0.766277</td>\n",
              "    </tr>\n",
              "    <tr>\n",
              "      <th>5_conv1D</th>\n",
              "      <td>0.759843</td>\n",
              "      <td>0.759478</td>\n",
              "      <td>0.759843</td>\n",
              "      <td>0.759077</td>\n",
              "    </tr>\n",
              "    <tr>\n",
              "      <th>6_tf_hub_USE</th>\n",
              "      <td>0.816273</td>\n",
              "      <td>0.817001</td>\n",
              "      <td>0.816273</td>\n",
              "      <td>0.815347</td>\n",
              "    </tr>\n",
              "    <tr>\n",
              "      <th>7_tf_hub_USE_10_perc</th>\n",
              "      <td>0.782152</td>\n",
              "      <td>0.783324</td>\n",
              "      <td>0.782152</td>\n",
              "      <td>0.780530</td>\n",
              "    </tr>\n",
              "  </tbody>\n",
              "</table>\n",
              "</div>\n",
              "      <button class=\"colab-df-convert\" onclick=\"convertToInteractive('df-df76eed4-1815-4bda-8d6a-62efca52bf6c')\"\n",
              "              title=\"Convert this dataframe to an interactive table.\"\n",
              "              style=\"display:none;\">\n",
              "        \n",
              "  <svg xmlns=\"http://www.w3.org/2000/svg\" height=\"24px\"viewBox=\"0 0 24 24\"\n",
              "       width=\"24px\">\n",
              "    <path d=\"M0 0h24v24H0V0z\" fill=\"none\"/>\n",
              "    <path d=\"M18.56 5.44l.94 2.06.94-2.06 2.06-.94-2.06-.94-.94-2.06-.94 2.06-2.06.94zm-11 1L8.5 8.5l.94-2.06 2.06-.94-2.06-.94L8.5 2.5l-.94 2.06-2.06.94zm10 10l.94 2.06.94-2.06 2.06-.94-2.06-.94-.94-2.06-.94 2.06-2.06.94z\"/><path d=\"M17.41 7.96l-1.37-1.37c-.4-.4-.92-.59-1.43-.59-.52 0-1.04.2-1.43.59L10.3 9.45l-7.72 7.72c-.78.78-.78 2.05 0 2.83L4 21.41c.39.39.9.59 1.41.59.51 0 1.02-.2 1.41-.59l7.78-7.78 2.81-2.81c.8-.78.8-2.07 0-2.86zM5.41 20L4 18.59l7.72-7.72 1.47 1.35L5.41 20z\"/>\n",
              "  </svg>\n",
              "      </button>\n",
              "      \n",
              "  <style>\n",
              "    .colab-df-container {\n",
              "      display:flex;\n",
              "      flex-wrap:wrap;\n",
              "      gap: 12px;\n",
              "    }\n",
              "\n",
              "    .colab-df-convert {\n",
              "      background-color: #E8F0FE;\n",
              "      border: none;\n",
              "      border-radius: 50%;\n",
              "      cursor: pointer;\n",
              "      display: none;\n",
              "      fill: #1967D2;\n",
              "      height: 32px;\n",
              "      padding: 0 0 0 0;\n",
              "      width: 32px;\n",
              "    }\n",
              "\n",
              "    .colab-df-convert:hover {\n",
              "      background-color: #E2EBFA;\n",
              "      box-shadow: 0px 1px 2px rgba(60, 64, 67, 0.3), 0px 1px 3px 1px rgba(60, 64, 67, 0.15);\n",
              "      fill: #174EA6;\n",
              "    }\n",
              "\n",
              "    [theme=dark] .colab-df-convert {\n",
              "      background-color: #3B4455;\n",
              "      fill: #D2E3FC;\n",
              "    }\n",
              "\n",
              "    [theme=dark] .colab-df-convert:hover {\n",
              "      background-color: #434B5C;\n",
              "      box-shadow: 0px 1px 3px 1px rgba(0, 0, 0, 0.15);\n",
              "      filter: drop-shadow(0px 1px 2px rgba(0, 0, 0, 0.3));\n",
              "      fill: #FFFFFF;\n",
              "    }\n",
              "  </style>\n",
              "\n",
              "      <script>\n",
              "        const buttonEl =\n",
              "          document.querySelector('#df-df76eed4-1815-4bda-8d6a-62efca52bf6c button.colab-df-convert');\n",
              "        buttonEl.style.display =\n",
              "          google.colab.kernel.accessAllowed ? 'block' : 'none';\n",
              "\n",
              "        async function convertToInteractive(key) {\n",
              "          const element = document.querySelector('#df-df76eed4-1815-4bda-8d6a-62efca52bf6c');\n",
              "          const dataTable =\n",
              "            await google.colab.kernel.invokeFunction('convertToInteractive',\n",
              "                                                     [key], {});\n",
              "          if (!dataTable) return;\n",
              "\n",
              "          const docLinkHtml = 'Like what you see? Visit the ' +\n",
              "            '<a target=\"_blank\" href=https://colab.research.google.com/notebooks/data_table.ipynb>data table notebook</a>'\n",
              "            + ' to learn more about interactive tables.';\n",
              "          element.innerHTML = '';\n",
              "          dataTable['output_type'] = 'display_data';\n",
              "          await google.colab.output.renderOutput(dataTable, element);\n",
              "          const docLink = document.createElement('div');\n",
              "          docLink.innerHTML = docLinkHtml;\n",
              "          element.appendChild(docLink);\n",
              "        }\n",
              "      </script>\n",
              "    </div>\n",
              "  </div>\n",
              "  "
            ]
          },
          "metadata": {},
          "execution_count": 108
        }
      ],
      "source": [
        "# Reduce the accuracyas the same scale as other metrics\n",
        "all_model_results[\"accuracy\"] = all_model_results[\"accuracy\"]/100\n",
        "all_model_results"
      ]
    },
    {
      "cell_type": "code",
      "execution_count": 109,
      "metadata": {
        "id": "Y2e9cCGwf3Xf",
        "outputId": "30ca02cf-cb3a-4ad4-a14e-1c688ea596ca",
        "colab": {
          "base_uri": "https://localhost:8080/",
          "height": 108
        }
      },
      "outputs": [
        {
          "output_type": "execute_result",
          "data": {
            "text/plain": [
              "<matplotlib.legend.Legend at 0x7f0a6fb561d0>"
            ]
          },
          "metadata": {},
          "execution_count": 109
        },
        {
          "output_type": "display_data",
          "data": {
            "text/plain": [
              "<Figure size 720x504 with 1 Axes>"
            ],
            "image/png": "[encoded data removed]"
          },
          "metadata": {
            "needs_background": "light"
          }
        }
      ],
      "source": [
        "# Plot and compare all of the model results\n",
        "all_model_results.plot(\n",
        "    kind=\"bar\", \n",
        "    figsize=(10,7)\n",
        ").legend(bbox_to_anchor=(1.0, 1.0))\n"
      ]
    },
    {
      "cell_type": "code",
      "execution_count": 110,
      "metadata": {
        "id": "7dOgOdeVf3Xg",
        "outputId": "c2553354-57a5-4616-dc76-0c1ef6b77097",
        "colab": {
          "base_uri": "https://localhost:8080/",
          "height": 108
        }
      },
      "outputs": [
        {
          "output_type": "execute_result",
          "data": {
            "text/plain": [
              "<matplotlib.axes._subplots.AxesSubplot at 0x7f09ff2bb590>"
            ]
          },
          "metadata": {},
          "execution_count": 110
        },
        {
          "output_type": "display_data",
          "data": {
            "text/plain": [
              "<Figure size 720x504 with 1 Axes>"
            ],
            "image/png": "[encoded data removed]"
          },
          "metadata": {
            "needs_background": "light"
          }
        }
      ],
      "source": [
        "# Sort model results by f1-score\n",
        "all_model_results.sort_values(\"f1-score\", ascending=False)[\"f1-score\"].plot(kind=\"bar\", figsize=(10, 7))"
      ]
    },
    {
      "cell_type": "markdown",
      "metadata": {
        "id": "RCGxbp-ff3Xg"
      },
      "source": [
        "## Uploading our model training logs to TensorBoard.dev\n",
        "\n",
        "We can further inspect our model's performance using TensorBoard.dev: https://tensordboard.dev"
      ]
    },
    {
      "cell_type": "code",
      "execution_count": 111,
      "metadata": {
        "id": "GU-Gq0URf3Xg"
      },
      "outputs": [],
      "source": [
        "#%reload_ext tensorboard\n",
        "#!tensorboard --logdir ./model_logs/"
      ]
    },
    {
      "cell_type": "markdown",
      "metadata": {
        "id": "pNTIbcqUf3Xg"
      },
      "source": [
        "http://localhost:6006/"
      ]
    },
    {
      "cell_type": "markdown",
      "metadata": {
        "id": "spyer2jzf3Xg"
      },
      "source": [
        "## Saving and loading a trained model\n",
        "\n",
        "There are two main formats to save a model to in TensorFlow:\n",
        "1. HDF5 format\n",
        "2. `SavedModel` format (this is the default when using TensorFlow)"
      ]
    },
    {
      "cell_type": "code",
      "execution_count": 112,
      "metadata": {
        "id": "h1Qv_Impf3Xg"
      },
      "outputs": [],
      "source": [
        "# Save TF Hub Sentence Encoder model to HDF5 format\n",
        "model_6.save('model_6.h5')"
      ]
    },
    {
      "cell_type": "markdown",
      "metadata": {
        "id": "QzjiQlGcf3Xg"
      },
      "source": [
        "> 🔑 **Note:** If loading doesn't work because of OOM, restart kernel and start from here. You also need to import the data again (above)."
      ]
    },
    {
      "cell_type": "code",
      "execution_count": 115,
      "metadata": {
        "id": "5x8GaqRjf3Xg"
      },
      "outputs": [],
      "source": [
        "# Load model with custom Hab Layer (required HDF5 format)\n",
        "loaded_model_6 = tf.keras.models.load_model(\n",
        "    \"model_6.h5\",\n",
        "    custom_objects={\"KerasLayer\": hub.KerasLayer}\n",
        ")"
      ]
    },
    {
      "cell_type": "code",
      "execution_count": 116,
      "metadata": {
        "id": "59rpwP_ef3Xh",
        "outputId": "55b9754e-52ba-46c9-ee9c-345259993445",
        "colab": {
          "base_uri": "https://localhost:8080/"
        }
      },
      "outputs": [
        {
          "output_type": "stream",
          "name": "stderr",
          "text": [
            "WARNING:absl:Function `_wrapped_model` contains input name(s) USE_input with unsupported characters which will be renamed to use_input in the SavedModel.\n"
          ]
        },
        {
          "output_type": "stream",
          "name": "stdout",
          "text": [
            "INFO:tensorflow:Assets written to: model_6_SavedModel_format/assets\n"
          ]
        },
        {
          "output_type": "stream",
          "name": "stderr",
          "text": [
            "INFO:tensorflow:Assets written to: model_6_SavedModel_format/assets\n"
          ]
        }
      ],
      "source": [
        "model_6.save(\"model_6_SavedModel_format\")"
      ]
    },
    {
      "cell_type": "code",
      "execution_count": 114,
      "metadata": {
        "id": "5zlRZvjZf3Xh"
      },
      "outputs": [],
      "source": [
        ""
      ]
    }
  ],
  "metadata": {
    "kernelspec": {
      "display_name": "Python 3.9.7 ('udemy_tensorflow')",
      "language": "python",
      "name": "python3"
    },
    "language_info": {
      "codemirror_mode": {
        "name": "ipython",
        "version": 3
      },
      "file_extension": ".py",
      "mimetype": "text/x-python",
      "name": "python",
      "nbconvert_exporter": "python",
      "pygments_lexer": "ipython3",
      "version": "3.9.7"
    },
    "orig_nbformat": 4,
    "vscode": {
      "interpreter": {
        "hash": "63418e73e250c304d26eaf03185e2f59ff2277f62dd1cc8bba54019c2c46cc60"
      }
    },
    "colab": {
      "name": "08_natural_language_processing_with_tensorflow.ipynb",
      "provenance": []
    },
    "accelerator": "GPU",
    "gpuClass": "standard"
  },
  "nbformat": 4,
  "nbformat_minor": 0
}